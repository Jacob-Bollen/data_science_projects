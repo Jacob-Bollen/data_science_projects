{
 "cells": [
  {
   "cell_type": "markdown",
   "metadata": {},
   "source": [
    "# Analyzing borrowers’ risk of defaulting\n",
    "\n",
    "\n",
    "This project aims to prepare a report for a banks loan division with the goal of improving the evaluation of customers credit worthiness. \n",
    "The datset will need preprocessing in order to make analysis possible.\n",
    "\n",
    "This project will investigate if a customer's marital status and number of children have an impact on whether a customer will default on a loan. \n",
    "\n",
    "We can do so using the following steps:\n",
    "\n",
    "1. **Exploratory data analysis**\n",
    "    \n",
    "    We will check for any clear errors in the dataset and investigate how they might have arisen.\n",
    "    \n",
    "    \n",
    "2. **Data transformation**\n",
    "    \n",
    "    Correct any clear errors, artifacts and duplicates.\n",
    "    \n",
    "    \n",
    "3. **Working with missing values**\n",
    "    \n",
    "    Establishing suitable methods for correcting missing values, creating functions where necessary.\n",
    "    \n",
    "    \n",
    "4. **Categorisation of data**\n",
    "    \n",
    "    Creating categories for data to assist in making conclusions.\n",
    "    \n",
    "    \n",
    "5. **Checking hypotheses**\n",
    "    \n",
    "    Using the preprocessed data to answer the questions posed at the start of the project.\n",
    "    \n",
    "\n"
   ]
  },
  {
   "cell_type": "code",
   "execution_count": 1,
   "metadata": {},
   "outputs": [],
   "source": [
    "# Loading all the libraries\n",
    "import pandas as pd\n",
    "import numpy as np\n",
    "import statistics\n",
    "\n",
    "    \n",
    "# Load the data\n",
    "df = pd.read_csv('/datasets/credit_scoring_eng.csv')"
   ]
  },
  {
   "cell_type": "markdown",
   "metadata": {},
   "source": [
    "## 1. Data exploration\n",
    "\n",
    "**Description of the data**\n",
    "- `children` - the number of children in the family\n",
    "- `days_employed` - work experience in days\n",
    "- `dob_years` - client's age in years\n",
    "- `education` - client's education\n",
    "- `education_id` - education identifier\n",
    "- `family_status` - marital status\n",
    "- `family_status_id` - marital status identifier\n",
    "- `gender` - gender of the client\n",
    "- `income_type` - type of employment\n",
    "- `debt` - was there any debt on loan repayment\n",
    "- `total_income` - monthly income\n",
    "- `purpose` - the purpose of obtaining a loan\n"
   ]
  },
  {
   "cell_type": "code",
   "execution_count": 2,
   "metadata": {},
   "outputs": [
    {
     "data": {
      "text/plain": [
       "(21525, 12)"
      ]
     },
     "execution_count": 2,
     "metadata": {},
     "output_type": "execute_result"
    }
   ],
   "source": [
    "# Let's see how many rows and columns our dataset has\n",
    "df.shape\n"
   ]
  },
  {
   "cell_type": "code",
   "execution_count": 3,
   "metadata": {
    "scrolled": true
   },
   "outputs": [
    {
     "data": {
      "text/html": [
       "<div>\n",
       "<style scoped>\n",
       "    .dataframe tbody tr th:only-of-type {\n",
       "        vertical-align: middle;\n",
       "    }\n",
       "\n",
       "    .dataframe tbody tr th {\n",
       "        vertical-align: top;\n",
       "    }\n",
       "\n",
       "    .dataframe thead th {\n",
       "        text-align: right;\n",
       "    }\n",
       "</style>\n",
       "<table border=\"1\" class=\"dataframe\">\n",
       "  <thead>\n",
       "    <tr style=\"text-align: right;\">\n",
       "      <th></th>\n",
       "      <th>children</th>\n",
       "      <th>days_employed</th>\n",
       "      <th>dob_years</th>\n",
       "      <th>education</th>\n",
       "      <th>education_id</th>\n",
       "      <th>family_status</th>\n",
       "      <th>family_status_id</th>\n",
       "      <th>gender</th>\n",
       "      <th>income_type</th>\n",
       "      <th>debt</th>\n",
       "      <th>total_income</th>\n",
       "      <th>purpose</th>\n",
       "    </tr>\n",
       "  </thead>\n",
       "  <tbody>\n",
       "    <tr>\n",
       "      <td>0</td>\n",
       "      <td>1</td>\n",
       "      <td>-8437.673028</td>\n",
       "      <td>42</td>\n",
       "      <td>bachelor's degree</td>\n",
       "      <td>0</td>\n",
       "      <td>married</td>\n",
       "      <td>0</td>\n",
       "      <td>F</td>\n",
       "      <td>employee</td>\n",
       "      <td>0</td>\n",
       "      <td>40620.102</td>\n",
       "      <td>purchase of the house</td>\n",
       "    </tr>\n",
       "    <tr>\n",
       "      <td>1</td>\n",
       "      <td>1</td>\n",
       "      <td>-4024.803754</td>\n",
       "      <td>36</td>\n",
       "      <td>secondary education</td>\n",
       "      <td>1</td>\n",
       "      <td>married</td>\n",
       "      <td>0</td>\n",
       "      <td>F</td>\n",
       "      <td>employee</td>\n",
       "      <td>0</td>\n",
       "      <td>17932.802</td>\n",
       "      <td>car purchase</td>\n",
       "    </tr>\n",
       "    <tr>\n",
       "      <td>2</td>\n",
       "      <td>0</td>\n",
       "      <td>-5623.422610</td>\n",
       "      <td>33</td>\n",
       "      <td>Secondary Education</td>\n",
       "      <td>1</td>\n",
       "      <td>married</td>\n",
       "      <td>0</td>\n",
       "      <td>M</td>\n",
       "      <td>employee</td>\n",
       "      <td>0</td>\n",
       "      <td>23341.752</td>\n",
       "      <td>purchase of the house</td>\n",
       "    </tr>\n",
       "    <tr>\n",
       "      <td>3</td>\n",
       "      <td>3</td>\n",
       "      <td>-4124.747207</td>\n",
       "      <td>32</td>\n",
       "      <td>secondary education</td>\n",
       "      <td>1</td>\n",
       "      <td>married</td>\n",
       "      <td>0</td>\n",
       "      <td>M</td>\n",
       "      <td>employee</td>\n",
       "      <td>0</td>\n",
       "      <td>42820.568</td>\n",
       "      <td>supplementary education</td>\n",
       "    </tr>\n",
       "    <tr>\n",
       "      <td>4</td>\n",
       "      <td>0</td>\n",
       "      <td>340266.072047</td>\n",
       "      <td>53</td>\n",
       "      <td>secondary education</td>\n",
       "      <td>1</td>\n",
       "      <td>civil partnership</td>\n",
       "      <td>1</td>\n",
       "      <td>F</td>\n",
       "      <td>retiree</td>\n",
       "      <td>0</td>\n",
       "      <td>25378.572</td>\n",
       "      <td>to have a wedding</td>\n",
       "    </tr>\n",
       "    <tr>\n",
       "      <td>5</td>\n",
       "      <td>0</td>\n",
       "      <td>-926.185831</td>\n",
       "      <td>27</td>\n",
       "      <td>bachelor's degree</td>\n",
       "      <td>0</td>\n",
       "      <td>civil partnership</td>\n",
       "      <td>1</td>\n",
       "      <td>M</td>\n",
       "      <td>business</td>\n",
       "      <td>0</td>\n",
       "      <td>40922.170</td>\n",
       "      <td>purchase of the house</td>\n",
       "    </tr>\n",
       "    <tr>\n",
       "      <td>6</td>\n",
       "      <td>0</td>\n",
       "      <td>-2879.202052</td>\n",
       "      <td>43</td>\n",
       "      <td>bachelor's degree</td>\n",
       "      <td>0</td>\n",
       "      <td>married</td>\n",
       "      <td>0</td>\n",
       "      <td>F</td>\n",
       "      <td>business</td>\n",
       "      <td>0</td>\n",
       "      <td>38484.156</td>\n",
       "      <td>housing transactions</td>\n",
       "    </tr>\n",
       "    <tr>\n",
       "      <td>7</td>\n",
       "      <td>0</td>\n",
       "      <td>-152.779569</td>\n",
       "      <td>50</td>\n",
       "      <td>SECONDARY EDUCATION</td>\n",
       "      <td>1</td>\n",
       "      <td>married</td>\n",
       "      <td>0</td>\n",
       "      <td>M</td>\n",
       "      <td>employee</td>\n",
       "      <td>0</td>\n",
       "      <td>21731.829</td>\n",
       "      <td>education</td>\n",
       "    </tr>\n",
       "    <tr>\n",
       "      <td>8</td>\n",
       "      <td>2</td>\n",
       "      <td>-6929.865299</td>\n",
       "      <td>35</td>\n",
       "      <td>BACHELOR'S DEGREE</td>\n",
       "      <td>0</td>\n",
       "      <td>civil partnership</td>\n",
       "      <td>1</td>\n",
       "      <td>F</td>\n",
       "      <td>employee</td>\n",
       "      <td>0</td>\n",
       "      <td>15337.093</td>\n",
       "      <td>having a wedding</td>\n",
       "    </tr>\n",
       "    <tr>\n",
       "      <td>9</td>\n",
       "      <td>0</td>\n",
       "      <td>-2188.756445</td>\n",
       "      <td>41</td>\n",
       "      <td>secondary education</td>\n",
       "      <td>1</td>\n",
       "      <td>married</td>\n",
       "      <td>0</td>\n",
       "      <td>M</td>\n",
       "      <td>employee</td>\n",
       "      <td>0</td>\n",
       "      <td>23108.150</td>\n",
       "      <td>purchase of the house for my family</td>\n",
       "    </tr>\n",
       "    <tr>\n",
       "      <td>10</td>\n",
       "      <td>2</td>\n",
       "      <td>-4171.483647</td>\n",
       "      <td>36</td>\n",
       "      <td>bachelor's degree</td>\n",
       "      <td>0</td>\n",
       "      <td>married</td>\n",
       "      <td>0</td>\n",
       "      <td>M</td>\n",
       "      <td>business</td>\n",
       "      <td>0</td>\n",
       "      <td>18230.959</td>\n",
       "      <td>buy real estate</td>\n",
       "    </tr>\n",
       "    <tr>\n",
       "      <td>11</td>\n",
       "      <td>0</td>\n",
       "      <td>-792.701887</td>\n",
       "      <td>40</td>\n",
       "      <td>secondary education</td>\n",
       "      <td>1</td>\n",
       "      <td>married</td>\n",
       "      <td>0</td>\n",
       "      <td>F</td>\n",
       "      <td>employee</td>\n",
       "      <td>0</td>\n",
       "      <td>12331.077</td>\n",
       "      <td>buy commercial real estate</td>\n",
       "    </tr>\n",
       "    <tr>\n",
       "      <td>12</td>\n",
       "      <td>0</td>\n",
       "      <td>NaN</td>\n",
       "      <td>65</td>\n",
       "      <td>secondary education</td>\n",
       "      <td>1</td>\n",
       "      <td>civil partnership</td>\n",
       "      <td>1</td>\n",
       "      <td>M</td>\n",
       "      <td>retiree</td>\n",
       "      <td>0</td>\n",
       "      <td>NaN</td>\n",
       "      <td>to have a wedding</td>\n",
       "    </tr>\n",
       "    <tr>\n",
       "      <td>13</td>\n",
       "      <td>0</td>\n",
       "      <td>-1846.641941</td>\n",
       "      <td>54</td>\n",
       "      <td>some college</td>\n",
       "      <td>2</td>\n",
       "      <td>married</td>\n",
       "      <td>0</td>\n",
       "      <td>F</td>\n",
       "      <td>employee</td>\n",
       "      <td>0</td>\n",
       "      <td>20873.317</td>\n",
       "      <td>car purchase</td>\n",
       "    </tr>\n",
       "    <tr>\n",
       "      <td>14</td>\n",
       "      <td>0</td>\n",
       "      <td>-1844.956182</td>\n",
       "      <td>56</td>\n",
       "      <td>bachelor's degree</td>\n",
       "      <td>0</td>\n",
       "      <td>civil partnership</td>\n",
       "      <td>1</td>\n",
       "      <td>F</td>\n",
       "      <td>business</td>\n",
       "      <td>1</td>\n",
       "      <td>26420.466</td>\n",
       "      <td>buy residential real estate</td>\n",
       "    </tr>\n",
       "  </tbody>\n",
       "</table>\n",
       "</div>"
      ],
      "text/plain": [
       "    children  days_employed  dob_years            education  education_id  \\\n",
       "0          1   -8437.673028         42    bachelor's degree             0   \n",
       "1          1   -4024.803754         36  secondary education             1   \n",
       "2          0   -5623.422610         33  Secondary Education             1   \n",
       "3          3   -4124.747207         32  secondary education             1   \n",
       "4          0  340266.072047         53  secondary education             1   \n",
       "5          0    -926.185831         27    bachelor's degree             0   \n",
       "6          0   -2879.202052         43    bachelor's degree             0   \n",
       "7          0    -152.779569         50  SECONDARY EDUCATION             1   \n",
       "8          2   -6929.865299         35    BACHELOR'S DEGREE             0   \n",
       "9          0   -2188.756445         41  secondary education             1   \n",
       "10         2   -4171.483647         36    bachelor's degree             0   \n",
       "11         0    -792.701887         40  secondary education             1   \n",
       "12         0            NaN         65  secondary education             1   \n",
       "13         0   -1846.641941         54         some college             2   \n",
       "14         0   -1844.956182         56    bachelor's degree             0   \n",
       "\n",
       "        family_status  family_status_id gender income_type  debt  \\\n",
       "0             married                 0      F    employee     0   \n",
       "1             married                 0      F    employee     0   \n",
       "2             married                 0      M    employee     0   \n",
       "3             married                 0      M    employee     0   \n",
       "4   civil partnership                 1      F     retiree     0   \n",
       "5   civil partnership                 1      M    business     0   \n",
       "6             married                 0      F    business     0   \n",
       "7             married                 0      M    employee     0   \n",
       "8   civil partnership                 1      F    employee     0   \n",
       "9             married                 0      M    employee     0   \n",
       "10            married                 0      M    business     0   \n",
       "11            married                 0      F    employee     0   \n",
       "12  civil partnership                 1      M     retiree     0   \n",
       "13            married                 0      F    employee     0   \n",
       "14  civil partnership                 1      F    business     1   \n",
       "\n",
       "    total_income                              purpose  \n",
       "0      40620.102                purchase of the house  \n",
       "1      17932.802                         car purchase  \n",
       "2      23341.752                purchase of the house  \n",
       "3      42820.568              supplementary education  \n",
       "4      25378.572                    to have a wedding  \n",
       "5      40922.170                purchase of the house  \n",
       "6      38484.156                 housing transactions  \n",
       "7      21731.829                            education  \n",
       "8      15337.093                     having a wedding  \n",
       "9      23108.150  purchase of the house for my family  \n",
       "10     18230.959                      buy real estate  \n",
       "11     12331.077           buy commercial real estate  \n",
       "12           NaN                    to have a wedding  \n",
       "13     20873.317                         car purchase  \n",
       "14     26420.466          buy residential real estate  "
      ]
     },
     "execution_count": 3,
     "metadata": {},
     "output_type": "execute_result"
    }
   ],
   "source": [
    "# let's print the first 15 rows\n",
    "\n",
    "df.head(15)"
   ]
  },
  {
   "cell_type": "markdown",
   "metadata": {},
   "source": [
    "***Potential issues***\n",
    "\n",
    "- `days_employed` is a often negative and some positive values are impossible\n",
    "- `education` contains various cases\n",
    "- some NaN values\n",
    "- `purpose` contains very similar but distinct purposes\n"
   ]
  },
  {
   "cell_type": "code",
   "execution_count": 4,
   "metadata": {
    "scrolled": true
   },
   "outputs": [
    {
     "name": "stdout",
     "output_type": "stream",
     "text": [
      "<class 'pandas.core.frame.DataFrame'>\n",
      "RangeIndex: 21525 entries, 0 to 21524\n",
      "Data columns (total 12 columns):\n",
      "children            21525 non-null int64\n",
      "days_employed       19351 non-null float64\n",
      "dob_years           21525 non-null int64\n",
      "education           21525 non-null object\n",
      "education_id        21525 non-null int64\n",
      "family_status       21525 non-null object\n",
      "family_status_id    21525 non-null int64\n",
      "gender              21525 non-null object\n",
      "income_type         21525 non-null object\n",
      "debt                21525 non-null int64\n",
      "total_income        19351 non-null float64\n",
      "purpose             21525 non-null object\n",
      "dtypes: float64(2), int64(5), object(5)\n",
      "memory usage: 2.0+ MB\n"
     ]
    }
   ],
   "source": [
    "# Get info on data\n",
    "df.info()"
   ]
  },
  {
   "cell_type": "markdown",
   "metadata": {},
   "source": [
    "There are only missing values in the columns `days_employed` and `total_income`, both of which have exactly the same number of missing values."
   ]
  },
  {
   "cell_type": "code",
   "execution_count": 5,
   "metadata": {
    "scrolled": true
   },
   "outputs": [
    {
     "data": {
      "text/html": [
       "<div>\n",
       "<style scoped>\n",
       "    .dataframe tbody tr th:only-of-type {\n",
       "        vertical-align: middle;\n",
       "    }\n",
       "\n",
       "    .dataframe tbody tr th {\n",
       "        vertical-align: top;\n",
       "    }\n",
       "\n",
       "    .dataframe thead th {\n",
       "        text-align: right;\n",
       "    }\n",
       "</style>\n",
       "<table border=\"1\" class=\"dataframe\">\n",
       "  <thead>\n",
       "    <tr style=\"text-align: right;\">\n",
       "      <th></th>\n",
       "      <th>children</th>\n",
       "      <th>days_employed</th>\n",
       "      <th>dob_years</th>\n",
       "      <th>education</th>\n",
       "      <th>education_id</th>\n",
       "      <th>family_status</th>\n",
       "      <th>family_status_id</th>\n",
       "      <th>gender</th>\n",
       "      <th>income_type</th>\n",
       "      <th>debt</th>\n",
       "      <th>total_income</th>\n",
       "      <th>purpose</th>\n",
       "    </tr>\n",
       "  </thead>\n",
       "  <tbody>\n",
       "    <tr>\n",
       "      <td>12</td>\n",
       "      <td>0</td>\n",
       "      <td>NaN</td>\n",
       "      <td>65</td>\n",
       "      <td>secondary education</td>\n",
       "      <td>1</td>\n",
       "      <td>civil partnership</td>\n",
       "      <td>1</td>\n",
       "      <td>M</td>\n",
       "      <td>retiree</td>\n",
       "      <td>0</td>\n",
       "      <td>NaN</td>\n",
       "      <td>to have a wedding</td>\n",
       "    </tr>\n",
       "    <tr>\n",
       "      <td>26</td>\n",
       "      <td>0</td>\n",
       "      <td>NaN</td>\n",
       "      <td>41</td>\n",
       "      <td>secondary education</td>\n",
       "      <td>1</td>\n",
       "      <td>married</td>\n",
       "      <td>0</td>\n",
       "      <td>M</td>\n",
       "      <td>civil servant</td>\n",
       "      <td>0</td>\n",
       "      <td>NaN</td>\n",
       "      <td>education</td>\n",
       "    </tr>\n",
       "    <tr>\n",
       "      <td>29</td>\n",
       "      <td>0</td>\n",
       "      <td>NaN</td>\n",
       "      <td>63</td>\n",
       "      <td>secondary education</td>\n",
       "      <td>1</td>\n",
       "      <td>unmarried</td>\n",
       "      <td>4</td>\n",
       "      <td>F</td>\n",
       "      <td>retiree</td>\n",
       "      <td>0</td>\n",
       "      <td>NaN</td>\n",
       "      <td>building a real estate</td>\n",
       "    </tr>\n",
       "    <tr>\n",
       "      <td>41</td>\n",
       "      <td>0</td>\n",
       "      <td>NaN</td>\n",
       "      <td>50</td>\n",
       "      <td>secondary education</td>\n",
       "      <td>1</td>\n",
       "      <td>married</td>\n",
       "      <td>0</td>\n",
       "      <td>F</td>\n",
       "      <td>civil servant</td>\n",
       "      <td>0</td>\n",
       "      <td>NaN</td>\n",
       "      <td>second-hand car purchase</td>\n",
       "    </tr>\n",
       "    <tr>\n",
       "      <td>55</td>\n",
       "      <td>0</td>\n",
       "      <td>NaN</td>\n",
       "      <td>54</td>\n",
       "      <td>secondary education</td>\n",
       "      <td>1</td>\n",
       "      <td>civil partnership</td>\n",
       "      <td>1</td>\n",
       "      <td>F</td>\n",
       "      <td>retiree</td>\n",
       "      <td>1</td>\n",
       "      <td>NaN</td>\n",
       "      <td>to have a wedding</td>\n",
       "    </tr>\n",
       "    <tr>\n",
       "      <td>...</td>\n",
       "      <td>...</td>\n",
       "      <td>...</td>\n",
       "      <td>...</td>\n",
       "      <td>...</td>\n",
       "      <td>...</td>\n",
       "      <td>...</td>\n",
       "      <td>...</td>\n",
       "      <td>...</td>\n",
       "      <td>...</td>\n",
       "      <td>...</td>\n",
       "      <td>...</td>\n",
       "      <td>...</td>\n",
       "    </tr>\n",
       "    <tr>\n",
       "      <td>21489</td>\n",
       "      <td>2</td>\n",
       "      <td>NaN</td>\n",
       "      <td>47</td>\n",
       "      <td>Secondary Education</td>\n",
       "      <td>1</td>\n",
       "      <td>married</td>\n",
       "      <td>0</td>\n",
       "      <td>M</td>\n",
       "      <td>business</td>\n",
       "      <td>0</td>\n",
       "      <td>NaN</td>\n",
       "      <td>purchase of a car</td>\n",
       "    </tr>\n",
       "    <tr>\n",
       "      <td>21495</td>\n",
       "      <td>1</td>\n",
       "      <td>NaN</td>\n",
       "      <td>50</td>\n",
       "      <td>secondary education</td>\n",
       "      <td>1</td>\n",
       "      <td>civil partnership</td>\n",
       "      <td>1</td>\n",
       "      <td>F</td>\n",
       "      <td>employee</td>\n",
       "      <td>0</td>\n",
       "      <td>NaN</td>\n",
       "      <td>wedding ceremony</td>\n",
       "    </tr>\n",
       "    <tr>\n",
       "      <td>21497</td>\n",
       "      <td>0</td>\n",
       "      <td>NaN</td>\n",
       "      <td>48</td>\n",
       "      <td>BACHELOR'S DEGREE</td>\n",
       "      <td>0</td>\n",
       "      <td>married</td>\n",
       "      <td>0</td>\n",
       "      <td>F</td>\n",
       "      <td>business</td>\n",
       "      <td>0</td>\n",
       "      <td>NaN</td>\n",
       "      <td>building a property</td>\n",
       "    </tr>\n",
       "    <tr>\n",
       "      <td>21502</td>\n",
       "      <td>1</td>\n",
       "      <td>NaN</td>\n",
       "      <td>42</td>\n",
       "      <td>secondary education</td>\n",
       "      <td>1</td>\n",
       "      <td>married</td>\n",
       "      <td>0</td>\n",
       "      <td>F</td>\n",
       "      <td>employee</td>\n",
       "      <td>0</td>\n",
       "      <td>NaN</td>\n",
       "      <td>building a real estate</td>\n",
       "    </tr>\n",
       "    <tr>\n",
       "      <td>21510</td>\n",
       "      <td>2</td>\n",
       "      <td>NaN</td>\n",
       "      <td>28</td>\n",
       "      <td>secondary education</td>\n",
       "      <td>1</td>\n",
       "      <td>married</td>\n",
       "      <td>0</td>\n",
       "      <td>F</td>\n",
       "      <td>employee</td>\n",
       "      <td>0</td>\n",
       "      <td>NaN</td>\n",
       "      <td>car purchase</td>\n",
       "    </tr>\n",
       "  </tbody>\n",
       "</table>\n",
       "<p>2174 rows × 12 columns</p>\n",
       "</div>"
      ],
      "text/plain": [
       "       children  days_employed  dob_years            education  education_id  \\\n",
       "12            0            NaN         65  secondary education             1   \n",
       "26            0            NaN         41  secondary education             1   \n",
       "29            0            NaN         63  secondary education             1   \n",
       "41            0            NaN         50  secondary education             1   \n",
       "55            0            NaN         54  secondary education             1   \n",
       "...         ...            ...        ...                  ...           ...   \n",
       "21489         2            NaN         47  Secondary Education             1   \n",
       "21495         1            NaN         50  secondary education             1   \n",
       "21497         0            NaN         48    BACHELOR'S DEGREE             0   \n",
       "21502         1            NaN         42  secondary education             1   \n",
       "21510         2            NaN         28  secondary education             1   \n",
       "\n",
       "           family_status  family_status_id gender    income_type  debt  \\\n",
       "12     civil partnership                 1      M        retiree     0   \n",
       "26               married                 0      M  civil servant     0   \n",
       "29             unmarried                 4      F        retiree     0   \n",
       "41               married                 0      F  civil servant     0   \n",
       "55     civil partnership                 1      F        retiree     1   \n",
       "...                  ...               ...    ...            ...   ...   \n",
       "21489            married                 0      M       business     0   \n",
       "21495  civil partnership                 1      F       employee     0   \n",
       "21497            married                 0      F       business     0   \n",
       "21502            married                 0      F       employee     0   \n",
       "21510            married                 0      F       employee     0   \n",
       "\n",
       "       total_income                   purpose  \n",
       "12              NaN         to have a wedding  \n",
       "26              NaN                 education  \n",
       "29              NaN    building a real estate  \n",
       "41              NaN  second-hand car purchase  \n",
       "55              NaN         to have a wedding  \n",
       "...             ...                       ...  \n",
       "21489           NaN         purchase of a car  \n",
       "21495           NaN          wedding ceremony  \n",
       "21497           NaN       building a property  \n",
       "21502           NaN    building a real estate  \n",
       "21510           NaN              car purchase  \n",
       "\n",
       "[2174 rows x 12 columns]"
      ]
     },
     "execution_count": 5,
     "metadata": {},
     "output_type": "execute_result"
    }
   ],
   "source": [
    "# Let's look at the filtered table with missing values in the the first column with missing data\n",
    "df[df['days_employed'].isnull()]"
   ]
  },
  {
   "cell_type": "markdown",
   "metadata": {},
   "source": [
    "\n",
    "\n",
    "On initial investigation is appears that the null values are symmetric between `days_employed` and `total_income`.\n",
    "\n",
    "We can check by taking a slice where `days_employed`is null and  `total_income` is not null and checking if it is an empty dataframe.\n",
    "\n"
   ]
  },
  {
   "cell_type": "code",
   "execution_count": 6,
   "metadata": {},
   "outputs": [
    {
     "data": {
      "text/html": [
       "<div>\n",
       "<style scoped>\n",
       "    .dataframe tbody tr th:only-of-type {\n",
       "        vertical-align: middle;\n",
       "    }\n",
       "\n",
       "    .dataframe tbody tr th {\n",
       "        vertical-align: top;\n",
       "    }\n",
       "\n",
       "    .dataframe thead th {\n",
       "        text-align: right;\n",
       "    }\n",
       "</style>\n",
       "<table border=\"1\" class=\"dataframe\">\n",
       "  <thead>\n",
       "    <tr style=\"text-align: right;\">\n",
       "      <th></th>\n",
       "      <th>children</th>\n",
       "      <th>days_employed</th>\n",
       "      <th>dob_years</th>\n",
       "      <th>education</th>\n",
       "      <th>education_id</th>\n",
       "      <th>family_status</th>\n",
       "      <th>family_status_id</th>\n",
       "      <th>gender</th>\n",
       "      <th>income_type</th>\n",
       "      <th>debt</th>\n",
       "      <th>total_income</th>\n",
       "      <th>purpose</th>\n",
       "    </tr>\n",
       "  </thead>\n",
       "  <tbody>\n",
       "  </tbody>\n",
       "</table>\n",
       "</div>"
      ],
      "text/plain": [
       "Empty DataFrame\n",
       "Columns: [children, days_employed, dob_years, education, education_id, family_status, family_status_id, gender, income_type, debt, total_income, purpose]\n",
       "Index: []"
      ]
     },
     "execution_count": 6,
     "metadata": {},
     "output_type": "execute_result"
    }
   ],
   "source": [
    "# Let's apply multiple conditions for filtering data and look at the number of rows in the filtered table.\n",
    "df[df['days_employed'].isnull() & df['total_income'].notnull()]\n"
   ]
  },
  {
   "cell_type": "code",
   "execution_count": 7,
   "metadata": {},
   "outputs": [
    {
     "data": {
      "text/html": [
       "<div>\n",
       "<style scoped>\n",
       "    .dataframe tbody tr th:only-of-type {\n",
       "        vertical-align: middle;\n",
       "    }\n",
       "\n",
       "    .dataframe tbody tr th {\n",
       "        vertical-align: top;\n",
       "    }\n",
       "\n",
       "    .dataframe thead th {\n",
       "        text-align: right;\n",
       "    }\n",
       "</style>\n",
       "<table border=\"1\" class=\"dataframe\">\n",
       "  <thead>\n",
       "    <tr style=\"text-align: right;\">\n",
       "      <th></th>\n",
       "      <th>children</th>\n",
       "      <th>days_employed</th>\n",
       "      <th>dob_years</th>\n",
       "      <th>education</th>\n",
       "      <th>education_id</th>\n",
       "      <th>family_status</th>\n",
       "      <th>family_status_id</th>\n",
       "      <th>gender</th>\n",
       "      <th>income_type</th>\n",
       "      <th>debt</th>\n",
       "      <th>total_income</th>\n",
       "      <th>purpose</th>\n",
       "    </tr>\n",
       "  </thead>\n",
       "  <tbody>\n",
       "  </tbody>\n",
       "</table>\n",
       "</div>"
      ],
      "text/plain": [
       "Empty DataFrame\n",
       "Columns: [children, days_employed, dob_years, education, education_id, family_status, family_status_id, gender, income_type, debt, total_income, purpose]\n",
       "Index: []"
      ]
     },
     "execution_count": 7,
     "metadata": {},
     "output_type": "execute_result"
    }
   ],
   "source": [
    "df[df['total_income'].notnull() & df['days_employed'].isnull()]\n"
   ]
  },
  {
   "cell_type": "markdown",
   "metadata": {},
   "source": [
    "\n",
    "\n",
    "\n",
    "**Intermediate conclusion**\n",
    "\n",
    "There are no rows that contain only null values in either `days_employed` and `total_income`, any row that contains a null value in `days_employed` contains a null value in `total_income` and vice versa. \n",
    "\n",
    "Approximately 10% of the rows contain null values. Not an insurmountable amount of missing data but this could lead to bias if the missing data is due to a specific client characteristic. \n",
    "\n",
    "These null values could possibly be caused by older clients with 'retiree' `income_type` having misleading `days_employed` and `total_income`.\n",
    "\n",
    "The null values in `days_employed` could have potentially caused issues with the value of `total_income` if `days_employed` is used in the calculation of client's debt. \n",
    "\n",
    "These issues can be investigated by taking slices of the dataframe that contain null values, checking the value counts as a percentage of the total and then comparing these to the value counts of the rest of the data set to identify if there any significant differences that may have been caused by the null values.\n",
    "\n"
   ]
  },
  {
   "cell_type": "code",
   "execution_count": 8,
   "metadata": {},
   "outputs": [
    {
     "data": {
      "text/plain": [
       "employee         0.5083\n",
       "business         0.2337\n",
       "retiree          0.1900\n",
       "civil servant    0.0676\n",
       "entrepreneur     0.0005\n",
       "Name: income_type, dtype: float64"
      ]
     },
     "execution_count": 8,
     "metadata": {},
     "output_type": "execute_result"
    }
   ],
   "source": [
    "# checking the distribution of entries with null values by income_type\n",
    "round(df[df['days_employed'].isnull()]['income_type'].value_counts()/len(df[df['days_employed'].isnull()]), 4)"
   ]
  },
  {
   "cell_type": "code",
   "execution_count": 9,
   "metadata": {},
   "outputs": [
    {
     "data": {
      "text/plain": [
       "employee                       0.5175\n",
       "business                       0.2365\n",
       "retiree                        0.1779\n",
       "civil servant                  0.0678\n",
       "unemployed                     0.0001\n",
       "student                        0.0001\n",
       "paternity / maternity leave    0.0001\n",
       "entrepreneur                   0.0001\n",
       "Name: income_type, dtype: float64"
      ]
     },
     "execution_count": 9,
     "metadata": {},
     "output_type": "execute_result"
    }
   ],
   "source": [
    "# Checking distribution of the dataset without null values by income_type\n",
    "round(df[df['days_employed'].notnull()]['income_type'].value_counts()/len(df[df['days_employed'].notnull()]), 4)"
   ]
  },
  {
   "cell_type": "code",
   "execution_count": 10,
   "metadata": {},
   "outputs": [
    {
     "data": {
      "text/plain": [
       "0    0.922\n",
       "1    0.078\n",
       "Name: debt, dtype: float64"
      ]
     },
     "execution_count": 10,
     "metadata": {},
     "output_type": "execute_result"
    }
   ],
   "source": [
    "# checking the distribution of entries with null values by debt\n",
    "round(df[df['days_employed'].isnull()]['debt'].value_counts()/len(df[df['days_employed'].isnull()]), 3)"
   ]
  },
  {
   "cell_type": "code",
   "execution_count": 11,
   "metadata": {},
   "outputs": [
    {
     "data": {
      "text/plain": [
       "0    0.919\n",
       "1    0.081\n",
       "Name: debt, dtype: float64"
      ]
     },
     "execution_count": 11,
     "metadata": {},
     "output_type": "execute_result"
    }
   ],
   "source": [
    "# Checking distribution of the dataset without null values by debt\n",
    "round(df[df['days_employed'].notnull()]['debt'].value_counts()/len(df[df['days_employed'].notnull()]), 3)"
   ]
  },
  {
   "cell_type": "code",
   "execution_count": 12,
   "metadata": {},
   "outputs": [
    {
     "data": {
      "text/plain": [
       "count    2174.000000\n",
       "mean       43.632015\n",
       "std        12.531481\n",
       "min         0.000000\n",
       "25%        34.000000\n",
       "50%        43.000000\n",
       "75%        54.000000\n",
       "max        73.000000\n",
       "Name: dob_years, dtype: float64"
      ]
     },
     "execution_count": 12,
     "metadata": {},
     "output_type": "execute_result"
    }
   ],
   "source": [
    "# checking the distribution of entries with null values by dob_years\n",
    "df[df['days_employed'].isnull()]['dob_years'].describe()"
   ]
  },
  {
   "cell_type": "code",
   "execution_count": 13,
   "metadata": {},
   "outputs": [
    {
     "data": {
      "text/plain": [
       "count    19351.000000\n",
       "mean        43.255336\n",
       "std         12.579170\n",
       "min          0.000000\n",
       "25%         33.000000\n",
       "50%         42.000000\n",
       "75%         53.000000\n",
       "max         75.000000\n",
       "Name: dob_years, dtype: float64"
      ]
     },
     "execution_count": 13,
     "metadata": {},
     "output_type": "execute_result"
    }
   ],
   "source": [
    "# checking the distribution of entries without null values by dob_years\n",
    "df[df['days_employed'].notnull()]['dob_years'].describe()"
   ]
  },
  {
   "cell_type": "markdown",
   "metadata": {},
   "source": [
    "\n",
    "\n",
    "There appears to be no clear differences in `debt`, `income_type` or `age` between entries containing null values and those without null values, it therefore appears that these null values might be missing randomly.\n",
    "\n",
    "One of other possible avenue of investigation is to check the distribution of the rows that contain null values throughout the dataset. If we find their index values 'clumped up' it may be that a block of data that was added at some point primarily contains the null values.\n",
    "\n",
    "We can check if this is the case by looking at the distribution of indices of rows which contain null values.\n",
    "\n"
   ]
  },
  {
   "cell_type": "code",
   "execution_count": 14,
   "metadata": {},
   "outputs": [
    {
     "data": {
      "text/html": [
       "<div>\n",
       "<style scoped>\n",
       "    .dataframe tbody tr th:only-of-type {\n",
       "        vertical-align: middle;\n",
       "    }\n",
       "\n",
       "    .dataframe tbody tr th {\n",
       "        vertical-align: top;\n",
       "    }\n",
       "\n",
       "    .dataframe thead th {\n",
       "        text-align: right;\n",
       "    }\n",
       "</style>\n",
       "<table border=\"1\" class=\"dataframe\">\n",
       "  <thead>\n",
       "    <tr style=\"text-align: right;\">\n",
       "      <th></th>\n",
       "      <th>children</th>\n",
       "      <th>days_employed</th>\n",
       "      <th>dob_years</th>\n",
       "      <th>education_id</th>\n",
       "      <th>family_status_id</th>\n",
       "      <th>debt</th>\n",
       "      <th>total_income</th>\n",
       "    </tr>\n",
       "  </thead>\n",
       "  <tbody>\n",
       "    <tr>\n",
       "      <td>count</td>\n",
       "      <td>2174.000000</td>\n",
       "      <td>0.0</td>\n",
       "      <td>2174.000000</td>\n",
       "      <td>2174.000000</td>\n",
       "      <td>2174.000000</td>\n",
       "      <td>2174.000000</td>\n",
       "      <td>0.0</td>\n",
       "    </tr>\n",
       "    <tr>\n",
       "      <td>mean</td>\n",
       "      <td>0.552438</td>\n",
       "      <td>NaN</td>\n",
       "      <td>43.632015</td>\n",
       "      <td>0.800828</td>\n",
       "      <td>0.975161</td>\n",
       "      <td>0.078197</td>\n",
       "      <td>NaN</td>\n",
       "    </tr>\n",
       "    <tr>\n",
       "      <td>std</td>\n",
       "      <td>1.469356</td>\n",
       "      <td>NaN</td>\n",
       "      <td>12.531481</td>\n",
       "      <td>0.530157</td>\n",
       "      <td>1.418220</td>\n",
       "      <td>0.268543</td>\n",
       "      <td>NaN</td>\n",
       "    </tr>\n",
       "    <tr>\n",
       "      <td>min</td>\n",
       "      <td>-1.000000</td>\n",
       "      <td>NaN</td>\n",
       "      <td>0.000000</td>\n",
       "      <td>0.000000</td>\n",
       "      <td>0.000000</td>\n",
       "      <td>0.000000</td>\n",
       "      <td>NaN</td>\n",
       "    </tr>\n",
       "    <tr>\n",
       "      <td>25%</td>\n",
       "      <td>0.000000</td>\n",
       "      <td>NaN</td>\n",
       "      <td>34.000000</td>\n",
       "      <td>0.250000</td>\n",
       "      <td>0.000000</td>\n",
       "      <td>0.000000</td>\n",
       "      <td>NaN</td>\n",
       "    </tr>\n",
       "    <tr>\n",
       "      <td>50%</td>\n",
       "      <td>0.000000</td>\n",
       "      <td>NaN</td>\n",
       "      <td>43.000000</td>\n",
       "      <td>1.000000</td>\n",
       "      <td>0.000000</td>\n",
       "      <td>0.000000</td>\n",
       "      <td>NaN</td>\n",
       "    </tr>\n",
       "    <tr>\n",
       "      <td>75%</td>\n",
       "      <td>1.000000</td>\n",
       "      <td>NaN</td>\n",
       "      <td>54.000000</td>\n",
       "      <td>1.000000</td>\n",
       "      <td>1.000000</td>\n",
       "      <td>0.000000</td>\n",
       "      <td>NaN</td>\n",
       "    </tr>\n",
       "    <tr>\n",
       "      <td>max</td>\n",
       "      <td>20.000000</td>\n",
       "      <td>NaN</td>\n",
       "      <td>73.000000</td>\n",
       "      <td>3.000000</td>\n",
       "      <td>4.000000</td>\n",
       "      <td>1.000000</td>\n",
       "      <td>NaN</td>\n",
       "    </tr>\n",
       "  </tbody>\n",
       "</table>\n",
       "</div>"
      ],
      "text/plain": [
       "          children  days_employed    dob_years  education_id  \\\n",
       "count  2174.000000            0.0  2174.000000   2174.000000   \n",
       "mean      0.552438            NaN    43.632015      0.800828   \n",
       "std       1.469356            NaN    12.531481      0.530157   \n",
       "min      -1.000000            NaN     0.000000      0.000000   \n",
       "25%       0.000000            NaN    34.000000      0.250000   \n",
       "50%       0.000000            NaN    43.000000      1.000000   \n",
       "75%       1.000000            NaN    54.000000      1.000000   \n",
       "max      20.000000            NaN    73.000000      3.000000   \n",
       "\n",
       "       family_status_id         debt  total_income  \n",
       "count       2174.000000  2174.000000           0.0  \n",
       "mean           0.975161     0.078197           NaN  \n",
       "std            1.418220     0.268543           NaN  \n",
       "min            0.000000     0.000000           NaN  \n",
       "25%            0.000000     0.000000           NaN  \n",
       "50%            0.000000     0.000000           NaN  \n",
       "75%            1.000000     0.000000           NaN  \n",
       "max            4.000000     1.000000           NaN  "
      ]
     },
     "execution_count": 14,
     "metadata": {},
     "output_type": "execute_result"
    }
   ],
   "source": [
    "#checking all rows containing null values\n",
    "df[df['days_employed'].isnull()].describe()"
   ]
  },
  {
   "cell_type": "code",
   "execution_count": 15,
   "metadata": {},
   "outputs": [
    {
     "data": {
      "text/html": [
       "<div>\n",
       "<style scoped>\n",
       "    .dataframe tbody tr th:only-of-type {\n",
       "        vertical-align: middle;\n",
       "    }\n",
       "\n",
       "    .dataframe tbody tr th {\n",
       "        vertical-align: top;\n",
       "    }\n",
       "\n",
       "    .dataframe thead th {\n",
       "        text-align: right;\n",
       "    }\n",
       "</style>\n",
       "<table border=\"1\" class=\"dataframe\">\n",
       "  <thead>\n",
       "    <tr style=\"text-align: right;\">\n",
       "      <th></th>\n",
       "      <th>children</th>\n",
       "      <th>days_employed</th>\n",
       "      <th>dob_years</th>\n",
       "      <th>education_id</th>\n",
       "      <th>family_status_id</th>\n",
       "      <th>debt</th>\n",
       "      <th>total_income</th>\n",
       "    </tr>\n",
       "  </thead>\n",
       "  <tbody>\n",
       "    <tr>\n",
       "      <td>count</td>\n",
       "      <td>19351.000000</td>\n",
       "      <td>19351.000000</td>\n",
       "      <td>19351.000000</td>\n",
       "      <td>19351.000000</td>\n",
       "      <td>19351.000000</td>\n",
       "      <td>19351.000000</td>\n",
       "      <td>19351.000000</td>\n",
       "    </tr>\n",
       "    <tr>\n",
       "      <td>mean</td>\n",
       "      <td>0.537388</td>\n",
       "      <td>63046.497661</td>\n",
       "      <td>43.255336</td>\n",
       "      <td>0.819079</td>\n",
       "      <td>0.972249</td>\n",
       "      <td>0.081184</td>\n",
       "      <td>26787.568355</td>\n",
       "    </tr>\n",
       "    <tr>\n",
       "      <td>std</td>\n",
       "      <td>1.371408</td>\n",
       "      <td>140827.311974</td>\n",
       "      <td>12.579170</td>\n",
       "      <td>0.550104</td>\n",
       "      <td>1.420596</td>\n",
       "      <td>0.273125</td>\n",
       "      <td>16475.450632</td>\n",
       "    </tr>\n",
       "    <tr>\n",
       "      <td>min</td>\n",
       "      <td>-1.000000</td>\n",
       "      <td>-18388.949901</td>\n",
       "      <td>0.000000</td>\n",
       "      <td>0.000000</td>\n",
       "      <td>0.000000</td>\n",
       "      <td>0.000000</td>\n",
       "      <td>3306.762000</td>\n",
       "    </tr>\n",
       "    <tr>\n",
       "      <td>25%</td>\n",
       "      <td>0.000000</td>\n",
       "      <td>-2747.423625</td>\n",
       "      <td>33.000000</td>\n",
       "      <td>1.000000</td>\n",
       "      <td>0.000000</td>\n",
       "      <td>0.000000</td>\n",
       "      <td>16488.504500</td>\n",
       "    </tr>\n",
       "    <tr>\n",
       "      <td>50%</td>\n",
       "      <td>0.000000</td>\n",
       "      <td>-1203.369529</td>\n",
       "      <td>42.000000</td>\n",
       "      <td>1.000000</td>\n",
       "      <td>0.000000</td>\n",
       "      <td>0.000000</td>\n",
       "      <td>23202.870000</td>\n",
       "    </tr>\n",
       "    <tr>\n",
       "      <td>75%</td>\n",
       "      <td>1.000000</td>\n",
       "      <td>-291.095954</td>\n",
       "      <td>53.000000</td>\n",
       "      <td>1.000000</td>\n",
       "      <td>1.000000</td>\n",
       "      <td>0.000000</td>\n",
       "      <td>32549.611000</td>\n",
       "    </tr>\n",
       "    <tr>\n",
       "      <td>max</td>\n",
       "      <td>20.000000</td>\n",
       "      <td>401755.400475</td>\n",
       "      <td>75.000000</td>\n",
       "      <td>4.000000</td>\n",
       "      <td>4.000000</td>\n",
       "      <td>1.000000</td>\n",
       "      <td>362496.645000</td>\n",
       "    </tr>\n",
       "  </tbody>\n",
       "</table>\n",
       "</div>"
      ],
      "text/plain": [
       "           children  days_employed     dob_years  education_id  \\\n",
       "count  19351.000000   19351.000000  19351.000000  19351.000000   \n",
       "mean       0.537388   63046.497661     43.255336      0.819079   \n",
       "std        1.371408  140827.311974     12.579170      0.550104   \n",
       "min       -1.000000  -18388.949901      0.000000      0.000000   \n",
       "25%        0.000000   -2747.423625     33.000000      1.000000   \n",
       "50%        0.000000   -1203.369529     42.000000      1.000000   \n",
       "75%        1.000000    -291.095954     53.000000      1.000000   \n",
       "max       20.000000  401755.400475     75.000000      4.000000   \n",
       "\n",
       "       family_status_id          debt   total_income  \n",
       "count      19351.000000  19351.000000   19351.000000  \n",
       "mean           0.972249      0.081184   26787.568355  \n",
       "std            1.420596      0.273125   16475.450632  \n",
       "min            0.000000      0.000000    3306.762000  \n",
       "25%            0.000000      0.000000   16488.504500  \n",
       "50%            0.000000      0.000000   23202.870000  \n",
       "75%            1.000000      0.000000   32549.611000  \n",
       "max            4.000000      1.000000  362496.645000  "
      ]
     },
     "execution_count": 15,
     "metadata": {},
     "output_type": "execute_result"
    }
   ],
   "source": [
    "#checking all rows not containing null values\n",
    "df[df['days_employed'].notnull()].describe()"
   ]
  },
  {
   "cell_type": "code",
   "execution_count": 16,
   "metadata": {},
   "outputs": [
    {
     "name": "stdout",
     "output_type": "stream",
     "text": [
      "11090.5\n",
      "6207.735946280718\n"
     ]
    }
   ],
   "source": [
    "# checking the central tendency and spread of indices for rows null values\n",
    "print(statistics.median(df.index[df['days_employed'].isnull()].to_list()))\n",
    "print(statistics.stdev(df.index[df['days_employed'].isnull()].to_list()))"
   ]
  },
  {
   "cell_type": "code",
   "execution_count": 17,
   "metadata": {
    "scrolled": true
   },
   "outputs": [
    {
     "name": "stdout",
     "output_type": "stream",
     "text": [
      "10714\n",
      "6214.146653406925\n"
     ]
    }
   ],
   "source": [
    "# checking the central tendency and spread of indices for rows with no null values\n",
    "print(statistics.median((df.index[df['days_employed'].notnull()].to_list())))\n",
    "print(statistics.stdev((df.index[df['days_employed'].notnull()].to_list())))"
   ]
  },
  {
   "cell_type": "markdown",
   "metadata": {},
   "source": [
    "\n",
    "It appears the distibution is very similar between rows containing null values and those without. \n",
    "These missing results will probably not cause the dataset to be biased if removed or we can fill null values using representative statistics from the rest of the table.\n",
    "\n"
   ]
  },
  {
   "cell_type": "markdown",
   "metadata": {},
   "source": [
    "**Conclusions**\n",
    "\n",
    "Having check the distribution of other characteristics as well as the distribution of null values amongst rows, the distribution of missing values does appear to be random.\n",
    "\n",
    "Since both of these are quantative variables, we should be able to fill in the missing data using either the mean or median `days_employed` and `total income` of customers with similar characteritics.\n",
    "\n",
    "\n",
    "We still need to further and investigate:\n",
    "\n",
    "- *duplicates*\n",
    "\n",
    "    potentially by dropping them\n",
    "    \n",
    "    \n",
    "- *different registers*\n",
    "\n",
    "    correcting if possible\n",
    "    \n",
    "    \n",
    "- *incorrect artifacts*\n",
    "\n",
    "    finding and correcting\n",
    "    \n",
    "    \n",
    "- *missing values*\n",
    "\n",
    "    filling in based on averages from groups of similar customers"
   ]
  },
  {
   "cell_type": "markdown",
   "metadata": {},
   "source": [
    "## 2. Data transformation\n"
   ]
  },
  {
   "cell_type": "code",
   "execution_count": 18,
   "metadata": {},
   "outputs": [
    {
     "data": {
      "text/plain": [
       "secondary education    13750\n",
       "bachelor's degree       4718\n",
       "SECONDARY EDUCATION      772\n",
       "Secondary Education      711\n",
       "some college             668\n",
       "BACHELOR'S DEGREE        274\n",
       "Bachelor's Degree        268\n",
       "primary education        250\n",
       "Some College              47\n",
       "SOME COLLEGE              29\n",
       "PRIMARY EDUCATION         17\n",
       "Primary Education         15\n",
       "graduate degree            4\n",
       "Graduate Degree            1\n",
       "GRADUATE DEGREE            1\n",
       "Name: education, dtype: int64"
      ]
     },
     "execution_count": 18,
     "metadata": {},
     "output_type": "execute_result"
    }
   ],
   "source": [
    "# Let's see all values in education column to check if and what spellings will need to be fixed\n",
    "df['education'].value_counts()"
   ]
  },
  {
   "cell_type": "code",
   "execution_count": 19,
   "metadata": {
    "scrolled": true
   },
   "outputs": [],
   "source": [
    "# Fix the registers\n",
    "df['education']= df['education'].str.lower() "
   ]
  },
  {
   "cell_type": "code",
   "execution_count": 20,
   "metadata": {},
   "outputs": [
    {
     "data": {
      "text/plain": [
       "secondary education    15233\n",
       "bachelor's degree       5260\n",
       "some college             744\n",
       "primary education        282\n",
       "graduate degree            6\n",
       "Name: education, dtype: int64"
      ]
     },
     "execution_count": 20,
     "metadata": {},
     "output_type": "execute_result"
    }
   ],
   "source": [
    "# Checking all the values in the column to make sure we fixed them\n",
    "df['education'].value_counts()"
   ]
  },
  {
   "cell_type": "code",
   "execution_count": 21,
   "metadata": {},
   "outputs": [
    {
     "data": {
      "text/plain": [
       " 0     14149\n",
       " 1      4818\n",
       " 2      2055\n",
       " 3       330\n",
       " 20       76\n",
       "-1        47\n",
       " 4        41\n",
       " 5         9\n",
       "Name: children, dtype: int64"
      ]
     },
     "execution_count": 21,
     "metadata": {},
     "output_type": "execute_result"
    }
   ],
   "source": [
    "# Let's see the distribution of values in the `children` column\n",
    "df['children'].value_counts()"
   ]
  },
  {
   "cell_type": "markdown",
   "metadata": {},
   "source": [
    "There are issues with 20 and -1 for children, both seem highly improbable. These could have been caused by human input error or be artifacts from previous methods of decribing the amount of children clients have, for example -1 may well of meant 'expecting children'. However, as this is one of the variables we are investigating and these clients make up approximately 0.57% of the data removing these rows will have a negligible impact on the analysis."
   ]
  },
  {
   "cell_type": "code",
   "execution_count": 22,
   "metadata": {},
   "outputs": [],
   "source": [
    "# fixing children data\n",
    "df = df[(df['children'] != 20) & (df['children'] != -1)]"
   ]
  },
  {
   "cell_type": "code",
   "execution_count": 23,
   "metadata": {},
   "outputs": [
    {
     "data": {
      "text/plain": [
       "0    14149\n",
       "1     4818\n",
       "2     2055\n",
       "3      330\n",
       "4       41\n",
       "5        9\n",
       "Name: children, dtype: int64"
      ]
     },
     "execution_count": 23,
     "metadata": {},
     "output_type": "execute_result"
    }
   ],
   "source": [
    "# Checking the `children` column again to make sure it's all fixed\n",
    "df['children'].value_counts()"
   ]
  },
  {
   "cell_type": "markdown",
   "metadata": {},
   "source": [
    "\n",
    "It's already apparent there are a number of negative values, null values and some impossibly large values.\n",
    "We can check the number of negative values and impossibly large values by taking slices."
   ]
  },
  {
   "cell_type": "code",
   "execution_count": 24,
   "metadata": {},
   "outputs": [
    {
     "data": {
      "text/plain": [
       "count      52.676249\n",
       "mean      172.922165\n",
       "std       385.842418\n",
       "min       -50.346201\n",
       "25%        -7.521521\n",
       "50%        -3.296192\n",
       "75%        -0.793265\n",
       "max      1099.946339\n",
       "Name: days_employed, dtype: float64"
      ]
     },
     "execution_count": 24,
     "metadata": {},
     "output_type": "execute_result"
    }
   ],
   "source": [
    "# checking overall distribution in years\n",
    "df['days_employed'].describe()/365.25"
   ]
  },
  {
   "cell_type": "code",
   "execution_count": 25,
   "metadata": {},
   "outputs": [
    {
     "data": {
      "text/plain": [
       "(2162, 12)"
      ]
     },
     "execution_count": 25,
     "metadata": {},
     "output_type": "execute_result"
    }
   ],
   "source": [
    "df[df['days_employed'].isnull()].shape"
   ]
  },
  {
   "cell_type": "code",
   "execution_count": 26,
   "metadata": {},
   "outputs": [
    {
     "data": {
      "text/plain": [
       "15809"
      ]
     },
     "execution_count": 26,
     "metadata": {},
     "output_type": "execute_result"
    }
   ],
   "source": [
    "#checking the number of negative values\n",
    "df[df['days_employed'] < 0]['days_employed'].count()"
   ]
  },
  {
   "cell_type": "code",
   "execution_count": 27,
   "metadata": {},
   "outputs": [
    {
     "data": {
      "text/plain": [
       "3431"
      ]
     },
     "execution_count": 27,
     "metadata": {},
     "output_type": "execute_result"
    }
   ],
   "source": [
    "#checking the number of positive values\n",
    "df[df['days_employed'] > 0]['days_employed'].count()"
   ]
  },
  {
   "cell_type": "code",
   "execution_count": 28,
   "metadata": {},
   "outputs": [
    {
     "data": {
      "text/plain": [
       "3431"
      ]
     },
     "execution_count": 28,
     "metadata": {},
     "output_type": "execute_result"
    }
   ],
   "source": [
    "#checking the number of impossible values\n",
    "df[df['days_employed'] > 65*365]['days_employed'].count()"
   ]
  },
  {
   "cell_type": "markdown",
   "metadata": {},
   "source": [
    "\n",
    "There are some serious issues with the `days_employed` data. \n",
    "- There are a significant number of negative values\n",
    "- The mean number of years worked is 172.92\n",
    "- There are 2162 null values\n",
    "\n",
    "It seems unlikely that this is human entry error and more likely systematic error caused by a change in how datetime was formatted.\n",
    "\n",
    "\n",
    "These issues can be investigated further to identify if there are any patterns to these errors.\n",
    "\n"
   ]
  },
  {
   "cell_type": "code",
   "execution_count": 29,
   "metadata": {},
   "outputs": [
    {
     "data": {
      "text/plain": [
       "count    43.282683\n",
       "mean      6.443953\n",
       "std       6.309541\n",
       "min       0.066096\n",
       "25%       2.072058\n",
       "50%       4.463911\n",
       "75%       8.645462\n",
       "max      50.346201\n",
       "Name: days_employed, dtype: float64"
      ]
     },
     "execution_count": 29,
     "metadata": {},
     "output_type": "execute_result"
    }
   ],
   "source": [
    "# investigating negative values\n",
    "\n",
    "abs(df[df['days_employed'] < 0]['days_employed']).describe()/365.25"
   ]
  },
  {
   "cell_type": "markdown",
   "metadata": {},
   "source": [
    "These seem more realistic. It appears the negative values for `days_employed` are correct in their absolute values."
   ]
  },
  {
   "cell_type": "code",
   "execution_count": 30,
   "metadata": {},
   "outputs": [
    {
     "data": {
      "text/html": [
       "<div>\n",
       "<style scoped>\n",
       "    .dataframe tbody tr th:only-of-type {\n",
       "        vertical-align: middle;\n",
       "    }\n",
       "\n",
       "    .dataframe tbody tr th {\n",
       "        vertical-align: top;\n",
       "    }\n",
       "\n",
       "    .dataframe thead th {\n",
       "        text-align: right;\n",
       "    }\n",
       "</style>\n",
       "<table border=\"1\" class=\"dataframe\">\n",
       "  <thead>\n",
       "    <tr style=\"text-align: right;\">\n",
       "      <th></th>\n",
       "      <th>children</th>\n",
       "      <th>days_employed</th>\n",
       "      <th>dob_years</th>\n",
       "      <th>education</th>\n",
       "      <th>education_id</th>\n",
       "      <th>family_status</th>\n",
       "      <th>family_status_id</th>\n",
       "      <th>gender</th>\n",
       "      <th>income_type</th>\n",
       "      <th>debt</th>\n",
       "      <th>total_income</th>\n",
       "      <th>purpose</th>\n",
       "    </tr>\n",
       "  </thead>\n",
       "  <tbody>\n",
       "    <tr>\n",
       "      <td>16335</td>\n",
       "      <td>1</td>\n",
       "      <td>-18388.949901</td>\n",
       "      <td>61</td>\n",
       "      <td>secondary education</td>\n",
       "      <td>1</td>\n",
       "      <td>married</td>\n",
       "      <td>0</td>\n",
       "      <td>F</td>\n",
       "      <td>employee</td>\n",
       "      <td>0</td>\n",
       "      <td>29788.629</td>\n",
       "      <td>real estate transactions</td>\n",
       "    </tr>\n",
       "  </tbody>\n",
       "</table>\n",
       "</div>"
      ],
      "text/plain": [
       "       children  days_employed  dob_years            education  education_id  \\\n",
       "16335         1  -18388.949901         61  secondary education             1   \n",
       "\n",
       "      family_status  family_status_id gender income_type  debt  total_income  \\\n",
       "16335       married                 0      F    employee     0     29788.629   \n",
       "\n",
       "                        purpose  \n",
       "16335  real estate transactions  "
      ]
     },
     "execution_count": 30,
     "metadata": {},
     "output_type": "execute_result"
    }
   ],
   "source": [
    "# Checking the row with the highest number of days work to see if it is plausible\n",
    "\n",
    "negative_days = df[df['days_employed'] < 0]\n",
    "negative_days.loc[negative_days['days_employed'] == negative_days['days_employed'].min()]\n"
   ]
  },
  {
   "cell_type": "markdown",
   "metadata": {},
   "source": [
    "Approximate 50 years worked at age 61 is possible although unlikely.\n",
    "We can write a function to check the number of impossible values."
   ]
  },
  {
   "cell_type": "code",
   "execution_count": 31,
   "metadata": {},
   "outputs": [
    {
     "data": {
      "text/plain": [
       "possible      15733\n",
       "impossible       76\n",
       "dtype: int64"
      ]
     },
     "execution_count": 31,
     "metadata": {},
     "output_type": "execute_result"
    }
   ],
   "source": [
    "#writing a function to check wether the days_employed is possible\n",
    "def impossible_days(row):\n",
    "    years_employed = abs(row['days_employed'])/365.25\n",
    "    age = row['dob_years']\n",
    "    \n",
    "    if years_employed >= age - 12:\n",
    "        return 'impossible'\n",
    "    else:\n",
    "        return 'possible'\n",
    "    \n",
    "negative_days[['days_employed', 'dob_years']].apply(impossible_days, axis = 1).value_counts()"
   ]
  },
  {
   "cell_type": "markdown",
   "metadata": {},
   "source": [
    "There are still a small number of impossible values which could be removed.\n",
    "The rows containing positive values for `days_employed` need to be dealt with first."
   ]
  },
  {
   "cell_type": "code",
   "execution_count": 32,
   "metadata": {},
   "outputs": [
    {
     "data": {
      "text/plain": [
       "count      3431.000000\n",
       "mean     365025.901401\n",
       "std       21087.468233\n",
       "min      328728.720605\n",
       "25%      346649.346146\n",
       "50%      365286.622650\n",
       "75%      383292.791100\n",
       "max      401755.400475\n",
       "Name: days_employed, dtype: float64"
      ]
     },
     "execution_count": 32,
     "metadata": {},
     "output_type": "execute_result"
    }
   ],
   "source": [
    "# Checking positive days_employed\n",
    "\n",
    "df[df['days_employed'] > 0]['days_employed'].describe()"
   ]
  },
  {
   "cell_type": "code",
   "execution_count": 33,
   "metadata": {},
   "outputs": [
    {
     "data": {
      "text/plain": [
       "count   -325.297000\n",
       "mean      36.297901\n",
       "std     -307.640532\n",
       "min        0.000721\n",
       "25%       17.921346\n",
       "50%       36.558623\n",
       "75%       54.564791\n",
       "max       73.027400\n",
       "Name: days_employed, dtype: float64"
      ]
     },
     "execution_count": 33,
     "metadata": {},
     "output_type": "execute_result"
    }
   ],
   "source": [
    "# Checking positive days_employed years normalised to min of near 0\n",
    "\n",
    "df[df['days_employed'] > 0]['days_employed'].describe()/1000 - 328.728"
   ]
  },
  {
   "cell_type": "code",
   "execution_count": 34,
   "metadata": {},
   "outputs": [
    {
     "data": {
      "text/plain": [
       "possible      2800\n",
       "impossible     631\n",
       "dtype: int64"
      ]
     },
     "execution_count": 34,
     "metadata": {},
     "output_type": "execute_result"
    }
   ],
   "source": [
    "positive_days = df[df['days_employed'] > 0]\n",
    "def impossible_days(row):\n",
    "    years_employed = abs(row['days_employed'])/1000 - 328.728\n",
    "    age = row['dob_years']\n",
    "    \n",
    "    if years_employed >= age:\n",
    "        return 'impossible'\n",
    "    else:\n",
    "        return 'possible'\n",
    "    \n",
    "positive_days[['days_employed', 'dob_years']].apply(impossible_days, axis = 1).value_counts()"
   ]
  },
  {
   "cell_type": "markdown",
   "metadata": {},
   "source": [
    "It appears this normalisation is not correct"
   ]
  },
  {
   "cell_type": "code",
   "execution_count": 35,
   "metadata": {},
   "outputs": [
    {
     "data": {
      "text/html": [
       "<div>\n",
       "<style scoped>\n",
       "    .dataframe tbody tr th:only-of-type {\n",
       "        vertical-align: middle;\n",
       "    }\n",
       "\n",
       "    .dataframe tbody tr th {\n",
       "        vertical-align: top;\n",
       "    }\n",
       "\n",
       "    .dataframe thead th {\n",
       "        text-align: right;\n",
       "    }\n",
       "</style>\n",
       "<table border=\"1\" class=\"dataframe\">\n",
       "  <thead>\n",
       "    <tr style=\"text-align: right;\">\n",
       "      <th></th>\n",
       "      <th>count</th>\n",
       "      <th>mean</th>\n",
       "      <th>std</th>\n",
       "      <th>min</th>\n",
       "      <th>25%</th>\n",
       "      <th>50%</th>\n",
       "      <th>75%</th>\n",
       "      <th>max</th>\n",
       "    </tr>\n",
       "    <tr>\n",
       "      <th>income_type</th>\n",
       "      <th></th>\n",
       "      <th></th>\n",
       "      <th></th>\n",
       "      <th></th>\n",
       "      <th></th>\n",
       "      <th></th>\n",
       "      <th></th>\n",
       "      <th></th>\n",
       "    </tr>\n",
       "  </thead>\n",
       "  <tbody>\n",
       "    <tr>\n",
       "      <td>retiree</td>\n",
       "      <td>3429.0</td>\n",
       "      <td>365025.091981</td>\n",
       "      <td>21082.047113</td>\n",
       "      <td>328728.720605</td>\n",
       "      <td>346659.278376</td>\n",
       "      <td>365286.622650</td>\n",
       "      <td>383285.519623</td>\n",
       "      <td>401755.400475</td>\n",
       "    </tr>\n",
       "    <tr>\n",
       "      <td>unemployed</td>\n",
       "      <td>2.0</td>\n",
       "      <td>366413.652744</td>\n",
       "      <td>40855.478519</td>\n",
       "      <td>337524.466835</td>\n",
       "      <td>351969.059790</td>\n",
       "      <td>366413.652744</td>\n",
       "      <td>380858.245699</td>\n",
       "      <td>395302.838654</td>\n",
       "    </tr>\n",
       "  </tbody>\n",
       "</table>\n",
       "</div>"
      ],
      "text/plain": [
       "              count           mean           std            min  \\\n",
       "income_type                                                       \n",
       "retiree      3429.0  365025.091981  21082.047113  328728.720605   \n",
       "unemployed      2.0  366413.652744  40855.478519  337524.466835   \n",
       "\n",
       "                       25%            50%            75%            max  \n",
       "income_type                                                              \n",
       "retiree      346659.278376  365286.622650  383285.519623  401755.400475  \n",
       "unemployed   351969.059790  366413.652744  380858.245699  395302.838654  "
      ]
     },
     "execution_count": 35,
     "metadata": {},
     "output_type": "execute_result"
    }
   ],
   "source": [
    "#checking income_type of those with days_employed  >0\n",
    "df[df['days_employed']>0].groupby('income_type')['days_employed'].describe()"
   ]
  },
  {
   "cell_type": "markdown",
   "metadata": {},
   "source": [
    "It is possible that when previously stored, the `days_employed` was calculated using data in another column and at some point a change has cause a knock on effect in errors.\n",
    "\n",
    "The positive values appear to only be an issue for retirees and the unemployed\n",
    "\n",
    "Although the distribution is different to negative days, this may be an artifact of changing how data was stored or merging of different databases.\n",
    "\n",
    "\n",
    "Without further investigation into how all these errors originated it is difficult to correct them.\n",
    "I believe the impact on the analysis will be small with minimal information lost as the true number of days employed should be correlated with `dob_years`, `education`, `income_type` and `total_income` and due to the fact that `days_employed` is not one of the main factors we are investigating."
   ]
  },
  {
   "cell_type": "code",
   "execution_count": 36,
   "metadata": {
    "scrolled": true
   },
   "outputs": [
    {
     "data": {
      "text/plain": [
       "count    21402.000000\n",
       "mean        43.300206\n",
       "std         12.579055\n",
       "min          0.000000\n",
       "25%         33.000000\n",
       "50%         42.000000\n",
       "75%         53.000000\n",
       "max         75.000000\n",
       "Name: dob_years, dtype: float64"
      ]
     },
     "execution_count": 36,
     "metadata": {},
     "output_type": "execute_result"
    }
   ],
   "source": [
    "# Check the `dob_years` for suspicious values and count the percentage\n",
    "df['dob_years'].describe()"
   ]
  },
  {
   "cell_type": "code",
   "execution_count": 37,
   "metadata": {},
   "outputs": [
    {
     "data": {
      "text/html": [
       "<div>\n",
       "<style scoped>\n",
       "    .dataframe tbody tr th:only-of-type {\n",
       "        vertical-align: middle;\n",
       "    }\n",
       "\n",
       "    .dataframe tbody tr th {\n",
       "        vertical-align: top;\n",
       "    }\n",
       "\n",
       "    .dataframe thead th {\n",
       "        text-align: right;\n",
       "    }\n",
       "</style>\n",
       "<table border=\"1\" class=\"dataframe\">\n",
       "  <thead>\n",
       "    <tr style=\"text-align: right;\">\n",
       "      <th></th>\n",
       "      <th>children</th>\n",
       "      <th>days_employed</th>\n",
       "      <th>dob_years</th>\n",
       "      <th>education_id</th>\n",
       "      <th>family_status_id</th>\n",
       "      <th>debt</th>\n",
       "      <th>total_income</th>\n",
       "    </tr>\n",
       "  </thead>\n",
       "  <tbody>\n",
       "    <tr>\n",
       "      <td>count</td>\n",
       "      <td>100.000000</td>\n",
       "      <td>90.000000</td>\n",
       "      <td>100.0</td>\n",
       "      <td>100.000000</td>\n",
       "      <td>100.000000</td>\n",
       "      <td>100.00000</td>\n",
       "      <td>90.000000</td>\n",
       "    </tr>\n",
       "    <tr>\n",
       "      <td>mean</td>\n",
       "      <td>0.480000</td>\n",
       "      <td>66694.128235</td>\n",
       "      <td>0.0</td>\n",
       "      <td>0.670000</td>\n",
       "      <td>1.250000</td>\n",
       "      <td>0.08000</td>\n",
       "      <td>25260.469356</td>\n",
       "    </tr>\n",
       "    <tr>\n",
       "      <td>std</td>\n",
       "      <td>0.797471</td>\n",
       "      <td>143952.928582</td>\n",
       "      <td>0.0</td>\n",
       "      <td>0.513554</td>\n",
       "      <td>1.526698</td>\n",
       "      <td>0.27266</td>\n",
       "      <td>11946.923686</td>\n",
       "    </tr>\n",
       "    <tr>\n",
       "      <td>min</td>\n",
       "      <td>0.000000</td>\n",
       "      <td>-10689.250498</td>\n",
       "      <td>0.0</td>\n",
       "      <td>0.000000</td>\n",
       "      <td>0.000000</td>\n",
       "      <td>0.00000</td>\n",
       "      <td>5595.912000</td>\n",
       "    </tr>\n",
       "    <tr>\n",
       "      <td>25%</td>\n",
       "      <td>0.000000</td>\n",
       "      <td>-2306.285529</td>\n",
       "      <td>0.0</td>\n",
       "      <td>0.000000</td>\n",
       "      <td>0.000000</td>\n",
       "      <td>0.00000</td>\n",
       "      <td>15776.284500</td>\n",
       "    </tr>\n",
       "    <tr>\n",
       "      <td>50%</td>\n",
       "      <td>0.000000</td>\n",
       "      <td>-1121.038104</td>\n",
       "      <td>0.0</td>\n",
       "      <td>1.000000</td>\n",
       "      <td>1.000000</td>\n",
       "      <td>0.00000</td>\n",
       "      <td>23198.625500</td>\n",
       "    </tr>\n",
       "    <tr>\n",
       "      <td>75%</td>\n",
       "      <td>1.000000</td>\n",
       "      <td>-237.418881</td>\n",
       "      <td>0.0</td>\n",
       "      <td>1.000000</td>\n",
       "      <td>3.000000</td>\n",
       "      <td>0.00000</td>\n",
       "      <td>34242.114250</td>\n",
       "    </tr>\n",
       "    <tr>\n",
       "      <td>max</td>\n",
       "      <td>3.000000</td>\n",
       "      <td>400992.375704</td>\n",
       "      <td>0.0</td>\n",
       "      <td>2.000000</td>\n",
       "      <td>4.000000</td>\n",
       "      <td>1.00000</td>\n",
       "      <td>61819.782000</td>\n",
       "    </tr>\n",
       "  </tbody>\n",
       "</table>\n",
       "</div>"
      ],
      "text/plain": [
       "         children  days_employed  dob_years  education_id  family_status_id  \\\n",
       "count  100.000000      90.000000      100.0    100.000000        100.000000   \n",
       "mean     0.480000   66694.128235        0.0      0.670000          1.250000   \n",
       "std      0.797471  143952.928582        0.0      0.513554          1.526698   \n",
       "min      0.000000  -10689.250498        0.0      0.000000          0.000000   \n",
       "25%      0.000000   -2306.285529        0.0      0.000000          0.000000   \n",
       "50%      0.000000   -1121.038104        0.0      1.000000          1.000000   \n",
       "75%      1.000000    -237.418881        0.0      1.000000          3.000000   \n",
       "max      3.000000  400992.375704        0.0      2.000000          4.000000   \n",
       "\n",
       "            debt  total_income  \n",
       "count  100.00000     90.000000  \n",
       "mean     0.08000  25260.469356  \n",
       "std      0.27266  11946.923686  \n",
       "min      0.00000   5595.912000  \n",
       "25%      0.00000  15776.284500  \n",
       "50%      0.00000  23198.625500  \n",
       "75%      0.00000  34242.114250  \n",
       "max      1.00000  61819.782000  "
      ]
     },
     "execution_count": 37,
     "metadata": {},
     "output_type": "execute_result"
    }
   ],
   "source": [
    "#checking details of those with an incorrect age\n",
    "df[df['dob_years'] < 18].describe()"
   ]
  },
  {
   "cell_type": "markdown",
   "metadata": {},
   "source": [
    "Approximately 0.4% of the entries contain an impossible age, presumably due to human error. As there are no outliers in the rest of our data we can replace these entries. Age should correllate with `income_type` so it is possible to use the mean age of each `income_type`. We can also change the data type to int from float."
   ]
  },
  {
   "cell_type": "code",
   "execution_count": 38,
   "metadata": {},
   "outputs": [],
   "source": [
    "# finding the mean age for each income type and filling in erroneous values with the mean\n",
    "\n",
    "for type in df['income_type'].unique():\n",
    "    avg = df[(df['income_type'] == type) & (df['dob_years'] >= 18)]['dob_years'].mean()\n",
    "    \n",
    "    df.loc[(df['dob_years'] < 18) & (df['income_type'] == type), 'dob_years'] = avg\n"
   ]
  },
  {
   "cell_type": "code",
   "execution_count": 39,
   "metadata": {},
   "outputs": [
    {
     "data": {
      "text/html": [
       "<div>\n",
       "<style scoped>\n",
       "    .dataframe tbody tr th:only-of-type {\n",
       "        vertical-align: middle;\n",
       "    }\n",
       "\n",
       "    .dataframe tbody tr th {\n",
       "        vertical-align: top;\n",
       "    }\n",
       "\n",
       "    .dataframe thead th {\n",
       "        text-align: right;\n",
       "    }\n",
       "</style>\n",
       "<table border=\"1\" class=\"dataframe\">\n",
       "  <thead>\n",
       "    <tr style=\"text-align: right;\">\n",
       "      <th></th>\n",
       "      <th>children</th>\n",
       "      <th>days_employed</th>\n",
       "      <th>dob_years</th>\n",
       "      <th>education_id</th>\n",
       "      <th>family_status_id</th>\n",
       "      <th>debt</th>\n",
       "      <th>total_income</th>\n",
       "    </tr>\n",
       "  </thead>\n",
       "  <tbody>\n",
       "    <tr>\n",
       "      <td>count</td>\n",
       "      <td>0.0</td>\n",
       "      <td>0.0</td>\n",
       "      <td>0.0</td>\n",
       "      <td>0.0</td>\n",
       "      <td>0.0</td>\n",
       "      <td>0.0</td>\n",
       "      <td>0.0</td>\n",
       "    </tr>\n",
       "    <tr>\n",
       "      <td>mean</td>\n",
       "      <td>NaN</td>\n",
       "      <td>NaN</td>\n",
       "      <td>NaN</td>\n",
       "      <td>NaN</td>\n",
       "      <td>NaN</td>\n",
       "      <td>NaN</td>\n",
       "      <td>NaN</td>\n",
       "    </tr>\n",
       "    <tr>\n",
       "      <td>std</td>\n",
       "      <td>NaN</td>\n",
       "      <td>NaN</td>\n",
       "      <td>NaN</td>\n",
       "      <td>NaN</td>\n",
       "      <td>NaN</td>\n",
       "      <td>NaN</td>\n",
       "      <td>NaN</td>\n",
       "    </tr>\n",
       "    <tr>\n",
       "      <td>min</td>\n",
       "      <td>NaN</td>\n",
       "      <td>NaN</td>\n",
       "      <td>NaN</td>\n",
       "      <td>NaN</td>\n",
       "      <td>NaN</td>\n",
       "      <td>NaN</td>\n",
       "      <td>NaN</td>\n",
       "    </tr>\n",
       "    <tr>\n",
       "      <td>25%</td>\n",
       "      <td>NaN</td>\n",
       "      <td>NaN</td>\n",
       "      <td>NaN</td>\n",
       "      <td>NaN</td>\n",
       "      <td>NaN</td>\n",
       "      <td>NaN</td>\n",
       "      <td>NaN</td>\n",
       "    </tr>\n",
       "    <tr>\n",
       "      <td>50%</td>\n",
       "      <td>NaN</td>\n",
       "      <td>NaN</td>\n",
       "      <td>NaN</td>\n",
       "      <td>NaN</td>\n",
       "      <td>NaN</td>\n",
       "      <td>NaN</td>\n",
       "      <td>NaN</td>\n",
       "    </tr>\n",
       "    <tr>\n",
       "      <td>75%</td>\n",
       "      <td>NaN</td>\n",
       "      <td>NaN</td>\n",
       "      <td>NaN</td>\n",
       "      <td>NaN</td>\n",
       "      <td>NaN</td>\n",
       "      <td>NaN</td>\n",
       "      <td>NaN</td>\n",
       "    </tr>\n",
       "    <tr>\n",
       "      <td>max</td>\n",
       "      <td>NaN</td>\n",
       "      <td>NaN</td>\n",
       "      <td>NaN</td>\n",
       "      <td>NaN</td>\n",
       "      <td>NaN</td>\n",
       "      <td>NaN</td>\n",
       "      <td>NaN</td>\n",
       "    </tr>\n",
       "  </tbody>\n",
       "</table>\n",
       "</div>"
      ],
      "text/plain": [
       "       children  days_employed  dob_years  education_id  family_status_id  \\\n",
       "count       0.0            0.0        0.0           0.0               0.0   \n",
       "mean        NaN            NaN        NaN           NaN               NaN   \n",
       "std         NaN            NaN        NaN           NaN               NaN   \n",
       "min         NaN            NaN        NaN           NaN               NaN   \n",
       "25%         NaN            NaN        NaN           NaN               NaN   \n",
       "50%         NaN            NaN        NaN           NaN               NaN   \n",
       "75%         NaN            NaN        NaN           NaN               NaN   \n",
       "max         NaN            NaN        NaN           NaN               NaN   \n",
       "\n",
       "       debt  total_income  \n",
       "count   0.0           0.0  \n",
       "mean    NaN           NaN  \n",
       "std     NaN           NaN  \n",
       "min     NaN           NaN  \n",
       "25%     NaN           NaN  \n",
       "50%     NaN           NaN  \n",
       "75%     NaN           NaN  \n",
       "max     NaN           NaN  "
      ]
     },
     "execution_count": 39,
     "metadata": {},
     "output_type": "execute_result"
    }
   ],
   "source": [
    "# Check the result - make sure it's fixed\n",
    "df[df['dob_years'] < 18].describe()"
   ]
  },
  {
   "cell_type": "code",
   "execution_count": 40,
   "metadata": {},
   "outputs": [
    {
     "data": {
      "text/plain": [
       "count    21402.000000\n",
       "mean        43.503925\n",
       "std         12.235540\n",
       "min         19.000000\n",
       "25%         34.000000\n",
       "50%         43.000000\n",
       "75%         53.000000\n",
       "max         75.000000\n",
       "Name: dob_years, dtype: float64"
      ]
     },
     "execution_count": 40,
     "metadata": {},
     "output_type": "execute_result"
    }
   ],
   "source": [
    "#converting dob_years to int\n",
    "\n",
    "df = df.astype({'dob_years': int}, errors='ignore') \n",
    "\n",
    "df['dob_years'].describe()"
   ]
  },
  {
   "cell_type": "markdown",
   "metadata": {},
   "source": [
    "Now let's check the `family_status` column. "
   ]
  },
  {
   "cell_type": "code",
   "execution_count": 41,
   "metadata": {},
   "outputs": [
    {
     "data": {
      "text/plain": [
       "array(['married', 'civil partnership', 'widow / widower', 'divorced',\n",
       "       'unmarried'], dtype=object)"
      ]
     },
     "execution_count": 41,
     "metadata": {},
     "output_type": "execute_result"
    }
   ],
   "source": [
    "# Let's see the details for the family_status column\n",
    "\n",
    "df['family_status'].unique()"
   ]
  },
  {
   "cell_type": "code",
   "execution_count": 42,
   "metadata": {},
   "outputs": [
    {
     "data": {
      "text/plain": [
       "married              12302\n",
       "civil partnership     4160\n",
       "unmarried             2799\n",
       "divorced              1189\n",
       "widow / widower        952\n",
       "Name: family_status, dtype: int64"
      ]
     },
     "execution_count": 42,
     "metadata": {},
     "output_type": "execute_result"
    }
   ],
   "source": [
    "df['family_status'].value_counts()"
   ]
  },
  {
   "cell_type": "markdown",
   "metadata": {},
   "source": [
    "No obvious issues with `family_status` column, it can remain unchanged"
   ]
  },
  {
   "cell_type": "markdown",
   "metadata": {},
   "source": [
    "Now let's check the `gender` column."
   ]
  },
  {
   "cell_type": "code",
   "execution_count": 43,
   "metadata": {},
   "outputs": [
    {
     "data": {
      "text/plain": [
       "array(['F', 'M', 'XNA'], dtype=object)"
      ]
     },
     "execution_count": 43,
     "metadata": {},
     "output_type": "execute_result"
    }
   ],
   "source": [
    "# Let's see the values in the column\n",
    "df['gender'].unique()"
   ]
  },
  {
   "cell_type": "code",
   "execution_count": 44,
   "metadata": {},
   "outputs": [
    {
     "data": {
      "text/plain": [
       "F      14154\n",
       "M       7247\n",
       "XNA        1\n",
       "Name: gender, dtype: int64"
      ]
     },
     "execution_count": 44,
     "metadata": {},
     "output_type": "execute_result"
    }
   ],
   "source": [
    "#checking the number of XNA\n",
    "df['gender'].value_counts()"
   ]
  },
  {
   "cell_type": "markdown",
   "metadata": {},
   "source": [
    "As there's only one `XNA` we can remove it without impacting analysis"
   ]
  },
  {
   "cell_type": "code",
   "execution_count": 45,
   "metadata": {},
   "outputs": [],
   "source": [
    "# Address the problematic values, if they exist\n",
    "df = df[df['gender'] != 'XNA']"
   ]
  },
  {
   "cell_type": "code",
   "execution_count": 46,
   "metadata": {},
   "outputs": [
    {
     "data": {
      "text/plain": [
       "F    14154\n",
       "M     7247\n",
       "Name: gender, dtype: int64"
      ]
     },
     "execution_count": 46,
     "metadata": {},
     "output_type": "execute_result"
    }
   ],
   "source": [
    "# Check the result - make sure it's fixed\n",
    "\n",
    "df['gender'].value_counts()"
   ]
  },
  {
   "cell_type": "markdown",
   "metadata": {},
   "source": [
    "Now let's check the `income_type` column."
   ]
  },
  {
   "cell_type": "code",
   "execution_count": 47,
   "metadata": {},
   "outputs": [
    {
     "data": {
      "text/plain": [
       "array(['employee', 'retiree', 'business', 'civil servant', 'unemployed',\n",
       "       'entrepreneur', 'student', 'paternity / maternity leave'],\n",
       "      dtype=object)"
      ]
     },
     "execution_count": 47,
     "metadata": {},
     "output_type": "execute_result"
    }
   ],
   "source": [
    "# Let's see the values in the column\n",
    "\n",
    "df['income_type'].unique()"
   ]
  },
  {
   "cell_type": "code",
   "execution_count": 48,
   "metadata": {},
   "outputs": [
    {
     "data": {
      "text/plain": [
       "employee                       11050\n",
       "business                        5053\n",
       "retiree                         3839\n",
       "civil servant                   1453\n",
       "unemployed                         2\n",
       "entrepreneur                       2\n",
       "student                            1\n",
       "paternity / maternity leave        1\n",
       "Name: income_type, dtype: int64"
      ]
     },
     "execution_count": 48,
     "metadata": {},
     "output_type": "execute_result"
    }
   ],
   "source": [
    "df['income_type'].value_counts()"
   ]
  },
  {
   "cell_type": "markdown",
   "metadata": {},
   "source": [
    "No noticable issues with `income_type`."
   ]
  },
  {
   "cell_type": "markdown",
   "metadata": {},
   "source": [
    "Now let's see if we have any duplicates in our data. "
   ]
  },
  {
   "cell_type": "code",
   "execution_count": 49,
   "metadata": {},
   "outputs": [
    {
     "data": {
      "text/plain": [
       "71"
      ]
     },
     "execution_count": 49,
     "metadata": {},
     "output_type": "execute_result"
    }
   ],
   "source": [
    "# Checking duplicates\n",
    "df.duplicated().sum()\n"
   ]
  },
  {
   "cell_type": "code",
   "execution_count": 50,
   "metadata": {
    "scrolled": true
   },
   "outputs": [
    {
     "data": {
      "text/html": [
       "<div>\n",
       "<style scoped>\n",
       "    .dataframe tbody tr th:only-of-type {\n",
       "        vertical-align: middle;\n",
       "    }\n",
       "\n",
       "    .dataframe tbody tr th {\n",
       "        vertical-align: top;\n",
       "    }\n",
       "\n",
       "    .dataframe thead th {\n",
       "        text-align: right;\n",
       "    }\n",
       "</style>\n",
       "<table border=\"1\" class=\"dataframe\">\n",
       "  <thead>\n",
       "    <tr style=\"text-align: right;\">\n",
       "      <th></th>\n",
       "      <th>children</th>\n",
       "      <th>days_employed</th>\n",
       "      <th>dob_years</th>\n",
       "      <th>education</th>\n",
       "      <th>education_id</th>\n",
       "      <th>family_status</th>\n",
       "      <th>family_status_id</th>\n",
       "      <th>gender</th>\n",
       "      <th>income_type</th>\n",
       "      <th>debt</th>\n",
       "      <th>total_income</th>\n",
       "      <th>purpose</th>\n",
       "    </tr>\n",
       "  </thead>\n",
       "  <tbody>\n",
       "    <tr>\n",
       "      <td>120</td>\n",
       "      <td>0</td>\n",
       "      <td>NaN</td>\n",
       "      <td>46</td>\n",
       "      <td>secondary education</td>\n",
       "      <td>1</td>\n",
       "      <td>married</td>\n",
       "      <td>0</td>\n",
       "      <td>F</td>\n",
       "      <td>employee</td>\n",
       "      <td>0</td>\n",
       "      <td>NaN</td>\n",
       "      <td>university education</td>\n",
       "    </tr>\n",
       "    <tr>\n",
       "      <td>520</td>\n",
       "      <td>0</td>\n",
       "      <td>NaN</td>\n",
       "      <td>35</td>\n",
       "      <td>secondary education</td>\n",
       "      <td>1</td>\n",
       "      <td>civil partnership</td>\n",
       "      <td>1</td>\n",
       "      <td>F</td>\n",
       "      <td>employee</td>\n",
       "      <td>0</td>\n",
       "      <td>NaN</td>\n",
       "      <td>to have a wedding</td>\n",
       "    </tr>\n",
       "    <tr>\n",
       "      <td>541</td>\n",
       "      <td>0</td>\n",
       "      <td>NaN</td>\n",
       "      <td>57</td>\n",
       "      <td>secondary education</td>\n",
       "      <td>1</td>\n",
       "      <td>married</td>\n",
       "      <td>0</td>\n",
       "      <td>F</td>\n",
       "      <td>employee</td>\n",
       "      <td>0</td>\n",
       "      <td>NaN</td>\n",
       "      <td>second-hand car purchase</td>\n",
       "    </tr>\n",
       "    <tr>\n",
       "      <td>554</td>\n",
       "      <td>0</td>\n",
       "      <td>NaN</td>\n",
       "      <td>60</td>\n",
       "      <td>secondary education</td>\n",
       "      <td>1</td>\n",
       "      <td>married</td>\n",
       "      <td>0</td>\n",
       "      <td>M</td>\n",
       "      <td>employee</td>\n",
       "      <td>0</td>\n",
       "      <td>NaN</td>\n",
       "      <td>buy real estate</td>\n",
       "    </tr>\n",
       "    <tr>\n",
       "      <td>680</td>\n",
       "      <td>1</td>\n",
       "      <td>NaN</td>\n",
       "      <td>30</td>\n",
       "      <td>bachelor's degree</td>\n",
       "      <td>0</td>\n",
       "      <td>married</td>\n",
       "      <td>0</td>\n",
       "      <td>F</td>\n",
       "      <td>civil servant</td>\n",
       "      <td>0</td>\n",
       "      <td>NaN</td>\n",
       "      <td>purchase of the house for my family</td>\n",
       "    </tr>\n",
       "    <tr>\n",
       "      <td>1005</td>\n",
       "      <td>0</td>\n",
       "      <td>NaN</td>\n",
       "      <td>62</td>\n",
       "      <td>secondary education</td>\n",
       "      <td>1</td>\n",
       "      <td>married</td>\n",
       "      <td>0</td>\n",
       "      <td>F</td>\n",
       "      <td>retiree</td>\n",
       "      <td>0</td>\n",
       "      <td>NaN</td>\n",
       "      <td>housing renovation</td>\n",
       "    </tr>\n",
       "    <tr>\n",
       "      <td>1191</td>\n",
       "      <td>0</td>\n",
       "      <td>NaN</td>\n",
       "      <td>61</td>\n",
       "      <td>secondary education</td>\n",
       "      <td>1</td>\n",
       "      <td>married</td>\n",
       "      <td>0</td>\n",
       "      <td>F</td>\n",
       "      <td>retiree</td>\n",
       "      <td>0</td>\n",
       "      <td>NaN</td>\n",
       "      <td>real estate transactions</td>\n",
       "    </tr>\n",
       "    <tr>\n",
       "      <td>1431</td>\n",
       "      <td>0</td>\n",
       "      <td>NaN</td>\n",
       "      <td>41</td>\n",
       "      <td>secondary education</td>\n",
       "      <td>1</td>\n",
       "      <td>married</td>\n",
       "      <td>0</td>\n",
       "      <td>F</td>\n",
       "      <td>employee</td>\n",
       "      <td>0</td>\n",
       "      <td>NaN</td>\n",
       "      <td>purchase of the house for my family</td>\n",
       "    </tr>\n",
       "    <tr>\n",
       "      <td>1511</td>\n",
       "      <td>0</td>\n",
       "      <td>NaN</td>\n",
       "      <td>58</td>\n",
       "      <td>bachelor's degree</td>\n",
       "      <td>0</td>\n",
       "      <td>unmarried</td>\n",
       "      <td>4</td>\n",
       "      <td>F</td>\n",
       "      <td>retiree</td>\n",
       "      <td>0</td>\n",
       "      <td>NaN</td>\n",
       "      <td>supplementary education</td>\n",
       "    </tr>\n",
       "    <tr>\n",
       "      <td>1681</td>\n",
       "      <td>0</td>\n",
       "      <td>NaN</td>\n",
       "      <td>57</td>\n",
       "      <td>secondary education</td>\n",
       "      <td>1</td>\n",
       "      <td>civil partnership</td>\n",
       "      <td>1</td>\n",
       "      <td>F</td>\n",
       "      <td>retiree</td>\n",
       "      <td>0</td>\n",
       "      <td>NaN</td>\n",
       "      <td>having a wedding</td>\n",
       "    </tr>\n",
       "    <tr>\n",
       "      <td>2052</td>\n",
       "      <td>0</td>\n",
       "      <td>NaN</td>\n",
       "      <td>58</td>\n",
       "      <td>secondary education</td>\n",
       "      <td>1</td>\n",
       "      <td>civil partnership</td>\n",
       "      <td>1</td>\n",
       "      <td>F</td>\n",
       "      <td>retiree</td>\n",
       "      <td>0</td>\n",
       "      <td>NaN</td>\n",
       "      <td>to have a wedding</td>\n",
       "    </tr>\n",
       "    <tr>\n",
       "      <td>2254</td>\n",
       "      <td>0</td>\n",
       "      <td>NaN</td>\n",
       "      <td>54</td>\n",
       "      <td>bachelor's degree</td>\n",
       "      <td>0</td>\n",
       "      <td>married</td>\n",
       "      <td>0</td>\n",
       "      <td>M</td>\n",
       "      <td>business</td>\n",
       "      <td>0</td>\n",
       "      <td>NaN</td>\n",
       "      <td>transactions with commercial real estate</td>\n",
       "    </tr>\n",
       "    <tr>\n",
       "      <td>2545</td>\n",
       "      <td>0</td>\n",
       "      <td>NaN</td>\n",
       "      <td>60</td>\n",
       "      <td>secondary education</td>\n",
       "      <td>1</td>\n",
       "      <td>married</td>\n",
       "      <td>0</td>\n",
       "      <td>F</td>\n",
       "      <td>retiree</td>\n",
       "      <td>0</td>\n",
       "      <td>NaN</td>\n",
       "      <td>to become educated</td>\n",
       "    </tr>\n",
       "    <tr>\n",
       "      <td>2596</td>\n",
       "      <td>0</td>\n",
       "      <td>NaN</td>\n",
       "      <td>60</td>\n",
       "      <td>secondary education</td>\n",
       "      <td>1</td>\n",
       "      <td>civil partnership</td>\n",
       "      <td>1</td>\n",
       "      <td>F</td>\n",
       "      <td>retiree</td>\n",
       "      <td>0</td>\n",
       "      <td>NaN</td>\n",
       "      <td>wedding ceremony</td>\n",
       "    </tr>\n",
       "    <tr>\n",
       "      <td>2849</td>\n",
       "      <td>0</td>\n",
       "      <td>NaN</td>\n",
       "      <td>41</td>\n",
       "      <td>secondary education</td>\n",
       "      <td>1</td>\n",
       "      <td>married</td>\n",
       "      <td>0</td>\n",
       "      <td>F</td>\n",
       "      <td>employee</td>\n",
       "      <td>0</td>\n",
       "      <td>NaN</td>\n",
       "      <td>purchase of the house for my family</td>\n",
       "    </tr>\n",
       "  </tbody>\n",
       "</table>\n",
       "</div>"
      ],
      "text/plain": [
       "      children  days_employed  dob_years            education  education_id  \\\n",
       "120          0            NaN         46  secondary education             1   \n",
       "520          0            NaN         35  secondary education             1   \n",
       "541          0            NaN         57  secondary education             1   \n",
       "554          0            NaN         60  secondary education             1   \n",
       "680          1            NaN         30    bachelor's degree             0   \n",
       "1005         0            NaN         62  secondary education             1   \n",
       "1191         0            NaN         61  secondary education             1   \n",
       "1431         0            NaN         41  secondary education             1   \n",
       "1511         0            NaN         58    bachelor's degree             0   \n",
       "1681         0            NaN         57  secondary education             1   \n",
       "2052         0            NaN         58  secondary education             1   \n",
       "2254         0            NaN         54    bachelor's degree             0   \n",
       "2545         0            NaN         60  secondary education             1   \n",
       "2596         0            NaN         60  secondary education             1   \n",
       "2849         0            NaN         41  secondary education             1   \n",
       "\n",
       "          family_status  family_status_id gender    income_type  debt  \\\n",
       "120             married                 0      F       employee     0   \n",
       "520   civil partnership                 1      F       employee     0   \n",
       "541             married                 0      F       employee     0   \n",
       "554             married                 0      M       employee     0   \n",
       "680             married                 0      F  civil servant     0   \n",
       "1005            married                 0      F        retiree     0   \n",
       "1191            married                 0      F        retiree     0   \n",
       "1431            married                 0      F       employee     0   \n",
       "1511          unmarried                 4      F        retiree     0   \n",
       "1681  civil partnership                 1      F        retiree     0   \n",
       "2052  civil partnership                 1      F        retiree     0   \n",
       "2254            married                 0      M       business     0   \n",
       "2545            married                 0      F        retiree     0   \n",
       "2596  civil partnership                 1      F        retiree     0   \n",
       "2849            married                 0      F       employee     0   \n",
       "\n",
       "      total_income                                   purpose  \n",
       "120            NaN                      university education  \n",
       "520            NaN                         to have a wedding  \n",
       "541            NaN                  second-hand car purchase  \n",
       "554            NaN                           buy real estate  \n",
       "680            NaN       purchase of the house for my family  \n",
       "1005           NaN                        housing renovation  \n",
       "1191           NaN                  real estate transactions  \n",
       "1431           NaN       purchase of the house for my family  \n",
       "1511           NaN                   supplementary education  \n",
       "1681           NaN                          having a wedding  \n",
       "2052           NaN                         to have a wedding  \n",
       "2254           NaN  transactions with commercial real estate  \n",
       "2545           NaN                        to become educated  \n",
       "2596           NaN                          wedding ceremony  \n",
       "2849           NaN       purchase of the house for my family  "
      ]
     },
     "execution_count": 50,
     "metadata": {},
     "output_type": "execute_result"
    }
   ],
   "source": [
    "df[df.duplicated(keep=False)].head(15)"
   ]
  },
  {
   "cell_type": "markdown",
   "metadata": {},
   "source": [
    "Although it is possible for 2 clients to have identical characteristics, it is still unlikely. \n",
    "Thus we can remove the small number of duplicate rows."
   ]
  },
  {
   "cell_type": "code",
   "execution_count": 51,
   "metadata": {},
   "outputs": [],
   "source": [
    "# Address the duplicates, if they exist\n",
    "df = df.drop_duplicates().reset_index(drop = True)"
   ]
  },
  {
   "cell_type": "code",
   "execution_count": 52,
   "metadata": {},
   "outputs": [
    {
     "data": {
      "text/plain": [
       "0"
      ]
     },
     "execution_count": 52,
     "metadata": {},
     "output_type": "execute_result"
    }
   ],
   "source": [
    "# Last check whether we have any duplicates\n",
    "df.duplicated().sum()"
   ]
  },
  {
   "cell_type": "code",
   "execution_count": 53,
   "metadata": {},
   "outputs": [
    {
     "data": {
      "text/html": [
       "<div>\n",
       "<style scoped>\n",
       "    .dataframe tbody tr th:only-of-type {\n",
       "        vertical-align: middle;\n",
       "    }\n",
       "\n",
       "    .dataframe tbody tr th {\n",
       "        vertical-align: top;\n",
       "    }\n",
       "\n",
       "    .dataframe thead th {\n",
       "        text-align: right;\n",
       "    }\n",
       "</style>\n",
       "<table border=\"1\" class=\"dataframe\">\n",
       "  <thead>\n",
       "    <tr style=\"text-align: right;\">\n",
       "      <th></th>\n",
       "      <th>children</th>\n",
       "      <th>days_employed</th>\n",
       "      <th>dob_years</th>\n",
       "      <th>education_id</th>\n",
       "      <th>family_status_id</th>\n",
       "      <th>debt</th>\n",
       "      <th>total_income</th>\n",
       "    </tr>\n",
       "  </thead>\n",
       "  <tbody>\n",
       "    <tr>\n",
       "      <td>count</td>\n",
       "      <td>21330.000000</td>\n",
       "      <td>19239.000000</td>\n",
       "      <td>21330.000000</td>\n",
       "      <td>21330.000000</td>\n",
       "      <td>21330.000000</td>\n",
       "      <td>21330.000000</td>\n",
       "      <td>19239.000000</td>\n",
       "    </tr>\n",
       "    <tr>\n",
       "      <td>mean</td>\n",
       "      <td>0.474027</td>\n",
       "      <td>63163.226277</td>\n",
       "      <td>43.483263</td>\n",
       "      <td>0.816925</td>\n",
       "      <td>0.974496</td>\n",
       "      <td>0.081200</td>\n",
       "      <td>26791.503175</td>\n",
       "    </tr>\n",
       "    <tr>\n",
       "      <td>std</td>\n",
       "      <td>0.752389</td>\n",
       "      <td>140931.814378</td>\n",
       "      <td>12.230445</td>\n",
       "      <td>0.549235</td>\n",
       "      <td>1.421820</td>\n",
       "      <td>0.273149</td>\n",
       "      <td>16497.194890</td>\n",
       "    </tr>\n",
       "    <tr>\n",
       "      <td>min</td>\n",
       "      <td>0.000000</td>\n",
       "      <td>-18388.949901</td>\n",
       "      <td>19.000000</td>\n",
       "      <td>0.000000</td>\n",
       "      <td>0.000000</td>\n",
       "      <td>0.000000</td>\n",
       "      <td>3306.762000</td>\n",
       "    </tr>\n",
       "    <tr>\n",
       "      <td>25%</td>\n",
       "      <td>0.000000</td>\n",
       "      <td>-2747.256509</td>\n",
       "      <td>33.000000</td>\n",
       "      <td>1.000000</td>\n",
       "      <td>0.000000</td>\n",
       "      <td>0.000000</td>\n",
       "      <td>16479.999500</td>\n",
       "    </tr>\n",
       "    <tr>\n",
       "      <td>50%</td>\n",
       "      <td>0.000000</td>\n",
       "      <td>-1203.830172</td>\n",
       "      <td>43.000000</td>\n",
       "      <td>1.000000</td>\n",
       "      <td>0.000000</td>\n",
       "      <td>0.000000</td>\n",
       "      <td>23202.870000</td>\n",
       "    </tr>\n",
       "    <tr>\n",
       "      <td>75%</td>\n",
       "      <td>1.000000</td>\n",
       "      <td>-289.734347</td>\n",
       "      <td>53.000000</td>\n",
       "      <td>1.000000</td>\n",
       "      <td>1.000000</td>\n",
       "      <td>0.000000</td>\n",
       "      <td>32549.611000</td>\n",
       "    </tr>\n",
       "    <tr>\n",
       "      <td>max</td>\n",
       "      <td>5.000000</td>\n",
       "      <td>401755.400475</td>\n",
       "      <td>75.000000</td>\n",
       "      <td>4.000000</td>\n",
       "      <td>4.000000</td>\n",
       "      <td>1.000000</td>\n",
       "      <td>362496.645000</td>\n",
       "    </tr>\n",
       "  </tbody>\n",
       "</table>\n",
       "</div>"
      ],
      "text/plain": [
       "           children  days_employed     dob_years  education_id  \\\n",
       "count  21330.000000   19239.000000  21330.000000  21330.000000   \n",
       "mean       0.474027   63163.226277     43.483263      0.816925   \n",
       "std        0.752389  140931.814378     12.230445      0.549235   \n",
       "min        0.000000  -18388.949901     19.000000      0.000000   \n",
       "25%        0.000000   -2747.256509     33.000000      1.000000   \n",
       "50%        0.000000   -1203.830172     43.000000      1.000000   \n",
       "75%        1.000000    -289.734347     53.000000      1.000000   \n",
       "max        5.000000  401755.400475     75.000000      4.000000   \n",
       "\n",
       "       family_status_id          debt   total_income  \n",
       "count      21330.000000  21330.000000   19239.000000  \n",
       "mean           0.974496      0.081200   26791.503175  \n",
       "std            1.421820      0.273149   16497.194890  \n",
       "min            0.000000      0.000000    3306.762000  \n",
       "25%            0.000000      0.000000   16479.999500  \n",
       "50%            0.000000      0.000000   23202.870000  \n",
       "75%            1.000000      0.000000   32549.611000  \n",
       "max            4.000000      1.000000  362496.645000  "
      ]
     },
     "execution_count": 53,
     "metadata": {},
     "output_type": "execute_result"
    }
   ],
   "source": [
    "# checking detail of the new dataset\n",
    "df.describe()"
   ]
  },
  {
   "cell_type": "markdown",
   "metadata": {},
   "source": [
    "\n",
    "\n",
    "Having correct the previously mentioned issues and removing duplicates, in total we have removed 177 values, approximately 0.82% of the data."
   ]
  },
  {
   "cell_type": "markdown",
   "metadata": {},
   "source": [
    "# 3. Working with missing values"
   ]
  },
  {
   "cell_type": "markdown",
   "metadata": {},
   "source": [
    "### Restoring missing values in `total_income`"
   ]
  },
  {
   "cell_type": "markdown",
   "metadata": {},
   "source": [
    "\n",
    "We need to address missing values in `total_income` and `days_employed`. \n",
    "We can fix them by creating categories and then filling in missing data using averages from these categories.\n",
    "\n",
    "We can first start by creating an age category."
   ]
  },
  {
   "cell_type": "code",
   "execution_count": 54,
   "metadata": {},
   "outputs": [],
   "source": [
    "# Let's write a function that calculates the age category\n",
    "def age_group(age):\n",
    "    if age <25:\n",
    "        return '0-25'\n",
    "    elif age >=25 and age <=40:\n",
    "        return '25-40'\n",
    "    elif age >=40 and age <=60:\n",
    "        return '40-60'\n",
    "    else:\n",
    "        return '60+' \n",
    "    "
   ]
  },
  {
   "cell_type": "code",
   "execution_count": 55,
   "metadata": {},
   "outputs": [
    {
     "name": "stdout",
     "output_type": "stream",
     "text": [
      "25-40\n",
      "0-25\n",
      "40-60\n",
      "60+\n"
     ]
    }
   ],
   "source": [
    "# Test if the function works\n",
    "print(age_group(35))\n",
    "print(age_group(19))\n",
    "print(age_group(55))\n",
    "print(age_group(66))"
   ]
  },
  {
   "cell_type": "code",
   "execution_count": 56,
   "metadata": {},
   "outputs": [],
   "source": [
    "# Creating new column based on function\n",
    "df['age_group'] = df['dob_years'].apply(age_group)\n"
   ]
  },
  {
   "cell_type": "code",
   "execution_count": 57,
   "metadata": {},
   "outputs": [
    {
     "data": {
      "text/plain": [
       "40-60    9741\n",
       "25-40    8601\n",
       "60+      2118\n",
       "0-25      870\n",
       "Name: age_group, dtype: int64"
      ]
     },
     "execution_count": 57,
     "metadata": {},
     "output_type": "execute_result"
    }
   ],
   "source": [
    "# Checking how values in the new column\n",
    "df['age_group'].value_counts()\n"
   ]
  },
  {
   "attachments": {
    "5e07b10b.png": {
     "image/png": "[encoded data removed]"
    }
   },
   "cell_type": "markdown",
   "metadata": {},
   "source": [
    "\n",
    "Three of the 3 most important factors determining `total_income` are age, sector and education level.\n",
    "\n",
    "For example, from he United Kingdom:\n",
    "\n",
    "\n",
    "![5e07b10b.png](attachment:5e07b10b.png)\n",
    "\n",
    "Source: [https://www.ons.gov.uk/employmentandlabourmarket/peopleinwork/earningsandworkinghours/articles/analysisoffactorsaffectingearningsusingannualsurveyofhoursandearnings/2016](https://www.ons.gov.uk/employmentandlabourmarket/peopleinwork/earningsandworkinghours/articles/analysisoffactorsaffectingearningsusingannualsurveyofhoursandearnings/2016)\n",
    "\n",
    "\n",
    "![a](https://www.statista.com/graphic/1/281936/average-salary-by-education-level-in-the-united-kingdom-uk.jpg)\n",
    "\n",
    "Source: [https://www.statista.com/statistics/281936/average-salary-by-education-level-in-the-united-kingdom-uk/](https://www.statista.com/statistics/281936/average-salary-by-education-level-in-the-united-kingdom-uk/)\n"
   ]
  },
  {
   "cell_type": "markdown",
   "metadata": {},
   "source": [
    "We can create a table that doesn't contain missing values and use data from this to fill in missing values in our dataset."
   ]
  },
  {
   "cell_type": "code",
   "execution_count": 58,
   "metadata": {},
   "outputs": [
    {
     "data": {
      "text/html": [
       "<div>\n",
       "<style scoped>\n",
       "    .dataframe tbody tr th:only-of-type {\n",
       "        vertical-align: middle;\n",
       "    }\n",
       "\n",
       "    .dataframe tbody tr th {\n",
       "        vertical-align: top;\n",
       "    }\n",
       "\n",
       "    .dataframe thead th {\n",
       "        text-align: right;\n",
       "    }\n",
       "</style>\n",
       "<table border=\"1\" class=\"dataframe\">\n",
       "  <thead>\n",
       "    <tr style=\"text-align: right;\">\n",
       "      <th></th>\n",
       "      <th>children</th>\n",
       "      <th>days_employed</th>\n",
       "      <th>dob_years</th>\n",
       "      <th>education</th>\n",
       "      <th>education_id</th>\n",
       "      <th>family_status</th>\n",
       "      <th>family_status_id</th>\n",
       "      <th>gender</th>\n",
       "      <th>income_type</th>\n",
       "      <th>debt</th>\n",
       "      <th>total_income</th>\n",
       "      <th>purpose</th>\n",
       "      <th>age_group</th>\n",
       "    </tr>\n",
       "  </thead>\n",
       "  <tbody>\n",
       "    <tr>\n",
       "      <td>0</td>\n",
       "      <td>1</td>\n",
       "      <td>-8437.673028</td>\n",
       "      <td>42</td>\n",
       "      <td>bachelor's degree</td>\n",
       "      <td>0</td>\n",
       "      <td>married</td>\n",
       "      <td>0</td>\n",
       "      <td>F</td>\n",
       "      <td>employee</td>\n",
       "      <td>0</td>\n",
       "      <td>40620.102</td>\n",
       "      <td>purchase of the house</td>\n",
       "      <td>40-60</td>\n",
       "    </tr>\n",
       "    <tr>\n",
       "      <td>1</td>\n",
       "      <td>1</td>\n",
       "      <td>-4024.803754</td>\n",
       "      <td>36</td>\n",
       "      <td>secondary education</td>\n",
       "      <td>1</td>\n",
       "      <td>married</td>\n",
       "      <td>0</td>\n",
       "      <td>F</td>\n",
       "      <td>employee</td>\n",
       "      <td>0</td>\n",
       "      <td>17932.802</td>\n",
       "      <td>car purchase</td>\n",
       "      <td>25-40</td>\n",
       "    </tr>\n",
       "    <tr>\n",
       "      <td>2</td>\n",
       "      <td>0</td>\n",
       "      <td>-5623.422610</td>\n",
       "      <td>33</td>\n",
       "      <td>secondary education</td>\n",
       "      <td>1</td>\n",
       "      <td>married</td>\n",
       "      <td>0</td>\n",
       "      <td>M</td>\n",
       "      <td>employee</td>\n",
       "      <td>0</td>\n",
       "      <td>23341.752</td>\n",
       "      <td>purchase of the house</td>\n",
       "      <td>25-40</td>\n",
       "    </tr>\n",
       "    <tr>\n",
       "      <td>3</td>\n",
       "      <td>3</td>\n",
       "      <td>-4124.747207</td>\n",
       "      <td>32</td>\n",
       "      <td>secondary education</td>\n",
       "      <td>1</td>\n",
       "      <td>married</td>\n",
       "      <td>0</td>\n",
       "      <td>M</td>\n",
       "      <td>employee</td>\n",
       "      <td>0</td>\n",
       "      <td>42820.568</td>\n",
       "      <td>supplementary education</td>\n",
       "      <td>25-40</td>\n",
       "    </tr>\n",
       "    <tr>\n",
       "      <td>4</td>\n",
       "      <td>0</td>\n",
       "      <td>340266.072047</td>\n",
       "      <td>53</td>\n",
       "      <td>secondary education</td>\n",
       "      <td>1</td>\n",
       "      <td>civil partnership</td>\n",
       "      <td>1</td>\n",
       "      <td>F</td>\n",
       "      <td>retiree</td>\n",
       "      <td>0</td>\n",
       "      <td>25378.572</td>\n",
       "      <td>to have a wedding</td>\n",
       "      <td>40-60</td>\n",
       "    </tr>\n",
       "    <tr>\n",
       "      <td>5</td>\n",
       "      <td>0</td>\n",
       "      <td>-926.185831</td>\n",
       "      <td>27</td>\n",
       "      <td>bachelor's degree</td>\n",
       "      <td>0</td>\n",
       "      <td>civil partnership</td>\n",
       "      <td>1</td>\n",
       "      <td>M</td>\n",
       "      <td>business</td>\n",
       "      <td>0</td>\n",
       "      <td>40922.170</td>\n",
       "      <td>purchase of the house</td>\n",
       "      <td>25-40</td>\n",
       "    </tr>\n",
       "    <tr>\n",
       "      <td>6</td>\n",
       "      <td>0</td>\n",
       "      <td>-2879.202052</td>\n",
       "      <td>43</td>\n",
       "      <td>bachelor's degree</td>\n",
       "      <td>0</td>\n",
       "      <td>married</td>\n",
       "      <td>0</td>\n",
       "      <td>F</td>\n",
       "      <td>business</td>\n",
       "      <td>0</td>\n",
       "      <td>38484.156</td>\n",
       "      <td>housing transactions</td>\n",
       "      <td>40-60</td>\n",
       "    </tr>\n",
       "    <tr>\n",
       "      <td>7</td>\n",
       "      <td>0</td>\n",
       "      <td>-152.779569</td>\n",
       "      <td>50</td>\n",
       "      <td>secondary education</td>\n",
       "      <td>1</td>\n",
       "      <td>married</td>\n",
       "      <td>0</td>\n",
       "      <td>M</td>\n",
       "      <td>employee</td>\n",
       "      <td>0</td>\n",
       "      <td>21731.829</td>\n",
       "      <td>education</td>\n",
       "      <td>40-60</td>\n",
       "    </tr>\n",
       "    <tr>\n",
       "      <td>8</td>\n",
       "      <td>2</td>\n",
       "      <td>-6929.865299</td>\n",
       "      <td>35</td>\n",
       "      <td>bachelor's degree</td>\n",
       "      <td>0</td>\n",
       "      <td>civil partnership</td>\n",
       "      <td>1</td>\n",
       "      <td>F</td>\n",
       "      <td>employee</td>\n",
       "      <td>0</td>\n",
       "      <td>15337.093</td>\n",
       "      <td>having a wedding</td>\n",
       "      <td>25-40</td>\n",
       "    </tr>\n",
       "    <tr>\n",
       "      <td>9</td>\n",
       "      <td>0</td>\n",
       "      <td>-2188.756445</td>\n",
       "      <td>41</td>\n",
       "      <td>secondary education</td>\n",
       "      <td>1</td>\n",
       "      <td>married</td>\n",
       "      <td>0</td>\n",
       "      <td>M</td>\n",
       "      <td>employee</td>\n",
       "      <td>0</td>\n",
       "      <td>23108.150</td>\n",
       "      <td>purchase of the house for my family</td>\n",
       "      <td>40-60</td>\n",
       "    </tr>\n",
       "  </tbody>\n",
       "</table>\n",
       "</div>"
      ],
      "text/plain": [
       "   children  days_employed  dob_years            education  education_id  \\\n",
       "0         1   -8437.673028         42    bachelor's degree             0   \n",
       "1         1   -4024.803754         36  secondary education             1   \n",
       "2         0   -5623.422610         33  secondary education             1   \n",
       "3         3   -4124.747207         32  secondary education             1   \n",
       "4         0  340266.072047         53  secondary education             1   \n",
       "5         0    -926.185831         27    bachelor's degree             0   \n",
       "6         0   -2879.202052         43    bachelor's degree             0   \n",
       "7         0    -152.779569         50  secondary education             1   \n",
       "8         2   -6929.865299         35    bachelor's degree             0   \n",
       "9         0   -2188.756445         41  secondary education             1   \n",
       "\n",
       "       family_status  family_status_id gender income_type  debt  total_income  \\\n",
       "0            married                 0      F    employee     0     40620.102   \n",
       "1            married                 0      F    employee     0     17932.802   \n",
       "2            married                 0      M    employee     0     23341.752   \n",
       "3            married                 0      M    employee     0     42820.568   \n",
       "4  civil partnership                 1      F     retiree     0     25378.572   \n",
       "5  civil partnership                 1      M    business     0     40922.170   \n",
       "6            married                 0      F    business     0     38484.156   \n",
       "7            married                 0      M    employee     0     21731.829   \n",
       "8  civil partnership                 1      F    employee     0     15337.093   \n",
       "9            married                 0      M    employee     0     23108.150   \n",
       "\n",
       "                               purpose age_group  \n",
       "0                purchase of the house     40-60  \n",
       "1                         car purchase     25-40  \n",
       "2                purchase of the house     25-40  \n",
       "3              supplementary education     25-40  \n",
       "4                    to have a wedding     40-60  \n",
       "5                purchase of the house     25-40  \n",
       "6                 housing transactions     40-60  \n",
       "7                            education     40-60  \n",
       "8                     having a wedding     25-40  \n",
       "9  purchase of the house for my family     40-60  "
      ]
     },
     "execution_count": 58,
     "metadata": {},
     "output_type": "execute_result"
    }
   ],
   "source": [
    "# Creating a table without missing values \n",
    "not_missing = df[df['days_employed'].notnull()]\n",
    "not_missing.head(10)"
   ]
  },
  {
   "cell_type": "code",
   "execution_count": 59,
   "metadata": {},
   "outputs": [
    {
     "data": {
      "text/plain": [
       "age_group\n",
       "0-25     22717.0\n",
       "25-40    27828.0\n",
       "40-60    27046.0\n",
       "60+      23051.0\n",
       "Name: total_income, dtype: float64"
      ]
     },
     "execution_count": 59,
     "metadata": {},
     "output_type": "execute_result"
    }
   ],
   "source": [
    "not_missing.groupby(['age_group'])['total_income'].mean().round(0)"
   ]
  },
  {
   "cell_type": "code",
   "execution_count": 60,
   "metadata": {},
   "outputs": [
    {
     "data": {
      "text/plain": [
       "age_group\n",
       "0-25     20575.0\n",
       "25-40    24387.0\n",
       "40-60    23214.0\n",
       "60+      19633.0\n",
       "Name: total_income, dtype: float64"
      ]
     },
     "execution_count": 60,
     "metadata": {},
     "output_type": "execute_result"
    }
   ],
   "source": [
    "not_missing.groupby(['age_group'])['total_income'].median().round(0)"
   ]
  },
  {
   "cell_type": "code",
   "execution_count": 61,
   "metadata": {},
   "outputs": [
    {
     "data": {
      "text/plain": [
       "education\n",
       "bachelor's degree      33167.0\n",
       "graduate degree        27960.0\n",
       "primary education      21145.0\n",
       "secondary education    24588.0\n",
       "some college           29034.0\n",
       "Name: total_income, dtype: float64"
      ]
     },
     "execution_count": 61,
     "metadata": {},
     "output_type": "execute_result"
    }
   ],
   "source": [
    "not_missing.groupby(['education'])['total_income'].mean().round(0)"
   ]
  },
  {
   "cell_type": "code",
   "execution_count": 62,
   "metadata": {},
   "outputs": [
    {
     "data": {
      "text/plain": [
       "education\n",
       "bachelor's degree      28087.0\n",
       "graduate degree        25162.0\n",
       "primary education      18742.0\n",
       "secondary education    21829.0\n",
       "some college           25618.0\n",
       "Name: total_income, dtype: float64"
      ]
     },
     "execution_count": 62,
     "metadata": {},
     "output_type": "execute_result"
    }
   ],
   "source": [
    "not_missing.groupby(['education'])['total_income'].median().round(0)"
   ]
  },
  {
   "cell_type": "code",
   "execution_count": 63,
   "metadata": {},
   "outputs": [
    {
     "data": {
      "text/plain": [
       "income_type\n",
       "business                       32414.0\n",
       "civil servant                  27319.0\n",
       "employee                       25818.0\n",
       "entrepreneur                   79866.0\n",
       "paternity / maternity leave     8613.0\n",
       "retiree                        21952.0\n",
       "student                        15712.0\n",
       "unemployed                     21014.0\n",
       "Name: total_income, dtype: float64"
      ]
     },
     "execution_count": 63,
     "metadata": {},
     "output_type": "execute_result"
    }
   ],
   "source": [
    "not_missing.groupby(['income_type'])['total_income'].mean().round(0)"
   ]
  },
  {
   "cell_type": "code",
   "execution_count": 64,
   "metadata": {},
   "outputs": [
    {
     "data": {
      "text/plain": [
       "income_type\n",
       "business                       27603.0\n",
       "civil servant                  24067.0\n",
       "employee                       22814.0\n",
       "entrepreneur                   79866.0\n",
       "paternity / maternity leave     8613.0\n",
       "retiree                        18957.0\n",
       "student                        15712.0\n",
       "unemployed                     21014.0\n",
       "Name: total_income, dtype: float64"
      ]
     },
     "execution_count": 64,
     "metadata": {},
     "output_type": "execute_result"
    }
   ],
   "source": [
    "not_missing.groupby(['income_type'])['total_income'].median().round(0)"
   ]
  },
  {
   "cell_type": "markdown",
   "metadata": {},
   "source": [
    "All three of the measures used analysed appear to affect **total_income**.\n",
    "The mean is consistantly higher than the median which would suggest it is being 'dragged up' by some extreme values.\n",
    "It will therefore be more representative to use the median when filling in missing values."
   ]
  },
  {
   "cell_type": "code",
   "execution_count": 65,
   "metadata": {},
   "outputs": [],
   "source": [
    "#  Write a function that we will use for filling in missing values\n",
    "def find_group_income(row):\n",
    "    global not_missing\n",
    "    age_group = row['age_group']\n",
    "    education = row['education']\n",
    "    income_type = row['income_type']\n",
    "    \n",
    "    median = not_missing[(not_missing['age_group'] == age_group) & (not_missing['education'] == education) & (not_missing['income_type'] == income_type)]['total_income'].median()\n",
    "    return median\n",
    "        "
   ]
  },
  {
   "cell_type": "code",
   "execution_count": 66,
   "metadata": {},
   "outputs": [
    {
     "data": {
      "text/plain": [
       "18307.867"
      ]
     },
     "execution_count": 66,
     "metadata": {},
     "output_type": "execute_result"
    }
   ],
   "source": [
    "# Check if it works\n",
    "find_group_income({'age_group': '0-25', 'education': 'secondary education', 'income_type': 'employee'})"
   ]
  },
  {
   "cell_type": "code",
   "execution_count": 67,
   "metadata": {},
   "outputs": [],
   "source": [
    "# applying lambda function row-wise on rows containing null values\n",
    "df['total_income'] = df.apply(lambda row: find_group_income(row) if np.isnan(row['total_income']) else row['total_income'], axis=1)"
   ]
  },
  {
   "cell_type": "code",
   "execution_count": 68,
   "metadata": {},
   "outputs": [
    {
     "data": {
      "text/html": [
       "<div>\n",
       "<style scoped>\n",
       "    .dataframe tbody tr th:only-of-type {\n",
       "        vertical-align: middle;\n",
       "    }\n",
       "\n",
       "    .dataframe tbody tr th {\n",
       "        vertical-align: top;\n",
       "    }\n",
       "\n",
       "    .dataframe thead th {\n",
       "        text-align: right;\n",
       "    }\n",
       "</style>\n",
       "<table border=\"1\" class=\"dataframe\">\n",
       "  <thead>\n",
       "    <tr style=\"text-align: right;\">\n",
       "      <th></th>\n",
       "      <th>children</th>\n",
       "      <th>days_employed</th>\n",
       "      <th>dob_years</th>\n",
       "      <th>education</th>\n",
       "      <th>education_id</th>\n",
       "      <th>family_status</th>\n",
       "      <th>family_status_id</th>\n",
       "      <th>gender</th>\n",
       "      <th>income_type</th>\n",
       "      <th>debt</th>\n",
       "      <th>total_income</th>\n",
       "      <th>purpose</th>\n",
       "      <th>age_group</th>\n",
       "    </tr>\n",
       "  </thead>\n",
       "  <tbody>\n",
       "    <tr>\n",
       "      <td>5903</td>\n",
       "      <td>0</td>\n",
       "      <td>NaN</td>\n",
       "      <td>58</td>\n",
       "      <td>bachelor's degree</td>\n",
       "      <td>0</td>\n",
       "      <td>married</td>\n",
       "      <td>0</td>\n",
       "      <td>M</td>\n",
       "      <td>entrepreneur</td>\n",
       "      <td>0</td>\n",
       "      <td>NaN</td>\n",
       "      <td>buy residential real estate</td>\n",
       "      <td>40-60</td>\n",
       "    </tr>\n",
       "    <tr>\n",
       "      <td>8092</td>\n",
       "      <td>0</td>\n",
       "      <td>NaN</td>\n",
       "      <td>64</td>\n",
       "      <td>primary education</td>\n",
       "      <td>3</td>\n",
       "      <td>civil partnership</td>\n",
       "      <td>1</td>\n",
       "      <td>F</td>\n",
       "      <td>civil servant</td>\n",
       "      <td>0</td>\n",
       "      <td>NaN</td>\n",
       "      <td>to have a wedding</td>\n",
       "      <td>60+</td>\n",
       "    </tr>\n",
       "  </tbody>\n",
       "</table>\n",
       "</div>"
      ],
      "text/plain": [
       "      children  days_employed  dob_years          education  education_id  \\\n",
       "5903         0            NaN         58  bachelor's degree             0   \n",
       "8092         0            NaN         64  primary education             3   \n",
       "\n",
       "          family_status  family_status_id gender    income_type  debt  \\\n",
       "5903            married                 0      M   entrepreneur     0   \n",
       "8092  civil partnership                 1      F  civil servant     0   \n",
       "\n",
       "      total_income                      purpose age_group  \n",
       "5903           NaN  buy residential real estate     40-60  \n",
       "8092           NaN            to have a wedding       60+  "
      ]
     },
     "execution_count": 68,
     "metadata": {},
     "output_type": "execute_result"
    }
   ],
   "source": [
    "# Check if we got any errors\n",
    "df[df['total_income'].isnull()]"
   ]
  },
  {
   "cell_type": "markdown",
   "metadata": {},
   "source": [
    "\n",
    "\n",
    "There are two entries still with missing values as their characteristics didn't match with those of any other client.\n",
    "We can replace them manually with an a `total_income` for that income_type.\n"
   ]
  },
  {
   "cell_type": "code",
   "execution_count": 69,
   "metadata": {},
   "outputs": [],
   "source": [
    "# Replacing missing values if there are any errors\n",
    "df.at[8092,'total_income'] = not_missing[not_missing['income_type'] == 'entrepreneur']['total_income'].median()\n",
    "df.at[5903,'total_income'] = not_missing[not_missing['income_type'] == 'civil servant']['total_income'].median()"
   ]
  },
  {
   "cell_type": "code",
   "execution_count": 70,
   "metadata": {},
   "outputs": [
    {
     "name": "stdout",
     "output_type": "stream",
     "text": [
      "<class 'pandas.core.frame.DataFrame'>\n",
      "RangeIndex: 21330 entries, 0 to 21329\n",
      "Data columns (total 13 columns):\n",
      "children            21330 non-null int64\n",
      "days_employed       19239 non-null float64\n",
      "dob_years           21330 non-null int64\n",
      "education           21330 non-null object\n",
      "education_id        21330 non-null int64\n",
      "family_status       21330 non-null object\n",
      "family_status_id    21330 non-null int64\n",
      "gender              21330 non-null object\n",
      "income_type         21330 non-null object\n",
      "debt                21330 non-null int64\n",
      "total_income        21330 non-null float64\n",
      "purpose             21330 non-null object\n",
      "age_group           21330 non-null object\n",
      "dtypes: float64(2), int64(5), object(6)\n",
      "memory usage: 2.1+ MB\n"
     ]
    }
   ],
   "source": [
    "# Checking the number of entries in the columns\n",
    "df.info()\n"
   ]
  },
  {
   "cell_type": "markdown",
   "metadata": {},
   "source": [
    "###  Restoring values in `days_employed`"
   ]
  },
  {
   "cell_type": "markdown",
   "metadata": {},
   "source": [
    "\n",
    "As previously noted, the absolute values of the negative `days_employed` appear to be correct, the positive values and missing values need to replaced.\n",
    "We can first create a dataframe containing only the (absolute) negative values. \n",
    "We'll consider "
   ]
  },
  {
   "cell_type": "code",
   "execution_count": 71,
   "metadata": {
    "pycharm": {
     "name": "#%%\n"
    },
    "scrolled": true
   },
   "outputs": [
    {
     "name": "stdout",
     "output_type": "stream",
     "text": [
      "   children  days_employed  dob_years            education  education_id  \\\n",
      "0         1    8437.673028         42    bachelor's degree             0   \n",
      "1         1    4024.803754         36  secondary education             1   \n",
      "2         0    5623.422610         33  secondary education             1   \n",
      "3         3    4124.747207         32  secondary education             1   \n",
      "5         0     926.185831         27    bachelor's degree             0   \n",
      "\n",
      "       family_status  family_status_id gender income_type  debt  total_income  \\\n",
      "0            married                 0      F    employee     0     40620.102   \n",
      "1            married                 0      F    employee     0     17932.802   \n",
      "2            married                 0      M    employee     0     23341.752   \n",
      "3            married                 0      M    employee     0     42820.568   \n",
      "5  civil partnership                 1      M    business     0     40922.170   \n",
      "\n",
      "                   purpose age_group  \n",
      "0    purchase of the house     40-60  \n",
      "1             car purchase     25-40  \n",
      "2    purchase of the house     25-40  \n",
      "3  supplementary education     25-40  \n",
      "5    purchase of the house     25-40  \n"
     ]
    },
    {
     "name": "stderr",
     "output_type": "stream",
     "text": [
      "/opt/conda/lib/python3.7/site-packages/ipykernel_launcher.py:3: SettingWithCopyWarning: \n",
      "A value is trying to be set on a copy of a slice from a DataFrame.\n",
      "Try using .loc[row_indexer,col_indexer] = value instead\n",
      "\n",
      "See the caveats in the documentation: http://pandas.pydata.org/pandas-docs/stable/user_guide/indexing.html#returning-a-view-versus-a-copy\n",
      "  This is separate from the ipykernel package so we can avoid doing imports until\n"
     ]
    }
   ],
   "source": [
    "# Distribution of `days_employed` medians based on your identified parameters\n",
    "correct_days = df[df['days_employed'] <0]\n",
    "correct_days['days_employed'] = correct_days['days_employed'].apply(lambda x: x* -1)\n",
    "print(correct_days.head())"
   ]
  },
  {
   "cell_type": "code",
   "execution_count": 72,
   "metadata": {},
   "outputs": [
    {
     "data": {
      "text/plain": [
       "age_group\n",
       "0-25      851.167326\n",
       "25-40    1864.893153\n",
       "40-60    2984.070462\n",
       "60+      3858.850205\n",
       "Name: days_employed, dtype: float64"
      ]
     },
     "execution_count": 72,
     "metadata": {},
     "output_type": "execute_result"
    }
   ],
   "source": [
    "# Distribution of `days_employed` means based on your identified parameters\n",
    "\n",
    "correct_days.groupby('age_group')['days_employed'].mean()"
   ]
  },
  {
   "cell_type": "code",
   "execution_count": 73,
   "metadata": {},
   "outputs": [
    {
     "data": {
      "text/plain": [
       "education\n",
       "bachelor's degree      2279.221723\n",
       "graduate degree        3520.186537\n",
       "primary education      1940.672957\n",
       "secondary education    2435.330271\n",
       "some college           1554.086154\n",
       "Name: days_employed, dtype: float64"
      ]
     },
     "execution_count": 73,
     "metadata": {},
     "output_type": "execute_result"
    }
   ],
   "source": [
    "correct_days.groupby('education')['days_employed'].mean()"
   ]
  },
  {
   "cell_type": "code",
   "execution_count": 74,
   "metadata": {},
   "outputs": [
    {
     "data": {
      "text/plain": [
       "age_group\n",
       "0-25      741.174748\n",
       "25-40    1436.513060\n",
       "40-60    2149.087007\n",
       "60+      2613.341880\n",
       "Name: days_employed, dtype: float64"
      ]
     },
     "execution_count": 74,
     "metadata": {},
     "output_type": "execute_result"
    }
   ],
   "source": [
    "correct_days.groupby('age_group')['days_employed'].median()"
   ]
  },
  {
   "cell_type": "code",
   "execution_count": 75,
   "metadata": {},
   "outputs": [
    {
     "data": {
      "text/plain": [
       "education\n",
       "bachelor's degree      1611.313631\n",
       "graduate degree        3851.735057\n",
       "primary education      1189.581396\n",
       "secondary education    1685.036213\n",
       "some college           1148.776820\n",
       "Name: days_employed, dtype: float64"
      ]
     },
     "execution_count": 75,
     "metadata": {},
     "output_type": "execute_result"
    }
   ],
   "source": [
    "correct_days.groupby('education')['days_employed'].median()"
   ]
  },
  {
   "cell_type": "markdown",
   "metadata": {},
   "source": [
    "\n",
    "It appears some extreme values are pulling up the mean. Therefore medians will be used."
   ]
  },
  {
   "cell_type": "code",
   "execution_count": 76,
   "metadata": {},
   "outputs": [],
   "source": [
    "# Let's write a function that calculates means or medians (depending on your decision) based on your identified parameter\n",
    "def find_median_days(row):\n",
    "    global correct_days\n",
    "    age_group = row['age_group']\n",
    "    education = row['education']\n",
    "    \n",
    "    median = correct_days[(not_missing['age_group'] == age_group) & (correct_days['education'] == education)]['total_income'].median()\n",
    "    return median"
   ]
  },
  {
   "cell_type": "code",
   "execution_count": 77,
   "metadata": {
    "scrolled": false
   },
   "outputs": [
    {
     "name": "stdout",
     "output_type": "stream",
     "text": [
      "19555.0025\n",
      "23078.083\n"
     ]
    },
    {
     "name": "stderr",
     "output_type": "stream",
     "text": [
      "/opt/conda/lib/python3.7/site-packages/ipykernel_launcher.py:7: UserWarning: Boolean Series key will be reindexed to match DataFrame index.\n",
      "  import sys\n"
     ]
    }
   ],
   "source": [
    "# Check that the function works\n",
    "print(find_median_days({'age_group': '0-25', 'education': 'secondary education'}))\n",
    "print(find_median_days({'age_group': '60+', 'education': 'secondary education'}))\n"
   ]
  },
  {
   "cell_type": "code",
   "execution_count": 78,
   "metadata": {
    "collapsed": true
   },
   "outputs": [
    {
     "name": "stderr",
     "output_type": "stream",
     "text": [
      "/opt/conda/lib/python3.7/site-packages/ipykernel_launcher.py:7: UserWarning: Boolean Series key will be reindexed to match DataFrame index.\n",
      "  import sys\n"
     ]
    }
   ],
   "source": [
    "# Apply function to the income_type\n",
    "df['days_employed'] = df.apply(lambda row: find_median_days(row) if np.isnan(row['days_employed']) else row['days_employed'], axis=1)\n"
   ]
  },
  {
   "cell_type": "code",
   "execution_count": 79,
   "metadata": {},
   "outputs": [
    {
     "data": {
      "text/html": [
       "<div>\n",
       "<style scoped>\n",
       "    .dataframe tbody tr th:only-of-type {\n",
       "        vertical-align: middle;\n",
       "    }\n",
       "\n",
       "    .dataframe tbody tr th {\n",
       "        vertical-align: top;\n",
       "    }\n",
       "\n",
       "    .dataframe thead th {\n",
       "        text-align: right;\n",
       "    }\n",
       "</style>\n",
       "<table border=\"1\" class=\"dataframe\">\n",
       "  <thead>\n",
       "    <tr style=\"text-align: right;\">\n",
       "      <th></th>\n",
       "      <th>children</th>\n",
       "      <th>days_employed</th>\n",
       "      <th>dob_years</th>\n",
       "      <th>education</th>\n",
       "      <th>education_id</th>\n",
       "      <th>family_status</th>\n",
       "      <th>family_status_id</th>\n",
       "      <th>gender</th>\n",
       "      <th>income_type</th>\n",
       "      <th>debt</th>\n",
       "      <th>total_income</th>\n",
       "      <th>purpose</th>\n",
       "      <th>age_group</th>\n",
       "    </tr>\n",
       "  </thead>\n",
       "  <tbody>\n",
       "  </tbody>\n",
       "</table>\n",
       "</div>"
      ],
      "text/plain": [
       "Empty DataFrame\n",
       "Columns: [children, days_employed, dob_years, education, education_id, family_status, family_status_id, gender, income_type, debt, total_income, purpose, age_group]\n",
       "Index: []"
      ]
     },
     "execution_count": 79,
     "metadata": {},
     "output_type": "execute_result"
    }
   ],
   "source": [
    "# Check if function worked\n",
    "\n",
    "df[df['days_employed'].isnull()]"
   ]
  },
  {
   "cell_type": "code",
   "execution_count": 80,
   "metadata": {},
   "outputs": [
    {
     "data": {
      "text/html": [
       "<div>\n",
       "<style scoped>\n",
       "    .dataframe tbody tr th:only-of-type {\n",
       "        vertical-align: middle;\n",
       "    }\n",
       "\n",
       "    .dataframe tbody tr th {\n",
       "        vertical-align: top;\n",
       "    }\n",
       "\n",
       "    .dataframe thead th {\n",
       "        text-align: right;\n",
       "    }\n",
       "</style>\n",
       "<table border=\"1\" class=\"dataframe\">\n",
       "  <thead>\n",
       "    <tr style=\"text-align: right;\">\n",
       "      <th></th>\n",
       "      <th>children</th>\n",
       "      <th>days_employed</th>\n",
       "      <th>dob_years</th>\n",
       "      <th>education</th>\n",
       "      <th>education_id</th>\n",
       "      <th>family_status</th>\n",
       "      <th>family_status_id</th>\n",
       "      <th>gender</th>\n",
       "      <th>income_type</th>\n",
       "      <th>debt</th>\n",
       "      <th>total_income</th>\n",
       "      <th>purpose</th>\n",
       "      <th>age_group</th>\n",
       "    </tr>\n",
       "  </thead>\n",
       "  <tbody>\n",
       "    <tr>\n",
       "      <td>0</td>\n",
       "      <td>1</td>\n",
       "      <td>8437.673028</td>\n",
       "      <td>42</td>\n",
       "      <td>bachelor's degree</td>\n",
       "      <td>0</td>\n",
       "      <td>married</td>\n",
       "      <td>0</td>\n",
       "      <td>F</td>\n",
       "      <td>employee</td>\n",
       "      <td>0</td>\n",
       "      <td>40620.102</td>\n",
       "      <td>purchase of the house</td>\n",
       "      <td>40-60</td>\n",
       "    </tr>\n",
       "    <tr>\n",
       "      <td>1</td>\n",
       "      <td>1</td>\n",
       "      <td>4024.803754</td>\n",
       "      <td>36</td>\n",
       "      <td>secondary education</td>\n",
       "      <td>1</td>\n",
       "      <td>married</td>\n",
       "      <td>0</td>\n",
       "      <td>F</td>\n",
       "      <td>employee</td>\n",
       "      <td>0</td>\n",
       "      <td>17932.802</td>\n",
       "      <td>car purchase</td>\n",
       "      <td>25-40</td>\n",
       "    </tr>\n",
       "    <tr>\n",
       "      <td>2</td>\n",
       "      <td>0</td>\n",
       "      <td>5623.422610</td>\n",
       "      <td>33</td>\n",
       "      <td>secondary education</td>\n",
       "      <td>1</td>\n",
       "      <td>married</td>\n",
       "      <td>0</td>\n",
       "      <td>M</td>\n",
       "      <td>employee</td>\n",
       "      <td>0</td>\n",
       "      <td>23341.752</td>\n",
       "      <td>purchase of the house</td>\n",
       "      <td>25-40</td>\n",
       "    </tr>\n",
       "    <tr>\n",
       "      <td>3</td>\n",
       "      <td>3</td>\n",
       "      <td>4124.747207</td>\n",
       "      <td>32</td>\n",
       "      <td>secondary education</td>\n",
       "      <td>1</td>\n",
       "      <td>married</td>\n",
       "      <td>0</td>\n",
       "      <td>M</td>\n",
       "      <td>employee</td>\n",
       "      <td>0</td>\n",
       "      <td>42820.568</td>\n",
       "      <td>supplementary education</td>\n",
       "      <td>25-40</td>\n",
       "    </tr>\n",
       "    <tr>\n",
       "      <td>4</td>\n",
       "      <td>0</td>\n",
       "      <td>340266.072047</td>\n",
       "      <td>53</td>\n",
       "      <td>secondary education</td>\n",
       "      <td>1</td>\n",
       "      <td>civil partnership</td>\n",
       "      <td>1</td>\n",
       "      <td>F</td>\n",
       "      <td>retiree</td>\n",
       "      <td>0</td>\n",
       "      <td>25378.572</td>\n",
       "      <td>to have a wedding</td>\n",
       "      <td>40-60</td>\n",
       "    </tr>\n",
       "  </tbody>\n",
       "</table>\n",
       "</div>"
      ],
      "text/plain": [
       "   children  days_employed  dob_years            education  education_id  \\\n",
       "0         1    8437.673028         42    bachelor's degree             0   \n",
       "1         1    4024.803754         36  secondary education             1   \n",
       "2         0    5623.422610         33  secondary education             1   \n",
       "3         3    4124.747207         32  secondary education             1   \n",
       "4         0  340266.072047         53  secondary education             1   \n",
       "\n",
       "       family_status  family_status_id gender income_type  debt  total_income  \\\n",
       "0            married                 0      F    employee     0     40620.102   \n",
       "1            married                 0      F    employee     0     17932.802   \n",
       "2            married                 0      M    employee     0     23341.752   \n",
       "3            married                 0      M    employee     0     42820.568   \n",
       "4  civil partnership                 1      F     retiree     0     25378.572   \n",
       "\n",
       "                   purpose age_group  \n",
       "0    purchase of the house     40-60  \n",
       "1             car purchase     25-40  \n",
       "2    purchase of the house     25-40  \n",
       "3  supplementary education     25-40  \n",
       "4        to have a wedding     40-60  "
      ]
     },
     "execution_count": 80,
     "metadata": {},
     "output_type": "execute_result"
    }
   ],
   "source": [
    "# changing negative values to positive\n",
    "df['days_employed'] = df['days_employed'].apply(lambda x: x* -1 if x<0 else x)\n",
    "df.head()"
   ]
  },
  {
   "cell_type": "markdown",
   "metadata": {},
   "source": [
    "[When you think you've finished with `total_income`, check that the total number of values in this column matches the number of values in other ones.]"
   ]
  },
  {
   "cell_type": "code",
   "execution_count": 81,
   "metadata": {},
   "outputs": [
    {
     "name": "stdout",
     "output_type": "stream",
     "text": [
      "<class 'pandas.core.frame.DataFrame'>\n",
      "RangeIndex: 21330 entries, 0 to 21329\n",
      "Data columns (total 13 columns):\n",
      "children            21330 non-null int64\n",
      "days_employed       21330 non-null float64\n",
      "dob_years           21330 non-null int64\n",
      "education           21330 non-null object\n",
      "education_id        21330 non-null int64\n",
      "family_status       21330 non-null object\n",
      "family_status_id    21330 non-null int64\n",
      "gender              21330 non-null object\n",
      "income_type         21330 non-null object\n",
      "debt                21330 non-null int64\n",
      "total_income        21330 non-null float64\n",
      "purpose             21330 non-null object\n",
      "age_group           21330 non-null object\n",
      "dtypes: float64(2), int64(5), object(6)\n",
      "memory usage: 2.1+ MB\n"
     ]
    }
   ],
   "source": [
    "# Check the entries in all columns - make sure we fixed all missing values\n",
    "df.info()"
   ]
  },
  {
   "cell_type": "markdown",
   "metadata": {},
   "source": [
    "## 4. Categorization of data\n",
    "\n",
    "We can make a number of categorisations for `purpose`, `children` and `total_income`\n",
    "\n",
    "- We can categorise the `purpose` based on common themes\n",
    "- We can categorise clients into those with and without children\n",
    "- We can categorise `total_income` into quartiles."
   ]
  },
  {
   "cell_type": "code",
   "execution_count": 82,
   "metadata": {
    "scrolled": true
   },
   "outputs": [
    {
     "data": {
      "text/plain": [
       "array(['purchase of the house', 'car purchase', 'supplementary education',\n",
       "       'to have a wedding', 'housing transactions', 'education',\n",
       "       'having a wedding', 'purchase of the house for my family',\n",
       "       'buy real estate', 'buy commercial real estate',\n",
       "       'buy residential real estate', 'construction of own property',\n",
       "       'property', 'building a property', 'buying a second-hand car',\n",
       "       'buying my own car', 'transactions with commercial real estate',\n",
       "       'building a real estate', 'housing',\n",
       "       'transactions with my real estate', 'cars', 'to become educated',\n",
       "       'second-hand car purchase', 'getting an education', 'car',\n",
       "       'wedding ceremony', 'to get a supplementary education',\n",
       "       'purchase of my own house', 'real estate transactions',\n",
       "       'getting higher education', 'to own a car', 'purchase of a car',\n",
       "       'profile education', 'university education',\n",
       "       'buying property for renting out', 'to buy a car',\n",
       "       'housing renovation', 'going to university'], dtype=object)"
      ]
     },
     "execution_count": 82,
     "metadata": {},
     "output_type": "execute_result"
    }
   ],
   "source": [
    "# Print the values for your selected data for categorization\n",
    "\n",
    "df['purpose'].unique()"
   ]
  },
  {
   "cell_type": "markdown",
   "metadata": {},
   "source": [
    "There appears to be 4 main themes:\n",
    "-car\n",
    "-education\n",
    "-real estate\n",
    "-wedding\n"
   ]
  },
  {
   "cell_type": "code",
   "execution_count": 83,
   "metadata": {},
   "outputs": [],
   "source": [
    "# Let's write a function to categorize the data based on common topics\n",
    "\n",
    "def to_category(purpose):\n",
    "    if 'car' in purpose:\n",
    "        return 'car'\n",
    "    elif 'wedding' in purpose:\n",
    "        return 'wedding'\n",
    "    elif any(x in purpose for x in ['educ', 'university']):\n",
    "        return 'education'\n",
    "    elif any(x in purpose for x in ['hous', 'estate', 'property']):\n",
    "        return 'real estate'\n",
    "    else:\n",
    "        return purpose\n",
    "    "
   ]
  },
  {
   "cell_type": "code",
   "execution_count": 84,
   "metadata": {},
   "outputs": [
    {
     "data": {
      "text/plain": [
       "real estate    10750\n",
       "car             4279\n",
       "education       3988\n",
       "wedding         2313\n",
       "Name: purpose_category, dtype: int64"
      ]
     },
     "execution_count": 84,
     "metadata": {},
     "output_type": "execute_result"
    }
   ],
   "source": [
    "# Create a column with the categories and count the values for them\n",
    "df['purpose_category'] = df['purpose'].apply(to_category)\n",
    "df['purpose_category'].value_counts()"
   ]
  },
  {
   "cell_type": "markdown",
   "metadata": {},
   "source": [
    "We can categorise clients into those with and without children."
   ]
  },
  {
   "cell_type": "code",
   "execution_count": 85,
   "metadata": {},
   "outputs": [
    {
     "data": {
      "text/plain": [
       "0    14090\n",
       "1     4808\n",
       "2     2052\n",
       "3      330\n",
       "4       41\n",
       "5        9\n",
       "Name: children, dtype: int64"
      ]
     },
     "execution_count": 85,
     "metadata": {},
     "output_type": "execute_result"
    }
   ],
   "source": [
    "# Looking through all the numerical data in your selected column for categorization\n",
    "df['children'].value_counts()"
   ]
  },
  {
   "cell_type": "code",
   "execution_count": 86,
   "metadata": {},
   "outputs": [],
   "source": [
    "# Creating function for categorizing into those with and without children\n",
    "def parent(children):\n",
    "    if children>0:\n",
    "        return 1\n",
    "    else:\n",
    "        return 0\n"
   ]
  },
  {
   "cell_type": "code",
   "execution_count": 87,
   "metadata": {},
   "outputs": [],
   "source": [
    "# Creating column with categories\n",
    "df['parent'] = df['children'].apply(parent)"
   ]
  },
  {
   "cell_type": "code",
   "execution_count": 88,
   "metadata": {
    "scrolled": true
   },
   "outputs": [
    {
     "data": {
      "text/plain": [
       "0    14090\n",
       "1     7240\n",
       "Name: parent, dtype: int64"
      ]
     },
     "execution_count": 88,
     "metadata": {},
     "output_type": "execute_result"
    }
   ],
   "source": [
    "# Count each categories values to see the distribution\n",
    "df['parent'].value_counts()"
   ]
  },
  {
   "cell_type": "code",
   "execution_count": 89,
   "metadata": {},
   "outputs": [
    {
     "data": {
      "text/plain": [
       "count     21330.000000\n",
       "mean      26481.938363\n",
       "std       15752.915553\n",
       "min        3306.762000\n",
       "25%       17198.049750\n",
       "50%       22929.770500\n",
       "75%       31728.132000\n",
       "max      362496.645000\n",
       "Name: total_income, dtype: float64"
      ]
     },
     "execution_count": 89,
     "metadata": {},
     "output_type": "execute_result"
    }
   ],
   "source": [
    "#creatiing groups for income\n",
    "\n",
    "#checking summary statistics\n",
    "df['total_income'].describe()\n"
   ]
  },
  {
   "cell_type": "code",
   "execution_count": 90,
   "metadata": {},
   "outputs": [],
   "source": [
    "#creating categories based on quartiles.\n",
    "data = df['total_income'].describe()\n",
    "def categorising_income(income):\n",
    "\n",
    "    if income <= data['25%']:\n",
    "        return 1\n",
    "    elif income < data['50%']:\n",
    "        return 2\n",
    "    elif income < data['75%']:\n",
    "        return 3\n",
    "    else:\n",
    "        return 4"
   ]
  },
  {
   "cell_type": "code",
   "execution_count": 91,
   "metadata": {},
   "outputs": [],
   "source": [
    "#creating column\n",
    "df['income_category'] = df['total_income'].apply(categorising_income)"
   ]
  },
  {
   "cell_type": "markdown",
   "metadata": {},
   "source": [
    "## 5 Checking the Hypotheses\n"
   ]
  },
  {
   "cell_type": "markdown",
   "metadata": {},
   "source": [
    "**Is there a correlation between having children and paying back on time?**"
   ]
  },
  {
   "cell_type": "code",
   "execution_count": 92,
   "metadata": {},
   "outputs": [
    {
     "name": "stdout",
     "output_type": "stream",
     "text": [
      "Parent default rate = 9.24%, count: 7240\n",
      "Non-parent default rate = 7.54%, count: 14090\n"
     ]
    }
   ],
   "source": [
    "#checking data based on being a parent or not\n",
    "df.groupby('parent')['debt'].value_counts()\n",
    "\n",
    "for n in df['parent'].unique():\n",
    "    parent_dict = {0:'Non-parent', 1: 'Parent'}\n",
    "    default = df.groupby('parent')['debt'].value_counts()[n][1]\n",
    "    non_default = df.groupby('parent')['debt'].value_counts()[n][0]\n",
    "    total = default+non_default\n",
    "    rate = round(((default/(total))*100),2)\n",
    "    \n",
    "    \n",
    "    print(f'{parent_dict[n]} default rate = {rate}%, count: {total}')"
   ]
  },
  {
   "cell_type": "code",
   "execution_count": 93,
   "metadata": {},
   "outputs": [
    {
     "name": "stdout",
     "output_type": "stream",
     "text": [
      "1 child default rate = 9.23%, count: 4808\n",
      "0 child default rate = 7.54%, count: 14090\n",
      "3 child default rate = 8.18%, count: 330\n",
      "2 child default rate = 9.45%, count: 2052\n",
      "4 child default rate = 9.76%, count: 41\n",
      "5 child default rate = 0.0%, count: 9\n"
     ]
    }
   ],
   "source": [
    "# Calculating default-rate based on the number of children\n",
    "for n in df['children'].unique():\n",
    "    try:\n",
    "        default = df.groupby('children')['debt'].value_counts()[n][1]\n",
    "    except:\n",
    "        default = 0\n",
    "    try:    \n",
    "        non_default = df.groupby('children')['debt'].value_counts()[n][0]\n",
    "    except:\n",
    "        non_default = 0\n",
    "        \n",
    "    total = default+non_default\n",
    "    rate = round(((default/(total))*100),2)\n",
    "    \n",
    "    print(f'{n} child default rate = {rate}%, count: {total}')\n"
   ]
  },
  {
   "cell_type": "markdown",
   "metadata": {},
   "source": [
    "**Conclusion**\n",
    "\n",
    "\n",
    "There is a small (~1.7 percentage point) difference in default rate between non-parents and parents, those with children are more likely to default.\n",
    "There isn't enough data to say conclusively that having more children leads to a higher default rate. Although clients with 4 children were most likely to default, none of the customers with 5 children defaulted. However there were only 41 and 9 occurrences respectively out of 21330 clients.\n"
   ]
  },
  {
   "cell_type": "markdown",
   "metadata": {},
   "source": [
    "**Is there a correlation between family status and paying back on time?**"
   ]
  },
  {
   "cell_type": "code",
   "execution_count": 94,
   "metadata": {},
   "outputs": [
    {
     "name": "stdout",
     "output_type": "stream",
     "text": [
      "married default rate = 7.56%, count: 12261\n",
      "civil partnership default rate = 9.32%, count: 4133\n",
      "widow / widower default rate = 6.62%, count: 951\n",
      "divorced default rate = 7.06%, count: 1189\n",
      "unmarried default rate = 9.76%, count: 2796\n"
     ]
    }
   ],
   "source": [
    "# Check the family status data and paying back on time\n",
    "df.groupby('family_status')['debt'].value_counts()\n",
    "\n",
    "# Calculating default-rate based on family status\n",
    "for f in df['family_status'].unique():\n",
    "    default = df.groupby('family_status')['debt'].value_counts()[f][1]\n",
    "    non_default = df.groupby('family_status')['debt'].value_counts()[f][0]\n",
    "    total = default+non_default\n",
    "    rate = round(((default/(total))*100),2)\n",
    "    print(f'{f} default rate = {rate}%, count: {total}')"
   ]
  },
  {
   "cell_type": "code",
   "execution_count": 95,
   "metadata": {},
   "outputs": [
    {
     "name": "stdout",
     "output_type": "stream",
     "text": [
      "36.0\n",
      "58.0\n"
     ]
    }
   ],
   "source": [
    "print(df[df['family_status'] == 'unmarried']['dob_years'].median())\n",
    "print(df[df['family_status'] == 'widow / widower']['dob_years'].median())"
   ]
  },
  {
   "cell_type": "markdown",
   "metadata": {},
   "source": [
    "**Conclusion**\n",
    "\n",
    "\n",
    "There are small differences in default rate amongst different types of family status.\n",
    "The unmarried were the most likely to default(9.76%), whilst widows and widowers were least likely (6.62%).\n",
    "This may well be correlation with age rather than causation as the unmarried are more likely to be younger than the widows/widowers (36 vs 58)."
   ]
  },
  {
   "cell_type": "markdown",
   "metadata": {},
   "source": [
    "**Is there a correlation between income level and paying back on time?**"
   ]
  },
  {
   "cell_type": "code",
   "execution_count": 96,
   "metadata": {},
   "outputs": [
    {
     "name": "stdout",
     "output_type": "stream",
     "text": [
      "Quartile 1 default rate = 8.01%, count: 5333\n",
      "Quartile 2 default rate = 9.02%, count: 5332\n",
      "Quartile 3 default rate = 8.48%, count: 5332\n",
      "Quartile 4 default rate = 6.98%, count: 5333\n"
     ]
    }
   ],
   "source": [
    "# Calculating default-rate based on income level\n",
    "for i in sorted(df['income_category'].unique()):\n",
    "    default = df.groupby('income_category')['debt'].value_counts()[i][1]\n",
    "    non_default = df.groupby('income_category')['debt'].value_counts()[i][0]\n",
    "    total = default+non_default\n",
    "    rate = round(((default/(total))*100),2)\n",
    "    print(f'Quartile {i} default rate = {rate}%, count: {total}')\n"
   ]
  },
  {
   "cell_type": "code",
   "execution_count": 97,
   "metadata": {},
   "outputs": [
    {
     "data": {
      "text/plain": [
       "array(['real estate', 'car', 'education', 'wedding'], dtype=object)"
      ]
     },
     "execution_count": 97,
     "metadata": {},
     "output_type": "execute_result"
    }
   ],
   "source": [
    "df['purpose_category'].unique()"
   ]
  },
  {
   "cell_type": "markdown",
   "metadata": {},
   "source": [
    "**Conclusion**\n",
    "\n",
    "Again we small differences in default rate with customers in the top 25% of earners being he least likely to default, although there is only ~1 percentage point difference between those in the lowest and highest quartiles of earners.\n"
   ]
  },
  {
   "cell_type": "markdown",
   "metadata": {},
   "source": [
    "**How does credit purpose affect the default rate?**"
   ]
  },
  {
   "cell_type": "code",
   "execution_count": 98,
   "metadata": {},
   "outputs": [
    {
     "name": "stdout",
     "output_type": "stream",
     "text": [
      "real estate default rate = 7.26%, count: 10750\n",
      "car default rate = 9.35%, count: 4279\n",
      "education default rate = 9.25%, count: 3988\n",
      "wedding default rate = 7.91%, count: 2313\n"
     ]
    }
   ],
   "source": [
    "# Check the percentages for default rate for each credit purpose and analyze them\n",
    "\n",
    "for p in df['purpose_category'].unique():\n",
    "    default = df.groupby('purpose_category')['debt'].value_counts()[p][1]\n",
    "    non_default = df.groupby('purpose_category')['debt'].value_counts()[p][0]\n",
    "    total = default+non_default\n",
    "    rate = round(((default/(total))*100),2)\n",
    "    print(f'{p} default rate = {rate}%, count: {total}')"
   ]
  },
  {
   "cell_type": "markdown",
   "metadata": {},
   "source": [
    "**Conclusion**\n",
    "\n",
    "Borring for real estate purposes has the lowest default rate, approx 2 percentage points lower than those borrowing for a car or education.\n",
    "\n"
   ]
  },
  {
   "cell_type": "markdown",
   "metadata": {},
   "source": [
    "# General Conclusion \n",
    "\n",
    "There were a number of issues in the data that were fixed.\n",
    "\n",
    "- 10% of the dataset contained null values\n",
    "    \n",
    "    These were fixed by writing functions to find the average values for similar clients in the dataset and using these values to fill in null values.\n",
    "     \n",
    "    \n",
    "- There were numerous cases in the education column\n",
    "    \n",
    "    These were fixed by converting strings to lower.\n",
    "  \n",
    "  \n",
    "- There were many distinct but very similar entries in the `purpose` column\n",
    "\n",
    "    These were fixed by categorising using common slices of strings.\n",
    "\n",
    "\n",
    "There are small differences in default rate in the characteristics discussed the posed questions.\n",
    "- Parents are more likely to default than non-parents (9.24% vs 7.54%) but there is no conclusive evidence  that this parental default rate increases when the number of children increases.\n",
    "\n",
    "- Widow/widower is the family status least likely to default, whilst the unmarried are most likely (6.62% vs 9.76%)\n",
    "\n",
    "- Those in the fourth quartile of earners were least likely to default and those in the second quartile were most likely (6.98% vs 9.02%)"
   ]
  }
 ],
 "metadata": {
  "ExecuteTimeLog": [
   {
    "duration": 2741,
    "start_time": "2021-10-21T01:08:49.480Z"
   },
   {
    "duration": 52,
    "start_time": "2021-10-21T01:08:53.315Z"
   },
   {
    "duration": 49,
    "start_time": "2021-10-21T01:08:57.432Z"
   },
   {
    "duration": 70,
    "start_time": "2021-10-21T01:09:07.706Z"
   },
   {
    "duration": 625,
    "start_time": "2022-01-20T08:32:44.172Z"
   },
   {
    "duration": 11,
    "start_time": "2022-01-20T08:32:57.270Z"
   },
   {
    "duration": 19,
    "start_time": "2022-01-20T08:33:13.520Z"
   },
   {
    "duration": 23,
    "start_time": "2022-01-20T08:35:39.241Z"
   },
   {
    "duration": 18,
    "start_time": "2022-01-20T08:35:53.491Z"
   },
   {
    "duration": 429,
    "start_time": "2022-01-20T08:37:13.779Z"
   },
   {
    "duration": 4,
    "start_time": "2022-01-20T08:37:19.156Z"
   },
   {
    "duration": 17,
    "start_time": "2022-01-20T08:39:58.037Z"
   },
   {
    "duration": 11,
    "start_time": "2022-01-20T08:43:44.854Z"
   },
   {
    "duration": 9,
    "start_time": "2022-01-20T08:43:51.064Z"
   },
   {
    "duration": 21,
    "start_time": "2022-01-20T09:06:03.076Z"
   },
   {
    "duration": 9,
    "start_time": "2022-01-20T09:15:05.009Z"
   },
   {
    "duration": 9,
    "start_time": "2022-01-20T09:24:31.642Z"
   },
   {
    "duration": 9,
    "start_time": "2022-01-20T09:25:24.814Z"
   },
   {
    "duration": 20,
    "start_time": "2022-01-20T09:25:26.319Z"
   },
   {
    "duration": 9,
    "start_time": "2022-01-20T09:25:46.713Z"
   },
   {
    "duration": 21,
    "start_time": "2022-01-20T09:42:07.763Z"
   },
   {
    "duration": 9,
    "start_time": "2022-01-20T09:42:32.366Z"
   },
   {
    "duration": 8,
    "start_time": "2022-01-20T09:44:12.099Z"
   },
   {
    "duration": 374,
    "start_time": "2022-01-21T09:19:47.735Z"
   },
   {
    "duration": 592,
    "start_time": "2022-01-21T09:19:53.512Z"
   },
   {
    "duration": 10,
    "start_time": "2022-01-21T09:19:54.337Z"
   },
   {
    "duration": 15,
    "start_time": "2022-01-21T09:19:55.130Z"
   },
   {
    "duration": 12,
    "start_time": "2022-01-21T09:19:57.017Z"
   },
   {
    "duration": 22,
    "start_time": "2022-01-21T09:20:00.810Z"
   },
   {
    "duration": 9,
    "start_time": "2022-01-21T09:20:03.760Z"
   },
   {
    "duration": 8,
    "start_time": "2022-01-21T09:20:04.754Z"
   },
   {
    "duration": 102,
    "start_time": "2022-01-21T09:20:39.967Z"
   },
   {
    "duration": 1951,
    "start_time": "2022-01-21T09:20:48.680Z"
   },
   {
    "duration": 9,
    "start_time": "2022-01-21T09:21:17.546Z"
   },
   {
    "duration": 11,
    "start_time": "2022-01-21T09:21:40.287Z"
   },
   {
    "duration": 8,
    "start_time": "2022-01-21T09:22:06.312Z"
   },
   {
    "duration": 9,
    "start_time": "2022-01-21T09:22:21.257Z"
   },
   {
    "duration": 9,
    "start_time": "2022-01-21T09:22:38.036Z"
   },
   {
    "duration": 7,
    "start_time": "2022-01-21T09:23:10.680Z"
   },
   {
    "duration": 7,
    "start_time": "2022-01-21T09:23:50.996Z"
   },
   {
    "duration": 7,
    "start_time": "2022-01-21T09:23:51.653Z"
   },
   {
    "duration": 7,
    "start_time": "2022-01-21T09:24:09.030Z"
   },
   {
    "duration": 7,
    "start_time": "2022-01-21T09:24:11.246Z"
   },
   {
    "duration": 6,
    "start_time": "2022-01-21T09:24:47.203Z"
   },
   {
    "duration": 6,
    "start_time": "2022-01-21T09:24:47.866Z"
   },
   {
    "duration": 6,
    "start_time": "2022-01-21T09:25:29.279Z"
   },
   {
    "duration": 7,
    "start_time": "2022-01-21T09:25:29.744Z"
   },
   {
    "duration": 6,
    "start_time": "2022-01-21T09:26:40.903Z"
   },
   {
    "duration": 6,
    "start_time": "2022-01-21T09:26:41.543Z"
   },
   {
    "duration": 7,
    "start_time": "2022-01-21T09:27:24.301Z"
   },
   {
    "duration": 7,
    "start_time": "2022-01-21T09:27:26.381Z"
   },
   {
    "duration": 7,
    "start_time": "2022-01-21T09:28:01.497Z"
   },
   {
    "duration": 7,
    "start_time": "2022-01-21T09:28:01.817Z"
   },
   {
    "duration": 291,
    "start_time": "2022-01-24T11:44:34.856Z"
   },
   {
    "duration": 773,
    "start_time": "2022-01-24T11:44:40.696Z"
   },
   {
    "duration": 9,
    "start_time": "2022-01-24T11:44:41.471Z"
   },
   {
    "duration": 26,
    "start_time": "2022-01-24T11:44:41.482Z"
   },
   {
    "duration": 13,
    "start_time": "2022-01-24T11:44:41.894Z"
   },
   {
    "duration": 25,
    "start_time": "2022-01-24T11:44:43.496Z"
   },
   {
    "duration": 10,
    "start_time": "2022-01-24T11:44:49.746Z"
   },
   {
    "duration": 11,
    "start_time": "2022-01-24T11:44:50.415Z"
   },
   {
    "duration": 9,
    "start_time": "2022-01-24T11:44:54.419Z"
   },
   {
    "duration": 12,
    "start_time": "2022-01-24T11:44:55.500Z"
   },
   {
    "duration": 14,
    "start_time": "2022-01-24T11:45:21.444Z"
   },
   {
    "duration": 10,
    "start_time": "2022-01-24T11:45:37.232Z"
   },
   {
    "duration": 12,
    "start_time": "2022-01-24T11:46:18.603Z"
   },
   {
    "duration": 15,
    "start_time": "2022-01-24T11:46:46.967Z"
   },
   {
    "duration": 11,
    "start_time": "2022-01-24T11:47:01.592Z"
   },
   {
    "duration": 14,
    "start_time": "2022-01-24T11:47:02.548Z"
   },
   {
    "duration": 11,
    "start_time": "2022-01-24T11:48:29.460Z"
   },
   {
    "duration": 10,
    "start_time": "2022-01-24T11:48:48.821Z"
   },
   {
    "duration": 13,
    "start_time": "2022-01-24T11:48:49.485Z"
   },
   {
    "duration": 9,
    "start_time": "2022-01-24T11:50:15.871Z"
   },
   {
    "duration": 283,
    "start_time": "2022-01-24T11:51:01.332Z"
   },
   {
    "duration": 12,
    "start_time": "2022-01-24T11:51:37.440Z"
   },
   {
    "duration": 11,
    "start_time": "2022-01-24T11:51:53.802Z"
   },
   {
    "duration": 9,
    "start_time": "2022-01-24T11:52:21.253Z"
   },
   {
    "duration": 7,
    "start_time": "2022-01-24T11:52:27.222Z"
   },
   {
    "duration": 281,
    "start_time": "2022-01-24T12:04:46.019Z"
   },
   {
    "duration": 9,
    "start_time": "2022-01-24T12:05:16.580Z"
   },
   {
    "duration": 9,
    "start_time": "2022-01-24T12:05:30.151Z"
   },
   {
    "duration": 6,
    "start_time": "2022-01-24T13:24:02.556Z"
   },
   {
    "duration": 9,
    "start_time": "2022-01-24T13:24:14.906Z"
   },
   {
    "duration": 17,
    "start_time": "2022-01-24T13:28:51.686Z"
   },
   {
    "duration": 4,
    "start_time": "2022-01-24T13:36:42.869Z"
   },
   {
    "duration": 16,
    "start_time": "2022-01-24T13:36:47.668Z"
   },
   {
    "duration": 14,
    "start_time": "2022-01-24T13:38:16.928Z"
   },
   {
    "duration": 14,
    "start_time": "2022-01-24T13:38:32.463Z"
   },
   {
    "duration": 382,
    "start_time": "2022-01-25T10:59:02.907Z"
   },
   {
    "duration": 632,
    "start_time": "2022-01-25T10:59:18.221Z"
   },
   {
    "duration": 8,
    "start_time": "2022-01-25T10:59:18.854Z"
   },
   {
    "duration": 38,
    "start_time": "2022-01-25T10:59:18.864Z"
   },
   {
    "duration": 30,
    "start_time": "2022-01-25T10:59:18.904Z"
   },
   {
    "duration": 43,
    "start_time": "2022-01-25T10:59:18.935Z"
   },
   {
    "duration": 15,
    "start_time": "2022-01-25T10:59:18.980Z"
   },
   {
    "duration": 24,
    "start_time": "2022-01-25T10:59:18.997Z"
   },
   {
    "duration": 30,
    "start_time": "2022-01-25T10:59:19.024Z"
   },
   {
    "duration": 27,
    "start_time": "2022-01-25T10:59:19.056Z"
   },
   {
    "duration": 14,
    "start_time": "2022-01-25T10:59:19.085Z"
   },
   {
    "duration": 25,
    "start_time": "2022-01-25T10:59:19.101Z"
   },
   {
    "duration": 9,
    "start_time": "2022-01-25T10:59:19.128Z"
   },
   {
    "duration": 15,
    "start_time": "2022-01-25T10:59:19.139Z"
   },
   {
    "duration": 26,
    "start_time": "2022-01-25T10:59:19.156Z"
   },
   {
    "duration": 31,
    "start_time": "2022-01-25T10:59:19.184Z"
   },
   {
    "duration": 29,
    "start_time": "2022-01-25T10:59:19.217Z"
   },
   {
    "duration": 30,
    "start_time": "2022-01-25T10:59:19.248Z"
   },
   {
    "duration": 25,
    "start_time": "2022-01-25T10:59:19.280Z"
   },
   {
    "duration": 29,
    "start_time": "2022-01-25T10:59:19.306Z"
   },
   {
    "duration": 28,
    "start_time": "2022-01-25T10:59:19.337Z"
   },
   {
    "duration": 9,
    "start_time": "2022-01-25T10:59:23.262Z"
   },
   {
    "duration": 12,
    "start_time": "2022-01-25T11:04:40.103Z"
   },
   {
    "duration": 12,
    "start_time": "2022-01-25T11:05:30.041Z"
   },
   {
    "duration": 10,
    "start_time": "2022-01-25T11:08:51.496Z"
   },
   {
    "duration": 13,
    "start_time": "2022-01-25T11:10:38.898Z"
   },
   {
    "duration": 10,
    "start_time": "2022-01-25T11:10:50.158Z"
   },
   {
    "duration": 11,
    "start_time": "2022-01-25T11:10:52.646Z"
   },
   {
    "duration": 11,
    "start_time": "2022-01-25T11:11:19.425Z"
   },
   {
    "duration": 10,
    "start_time": "2022-01-25T11:11:55.718Z"
   },
   {
    "duration": 266,
    "start_time": "2022-01-25T11:12:09.367Z"
   },
   {
    "duration": 10,
    "start_time": "2022-01-25T11:12:18.176Z"
   },
   {
    "duration": 9,
    "start_time": "2022-01-25T11:12:54.717Z"
   },
   {
    "duration": 11,
    "start_time": "2022-01-25T11:13:41.570Z"
   },
   {
    "duration": 7,
    "start_time": "2022-01-25T11:20:35.080Z"
   },
   {
    "duration": 7,
    "start_time": "2022-01-25T11:20:54.812Z"
   },
   {
    "duration": 6,
    "start_time": "2022-01-25T11:21:52.059Z"
   },
   {
    "duration": 284,
    "start_time": "2022-01-25T11:22:15.095Z"
   },
   {
    "duration": 9,
    "start_time": "2022-01-25T11:22:28.755Z"
   },
   {
    "duration": 12,
    "start_time": "2022-01-25T11:22:44.625Z"
   },
   {
    "duration": 3421,
    "start_time": "2022-01-25T11:24:19.629Z"
   },
   {
    "duration": 4114,
    "start_time": "2022-01-25T11:24:35.197Z"
   },
   {
    "duration": 16,
    "start_time": "2022-01-25T11:24:45.095Z"
   },
   {
    "duration": 15,
    "start_time": "2022-01-25T11:24:54.606Z"
   },
   {
    "duration": 86,
    "start_time": "2022-01-25T11:47:56.232Z"
   },
   {
    "duration": 3400,
    "start_time": "2022-01-25T11:48:12.473Z"
   },
   {
    "duration": 3385,
    "start_time": "2022-01-25T11:49:01.248Z"
   },
   {
    "duration": 274,
    "start_time": "2022-01-25T11:50:37.476Z"
   },
   {
    "duration": 402,
    "start_time": "2022-01-25T11:51:19.200Z"
   },
   {
    "duration": 265,
    "start_time": "2022-01-25T11:51:23.408Z"
   },
   {
    "duration": 262,
    "start_time": "2022-01-25T11:51:31.344Z"
   },
   {
    "duration": 279,
    "start_time": "2022-01-25T11:51:37.193Z"
   },
   {
    "duration": 11,
    "start_time": "2022-01-25T11:58:15.358Z"
   },
   {
    "duration": 893,
    "start_time": "2022-01-25T12:07:28.350Z"
   },
   {
    "duration": 64,
    "start_time": "2022-01-25T12:07:36.232Z"
   },
   {
    "duration": 22,
    "start_time": "2022-01-25T14:38:25.548Z"
   },
   {
    "duration": 9,
    "start_time": "2022-01-25T14:39:32.132Z"
   },
   {
    "duration": 30,
    "start_time": "2022-01-25T14:40:24.626Z"
   },
   {
    "duration": 13,
    "start_time": "2022-01-25T14:40:55.725Z"
   },
   {
    "duration": 28,
    "start_time": "2022-01-25T14:48:17.634Z"
   },
   {
    "duration": 6,
    "start_time": "2022-01-25T14:48:44.452Z"
   },
   {
    "duration": 12,
    "start_time": "2022-01-25T14:48:55.549Z"
   },
   {
    "duration": 5,
    "start_time": "2022-01-25T14:55:32.827Z"
   },
   {
    "duration": 5,
    "start_time": "2022-01-25T14:55:55.668Z"
   },
   {
    "duration": 86,
    "start_time": "2022-01-25T14:57:00.365Z"
   },
   {
    "duration": 5985,
    "start_time": "2022-01-25T14:57:11.437Z"
   },
   {
    "duration": 6549,
    "start_time": "2022-01-25T14:58:04.101Z"
   },
   {
    "duration": 788,
    "start_time": "2022-01-25T14:58:37.824Z"
   },
   {
    "duration": 29,
    "start_time": "2022-01-25T14:58:47.617Z"
   },
   {
    "duration": 118,
    "start_time": "2022-01-25T15:05:11.765Z"
   },
   {
    "duration": 23,
    "start_time": "2022-01-25T15:05:14.852Z"
   },
   {
    "duration": 9,
    "start_time": "2022-01-25T15:12:16.510Z"
   },
   {
    "duration": 313,
    "start_time": "2022-01-25T15:13:25.718Z"
   },
   {
    "duration": 248,
    "start_time": "2022-01-25T15:13:32.647Z"
   },
   {
    "duration": 10,
    "start_time": "2022-01-25T15:14:01.676Z"
   },
   {
    "duration": 5,
    "start_time": "2022-01-25T15:14:11.764Z"
   },
   {
    "duration": 6,
    "start_time": "2022-01-25T15:14:20.789Z"
   },
   {
    "duration": 10,
    "start_time": "2022-01-25T15:16:46.742Z"
   },
   {
    "duration": 9,
    "start_time": "2022-01-25T15:17:13.065Z"
   },
   {
    "duration": 264,
    "start_time": "2022-01-25T15:19:06.518Z"
   },
   {
    "duration": 10,
    "start_time": "2022-01-25T15:19:11.511Z"
   },
   {
    "duration": 14,
    "start_time": "2022-01-25T15:20:35.873Z"
   },
   {
    "duration": 23,
    "start_time": "2022-01-25T15:20:48.033Z"
   },
   {
    "duration": 13,
    "start_time": "2022-01-25T15:20:50.458Z"
   },
   {
    "duration": 5,
    "start_time": "2022-01-25T15:25:32.467Z"
   },
   {
    "duration": 5,
    "start_time": "2022-01-25T15:26:32.282Z"
   },
   {
    "duration": 5,
    "start_time": "2022-01-25T15:27:06.665Z"
   },
   {
    "duration": 5,
    "start_time": "2022-01-25T15:27:20.696Z"
   },
   {
    "duration": 5,
    "start_time": "2022-01-25T15:27:26.200Z"
   },
   {
    "duration": 4,
    "start_time": "2022-01-25T15:28:08.165Z"
   },
   {
    "duration": 5,
    "start_time": "2022-01-25T15:29:08.099Z"
   },
   {
    "duration": 5,
    "start_time": "2022-01-25T15:29:19.285Z"
   },
   {
    "duration": 8,
    "start_time": "2022-01-25T15:30:14.667Z"
   },
   {
    "duration": 248,
    "start_time": "2022-01-25T15:30:28.276Z"
   },
   {
    "duration": 10,
    "start_time": "2022-01-25T15:30:41.910Z"
   },
   {
    "duration": 9,
    "start_time": "2022-01-25T15:30:56.720Z"
   },
   {
    "duration": 3092,
    "start_time": "2022-01-25T15:57:46.635Z"
   },
   {
    "duration": 409,
    "start_time": "2022-01-25T15:58:15.525Z"
   },
   {
    "duration": 70,
    "start_time": "2022-01-25T16:01:23.275Z"
   },
   {
    "duration": 24,
    "start_time": "2022-01-25T16:01:24.147Z"
   },
   {
    "duration": 45,
    "start_time": "2022-01-25T16:01:35.988Z"
   },
   {
    "duration": 4,
    "start_time": "2022-01-25T16:01:36.035Z"
   },
   {
    "duration": 39,
    "start_time": "2022-01-25T16:01:36.041Z"
   },
   {
    "duration": 34,
    "start_time": "2022-01-25T16:01:36.082Z"
   },
   {
    "duration": 53,
    "start_time": "2022-01-25T16:01:36.117Z"
   },
   {
    "duration": 10,
    "start_time": "2022-01-25T16:01:36.171Z"
   },
   {
    "duration": 30,
    "start_time": "2022-01-25T16:01:36.182Z"
   },
   {
    "duration": 45,
    "start_time": "2022-01-25T16:01:36.214Z"
   },
   {
    "duration": 23,
    "start_time": "2022-01-25T16:01:36.261Z"
   },
   {
    "duration": 33,
    "start_time": "2022-01-25T16:01:36.285Z"
   },
   {
    "duration": 62,
    "start_time": "2022-01-25T16:01:36.319Z"
   },
   {
    "duration": 15,
    "start_time": "2022-01-25T16:01:36.384Z"
   },
   {
    "duration": 26,
    "start_time": "2022-01-25T16:01:36.401Z"
   },
   {
    "duration": 30,
    "start_time": "2022-01-25T16:01:36.429Z"
   },
   {
    "duration": 24,
    "start_time": "2022-01-25T16:01:36.460Z"
   },
   {
    "duration": 35,
    "start_time": "2022-01-25T16:01:36.486Z"
   },
   {
    "duration": 34,
    "start_time": "2022-01-25T16:01:36.522Z"
   },
   {
    "duration": 29,
    "start_time": "2022-01-25T16:01:36.557Z"
   },
   {
    "duration": 47,
    "start_time": "2022-01-25T16:01:36.587Z"
   },
   {
    "duration": 23,
    "start_time": "2022-01-25T16:01:36.636Z"
   },
   {
    "duration": 52,
    "start_time": "2022-01-25T16:01:36.661Z"
   },
   {
    "duration": 31,
    "start_time": "2022-01-25T16:01:36.714Z"
   },
   {
    "duration": 36,
    "start_time": "2022-01-25T16:01:36.749Z"
   },
   {
    "duration": 293,
    "start_time": "2022-01-25T16:01:36.787Z"
   },
   {
    "duration": 11,
    "start_time": "2022-01-25T16:01:37.083Z"
   },
   {
    "duration": 35,
    "start_time": "2022-01-25T16:01:37.096Z"
   },
   {
    "duration": 19,
    "start_time": "2022-01-25T16:01:37.133Z"
   },
   {
    "duration": 51,
    "start_time": "2022-01-25T16:01:37.153Z"
   },
   {
    "duration": 47,
    "start_time": "2022-01-25T16:01:37.205Z"
   },
   {
    "duration": 56,
    "start_time": "2022-01-25T16:01:37.254Z"
   },
   {
    "duration": 50,
    "start_time": "2022-01-25T16:01:37.311Z"
   },
   {
    "duration": 36,
    "start_time": "2022-01-25T16:01:37.362Z"
   },
   {
    "duration": 65,
    "start_time": "2022-01-25T16:01:37.400Z"
   },
   {
    "duration": 37,
    "start_time": "2022-01-25T16:01:37.467Z"
   },
   {
    "duration": 26,
    "start_time": "2022-01-25T16:01:37.506Z"
   },
   {
    "duration": 58,
    "start_time": "2022-01-25T16:01:37.533Z"
   },
   {
    "duration": 3474,
    "start_time": "2022-01-25T16:01:56.871Z"
   },
   {
    "duration": 264,
    "start_time": "2022-01-25T16:02:21.490Z"
   },
   {
    "duration": 7,
    "start_time": "2022-01-25T16:02:31.130Z"
   },
   {
    "duration": 43,
    "start_time": "2022-01-25T16:03:50.425Z"
   },
   {
    "duration": 3,
    "start_time": "2022-01-25T16:03:50.470Z"
   },
   {
    "duration": 17,
    "start_time": "2022-01-25T16:03:50.475Z"
   },
   {
    "duration": 20,
    "start_time": "2022-01-25T16:03:50.493Z"
   },
   {
    "duration": 22,
    "start_time": "2022-01-25T16:03:50.515Z"
   },
   {
    "duration": 27,
    "start_time": "2022-01-25T16:03:50.539Z"
   },
   {
    "duration": 29,
    "start_time": "2022-01-25T16:03:50.568Z"
   },
   {
    "duration": 9,
    "start_time": "2022-01-25T16:03:50.600Z"
   },
   {
    "duration": 18,
    "start_time": "2022-01-25T16:03:50.612Z"
   },
   {
    "duration": 9,
    "start_time": "2022-01-25T16:03:50.631Z"
   },
   {
    "duration": 25,
    "start_time": "2022-01-25T16:03:50.641Z"
   },
   {
    "duration": 2,
    "start_time": "2022-01-25T16:03:50.668Z"
   },
   {
    "duration": 11,
    "start_time": "2022-01-25T16:03:50.672Z"
   },
   {
    "duration": 15,
    "start_time": "2022-01-25T16:03:50.685Z"
   },
   {
    "duration": 17,
    "start_time": "2022-01-25T16:03:50.702Z"
   },
   {
    "duration": 18,
    "start_time": "2022-01-25T16:03:50.721Z"
   },
   {
    "duration": 14,
    "start_time": "2022-01-25T16:03:50.741Z"
   },
   {
    "duration": 21,
    "start_time": "2022-01-25T16:03:50.757Z"
   },
   {
    "duration": 7,
    "start_time": "2022-01-25T16:03:50.780Z"
   },
   {
    "duration": 7,
    "start_time": "2022-01-25T16:03:50.789Z"
   },
   {
    "duration": 11,
    "start_time": "2022-01-25T16:03:50.798Z"
   },
   {
    "duration": 11,
    "start_time": "2022-01-25T16:03:50.811Z"
   },
   {
    "duration": 14,
    "start_time": "2022-01-25T16:03:50.826Z"
   },
   {
    "duration": 284,
    "start_time": "2022-01-25T16:03:50.862Z"
   },
   {
    "duration": 14,
    "start_time": "2022-01-25T16:03:51.147Z"
   },
   {
    "duration": 10,
    "start_time": "2022-01-25T16:03:51.162Z"
   },
   {
    "duration": 8,
    "start_time": "2022-01-25T16:03:51.174Z"
   },
   {
    "duration": 14,
    "start_time": "2022-01-25T16:03:51.184Z"
   },
   {
    "duration": 11,
    "start_time": "2022-01-25T16:03:51.200Z"
   },
   {
    "duration": 48,
    "start_time": "2022-01-25T16:03:51.213Z"
   },
   {
    "duration": 40,
    "start_time": "2022-01-25T16:03:51.263Z"
   },
   {
    "duration": 22,
    "start_time": "2022-01-25T16:03:51.305Z"
   },
   {
    "duration": 32,
    "start_time": "2022-01-25T16:03:51.329Z"
   },
   {
    "duration": 4,
    "start_time": "2022-01-25T16:03:51.363Z"
   },
   {
    "duration": 8,
    "start_time": "2022-01-25T16:03:51.368Z"
   },
   {
    "duration": 8,
    "start_time": "2022-01-25T16:03:51.378Z"
   },
   {
    "duration": 79,
    "start_time": "2022-01-25T16:03:54.380Z"
   },
   {
    "duration": 7,
    "start_time": "2022-01-25T16:04:12.735Z"
   },
   {
    "duration": 42,
    "start_time": "2022-01-25T16:07:11.067Z"
   },
   {
    "duration": 50,
    "start_time": "2022-01-25T16:07:39.381Z"
   },
   {
    "duration": 23,
    "start_time": "2022-01-25T16:07:42.516Z"
   },
   {
    "duration": 14,
    "start_time": "2022-01-25T16:07:45.870Z"
   },
   {
    "duration": 5,
    "start_time": "2022-01-25T16:07:54.455Z"
   },
   {
    "duration": 5,
    "start_time": "2022-01-25T16:07:56.439Z"
   },
   {
    "duration": 6,
    "start_time": "2022-01-25T16:07:57.360Z"
   },
   {
    "duration": 8,
    "start_time": "2022-01-25T16:08:22.900Z"
   },
   {
    "duration": 796,
    "start_time": "2022-01-26T10:15:28.260Z"
   },
   {
    "duration": 11,
    "start_time": "2022-01-26T10:15:29.058Z"
   },
   {
    "duration": 24,
    "start_time": "2022-01-26T10:15:29.072Z"
   },
   {
    "duration": 26,
    "start_time": "2022-01-26T10:15:29.098Z"
   },
   {
    "duration": 31,
    "start_time": "2022-01-26T10:15:29.126Z"
   },
   {
    "duration": 14,
    "start_time": "2022-01-26T10:15:29.159Z"
   },
   {
    "duration": 49,
    "start_time": "2022-01-26T10:15:29.175Z"
   },
   {
    "duration": 14,
    "start_time": "2022-01-26T10:15:29.228Z"
   },
   {
    "duration": 15,
    "start_time": "2022-01-26T10:15:29.245Z"
   },
   {
    "duration": 12,
    "start_time": "2022-01-26T10:15:29.262Z"
   },
   {
    "duration": 50,
    "start_time": "2022-01-26T10:15:29.276Z"
   },
   {
    "duration": 3,
    "start_time": "2022-01-26T10:15:29.329Z"
   },
   {
    "duration": 8,
    "start_time": "2022-01-26T10:15:29.334Z"
   },
   {
    "duration": 9,
    "start_time": "2022-01-26T10:15:29.344Z"
   },
   {
    "duration": 13,
    "start_time": "2022-01-26T10:15:29.355Z"
   },
   {
    "duration": 17,
    "start_time": "2022-01-26T10:15:29.371Z"
   },
   {
    "duration": 38,
    "start_time": "2022-01-26T10:15:29.391Z"
   },
   {
    "duration": 13,
    "start_time": "2022-01-26T10:15:29.432Z"
   },
   {
    "duration": 8,
    "start_time": "2022-01-26T10:15:29.448Z"
   },
   {
    "duration": 10,
    "start_time": "2022-01-26T10:15:29.459Z"
   },
   {
    "duration": 10,
    "start_time": "2022-01-26T10:15:29.472Z"
   },
   {
    "duration": 52,
    "start_time": "2022-01-26T10:15:29.485Z"
   },
   {
    "duration": 20,
    "start_time": "2022-01-26T10:15:29.543Z"
   },
   {
    "duration": 453,
    "start_time": "2022-01-26T10:15:29.566Z"
   },
   {
    "duration": 13,
    "start_time": "2022-01-26T10:15:30.024Z"
   },
   {
    "duration": 17,
    "start_time": "2022-01-26T10:15:30.040Z"
   },
   {
    "duration": 9,
    "start_time": "2022-01-26T10:15:30.060Z"
   },
   {
    "duration": 61,
    "start_time": "2022-01-26T10:15:30.072Z"
   },
   {
    "duration": 13,
    "start_time": "2022-01-26T10:15:30.136Z"
   },
   {
    "duration": 38,
    "start_time": "2022-01-26T10:15:30.152Z"
   },
   {
    "duration": 87,
    "start_time": "2022-01-26T10:15:30.192Z"
   },
   {
    "duration": 43,
    "start_time": "2022-01-26T10:15:30.282Z"
   },
   {
    "duration": 40,
    "start_time": "2022-01-26T10:15:30.328Z"
   },
   {
    "duration": 6,
    "start_time": "2022-01-26T10:15:30.370Z"
   },
   {
    "duration": 5,
    "start_time": "2022-01-26T10:15:44.580Z"
   },
   {
    "duration": 12,
    "start_time": "2022-01-26T10:18:41.513Z"
   },
   {
    "duration": 7,
    "start_time": "2022-01-26T10:18:57.515Z"
   },
   {
    "duration": 9,
    "start_time": "2022-01-26T10:19:21.495Z"
   },
   {
    "duration": 8,
    "start_time": "2022-01-26T10:22:24.796Z"
   },
   {
    "duration": 9,
    "start_time": "2022-01-26T10:22:33.005Z"
   },
   {
    "duration": 13,
    "start_time": "2022-01-26T10:22:52.887Z"
   },
   {
    "duration": 6,
    "start_time": "2022-01-26T10:23:02.760Z"
   },
   {
    "duration": 9,
    "start_time": "2022-01-26T10:24:25.275Z"
   },
   {
    "duration": 353,
    "start_time": "2022-01-26T10:35:52.593Z"
   },
   {
    "duration": 270,
    "start_time": "2022-01-26T10:36:02.129Z"
   },
   {
    "duration": 18,
    "start_time": "2022-01-26T10:36:11.332Z"
   },
   {
    "duration": 19,
    "start_time": "2022-01-26T10:36:41.508Z"
   },
   {
    "duration": 18,
    "start_time": "2022-01-26T10:36:59.671Z"
   },
   {
    "duration": 41,
    "start_time": "2022-01-26T10:37:48.694Z"
   },
   {
    "duration": 5,
    "start_time": "2022-01-26T10:47:03.726Z"
   },
   {
    "duration": 606,
    "start_time": "2022-01-26T10:48:35.637Z"
   },
   {
    "duration": 48,
    "start_time": "2022-01-26T10:48:49.476Z"
   },
   {
    "duration": 3802,
    "start_time": "2022-01-26T10:48:57.918Z"
   },
   {
    "duration": 5,
    "start_time": "2022-01-26T10:51:21.360Z"
   },
   {
    "duration": 7674,
    "start_time": "2022-01-26T10:51:22.412Z"
   },
   {
    "duration": 290,
    "start_time": "2022-01-26T10:52:37.191Z"
   },
   {
    "duration": 16,
    "start_time": "2022-01-26T10:53:09.130Z"
   },
   {
    "duration": 619,
    "start_time": "2022-01-26T10:58:47.998Z"
   },
   {
    "duration": 17,
    "start_time": "2022-01-26T10:58:50.031Z"
   },
   {
    "duration": 20,
    "start_time": "2022-01-26T11:09:56.500Z"
   },
   {
    "duration": 41,
    "start_time": "2022-01-26T11:09:57.694Z"
   },
   {
    "duration": 39,
    "start_time": "2022-01-26T11:10:50.691Z"
   },
   {
    "duration": 88,
    "start_time": "2022-01-26T11:21:02.650Z"
   },
   {
    "duration": 8,
    "start_time": "2022-01-26T11:22:26.393Z"
   },
   {
    "duration": 11,
    "start_time": "2022-01-26T11:22:42.131Z"
   },
   {
    "duration": 22,
    "start_time": "2022-01-26T12:10:48.248Z"
   },
   {
    "duration": 38,
    "start_time": "2022-01-26T12:10:49.667Z"
   },
   {
    "duration": 80,
    "start_time": "2022-01-26T12:11:08.995Z"
   },
   {
    "duration": 5,
    "start_time": "2022-01-26T12:11:09.078Z"
   },
   {
    "duration": 44,
    "start_time": "2022-01-26T12:11:09.086Z"
   },
   {
    "duration": 16,
    "start_time": "2022-01-26T12:11:09.133Z"
   },
   {
    "duration": 32,
    "start_time": "2022-01-26T12:11:09.152Z"
   },
   {
    "duration": 47,
    "start_time": "2022-01-26T12:11:09.187Z"
   },
   {
    "duration": 12,
    "start_time": "2022-01-26T12:11:09.236Z"
   },
   {
    "duration": 12,
    "start_time": "2022-01-26T12:11:09.252Z"
   },
   {
    "duration": 16,
    "start_time": "2022-01-26T12:11:09.267Z"
   },
   {
    "duration": 17,
    "start_time": "2022-01-26T12:11:09.323Z"
   },
   {
    "duration": 15,
    "start_time": "2022-01-26T12:11:09.343Z"
   },
   {
    "duration": 3,
    "start_time": "2022-01-26T12:11:09.361Z"
   },
   {
    "duration": 5,
    "start_time": "2022-01-26T12:11:09.367Z"
   },
   {
    "duration": 5,
    "start_time": "2022-01-26T12:11:09.374Z"
   },
   {
    "duration": 54,
    "start_time": "2022-01-26T12:11:09.381Z"
   },
   {
    "duration": 12,
    "start_time": "2022-01-26T12:11:09.437Z"
   },
   {
    "duration": 10,
    "start_time": "2022-01-26T12:11:09.452Z"
   },
   {
    "duration": 13,
    "start_time": "2022-01-26T12:11:09.465Z"
   },
   {
    "duration": 8,
    "start_time": "2022-01-26T12:11:09.481Z"
   },
   {
    "duration": 7,
    "start_time": "2022-01-26T12:11:09.524Z"
   },
   {
    "duration": 13,
    "start_time": "2022-01-26T12:11:09.533Z"
   },
   {
    "duration": 15,
    "start_time": "2022-01-26T12:11:09.548Z"
   },
   {
    "duration": 56,
    "start_time": "2022-01-26T12:11:09.570Z"
   },
   {
    "duration": 474,
    "start_time": "2022-01-26T12:11:09.629Z"
   },
   {
    "duration": 27,
    "start_time": "2022-01-26T12:11:10.105Z"
   },
   {
    "duration": 23,
    "start_time": "2022-01-26T12:11:10.135Z"
   },
   {
    "duration": 7,
    "start_time": "2022-01-26T12:11:10.161Z"
   },
   {
    "duration": 52,
    "start_time": "2022-01-26T12:11:10.171Z"
   },
   {
    "duration": 17,
    "start_time": "2022-01-26T12:11:10.225Z"
   },
   {
    "duration": 41,
    "start_time": "2022-01-26T12:11:10.245Z"
   },
   {
    "duration": 93,
    "start_time": "2022-01-26T12:11:10.288Z"
   },
   {
    "duration": 43,
    "start_time": "2022-01-26T12:11:10.383Z"
   },
   {
    "duration": 21,
    "start_time": "2022-01-26T12:11:10.428Z"
   },
   {
    "duration": 8,
    "start_time": "2022-01-26T12:11:10.452Z"
   },
   {
    "duration": 18,
    "start_time": "2022-01-26T12:11:10.462Z"
   },
   {
    "duration": 45,
    "start_time": "2022-01-26T12:11:10.483Z"
   },
   {
    "duration": 12,
    "start_time": "2022-01-26T12:11:10.532Z"
   },
   {
    "duration": 23,
    "start_time": "2022-01-26T12:11:10.547Z"
   },
   {
    "duration": 15,
    "start_time": "2022-01-26T12:11:10.572Z"
   },
   {
    "duration": 13,
    "start_time": "2022-01-26T12:11:10.590Z"
   },
   {
    "duration": 20,
    "start_time": "2022-01-26T12:11:10.605Z"
   },
   {
    "duration": 20,
    "start_time": "2022-01-26T12:11:10.628Z"
   },
   {
    "duration": 15,
    "start_time": "2022-01-26T12:11:10.651Z"
   },
   {
    "duration": 8021,
    "start_time": "2022-01-26T12:11:10.669Z"
   },
   {
    "duration": 16,
    "start_time": "2022-01-26T12:11:18.692Z"
   },
   {
    "duration": 18,
    "start_time": "2022-01-26T12:11:18.710Z"
   },
   {
    "duration": 20,
    "start_time": "2022-01-26T12:11:18.731Z"
   },
   {
    "duration": 35,
    "start_time": "2022-01-26T12:11:18.753Z"
   },
   {
    "duration": 354,
    "start_time": "2022-01-26T12:15:05.424Z"
   },
   {
    "duration": 305,
    "start_time": "2022-01-26T12:16:00.398Z"
   },
   {
    "duration": 20,
    "start_time": "2022-01-26T12:16:33.666Z"
   },
   {
    "duration": 27,
    "start_time": "2022-01-26T12:16:51.037Z"
   },
   {
    "duration": 37,
    "start_time": "2022-01-26T12:17:14.084Z"
   },
   {
    "duration": 273,
    "start_time": "2022-01-26T12:17:54.345Z"
   },
   {
    "duration": 13,
    "start_time": "2022-01-26T12:18:12.650Z"
   },
   {
    "duration": 36,
    "start_time": "2022-01-26T12:18:24.476Z"
   },
   {
    "duration": 4,
    "start_time": "2022-01-26T13:24:11.438Z"
   },
   {
    "duration": 5,
    "start_time": "2022-01-26T13:24:11.725Z"
   },
   {
    "duration": 5,
    "start_time": "2022-01-26T13:24:47.545Z"
   },
   {
    "duration": 11,
    "start_time": "2022-01-26T13:25:10.524Z"
   },
   {
    "duration": 9,
    "start_time": "2022-01-26T13:25:30.265Z"
   },
   {
    "duration": 23,
    "start_time": "2022-01-26T13:26:24.708Z"
   },
   {
    "duration": 23,
    "start_time": "2022-01-26T13:26:36.662Z"
   },
   {
    "duration": 22,
    "start_time": "2022-01-26T13:28:40.814Z"
   },
   {
    "duration": 23,
    "start_time": "2022-01-26T13:28:45.717Z"
   },
   {
    "duration": 7675,
    "start_time": "2022-01-26T13:28:53.710Z"
   },
   {
    "duration": 748,
    "start_time": "2022-01-26T13:29:05.845Z"
   },
   {
    "duration": 12,
    "start_time": "2022-01-26T13:29:07.709Z"
   },
   {
    "duration": 21,
    "start_time": "2022-01-26T13:29:08.557Z"
   },
   {
    "duration": 15,
    "start_time": "2022-01-26T13:29:10.917Z"
   },
   {
    "duration": 32,
    "start_time": "2022-01-26T13:29:12.503Z"
   },
   {
    "duration": 14,
    "start_time": "2022-01-26T13:29:20.071Z"
   },
   {
    "duration": 13,
    "start_time": "2022-01-26T13:29:21.070Z"
   },
   {
    "duration": 19,
    "start_time": "2022-01-26T13:30:05.964Z"
   },
   {
    "duration": 20,
    "start_time": "2022-01-26T13:30:07.102Z"
   },
   {
    "duration": 13,
    "start_time": "2022-01-26T13:31:45.832Z"
   },
   {
    "duration": 15,
    "start_time": "2022-01-26T13:32:01.233Z"
   },
   {
    "duration": 117,
    "start_time": "2022-01-26T13:34:08.473Z"
   },
   {
    "duration": 13,
    "start_time": "2022-01-26T13:34:15.664Z"
   },
   {
    "duration": 13,
    "start_time": "2022-01-26T13:34:43.732Z"
   },
   {
    "duration": 11,
    "start_time": "2022-01-26T13:35:00.326Z"
   },
   {
    "duration": 14,
    "start_time": "2022-01-26T13:35:00.949Z"
   },
   {
    "duration": 9354,
    "start_time": "2022-01-26T13:37:55.290Z"
   },
   {
    "duration": 311,
    "start_time": "2022-01-26T13:40:08.698Z"
   },
   {
    "duration": 319,
    "start_time": "2022-01-26T13:41:16.858Z"
   },
   {
    "duration": 328,
    "start_time": "2022-01-26T13:41:22.203Z"
   },
   {
    "duration": 59,
    "start_time": "2022-01-26T13:41:27.907Z"
   },
   {
    "duration": 21,
    "start_time": "2022-01-26T13:41:32.475Z"
   },
   {
    "duration": 9,
    "start_time": "2022-01-26T13:41:51.965Z"
   },
   {
    "duration": 266,
    "start_time": "2022-01-26T13:43:56.459Z"
   },
   {
    "duration": 298,
    "start_time": "2022-01-26T13:44:33.007Z"
   },
   {
    "duration": 282,
    "start_time": "2022-01-26T13:45:03.179Z"
   },
   {
    "duration": 7,
    "start_time": "2022-01-26T13:45:08.732Z"
   },
   {
    "duration": 7,
    "start_time": "2022-01-26T13:45:14.364Z"
   },
   {
    "duration": 64,
    "start_time": "2022-01-26T13:46:27.789Z"
   },
   {
    "duration": 15,
    "start_time": "2022-01-26T13:46:38.846Z"
   },
   {
    "duration": 13,
    "start_time": "2022-01-26T13:46:59.401Z"
   },
   {
    "duration": 59,
    "start_time": "2022-01-26T13:47:02.441Z"
   },
   {
    "duration": 42,
    "start_time": "2022-01-26T14:01:13.292Z"
   },
   {
    "duration": 49,
    "start_time": "2022-01-26T14:01:23.163Z"
   },
   {
    "duration": 17,
    "start_time": "2022-01-26T14:07:29.367Z"
   },
   {
    "duration": 12,
    "start_time": "2022-01-26T14:07:30.478Z"
   },
   {
    "duration": 14,
    "start_time": "2022-01-26T14:07:32.151Z"
   },
   {
    "duration": 40,
    "start_time": "2022-01-26T14:07:41.744Z"
   },
   {
    "duration": 46,
    "start_time": "2022-01-26T14:07:43.816Z"
   },
   {
    "duration": 13,
    "start_time": "2022-01-26T14:07:48.014Z"
   },
   {
    "duration": 64,
    "start_time": "2022-01-26T14:07:48.927Z"
   },
   {
    "duration": 3,
    "start_time": "2022-01-26T14:07:52.672Z"
   },
   {
    "duration": 3,
    "start_time": "2022-01-26T14:07:53.504Z"
   },
   {
    "duration": 10,
    "start_time": "2022-01-26T14:08:10.506Z"
   },
   {
    "duration": 12,
    "start_time": "2022-01-26T14:08:12.979Z"
   },
   {
    "duration": 10,
    "start_time": "2022-01-26T14:08:13.964Z"
   },
   {
    "duration": 8,
    "start_time": "2022-01-26T14:08:15.763Z"
   },
   {
    "duration": 9,
    "start_time": "2022-01-26T14:08:24.196Z"
   },
   {
    "duration": 8,
    "start_time": "2022-01-26T14:08:25.772Z"
   },
   {
    "duration": 12,
    "start_time": "2022-01-26T14:08:42.230Z"
   },
   {
    "duration": 17,
    "start_time": "2022-01-26T14:08:58.280Z"
   },
   {
    "duration": 20,
    "start_time": "2022-01-26T14:09:29.936Z"
   },
   {
    "duration": 478,
    "start_time": "2022-01-26T14:09:37.924Z"
   },
   {
    "duration": 13,
    "start_time": "2022-01-26T14:09:48.998Z"
   },
   {
    "duration": 15,
    "start_time": "2022-01-26T14:09:53.807Z"
   },
   {
    "duration": 14,
    "start_time": "2022-01-26T14:10:51.413Z"
   },
   {
    "duration": 12,
    "start_time": "2022-01-26T14:10:57.535Z"
   },
   {
    "duration": 98,
    "start_time": "2022-01-26T14:13:23.831Z"
   },
   {
    "duration": 114,
    "start_time": "2022-01-26T14:13:31.616Z"
   },
   {
    "duration": 16,
    "start_time": "2022-01-26T14:13:48.257Z"
   },
   {
    "duration": 11,
    "start_time": "2022-01-26T14:14:06.948Z"
   },
   {
    "duration": 10,
    "start_time": "2022-01-26T14:17:14.058Z"
   },
   {
    "duration": 10,
    "start_time": "2022-01-26T14:18:03.456Z"
   },
   {
    "duration": 13,
    "start_time": "2022-01-26T14:18:55.093Z"
   },
   {
    "duration": 8,
    "start_time": "2022-01-26T14:18:57.726Z"
   },
   {
    "duration": 10,
    "start_time": "2022-01-26T14:19:06.519Z"
   },
   {
    "duration": 508,
    "start_time": "2022-01-26T14:19:27.641Z"
   },
   {
    "duration": 343,
    "start_time": "2022-01-26T14:19:31.810Z"
   },
   {
    "duration": 290,
    "start_time": "2022-01-26T14:19:47.924Z"
   },
   {
    "duration": 7,
    "start_time": "2022-01-26T14:19:58.717Z"
   },
   {
    "duration": 10,
    "start_time": "2022-01-26T14:20:12.063Z"
   },
   {
    "duration": 8,
    "start_time": "2022-01-26T14:20:12.894Z"
   },
   {
    "duration": 10,
    "start_time": "2022-01-26T14:20:13.550Z"
   },
   {
    "duration": 9,
    "start_time": "2022-01-26T14:20:14.375Z"
   },
   {
    "duration": 9,
    "start_time": "2022-01-26T14:20:38.217Z"
   },
   {
    "duration": 476,
    "start_time": "2022-01-26T16:09:18.775Z"
   },
   {
    "duration": 101,
    "start_time": "2022-01-26T16:09:22.341Z"
   },
   {
    "duration": 361,
    "start_time": "2022-01-26T16:09:22.703Z"
   },
   {
    "duration": 4,
    "start_time": "2022-01-26T16:09:31.873Z"
   },
   {
    "duration": 4,
    "start_time": "2022-01-26T16:09:32.809Z"
   },
   {
    "duration": 4,
    "start_time": "2022-01-26T16:09:53.429Z"
   },
   {
    "duration": 12,
    "start_time": "2022-01-26T16:10:03.173Z"
   },
   {
    "duration": 8,
    "start_time": "2022-01-26T16:10:04.006Z"
   },
   {
    "duration": 29,
    "start_time": "2022-01-26T16:10:31.609Z"
   },
   {
    "duration": 321,
    "start_time": "2022-01-26T16:22:57.542Z"
   },
   {
    "duration": 25,
    "start_time": "2022-01-26T16:23:08.392Z"
   },
   {
    "duration": 33,
    "start_time": "2022-01-26T16:33:09.622Z"
   },
   {
    "duration": 38,
    "start_time": "2022-01-26T16:34:27.901Z"
   },
   {
    "duration": 20,
    "start_time": "2022-01-26T16:34:54.968Z"
   },
   {
    "duration": 28,
    "start_time": "2022-01-26T16:35:04.833Z"
   },
   {
    "duration": 16,
    "start_time": "2022-01-26T16:35:33.909Z"
   },
   {
    "duration": 20,
    "start_time": "2022-01-26T16:35:56.591Z"
   },
   {
    "duration": 20,
    "start_time": "2022-01-26T16:36:05.696Z"
   },
   {
    "duration": 16,
    "start_time": "2022-01-26T16:36:11.016Z"
   },
   {
    "duration": 18,
    "start_time": "2022-01-26T16:36:17.114Z"
   },
   {
    "duration": 33,
    "start_time": "2022-01-26T16:36:43.397Z"
   },
   {
    "duration": 19,
    "start_time": "2022-01-26T16:36:52.263Z"
   },
   {
    "duration": 31,
    "start_time": "2022-01-26T16:37:06.032Z"
   },
   {
    "duration": 23,
    "start_time": "2022-01-26T16:37:44.316Z"
   },
   {
    "duration": 19,
    "start_time": "2022-01-26T16:37:51.660Z"
   },
   {
    "duration": 25,
    "start_time": "2022-01-26T16:37:57.813Z"
   },
   {
    "duration": 20,
    "start_time": "2022-01-26T16:38:04.653Z"
   },
   {
    "duration": 34,
    "start_time": "2022-01-26T16:38:40.739Z"
   },
   {
    "duration": 25,
    "start_time": "2022-01-26T16:38:47.132Z"
   },
   {
    "duration": 17,
    "start_time": "2022-01-26T16:38:58.044Z"
   },
   {
    "duration": 87,
    "start_time": "2022-01-26T16:39:04.013Z"
   },
   {
    "duration": 17,
    "start_time": "2022-01-26T16:39:08.565Z"
   },
   {
    "duration": 271,
    "start_time": "2022-01-26T16:41:16.828Z"
   },
   {
    "duration": 16,
    "start_time": "2022-01-26T16:41:23.829Z"
   },
   {
    "duration": 4,
    "start_time": "2022-01-26T16:42:13.594Z"
   },
   {
    "duration": 4,
    "start_time": "2022-01-26T16:42:14.219Z"
   },
   {
    "duration": 11,
    "start_time": "2022-01-26T16:42:15.674Z"
   },
   {
    "duration": 9,
    "start_time": "2022-01-26T16:42:16.987Z"
   },
   {
    "duration": 22,
    "start_time": "2022-01-26T16:42:25.603Z"
   },
   {
    "duration": 17,
    "start_time": "2022-01-26T16:42:26.892Z"
   },
   {
    "duration": 16,
    "start_time": "2022-01-26T16:43:01.728Z"
   },
   {
    "duration": 17,
    "start_time": "2022-01-26T16:44:03.735Z"
   },
   {
    "duration": 141,
    "start_time": "2022-01-26T16:46:35.449Z"
   },
   {
    "duration": 9,
    "start_time": "2022-01-26T16:46:40.416Z"
   },
   {
    "duration": 10,
    "start_time": "2022-01-26T16:47:07.268Z"
   },
   {
    "duration": 11,
    "start_time": "2022-01-26T16:47:43.089Z"
   },
   {
    "duration": 10,
    "start_time": "2022-01-26T16:47:54.337Z"
   },
   {
    "duration": 9,
    "start_time": "2022-01-26T16:56:02.906Z"
   },
   {
    "duration": 10,
    "start_time": "2022-01-26T16:56:26.303Z"
   },
   {
    "duration": 95,
    "start_time": "2022-01-26T17:05:01.385Z"
   },
   {
    "duration": 111,
    "start_time": "2022-01-26T17:05:07.456Z"
   },
   {
    "duration": 4,
    "start_time": "2022-01-26T17:05:12.810Z"
   },
   {
    "duration": 6,
    "start_time": "2022-01-26T17:07:59.938Z"
   },
   {
    "duration": 102,
    "start_time": "2022-01-26T17:08:00.502Z"
   },
   {
    "duration": 16,
    "start_time": "2022-01-26T17:08:07.318Z"
   },
   {
    "duration": 5,
    "start_time": "2022-01-26T17:08:24.600Z"
   },
   {
    "duration": 15,
    "start_time": "2022-01-26T17:08:25.136Z"
   },
   {
    "duration": 5,
    "start_time": "2022-01-26T17:08:53.403Z"
   },
   {
    "duration": 14,
    "start_time": "2022-01-26T17:08:53.859Z"
   },
   {
    "duration": 13,
    "start_time": "2022-01-26T17:09:13.366Z"
   },
   {
    "duration": 5,
    "start_time": "2022-01-26T17:09:49.993Z"
   },
   {
    "duration": 15,
    "start_time": "2022-01-26T17:09:50.586Z"
   },
   {
    "duration": 16755,
    "start_time": "2022-01-26T17:11:42.758Z"
   },
   {
    "duration": 18,
    "start_time": "2022-01-26T17:12:24.653Z"
   },
   {
    "duration": 8,
    "start_time": "2022-01-26T17:53:37.824Z"
   },
   {
    "duration": 9,
    "start_time": "2022-01-26T17:53:57.763Z"
   },
   {
    "duration": 56,
    "start_time": "2022-01-26T17:55:22.421Z"
   },
   {
    "duration": 263,
    "start_time": "2022-01-26T17:55:22.479Z"
   },
   {
    "duration": 329,
    "start_time": "2022-01-26T17:55:22.745Z"
   },
   {
    "duration": 181,
    "start_time": "2022-01-26T17:55:23.077Z"
   },
   {
    "duration": 106,
    "start_time": "2022-01-26T17:55:23.261Z"
   },
   {
    "duration": 79,
    "start_time": "2022-01-26T17:55:23.370Z"
   },
   {
    "duration": 289,
    "start_time": "2022-01-26T17:55:23.451Z"
   },
   {
    "duration": 295,
    "start_time": "2022-01-26T17:55:23.743Z"
   },
   {
    "duration": 246,
    "start_time": "2022-01-26T17:55:24.041Z"
   },
   {
    "duration": 327,
    "start_time": "2022-01-26T17:55:24.291Z"
   },
   {
    "duration": 304,
    "start_time": "2022-01-26T17:55:24.620Z"
   },
   {
    "duration": 250,
    "start_time": "2022-01-26T17:55:24.926Z"
   },
   {
    "duration": 170,
    "start_time": "2022-01-26T17:55:25.179Z"
   },
   {
    "duration": 250,
    "start_time": "2022-01-26T17:55:25.352Z"
   },
   {
    "duration": 132,
    "start_time": "2022-01-26T17:55:25.604Z"
   },
   {
    "duration": 153,
    "start_time": "2022-01-26T17:55:25.738Z"
   },
   {
    "duration": 316,
    "start_time": "2022-01-26T17:55:25.894Z"
   },
   {
    "duration": 198,
    "start_time": "2022-01-26T17:55:26.212Z"
   },
   {
    "duration": 252,
    "start_time": "2022-01-26T17:55:26.412Z"
   },
   {
    "duration": 237,
    "start_time": "2022-01-26T17:55:26.666Z"
   },
   {
    "duration": 191,
    "start_time": "2022-01-26T17:55:26.906Z"
   },
   {
    "duration": 207,
    "start_time": "2022-01-26T17:55:27.099Z"
   },
   {
    "duration": 166,
    "start_time": "2022-01-26T17:55:27.312Z"
   },
   {
    "duration": 167,
    "start_time": "2022-01-26T17:55:27.482Z"
   },
   {
    "duration": 168,
    "start_time": "2022-01-26T17:55:27.652Z"
   },
   {
    "duration": 291,
    "start_time": "2022-01-26T17:55:27.823Z"
   },
   {
    "duration": 305,
    "start_time": "2022-01-26T17:55:28.117Z"
   },
   {
    "duration": 309,
    "start_time": "2022-01-26T17:55:28.424Z"
   },
   {
    "duration": 294,
    "start_time": "2022-01-26T17:55:28.735Z"
   },
   {
    "duration": 283,
    "start_time": "2022-01-26T17:55:29.032Z"
   },
   {
    "duration": 288,
    "start_time": "2022-01-26T17:55:29.318Z"
   },
   {
    "duration": 236,
    "start_time": "2022-01-26T17:55:29.608Z"
   },
   {
    "duration": 876,
    "start_time": "2022-01-26T17:55:29.847Z"
   },
   {
    "duration": 15,
    "start_time": "2022-01-26T17:55:30.726Z"
   },
   {
    "duration": 214,
    "start_time": "2022-01-26T17:55:30.744Z"
   },
   {
    "duration": 266,
    "start_time": "2022-01-26T17:55:30.960Z"
   },
   {
    "duration": 289,
    "start_time": "2022-01-26T17:55:31.229Z"
   },
   {
    "duration": 351,
    "start_time": "2022-01-26T17:55:31.521Z"
   },
   {
    "duration": 284,
    "start_time": "2022-01-26T17:55:31.879Z"
   },
   {
    "duration": 281,
    "start_time": "2022-01-26T17:55:32.166Z"
   },
   {
    "duration": 375,
    "start_time": "2022-01-26T17:55:32.450Z"
   },
   {
    "duration": 240,
    "start_time": "2022-01-26T17:55:32.828Z"
   },
   {
    "duration": 259,
    "start_time": "2022-01-26T17:55:33.071Z"
   },
   {
    "duration": 241,
    "start_time": "2022-01-26T17:55:33.333Z"
   },
   {
    "duration": 279,
    "start_time": "2022-01-26T17:55:33.577Z"
   },
   {
    "duration": 289,
    "start_time": "2022-01-26T17:55:33.859Z"
   },
   {
    "duration": 228,
    "start_time": "2022-01-26T17:55:34.151Z"
   },
   {
    "duration": 296,
    "start_time": "2022-01-26T17:55:34.381Z"
   },
   {
    "duration": 305,
    "start_time": "2022-01-26T17:55:34.680Z"
   },
   {
    "duration": 177,
    "start_time": "2022-01-26T17:55:34.987Z"
   },
   {
    "duration": 186,
    "start_time": "2022-01-26T17:55:35.166Z"
   },
   {
    "duration": 243,
    "start_time": "2022-01-26T17:55:35.355Z"
   },
   {
    "duration": 240,
    "start_time": "2022-01-26T17:55:35.600Z"
   },
   {
    "duration": 8688,
    "start_time": "2022-01-26T17:55:35.842Z"
   },
   {
    "duration": 17,
    "start_time": "2022-01-26T17:55:44.533Z"
   },
   {
    "duration": 290,
    "start_time": "2022-01-26T17:55:44.552Z"
   },
   {
    "duration": 504,
    "start_time": "2022-01-26T17:55:44.844Z"
   },
   {
    "duration": 339,
    "start_time": "2022-01-26T17:55:45.350Z"
   },
   {
    "duration": 346,
    "start_time": "2022-01-26T17:55:45.691Z"
   },
   {
    "duration": 477,
    "start_time": "2022-01-26T17:55:46.040Z"
   },
   {
    "duration": 252,
    "start_time": "2022-01-26T17:55:46.519Z"
   },
   {
    "duration": 202,
    "start_time": "2022-01-26T17:55:46.774Z"
   },
   {
    "duration": 221,
    "start_time": "2022-01-26T17:55:46.978Z"
   },
   {
    "duration": 207,
    "start_time": "2022-01-26T17:55:47.201Z"
   },
   {
    "duration": 267,
    "start_time": "2022-01-26T17:55:47.410Z"
   },
   {
    "duration": 322,
    "start_time": "2022-01-26T17:55:47.679Z"
   },
   {
    "duration": 754,
    "start_time": "2022-01-26T17:55:59.164Z"
   },
   {
    "duration": 12,
    "start_time": "2022-01-26T17:55:59.920Z"
   },
   {
    "duration": 308,
    "start_time": "2022-01-26T17:55:59.936Z"
   },
   {
    "duration": 14,
    "start_time": "2022-01-26T17:56:02.964Z"
   },
   {
    "duration": 30,
    "start_time": "2022-01-26T17:56:03.883Z"
   },
   {
    "duration": 13,
    "start_time": "2022-01-26T17:56:05.099Z"
   },
   {
    "duration": 13,
    "start_time": "2022-01-26T17:56:05.803Z"
   },
   {
    "duration": 17,
    "start_time": "2022-01-26T17:56:07.730Z"
   },
   {
    "duration": 20,
    "start_time": "2022-01-26T17:56:09.371Z"
   },
   {
    "duration": 14,
    "start_time": "2022-01-26T17:56:11.635Z"
   },
   {
    "duration": 15,
    "start_time": "2022-01-26T17:56:12.340Z"
   },
   {
    "duration": 13,
    "start_time": "2022-01-26T17:56:13.047Z"
   },
   {
    "duration": 14,
    "start_time": "2022-01-26T17:56:13.844Z"
   },
   {
    "duration": 41,
    "start_time": "2022-01-26T17:56:16.083Z"
   },
   {
    "duration": 46,
    "start_time": "2022-01-26T17:56:16.596Z"
   },
   {
    "duration": 13,
    "start_time": "2022-01-26T17:56:17.484Z"
   },
   {
    "duration": 62,
    "start_time": "2022-01-26T17:56:20.172Z"
   },
   {
    "duration": 13,
    "start_time": "2022-01-26T17:56:27.895Z"
   },
   {
    "duration": 19,
    "start_time": "2022-01-26T17:56:29.334Z"
   },
   {
    "duration": 11,
    "start_time": "2022-01-26T17:56:30.534Z"
   },
   {
    "duration": 9,
    "start_time": "2022-01-26T17:56:31.990Z"
   },
   {
    "duration": 11,
    "start_time": "2022-01-26T17:56:34.079Z"
   },
   {
    "duration": 9,
    "start_time": "2022-01-26T17:56:34.398Z"
   },
   {
    "duration": 11,
    "start_time": "2022-01-26T17:56:36.086Z"
   },
   {
    "duration": 7,
    "start_time": "2022-01-26T17:56:36.718Z"
   },
   {
    "duration": 9,
    "start_time": "2022-01-26T17:56:37.247Z"
   },
   {
    "duration": 9,
    "start_time": "2022-01-26T17:56:37.574Z"
   },
   {
    "duration": 8,
    "start_time": "2022-01-26T17:56:38.199Z"
   },
   {
    "duration": 16,
    "start_time": "2022-01-26T17:56:40.070Z"
   },
   {
    "duration": 20,
    "start_time": "2022-01-26T17:56:42.480Z"
   },
   {
    "duration": 534,
    "start_time": "2022-01-26T17:56:55.209Z"
   },
   {
    "duration": 12,
    "start_time": "2022-01-26T17:56:57.056Z"
   },
   {
    "duration": 15,
    "start_time": "2022-01-26T17:56:57.563Z"
   },
   {
    "duration": 20,
    "start_time": "2022-01-26T17:56:58.201Z"
   },
   {
    "duration": 19,
    "start_time": "2022-01-26T17:57:11.009Z"
   },
   {
    "duration": 12,
    "start_time": "2022-01-26T17:57:23.533Z"
   },
   {
    "duration": 42,
    "start_time": "2022-01-26T17:57:27.527Z"
   },
   {
    "duration": 66,
    "start_time": "2022-01-26T17:57:57.704Z"
   },
   {
    "duration": 38,
    "start_time": "2022-01-26T17:57:59.535Z"
   },
   {
    "duration": 18,
    "start_time": "2022-01-26T17:58:02.305Z"
   },
   {
    "duration": 6,
    "start_time": "2022-01-26T17:58:05.777Z"
   },
   {
    "duration": 10,
    "start_time": "2022-01-26T17:58:07.089Z"
   },
   {
    "duration": 7,
    "start_time": "2022-01-26T17:58:12.369Z"
   },
   {
    "duration": 9,
    "start_time": "2022-01-26T17:58:15.506Z"
   },
   {
    "duration": 9,
    "start_time": "2022-01-26T17:58:23.797Z"
   },
   {
    "duration": 9,
    "start_time": "2022-01-26T17:58:24.315Z"
   },
   {
    "duration": 6,
    "start_time": "2022-01-26T17:58:26.123Z"
   },
   {
    "duration": 9,
    "start_time": "2022-01-26T17:58:26.932Z"
   },
   {
    "duration": 5,
    "start_time": "2022-01-26T17:58:39.713Z"
   },
   {
    "duration": 7950,
    "start_time": "2022-01-26T17:58:40.143Z"
   },
   {
    "duration": 17,
    "start_time": "2022-01-26T17:58:48.095Z"
   },
   {
    "duration": 8,
    "start_time": "2022-01-26T17:58:48.124Z"
   },
   {
    "duration": 56,
    "start_time": "2022-01-26T18:00:01.759Z"
   },
   {
    "duration": 6,
    "start_time": "2022-01-26T18:00:01.818Z"
   },
   {
    "duration": 39,
    "start_time": "2022-01-26T18:00:01.827Z"
   },
   {
    "duration": 17,
    "start_time": "2022-01-26T18:00:01.870Z"
   },
   {
    "duration": 66,
    "start_time": "2022-01-26T18:00:01.889Z"
   },
   {
    "duration": 13,
    "start_time": "2022-01-26T18:00:01.958Z"
   },
   {
    "duration": 49,
    "start_time": "2022-01-26T18:00:01.974Z"
   },
   {
    "duration": 12,
    "start_time": "2022-01-26T18:00:02.027Z"
   },
   {
    "duration": 16,
    "start_time": "2022-01-26T18:00:02.043Z"
   },
   {
    "duration": 12,
    "start_time": "2022-01-26T18:00:02.061Z"
   },
   {
    "duration": 49,
    "start_time": "2022-01-26T18:00:02.076Z"
   },
   {
    "duration": 10,
    "start_time": "2022-01-26T18:00:02.128Z"
   },
   {
    "duration": 14,
    "start_time": "2022-01-26T18:00:02.140Z"
   },
   {
    "duration": 70,
    "start_time": "2022-01-26T18:00:02.156Z"
   },
   {
    "duration": 44,
    "start_time": "2022-01-26T18:00:02.229Z"
   },
   {
    "duration": 12,
    "start_time": "2022-01-26T18:00:02.275Z"
   },
   {
    "duration": 90,
    "start_time": "2022-01-26T18:00:02.289Z"
   },
   {
    "duration": 3,
    "start_time": "2022-01-26T18:00:02.381Z"
   },
   {
    "duration": 18,
    "start_time": "2022-01-26T18:00:02.386Z"
   },
   {
    "duration": 18,
    "start_time": "2022-01-26T18:00:02.406Z"
   },
   {
    "duration": 23,
    "start_time": "2022-01-26T18:00:02.427Z"
   },
   {
    "duration": 11,
    "start_time": "2022-01-26T18:00:02.453Z"
   },
   {
    "duration": 8,
    "start_time": "2022-01-26T18:00:02.472Z"
   },
   {
    "duration": 40,
    "start_time": "2022-01-26T18:00:02.483Z"
   },
   {
    "duration": 9,
    "start_time": "2022-01-26T18:00:02.526Z"
   },
   {
    "duration": 18,
    "start_time": "2022-01-26T18:00:02.537Z"
   },
   {
    "duration": 8,
    "start_time": "2022-01-26T18:00:02.557Z"
   },
   {
    "duration": 12,
    "start_time": "2022-01-26T18:00:02.567Z"
   },
   {
    "duration": 44,
    "start_time": "2022-01-26T18:00:02.581Z"
   },
   {
    "duration": 9,
    "start_time": "2022-01-26T18:00:02.627Z"
   },
   {
    "duration": 16,
    "start_time": "2022-01-26T18:00:02.638Z"
   },
   {
    "duration": 19,
    "start_time": "2022-01-26T18:00:02.656Z"
   },
   {
    "duration": 450,
    "start_time": "2022-01-26T18:00:02.678Z"
   },
   {
    "duration": 12,
    "start_time": "2022-01-26T18:00:03.130Z"
   },
   {
    "duration": 13,
    "start_time": "2022-01-26T18:00:03.144Z"
   },
   {
    "duration": 15,
    "start_time": "2022-01-26T18:00:03.159Z"
   },
   {
    "duration": 2,
    "start_time": "2022-01-26T18:00:03.177Z"
   },
   {
    "duration": 17,
    "start_time": "2022-01-26T18:00:03.224Z"
   },
   {
    "duration": 14,
    "start_time": "2022-01-26T18:00:03.243Z"
   },
   {
    "duration": 68,
    "start_time": "2022-01-26T18:00:03.259Z"
   },
   {
    "duration": 94,
    "start_time": "2022-01-26T18:00:03.330Z"
   },
   {
    "duration": 53,
    "start_time": "2022-01-26T18:00:03.426Z"
   },
   {
    "duration": 42,
    "start_time": "2022-01-26T18:00:03.481Z"
   },
   {
    "duration": 6,
    "start_time": "2022-01-26T18:00:03.525Z"
   },
   {
    "duration": 10,
    "start_time": "2022-01-26T18:00:03.534Z"
   },
   {
    "duration": 5,
    "start_time": "2022-01-26T18:00:03.547Z"
   },
   {
    "duration": 10,
    "start_time": "2022-01-26T18:00:03.554Z"
   },
   {
    "duration": 14,
    "start_time": "2022-01-26T18:00:03.567Z"
   },
   {
    "duration": 39,
    "start_time": "2022-01-26T18:00:03.584Z"
   },
   {
    "duration": 9,
    "start_time": "2022-01-26T18:00:03.627Z"
   },
   {
    "duration": 9,
    "start_time": "2022-01-26T18:00:03.638Z"
   },
   {
    "duration": 9,
    "start_time": "2022-01-26T18:00:03.649Z"
   },
   {
    "duration": 6,
    "start_time": "2022-01-26T18:00:03.661Z"
   },
   {
    "duration": 33,
    "start_time": "2022-01-26T18:00:14.335Z"
   },
   {
    "duration": 8,
    "start_time": "2022-01-26T18:00:23.623Z"
   },
   {
    "duration": 52,
    "start_time": "2022-01-26T18:00:37.755Z"
   },
   {
    "duration": 5,
    "start_time": "2022-01-26T18:00:37.810Z"
   },
   {
    "duration": 21,
    "start_time": "2022-01-26T18:00:37.818Z"
   },
   {
    "duration": 15,
    "start_time": "2022-01-26T18:00:37.842Z"
   },
   {
    "duration": 71,
    "start_time": "2022-01-26T18:00:37.859Z"
   },
   {
    "duration": 12,
    "start_time": "2022-01-26T18:00:37.933Z"
   },
   {
    "duration": 12,
    "start_time": "2022-01-26T18:00:37.947Z"
   },
   {
    "duration": 11,
    "start_time": "2022-01-26T18:00:37.962Z"
   },
   {
    "duration": 59,
    "start_time": "2022-01-26T18:00:37.976Z"
   },
   {
    "duration": 10,
    "start_time": "2022-01-26T18:00:38.038Z"
   },
   {
    "duration": 13,
    "start_time": "2022-01-26T18:00:38.051Z"
   },
   {
    "duration": 11,
    "start_time": "2022-01-26T18:00:38.066Z"
   },
   {
    "duration": 53,
    "start_time": "2022-01-26T18:00:38.079Z"
   },
   {
    "duration": 41,
    "start_time": "2022-01-26T18:00:38.135Z"
   },
   {
    "duration": 74,
    "start_time": "2022-01-26T18:00:38.178Z"
   },
   {
    "duration": 14,
    "start_time": "2022-01-26T18:00:38.254Z"
   },
   {
    "duration": 83,
    "start_time": "2022-01-26T18:00:38.269Z"
   },
   {
    "duration": 3,
    "start_time": "2022-01-26T18:00:38.354Z"
   },
   {
    "duration": 9,
    "start_time": "2022-01-26T18:00:38.359Z"
   },
   {
    "duration": 16,
    "start_time": "2022-01-26T18:00:38.371Z"
   },
   {
    "duration": 40,
    "start_time": "2022-01-26T18:00:38.390Z"
   },
   {
    "duration": 15,
    "start_time": "2022-01-26T18:00:38.433Z"
   },
   {
    "duration": 9,
    "start_time": "2022-01-26T18:00:38.459Z"
   },
   {
    "duration": 11,
    "start_time": "2022-01-26T18:00:38.473Z"
   },
   {
    "duration": 42,
    "start_time": "2022-01-26T18:00:38.487Z"
   },
   {
    "duration": 17,
    "start_time": "2022-01-26T18:00:38.532Z"
   },
   {
    "duration": 9,
    "start_time": "2022-01-26T18:00:38.552Z"
   },
   {
    "duration": 11,
    "start_time": "2022-01-26T18:00:38.563Z"
   },
   {
    "duration": 47,
    "start_time": "2022-01-26T18:00:38.577Z"
   },
   {
    "duration": 8,
    "start_time": "2022-01-26T18:00:38.626Z"
   },
   {
    "duration": 17,
    "start_time": "2022-01-26T18:00:38.636Z"
   },
   {
    "duration": 20,
    "start_time": "2022-01-26T18:00:38.655Z"
   },
   {
    "duration": 474,
    "start_time": "2022-01-26T18:00:38.677Z"
   },
   {
    "duration": 11,
    "start_time": "2022-01-26T18:00:39.154Z"
   },
   {
    "duration": 13,
    "start_time": "2022-01-26T18:00:39.168Z"
   },
   {
    "duration": 42,
    "start_time": "2022-01-26T18:00:39.183Z"
   },
   {
    "duration": 3,
    "start_time": "2022-01-26T18:00:39.227Z"
   },
   {
    "duration": 18,
    "start_time": "2022-01-26T18:00:39.232Z"
   },
   {
    "duration": 12,
    "start_time": "2022-01-26T18:00:39.252Z"
   },
   {
    "duration": 78,
    "start_time": "2022-01-26T18:00:39.266Z"
   },
   {
    "duration": 77,
    "start_time": "2022-01-26T18:00:39.346Z"
   },
   {
    "duration": 36,
    "start_time": "2022-01-26T18:00:39.425Z"
   },
   {
    "duration": 18,
    "start_time": "2022-01-26T18:00:39.464Z"
   },
   {
    "duration": 6,
    "start_time": "2022-01-26T18:00:39.484Z"
   },
   {
    "duration": 10,
    "start_time": "2022-01-26T18:00:39.524Z"
   },
   {
    "duration": 6,
    "start_time": "2022-01-26T18:00:39.536Z"
   },
   {
    "duration": 10,
    "start_time": "2022-01-26T18:00:39.545Z"
   },
   {
    "duration": 10,
    "start_time": "2022-01-26T18:00:39.558Z"
   },
   {
    "duration": 10,
    "start_time": "2022-01-26T18:00:39.571Z"
   },
   {
    "duration": 13,
    "start_time": "2022-01-26T18:00:39.623Z"
   },
   {
    "duration": 8,
    "start_time": "2022-01-26T18:00:39.639Z"
   },
   {
    "duration": 11,
    "start_time": "2022-01-26T18:00:39.650Z"
   },
   {
    "duration": 8,
    "start_time": "2022-01-26T18:00:39.664Z"
   },
   {
    "duration": 66,
    "start_time": "2022-01-26T18:00:39.674Z"
   },
   {
    "duration": 20,
    "start_time": "2022-01-26T18:00:46.851Z"
   },
   {
    "duration": 38,
    "start_time": "2022-01-26T18:00:48.516Z"
   },
   {
    "duration": 23,
    "start_time": "2022-01-26T18:00:57.572Z"
   },
   {
    "duration": 21,
    "start_time": "2022-01-26T18:00:58.852Z"
   },
   {
    "duration": 41,
    "start_time": "2022-01-26T18:01:00.054Z"
   },
   {
    "duration": 24,
    "start_time": "2022-01-26T18:17:23.497Z"
   },
   {
    "duration": 470,
    "start_time": "2022-01-26T18:17:26.618Z"
   },
   {
    "duration": 828,
    "start_time": "2022-01-26T18:17:56.608Z"
   },
   {
    "duration": 12,
    "start_time": "2022-01-26T18:17:57.438Z"
   },
   {
    "duration": 23,
    "start_time": "2022-01-26T18:17:57.975Z"
   },
   {
    "duration": 15,
    "start_time": "2022-01-26T18:17:59.495Z"
   },
   {
    "duration": 33,
    "start_time": "2022-01-26T18:18:00.640Z"
   },
   {
    "duration": 13,
    "start_time": "2022-01-26T18:18:02.104Z"
   },
   {
    "duration": 13,
    "start_time": "2022-01-26T18:18:02.968Z"
   },
   {
    "duration": 18,
    "start_time": "2022-01-26T18:18:16.602Z"
   },
   {
    "duration": 18,
    "start_time": "2022-01-26T18:18:17.849Z"
   },
   {
    "duration": 14,
    "start_time": "2022-01-26T18:18:18.865Z"
   },
   {
    "duration": 16,
    "start_time": "2022-01-26T18:18:19.250Z"
   },
   {
    "duration": 13,
    "start_time": "2022-01-26T18:18:19.610Z"
   },
   {
    "duration": 14,
    "start_time": "2022-01-26T18:18:21.099Z"
   },
   {
    "duration": 42,
    "start_time": "2022-01-26T18:18:39.500Z"
   },
   {
    "duration": 45,
    "start_time": "2022-01-26T18:18:40.789Z"
   },
   {
    "duration": 14,
    "start_time": "2022-01-26T18:18:41.524Z"
   },
   {
    "duration": 67,
    "start_time": "2022-01-26T18:18:44.325Z"
   },
   {
    "duration": 3,
    "start_time": "2022-01-26T18:19:11.879Z"
   },
   {
    "duration": 3,
    "start_time": "2022-01-26T18:19:12.625Z"
   },
   {
    "duration": 10,
    "start_time": "2022-01-26T18:19:13.975Z"
   },
   {
    "duration": 12,
    "start_time": "2022-01-26T18:19:14.832Z"
   },
   {
    "duration": 11,
    "start_time": "2022-01-26T18:19:15.560Z"
   },
   {
    "duration": 12,
    "start_time": "2022-01-26T18:19:19.672Z"
   },
   {
    "duration": 9,
    "start_time": "2022-01-26T18:19:20.672Z"
   },
   {
    "duration": 9,
    "start_time": "2022-01-26T18:19:21.233Z"
   },
   {
    "duration": 12,
    "start_time": "2022-01-26T18:19:23.424Z"
   },
   {
    "duration": 7,
    "start_time": "2022-01-26T18:19:24.098Z"
   },
   {
    "duration": 10,
    "start_time": "2022-01-26T18:19:26.890Z"
   },
   {
    "duration": 9,
    "start_time": "2022-01-26T18:19:29.794Z"
   },
   {
    "duration": 12,
    "start_time": "2022-01-26T18:19:30.243Z"
   },
   {
    "duration": 14,
    "start_time": "2022-01-26T18:19:37.210Z"
   },
   {
    "duration": 19,
    "start_time": "2022-01-26T18:19:42.395Z"
   },
   {
    "duration": 21,
    "start_time": "2022-01-26T18:20:24.134Z"
   },
   {
    "duration": 422,
    "start_time": "2022-01-26T18:20:27.616Z"
   },
   {
    "duration": 13,
    "start_time": "2022-01-26T18:20:43.803Z"
   },
   {
    "duration": 15,
    "start_time": "2022-01-26T18:20:44.611Z"
   },
   {
    "duration": 17,
    "start_time": "2022-01-26T18:20:45.187Z"
   },
   {
    "duration": 11,
    "start_time": "2022-01-26T18:20:54.004Z"
   },
   {
    "duration": 43,
    "start_time": "2022-01-26T18:20:54.908Z"
   },
   {
    "duration": 76,
    "start_time": "2022-01-26T18:21:22.790Z"
   },
   {
    "duration": 44,
    "start_time": "2022-01-26T18:21:25.104Z"
   },
   {
    "duration": 22,
    "start_time": "2022-01-26T18:21:26.808Z"
   },
   {
    "duration": 7,
    "start_time": "2022-01-26T18:21:30.279Z"
   },
   {
    "duration": 10,
    "start_time": "2022-01-26T18:21:41.659Z"
   },
   {
    "duration": 7,
    "start_time": "2022-01-26T18:21:51.810Z"
   },
   {
    "duration": 9,
    "start_time": "2022-01-26T18:21:53.155Z"
   },
   {
    "duration": 11,
    "start_time": "2022-01-26T18:21:53.874Z"
   },
   {
    "duration": 9,
    "start_time": "2022-01-26T18:21:54.819Z"
   },
   {
    "duration": 6,
    "start_time": "2022-01-26T18:21:56.555Z"
   },
   {
    "duration": 10,
    "start_time": "2022-01-26T18:21:58.811Z"
   },
   {
    "duration": 3,
    "start_time": "2022-01-26T18:22:08.156Z"
   },
   {
    "duration": 32,
    "start_time": "2022-01-26T18:22:08.723Z"
   },
   {
    "duration": 24,
    "start_time": "2022-01-26T18:22:19.909Z"
   },
   {
    "duration": 51,
    "start_time": "2022-01-26T18:22:21.008Z"
   },
   {
    "duration": 35,
    "start_time": "2022-01-26T18:22:27.991Z"
   },
   {
    "duration": 22,
    "start_time": "2022-01-26T18:22:29.334Z"
   },
   {
    "duration": 21,
    "start_time": "2022-01-26T18:22:31.447Z"
   },
   {
    "duration": 44,
    "start_time": "2022-01-26T18:22:32.263Z"
   },
   {
    "duration": 4,
    "start_time": "2022-01-26T18:23:00.629Z"
   },
   {
    "duration": 7,
    "start_time": "2022-01-26T18:23:01.314Z"
   },
   {
    "duration": 13,
    "start_time": "2022-01-26T18:23:02.090Z"
   },
   {
    "duration": 9,
    "start_time": "2022-01-26T18:23:08.851Z"
   },
   {
    "duration": 25,
    "start_time": "2022-01-26T18:23:20.227Z"
   },
   {
    "duration": 9,
    "start_time": "2022-01-26T18:23:24.261Z"
   },
   {
    "duration": 10,
    "start_time": "2022-01-26T18:23:25.077Z"
   },
   {
    "duration": 9,
    "start_time": "2022-01-26T18:23:27.709Z"
   },
   {
    "duration": 10,
    "start_time": "2022-01-26T18:23:28.869Z"
   },
   {
    "duration": 9,
    "start_time": "2022-01-26T18:23:29.189Z"
   },
   {
    "duration": 10,
    "start_time": "2022-01-26T18:23:30.045Z"
   },
   {
    "duration": 4,
    "start_time": "2022-01-26T18:23:44.511Z"
   },
   {
    "duration": 12,
    "start_time": "2022-01-26T18:23:45.791Z"
   },
   {
    "duration": 16478,
    "start_time": "2022-01-26T18:23:49.527Z"
   },
   {
    "duration": 17,
    "start_time": "2022-01-26T18:24:14.450Z"
   },
   {
    "duration": 6,
    "start_time": "2022-01-26T18:24:24.116Z"
   },
   {
    "duration": 8,
    "start_time": "2022-01-26T18:24:30.732Z"
   },
   {
    "duration": 9,
    "start_time": "2022-01-26T18:26:59.005Z"
   },
   {
    "duration": 471,
    "start_time": "2022-01-26T18:27:26.232Z"
   },
   {
    "duration": 7,
    "start_time": "2022-01-26T18:27:39.682Z"
   },
   {
    "duration": 8,
    "start_time": "2022-01-26T18:28:20.878Z"
   },
   {
    "duration": 6,
    "start_time": "2022-01-26T18:29:29.390Z"
   },
   {
    "duration": 7,
    "start_time": "2022-01-26T18:29:32.638Z"
   },
   {
    "duration": 11,
    "start_time": "2022-01-26T18:30:13.339Z"
   },
   {
    "duration": 13,
    "start_time": "2022-01-26T18:30:26.005Z"
   },
   {
    "duration": 17,
    "start_time": "2022-01-26T18:53:38.230Z"
   },
   {
    "duration": 12,
    "start_time": "2022-01-26T18:53:50.359Z"
   },
   {
    "duration": 13,
    "start_time": "2022-01-26T18:54:53.406Z"
   },
   {
    "duration": 14,
    "start_time": "2022-01-26T18:55:00.190Z"
   },
   {
    "duration": 296,
    "start_time": "2022-01-26T19:21:44.144Z"
   },
   {
    "duration": 12,
    "start_time": "2022-01-26T19:22:14.956Z"
   },
   {
    "duration": 27,
    "start_time": "2022-01-26T19:23:01.184Z"
   },
   {
    "duration": 29,
    "start_time": "2022-01-26T19:23:51.669Z"
   },
   {
    "duration": 34,
    "start_time": "2022-01-26T19:24:19.153Z"
   },
   {
    "duration": 25,
    "start_time": "2022-01-26T19:26:19.592Z"
   },
   {
    "duration": 104,
    "start_time": "2022-01-26T19:31:12.568Z"
   },
   {
    "duration": 101,
    "start_time": "2022-01-26T19:32:46.779Z"
   },
   {
    "duration": 7,
    "start_time": "2022-01-26T19:44:56.936Z"
   },
   {
    "duration": 18,
    "start_time": "2022-01-26T19:45:41.748Z"
   },
   {
    "duration": 298,
    "start_time": "2022-01-26T19:46:24.714Z"
   },
   {
    "duration": 18,
    "start_time": "2022-01-26T19:46:31.218Z"
   },
   {
    "duration": 19,
    "start_time": "2022-01-26T19:46:42.876Z"
   },
   {
    "duration": 274,
    "start_time": "2022-01-26T19:48:12.079Z"
   },
   {
    "duration": 294,
    "start_time": "2022-01-26T19:48:29.393Z"
   },
   {
    "duration": 36,
    "start_time": "2022-01-26T19:48:42.979Z"
   },
   {
    "duration": 21,
    "start_time": "2022-01-26T19:49:08.213Z"
   },
   {
    "duration": 17,
    "start_time": "2022-01-26T19:49:24.287Z"
   },
   {
    "duration": 37,
    "start_time": "2022-01-26T19:49:37.273Z"
   },
   {
    "duration": 18,
    "start_time": "2022-01-26T19:49:48.439Z"
   },
   {
    "duration": 35,
    "start_time": "2022-01-26T19:51:07.467Z"
   },
   {
    "duration": 37,
    "start_time": "2022-01-26T19:51:18.509Z"
   },
   {
    "duration": 22,
    "start_time": "2022-01-26T19:52:05.738Z"
   },
   {
    "duration": 20,
    "start_time": "2022-01-26T19:56:13.933Z"
   },
   {
    "duration": 21,
    "start_time": "2022-01-26T19:56:21.887Z"
   },
   {
    "duration": 20,
    "start_time": "2022-01-26T19:56:34.185Z"
   },
   {
    "duration": 20,
    "start_time": "2022-01-26T19:58:04.018Z"
   },
   {
    "duration": 26,
    "start_time": "2022-01-26T20:06:17.011Z"
   },
   {
    "duration": 37,
    "start_time": "2022-01-26T20:08:12.296Z"
   },
   {
    "duration": 21,
    "start_time": "2022-01-26T20:08:26.730Z"
   },
   {
    "duration": 23,
    "start_time": "2022-01-26T20:08:56.213Z"
   },
   {
    "duration": 21,
    "start_time": "2022-01-26T20:09:15.847Z"
   },
   {
    "duration": 13,
    "start_time": "2022-01-26T20:10:19.159Z"
   },
   {
    "duration": 21,
    "start_time": "2022-01-26T20:10:34.865Z"
   },
   {
    "duration": 87,
    "start_time": "2022-01-26T20:11:34.071Z"
   },
   {
    "duration": 283,
    "start_time": "2022-01-26T20:11:39.802Z"
   },
   {
    "duration": 8,
    "start_time": "2022-01-26T20:12:23.589Z"
   },
   {
    "duration": 9,
    "start_time": "2022-01-26T20:13:15.635Z"
   },
   {
    "duration": 9,
    "start_time": "2022-01-26T20:14:10.818Z"
   },
   {
    "duration": 8,
    "start_time": "2022-01-26T20:14:23.699Z"
   },
   {
    "duration": 9,
    "start_time": "2022-01-26T20:14:29.796Z"
   },
   {
    "duration": 8,
    "start_time": "2022-01-26T20:23:39.755Z"
   },
   {
    "duration": 9,
    "start_time": "2022-01-26T20:24:03.847Z"
   },
   {
    "duration": 10,
    "start_time": "2022-01-26T20:25:39.769Z"
   },
   {
    "duration": 5,
    "start_time": "2022-01-26T20:42:11.597Z"
   },
   {
    "duration": 826,
    "start_time": "2022-01-26T20:42:57.593Z"
   },
   {
    "duration": 21,
    "start_time": "2022-01-26T20:43:15.650Z"
   },
   {
    "duration": 31,
    "start_time": "2022-01-26T20:44:29.835Z"
   },
   {
    "duration": 32,
    "start_time": "2022-01-26T20:44:41.062Z"
   },
   {
    "duration": 548,
    "start_time": "2022-01-26T20:46:18.735Z"
   },
   {
    "duration": 461,
    "start_time": "2022-01-26T20:47:18.758Z"
   },
   {
    "duration": 733,
    "start_time": "2022-01-26T20:50:09.244Z"
   },
   {
    "duration": 13,
    "start_time": "2022-01-26T20:50:09.979Z"
   },
   {
    "duration": 40,
    "start_time": "2022-01-26T20:50:09.995Z"
   },
   {
    "duration": 14,
    "start_time": "2022-01-26T20:50:10.038Z"
   },
   {
    "duration": 32,
    "start_time": "2022-01-26T20:50:10.055Z"
   },
   {
    "duration": 12,
    "start_time": "2022-01-26T20:50:10.124Z"
   },
   {
    "duration": 13,
    "start_time": "2022-01-26T20:50:10.138Z"
   },
   {
    "duration": 16,
    "start_time": "2022-01-26T20:50:10.155Z"
   },
   {
    "duration": 58,
    "start_time": "2022-01-26T20:50:10.175Z"
   },
   {
    "duration": 11,
    "start_time": "2022-01-26T20:50:10.236Z"
   },
   {
    "duration": 13,
    "start_time": "2022-01-26T20:50:10.250Z"
   },
   {
    "duration": 10,
    "start_time": "2022-01-26T20:50:10.265Z"
   },
   {
    "duration": 59,
    "start_time": "2022-01-26T20:50:10.277Z"
   },
   {
    "duration": 42,
    "start_time": "2022-01-26T20:50:10.339Z"
   },
   {
    "duration": 83,
    "start_time": "2022-01-26T20:50:10.383Z"
   },
   {
    "duration": 13,
    "start_time": "2022-01-26T20:50:10.468Z"
   },
   {
    "duration": 87,
    "start_time": "2022-01-26T20:50:10.483Z"
   },
   {
    "duration": 3,
    "start_time": "2022-01-26T20:50:10.572Z"
   },
   {
    "duration": 6,
    "start_time": "2022-01-26T20:50:10.577Z"
   },
   {
    "duration": 13,
    "start_time": "2022-01-26T20:50:10.585Z"
   },
   {
    "duration": 32,
    "start_time": "2022-01-26T20:50:10.600Z"
   },
   {
    "duration": 11,
    "start_time": "2022-01-26T20:50:10.635Z"
   },
   {
    "duration": 7,
    "start_time": "2022-01-26T20:50:10.652Z"
   },
   {
    "duration": 8,
    "start_time": "2022-01-26T20:50:10.663Z"
   },
   {
    "duration": 7,
    "start_time": "2022-01-26T20:50:10.673Z"
   },
   {
    "duration": 10,
    "start_time": "2022-01-26T20:50:10.724Z"
   },
   {
    "duration": 6,
    "start_time": "2022-01-26T20:50:10.737Z"
   },
   {
    "duration": 10,
    "start_time": "2022-01-26T20:50:10.745Z"
   },
   {
    "duration": 8,
    "start_time": "2022-01-26T20:50:10.757Z"
   },
   {
    "duration": 8,
    "start_time": "2022-01-26T20:50:10.767Z"
   },
   {
    "duration": 58,
    "start_time": "2022-01-26T20:50:10.777Z"
   },
   {
    "duration": 21,
    "start_time": "2022-01-26T20:50:10.838Z"
   },
   {
    "duration": 434,
    "start_time": "2022-01-26T20:50:10.861Z"
   },
   {
    "duration": 26,
    "start_time": "2022-01-26T20:50:11.298Z"
   },
   {
    "duration": 13,
    "start_time": "2022-01-26T20:50:11.326Z"
   },
   {
    "duration": 133,
    "start_time": "2022-01-26T20:50:11.342Z"
   },
   {
    "duration": 25,
    "start_time": "2022-01-26T20:50:11.478Z"
   },
   {
    "duration": 19,
    "start_time": "2022-01-26T20:50:11.505Z"
   },
   {
    "duration": 18,
    "start_time": "2022-01-26T20:50:11.527Z"
   },
   {
    "duration": 10,
    "start_time": "2022-01-26T20:50:11.547Z"
   },
   {
    "duration": 77,
    "start_time": "2022-01-26T20:50:11.560Z"
   },
   {
    "duration": 70,
    "start_time": "2022-01-26T20:50:11.640Z"
   },
   {
    "duration": 45,
    "start_time": "2022-01-26T20:50:11.712Z"
   },
   {
    "duration": 20,
    "start_time": "2022-01-26T20:50:11.760Z"
   },
   {
    "duration": 6,
    "start_time": "2022-01-26T20:50:11.783Z"
   },
   {
    "duration": 9,
    "start_time": "2022-01-26T20:50:11.824Z"
   },
   {
    "duration": 4,
    "start_time": "2022-01-26T20:50:11.835Z"
   },
   {
    "duration": 9,
    "start_time": "2022-01-26T20:50:11.841Z"
   },
   {
    "duration": 11,
    "start_time": "2022-01-26T20:50:11.852Z"
   },
   {
    "duration": 9,
    "start_time": "2022-01-26T20:50:11.865Z"
   },
   {
    "duration": 51,
    "start_time": "2022-01-26T20:50:11.876Z"
   },
   {
    "duration": 9,
    "start_time": "2022-01-26T20:50:11.930Z"
   },
   {
    "duration": 11,
    "start_time": "2022-01-26T20:50:11.941Z"
   },
   {
    "duration": 3,
    "start_time": "2022-01-26T20:50:11.954Z"
   },
   {
    "duration": 67,
    "start_time": "2022-01-26T20:50:11.960Z"
   },
   {
    "duration": 3,
    "start_time": "2022-01-26T20:50:12.030Z"
   },
   {
    "duration": 24,
    "start_time": "2022-01-26T20:50:12.035Z"
   },
   {
    "duration": 34,
    "start_time": "2022-01-26T20:50:12.061Z"
   },
   {
    "duration": 24,
    "start_time": "2022-01-26T20:50:12.123Z"
   },
   {
    "duration": 18,
    "start_time": "2022-01-26T20:50:12.150Z"
   },
   {
    "duration": 65,
    "start_time": "2022-01-26T20:50:12.170Z"
   },
   {
    "duration": 3,
    "start_time": "2022-01-26T20:50:12.238Z"
   },
   {
    "duration": 5,
    "start_time": "2022-01-26T20:50:12.243Z"
   },
   {
    "duration": 6,
    "start_time": "2022-01-26T20:50:12.250Z"
   },
   {
    "duration": 15,
    "start_time": "2022-01-26T20:50:12.258Z"
   },
   {
    "duration": 9,
    "start_time": "2022-01-26T20:50:12.275Z"
   },
   {
    "duration": 27,
    "start_time": "2022-01-26T20:50:12.323Z"
   },
   {
    "duration": 9,
    "start_time": "2022-01-26T20:50:12.360Z"
   },
   {
    "duration": 50,
    "start_time": "2022-01-26T20:50:12.373Z"
   },
   {
    "duration": 10,
    "start_time": "2022-01-26T20:50:12.426Z"
   },
   {
    "duration": 9,
    "start_time": "2022-01-26T20:50:12.439Z"
   },
   {
    "duration": 8,
    "start_time": "2022-01-26T20:50:12.450Z"
   },
   {
    "duration": 16,
    "start_time": "2022-01-26T20:50:12.461Z"
   },
   {
    "duration": 3,
    "start_time": "2022-01-26T20:50:12.479Z"
   },
   {
    "duration": 3,
    "start_time": "2022-01-26T20:50:12.524Z"
   },
   {
    "duration": 5,
    "start_time": "2022-01-26T20:50:12.530Z"
   },
   {
    "duration": 14,
    "start_time": "2022-01-26T20:50:12.537Z"
   },
   {
    "duration": 94,
    "start_time": "2022-01-26T20:50:12.554Z"
   },
   {
    "duration": -1011,
    "start_time": "2022-01-26T20:50:13.662Z"
   },
   {
    "duration": -1032,
    "start_time": "2022-01-26T20:50:13.684Z"
   },
   {
    "duration": -1035,
    "start_time": "2022-01-26T20:50:13.689Z"
   },
   {
    "duration": -1038,
    "start_time": "2022-01-26T20:50:13.693Z"
   },
   {
    "duration": -1042,
    "start_time": "2022-01-26T20:50:13.698Z"
   },
   {
    "duration": -1044,
    "start_time": "2022-01-26T20:50:13.702Z"
   },
   {
    "duration": -1048,
    "start_time": "2022-01-26T20:50:13.707Z"
   },
   {
    "duration": -1050,
    "start_time": "2022-01-26T20:50:13.711Z"
   },
   {
    "duration": -1055,
    "start_time": "2022-01-26T20:50:13.717Z"
   },
   {
    "duration": -1058,
    "start_time": "2022-01-26T20:50:13.721Z"
   },
   {
    "duration": -1080,
    "start_time": "2022-01-26T20:50:13.745Z"
   },
   {
    "duration": -1084,
    "start_time": "2022-01-26T20:50:13.750Z"
   },
   {
    "duration": -1089,
    "start_time": "2022-01-26T20:50:13.757Z"
   },
   {
    "duration": -1093,
    "start_time": "2022-01-26T20:50:13.762Z"
   },
   {
    "duration": -1107,
    "start_time": "2022-01-26T20:50:13.778Z"
   },
   {
    "duration": -1119,
    "start_time": "2022-01-26T20:50:13.791Z"
   },
   {
    "duration": -1122,
    "start_time": "2022-01-26T20:50:13.796Z"
   },
   {
    "duration": -1134,
    "start_time": "2022-01-26T20:50:13.809Z"
   },
   {
    "duration": -1138,
    "start_time": "2022-01-26T20:50:13.814Z"
   },
   {
    "duration": -1149,
    "start_time": "2022-01-26T20:50:13.827Z"
   },
   {
    "duration": -1152,
    "start_time": "2022-01-26T20:50:13.832Z"
   },
   {
    "duration": -1155,
    "start_time": "2022-01-26T20:50:13.836Z"
   },
   {
    "duration": -1159,
    "start_time": "2022-01-26T20:50:13.841Z"
   },
   {
    "duration": -1162,
    "start_time": "2022-01-26T20:50:13.846Z"
   },
   {
    "duration": -1167,
    "start_time": "2022-01-26T20:50:13.852Z"
   },
   {
    "duration": -1171,
    "start_time": "2022-01-26T20:50:13.857Z"
   },
   {
    "duration": -1139,
    "start_time": "2022-01-26T20:50:13.862Z"
   },
   {
    "duration": 1154,
    "start_time": "2022-01-26T20:50:25.243Z"
   },
   {
    "duration": 1290,
    "start_time": "2022-01-26T20:50:39.125Z"
   },
   {
    "duration": 13780,
    "start_time": "2022-01-26T20:52:35.380Z"
   },
   {
    "duration": 18,
    "start_time": "2022-01-26T20:54:00.813Z"
   },
   {
    "duration": 11,
    "start_time": "2022-01-26T20:54:09.317Z"
   },
   {
    "duration": 33,
    "start_time": "2022-01-26T20:54:25.351Z"
   },
   {
    "duration": 11,
    "start_time": "2022-01-26T20:54:37.528Z"
   },
   {
    "duration": 15,
    "start_time": "2022-01-26T20:55:44.896Z"
   },
   {
    "duration": 20,
    "start_time": "2022-01-26T20:55:48.934Z"
   },
   {
    "duration": 8,
    "start_time": "2022-01-26T20:55:48.956Z"
   },
   {
    "duration": 8,
    "start_time": "2022-01-26T20:55:48.967Z"
   },
   {
    "duration": 9,
    "start_time": "2022-01-26T20:55:53.945Z"
   },
   {
    "duration": 9,
    "start_time": "2022-01-26T20:55:55.058Z"
   },
   {
    "duration": 5,
    "start_time": "2022-01-26T20:56:04.185Z"
   },
   {
    "duration": 34,
    "start_time": "2022-01-26T20:56:07.163Z"
   },
   {
    "duration": 27830,
    "start_time": "2022-01-26T20:56:58.616Z"
   },
   {
    "duration": 12,
    "start_time": "2022-01-26T20:57:32.013Z"
   },
   {
    "duration": 20,
    "start_time": "2022-01-26T20:57:51.246Z"
   },
   {
    "duration": 33,
    "start_time": "2022-01-26T20:58:05.328Z"
   },
   {
    "duration": 91,
    "start_time": "2022-01-26T21:00:17.258Z"
   },
   {
    "duration": 52,
    "start_time": "2022-01-26T21:01:01.158Z"
   },
   {
    "duration": 4,
    "start_time": "2022-01-26T21:01:01.213Z"
   },
   {
    "duration": 23,
    "start_time": "2022-01-26T21:01:01.221Z"
   },
   {
    "duration": 16,
    "start_time": "2022-01-26T21:01:01.246Z"
   },
   {
    "duration": 79,
    "start_time": "2022-01-26T21:01:01.265Z"
   },
   {
    "duration": 13,
    "start_time": "2022-01-26T21:01:01.347Z"
   },
   {
    "duration": 14,
    "start_time": "2022-01-26T21:01:01.362Z"
   },
   {
    "duration": 53,
    "start_time": "2022-01-26T21:01:01.379Z"
   },
   {
    "duration": 31,
    "start_time": "2022-01-26T21:01:01.435Z"
   },
   {
    "duration": 13,
    "start_time": "2022-01-26T21:01:01.469Z"
   },
   {
    "duration": 49,
    "start_time": "2022-01-26T21:01:01.485Z"
   },
   {
    "duration": 19,
    "start_time": "2022-01-26T21:01:01.537Z"
   },
   {
    "duration": 16,
    "start_time": "2022-01-26T21:01:01.559Z"
   },
   {
    "duration": 54,
    "start_time": "2022-01-26T21:01:01.577Z"
   },
   {
    "duration": 45,
    "start_time": "2022-01-26T21:01:01.633Z"
   },
   {
    "duration": 12,
    "start_time": "2022-01-26T21:01:01.681Z"
   },
   {
    "duration": 66,
    "start_time": "2022-01-26T21:01:01.723Z"
   },
   {
    "duration": 3,
    "start_time": "2022-01-26T21:01:01.791Z"
   },
   {
    "duration": 18,
    "start_time": "2022-01-26T21:01:01.796Z"
   },
   {
    "duration": 32,
    "start_time": "2022-01-26T21:01:01.824Z"
   },
   {
    "duration": 32,
    "start_time": "2022-01-26T21:01:01.860Z"
   },
   {
    "duration": 20,
    "start_time": "2022-01-26T21:01:01.896Z"
   },
   {
    "duration": 24,
    "start_time": "2022-01-26T21:01:01.926Z"
   },
   {
    "duration": 14,
    "start_time": "2022-01-26T21:01:01.955Z"
   },
   {
    "duration": 8,
    "start_time": "2022-01-26T21:01:01.971Z"
   },
   {
    "duration": 12,
    "start_time": "2022-01-26T21:01:01.982Z"
   },
   {
    "duration": 27,
    "start_time": "2022-01-26T21:01:01.996Z"
   },
   {
    "duration": 15,
    "start_time": "2022-01-26T21:01:02.028Z"
   },
   {
    "duration": 10,
    "start_time": "2022-01-26T21:01:02.046Z"
   },
   {
    "duration": 23,
    "start_time": "2022-01-26T21:01:02.059Z"
   },
   {
    "duration": 14,
    "start_time": "2022-01-26T21:01:02.085Z"
   },
   {
    "duration": 43,
    "start_time": "2022-01-26T21:01:02.101Z"
   },
   {
    "duration": 452,
    "start_time": "2022-01-26T21:01:02.147Z"
   },
   {
    "duration": 25,
    "start_time": "2022-01-26T21:01:02.601Z"
   },
   {
    "duration": 12,
    "start_time": "2022-01-26T21:01:02.628Z"
   },
   {
    "duration": 131,
    "start_time": "2022-01-26T21:01:02.643Z"
   },
   {
    "duration": 26,
    "start_time": "2022-01-26T21:01:02.776Z"
   },
   {
    "duration": 19,
    "start_time": "2022-01-26T21:01:02.805Z"
   },
   {
    "duration": 21,
    "start_time": "2022-01-26T21:01:02.827Z"
   },
   {
    "duration": 11,
    "start_time": "2022-01-26T21:01:02.850Z"
   },
   {
    "duration": 78,
    "start_time": "2022-01-26T21:01:02.863Z"
   },
   {
    "duration": 88,
    "start_time": "2022-01-26T21:01:02.944Z"
   },
   {
    "duration": 39,
    "start_time": "2022-01-26T21:01:03.035Z"
   },
   {
    "duration": 43,
    "start_time": "2022-01-26T21:01:03.080Z"
   },
   {
    "duration": 7,
    "start_time": "2022-01-26T21:01:03.125Z"
   },
   {
    "duration": 13,
    "start_time": "2022-01-26T21:01:03.135Z"
   },
   {
    "duration": 3,
    "start_time": "2022-01-26T21:01:03.173Z"
   },
   {
    "duration": 13,
    "start_time": "2022-01-26T21:01:03.179Z"
   },
   {
    "duration": 32,
    "start_time": "2022-01-26T21:01:03.194Z"
   },
   {
    "duration": 13,
    "start_time": "2022-01-26T21:01:03.229Z"
   },
   {
    "duration": 10,
    "start_time": "2022-01-26T21:01:03.244Z"
   },
   {
    "duration": 8,
    "start_time": "2022-01-26T21:01:03.257Z"
   },
   {
    "duration": 11,
    "start_time": "2022-01-26T21:01:03.267Z"
   },
   {
    "duration": 44,
    "start_time": "2022-01-26T21:01:03.281Z"
   },
   {
    "duration": 60,
    "start_time": "2022-01-26T21:01:03.328Z"
   },
   {
    "duration": 3,
    "start_time": "2022-01-26T21:01:03.391Z"
   },
   {
    "duration": 43,
    "start_time": "2022-01-26T21:01:03.397Z"
   },
   {
    "duration": 49,
    "start_time": "2022-01-26T21:01:03.443Z"
   },
   {
    "duration": 41,
    "start_time": "2022-01-26T21:01:03.494Z"
   },
   {
    "duration": 24,
    "start_time": "2022-01-26T21:01:03.537Z"
   },
   {
    "duration": 69,
    "start_time": "2022-01-26T21:01:03.563Z"
   },
   {
    "duration": 4,
    "start_time": "2022-01-26T21:01:03.635Z"
   },
   {
    "duration": 14,
    "start_time": "2022-01-26T21:01:03.642Z"
   },
   {
    "duration": 12,
    "start_time": "2022-01-26T21:01:03.658Z"
   },
   {
    "duration": 17,
    "start_time": "2022-01-26T21:01:03.672Z"
   },
   {
    "duration": 32,
    "start_time": "2022-01-26T21:01:03.692Z"
   },
   {
    "duration": 28,
    "start_time": "2022-01-26T21:01:03.727Z"
   },
   {
    "duration": 10,
    "start_time": "2022-01-26T21:01:03.763Z"
   },
   {
    "duration": 47,
    "start_time": "2022-01-26T21:01:03.777Z"
   },
   {
    "duration": 16,
    "start_time": "2022-01-26T21:01:03.827Z"
   },
   {
    "duration": 9,
    "start_time": "2022-01-26T21:01:03.846Z"
   },
   {
    "duration": 11,
    "start_time": "2022-01-26T21:01:03.858Z"
   },
   {
    "duration": 51,
    "start_time": "2022-01-26T21:01:03.872Z"
   },
   {
    "duration": 3,
    "start_time": "2022-01-26T21:01:03.926Z"
   },
   {
    "duration": 7,
    "start_time": "2022-01-26T21:01:03.932Z"
   },
   {
    "duration": 5,
    "start_time": "2022-01-26T21:01:03.942Z"
   },
   {
    "duration": 17,
    "start_time": "2022-01-26T21:01:03.950Z"
   },
   {
    "duration": 18784,
    "start_time": "2022-01-26T21:01:03.970Z"
   },
   {
    "duration": 18,
    "start_time": "2022-01-26T21:01:22.757Z"
   },
   {
    "duration": 13,
    "start_time": "2022-01-26T21:01:22.778Z"
   },
   {
    "duration": 39,
    "start_time": "2022-01-26T21:01:22.794Z"
   },
   {
    "duration": 21,
    "start_time": "2022-01-26T21:01:22.836Z"
   },
   {
    "duration": 8,
    "start_time": "2022-01-26T21:01:22.859Z"
   },
   {
    "duration": 8,
    "start_time": "2022-01-26T21:01:22.870Z"
   },
   {
    "duration": 45,
    "start_time": "2022-01-26T21:01:22.880Z"
   },
   {
    "duration": 11,
    "start_time": "2022-01-26T21:01:22.927Z"
   },
   {
    "duration": 4,
    "start_time": "2022-01-26T21:01:22.940Z"
   },
   {
    "duration": 37,
    "start_time": "2022-01-26T21:01:22.946Z"
   },
   {
    "duration": 28534,
    "start_time": "2022-01-26T21:01:22.985Z"
   },
   {
    "duration": 12,
    "start_time": "2022-01-26T21:01:51.523Z"
   },
   {
    "duration": 68,
    "start_time": "2022-01-26T21:03:03.235Z"
   },
   {
    "duration": 67,
    "start_time": "2022-01-26T21:03:24.822Z"
   },
   {
    "duration": 41,
    "start_time": "2022-01-26T21:03:48.044Z"
   },
   {
    "duration": 40,
    "start_time": "2022-01-26T21:07:52.600Z"
   },
   {
    "duration": 11,
    "start_time": "2022-01-26T21:08:01.822Z"
   },
   {
    "duration": 19,
    "start_time": "2022-01-26T21:08:09.854Z"
   },
   {
    "duration": 26,
    "start_time": "2022-01-26T21:08:14.398Z"
   },
   {
    "duration": 15,
    "start_time": "2022-01-26T21:08:20.047Z"
   },
   {
    "duration": 6,
    "start_time": "2022-01-26T21:22:15.067Z"
   },
   {
    "duration": 278,
    "start_time": "2022-01-26T21:42:09.847Z"
   },
   {
    "duration": 5,
    "start_time": "2022-01-26T21:42:12.855Z"
   },
   {
    "duration": 21,
    "start_time": "2022-01-26T21:42:13.871Z"
   },
   {
    "duration": 12,
    "start_time": "2022-01-26T21:42:31.010Z"
   },
   {
    "duration": 316,
    "start_time": "2022-01-27T10:48:59.092Z"
   },
   {
    "duration": 707,
    "start_time": "2022-01-27T10:49:03.589Z"
   },
   {
    "duration": 8,
    "start_time": "2022-01-27T10:49:04.297Z"
   },
   {
    "duration": 18,
    "start_time": "2022-01-27T10:49:04.307Z"
   },
   {
    "duration": 10,
    "start_time": "2022-01-27T10:49:04.327Z"
   },
   {
    "duration": 22,
    "start_time": "2022-01-27T10:49:04.339Z"
   },
   {
    "duration": 38,
    "start_time": "2022-01-27T10:49:04.362Z"
   },
   {
    "duration": 19,
    "start_time": "2022-01-27T10:49:04.401Z"
   },
   {
    "duration": 10,
    "start_time": "2022-01-27T10:49:04.423Z"
   },
   {
    "duration": 12,
    "start_time": "2022-01-27T10:49:04.435Z"
   },
   {
    "duration": 8,
    "start_time": "2022-01-27T10:49:04.449Z"
   },
   {
    "duration": 12,
    "start_time": "2022-01-27T10:49:04.458Z"
   },
   {
    "duration": 9,
    "start_time": "2022-01-27T10:49:04.499Z"
   },
   {
    "duration": 9,
    "start_time": "2022-01-27T10:49:04.510Z"
   },
   {
    "duration": 30,
    "start_time": "2022-01-27T10:49:04.521Z"
   },
   {
    "duration": 61,
    "start_time": "2022-01-27T10:49:04.552Z"
   },
   {
    "duration": 10,
    "start_time": "2022-01-27T10:49:04.614Z"
   },
   {
    "duration": 55,
    "start_time": "2022-01-27T10:49:04.626Z"
   },
   {
    "duration": 2,
    "start_time": "2022-01-27T10:49:04.683Z"
   },
   {
    "duration": 2,
    "start_time": "2022-01-27T10:49:04.698Z"
   },
   {
    "duration": 10,
    "start_time": "2022-01-27T10:49:04.702Z"
   },
   {
    "duration": 12,
    "start_time": "2022-01-27T10:49:04.713Z"
   },
   {
    "duration": 9,
    "start_time": "2022-01-27T10:49:04.727Z"
   },
   {
    "duration": 6,
    "start_time": "2022-01-27T10:49:04.740Z"
   },
   {
    "duration": 6,
    "start_time": "2022-01-27T10:49:04.748Z"
   },
   {
    "duration": 5,
    "start_time": "2022-01-27T10:49:04.756Z"
   },
   {
    "duration": 44,
    "start_time": "2022-01-27T10:49:04.762Z"
   },
   {
    "duration": 5,
    "start_time": "2022-01-27T10:49:04.808Z"
   },
   {
    "duration": 8,
    "start_time": "2022-01-27T10:49:04.814Z"
   },
   {
    "duration": 7,
    "start_time": "2022-01-27T10:49:04.824Z"
   },
   {
    "duration": 6,
    "start_time": "2022-01-27T10:49:04.833Z"
   },
   {
    "duration": 12,
    "start_time": "2022-01-27T10:49:04.841Z"
   },
   {
    "duration": 16,
    "start_time": "2022-01-27T10:49:04.899Z"
   },
   {
    "duration": 312,
    "start_time": "2022-01-27T10:49:04.917Z"
   },
   {
    "duration": 10,
    "start_time": "2022-01-27T10:49:05.231Z"
   },
   {
    "duration": 12,
    "start_time": "2022-01-27T10:49:05.243Z"
   },
   {
    "duration": 100,
    "start_time": "2022-01-27T10:49:05.256Z"
   },
   {
    "duration": 20,
    "start_time": "2022-01-27T10:49:05.359Z"
   },
   {
    "duration": 21,
    "start_time": "2022-01-27T10:49:05.382Z"
   },
   {
    "duration": 15,
    "start_time": "2022-01-27T10:49:05.405Z"
   },
   {
    "duration": 10,
    "start_time": "2022-01-27T10:49:05.422Z"
   },
   {
    "duration": 34,
    "start_time": "2022-01-27T10:49:05.434Z"
   },
   {
    "duration": 72,
    "start_time": "2022-01-27T10:49:05.471Z"
   },
   {
    "duration": 26,
    "start_time": "2022-01-27T10:49:05.545Z"
   },
   {
    "duration": 38,
    "start_time": "2022-01-27T10:49:05.573Z"
   },
   {
    "duration": 4,
    "start_time": "2022-01-27T10:49:05.612Z"
   },
   {
    "duration": 11,
    "start_time": "2022-01-27T10:49:05.618Z"
   },
   {
    "duration": 5,
    "start_time": "2022-01-27T10:49:05.630Z"
   },
   {
    "duration": 7,
    "start_time": "2022-01-27T10:49:05.636Z"
   },
   {
    "duration": 13,
    "start_time": "2022-01-27T10:49:05.644Z"
   },
   {
    "duration": 9,
    "start_time": "2022-01-27T10:49:05.658Z"
   },
   {
    "duration": 31,
    "start_time": "2022-01-27T10:49:05.669Z"
   },
   {
    "duration": 4,
    "start_time": "2022-01-27T10:49:05.702Z"
   },
   {
    "duration": 10,
    "start_time": "2022-01-27T10:49:05.708Z"
   },
   {
    "duration": 4,
    "start_time": "2022-01-27T10:49:05.719Z"
   },
   {
    "duration": 25,
    "start_time": "2022-01-27T10:49:05.725Z"
   },
   {
    "duration": 3,
    "start_time": "2022-01-27T10:49:05.751Z"
   },
   {
    "duration": 45,
    "start_time": "2022-01-27T10:49:05.755Z"
   },
   {
    "duration": 27,
    "start_time": "2022-01-27T10:49:05.801Z"
   },
   {
    "duration": 20,
    "start_time": "2022-01-27T10:49:05.830Z"
   },
   {
    "duration": 16,
    "start_time": "2022-01-27T10:49:05.851Z"
   },
   {
    "duration": 58,
    "start_time": "2022-01-27T10:49:05.868Z"
   },
   {
    "duration": 2,
    "start_time": "2022-01-27T10:49:05.928Z"
   },
   {
    "duration": 9,
    "start_time": "2022-01-27T10:49:05.932Z"
   },
   {
    "duration": 6,
    "start_time": "2022-01-27T10:49:05.943Z"
   },
   {
    "duration": 21,
    "start_time": "2022-01-27T10:49:05.951Z"
   },
   {
    "duration": 11,
    "start_time": "2022-01-27T10:49:05.974Z"
   },
   {
    "duration": 31,
    "start_time": "2022-01-27T10:49:05.987Z"
   },
   {
    "duration": 8,
    "start_time": "2022-01-27T10:49:06.023Z"
   },
   {
    "duration": 10,
    "start_time": "2022-01-27T10:49:06.033Z"
   },
   {
    "duration": 8,
    "start_time": "2022-01-27T10:49:06.045Z"
   },
   {
    "duration": 9,
    "start_time": "2022-01-27T10:49:06.054Z"
   },
   {
    "duration": 38,
    "start_time": "2022-01-27T10:49:06.064Z"
   },
   {
    "duration": 7,
    "start_time": "2022-01-27T10:49:06.104Z"
   },
   {
    "duration": 5,
    "start_time": "2022-01-27T10:49:06.113Z"
   },
   {
    "duration": 8,
    "start_time": "2022-01-27T10:49:06.119Z"
   },
   {
    "duration": 5,
    "start_time": "2022-01-27T10:49:06.128Z"
   },
   {
    "duration": 13,
    "start_time": "2022-01-27T10:49:06.135Z"
   },
   {
    "duration": 10757,
    "start_time": "2022-01-27T10:49:06.150Z"
   },
   {
    "duration": 12,
    "start_time": "2022-01-27T10:49:16.909Z"
   },
   {
    "duration": 11,
    "start_time": "2022-01-27T10:49:16.923Z"
   },
   {
    "duration": 15,
    "start_time": "2022-01-27T10:49:16.936Z"
   },
   {
    "duration": 19,
    "start_time": "2022-01-27T10:49:16.953Z"
   },
   {
    "duration": 25,
    "start_time": "2022-01-27T10:49:16.974Z"
   },
   {
    "duration": 7,
    "start_time": "2022-01-27T10:49:17.001Z"
   },
   {
    "duration": 8,
    "start_time": "2022-01-27T10:49:17.009Z"
   },
   {
    "duration": 7,
    "start_time": "2022-01-27T10:49:17.018Z"
   },
   {
    "duration": 8,
    "start_time": "2022-01-27T10:49:17.027Z"
   },
   {
    "duration": 29,
    "start_time": "2022-01-27T10:49:17.036Z"
   },
   {
    "duration": 20720,
    "start_time": "2022-01-27T10:49:17.067Z"
   },
   {
    "duration": 11,
    "start_time": "2022-01-27T10:49:37.788Z"
   },
   {
    "duration": 20,
    "start_time": "2022-01-27T10:49:37.800Z"
   },
   {
    "duration": 12,
    "start_time": "2022-01-27T10:49:37.822Z"
   },
   {
    "duration": 11,
    "start_time": "2022-01-27T10:49:37.836Z"
   },
   {
    "duration": 8,
    "start_time": "2022-01-27T10:49:37.849Z"
   },
   {
    "duration": 17,
    "start_time": "2022-01-27T10:49:37.859Z"
   },
   {
    "duration": 29,
    "start_time": "2022-01-27T10:49:37.878Z"
   },
   {
    "duration": 11,
    "start_time": "2022-01-27T10:49:37.909Z"
   },
   {
    "duration": 10,
    "start_time": "2022-01-27T10:49:37.922Z"
   },
   {
    "duration": 5,
    "start_time": "2022-01-27T10:49:37.934Z"
   },
   {
    "duration": 14,
    "start_time": "2022-01-27T10:49:37.940Z"
   },
   {
    "duration": 5,
    "start_time": "2022-01-27T10:49:37.956Z"
   },
   {
    "duration": 11,
    "start_time": "2022-01-27T10:53:30.379Z"
   },
   {
    "duration": 8,
    "start_time": "2022-01-27T10:54:30.611Z"
   },
   {
    "duration": 9,
    "start_time": "2022-01-27T10:54:46.260Z"
   },
   {
    "duration": 9,
    "start_time": "2022-01-27T10:54:58.326Z"
   },
   {
    "duration": 4475,
    "start_time": "2022-01-27T11:01:03.513Z"
   },
   {
    "duration": 6,
    "start_time": "2022-01-27T11:01:20.713Z"
   },
   {
    "duration": 8,
    "start_time": "2022-01-27T11:01:28.367Z"
   },
   {
    "duration": 89,
    "start_time": "2022-01-27T11:02:08.841Z"
   },
   {
    "duration": 44,
    "start_time": "2022-01-27T11:02:43.283Z"
   },
   {
    "duration": 40,
    "start_time": "2022-01-27T11:03:16.504Z"
   },
   {
    "duration": 47,
    "start_time": "2022-01-27T11:03:20.000Z"
   },
   {
    "duration": 21,
    "start_time": "2022-01-27T11:08:00.310Z"
   },
   {
    "duration": 6,
    "start_time": "2022-01-27T11:08:20.458Z"
   },
   {
    "duration": 1624,
    "start_time": "2022-01-27T11:10:06.982Z"
   },
   {
    "duration": 3,
    "start_time": "2022-01-27T11:10:27.225Z"
   },
   {
    "duration": 10,
    "start_time": "2022-01-27T11:10:27.897Z"
   },
   {
    "duration": 6,
    "start_time": "2022-01-27T11:10:39.594Z"
   },
   {
    "duration": 10,
    "start_time": "2022-01-27T11:11:41.882Z"
   },
   {
    "duration": 44,
    "start_time": "2022-01-27T11:12:17.983Z"
   },
   {
    "duration": 79,
    "start_time": "2022-01-27T11:12:38.161Z"
   },
   {
    "duration": 20,
    "start_time": "2022-01-27T11:13:40.392Z"
   },
   {
    "duration": 20,
    "start_time": "2022-01-27T11:13:52.537Z"
   },
   {
    "duration": 20,
    "start_time": "2022-01-27T11:14:30.662Z"
   },
   {
    "duration": 21,
    "start_time": "2022-01-27T11:16:27.484Z"
   },
   {
    "duration": 20,
    "start_time": "2022-01-27T11:16:34.036Z"
   },
   {
    "duration": 6,
    "start_time": "2022-01-27T11:37:07.746Z"
   },
   {
    "duration": 11,
    "start_time": "2022-01-27T11:37:33.980Z"
   },
   {
    "duration": 86,
    "start_time": "2022-01-27T11:38:57.551Z"
   },
   {
    "duration": 53,
    "start_time": "2022-01-27T11:39:01.103Z"
   },
   {
    "duration": 53,
    "start_time": "2022-01-27T11:39:28.715Z"
   },
   {
    "duration": 7,
    "start_time": "2022-01-27T11:43:53.983Z"
   },
   {
    "duration": 10,
    "start_time": "2022-01-27T11:44:10.770Z"
   },
   {
    "duration": 11,
    "start_time": "2022-01-27T11:44:18.099Z"
   },
   {
    "duration": 9,
    "start_time": "2022-01-27T11:46:47.262Z"
   },
   {
    "duration": 12,
    "start_time": "2022-01-27T11:48:36.991Z"
   },
   {
    "duration": 9,
    "start_time": "2022-01-27T11:48:43.114Z"
   },
   {
    "duration": 4,
    "start_time": "2022-01-27T11:52:38.571Z"
   },
   {
    "duration": 31821,
    "start_time": "2022-01-27T11:52:39.037Z"
   },
   {
    "duration": 9,
    "start_time": "2022-01-27T11:53:11.115Z"
   },
   {
    "duration": 316,
    "start_time": "2022-01-27T11:53:11.801Z"
   },
   {
    "duration": 17,
    "start_time": "2022-01-27T12:45:53.398Z"
   },
   {
    "duration": 6705,
    "start_time": "2022-01-27T12:47:17.406Z"
   },
   {
    "duration": 6997,
    "start_time": "2022-01-27T12:47:35.170Z"
   },
   {
    "duration": 8,
    "start_time": "2022-01-27T12:47:58.093Z"
   },
   {
    "duration": 308,
    "start_time": "2022-01-27T12:47:58.620Z"
   },
   {
    "duration": 5,
    "start_time": "2022-01-27T12:48:25.176Z"
   },
   {
    "duration": 6638,
    "start_time": "2022-01-27T12:48:45.740Z"
   },
   {
    "duration": 6577,
    "start_time": "2022-01-27T12:49:27.200Z"
   },
   {
    "duration": 34,
    "start_time": "2022-01-27T12:49:50.002Z"
   },
   {
    "duration": 50,
    "start_time": "2022-01-27T12:50:02.332Z"
   },
   {
    "duration": 31,
    "start_time": "2022-01-27T12:50:13.436Z"
   },
   {
    "duration": 42,
    "start_time": "2022-01-27T12:50:36.584Z"
   },
   {
    "duration": 5,
    "start_time": "2022-01-27T13:05:56.434Z"
   },
   {
    "duration": 13,
    "start_time": "2022-01-27T13:06:14.471Z"
   },
   {
    "duration": 316,
    "start_time": "2022-01-27T13:07:06.714Z"
   },
   {
    "duration": 106,
    "start_time": "2022-01-27T13:07:23.397Z"
   },
   {
    "duration": 7371,
    "start_time": "2022-01-27T13:07:29.669Z"
   },
   {
    "duration": 89,
    "start_time": "2022-01-27T13:07:46.984Z"
   },
   {
    "duration": 334,
    "start_time": "2022-01-27T13:07:52.920Z"
   },
   {
    "duration": 9099,
    "start_time": "2022-01-27T13:07:58.785Z"
   },
   {
    "duration": 4,
    "start_time": "2022-01-27T13:08:28.273Z"
   },
   {
    "duration": 3,
    "start_time": "2022-01-27T13:08:55.496Z"
   },
   {
    "duration": 19,
    "start_time": "2022-01-27T13:08:57.687Z"
   },
   {
    "duration": 5,
    "start_time": "2022-01-27T13:09:48.240Z"
   },
   {
    "duration": 27,
    "start_time": "2022-01-27T13:09:49.396Z"
   },
   {
    "duration": 40,
    "start_time": "2022-01-27T13:09:59.472Z"
   },
   {
    "duration": 1107,
    "start_time": "2022-01-28T16:11:17.368Z"
   },
   {
    "duration": 16,
    "start_time": "2022-01-28T16:16:15.595Z"
   },
   {
    "duration": 11,
    "start_time": "2022-01-28T16:16:16.716Z"
   },
   {
    "duration": 7,
    "start_time": "2022-01-28T17:45:23.464Z"
   },
   {
    "duration": 5,
    "start_time": "2022-01-28T17:45:29.226Z"
   },
   {
    "duration": 9,
    "start_time": "2022-01-28T17:47:35.899Z"
   },
   {
    "duration": 14,
    "start_time": "2022-01-28T17:47:44.137Z"
   },
   {
    "duration": 254,
    "start_time": "2022-01-28T17:47:45.482Z"
   },
   {
    "duration": 9,
    "start_time": "2022-01-28T17:47:53.091Z"
   },
   {
    "duration": 9,
    "start_time": "2022-01-28T17:47:57.050Z"
   },
   {
    "duration": 32,
    "start_time": "2022-01-28T17:51:39.828Z"
   },
   {
    "duration": 16,
    "start_time": "2022-01-28T17:51:41.741Z"
   },
   {
    "duration": 5,
    "start_time": "2022-01-28T17:52:21.209Z"
   },
   {
    "duration": 8,
    "start_time": "2022-01-28T17:52:21.817Z"
   },
   {
    "duration": 4,
    "start_time": "2022-01-28T17:54:02.645Z"
   },
   {
    "duration": 7,
    "start_time": "2022-01-28T17:54:03.612Z"
   },
   {
    "duration": 26,
    "start_time": "2022-01-28T17:54:32.960Z"
   },
   {
    "duration": 14,
    "start_time": "2022-01-28T17:56:00.848Z"
   },
   {
    "duration": 22,
    "start_time": "2022-01-28T17:56:01.460Z"
   },
   {
    "duration": 14,
    "start_time": "2022-01-28T17:56:06.563Z"
   },
   {
    "duration": 13,
    "start_time": "2022-01-28T17:56:07.186Z"
   },
   {
    "duration": 26,
    "start_time": "2022-01-28T17:56:08.219Z"
   },
   {
    "duration": 3,
    "start_time": "2022-01-28T17:58:38.556Z"
   },
   {
    "duration": 4,
    "start_time": "2022-01-28T17:58:39.012Z"
   },
   {
    "duration": 8,
    "start_time": "2022-01-28T17:58:42.797Z"
   },
   {
    "duration": 7,
    "start_time": "2022-01-28T17:58:43.396Z"
   },
   {
    "duration": 16,
    "start_time": "2022-01-28T18:00:10.123Z"
   },
   {
    "duration": 6,
    "start_time": "2022-01-28T18:00:14.015Z"
   },
   {
    "duration": 6,
    "start_time": "2022-01-28T18:00:14.984Z"
   },
   {
    "duration": 7,
    "start_time": "2022-01-28T18:00:15.687Z"
   },
   {
    "duration": 655,
    "start_time": "2022-01-28T18:00:31.844Z"
   },
   {
    "duration": 7,
    "start_time": "2022-01-28T18:00:32.501Z"
   },
   {
    "duration": 13,
    "start_time": "2022-01-28T18:00:32.509Z"
   },
   {
    "duration": 8,
    "start_time": "2022-01-28T18:00:32.524Z"
   },
   {
    "duration": 50,
    "start_time": "2022-01-28T18:00:32.533Z"
   },
   {
    "duration": 7,
    "start_time": "2022-01-28T18:00:32.584Z"
   },
   {
    "duration": 7,
    "start_time": "2022-01-28T18:00:32.592Z"
   },
   {
    "duration": 10,
    "start_time": "2022-01-28T18:00:32.601Z"
   },
   {
    "duration": 10,
    "start_time": "2022-01-28T18:00:32.612Z"
   },
   {
    "duration": 6,
    "start_time": "2022-01-28T18:00:32.623Z"
   },
   {
    "duration": 7,
    "start_time": "2022-01-28T18:00:32.631Z"
   },
   {
    "duration": 38,
    "start_time": "2022-01-28T18:00:32.639Z"
   },
   {
    "duration": 7,
    "start_time": "2022-01-28T18:00:32.678Z"
   },
   {
    "duration": 21,
    "start_time": "2022-01-28T18:00:32.687Z"
   },
   {
    "duration": 26,
    "start_time": "2022-01-28T18:00:32.710Z"
   },
   {
    "duration": 33,
    "start_time": "2022-01-28T18:00:32.738Z"
   },
   {
    "duration": 37,
    "start_time": "2022-01-28T18:00:32.773Z"
   },
   {
    "duration": 6,
    "start_time": "2022-01-28T18:00:32.811Z"
   },
   {
    "duration": 9,
    "start_time": "2022-01-28T18:00:32.818Z"
   },
   {
    "duration": 13,
    "start_time": "2022-01-28T18:00:32.829Z"
   },
   {
    "duration": 4,
    "start_time": "2022-01-28T18:00:32.844Z"
   },
   {
    "duration": 21,
    "start_time": "2022-01-28T18:00:32.850Z"
   },
   {
    "duration": 6,
    "start_time": "2022-01-28T18:00:32.875Z"
   },
   {
    "duration": 7,
    "start_time": "2022-01-28T18:00:32.883Z"
   },
   {
    "duration": 6,
    "start_time": "2022-01-28T18:00:32.892Z"
   },
   {
    "duration": 9,
    "start_time": "2022-01-28T18:00:32.899Z"
   },
   {
    "duration": 8,
    "start_time": "2022-01-28T18:00:32.909Z"
   },
   {
    "duration": 9,
    "start_time": "2022-01-28T18:00:32.918Z"
   },
   {
    "duration": 12,
    "start_time": "2022-01-28T18:00:32.928Z"
   },
   {
    "duration": 32,
    "start_time": "2022-01-28T18:00:32.941Z"
   },
   {
    "duration": 245,
    "start_time": "2022-01-28T18:00:32.974Z"
   },
   {
    "duration": 7,
    "start_time": "2022-01-28T18:00:33.221Z"
   },
   {
    "duration": 7,
    "start_time": "2022-01-28T18:00:33.229Z"
   },
   {
    "duration": 79,
    "start_time": "2022-01-28T18:00:33.237Z"
   },
   {
    "duration": 14,
    "start_time": "2022-01-28T18:00:33.317Z"
   },
   {
    "duration": 5,
    "start_time": "2022-01-28T18:00:33.333Z"
   },
   {
    "duration": 40,
    "start_time": "2022-01-28T18:00:33.340Z"
   },
   {
    "duration": 42,
    "start_time": "2022-01-28T18:00:33.381Z"
   },
   {
    "duration": 21,
    "start_time": "2022-01-28T18:00:33.424Z"
   },
   {
    "duration": 28,
    "start_time": "2022-01-28T18:00:33.446Z"
   },
   {
    "duration": 3,
    "start_time": "2022-01-28T18:00:33.476Z"
   },
   {
    "duration": 8,
    "start_time": "2022-01-28T18:00:33.481Z"
   },
   {
    "duration": 6,
    "start_time": "2022-01-28T18:00:33.491Z"
   },
   {
    "duration": 9,
    "start_time": "2022-01-28T18:00:33.498Z"
   },
   {
    "duration": 7,
    "start_time": "2022-01-28T18:00:33.508Z"
   },
   {
    "duration": 7,
    "start_time": "2022-01-28T18:00:33.516Z"
   },
   {
    "duration": 8,
    "start_time": "2022-01-28T18:00:33.525Z"
   },
   {
    "duration": 11,
    "start_time": "2022-01-28T18:00:33.534Z"
   },
   {
    "duration": 37,
    "start_time": "2022-01-28T18:00:33.546Z"
   },
   {
    "duration": 20,
    "start_time": "2022-01-28T18:00:33.584Z"
   },
   {
    "duration": 14,
    "start_time": "2022-01-28T18:00:33.606Z"
   },
   {
    "duration": 14,
    "start_time": "2022-01-28T18:00:33.621Z"
   },
   {
    "duration": 52,
    "start_time": "2022-01-28T18:00:33.636Z"
   },
   {
    "duration": 3,
    "start_time": "2022-01-28T18:00:33.690Z"
   },
   {
    "duration": 5,
    "start_time": "2022-01-28T18:00:33.695Z"
   },
   {
    "duration": 8,
    "start_time": "2022-01-28T18:00:33.701Z"
   },
   {
    "duration": 10,
    "start_time": "2022-01-28T18:00:33.711Z"
   },
   {
    "duration": 23,
    "start_time": "2022-01-28T18:00:33.722Z"
   },
   {
    "duration": 5,
    "start_time": "2022-01-28T18:00:33.747Z"
   },
   {
    "duration": 6,
    "start_time": "2022-01-28T18:00:33.771Z"
   },
   {
    "duration": 19,
    "start_time": "2022-01-28T18:00:33.778Z"
   },
   {
    "duration": 16,
    "start_time": "2022-01-28T18:00:33.798Z"
   },
   {
    "duration": 22,
    "start_time": "2022-01-28T18:00:33.815Z"
   },
   {
    "duration": 15,
    "start_time": "2022-01-28T18:00:33.838Z"
   },
   {
    "duration": 12,
    "start_time": "2022-01-28T18:00:33.854Z"
   },
   {
    "duration": 11,
    "start_time": "2022-01-28T18:00:33.868Z"
   },
   {
    "duration": 20,
    "start_time": "2022-01-28T18:00:33.880Z"
   },
   {
    "duration": 33,
    "start_time": "2022-01-28T18:00:33.904Z"
   },
   {
    "duration": 9036,
    "start_time": "2022-01-28T18:00:33.939Z"
   },
   {
    "duration": 9,
    "start_time": "2022-01-28T18:00:42.977Z"
   },
   {
    "duration": 8,
    "start_time": "2022-01-28T18:00:42.988Z"
   },
   {
    "duration": 11,
    "start_time": "2022-01-28T18:00:42.998Z"
   },
   {
    "duration": 13,
    "start_time": "2022-01-28T18:00:43.011Z"
   },
   {
    "duration": 7,
    "start_time": "2022-01-28T18:00:43.026Z"
   },
   {
    "duration": 7,
    "start_time": "2022-01-28T18:00:43.071Z"
   },
   {
    "duration": 7,
    "start_time": "2022-01-28T18:00:43.080Z"
   },
   {
    "duration": 6,
    "start_time": "2022-01-28T18:00:43.088Z"
   },
   {
    "duration": 3,
    "start_time": "2022-01-28T18:00:43.095Z"
   },
   {
    "duration": 29,
    "start_time": "2022-01-28T18:00:43.099Z"
   },
   {
    "duration": 16823,
    "start_time": "2022-01-28T18:00:43.129Z"
   },
   {
    "duration": 7,
    "start_time": "2022-01-28T18:00:59.953Z"
   },
   {
    "duration": 27,
    "start_time": "2022-01-28T18:00:59.961Z"
   },
   {
    "duration": 10,
    "start_time": "2022-01-28T18:00:59.990Z"
   },
   {
    "duration": 23,
    "start_time": "2022-01-28T18:01:00.001Z"
   },
   {
    "duration": 11,
    "start_time": "2022-01-28T18:01:00.025Z"
   },
   {
    "duration": 14,
    "start_time": "2022-01-28T18:01:00.037Z"
   },
   {
    "duration": 35,
    "start_time": "2022-01-28T18:01:00.053Z"
   },
   {
    "duration": 5,
    "start_time": "2022-01-28T18:01:00.089Z"
   },
   {
    "duration": 7,
    "start_time": "2022-01-28T18:01:00.095Z"
   },
   {
    "duration": 5,
    "start_time": "2022-01-28T18:01:00.104Z"
   },
   {
    "duration": 17,
    "start_time": "2022-01-28T18:01:00.110Z"
   },
   {
    "duration": 14,
    "start_time": "2022-01-28T18:01:00.128Z"
   },
   {
    "duration": 13,
    "start_time": "2022-01-28T18:01:00.143Z"
   },
   {
    "duration": 16,
    "start_time": "2022-01-28T18:01:00.158Z"
   },
   {
    "duration": 266,
    "start_time": "2022-01-28T18:01:00.176Z"
   },
   {
    "duration": 20,
    "start_time": "2022-01-28T18:01:00.443Z"
   },
   {
    "duration": 39,
    "start_time": "2022-01-28T18:01:00.464Z"
   },
   {
    "duration": 39,
    "start_time": "2022-01-28T18:01:00.505Z"
   },
   {
    "duration": 8,
    "start_time": "2022-01-28T18:01:00.546Z"
   },
   {
    "duration": 44,
    "start_time": "2022-01-28T18:01:00.555Z"
   },
   {
    "duration": 4,
    "start_time": "2022-01-28T18:01:00.601Z"
   },
   {
    "duration": 48,
    "start_time": "2022-01-28T18:01:00.606Z"
   },
   {
    "duration": 648,
    "start_time": "2022-01-28T18:12:59.976Z"
   },
   {
    "duration": 8,
    "start_time": "2022-01-28T18:13:00.625Z"
   },
   {
    "duration": 17,
    "start_time": "2022-01-28T18:13:00.634Z"
   },
   {
    "duration": 9,
    "start_time": "2022-01-28T18:13:00.652Z"
   },
   {
    "duration": 25,
    "start_time": "2022-01-28T18:13:00.663Z"
   },
   {
    "duration": 7,
    "start_time": "2022-01-28T18:13:00.689Z"
   },
   {
    "duration": 14,
    "start_time": "2022-01-28T18:13:00.698Z"
   },
   {
    "duration": 10,
    "start_time": "2022-01-28T18:13:00.714Z"
   },
   {
    "duration": 11,
    "start_time": "2022-01-28T18:13:00.725Z"
   },
   {
    "duration": 9,
    "start_time": "2022-01-28T18:13:00.737Z"
   },
   {
    "duration": 32,
    "start_time": "2022-01-28T18:13:00.747Z"
   },
   {
    "duration": 7,
    "start_time": "2022-01-28T18:13:00.780Z"
   },
   {
    "duration": 10,
    "start_time": "2022-01-28T18:13:00.788Z"
   },
   {
    "duration": 24,
    "start_time": "2022-01-28T18:13:00.799Z"
   },
   {
    "duration": 48,
    "start_time": "2022-01-28T18:13:00.825Z"
   },
   {
    "duration": 9,
    "start_time": "2022-01-28T18:13:00.874Z"
   },
   {
    "duration": 39,
    "start_time": "2022-01-28T18:13:00.884Z"
   },
   {
    "duration": 6,
    "start_time": "2022-01-28T18:13:00.924Z"
   },
   {
    "duration": 11,
    "start_time": "2022-01-28T18:13:00.932Z"
   },
   {
    "duration": 29,
    "start_time": "2022-01-28T18:13:00.945Z"
   },
   {
    "duration": 7,
    "start_time": "2022-01-28T18:13:00.976Z"
   },
   {
    "duration": 10,
    "start_time": "2022-01-28T18:13:00.985Z"
   },
   {
    "duration": 6,
    "start_time": "2022-01-28T18:13:00.999Z"
   },
   {
    "duration": 12,
    "start_time": "2022-01-28T18:13:01.008Z"
   },
   {
    "duration": 6,
    "start_time": "2022-01-28T18:13:01.021Z"
   },
   {
    "duration": 9,
    "start_time": "2022-01-28T18:13:01.029Z"
   },
   {
    "duration": 36,
    "start_time": "2022-01-28T18:13:01.040Z"
   },
   {
    "duration": 9,
    "start_time": "2022-01-28T18:13:01.078Z"
   },
   {
    "duration": 18,
    "start_time": "2022-01-28T18:13:01.089Z"
   },
   {
    "duration": 13,
    "start_time": "2022-01-28T18:13:01.109Z"
   },
   {
    "duration": 273,
    "start_time": "2022-01-28T18:13:01.124Z"
   },
   {
    "duration": 9,
    "start_time": "2022-01-28T18:13:01.399Z"
   },
   {
    "duration": 8,
    "start_time": "2022-01-28T18:13:01.410Z"
   },
   {
    "duration": 86,
    "start_time": "2022-01-28T18:13:01.420Z"
   },
   {
    "duration": 17,
    "start_time": "2022-01-28T18:13:01.508Z"
   },
   {
    "duration": 7,
    "start_time": "2022-01-28T18:13:01.527Z"
   },
   {
    "duration": 47,
    "start_time": "2022-01-28T18:13:01.536Z"
   },
   {
    "duration": 48,
    "start_time": "2022-01-28T18:13:01.585Z"
   },
   {
    "duration": 40,
    "start_time": "2022-01-28T18:13:01.634Z"
   },
   {
    "duration": 14,
    "start_time": "2022-01-28T18:13:01.676Z"
   },
   {
    "duration": 5,
    "start_time": "2022-01-28T18:13:01.692Z"
   },
   {
    "duration": 7,
    "start_time": "2022-01-28T18:13:01.698Z"
   },
   {
    "duration": 6,
    "start_time": "2022-01-28T18:13:01.707Z"
   },
   {
    "duration": 6,
    "start_time": "2022-01-28T18:13:01.714Z"
   },
   {
    "duration": 7,
    "start_time": "2022-01-28T18:13:01.722Z"
   },
   {
    "duration": 44,
    "start_time": "2022-01-28T18:13:01.730Z"
   },
   {
    "duration": 4,
    "start_time": "2022-01-28T18:13:01.776Z"
   },
   {
    "duration": 7,
    "start_time": "2022-01-28T18:13:01.782Z"
   },
   {
    "duration": 18,
    "start_time": "2022-01-28T18:13:01.790Z"
   },
   {
    "duration": 21,
    "start_time": "2022-01-28T18:13:01.809Z"
   },
   {
    "duration": 44,
    "start_time": "2022-01-28T18:13:01.832Z"
   },
   {
    "duration": 14,
    "start_time": "2022-01-28T18:13:01.877Z"
   },
   {
    "duration": 29,
    "start_time": "2022-01-28T18:13:01.892Z"
   },
   {
    "duration": 3,
    "start_time": "2022-01-28T18:13:01.922Z"
   },
   {
    "duration": 6,
    "start_time": "2022-01-28T18:13:01.926Z"
   },
   {
    "duration": 13,
    "start_time": "2022-01-28T18:13:01.933Z"
   },
   {
    "duration": 7,
    "start_time": "2022-01-28T18:13:01.972Z"
   },
   {
    "duration": 17,
    "start_time": "2022-01-28T18:13:01.980Z"
   },
   {
    "duration": 6,
    "start_time": "2022-01-28T18:13:01.999Z"
   },
   {
    "duration": 8,
    "start_time": "2022-01-28T18:13:02.006Z"
   },
   {
    "duration": 8,
    "start_time": "2022-01-28T18:13:02.015Z"
   },
   {
    "duration": 9,
    "start_time": "2022-01-28T18:13:02.025Z"
   },
   {
    "duration": 7,
    "start_time": "2022-01-28T18:13:02.036Z"
   },
   {
    "duration": 9,
    "start_time": "2022-01-28T18:13:02.072Z"
   },
   {
    "duration": 1,
    "start_time": "2022-01-28T18:13:02.083Z"
   },
   {
    "duration": 8,
    "start_time": "2022-01-28T18:13:02.086Z"
   },
   {
    "duration": 7,
    "start_time": "2022-01-28T18:13:02.096Z"
   },
   {
    "duration": 14,
    "start_time": "2022-01-28T18:13:02.108Z"
   },
   {
    "duration": 9444,
    "start_time": "2022-01-28T18:13:02.124Z"
   },
   {
    "duration": 11,
    "start_time": "2022-01-28T18:13:11.572Z"
   },
   {
    "duration": 11,
    "start_time": "2022-01-28T18:13:11.584Z"
   },
   {
    "duration": 10,
    "start_time": "2022-01-28T18:13:11.597Z"
   },
   {
    "duration": 20,
    "start_time": "2022-01-28T18:13:11.609Z"
   },
   {
    "duration": 31,
    "start_time": "2022-01-28T18:13:11.640Z"
   },
   {
    "duration": 8,
    "start_time": "2022-01-28T18:13:11.673Z"
   },
   {
    "duration": 6,
    "start_time": "2022-01-28T18:13:11.682Z"
   },
   {
    "duration": 16,
    "start_time": "2022-01-28T18:13:11.689Z"
   },
   {
    "duration": 6,
    "start_time": "2022-01-28T18:13:11.706Z"
   },
   {
    "duration": 34,
    "start_time": "2022-01-28T18:13:11.714Z"
   },
   {
    "duration": 16910,
    "start_time": "2022-01-28T18:13:11.749Z"
   },
   {
    "duration": 13,
    "start_time": "2022-01-28T18:13:28.661Z"
   },
   {
    "duration": 22,
    "start_time": "2022-01-28T18:13:28.676Z"
   },
   {
    "duration": 10,
    "start_time": "2022-01-28T18:13:28.700Z"
   },
   {
    "duration": 5,
    "start_time": "2022-01-28T18:13:28.712Z"
   },
   {
    "duration": 2,
    "start_time": "2022-01-28T18:13:28.719Z"
   },
   {
    "duration": 3,
    "start_time": "2022-01-28T18:13:28.723Z"
   },
   {
    "duration": 53,
    "start_time": "2022-01-28T18:13:28.728Z"
   },
   {
    "duration": 5,
    "start_time": "2022-01-28T18:13:28.783Z"
   },
   {
    "duration": 2,
    "start_time": "2022-01-28T18:13:28.790Z"
   },
   {
    "duration": 4,
    "start_time": "2022-01-28T18:13:28.793Z"
   },
   {
    "duration": 15,
    "start_time": "2022-01-28T18:13:28.799Z"
   },
   {
    "duration": 4,
    "start_time": "2022-01-28T18:13:28.816Z"
   },
   {
    "duration": 12,
    "start_time": "2022-01-28T18:13:28.821Z"
   },
   {
    "duration": 7,
    "start_time": "2022-01-28T18:13:28.834Z"
   },
   {
    "duration": 291,
    "start_time": "2022-01-28T18:13:28.843Z"
   },
   {
    "duration": 20,
    "start_time": "2022-01-28T18:13:29.135Z"
   },
   {
    "duration": 41,
    "start_time": "2022-01-28T18:13:29.157Z"
   },
   {
    "duration": 39,
    "start_time": "2022-01-28T18:13:29.199Z"
   },
   {
    "duration": 8,
    "start_time": "2022-01-28T18:13:29.240Z"
   },
   {
    "duration": 46,
    "start_time": "2022-01-28T18:13:29.249Z"
   },
   {
    "duration": 4,
    "start_time": "2022-01-28T18:13:29.297Z"
   },
   {
    "duration": 30,
    "start_time": "2022-01-28T18:13:29.303Z"
   },
   {
    "duration": 604,
    "start_time": "2022-01-28T18:24:07.604Z"
   },
   {
    "duration": 6,
    "start_time": "2022-01-28T18:24:08.210Z"
   },
   {
    "duration": 14,
    "start_time": "2022-01-28T18:24:08.218Z"
   },
   {
    "duration": 9,
    "start_time": "2022-01-28T18:24:08.234Z"
   },
   {
    "duration": 28,
    "start_time": "2022-01-28T18:24:08.244Z"
   },
   {
    "duration": 7,
    "start_time": "2022-01-28T18:24:08.273Z"
   },
   {
    "duration": 11,
    "start_time": "2022-01-28T18:24:08.282Z"
   },
   {
    "duration": 8,
    "start_time": "2022-01-28T18:24:08.295Z"
   },
   {
    "duration": 10,
    "start_time": "2022-01-28T18:24:08.304Z"
   },
   {
    "duration": 7,
    "start_time": "2022-01-28T18:24:08.315Z"
   },
   {
    "duration": 9,
    "start_time": "2022-01-28T18:24:08.324Z"
   },
   {
    "duration": 37,
    "start_time": "2022-01-28T18:24:08.335Z"
   },
   {
    "duration": 9,
    "start_time": "2022-01-28T18:24:08.374Z"
   },
   {
    "duration": 23,
    "start_time": "2022-01-28T18:24:08.384Z"
   },
   {
    "duration": 27,
    "start_time": "2022-01-28T18:24:08.408Z"
   },
   {
    "duration": 7,
    "start_time": "2022-01-28T18:24:08.437Z"
   },
   {
    "duration": 57,
    "start_time": "2022-01-28T18:24:08.446Z"
   },
   {
    "duration": 6,
    "start_time": "2022-01-28T18:24:08.504Z"
   },
   {
    "duration": 11,
    "start_time": "2022-01-28T18:24:08.511Z"
   },
   {
    "duration": 8,
    "start_time": "2022-01-28T18:24:08.524Z"
   },
   {
    "duration": 6,
    "start_time": "2022-01-28T18:24:08.533Z"
   },
   {
    "duration": 10,
    "start_time": "2022-01-28T18:24:08.541Z"
   },
   {
    "duration": 5,
    "start_time": "2022-01-28T18:24:08.571Z"
   },
   {
    "duration": 7,
    "start_time": "2022-01-28T18:24:08.578Z"
   },
   {
    "duration": 5,
    "start_time": "2022-01-28T18:24:08.587Z"
   },
   {
    "duration": 10,
    "start_time": "2022-01-28T18:24:08.593Z"
   },
   {
    "duration": 7,
    "start_time": "2022-01-28T18:24:08.605Z"
   },
   {
    "duration": 9,
    "start_time": "2022-01-28T18:24:08.613Z"
   },
   {
    "duration": 12,
    "start_time": "2022-01-28T18:24:08.623Z"
   },
   {
    "duration": 41,
    "start_time": "2022-01-28T18:24:08.636Z"
   },
   {
    "duration": 249,
    "start_time": "2022-01-28T18:24:08.678Z"
   },
   {
    "duration": 8,
    "start_time": "2022-01-28T18:24:08.928Z"
   },
   {
    "duration": 7,
    "start_time": "2022-01-28T18:24:08.937Z"
   },
   {
    "duration": 80,
    "start_time": "2022-01-28T18:24:08.945Z"
   },
   {
    "duration": 15,
    "start_time": "2022-01-28T18:24:09.026Z"
   },
   {
    "duration": 6,
    "start_time": "2022-01-28T18:24:09.042Z"
   },
   {
    "duration": 37,
    "start_time": "2022-01-28T18:24:09.049Z"
   },
   {
    "duration": 42,
    "start_time": "2022-01-28T18:24:09.088Z"
   },
   {
    "duration": 23,
    "start_time": "2022-01-28T18:24:09.131Z"
   },
   {
    "duration": 26,
    "start_time": "2022-01-28T18:24:09.155Z"
   },
   {
    "duration": 4,
    "start_time": "2022-01-28T18:24:09.182Z"
   },
   {
    "duration": 5,
    "start_time": "2022-01-28T18:24:09.188Z"
   },
   {
    "duration": 6,
    "start_time": "2022-01-28T18:24:09.194Z"
   },
   {
    "duration": 6,
    "start_time": "2022-01-28T18:24:09.201Z"
   },
   {
    "duration": 6,
    "start_time": "2022-01-28T18:24:09.209Z"
   },
   {
    "duration": 8,
    "start_time": "2022-01-28T18:24:09.216Z"
   },
   {
    "duration": 9,
    "start_time": "2022-01-28T18:24:09.225Z"
   },
   {
    "duration": 37,
    "start_time": "2022-01-28T18:24:09.235Z"
   },
   {
    "duration": 15,
    "start_time": "2022-01-28T18:24:09.274Z"
   },
   {
    "duration": 18,
    "start_time": "2022-01-28T18:24:09.291Z"
   },
   {
    "duration": 13,
    "start_time": "2022-01-28T18:24:09.311Z"
   },
   {
    "duration": 12,
    "start_time": "2022-01-28T18:24:09.325Z"
   },
   {
    "duration": 47,
    "start_time": "2022-01-28T18:24:09.338Z"
   },
   {
    "duration": 2,
    "start_time": "2022-01-28T18:24:09.386Z"
   },
   {
    "duration": 4,
    "start_time": "2022-01-28T18:24:09.390Z"
   },
   {
    "duration": 9,
    "start_time": "2022-01-28T18:24:09.396Z"
   },
   {
    "duration": 9,
    "start_time": "2022-01-28T18:24:09.406Z"
   },
   {
    "duration": 20,
    "start_time": "2022-01-28T18:24:09.416Z"
   },
   {
    "duration": 6,
    "start_time": "2022-01-28T18:24:09.437Z"
   },
   {
    "duration": 28,
    "start_time": "2022-01-28T18:24:09.444Z"
   },
   {
    "duration": 6,
    "start_time": "2022-01-28T18:24:09.473Z"
   },
   {
    "duration": 7,
    "start_time": "2022-01-28T18:24:09.480Z"
   },
   {
    "duration": 7,
    "start_time": "2022-01-28T18:24:09.489Z"
   },
   {
    "duration": 8,
    "start_time": "2022-01-28T18:24:09.498Z"
   },
   {
    "duration": 6,
    "start_time": "2022-01-28T18:24:09.507Z"
   },
   {
    "duration": 14,
    "start_time": "2022-01-28T18:24:09.514Z"
   },
   {
    "duration": 9132,
    "start_time": "2022-01-28T18:24:09.530Z"
   },
   {
    "duration": 13,
    "start_time": "2022-01-28T18:24:18.672Z"
   },
   {
    "duration": 11,
    "start_time": "2022-01-28T18:24:18.688Z"
   },
   {
    "duration": 10,
    "start_time": "2022-01-28T18:24:18.700Z"
   },
   {
    "duration": 13,
    "start_time": "2022-01-28T18:24:18.712Z"
   },
   {
    "duration": 5,
    "start_time": "2022-01-28T18:24:18.726Z"
   },
   {
    "duration": 5,
    "start_time": "2022-01-28T18:24:18.733Z"
   },
   {
    "duration": 6,
    "start_time": "2022-01-28T18:24:18.772Z"
   },
   {
    "duration": 6,
    "start_time": "2022-01-28T18:24:18.780Z"
   },
   {
    "duration": 4,
    "start_time": "2022-01-28T18:24:18.787Z"
   },
   {
    "duration": 30,
    "start_time": "2022-01-28T18:24:18.792Z"
   },
   {
    "duration": 17584,
    "start_time": "2022-01-28T18:24:18.823Z"
   },
   {
    "duration": 6,
    "start_time": "2022-01-28T18:24:36.409Z"
   },
   {
    "duration": 17,
    "start_time": "2022-01-28T18:24:36.416Z"
   },
   {
    "duration": 10,
    "start_time": "2022-01-28T18:24:36.434Z"
   },
   {
    "duration": 4,
    "start_time": "2022-01-28T18:24:36.445Z"
   },
   {
    "duration": 3,
    "start_time": "2022-01-28T18:24:36.472Z"
   },
   {
    "duration": 23,
    "start_time": "2022-01-28T18:24:36.476Z"
   },
   {
    "duration": 4,
    "start_time": "2022-01-28T18:24:36.501Z"
   },
   {
    "duration": 2,
    "start_time": "2022-01-28T18:24:36.507Z"
   },
   {
    "duration": 12,
    "start_time": "2022-01-28T18:24:36.510Z"
   },
   {
    "duration": 5,
    "start_time": "2022-01-28T18:24:36.523Z"
   },
   {
    "duration": 10,
    "start_time": "2022-01-28T18:24:36.529Z"
   },
   {
    "duration": 31,
    "start_time": "2022-01-28T18:24:36.541Z"
   },
   {
    "duration": 272,
    "start_time": "2022-01-28T18:24:36.573Z"
   },
   {
    "duration": 24,
    "start_time": "2022-01-28T18:24:36.847Z"
   },
   {
    "duration": 33,
    "start_time": "2022-01-28T18:24:36.873Z"
   },
   {
    "duration": 40,
    "start_time": "2022-01-28T18:24:36.908Z"
   },
   {
    "duration": 27,
    "start_time": "2022-01-28T18:24:36.949Z"
   },
   {
    "duration": 25,
    "start_time": "2022-01-28T18:24:36.978Z"
   },
   {
    "duration": 4,
    "start_time": "2022-01-28T18:24:37.004Z"
   },
   {
    "duration": 30,
    "start_time": "2022-01-28T18:24:37.010Z"
   },
   {
    "duration": 154,
    "start_time": "2022-01-29T06:03:09.028Z"
   },
   {
    "duration": 84,
    "start_time": "2022-01-29T06:06:59.771Z"
   },
   {
    "duration": 133,
    "start_time": "2022-01-31T13:23:10.846Z"
   }
  ],
  "kernelspec": {
   "display_name": "Python 3",
   "language": "python",
   "name": "python3"
  },
  "language_info": {
   "codemirror_mode": {
    "name": "ipython",
    "version": 3
   },
   "file_extension": ".py",
   "mimetype": "text/x-python",
   "name": "python",
   "nbconvert_exporter": "python",
   "pygments_lexer": "ipython3",
   "version": "3.8.5"
  },
  "toc": {
   "base_numbering": 1,
   "nav_menu": {},
   "number_sections": true,
   "sideBar": true,
   "skip_h1_title": true,
   "title_cell": "Table of Contents",
   "title_sidebar": "Contents",
   "toc_cell": false,
   "toc_position": {},
   "toc_section_display": true,
   "toc_window_display": false
  }
 },
 "nbformat": 4,
 "nbformat_minor": 2
}
