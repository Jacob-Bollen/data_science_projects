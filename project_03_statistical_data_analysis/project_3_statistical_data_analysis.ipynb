{
 "cells": [
  {
   "cell_type": "markdown",
   "metadata": {},
   "source": [
    "# Which one is a better plan?\n",
    "\n",
    "You work as an analyst for the telecom operator Megaline. The company offers its clients two prepaid plans, Surf and Ultimate. The commercial department wants to know which of the plans brings in more revenue in order to adjust the advertising budget.\n",
    "\n",
    "You are going to carry out a preliminary analysis of the plans based on a relatively small client selection. You'll have the data on 500 Megaline clients: who the clients are, where they're from, which plan they use, and the number of calls they made and text messages they sent in 2018. Your job is to analyze the clients' behavior and determine which prepaid plan brings in more revenue."
   ]
  },
  {
   "cell_type": "markdown",
   "metadata": {},
   "source": [
    "In order to carry out the analysis, we will have to take a number of steps prior to performing our statistical tests.\n",
    "\n",
    "These are:\n",
    "\n",
    "- Fixing and enriching the data\n",
    "    - Changing datatypes, removing duplicates and entries that aren't appropriate for analysis\n",
    "\n",
    "- Aggregating the data\n",
    "    - Combining the data for calls, messages and internet usage each month into one dataframe\n",
    "    \n",
    "- Studying user behaviour\n",
    "    - Performing some data analysis and visualisation to observe any patterns.\n",
    "    \n",
    "- Finally, performing statistical test to determine if differences are statistically significant."
   ]
  },
  {
   "cell_type": "markdown",
   "metadata": {},
   "source": [
    "## Initialization"
   ]
  },
  {
   "cell_type": "code",
   "execution_count": 1,
   "metadata": {},
   "outputs": [],
   "source": [
    "# Loading all the libraries\n",
    "import pandas as pd\n",
    "import numpy as np\n",
    "import seaborn as sns\n",
    "import math\n",
    "import matplotlib.pyplot as plt\n",
    "from matplotlib.ticker import PercentFormatter\n",
    "import statistics\n",
    "from scipy import stats as st\n",
    "\n",
    "import warnings\n",
    "warnings.filterwarnings(\"ignore\") "
   ]
  },
  {
   "cell_type": "markdown",
   "metadata": {},
   "source": [
    "## Load data"
   ]
  },
  {
   "cell_type": "markdown",
   "metadata": {},
   "source": []
  },
  {
   "cell_type": "code",
   "execution_count": 2,
   "metadata": {},
   "outputs": [],
   "source": [
    "# Loading the data files into different DataFrames\n",
    "calls_df = pd.read_csv('/datasets/megaline_calls.csv')\n",
    "internet_df = pd.read_csv('/datasets/megaline_internet.csv')\n",
    "messages_df = pd.read_csv('/datasets/megaline_messages.csv') \n",
    "plans_df = pd.read_csv('/datasets/megaline_plans.csv') \n",
    "users_df = pd.read_csv('/datasets/megaline_users.csv')\n"
   ]
  },
  {
   "cell_type": "code",
   "execution_count": 3,
   "metadata": {},
   "outputs": [],
   "source": [
    "#setting view options\n",
    "pd.set_option('display.max_columns', None)\n",
    "pd.set_option('display.max_rows', None)"
   ]
  },
  {
   "cell_type": "markdown",
   "metadata": {},
   "source": [
    "## Prepare the data"
   ]
  },
  {
   "cell_type": "markdown",
   "metadata": {},
   "source": [
    "We'll check DataFrames one by one identifying any erroneous data types, duplicates or missing values and correcting them accordingly."
   ]
  },
  {
   "cell_type": "markdown",
   "metadata": {},
   "source": [
    "## Plans"
   ]
  },
  {
   "cell_type": "code",
   "execution_count": 4,
   "metadata": {},
   "outputs": [
    {
     "name": "stdout",
     "output_type": "stream",
     "text": [
      "<class 'pandas.core.frame.DataFrame'>\n",
      "RangeIndex: 2 entries, 0 to 1\n",
      "Data columns (total 8 columns):\n",
      " #   Column                 Non-Null Count  Dtype  \n",
      "---  ------                 --------------  -----  \n",
      " 0   messages_included      2 non-null      int64  \n",
      " 1   mb_per_month_included  2 non-null      int64  \n",
      " 2   minutes_included       2 non-null      int64  \n",
      " 3   usd_monthly_pay        2 non-null      int64  \n",
      " 4   usd_per_gb             2 non-null      int64  \n",
      " 5   usd_per_message        2 non-null      float64\n",
      " 6   usd_per_minute         2 non-null      float64\n",
      " 7   plan_name              2 non-null      object \n",
      "dtypes: float64(2), int64(5), object(1)\n",
      "memory usage: 256.0+ bytes\n"
     ]
    }
   ],
   "source": [
    "# Printing the general/summary information about the plans' DataFrame\n",
    "plans_df.info()"
   ]
  },
  {
   "cell_type": "code",
   "execution_count": 5,
   "metadata": {},
   "outputs": [
    {
     "data": {
      "text/html": [
       "<div>\n",
       "<style scoped>\n",
       "    .dataframe tbody tr th:only-of-type {\n",
       "        vertical-align: middle;\n",
       "    }\n",
       "\n",
       "    .dataframe tbody tr th {\n",
       "        vertical-align: top;\n",
       "    }\n",
       "\n",
       "    .dataframe thead th {\n",
       "        text-align: right;\n",
       "    }\n",
       "</style>\n",
       "<table border=\"1\" class=\"dataframe\">\n",
       "  <thead>\n",
       "    <tr style=\"text-align: right;\">\n",
       "      <th></th>\n",
       "      <th>messages_included</th>\n",
       "      <th>mb_per_month_included</th>\n",
       "      <th>minutes_included</th>\n",
       "      <th>usd_monthly_pay</th>\n",
       "      <th>usd_per_gb</th>\n",
       "      <th>usd_per_message</th>\n",
       "      <th>usd_per_minute</th>\n",
       "      <th>plan_name</th>\n",
       "    </tr>\n",
       "  </thead>\n",
       "  <tbody>\n",
       "    <tr>\n",
       "      <th>0</th>\n",
       "      <td>50</td>\n",
       "      <td>15360</td>\n",
       "      <td>500</td>\n",
       "      <td>20</td>\n",
       "      <td>10</td>\n",
       "      <td>0.03</td>\n",
       "      <td>0.03</td>\n",
       "      <td>surf</td>\n",
       "    </tr>\n",
       "    <tr>\n",
       "      <th>1</th>\n",
       "      <td>1000</td>\n",
       "      <td>30720</td>\n",
       "      <td>3000</td>\n",
       "      <td>70</td>\n",
       "      <td>7</td>\n",
       "      <td>0.01</td>\n",
       "      <td>0.01</td>\n",
       "      <td>ultimate</td>\n",
       "    </tr>\n",
       "  </tbody>\n",
       "</table>\n",
       "</div>"
      ],
      "text/plain": [
       "   messages_included  mb_per_month_included  minutes_included  \\\n",
       "0                 50                  15360               500   \n",
       "1               1000                  30720              3000   \n",
       "\n",
       "   usd_monthly_pay  usd_per_gb  usd_per_message  usd_per_minute plan_name  \n",
       "0               20          10             0.03            0.03      surf  \n",
       "1               70           7             0.01            0.01  ultimate  "
      ]
     },
     "execution_count": 5,
     "metadata": {},
     "output_type": "execute_result"
    }
   ],
   "source": [
    "plans_df"
   ]
  },
  {
   "cell_type": "markdown",
   "metadata": {},
   "source": [
    "The data allowance is given in Mb yet data is excess data is charged per Gb. This is something to be careful of going forward."
   ]
  },
  {
   "cell_type": "markdown",
   "metadata": {},
   "source": [
    " "
   ]
  },
  {
   "cell_type": "markdown",
   "metadata": {},
   "source": [
    "## Users"
   ]
  },
  {
   "cell_type": "code",
   "execution_count": 6,
   "metadata": {},
   "outputs": [
    {
     "name": "stdout",
     "output_type": "stream",
     "text": [
      "<class 'pandas.core.frame.DataFrame'>\n",
      "RangeIndex: 500 entries, 0 to 499\n",
      "Data columns (total 8 columns):\n",
      " #   Column      Non-Null Count  Dtype \n",
      "---  ------      --------------  ----- \n",
      " 0   user_id     500 non-null    int64 \n",
      " 1   first_name  500 non-null    object\n",
      " 2   last_name   500 non-null    object\n",
      " 3   age         500 non-null    int64 \n",
      " 4   city        500 non-null    object\n",
      " 5   reg_date    500 non-null    object\n",
      " 6   plan        500 non-null    object\n",
      " 7   churn_date  34 non-null     object\n",
      "dtypes: int64(2), object(6)\n",
      "memory usage: 31.4+ KB\n"
     ]
    }
   ],
   "source": [
    "# Printing the general/summary information about the users' DataFrame\n",
    "users_df.info()"
   ]
  },
  {
   "cell_type": "code",
   "execution_count": 7,
   "metadata": {},
   "outputs": [
    {
     "data": {
      "text/html": [
       "<div>\n",
       "<style scoped>\n",
       "    .dataframe tbody tr th:only-of-type {\n",
       "        vertical-align: middle;\n",
       "    }\n",
       "\n",
       "    .dataframe tbody tr th {\n",
       "        vertical-align: top;\n",
       "    }\n",
       "\n",
       "    .dataframe thead th {\n",
       "        text-align: right;\n",
       "    }\n",
       "</style>\n",
       "<table border=\"1\" class=\"dataframe\">\n",
       "  <thead>\n",
       "    <tr style=\"text-align: right;\">\n",
       "      <th></th>\n",
       "      <th>user_id</th>\n",
       "      <th>first_name</th>\n",
       "      <th>last_name</th>\n",
       "      <th>age</th>\n",
       "      <th>city</th>\n",
       "      <th>reg_date</th>\n",
       "      <th>plan</th>\n",
       "      <th>churn_date</th>\n",
       "    </tr>\n",
       "  </thead>\n",
       "  <tbody>\n",
       "    <tr>\n",
       "      <th>180</th>\n",
       "      <td>1180</td>\n",
       "      <td>Wonda</td>\n",
       "      <td>Hays</td>\n",
       "      <td>24</td>\n",
       "      <td>New York-Newark-Jersey City, NY-NJ-PA MSA</td>\n",
       "      <td>2018-12-01</td>\n",
       "      <td>surf</td>\n",
       "      <td>2018-12-22</td>\n",
       "    </tr>\n",
       "    <tr>\n",
       "      <th>48</th>\n",
       "      <td>1048</td>\n",
       "      <td>Linwood</td>\n",
       "      <td>Terrell</td>\n",
       "      <td>42</td>\n",
       "      <td>Miami-Fort Lauderdale-West Palm Beach, FL MSA</td>\n",
       "      <td>2018-08-24</td>\n",
       "      <td>surf</td>\n",
       "      <td>NaN</td>\n",
       "    </tr>\n",
       "    <tr>\n",
       "      <th>76</th>\n",
       "      <td>1076</td>\n",
       "      <td>Ronny</td>\n",
       "      <td>Browning</td>\n",
       "      <td>51</td>\n",
       "      <td>Buffalo-Cheektowaga, NY MSA</td>\n",
       "      <td>2018-07-29</td>\n",
       "      <td>surf</td>\n",
       "      <td>NaN</td>\n",
       "    </tr>\n",
       "    <tr>\n",
       "      <th>147</th>\n",
       "      <td>1147</td>\n",
       "      <td>Duncan</td>\n",
       "      <td>Malone</td>\n",
       "      <td>71</td>\n",
       "      <td>Urban Honolulu, HI MSA</td>\n",
       "      <td>2018-04-30</td>\n",
       "      <td>surf</td>\n",
       "      <td>NaN</td>\n",
       "    </tr>\n",
       "    <tr>\n",
       "      <th>160</th>\n",
       "      <td>1160</td>\n",
       "      <td>Steven</td>\n",
       "      <td>Morgan</td>\n",
       "      <td>44</td>\n",
       "      <td>Portland-Vancouver-Hillsboro, OR-WA MSA</td>\n",
       "      <td>2018-02-05</td>\n",
       "      <td>surf</td>\n",
       "      <td>NaN</td>\n",
       "    </tr>\n",
       "    <tr>\n",
       "      <th>231</th>\n",
       "      <td>1231</td>\n",
       "      <td>Gaylord</td>\n",
       "      <td>Witt</td>\n",
       "      <td>57</td>\n",
       "      <td>San Jose-Sunnyvale-Santa Clara, CA MSA</td>\n",
       "      <td>2018-01-19</td>\n",
       "      <td>ultimate</td>\n",
       "      <td>NaN</td>\n",
       "    </tr>\n",
       "    <tr>\n",
       "      <th>201</th>\n",
       "      <td>1201</td>\n",
       "      <td>Jeanelle</td>\n",
       "      <td>Estrada</td>\n",
       "      <td>61</td>\n",
       "      <td>Bridgeport-Stamford-Norwalk, CT MSA</td>\n",
       "      <td>2018-06-04</td>\n",
       "      <td>surf</td>\n",
       "      <td>NaN</td>\n",
       "    </tr>\n",
       "    <tr>\n",
       "      <th>263</th>\n",
       "      <td>1263</td>\n",
       "      <td>Lucio</td>\n",
       "      <td>Duffy</td>\n",
       "      <td>39</td>\n",
       "      <td>Boston-Cambridge-Newton, MA-NH MSA</td>\n",
       "      <td>2018-03-06</td>\n",
       "      <td>surf</td>\n",
       "      <td>NaN</td>\n",
       "    </tr>\n",
       "    <tr>\n",
       "      <th>119</th>\n",
       "      <td>1119</td>\n",
       "      <td>Anderson</td>\n",
       "      <td>Palmer</td>\n",
       "      <td>60</td>\n",
       "      <td>Louisville/Jefferson County, KY-IN MSA</td>\n",
       "      <td>2018-10-05</td>\n",
       "      <td>surf</td>\n",
       "      <td>NaN</td>\n",
       "    </tr>\n",
       "    <tr>\n",
       "      <th>304</th>\n",
       "      <td>1304</td>\n",
       "      <td>Dominque</td>\n",
       "      <td>Cole</td>\n",
       "      <td>69</td>\n",
       "      <td>Birmingham-Hoover, AL MSA</td>\n",
       "      <td>2018-10-28</td>\n",
       "      <td>ultimate</td>\n",
       "      <td>NaN</td>\n",
       "    </tr>\n",
       "    <tr>\n",
       "      <th>236</th>\n",
       "      <td>1236</td>\n",
       "      <td>Odell</td>\n",
       "      <td>Juarez</td>\n",
       "      <td>74</td>\n",
       "      <td>Minneapolis-St. Paul-Bloomington, MN-WI MSA</td>\n",
       "      <td>2018-04-04</td>\n",
       "      <td>ultimate</td>\n",
       "      <td>NaN</td>\n",
       "    </tr>\n",
       "    <tr>\n",
       "      <th>195</th>\n",
       "      <td>1195</td>\n",
       "      <td>Roy</td>\n",
       "      <td>Velez</td>\n",
       "      <td>60</td>\n",
       "      <td>Portland-Vancouver-Hillsboro, OR-WA MSA</td>\n",
       "      <td>2018-06-09</td>\n",
       "      <td>surf</td>\n",
       "      <td>NaN</td>\n",
       "    </tr>\n",
       "    <tr>\n",
       "      <th>395</th>\n",
       "      <td>1395</td>\n",
       "      <td>Leonard</td>\n",
       "      <td>Wooten</td>\n",
       "      <td>24</td>\n",
       "      <td>New York-Newark-Jersey City, NY-NJ-PA MSA</td>\n",
       "      <td>2018-06-19</td>\n",
       "      <td>ultimate</td>\n",
       "      <td>NaN</td>\n",
       "    </tr>\n",
       "    <tr>\n",
       "      <th>165</th>\n",
       "      <td>1165</td>\n",
       "      <td>Nigel</td>\n",
       "      <td>Huber</td>\n",
       "      <td>20</td>\n",
       "      <td>Philadelphia-Camden-Wilmington, PA-NJ-DE-MD MSA</td>\n",
       "      <td>2018-10-27</td>\n",
       "      <td>surf</td>\n",
       "      <td>NaN</td>\n",
       "    </tr>\n",
       "    <tr>\n",
       "      <th>441</th>\n",
       "      <td>1441</td>\n",
       "      <td>Piedad</td>\n",
       "      <td>Myers</td>\n",
       "      <td>23</td>\n",
       "      <td>Atlanta-Sandy Springs-Roswell, GA MSA</td>\n",
       "      <td>2018-03-08</td>\n",
       "      <td>ultimate</td>\n",
       "      <td>2018-08-19</td>\n",
       "    </tr>\n",
       "    <tr>\n",
       "      <th>475</th>\n",
       "      <td>1475</td>\n",
       "      <td>Arlen</td>\n",
       "      <td>Sutton</td>\n",
       "      <td>66</td>\n",
       "      <td>Dallas-Fort Worth-Arlington, TX MSA</td>\n",
       "      <td>2018-05-28</td>\n",
       "      <td>ultimate</td>\n",
       "      <td>NaN</td>\n",
       "    </tr>\n",
       "    <tr>\n",
       "      <th>149</th>\n",
       "      <td>1149</td>\n",
       "      <td>Jamaal</td>\n",
       "      <td>Camacho</td>\n",
       "      <td>54</td>\n",
       "      <td>San Francisco-Oakland-Berkeley, CA MSA</td>\n",
       "      <td>2018-03-03</td>\n",
       "      <td>surf</td>\n",
       "      <td>NaN</td>\n",
       "    </tr>\n",
       "    <tr>\n",
       "      <th>320</th>\n",
       "      <td>1320</td>\n",
       "      <td>Bert</td>\n",
       "      <td>Wells</td>\n",
       "      <td>23</td>\n",
       "      <td>Los Angeles-Long Beach-Anaheim, CA MSA</td>\n",
       "      <td>2018-02-23</td>\n",
       "      <td>surf</td>\n",
       "      <td>NaN</td>\n",
       "    </tr>\n",
       "    <tr>\n",
       "      <th>111</th>\n",
       "      <td>1111</td>\n",
       "      <td>Booker</td>\n",
       "      <td>Hahn</td>\n",
       "      <td>75</td>\n",
       "      <td>Urban Honolulu, HI MSA</td>\n",
       "      <td>2018-09-17</td>\n",
       "      <td>surf</td>\n",
       "      <td>NaN</td>\n",
       "    </tr>\n",
       "    <tr>\n",
       "      <th>413</th>\n",
       "      <td>1413</td>\n",
       "      <td>Andre</td>\n",
       "      <td>Hensley</td>\n",
       "      <td>38</td>\n",
       "      <td>Bakersfield, CA MSA</td>\n",
       "      <td>2018-07-12</td>\n",
       "      <td>surf</td>\n",
       "      <td>NaN</td>\n",
       "    </tr>\n",
       "  </tbody>\n",
       "</table>\n",
       "</div>"
      ],
      "text/plain": [
       "     user_id first_name last_name  age  \\\n",
       "180     1180      Wonda      Hays   24   \n",
       "48      1048    Linwood   Terrell   42   \n",
       "76      1076      Ronny  Browning   51   \n",
       "147     1147     Duncan    Malone   71   \n",
       "160     1160     Steven    Morgan   44   \n",
       "231     1231    Gaylord      Witt   57   \n",
       "201     1201   Jeanelle   Estrada   61   \n",
       "263     1263      Lucio     Duffy   39   \n",
       "119     1119   Anderson    Palmer   60   \n",
       "304     1304   Dominque      Cole   69   \n",
       "236     1236      Odell    Juarez   74   \n",
       "195     1195        Roy     Velez   60   \n",
       "395     1395    Leonard    Wooten   24   \n",
       "165     1165      Nigel     Huber   20   \n",
       "441     1441     Piedad     Myers   23   \n",
       "475     1475      Arlen    Sutton   66   \n",
       "149     1149     Jamaal   Camacho   54   \n",
       "320     1320       Bert     Wells   23   \n",
       "111     1111     Booker      Hahn   75   \n",
       "413     1413      Andre   Hensley   38   \n",
       "\n",
       "                                                city    reg_date      plan  \\\n",
       "180        New York-Newark-Jersey City, NY-NJ-PA MSA  2018-12-01      surf   \n",
       "48     Miami-Fort Lauderdale-West Palm Beach, FL MSA  2018-08-24      surf   \n",
       "76                       Buffalo-Cheektowaga, NY MSA  2018-07-29      surf   \n",
       "147                           Urban Honolulu, HI MSA  2018-04-30      surf   \n",
       "160          Portland-Vancouver-Hillsboro, OR-WA MSA  2018-02-05      surf   \n",
       "231           San Jose-Sunnyvale-Santa Clara, CA MSA  2018-01-19  ultimate   \n",
       "201              Bridgeport-Stamford-Norwalk, CT MSA  2018-06-04      surf   \n",
       "263               Boston-Cambridge-Newton, MA-NH MSA  2018-03-06      surf   \n",
       "119           Louisville/Jefferson County, KY-IN MSA  2018-10-05      surf   \n",
       "304                        Birmingham-Hoover, AL MSA  2018-10-28  ultimate   \n",
       "236      Minneapolis-St. Paul-Bloomington, MN-WI MSA  2018-04-04  ultimate   \n",
       "195          Portland-Vancouver-Hillsboro, OR-WA MSA  2018-06-09      surf   \n",
       "395        New York-Newark-Jersey City, NY-NJ-PA MSA  2018-06-19  ultimate   \n",
       "165  Philadelphia-Camden-Wilmington, PA-NJ-DE-MD MSA  2018-10-27      surf   \n",
       "441            Atlanta-Sandy Springs-Roswell, GA MSA  2018-03-08  ultimate   \n",
       "475              Dallas-Fort Worth-Arlington, TX MSA  2018-05-28  ultimate   \n",
       "149           San Francisco-Oakland-Berkeley, CA MSA  2018-03-03      surf   \n",
       "320           Los Angeles-Long Beach-Anaheim, CA MSA  2018-02-23      surf   \n",
       "111                           Urban Honolulu, HI MSA  2018-09-17      surf   \n",
       "413                              Bakersfield, CA MSA  2018-07-12      surf   \n",
       "\n",
       "     churn_date  \n",
       "180  2018-12-22  \n",
       "48          NaN  \n",
       "76          NaN  \n",
       "147         NaN  \n",
       "160         NaN  \n",
       "231         NaN  \n",
       "201         NaN  \n",
       "263         NaN  \n",
       "119         NaN  \n",
       "304         NaN  \n",
       "236         NaN  \n",
       "195         NaN  \n",
       "395         NaN  \n",
       "165         NaN  \n",
       "441  2018-08-19  \n",
       "475         NaN  \n",
       "149         NaN  \n",
       "320         NaN  \n",
       "111         NaN  \n",
       "413         NaN  "
      ]
     },
     "execution_count": 7,
     "metadata": {},
     "output_type": "execute_result"
    }
   ],
   "source": [
    "# Printing a sample of data for users\n",
    "users_df.sample(20)"
   ]
  },
  {
   "cell_type": "code",
   "execution_count": 8,
   "metadata": {},
   "outputs": [
    {
     "data": {
      "text/plain": [
       "0"
      ]
     },
     "execution_count": 8,
     "metadata": {},
     "output_type": "execute_result"
    }
   ],
   "source": [
    "#checking for duplicates\n",
    "users_df.duplicated().sum()"
   ]
  },
  {
   "cell_type": "code",
   "execution_count": 9,
   "metadata": {},
   "outputs": [
    {
     "name": "stdout",
     "output_type": "stream",
     "text": [
      "2018-01-01\n",
      "2018-12-31\n"
     ]
    }
   ],
   "source": [
    "#checking earliest/latest registrations\n",
    "print(users_df['reg_date'].min())\n",
    "print(users_df['reg_date'].max())"
   ]
  },
  {
   "cell_type": "markdown",
   "metadata": {},
   "source": [
    "We're only interested in data from 2018 and, from the project description, we know that those with NaN values for churn date are still using the plan, so we can set a churn date of 2018-12-31. Then convert `reg_date` and `churn_date` to a datetime object.\n",
    "\n",
    "Care needs to be taken to avoid calculating revenue before the registration date or after the churn date. We also don't want to be calculating monthly revenue for users who signed up or terminated part way through a month therefore, throughout the analysis we will only concern ourselves with 'whole' months of users plans, i.e where they were signed up on or before the first of the month and didn't terminate their plan before the end of the month.\n",
    "\n",
    "We can use the `.day` and  `.month` attributes to calculate the users first and last 'full' month and add these to the DataFrame."
   ]
  },
  {
   "cell_type": "markdown",
   "metadata": {},
   "source": [
    " "
   ]
  },
  {
   "cell_type": "markdown",
   "metadata": {},
   "source": [
    "### Fix Data"
   ]
  },
  {
   "cell_type": "markdown",
   "metadata": {},
   "source": [
    "`reg_date` can be changed to a datetime object.\n",
    "As we are only interested in 2018, we can set the churn date for NaN users to 31-12-2018."
   ]
  },
  {
   "cell_type": "code",
   "execution_count": 10,
   "metadata": {},
   "outputs": [
    {
     "data": {
      "text/html": [
       "<div>\n",
       "<style scoped>\n",
       "    .dataframe tbody tr th:only-of-type {\n",
       "        vertical-align: middle;\n",
       "    }\n",
       "\n",
       "    .dataframe tbody tr th {\n",
       "        vertical-align: top;\n",
       "    }\n",
       "\n",
       "    .dataframe thead th {\n",
       "        text-align: right;\n",
       "    }\n",
       "</style>\n",
       "<table border=\"1\" class=\"dataframe\">\n",
       "  <thead>\n",
       "    <tr style=\"text-align: right;\">\n",
       "      <th></th>\n",
       "      <th>user_id</th>\n",
       "      <th>first_name</th>\n",
       "      <th>last_name</th>\n",
       "      <th>age</th>\n",
       "      <th>city</th>\n",
       "      <th>reg_date</th>\n",
       "      <th>plan</th>\n",
       "      <th>churn_date</th>\n",
       "    </tr>\n",
       "  </thead>\n",
       "  <tbody>\n",
       "    <tr>\n",
       "      <th>0</th>\n",
       "      <td>1000</td>\n",
       "      <td>Anamaria</td>\n",
       "      <td>Bauer</td>\n",
       "      <td>45</td>\n",
       "      <td>Atlanta-Sandy Springs-Roswell, GA MSA</td>\n",
       "      <td>2018-12-24</td>\n",
       "      <td>ultimate</td>\n",
       "      <td>2018-12-31</td>\n",
       "    </tr>\n",
       "    <tr>\n",
       "      <th>1</th>\n",
       "      <td>1001</td>\n",
       "      <td>Mickey</td>\n",
       "      <td>Wilkerson</td>\n",
       "      <td>28</td>\n",
       "      <td>Seattle-Tacoma-Bellevue, WA MSA</td>\n",
       "      <td>2018-08-13</td>\n",
       "      <td>surf</td>\n",
       "      <td>2018-12-31</td>\n",
       "    </tr>\n",
       "    <tr>\n",
       "      <th>2</th>\n",
       "      <td>1002</td>\n",
       "      <td>Carlee</td>\n",
       "      <td>Hoffman</td>\n",
       "      <td>36</td>\n",
       "      <td>Las Vegas-Henderson-Paradise, NV MSA</td>\n",
       "      <td>2018-10-21</td>\n",
       "      <td>surf</td>\n",
       "      <td>2018-12-31</td>\n",
       "    </tr>\n",
       "    <tr>\n",
       "      <th>3</th>\n",
       "      <td>1003</td>\n",
       "      <td>Reynaldo</td>\n",
       "      <td>Jenkins</td>\n",
       "      <td>52</td>\n",
       "      <td>Tulsa, OK MSA</td>\n",
       "      <td>2018-01-28</td>\n",
       "      <td>surf</td>\n",
       "      <td>2018-12-31</td>\n",
       "    </tr>\n",
       "    <tr>\n",
       "      <th>4</th>\n",
       "      <td>1004</td>\n",
       "      <td>Leonila</td>\n",
       "      <td>Thompson</td>\n",
       "      <td>40</td>\n",
       "      <td>Seattle-Tacoma-Bellevue, WA MSA</td>\n",
       "      <td>2018-05-23</td>\n",
       "      <td>surf</td>\n",
       "      <td>2018-12-31</td>\n",
       "    </tr>\n",
       "  </tbody>\n",
       "</table>\n",
       "</div>"
      ],
      "text/plain": [
       "   user_id first_name  last_name  age                                   city  \\\n",
       "0     1000   Anamaria      Bauer   45  Atlanta-Sandy Springs-Roswell, GA MSA   \n",
       "1     1001     Mickey  Wilkerson   28        Seattle-Tacoma-Bellevue, WA MSA   \n",
       "2     1002     Carlee    Hoffman   36   Las Vegas-Henderson-Paradise, NV MSA   \n",
       "3     1003   Reynaldo    Jenkins   52                          Tulsa, OK MSA   \n",
       "4     1004    Leonila   Thompson   40        Seattle-Tacoma-Bellevue, WA MSA   \n",
       "\n",
       "     reg_date      plan  churn_date  \n",
       "0  2018-12-24  ultimate  2018-12-31  \n",
       "1  2018-08-13      surf  2018-12-31  \n",
       "2  2018-10-21      surf  2018-12-31  \n",
       "3  2018-01-28      surf  2018-12-31  \n",
       "4  2018-05-23      surf  2018-12-31  "
      ]
     },
     "execution_count": 10,
     "metadata": {},
     "output_type": "execute_result"
    }
   ],
   "source": [
    "users_df['churn_date'].fillna('2018-12-31', inplace = True)\n",
    "users_df.head()"
   ]
  },
  {
   "cell_type": "code",
   "execution_count": 11,
   "metadata": {},
   "outputs": [
    {
     "name": "stdout",
     "output_type": "stream",
     "text": [
      "<class 'pandas.core.frame.DataFrame'>\n",
      "RangeIndex: 500 entries, 0 to 499\n",
      "Data columns (total 8 columns):\n",
      " #   Column      Non-Null Count  Dtype         \n",
      "---  ------      --------------  -----         \n",
      " 0   user_id     500 non-null    int64         \n",
      " 1   first_name  500 non-null    object        \n",
      " 2   last_name   500 non-null    object        \n",
      " 3   age         500 non-null    int64         \n",
      " 4   city        500 non-null    object        \n",
      " 5   reg_date    500 non-null    datetime64[ns]\n",
      " 6   plan        500 non-null    object        \n",
      " 7   churn_date  500 non-null    datetime64[ns]\n",
      "dtypes: datetime64[ns](2), int64(2), object(4)\n",
      "memory usage: 31.4+ KB\n"
     ]
    }
   ],
   "source": [
    "users_df['reg_date'] = pd.to_datetime(users_df['reg_date'], format = '%Y-%m-%d')\n",
    "users_df['churn_date'] = pd.to_datetime(users_df['churn_date'], format = '%Y-%m-%d')\n",
    "users_df.info()"
   ]
  },
  {
   "cell_type": "markdown",
   "metadata": {},
   "source": [
    "### Enrich Data"
   ]
  },
  {
   "cell_type": "markdown",
   "metadata": {},
   "source": [
    "We can note the users first full month and remove those who signed up less than a month before the end of 2018.\n",
    "\n",
    "\n",
    "If users signed up on the 1st day of the month we will count that as their first month, otherwise, their first month will be listed as the first full month after their sign-up date.\n",
    "\n",
    "We can do similarto identify users last full month."
   ]
  },
  {
   "cell_type": "code",
   "execution_count": 12,
   "metadata": {},
   "outputs": [
    {
     "data": {
      "text/html": [
       "<div>\n",
       "<style scoped>\n",
       "    .dataframe tbody tr th:only-of-type {\n",
       "        vertical-align: middle;\n",
       "    }\n",
       "\n",
       "    .dataframe tbody tr th {\n",
       "        vertical-align: top;\n",
       "    }\n",
       "\n",
       "    .dataframe thead th {\n",
       "        text-align: right;\n",
       "    }\n",
       "</style>\n",
       "<table border=\"1\" class=\"dataframe\">\n",
       "  <thead>\n",
       "    <tr style=\"text-align: right;\">\n",
       "      <th></th>\n",
       "      <th>user_id</th>\n",
       "      <th>first_name</th>\n",
       "      <th>last_name</th>\n",
       "      <th>age</th>\n",
       "      <th>city</th>\n",
       "      <th>reg_date</th>\n",
       "      <th>plan</th>\n",
       "      <th>churn_date</th>\n",
       "      <th>first_month</th>\n",
       "    </tr>\n",
       "  </thead>\n",
       "  <tbody>\n",
       "    <tr>\n",
       "      <th>240</th>\n",
       "      <td>1240</td>\n",
       "      <td>Drema</td>\n",
       "      <td>Lopez</td>\n",
       "      <td>61</td>\n",
       "      <td>Baton Rouge, LA MSA</td>\n",
       "      <td>2018-03-18</td>\n",
       "      <td>surf</td>\n",
       "      <td>2018-12-31</td>\n",
       "      <td>4</td>\n",
       "    </tr>\n",
       "    <tr>\n",
       "      <th>495</th>\n",
       "      <td>1495</td>\n",
       "      <td>Fidel</td>\n",
       "      <td>Sharpe</td>\n",
       "      <td>67</td>\n",
       "      <td>New York-Newark-Jersey City, NY-NJ-PA MSA</td>\n",
       "      <td>2018-09-04</td>\n",
       "      <td>surf</td>\n",
       "      <td>2018-12-31</td>\n",
       "      <td>10</td>\n",
       "    </tr>\n",
       "    <tr>\n",
       "      <th>139</th>\n",
       "      <td>1139</td>\n",
       "      <td>Thomas</td>\n",
       "      <td>Lawson</td>\n",
       "      <td>66</td>\n",
       "      <td>New Orleans-Metairie, LA MSA</td>\n",
       "      <td>2018-11-18</td>\n",
       "      <td>surf</td>\n",
       "      <td>2018-12-31</td>\n",
       "      <td>12</td>\n",
       "    </tr>\n",
       "    <tr>\n",
       "      <th>382</th>\n",
       "      <td>1382</td>\n",
       "      <td>Luci</td>\n",
       "      <td>Kidd</td>\n",
       "      <td>49</td>\n",
       "      <td>San Diego-Chula Vista-Carlsbad, CA MSA</td>\n",
       "      <td>2018-06-22</td>\n",
       "      <td>ultimate</td>\n",
       "      <td>2018-12-31</td>\n",
       "      <td>7</td>\n",
       "    </tr>\n",
       "    <tr>\n",
       "      <th>212</th>\n",
       "      <td>1212</td>\n",
       "      <td>Alfredo</td>\n",
       "      <td>Pruitt</td>\n",
       "      <td>36</td>\n",
       "      <td>Austin-Round Rock-Georgetown, TX MSA</td>\n",
       "      <td>2018-07-27</td>\n",
       "      <td>surf</td>\n",
       "      <td>2018-12-31</td>\n",
       "      <td>8</td>\n",
       "    </tr>\n",
       "    <tr>\n",
       "      <th>228</th>\n",
       "      <td>1228</td>\n",
       "      <td>Jude</td>\n",
       "      <td>Hale</td>\n",
       "      <td>26</td>\n",
       "      <td>Detroit-Warren-Dearborn, MI MSA</td>\n",
       "      <td>2018-04-15</td>\n",
       "      <td>surf</td>\n",
       "      <td>2018-12-31</td>\n",
       "      <td>5</td>\n",
       "    </tr>\n",
       "    <tr>\n",
       "      <th>267</th>\n",
       "      <td>1267</td>\n",
       "      <td>Gia</td>\n",
       "      <td>Parker</td>\n",
       "      <td>53</td>\n",
       "      <td>St. Louis, MO-IL MSA</td>\n",
       "      <td>2018-03-12</td>\n",
       "      <td>surf</td>\n",
       "      <td>2018-12-31</td>\n",
       "      <td>4</td>\n",
       "    </tr>\n",
       "    <tr>\n",
       "      <th>488</th>\n",
       "      <td>1488</td>\n",
       "      <td>Shirley</td>\n",
       "      <td>Jones</td>\n",
       "      <td>29</td>\n",
       "      <td>Baton Rouge, LA MSA</td>\n",
       "      <td>2018-05-15</td>\n",
       "      <td>surf</td>\n",
       "      <td>2018-12-31</td>\n",
       "      <td>6</td>\n",
       "    </tr>\n",
       "    <tr>\n",
       "      <th>235</th>\n",
       "      <td>1235</td>\n",
       "      <td>Felton</td>\n",
       "      <td>Nguyen</td>\n",
       "      <td>50</td>\n",
       "      <td>Minneapolis-St. Paul-Bloomington, MN-WI MSA</td>\n",
       "      <td>2018-02-20</td>\n",
       "      <td>surf</td>\n",
       "      <td>2018-12-31</td>\n",
       "      <td>3</td>\n",
       "    </tr>\n",
       "    <tr>\n",
       "      <th>415</th>\n",
       "      <td>1415</td>\n",
       "      <td>Rosette</td>\n",
       "      <td>Mendez</td>\n",
       "      <td>56</td>\n",
       "      <td>Boston-Cambridge-Newton, MA-NH MSA</td>\n",
       "      <td>2018-02-27</td>\n",
       "      <td>surf</td>\n",
       "      <td>2018-12-31</td>\n",
       "      <td>3</td>\n",
       "    </tr>\n",
       "  </tbody>\n",
       "</table>\n",
       "</div>"
      ],
      "text/plain": [
       "     user_id first_name last_name  age  \\\n",
       "240     1240      Drema     Lopez   61   \n",
       "495     1495      Fidel    Sharpe   67   \n",
       "139     1139     Thomas    Lawson   66   \n",
       "382     1382       Luci      Kidd   49   \n",
       "212     1212    Alfredo    Pruitt   36   \n",
       "228     1228       Jude      Hale   26   \n",
       "267     1267        Gia    Parker   53   \n",
       "488     1488    Shirley     Jones   29   \n",
       "235     1235     Felton    Nguyen   50   \n",
       "415     1415    Rosette    Mendez   56   \n",
       "\n",
       "                                            city   reg_date      plan  \\\n",
       "240                          Baton Rouge, LA MSA 2018-03-18      surf   \n",
       "495    New York-Newark-Jersey City, NY-NJ-PA MSA 2018-09-04      surf   \n",
       "139                 New Orleans-Metairie, LA MSA 2018-11-18      surf   \n",
       "382       San Diego-Chula Vista-Carlsbad, CA MSA 2018-06-22  ultimate   \n",
       "212         Austin-Round Rock-Georgetown, TX MSA 2018-07-27      surf   \n",
       "228              Detroit-Warren-Dearborn, MI MSA 2018-04-15      surf   \n",
       "267                         St. Louis, MO-IL MSA 2018-03-12      surf   \n",
       "488                          Baton Rouge, LA MSA 2018-05-15      surf   \n",
       "235  Minneapolis-St. Paul-Bloomington, MN-WI MSA 2018-02-20      surf   \n",
       "415           Boston-Cambridge-Newton, MA-NH MSA 2018-02-27      surf   \n",
       "\n",
       "    churn_date  first_month  \n",
       "240 2018-12-31            4  \n",
       "495 2018-12-31           10  \n",
       "139 2018-12-31           12  \n",
       "382 2018-12-31            7  \n",
       "212 2018-12-31            8  \n",
       "228 2018-12-31            5  \n",
       "267 2018-12-31            4  \n",
       "488 2018-12-31            6  \n",
       "235 2018-12-31            3  \n",
       "415 2018-12-31            3  "
      ]
     },
     "execution_count": 12,
     "metadata": {},
     "output_type": "execute_result"
    }
   ],
   "source": [
    "#creating function to identify first full month\n",
    "\n",
    "def first_month(dt):\n",
    "    if dt.day == 1:\n",
    "        return dt.month\n",
    "    else:\n",
    "        return dt.month + 1\n",
    "    \n",
    "users_df['first_month'] = users_df['reg_date'].apply(first_month)\n",
    "\n",
    "#removing users who signed up less than a month before the end of 2018\n",
    "users_df = users_df[users_df['first_month']!= 13]\n",
    "\n",
    "users_df.sample(10)"
   ]
  },
  {
   "cell_type": "code",
   "execution_count": 13,
   "metadata": {},
   "outputs": [
    {
     "data": {
      "text/html": [
       "<div>\n",
       "<style scoped>\n",
       "    .dataframe tbody tr th:only-of-type {\n",
       "        vertical-align: middle;\n",
       "    }\n",
       "\n",
       "    .dataframe tbody tr th {\n",
       "        vertical-align: top;\n",
       "    }\n",
       "\n",
       "    .dataframe thead th {\n",
       "        text-align: right;\n",
       "    }\n",
       "</style>\n",
       "<table border=\"1\" class=\"dataframe\">\n",
       "  <thead>\n",
       "    <tr style=\"text-align: right;\">\n",
       "      <th></th>\n",
       "      <th>user_id</th>\n",
       "      <th>first_name</th>\n",
       "      <th>last_name</th>\n",
       "      <th>age</th>\n",
       "      <th>city</th>\n",
       "      <th>reg_date</th>\n",
       "      <th>plan</th>\n",
       "      <th>churn_date</th>\n",
       "      <th>first_month</th>\n",
       "      <th>last_month</th>\n",
       "    </tr>\n",
       "  </thead>\n",
       "  <tbody>\n",
       "    <tr>\n",
       "      <th>434</th>\n",
       "      <td>1434</td>\n",
       "      <td>Kai</td>\n",
       "      <td>Barr</td>\n",
       "      <td>18</td>\n",
       "      <td>New York-Newark-Jersey City, NY-NJ-PA MSA</td>\n",
       "      <td>2018-03-06</td>\n",
       "      <td>surf</td>\n",
       "      <td>2018-12-31</td>\n",
       "      <td>4</td>\n",
       "      <td>12</td>\n",
       "    </tr>\n",
       "    <tr>\n",
       "      <th>164</th>\n",
       "      <td>1164</td>\n",
       "      <td>Kam</td>\n",
       "      <td>Macias</td>\n",
       "      <td>31</td>\n",
       "      <td>Chicago-Naperville-Elgin, IL-IN-WI MSA</td>\n",
       "      <td>2018-02-17</td>\n",
       "      <td>ultimate</td>\n",
       "      <td>2018-12-31</td>\n",
       "      <td>3</td>\n",
       "      <td>12</td>\n",
       "    </tr>\n",
       "    <tr>\n",
       "      <th>39</th>\n",
       "      <td>1039</td>\n",
       "      <td>Flo</td>\n",
       "      <td>Hicks</td>\n",
       "      <td>56</td>\n",
       "      <td>Columbus, OH MSA</td>\n",
       "      <td>2018-05-30</td>\n",
       "      <td>ultimate</td>\n",
       "      <td>2018-12-31</td>\n",
       "      <td>6</td>\n",
       "      <td>12</td>\n",
       "    </tr>\n",
       "    <tr>\n",
       "      <th>181</th>\n",
       "      <td>1181</td>\n",
       "      <td>Ron</td>\n",
       "      <td>Kaufman</td>\n",
       "      <td>47</td>\n",
       "      <td>New York-Newark-Jersey City, NY-NJ-PA MSA</td>\n",
       "      <td>2018-04-13</td>\n",
       "      <td>surf</td>\n",
       "      <td>2018-12-31</td>\n",
       "      <td>5</td>\n",
       "      <td>12</td>\n",
       "    </tr>\n",
       "    <tr>\n",
       "      <th>277</th>\n",
       "      <td>1277</td>\n",
       "      <td>Andrew</td>\n",
       "      <td>Faulkner</td>\n",
       "      <td>25</td>\n",
       "      <td>New York-Newark-Jersey City, NY-NJ-PA MSA</td>\n",
       "      <td>2018-02-02</td>\n",
       "      <td>surf</td>\n",
       "      <td>2018-12-31</td>\n",
       "      <td>3</td>\n",
       "      <td>12</td>\n",
       "    </tr>\n",
       "    <tr>\n",
       "      <th>123</th>\n",
       "      <td>1123</td>\n",
       "      <td>Dierdre</td>\n",
       "      <td>Nash</td>\n",
       "      <td>66</td>\n",
       "      <td>Philadelphia-Camden-Wilmington, PA-NJ-DE-MD MSA</td>\n",
       "      <td>2018-04-19</td>\n",
       "      <td>surf</td>\n",
       "      <td>2018-12-31</td>\n",
       "      <td>5</td>\n",
       "      <td>12</td>\n",
       "    </tr>\n",
       "    <tr>\n",
       "      <th>419</th>\n",
       "      <td>1419</td>\n",
       "      <td>Bryon</td>\n",
       "      <td>Gordon</td>\n",
       "      <td>45</td>\n",
       "      <td>Phoenix-Mesa-Chandler, AZ MSA</td>\n",
       "      <td>2018-03-29</td>\n",
       "      <td>surf</td>\n",
       "      <td>2018-12-31</td>\n",
       "      <td>4</td>\n",
       "      <td>12</td>\n",
       "    </tr>\n",
       "    <tr>\n",
       "      <th>426</th>\n",
       "      <td>1426</td>\n",
       "      <td>Lamont</td>\n",
       "      <td>Conner</td>\n",
       "      <td>44</td>\n",
       "      <td>San Francisco-Oakland-Berkeley, CA MSA</td>\n",
       "      <td>2018-07-09</td>\n",
       "      <td>ultimate</td>\n",
       "      <td>2018-12-31</td>\n",
       "      <td>8</td>\n",
       "      <td>12</td>\n",
       "    </tr>\n",
       "    <tr>\n",
       "      <th>276</th>\n",
       "      <td>1276</td>\n",
       "      <td>Karmen</td>\n",
       "      <td>Carney</td>\n",
       "      <td>20</td>\n",
       "      <td>Phoenix-Mesa-Chandler, AZ MSA</td>\n",
       "      <td>2018-02-14</td>\n",
       "      <td>surf</td>\n",
       "      <td>2018-12-31</td>\n",
       "      <td>3</td>\n",
       "      <td>12</td>\n",
       "    </tr>\n",
       "    <tr>\n",
       "      <th>479</th>\n",
       "      <td>1479</td>\n",
       "      <td>Keesha</td>\n",
       "      <td>Burnett</td>\n",
       "      <td>44</td>\n",
       "      <td>Riverside-San Bernardino-Ontario, CA MSA</td>\n",
       "      <td>2018-11-12</td>\n",
       "      <td>surf</td>\n",
       "      <td>2018-12-31</td>\n",
       "      <td>12</td>\n",
       "      <td>12</td>\n",
       "    </tr>\n",
       "  </tbody>\n",
       "</table>\n",
       "</div>"
      ],
      "text/plain": [
       "     user_id first_name last_name  age  \\\n",
       "434     1434        Kai      Barr   18   \n",
       "164     1164        Kam    Macias   31   \n",
       "39      1039        Flo     Hicks   56   \n",
       "181     1181        Ron   Kaufman   47   \n",
       "277     1277     Andrew  Faulkner   25   \n",
       "123     1123    Dierdre      Nash   66   \n",
       "419     1419      Bryon    Gordon   45   \n",
       "426     1426     Lamont    Conner   44   \n",
       "276     1276     Karmen    Carney   20   \n",
       "479     1479     Keesha   Burnett   44   \n",
       "\n",
       "                                                city   reg_date      plan  \\\n",
       "434        New York-Newark-Jersey City, NY-NJ-PA MSA 2018-03-06      surf   \n",
       "164           Chicago-Naperville-Elgin, IL-IN-WI MSA 2018-02-17  ultimate   \n",
       "39                                  Columbus, OH MSA 2018-05-30  ultimate   \n",
       "181        New York-Newark-Jersey City, NY-NJ-PA MSA 2018-04-13      surf   \n",
       "277        New York-Newark-Jersey City, NY-NJ-PA MSA 2018-02-02      surf   \n",
       "123  Philadelphia-Camden-Wilmington, PA-NJ-DE-MD MSA 2018-04-19      surf   \n",
       "419                    Phoenix-Mesa-Chandler, AZ MSA 2018-03-29      surf   \n",
       "426           San Francisco-Oakland-Berkeley, CA MSA 2018-07-09  ultimate   \n",
       "276                    Phoenix-Mesa-Chandler, AZ MSA 2018-02-14      surf   \n",
       "479         Riverside-San Bernardino-Ontario, CA MSA 2018-11-12      surf   \n",
       "\n",
       "    churn_date  first_month  last_month  \n",
       "434 2018-12-31            4          12  \n",
       "164 2018-12-31            3          12  \n",
       "39  2018-12-31            6          12  \n",
       "181 2018-12-31            5          12  \n",
       "277 2018-12-31            3          12  \n",
       "123 2018-12-31            5          12  \n",
       "419 2018-12-31            4          12  \n",
       "426 2018-12-31            8          12  \n",
       "276 2018-12-31            3          12  \n",
       "479 2018-12-31           12          12  "
      ]
     },
     "execution_count": 13,
     "metadata": {},
     "output_type": "execute_result"
    }
   ],
   "source": [
    "#creating function to identify last full month\n",
    "def last_month(dt):\n",
    "    if dt.is_month_end:\n",
    "        return dt.month\n",
    "    else:\n",
    "        return dt.month -1\n",
    "    \n",
    "users_df['last_month'] = users_df['churn_date'].apply(last_month)\n",
    "\n",
    "users_df.sample(10)"
   ]
  },
  {
   "cell_type": "markdown",
   "metadata": {},
   "source": [
    "There may be some users who subscribed to a service for less than a month, we can remove these from the dataframe"
   ]
  },
  {
   "cell_type": "code",
   "execution_count": 14,
   "metadata": {},
   "outputs": [
    {
     "name": "stdout",
     "output_type": "stream",
     "text": [
      "<class 'pandas.core.frame.DataFrame'>\n",
      "Int64Index: 462 entries, 1 to 499\n",
      "Data columns (total 10 columns):\n",
      " #   Column       Non-Null Count  Dtype         \n",
      "---  ------       --------------  -----         \n",
      " 0   user_id      462 non-null    int64         \n",
      " 1   first_name   462 non-null    object        \n",
      " 2   last_name    462 non-null    object        \n",
      " 3   age          462 non-null    int64         \n",
      " 4   city         462 non-null    object        \n",
      " 5   reg_date     462 non-null    datetime64[ns]\n",
      " 6   plan         462 non-null    object        \n",
      " 7   churn_date   462 non-null    datetime64[ns]\n",
      " 8   first_month  462 non-null    int64         \n",
      " 9   last_month   462 non-null    int64         \n",
      "dtypes: datetime64[ns](2), int64(4), object(4)\n",
      "memory usage: 39.7+ KB\n"
     ]
    }
   ],
   "source": [
    "users_df = users_df[users_df['last_month'] - users_df['first_month']>=0]\n",
    "users_df.info()"
   ]
  },
  {
   "cell_type": "markdown",
   "metadata": {},
   "source": [
    "We've removed 38 users from our DataFrame who don't have at least one full month of data from 2018."
   ]
  },
  {
   "cell_type": "markdown",
   "metadata": {},
   "source": [
    "## Calls"
   ]
  },
  {
   "cell_type": "code",
   "execution_count": 15,
   "metadata": {},
   "outputs": [
    {
     "name": "stdout",
     "output_type": "stream",
     "text": [
      "<class 'pandas.core.frame.DataFrame'>\n",
      "RangeIndex: 137735 entries, 0 to 137734\n",
      "Data columns (total 4 columns):\n",
      " #   Column     Non-Null Count   Dtype  \n",
      "---  ------     --------------   -----  \n",
      " 0   id         137735 non-null  object \n",
      " 1   user_id    137735 non-null  int64  \n",
      " 2   call_date  137735 non-null  object \n",
      " 3   duration   137735 non-null  float64\n",
      "dtypes: float64(1), int64(1), object(2)\n",
      "memory usage: 4.2+ MB\n"
     ]
    }
   ],
   "source": [
    "# Printing the general/summary information about the calls' DataFrame\n",
    "calls_df.info()"
   ]
  },
  {
   "cell_type": "code",
   "execution_count": 16,
   "metadata": {
    "scrolled": true
   },
   "outputs": [
    {
     "data": {
      "text/html": [
       "<div>\n",
       "<style scoped>\n",
       "    .dataframe tbody tr th:only-of-type {\n",
       "        vertical-align: middle;\n",
       "    }\n",
       "\n",
       "    .dataframe tbody tr th {\n",
       "        vertical-align: top;\n",
       "    }\n",
       "\n",
       "    .dataframe thead th {\n",
       "        text-align: right;\n",
       "    }\n",
       "</style>\n",
       "<table border=\"1\" class=\"dataframe\">\n",
       "  <thead>\n",
       "    <tr style=\"text-align: right;\">\n",
       "      <th></th>\n",
       "      <th>id</th>\n",
       "      <th>user_id</th>\n",
       "      <th>call_date</th>\n",
       "      <th>duration</th>\n",
       "    </tr>\n",
       "  </thead>\n",
       "  <tbody>\n",
       "    <tr>\n",
       "      <th>11159</th>\n",
       "      <td>1049_326</td>\n",
       "      <td>1049</td>\n",
       "      <td>2018-08-16</td>\n",
       "      <td>0.00</td>\n",
       "    </tr>\n",
       "    <tr>\n",
       "      <th>58743</th>\n",
       "      <td>1212_226</td>\n",
       "      <td>1212</td>\n",
       "      <td>2018-08-28</td>\n",
       "      <td>0.00</td>\n",
       "    </tr>\n",
       "    <tr>\n",
       "      <th>31400</th>\n",
       "      <td>1118_38</td>\n",
       "      <td>1118</td>\n",
       "      <td>2018-12-29</td>\n",
       "      <td>2.89</td>\n",
       "    </tr>\n",
       "    <tr>\n",
       "      <th>104343</th>\n",
       "      <td>1368_13</td>\n",
       "      <td>1368</td>\n",
       "      <td>2018-10-31</td>\n",
       "      <td>11.83</td>\n",
       "    </tr>\n",
       "    <tr>\n",
       "      <th>51026</th>\n",
       "      <td>1185_64</td>\n",
       "      <td>1185</td>\n",
       "      <td>2018-03-26</td>\n",
       "      <td>10.84</td>\n",
       "    </tr>\n",
       "    <tr>\n",
       "      <th>116573</th>\n",
       "      <td>1408_222</td>\n",
       "      <td>1408</td>\n",
       "      <td>2018-04-20</td>\n",
       "      <td>6.90</td>\n",
       "    </tr>\n",
       "    <tr>\n",
       "      <th>113143</th>\n",
       "      <td>1397_940</td>\n",
       "      <td>1397</td>\n",
       "      <td>2018-12-27</td>\n",
       "      <td>9.13</td>\n",
       "    </tr>\n",
       "    <tr>\n",
       "      <th>6471</th>\n",
       "      <td>1031_55</td>\n",
       "      <td>1031</td>\n",
       "      <td>2018-11-25</td>\n",
       "      <td>10.42</td>\n",
       "    </tr>\n",
       "    <tr>\n",
       "      <th>71311</th>\n",
       "      <td>1254_163</td>\n",
       "      <td>1254</td>\n",
       "      <td>2018-10-29</td>\n",
       "      <td>1.26</td>\n",
       "    </tr>\n",
       "    <tr>\n",
       "      <th>51655</th>\n",
       "      <td>1185_693</td>\n",
       "      <td>1185</td>\n",
       "      <td>2018-04-23</td>\n",
       "      <td>0.00</td>\n",
       "    </tr>\n",
       "    <tr>\n",
       "      <th>109953</th>\n",
       "      <td>1388_0</td>\n",
       "      <td>1388</td>\n",
       "      <td>2018-12-30</td>\n",
       "      <td>15.63</td>\n",
       "    </tr>\n",
       "    <tr>\n",
       "      <th>67184</th>\n",
       "      <td>1241_20</td>\n",
       "      <td>1241</td>\n",
       "      <td>2018-09-11</td>\n",
       "      <td>5.59</td>\n",
       "    </tr>\n",
       "    <tr>\n",
       "      <th>114114</th>\n",
       "      <td>1400_463</td>\n",
       "      <td>1400</td>\n",
       "      <td>2018-07-19</td>\n",
       "      <td>3.69</td>\n",
       "    </tr>\n",
       "    <tr>\n",
       "      <th>122764</th>\n",
       "      <td>1434_54</td>\n",
       "      <td>1434</td>\n",
       "      <td>2018-05-22</td>\n",
       "      <td>8.70</td>\n",
       "    </tr>\n",
       "    <tr>\n",
       "      <th>38988</th>\n",
       "      <td>1145_235</td>\n",
       "      <td>1145</td>\n",
       "      <td>2018-10-22</td>\n",
       "      <td>4.36</td>\n",
       "    </tr>\n",
       "    <tr>\n",
       "      <th>134528</th>\n",
       "      <td>1488_785</td>\n",
       "      <td>1488</td>\n",
       "      <td>2018-11-17</td>\n",
       "      <td>7.82</td>\n",
       "    </tr>\n",
       "    <tr>\n",
       "      <th>2191</th>\n",
       "      <td>1009_613</td>\n",
       "      <td>1009</td>\n",
       "      <td>2018-09-15</td>\n",
       "      <td>14.75</td>\n",
       "    </tr>\n",
       "    <tr>\n",
       "      <th>102445</th>\n",
       "      <td>1363_58</td>\n",
       "      <td>1363</td>\n",
       "      <td>2018-12-31</td>\n",
       "      <td>0.00</td>\n",
       "    </tr>\n",
       "    <tr>\n",
       "      <th>31228</th>\n",
       "      <td>1117_202</td>\n",
       "      <td>1117</td>\n",
       "      <td>2018-11-16</td>\n",
       "      <td>6.95</td>\n",
       "    </tr>\n",
       "    <tr>\n",
       "      <th>55438</th>\n",
       "      <td>1198_182</td>\n",
       "      <td>1198</td>\n",
       "      <td>2018-11-20</td>\n",
       "      <td>0.00</td>\n",
       "    </tr>\n",
       "  </tbody>\n",
       "</table>\n",
       "</div>"
      ],
      "text/plain": [
       "              id  user_id   call_date  duration\n",
       "11159   1049_326     1049  2018-08-16      0.00\n",
       "58743   1212_226     1212  2018-08-28      0.00\n",
       "31400    1118_38     1118  2018-12-29      2.89\n",
       "104343   1368_13     1368  2018-10-31     11.83\n",
       "51026    1185_64     1185  2018-03-26     10.84\n",
       "116573  1408_222     1408  2018-04-20      6.90\n",
       "113143  1397_940     1397  2018-12-27      9.13\n",
       "6471     1031_55     1031  2018-11-25     10.42\n",
       "71311   1254_163     1254  2018-10-29      1.26\n",
       "51655   1185_693     1185  2018-04-23      0.00\n",
       "109953    1388_0     1388  2018-12-30     15.63\n",
       "67184    1241_20     1241  2018-09-11      5.59\n",
       "114114  1400_463     1400  2018-07-19      3.69\n",
       "122764   1434_54     1434  2018-05-22      8.70\n",
       "38988   1145_235     1145  2018-10-22      4.36\n",
       "134528  1488_785     1488  2018-11-17      7.82\n",
       "2191    1009_613     1009  2018-09-15     14.75\n",
       "102445   1363_58     1363  2018-12-31      0.00\n",
       "31228   1117_202     1117  2018-11-16      6.95\n",
       "55438   1198_182     1198  2018-11-20      0.00"
      ]
     },
     "execution_count": 16,
     "metadata": {},
     "output_type": "execute_result"
    }
   ],
   "source": [
    "# Print a sample of data for calls\n",
    "calls_df.sample(20)"
   ]
  },
  {
   "cell_type": "code",
   "execution_count": 17,
   "metadata": {},
   "outputs": [
    {
     "data": {
      "text/plain": [
       "0"
      ]
     },
     "execution_count": 17,
     "metadata": {},
     "output_type": "execute_result"
    }
   ],
   "source": [
    "calls_df.duplicated().sum()"
   ]
  },
  {
   "cell_type": "markdown",
   "metadata": {},
   "source": [
    "We can see some unconnected calls with a `duration` of 0.00. As users won't be charged for these we can remove these from the DataFrame. \n",
    "\n",
    "We'll also need to convert `call_date` to a datetime object.\n",
    "\n",
    "In the project description it is explained that the length of a call is always rounded up to the nearest minute. We can create a new column  with the rounded duration."
   ]
  },
  {
   "cell_type": "markdown",
   "metadata": {},
   "source": [
    " "
   ]
  },
  {
   "cell_type": "markdown",
   "metadata": {},
   "source": [
    "### Fix data"
   ]
  },
  {
   "cell_type": "code",
   "execution_count": 18,
   "metadata": {},
   "outputs": [
    {
     "data": {
      "text/html": [
       "<div>\n",
       "<style scoped>\n",
       "    .dataframe tbody tr th:only-of-type {\n",
       "        vertical-align: middle;\n",
       "    }\n",
       "\n",
       "    .dataframe tbody tr th {\n",
       "        vertical-align: top;\n",
       "    }\n",
       "\n",
       "    .dataframe thead th {\n",
       "        text-align: right;\n",
       "    }\n",
       "</style>\n",
       "<table border=\"1\" class=\"dataframe\">\n",
       "  <thead>\n",
       "    <tr style=\"text-align: right;\">\n",
       "      <th></th>\n",
       "      <th>user_id</th>\n",
       "      <th>duration</th>\n",
       "    </tr>\n",
       "  </thead>\n",
       "  <tbody>\n",
       "    <tr>\n",
       "      <th>count</th>\n",
       "      <td>110901.000000</td>\n",
       "      <td>110901.000000</td>\n",
       "    </tr>\n",
       "    <tr>\n",
       "      <th>mean</th>\n",
       "      <td>1247.511871</td>\n",
       "      <td>8.378196</td>\n",
       "    </tr>\n",
       "    <tr>\n",
       "      <th>std</th>\n",
       "      <td>139.475249</td>\n",
       "      <td>5.354567</td>\n",
       "    </tr>\n",
       "    <tr>\n",
       "      <th>min</th>\n",
       "      <td>1000.000000</td>\n",
       "      <td>0.010000</td>\n",
       "    </tr>\n",
       "    <tr>\n",
       "      <th>25%</th>\n",
       "      <td>1127.000000</td>\n",
       "      <td>4.150000</td>\n",
       "    </tr>\n",
       "    <tr>\n",
       "      <th>50%</th>\n",
       "      <td>1247.000000</td>\n",
       "      <td>7.710000</td>\n",
       "    </tr>\n",
       "    <tr>\n",
       "      <th>75%</th>\n",
       "      <td>1365.000000</td>\n",
       "      <td>11.820000</td>\n",
       "    </tr>\n",
       "    <tr>\n",
       "      <th>max</th>\n",
       "      <td>1499.000000</td>\n",
       "      <td>37.600000</td>\n",
       "    </tr>\n",
       "  </tbody>\n",
       "</table>\n",
       "</div>"
      ],
      "text/plain": [
       "             user_id       duration\n",
       "count  110901.000000  110901.000000\n",
       "mean     1247.511871       8.378196\n",
       "std       139.475249       5.354567\n",
       "min      1000.000000       0.010000\n",
       "25%      1127.000000       4.150000\n",
       "50%      1247.000000       7.710000\n",
       "75%      1365.000000      11.820000\n",
       "max      1499.000000      37.600000"
      ]
     },
     "execution_count": 18,
     "metadata": {},
     "output_type": "execute_result"
    }
   ],
   "source": [
    "#converting date to datetime and removing unconnected calls\n",
    "calls_df['call_date'] = pd.to_datetime(calls_df['call_date'], format = '%Y-%m-%d')\n",
    "calls_df = calls_df[calls_df['duration'] != 0.00]\n",
    "\n",
    "calls_df.describe()"
   ]
  },
  {
   "cell_type": "markdown",
   "metadata": {},
   "source": [
    "### Enrich data"
   ]
  },
  {
   "cell_type": "code",
   "execution_count": 19,
   "metadata": {},
   "outputs": [
    {
     "data": {
      "text/html": [
       "<div>\n",
       "<style scoped>\n",
       "    .dataframe tbody tr th:only-of-type {\n",
       "        vertical-align: middle;\n",
       "    }\n",
       "\n",
       "    .dataframe tbody tr th {\n",
       "        vertical-align: top;\n",
       "    }\n",
       "\n",
       "    .dataframe thead th {\n",
       "        text-align: right;\n",
       "    }\n",
       "</style>\n",
       "<table border=\"1\" class=\"dataframe\">\n",
       "  <thead>\n",
       "    <tr style=\"text-align: right;\">\n",
       "      <th></th>\n",
       "      <th>id</th>\n",
       "      <th>user_id</th>\n",
       "      <th>call_date</th>\n",
       "      <th>duration</th>\n",
       "      <th>duration_rounded</th>\n",
       "    </tr>\n",
       "  </thead>\n",
       "  <tbody>\n",
       "    <tr>\n",
       "      <th>0</th>\n",
       "      <td>1000_93</td>\n",
       "      <td>1000</td>\n",
       "      <td>2018-12-27</td>\n",
       "      <td>8.52</td>\n",
       "      <td>9</td>\n",
       "    </tr>\n",
       "    <tr>\n",
       "      <th>1</th>\n",
       "      <td>1000_145</td>\n",
       "      <td>1000</td>\n",
       "      <td>2018-12-27</td>\n",
       "      <td>13.66</td>\n",
       "      <td>14</td>\n",
       "    </tr>\n",
       "    <tr>\n",
       "      <th>2</th>\n",
       "      <td>1000_247</td>\n",
       "      <td>1000</td>\n",
       "      <td>2018-12-27</td>\n",
       "      <td>14.48</td>\n",
       "      <td>15</td>\n",
       "    </tr>\n",
       "    <tr>\n",
       "      <th>3</th>\n",
       "      <td>1000_309</td>\n",
       "      <td>1000</td>\n",
       "      <td>2018-12-28</td>\n",
       "      <td>5.76</td>\n",
       "      <td>6</td>\n",
       "    </tr>\n",
       "    <tr>\n",
       "      <th>4</th>\n",
       "      <td>1000_380</td>\n",
       "      <td>1000</td>\n",
       "      <td>2018-12-30</td>\n",
       "      <td>4.22</td>\n",
       "      <td>5</td>\n",
       "    </tr>\n",
       "  </tbody>\n",
       "</table>\n",
       "</div>"
      ],
      "text/plain": [
       "         id  user_id  call_date  duration  duration_rounded\n",
       "0   1000_93     1000 2018-12-27      8.52                 9\n",
       "1  1000_145     1000 2018-12-27     13.66                14\n",
       "2  1000_247     1000 2018-12-27     14.48                15\n",
       "3  1000_309     1000 2018-12-28      5.76                 6\n",
       "4  1000_380     1000 2018-12-30      4.22                 5"
      ]
     },
     "execution_count": 19,
     "metadata": {},
     "output_type": "execute_result"
    }
   ],
   "source": [
    "#adding rounded duration column\n",
    "calls_df['duration_rounded'] = calls_df['duration'].apply(math.ceil)\n",
    "calls_df.head()"
   ]
  },
  {
   "cell_type": "markdown",
   "metadata": {},
   "source": [
    "## Messages"
   ]
  },
  {
   "cell_type": "code",
   "execution_count": 20,
   "metadata": {},
   "outputs": [
    {
     "name": "stdout",
     "output_type": "stream",
     "text": [
      "<class 'pandas.core.frame.DataFrame'>\n",
      "RangeIndex: 76051 entries, 0 to 76050\n",
      "Data columns (total 3 columns):\n",
      " #   Column        Non-Null Count  Dtype \n",
      "---  ------        --------------  ----- \n",
      " 0   id            76051 non-null  object\n",
      " 1   user_id       76051 non-null  int64 \n",
      " 2   message_date  76051 non-null  object\n",
      "dtypes: int64(1), object(2)\n",
      "memory usage: 1.7+ MB\n"
     ]
    }
   ],
   "source": [
    "# Printing the general/summary information about the messages' DataFrame\n",
    "messages_df.info()"
   ]
  },
  {
   "cell_type": "code",
   "execution_count": 21,
   "metadata": {
    "scrolled": true
   },
   "outputs": [
    {
     "data": {
      "text/html": [
       "<div>\n",
       "<style scoped>\n",
       "    .dataframe tbody tr th:only-of-type {\n",
       "        vertical-align: middle;\n",
       "    }\n",
       "\n",
       "    .dataframe tbody tr th {\n",
       "        vertical-align: top;\n",
       "    }\n",
       "\n",
       "    .dataframe thead th {\n",
       "        text-align: right;\n",
       "    }\n",
       "</style>\n",
       "<table border=\"1\" class=\"dataframe\">\n",
       "  <thead>\n",
       "    <tr style=\"text-align: right;\">\n",
       "      <th></th>\n",
       "      <th>id</th>\n",
       "      <th>user_id</th>\n",
       "      <th>message_date</th>\n",
       "    </tr>\n",
       "  </thead>\n",
       "  <tbody>\n",
       "    <tr>\n",
       "      <th>45284</th>\n",
       "      <td>1304_269</td>\n",
       "      <td>1304</td>\n",
       "      <td>2018-11-13</td>\n",
       "    </tr>\n",
       "    <tr>\n",
       "      <th>21388</th>\n",
       "      <td>1132_704</td>\n",
       "      <td>1132</td>\n",
       "      <td>2018-06-28</td>\n",
       "    </tr>\n",
       "    <tr>\n",
       "      <th>57155</th>\n",
       "      <td>1362_226</td>\n",
       "      <td>1362</td>\n",
       "      <td>2018-04-10</td>\n",
       "    </tr>\n",
       "    <tr>\n",
       "      <th>31829</th>\n",
       "      <td>1196_315</td>\n",
       "      <td>1196</td>\n",
       "      <td>2018-04-10</td>\n",
       "    </tr>\n",
       "    <tr>\n",
       "      <th>24655</th>\n",
       "      <td>1146_198</td>\n",
       "      <td>1146</td>\n",
       "      <td>2018-11-23</td>\n",
       "    </tr>\n",
       "    <tr>\n",
       "      <th>32818</th>\n",
       "      <td>1204_13</td>\n",
       "      <td>1204</td>\n",
       "      <td>2018-12-21</td>\n",
       "    </tr>\n",
       "    <tr>\n",
       "      <th>75583</th>\n",
       "      <td>1491_492</td>\n",
       "      <td>1491</td>\n",
       "      <td>2018-09-28</td>\n",
       "    </tr>\n",
       "    <tr>\n",
       "      <th>19361</th>\n",
       "      <td>1125_29</td>\n",
       "      <td>1125</td>\n",
       "      <td>2018-12-26</td>\n",
       "    </tr>\n",
       "    <tr>\n",
       "      <th>69165</th>\n",
       "      <td>1448_401</td>\n",
       "      <td>1448</td>\n",
       "      <td>2018-12-18</td>\n",
       "    </tr>\n",
       "    <tr>\n",
       "      <th>10817</th>\n",
       "      <td>1077_88</td>\n",
       "      <td>1077</td>\n",
       "      <td>2018-03-25</td>\n",
       "    </tr>\n",
       "    <tr>\n",
       "      <th>56290</th>\n",
       "      <td>1355_442</td>\n",
       "      <td>1355</td>\n",
       "      <td>2018-11-26</td>\n",
       "    </tr>\n",
       "    <tr>\n",
       "      <th>55774</th>\n",
       "      <td>1352_81</td>\n",
       "      <td>1352</td>\n",
       "      <td>2018-11-29</td>\n",
       "    </tr>\n",
       "    <tr>\n",
       "      <th>52838</th>\n",
       "      <td>1337_82</td>\n",
       "      <td>1337</td>\n",
       "      <td>2018-12-28</td>\n",
       "    </tr>\n",
       "    <tr>\n",
       "      <th>14803</th>\n",
       "      <td>1100_125</td>\n",
       "      <td>1100</td>\n",
       "      <td>2018-09-02</td>\n",
       "    </tr>\n",
       "    <tr>\n",
       "      <th>20685</th>\n",
       "      <td>1131_24</td>\n",
       "      <td>1131</td>\n",
       "      <td>2018-09-08</td>\n",
       "    </tr>\n",
       "    <tr>\n",
       "      <th>33200</th>\n",
       "      <td>1209_1</td>\n",
       "      <td>1209</td>\n",
       "      <td>2018-09-11</td>\n",
       "    </tr>\n",
       "    <tr>\n",
       "      <th>31851</th>\n",
       "      <td>1196_337</td>\n",
       "      <td>1196</td>\n",
       "      <td>2018-06-18</td>\n",
       "    </tr>\n",
       "    <tr>\n",
       "      <th>42881</th>\n",
       "      <td>1281_95</td>\n",
       "      <td>1281</td>\n",
       "      <td>2018-11-02</td>\n",
       "    </tr>\n",
       "    <tr>\n",
       "      <th>14306</th>\n",
       "      <td>1098_331</td>\n",
       "      <td>1098</td>\n",
       "      <td>2018-11-26</td>\n",
       "    </tr>\n",
       "    <tr>\n",
       "      <th>23173</th>\n",
       "      <td>1139_567</td>\n",
       "      <td>1139</td>\n",
       "      <td>2018-12-08</td>\n",
       "    </tr>\n",
       "  </tbody>\n",
       "</table>\n",
       "</div>"
      ],
      "text/plain": [
       "             id  user_id message_date\n",
       "45284  1304_269     1304   2018-11-13\n",
       "21388  1132_704     1132   2018-06-28\n",
       "57155  1362_226     1362   2018-04-10\n",
       "31829  1196_315     1196   2018-04-10\n",
       "24655  1146_198     1146   2018-11-23\n",
       "32818   1204_13     1204   2018-12-21\n",
       "75583  1491_492     1491   2018-09-28\n",
       "19361   1125_29     1125   2018-12-26\n",
       "69165  1448_401     1448   2018-12-18\n",
       "10817   1077_88     1077   2018-03-25\n",
       "56290  1355_442     1355   2018-11-26\n",
       "55774   1352_81     1352   2018-11-29\n",
       "52838   1337_82     1337   2018-12-28\n",
       "14803  1100_125     1100   2018-09-02\n",
       "20685   1131_24     1131   2018-09-08\n",
       "33200    1209_1     1209   2018-09-11\n",
       "31851  1196_337     1196   2018-06-18\n",
       "42881   1281_95     1281   2018-11-02\n",
       "14306  1098_331     1098   2018-11-26\n",
       "23173  1139_567     1139   2018-12-08"
      ]
     },
     "execution_count": 21,
     "metadata": {},
     "output_type": "execute_result"
    }
   ],
   "source": [
    "# Print a sample of data for messages\n",
    "\n",
    "messages_df.sample(20)"
   ]
  },
  {
   "cell_type": "code",
   "execution_count": 22,
   "metadata": {},
   "outputs": [
    {
     "data": {
      "text/plain": [
       "0"
      ]
     },
     "execution_count": 22,
     "metadata": {},
     "output_type": "execute_result"
    }
   ],
   "source": [
    "messages_df.duplicated().sum()"
   ]
  },
  {
   "cell_type": "markdown",
   "metadata": {},
   "source": [
    "Again, we convert message date to a datetime object."
   ]
  },
  {
   "cell_type": "markdown",
   "metadata": {},
   "source": [
    " "
   ]
  },
  {
   "cell_type": "markdown",
   "metadata": {},
   "source": [
    "### Fix data"
   ]
  },
  {
   "cell_type": "markdown",
   "metadata": {},
   "source": [
    "We can convert message_date to a datetime object."
   ]
  },
  {
   "cell_type": "code",
   "execution_count": 23,
   "metadata": {},
   "outputs": [
    {
     "name": "stdout",
     "output_type": "stream",
     "text": [
      "<class 'pandas.core.frame.DataFrame'>\n",
      "RangeIndex: 76051 entries, 0 to 76050\n",
      "Data columns (total 3 columns):\n",
      " #   Column        Non-Null Count  Dtype         \n",
      "---  ------        --------------  -----         \n",
      " 0   id            76051 non-null  object        \n",
      " 1   user_id       76051 non-null  int64         \n",
      " 2   message_date  76051 non-null  datetime64[ns]\n",
      "dtypes: datetime64[ns](1), int64(1), object(1)\n",
      "memory usage: 1.7+ MB\n"
     ]
    }
   ],
   "source": [
    "#converting message date to datetime\n",
    "messages_df['message_date'] = pd.to_datetime(messages_df['message_date'], format = '%Y-%m-%d')\n",
    "messages_df.info()"
   ]
  },
  {
   "cell_type": "markdown",
   "metadata": {},
   "source": [
    "## Internet"
   ]
  },
  {
   "cell_type": "code",
   "execution_count": 24,
   "metadata": {},
   "outputs": [
    {
     "name": "stdout",
     "output_type": "stream",
     "text": [
      "<class 'pandas.core.frame.DataFrame'>\n",
      "RangeIndex: 104825 entries, 0 to 104824\n",
      "Data columns (total 4 columns):\n",
      " #   Column        Non-Null Count   Dtype  \n",
      "---  ------        --------------   -----  \n",
      " 0   id            104825 non-null  object \n",
      " 1   user_id       104825 non-null  int64  \n",
      " 2   session_date  104825 non-null  object \n",
      " 3   mb_used       104825 non-null  float64\n",
      "dtypes: float64(1), int64(1), object(2)\n",
      "memory usage: 3.2+ MB\n"
     ]
    }
   ],
   "source": [
    "# Printing the general/summary information about the internet DataFrame\n",
    "internet_df.info()"
   ]
  },
  {
   "cell_type": "code",
   "execution_count": 25,
   "metadata": {
    "scrolled": true
   },
   "outputs": [
    {
     "data": {
      "text/html": [
       "<div>\n",
       "<style scoped>\n",
       "    .dataframe tbody tr th:only-of-type {\n",
       "        vertical-align: middle;\n",
       "    }\n",
       "\n",
       "    .dataframe tbody tr th {\n",
       "        vertical-align: top;\n",
       "    }\n",
       "\n",
       "    .dataframe thead th {\n",
       "        text-align: right;\n",
       "    }\n",
       "</style>\n",
       "<table border=\"1\" class=\"dataframe\">\n",
       "  <thead>\n",
       "    <tr style=\"text-align: right;\">\n",
       "      <th></th>\n",
       "      <th>id</th>\n",
       "      <th>user_id</th>\n",
       "      <th>session_date</th>\n",
       "      <th>mb_used</th>\n",
       "    </tr>\n",
       "  </thead>\n",
       "  <tbody>\n",
       "    <tr>\n",
       "      <th>6018</th>\n",
       "      <td>1033_79</td>\n",
       "      <td>1033</td>\n",
       "      <td>2018-10-21</td>\n",
       "      <td>0.00</td>\n",
       "    </tr>\n",
       "    <tr>\n",
       "      <th>14556</th>\n",
       "      <td>1066_450</td>\n",
       "      <td>1066</td>\n",
       "      <td>2018-09-16</td>\n",
       "      <td>337.10</td>\n",
       "    </tr>\n",
       "    <tr>\n",
       "      <th>64605</th>\n",
       "      <td>1296_142</td>\n",
       "      <td>1296</td>\n",
       "      <td>2018-12-13</td>\n",
       "      <td>324.76</td>\n",
       "    </tr>\n",
       "    <tr>\n",
       "      <th>38609</th>\n",
       "      <td>1173_47</td>\n",
       "      <td>1173</td>\n",
       "      <td>2018-10-17</td>\n",
       "      <td>105.93</td>\n",
       "    </tr>\n",
       "    <tr>\n",
       "      <th>52701</th>\n",
       "      <td>1237_81</td>\n",
       "      <td>1237</td>\n",
       "      <td>2018-09-04</td>\n",
       "      <td>0.00</td>\n",
       "    </tr>\n",
       "    <tr>\n",
       "      <th>62810</th>\n",
       "      <td>1289_188</td>\n",
       "      <td>1289</td>\n",
       "      <td>2018-12-23</td>\n",
       "      <td>160.60</td>\n",
       "    </tr>\n",
       "    <tr>\n",
       "      <th>14067</th>\n",
       "      <td>1065_163</td>\n",
       "      <td>1065</td>\n",
       "      <td>2018-11-07</td>\n",
       "      <td>464.03</td>\n",
       "    </tr>\n",
       "    <tr>\n",
       "      <th>20716</th>\n",
       "      <td>1095_417</td>\n",
       "      <td>1095</td>\n",
       "      <td>2018-05-21</td>\n",
       "      <td>482.87</td>\n",
       "    </tr>\n",
       "    <tr>\n",
       "      <th>44371</th>\n",
       "      <td>1196_380</td>\n",
       "      <td>1196</td>\n",
       "      <td>2018-04-05</td>\n",
       "      <td>874.98</td>\n",
       "    </tr>\n",
       "    <tr>\n",
       "      <th>35364</th>\n",
       "      <td>1160_68</td>\n",
       "      <td>1160</td>\n",
       "      <td>2018-07-09</td>\n",
       "      <td>135.10</td>\n",
       "    </tr>\n",
       "    <tr>\n",
       "      <th>101031</th>\n",
       "      <td>1478_182</td>\n",
       "      <td>1478</td>\n",
       "      <td>2018-11-20</td>\n",
       "      <td>343.16</td>\n",
       "    </tr>\n",
       "    <tr>\n",
       "      <th>57637</th>\n",
       "      <td>1261_80</td>\n",
       "      <td>1261</td>\n",
       "      <td>2018-10-16</td>\n",
       "      <td>0.00</td>\n",
       "    </tr>\n",
       "    <tr>\n",
       "      <th>14103</th>\n",
       "      <td>1065_199</td>\n",
       "      <td>1065</td>\n",
       "      <td>2018-11-16</td>\n",
       "      <td>517.51</td>\n",
       "    </tr>\n",
       "    <tr>\n",
       "      <th>25907</th>\n",
       "      <td>1121_0</td>\n",
       "      <td>1121</td>\n",
       "      <td>2018-12-05</td>\n",
       "      <td>122.73</td>\n",
       "    </tr>\n",
       "    <tr>\n",
       "      <th>92651</th>\n",
       "      <td>1433_35</td>\n",
       "      <td>1433</td>\n",
       "      <td>2018-11-03</td>\n",
       "      <td>97.65</td>\n",
       "    </tr>\n",
       "    <tr>\n",
       "      <th>65113</th>\n",
       "      <td>1299_401</td>\n",
       "      <td>1299</td>\n",
       "      <td>2018-06-30</td>\n",
       "      <td>454.94</td>\n",
       "    </tr>\n",
       "    <tr>\n",
       "      <th>13396</th>\n",
       "      <td>1062_366</td>\n",
       "      <td>1062</td>\n",
       "      <td>2018-04-27</td>\n",
       "      <td>314.07</td>\n",
       "    </tr>\n",
       "    <tr>\n",
       "      <th>92461</th>\n",
       "      <td>1431_148</td>\n",
       "      <td>1431</td>\n",
       "      <td>2018-11-22</td>\n",
       "      <td>7.87</td>\n",
       "    </tr>\n",
       "    <tr>\n",
       "      <th>74537</th>\n",
       "      <td>1351_23</td>\n",
       "      <td>1351</td>\n",
       "      <td>2018-12-14</td>\n",
       "      <td>406.63</td>\n",
       "    </tr>\n",
       "    <tr>\n",
       "      <th>96847</th>\n",
       "      <td>1456_118</td>\n",
       "      <td>1456</td>\n",
       "      <td>2018-07-28</td>\n",
       "      <td>1004.85</td>\n",
       "    </tr>\n",
       "  </tbody>\n",
       "</table>\n",
       "</div>"
      ],
      "text/plain": [
       "              id  user_id session_date  mb_used\n",
       "6018     1033_79     1033   2018-10-21     0.00\n",
       "14556   1066_450     1066   2018-09-16   337.10\n",
       "64605   1296_142     1296   2018-12-13   324.76\n",
       "38609    1173_47     1173   2018-10-17   105.93\n",
       "52701    1237_81     1237   2018-09-04     0.00\n",
       "62810   1289_188     1289   2018-12-23   160.60\n",
       "14067   1065_163     1065   2018-11-07   464.03\n",
       "20716   1095_417     1095   2018-05-21   482.87\n",
       "44371   1196_380     1196   2018-04-05   874.98\n",
       "35364    1160_68     1160   2018-07-09   135.10\n",
       "101031  1478_182     1478   2018-11-20   343.16\n",
       "57637    1261_80     1261   2018-10-16     0.00\n",
       "14103   1065_199     1065   2018-11-16   517.51\n",
       "25907     1121_0     1121   2018-12-05   122.73\n",
       "92651    1433_35     1433   2018-11-03    97.65\n",
       "65113   1299_401     1299   2018-06-30   454.94\n",
       "13396   1062_366     1062   2018-04-27   314.07\n",
       "92461   1431_148     1431   2018-11-22     7.87\n",
       "74537    1351_23     1351   2018-12-14   406.63\n",
       "96847   1456_118     1456   2018-07-28  1004.85"
      ]
     },
     "execution_count": 25,
     "metadata": {},
     "output_type": "execute_result"
    }
   ],
   "source": [
    "# Printing a sample of data for the internet traffic\n",
    "internet_df.sample(20)"
   ]
  },
  {
   "cell_type": "code",
   "execution_count": 26,
   "metadata": {},
   "outputs": [
    {
     "data": {
      "text/plain": [
       "0"
      ]
     },
     "execution_count": 26,
     "metadata": {},
     "output_type": "execute_result"
    }
   ],
   "source": [
    "#checking for duplicates\n",
    "internet_df.duplicated().sum()"
   ]
  },
  {
   "cell_type": "markdown",
   "metadata": {},
   "source": [
    "Once again we need to convert a date to a datetime object.\n",
    "\n",
    "There are some enties with 0.00Mb used with can be dropped."
   ]
  },
  {
   "cell_type": "markdown",
   "metadata": {},
   "source": [
    " "
   ]
  },
  {
   "cell_type": "markdown",
   "metadata": {},
   "source": [
    "### Fix data"
   ]
  },
  {
   "cell_type": "code",
   "execution_count": 27,
   "metadata": {},
   "outputs": [
    {
     "name": "stdout",
     "output_type": "stream",
     "text": [
      "<class 'pandas.core.frame.DataFrame'>\n",
      "Int64Index: 91078 entries, 0 to 104824\n",
      "Data columns (total 4 columns):\n",
      " #   Column        Non-Null Count  Dtype         \n",
      "---  ------        --------------  -----         \n",
      " 0   id            91078 non-null  object        \n",
      " 1   user_id       91078 non-null  int64         \n",
      " 2   session_date  91078 non-null  datetime64[ns]\n",
      " 3   mb_used       91078 non-null  float64       \n",
      "dtypes: datetime64[ns](1), float64(1), int64(1), object(1)\n",
      "memory usage: 3.5+ MB\n"
     ]
    }
   ],
   "source": [
    "#converting to datetime object and removing sessions with no data used.\n",
    "internet_df['session_date'] = pd.to_datetime(internet_df['session_date'], format = '%Y-%m-%d')\n",
    "internet_df = internet_df[internet_df['mb_used'] != 0.00]\n",
    "internet_df.info()"
   ]
  },
  {
   "cell_type": "markdown",
   "metadata": {},
   "source": [
    "## Study plan conditions"
   ]
  },
  {
   "cell_type": "markdown",
   "metadata": {},
   "source": [
    "Before we aggregate data, it's important to recheck the plan conditions."
   ]
  },
  {
   "cell_type": "code",
   "execution_count": 28,
   "metadata": {},
   "outputs": [
    {
     "data": {
      "text/html": [
       "<div>\n",
       "<style scoped>\n",
       "    .dataframe tbody tr th:only-of-type {\n",
       "        vertical-align: middle;\n",
       "    }\n",
       "\n",
       "    .dataframe tbody tr th {\n",
       "        vertical-align: top;\n",
       "    }\n",
       "\n",
       "    .dataframe thead th {\n",
       "        text-align: right;\n",
       "    }\n",
       "</style>\n",
       "<table border=\"1\" class=\"dataframe\">\n",
       "  <thead>\n",
       "    <tr style=\"text-align: right;\">\n",
       "      <th></th>\n",
       "      <th>messages_included</th>\n",
       "      <th>mb_per_month_included</th>\n",
       "      <th>minutes_included</th>\n",
       "      <th>usd_monthly_pay</th>\n",
       "      <th>usd_per_gb</th>\n",
       "      <th>usd_per_message</th>\n",
       "      <th>usd_per_minute</th>\n",
       "      <th>plan_name</th>\n",
       "    </tr>\n",
       "  </thead>\n",
       "  <tbody>\n",
       "    <tr>\n",
       "      <th>0</th>\n",
       "      <td>50</td>\n",
       "      <td>15360</td>\n",
       "      <td>500</td>\n",
       "      <td>20</td>\n",
       "      <td>10</td>\n",
       "      <td>0.03</td>\n",
       "      <td>0.03</td>\n",
       "      <td>surf</td>\n",
       "    </tr>\n",
       "    <tr>\n",
       "      <th>1</th>\n",
       "      <td>1000</td>\n",
       "      <td>30720</td>\n",
       "      <td>3000</td>\n",
       "      <td>70</td>\n",
       "      <td>7</td>\n",
       "      <td>0.01</td>\n",
       "      <td>0.01</td>\n",
       "      <td>ultimate</td>\n",
       "    </tr>\n",
       "  </tbody>\n",
       "</table>\n",
       "</div>"
      ],
      "text/plain": [
       "   messages_included  mb_per_month_included  minutes_included  \\\n",
       "0                 50                  15360               500   \n",
       "1               1000                  30720              3000   \n",
       "\n",
       "   usd_monthly_pay  usd_per_gb  usd_per_message  usd_per_minute plan_name  \n",
       "0               20          10             0.03            0.03      surf  \n",
       "1               70           7             0.01            0.01  ultimate  "
      ]
     },
     "execution_count": 28,
     "metadata": {},
     "output_type": "execute_result"
    }
   ],
   "source": [
    "# Printing out the plan conditions\n",
    "plans_df"
   ]
  },
  {
   "cell_type": "markdown",
   "metadata": {},
   "source": [
    "## Aggregate data per user\n",
    "\n",
    "Now that data is cleaned we can aggregate it.\n",
    "\n"
   ]
  },
  {
   "cell_type": "markdown",
   "metadata": {},
   "source": [
    "### Calls"
   ]
  },
  {
   "cell_type": "markdown",
   "metadata": {},
   "source": [
    "We will denote each month by its numeric descriptor, i.e 'February' = 2.\n",
    "\n",
    "We'll take calls from `calls_df` for each month, group them by user_id and check the count.\n",
    "\n",
    "There will potentially be some records from before the users first full month and after their last full month, we will deal with these later."
   ]
  },
  {
   "cell_type": "code",
   "execution_count": 29,
   "metadata": {},
   "outputs": [
    {
     "data": {
      "text/html": [
       "<div>\n",
       "<style scoped>\n",
       "    .dataframe tbody tr th:only-of-type {\n",
       "        vertical-align: middle;\n",
       "    }\n",
       "\n",
       "    .dataframe tbody tr th {\n",
       "        vertical-align: top;\n",
       "    }\n",
       "\n",
       "    .dataframe thead th {\n",
       "        text-align: right;\n",
       "    }\n",
       "</style>\n",
       "<table border=\"1\" class=\"dataframe\">\n",
       "  <thead>\n",
       "    <tr style=\"text-align: right;\">\n",
       "      <th></th>\n",
       "      <th>1</th>\n",
       "      <th>2</th>\n",
       "      <th>3</th>\n",
       "      <th>4</th>\n",
       "      <th>5</th>\n",
       "      <th>6</th>\n",
       "      <th>7</th>\n",
       "      <th>8</th>\n",
       "      <th>9</th>\n",
       "      <th>10</th>\n",
       "      <th>11</th>\n",
       "      <th>12</th>\n",
       "    </tr>\n",
       "    <tr>\n",
       "      <th>user_id</th>\n",
       "      <th></th>\n",
       "      <th></th>\n",
       "      <th></th>\n",
       "      <th></th>\n",
       "      <th></th>\n",
       "      <th></th>\n",
       "      <th></th>\n",
       "      <th></th>\n",
       "      <th></th>\n",
       "      <th></th>\n",
       "      <th></th>\n",
       "      <th></th>\n",
       "    </tr>\n",
       "  </thead>\n",
       "  <tbody>\n",
       "    <tr>\n",
       "      <th>1493</th>\n",
       "      <td>0</td>\n",
       "      <td>0</td>\n",
       "      <td>0</td>\n",
       "      <td>0</td>\n",
       "      <td>0</td>\n",
       "      <td>0</td>\n",
       "      <td>0</td>\n",
       "      <td>42</td>\n",
       "      <td>51</td>\n",
       "      <td>52</td>\n",
       "      <td>59</td>\n",
       "      <td>59</td>\n",
       "    </tr>\n",
       "    <tr>\n",
       "      <th>1479</th>\n",
       "      <td>0</td>\n",
       "      <td>0</td>\n",
       "      <td>0</td>\n",
       "      <td>0</td>\n",
       "      <td>0</td>\n",
       "      <td>0</td>\n",
       "      <td>0</td>\n",
       "      <td>0</td>\n",
       "      <td>0</td>\n",
       "      <td>0</td>\n",
       "      <td>66</td>\n",
       "      <td>116</td>\n",
       "    </tr>\n",
       "    <tr>\n",
       "      <th>1205</th>\n",
       "      <td>0</td>\n",
       "      <td>0</td>\n",
       "      <td>0</td>\n",
       "      <td>0</td>\n",
       "      <td>0</td>\n",
       "      <td>0</td>\n",
       "      <td>0</td>\n",
       "      <td>0</td>\n",
       "      <td>0</td>\n",
       "      <td>0</td>\n",
       "      <td>28</td>\n",
       "      <td>48</td>\n",
       "    </tr>\n",
       "    <tr>\n",
       "      <th>1442</th>\n",
       "      <td>0</td>\n",
       "      <td>0</td>\n",
       "      <td>0</td>\n",
       "      <td>0</td>\n",
       "      <td>0</td>\n",
       "      <td>0</td>\n",
       "      <td>0</td>\n",
       "      <td>0</td>\n",
       "      <td>0</td>\n",
       "      <td>0</td>\n",
       "      <td>0</td>\n",
       "      <td>26</td>\n",
       "    </tr>\n",
       "    <tr>\n",
       "      <th>1320</th>\n",
       "      <td>0</td>\n",
       "      <td>0</td>\n",
       "      <td>0</td>\n",
       "      <td>53</td>\n",
       "      <td>99</td>\n",
       "      <td>105</td>\n",
       "      <td>100</td>\n",
       "      <td>97</td>\n",
       "      <td>96</td>\n",
       "      <td>91</td>\n",
       "      <td>113</td>\n",
       "      <td>113</td>\n",
       "    </tr>\n",
       "    <tr>\n",
       "      <th>1427</th>\n",
       "      <td>0</td>\n",
       "      <td>0</td>\n",
       "      <td>0</td>\n",
       "      <td>0</td>\n",
       "      <td>31</td>\n",
       "      <td>31</td>\n",
       "      <td>35</td>\n",
       "      <td>36</td>\n",
       "      <td>35</td>\n",
       "      <td>30</td>\n",
       "      <td>39</td>\n",
       "      <td>46</td>\n",
       "    </tr>\n",
       "    <tr>\n",
       "      <th>1119</th>\n",
       "      <td>0</td>\n",
       "      <td>0</td>\n",
       "      <td>0</td>\n",
       "      <td>0</td>\n",
       "      <td>0</td>\n",
       "      <td>0</td>\n",
       "      <td>0</td>\n",
       "      <td>0</td>\n",
       "      <td>0</td>\n",
       "      <td>41</td>\n",
       "      <td>52</td>\n",
       "      <td>57</td>\n",
       "    </tr>\n",
       "    <tr>\n",
       "      <th>1477</th>\n",
       "      <td>0</td>\n",
       "      <td>0</td>\n",
       "      <td>0</td>\n",
       "      <td>0</td>\n",
       "      <td>0</td>\n",
       "      <td>0</td>\n",
       "      <td>0</td>\n",
       "      <td>0</td>\n",
       "      <td>0</td>\n",
       "      <td>9</td>\n",
       "      <td>38</td>\n",
       "      <td>40</td>\n",
       "    </tr>\n",
       "    <tr>\n",
       "      <th>1309</th>\n",
       "      <td>0</td>\n",
       "      <td>0</td>\n",
       "      <td>0</td>\n",
       "      <td>0</td>\n",
       "      <td>0</td>\n",
       "      <td>0</td>\n",
       "      <td>0</td>\n",
       "      <td>0</td>\n",
       "      <td>0</td>\n",
       "      <td>0</td>\n",
       "      <td>3</td>\n",
       "      <td>69</td>\n",
       "    </tr>\n",
       "    <tr>\n",
       "      <th>1270</th>\n",
       "      <td>0</td>\n",
       "      <td>0</td>\n",
       "      <td>0</td>\n",
       "      <td>0</td>\n",
       "      <td>0</td>\n",
       "      <td>0</td>\n",
       "      <td>0</td>\n",
       "      <td>0</td>\n",
       "      <td>23</td>\n",
       "      <td>53</td>\n",
       "      <td>34</td>\n",
       "      <td>39</td>\n",
       "    </tr>\n",
       "  </tbody>\n",
       "</table>\n",
       "</div>"
      ],
      "text/plain": [
       "         1   2   3   4   5    6    7   8   9   10   11   12\n",
       "user_id                                                    \n",
       "1493      0   0   0   0   0    0    0  42  51  52   59   59\n",
       "1479      0   0   0   0   0    0    0   0   0   0   66  116\n",
       "1205      0   0   0   0   0    0    0   0   0   0   28   48\n",
       "1442      0   0   0   0   0    0    0   0   0   0    0   26\n",
       "1320      0   0   0  53  99  105  100  97  96  91  113  113\n",
       "1427      0   0   0   0  31   31   35  36  35  30   39   46\n",
       "1119      0   0   0   0   0    0    0   0   0  41   52   57\n",
       "1477      0   0   0   0   0    0    0   0   0   9   38   40\n",
       "1309      0   0   0   0   0    0    0   0   0   0    3   69\n",
       "1270      0   0   0   0   0    0    0   0  23  53   34   39"
      ]
     },
     "execution_count": 29,
     "metadata": {},
     "output_type": "execute_result"
    }
   ],
   "source": [
    "# Calculating the number of calls made by each user per month\n",
    "calls_per_user = pd.DataFrame(users_df['user_id'])\n",
    "calls_per_user.set_index('user_id', inplace = True)\n",
    "\n",
    "for month in list(range(1,13)):\n",
    "    calls_per_user[month] = calls_df[pd.DatetimeIndex(calls_df[\"call_date\"]).month == month].groupby('user_id')['id'].count()\n",
    "\n",
    "calls_per_user.fillna(0, inplace = True)\n",
    "\n",
    "calls_per_user = calls_per_user.astype('int')\n",
    "\n",
    "calls_per_user.sample(10)"
   ]
  },
  {
   "cell_type": "markdown",
   "metadata": {},
   "source": [
    "### Minutes\n",
    "We can do something similar for minutes used by users each month, this time using the sum of `duration_rounded` per month."
   ]
  },
  {
   "cell_type": "code",
   "execution_count": 30,
   "metadata": {},
   "outputs": [
    {
     "data": {
      "text/html": [
       "<div>\n",
       "<style scoped>\n",
       "    .dataframe tbody tr th:only-of-type {\n",
       "        vertical-align: middle;\n",
       "    }\n",
       "\n",
       "    .dataframe tbody tr th {\n",
       "        vertical-align: top;\n",
       "    }\n",
       "\n",
       "    .dataframe thead th {\n",
       "        text-align: right;\n",
       "    }\n",
       "</style>\n",
       "<table border=\"1\" class=\"dataframe\">\n",
       "  <thead>\n",
       "    <tr style=\"text-align: right;\">\n",
       "      <th></th>\n",
       "      <th>1</th>\n",
       "      <th>2</th>\n",
       "      <th>3</th>\n",
       "      <th>4</th>\n",
       "      <th>5</th>\n",
       "      <th>6</th>\n",
       "      <th>7</th>\n",
       "      <th>8</th>\n",
       "      <th>9</th>\n",
       "      <th>10</th>\n",
       "      <th>11</th>\n",
       "      <th>12</th>\n",
       "    </tr>\n",
       "  </thead>\n",
       "  <tbody>\n",
       "    <tr>\n",
       "      <th>count</th>\n",
       "      <td>462.000000</td>\n",
       "      <td>462.000000</td>\n",
       "      <td>462.000000</td>\n",
       "      <td>462.000000</td>\n",
       "      <td>462.000000</td>\n",
       "      <td>462.000000</td>\n",
       "      <td>462.000000</td>\n",
       "      <td>462.000000</td>\n",
       "      <td>462.000000</td>\n",
       "      <td>462.000000</td>\n",
       "      <td>462.000000</td>\n",
       "      <td>462.000000</td>\n",
       "    </tr>\n",
       "    <tr>\n",
       "      <th>mean</th>\n",
       "      <td>2.554113</td>\n",
       "      <td>11.893939</td>\n",
       "      <td>24.331169</td>\n",
       "      <td>53.357143</td>\n",
       "      <td>92.097403</td>\n",
       "      <td>128.292208</td>\n",
       "      <td>172.391775</td>\n",
       "      <td>208.571429</td>\n",
       "      <td>255.380952</td>\n",
       "      <td>323.077922</td>\n",
       "      <td>380.822511</td>\n",
       "      <td>455.032468</td>\n",
       "    </tr>\n",
       "    <tr>\n",
       "      <th>std</th>\n",
       "      <td>25.285019</td>\n",
       "      <td>77.169866</td>\n",
       "      <td>102.163689</td>\n",
       "      <td>150.464848</td>\n",
       "      <td>202.642845</td>\n",
       "      <td>224.524156</td>\n",
       "      <td>267.796796</td>\n",
       "      <td>264.550202</td>\n",
       "      <td>269.416140</td>\n",
       "      <td>275.470409</td>\n",
       "      <td>258.978602</td>\n",
       "      <td>264.717639</td>\n",
       "    </tr>\n",
       "    <tr>\n",
       "      <th>min</th>\n",
       "      <td>0.000000</td>\n",
       "      <td>0.000000</td>\n",
       "      <td>0.000000</td>\n",
       "      <td>0.000000</td>\n",
       "      <td>0.000000</td>\n",
       "      <td>0.000000</td>\n",
       "      <td>0.000000</td>\n",
       "      <td>0.000000</td>\n",
       "      <td>0.000000</td>\n",
       "      <td>0.000000</td>\n",
       "      <td>0.000000</td>\n",
       "      <td>0.000000</td>\n",
       "    </tr>\n",
       "    <tr>\n",
       "      <th>25%</th>\n",
       "      <td>0.000000</td>\n",
       "      <td>0.000000</td>\n",
       "      <td>0.000000</td>\n",
       "      <td>0.000000</td>\n",
       "      <td>0.000000</td>\n",
       "      <td>0.000000</td>\n",
       "      <td>0.000000</td>\n",
       "      <td>0.000000</td>\n",
       "      <td>0.000000</td>\n",
       "      <td>0.000000</td>\n",
       "      <td>182.500000</td>\n",
       "      <td>286.750000</td>\n",
       "    </tr>\n",
       "    <tr>\n",
       "      <th>50%</th>\n",
       "      <td>0.000000</td>\n",
       "      <td>0.000000</td>\n",
       "      <td>0.000000</td>\n",
       "      <td>0.000000</td>\n",
       "      <td>0.000000</td>\n",
       "      <td>0.000000</td>\n",
       "      <td>0.000000</td>\n",
       "      <td>0.000000</td>\n",
       "      <td>196.500000</td>\n",
       "      <td>317.000000</td>\n",
       "      <td>392.500000</td>\n",
       "      <td>442.500000</td>\n",
       "    </tr>\n",
       "    <tr>\n",
       "      <th>75%</th>\n",
       "      <td>0.000000</td>\n",
       "      <td>0.000000</td>\n",
       "      <td>0.000000</td>\n",
       "      <td>0.000000</td>\n",
       "      <td>0.000000</td>\n",
       "      <td>223.250000</td>\n",
       "      <td>349.250000</td>\n",
       "      <td>396.500000</td>\n",
       "      <td>461.500000</td>\n",
       "      <td>515.750000</td>\n",
       "      <td>562.000000</td>\n",
       "      <td>609.750000</td>\n",
       "    </tr>\n",
       "    <tr>\n",
       "      <th>max</th>\n",
       "      <td>292.000000</td>\n",
       "      <td>811.000000</td>\n",
       "      <td>788.000000</td>\n",
       "      <td>1043.000000</td>\n",
       "      <td>1055.000000</td>\n",
       "      <td>1033.000000</td>\n",
       "      <td>1188.000000</td>\n",
       "      <td>1292.000000</td>\n",
       "      <td>1232.000000</td>\n",
       "      <td>1227.000000</td>\n",
       "      <td>1304.000000</td>\n",
       "      <td>1510.000000</td>\n",
       "    </tr>\n",
       "  </tbody>\n",
       "</table>\n",
       "</div>"
      ],
      "text/plain": [
       "               1           2           3            4            5   \\\n",
       "count  462.000000  462.000000  462.000000   462.000000   462.000000   \n",
       "mean     2.554113   11.893939   24.331169    53.357143    92.097403   \n",
       "std     25.285019   77.169866  102.163689   150.464848   202.642845   \n",
       "min      0.000000    0.000000    0.000000     0.000000     0.000000   \n",
       "25%      0.000000    0.000000    0.000000     0.000000     0.000000   \n",
       "50%      0.000000    0.000000    0.000000     0.000000     0.000000   \n",
       "75%      0.000000    0.000000    0.000000     0.000000     0.000000   \n",
       "max    292.000000  811.000000  788.000000  1043.000000  1055.000000   \n",
       "\n",
       "                6            7            8            9            10  \\\n",
       "count   462.000000   462.000000   462.000000   462.000000   462.000000   \n",
       "mean    128.292208   172.391775   208.571429   255.380952   323.077922   \n",
       "std     224.524156   267.796796   264.550202   269.416140   275.470409   \n",
       "min       0.000000     0.000000     0.000000     0.000000     0.000000   \n",
       "25%       0.000000     0.000000     0.000000     0.000000     0.000000   \n",
       "50%       0.000000     0.000000     0.000000   196.500000   317.000000   \n",
       "75%     223.250000   349.250000   396.500000   461.500000   515.750000   \n",
       "max    1033.000000  1188.000000  1292.000000  1232.000000  1227.000000   \n",
       "\n",
       "                11           12  \n",
       "count   462.000000   462.000000  \n",
       "mean    380.822511   455.032468  \n",
       "std     258.978602   264.717639  \n",
       "min       0.000000     0.000000  \n",
       "25%     182.500000   286.750000  \n",
       "50%     392.500000   442.500000  \n",
       "75%     562.000000   609.750000  \n",
       "max    1304.000000  1510.000000  "
      ]
     },
     "execution_count": 30,
     "metadata": {},
     "output_type": "execute_result"
    }
   ],
   "source": [
    "# Calculating the amount of minutes spent by each user per month. Save the result.\n",
    "\n",
    "minutes_per_user = pd.DataFrame(users_df['user_id'])\n",
    "minutes_per_user.set_index('user_id', inplace = True)\n",
    "\n",
    "for month in list(range(1,13)):\n",
    "    minutes_per_user[month] = calls_df[pd.DatetimeIndex(calls_df[\"call_date\"]).month == month].groupby('user_id')['duration_rounded'].sum()\n",
    "\n",
    "minutes_per_user.fillna(0, inplace = True)\n",
    "\n",
    "minutes_per_user = minutes_per_user.astype('int')\n",
    "\n",
    "minutes_per_user.describe()"
   ]
  },
  {
   "cell_type": "code",
   "execution_count": 31,
   "metadata": {
    "scrolled": true
   },
   "outputs": [
    {
     "data": {
      "text/html": [
       "<div>\n",
       "<style scoped>\n",
       "    .dataframe tbody tr th:only-of-type {\n",
       "        vertical-align: middle;\n",
       "    }\n",
       "\n",
       "    .dataframe tbody tr th {\n",
       "        vertical-align: top;\n",
       "    }\n",
       "\n",
       "    .dataframe thead th {\n",
       "        text-align: right;\n",
       "    }\n",
       "</style>\n",
       "<table border=\"1\" class=\"dataframe\">\n",
       "  <thead>\n",
       "    <tr style=\"text-align: right;\">\n",
       "      <th></th>\n",
       "      <th>1</th>\n",
       "      <th>2</th>\n",
       "      <th>3</th>\n",
       "      <th>4</th>\n",
       "      <th>5</th>\n",
       "      <th>6</th>\n",
       "      <th>7</th>\n",
       "      <th>8</th>\n",
       "      <th>9</th>\n",
       "      <th>10</th>\n",
       "      <th>11</th>\n",
       "      <th>12</th>\n",
       "    </tr>\n",
       "    <tr>\n",
       "      <th>user_id</th>\n",
       "      <th></th>\n",
       "      <th></th>\n",
       "      <th></th>\n",
       "      <th></th>\n",
       "      <th></th>\n",
       "      <th></th>\n",
       "      <th></th>\n",
       "      <th></th>\n",
       "      <th></th>\n",
       "      <th></th>\n",
       "      <th></th>\n",
       "      <th></th>\n",
       "    </tr>\n",
       "  </thead>\n",
       "  <tbody>\n",
       "    <tr>\n",
       "      <th>1065</th>\n",
       "      <td>0</td>\n",
       "      <td>0</td>\n",
       "      <td>0</td>\n",
       "      <td>0</td>\n",
       "      <td>0</td>\n",
       "      <td>0</td>\n",
       "      <td>0</td>\n",
       "      <td>0</td>\n",
       "      <td>211</td>\n",
       "      <td>723</td>\n",
       "      <td>626</td>\n",
       "      <td>469</td>\n",
       "    </tr>\n",
       "    <tr>\n",
       "      <th>1401</th>\n",
       "      <td>0</td>\n",
       "      <td>0</td>\n",
       "      <td>0</td>\n",
       "      <td>0</td>\n",
       "      <td>0</td>\n",
       "      <td>0</td>\n",
       "      <td>0</td>\n",
       "      <td>77</td>\n",
       "      <td>647</td>\n",
       "      <td>466</td>\n",
       "      <td>685</td>\n",
       "      <td>635</td>\n",
       "    </tr>\n",
       "    <tr>\n",
       "      <th>1248</th>\n",
       "      <td>0</td>\n",
       "      <td>0</td>\n",
       "      <td>0</td>\n",
       "      <td>0</td>\n",
       "      <td>0</td>\n",
       "      <td>0</td>\n",
       "      <td>0</td>\n",
       "      <td>0</td>\n",
       "      <td>0</td>\n",
       "      <td>0</td>\n",
       "      <td>99</td>\n",
       "      <td>966</td>\n",
       "    </tr>\n",
       "    <tr>\n",
       "      <th>1405</th>\n",
       "      <td>0</td>\n",
       "      <td>0</td>\n",
       "      <td>0</td>\n",
       "      <td>0</td>\n",
       "      <td>0</td>\n",
       "      <td>101</td>\n",
       "      <td>185</td>\n",
       "      <td>119</td>\n",
       "      <td>166</td>\n",
       "      <td>185</td>\n",
       "      <td>165</td>\n",
       "      <td>143</td>\n",
       "    </tr>\n",
       "    <tr>\n",
       "      <th>1199</th>\n",
       "      <td>0</td>\n",
       "      <td>0</td>\n",
       "      <td>0</td>\n",
       "      <td>0</td>\n",
       "      <td>0</td>\n",
       "      <td>0</td>\n",
       "      <td>0</td>\n",
       "      <td>394</td>\n",
       "      <td>434</td>\n",
       "      <td>542</td>\n",
       "      <td>609</td>\n",
       "      <td>436</td>\n",
       "    </tr>\n",
       "    <tr>\n",
       "      <th>1074</th>\n",
       "      <td>0</td>\n",
       "      <td>0</td>\n",
       "      <td>0</td>\n",
       "      <td>0</td>\n",
       "      <td>0</td>\n",
       "      <td>0</td>\n",
       "      <td>0</td>\n",
       "      <td>0</td>\n",
       "      <td>0</td>\n",
       "      <td>0</td>\n",
       "      <td>105</td>\n",
       "      <td>618</td>\n",
       "    </tr>\n",
       "    <tr>\n",
       "      <th>1291</th>\n",
       "      <td>0</td>\n",
       "      <td>0</td>\n",
       "      <td>0</td>\n",
       "      <td>79</td>\n",
       "      <td>558</td>\n",
       "      <td>671</td>\n",
       "      <td>642</td>\n",
       "      <td>472</td>\n",
       "      <td>614</td>\n",
       "      <td>681</td>\n",
       "      <td>517</td>\n",
       "      <td>626</td>\n",
       "    </tr>\n",
       "    <tr>\n",
       "      <th>1152</th>\n",
       "      <td>0</td>\n",
       "      <td>0</td>\n",
       "      <td>0</td>\n",
       "      <td>0</td>\n",
       "      <td>0</td>\n",
       "      <td>0</td>\n",
       "      <td>0</td>\n",
       "      <td>0</td>\n",
       "      <td>0</td>\n",
       "      <td>0</td>\n",
       "      <td>639</td>\n",
       "      <td>741</td>\n",
       "    </tr>\n",
       "    <tr>\n",
       "      <th>1159</th>\n",
       "      <td>0</td>\n",
       "      <td>0</td>\n",
       "      <td>0</td>\n",
       "      <td>0</td>\n",
       "      <td>0</td>\n",
       "      <td>0</td>\n",
       "      <td>0</td>\n",
       "      <td>742</td>\n",
       "      <td>806</td>\n",
       "      <td>848</td>\n",
       "      <td>856</td>\n",
       "      <td>1071</td>\n",
       "    </tr>\n",
       "    <tr>\n",
       "      <th>1331</th>\n",
       "      <td>0</td>\n",
       "      <td>0</td>\n",
       "      <td>0</td>\n",
       "      <td>0</td>\n",
       "      <td>0</td>\n",
       "      <td>0</td>\n",
       "      <td>0</td>\n",
       "      <td>401</td>\n",
       "      <td>399</td>\n",
       "      <td>299</td>\n",
       "      <td>314</td>\n",
       "      <td>363</td>\n",
       "    </tr>\n",
       "  </tbody>\n",
       "</table>\n",
       "</div>"
      ],
      "text/plain": [
       "         1   2   3   4    5    6    7    8    9    10   11    12\n",
       "user_id                                                         \n",
       "1065      0   0   0   0    0    0    0    0  211  723  626   469\n",
       "1401      0   0   0   0    0    0    0   77  647  466  685   635\n",
       "1248      0   0   0   0    0    0    0    0    0    0   99   966\n",
       "1405      0   0   0   0    0  101  185  119  166  185  165   143\n",
       "1199      0   0   0   0    0    0    0  394  434  542  609   436\n",
       "1074      0   0   0   0    0    0    0    0    0    0  105   618\n",
       "1291      0   0   0  79  558  671  642  472  614  681  517   626\n",
       "1152      0   0   0   0    0    0    0    0    0    0  639   741\n",
       "1159      0   0   0   0    0    0    0  742  806  848  856  1071\n",
       "1331      0   0   0   0    0    0    0  401  399  299  314   363"
      ]
     },
     "execution_count": 31,
     "metadata": {},
     "output_type": "execute_result"
    }
   ],
   "source": [
    "minutes_per_user.sample(10)"
   ]
  },
  {
   "cell_type": "markdown",
   "metadata": {},
   "source": [
    "### Messages\n",
    "For each month, we'll group by user_id and count the number of messages"
   ]
  },
  {
   "cell_type": "code",
   "execution_count": 32,
   "metadata": {},
   "outputs": [
    {
     "data": {
      "text/html": [
       "<div>\n",
       "<style scoped>\n",
       "    .dataframe tbody tr th:only-of-type {\n",
       "        vertical-align: middle;\n",
       "    }\n",
       "\n",
       "    .dataframe tbody tr th {\n",
       "        vertical-align: top;\n",
       "    }\n",
       "\n",
       "    .dataframe thead th {\n",
       "        text-align: right;\n",
       "    }\n",
       "</style>\n",
       "<table border=\"1\" class=\"dataframe\">\n",
       "  <thead>\n",
       "    <tr style=\"text-align: right;\">\n",
       "      <th></th>\n",
       "      <th>1</th>\n",
       "      <th>2</th>\n",
       "      <th>3</th>\n",
       "      <th>4</th>\n",
       "      <th>5</th>\n",
       "      <th>6</th>\n",
       "      <th>7</th>\n",
       "      <th>8</th>\n",
       "      <th>9</th>\n",
       "      <th>10</th>\n",
       "      <th>11</th>\n",
       "      <th>12</th>\n",
       "    </tr>\n",
       "  </thead>\n",
       "  <tbody>\n",
       "    <tr>\n",
       "      <th>count</th>\n",
       "      <td>462.000000</td>\n",
       "      <td>462.000000</td>\n",
       "      <td>462.000000</td>\n",
       "      <td>462.000000</td>\n",
       "      <td>462.000000</td>\n",
       "      <td>462.000000</td>\n",
       "      <td>462.000000</td>\n",
       "      <td>462.000000</td>\n",
       "      <td>462.000000</td>\n",
       "      <td>462.000000</td>\n",
       "      <td>462.000000</td>\n",
       "      <td>462.000000</td>\n",
       "    </tr>\n",
       "    <tr>\n",
       "      <th>mean</th>\n",
       "      <td>0.179654</td>\n",
       "      <td>0.560606</td>\n",
       "      <td>1.285714</td>\n",
       "      <td>2.885281</td>\n",
       "      <td>6.017316</td>\n",
       "      <td>8.296537</td>\n",
       "      <td>11.272727</td>\n",
       "      <td>16.004329</td>\n",
       "      <td>19.971861</td>\n",
       "      <td>26.337662</td>\n",
       "      <td>30.326840</td>\n",
       "      <td>38.813853</td>\n",
       "    </tr>\n",
       "    <tr>\n",
       "      <th>std</th>\n",
       "      <td>2.247239</td>\n",
       "      <td>4.741885</td>\n",
       "      <td>7.265687</td>\n",
       "      <td>11.115731</td>\n",
       "      <td>18.528975</td>\n",
       "      <td>20.725788</td>\n",
       "      <td>23.743369</td>\n",
       "      <td>28.347395</td>\n",
       "      <td>29.672129</td>\n",
       "      <td>34.350728</td>\n",
       "      <td>33.421701</td>\n",
       "      <td>38.807160</td>\n",
       "    </tr>\n",
       "    <tr>\n",
       "      <th>min</th>\n",
       "      <td>0.000000</td>\n",
       "      <td>0.000000</td>\n",
       "      <td>0.000000</td>\n",
       "      <td>0.000000</td>\n",
       "      <td>0.000000</td>\n",
       "      <td>0.000000</td>\n",
       "      <td>0.000000</td>\n",
       "      <td>0.000000</td>\n",
       "      <td>0.000000</td>\n",
       "      <td>0.000000</td>\n",
       "      <td>0.000000</td>\n",
       "      <td>0.000000</td>\n",
       "    </tr>\n",
       "    <tr>\n",
       "      <th>25%</th>\n",
       "      <td>0.000000</td>\n",
       "      <td>0.000000</td>\n",
       "      <td>0.000000</td>\n",
       "      <td>0.000000</td>\n",
       "      <td>0.000000</td>\n",
       "      <td>0.000000</td>\n",
       "      <td>0.000000</td>\n",
       "      <td>0.000000</td>\n",
       "      <td>0.000000</td>\n",
       "      <td>0.000000</td>\n",
       "      <td>0.000000</td>\n",
       "      <td>2.000000</td>\n",
       "    </tr>\n",
       "    <tr>\n",
       "      <th>50%</th>\n",
       "      <td>0.000000</td>\n",
       "      <td>0.000000</td>\n",
       "      <td>0.000000</td>\n",
       "      <td>0.000000</td>\n",
       "      <td>0.000000</td>\n",
       "      <td>0.000000</td>\n",
       "      <td>0.000000</td>\n",
       "      <td>0.000000</td>\n",
       "      <td>0.000000</td>\n",
       "      <td>12.000000</td>\n",
       "      <td>24.000000</td>\n",
       "      <td>31.000000</td>\n",
       "    </tr>\n",
       "    <tr>\n",
       "      <th>75%</th>\n",
       "      <td>0.000000</td>\n",
       "      <td>0.000000</td>\n",
       "      <td>0.000000</td>\n",
       "      <td>0.000000</td>\n",
       "      <td>0.000000</td>\n",
       "      <td>0.000000</td>\n",
       "      <td>9.750000</td>\n",
       "      <td>23.000000</td>\n",
       "      <td>32.750000</td>\n",
       "      <td>41.750000</td>\n",
       "      <td>47.750000</td>\n",
       "      <td>61.000000</td>\n",
       "    </tr>\n",
       "    <tr>\n",
       "      <th>max</th>\n",
       "      <td>37.000000</td>\n",
       "      <td>67.000000</td>\n",
       "      <td>72.000000</td>\n",
       "      <td>120.000000</td>\n",
       "      <td>149.000000</td>\n",
       "      <td>143.000000</td>\n",
       "      <td>164.000000</td>\n",
       "      <td>156.000000</td>\n",
       "      <td>155.000000</td>\n",
       "      <td>224.000000</td>\n",
       "      <td>180.000000</td>\n",
       "      <td>266.000000</td>\n",
       "    </tr>\n",
       "  </tbody>\n",
       "</table>\n",
       "</div>"
      ],
      "text/plain": [
       "               1           2           3           4           5           6   \\\n",
       "count  462.000000  462.000000  462.000000  462.000000  462.000000  462.000000   \n",
       "mean     0.179654    0.560606    1.285714    2.885281    6.017316    8.296537   \n",
       "std      2.247239    4.741885    7.265687   11.115731   18.528975   20.725788   \n",
       "min      0.000000    0.000000    0.000000    0.000000    0.000000    0.000000   \n",
       "25%      0.000000    0.000000    0.000000    0.000000    0.000000    0.000000   \n",
       "50%      0.000000    0.000000    0.000000    0.000000    0.000000    0.000000   \n",
       "75%      0.000000    0.000000    0.000000    0.000000    0.000000    0.000000   \n",
       "max     37.000000   67.000000   72.000000  120.000000  149.000000  143.000000   \n",
       "\n",
       "               7           8           9           10          11          12  \n",
       "count  462.000000  462.000000  462.000000  462.000000  462.000000  462.000000  \n",
       "mean    11.272727   16.004329   19.971861   26.337662   30.326840   38.813853  \n",
       "std     23.743369   28.347395   29.672129   34.350728   33.421701   38.807160  \n",
       "min      0.000000    0.000000    0.000000    0.000000    0.000000    0.000000  \n",
       "25%      0.000000    0.000000    0.000000    0.000000    0.000000    2.000000  \n",
       "50%      0.000000    0.000000    0.000000   12.000000   24.000000   31.000000  \n",
       "75%      9.750000   23.000000   32.750000   41.750000   47.750000   61.000000  \n",
       "max    164.000000  156.000000  155.000000  224.000000  180.000000  266.000000  "
      ]
     },
     "execution_count": 32,
     "metadata": {},
     "output_type": "execute_result"
    }
   ],
   "source": [
    "# Calculating the number of messages sent by each user per month\n",
    "messages_per_user = pd.DataFrame(users_df['user_id'])\n",
    "messages_per_user.set_index('user_id', inplace = True)\n",
    "\n",
    "for month in list(range(1,13)):\n",
    "    messages_per_user[month] = messages_df[pd.DatetimeIndex(messages_df[\"message_date\"]).month == month].groupby('user_id')['id'].count()\n",
    "\n",
    "messages_per_user.fillna(0, inplace = True)\n",
    "\n",
    "messages_per_user = messages_per_user.astype('int')\n",
    "\n",
    "messages_per_user.describe()\n"
   ]
  },
  {
   "cell_type": "code",
   "execution_count": 33,
   "metadata": {},
   "outputs": [
    {
     "data": {
      "text/html": [
       "<div>\n",
       "<style scoped>\n",
       "    .dataframe tbody tr th:only-of-type {\n",
       "        vertical-align: middle;\n",
       "    }\n",
       "\n",
       "    .dataframe tbody tr th {\n",
       "        vertical-align: top;\n",
       "    }\n",
       "\n",
       "    .dataframe thead th {\n",
       "        text-align: right;\n",
       "    }\n",
       "</style>\n",
       "<table border=\"1\" class=\"dataframe\">\n",
       "  <thead>\n",
       "    <tr style=\"text-align: right;\">\n",
       "      <th></th>\n",
       "      <th>1</th>\n",
       "      <th>2</th>\n",
       "      <th>3</th>\n",
       "      <th>4</th>\n",
       "      <th>5</th>\n",
       "      <th>6</th>\n",
       "      <th>7</th>\n",
       "      <th>8</th>\n",
       "      <th>9</th>\n",
       "      <th>10</th>\n",
       "      <th>11</th>\n",
       "      <th>12</th>\n",
       "    </tr>\n",
       "    <tr>\n",
       "      <th>user_id</th>\n",
       "      <th></th>\n",
       "      <th></th>\n",
       "      <th></th>\n",
       "      <th></th>\n",
       "      <th></th>\n",
       "      <th></th>\n",
       "      <th></th>\n",
       "      <th></th>\n",
       "      <th></th>\n",
       "      <th></th>\n",
       "      <th></th>\n",
       "      <th></th>\n",
       "    </tr>\n",
       "  </thead>\n",
       "  <tbody>\n",
       "    <tr>\n",
       "      <th>1023</th>\n",
       "      <td>0</td>\n",
       "      <td>0</td>\n",
       "      <td>0</td>\n",
       "      <td>0</td>\n",
       "      <td>0</td>\n",
       "      <td>0</td>\n",
       "      <td>5</td>\n",
       "      <td>6</td>\n",
       "      <td>0</td>\n",
       "      <td>0</td>\n",
       "      <td>0</td>\n",
       "      <td>0</td>\n",
       "    </tr>\n",
       "    <tr>\n",
       "      <th>1435</th>\n",
       "      <td>0</td>\n",
       "      <td>0</td>\n",
       "      <td>0</td>\n",
       "      <td>0</td>\n",
       "      <td>0</td>\n",
       "      <td>0</td>\n",
       "      <td>0</td>\n",
       "      <td>0</td>\n",
       "      <td>69</td>\n",
       "      <td>128</td>\n",
       "      <td>125</td>\n",
       "      <td>150</td>\n",
       "    </tr>\n",
       "    <tr>\n",
       "      <th>1283</th>\n",
       "      <td>0</td>\n",
       "      <td>0</td>\n",
       "      <td>0</td>\n",
       "      <td>0</td>\n",
       "      <td>0</td>\n",
       "      <td>0</td>\n",
       "      <td>0</td>\n",
       "      <td>0</td>\n",
       "      <td>0</td>\n",
       "      <td>0</td>\n",
       "      <td>11</td>\n",
       "      <td>117</td>\n",
       "    </tr>\n",
       "    <tr>\n",
       "      <th>1441</th>\n",
       "      <td>0</td>\n",
       "      <td>0</td>\n",
       "      <td>0</td>\n",
       "      <td>0</td>\n",
       "      <td>0</td>\n",
       "      <td>0</td>\n",
       "      <td>0</td>\n",
       "      <td>0</td>\n",
       "      <td>0</td>\n",
       "      <td>0</td>\n",
       "      <td>7</td>\n",
       "      <td>15</td>\n",
       "    </tr>\n",
       "    <tr>\n",
       "      <th>1406</th>\n",
       "      <td>0</td>\n",
       "      <td>0</td>\n",
       "      <td>0</td>\n",
       "      <td>0</td>\n",
       "      <td>0</td>\n",
       "      <td>0</td>\n",
       "      <td>0</td>\n",
       "      <td>0</td>\n",
       "      <td>0</td>\n",
       "      <td>0</td>\n",
       "      <td>0</td>\n",
       "      <td>0</td>\n",
       "    </tr>\n",
       "    <tr>\n",
       "      <th>1495</th>\n",
       "      <td>0</td>\n",
       "      <td>0</td>\n",
       "      <td>0</td>\n",
       "      <td>0</td>\n",
       "      <td>0</td>\n",
       "      <td>0</td>\n",
       "      <td>0</td>\n",
       "      <td>0</td>\n",
       "      <td>0</td>\n",
       "      <td>0</td>\n",
       "      <td>0</td>\n",
       "      <td>0</td>\n",
       "    </tr>\n",
       "    <tr>\n",
       "      <th>1381</th>\n",
       "      <td>0</td>\n",
       "      <td>0</td>\n",
       "      <td>0</td>\n",
       "      <td>0</td>\n",
       "      <td>0</td>\n",
       "      <td>0</td>\n",
       "      <td>0</td>\n",
       "      <td>0</td>\n",
       "      <td>63</td>\n",
       "      <td>224</td>\n",
       "      <td>180</td>\n",
       "      <td>157</td>\n",
       "    </tr>\n",
       "    <tr>\n",
       "      <th>1154</th>\n",
       "      <td>0</td>\n",
       "      <td>0</td>\n",
       "      <td>0</td>\n",
       "      <td>0</td>\n",
       "      <td>0</td>\n",
       "      <td>0</td>\n",
       "      <td>0</td>\n",
       "      <td>0</td>\n",
       "      <td>0</td>\n",
       "      <td>74</td>\n",
       "      <td>68</td>\n",
       "      <td>83</td>\n",
       "    </tr>\n",
       "    <tr>\n",
       "      <th>1009</th>\n",
       "      <td>0</td>\n",
       "      <td>0</td>\n",
       "      <td>0</td>\n",
       "      <td>0</td>\n",
       "      <td>0</td>\n",
       "      <td>0</td>\n",
       "      <td>0</td>\n",
       "      <td>0</td>\n",
       "      <td>0</td>\n",
       "      <td>0</td>\n",
       "      <td>0</td>\n",
       "      <td>0</td>\n",
       "    </tr>\n",
       "    <tr>\n",
       "      <th>1398</th>\n",
       "      <td>0</td>\n",
       "      <td>0</td>\n",
       "      <td>0</td>\n",
       "      <td>0</td>\n",
       "      <td>0</td>\n",
       "      <td>0</td>\n",
       "      <td>0</td>\n",
       "      <td>0</td>\n",
       "      <td>0</td>\n",
       "      <td>17</td>\n",
       "      <td>37</td>\n",
       "      <td>42</td>\n",
       "    </tr>\n",
       "  </tbody>\n",
       "</table>\n",
       "</div>"
      ],
      "text/plain": [
       "         1   2   3   4   5   6   7   8   9    10   11   12\n",
       "user_id                                                   \n",
       "1023      0   0   0   0   0   0   5   6   0    0    0    0\n",
       "1435      0   0   0   0   0   0   0   0  69  128  125  150\n",
       "1283      0   0   0   0   0   0   0   0   0    0   11  117\n",
       "1441      0   0   0   0   0   0   0   0   0    0    7   15\n",
       "1406      0   0   0   0   0   0   0   0   0    0    0    0\n",
       "1495      0   0   0   0   0   0   0   0   0    0    0    0\n",
       "1381      0   0   0   0   0   0   0   0  63  224  180  157\n",
       "1154      0   0   0   0   0   0   0   0   0   74   68   83\n",
       "1009      0   0   0   0   0   0   0   0   0    0    0    0\n",
       "1398      0   0   0   0   0   0   0   0   0   17   37   42"
      ]
     },
     "execution_count": 33,
     "metadata": {},
     "output_type": "execute_result"
    }
   ],
   "source": [
    "messages_per_user.sample(10)"
   ]
  },
  {
   "cell_type": "markdown",
   "metadata": {},
   "source": [
    "### Internet\n",
    "Similar for data. This will be measured in Mb, we will convert to Gb and round up when we're calculating revenue."
   ]
  },
  {
   "cell_type": "code",
   "execution_count": 34,
   "metadata": {},
   "outputs": [
    {
     "data": {
      "text/html": [
       "<div>\n",
       "<style scoped>\n",
       "    .dataframe tbody tr th:only-of-type {\n",
       "        vertical-align: middle;\n",
       "    }\n",
       "\n",
       "    .dataframe tbody tr th {\n",
       "        vertical-align: top;\n",
       "    }\n",
       "\n",
       "    .dataframe thead th {\n",
       "        text-align: right;\n",
       "    }\n",
       "</style>\n",
       "<table border=\"1\" class=\"dataframe\">\n",
       "  <thead>\n",
       "    <tr style=\"text-align: right;\">\n",
       "      <th></th>\n",
       "      <th>1</th>\n",
       "      <th>2</th>\n",
       "      <th>3</th>\n",
       "      <th>4</th>\n",
       "      <th>5</th>\n",
       "      <th>6</th>\n",
       "      <th>7</th>\n",
       "      <th>8</th>\n",
       "      <th>9</th>\n",
       "      <th>10</th>\n",
       "      <th>11</th>\n",
       "      <th>12</th>\n",
       "    </tr>\n",
       "  </thead>\n",
       "  <tbody>\n",
       "    <tr>\n",
       "      <th>count</th>\n",
       "      <td>462.000000</td>\n",
       "      <td>462.000000</td>\n",
       "      <td>462.000000</td>\n",
       "      <td>462.000000</td>\n",
       "      <td>462.000000</td>\n",
       "      <td>462.000000</td>\n",
       "      <td>462.000000</td>\n",
       "      <td>462.000000</td>\n",
       "      <td>462.000000</td>\n",
       "      <td>462.000000</td>\n",
       "      <td>462.000000</td>\n",
       "      <td>462.000000</td>\n",
       "    </tr>\n",
       "    <tr>\n",
       "      <th>mean</th>\n",
       "      <td>81.000195</td>\n",
       "      <td>496.777597</td>\n",
       "      <td>1140.266970</td>\n",
       "      <td>2029.794156</td>\n",
       "      <td>3366.253939</td>\n",
       "      <td>4773.010000</td>\n",
       "      <td>6483.020758</td>\n",
       "      <td>8627.032056</td>\n",
       "      <td>10125.858117</td>\n",
       "      <td>12885.485281</td>\n",
       "      <td>14651.517706</td>\n",
       "      <td>17612.847944</td>\n",
       "    </tr>\n",
       "    <tr>\n",
       "      <th>std</th>\n",
       "      <td>811.203317</td>\n",
       "      <td>2889.862905</td>\n",
       "      <td>4788.111345</td>\n",
       "      <td>5779.277701</td>\n",
       "      <td>7214.866632</td>\n",
       "      <td>8236.270786</td>\n",
       "      <td>9563.049445</td>\n",
       "      <td>10424.133369</td>\n",
       "      <td>9868.674108</td>\n",
       "      <td>10168.045386</td>\n",
       "      <td>8878.278791</td>\n",
       "      <td>8959.390747</td>\n",
       "    </tr>\n",
       "    <tr>\n",
       "      <th>min</th>\n",
       "      <td>0.000000</td>\n",
       "      <td>0.000000</td>\n",
       "      <td>0.000000</td>\n",
       "      <td>0.000000</td>\n",
       "      <td>0.000000</td>\n",
       "      <td>0.000000</td>\n",
       "      <td>0.000000</td>\n",
       "      <td>0.000000</td>\n",
       "      <td>0.000000</td>\n",
       "      <td>0.000000</td>\n",
       "      <td>0.000000</td>\n",
       "      <td>0.000000</td>\n",
       "    </tr>\n",
       "    <tr>\n",
       "      <th>25%</th>\n",
       "      <td>0.000000</td>\n",
       "      <td>0.000000</td>\n",
       "      <td>0.000000</td>\n",
       "      <td>0.000000</td>\n",
       "      <td>0.000000</td>\n",
       "      <td>0.000000</td>\n",
       "      <td>0.000000</td>\n",
       "      <td>0.000000</td>\n",
       "      <td>0.000000</td>\n",
       "      <td>0.000000</td>\n",
       "      <td>8955.597500</td>\n",
       "      <td>13129.310000</td>\n",
       "    </tr>\n",
       "    <tr>\n",
       "      <th>50%</th>\n",
       "      <td>0.000000</td>\n",
       "      <td>0.000000</td>\n",
       "      <td>0.000000</td>\n",
       "      <td>0.000000</td>\n",
       "      <td>0.000000</td>\n",
       "      <td>0.000000</td>\n",
       "      <td>0.000000</td>\n",
       "      <td>0.000000</td>\n",
       "      <td>10199.535000</td>\n",
       "      <td>14340.755000</td>\n",
       "      <td>15526.670000</td>\n",
       "      <td>17440.890000</td>\n",
       "    </tr>\n",
       "    <tr>\n",
       "      <th>75%</th>\n",
       "      <td>0.000000</td>\n",
       "      <td>0.000000</td>\n",
       "      <td>0.000000</td>\n",
       "      <td>0.000000</td>\n",
       "      <td>0.000000</td>\n",
       "      <td>8448.180000</td>\n",
       "      <td>14293.367500</td>\n",
       "      <td>17381.810000</td>\n",
       "      <td>17639.557500</td>\n",
       "      <td>19854.685000</td>\n",
       "      <td>20079.872500</td>\n",
       "      <td>21952.375000</td>\n",
       "    </tr>\n",
       "    <tr>\n",
       "      <th>max</th>\n",
       "      <td>10635.640000</td>\n",
       "      <td>21598.950000</td>\n",
       "      <td>36061.040000</td>\n",
       "      <td>37761.590000</td>\n",
       "      <td>36672.290000</td>\n",
       "      <td>37907.140000</td>\n",
       "      <td>38929.090000</td>\n",
       "      <td>51809.350000</td>\n",
       "      <td>37587.030000</td>\n",
       "      <td>46868.750000</td>\n",
       "      <td>42952.590000</td>\n",
       "      <td>70931.590000</td>\n",
       "    </tr>\n",
       "  </tbody>\n",
       "</table>\n",
       "</div>"
      ],
      "text/plain": [
       "                 1             2             3             4             5   \\\n",
       "count    462.000000    462.000000    462.000000    462.000000    462.000000   \n",
       "mean      81.000195    496.777597   1140.266970   2029.794156   3366.253939   \n",
       "std      811.203317   2889.862905   4788.111345   5779.277701   7214.866632   \n",
       "min        0.000000      0.000000      0.000000      0.000000      0.000000   \n",
       "25%        0.000000      0.000000      0.000000      0.000000      0.000000   \n",
       "50%        0.000000      0.000000      0.000000      0.000000      0.000000   \n",
       "75%        0.000000      0.000000      0.000000      0.000000      0.000000   \n",
       "max    10635.640000  21598.950000  36061.040000  37761.590000  36672.290000   \n",
       "\n",
       "                 6             7             8             9             10  \\\n",
       "count    462.000000    462.000000    462.000000    462.000000    462.000000   \n",
       "mean    4773.010000   6483.020758   8627.032056  10125.858117  12885.485281   \n",
       "std     8236.270786   9563.049445  10424.133369   9868.674108  10168.045386   \n",
       "min        0.000000      0.000000      0.000000      0.000000      0.000000   \n",
       "25%        0.000000      0.000000      0.000000      0.000000      0.000000   \n",
       "50%        0.000000      0.000000      0.000000  10199.535000  14340.755000   \n",
       "75%     8448.180000  14293.367500  17381.810000  17639.557500  19854.685000   \n",
       "max    37907.140000  38929.090000  51809.350000  37587.030000  46868.750000   \n",
       "\n",
       "                 11            12  \n",
       "count    462.000000    462.000000  \n",
       "mean   14651.517706  17612.847944  \n",
       "std     8878.278791   8959.390747  \n",
       "min        0.000000      0.000000  \n",
       "25%     8955.597500  13129.310000  \n",
       "50%    15526.670000  17440.890000  \n",
       "75%    20079.872500  21952.375000  \n",
       "max    42952.590000  70931.590000  "
      ]
     },
     "execution_count": 34,
     "metadata": {},
     "output_type": "execute_result"
    }
   ],
   "source": [
    "# Calculating the volume of internet traffic used by each user per month\n",
    "\n",
    "mb_per_user = pd.DataFrame(users_df['user_id'])\n",
    "mb_per_user.set_index('user_id', inplace = True)\n",
    "\n",
    "for month in list(range(1,13)):\n",
    "    mb_per_user[month] = internet_df[pd.DatetimeIndex(internet_df[\"session_date\"]).month == month].groupby('user_id')['mb_used'].sum()\n",
    "\n",
    "mb_per_user.fillna(0, inplace = True)\n",
    "\n",
    "\n",
    "mb_per_user.describe()"
   ]
  },
  {
   "cell_type": "code",
   "execution_count": 35,
   "metadata": {},
   "outputs": [
    {
     "data": {
      "text/html": [
       "<div>\n",
       "<style scoped>\n",
       "    .dataframe tbody tr th:only-of-type {\n",
       "        vertical-align: middle;\n",
       "    }\n",
       "\n",
       "    .dataframe tbody tr th {\n",
       "        vertical-align: top;\n",
       "    }\n",
       "\n",
       "    .dataframe thead th {\n",
       "        text-align: right;\n",
       "    }\n",
       "</style>\n",
       "<table border=\"1\" class=\"dataframe\">\n",
       "  <thead>\n",
       "    <tr style=\"text-align: right;\">\n",
       "      <th></th>\n",
       "      <th>1</th>\n",
       "      <th>2</th>\n",
       "      <th>3</th>\n",
       "      <th>4</th>\n",
       "      <th>5</th>\n",
       "      <th>6</th>\n",
       "      <th>7</th>\n",
       "      <th>8</th>\n",
       "      <th>9</th>\n",
       "      <th>10</th>\n",
       "      <th>11</th>\n",
       "      <th>12</th>\n",
       "    </tr>\n",
       "    <tr>\n",
       "      <th>user_id</th>\n",
       "      <th></th>\n",
       "      <th></th>\n",
       "      <th></th>\n",
       "      <th></th>\n",
       "      <th></th>\n",
       "      <th></th>\n",
       "      <th></th>\n",
       "      <th></th>\n",
       "      <th></th>\n",
       "      <th></th>\n",
       "      <th></th>\n",
       "      <th></th>\n",
       "    </tr>\n",
       "  </thead>\n",
       "  <tbody>\n",
       "    <tr>\n",
       "      <th>1321</th>\n",
       "      <td>0.0</td>\n",
       "      <td>0.0</td>\n",
       "      <td>0.0</td>\n",
       "      <td>0.0</td>\n",
       "      <td>0.0</td>\n",
       "      <td>17726.98</td>\n",
       "      <td>23604.01</td>\n",
       "      <td>19672.55</td>\n",
       "      <td>18633.06</td>\n",
       "      <td>22575.28</td>\n",
       "      <td>11822.98</td>\n",
       "      <td>23318.65</td>\n",
       "    </tr>\n",
       "    <tr>\n",
       "      <th>1019</th>\n",
       "      <td>0.0</td>\n",
       "      <td>0.0</td>\n",
       "      <td>0.0</td>\n",
       "      <td>0.0</td>\n",
       "      <td>0.0</td>\n",
       "      <td>0.00</td>\n",
       "      <td>0.00</td>\n",
       "      <td>0.00</td>\n",
       "      <td>0.00</td>\n",
       "      <td>0.00</td>\n",
       "      <td>3012.91</td>\n",
       "      <td>28127.77</td>\n",
       "    </tr>\n",
       "    <tr>\n",
       "      <th>1048</th>\n",
       "      <td>0.0</td>\n",
       "      <td>0.0</td>\n",
       "      <td>0.0</td>\n",
       "      <td>0.0</td>\n",
       "      <td>0.0</td>\n",
       "      <td>0.00</td>\n",
       "      <td>0.00</td>\n",
       "      <td>2256.76</td>\n",
       "      <td>8806.79</td>\n",
       "      <td>12249.23</td>\n",
       "      <td>10699.55</td>\n",
       "      <td>9290.36</td>\n",
       "    </tr>\n",
       "    <tr>\n",
       "      <th>1177</th>\n",
       "      <td>0.0</td>\n",
       "      <td>0.0</td>\n",
       "      <td>0.0</td>\n",
       "      <td>0.0</td>\n",
       "      <td>0.0</td>\n",
       "      <td>0.00</td>\n",
       "      <td>0.00</td>\n",
       "      <td>0.00</td>\n",
       "      <td>0.00</td>\n",
       "      <td>0.00</td>\n",
       "      <td>11670.71</td>\n",
       "      <td>25912.86</td>\n",
       "    </tr>\n",
       "    <tr>\n",
       "      <th>1068</th>\n",
       "      <td>0.0</td>\n",
       "      <td>0.0</td>\n",
       "      <td>0.0</td>\n",
       "      <td>0.0</td>\n",
       "      <td>6540.1</td>\n",
       "      <td>15171.84</td>\n",
       "      <td>14329.65</td>\n",
       "      <td>14672.28</td>\n",
       "      <td>11973.64</td>\n",
       "      <td>19290.34</td>\n",
       "      <td>13994.14</td>\n",
       "      <td>17421.53</td>\n",
       "    </tr>\n",
       "    <tr>\n",
       "      <th>1478</th>\n",
       "      <td>0.0</td>\n",
       "      <td>0.0</td>\n",
       "      <td>0.0</td>\n",
       "      <td>0.0</td>\n",
       "      <td>0.0</td>\n",
       "      <td>0.00</td>\n",
       "      <td>0.00</td>\n",
       "      <td>12170.58</td>\n",
       "      <td>19428.57</td>\n",
       "      <td>12314.99</td>\n",
       "      <td>16216.44</td>\n",
       "      <td>22560.06</td>\n",
       "    </tr>\n",
       "    <tr>\n",
       "      <th>1238</th>\n",
       "      <td>0.0</td>\n",
       "      <td>0.0</td>\n",
       "      <td>0.0</td>\n",
       "      <td>0.0</td>\n",
       "      <td>0.0</td>\n",
       "      <td>0.00</td>\n",
       "      <td>0.00</td>\n",
       "      <td>0.00</td>\n",
       "      <td>0.00</td>\n",
       "      <td>0.00</td>\n",
       "      <td>22351.40</td>\n",
       "      <td>22777.73</td>\n",
       "    </tr>\n",
       "    <tr>\n",
       "      <th>1250</th>\n",
       "      <td>0.0</td>\n",
       "      <td>0.0</td>\n",
       "      <td>0.0</td>\n",
       "      <td>0.0</td>\n",
       "      <td>0.0</td>\n",
       "      <td>0.00</td>\n",
       "      <td>0.00</td>\n",
       "      <td>0.00</td>\n",
       "      <td>0.00</td>\n",
       "      <td>8511.32</td>\n",
       "      <td>11680.55</td>\n",
       "      <td>8733.20</td>\n",
       "    </tr>\n",
       "    <tr>\n",
       "      <th>1114</th>\n",
       "      <td>0.0</td>\n",
       "      <td>0.0</td>\n",
       "      <td>0.0</td>\n",
       "      <td>0.0</td>\n",
       "      <td>0.0</td>\n",
       "      <td>0.00</td>\n",
       "      <td>7572.63</td>\n",
       "      <td>21360.40</td>\n",
       "      <td>12680.13</td>\n",
       "      <td>15846.17</td>\n",
       "      <td>26829.87</td>\n",
       "      <td>18058.14</td>\n",
       "    </tr>\n",
       "    <tr>\n",
       "      <th>1270</th>\n",
       "      <td>0.0</td>\n",
       "      <td>0.0</td>\n",
       "      <td>0.0</td>\n",
       "      <td>0.0</td>\n",
       "      <td>0.0</td>\n",
       "      <td>0.00</td>\n",
       "      <td>0.00</td>\n",
       "      <td>0.00</td>\n",
       "      <td>12029.43</td>\n",
       "      <td>18272.97</td>\n",
       "      <td>16119.29</td>\n",
       "      <td>24633.93</td>\n",
       "    </tr>\n",
       "  </tbody>\n",
       "</table>\n",
       "</div>"
      ],
      "text/plain": [
       "          1    2    3    4       5         6         7         8         9   \\\n",
       "user_id                                                                       \n",
       "1321     0.0  0.0  0.0  0.0     0.0  17726.98  23604.01  19672.55  18633.06   \n",
       "1019     0.0  0.0  0.0  0.0     0.0      0.00      0.00      0.00      0.00   \n",
       "1048     0.0  0.0  0.0  0.0     0.0      0.00      0.00   2256.76   8806.79   \n",
       "1177     0.0  0.0  0.0  0.0     0.0      0.00      0.00      0.00      0.00   \n",
       "1068     0.0  0.0  0.0  0.0  6540.1  15171.84  14329.65  14672.28  11973.64   \n",
       "1478     0.0  0.0  0.0  0.0     0.0      0.00      0.00  12170.58  19428.57   \n",
       "1238     0.0  0.0  0.0  0.0     0.0      0.00      0.00      0.00      0.00   \n",
       "1250     0.0  0.0  0.0  0.0     0.0      0.00      0.00      0.00      0.00   \n",
       "1114     0.0  0.0  0.0  0.0     0.0      0.00   7572.63  21360.40  12680.13   \n",
       "1270     0.0  0.0  0.0  0.0     0.0      0.00      0.00      0.00  12029.43   \n",
       "\n",
       "               10        11        12  \n",
       "user_id                                \n",
       "1321     22575.28  11822.98  23318.65  \n",
       "1019         0.00   3012.91  28127.77  \n",
       "1048     12249.23  10699.55   9290.36  \n",
       "1177         0.00  11670.71  25912.86  \n",
       "1068     19290.34  13994.14  17421.53  \n",
       "1478     12314.99  16216.44  22560.06  \n",
       "1238         0.00  22351.40  22777.73  \n",
       "1250      8511.32  11680.55   8733.20  \n",
       "1114     15846.17  26829.87  18058.14  \n",
       "1270     18272.97  16119.29  24633.93  "
      ]
     },
     "execution_count": 35,
     "metadata": {},
     "output_type": "execute_result"
    }
   ],
   "source": [
    "mb_per_user.sample(10)"
   ]
  },
  {
   "cell_type": "markdown",
   "metadata": {},
   "source": [
    "\n",
    "### Merging data\n",
    "\n",
    "We can use to multi-indexing to create a hierarchical structure, with month on the highest level, followed by data for calls, minutes used, messages and data.\n",
    "\n",
    "We will add in a placeholder `revenue` column per month to be filled in later."
   ]
  },
  {
   "cell_type": "code",
   "execution_count": 36,
   "metadata": {},
   "outputs": [
    {
     "data": {
      "text/html": [
       "<div>\n",
       "<style scoped>\n",
       "    .dataframe tbody tr th:only-of-type {\n",
       "        vertical-align: middle;\n",
       "    }\n",
       "\n",
       "    .dataframe tbody tr th {\n",
       "        vertical-align: top;\n",
       "    }\n",
       "\n",
       "    .dataframe thead tr th {\n",
       "        text-align: left;\n",
       "    }\n",
       "\n",
       "    .dataframe thead tr:last-of-type th {\n",
       "        text-align: right;\n",
       "    }\n",
       "</style>\n",
       "<table border=\"1\" class=\"dataframe\">\n",
       "  <thead>\n",
       "    <tr>\n",
       "      <th></th>\n",
       "      <th colspan=\"5\" halign=\"left\">1</th>\n",
       "      <th colspan=\"5\" halign=\"left\">2</th>\n",
       "      <th colspan=\"5\" halign=\"left\">3</th>\n",
       "      <th colspan=\"5\" halign=\"left\">4</th>\n",
       "      <th colspan=\"5\" halign=\"left\">5</th>\n",
       "      <th colspan=\"5\" halign=\"left\">6</th>\n",
       "      <th colspan=\"5\" halign=\"left\">7</th>\n",
       "      <th colspan=\"5\" halign=\"left\">8</th>\n",
       "      <th colspan=\"5\" halign=\"left\">9</th>\n",
       "      <th colspan=\"5\" halign=\"left\">10</th>\n",
       "      <th colspan=\"5\" halign=\"left\">11</th>\n",
       "      <th colspan=\"5\" halign=\"left\">12</th>\n",
       "    </tr>\n",
       "    <tr>\n",
       "      <th></th>\n",
       "      <th>n_calls</th>\n",
       "      <th>n_mins</th>\n",
       "      <th>n_messages</th>\n",
       "      <th>n_mbs</th>\n",
       "      <th>revenue</th>\n",
       "      <th>n_calls</th>\n",
       "      <th>n_mins</th>\n",
       "      <th>n_messages</th>\n",
       "      <th>n_mbs</th>\n",
       "      <th>revenue</th>\n",
       "      <th>n_calls</th>\n",
       "      <th>n_mins</th>\n",
       "      <th>n_messages</th>\n",
       "      <th>n_mbs</th>\n",
       "      <th>revenue</th>\n",
       "      <th>n_calls</th>\n",
       "      <th>n_mins</th>\n",
       "      <th>n_messages</th>\n",
       "      <th>n_mbs</th>\n",
       "      <th>revenue</th>\n",
       "      <th>n_calls</th>\n",
       "      <th>n_mins</th>\n",
       "      <th>n_messages</th>\n",
       "      <th>n_mbs</th>\n",
       "      <th>revenue</th>\n",
       "      <th>n_calls</th>\n",
       "      <th>n_mins</th>\n",
       "      <th>n_messages</th>\n",
       "      <th>n_mbs</th>\n",
       "      <th>revenue</th>\n",
       "      <th>n_calls</th>\n",
       "      <th>n_mins</th>\n",
       "      <th>n_messages</th>\n",
       "      <th>n_mbs</th>\n",
       "      <th>revenue</th>\n",
       "      <th>n_calls</th>\n",
       "      <th>n_mins</th>\n",
       "      <th>n_messages</th>\n",
       "      <th>n_mbs</th>\n",
       "      <th>revenue</th>\n",
       "      <th>n_calls</th>\n",
       "      <th>n_mins</th>\n",
       "      <th>n_messages</th>\n",
       "      <th>n_mbs</th>\n",
       "      <th>revenue</th>\n",
       "      <th>n_calls</th>\n",
       "      <th>n_mins</th>\n",
       "      <th>n_messages</th>\n",
       "      <th>n_mbs</th>\n",
       "      <th>revenue</th>\n",
       "      <th>n_calls</th>\n",
       "      <th>n_mins</th>\n",
       "      <th>n_messages</th>\n",
       "      <th>n_mbs</th>\n",
       "      <th>revenue</th>\n",
       "      <th>n_calls</th>\n",
       "      <th>n_mins</th>\n",
       "      <th>n_messages</th>\n",
       "      <th>n_mbs</th>\n",
       "      <th>revenue</th>\n",
       "    </tr>\n",
       "    <tr>\n",
       "      <th>user_id</th>\n",
       "      <th></th>\n",
       "      <th></th>\n",
       "      <th></th>\n",
       "      <th></th>\n",
       "      <th></th>\n",
       "      <th></th>\n",
       "      <th></th>\n",
       "      <th></th>\n",
       "      <th></th>\n",
       "      <th></th>\n",
       "      <th></th>\n",
       "      <th></th>\n",
       "      <th></th>\n",
       "      <th></th>\n",
       "      <th></th>\n",
       "      <th></th>\n",
       "      <th></th>\n",
       "      <th></th>\n",
       "      <th></th>\n",
       "      <th></th>\n",
       "      <th></th>\n",
       "      <th></th>\n",
       "      <th></th>\n",
       "      <th></th>\n",
       "      <th></th>\n",
       "      <th></th>\n",
       "      <th></th>\n",
       "      <th></th>\n",
       "      <th></th>\n",
       "      <th></th>\n",
       "      <th></th>\n",
       "      <th></th>\n",
       "      <th></th>\n",
       "      <th></th>\n",
       "      <th></th>\n",
       "      <th></th>\n",
       "      <th></th>\n",
       "      <th></th>\n",
       "      <th></th>\n",
       "      <th></th>\n",
       "      <th></th>\n",
       "      <th></th>\n",
       "      <th></th>\n",
       "      <th></th>\n",
       "      <th></th>\n",
       "      <th></th>\n",
       "      <th></th>\n",
       "      <th></th>\n",
       "      <th></th>\n",
       "      <th></th>\n",
       "      <th></th>\n",
       "      <th></th>\n",
       "      <th></th>\n",
       "      <th></th>\n",
       "      <th></th>\n",
       "      <th></th>\n",
       "      <th></th>\n",
       "      <th></th>\n",
       "      <th></th>\n",
       "      <th></th>\n",
       "    </tr>\n",
       "  </thead>\n",
       "  <tbody>\n",
       "    <tr>\n",
       "      <th>1183</th>\n",
       "      <td>0</td>\n",
       "      <td>0</td>\n",
       "      <td>0</td>\n",
       "      <td>0.00</td>\n",
       "      <td>NaN</td>\n",
       "      <td>0</td>\n",
       "      <td>0</td>\n",
       "      <td>0</td>\n",
       "      <td>0.0</td>\n",
       "      <td>NaN</td>\n",
       "      <td>0</td>\n",
       "      <td>0</td>\n",
       "      <td>0</td>\n",
       "      <td>0.00</td>\n",
       "      <td>NaN</td>\n",
       "      <td>0</td>\n",
       "      <td>0</td>\n",
       "      <td>0</td>\n",
       "      <td>0.00</td>\n",
       "      <td>NaN</td>\n",
       "      <td>0</td>\n",
       "      <td>0</td>\n",
       "      <td>0</td>\n",
       "      <td>0.00</td>\n",
       "      <td>NaN</td>\n",
       "      <td>0</td>\n",
       "      <td>0</td>\n",
       "      <td>0</td>\n",
       "      <td>0.00</td>\n",
       "      <td>NaN</td>\n",
       "      <td>0</td>\n",
       "      <td>0</td>\n",
       "      <td>0</td>\n",
       "      <td>0.00</td>\n",
       "      <td>NaN</td>\n",
       "      <td>0</td>\n",
       "      <td>0</td>\n",
       "      <td>0</td>\n",
       "      <td>0.00</td>\n",
       "      <td>NaN</td>\n",
       "      <td>0</td>\n",
       "      <td>0</td>\n",
       "      <td>0</td>\n",
       "      <td>0.00</td>\n",
       "      <td>NaN</td>\n",
       "      <td>21</td>\n",
       "      <td>177</td>\n",
       "      <td>33</td>\n",
       "      <td>6980.78</td>\n",
       "      <td>NaN</td>\n",
       "      <td>78</td>\n",
       "      <td>677</td>\n",
       "      <td>107</td>\n",
       "      <td>18159.74</td>\n",
       "      <td>NaN</td>\n",
       "      <td>74</td>\n",
       "      <td>596</td>\n",
       "      <td>97</td>\n",
       "      <td>20848.36</td>\n",
       "      <td>NaN</td>\n",
       "    </tr>\n",
       "    <tr>\n",
       "      <th>1196</th>\n",
       "      <td>32</td>\n",
       "      <td>287</td>\n",
       "      <td>23</td>\n",
       "      <td>8908.61</td>\n",
       "      <td>NaN</td>\n",
       "      <td>63</td>\n",
       "      <td>519</td>\n",
       "      <td>23</td>\n",
       "      <td>20085.2</td>\n",
       "      <td>NaN</td>\n",
       "      <td>79</td>\n",
       "      <td>614</td>\n",
       "      <td>26</td>\n",
       "      <td>30960.95</td>\n",
       "      <td>NaN</td>\n",
       "      <td>59</td>\n",
       "      <td>493</td>\n",
       "      <td>30</td>\n",
       "      <td>23851.24</td>\n",
       "      <td>NaN</td>\n",
       "      <td>50</td>\n",
       "      <td>431</td>\n",
       "      <td>30</td>\n",
       "      <td>23429.34</td>\n",
       "      <td>NaN</td>\n",
       "      <td>69</td>\n",
       "      <td>648</td>\n",
       "      <td>34</td>\n",
       "      <td>24669.37</td>\n",
       "      <td>NaN</td>\n",
       "      <td>67</td>\n",
       "      <td>565</td>\n",
       "      <td>28</td>\n",
       "      <td>19610.06</td>\n",
       "      <td>NaN</td>\n",
       "      <td>71</td>\n",
       "      <td>596</td>\n",
       "      <td>27</td>\n",
       "      <td>30549.10</td>\n",
       "      <td>NaN</td>\n",
       "      <td>60</td>\n",
       "      <td>563</td>\n",
       "      <td>29</td>\n",
       "      <td>20113.60</td>\n",
       "      <td>NaN</td>\n",
       "      <td>60</td>\n",
       "      <td>512</td>\n",
       "      <td>36</td>\n",
       "      <td>25503.59</td>\n",
       "      <td>NaN</td>\n",
       "      <td>65</td>\n",
       "      <td>583</td>\n",
       "      <td>31</td>\n",
       "      <td>18562.12</td>\n",
       "      <td>NaN</td>\n",
       "      <td>75</td>\n",
       "      <td>731</td>\n",
       "      <td>24</td>\n",
       "      <td>19500.88</td>\n",
       "      <td>NaN</td>\n",
       "    </tr>\n",
       "    <tr>\n",
       "      <th>1391</th>\n",
       "      <td>0</td>\n",
       "      <td>0</td>\n",
       "      <td>0</td>\n",
       "      <td>0.00</td>\n",
       "      <td>NaN</td>\n",
       "      <td>0</td>\n",
       "      <td>0</td>\n",
       "      <td>0</td>\n",
       "      <td>0.0</td>\n",
       "      <td>NaN</td>\n",
       "      <td>0</td>\n",
       "      <td>0</td>\n",
       "      <td>0</td>\n",
       "      <td>0.00</td>\n",
       "      <td>NaN</td>\n",
       "      <td>0</td>\n",
       "      <td>0</td>\n",
       "      <td>0</td>\n",
       "      <td>0.00</td>\n",
       "      <td>NaN</td>\n",
       "      <td>0</td>\n",
       "      <td>0</td>\n",
       "      <td>0</td>\n",
       "      <td>0.00</td>\n",
       "      <td>NaN</td>\n",
       "      <td>0</td>\n",
       "      <td>0</td>\n",
       "      <td>0</td>\n",
       "      <td>0.00</td>\n",
       "      <td>NaN</td>\n",
       "      <td>0</td>\n",
       "      <td>0</td>\n",
       "      <td>0</td>\n",
       "      <td>0.00</td>\n",
       "      <td>NaN</td>\n",
       "      <td>0</td>\n",
       "      <td>0</td>\n",
       "      <td>0</td>\n",
       "      <td>0.00</td>\n",
       "      <td>NaN</td>\n",
       "      <td>45</td>\n",
       "      <td>392</td>\n",
       "      <td>24</td>\n",
       "      <td>9530.32</td>\n",
       "      <td>NaN</td>\n",
       "      <td>74</td>\n",
       "      <td>666</td>\n",
       "      <td>31</td>\n",
       "      <td>16096.48</td>\n",
       "      <td>NaN</td>\n",
       "      <td>60</td>\n",
       "      <td>619</td>\n",
       "      <td>34</td>\n",
       "      <td>17904.50</td>\n",
       "      <td>NaN</td>\n",
       "      <td>51</td>\n",
       "      <td>431</td>\n",
       "      <td>32</td>\n",
       "      <td>17510.47</td>\n",
       "      <td>NaN</td>\n",
       "    </tr>\n",
       "    <tr>\n",
       "      <th>1126</th>\n",
       "      <td>0</td>\n",
       "      <td>0</td>\n",
       "      <td>0</td>\n",
       "      <td>0.00</td>\n",
       "      <td>NaN</td>\n",
       "      <td>0</td>\n",
       "      <td>0</td>\n",
       "      <td>0</td>\n",
       "      <td>0.0</td>\n",
       "      <td>NaN</td>\n",
       "      <td>0</td>\n",
       "      <td>0</td>\n",
       "      <td>0</td>\n",
       "      <td>0.00</td>\n",
       "      <td>NaN</td>\n",
       "      <td>0</td>\n",
       "      <td>0</td>\n",
       "      <td>0</td>\n",
       "      <td>0.00</td>\n",
       "      <td>NaN</td>\n",
       "      <td>0</td>\n",
       "      <td>0</td>\n",
       "      <td>0</td>\n",
       "      <td>0.00</td>\n",
       "      <td>NaN</td>\n",
       "      <td>91</td>\n",
       "      <td>797</td>\n",
       "      <td>78</td>\n",
       "      <td>27575.54</td>\n",
       "      <td>NaN</td>\n",
       "      <td>102</td>\n",
       "      <td>951</td>\n",
       "      <td>94</td>\n",
       "      <td>25768.85</td>\n",
       "      <td>NaN</td>\n",
       "      <td>99</td>\n",
       "      <td>953</td>\n",
       "      <td>88</td>\n",
       "      <td>34307.16</td>\n",
       "      <td>NaN</td>\n",
       "      <td>89</td>\n",
       "      <td>756</td>\n",
       "      <td>74</td>\n",
       "      <td>28196.33</td>\n",
       "      <td>NaN</td>\n",
       "      <td>95</td>\n",
       "      <td>905</td>\n",
       "      <td>86</td>\n",
       "      <td>24840.64</td>\n",
       "      <td>NaN</td>\n",
       "      <td>120</td>\n",
       "      <td>1037</td>\n",
       "      <td>72</td>\n",
       "      <td>20906.16</td>\n",
       "      <td>NaN</td>\n",
       "      <td>86</td>\n",
       "      <td>753</td>\n",
       "      <td>77</td>\n",
       "      <td>22134.66</td>\n",
       "      <td>NaN</td>\n",
       "    </tr>\n",
       "    <tr>\n",
       "      <th>1352</th>\n",
       "      <td>0</td>\n",
       "      <td>0</td>\n",
       "      <td>0</td>\n",
       "      <td>0.00</td>\n",
       "      <td>NaN</td>\n",
       "      <td>0</td>\n",
       "      <td>0</td>\n",
       "      <td>0</td>\n",
       "      <td>0.0</td>\n",
       "      <td>NaN</td>\n",
       "      <td>0</td>\n",
       "      <td>0</td>\n",
       "      <td>0</td>\n",
       "      <td>0.00</td>\n",
       "      <td>NaN</td>\n",
       "      <td>0</td>\n",
       "      <td>0</td>\n",
       "      <td>0</td>\n",
       "      <td>0.00</td>\n",
       "      <td>NaN</td>\n",
       "      <td>0</td>\n",
       "      <td>0</td>\n",
       "      <td>0</td>\n",
       "      <td>0.00</td>\n",
       "      <td>NaN</td>\n",
       "      <td>0</td>\n",
       "      <td>0</td>\n",
       "      <td>0</td>\n",
       "      <td>0.00</td>\n",
       "      <td>NaN</td>\n",
       "      <td>0</td>\n",
       "      <td>0</td>\n",
       "      <td>0</td>\n",
       "      <td>0.00</td>\n",
       "      <td>NaN</td>\n",
       "      <td>0</td>\n",
       "      <td>0</td>\n",
       "      <td>0</td>\n",
       "      <td>0.00</td>\n",
       "      <td>NaN</td>\n",
       "      <td>71</td>\n",
       "      <td>602</td>\n",
       "      <td>29</td>\n",
       "      <td>13135.20</td>\n",
       "      <td>NaN</td>\n",
       "      <td>75</td>\n",
       "      <td>618</td>\n",
       "      <td>42</td>\n",
       "      <td>16150.11</td>\n",
       "      <td>NaN</td>\n",
       "      <td>78</td>\n",
       "      <td>692</td>\n",
       "      <td>49</td>\n",
       "      <td>11790.11</td>\n",
       "      <td>NaN</td>\n",
       "      <td>79</td>\n",
       "      <td>679</td>\n",
       "      <td>37</td>\n",
       "      <td>17506.18</td>\n",
       "      <td>NaN</td>\n",
       "    </tr>\n",
       "    <tr>\n",
       "      <th>1258</th>\n",
       "      <td>0</td>\n",
       "      <td>0</td>\n",
       "      <td>0</td>\n",
       "      <td>0.00</td>\n",
       "      <td>NaN</td>\n",
       "      <td>0</td>\n",
       "      <td>0</td>\n",
       "      <td>0</td>\n",
       "      <td>0.0</td>\n",
       "      <td>NaN</td>\n",
       "      <td>0</td>\n",
       "      <td>0</td>\n",
       "      <td>0</td>\n",
       "      <td>0.00</td>\n",
       "      <td>NaN</td>\n",
       "      <td>0</td>\n",
       "      <td>0</td>\n",
       "      <td>0</td>\n",
       "      <td>0.00</td>\n",
       "      <td>NaN</td>\n",
       "      <td>0</td>\n",
       "      <td>0</td>\n",
       "      <td>0</td>\n",
       "      <td>0.00</td>\n",
       "      <td>NaN</td>\n",
       "      <td>0</td>\n",
       "      <td>0</td>\n",
       "      <td>0</td>\n",
       "      <td>0.00</td>\n",
       "      <td>NaN</td>\n",
       "      <td>4</td>\n",
       "      <td>27</td>\n",
       "      <td>31</td>\n",
       "      <td>15041.36</td>\n",
       "      <td>NaN</td>\n",
       "      <td>5</td>\n",
       "      <td>34</td>\n",
       "      <td>45</td>\n",
       "      <td>19853.09</td>\n",
       "      <td>NaN</td>\n",
       "      <td>5</td>\n",
       "      <td>42</td>\n",
       "      <td>49</td>\n",
       "      <td>19041.96</td>\n",
       "      <td>NaN</td>\n",
       "      <td>11</td>\n",
       "      <td>117</td>\n",
       "      <td>55</td>\n",
       "      <td>18282.69</td>\n",
       "      <td>NaN</td>\n",
       "      <td>4</td>\n",
       "      <td>32</td>\n",
       "      <td>48</td>\n",
       "      <td>21419.19</td>\n",
       "      <td>NaN</td>\n",
       "      <td>15</td>\n",
       "      <td>133</td>\n",
       "      <td>49</td>\n",
       "      <td>24029.00</td>\n",
       "      <td>NaN</td>\n",
       "    </tr>\n",
       "    <tr>\n",
       "      <th>1087</th>\n",
       "      <td>0</td>\n",
       "      <td>0</td>\n",
       "      <td>0</td>\n",
       "      <td>0.00</td>\n",
       "      <td>NaN</td>\n",
       "      <td>0</td>\n",
       "      <td>0</td>\n",
       "      <td>0</td>\n",
       "      <td>0.0</td>\n",
       "      <td>NaN</td>\n",
       "      <td>0</td>\n",
       "      <td>0</td>\n",
       "      <td>0</td>\n",
       "      <td>0.00</td>\n",
       "      <td>NaN</td>\n",
       "      <td>0</td>\n",
       "      <td>0</td>\n",
       "      <td>0</td>\n",
       "      <td>0.00</td>\n",
       "      <td>NaN</td>\n",
       "      <td>0</td>\n",
       "      <td>0</td>\n",
       "      <td>0</td>\n",
       "      <td>0.00</td>\n",
       "      <td>NaN</td>\n",
       "      <td>0</td>\n",
       "      <td>0</td>\n",
       "      <td>0</td>\n",
       "      <td>0.00</td>\n",
       "      <td>NaN</td>\n",
       "      <td>0</td>\n",
       "      <td>0</td>\n",
       "      <td>0</td>\n",
       "      <td>0.00</td>\n",
       "      <td>NaN</td>\n",
       "      <td>0</td>\n",
       "      <td>0</td>\n",
       "      <td>0</td>\n",
       "      <td>0.00</td>\n",
       "      <td>NaN</td>\n",
       "      <td>0</td>\n",
       "      <td>0</td>\n",
       "      <td>0</td>\n",
       "      <td>0.00</td>\n",
       "      <td>NaN</td>\n",
       "      <td>0</td>\n",
       "      <td>0</td>\n",
       "      <td>0</td>\n",
       "      <td>0.00</td>\n",
       "      <td>NaN</td>\n",
       "      <td>16</td>\n",
       "      <td>170</td>\n",
       "      <td>18</td>\n",
       "      <td>6787.43</td>\n",
       "      <td>NaN</td>\n",
       "      <td>44</td>\n",
       "      <td>412</td>\n",
       "      <td>47</td>\n",
       "      <td>12425.47</td>\n",
       "      <td>NaN</td>\n",
       "    </tr>\n",
       "    <tr>\n",
       "      <th>1405</th>\n",
       "      <td>0</td>\n",
       "      <td>0</td>\n",
       "      <td>0</td>\n",
       "      <td>0.00</td>\n",
       "      <td>NaN</td>\n",
       "      <td>0</td>\n",
       "      <td>0</td>\n",
       "      <td>0</td>\n",
       "      <td>0.0</td>\n",
       "      <td>NaN</td>\n",
       "      <td>0</td>\n",
       "      <td>0</td>\n",
       "      <td>0</td>\n",
       "      <td>0.00</td>\n",
       "      <td>NaN</td>\n",
       "      <td>0</td>\n",
       "      <td>0</td>\n",
       "      <td>0</td>\n",
       "      <td>0.00</td>\n",
       "      <td>NaN</td>\n",
       "      <td>0</td>\n",
       "      <td>0</td>\n",
       "      <td>0</td>\n",
       "      <td>0.00</td>\n",
       "      <td>NaN</td>\n",
       "      <td>10</td>\n",
       "      <td>101</td>\n",
       "      <td>24</td>\n",
       "      <td>5066.43</td>\n",
       "      <td>NaN</td>\n",
       "      <td>18</td>\n",
       "      <td>185</td>\n",
       "      <td>59</td>\n",
       "      <td>15911.35</td>\n",
       "      <td>NaN</td>\n",
       "      <td>18</td>\n",
       "      <td>119</td>\n",
       "      <td>68</td>\n",
       "      <td>22922.89</td>\n",
       "      <td>NaN</td>\n",
       "      <td>20</td>\n",
       "      <td>166</td>\n",
       "      <td>61</td>\n",
       "      <td>17472.55</td>\n",
       "      <td>NaN</td>\n",
       "      <td>21</td>\n",
       "      <td>185</td>\n",
       "      <td>78</td>\n",
       "      <td>18971.88</td>\n",
       "      <td>NaN</td>\n",
       "      <td>21</td>\n",
       "      <td>165</td>\n",
       "      <td>76</td>\n",
       "      <td>20133.35</td>\n",
       "      <td>NaN</td>\n",
       "      <td>17</td>\n",
       "      <td>143</td>\n",
       "      <td>68</td>\n",
       "      <td>13959.07</td>\n",
       "      <td>NaN</td>\n",
       "    </tr>\n",
       "    <tr>\n",
       "      <th>1047</th>\n",
       "      <td>0</td>\n",
       "      <td>0</td>\n",
       "      <td>0</td>\n",
       "      <td>0.00</td>\n",
       "      <td>NaN</td>\n",
       "      <td>0</td>\n",
       "      <td>0</td>\n",
       "      <td>0</td>\n",
       "      <td>0.0</td>\n",
       "      <td>NaN</td>\n",
       "      <td>0</td>\n",
       "      <td>0</td>\n",
       "      <td>0</td>\n",
       "      <td>0.00</td>\n",
       "      <td>NaN</td>\n",
       "      <td>0</td>\n",
       "      <td>0</td>\n",
       "      <td>0</td>\n",
       "      <td>0.00</td>\n",
       "      <td>NaN</td>\n",
       "      <td>0</td>\n",
       "      <td>0</td>\n",
       "      <td>0</td>\n",
       "      <td>0.00</td>\n",
       "      <td>NaN</td>\n",
       "      <td>0</td>\n",
       "      <td>0</td>\n",
       "      <td>0</td>\n",
       "      <td>0.00</td>\n",
       "      <td>NaN</td>\n",
       "      <td>0</td>\n",
       "      <td>0</td>\n",
       "      <td>0</td>\n",
       "      <td>0.00</td>\n",
       "      <td>NaN</td>\n",
       "      <td>0</td>\n",
       "      <td>0</td>\n",
       "      <td>0</td>\n",
       "      <td>0.00</td>\n",
       "      <td>NaN</td>\n",
       "      <td>0</td>\n",
       "      <td>0</td>\n",
       "      <td>0</td>\n",
       "      <td>0.00</td>\n",
       "      <td>NaN</td>\n",
       "      <td>0</td>\n",
       "      <td>0</td>\n",
       "      <td>0</td>\n",
       "      <td>0.00</td>\n",
       "      <td>NaN</td>\n",
       "      <td>0</td>\n",
       "      <td>0</td>\n",
       "      <td>0</td>\n",
       "      <td>0.00</td>\n",
       "      <td>NaN</td>\n",
       "      <td>39</td>\n",
       "      <td>369</td>\n",
       "      <td>7</td>\n",
       "      <td>17146.80</td>\n",
       "      <td>NaN</td>\n",
       "    </tr>\n",
       "    <tr>\n",
       "      <th>1450</th>\n",
       "      <td>0</td>\n",
       "      <td>0</td>\n",
       "      <td>0</td>\n",
       "      <td>0.00</td>\n",
       "      <td>NaN</td>\n",
       "      <td>0</td>\n",
       "      <td>0</td>\n",
       "      <td>0</td>\n",
       "      <td>0.0</td>\n",
       "      <td>NaN</td>\n",
       "      <td>0</td>\n",
       "      <td>0</td>\n",
       "      <td>0</td>\n",
       "      <td>0.00</td>\n",
       "      <td>NaN</td>\n",
       "      <td>0</td>\n",
       "      <td>0</td>\n",
       "      <td>0</td>\n",
       "      <td>0.00</td>\n",
       "      <td>NaN</td>\n",
       "      <td>0</td>\n",
       "      <td>0</td>\n",
       "      <td>0</td>\n",
       "      <td>0.00</td>\n",
       "      <td>NaN</td>\n",
       "      <td>0</td>\n",
       "      <td>0</td>\n",
       "      <td>0</td>\n",
       "      <td>0.00</td>\n",
       "      <td>NaN</td>\n",
       "      <td>0</td>\n",
       "      <td>0</td>\n",
       "      <td>0</td>\n",
       "      <td>0.00</td>\n",
       "      <td>NaN</td>\n",
       "      <td>0</td>\n",
       "      <td>0</td>\n",
       "      <td>0</td>\n",
       "      <td>0.00</td>\n",
       "      <td>NaN</td>\n",
       "      <td>0</td>\n",
       "      <td>0</td>\n",
       "      <td>0</td>\n",
       "      <td>0.00</td>\n",
       "      <td>NaN</td>\n",
       "      <td>0</td>\n",
       "      <td>0</td>\n",
       "      <td>0</td>\n",
       "      <td>0.00</td>\n",
       "      <td>NaN</td>\n",
       "      <td>0</td>\n",
       "      <td>0</td>\n",
       "      <td>0</td>\n",
       "      <td>0.00</td>\n",
       "      <td>NaN</td>\n",
       "      <td>78</td>\n",
       "      <td>688</td>\n",
       "      <td>82</td>\n",
       "      <td>17492.24</td>\n",
       "      <td>NaN</td>\n",
       "    </tr>\n",
       "  </tbody>\n",
       "</table>\n",
       "</div>"
      ],
      "text/plain": [
       "             1                                          2                     \\\n",
       "        n_calls n_mins n_messages    n_mbs revenue n_calls n_mins n_messages   \n",
       "user_id                                                                        \n",
       "1183          0      0          0     0.00     NaN       0      0          0   \n",
       "1196         32    287         23  8908.61     NaN      63    519         23   \n",
       "1391          0      0          0     0.00     NaN       0      0          0   \n",
       "1126          0      0          0     0.00     NaN       0      0          0   \n",
       "1352          0      0          0     0.00     NaN       0      0          0   \n",
       "1258          0      0          0     0.00     NaN       0      0          0   \n",
       "1087          0      0          0     0.00     NaN       0      0          0   \n",
       "1405          0      0          0     0.00     NaN       0      0          0   \n",
       "1047          0      0          0     0.00     NaN       0      0          0   \n",
       "1450          0      0          0     0.00     NaN       0      0          0   \n",
       "\n",
       "                              3                                           4   \\\n",
       "           n_mbs revenue n_calls n_mins n_messages     n_mbs revenue n_calls   \n",
       "user_id                                                                        \n",
       "1183         0.0     NaN       0      0          0      0.00     NaN       0   \n",
       "1196     20085.2     NaN      79    614         26  30960.95     NaN      59   \n",
       "1391         0.0     NaN       0      0          0      0.00     NaN       0   \n",
       "1126         0.0     NaN       0      0          0      0.00     NaN       0   \n",
       "1352         0.0     NaN       0      0          0      0.00     NaN       0   \n",
       "1258         0.0     NaN       0      0          0      0.00     NaN       0   \n",
       "1087         0.0     NaN       0      0          0      0.00     NaN       0   \n",
       "1405         0.0     NaN       0      0          0      0.00     NaN       0   \n",
       "1047         0.0     NaN       0      0          0      0.00     NaN       0   \n",
       "1450         0.0     NaN       0      0          0      0.00     NaN       0   \n",
       "\n",
       "                                                 5                     \\\n",
       "        n_mins n_messages     n_mbs revenue n_calls n_mins n_messages   \n",
       "user_id                                                                 \n",
       "1183         0          0      0.00     NaN       0      0          0   \n",
       "1196       493         30  23851.24     NaN      50    431         30   \n",
       "1391         0          0      0.00     NaN       0      0          0   \n",
       "1126         0          0      0.00     NaN       0      0          0   \n",
       "1352         0          0      0.00     NaN       0      0          0   \n",
       "1258         0          0      0.00     NaN       0      0          0   \n",
       "1087         0          0      0.00     NaN       0      0          0   \n",
       "1405         0          0      0.00     NaN       0      0          0   \n",
       "1047         0          0      0.00     NaN       0      0          0   \n",
       "1450         0          0      0.00     NaN       0      0          0   \n",
       "\n",
       "                               6                                           7   \\\n",
       "            n_mbs revenue n_calls n_mins n_messages     n_mbs revenue n_calls   \n",
       "user_id                                                                         \n",
       "1183         0.00     NaN       0      0          0      0.00     NaN       0   \n",
       "1196     23429.34     NaN      69    648         34  24669.37     NaN      67   \n",
       "1391         0.00     NaN       0      0          0      0.00     NaN       0   \n",
       "1126         0.00     NaN      91    797         78  27575.54     NaN     102   \n",
       "1352         0.00     NaN       0      0          0      0.00     NaN       0   \n",
       "1258         0.00     NaN       0      0          0      0.00     NaN       4   \n",
       "1087         0.00     NaN       0      0          0      0.00     NaN       0   \n",
       "1405         0.00     NaN      10    101         24   5066.43     NaN      18   \n",
       "1047         0.00     NaN       0      0          0      0.00     NaN       0   \n",
       "1450         0.00     NaN       0      0          0      0.00     NaN       0   \n",
       "\n",
       "                                                 8                     \\\n",
       "        n_mins n_messages     n_mbs revenue n_calls n_mins n_messages   \n",
       "user_id                                                                 \n",
       "1183         0          0      0.00     NaN       0      0          0   \n",
       "1196       565         28  19610.06     NaN      71    596         27   \n",
       "1391         0          0      0.00     NaN       0      0          0   \n",
       "1126       951         94  25768.85     NaN      99    953         88   \n",
       "1352         0          0      0.00     NaN       0      0          0   \n",
       "1258        27         31  15041.36     NaN       5     34         45   \n",
       "1087         0          0      0.00     NaN       0      0          0   \n",
       "1405       185         59  15911.35     NaN      18    119         68   \n",
       "1047         0          0      0.00     NaN       0      0          0   \n",
       "1450         0          0      0.00     NaN       0      0          0   \n",
       "\n",
       "                               9                                           10  \\\n",
       "            n_mbs revenue n_calls n_mins n_messages     n_mbs revenue n_calls   \n",
       "user_id                                                                         \n",
       "1183         0.00     NaN       0      0          0      0.00     NaN      21   \n",
       "1196     30549.10     NaN      60    563         29  20113.60     NaN      60   \n",
       "1391         0.00     NaN      45    392         24   9530.32     NaN      74   \n",
       "1126     34307.16     NaN      89    756         74  28196.33     NaN      95   \n",
       "1352         0.00     NaN      71    602         29  13135.20     NaN      75   \n",
       "1258     19853.09     NaN       5     42         49  19041.96     NaN      11   \n",
       "1087         0.00     NaN       0      0          0      0.00     NaN       0   \n",
       "1405     22922.89     NaN      20    166         61  17472.55     NaN      21   \n",
       "1047         0.00     NaN       0      0          0      0.00     NaN       0   \n",
       "1450         0.00     NaN       0      0          0      0.00     NaN       0   \n",
       "\n",
       "                                                 11                    \\\n",
       "        n_mins n_messages     n_mbs revenue n_calls n_mins n_messages   \n",
       "user_id                                                                 \n",
       "1183       177         33   6980.78     NaN      78    677        107   \n",
       "1196       512         36  25503.59     NaN      65    583         31   \n",
       "1391       666         31  16096.48     NaN      60    619         34   \n",
       "1126       905         86  24840.64     NaN     120   1037         72   \n",
       "1352       618         42  16150.11     NaN      78    692         49   \n",
       "1258       117         55  18282.69     NaN       4     32         48   \n",
       "1087         0          0      0.00     NaN      16    170         18   \n",
       "1405       185         78  18971.88     NaN      21    165         76   \n",
       "1047         0          0      0.00     NaN       0      0          0   \n",
       "1450         0          0      0.00     NaN       0      0          0   \n",
       "\n",
       "                               12                                      \n",
       "            n_mbs revenue n_calls n_mins n_messages     n_mbs revenue  \n",
       "user_id                                                                \n",
       "1183     18159.74     NaN      74    596         97  20848.36     NaN  \n",
       "1196     18562.12     NaN      75    731         24  19500.88     NaN  \n",
       "1391     17904.50     NaN      51    431         32  17510.47     NaN  \n",
       "1126     20906.16     NaN      86    753         77  22134.66     NaN  \n",
       "1352     11790.11     NaN      79    679         37  17506.18     NaN  \n",
       "1258     21419.19     NaN      15    133         49  24029.00     NaN  \n",
       "1087      6787.43     NaN      44    412         47  12425.47     NaN  \n",
       "1405     20133.35     NaN      17    143         68  13959.07     NaN  \n",
       "1047         0.00     NaN      39    369          7  17146.80     NaN  \n",
       "1450         0.00     NaN      78    688         82  17492.24     NaN  "
      ]
     },
     "execution_count": 36,
     "metadata": {},
     "output_type": "execute_result"
    }
   ],
   "source": [
    "# Merging the data for calls, minutes, messages, internet based on user_id and month\n",
    "mux = pd.MultiIndex.from_product([list(range(1,13)), ['n_calls','n_mins', 'n_messages', 'n_mbs', 'revenue']])\n",
    "\n",
    "agg_df = pd.DataFrame(columns = mux)\n",
    "agg_df['user_id'] = users_df['user_id']\n",
    "agg_df.set_index('user_id', inplace = True)\n",
    "\n",
    "\n",
    "\n",
    "df_dict = {'n_calls': calls_per_user, 'n_mins' : minutes_per_user, 'n_messages' : messages_per_user, 'n_mbs' : mb_per_user}\n",
    "\n",
    "for month in list(range(1,13)):\n",
    "    for col in ['n_calls','n_mins', 'n_messages', 'n_mbs']:\n",
    "        agg_df.loc[:, (month, col)] = df_dict[col][month] \n",
    "\n",
    "\n",
    "\n",
    "agg_df.sample(10)"
   ]
  },
  {
   "cell_type": "markdown",
   "metadata": {},
   "source": [
    "### Removing data for 'non-full' months\n"
   ]
  },
  {
   "cell_type": "markdown",
   "metadata": {},
   "source": [
    "We do actually need some null values, a '0' for a user who had started a plan means something different to a '0' for a user who was yet to start a plan. \n",
    "\n",
    "The day within the month the user signed up also matters. A user who has only had an active plan for 5 days and used 5GB of data should be treated differently to a user who used 10GB in a whole month.\n",
    "\n",
    "To improve analysis we will only use data from whole months of usage, i.e the start date is before or on the first of the month and the churn_date (if any) is on or after the last of the month.\n",
    "\n",
    "\n",
    "We can find these using the `first_month` and `last_month` columns we added to user_df.\n",
    "\n",
    "We'll replace values before the start month and after the last month with NaN.\n",
    "\n",
    "\n"
   ]
  },
  {
   "cell_type": "code",
   "execution_count": 37,
   "metadata": {},
   "outputs": [],
   "source": [
    "#inserting null values before the start date and after the end date.\n",
    "\n",
    "for user in users_df['user_id'].unique():\n",
    "    first_month = int(users_df.loc[users_df.user_id == user, 'first_month'])\n",
    "    last_month = int(users_df.loc[users_df.user_id == user, 'last_month'])\n",
    "    \n",
    "    \n",
    "    for i in range(1,first_month):\n",
    "        agg_df.loc[user, i] = np.nan\n",
    "    \n",
    "    if last_month < 12:\n",
    "        for j in range(last_month + 1, 13):\n",
    "            agg_df.loc[user, j] = np.nan\n"
   ]
  },
  {
   "cell_type": "markdown",
   "metadata": {},
   "source": [
    "## Calculating revenue\n",
    "\n",
    "We will first need to add the users plan type to our aggregated df.\n",
    "\n",
    "\n",
    "Using that information we can check users' minutes used, messages sent and megabytes used, then see if these are greater than what is included in their plans. If they went over, we can calculate the additonal revenue."
   ]
  },
  {
   "cell_type": "code",
   "execution_count": 38,
   "metadata": {},
   "outputs": [],
   "source": [
    "#adding plan to aggregated df\n",
    "for user in users_df['user_id'].unique():\n",
    "    agg_df.loc[agg_df.index == user, 'plan'] = users_df.loc[users_df.user_id == user, 'plan'].item()\n",
    "    \n",
    "#users_df.loc[users_df.user_id == user, 'plan']"
   ]
  },
  {
   "cell_type": "code",
   "execution_count": 39,
   "metadata": {},
   "outputs": [],
   "source": [
    "# Calculating the monthly revenue for each user\n",
    "\n",
    "basic_cost = {'ultimate': 70, 'surf': 20}\n",
    "\n",
    "plan_allowance = {'ultimate': {'mbs': 30720, 'mins' : 3000, 'msgs': 1000}, \n",
    "                 'surf': {'mbs': 15360, 'mins' : 500, 'msgs': 50}}\n",
    "plan_extras = {'ultimate': {'gbs' : 7, 'mins': 0.01, 'msgs': 0.01},\n",
    "               'surf': {'gbs' : 10, 'mins': 0.03, 'msgs': 0.03}}\n",
    "               \n",
    "\n",
    "               \n",
    "for user in users_df['user_id'].unique():\n",
    "    plan = agg_df.loc[user, 'plan'].item()\n",
    "               \n",
    "    for month in range(1,13):\n",
    "        entry = agg_df.loc[user, month]\n",
    "        \n",
    "        #if any of mins, msgs, mbs is nan, users were not signed for that full month, therefore revenue is nan\n",
    "        if True in np.isnan(list(entry)[:-1]):\n",
    "            \n",
    "            agg_df.loc[user, (month, 'revenue')] = np.nan\n",
    "            \n",
    "        else:\n",
    "            cost = 0\n",
    "\n",
    "            #adding base cost\n",
    "            cost += basic_cost[plan]\n",
    "            \n",
    "            #checking internet usage\n",
    "            \n",
    "            used_mb = entry['n_mbs']\n",
    "            allowed_mb = plan_allowance[plan]['mbs']\n",
    "\n",
    "            if  used_mb > allowed_mb:\n",
    "                   #excess is rounded up to the nearest Gb\n",
    "                excess = math.ceil((used_mb - allowed_mb)/1024)\n",
    "\n",
    "                cost += (excess * plan_extras[plan]['gbs'])\n",
    "            \n",
    "            #checking minutes used\n",
    "            \n",
    "            used_mins = entry['n_mins']\n",
    "            allowed_mins = plan_allowance[plan]['mins']\n",
    "\n",
    "            if used_mins > allowed_mins:\n",
    "                excess = used_mins - allowed_mins\n",
    "\n",
    "                cost+= excess * plan_extras[plan]['mins']\n",
    "\n",
    "            #checking messages used\n",
    "            \n",
    "            used_msgs = entry['n_messages']      \n",
    "            allowed_msgs = plan_allowance[plan]['msgs']\n",
    "\n",
    "\n",
    "            if used_msgs > allowed_msgs:\n",
    "                excess = used_msgs- allowed_msgs\n",
    "\n",
    "                cost+= excess * plan_extras[plan]['msgs']\n",
    "\n",
    "            #adding monthly revenue to dataframe\n",
    "            agg_df.loc[user, (month, 'revenue')] = cost       \n",
    "\n",
    "               \n",
    "    \n",
    "               \n",
    "               \n"
   ]
  },
  {
   "cell_type": "code",
   "execution_count": 40,
   "metadata": {
    "scrolled": true
   },
   "outputs": [
    {
     "data": {
      "text/html": [
       "<div>\n",
       "<style scoped>\n",
       "    .dataframe tbody tr th:only-of-type {\n",
       "        vertical-align: middle;\n",
       "    }\n",
       "\n",
       "    .dataframe tbody tr th {\n",
       "        vertical-align: top;\n",
       "    }\n",
       "\n",
       "    .dataframe thead tr th {\n",
       "        text-align: left;\n",
       "    }\n",
       "\n",
       "    .dataframe thead tr:last-of-type th {\n",
       "        text-align: right;\n",
       "    }\n",
       "</style>\n",
       "<table border=\"1\" class=\"dataframe\">\n",
       "  <thead>\n",
       "    <tr>\n",
       "      <th></th>\n",
       "      <th colspan=\"5\" halign=\"left\">1</th>\n",
       "      <th colspan=\"5\" halign=\"left\">2</th>\n",
       "      <th colspan=\"5\" halign=\"left\">3</th>\n",
       "      <th colspan=\"5\" halign=\"left\">4</th>\n",
       "      <th colspan=\"5\" halign=\"left\">5</th>\n",
       "      <th colspan=\"5\" halign=\"left\">6</th>\n",
       "      <th colspan=\"5\" halign=\"left\">7</th>\n",
       "      <th colspan=\"5\" halign=\"left\">8</th>\n",
       "      <th colspan=\"5\" halign=\"left\">9</th>\n",
       "      <th colspan=\"5\" halign=\"left\">10</th>\n",
       "      <th colspan=\"5\" halign=\"left\">11</th>\n",
       "      <th colspan=\"5\" halign=\"left\">12</th>\n",
       "      <th>plan</th>\n",
       "    </tr>\n",
       "    <tr>\n",
       "      <th></th>\n",
       "      <th>n_calls</th>\n",
       "      <th>n_mins</th>\n",
       "      <th>n_messages</th>\n",
       "      <th>n_mbs</th>\n",
       "      <th>revenue</th>\n",
       "      <th>n_calls</th>\n",
       "      <th>n_mins</th>\n",
       "      <th>n_messages</th>\n",
       "      <th>n_mbs</th>\n",
       "      <th>revenue</th>\n",
       "      <th>n_calls</th>\n",
       "      <th>n_mins</th>\n",
       "      <th>n_messages</th>\n",
       "      <th>n_mbs</th>\n",
       "      <th>revenue</th>\n",
       "      <th>n_calls</th>\n",
       "      <th>n_mins</th>\n",
       "      <th>n_messages</th>\n",
       "      <th>n_mbs</th>\n",
       "      <th>revenue</th>\n",
       "      <th>n_calls</th>\n",
       "      <th>n_mins</th>\n",
       "      <th>n_messages</th>\n",
       "      <th>n_mbs</th>\n",
       "      <th>revenue</th>\n",
       "      <th>n_calls</th>\n",
       "      <th>n_mins</th>\n",
       "      <th>n_messages</th>\n",
       "      <th>n_mbs</th>\n",
       "      <th>revenue</th>\n",
       "      <th>n_calls</th>\n",
       "      <th>n_mins</th>\n",
       "      <th>n_messages</th>\n",
       "      <th>n_mbs</th>\n",
       "      <th>revenue</th>\n",
       "      <th>n_calls</th>\n",
       "      <th>n_mins</th>\n",
       "      <th>n_messages</th>\n",
       "      <th>n_mbs</th>\n",
       "      <th>revenue</th>\n",
       "      <th>n_calls</th>\n",
       "      <th>n_mins</th>\n",
       "      <th>n_messages</th>\n",
       "      <th>n_mbs</th>\n",
       "      <th>revenue</th>\n",
       "      <th>n_calls</th>\n",
       "      <th>n_mins</th>\n",
       "      <th>n_messages</th>\n",
       "      <th>n_mbs</th>\n",
       "      <th>revenue</th>\n",
       "      <th>n_calls</th>\n",
       "      <th>n_mins</th>\n",
       "      <th>n_messages</th>\n",
       "      <th>n_mbs</th>\n",
       "      <th>revenue</th>\n",
       "      <th>n_calls</th>\n",
       "      <th>n_mins</th>\n",
       "      <th>n_messages</th>\n",
       "      <th>n_mbs</th>\n",
       "      <th>revenue</th>\n",
       "      <th></th>\n",
       "    </tr>\n",
       "    <tr>\n",
       "      <th>user_id</th>\n",
       "      <th></th>\n",
       "      <th></th>\n",
       "      <th></th>\n",
       "      <th></th>\n",
       "      <th></th>\n",
       "      <th></th>\n",
       "      <th></th>\n",
       "      <th></th>\n",
       "      <th></th>\n",
       "      <th></th>\n",
       "      <th></th>\n",
       "      <th></th>\n",
       "      <th></th>\n",
       "      <th></th>\n",
       "      <th></th>\n",
       "      <th></th>\n",
       "      <th></th>\n",
       "      <th></th>\n",
       "      <th></th>\n",
       "      <th></th>\n",
       "      <th></th>\n",
       "      <th></th>\n",
       "      <th></th>\n",
       "      <th></th>\n",
       "      <th></th>\n",
       "      <th></th>\n",
       "      <th></th>\n",
       "      <th></th>\n",
       "      <th></th>\n",
       "      <th></th>\n",
       "      <th></th>\n",
       "      <th></th>\n",
       "      <th></th>\n",
       "      <th></th>\n",
       "      <th></th>\n",
       "      <th></th>\n",
       "      <th></th>\n",
       "      <th></th>\n",
       "      <th></th>\n",
       "      <th></th>\n",
       "      <th></th>\n",
       "      <th></th>\n",
       "      <th></th>\n",
       "      <th></th>\n",
       "      <th></th>\n",
       "      <th></th>\n",
       "      <th></th>\n",
       "      <th></th>\n",
       "      <th></th>\n",
       "      <th></th>\n",
       "      <th></th>\n",
       "      <th></th>\n",
       "      <th></th>\n",
       "      <th></th>\n",
       "      <th></th>\n",
       "      <th></th>\n",
       "      <th></th>\n",
       "      <th></th>\n",
       "      <th></th>\n",
       "      <th></th>\n",
       "      <th></th>\n",
       "    </tr>\n",
       "  </thead>\n",
       "  <tbody>\n",
       "    <tr>\n",
       "      <th>1001</th>\n",
       "      <td>NaN</td>\n",
       "      <td>NaN</td>\n",
       "      <td>NaN</td>\n",
       "      <td>NaN</td>\n",
       "      <td>NaN</td>\n",
       "      <td>NaN</td>\n",
       "      <td>NaN</td>\n",
       "      <td>NaN</td>\n",
       "      <td>NaN</td>\n",
       "      <td>NaN</td>\n",
       "      <td>NaN</td>\n",
       "      <td>NaN</td>\n",
       "      <td>NaN</td>\n",
       "      <td>NaN</td>\n",
       "      <td>NaN</td>\n",
       "      <td>NaN</td>\n",
       "      <td>NaN</td>\n",
       "      <td>NaN</td>\n",
       "      <td>NaN</td>\n",
       "      <td>NaN</td>\n",
       "      <td>NaN</td>\n",
       "      <td>NaN</td>\n",
       "      <td>NaN</td>\n",
       "      <td>NaN</td>\n",
       "      <td>NaN</td>\n",
       "      <td>NaN</td>\n",
       "      <td>NaN</td>\n",
       "      <td>NaN</td>\n",
       "      <td>NaN</td>\n",
       "      <td>NaN</td>\n",
       "      <td>NaN</td>\n",
       "      <td>NaN</td>\n",
       "      <td>NaN</td>\n",
       "      <td>NaN</td>\n",
       "      <td>NaN</td>\n",
       "      <td>NaN</td>\n",
       "      <td>NaN</td>\n",
       "      <td>NaN</td>\n",
       "      <td>NaN</td>\n",
       "      <td>NaN</td>\n",
       "      <td>38.0</td>\n",
       "      <td>315.0</td>\n",
       "      <td>44.0</td>\n",
       "      <td>13314.82</td>\n",
       "      <td>20</td>\n",
       "      <td>47.0</td>\n",
       "      <td>393.0</td>\n",
       "      <td>53.0</td>\n",
       "      <td>22330.49</td>\n",
       "      <td>90.09</td>\n",
       "      <td>49.0</td>\n",
       "      <td>426.0</td>\n",
       "      <td>36.0</td>\n",
       "      <td>18504.30</td>\n",
       "      <td>60</td>\n",
       "      <td>46.0</td>\n",
       "      <td>412.0</td>\n",
       "      <td>44.0</td>\n",
       "      <td>19369.18</td>\n",
       "      <td>60</td>\n",
       "      <td>surf</td>\n",
       "    </tr>\n",
       "    <tr>\n",
       "      <th>1002</th>\n",
       "      <td>NaN</td>\n",
       "      <td>NaN</td>\n",
       "      <td>NaN</td>\n",
       "      <td>NaN</td>\n",
       "      <td>NaN</td>\n",
       "      <td>NaN</td>\n",
       "      <td>NaN</td>\n",
       "      <td>NaN</td>\n",
       "      <td>NaN</td>\n",
       "      <td>NaN</td>\n",
       "      <td>NaN</td>\n",
       "      <td>NaN</td>\n",
       "      <td>NaN</td>\n",
       "      <td>NaN</td>\n",
       "      <td>NaN</td>\n",
       "      <td>NaN</td>\n",
       "      <td>NaN</td>\n",
       "      <td>NaN</td>\n",
       "      <td>NaN</td>\n",
       "      <td>NaN</td>\n",
       "      <td>NaN</td>\n",
       "      <td>NaN</td>\n",
       "      <td>NaN</td>\n",
       "      <td>NaN</td>\n",
       "      <td>NaN</td>\n",
       "      <td>NaN</td>\n",
       "      <td>NaN</td>\n",
       "      <td>NaN</td>\n",
       "      <td>NaN</td>\n",
       "      <td>NaN</td>\n",
       "      <td>NaN</td>\n",
       "      <td>NaN</td>\n",
       "      <td>NaN</td>\n",
       "      <td>NaN</td>\n",
       "      <td>NaN</td>\n",
       "      <td>NaN</td>\n",
       "      <td>NaN</td>\n",
       "      <td>NaN</td>\n",
       "      <td>NaN</td>\n",
       "      <td>NaN</td>\n",
       "      <td>NaN</td>\n",
       "      <td>NaN</td>\n",
       "      <td>NaN</td>\n",
       "      <td>NaN</td>\n",
       "      <td>NaN</td>\n",
       "      <td>NaN</td>\n",
       "      <td>NaN</td>\n",
       "      <td>NaN</td>\n",
       "      <td>NaN</td>\n",
       "      <td>NaN</td>\n",
       "      <td>48.0</td>\n",
       "      <td>386.0</td>\n",
       "      <td>32.0</td>\n",
       "      <td>19345.08</td>\n",
       "      <td>60</td>\n",
       "      <td>38.0</td>\n",
       "      <td>384.0</td>\n",
       "      <td>41.0</td>\n",
       "      <td>14396.24</td>\n",
       "      <td>20</td>\n",
       "      <td>surf</td>\n",
       "    </tr>\n",
       "    <tr>\n",
       "      <th>1003</th>\n",
       "      <td>NaN</td>\n",
       "      <td>NaN</td>\n",
       "      <td>NaN</td>\n",
       "      <td>NaN</td>\n",
       "      <td>NaN</td>\n",
       "      <td>0.0</td>\n",
       "      <td>0.0</td>\n",
       "      <td>0.0</td>\n",
       "      <td>0.0</td>\n",
       "      <td>20</td>\n",
       "      <td>0.0</td>\n",
       "      <td>0.0</td>\n",
       "      <td>0.0</td>\n",
       "      <td>0.0</td>\n",
       "      <td>20</td>\n",
       "      <td>0.0</td>\n",
       "      <td>0.0</td>\n",
       "      <td>0.0</td>\n",
       "      <td>0.00</td>\n",
       "      <td>20</td>\n",
       "      <td>0.0</td>\n",
       "      <td>0.0</td>\n",
       "      <td>0.0</td>\n",
       "      <td>0.00</td>\n",
       "      <td>20</td>\n",
       "      <td>0.0</td>\n",
       "      <td>0.0</td>\n",
       "      <td>0.0</td>\n",
       "      <td>0.00</td>\n",
       "      <td>20</td>\n",
       "      <td>0.0</td>\n",
       "      <td>0.0</td>\n",
       "      <td>0.0</td>\n",
       "      <td>0.00</td>\n",
       "      <td>20</td>\n",
       "      <td>0.0</td>\n",
       "      <td>0.0</td>\n",
       "      <td>0.0</td>\n",
       "      <td>0.00</td>\n",
       "      <td>20</td>\n",
       "      <td>0.0</td>\n",
       "      <td>0.0</td>\n",
       "      <td>0.0</td>\n",
       "      <td>0.00</td>\n",
       "      <td>20</td>\n",
       "      <td>0.0</td>\n",
       "      <td>0.0</td>\n",
       "      <td>0.0</td>\n",
       "      <td>0.00</td>\n",
       "      <td>20</td>\n",
       "      <td>0.0</td>\n",
       "      <td>0.0</td>\n",
       "      <td>0.0</td>\n",
       "      <td>0.00</td>\n",
       "      <td>20</td>\n",
       "      <td>118.0</td>\n",
       "      <td>1104.0</td>\n",
       "      <td>50.0</td>\n",
       "      <td>27044.14</td>\n",
       "      <td>158.12</td>\n",
       "      <td>surf</td>\n",
       "    </tr>\n",
       "    <tr>\n",
       "      <th>1004</th>\n",
       "      <td>NaN</td>\n",
       "      <td>NaN</td>\n",
       "      <td>NaN</td>\n",
       "      <td>NaN</td>\n",
       "      <td>NaN</td>\n",
       "      <td>NaN</td>\n",
       "      <td>NaN</td>\n",
       "      <td>NaN</td>\n",
       "      <td>NaN</td>\n",
       "      <td>NaN</td>\n",
       "      <td>NaN</td>\n",
       "      <td>NaN</td>\n",
       "      <td>NaN</td>\n",
       "      <td>NaN</td>\n",
       "      <td>NaN</td>\n",
       "      <td>NaN</td>\n",
       "      <td>NaN</td>\n",
       "      <td>NaN</td>\n",
       "      <td>NaN</td>\n",
       "      <td>NaN</td>\n",
       "      <td>NaN</td>\n",
       "      <td>NaN</td>\n",
       "      <td>NaN</td>\n",
       "      <td>NaN</td>\n",
       "      <td>NaN</td>\n",
       "      <td>33.0</td>\n",
       "      <td>275.0</td>\n",
       "      <td>18.0</td>\n",
       "      <td>20672.82</td>\n",
       "      <td>80</td>\n",
       "      <td>45.0</td>\n",
       "      <td>381.0</td>\n",
       "      <td>26.0</td>\n",
       "      <td>24516.62</td>\n",
       "      <td>110</td>\n",
       "      <td>42.0</td>\n",
       "      <td>354.0</td>\n",
       "      <td>25.0</td>\n",
       "      <td>27981.74</td>\n",
       "      <td>150</td>\n",
       "      <td>32.0</td>\n",
       "      <td>301.0</td>\n",
       "      <td>21.0</td>\n",
       "      <td>18852.72</td>\n",
       "      <td>60</td>\n",
       "      <td>47.0</td>\n",
       "      <td>365.0</td>\n",
       "      <td>24.0</td>\n",
       "      <td>14541.63</td>\n",
       "      <td>20</td>\n",
       "      <td>45.0</td>\n",
       "      <td>476.0</td>\n",
       "      <td>25.0</td>\n",
       "      <td>21850.78</td>\n",
       "      <td>90</td>\n",
       "      <td>43.0</td>\n",
       "      <td>427.0</td>\n",
       "      <td>31.0</td>\n",
       "      <td>21389.29</td>\n",
       "      <td>80</td>\n",
       "      <td>surf</td>\n",
       "    </tr>\n",
       "    <tr>\n",
       "      <th>1005</th>\n",
       "      <td>NaN</td>\n",
       "      <td>NaN</td>\n",
       "      <td>NaN</td>\n",
       "      <td>NaN</td>\n",
       "      <td>NaN</td>\n",
       "      <td>NaN</td>\n",
       "      <td>NaN</td>\n",
       "      <td>NaN</td>\n",
       "      <td>NaN</td>\n",
       "      <td>NaN</td>\n",
       "      <td>NaN</td>\n",
       "      <td>NaN</td>\n",
       "      <td>NaN</td>\n",
       "      <td>NaN</td>\n",
       "      <td>NaN</td>\n",
       "      <td>NaN</td>\n",
       "      <td>NaN</td>\n",
       "      <td>NaN</td>\n",
       "      <td>NaN</td>\n",
       "      <td>NaN</td>\n",
       "      <td>NaN</td>\n",
       "      <td>NaN</td>\n",
       "      <td>NaN</td>\n",
       "      <td>NaN</td>\n",
       "      <td>NaN</td>\n",
       "      <td>NaN</td>\n",
       "      <td>NaN</td>\n",
       "      <td>NaN</td>\n",
       "      <td>NaN</td>\n",
       "      <td>NaN</td>\n",
       "      <td>NaN</td>\n",
       "      <td>NaN</td>\n",
       "      <td>NaN</td>\n",
       "      <td>NaN</td>\n",
       "      <td>NaN</td>\n",
       "      <td>NaN</td>\n",
       "      <td>NaN</td>\n",
       "      <td>NaN</td>\n",
       "      <td>NaN</td>\n",
       "      <td>NaN</td>\n",
       "      <td>NaN</td>\n",
       "      <td>NaN</td>\n",
       "      <td>NaN</td>\n",
       "      <td>NaN</td>\n",
       "      <td>NaN</td>\n",
       "      <td>NaN</td>\n",
       "      <td>NaN</td>\n",
       "      <td>NaN</td>\n",
       "      <td>NaN</td>\n",
       "      <td>NaN</td>\n",
       "      <td>NaN</td>\n",
       "      <td>NaN</td>\n",
       "      <td>NaN</td>\n",
       "      <td>NaN</td>\n",
       "      <td>NaN</td>\n",
       "      <td>50.0</td>\n",
       "      <td>496.0</td>\n",
       "      <td>11.0</td>\n",
       "      <td>17140.17</td>\n",
       "      <td>40</td>\n",
       "      <td>surf</td>\n",
       "    </tr>\n",
       "    <tr>\n",
       "      <th>1007</th>\n",
       "      <td>NaN</td>\n",
       "      <td>NaN</td>\n",
       "      <td>NaN</td>\n",
       "      <td>NaN</td>\n",
       "      <td>NaN</td>\n",
       "      <td>NaN</td>\n",
       "      <td>NaN</td>\n",
       "      <td>NaN</td>\n",
       "      <td>NaN</td>\n",
       "      <td>NaN</td>\n",
       "      <td>NaN</td>\n",
       "      <td>NaN</td>\n",
       "      <td>NaN</td>\n",
       "      <td>NaN</td>\n",
       "      <td>NaN</td>\n",
       "      <td>NaN</td>\n",
       "      <td>NaN</td>\n",
       "      <td>NaN</td>\n",
       "      <td>NaN</td>\n",
       "      <td>NaN</td>\n",
       "      <td>NaN</td>\n",
       "      <td>NaN</td>\n",
       "      <td>NaN</td>\n",
       "      <td>NaN</td>\n",
       "      <td>NaN</td>\n",
       "      <td>NaN</td>\n",
       "      <td>NaN</td>\n",
       "      <td>NaN</td>\n",
       "      <td>NaN</td>\n",
       "      <td>NaN</td>\n",
       "      <td>NaN</td>\n",
       "      <td>NaN</td>\n",
       "      <td>NaN</td>\n",
       "      <td>NaN</td>\n",
       "      <td>NaN</td>\n",
       "      <td>56.0</td>\n",
       "      <td>456.0</td>\n",
       "      <td>51.0</td>\n",
       "      <td>24439.88</td>\n",
       "      <td>110.03</td>\n",
       "      <td>49.0</td>\n",
       "      <td>399.0</td>\n",
       "      <td>47.0</td>\n",
       "      <td>28123.95</td>\n",
       "      <td>150</td>\n",
       "      <td>70.0</td>\n",
       "      <td>645.0</td>\n",
       "      <td>59.0</td>\n",
       "      <td>37885.63</td>\n",
       "      <td>244.62</td>\n",
       "      <td>61.0</td>\n",
       "      <td>524.0</td>\n",
       "      <td>48.0</td>\n",
       "      <td>24334.00</td>\n",
       "      <td>110.72</td>\n",
       "      <td>71.0</td>\n",
       "      <td>617.0</td>\n",
       "      <td>50.0</td>\n",
       "      <td>29069.28</td>\n",
       "      <td>163.51</td>\n",
       "      <td>surf</td>\n",
       "    </tr>\n",
       "    <tr>\n",
       "      <th>1008</th>\n",
       "      <td>NaN</td>\n",
       "      <td>NaN</td>\n",
       "      <td>NaN</td>\n",
       "      <td>NaN</td>\n",
       "      <td>NaN</td>\n",
       "      <td>NaN</td>\n",
       "      <td>NaN</td>\n",
       "      <td>NaN</td>\n",
       "      <td>NaN</td>\n",
       "      <td>NaN</td>\n",
       "      <td>NaN</td>\n",
       "      <td>NaN</td>\n",
       "      <td>NaN</td>\n",
       "      <td>NaN</td>\n",
       "      <td>NaN</td>\n",
       "      <td>NaN</td>\n",
       "      <td>NaN</td>\n",
       "      <td>NaN</td>\n",
       "      <td>NaN</td>\n",
       "      <td>NaN</td>\n",
       "      <td>NaN</td>\n",
       "      <td>NaN</td>\n",
       "      <td>NaN</td>\n",
       "      <td>NaN</td>\n",
       "      <td>NaN</td>\n",
       "      <td>NaN</td>\n",
       "      <td>NaN</td>\n",
       "      <td>NaN</td>\n",
       "      <td>NaN</td>\n",
       "      <td>NaN</td>\n",
       "      <td>NaN</td>\n",
       "      <td>NaN</td>\n",
       "      <td>NaN</td>\n",
       "      <td>NaN</td>\n",
       "      <td>NaN</td>\n",
       "      <td>NaN</td>\n",
       "      <td>NaN</td>\n",
       "      <td>NaN</td>\n",
       "      <td>NaN</td>\n",
       "      <td>NaN</td>\n",
       "      <td>0.0</td>\n",
       "      <td>0.0</td>\n",
       "      <td>0.0</td>\n",
       "      <td>0.00</td>\n",
       "      <td>70</td>\n",
       "      <td>54.0</td>\n",
       "      <td>476.0</td>\n",
       "      <td>21.0</td>\n",
       "      <td>17106.99</td>\n",
       "      <td>70</td>\n",
       "      <td>50.0</td>\n",
       "      <td>446.0</td>\n",
       "      <td>37.0</td>\n",
       "      <td>23676.72</td>\n",
       "      <td>70</td>\n",
       "      <td>65.0</td>\n",
       "      <td>634.0</td>\n",
       "      <td>26.0</td>\n",
       "      <td>14689.33</td>\n",
       "      <td>70</td>\n",
       "      <td>ultimate</td>\n",
       "    </tr>\n",
       "    <tr>\n",
       "      <th>1009</th>\n",
       "      <td>NaN</td>\n",
       "      <td>NaN</td>\n",
       "      <td>NaN</td>\n",
       "      <td>NaN</td>\n",
       "      <td>NaN</td>\n",
       "      <td>NaN</td>\n",
       "      <td>NaN</td>\n",
       "      <td>NaN</td>\n",
       "      <td>NaN</td>\n",
       "      <td>NaN</td>\n",
       "      <td>NaN</td>\n",
       "      <td>NaN</td>\n",
       "      <td>NaN</td>\n",
       "      <td>NaN</td>\n",
       "      <td>NaN</td>\n",
       "      <td>NaN</td>\n",
       "      <td>NaN</td>\n",
       "      <td>NaN</td>\n",
       "      <td>NaN</td>\n",
       "      <td>NaN</td>\n",
       "      <td>61.0</td>\n",
       "      <td>534.0</td>\n",
       "      <td>0.0</td>\n",
       "      <td>20389.40</td>\n",
       "      <td>71.02</td>\n",
       "      <td>94.0</td>\n",
       "      <td>823.0</td>\n",
       "      <td>0.0</td>\n",
       "      <td>18845.90</td>\n",
       "      <td>69.69</td>\n",
       "      <td>103.0</td>\n",
       "      <td>880.0</td>\n",
       "      <td>0.0</td>\n",
       "      <td>30421.65</td>\n",
       "      <td>181.4</td>\n",
       "      <td>88.0</td>\n",
       "      <td>731.0</td>\n",
       "      <td>0.0</td>\n",
       "      <td>24557.52</td>\n",
       "      <td>116.93</td>\n",
       "      <td>92.0</td>\n",
       "      <td>776.0</td>\n",
       "      <td>0.0</td>\n",
       "      <td>20962.40</td>\n",
       "      <td>88.28</td>\n",
       "      <td>93.0</td>\n",
       "      <td>740.0</td>\n",
       "      <td>0.0</td>\n",
       "      <td>22664.84</td>\n",
       "      <td>107.2</td>\n",
       "      <td>80.0</td>\n",
       "      <td>714.0</td>\n",
       "      <td>0.0</td>\n",
       "      <td>25473.43</td>\n",
       "      <td>126.42</td>\n",
       "      <td>87.0</td>\n",
       "      <td>756.0</td>\n",
       "      <td>0.0</td>\n",
       "      <td>23922.60</td>\n",
       "      <td>117.68</td>\n",
       "      <td>surf</td>\n",
       "    </tr>\n",
       "    <tr>\n",
       "      <th>1010</th>\n",
       "      <td>NaN</td>\n",
       "      <td>NaN</td>\n",
       "      <td>NaN</td>\n",
       "      <td>NaN</td>\n",
       "      <td>NaN</td>\n",
       "      <td>NaN</td>\n",
       "      <td>NaN</td>\n",
       "      <td>NaN</td>\n",
       "      <td>NaN</td>\n",
       "      <td>NaN</td>\n",
       "      <td>NaN</td>\n",
       "      <td>NaN</td>\n",
       "      <td>NaN</td>\n",
       "      <td>NaN</td>\n",
       "      <td>NaN</td>\n",
       "      <td>76.0</td>\n",
       "      <td>656.0</td>\n",
       "      <td>0.0</td>\n",
       "      <td>19722.34</td>\n",
       "      <td>74.68</td>\n",
       "      <td>64.0</td>\n",
       "      <td>532.0</td>\n",
       "      <td>0.0</td>\n",
       "      <td>15888.52</td>\n",
       "      <td>30.96</td>\n",
       "      <td>61.0</td>\n",
       "      <td>553.0</td>\n",
       "      <td>0.0</td>\n",
       "      <td>16829.31</td>\n",
       "      <td>41.59</td>\n",
       "      <td>80.0</td>\n",
       "      <td>698.0</td>\n",
       "      <td>0.0</td>\n",
       "      <td>12663.11</td>\n",
       "      <td>25.94</td>\n",
       "      <td>80.0</td>\n",
       "      <td>637.0</td>\n",
       "      <td>0.0</td>\n",
       "      <td>19811.84</td>\n",
       "      <td>74.11</td>\n",
       "      <td>69.0</td>\n",
       "      <td>601.0</td>\n",
       "      <td>0.0</td>\n",
       "      <td>16813.73</td>\n",
       "      <td>43.03</td>\n",
       "      <td>78.0</td>\n",
       "      <td>711.0</td>\n",
       "      <td>0.0</td>\n",
       "      <td>16937.78</td>\n",
       "      <td>46.33</td>\n",
       "      <td>26.0</td>\n",
       "      <td>258.0</td>\n",
       "      <td>0.0</td>\n",
       "      <td>7985.59</td>\n",
       "      <td>20</td>\n",
       "      <td>0.0</td>\n",
       "      <td>0.0</td>\n",
       "      <td>0.0</td>\n",
       "      <td>0.00</td>\n",
       "      <td>20</td>\n",
       "      <td>surf</td>\n",
       "    </tr>\n",
       "    <tr>\n",
       "      <th>1011</th>\n",
       "      <td>NaN</td>\n",
       "      <td>NaN</td>\n",
       "      <td>NaN</td>\n",
       "      <td>NaN</td>\n",
       "      <td>NaN</td>\n",
       "      <td>0.0</td>\n",
       "      <td>0.0</td>\n",
       "      <td>0.0</td>\n",
       "      <td>0.0</td>\n",
       "      <td>70</td>\n",
       "      <td>0.0</td>\n",
       "      <td>0.0</td>\n",
       "      <td>0.0</td>\n",
       "      <td>0.0</td>\n",
       "      <td>70</td>\n",
       "      <td>0.0</td>\n",
       "      <td>0.0</td>\n",
       "      <td>0.0</td>\n",
       "      <td>0.00</td>\n",
       "      <td>70</td>\n",
       "      <td>0.0</td>\n",
       "      <td>0.0</td>\n",
       "      <td>0.0</td>\n",
       "      <td>0.00</td>\n",
       "      <td>70</td>\n",
       "      <td>13.0</td>\n",
       "      <td>118.0</td>\n",
       "      <td>21.0</td>\n",
       "      <td>6685.11</td>\n",
       "      <td>70</td>\n",
       "      <td>49.0</td>\n",
       "      <td>499.0</td>\n",
       "      <td>53.0</td>\n",
       "      <td>21046.41</td>\n",
       "      <td>70</td>\n",
       "      <td>49.0</td>\n",
       "      <td>486.0</td>\n",
       "      <td>54.0</td>\n",
       "      <td>21099.37</td>\n",
       "      <td>70</td>\n",
       "      <td>55.0</td>\n",
       "      <td>484.0</td>\n",
       "      <td>60.0</td>\n",
       "      <td>16638.46</td>\n",
       "      <td>70</td>\n",
       "      <td>60.0</td>\n",
       "      <td>504.0</td>\n",
       "      <td>64.0</td>\n",
       "      <td>24575.65</td>\n",
       "      <td>70</td>\n",
       "      <td>57.0</td>\n",
       "      <td>505.0</td>\n",
       "      <td>58.0</td>\n",
       "      <td>22102.97</td>\n",
       "      <td>70</td>\n",
       "      <td>39.0</td>\n",
       "      <td>311.0</td>\n",
       "      <td>61.0</td>\n",
       "      <td>19630.63</td>\n",
       "      <td>70</td>\n",
       "      <td>ultimate</td>\n",
       "    </tr>\n",
       "    <tr>\n",
       "      <th>1012</th>\n",
       "      <td>NaN</td>\n",
       "      <td>NaN</td>\n",
       "      <td>NaN</td>\n",
       "      <td>NaN</td>\n",
       "      <td>NaN</td>\n",
       "      <td>NaN</td>\n",
       "      <td>NaN</td>\n",
       "      <td>NaN</td>\n",
       "      <td>NaN</td>\n",
       "      <td>NaN</td>\n",
       "      <td>NaN</td>\n",
       "      <td>NaN</td>\n",
       "      <td>NaN</td>\n",
       "      <td>NaN</td>\n",
       "      <td>NaN</td>\n",
       "      <td>NaN</td>\n",
       "      <td>NaN</td>\n",
       "      <td>NaN</td>\n",
       "      <td>NaN</td>\n",
       "      <td>NaN</td>\n",
       "      <td>NaN</td>\n",
       "      <td>NaN</td>\n",
       "      <td>NaN</td>\n",
       "      <td>NaN</td>\n",
       "      <td>NaN</td>\n",
       "      <td>NaN</td>\n",
       "      <td>NaN</td>\n",
       "      <td>NaN</td>\n",
       "      <td>NaN</td>\n",
       "      <td>NaN</td>\n",
       "      <td>0.0</td>\n",
       "      <td>0.0</td>\n",
       "      <td>0.0</td>\n",
       "      <td>0.00</td>\n",
       "      <td>20</td>\n",
       "      <td>0.0</td>\n",
       "      <td>0.0</td>\n",
       "      <td>0.0</td>\n",
       "      <td>0.00</td>\n",
       "      <td>20</td>\n",
       "      <td>0.0</td>\n",
       "      <td>0.0</td>\n",
       "      <td>0.0</td>\n",
       "      <td>0.00</td>\n",
       "      <td>20</td>\n",
       "      <td>0.0</td>\n",
       "      <td>0.0</td>\n",
       "      <td>0.0</td>\n",
       "      <td>0.00</td>\n",
       "      <td>20</td>\n",
       "      <td>NaN</td>\n",
       "      <td>NaN</td>\n",
       "      <td>NaN</td>\n",
       "      <td>NaN</td>\n",
       "      <td>NaN</td>\n",
       "      <td>NaN</td>\n",
       "      <td>NaN</td>\n",
       "      <td>NaN</td>\n",
       "      <td>NaN</td>\n",
       "      <td>NaN</td>\n",
       "      <td>surf</td>\n",
       "    </tr>\n",
       "    <tr>\n",
       "      <th>1013</th>\n",
       "      <td>NaN</td>\n",
       "      <td>NaN</td>\n",
       "      <td>NaN</td>\n",
       "      <td>NaN</td>\n",
       "      <td>NaN</td>\n",
       "      <td>NaN</td>\n",
       "      <td>NaN</td>\n",
       "      <td>NaN</td>\n",
       "      <td>NaN</td>\n",
       "      <td>NaN</td>\n",
       "      <td>NaN</td>\n",
       "      <td>NaN</td>\n",
       "      <td>NaN</td>\n",
       "      <td>NaN</td>\n",
       "      <td>NaN</td>\n",
       "      <td>NaN</td>\n",
       "      <td>NaN</td>\n",
       "      <td>NaN</td>\n",
       "      <td>NaN</td>\n",
       "      <td>NaN</td>\n",
       "      <td>NaN</td>\n",
       "      <td>NaN</td>\n",
       "      <td>NaN</td>\n",
       "      <td>NaN</td>\n",
       "      <td>NaN</td>\n",
       "      <td>NaN</td>\n",
       "      <td>NaN</td>\n",
       "      <td>NaN</td>\n",
       "      <td>NaN</td>\n",
       "      <td>NaN</td>\n",
       "      <td>NaN</td>\n",
       "      <td>NaN</td>\n",
       "      <td>NaN</td>\n",
       "      <td>NaN</td>\n",
       "      <td>NaN</td>\n",
       "      <td>NaN</td>\n",
       "      <td>NaN</td>\n",
       "      <td>NaN</td>\n",
       "      <td>NaN</td>\n",
       "      <td>NaN</td>\n",
       "      <td>NaN</td>\n",
       "      <td>NaN</td>\n",
       "      <td>NaN</td>\n",
       "      <td>NaN</td>\n",
       "      <td>NaN</td>\n",
       "      <td>NaN</td>\n",
       "      <td>NaN</td>\n",
       "      <td>NaN</td>\n",
       "      <td>NaN</td>\n",
       "      <td>NaN</td>\n",
       "      <td>NaN</td>\n",
       "      <td>NaN</td>\n",
       "      <td>NaN</td>\n",
       "      <td>NaN</td>\n",
       "      <td>NaN</td>\n",
       "      <td>26.0</td>\n",
       "      <td>219.0</td>\n",
       "      <td>16.0</td>\n",
       "      <td>20113.92</td>\n",
       "      <td>70</td>\n",
       "      <td>ultimate</td>\n",
       "    </tr>\n",
       "    <tr>\n",
       "      <th>1014</th>\n",
       "      <td>NaN</td>\n",
       "      <td>NaN</td>\n",
       "      <td>NaN</td>\n",
       "      <td>NaN</td>\n",
       "      <td>NaN</td>\n",
       "      <td>NaN</td>\n",
       "      <td>NaN</td>\n",
       "      <td>NaN</td>\n",
       "      <td>NaN</td>\n",
       "      <td>NaN</td>\n",
       "      <td>NaN</td>\n",
       "      <td>NaN</td>\n",
       "      <td>NaN</td>\n",
       "      <td>NaN</td>\n",
       "      <td>NaN</td>\n",
       "      <td>NaN</td>\n",
       "      <td>NaN</td>\n",
       "      <td>NaN</td>\n",
       "      <td>NaN</td>\n",
       "      <td>NaN</td>\n",
       "      <td>NaN</td>\n",
       "      <td>NaN</td>\n",
       "      <td>NaN</td>\n",
       "      <td>NaN</td>\n",
       "      <td>NaN</td>\n",
       "      <td>NaN</td>\n",
       "      <td>NaN</td>\n",
       "      <td>NaN</td>\n",
       "      <td>NaN</td>\n",
       "      <td>NaN</td>\n",
       "      <td>NaN</td>\n",
       "      <td>NaN</td>\n",
       "      <td>NaN</td>\n",
       "      <td>NaN</td>\n",
       "      <td>NaN</td>\n",
       "      <td>NaN</td>\n",
       "      <td>NaN</td>\n",
       "      <td>NaN</td>\n",
       "      <td>NaN</td>\n",
       "      <td>NaN</td>\n",
       "      <td>NaN</td>\n",
       "      <td>NaN</td>\n",
       "      <td>NaN</td>\n",
       "      <td>NaN</td>\n",
       "      <td>NaN</td>\n",
       "      <td>NaN</td>\n",
       "      <td>NaN</td>\n",
       "      <td>NaN</td>\n",
       "      <td>NaN</td>\n",
       "      <td>NaN</td>\n",
       "      <td>NaN</td>\n",
       "      <td>NaN</td>\n",
       "      <td>NaN</td>\n",
       "      <td>NaN</td>\n",
       "      <td>NaN</td>\n",
       "      <td>125.0</td>\n",
       "      <td>1114.0</td>\n",
       "      <td>64.0</td>\n",
       "      <td>7792.41</td>\n",
       "      <td>38.84</td>\n",
       "      <td>surf</td>\n",
       "    </tr>\n",
       "    <tr>\n",
       "      <th>1016</th>\n",
       "      <td>NaN</td>\n",
       "      <td>NaN</td>\n",
       "      <td>NaN</td>\n",
       "      <td>NaN</td>\n",
       "      <td>NaN</td>\n",
       "      <td>NaN</td>\n",
       "      <td>NaN</td>\n",
       "      <td>NaN</td>\n",
       "      <td>NaN</td>\n",
       "      <td>NaN</td>\n",
       "      <td>NaN</td>\n",
       "      <td>NaN</td>\n",
       "      <td>NaN</td>\n",
       "      <td>NaN</td>\n",
       "      <td>NaN</td>\n",
       "      <td>NaN</td>\n",
       "      <td>NaN</td>\n",
       "      <td>NaN</td>\n",
       "      <td>NaN</td>\n",
       "      <td>NaN</td>\n",
       "      <td>NaN</td>\n",
       "      <td>NaN</td>\n",
       "      <td>NaN</td>\n",
       "      <td>NaN</td>\n",
       "      <td>NaN</td>\n",
       "      <td>NaN</td>\n",
       "      <td>NaN</td>\n",
       "      <td>NaN</td>\n",
       "      <td>NaN</td>\n",
       "      <td>NaN</td>\n",
       "      <td>NaN</td>\n",
       "      <td>NaN</td>\n",
       "      <td>NaN</td>\n",
       "      <td>NaN</td>\n",
       "      <td>NaN</td>\n",
       "      <td>NaN</td>\n",
       "      <td>NaN</td>\n",
       "      <td>NaN</td>\n",
       "      <td>NaN</td>\n",
       "      <td>NaN</td>\n",
       "      <td>NaN</td>\n",
       "      <td>NaN</td>\n",
       "      <td>NaN</td>\n",
       "      <td>NaN</td>\n",
       "      <td>NaN</td>\n",
       "      <td>NaN</td>\n",
       "      <td>NaN</td>\n",
       "      <td>NaN</td>\n",
       "      <td>NaN</td>\n",
       "      <td>NaN</td>\n",
       "      <td>76.0</td>\n",
       "      <td>649.0</td>\n",
       "      <td>46.0</td>\n",
       "      <td>27501.33</td>\n",
       "      <td>144.47</td>\n",
       "      <td>94.0</td>\n",
       "      <td>837.0</td>\n",
       "      <td>38.0</td>\n",
       "      <td>28188.01</td>\n",
       "      <td>160.11</td>\n",
       "      <td>surf</td>\n",
       "    </tr>\n",
       "    <tr>\n",
       "      <th>1017</th>\n",
       "      <td>NaN</td>\n",
       "      <td>NaN</td>\n",
       "      <td>NaN</td>\n",
       "      <td>NaN</td>\n",
       "      <td>NaN</td>\n",
       "      <td>NaN</td>\n",
       "      <td>NaN</td>\n",
       "      <td>NaN</td>\n",
       "      <td>NaN</td>\n",
       "      <td>NaN</td>\n",
       "      <td>NaN</td>\n",
       "      <td>NaN</td>\n",
       "      <td>NaN</td>\n",
       "      <td>NaN</td>\n",
       "      <td>NaN</td>\n",
       "      <td>NaN</td>\n",
       "      <td>NaN</td>\n",
       "      <td>NaN</td>\n",
       "      <td>NaN</td>\n",
       "      <td>NaN</td>\n",
       "      <td>NaN</td>\n",
       "      <td>NaN</td>\n",
       "      <td>NaN</td>\n",
       "      <td>NaN</td>\n",
       "      <td>NaN</td>\n",
       "      <td>NaN</td>\n",
       "      <td>NaN</td>\n",
       "      <td>NaN</td>\n",
       "      <td>NaN</td>\n",
       "      <td>NaN</td>\n",
       "      <td>NaN</td>\n",
       "      <td>NaN</td>\n",
       "      <td>NaN</td>\n",
       "      <td>NaN</td>\n",
       "      <td>NaN</td>\n",
       "      <td>NaN</td>\n",
       "      <td>NaN</td>\n",
       "      <td>NaN</td>\n",
       "      <td>NaN</td>\n",
       "      <td>NaN</td>\n",
       "      <td>50.0</td>\n",
       "      <td>362.0</td>\n",
       "      <td>41.0</td>\n",
       "      <td>24478.92</td>\n",
       "      <td>110</td>\n",
       "      <td>50.0</td>\n",
       "      <td>400.0</td>\n",
       "      <td>35.0</td>\n",
       "      <td>28478.25</td>\n",
       "      <td>150</td>\n",
       "      <td>45.0</td>\n",
       "      <td>384.0</td>\n",
       "      <td>29.0</td>\n",
       "      <td>19093.04</td>\n",
       "      <td>60</td>\n",
       "      <td>51.0</td>\n",
       "      <td>476.0</td>\n",
       "      <td>42.0</td>\n",
       "      <td>21136.58</td>\n",
       "      <td>80</td>\n",
       "      <td>surf</td>\n",
       "    </tr>\n",
       "    <tr>\n",
       "      <th>1018</th>\n",
       "      <td>NaN</td>\n",
       "      <td>NaN</td>\n",
       "      <td>NaN</td>\n",
       "      <td>NaN</td>\n",
       "      <td>NaN</td>\n",
       "      <td>NaN</td>\n",
       "      <td>NaN</td>\n",
       "      <td>NaN</td>\n",
       "      <td>NaN</td>\n",
       "      <td>NaN</td>\n",
       "      <td>NaN</td>\n",
       "      <td>NaN</td>\n",
       "      <td>NaN</td>\n",
       "      <td>NaN</td>\n",
       "      <td>NaN</td>\n",
       "      <td>NaN</td>\n",
       "      <td>NaN</td>\n",
       "      <td>NaN</td>\n",
       "      <td>NaN</td>\n",
       "      <td>NaN</td>\n",
       "      <td>NaN</td>\n",
       "      <td>NaN</td>\n",
       "      <td>NaN</td>\n",
       "      <td>NaN</td>\n",
       "      <td>NaN</td>\n",
       "      <td>NaN</td>\n",
       "      <td>NaN</td>\n",
       "      <td>NaN</td>\n",
       "      <td>NaN</td>\n",
       "      <td>NaN</td>\n",
       "      <td>NaN</td>\n",
       "      <td>NaN</td>\n",
       "      <td>NaN</td>\n",
       "      <td>NaN</td>\n",
       "      <td>NaN</td>\n",
       "      <td>NaN</td>\n",
       "      <td>NaN</td>\n",
       "      <td>NaN</td>\n",
       "      <td>NaN</td>\n",
       "      <td>NaN</td>\n",
       "      <td>NaN</td>\n",
       "      <td>NaN</td>\n",
       "      <td>NaN</td>\n",
       "      <td>NaN</td>\n",
       "      <td>NaN</td>\n",
       "      <td>NaN</td>\n",
       "      <td>NaN</td>\n",
       "      <td>NaN</td>\n",
       "      <td>NaN</td>\n",
       "      <td>NaN</td>\n",
       "      <td>67.0</td>\n",
       "      <td>636.0</td>\n",
       "      <td>5.0</td>\n",
       "      <td>15266.53</td>\n",
       "      <td>24.08</td>\n",
       "      <td>59.0</td>\n",
       "      <td>476.0</td>\n",
       "      <td>8.0</td>\n",
       "      <td>17390.55</td>\n",
       "      <td>40</td>\n",
       "      <td>surf</td>\n",
       "    </tr>\n",
       "    <tr>\n",
       "      <th>1019</th>\n",
       "      <td>NaN</td>\n",
       "      <td>NaN</td>\n",
       "      <td>NaN</td>\n",
       "      <td>NaN</td>\n",
       "      <td>NaN</td>\n",
       "      <td>0.0</td>\n",
       "      <td>0.0</td>\n",
       "      <td>0.0</td>\n",
       "      <td>0.0</td>\n",
       "      <td>20</td>\n",
       "      <td>0.0</td>\n",
       "      <td>0.0</td>\n",
       "      <td>0.0</td>\n",
       "      <td>0.0</td>\n",
       "      <td>20</td>\n",
       "      <td>0.0</td>\n",
       "      <td>0.0</td>\n",
       "      <td>0.0</td>\n",
       "      <td>0.00</td>\n",
       "      <td>20</td>\n",
       "      <td>0.0</td>\n",
       "      <td>0.0</td>\n",
       "      <td>0.0</td>\n",
       "      <td>0.00</td>\n",
       "      <td>20</td>\n",
       "      <td>0.0</td>\n",
       "      <td>0.0</td>\n",
       "      <td>0.0</td>\n",
       "      <td>0.00</td>\n",
       "      <td>20</td>\n",
       "      <td>0.0</td>\n",
       "      <td>0.0</td>\n",
       "      <td>0.0</td>\n",
       "      <td>0.00</td>\n",
       "      <td>20</td>\n",
       "      <td>0.0</td>\n",
       "      <td>0.0</td>\n",
       "      <td>0.0</td>\n",
       "      <td>0.00</td>\n",
       "      <td>20</td>\n",
       "      <td>0.0</td>\n",
       "      <td>0.0</td>\n",
       "      <td>0.0</td>\n",
       "      <td>0.00</td>\n",
       "      <td>20</td>\n",
       "      <td>0.0</td>\n",
       "      <td>0.0</td>\n",
       "      <td>0.0</td>\n",
       "      <td>0.00</td>\n",
       "      <td>20</td>\n",
       "      <td>5.0</td>\n",
       "      <td>44.0</td>\n",
       "      <td>24.0</td>\n",
       "      <td>3012.91</td>\n",
       "      <td>20</td>\n",
       "      <td>49.0</td>\n",
       "      <td>467.0</td>\n",
       "      <td>128.0</td>\n",
       "      <td>28127.77</td>\n",
       "      <td>152.34</td>\n",
       "      <td>surf</td>\n",
       "    </tr>\n",
       "    <tr>\n",
       "      <th>1020</th>\n",
       "      <td>NaN</td>\n",
       "      <td>NaN</td>\n",
       "      <td>NaN</td>\n",
       "      <td>NaN</td>\n",
       "      <td>NaN</td>\n",
       "      <td>NaN</td>\n",
       "      <td>NaN</td>\n",
       "      <td>NaN</td>\n",
       "      <td>NaN</td>\n",
       "      <td>NaN</td>\n",
       "      <td>NaN</td>\n",
       "      <td>NaN</td>\n",
       "      <td>NaN</td>\n",
       "      <td>NaN</td>\n",
       "      <td>NaN</td>\n",
       "      <td>NaN</td>\n",
       "      <td>NaN</td>\n",
       "      <td>NaN</td>\n",
       "      <td>NaN</td>\n",
       "      <td>NaN</td>\n",
       "      <td>NaN</td>\n",
       "      <td>NaN</td>\n",
       "      <td>NaN</td>\n",
       "      <td>NaN</td>\n",
       "      <td>NaN</td>\n",
       "      <td>NaN</td>\n",
       "      <td>NaN</td>\n",
       "      <td>NaN</td>\n",
       "      <td>NaN</td>\n",
       "      <td>NaN</td>\n",
       "      <td>NaN</td>\n",
       "      <td>NaN</td>\n",
       "      <td>NaN</td>\n",
       "      <td>NaN</td>\n",
       "      <td>NaN</td>\n",
       "      <td>NaN</td>\n",
       "      <td>NaN</td>\n",
       "      <td>NaN</td>\n",
       "      <td>NaN</td>\n",
       "      <td>NaN</td>\n",
       "      <td>NaN</td>\n",
       "      <td>NaN</td>\n",
       "      <td>NaN</td>\n",
       "      <td>NaN</td>\n",
       "      <td>NaN</td>\n",
       "      <td>NaN</td>\n",
       "      <td>NaN</td>\n",
       "      <td>NaN</td>\n",
       "      <td>NaN</td>\n",
       "      <td>NaN</td>\n",
       "      <td>NaN</td>\n",
       "      <td>NaN</td>\n",
       "      <td>NaN</td>\n",
       "      <td>NaN</td>\n",
       "      <td>NaN</td>\n",
       "      <td>59.0</td>\n",
       "      <td>500.0</td>\n",
       "      <td>3.0</td>\n",
       "      <td>19749.08</td>\n",
       "      <td>70</td>\n",
       "      <td>surf</td>\n",
       "    </tr>\n",
       "    <tr>\n",
       "      <th>1022</th>\n",
       "      <td>NaN</td>\n",
       "      <td>NaN</td>\n",
       "      <td>NaN</td>\n",
       "      <td>NaN</td>\n",
       "      <td>NaN</td>\n",
       "      <td>NaN</td>\n",
       "      <td>NaN</td>\n",
       "      <td>NaN</td>\n",
       "      <td>NaN</td>\n",
       "      <td>NaN</td>\n",
       "      <td>NaN</td>\n",
       "      <td>NaN</td>\n",
       "      <td>NaN</td>\n",
       "      <td>NaN</td>\n",
       "      <td>NaN</td>\n",
       "      <td>NaN</td>\n",
       "      <td>NaN</td>\n",
       "      <td>NaN</td>\n",
       "      <td>NaN</td>\n",
       "      <td>NaN</td>\n",
       "      <td>32.0</td>\n",
       "      <td>302.0</td>\n",
       "      <td>0.0</td>\n",
       "      <td>4908.08</td>\n",
       "      <td>20</td>\n",
       "      <td>65.0</td>\n",
       "      <td>490.0</td>\n",
       "      <td>0.0</td>\n",
       "      <td>23436.48</td>\n",
       "      <td>100</td>\n",
       "      <td>56.0</td>\n",
       "      <td>475.0</td>\n",
       "      <td>0.0</td>\n",
       "      <td>9933.15</td>\n",
       "      <td>20</td>\n",
       "      <td>69.0</td>\n",
       "      <td>631.0</td>\n",
       "      <td>0.0</td>\n",
       "      <td>21325.33</td>\n",
       "      <td>83.93</td>\n",
       "      <td>NaN</td>\n",
       "      <td>NaN</td>\n",
       "      <td>NaN</td>\n",
       "      <td>NaN</td>\n",
       "      <td>NaN</td>\n",
       "      <td>NaN</td>\n",
       "      <td>NaN</td>\n",
       "      <td>NaN</td>\n",
       "      <td>NaN</td>\n",
       "      <td>NaN</td>\n",
       "      <td>NaN</td>\n",
       "      <td>NaN</td>\n",
       "      <td>NaN</td>\n",
       "      <td>NaN</td>\n",
       "      <td>NaN</td>\n",
       "      <td>NaN</td>\n",
       "      <td>NaN</td>\n",
       "      <td>NaN</td>\n",
       "      <td>NaN</td>\n",
       "      <td>NaN</td>\n",
       "      <td>surf</td>\n",
       "    </tr>\n",
       "    <tr>\n",
       "      <th>1023</th>\n",
       "      <td>NaN</td>\n",
       "      <td>NaN</td>\n",
       "      <td>NaN</td>\n",
       "      <td>NaN</td>\n",
       "      <td>NaN</td>\n",
       "      <td>NaN</td>\n",
       "      <td>NaN</td>\n",
       "      <td>NaN</td>\n",
       "      <td>NaN</td>\n",
       "      <td>NaN</td>\n",
       "      <td>NaN</td>\n",
       "      <td>NaN</td>\n",
       "      <td>NaN</td>\n",
       "      <td>NaN</td>\n",
       "      <td>NaN</td>\n",
       "      <td>NaN</td>\n",
       "      <td>NaN</td>\n",
       "      <td>NaN</td>\n",
       "      <td>NaN</td>\n",
       "      <td>NaN</td>\n",
       "      <td>NaN</td>\n",
       "      <td>NaN</td>\n",
       "      <td>NaN</td>\n",
       "      <td>NaN</td>\n",
       "      <td>NaN</td>\n",
       "      <td>NaN</td>\n",
       "      <td>NaN</td>\n",
       "      <td>NaN</td>\n",
       "      <td>NaN</td>\n",
       "      <td>NaN</td>\n",
       "      <td>NaN</td>\n",
       "      <td>NaN</td>\n",
       "      <td>NaN</td>\n",
       "      <td>NaN</td>\n",
       "      <td>NaN</td>\n",
       "      <td>8.0</td>\n",
       "      <td>72.0</td>\n",
       "      <td>6.0</td>\n",
       "      <td>9991.79</td>\n",
       "      <td>20</td>\n",
       "      <td>0.0</td>\n",
       "      <td>0.0</td>\n",
       "      <td>0.0</td>\n",
       "      <td>0.00</td>\n",
       "      <td>20</td>\n",
       "      <td>0.0</td>\n",
       "      <td>0.0</td>\n",
       "      <td>0.0</td>\n",
       "      <td>0.00</td>\n",
       "      <td>20</td>\n",
       "      <td>0.0</td>\n",
       "      <td>0.0</td>\n",
       "      <td>0.0</td>\n",
       "      <td>0.00</td>\n",
       "      <td>20</td>\n",
       "      <td>0.0</td>\n",
       "      <td>0.0</td>\n",
       "      <td>0.0</td>\n",
       "      <td>0.00</td>\n",
       "      <td>20</td>\n",
       "      <td>surf</td>\n",
       "    </tr>\n",
       "  </tbody>\n",
       "</table>\n",
       "</div>"
      ],
      "text/plain": [
       "              1                                       2                    \\\n",
       "        n_calls n_mins n_messages n_mbs revenue n_calls n_mins n_messages   \n",
       "user_id                                                                     \n",
       "1001        NaN    NaN        NaN   NaN     NaN     NaN    NaN        NaN   \n",
       "1002        NaN    NaN        NaN   NaN     NaN     NaN    NaN        NaN   \n",
       "1003        NaN    NaN        NaN   NaN     NaN     0.0    0.0        0.0   \n",
       "1004        NaN    NaN        NaN   NaN     NaN     NaN    NaN        NaN   \n",
       "1005        NaN    NaN        NaN   NaN     NaN     NaN    NaN        NaN   \n",
       "1007        NaN    NaN        NaN   NaN     NaN     NaN    NaN        NaN   \n",
       "1008        NaN    NaN        NaN   NaN     NaN     NaN    NaN        NaN   \n",
       "1009        NaN    NaN        NaN   NaN     NaN     NaN    NaN        NaN   \n",
       "1010        NaN    NaN        NaN   NaN     NaN     NaN    NaN        NaN   \n",
       "1011        NaN    NaN        NaN   NaN     NaN     0.0    0.0        0.0   \n",
       "1012        NaN    NaN        NaN   NaN     NaN     NaN    NaN        NaN   \n",
       "1013        NaN    NaN        NaN   NaN     NaN     NaN    NaN        NaN   \n",
       "1014        NaN    NaN        NaN   NaN     NaN     NaN    NaN        NaN   \n",
       "1016        NaN    NaN        NaN   NaN     NaN     NaN    NaN        NaN   \n",
       "1017        NaN    NaN        NaN   NaN     NaN     NaN    NaN        NaN   \n",
       "1018        NaN    NaN        NaN   NaN     NaN     NaN    NaN        NaN   \n",
       "1019        NaN    NaN        NaN   NaN     NaN     0.0    0.0        0.0   \n",
       "1020        NaN    NaN        NaN   NaN     NaN     NaN    NaN        NaN   \n",
       "1022        NaN    NaN        NaN   NaN     NaN     NaN    NaN        NaN   \n",
       "1023        NaN    NaN        NaN   NaN     NaN     NaN    NaN        NaN   \n",
       "\n",
       "                            3                                       4         \\\n",
       "        n_mbs revenue n_calls n_mins n_messages n_mbs revenue n_calls n_mins   \n",
       "user_id                                                                        \n",
       "1001      NaN     NaN     NaN    NaN        NaN   NaN     NaN     NaN    NaN   \n",
       "1002      NaN     NaN     NaN    NaN        NaN   NaN     NaN     NaN    NaN   \n",
       "1003      0.0      20     0.0    0.0        0.0   0.0      20     0.0    0.0   \n",
       "1004      NaN     NaN     NaN    NaN        NaN   NaN     NaN     NaN    NaN   \n",
       "1005      NaN     NaN     NaN    NaN        NaN   NaN     NaN     NaN    NaN   \n",
       "1007      NaN     NaN     NaN    NaN        NaN   NaN     NaN     NaN    NaN   \n",
       "1008      NaN     NaN     NaN    NaN        NaN   NaN     NaN     NaN    NaN   \n",
       "1009      NaN     NaN     NaN    NaN        NaN   NaN     NaN     NaN    NaN   \n",
       "1010      NaN     NaN     NaN    NaN        NaN   NaN     NaN    76.0  656.0   \n",
       "1011      0.0      70     0.0    0.0        0.0   0.0      70     0.0    0.0   \n",
       "1012      NaN     NaN     NaN    NaN        NaN   NaN     NaN     NaN    NaN   \n",
       "1013      NaN     NaN     NaN    NaN        NaN   NaN     NaN     NaN    NaN   \n",
       "1014      NaN     NaN     NaN    NaN        NaN   NaN     NaN     NaN    NaN   \n",
       "1016      NaN     NaN     NaN    NaN        NaN   NaN     NaN     NaN    NaN   \n",
       "1017      NaN     NaN     NaN    NaN        NaN   NaN     NaN     NaN    NaN   \n",
       "1018      NaN     NaN     NaN    NaN        NaN   NaN     NaN     NaN    NaN   \n",
       "1019      0.0      20     0.0    0.0        0.0   0.0      20     0.0    0.0   \n",
       "1020      NaN     NaN     NaN    NaN        NaN   NaN     NaN     NaN    NaN   \n",
       "1022      NaN     NaN     NaN    NaN        NaN   NaN     NaN     NaN    NaN   \n",
       "1023      NaN     NaN     NaN    NaN        NaN   NaN     NaN     NaN    NaN   \n",
       "\n",
       "                                           5                              \\\n",
       "        n_messages     n_mbs revenue n_calls n_mins n_messages     n_mbs   \n",
       "user_id                                                                    \n",
       "1001           NaN       NaN     NaN     NaN    NaN        NaN       NaN   \n",
       "1002           NaN       NaN     NaN     NaN    NaN        NaN       NaN   \n",
       "1003           0.0      0.00      20     0.0    0.0        0.0      0.00   \n",
       "1004           NaN       NaN     NaN     NaN    NaN        NaN       NaN   \n",
       "1005           NaN       NaN     NaN     NaN    NaN        NaN       NaN   \n",
       "1007           NaN       NaN     NaN     NaN    NaN        NaN       NaN   \n",
       "1008           NaN       NaN     NaN     NaN    NaN        NaN       NaN   \n",
       "1009           NaN       NaN     NaN    61.0  534.0        0.0  20389.40   \n",
       "1010           0.0  19722.34   74.68    64.0  532.0        0.0  15888.52   \n",
       "1011           0.0      0.00      70     0.0    0.0        0.0      0.00   \n",
       "1012           NaN       NaN     NaN     NaN    NaN        NaN       NaN   \n",
       "1013           NaN       NaN     NaN     NaN    NaN        NaN       NaN   \n",
       "1014           NaN       NaN     NaN     NaN    NaN        NaN       NaN   \n",
       "1016           NaN       NaN     NaN     NaN    NaN        NaN       NaN   \n",
       "1017           NaN       NaN     NaN     NaN    NaN        NaN       NaN   \n",
       "1018           NaN       NaN     NaN     NaN    NaN        NaN       NaN   \n",
       "1019           0.0      0.00      20     0.0    0.0        0.0      0.00   \n",
       "1020           NaN       NaN     NaN     NaN    NaN        NaN       NaN   \n",
       "1022           NaN       NaN     NaN    32.0  302.0        0.0   4908.08   \n",
       "1023           NaN       NaN     NaN     NaN    NaN        NaN       NaN   \n",
       "\n",
       "                      6                                           7         \\\n",
       "        revenue n_calls n_mins n_messages     n_mbs revenue n_calls n_mins   \n",
       "user_id                                                                      \n",
       "1001        NaN     NaN    NaN        NaN       NaN     NaN     NaN    NaN   \n",
       "1002        NaN     NaN    NaN        NaN       NaN     NaN     NaN    NaN   \n",
       "1003         20     0.0    0.0        0.0      0.00      20     0.0    0.0   \n",
       "1004        NaN    33.0  275.0       18.0  20672.82      80    45.0  381.0   \n",
       "1005        NaN     NaN    NaN        NaN       NaN     NaN     NaN    NaN   \n",
       "1007        NaN     NaN    NaN        NaN       NaN     NaN     NaN    NaN   \n",
       "1008        NaN     NaN    NaN        NaN       NaN     NaN     NaN    NaN   \n",
       "1009      71.02    94.0  823.0        0.0  18845.90   69.69   103.0  880.0   \n",
       "1010      30.96    61.0  553.0        0.0  16829.31   41.59    80.0  698.0   \n",
       "1011         70    13.0  118.0       21.0   6685.11      70    49.0  499.0   \n",
       "1012        NaN     NaN    NaN        NaN       NaN     NaN     0.0    0.0   \n",
       "1013        NaN     NaN    NaN        NaN       NaN     NaN     NaN    NaN   \n",
       "1014        NaN     NaN    NaN        NaN       NaN     NaN     NaN    NaN   \n",
       "1016        NaN     NaN    NaN        NaN       NaN     NaN     NaN    NaN   \n",
       "1017        NaN     NaN    NaN        NaN       NaN     NaN     NaN    NaN   \n",
       "1018        NaN     NaN    NaN        NaN       NaN     NaN     NaN    NaN   \n",
       "1019         20     0.0    0.0        0.0      0.00      20     0.0    0.0   \n",
       "1020        NaN     NaN    NaN        NaN       NaN     NaN     NaN    NaN   \n",
       "1022         20    65.0  490.0        0.0  23436.48     100    56.0  475.0   \n",
       "1023        NaN     NaN    NaN        NaN       NaN     NaN     NaN    NaN   \n",
       "\n",
       "                                           8                              \\\n",
       "        n_messages     n_mbs revenue n_calls n_mins n_messages     n_mbs   \n",
       "user_id                                                                    \n",
       "1001           NaN       NaN     NaN     NaN    NaN        NaN       NaN   \n",
       "1002           NaN       NaN     NaN     NaN    NaN        NaN       NaN   \n",
       "1003           0.0      0.00      20     0.0    0.0        0.0      0.00   \n",
       "1004          26.0  24516.62     110    42.0  354.0       25.0  27981.74   \n",
       "1005           NaN       NaN     NaN     NaN    NaN        NaN       NaN   \n",
       "1007           NaN       NaN     NaN    56.0  456.0       51.0  24439.88   \n",
       "1008           NaN       NaN     NaN     NaN    NaN        NaN       NaN   \n",
       "1009           0.0  30421.65   181.4    88.0  731.0        0.0  24557.52   \n",
       "1010           0.0  12663.11   25.94    80.0  637.0        0.0  19811.84   \n",
       "1011          53.0  21046.41      70    49.0  486.0       54.0  21099.37   \n",
       "1012           0.0      0.00      20     0.0    0.0        0.0      0.00   \n",
       "1013           NaN       NaN     NaN     NaN    NaN        NaN       NaN   \n",
       "1014           NaN       NaN     NaN     NaN    NaN        NaN       NaN   \n",
       "1016           NaN       NaN     NaN     NaN    NaN        NaN       NaN   \n",
       "1017           NaN       NaN     NaN     NaN    NaN        NaN       NaN   \n",
       "1018           NaN       NaN     NaN     NaN    NaN        NaN       NaN   \n",
       "1019           0.0      0.00      20     0.0    0.0        0.0      0.00   \n",
       "1020           NaN       NaN     NaN     NaN    NaN        NaN       NaN   \n",
       "1022           0.0   9933.15      20    69.0  631.0        0.0  21325.33   \n",
       "1023           NaN       NaN     NaN     8.0   72.0        6.0   9991.79   \n",
       "\n",
       "                      9                                          10         \\\n",
       "        revenue n_calls n_mins n_messages     n_mbs revenue n_calls n_mins   \n",
       "user_id                                                                      \n",
       "1001        NaN    38.0  315.0       44.0  13314.82      20    47.0  393.0   \n",
       "1002        NaN     NaN    NaN        NaN       NaN     NaN     NaN    NaN   \n",
       "1003         20     0.0    0.0        0.0      0.00      20     0.0    0.0   \n",
       "1004        150    32.0  301.0       21.0  18852.72      60    47.0  365.0   \n",
       "1005        NaN     NaN    NaN        NaN       NaN     NaN     NaN    NaN   \n",
       "1007     110.03    49.0  399.0       47.0  28123.95     150    70.0  645.0   \n",
       "1008        NaN     0.0    0.0        0.0      0.00      70    54.0  476.0   \n",
       "1009     116.93    92.0  776.0        0.0  20962.40   88.28    93.0  740.0   \n",
       "1010      74.11    69.0  601.0        0.0  16813.73   43.03    78.0  711.0   \n",
       "1011         70    55.0  484.0       60.0  16638.46      70    60.0  504.0   \n",
       "1012         20     0.0    0.0        0.0      0.00      20     0.0    0.0   \n",
       "1013        NaN     NaN    NaN        NaN       NaN     NaN     NaN    NaN   \n",
       "1014        NaN     NaN    NaN        NaN       NaN     NaN     NaN    NaN   \n",
       "1016        NaN     NaN    NaN        NaN       NaN     NaN     NaN    NaN   \n",
       "1017        NaN    50.0  362.0       41.0  24478.92     110    50.0  400.0   \n",
       "1018        NaN     NaN    NaN        NaN       NaN     NaN     NaN    NaN   \n",
       "1019         20     0.0    0.0        0.0      0.00      20     0.0    0.0   \n",
       "1020        NaN     NaN    NaN        NaN       NaN     NaN     NaN    NaN   \n",
       "1022      83.93     NaN    NaN        NaN       NaN     NaN     NaN    NaN   \n",
       "1023         20     0.0    0.0        0.0      0.00      20     0.0    0.0   \n",
       "\n",
       "                                          11                              \\\n",
       "        n_messages     n_mbs revenue n_calls n_mins n_messages     n_mbs   \n",
       "user_id                                                                    \n",
       "1001          53.0  22330.49   90.09    49.0  426.0       36.0  18504.30   \n",
       "1002           NaN       NaN     NaN    48.0  386.0       32.0  19345.08   \n",
       "1003           0.0      0.00      20     0.0    0.0        0.0      0.00   \n",
       "1004          24.0  14541.63      20    45.0  476.0       25.0  21850.78   \n",
       "1005           NaN       NaN     NaN     NaN    NaN        NaN       NaN   \n",
       "1007          59.0  37885.63  244.62    61.0  524.0       48.0  24334.00   \n",
       "1008          21.0  17106.99      70    50.0  446.0       37.0  23676.72   \n",
       "1009           0.0  22664.84   107.2    80.0  714.0        0.0  25473.43   \n",
       "1010           0.0  16937.78   46.33    26.0  258.0        0.0   7985.59   \n",
       "1011          64.0  24575.65      70    57.0  505.0       58.0  22102.97   \n",
       "1012           0.0      0.00      20     NaN    NaN        NaN       NaN   \n",
       "1013           NaN       NaN     NaN     NaN    NaN        NaN       NaN   \n",
       "1014           NaN       NaN     NaN     NaN    NaN        NaN       NaN   \n",
       "1016           NaN       NaN     NaN    76.0  649.0       46.0  27501.33   \n",
       "1017          35.0  28478.25     150    45.0  384.0       29.0  19093.04   \n",
       "1018           NaN       NaN     NaN    67.0  636.0        5.0  15266.53   \n",
       "1019           0.0      0.00      20     5.0   44.0       24.0   3012.91   \n",
       "1020           NaN       NaN     NaN     NaN    NaN        NaN       NaN   \n",
       "1022           NaN       NaN     NaN     NaN    NaN        NaN       NaN   \n",
       "1023           0.0      0.00      20     0.0    0.0        0.0      0.00   \n",
       "\n",
       "                     12                                           plan  \n",
       "        revenue n_calls  n_mins n_messages     n_mbs revenue            \n",
       "user_id                                                                 \n",
       "1001         60    46.0   412.0       44.0  19369.18      60      surf  \n",
       "1002         60    38.0   384.0       41.0  14396.24      20      surf  \n",
       "1003         20   118.0  1104.0       50.0  27044.14  158.12      surf  \n",
       "1004         90    43.0   427.0       31.0  21389.29      80      surf  \n",
       "1005        NaN    50.0   496.0       11.0  17140.17      40      surf  \n",
       "1007     110.72    71.0   617.0       50.0  29069.28  163.51      surf  \n",
       "1008         70    65.0   634.0       26.0  14689.33      70  ultimate  \n",
       "1009     126.42    87.0   756.0        0.0  23922.60  117.68      surf  \n",
       "1010         20     0.0     0.0        0.0      0.00      20      surf  \n",
       "1011         70    39.0   311.0       61.0  19630.63      70  ultimate  \n",
       "1012        NaN     NaN     NaN        NaN       NaN     NaN      surf  \n",
       "1013        NaN    26.0   219.0       16.0  20113.92      70  ultimate  \n",
       "1014        NaN   125.0  1114.0       64.0   7792.41   38.84      surf  \n",
       "1016     144.47    94.0   837.0       38.0  28188.01  160.11      surf  \n",
       "1017         60    51.0   476.0       42.0  21136.58      80      surf  \n",
       "1018      24.08    59.0   476.0        8.0  17390.55      40      surf  \n",
       "1019         20    49.0   467.0      128.0  28127.77  152.34      surf  \n",
       "1020        NaN    59.0   500.0        3.0  19749.08      70      surf  \n",
       "1022        NaN     NaN     NaN        NaN       NaN     NaN      surf  \n",
       "1023         20     0.0     0.0        0.0      0.00      20      surf  "
      ]
     },
     "execution_count": 40,
     "metadata": {},
     "output_type": "execute_result"
    }
   ],
   "source": [
    "agg_df.head(20)"
   ]
  },
  {
   "cell_type": "markdown",
   "metadata": {},
   "source": [
    "Looks complete. \n",
    "\n",
    "Interestingly there appear to be plenty of users who signed up but didn't use any of their allowance. This still produces revenue but might need to be considered when analysing other aspects of usage."
   ]
  },
  {
   "cell_type": "markdown",
   "metadata": {},
   "source": [
    "## Study user behaviour"
   ]
  },
  {
   "cell_type": "markdown",
   "metadata": {},
   "source": [
    "We can look deeper into user behaviour by analysing typical calls, messages and internet usage per month per plan."
   ]
  },
  {
   "cell_type": "code",
   "execution_count": 41,
   "metadata": {},
   "outputs": [],
   "source": [
    "#creating different dataframes for those on different plans\n",
    "surf_df = agg_df[agg_df['plan'] == 'surf']\n",
    "ultimate_df = agg_df[agg_df['plan'] == 'ultimate']"
   ]
  },
  {
   "cell_type": "code",
   "execution_count": 42,
   "metadata": {},
   "outputs": [
    {
     "name": "stdout",
     "output_type": "stream",
     "text": [
      "310\n",
      "152\n"
     ]
    }
   ],
   "source": [
    "#checking how many users on each plan\n",
    "print(len(surf_df['plan']))\n",
    "print(len(ultimate_df['plan']))"
   ]
  },
  {
   "cell_type": "markdown",
   "metadata": {},
   "source": [
    "### Calls"
   ]
  },
  {
   "cell_type": "markdown",
   "metadata": {},
   "source": [
    "We can start by analysing the average call length per month."
   ]
  },
  {
   "cell_type": "code",
   "execution_count": 43,
   "metadata": {},
   "outputs": [
    {
     "data": {
      "image/png": "[encoded data removed]",
      "text/plain": [
       "<Figure size 720x720 with 1 Axes>"
      ]
     },
     "metadata": {
      "needs_background": "light"
     },
     "output_type": "display_data"
    }
   ],
   "source": [
    "#collating monthly data\n",
    "surf_avg_mins = []\n",
    "for month in range(1,13):\n",
    "    surf_avg_mins.append(surf_df[month]['n_mins'].sum()/surf_df[month]['n_calls'].sum())  \n",
    "\n",
    "\n",
    "\n",
    "ultimate_avg_mins = []\n",
    "for month in range(1,13):\n",
    "    ultimate_avg_mins.append(ultimate_df[month]['n_mins'].sum()/ultimate_df[month]['n_calls'].sum()) \n",
    "\n",
    "# Position of bars on x-axis\n",
    "ind = np.arange(12)\n",
    "\n",
    "width = 0.3\n",
    "\n",
    "plt.figure(figsize=(10,10))\n",
    "\n",
    "# Plotting\n",
    "plt.bar(ind, surf_avg_mins , width, label='surf_avg_mins')\n",
    "plt.bar(ind + width, ultimate_avg_mins, width, label='ultimate_avg_mins')\n",
    "plt.ylim(0,10)\n",
    "plt.xlabel('month')\n",
    "plt.ylabel('mean_mins_used_per_call')\n",
    "plt.title('call_duration_per_month')\n",
    "\n",
    "plt.xticks(ind + width / 2, (list(range(1,13))))\n",
    "\n",
    "plt.legend(loc='best')\n",
    "plt.show()"
   ]
  },
  {
   "cell_type": "markdown",
   "metadata": {},
   "source": [
    "Although we don't have any data from January for the surf plan, it appears that the average call duration doesn't vary much month to month nor is there any obvious differences between different plans.\n",
    "\n",
    "We can go onto investigate the number of minutes users are using each month."
   ]
  },
  {
   "cell_type": "markdown",
   "metadata": {},
   "source": [
    "For future analysis, when we are not comparing months but we want to compare monthly data. We can collate this into one list to aid with data visualisation. We can write a function to do just that."
   ]
  },
  {
   "cell_type": "code",
   "execution_count": 44,
   "metadata": {},
   "outputs": [],
   "source": [
    "def clean_list(df, cols):\n",
    "    l = []\n",
    "    for month in range(1,13):\n",
    "        #collating into lsit of lists\n",
    "        l.append(df[month][cols])\n",
    "    \n",
    "    #converting list of lists to one list\n",
    "    l = [item for sublist in l for item in sublist]\n",
    "    \n",
    "    #removing nan values as these arestill counted in len function\n",
    "    l =  [x for x in l if x == x]\n",
    "    \n",
    "    return l"
   ]
  },
  {
   "cell_type": "code",
   "execution_count": 45,
   "metadata": {},
   "outputs": [
    {
     "data": {
      "text/plain": [
       "<Figure size 432x288 with 0 Axes>"
      ]
     },
     "metadata": {},
     "output_type": "display_data"
    },
    {
     "data": {
      "image/png": "[encoded data removed]",
      "text/plain": [
       "<Figure size 1080x720 with 1 Axes>"
      ]
     },
     "metadata": {
      "needs_background": "light"
     },
     "output_type": "display_data"
    }
   ],
   "source": [
    "# Comparing the number of minutes users of each plan require each month\n",
    "plt.clf()\n",
    "surf_mins_list_clean = clean_list(surf_df, 'n_mins')\n",
    "ultimate_mins_list_clean = clean_list(ultimate_df, 'n_mins')\n",
    "\n",
    "#creating histogram, weights are added to convert data into percentages of their respective datasets\n",
    "#this will make it easier to compare between datasets with unequal numbers of users\n",
    "plt.figure(figsize=(15,10))\n",
    "plt.hist(surf_mins_list_clean, weights= np.ones(len(surf_mins_list_clean)) / len(surf_mins_list_clean) , alpha = 0.5,bins= list(range(0,3000,50)), label='surf_plan_users')\n",
    "plt.hist(ultimate_mins_list_clean, weights=np.ones(len(ultimate_mins_list_clean)) / len(ultimate_mins_list_clean) , alpha = 0.5, bins= list(range(0,3000,50)), label='ultimate_plan_users')\n",
    "\n",
    "#adding formatting\n",
    "plt.gca().yaxis.set_major_formatter(PercentFormatter(1))\n",
    "plt.xlabel('n_mins_per_month')\n",
    "plt.ylabel('percentage_of_users')\n",
    "plt.title('percentage of customers using given number of minutes per month')\n",
    "\n",
    "#adding lines at the plan allowances\n",
    "plt.axvline(x = plan_allowance['surf']['mins'], color = 'b', linestyle='--', label = 'surf_allowance')\n",
    "plt.axvline(x = plan_allowance['ultimate']['mins'], color = 'orange', linestyle='--', label = 'ultimate_allowance')\n",
    "\n",
    "\n",
    "plt.legend(loc='best')\n",
    "plt.show()"
   ]
  },
  {
   "cell_type": "markdown",
   "metadata": {},
   "source": [
    "As previously observed, there are a lot of users who are using 0 minutes of their plan each month.\n",
    "We can take a closer look at those who used at least 1 minute."
   ]
  },
  {
   "cell_type": "code",
   "execution_count": 46,
   "metadata": {},
   "outputs": [
    {
     "data": {
      "image/png": "[encoded data removed]",
      "text/plain": [
       "<Figure size 1080x720 with 1 Axes>"
      ]
     },
     "metadata": {
      "needs_background": "light"
     },
     "output_type": "display_data"
    }
   ],
   "source": [
    "plt.figure(figsize=(15,10))\n",
    "plt.hist(surf_mins_list_clean, weights= np.ones(len(surf_mins_list_clean)) / len(surf_mins_list_clean) , alpha = 0.5,bins= list(range(1,3001,50)), label='surf_plan_users')\n",
    "plt.hist(ultimate_mins_list_clean, weights=np.ones(len(ultimate_mins_list_clean)) / len(ultimate_mins_list_clean) , alpha = 0.5, bins= list(range(1,3001,50)), label='ultimate_plan_users')\n",
    "\n",
    "plt.gca().yaxis.set_major_formatter(PercentFormatter(1))\n",
    "plt.xlabel('n_mins_per_month')\n",
    "plt.ylabel('percentage_of_users')\n",
    "plt.title('percentage of customers using given number of minutes per month (>0)')\n",
    "\n",
    "plt.axvline(x = plan_allowance['surf']['mins'], color = 'b', linestyle='--', label = 'surf_allowance')\n",
    "plt.axvline(x = plan_allowance['ultimate']['mins'], color = 'orange', linestyle='--', label = 'ultimate_allowance')\n",
    "\n",
    "\n",
    "plt.legend(loc='best')\n",
    "\n",
    "\n",
    "\n",
    "plt.show()"
   ]
  },
  {
   "cell_type": "markdown",
   "metadata": {},
   "source": [
    "Interesting to note that almost all users come nowhere near to surpassing the ultimate allowance.\n",
    "\n",
    "The data looks to be approxiamtely normally distributed without too many differences between the plan types.\n",
    "We can check that by looking at the means and variances."
   ]
  },
  {
   "cell_type": "code",
   "execution_count": 47,
   "metadata": {},
   "outputs": [
    {
     "name": "stdout",
     "output_type": "stream",
     "text": [
      "Surf mean: 325.00, Surf variance: 78914.57\n",
      "Ultimate mean: 316.77, Ultimate variance: 82422.17\n"
     ]
    }
   ],
   "source": [
    "# Calculating the mean and the variance of the monthly call duration\n",
    "\n",
    "s_mean = statistics.mean(surf_mins_list_clean)\n",
    "s_var = statistics.variance(surf_mins_list_clean)\n",
    "\n",
    "u_mean = statistics.mean(ultimate_mins_list_clean)\n",
    "u_var = statistics.variance(ultimate_mins_list_clean)\n",
    "\n",
    "print(f'Surf mean: {s_mean:.2f}, Surf variance: {s_var:.2f}')\n",
    "print(f'Ultimate mean: {u_mean:.2f}, Ultimate variance: {u_var:.2f}')"
   ]
  },
  {
   "cell_type": "markdown",
   "metadata": {},
   "source": [
    "This confirms what we saw above that the two plans have very similar means and variances."
   ]
  },
  {
   "cell_type": "code",
   "execution_count": 48,
   "metadata": {},
   "outputs": [
    {
     "data": {
      "text/plain": [
       "<Figure size 432x288 with 0 Axes>"
      ]
     },
     "metadata": {},
     "output_type": "display_data"
    },
    {
     "data": {
      "image/png": "[encoded data removed]",
      "text/plain": [
       "<Figure size 720x720 with 1 Axes>"
      ]
     },
     "metadata": {
      "needs_background": "light"
     },
     "output_type": "display_data"
    }
   ],
   "source": [
    "# Plotting a boxplot to visualize the distribution of the monthly call duration\n",
    "plt.clf()\n",
    "\n",
    "plt.figure(figsize=(10,10))\n",
    "\n",
    "plt.boxplot([surf_mins_list_clean, ultimate_mins_list_clean], labels = ('Surf', 'Ultimate'))\n",
    "plt.ylabel('mins_per_month')\n",
    "plt.title('distribution of mins used per month')\n",
    "\n",
    "plt.axhline(y = plan_allowance['surf']['mins'], color = 'b', linestyle='--', label = 'surf_allowance')\n",
    "plt.axhline(y = plan_allowance['ultimate']['mins'], color = 'orange', linestyle='--', label = 'ultimate_allowance')\n",
    "\n",
    "plt.legend(loc='upper right')\n",
    "\n",
    "plt.show()"
   ]
  },
  {
   "cell_type": "markdown",
   "metadata": {},
   "source": [
    "It appears that the calling behaviour of users of the Surf plan differs little from the behavious of Ultimate users.\n",
    "\n",
    "Both sets ofof users calls last approximately the same length of time and when looking at the number of minutes used each month, the two datasets have very similar, means, medians, variances and IQRs."
   ]
  },
  {
   "cell_type": "markdown",
   "metadata": {},
   "source": [
    " "
   ]
  },
  {
   "cell_type": "markdown",
   "metadata": {},
   "source": [
    "### Messages"
   ]
  },
  {
   "cell_type": "code",
   "execution_count": 49,
   "metadata": {},
   "outputs": [
    {
     "data": {
      "text/plain": [
       "<Figure size 432x288 with 0 Axes>"
      ]
     },
     "metadata": {},
     "output_type": "display_data"
    },
    {
     "data": {
      "image/png": "[encoded data removed]",
      "text/plain": [
       "<Figure size 1080x720 with 1 Axes>"
      ]
     },
     "metadata": {
      "needs_background": "light"
     },
     "output_type": "display_data"
    }
   ],
   "source": [
    "# Comparing the number of messages users of each plan tend to send each month\n",
    "plt.clf()\n",
    "surf_msgs_list_clean = clean_list(surf_df, 'n_messages')\n",
    "ultimate_msgs_list_clean = clean_list(ultimate_df, 'n_messages')\n",
    "\n",
    "\n",
    "plt.figure(figsize=(15,10))\n",
    "#weights are added to get data as a percentage\n",
    "plt.hist(surf_msgs_list_clean, weights= np.ones(len(surf_msgs_list_clean)) / len(surf_msgs_list_clean) , alpha = 0.5,bins= list(range(0,1000,10)), label='surf_plan_users')\n",
    "plt.hist(ultimate_msgs_list_clean, weights=np.ones(len(ultimate_msgs_list_clean)) / len(ultimate_msgs_list_clean) , alpha = 0.5, bins= list(range(0,1000,10)), label='ultimate_plan_users')\n",
    "\n",
    "\n",
    "plt.gca().yaxis.set_major_formatter(PercentFormatter(1))\n",
    "plt.xlabel('n_messages_per_month')\n",
    "plt.ylabel('percentage_of_users')\n",
    "plt.title('percentage of customers sending given number of messages per month')\n",
    "\n",
    "plt.axvline(x = plan_allowance['surf']['msgs'], color = 'b', linestyle='--', label = 'surf_allowance')\n",
    "plt.axvline(x = plan_allowance['ultimate']['msgs'], color = 'orange', linestyle='--', label = 'ultimate_allowance')\n",
    "\n",
    "\n",
    "plt.legend(loc='upper right')\n",
    "plt.show()"
   ]
  },
  {
   "cell_type": "markdown",
   "metadata": {},
   "source": [
    "An even greater percentage of users are sending zero messages a month, lets take a closer look at those sending at least one."
   ]
  },
  {
   "cell_type": "code",
   "execution_count": 50,
   "metadata": {},
   "outputs": [
    {
     "data": {
      "image/png": "[encoded data removed]",
      "text/plain": [
       "<Figure size 1080x720 with 1 Axes>"
      ]
     },
     "metadata": {
      "needs_background": "light"
     },
     "output_type": "display_data"
    }
   ],
   "source": [
    "plt.figure(figsize=(15,10))\n",
    "#weights are added to get data as a percentage\n",
    "plt.hist(surf_msgs_list_clean, weights= np.ones(len(surf_msgs_list_clean)) / len(surf_msgs_list_clean) , alpha = 0.5,bins= list(range(1,301,10)), label='surf_plan_users')\n",
    "plt.hist(ultimate_msgs_list_clean, weights=np.ones(len(ultimate_msgs_list_clean)) / len(ultimate_msgs_list_clean) , alpha = 0.5, bins= list(range(1,301,10)), label='ultimate_plan_users')\n",
    "\n",
    "\n",
    "plt.gca().yaxis.set_major_formatter(PercentFormatter(1))\n",
    "plt.xlabel('n_messages_per_month')\n",
    "plt.ylabel('percentage_of_users')\n",
    "plt.title('percentage of customers sending given number of messages per month (>0)')\n",
    "\n",
    "plt.axvline(x = plan_allowance['surf']['msgs'], color = 'b', linestyle='--', label = 'surf_allowance')\n",
    "#plt.axvline(x = plan_allowance['ultimate']['msgs'], color = 'orange', linestyle='--', label = 'ultimate_allowance')\n",
    "\n",
    "plt.legend(loc='upper right')\n",
    "\n",
    "plt.show()"
   ]
  },
  {
   "cell_type": "code",
   "execution_count": 51,
   "metadata": {},
   "outputs": [
    {
     "name": "stdout",
     "output_type": "stream",
     "text": [
      "Surf mean: 23.44, Surf variance: 1061.85\n",
      "Ultimate mean: 27.55, Ultimate variance: 1200.70\n"
     ]
    }
   ],
   "source": [
    "#calculating means and variances\n",
    "\n",
    "s_mean = statistics.mean(surf_msgs_list_clean)\n",
    "s_var = statistics.variance(surf_msgs_list_clean)\n",
    "\n",
    "u_mean = statistics.mean(ultimate_msgs_list_clean)\n",
    "u_var = statistics.variance(ultimate_msgs_list_clean)\n",
    "\n",
    "print(f'Surf mean: {s_mean:.2f}, Surf variance: {s_var:.2f}')\n",
    "print(f'Ultimate mean: {u_mean:.2f}, Ultimate variance: {u_var:.2f}')"
   ]
  },
  {
   "cell_type": "code",
   "execution_count": 52,
   "metadata": {},
   "outputs": [
    {
     "data": {
      "text/plain": [
       "<Figure size 432x288 with 0 Axes>"
      ]
     },
     "metadata": {},
     "output_type": "display_data"
    },
    {
     "data": {
      "image/png": "[encoded data removed]",
      "text/plain": [
       "<Figure size 720x504 with 1 Axes>"
      ]
     },
     "metadata": {
      "needs_background": "light"
     },
     "output_type": "display_data"
    }
   ],
   "source": [
    "plt.clf()\n",
    "\n",
    "plt.figure(figsize=(10,7))\n",
    "\n",
    "plt.boxplot([surf_msgs_list_clean, ultimate_msgs_list_clean], labels = ('Surf', 'Ultimate'))\n",
    "plt.ylabel('msgs_per_month')\n",
    "plt.title('distribution of messages sent per month')\n",
    "\n",
    "plt.axhline(y = plan_allowance['surf']['msgs'], color = 'b', linestyle='--', label = 'surf_allowance')\n",
    "#plt.axhline(y = plan_allowance['ultimate']['msgs'], color = 'orange', linestyle='--', label = 'ultimate_allowance')\n",
    "\n",
    "plt.legend(loc='upper right')\n",
    "\n",
    "\n",
    "plt.show()"
   ]
  },
  {
   "cell_type": "markdown",
   "metadata": {},
   "source": [
    "Here we can see a slight difference, Ultimate plan users tend to send more messages per month and have a slightly higher variance in their behaviour.\n",
    "Again we can see that no users are getting anywhere close to the Ultimate plan allowance.\n"
   ]
  },
  {
   "cell_type": "markdown",
   "metadata": {},
   "source": [
    " "
   ]
  },
  {
   "cell_type": "markdown",
   "metadata": {},
   "source": [
    "### Internet\n",
    "\n",
    "We can do what we have been doing above to analyse users internet usage."
   ]
  },
  {
   "cell_type": "code",
   "execution_count": 53,
   "metadata": {},
   "outputs": [
    {
     "data": {
      "text/plain": [
       "<Figure size 432x288 with 0 Axes>"
      ]
     },
     "metadata": {},
     "output_type": "display_data"
    },
    {
     "data": {
      "image/png": "[encoded data removed]",
      "text/plain": [
       "<Figure size 1080x720 with 1 Axes>"
      ]
     },
     "metadata": {
      "needs_background": "light"
     },
     "output_type": "display_data"
    }
   ],
   "source": [
    "#plottng mbs used\n",
    "plt.clf()\n",
    "surf_data_list_clean = clean_list(surf_df, 'n_mbs')\n",
    "ultimate_data_list_clean = clean_list(ultimate_df, 'n_mbs')\n",
    "\n",
    "plt.figure(figsize=(15,10))\n",
    "plt.hist(surf_data_list_clean, weights= np.ones(len(surf_data_list_clean)) / len(surf_data_list_clean) , alpha = 0.5,bins= list(range(0,60000,2000)), label='surf_plan_users')\n",
    "plt.hist(ultimate_data_list_clean, weights=np.ones(len(ultimate_data_list_clean)) / len(ultimate_data_list_clean) , alpha = 0.5, bins= list(range(0,60000,2000)), label='ultimate_plan_users')\n",
    "\n",
    "\n",
    "plt.gca().yaxis.set_major_formatter(PercentFormatter(1))\n",
    "plt.xlabel('n_mins_per_month')\n",
    "plt.ylabel('percentage_of_users')\n",
    "plt.title('percentage of customers using given number of megabytes per month (>1)')\n",
    "\n",
    "\n",
    "plt.axvline(x = plan_allowance['surf']['mbs'], color = 'b', linestyle='--', label = 'surf_allowance')\n",
    "plt.axvline(x = plan_allowance['ultimate']['mbs'], color = 'orange', linestyle='--', label = 'ultimate_allowance')\n",
    "\n",
    "plt.legend(loc='best')\n",
    "plt.show()"
   ]
  },
  {
   "cell_type": "markdown",
   "metadata": {},
   "source": [
    "Again, we see a number of users using 0 Mb we can look at those who used a non-zero amount of data."
   ]
  },
  {
   "cell_type": "code",
   "execution_count": 54,
   "metadata": {},
   "outputs": [
    {
     "data": {
      "image/png": "[encoded data removed]",
      "text/plain": [
       "<Figure size 1080x720 with 1 Axes>"
      ]
     },
     "metadata": {
      "needs_background": "light"
     },
     "output_type": "display_data"
    }
   ],
   "source": [
    "plt.figure(figsize=(15,10))\n",
    "plt.hist(surf_data_list_clean, weights= np.ones(len(surf_data_list_clean)) / len(surf_data_list_clean) , alpha = 0.5,bins= list(range(1,60001,2000)), label='surf_plan_users')\n",
    "plt.hist(ultimate_data_list_clean, weights=np.ones(len(ultimate_data_list_clean)) / len(ultimate_data_list_clean) , alpha = 0.5, bins= list(range(1,60001,2000)), label='ultimate_plan_users')\n",
    "\n",
    "\n",
    "plt.gca().yaxis.set_major_formatter(PercentFormatter(1))\n",
    "plt.xlabel('n_mbs_per_month')\n",
    "plt.ylabel('percentage_of_users')\n",
    "plt.title('percentage of customers using given number of megabytes per month (>0)')\n",
    "\n",
    "plt.axvline(x = plan_allowance['surf']['mbs'], color = 'b', linestyle='--', label = 'surf_allowance')\n",
    "plt.axvline(x = plan_allowance['ultimate']['mbs'], color = 'orange', linestyle='--', label = 'ultimate_allowance')\n",
    "\n",
    "plt.legend(loc='best')\n",
    "plt.show()"
   ]
  },
  {
   "cell_type": "code",
   "execution_count": 55,
   "metadata": {},
   "outputs": [
    {
     "name": "stdout",
     "output_type": "stream",
     "text": [
      "Surf mean: 12561.62, Surf variance: 104341347.49\n",
      "Ultimate mean: 12714.18, Ultimate variance: 108994312.85\n"
     ]
    }
   ],
   "source": [
    "s_mean = statistics.mean(surf_data_list_clean)\n",
    "s_var = statistics.variance(surf_data_list_clean)\n",
    "\n",
    "u_mean = statistics.mean(ultimate_data_list_clean)\n",
    "u_var = statistics.variance(ultimate_data_list_clean)\n",
    "\n",
    "print(f'Surf mean: {s_mean:.2f}, Surf variance: {s_var:.2f}')\n",
    "print(f'Ultimate mean: {u_mean:.2f}, Ultimate variance: {u_var:.2f}')"
   ]
  },
  {
   "cell_type": "code",
   "execution_count": 56,
   "metadata": {},
   "outputs": [
    {
     "data": {
      "text/plain": [
       "<Figure size 432x288 with 0 Axes>"
      ]
     },
     "metadata": {},
     "output_type": "display_data"
    },
    {
     "data": {
      "image/png": "[encoded data removed]",
      "text/plain": [
       "<Figure size 720x504 with 1 Axes>"
      ]
     },
     "metadata": {
      "needs_background": "light"
     },
     "output_type": "display_data"
    }
   ],
   "source": [
    "plt.clf()\n",
    "\n",
    "plt.figure(figsize=(10,7))\n",
    "\n",
    "plt.boxplot([surf_data_list_clean, ultimate_data_list_clean], labels = ('Surf', 'Ultimate'))\n",
    "plt.ylabel('mbs_per_month')\n",
    "plt.title('distribution of data used per month')\n",
    "\n",
    "plt.axhline(y = plan_allowance['surf']['mbs'], color = 'b', linestyle='--', label = 'surf_allowance')\n",
    "plt.axhline(y = plan_allowance['ultimate']['mbs'], color = 'orange', linestyle='--', label = 'ultimate_allowance')\n",
    "\n",
    "plt.legend(loc='upper right')\n",
    "\n",
    "\n",
    "plt.show()"
   ]
  },
  {
   "cell_type": "markdown",
   "metadata": {},
   "source": [
    "We can see two quite similar distributions in Mbs used, with a large number of Surf users using over their allowance, and a few users of both plans using more than the Ultimate allowance, with the top 5 monthly uses of data all being users on the Surf plan, although Ultimate users had a higher mean and variance.\n",
    "\n",
    "As seen from the boxplot, nearly 50% of Surf users months exceeded the surf allowance, which could cause users of those plans to pay more than the ultimate cost for some months."
   ]
  },
  {
   "cell_type": "markdown",
   "metadata": {},
   "source": [
    " "
   ]
  },
  {
   "cell_type": "markdown",
   "metadata": {},
   "source": [
    "## Revenue"
   ]
  },
  {
   "cell_type": "markdown",
   "metadata": {},
   "source": [
    "\n",
    "We can observe the differences in revenue between plans."
   ]
  },
  {
   "cell_type": "code",
   "execution_count": 57,
   "metadata": {},
   "outputs": [
    {
     "data": {
      "text/plain": [
       "<Figure size 432x288 with 0 Axes>"
      ]
     },
     "metadata": {},
     "output_type": "display_data"
    },
    {
     "data": {
      "image/png": "[encoded data removed]",
      "text/plain": [
       "<Figure size 1080x720 with 1 Axes>"
      ]
     },
     "metadata": {
      "needs_background": "light"
     },
     "output_type": "display_data"
    }
   ],
   "source": [
    "plt.clf()\n",
    "\n",
    "surf_revenue_list_clean = clean_list(surf_df, 'revenue')\n",
    "ultimate_revenue_list_clean = clean_list(ultimate_df, 'revenue')\n",
    "\n",
    "plt.figure(figsize=(15,10))\n",
    "plt.hist(surf_revenue_list_clean, weights= np.ones(len(surf_revenue_list_clean)) / len(surf_revenue_list_clean) , alpha = 0.5,bins= list(range(20,300,10)), label='surf_plan_users')\n",
    "plt.hist(ultimate_revenue_list_clean, weights=np.ones(len(ultimate_revenue_list_clean)) / len(ultimate_revenue_list_clean) , alpha = 0.5, bins= list(range(20,300, 10)), label='ultimate_plan_users')\n",
    "\n",
    "\n",
    "plt.gca().yaxis.set_major_formatter(PercentFormatter(1))\n",
    "plt.xlabel('revenue')\n",
    "plt.ylabel('percentage_of_users')\n",
    "plt.title('percentage of customers producing given revenue per month ')\n",
    "plt.legend(loc='best')\n",
    "plt.show()"
   ]
  },
  {
   "cell_type": "code",
   "execution_count": 58,
   "metadata": {},
   "outputs": [
    {
     "name": "stdout",
     "output_type": "stream",
     "text": [
      "Surf mean: 52.03, Surf variance: 2749.53\n",
      "Ultimate mean: 71.82, Ultimate variance: 103.54\n"
     ]
    }
   ],
   "source": [
    "s_mean = statistics.mean(surf_revenue_list_clean)\n",
    "s_var = statistics.variance(surf_revenue_list_clean)\n",
    "\n",
    "u_mean = statistics.mean(ultimate_revenue_list_clean)\n",
    "u_var = statistics.variance(ultimate_revenue_list_clean)\n",
    "\n",
    "print(f'Surf mean: {s_mean:.2f}, Surf variance: {s_var:.2f}')\n",
    "print(f'Ultimate mean: {u_mean:.2f}, Ultimate variance: {u_var:.2f}')"
   ]
  },
  {
   "cell_type": "code",
   "execution_count": 59,
   "metadata": {},
   "outputs": [
    {
     "name": "stderr",
     "output_type": "stream",
     "text": [
      "No handles with labels found to put in legend.\n"
     ]
    },
    {
     "data": {
      "text/plain": [
       "<Figure size 432x288 with 0 Axes>"
      ]
     },
     "metadata": {},
     "output_type": "display_data"
    },
    {
     "data": {
      "image/png": "[encoded data removed]",
      "text/plain": [
       "<Figure size 720x504 with 1 Axes>"
      ]
     },
     "metadata": {
      "needs_background": "light"
     },
     "output_type": "display_data"
    }
   ],
   "source": [
    "plt.clf()\n",
    "\n",
    "plt.figure(figsize=(10,7))\n",
    "\n",
    "plt.boxplot([surf_revenue_list_clean, ultimate_revenue_list_clean], labels = ('Surf', 'Ultimate'))\n",
    "plt.ylabel('revenue_per_month')\n",
    "plt.title('distribution of revenue per month')\n",
    "\n",
    "#plt.axhline(y = plan_allowance['surf']['mbs'], color = 'b', linestyle='--', label = 'surf_allowance')\n",
    "#plt.axhline(y = plan_allowance['ultimate']['mbs'], color = 'orange', linestyle='--', label = 'ultimate_allowance')\n",
    "\n",
    "plt.legend(loc='upper right')\n",
    "\n",
    "\n",
    "plt.show()\n"
   ]
  },
  {
   "cell_type": "markdown",
   "metadata": {},
   "source": [
    "We can see that ~95% of the time, Ultimate users do not exceed their allowances and pay the basic cost of $70.\n",
    "Only ~55% of the time do Surf users not exceed their allowances, and ~25% of the time their monthly cost exceeds that of the Ultimate plan.\n",
    "\n",
    "The Ultimate mean revenue is much higher than the Surf mean ($72 vs 52) but the surf variance is ~27x higher. (103 vs 2750)\n",
    "\n",
    "We can perform statistical test to confirm wether this difference in means is statistically significant. "
   ]
  },
  {
   "cell_type": "markdown",
   "metadata": {},
   "source": [
    " "
   ]
  },
  {
   "cell_type": "markdown",
   "metadata": {},
   "source": [
    "## Test statistical hypotheses"
   ]
  },
  {
   "cell_type": "markdown",
   "metadata": {},
   "source": [
    "[Test the hypothesis that the average revenue from users of the Ultimate and Surf calling plans differs.]\n",
    "\n",
    "H0: The average revenue of Surf and Ultimate plan users does not differ\n",
    "\n",
    "H1: The average revenue of Surf and Ultimate plan users does differ\n",
    "\n",
    "\n",
    "We can perform a t-test to confirm whether this difference is statistically significant at the 0.05 level. \n",
    "\n",
    "\n",
    "We will set `equal_var` to `False` as the ratio in variances is ~27."
   ]
  },
  {
   "cell_type": "code",
   "execution_count": 60,
   "metadata": {},
   "outputs": [
    {
     "name": "stdout",
     "output_type": "stream",
     "text": [
      "p-value: 1.8940114289027935e-53\n",
      "We reject the null hypothesis\n"
     ]
    }
   ],
   "source": [
    "# Test the hypotheses\n",
    "alpha = 0.05\n",
    "\n",
    "results = st.ttest_ind(surf_revenue_list_clean, ultimate_revenue_list_clean, equal_var = False)\n",
    "\n",
    "print('p-value:', results.pvalue)\n",
    "\n",
    "if (results.pvalue < alpha):\n",
    "    print(\"We reject the null hypothesis\")\n",
    "else:\n",
    "    print(\"We can't reject the null hypothesis\")"
   ]
  },
  {
   "cell_type": "markdown",
   "metadata": {},
   "source": [
    "We can see there is almost no chance that the difference in means was due to random chance, thus we can reject the null hypothesis and confirm that the average revenue of the Ultimate plan is different to that of the Surf plan"
   ]
  },
  {
   "cell_type": "markdown",
   "metadata": {},
   "source": [
    "We are asked to test the hypothesis that average revenue form users from the NY-NJ area is different to that of users from other regions.\n",
    "\n",
    "We can first separate the data into NY-NJ users and non-NY-NJ users then perform a t-test to check if the difference in their means is statistically significant."
   ]
  },
  {
   "cell_type": "code",
   "execution_count": 61,
   "metadata": {},
   "outputs": [],
   "source": [
    "for user in users_df['user_id'].unique():\n",
    "    city = users_df.loc[users_df.user_id == user, 'city'].item()\n",
    "    \n",
    "    if 'NY-NJ' in city:\n",
    "        agg_df.loc[agg_df.index == user, 'ny_nj'] =  1\n",
    "    else:\n",
    "        agg_df.loc[agg_df.index == user, 'ny_nj'] =  0\n",
    "\n",
    "        \n",
    "ny_nj_df = agg_df[agg_df['ny_nj'] == 1]\n",
    "non_ny_nj_df = agg_df[agg_df['ny_nj'] == 0]\n",
    "\n",
    "\n",
    "ny_nj_rev = clean_list(ny_nj_df, 'revenue')\n",
    "non_ny_nj_rev = clean_list(non_ny_nj_df, 'revenue')\n",
    "\n"
   ]
  },
  {
   "cell_type": "code",
   "execution_count": 62,
   "metadata": {},
   "outputs": [
    {
     "name": "stdout",
     "output_type": "stream",
     "text": [
      "NY-NJ mean: 54.49, NY-NJ variance: 1712.18\n",
      "Non-NY-NJ mean: 59.23, Non-NY-NJ variance: 2027.27\n"
     ]
    }
   ],
   "source": [
    "ny_nj_mean = statistics.mean(ny_nj_rev)\n",
    "ny_nj_var = statistics.variance(ny_nj_rev)\n",
    "\n",
    "non_ny_nj_mean = statistics.mean(non_ny_nj_rev)\n",
    "non_ny_nj_var = statistics.variance(non_ny_nj_rev)\n",
    "\n",
    "print(f'NY-NJ mean: {ny_nj_mean:.2f}, NY-NJ variance: {ny_nj_var:.2f}')\n",
    "print(f'Non-NY-NJ mean: {non_ny_nj_mean:.2f}, Non-NY-NJ variance: {non_ny_nj_var:.2f}')"
   ]
  },
  {
   "cell_type": "markdown",
   "metadata": {},
   "source": [
    "We can see that the means differ by ~$5 and both have similar variances. We can see if this difference is significant by performing a statistical test."
   ]
  },
  {
   "cell_type": "markdown",
   "metadata": {},
   "source": [
    "H0: The average revenue of users in NY-NJ area does not differ to users outside NY-NJ\n",
    "\n",
    "H1: The average revenue of users in NY-NJ area does differ to users outside NY-NJ\n",
    "\n",
    "\n",
    "We can perform a t-test to confirm whether this difference is statistically different at the 0.05 level. \n",
    "\n",
    "\n",
    "We will set `equal_var` to `True` as we don't have any reason to expect the characteristics of NY-NJ users to be different from other users."
   ]
  },
  {
   "cell_type": "code",
   "execution_count": 63,
   "metadata": {},
   "outputs": [
    {
     "name": "stdout",
     "output_type": "stream",
     "text": [
      "p-value: 0.036017901362980706\n",
      "We reject the null hypothesis\n"
     ]
    }
   ],
   "source": [
    "alpha = 0.05\n",
    "\n",
    "results = st.ttest_ind(ny_nj_rev, non_ny_nj_rev, equal_var = True)\n",
    "\n",
    "print('p-value:', results.pvalue)\n",
    "\n",
    "if (results.pvalue < alpha):\n",
    "    print(\"We reject the null hypothesis\")\n",
    "else:\n",
    "    print(\"We can't reject the null hypothesis\")\n",
    "    \n",
    "    "
   ]
  },
  {
   "cell_type": "markdown",
   "metadata": {},
   "source": [
    "At the 0.05 significance level we reject our null hypothesis.\n",
    "\n",
    "The average revenue of NY-NJ users is significantly different to non-NY-NJ users.\n",
    "\n",
    "Interestingly we would have not rejected the null hypothesis at the 0.01 significance level."
   ]
  },
  {
   "cell_type": "markdown",
   "metadata": {},
   "source": [
    "## General conclusion\n",
    "\n",
    "\n",
    "In order to effectively analyse which plan bought in more revenue, we had to take a number of steps:\n",
    "\n",
    "- Fixing data and enriching data\n",
    "- Aggregating data\n",
    "- Analysing user behaviour\n",
    "- Performing statistical tests\n",
    "\n",
    "#### Fixing data and enriching data\n",
    "\n",
    "In order to accurately measure monthly revenue, we took the decision to only look at *full months* that users were signed up to a plan. i.e They had signed up on or before the start of the month and if they left, had left on or after the last of the month. In order to do this we had to chnage date columns to datetime objects then look at the date and month attributes of these to determine the start and end months. We then added new columns to denote these.\n",
    "\n",
    "#### Aggregating data\n",
    "\n",
    "We used Multindexing to create a dataframe with each users usage and revenue per month. Using the datetime columns month attribute and groupby to collate data.\n",
    "\n",
    "Calculating revenue meant referring to the plans parameters and for each month and each user, analysing whether they had excedded their allowance and if so, adding that amount to their basic cost.\n",
    "\n",
    "#### Analysing user behaviour\n",
    "\n",
    "We used data visualisations to analyse user behaviour across the two plans. \n",
    "For Calls, messages and data we noticed only small variations in behaviour, with most users not exceeding their monthly allowances each month. However a significant number of Surf users exceed their data allowance, causing an uptick in revenue.\n",
    "\n",
    "#### Performing statistical tests\n",
    "\n",
    "We were tasked with finding out whether the revenue was significantly different between the Surf plan and the Ultimate plan and we found that yes it was.\n",
    "We formed a null and alternative hypothesis, conducted a t-test for independence and rejected the null hypothesis that the plans had the same revenue at the 0.05 level (we would have rejected at 0.01 signifcance level too.\n",
    "\n",
    "The other hypothesis to test was that the users in the NY-NJ area had a different average revenue o those not form the NY-NJ area. Again we performed a t-test for independence and found that this was case as we rejected the null hypothesis at the 0.05 significance level (although we wouldn't have rejected at 0.01 level).\n",
    "\n"
   ]
  },
  {
   "cell_type": "markdown",
   "metadata": {},
   "source": [
    " "
   ]
  }
 ],
 "metadata": {
  "ExecuteTimeLog": [
   {
    "duration": 828,
    "start_time": "2021-11-16T09:21:11.304Z"
   },
   {
    "duration": 893,
    "start_time": "2021-11-16T09:21:17.728Z"
   },
   {
    "duration": 1150,
    "start_time": "2021-11-16T09:21:29.568Z"
   },
   {
    "duration": 3,
    "start_time": "2021-11-16T09:24:14.495Z"
   },
   {
    "duration": 120,
    "start_time": "2021-11-16T09:24:46.630Z"
   },
   {
    "duration": 3,
    "start_time": "2021-11-16T09:28:27.882Z"
   },
   {
    "duration": 4,
    "start_time": "2021-11-16T09:29:54.281Z"
   },
   {
    "duration": 3,
    "start_time": "2021-11-16T09:30:45.936Z"
   },
   {
    "duration": 4,
    "start_time": "2021-11-16T09:31:06.300Z"
   },
   {
    "duration": 113,
    "start_time": "2021-11-16T09:31:37.208Z"
   },
   {
    "duration": 143,
    "start_time": "2021-11-16T09:31:48.656Z"
   },
   {
    "duration": 98,
    "start_time": "2021-11-16T09:31:55.678Z"
   },
   {
    "duration": 3,
    "start_time": "2021-11-16T09:32:08.535Z"
   },
   {
    "duration": 111,
    "start_time": "2021-11-16T09:32:10.120Z"
   },
   {
    "duration": 3,
    "start_time": "2021-11-16T09:32:15.732Z"
   },
   {
    "duration": 4,
    "start_time": "2021-11-16T09:32:29.423Z"
   },
   {
    "duration": 3,
    "start_time": "2021-11-16T10:03:03.074Z"
   },
   {
    "duration": 3,
    "start_time": "2021-11-16T10:10:01.288Z"
   },
   {
    "duration": 3,
    "start_time": "2021-11-16T10:10:46.923Z"
   },
   {
    "duration": 121,
    "start_time": "2021-11-16T10:37:46.494Z"
   },
   {
    "duration": 125,
    "start_time": "2021-11-16T10:38:20.632Z"
   },
   {
    "duration": 112,
    "start_time": "2021-11-16T10:46:53.001Z"
   },
   {
    "duration": 110,
    "start_time": "2021-11-16T10:48:25.775Z"
   },
   {
    "duration": 3,
    "start_time": "2021-11-16T10:50:18.720Z"
   },
   {
    "duration": 4,
    "start_time": "2021-11-16T10:50:37.649Z"
   },
   {
    "duration": 2,
    "start_time": "2021-11-16T10:50:51.884Z"
   },
   {
    "duration": 3,
    "start_time": "2021-11-16T10:51:56.237Z"
   },
   {
    "duration": 101,
    "start_time": "2021-11-16T10:53:13.791Z"
   },
   {
    "duration": 3,
    "start_time": "2021-11-16T10:55:59.186Z"
   },
   {
    "duration": 3,
    "start_time": "2021-11-16T10:56:10.751Z"
   },
   {
    "duration": 3,
    "start_time": "2021-11-16T10:56:49.038Z"
   },
   {
    "duration": 3,
    "start_time": "2021-11-16T10:56:49.174Z"
   },
   {
    "duration": 4,
    "start_time": "2021-11-16T10:56:49.414Z"
   },
   {
    "duration": 3,
    "start_time": "2021-11-16T10:56:49.680Z"
   },
   {
    "duration": 3,
    "start_time": "2021-11-16T10:56:50.370Z"
   },
   {
    "duration": 114,
    "start_time": "2021-11-16T10:59:34.518Z"
   },
   {
    "duration": 3,
    "start_time": "2021-11-16T11:01:41.201Z"
   },
   {
    "duration": 116,
    "start_time": "2021-11-16T11:01:48.754Z"
   },
   {
    "duration": 3,
    "start_time": "2021-11-16T11:02:16.685Z"
   },
   {
    "duration": 3,
    "start_time": "2021-11-16T11:02:19.479Z"
   },
   {
    "duration": 3,
    "start_time": "2021-11-16T11:02:47.067Z"
   },
   {
    "duration": 3,
    "start_time": "2021-11-16T11:02:49.353Z"
   },
   {
    "duration": 3,
    "start_time": "2021-11-16T11:03:07.835Z"
   },
   {
    "duration": 3,
    "start_time": "2021-11-16T11:03:07.953Z"
   },
   {
    "duration": 112,
    "start_time": "2021-11-16T11:07:52.072Z"
   },
   {
    "duration": 187,
    "start_time": "2021-11-16T11:09:23.468Z"
   },
   {
    "duration": 4,
    "start_time": "2021-11-16T11:10:01.455Z"
   },
   {
    "duration": 3,
    "start_time": "2021-11-16T11:10:05.069Z"
   },
   {
    "duration": 4,
    "start_time": "2021-11-16T11:10:13.376Z"
   },
   {
    "duration": 3,
    "start_time": "2021-11-16T11:10:14.434Z"
   },
   {
    "duration": 3,
    "start_time": "2021-11-16T11:10:22.853Z"
   },
   {
    "duration": 4,
    "start_time": "2021-11-16T11:27:29.279Z"
   },
   {
    "duration": 4,
    "start_time": "2021-11-16T11:29:08.919Z"
   },
   {
    "duration": 118,
    "start_time": "2021-11-16T11:29:46.703Z"
   },
   {
    "duration": 437,
    "start_time": "2021-11-16T11:36:02.181Z"
   },
   {
    "duration": 157,
    "start_time": "2021-11-16T11:36:14.388Z"
   },
   {
    "duration": 207,
    "start_time": "2021-11-16T11:47:15.898Z"
   },
   {
    "duration": 3,
    "start_time": "2021-11-16T11:53:52.092Z"
   },
   {
    "duration": 3,
    "start_time": "2021-11-16T11:53:52.236Z"
   },
   {
    "duration": 3,
    "start_time": "2021-11-16T11:59:12.005Z"
   },
   {
    "duration": 112,
    "start_time": "2021-11-16T12:00:33.446Z"
   },
   {
    "duration": 3,
    "start_time": "2021-11-16T12:02:14.453Z"
   },
   {
    "duration": 3,
    "start_time": "2021-11-16T12:02:39.512Z"
   },
   {
    "duration": 106,
    "start_time": "2021-11-16T12:03:03.460Z"
   },
   {
    "duration": 3,
    "start_time": "2021-11-17T20:37:21.139Z"
   },
   {
    "duration": 3,
    "start_time": "2021-11-17T20:37:22.229Z"
   },
   {
    "duration": 3,
    "start_time": "2021-11-17T20:38:38.806Z"
   },
   {
    "duration": 3,
    "start_time": "2021-11-17T20:38:41.958Z"
   },
   {
    "duration": 3,
    "start_time": "2021-11-17T20:43:46.551Z"
   },
   {
    "duration": 4,
    "start_time": "2021-11-17T20:58:21.835Z"
   },
   {
    "duration": 3,
    "start_time": "2021-11-17T20:59:21.872Z"
   },
   {
    "duration": 4,
    "start_time": "2021-11-17T20:59:45.352Z"
   },
   {
    "duration": 4,
    "start_time": "2021-11-17T20:59:49.646Z"
   },
   {
    "duration": 159,
    "start_time": "2021-11-17T21:02:26.949Z"
   },
   {
    "duration": 3,
    "start_time": "2021-11-17T21:03:53.461Z"
   },
   {
    "duration": 3,
    "start_time": "2021-11-17T21:03:53.694Z"
   },
   {
    "duration": 3,
    "start_time": "2021-11-17T21:05:28.145Z"
   },
   {
    "duration": 116,
    "start_time": "2021-11-17T21:05:57.787Z"
   },
   {
    "duration": 3,
    "start_time": "2021-11-17T21:06:37.993Z"
   },
   {
    "duration": 3,
    "start_time": "2021-11-17T21:06:38.261Z"
   },
   {
    "duration": 3,
    "start_time": "2021-11-17T21:11:54.358Z"
   },
   {
    "duration": 3,
    "start_time": "2021-11-17T21:12:43.846Z"
   },
   {
    "duration": 4,
    "start_time": "2021-11-17T21:13:08.773Z"
   },
   {
    "duration": 3,
    "start_time": "2021-11-17T21:14:44.441Z"
   },
   {
    "duration": 3,
    "start_time": "2021-11-17T21:15:42.059Z"
   },
   {
    "duration": 4,
    "start_time": "2021-11-17T21:15:51.995Z"
   },
   {
    "duration": 3,
    "start_time": "2021-11-17T21:15:53.923Z"
   },
   {
    "duration": 3,
    "start_time": "2021-11-17T21:15:55.282Z"
   },
   {
    "duration": 3,
    "start_time": "2021-11-17T21:16:28.492Z"
   },
   {
    "duration": 3,
    "start_time": "2021-11-17T21:16:32.603Z"
   },
   {
    "duration": 3,
    "start_time": "2021-11-17T21:17:06.941Z"
   },
   {
    "duration": 98,
    "start_time": "2021-11-17T21:18:05.733Z"
   },
   {
    "duration": 4,
    "start_time": "2021-11-17T21:21:35.255Z"
   },
   {
    "duration": 3,
    "start_time": "2021-11-17T21:21:37.804Z"
   },
   {
    "duration": 4,
    "start_time": "2021-11-17T21:23:06.071Z"
   },
   {
    "duration": 3,
    "start_time": "2021-11-17T21:23:24.799Z"
   },
   {
    "duration": 3,
    "start_time": "2021-11-17T21:23:32.591Z"
   },
   {
    "duration": 98,
    "start_time": "2021-11-17T21:28:31.559Z"
   },
   {
    "duration": 3,
    "start_time": "2021-11-17T21:28:45.448Z"
   },
   {
    "duration": 3,
    "start_time": "2021-11-17T21:29:17.303Z"
   },
   {
    "duration": 3,
    "start_time": "2021-11-17T21:29:29.617Z"
   },
   {
    "duration": 3,
    "start_time": "2021-11-17T21:29:32.681Z"
   },
   {
    "duration": 3,
    "start_time": "2021-11-17T21:36:11.474Z"
   },
   {
    "duration": 3,
    "start_time": "2021-11-17T21:36:14.791Z"
   },
   {
    "duration": 3,
    "start_time": "2021-11-17T21:36:53.943Z"
   },
   {
    "duration": 3,
    "start_time": "2021-11-17T21:36:56.165Z"
   },
   {
    "duration": 4,
    "start_time": "2021-11-17T21:37:16.590Z"
   },
   {
    "duration": 3,
    "start_time": "2021-11-17T21:37:22.702Z"
   },
   {
    "duration": 4,
    "start_time": "2021-11-17T21:38:03.479Z"
   },
   {
    "duration": 3,
    "start_time": "2021-11-17T21:38:08.601Z"
   },
   {
    "duration": 3,
    "start_time": "2021-11-17T21:38:12.928Z"
   },
   {
    "duration": 3,
    "start_time": "2021-11-17T21:38:48.896Z"
   },
   {
    "duration": 2,
    "start_time": "2021-11-17T21:38:49.171Z"
   },
   {
    "duration": 4,
    "start_time": "2021-11-17T21:39:57.889Z"
   },
   {
    "duration": 3,
    "start_time": "2021-11-17T21:39:58.057Z"
   },
   {
    "duration": 3,
    "start_time": "2021-11-17T21:41:20.108Z"
   },
   {
    "duration": 3,
    "start_time": "2021-11-17T21:41:20.629Z"
   },
   {
    "duration": 3,
    "start_time": "2021-11-17T21:42:49.136Z"
   },
   {
    "duration": 3,
    "start_time": "2021-11-17T21:43:15.137Z"
   },
   {
    "duration": 4,
    "start_time": "2021-11-17T21:43:16.766Z"
   },
   {
    "duration": 4,
    "start_time": "2021-11-17T21:43:31.711Z"
   },
   {
    "duration": 3,
    "start_time": "2021-11-17T21:43:36.312Z"
   },
   {
    "duration": 4,
    "start_time": "2021-11-17T21:45:08.825Z"
   },
   {
    "duration": 4,
    "start_time": "2021-11-17T21:45:10.119Z"
   },
   {
    "duration": 4,
    "start_time": "2021-11-17T21:45:13.748Z"
   },
   {
    "duration": 3,
    "start_time": "2021-11-17T21:45:22.219Z"
   },
   {
    "duration": 3,
    "start_time": "2021-11-17T21:45:33.412Z"
   },
   {
    "duration": 2,
    "start_time": "2021-11-17T21:46:01.885Z"
   },
   {
    "duration": 3,
    "start_time": "2021-11-17T21:46:03.628Z"
   },
   {
    "duration": 107,
    "start_time": "2021-11-17T21:47:32.512Z"
   },
   {
    "duration": 103,
    "start_time": "2021-11-17T21:50:36.243Z"
   },
   {
    "duration": 3,
    "start_time": "2021-11-18T06:28:31.440Z"
   },
   {
    "duration": 3,
    "start_time": "2021-11-18T06:29:00.168Z"
   },
   {
    "duration": 3,
    "start_time": "2021-11-18T06:31:27.008Z"
   },
   {
    "duration": 2,
    "start_time": "2021-11-18T06:35:34.288Z"
   },
   {
    "duration": 2,
    "start_time": "2021-11-18T06:38:04.527Z"
   },
   {
    "duration": 315,
    "start_time": "2022-03-13T09:37:27.892Z"
   },
   {
    "duration": 1293,
    "start_time": "2022-03-13T09:37:33.961Z"
   },
   {
    "duration": 294,
    "start_time": "2022-03-13T09:37:35.895Z"
   },
   {
    "duration": 24,
    "start_time": "2022-03-13T09:37:38.430Z"
   },
   {
    "duration": 76,
    "start_time": "2022-03-13T09:38:04.594Z"
   },
   {
    "duration": 31,
    "start_time": "2022-03-13T09:41:56.342Z"
   },
   {
    "duration": 7,
    "start_time": "2022-03-13T09:42:01.575Z"
   },
   {
    "duration": 31,
    "start_time": "2022-03-13T09:42:06.410Z"
   },
   {
    "duration": 9,
    "start_time": "2022-03-13T09:42:50.479Z"
   },
   {
    "duration": 6,
    "start_time": "2022-03-13T09:43:29.453Z"
   },
   {
    "duration": 10,
    "start_time": "2022-03-13T10:19:17.777Z"
   },
   {
    "duration": 7,
    "start_time": "2022-03-13T10:19:22.306Z"
   },
   {
    "duration": 14,
    "start_time": "2022-03-13T10:19:37.476Z"
   },
   {
    "duration": 23,
    "start_time": "2022-03-13T10:20:52.165Z"
   },
   {
    "duration": 16,
    "start_time": "2022-03-13T10:21:08.345Z"
   },
   {
    "duration": 6,
    "start_time": "2022-03-13T10:21:14.952Z"
   },
   {
    "duration": 18,
    "start_time": "2022-03-13T10:21:22.249Z"
   },
   {
    "duration": 14,
    "start_time": "2022-03-13T10:21:33.304Z"
   },
   {
    "duration": 13,
    "start_time": "2022-03-13T10:23:34.970Z"
   },
   {
    "duration": 12,
    "start_time": "2022-03-13T10:23:44.451Z"
   },
   {
    "duration": 15,
    "start_time": "2022-03-13T10:24:06.174Z"
   },
   {
    "duration": 13,
    "start_time": "2022-03-13T10:24:28.939Z"
   },
   {
    "duration": 329,
    "start_time": "2022-03-14T09:22:57.075Z"
   },
   {
    "duration": 1449,
    "start_time": "2022-03-14T09:23:09.686Z"
   },
   {
    "duration": 331,
    "start_time": "2022-03-14T09:23:11.137Z"
   },
   {
    "duration": 10,
    "start_time": "2022-03-14T09:23:11.471Z"
   },
   {
    "duration": 19,
    "start_time": "2022-03-14T09:23:11.484Z"
   },
   {
    "duration": 9,
    "start_time": "2022-03-14T09:23:11.505Z"
   },
   {
    "duration": 21,
    "start_time": "2022-03-14T09:23:11.516Z"
   },
   {
    "duration": 6,
    "start_time": "2022-03-14T09:23:18.836Z"
   },
   {
    "duration": 17,
    "start_time": "2022-03-14T09:23:29.461Z"
   },
   {
    "duration": 24,
    "start_time": "2022-03-14T09:23:44.440Z"
   },
   {
    "duration": 10,
    "start_time": "2022-03-14T09:23:54.094Z"
   },
   {
    "duration": 13,
    "start_time": "2022-03-14T09:25:41.515Z"
   },
   {
    "duration": 18,
    "start_time": "2022-03-14T09:25:48.931Z"
   },
   {
    "duration": 12,
    "start_time": "2022-03-14T09:26:03.902Z"
   },
   {
    "duration": 375,
    "start_time": "2022-03-14T09:28:35.307Z"
   },
   {
    "duration": 335,
    "start_time": "2022-03-14T09:28:43.022Z"
   },
   {
    "duration": 9,
    "start_time": "2022-03-14T09:28:54.299Z"
   },
   {
    "duration": 16,
    "start_time": "2022-03-14T09:29:18.870Z"
   },
   {
    "duration": 18,
    "start_time": "2022-03-14T09:29:31.977Z"
   },
   {
    "duration": 16,
    "start_time": "2022-03-14T09:30:02.864Z"
   },
   {
    "duration": 1491,
    "start_time": "2022-03-14T09:30:23.065Z"
   },
   {
    "duration": 366,
    "start_time": "2022-03-14T09:30:24.559Z"
   },
   {
    "duration": 10,
    "start_time": "2022-03-14T09:30:24.929Z"
   },
   {
    "duration": 48,
    "start_time": "2022-03-14T09:30:24.942Z"
   },
   {
    "duration": 19,
    "start_time": "2022-03-14T09:30:24.993Z"
   },
   {
    "duration": 57,
    "start_time": "2022-03-14T09:30:25.015Z"
   },
   {
    "duration": 25,
    "start_time": "2022-03-14T09:30:25.075Z"
   },
   {
    "duration": 23,
    "start_time": "2022-03-14T09:30:30.853Z"
   },
   {
    "duration": 15,
    "start_time": "2022-03-14T09:31:16.218Z"
   },
   {
    "duration": 39,
    "start_time": "2022-03-14T09:33:33.362Z"
   },
   {
    "duration": 451,
    "start_time": "2022-03-14T09:35:04.446Z"
   },
   {
    "duration": 5,
    "start_time": "2022-03-14T09:35:27.362Z"
   },
   {
    "duration": 296,
    "start_time": "2022-03-14T09:35:41.187Z"
   },
   {
    "duration": 295,
    "start_time": "2022-03-14T09:35:49.948Z"
   },
   {
    "duration": 298,
    "start_time": "2022-03-14T09:36:03.791Z"
   },
   {
    "duration": 415,
    "start_time": "2022-03-14T09:36:53.964Z"
   },
   {
    "duration": 65,
    "start_time": "2022-03-14T09:37:02.669Z"
   },
   {
    "duration": 140,
    "start_time": "2022-03-14T09:37:11.926Z"
   },
   {
    "duration": 61,
    "start_time": "2022-03-14T09:37:57.836Z"
   },
   {
    "duration": 63,
    "start_time": "2022-03-14T09:38:04.822Z"
   },
   {
    "duration": 10,
    "start_time": "2022-03-14T09:38:34.392Z"
   },
   {
    "duration": 31,
    "start_time": "2022-03-14T09:39:05.404Z"
   },
   {
    "duration": 28,
    "start_time": "2022-03-14T09:39:20.774Z"
   },
   {
    "duration": 7419,
    "start_time": "2022-03-14T09:45:18.362Z"
   },
   {
    "duration": 18,
    "start_time": "2022-03-14T09:45:38.766Z"
   },
   {
    "duration": 301,
    "start_time": "2022-03-14T09:45:56.751Z"
   },
   {
    "duration": 46,
    "start_time": "2022-03-14T09:46:02.345Z"
   },
   {
    "duration": 71,
    "start_time": "2022-03-14T09:47:31.860Z"
   },
   {
    "duration": 9048,
    "start_time": "2022-03-14T09:47:48.013Z"
   },
   {
    "duration": 1951,
    "start_time": "2022-03-14T09:48:25.586Z"
   },
   {
    "duration": 475,
    "start_time": "2022-03-14T09:48:27.540Z"
   },
   {
    "duration": 11,
    "start_time": "2022-03-14T09:48:28.022Z"
   },
   {
    "duration": 44,
    "start_time": "2022-03-14T09:48:28.035Z"
   },
   {
    "duration": 20,
    "start_time": "2022-03-14T09:48:28.082Z"
   },
   {
    "duration": 37,
    "start_time": "2022-03-14T09:48:28.105Z"
   },
   {
    "duration": 10,
    "start_time": "2022-03-14T09:48:28.147Z"
   },
   {
    "duration": 26,
    "start_time": "2022-03-14T09:48:28.160Z"
   },
   {
    "duration": 31,
    "start_time": "2022-03-14T09:48:28.188Z"
   },
   {
    "duration": 26,
    "start_time": "2022-03-14T09:48:28.222Z"
   },
   {
    "duration": 42,
    "start_time": "2022-03-14T09:48:28.251Z"
   },
   {
    "duration": 64,
    "start_time": "2022-03-14T09:48:28.296Z"
   },
   {
    "duration": 27,
    "start_time": "2022-03-14T09:48:28.382Z"
   },
   {
    "duration": 90,
    "start_time": "2022-03-14T09:48:28.411Z"
   },
   {
    "duration": 17,
    "start_time": "2022-03-14T09:48:28.505Z"
   },
   {
    "duration": 20,
    "start_time": "2022-03-14T09:48:28.526Z"
   },
   {
    "duration": 42,
    "start_time": "2022-03-14T09:48:28.583Z"
   },
   {
    "duration": 59,
    "start_time": "2022-03-14T09:48:28.628Z"
   },
   {
    "duration": 19,
    "start_time": "2022-03-14T09:48:28.689Z"
   },
   {
    "duration": 18,
    "start_time": "2022-03-14T09:48:28.711Z"
   },
   {
    "duration": 107,
    "start_time": "2022-03-14T09:48:28.732Z"
   },
   {
    "duration": 50,
    "start_time": "2022-03-14T09:48:28.843Z"
   },
   {
    "duration": 3,
    "start_time": "2022-03-14T09:48:28.896Z"
   },
   {
    "duration": 6,
    "start_time": "2022-03-14T09:48:28.901Z"
   },
   {
    "duration": 7,
    "start_time": "2022-03-14T09:48:28.910Z"
   },
   {
    "duration": 7,
    "start_time": "2022-03-14T09:48:28.920Z"
   },
   {
    "duration": 7,
    "start_time": "2022-03-14T09:48:28.930Z"
   },
   {
    "duration": 8,
    "start_time": "2022-03-14T09:48:28.939Z"
   },
   {
    "duration": 5,
    "start_time": "2022-03-14T09:48:28.984Z"
   },
   {
    "duration": 7,
    "start_time": "2022-03-14T09:48:28.991Z"
   },
   {
    "duration": 9,
    "start_time": "2022-03-14T09:48:29.000Z"
   },
   {
    "duration": 7,
    "start_time": "2022-03-14T09:48:29.011Z"
   },
   {
    "duration": 7,
    "start_time": "2022-03-14T09:48:29.021Z"
   },
   {
    "duration": 9,
    "start_time": "2022-03-14T09:48:29.031Z"
   },
   {
    "duration": 7,
    "start_time": "2022-03-14T09:48:29.042Z"
   },
   {
    "duration": 31,
    "start_time": "2022-03-14T09:48:29.051Z"
   },
   {
    "duration": 9,
    "start_time": "2022-03-14T09:48:29.085Z"
   },
   {
    "duration": 8,
    "start_time": "2022-03-14T09:48:29.097Z"
   },
   {
    "duration": 12,
    "start_time": "2022-03-14T10:01:56.765Z"
   },
   {
    "duration": 5,
    "start_time": "2022-03-14T10:20:40.407Z"
   },
   {
    "duration": 6,
    "start_time": "2022-03-14T10:20:49.114Z"
   },
   {
    "duration": 444,
    "start_time": "2022-03-14T10:22:09.012Z"
   },
   {
    "duration": 312,
    "start_time": "2022-03-14T10:22:16.964Z"
   },
   {
    "duration": 4,
    "start_time": "2022-03-14T10:22:58.498Z"
   },
   {
    "duration": 6,
    "start_time": "2022-03-14T10:23:04.922Z"
   },
   {
    "duration": 5,
    "start_time": "2022-03-14T10:23:15.971Z"
   },
   {
    "duration": 37,
    "start_time": "2022-03-14T10:25:08.562Z"
   },
   {
    "duration": 43,
    "start_time": "2022-03-14T10:25:14.755Z"
   },
   {
    "duration": 23,
    "start_time": "2022-03-14T10:25:56.873Z"
   },
   {
    "duration": 397,
    "start_time": "2022-03-14T10:33:29.719Z"
   },
   {
    "duration": 51,
    "start_time": "2022-03-14T10:33:35.624Z"
   },
   {
    "duration": 67,
    "start_time": "2022-03-14T10:33:50.307Z"
   },
   {
    "duration": 293,
    "start_time": "2022-03-14T10:36:21.455Z"
   },
   {
    "duration": 296,
    "start_time": "2022-03-14T10:36:27.663Z"
   },
   {
    "duration": 286,
    "start_time": "2022-03-14T10:36:39.296Z"
   },
   {
    "duration": 295,
    "start_time": "2022-03-14T10:37:39.065Z"
   },
   {
    "duration": 353,
    "start_time": "2022-03-14T10:37:58.090Z"
   },
   {
    "duration": 452,
    "start_time": "2022-03-14T10:40:10.419Z"
   },
   {
    "duration": 3,
    "start_time": "2022-03-14T10:40:32.039Z"
   },
   {
    "duration": 5,
    "start_time": "2022-03-14T10:40:48.585Z"
   },
   {
    "duration": 283,
    "start_time": "2022-03-14T10:41:32.781Z"
   },
   {
    "duration": 308,
    "start_time": "2022-03-14T10:41:39.487Z"
   },
   {
    "duration": 13,
    "start_time": "2022-03-14T10:41:56.777Z"
   },
   {
    "duration": 12,
    "start_time": "2022-03-14T10:42:06.336Z"
   },
   {
    "duration": 369,
    "start_time": "2022-03-14T10:42:31.327Z"
   },
   {
    "duration": 177,
    "start_time": "2022-03-14T10:43:14.252Z"
   },
   {
    "duration": 498,
    "start_time": "2022-03-14T10:43:38.358Z"
   },
   {
    "duration": 474,
    "start_time": "2022-03-14T10:45:45.836Z"
   },
   {
    "duration": 492,
    "start_time": "2022-03-14T10:45:54.408Z"
   },
   {
    "duration": 487,
    "start_time": "2022-03-14T10:46:03.272Z"
   },
   {
    "duration": 4,
    "start_time": "2022-03-14T10:47:00.556Z"
   },
   {
    "duration": 355,
    "start_time": "2022-03-14T10:47:00.563Z"
   },
   {
    "duration": 8,
    "start_time": "2022-03-14T10:47:00.921Z"
   },
   {
    "duration": 16,
    "start_time": "2022-03-14T10:47:00.932Z"
   },
   {
    "duration": 17,
    "start_time": "2022-03-14T10:47:00.950Z"
   },
   {
    "duration": 23,
    "start_time": "2022-03-14T10:47:00.969Z"
   },
   {
    "duration": 12,
    "start_time": "2022-03-14T10:47:00.996Z"
   },
   {
    "duration": 16,
    "start_time": "2022-03-14T10:47:01.010Z"
   },
   {
    "duration": 17,
    "start_time": "2022-03-14T10:47:01.028Z"
   },
   {
    "duration": 52,
    "start_time": "2022-03-14T10:47:01.047Z"
   },
   {
    "duration": 40,
    "start_time": "2022-03-14T10:47:01.102Z"
   },
   {
    "duration": 74,
    "start_time": "2022-03-14T10:47:01.144Z"
   },
   {
    "duration": 68,
    "start_time": "2022-03-14T10:47:01.220Z"
   },
   {
    "duration": 61,
    "start_time": "2022-03-14T10:47:01.290Z"
   },
   {
    "duration": 34,
    "start_time": "2022-03-14T10:47:01.353Z"
   },
   {
    "duration": 15,
    "start_time": "2022-03-14T10:47:01.390Z"
   },
   {
    "duration": 45,
    "start_time": "2022-03-14T10:47:01.408Z"
   },
   {
    "duration": 43,
    "start_time": "2022-03-14T10:47:01.455Z"
   },
   {
    "duration": 19,
    "start_time": "2022-03-14T10:47:01.502Z"
   },
   {
    "duration": 22,
    "start_time": "2022-03-14T10:47:01.524Z"
   },
   {
    "duration": 88,
    "start_time": "2022-03-14T10:47:01.548Z"
   },
   {
    "duration": 48,
    "start_time": "2022-03-14T10:47:01.639Z"
   },
   {
    "duration": 12,
    "start_time": "2022-03-14T10:47:01.691Z"
   },
   {
    "duration": 15,
    "start_time": "2022-03-14T10:47:01.706Z"
   },
   {
    "duration": 524,
    "start_time": "2022-03-14T10:47:10.648Z"
   },
   {
    "duration": 474,
    "start_time": "2022-03-14T10:47:50.797Z"
   },
   {
    "duration": 503,
    "start_time": "2022-03-14T10:48:00.886Z"
   },
   {
    "duration": 609,
    "start_time": "2022-03-14T10:48:59.254Z"
   },
   {
    "duration": 508,
    "start_time": "2022-03-14T10:50:48.464Z"
   },
   {
    "duration": 557,
    "start_time": "2022-03-14T11:03:05.326Z"
   },
   {
    "duration": 7341,
    "start_time": "2022-03-14T11:04:28.627Z"
   },
   {
    "duration": 176,
    "start_time": "2022-03-14T11:05:09.463Z"
   },
   {
    "duration": 218,
    "start_time": "2022-03-14T11:05:16.983Z"
   },
   {
    "duration": 231,
    "start_time": "2022-03-14T11:05:34.018Z"
   },
   {
    "duration": 230,
    "start_time": "2022-03-14T11:05:46.388Z"
   },
   {
    "duration": 537,
    "start_time": "2022-03-14T11:06:13.415Z"
   },
   {
    "duration": 240,
    "start_time": "2022-03-14T11:06:15.631Z"
   },
   {
    "duration": 7392,
    "start_time": "2022-03-14T11:08:44.610Z"
   },
   {
    "duration": 24,
    "start_time": "2022-03-14T11:10:57.322Z"
   },
   {
    "duration": 4,
    "start_time": "2022-03-14T11:11:09.139Z"
   },
   {
    "duration": 391,
    "start_time": "2022-03-14T11:11:09.145Z"
   },
   {
    "duration": 8,
    "start_time": "2022-03-14T11:11:09.539Z"
   },
   {
    "duration": 15,
    "start_time": "2022-03-14T11:11:09.549Z"
   },
   {
    "duration": 10,
    "start_time": "2022-03-14T11:11:09.567Z"
   },
   {
    "duration": 21,
    "start_time": "2022-03-14T11:11:09.579Z"
   },
   {
    "duration": 8,
    "start_time": "2022-03-14T11:11:09.604Z"
   },
   {
    "duration": 16,
    "start_time": "2022-03-14T11:11:09.615Z"
   },
   {
    "duration": 54,
    "start_time": "2022-03-14T11:11:09.633Z"
   },
   {
    "duration": 26,
    "start_time": "2022-03-14T11:11:09.689Z"
   },
   {
    "duration": 17,
    "start_time": "2022-03-14T11:11:09.718Z"
   },
   {
    "duration": 95,
    "start_time": "2022-03-14T11:11:09.737Z"
   },
   {
    "duration": 76,
    "start_time": "2022-03-14T11:11:09.835Z"
   },
   {
    "duration": 72,
    "start_time": "2022-03-14T11:11:09.913Z"
   },
   {
    "duration": 15,
    "start_time": "2022-03-14T11:11:09.988Z"
   },
   {
    "duration": 18,
    "start_time": "2022-03-14T11:11:10.006Z"
   },
   {
    "duration": 60,
    "start_time": "2022-03-14T11:11:10.026Z"
   },
   {
    "duration": 26,
    "start_time": "2022-03-14T11:11:10.089Z"
   },
   {
    "duration": 18,
    "start_time": "2022-03-14T11:11:10.119Z"
   },
   {
    "duration": 51,
    "start_time": "2022-03-14T11:11:10.140Z"
   },
   {
    "duration": 56,
    "start_time": "2022-03-14T11:11:10.193Z"
   },
   {
    "duration": 55,
    "start_time": "2022-03-14T11:11:10.252Z"
   },
   {
    "duration": 12,
    "start_time": "2022-03-14T11:11:10.309Z"
   },
   {
    "duration": 547,
    "start_time": "2022-03-14T11:11:10.323Z"
   },
   {
    "duration": 586,
    "start_time": "2022-03-14T11:11:10.872Z"
   },
   {
    "duration": 8036,
    "start_time": "2022-03-14T11:11:11.460Z"
   },
   {
    "duration": -244,
    "start_time": "2022-03-14T11:11:19.743Z"
   },
   {
    "duration": 399,
    "start_time": "2022-03-14T11:11:49.689Z"
   },
   {
    "duration": 252,
    "start_time": "2022-03-14T11:12:08.748Z"
   },
   {
    "duration": 8127,
    "start_time": "2022-03-14T11:12:11.243Z"
   },
   {
    "duration": 227,
    "start_time": "2022-03-14T11:12:26.237Z"
   },
   {
    "duration": 241,
    "start_time": "2022-03-14T11:12:53.519Z"
   },
   {
    "duration": 296,
    "start_time": "2022-03-14T12:36:09.522Z"
   },
   {
    "duration": 304,
    "start_time": "2022-03-14T12:36:36.247Z"
   },
   {
    "duration": 1424,
    "start_time": "2022-03-14T12:37:01.531Z"
   },
   {
    "duration": 330,
    "start_time": "2022-03-14T12:37:29.510Z"
   },
   {
    "duration": 2215,
    "start_time": "2022-03-14T12:38:01.666Z"
   },
   {
    "duration": 306,
    "start_time": "2022-03-14T12:38:31.536Z"
   },
   {
    "duration": 48,
    "start_time": "2022-03-14T12:38:52.536Z"
   },
   {
    "duration": 446,
    "start_time": "2022-03-14T12:39:03.624Z"
   },
   {
    "duration": 314,
    "start_time": "2022-03-14T12:39:24.093Z"
   },
   {
    "duration": 63,
    "start_time": "2022-03-14T12:39:31.806Z"
   },
   {
    "duration": 318,
    "start_time": "2022-03-14T12:44:35.082Z"
   },
   {
    "duration": 311,
    "start_time": "2022-03-14T12:44:58.533Z"
   },
   {
    "duration": 324,
    "start_time": "2022-03-14T12:45:13.279Z"
   },
   {
    "duration": 203,
    "start_time": "2022-03-14T12:45:57.989Z"
   },
   {
    "duration": 157,
    "start_time": "2022-03-14T12:46:35.514Z"
   },
   {
    "duration": 165,
    "start_time": "2022-03-14T12:46:46.507Z"
   },
   {
    "duration": 177,
    "start_time": "2022-03-14T12:47:55.291Z"
   },
   {
    "duration": 193,
    "start_time": "2022-03-14T12:48:26.646Z"
   },
   {
    "duration": 130,
    "start_time": "2022-03-14T12:49:31.310Z"
   },
   {
    "duration": 228,
    "start_time": "2022-03-14T12:50:15.763Z"
   },
   {
    "duration": 135,
    "start_time": "2022-03-14T12:50:42.424Z"
   },
   {
    "duration": 375,
    "start_time": "2022-03-14T12:50:52.176Z"
   },
   {
    "duration": 576,
    "start_time": "2022-03-14T12:53:34.108Z"
   },
   {
    "duration": 316,
    "start_time": "2022-03-14T12:53:41.853Z"
   },
   {
    "duration": 375,
    "start_time": "2022-03-14T12:53:49.056Z"
   },
   {
    "duration": 306,
    "start_time": "2022-03-14T12:54:23.492Z"
   },
   {
    "duration": 160,
    "start_time": "2022-03-14T12:55:25.307Z"
   },
   {
    "duration": 185,
    "start_time": "2022-03-14T12:55:35.306Z"
   },
   {
    "duration": 377,
    "start_time": "2022-03-14T12:55:42.747Z"
   },
   {
    "duration": 6,
    "start_time": "2022-03-14T12:56:54.156Z"
   },
   {
    "duration": 293,
    "start_time": "2022-03-14T13:02:16.534Z"
   },
   {
    "duration": 273,
    "start_time": "2022-03-14T13:02:27.567Z"
   },
   {
    "duration": 34,
    "start_time": "2022-03-14T13:02:31.769Z"
   },
   {
    "duration": 9,
    "start_time": "2022-03-14T13:03:18.668Z"
   },
   {
    "duration": 22,
    "start_time": "2022-03-14T13:03:37.136Z"
   },
   {
    "duration": 100,
    "start_time": "2022-03-14T13:03:59.434Z"
   },
   {
    "duration": 15,
    "start_time": "2022-03-14T13:04:05.675Z"
   },
   {
    "duration": 110,
    "start_time": "2022-03-14T13:11:12.980Z"
   },
   {
    "duration": 285,
    "start_time": "2022-03-14T13:11:22.261Z"
   },
   {
    "duration": 1442,
    "start_time": "2022-03-14T13:13:27.612Z"
   },
   {
    "duration": 330,
    "start_time": "2022-03-14T13:13:29.057Z"
   },
   {
    "duration": 10,
    "start_time": "2022-03-14T13:13:29.391Z"
   },
   {
    "duration": 19,
    "start_time": "2022-03-14T13:13:29.404Z"
   },
   {
    "duration": 9,
    "start_time": "2022-03-14T13:13:29.426Z"
   },
   {
    "duration": 52,
    "start_time": "2022-03-14T13:13:29.438Z"
   },
   {
    "duration": 13,
    "start_time": "2022-03-14T13:13:29.493Z"
   },
   {
    "duration": 21,
    "start_time": "2022-03-14T13:13:29.512Z"
   },
   {
    "duration": 53,
    "start_time": "2022-03-14T13:13:29.538Z"
   },
   {
    "duration": 513,
    "start_time": "2022-03-14T13:13:29.594Z"
   },
   {
    "duration": -127,
    "start_time": "2022-03-14T13:13:30.238Z"
   },
   {
    "duration": -139,
    "start_time": "2022-03-14T13:13:30.252Z"
   },
   {
    "duration": -207,
    "start_time": "2022-03-14T13:13:30.321Z"
   },
   {
    "duration": -208,
    "start_time": "2022-03-14T13:13:30.324Z"
   },
   {
    "duration": -215,
    "start_time": "2022-03-14T13:13:30.334Z"
   },
   {
    "duration": -218,
    "start_time": "2022-03-14T13:13:30.338Z"
   },
   {
    "duration": -219,
    "start_time": "2022-03-14T13:13:30.341Z"
   },
   {
    "duration": -220,
    "start_time": "2022-03-14T13:13:30.344Z"
   },
   {
    "duration": -223,
    "start_time": "2022-03-14T13:13:30.348Z"
   },
   {
    "duration": -224,
    "start_time": "2022-03-14T13:13:30.351Z"
   },
   {
    "duration": -225,
    "start_time": "2022-03-14T13:13:30.354Z"
   },
   {
    "duration": -227,
    "start_time": "2022-03-14T13:13:30.357Z"
   },
   {
    "duration": -229,
    "start_time": "2022-03-14T13:13:30.361Z"
   },
   {
    "duration": -230,
    "start_time": "2022-03-14T13:13:30.364Z"
   },
   {
    "duration": -232,
    "start_time": "2022-03-14T13:13:30.367Z"
   },
   {
    "duration": -233,
    "start_time": "2022-03-14T13:13:30.370Z"
   },
   {
    "duration": -234,
    "start_time": "2022-03-14T13:13:30.373Z"
   },
   {
    "duration": -236,
    "start_time": "2022-03-14T13:13:30.377Z"
   },
   {
    "duration": -238,
    "start_time": "2022-03-14T13:13:30.380Z"
   },
   {
    "duration": -239,
    "start_time": "2022-03-14T13:13:30.383Z"
   },
   {
    "duration": -240,
    "start_time": "2022-03-14T13:13:30.386Z"
   },
   {
    "duration": -207,
    "start_time": "2022-03-14T13:13:30.390Z"
   },
   {
    "duration": -208,
    "start_time": "2022-03-14T13:13:30.393Z"
   },
   {
    "duration": -209,
    "start_time": "2022-03-14T13:13:30.396Z"
   },
   {
    "duration": -211,
    "start_time": "2022-03-14T13:13:30.399Z"
   },
   {
    "duration": -212,
    "start_time": "2022-03-14T13:13:30.402Z"
   },
   {
    "duration": -213,
    "start_time": "2022-03-14T13:13:30.405Z"
   },
   {
    "duration": -214,
    "start_time": "2022-03-14T13:13:30.408Z"
   },
   {
    "duration": -216,
    "start_time": "2022-03-14T13:13:30.412Z"
   },
   {
    "duration": 350,
    "start_time": "2022-03-14T13:13:57.041Z"
   },
   {
    "duration": 1447,
    "start_time": "2022-03-14T13:16:54.205Z"
   },
   {
    "duration": 394,
    "start_time": "2022-03-14T13:16:55.655Z"
   },
   {
    "duration": 10,
    "start_time": "2022-03-14T13:16:56.052Z"
   },
   {
    "duration": 38,
    "start_time": "2022-03-14T13:16:56.065Z"
   },
   {
    "duration": 17,
    "start_time": "2022-03-14T13:16:56.106Z"
   },
   {
    "duration": 48,
    "start_time": "2022-03-14T13:16:56.125Z"
   },
   {
    "duration": 25,
    "start_time": "2022-03-14T13:16:56.176Z"
   },
   {
    "duration": 38,
    "start_time": "2022-03-14T13:16:56.204Z"
   },
   {
    "duration": 34,
    "start_time": "2022-03-14T13:16:56.246Z"
   },
   {
    "duration": 19,
    "start_time": "2022-03-14T13:16:56.282Z"
   },
   {
    "duration": 38,
    "start_time": "2022-03-14T13:16:56.304Z"
   },
   {
    "duration": 27,
    "start_time": "2022-03-14T13:16:56.344Z"
   },
   {
    "duration": 71,
    "start_time": "2022-03-14T13:16:56.373Z"
   },
   {
    "duration": 67,
    "start_time": "2022-03-14T13:16:56.447Z"
   },
   {
    "duration": 72,
    "start_time": "2022-03-14T13:16:56.517Z"
   },
   {
    "duration": 15,
    "start_time": "2022-03-14T13:16:56.591Z"
   },
   {
    "duration": 33,
    "start_time": "2022-03-14T13:16:56.609Z"
   },
   {
    "duration": 44,
    "start_time": "2022-03-14T13:16:56.645Z"
   },
   {
    "duration": 26,
    "start_time": "2022-03-14T13:16:56.691Z"
   },
   {
    "duration": 38,
    "start_time": "2022-03-14T13:16:56.721Z"
   },
   {
    "duration": 32,
    "start_time": "2022-03-14T13:16:56.761Z"
   },
   {
    "duration": 86,
    "start_time": "2022-03-14T13:16:56.795Z"
   },
   {
    "duration": 39,
    "start_time": "2022-03-14T13:16:56.887Z"
   },
   {
    "duration": 12,
    "start_time": "2022-03-14T13:16:56.930Z"
   },
   {
    "duration": 543,
    "start_time": "2022-03-14T13:16:56.945Z"
   },
   {
    "duration": 571,
    "start_time": "2022-03-14T13:16:57.491Z"
   },
   {
    "duration": 251,
    "start_time": "2022-03-14T13:16:58.065Z"
   },
   {
    "duration": 267,
    "start_time": "2022-03-14T13:16:58.318Z"
   },
   {
    "duration": 489,
    "start_time": "2022-03-14T13:16:58.587Z"
   },
   {
    "duration": 6,
    "start_time": "2022-03-14T13:16:59.082Z"
   },
   {
    "duration": 22,
    "start_time": "2022-03-14T13:16:59.091Z"
   },
   {
    "duration": 26,
    "start_time": "2022-03-14T13:16:59.115Z"
   },
   {
    "duration": 30,
    "start_time": "2022-03-14T13:16:59.143Z"
   },
   {
    "duration": 23,
    "start_time": "2022-03-14T13:16:59.175Z"
   },
   {
    "duration": 20,
    "start_time": "2022-03-14T13:16:59.200Z"
   },
   {
    "duration": 40,
    "start_time": "2022-03-14T13:16:59.222Z"
   },
   {
    "duration": 34,
    "start_time": "2022-03-14T13:16:59.264Z"
   },
   {
    "duration": 25,
    "start_time": "2022-03-14T13:16:59.300Z"
   },
   {
    "duration": 32,
    "start_time": "2022-03-14T13:16:59.328Z"
   },
   {
    "duration": 1537,
    "start_time": "2022-03-14T13:17:45.399Z"
   },
   {
    "duration": 20,
    "start_time": "2022-03-14T13:18:16.067Z"
   },
   {
    "duration": 288,
    "start_time": "2022-03-14T13:20:46.839Z"
   },
   {
    "duration": 9,
    "start_time": "2022-03-14T13:20:51.047Z"
   },
   {
    "duration": 1366,
    "start_time": "2022-03-14T13:21:05.122Z"
   },
   {
    "duration": 1366,
    "start_time": "2022-03-14T13:21:48.407Z"
   },
   {
    "duration": 1324,
    "start_time": "2022-03-14T13:21:58.280Z"
   },
   {
    "duration": 36,
    "start_time": "2022-03-14T13:22:27.387Z"
   },
   {
    "duration": 11,
    "start_time": "2022-03-14T13:23:23.056Z"
   },
   {
    "duration": 36,
    "start_time": "2022-03-14T13:23:30.922Z"
   },
   {
    "duration": 10,
    "start_time": "2022-03-14T13:28:58.478Z"
   },
   {
    "duration": 47,
    "start_time": "2022-03-14T13:29:08.960Z"
   },
   {
    "duration": 42,
    "start_time": "2022-03-14T13:30:56.877Z"
   },
   {
    "duration": 17,
    "start_time": "2022-03-14T13:31:08.711Z"
   },
   {
    "duration": 22,
    "start_time": "2022-03-14T13:31:14.847Z"
   },
   {
    "duration": 37,
    "start_time": "2022-03-14T13:31:34.386Z"
   },
   {
    "duration": 22,
    "start_time": "2022-03-14T13:31:40.042Z"
   },
   {
    "duration": 6,
    "start_time": "2022-03-14T13:33:14.759Z"
   },
   {
    "duration": 19,
    "start_time": "2022-03-14T13:33:26.604Z"
   },
   {
    "duration": 8,
    "start_time": "2022-03-14T13:33:35.982Z"
   },
   {
    "duration": 12,
    "start_time": "2022-03-14T13:33:41.513Z"
   },
   {
    "duration": 24,
    "start_time": "2022-03-14T13:33:50.345Z"
   },
   {
    "duration": 14,
    "start_time": "2022-03-14T13:33:55.121Z"
   },
   {
    "duration": 1511,
    "start_time": "2022-03-14T13:34:07.142Z"
   },
   {
    "duration": 337,
    "start_time": "2022-03-14T13:34:08.655Z"
   },
   {
    "duration": 11,
    "start_time": "2022-03-14T13:34:08.996Z"
   },
   {
    "duration": 24,
    "start_time": "2022-03-14T13:34:09.009Z"
   },
   {
    "duration": 9,
    "start_time": "2022-03-14T13:34:09.035Z"
   },
   {
    "duration": 42,
    "start_time": "2022-03-14T13:34:09.046Z"
   },
   {
    "duration": 16,
    "start_time": "2022-03-14T13:34:09.090Z"
   },
   {
    "duration": 15,
    "start_time": "2022-03-14T13:34:09.110Z"
   },
   {
    "duration": 25,
    "start_time": "2022-03-14T13:34:09.128Z"
   },
   {
    "duration": 10,
    "start_time": "2022-03-14T13:34:09.183Z"
   },
   {
    "duration": 39,
    "start_time": "2022-03-14T13:34:09.196Z"
   },
   {
    "duration": 46,
    "start_time": "2022-03-14T13:34:09.238Z"
   },
   {
    "duration": 30,
    "start_time": "2022-03-14T13:34:09.287Z"
   },
   {
    "duration": 22,
    "start_time": "2022-03-14T13:34:09.319Z"
   },
   {
    "duration": 19,
    "start_time": "2022-03-14T13:34:09.343Z"
   },
   {
    "duration": 76,
    "start_time": "2022-03-14T13:34:09.364Z"
   },
   {
    "duration": 85,
    "start_time": "2022-03-14T13:34:09.443Z"
   },
   {
    "duration": 73,
    "start_time": "2022-03-14T13:34:09.531Z"
   },
   {
    "duration": 14,
    "start_time": "2022-03-14T13:34:09.607Z"
   },
   {
    "duration": 17,
    "start_time": "2022-03-14T13:34:09.623Z"
   },
   {
    "duration": 58,
    "start_time": "2022-03-14T13:34:09.642Z"
   },
   {
    "duration": 26,
    "start_time": "2022-03-14T13:34:09.702Z"
   },
   {
    "duration": 18,
    "start_time": "2022-03-14T13:34:09.733Z"
   },
   {
    "duration": 42,
    "start_time": "2022-03-14T13:34:09.754Z"
   },
   {
    "duration": 84,
    "start_time": "2022-03-14T13:34:09.798Z"
   },
   {
    "duration": 39,
    "start_time": "2022-03-14T13:34:09.884Z"
   },
   {
    "duration": 13,
    "start_time": "2022-03-14T13:34:09.926Z"
   },
   {
    "duration": 533,
    "start_time": "2022-03-14T13:34:09.941Z"
   },
   {
    "duration": 551,
    "start_time": "2022-03-14T13:34:10.476Z"
   },
   {
    "duration": 244,
    "start_time": "2022-03-14T13:34:11.030Z"
   },
   {
    "duration": 267,
    "start_time": "2022-03-14T13:34:11.276Z"
   },
   {
    "duration": 378,
    "start_time": "2022-03-14T13:34:11.546Z"
   },
   {
    "duration": 5,
    "start_time": "2022-03-14T13:34:11.927Z"
   },
   {
    "duration": 49,
    "start_time": "2022-03-14T13:34:11.934Z"
   },
   {
    "duration": 34,
    "start_time": "2022-03-14T13:34:11.985Z"
   },
   {
    "duration": 43,
    "start_time": "2022-03-14T13:34:12.021Z"
   },
   {
    "duration": 34,
    "start_time": "2022-03-14T13:34:12.066Z"
   },
   {
    "duration": 45,
    "start_time": "2022-03-14T13:34:12.102Z"
   },
   {
    "duration": 38,
    "start_time": "2022-03-14T13:34:12.150Z"
   },
   {
    "duration": 27,
    "start_time": "2022-03-14T13:34:12.191Z"
   },
   {
    "duration": 27,
    "start_time": "2022-03-14T13:34:12.220Z"
   },
   {
    "duration": 27,
    "start_time": "2022-03-14T13:34:12.250Z"
   },
   {
    "duration": 17,
    "start_time": "2022-03-14T13:35:14.414Z"
   },
   {
    "duration": 19,
    "start_time": "2022-03-14T13:42:06.055Z"
   },
   {
    "duration": 8,
    "start_time": "2022-03-14T13:42:14.406Z"
   },
   {
    "duration": 83,
    "start_time": "2022-03-14T13:42:19.320Z"
   },
   {
    "duration": 2058,
    "start_time": "2022-03-14T13:42:28.431Z"
   },
   {
    "duration": 355,
    "start_time": "2022-03-14T13:42:30.492Z"
   },
   {
    "duration": 10,
    "start_time": "2022-03-14T13:42:30.850Z"
   },
   {
    "duration": 27,
    "start_time": "2022-03-14T13:42:30.863Z"
   },
   {
    "duration": 15,
    "start_time": "2022-03-14T13:42:30.893Z"
   },
   {
    "duration": 26,
    "start_time": "2022-03-14T13:42:30.911Z"
   },
   {
    "duration": 13,
    "start_time": "2022-03-14T13:42:30.939Z"
   },
   {
    "duration": 44,
    "start_time": "2022-03-14T13:42:30.955Z"
   },
   {
    "duration": 28,
    "start_time": "2022-03-14T13:42:31.002Z"
   },
   {
    "duration": 14,
    "start_time": "2022-03-14T13:42:31.033Z"
   },
   {
    "duration": 57,
    "start_time": "2022-03-14T13:42:31.050Z"
   },
   {
    "duration": 14,
    "start_time": "2022-03-14T13:42:31.110Z"
   },
   {
    "duration": 20,
    "start_time": "2022-03-14T13:42:31.127Z"
   },
   {
    "duration": 43,
    "start_time": "2022-03-14T13:42:31.149Z"
   },
   {
    "duration": 34,
    "start_time": "2022-03-14T13:42:31.195Z"
   },
   {
    "duration": 19,
    "start_time": "2022-03-14T13:42:31.232Z"
   },
   {
    "duration": 84,
    "start_time": "2022-03-14T13:42:31.254Z"
   },
   {
    "duration": 83,
    "start_time": "2022-03-14T13:42:31.341Z"
   },
   {
    "duration": 83,
    "start_time": "2022-03-14T13:42:31.427Z"
   },
   {
    "duration": 30,
    "start_time": "2022-03-14T13:42:31.513Z"
   },
   {
    "duration": 25,
    "start_time": "2022-03-14T13:42:31.546Z"
   },
   {
    "duration": 30,
    "start_time": "2022-03-14T13:42:31.582Z"
   },
   {
    "duration": 26,
    "start_time": "2022-03-14T13:42:31.619Z"
   },
   {
    "duration": 51,
    "start_time": "2022-03-14T13:42:31.648Z"
   },
   {
    "duration": 18,
    "start_time": "2022-03-14T13:42:31.702Z"
   },
   {
    "duration": 107,
    "start_time": "2022-03-14T13:42:31.724Z"
   },
   {
    "duration": 52,
    "start_time": "2022-03-14T13:42:31.834Z"
   },
   {
    "duration": 13,
    "start_time": "2022-03-14T13:42:31.888Z"
   },
   {
    "duration": 573,
    "start_time": "2022-03-14T13:42:31.903Z"
   },
   {
    "duration": 603,
    "start_time": "2022-03-14T13:42:32.482Z"
   },
   {
    "duration": 248,
    "start_time": "2022-03-14T13:42:33.088Z"
   },
   {
    "duration": 271,
    "start_time": "2022-03-14T13:42:33.339Z"
   },
   {
    "duration": 389,
    "start_time": "2022-03-14T13:42:33.612Z"
   },
   {
    "duration": 7,
    "start_time": "2022-03-14T13:42:34.004Z"
   },
   {
    "duration": 126,
    "start_time": "2022-03-14T13:42:34.013Z"
   },
   {
    "duration": -115,
    "start_time": "2022-03-14T13:42:34.256Z"
   },
   {
    "duration": -117,
    "start_time": "2022-03-14T13:42:34.260Z"
   },
   {
    "duration": -126,
    "start_time": "2022-03-14T13:42:34.271Z"
   },
   {
    "duration": -128,
    "start_time": "2022-03-14T13:42:34.274Z"
   },
   {
    "duration": -144,
    "start_time": "2022-03-14T13:42:34.292Z"
   },
   {
    "duration": -146,
    "start_time": "2022-03-14T13:42:34.296Z"
   },
   {
    "duration": -148,
    "start_time": "2022-03-14T13:42:34.299Z"
   },
   {
    "duration": -149,
    "start_time": "2022-03-14T13:42:34.302Z"
   },
   {
    "duration": -150,
    "start_time": "2022-03-14T13:42:34.305Z"
   },
   {
    "duration": 1313,
    "start_time": "2022-03-14T13:44:02.291Z"
   },
   {
    "duration": 32,
    "start_time": "2022-03-14T13:44:10.298Z"
   },
   {
    "duration": 325,
    "start_time": "2022-03-14T13:44:39.607Z"
   },
   {
    "duration": 285,
    "start_time": "2022-03-14T13:44:44.583Z"
   },
   {
    "duration": 292,
    "start_time": "2022-03-14T13:44:54.641Z"
   },
   {
    "duration": 13,
    "start_time": "2022-03-14T13:45:28.804Z"
   },
   {
    "duration": 32,
    "start_time": "2022-03-14T13:45:32.613Z"
   },
   {
    "duration": 105,
    "start_time": "2022-03-14T13:45:39.131Z"
   },
   {
    "duration": 13,
    "start_time": "2022-03-14T13:45:43.927Z"
   },
   {
    "duration": 303,
    "start_time": "2022-03-14T13:47:51.464Z"
   },
   {
    "duration": 95,
    "start_time": "2022-03-14T13:48:19.039Z"
   },
   {
    "duration": 300,
    "start_time": "2022-03-14T13:48:34.620Z"
   },
   {
    "duration": 288,
    "start_time": "2022-03-14T13:48:48.672Z"
   },
   {
    "duration": 331,
    "start_time": "2022-03-14T13:49:17.838Z"
   },
   {
    "duration": 9842,
    "start_time": "2022-03-14T13:49:55.592Z"
   },
   {
    "duration": 9844,
    "start_time": "2022-03-14T13:50:23.199Z"
   },
   {
    "duration": 284,
    "start_time": "2022-03-14T13:50:53.289Z"
   },
   {
    "duration": 1919,
    "start_time": "2022-03-14T14:02:05.705Z"
   },
   {
    "duration": 423,
    "start_time": "2022-03-14T14:02:07.628Z"
   },
   {
    "duration": 12,
    "start_time": "2022-03-14T14:02:08.055Z"
   },
   {
    "duration": 37,
    "start_time": "2022-03-14T14:02:08.070Z"
   },
   {
    "duration": 13,
    "start_time": "2022-03-14T14:02:08.110Z"
   },
   {
    "duration": 36,
    "start_time": "2022-03-14T14:02:08.126Z"
   },
   {
    "duration": 27,
    "start_time": "2022-03-14T14:02:08.165Z"
   },
   {
    "duration": 19,
    "start_time": "2022-03-14T14:02:08.197Z"
   },
   {
    "duration": 30,
    "start_time": "2022-03-14T14:02:08.219Z"
   },
   {
    "duration": 16,
    "start_time": "2022-03-14T14:02:08.251Z"
   },
   {
    "duration": 38,
    "start_time": "2022-03-14T14:02:08.281Z"
   },
   {
    "duration": 15,
    "start_time": "2022-03-14T14:02:08.322Z"
   },
   {
    "duration": 44,
    "start_time": "2022-03-14T14:02:08.340Z"
   },
   {
    "duration": 16,
    "start_time": "2022-03-14T14:02:08.387Z"
   },
   {
    "duration": 28,
    "start_time": "2022-03-14T14:02:08.406Z"
   },
   {
    "duration": 20,
    "start_time": "2022-03-14T14:02:08.436Z"
   },
   {
    "duration": 60,
    "start_time": "2022-03-14T14:02:08.483Z"
   },
   {
    "duration": 82,
    "start_time": "2022-03-14T14:02:08.545Z"
   },
   {
    "duration": 76,
    "start_time": "2022-03-14T14:02:08.630Z"
   },
   {
    "duration": 15,
    "start_time": "2022-03-14T14:02:08.708Z"
   },
   {
    "duration": 15,
    "start_time": "2022-03-14T14:02:08.726Z"
   },
   {
    "duration": 62,
    "start_time": "2022-03-14T14:02:08.743Z"
   },
   {
    "duration": 24,
    "start_time": "2022-03-14T14:02:08.813Z"
   },
   {
    "duration": 42,
    "start_time": "2022-03-14T14:02:08.840Z"
   },
   {
    "duration": 17,
    "start_time": "2022-03-14T14:02:08.884Z"
   },
   {
    "duration": 85,
    "start_time": "2022-03-14T14:02:08.903Z"
   },
   {
    "duration": 39,
    "start_time": "2022-03-14T14:02:08.990Z"
   },
   {
    "duration": 12,
    "start_time": "2022-03-14T14:02:09.032Z"
   },
   {
    "duration": 551,
    "start_time": "2022-03-14T14:02:09.047Z"
   },
   {
    "duration": 571,
    "start_time": "2022-03-14T14:02:09.600Z"
   },
   {
    "duration": 240,
    "start_time": "2022-03-14T14:02:10.174Z"
   },
   {
    "duration": 260,
    "start_time": "2022-03-14T14:02:10.417Z"
   },
   {
    "duration": 379,
    "start_time": "2022-03-14T14:02:10.683Z"
   },
   {
    "duration": 4,
    "start_time": "2022-03-14T14:02:11.065Z"
   },
   {
    "duration": 10284,
    "start_time": "2022-03-14T14:02:11.083Z"
   },
   {
    "duration": 58,
    "start_time": "2022-03-14T14:02:21.370Z"
   },
   {
    "duration": 372,
    "start_time": "2022-03-14T14:02:21.431Z"
   },
   {
    "duration": 2,
    "start_time": "2022-03-14T14:02:21.806Z"
   },
   {
    "duration": 18,
    "start_time": "2022-03-14T14:02:21.811Z"
   },
   {
    "duration": 28,
    "start_time": "2022-03-14T14:02:21.831Z"
   },
   {
    "duration": 18,
    "start_time": "2022-03-14T14:02:21.861Z"
   },
   {
    "duration": 30,
    "start_time": "2022-03-14T14:02:21.881Z"
   },
   {
    "duration": 45,
    "start_time": "2022-03-14T14:02:21.913Z"
   },
   {
    "duration": 38,
    "start_time": "2022-03-14T14:02:21.960Z"
   },
   {
    "duration": 24,
    "start_time": "2022-03-14T14:02:22.000Z"
   },
   {
    "duration": 30,
    "start_time": "2022-03-14T14:02:22.026Z"
   },
   {
    "duration": 2003,
    "start_time": "2022-03-14T14:03:49.402Z"
   },
   {
    "duration": 397,
    "start_time": "2022-03-14T14:03:51.408Z"
   },
   {
    "duration": 10,
    "start_time": "2022-03-14T14:03:51.808Z"
   },
   {
    "duration": 23,
    "start_time": "2022-03-14T14:03:51.821Z"
   },
   {
    "duration": 10,
    "start_time": "2022-03-14T14:03:51.847Z"
   },
   {
    "duration": 29,
    "start_time": "2022-03-14T14:03:51.859Z"
   },
   {
    "duration": 9,
    "start_time": "2022-03-14T14:03:51.891Z"
   },
   {
    "duration": 16,
    "start_time": "2022-03-14T14:03:51.904Z"
   },
   {
    "duration": 61,
    "start_time": "2022-03-14T14:03:51.923Z"
   },
   {
    "duration": 11,
    "start_time": "2022-03-14T14:03:51.987Z"
   },
   {
    "duration": 44,
    "start_time": "2022-03-14T14:03:52.000Z"
   },
   {
    "duration": 41,
    "start_time": "2022-03-14T14:03:52.047Z"
   },
   {
    "duration": 30,
    "start_time": "2022-03-14T14:03:52.091Z"
   },
   {
    "duration": 17,
    "start_time": "2022-03-14T14:03:52.123Z"
   },
   {
    "duration": 40,
    "start_time": "2022-03-14T14:03:52.143Z"
   },
   {
    "duration": 21,
    "start_time": "2022-03-14T14:03:52.186Z"
   },
   {
    "duration": 90,
    "start_time": "2022-03-14T14:03:52.211Z"
   },
   {
    "duration": 78,
    "start_time": "2022-03-14T14:03:52.304Z"
   },
   {
    "duration": 61,
    "start_time": "2022-03-14T14:03:52.385Z"
   },
   {
    "duration": 41,
    "start_time": "2022-03-14T14:03:52.449Z"
   },
   {
    "duration": 21,
    "start_time": "2022-03-14T14:03:52.493Z"
   },
   {
    "duration": 67,
    "start_time": "2022-03-14T14:03:52.517Z"
   },
   {
    "duration": 28,
    "start_time": "2022-03-14T14:03:52.591Z"
   },
   {
    "duration": 18,
    "start_time": "2022-03-14T14:03:52.622Z"
   },
   {
    "duration": 47,
    "start_time": "2022-03-14T14:03:52.642Z"
   },
   {
    "duration": 60,
    "start_time": "2022-03-14T14:03:52.691Z"
   },
   {
    "duration": 53,
    "start_time": "2022-03-14T14:03:52.754Z"
   },
   {
    "duration": 13,
    "start_time": "2022-03-14T14:03:52.810Z"
   },
   {
    "duration": 541,
    "start_time": "2022-03-14T14:03:52.826Z"
   },
   {
    "duration": 858,
    "start_time": "2022-03-14T14:03:53.369Z"
   },
   {
    "duration": 253,
    "start_time": "2022-03-14T14:03:54.230Z"
   },
   {
    "duration": 259,
    "start_time": "2022-03-14T14:03:54.486Z"
   },
   {
    "duration": 399,
    "start_time": "2022-03-14T14:03:54.747Z"
   },
   {
    "duration": 3,
    "start_time": "2022-03-14T14:03:55.149Z"
   },
   {
    "duration": 9693,
    "start_time": "2022-03-14T14:03:55.154Z"
   },
   {
    "duration": 68,
    "start_time": "2022-03-14T14:04:04.850Z"
   },
   {
    "duration": 287,
    "start_time": "2022-03-14T14:04:04.922Z"
   },
   {
    "duration": 3,
    "start_time": "2022-03-14T14:04:05.212Z"
   },
   {
    "duration": 9,
    "start_time": "2022-03-14T14:04:05.218Z"
   },
   {
    "duration": 7,
    "start_time": "2022-03-14T14:04:05.230Z"
   },
   {
    "duration": 8,
    "start_time": "2022-03-14T14:04:05.239Z"
   },
   {
    "duration": 43,
    "start_time": "2022-03-14T14:04:05.249Z"
   },
   {
    "duration": 8,
    "start_time": "2022-03-14T14:04:05.295Z"
   },
   {
    "duration": 7,
    "start_time": "2022-03-14T14:04:05.306Z"
   },
   {
    "duration": 6,
    "start_time": "2022-03-14T14:04:05.316Z"
   },
   {
    "duration": 11,
    "start_time": "2022-03-14T14:04:05.325Z"
   },
   {
    "duration": 11,
    "start_time": "2022-03-14T14:05:55.534Z"
   },
   {
    "duration": 35,
    "start_time": "2022-03-14T14:06:27.936Z"
   },
   {
    "duration": 48,
    "start_time": "2022-03-14T14:09:01.803Z"
   },
   {
    "duration": 11,
    "start_time": "2022-03-14T14:09:35.007Z"
   },
   {
    "duration": 56,
    "start_time": "2022-03-14T14:09:44.792Z"
   },
   {
    "duration": 8048,
    "start_time": "2022-03-14T14:10:29.376Z"
   },
   {
    "duration": 8137,
    "start_time": "2022-03-14T14:11:05.308Z"
   },
   {
    "duration": 85,
    "start_time": "2022-03-14T14:11:20.006Z"
   },
   {
    "duration": 7169,
    "start_time": "2022-03-14T14:12:45.006Z"
   },
   {
    "duration": 286,
    "start_time": "2022-03-14T14:13:49.017Z"
   },
   {
    "duration": 1684,
    "start_time": "2022-03-14T14:14:26.406Z"
   },
   {
    "duration": 1657,
    "start_time": "2022-03-14T14:14:35.602Z"
   },
   {
    "duration": 1724,
    "start_time": "2022-03-14T14:15:19.549Z"
   },
   {
    "duration": 11,
    "start_time": "2022-03-14T14:15:34.248Z"
   },
   {
    "duration": 42,
    "start_time": "2022-03-14T14:16:39.175Z"
   },
   {
    "duration": 295,
    "start_time": "2022-03-14T14:18:23.259Z"
   },
   {
    "duration": 279,
    "start_time": "2022-03-14T14:18:28.491Z"
   },
   {
    "duration": 574,
    "start_time": "2022-03-14T14:18:33.764Z"
   },
   {
    "duration": 10,
    "start_time": "2022-03-14T14:18:40.437Z"
   },
   {
    "duration": 10,
    "start_time": "2022-03-14T14:19:50.030Z"
   },
   {
    "duration": 1486,
    "start_time": "2022-03-14T14:20:12.128Z"
   },
   {
    "duration": 36,
    "start_time": "2022-03-14T14:20:18.009Z"
   },
   {
    "duration": 46,
    "start_time": "2022-03-14T14:20:29.394Z"
   },
   {
    "duration": 37,
    "start_time": "2022-03-14T14:20:38.121Z"
   },
   {
    "duration": 54,
    "start_time": "2022-03-14T14:20:46.492Z"
   },
   {
    "duration": 49,
    "start_time": "2022-03-14T14:20:54.950Z"
   },
   {
    "duration": 52,
    "start_time": "2022-03-14T14:21:30.315Z"
   },
   {
    "duration": 17,
    "start_time": "2022-03-14T14:21:37.939Z"
   },
   {
    "duration": 20,
    "start_time": "2022-03-14T14:21:44.964Z"
   },
   {
    "duration": 97,
    "start_time": "2022-03-15T08:58:14.904Z"
   },
   {
    "duration": 102,
    "start_time": "2022-03-15T08:58:30.610Z"
   },
   {
    "duration": 9,
    "start_time": "2022-03-15T08:58:41.745Z"
   },
   {
    "duration": 418,
    "start_time": "2022-03-15T08:59:12.222Z"
   },
   {
    "duration": 1407,
    "start_time": "2022-03-15T08:59:20.558Z"
   },
   {
    "duration": 333,
    "start_time": "2022-03-15T08:59:21.967Z"
   },
   {
    "duration": 9,
    "start_time": "2022-03-15T08:59:22.303Z"
   },
   {
    "duration": 18,
    "start_time": "2022-03-15T08:59:22.315Z"
   },
   {
    "duration": 8,
    "start_time": "2022-03-15T08:59:22.336Z"
   },
   {
    "duration": 42,
    "start_time": "2022-03-15T08:59:22.346Z"
   },
   {
    "duration": 12,
    "start_time": "2022-03-15T08:59:22.391Z"
   },
   {
    "duration": 16,
    "start_time": "2022-03-15T08:59:22.408Z"
   },
   {
    "duration": 63,
    "start_time": "2022-03-15T08:59:22.428Z"
   },
   {
    "duration": 13,
    "start_time": "2022-03-15T08:59:22.494Z"
   },
   {
    "duration": 39,
    "start_time": "2022-03-15T08:59:22.509Z"
   },
   {
    "duration": 45,
    "start_time": "2022-03-15T08:59:22.550Z"
   },
   {
    "duration": 15,
    "start_time": "2022-03-15T08:59:22.598Z"
   },
   {
    "duration": 17,
    "start_time": "2022-03-15T08:59:22.616Z"
   },
   {
    "duration": 54,
    "start_time": "2022-03-15T08:59:22.636Z"
   },
   {
    "duration": 20,
    "start_time": "2022-03-15T08:59:22.694Z"
   },
   {
    "duration": 82,
    "start_time": "2022-03-15T08:59:22.717Z"
   },
   {
    "duration": 82,
    "start_time": "2022-03-15T08:59:22.802Z"
   },
   {
    "duration": 62,
    "start_time": "2022-03-15T08:59:22.886Z"
   },
   {
    "duration": 36,
    "start_time": "2022-03-15T08:59:22.951Z"
   },
   {
    "duration": 18,
    "start_time": "2022-03-15T08:59:22.990Z"
   },
   {
    "duration": 30,
    "start_time": "2022-03-15T08:59:23.011Z"
   },
   {
    "duration": 52,
    "start_time": "2022-03-15T08:59:23.046Z"
   },
   {
    "duration": 17,
    "start_time": "2022-03-15T08:59:23.101Z"
   },
   {
    "duration": 18,
    "start_time": "2022-03-15T08:59:23.120Z"
   },
   {
    "duration": 100,
    "start_time": "2022-03-15T08:59:23.140Z"
   },
   {
    "duration": 49,
    "start_time": "2022-03-15T08:59:23.242Z"
   },
   {
    "duration": 12,
    "start_time": "2022-03-15T08:59:23.293Z"
   },
   {
    "duration": 531,
    "start_time": "2022-03-15T08:59:23.307Z"
   },
   {
    "duration": 544,
    "start_time": "2022-03-15T08:59:23.840Z"
   },
   {
    "duration": 228,
    "start_time": "2022-03-15T08:59:24.387Z"
   },
   {
    "duration": 268,
    "start_time": "2022-03-15T08:59:24.618Z"
   },
   {
    "duration": 377,
    "start_time": "2022-03-15T08:59:24.889Z"
   },
   {
    "duration": 14,
    "start_time": "2022-03-15T08:59:25.269Z"
   },
   {
    "duration": 8907,
    "start_time": "2022-03-15T08:59:25.286Z"
   },
   {
    "duration": 1426,
    "start_time": "2022-03-15T08:59:34.196Z"
   },
   {
    "duration": 62,
    "start_time": "2022-03-15T08:59:35.625Z"
   },
   {
    "duration": 388,
    "start_time": "2022-03-15T08:59:35.691Z"
   },
   {
    "duration": 396,
    "start_time": "2022-03-15T08:59:55.291Z"
   },
   {
    "duration": 314,
    "start_time": "2022-03-15T09:00:02.716Z"
   },
   {
    "duration": 15597,
    "start_time": "2022-03-15T09:00:33.623Z"
   },
   {
    "duration": 15709,
    "start_time": "2022-03-15T09:01:19.942Z"
   },
   {
    "duration": 49,
    "start_time": "2022-03-15T09:01:35.654Z"
   },
   {
    "duration": 4,
    "start_time": "2022-03-15T09:03:20.571Z"
   },
   {
    "duration": 362,
    "start_time": "2022-03-15T09:03:20.578Z"
   },
   {
    "duration": 9,
    "start_time": "2022-03-15T09:03:20.943Z"
   },
   {
    "duration": 63,
    "start_time": "2022-03-15T09:03:20.955Z"
   },
   {
    "duration": 52,
    "start_time": "2022-03-15T09:03:21.020Z"
   },
   {
    "duration": 49,
    "start_time": "2022-03-15T09:03:21.075Z"
   },
   {
    "duration": 37,
    "start_time": "2022-03-15T09:03:21.127Z"
   },
   {
    "duration": 45,
    "start_time": "2022-03-15T09:03:21.167Z"
   },
   {
    "duration": 56,
    "start_time": "2022-03-15T09:03:21.214Z"
   },
   {
    "duration": 35,
    "start_time": "2022-03-15T09:03:21.272Z"
   },
   {
    "duration": 71,
    "start_time": "2022-03-15T09:03:21.309Z"
   },
   {
    "duration": 53,
    "start_time": "2022-03-15T09:03:21.382Z"
   },
   {
    "duration": 39,
    "start_time": "2022-03-15T09:03:21.438Z"
   },
   {
    "duration": 45,
    "start_time": "2022-03-15T09:03:21.479Z"
   },
   {
    "duration": 43,
    "start_time": "2022-03-15T09:03:21.527Z"
   },
   {
    "duration": 26,
    "start_time": "2022-03-15T09:03:21.573Z"
   },
   {
    "duration": 68,
    "start_time": "2022-03-15T09:03:21.601Z"
   },
   {
    "duration": 60,
    "start_time": "2022-03-15T09:03:21.671Z"
   },
   {
    "duration": 68,
    "start_time": "2022-03-15T09:03:21.736Z"
   },
   {
    "duration": 27,
    "start_time": "2022-03-15T09:03:21.807Z"
   },
   {
    "duration": 42,
    "start_time": "2022-03-15T09:03:21.837Z"
   },
   {
    "duration": 37,
    "start_time": "2022-03-15T09:03:21.881Z"
   },
   {
    "duration": 25,
    "start_time": "2022-03-15T09:03:21.920Z"
   },
   {
    "duration": 43,
    "start_time": "2022-03-15T09:03:21.947Z"
   },
   {
    "duration": 39,
    "start_time": "2022-03-15T09:03:21.993Z"
   },
   {
    "duration": 81,
    "start_time": "2022-03-15T09:03:22.034Z"
   },
   {
    "duration": 36,
    "start_time": "2022-03-15T09:03:22.118Z"
   },
   {
    "duration": 27,
    "start_time": "2022-03-15T09:03:22.156Z"
   },
   {
    "duration": 517,
    "start_time": "2022-03-15T09:03:22.186Z"
   },
   {
    "duration": 547,
    "start_time": "2022-03-15T09:03:22.705Z"
   },
   {
    "duration": 228,
    "start_time": "2022-03-15T09:03:23.255Z"
   },
   {
    "duration": 256,
    "start_time": "2022-03-15T09:03:23.486Z"
   },
   {
    "duration": 375,
    "start_time": "2022-03-15T09:03:23.745Z"
   },
   {
    "duration": 3,
    "start_time": "2022-03-15T09:03:24.122Z"
   },
   {
    "duration": 10898,
    "start_time": "2022-03-15T09:03:24.127Z"
   },
   {
    "duration": 1377,
    "start_time": "2022-03-15T09:03:35.028Z"
   },
   {
    "duration": 51,
    "start_time": "2022-03-15T09:03:36.407Z"
   },
   {
    "duration": 10697,
    "start_time": "2022-03-15T09:03:48.137Z"
   },
   {
    "duration": 51,
    "start_time": "2022-03-15T09:04:30.373Z"
   },
   {
    "duration": 13490,
    "start_time": "2022-03-15T09:05:17.869Z"
   },
   {
    "duration": 60,
    "start_time": "2022-03-15T09:05:50.327Z"
   },
   {
    "duration": 9,
    "start_time": "2022-03-15T09:07:44.172Z"
   },
   {
    "duration": 7,
    "start_time": "2022-03-15T09:07:55.110Z"
   },
   {
    "duration": 14706,
    "start_time": "2022-03-15T09:09:59.895Z"
   },
   {
    "duration": 84,
    "start_time": "2022-03-15T09:10:14.605Z"
   },
   {
    "duration": 8,
    "start_time": "2022-03-15T09:10:14.693Z"
   },
   {
    "duration": 1462,
    "start_time": "2022-03-15T09:10:35.067Z"
   },
   {
    "duration": 334,
    "start_time": "2022-03-15T09:10:36.532Z"
   },
   {
    "duration": 9,
    "start_time": "2022-03-15T09:10:36.869Z"
   },
   {
    "duration": 19,
    "start_time": "2022-03-15T09:10:36.880Z"
   },
   {
    "duration": 11,
    "start_time": "2022-03-15T09:10:36.901Z"
   },
   {
    "duration": 20,
    "start_time": "2022-03-15T09:10:36.915Z"
   },
   {
    "duration": 8,
    "start_time": "2022-03-15T09:10:36.937Z"
   },
   {
    "duration": 45,
    "start_time": "2022-03-15T09:10:36.949Z"
   },
   {
    "duration": 22,
    "start_time": "2022-03-15T09:10:36.997Z"
   },
   {
    "duration": 16,
    "start_time": "2022-03-15T09:10:37.021Z"
   },
   {
    "duration": 64,
    "start_time": "2022-03-15T09:10:37.040Z"
   },
   {
    "duration": 15,
    "start_time": "2022-03-15T09:10:37.107Z"
   },
   {
    "duration": 20,
    "start_time": "2022-03-15T09:10:37.124Z"
   },
   {
    "duration": 40,
    "start_time": "2022-03-15T09:10:37.146Z"
   },
   {
    "duration": 24,
    "start_time": "2022-03-15T09:10:37.189Z"
   },
   {
    "duration": 18,
    "start_time": "2022-03-15T09:10:37.216Z"
   },
   {
    "duration": 99,
    "start_time": "2022-03-15T09:10:37.236Z"
   },
   {
    "duration": 77,
    "start_time": "2022-03-15T09:10:37.337Z"
   },
   {
    "duration": 70,
    "start_time": "2022-03-15T09:10:37.416Z"
   },
   {
    "duration": 15,
    "start_time": "2022-03-15T09:10:37.488Z"
   },
   {
    "duration": 16,
    "start_time": "2022-03-15T09:10:37.505Z"
   },
   {
    "duration": 58,
    "start_time": "2022-03-15T09:10:37.524Z"
   },
   {
    "duration": 26,
    "start_time": "2022-03-15T09:10:37.588Z"
   },
   {
    "duration": 17,
    "start_time": "2022-03-15T09:10:37.617Z"
   },
   {
    "duration": 51,
    "start_time": "2022-03-15T09:10:37.636Z"
   },
   {
    "duration": 65,
    "start_time": "2022-03-15T09:10:37.690Z"
   },
   {
    "duration": 52,
    "start_time": "2022-03-15T09:10:37.758Z"
   },
   {
    "duration": 13,
    "start_time": "2022-03-15T09:10:37.813Z"
   },
   {
    "duration": 516,
    "start_time": "2022-03-15T09:10:37.829Z"
   },
   {
    "duration": 558,
    "start_time": "2022-03-15T09:10:38.347Z"
   },
   {
    "duration": 235,
    "start_time": "2022-03-15T09:10:38.907Z"
   },
   {
    "duration": 255,
    "start_time": "2022-03-15T09:10:39.146Z"
   },
   {
    "duration": 386,
    "start_time": "2022-03-15T09:10:39.403Z"
   },
   {
    "duration": 3,
    "start_time": "2022-03-15T09:10:39.791Z"
   },
   {
    "duration": 11291,
    "start_time": "2022-03-15T09:10:39.796Z"
   },
   {
    "duration": 1536,
    "start_time": "2022-03-15T09:10:51.090Z"
   },
   {
    "duration": 67,
    "start_time": "2022-03-15T09:10:52.629Z"
   },
   {
    "duration": 14074,
    "start_time": "2022-03-15T09:10:52.699Z"
   },
   {
    "duration": 46,
    "start_time": "2022-03-15T09:11:06.776Z"
   },
   {
    "duration": 14,
    "start_time": "2022-03-15T09:11:06.824Z"
   },
   {
    "duration": 8,
    "start_time": "2022-03-15T09:11:06.841Z"
   },
   {
    "duration": 31,
    "start_time": "2022-03-15T09:11:06.851Z"
   },
   {
    "duration": 14,
    "start_time": "2022-03-15T09:11:06.885Z"
   },
   {
    "duration": 14,
    "start_time": "2022-03-15T09:11:06.901Z"
   },
   {
    "duration": 17,
    "start_time": "2022-03-15T09:11:06.917Z"
   },
   {
    "duration": 8,
    "start_time": "2022-03-15T09:11:06.936Z"
   },
   {
    "duration": 6,
    "start_time": "2022-03-15T09:11:06.946Z"
   },
   {
    "duration": 5,
    "start_time": "2022-03-15T09:11:06.954Z"
   },
   {
    "duration": 7,
    "start_time": "2022-03-15T09:21:39.745Z"
   },
   {
    "duration": 14905,
    "start_time": "2022-03-15T09:21:50.499Z"
   },
   {
    "duration": 51,
    "start_time": "2022-03-15T09:22:05.407Z"
   },
   {
    "duration": 14027,
    "start_time": "2022-03-15T09:22:35.592Z"
   },
   {
    "duration": 9,
    "start_time": "2022-03-15T09:23:44.871Z"
   },
   {
    "duration": 7,
    "start_time": "2022-03-15T09:24:06.986Z"
   },
   {
    "duration": 417,
    "start_time": "2022-03-15T09:24:12.363Z"
   },
   {
    "duration": 8,
    "start_time": "2022-03-15T09:24:20.580Z"
   },
   {
    "duration": 7,
    "start_time": "2022-03-15T09:24:43.144Z"
   },
   {
    "duration": 7,
    "start_time": "2022-03-15T09:26:18.170Z"
   },
   {
    "duration": 7,
    "start_time": "2022-03-15T09:26:22.618Z"
   },
   {
    "duration": 8,
    "start_time": "2022-03-15T09:26:36.100Z"
   },
   {
    "duration": 7,
    "start_time": "2022-03-15T09:26:47.678Z"
   },
   {
    "duration": 7,
    "start_time": "2022-03-15T09:26:53.078Z"
   },
   {
    "duration": 1555,
    "start_time": "2022-03-15T09:27:31.121Z"
   },
   {
    "duration": 336,
    "start_time": "2022-03-15T09:27:32.679Z"
   },
   {
    "duration": 9,
    "start_time": "2022-03-15T09:27:33.018Z"
   },
   {
    "duration": 41,
    "start_time": "2022-03-15T09:27:33.029Z"
   },
   {
    "duration": 14,
    "start_time": "2022-03-15T09:27:33.072Z"
   },
   {
    "duration": 45,
    "start_time": "2022-03-15T09:27:33.088Z"
   },
   {
    "duration": 23,
    "start_time": "2022-03-15T09:27:33.136Z"
   },
   {
    "duration": 27,
    "start_time": "2022-03-15T09:27:33.163Z"
   },
   {
    "duration": 38,
    "start_time": "2022-03-15T09:27:33.193Z"
   },
   {
    "duration": 27,
    "start_time": "2022-03-15T09:27:33.233Z"
   },
   {
    "duration": 65,
    "start_time": "2022-03-15T09:27:33.263Z"
   },
   {
    "duration": 23,
    "start_time": "2022-03-15T09:27:33.330Z"
   },
   {
    "duration": 28,
    "start_time": "2022-03-15T09:27:33.356Z"
   },
   {
    "duration": 25,
    "start_time": "2022-03-15T09:27:33.387Z"
   },
   {
    "duration": 36,
    "start_time": "2022-03-15T09:27:33.415Z"
   },
   {
    "duration": 19,
    "start_time": "2022-03-15T09:27:33.454Z"
   },
   {
    "duration": 58,
    "start_time": "2022-03-15T09:27:33.482Z"
   },
   {
    "duration": 86,
    "start_time": "2022-03-15T09:27:33.543Z"
   },
   {
    "duration": 75,
    "start_time": "2022-03-15T09:27:33.632Z"
   },
   {
    "duration": 30,
    "start_time": "2022-03-15T09:27:33.709Z"
   },
   {
    "duration": 29,
    "start_time": "2022-03-15T09:27:33.742Z"
   },
   {
    "duration": 50,
    "start_time": "2022-03-15T09:27:33.774Z"
   },
   {
    "duration": 23,
    "start_time": "2022-03-15T09:27:33.829Z"
   },
   {
    "duration": 22,
    "start_time": "2022-03-15T09:27:33.856Z"
   },
   {
    "duration": 28,
    "start_time": "2022-03-15T09:27:33.881Z"
   },
   {
    "duration": 60,
    "start_time": "2022-03-15T09:27:33.913Z"
   },
   {
    "duration": 40,
    "start_time": "2022-03-15T09:27:33.983Z"
   },
   {
    "duration": 11,
    "start_time": "2022-03-15T09:27:34.026Z"
   },
   {
    "duration": 520,
    "start_time": "2022-03-15T09:27:34.040Z"
   },
   {
    "duration": 540,
    "start_time": "2022-03-15T09:27:34.562Z"
   },
   {
    "duration": 231,
    "start_time": "2022-03-15T09:27:35.105Z"
   },
   {
    "duration": 265,
    "start_time": "2022-03-15T09:27:35.339Z"
   },
   {
    "duration": 376,
    "start_time": "2022-03-15T09:27:35.606Z"
   },
   {
    "duration": 4,
    "start_time": "2022-03-15T09:27:35.984Z"
   },
   {
    "duration": 11368,
    "start_time": "2022-03-15T09:27:35.990Z"
   },
   {
    "duration": 1487,
    "start_time": "2022-03-15T09:27:47.360Z"
   },
   {
    "duration": 66,
    "start_time": "2022-03-15T09:27:48.849Z"
   },
   {
    "duration": 13713,
    "start_time": "2022-03-15T09:27:48.918Z"
   },
   {
    "duration": 61,
    "start_time": "2022-03-15T09:28:02.634Z"
   },
   {
    "duration": 10,
    "start_time": "2022-03-15T09:28:02.698Z"
   },
   {
    "duration": 5,
    "start_time": "2022-03-15T09:28:02.711Z"
   },
   {
    "duration": 8,
    "start_time": "2022-03-15T09:28:02.718Z"
   },
   {
    "duration": 5,
    "start_time": "2022-03-15T09:28:02.729Z"
   },
   {
    "duration": 8,
    "start_time": "2022-03-15T09:28:02.737Z"
   },
   {
    "duration": 34,
    "start_time": "2022-03-15T09:28:02.748Z"
   },
   {
    "duration": 6,
    "start_time": "2022-03-15T09:28:02.785Z"
   },
   {
    "duration": 7,
    "start_time": "2022-03-15T09:28:02.794Z"
   },
   {
    "duration": 9,
    "start_time": "2022-03-15T09:28:02.804Z"
   },
   {
    "duration": 62,
    "start_time": "2022-03-15T09:28:14.321Z"
   },
   {
    "duration": 6,
    "start_time": "2022-03-15T09:34:45.170Z"
   },
   {
    "duration": 405,
    "start_time": "2022-03-15T09:35:13.562Z"
   },
   {
    "duration": 35,
    "start_time": "2022-03-15T09:36:34.113Z"
   },
   {
    "duration": 300,
    "start_time": "2022-03-15T09:40:12.389Z"
   },
   {
    "duration": 44,
    "start_time": "2022-03-15T09:40:18.989Z"
   },
   {
    "duration": 306,
    "start_time": "2022-03-15T09:40:42.119Z"
   },
   {
    "duration": 316,
    "start_time": "2022-03-15T09:40:59.753Z"
   },
   {
    "duration": 363,
    "start_time": "2022-03-15T09:41:36.318Z"
   },
   {
    "duration": 320,
    "start_time": "2022-03-15T09:41:42.662Z"
   },
   {
    "duration": 323,
    "start_time": "2022-03-15T09:45:29.473Z"
   },
   {
    "duration": 356,
    "start_time": "2022-03-15T09:46:43.974Z"
   },
   {
    "duration": 331,
    "start_time": "2022-03-15T09:47:00.015Z"
   },
   {
    "duration": 4,
    "start_time": "2022-03-15T09:47:07.870Z"
   },
   {
    "duration": 302,
    "start_time": "2022-03-15T09:47:15.248Z"
   },
   {
    "duration": 303,
    "start_time": "2022-03-15T09:47:28.018Z"
   },
   {
    "duration": 320,
    "start_time": "2022-03-15T09:47:49.492Z"
   },
   {
    "duration": 312,
    "start_time": "2022-03-15T09:48:07.351Z"
   },
   {
    "duration": 330,
    "start_time": "2022-03-15T09:48:31.962Z"
   },
   {
    "duration": 302,
    "start_time": "2022-03-15T09:49:03.959Z"
   },
   {
    "duration": 374,
    "start_time": "2022-03-15T09:49:32.018Z"
   },
   {
    "duration": 311,
    "start_time": "2022-03-15T09:49:46.987Z"
   },
   {
    "duration": 321,
    "start_time": "2022-03-15T09:49:56.924Z"
   },
   {
    "duration": 316,
    "start_time": "2022-03-15T09:50:36.666Z"
   },
   {
    "duration": 315,
    "start_time": "2022-03-15T09:50:49.283Z"
   },
   {
    "duration": 312,
    "start_time": "2022-03-15T09:50:58.453Z"
   },
   {
    "duration": 321,
    "start_time": "2022-03-15T09:51:27.103Z"
   },
   {
    "duration": 342,
    "start_time": "2022-03-15T09:51:59.108Z"
   },
   {
    "duration": 296,
    "start_time": "2022-03-15T09:52:14.630Z"
   },
   {
    "duration": 1845,
    "start_time": "2022-03-15T09:52:46.554Z"
   },
   {
    "duration": 582,
    "start_time": "2022-03-15T09:52:58.252Z"
   },
   {
    "duration": 1105,
    "start_time": "2022-03-15T09:53:13.861Z"
   },
   {
    "duration": 622,
    "start_time": "2022-03-15T09:53:27.687Z"
   },
   {
    "duration": 59,
    "start_time": "2022-03-15T09:55:12.701Z"
   },
   {
    "duration": 4,
    "start_time": "2022-03-15T09:57:42.502Z"
   },
   {
    "duration": 278,
    "start_time": "2022-03-15T09:57:59.313Z"
   },
   {
    "duration": 871,
    "start_time": "2022-03-15T09:58:57.187Z"
   },
   {
    "duration": 22,
    "start_time": "2022-03-15T10:00:01.049Z"
   },
   {
    "duration": 23,
    "start_time": "2022-03-15T10:00:48.672Z"
   },
   {
    "duration": 3,
    "start_time": "2022-03-15T10:02:14.882Z"
   },
   {
    "duration": 936,
    "start_time": "2022-03-15T10:03:02.401Z"
   },
   {
    "duration": 949,
    "start_time": "2022-03-15T10:04:19.033Z"
   },
   {
    "duration": 991,
    "start_time": "2022-03-15T10:04:45.927Z"
   },
   {
    "duration": 1240,
    "start_time": "2022-03-15T10:04:59.807Z"
   },
   {
    "duration": 1202,
    "start_time": "2022-03-15T10:05:22.329Z"
   },
   {
    "duration": 620,
    "start_time": "2022-03-15T10:39:11.046Z"
   },
   {
    "duration": 590,
    "start_time": "2022-03-15T10:45:47.856Z"
   },
   {
    "duration": 43,
    "start_time": "2022-03-15T10:47:14.090Z"
   },
   {
    "duration": 84,
    "start_time": "2022-03-15T10:47:19.906Z"
   },
   {
    "duration": 614,
    "start_time": "2022-03-15T10:48:53.887Z"
   },
   {
    "duration": 613,
    "start_time": "2022-03-15T10:49:14.754Z"
   },
   {
    "duration": 600,
    "start_time": "2022-03-15T10:52:04.432Z"
   },
   {
    "duration": 611,
    "start_time": "2022-03-15T10:52:16.905Z"
   },
   {
    "duration": 622,
    "start_time": "2022-03-15T10:52:59.574Z"
   },
   {
    "duration": 93,
    "start_time": "2022-03-15T10:55:57.148Z"
   },
   {
    "duration": 94,
    "start_time": "2022-03-15T10:56:03.114Z"
   },
   {
    "duration": 86,
    "start_time": "2022-03-15T10:56:10.523Z"
   },
   {
    "duration": 35,
    "start_time": "2022-03-15T12:08:42.012Z"
   },
   {
    "duration": 36,
    "start_time": "2022-03-15T12:10:23.992Z"
   },
   {
    "duration": 37,
    "start_time": "2022-03-15T12:10:46.332Z"
   },
   {
    "duration": 349,
    "start_time": "2022-03-15T12:11:02.229Z"
   },
   {
    "duration": 417,
    "start_time": "2022-03-15T12:12:19.991Z"
   },
   {
    "duration": 327,
    "start_time": "2022-03-15T12:12:33.625Z"
   },
   {
    "duration": 300,
    "start_time": "2022-03-15T12:15:42.904Z"
   },
   {
    "duration": 336,
    "start_time": "2022-03-15T12:16:00.668Z"
   },
   {
    "duration": 613,
    "start_time": "2022-03-15T12:17:50.536Z"
   },
   {
    "duration": 380,
    "start_time": "2022-03-15T12:18:15.371Z"
   },
   {
    "duration": 455,
    "start_time": "2022-03-15T12:18:28.413Z"
   },
   {
    "duration": 358,
    "start_time": "2022-03-15T12:18:34.390Z"
   },
   {
    "duration": 810,
    "start_time": "2022-03-15T12:19:17.956Z"
   },
   {
    "duration": 645,
    "start_time": "2022-03-15T12:20:15.555Z"
   },
   {
    "duration": 396,
    "start_time": "2022-03-15T12:20:47.371Z"
   },
   {
    "duration": 375,
    "start_time": "2022-03-15T12:20:52.111Z"
   },
   {
    "duration": 472,
    "start_time": "2022-03-15T12:21:21.266Z"
   },
   {
    "duration": 363,
    "start_time": "2022-03-15T12:21:39.437Z"
   },
   {
    "duration": 367,
    "start_time": "2022-03-15T12:21:56.696Z"
   },
   {
    "duration": 484,
    "start_time": "2022-03-15T12:22:45.109Z"
   },
   {
    "duration": 518,
    "start_time": "2022-03-15T12:22:57.758Z"
   },
   {
    "duration": 479,
    "start_time": "2022-03-15T12:23:06.616Z"
   },
   {
    "duration": 533,
    "start_time": "2022-03-15T12:23:35.739Z"
   },
   {
    "duration": 586,
    "start_time": "2022-03-15T12:23:46.527Z"
   },
   {
    "duration": 544,
    "start_time": "2022-03-15T12:24:01.156Z"
   },
   {
    "duration": 595,
    "start_time": "2022-03-15T12:24:24.105Z"
   },
   {
    "duration": 646,
    "start_time": "2022-03-15T12:26:08.343Z"
   },
   {
    "duration": 99,
    "start_time": "2022-03-15T12:27:42.675Z"
   },
   {
    "duration": 743,
    "start_time": "2022-03-15T12:27:51.229Z"
   },
   {
    "duration": 671,
    "start_time": "2022-03-15T12:28:54.340Z"
   },
   {
    "duration": 91,
    "start_time": "2022-03-15T12:34:17.964Z"
   },
   {
    "duration": 98,
    "start_time": "2022-03-15T12:34:34.271Z"
   },
   {
    "duration": 102,
    "start_time": "2022-03-15T12:34:57.065Z"
   },
   {
    "duration": 111,
    "start_time": "2022-03-15T12:35:12.788Z"
   },
   {
    "duration": 673,
    "start_time": "2022-03-15T12:35:47.144Z"
   },
   {
    "duration": 637,
    "start_time": "2022-03-15T12:36:05.402Z"
   },
   {
    "duration": 667,
    "start_time": "2022-03-15T12:36:24.460Z"
   },
   {
    "duration": 688,
    "start_time": "2022-03-15T12:36:37.494Z"
   },
   {
    "duration": 983,
    "start_time": "2022-03-15T12:37:40.464Z"
   },
   {
    "duration": 694,
    "start_time": "2022-03-15T12:37:54.767Z"
   },
   {
    "duration": 294,
    "start_time": "2022-03-15T12:42:21.568Z"
   },
   {
    "duration": 9,
    "start_time": "2022-03-15T12:42:48.267Z"
   },
   {
    "duration": 4,
    "start_time": "2022-03-15T12:42:56.021Z"
   },
   {
    "duration": 10,
    "start_time": "2022-03-15T12:43:10.171Z"
   },
   {
    "duration": 20,
    "start_time": "2022-03-15T12:43:26.641Z"
   },
   {
    "duration": 5,
    "start_time": "2022-03-15T12:45:51.962Z"
   },
   {
    "duration": 7,
    "start_time": "2022-03-15T12:46:17.189Z"
   },
   {
    "duration": 102,
    "start_time": "2022-03-15T12:49:21.484Z"
   },
   {
    "duration": 352,
    "start_time": "2022-03-15T12:49:32.055Z"
   },
   {
    "duration": 18,
    "start_time": "2022-03-15T12:50:00.674Z"
   },
   {
    "duration": 19,
    "start_time": "2022-03-15T12:50:42.886Z"
   },
   {
    "duration": 227,
    "start_time": "2022-03-15T12:53:13.138Z"
   },
   {
    "duration": 246,
    "start_time": "2022-03-15T12:54:47.307Z"
   },
   {
    "duration": 275,
    "start_time": "2022-03-15T12:55:16.675Z"
   },
   {
    "duration": 247,
    "start_time": "2022-03-15T12:55:29.623Z"
   },
   {
    "duration": 230,
    "start_time": "2022-03-15T12:55:43.734Z"
   },
   {
    "duration": 247,
    "start_time": "2022-03-15T12:56:06.481Z"
   },
   {
    "duration": 676,
    "start_time": "2022-03-15T12:59:08.880Z"
   },
   {
    "duration": 4,
    "start_time": "2022-03-15T12:59:15.865Z"
   },
   {
    "duration": 690,
    "start_time": "2022-03-15T12:59:26.314Z"
   },
   {
    "duration": 262,
    "start_time": "2022-03-15T13:00:05.020Z"
   },
   {
    "duration": 342,
    "start_time": "2022-03-15T13:00:10.928Z"
   },
   {
    "duration": 5,
    "start_time": "2022-03-15T13:01:03.439Z"
   },
   {
    "duration": 236,
    "start_time": "2022-03-15T13:01:13.487Z"
   },
   {
    "duration": 822,
    "start_time": "2022-03-15T13:02:15.688Z"
   },
   {
    "duration": 752,
    "start_time": "2022-03-15T13:02:27.040Z"
   },
   {
    "duration": 786,
    "start_time": "2022-03-15T13:02:57.301Z"
   },
   {
    "duration": 549,
    "start_time": "2022-03-15T13:03:12.815Z"
   },
   {
    "duration": 706,
    "start_time": "2022-03-15T13:25:42.535Z"
   },
   {
    "duration": 874,
    "start_time": "2022-03-15T13:26:47.688Z"
   },
   {
    "duration": 132,
    "start_time": "2022-03-15T13:27:19.090Z"
   },
   {
    "duration": 823,
    "start_time": "2022-03-15T13:27:30.484Z"
   },
   {
    "duration": 858,
    "start_time": "2022-03-15T13:28:35.381Z"
   },
   {
    "duration": 809,
    "start_time": "2022-03-15T13:28:49.806Z"
   },
   {
    "duration": 937,
    "start_time": "2022-03-15T13:30:08.384Z"
   },
   {
    "duration": 861,
    "start_time": "2022-03-15T13:30:17.049Z"
   },
   {
    "duration": 96,
    "start_time": "2022-03-15T13:32:22.129Z"
   },
   {
    "duration": 925,
    "start_time": "2022-03-15T13:32:29.825Z"
   },
   {
    "duration": 267,
    "start_time": "2022-03-15T13:33:54.268Z"
   },
   {
    "duration": 298,
    "start_time": "2022-03-15T13:33:59.860Z"
   },
   {
    "duration": 1000,
    "start_time": "2022-03-15T13:34:06.686Z"
   },
   {
    "duration": 185,
    "start_time": "2022-03-15T13:34:45.291Z"
   },
   {
    "duration": 791,
    "start_time": "2022-03-15T13:34:50.587Z"
   },
   {
    "duration": 792,
    "start_time": "2022-03-15T13:35:26.909Z"
   },
   {
    "duration": 839,
    "start_time": "2022-03-15T13:36:20.118Z"
   },
   {
    "duration": 555,
    "start_time": "2022-03-15T13:37:28.727Z"
   },
   {
    "duration": 557,
    "start_time": "2022-03-15T13:37:38.128Z"
   },
   {
    "duration": 810,
    "start_time": "2022-03-15T13:43:46.536Z"
   },
   {
    "duration": 15,
    "start_time": "2022-03-15T13:58:08.458Z"
   },
   {
    "duration": 17,
    "start_time": "2022-03-15T13:58:27.191Z"
   },
   {
    "duration": 15,
    "start_time": "2022-03-15T13:58:41.926Z"
   },
   {
    "duration": 343,
    "start_time": "2022-03-15T14:11:08.084Z"
   },
   {
    "duration": 797,
    "start_time": "2022-03-15T14:11:24.885Z"
   },
   {
    "duration": 921,
    "start_time": "2022-03-15T14:12:13.181Z"
   },
   {
    "duration": 880,
    "start_time": "2022-03-15T14:12:27.222Z"
   },
   {
    "duration": 742,
    "start_time": "2022-03-15T14:12:52.703Z"
   },
   {
    "duration": 692,
    "start_time": "2022-03-15T14:12:58.768Z"
   },
   {
    "duration": 869,
    "start_time": "2022-03-15T14:13:05.858Z"
   },
   {
    "duration": 807,
    "start_time": "2022-03-15T14:13:47.062Z"
   },
   {
    "duration": 1433,
    "start_time": "2022-03-15T14:14:11.224Z"
   },
   {
    "duration": 354,
    "start_time": "2022-03-15T14:14:12.660Z"
   },
   {
    "duration": 5,
    "start_time": "2022-03-15T14:14:13.018Z"
   },
   {
    "duration": 13,
    "start_time": "2022-03-15T14:14:13.027Z"
   },
   {
    "duration": 21,
    "start_time": "2022-03-15T14:14:13.043Z"
   },
   {
    "duration": 21,
    "start_time": "2022-03-15T14:14:13.066Z"
   },
   {
    "duration": 29,
    "start_time": "2022-03-15T14:14:13.091Z"
   },
   {
    "duration": 12,
    "start_time": "2022-03-15T14:14:13.124Z"
   },
   {
    "duration": 42,
    "start_time": "2022-03-15T14:14:13.139Z"
   },
   {
    "duration": 21,
    "start_time": "2022-03-15T14:14:13.184Z"
   },
   {
    "duration": 34,
    "start_time": "2022-03-15T14:14:13.208Z"
   },
   {
    "duration": 163,
    "start_time": "2022-03-15T14:14:13.245Z"
   },
   {
    "duration": 16,
    "start_time": "2022-03-15T14:14:13.411Z"
   },
   {
    "duration": 26,
    "start_time": "2022-03-15T14:14:13.430Z"
   },
   {
    "duration": 38,
    "start_time": "2022-03-15T14:14:13.459Z"
   },
   {
    "duration": 31,
    "start_time": "2022-03-15T14:14:13.500Z"
   },
   {
    "duration": 21,
    "start_time": "2022-03-15T14:14:13.534Z"
   },
   {
    "duration": 83,
    "start_time": "2022-03-15T14:14:13.558Z"
   },
   {
    "duration": 93,
    "start_time": "2022-03-15T14:14:13.644Z"
   },
   {
    "duration": 71,
    "start_time": "2022-03-15T14:14:13.740Z"
   },
   {
    "duration": 40,
    "start_time": "2022-03-15T14:14:13.814Z"
   },
   {
    "duration": 15,
    "start_time": "2022-03-15T14:14:13.856Z"
   },
   {
    "duration": 33,
    "start_time": "2022-03-15T14:14:13.876Z"
   },
   {
    "duration": 26,
    "start_time": "2022-03-15T14:14:13.914Z"
   },
   {
    "duration": 48,
    "start_time": "2022-03-15T14:14:13.942Z"
   },
   {
    "duration": 18,
    "start_time": "2022-03-15T14:14:13.993Z"
   },
   {
    "duration": 97,
    "start_time": "2022-03-15T14:14:14.015Z"
   },
   {
    "duration": 40,
    "start_time": "2022-03-15T14:14:14.115Z"
   },
   {
    "duration": 34,
    "start_time": "2022-03-15T14:14:14.158Z"
   },
   {
    "duration": 667,
    "start_time": "2022-03-15T14:14:14.195Z"
   },
   {
    "duration": 576,
    "start_time": "2022-03-15T14:14:14.864Z"
   },
   {
    "duration": 234,
    "start_time": "2022-03-15T14:14:15.442Z"
   },
   {
    "duration": 267,
    "start_time": "2022-03-15T14:14:15.678Z"
   },
   {
    "duration": 405,
    "start_time": "2022-03-15T14:14:15.948Z"
   },
   {
    "duration": 4,
    "start_time": "2022-03-15T14:14:16.355Z"
   },
   {
    "duration": 12554,
    "start_time": "2022-03-15T14:14:16.361Z"
   },
   {
    "duration": 1443,
    "start_time": "2022-03-15T14:14:28.917Z"
   },
   {
    "duration": 5,
    "start_time": "2022-03-15T14:14:30.363Z"
   },
   {
    "duration": 13985,
    "start_time": "2022-03-15T14:14:30.383Z"
   },
   {
    "duration": 121,
    "start_time": "2022-03-15T14:14:44.371Z"
   },
   {
    "duration": 93,
    "start_time": "2022-03-15T14:14:44.494Z"
   },
   {
    "duration": -574,
    "start_time": "2022-03-15T14:14:45.164Z"
   },
   {
    "duration": -578,
    "start_time": "2022-03-15T14:14:45.171Z"
   },
   {
    "duration": -582,
    "start_time": "2022-03-15T14:14:45.176Z"
   },
   {
    "duration": -585,
    "start_time": "2022-03-15T14:14:45.181Z"
   },
   {
    "duration": -588,
    "start_time": "2022-03-15T14:14:45.186Z"
   },
   {
    "duration": -592,
    "start_time": "2022-03-15T14:14:45.191Z"
   },
   {
    "duration": -595,
    "start_time": "2022-03-15T14:14:45.196Z"
   },
   {
    "duration": -598,
    "start_time": "2022-03-15T14:14:45.201Z"
   },
   {
    "duration": -603,
    "start_time": "2022-03-15T14:14:45.208Z"
   },
   {
    "duration": 656,
    "start_time": "2022-03-15T14:15:52.730Z"
   },
   {
    "duration": 80,
    "start_time": "2022-03-15T14:16:08.659Z"
   },
   {
    "duration": 605,
    "start_time": "2022-03-15T14:16:13.347Z"
   },
   {
    "duration": 801,
    "start_time": "2022-03-15T14:16:29.343Z"
   },
   {
    "duration": 19,
    "start_time": "2022-03-15T14:16:33.485Z"
   },
   {
    "duration": 579,
    "start_time": "2022-03-15T14:16:37.214Z"
   },
   {
    "duration": 774,
    "start_time": "2022-03-15T14:16:43.864Z"
   },
   {
    "duration": 743,
    "start_time": "2022-03-15T14:16:56.730Z"
   },
   {
    "duration": 663,
    "start_time": "2022-03-15T14:17:15.756Z"
   },
   {
    "duration": 620,
    "start_time": "2022-03-15T14:19:35.908Z"
   },
   {
    "duration": 1136,
    "start_time": "2022-03-15T14:21:04.439Z"
   },
   {
    "duration": 5,
    "start_time": "2022-03-15T14:21:36.475Z"
   },
   {
    "duration": 873,
    "start_time": "2022-03-15T14:21:53.215Z"
   },
   {
    "duration": 939,
    "start_time": "2022-03-15T14:22:00.495Z"
   },
   {
    "duration": 19,
    "start_time": "2022-03-15T15:04:01.241Z"
   },
   {
    "duration": 633,
    "start_time": "2022-03-15T15:04:42.840Z"
   },
   {
    "duration": 575,
    "start_time": "2022-03-15T15:04:50.698Z"
   },
   {
    "duration": 532,
    "start_time": "2022-03-15T15:06:12.228Z"
   },
   {
    "duration": 19,
    "start_time": "2022-03-15T15:11:04.530Z"
   },
   {
    "duration": 140,
    "start_time": "2022-03-15T15:13:06.018Z"
   },
   {
    "duration": 80,
    "start_time": "2022-03-15T15:14:06.482Z"
   },
   {
    "duration": 66,
    "start_time": "2022-03-15T15:15:00.380Z"
   },
   {
    "duration": 53,
    "start_time": "2022-03-15T15:15:23.480Z"
   },
   {
    "duration": 24,
    "start_time": "2022-03-15T15:15:31.286Z"
   },
   {
    "duration": 5244,
    "start_time": "2022-03-15T15:15:37.833Z"
   },
   {
    "duration": 1686,
    "start_time": "2022-03-15T15:16:11.351Z"
   },
   {
    "duration": 464,
    "start_time": "2022-03-15T15:16:13.040Z"
   },
   {
    "duration": 4,
    "start_time": "2022-03-15T15:16:13.507Z"
   },
   {
    "duration": 23,
    "start_time": "2022-03-15T15:16:13.514Z"
   },
   {
    "duration": 17,
    "start_time": "2022-03-15T15:16:13.540Z"
   },
   {
    "duration": 9,
    "start_time": "2022-03-15T15:16:13.559Z"
   },
   {
    "duration": 18,
    "start_time": "2022-03-15T15:16:13.583Z"
   },
   {
    "duration": 11,
    "start_time": "2022-03-15T15:16:13.605Z"
   },
   {
    "duration": 20,
    "start_time": "2022-03-15T15:16:13.620Z"
   },
   {
    "duration": 57,
    "start_time": "2022-03-15T15:16:13.643Z"
   },
   {
    "duration": 12,
    "start_time": "2022-03-15T15:16:13.703Z"
   },
   {
    "duration": 187,
    "start_time": "2022-03-15T15:16:13.717Z"
   },
   {
    "duration": 15,
    "start_time": "2022-03-15T15:16:13.906Z"
   },
   {
    "duration": 20,
    "start_time": "2022-03-15T15:16:13.924Z"
   },
   {
    "duration": 47,
    "start_time": "2022-03-15T15:16:13.947Z"
   },
   {
    "duration": 22,
    "start_time": "2022-03-15T15:16:13.997Z"
   },
   {
    "duration": 19,
    "start_time": "2022-03-15T15:16:14.022Z"
   },
   {
    "duration": 90,
    "start_time": "2022-03-15T15:16:14.044Z"
   },
   {
    "duration": 91,
    "start_time": "2022-03-15T15:16:14.136Z"
   },
   {
    "duration": 72,
    "start_time": "2022-03-15T15:16:14.229Z"
   },
   {
    "duration": 17,
    "start_time": "2022-03-15T15:16:14.303Z"
   },
   {
    "duration": 18,
    "start_time": "2022-03-15T15:16:14.323Z"
   },
   {
    "duration": 62,
    "start_time": "2022-03-15T15:16:14.347Z"
   },
   {
    "duration": 27,
    "start_time": "2022-03-15T15:16:14.413Z"
   },
   {
    "duration": 49,
    "start_time": "2022-03-15T15:16:14.443Z"
   },
   {
    "duration": 18,
    "start_time": "2022-03-15T15:16:14.495Z"
   },
   {
    "duration": 94,
    "start_time": "2022-03-15T15:16:14.516Z"
   },
   {
    "duration": 38,
    "start_time": "2022-03-15T15:16:14.612Z"
   },
   {
    "duration": 33,
    "start_time": "2022-03-15T15:16:14.652Z"
   },
   {
    "duration": 394,
    "start_time": "2022-03-15T15:16:14.688Z"
   },
   {
    "duration": 327,
    "start_time": "2022-03-15T15:16:15.085Z"
   },
   {
    "duration": 157,
    "start_time": "2022-03-15T15:16:15.415Z"
   },
   {
    "duration": 257,
    "start_time": "2022-03-15T15:16:15.574Z"
   },
   {
    "duration": 278,
    "start_time": "2022-03-15T15:16:15.834Z"
   },
   {
    "duration": 432,
    "start_time": "2022-03-15T15:16:16.114Z"
   },
   {
    "duration": 3,
    "start_time": "2022-03-15T15:16:16.550Z"
   },
   {
    "duration": 15586,
    "start_time": "2022-03-15T15:16:16.555Z"
   },
   {
    "duration": 2026,
    "start_time": "2022-03-15T15:16:32.144Z"
   },
   {
    "duration": 10,
    "start_time": "2022-03-15T15:16:34.173Z"
   },
   {
    "duration": 14634,
    "start_time": "2022-03-15T15:16:34.186Z"
   },
   {
    "duration": 125,
    "start_time": "2022-03-15T15:16:48.823Z"
   },
   {
    "duration": 396,
    "start_time": "2022-03-15T15:16:48.951Z"
   },
   {
    "duration": -465,
    "start_time": "2022-03-15T15:16:49.815Z"
   },
   {
    "duration": -471,
    "start_time": "2022-03-15T15:16:49.822Z"
   },
   {
    "duration": -476,
    "start_time": "2022-03-15T15:16:49.829Z"
   },
   {
    "duration": -479,
    "start_time": "2022-03-15T15:16:49.834Z"
   },
   {
    "duration": -485,
    "start_time": "2022-03-15T15:16:49.841Z"
   },
   {
    "duration": -489,
    "start_time": "2022-03-15T15:16:49.847Z"
   },
   {
    "duration": -494,
    "start_time": "2022-03-15T15:16:49.853Z"
   },
   {
    "duration": -498,
    "start_time": "2022-03-15T15:16:49.859Z"
   },
   {
    "duration": -504,
    "start_time": "2022-03-15T15:16:49.866Z"
   },
   {
    "duration": 90,
    "start_time": "2022-03-15T15:20:53.213Z"
   },
   {
    "duration": 69,
    "start_time": "2022-03-15T15:20:57.497Z"
   },
   {
    "duration": 276,
    "start_time": "2022-03-15T15:21:30.143Z"
   },
   {
    "duration": 365,
    "start_time": "2022-03-15T15:21:38.541Z"
   },
   {
    "duration": 68,
    "start_time": "2022-03-15T15:21:54.647Z"
   },
   {
    "duration": 1391,
    "start_time": "2022-03-15T15:23:27.854Z"
   },
   {
    "duration": 327,
    "start_time": "2022-03-15T15:23:29.248Z"
   },
   {
    "duration": 4,
    "start_time": "2022-03-15T15:23:29.579Z"
   },
   {
    "duration": 44,
    "start_time": "2022-03-15T15:23:29.587Z"
   },
   {
    "duration": 26,
    "start_time": "2022-03-15T15:23:29.634Z"
   },
   {
    "duration": 73,
    "start_time": "2022-03-15T15:23:29.662Z"
   },
   {
    "duration": 9,
    "start_time": "2022-03-15T15:23:29.738Z"
   },
   {
    "duration": 35,
    "start_time": "2022-03-15T15:23:29.751Z"
   },
   {
    "duration": 19,
    "start_time": "2022-03-15T15:23:29.789Z"
   },
   {
    "duration": 33,
    "start_time": "2022-03-15T15:23:29.810Z"
   },
   {
    "duration": 33,
    "start_time": "2022-03-15T15:23:29.845Z"
   },
   {
    "duration": 40,
    "start_time": "2022-03-15T15:23:29.881Z"
   },
   {
    "duration": 160,
    "start_time": "2022-03-15T15:23:29.923Z"
   },
   {
    "duration": 21,
    "start_time": "2022-03-15T15:23:30.086Z"
   },
   {
    "duration": 39,
    "start_time": "2022-03-15T15:23:30.110Z"
   },
   {
    "duration": 39,
    "start_time": "2022-03-15T15:23:30.151Z"
   },
   {
    "duration": 28,
    "start_time": "2022-03-15T15:23:30.192Z"
   },
   {
    "duration": 24,
    "start_time": "2022-03-15T15:23:30.223Z"
   },
   {
    "duration": 81,
    "start_time": "2022-03-15T15:23:30.250Z"
   },
   {
    "duration": 85,
    "start_time": "2022-03-15T15:23:30.334Z"
   },
   {
    "duration": 77,
    "start_time": "2022-03-15T15:23:30.423Z"
   },
   {
    "duration": 27,
    "start_time": "2022-03-15T15:23:30.503Z"
   },
   {
    "duration": 24,
    "start_time": "2022-03-15T15:23:30.535Z"
   },
   {
    "duration": 41,
    "start_time": "2022-03-15T15:23:30.563Z"
   },
   {
    "duration": 28,
    "start_time": "2022-03-15T15:23:30.607Z"
   },
   {
    "duration": 18,
    "start_time": "2022-03-15T15:23:30.638Z"
   },
   {
    "duration": 35,
    "start_time": "2022-03-15T15:23:30.683Z"
   },
   {
    "duration": 105,
    "start_time": "2022-03-15T15:23:30.721Z"
   },
   {
    "duration": 37,
    "start_time": "2022-03-15T15:23:30.828Z"
   },
   {
    "duration": 25,
    "start_time": "2022-03-15T15:23:30.868Z"
   },
   {
    "duration": 391,
    "start_time": "2022-03-15T15:23:30.895Z"
   },
   {
    "duration": 307,
    "start_time": "2022-03-15T15:23:31.289Z"
   },
   {
    "duration": 155,
    "start_time": "2022-03-15T15:23:31.599Z"
   },
   {
    "duration": 238,
    "start_time": "2022-03-15T15:23:31.756Z"
   },
   {
    "duration": 258,
    "start_time": "2022-03-15T15:23:31.996Z"
   },
   {
    "duration": 530,
    "start_time": "2022-03-15T15:23:32.257Z"
   },
   {
    "duration": 3,
    "start_time": "2022-03-15T15:23:32.789Z"
   },
   {
    "duration": 11236,
    "start_time": "2022-03-15T15:23:32.794Z"
   },
   {
    "duration": 1501,
    "start_time": "2022-03-15T15:23:44.032Z"
   },
   {
    "duration": 3,
    "start_time": "2022-03-15T15:23:45.535Z"
   },
   {
    "duration": 13913,
    "start_time": "2022-03-15T15:23:45.540Z"
   },
   {
    "duration": 134,
    "start_time": "2022-03-15T15:23:59.456Z"
   },
   {
    "duration": 387,
    "start_time": "2022-03-15T15:23:59.594Z"
   },
   {
    "duration": -483,
    "start_time": "2022-03-15T15:24:00.467Z"
   },
   {
    "duration": -488,
    "start_time": "2022-03-15T15:24:00.474Z"
   },
   {
    "duration": -496,
    "start_time": "2022-03-15T15:24:00.484Z"
   },
   {
    "duration": -504,
    "start_time": "2022-03-15T15:24:00.493Z"
   },
   {
    "duration": -512,
    "start_time": "2022-03-15T15:24:00.502Z"
   },
   {
    "duration": -517,
    "start_time": "2022-03-15T15:24:00.509Z"
   },
   {
    "duration": -524,
    "start_time": "2022-03-15T15:24:00.518Z"
   },
   {
    "duration": -532,
    "start_time": "2022-03-15T15:24:00.527Z"
   },
   {
    "duration": -540,
    "start_time": "2022-03-15T15:24:00.536Z"
   },
   {
    "duration": 11,
    "start_time": "2022-03-15T15:51:21.525Z"
   },
   {
    "duration": 86,
    "start_time": "2022-03-15T15:51:24.844Z"
   },
   {
    "duration": 626,
    "start_time": "2022-03-15T15:51:24.934Z"
   },
   {
    "duration": 689,
    "start_time": "2022-03-15T15:51:25.563Z"
   },
   {
    "duration": 27,
    "start_time": "2022-03-15T15:51:26.255Z"
   },
   {
    "duration": 560,
    "start_time": "2022-03-15T15:51:26.285Z"
   },
   {
    "duration": 645,
    "start_time": "2022-03-15T15:51:26.848Z"
   },
   {
    "duration": 17,
    "start_time": "2022-03-15T15:51:27.496Z"
   },
   {
    "duration": 540,
    "start_time": "2022-03-15T15:51:27.516Z"
   },
   {
    "duration": 3,
    "start_time": "2022-03-15T15:51:28.059Z"
   },
   {
    "duration": 23,
    "start_time": "2022-03-15T15:51:28.065Z"
   },
   {
    "duration": 670,
    "start_time": "2022-03-15T16:00:25.038Z"
   },
   {
    "duration": 355,
    "start_time": "2022-03-15T16:00:36.173Z"
   },
   {
    "duration": 714,
    "start_time": "2022-03-15T16:00:43.971Z"
   },
   {
    "duration": 2748,
    "start_time": "2022-03-15T16:01:21.896Z"
   },
   {
    "duration": 1176,
    "start_time": "2022-03-15T16:01:40.626Z"
   },
   {
    "duration": 1155,
    "start_time": "2022-03-15T16:07:37.560Z"
   },
   {
    "duration": 1058,
    "start_time": "2022-03-15T16:07:48.810Z"
   },
   {
    "duration": 1037,
    "start_time": "2022-03-15T16:08:07.271Z"
   },
   {
    "duration": 723,
    "start_time": "2022-03-15T16:09:15.312Z"
   },
   {
    "duration": 719,
    "start_time": "2022-03-15T16:09:21.582Z"
   },
   {
    "duration": 719,
    "start_time": "2022-03-15T16:09:41.055Z"
   },
   {
    "duration": 1108,
    "start_time": "2022-03-16T09:33:08.588Z"
   },
   {
    "duration": 1594,
    "start_time": "2022-03-16T09:33:09.698Z"
   },
   {
    "duration": 3,
    "start_time": "2022-03-16T09:33:11.294Z"
   },
   {
    "duration": 8,
    "start_time": "2022-03-16T09:33:11.299Z"
   },
   {
    "duration": 11,
    "start_time": "2022-03-16T09:33:11.310Z"
   },
   {
    "duration": 41,
    "start_time": "2022-03-16T09:33:11.323Z"
   },
   {
    "duration": 17,
    "start_time": "2022-03-16T09:33:11.365Z"
   },
   {
    "duration": 14,
    "start_time": "2022-03-16T09:33:11.384Z"
   },
   {
    "duration": 6,
    "start_time": "2022-03-16T09:33:11.400Z"
   },
   {
    "duration": 9,
    "start_time": "2022-03-16T09:33:11.407Z"
   },
   {
    "duration": 15,
    "start_time": "2022-03-16T09:33:11.418Z"
   },
   {
    "duration": 6,
    "start_time": "2022-03-16T09:33:11.435Z"
   },
   {
    "duration": 114,
    "start_time": "2022-03-16T09:33:11.442Z"
   },
   {
    "duration": 27,
    "start_time": "2022-03-16T09:33:11.558Z"
   },
   {
    "duration": 12,
    "start_time": "2022-03-16T09:33:11.586Z"
   },
   {
    "duration": 12,
    "start_time": "2022-03-16T09:33:11.600Z"
   },
   {
    "duration": 16,
    "start_time": "2022-03-16T09:33:11.613Z"
   },
   {
    "duration": 12,
    "start_time": "2022-03-16T09:33:11.630Z"
   },
   {
    "duration": 70,
    "start_time": "2022-03-16T09:33:11.644Z"
   },
   {
    "duration": 44,
    "start_time": "2022-03-16T09:33:11.716Z"
   },
   {
    "duration": 55,
    "start_time": "2022-03-16T09:33:11.762Z"
   },
   {
    "duration": 11,
    "start_time": "2022-03-16T09:33:11.819Z"
   },
   {
    "duration": 9,
    "start_time": "2022-03-16T09:33:11.835Z"
   },
   {
    "duration": 44,
    "start_time": "2022-03-16T09:33:11.846Z"
   },
   {
    "duration": 18,
    "start_time": "2022-03-16T09:33:11.891Z"
   },
   {
    "duration": 13,
    "start_time": "2022-03-16T09:33:11.911Z"
   },
   {
    "duration": 11,
    "start_time": "2022-03-16T09:33:11.926Z"
   },
   {
    "duration": 73,
    "start_time": "2022-03-16T09:33:11.939Z"
   },
   {
    "duration": 25,
    "start_time": "2022-03-16T09:33:12.014Z"
   },
   {
    "duration": 8,
    "start_time": "2022-03-16T09:33:12.040Z"
   },
   {
    "duration": 255,
    "start_time": "2022-03-16T09:33:12.049Z"
   },
   {
    "duration": 204,
    "start_time": "2022-03-16T09:33:12.305Z"
   },
   {
    "duration": 84,
    "start_time": "2022-03-16T09:33:12.511Z"
   },
   {
    "duration": 149,
    "start_time": "2022-03-16T09:33:12.596Z"
   },
   {
    "duration": 165,
    "start_time": "2022-03-16T09:33:12.746Z"
   },
   {
    "duration": 224,
    "start_time": "2022-03-16T09:33:12.913Z"
   },
   {
    "duration": 2,
    "start_time": "2022-03-16T09:33:13.139Z"
   },
   {
    "duration": 5984,
    "start_time": "2022-03-16T09:33:13.142Z"
   },
   {
    "duration": 868,
    "start_time": "2022-03-16T09:33:19.128Z"
   },
   {
    "duration": 2,
    "start_time": "2022-03-16T09:33:19.998Z"
   },
   {
    "duration": 7555,
    "start_time": "2022-03-16T09:33:20.002Z"
   },
   {
    "duration": 66,
    "start_time": "2022-03-16T09:33:27.559Z"
   },
   {
    "duration": 8,
    "start_time": "2022-03-16T09:33:27.626Z"
   },
   {
    "duration": 64,
    "start_time": "2022-03-16T09:33:27.636Z"
   },
   {
    "duration": 334,
    "start_time": "2022-03-16T09:33:27.702Z"
   },
   {
    "duration": 311,
    "start_time": "2022-03-16T09:33:28.038Z"
   },
   {
    "duration": 10,
    "start_time": "2022-03-16T09:33:28.350Z"
   },
   {
    "duration": 334,
    "start_time": "2022-03-16T09:33:28.362Z"
   },
   {
    "duration": 384,
    "start_time": "2022-03-16T09:33:28.697Z"
   },
   {
    "duration": 10,
    "start_time": "2022-03-16T09:33:29.082Z"
   },
   {
    "duration": 325,
    "start_time": "2022-03-16T09:33:29.094Z"
   },
   {
    "duration": 608,
    "start_time": "2022-03-16T09:33:29.421Z"
   },
   {
    "duration": 2,
    "start_time": "2022-03-16T09:33:30.031Z"
   },
   {
    "duration": 9,
    "start_time": "2022-03-16T09:33:30.034Z"
   },
   {
    "duration": 243,
    "start_time": "2022-03-16T09:34:25.564Z"
   },
   {
    "duration": 238,
    "start_time": "2022-03-16T09:34:32.197Z"
   },
   {
    "duration": 325,
    "start_time": "2022-03-16T09:34:34.487Z"
   },
   {
    "duration": 241,
    "start_time": "2022-03-16T09:34:40.733Z"
   },
   {
    "duration": 203,
    "start_time": "2022-03-16T09:34:55.312Z"
   },
   {
    "duration": 370,
    "start_time": "2022-03-16T09:35:15.932Z"
   },
   {
    "duration": 214,
    "start_time": "2022-03-16T09:35:26.534Z"
   },
   {
    "duration": 223,
    "start_time": "2022-03-16T09:35:33.589Z"
   },
   {
    "duration": 508,
    "start_time": "2022-03-16T09:35:42.054Z"
   },
   {
    "duration": 445,
    "start_time": "2022-03-16T09:35:50.006Z"
   },
   {
    "duration": 482,
    "start_time": "2022-03-16T09:36:04.612Z"
   },
   {
    "duration": 269,
    "start_time": "2022-03-16T09:36:21.052Z"
   },
   {
    "duration": 215,
    "start_time": "2022-03-16T09:37:40.309Z"
   },
   {
    "duration": 284,
    "start_time": "2022-03-16T09:38:40.022Z"
   },
   {
    "duration": 267,
    "start_time": "2022-03-16T09:38:58.271Z"
   },
   {
    "duration": 258,
    "start_time": "2022-03-16T09:39:44.325Z"
   },
   {
    "duration": 351,
    "start_time": "2022-03-16T09:40:59.897Z"
   },
   {
    "duration": 612,
    "start_time": "2022-03-16T09:41:11.514Z"
   },
   {
    "duration": 559,
    "start_time": "2022-03-16T09:41:33.845Z"
   },
   {
    "duration": 189,
    "start_time": "2022-03-16T09:41:46.886Z"
   },
   {
    "duration": 464,
    "start_time": "2022-03-16T09:42:04.113Z"
   },
   {
    "duration": 433,
    "start_time": "2022-03-16T09:42:37.453Z"
   },
   {
    "duration": 516,
    "start_time": "2022-03-16T09:43:52.686Z"
   },
   {
    "duration": 349,
    "start_time": "2022-03-16T09:44:12.784Z"
   },
   {
    "duration": 423,
    "start_time": "2022-03-16T09:44:20.761Z"
   },
   {
    "duration": 351,
    "start_time": "2022-03-16T09:44:31.707Z"
   },
   {
    "duration": 340,
    "start_time": "2022-03-16T09:44:45.285Z"
   },
   {
    "duration": 371,
    "start_time": "2022-03-16T09:44:53.798Z"
   },
   {
    "duration": 377,
    "start_time": "2022-03-16T09:45:20.370Z"
   },
   {
    "duration": 437,
    "start_time": "2022-03-16T09:45:23.361Z"
   },
   {
    "duration": 395,
    "start_time": "2022-03-16T10:17:36.914Z"
   },
   {
    "duration": 12,
    "start_time": "2022-03-16T10:17:45.058Z"
   },
   {
    "duration": 351,
    "start_time": "2022-03-16T10:18:09.893Z"
   },
   {
    "duration": 477,
    "start_time": "2022-03-16T10:19:57.962Z"
   },
   {
    "duration": 409,
    "start_time": "2022-03-16T10:20:18.221Z"
   },
   {
    "duration": 635,
    "start_time": "2022-03-16T10:20:35.119Z"
   },
   {
    "duration": 483,
    "start_time": "2022-03-16T10:21:42.475Z"
   },
   {
    "duration": 794,
    "start_time": "2022-03-16T10:23:42.991Z"
   },
   {
    "duration": 535,
    "start_time": "2022-03-16T10:24:19.562Z"
   },
   {
    "duration": 504,
    "start_time": "2022-03-16T10:24:54.752Z"
   },
   {
    "duration": 249,
    "start_time": "2022-03-16T10:25:29.875Z"
   },
   {
    "duration": 521,
    "start_time": "2022-03-16T10:25:40.174Z"
   },
   {
    "duration": 525,
    "start_time": "2022-03-16T10:26:52.046Z"
   },
   {
    "duration": 605,
    "start_time": "2022-03-16T10:27:13.353Z"
   },
   {
    "duration": 672,
    "start_time": "2022-03-16T10:27:36.819Z"
   },
   {
    "duration": 497,
    "start_time": "2022-03-16T10:27:51.668Z"
   },
   {
    "duration": 826,
    "start_time": "2022-03-16T10:27:59.199Z"
   },
   {
    "duration": 494,
    "start_time": "2022-03-16T10:28:26.753Z"
   },
   {
    "duration": 639,
    "start_time": "2022-03-16T10:29:16.536Z"
   },
   {
    "duration": 757,
    "start_time": "2022-03-16T10:29:34.947Z"
   },
   {
    "duration": 755,
    "start_time": "2022-03-16T10:29:44.516Z"
   },
   {
    "duration": 680,
    "start_time": "2022-03-16T10:30:26.449Z"
   },
   {
    "duration": 570,
    "start_time": "2022-03-16T10:31:34.121Z"
   },
   {
    "duration": 355,
    "start_time": "2022-03-16T10:31:42.795Z"
   },
   {
    "duration": 350,
    "start_time": "2022-03-16T10:32:06.891Z"
   },
   {
    "duration": 398,
    "start_time": "2022-03-16T10:32:29.256Z"
   },
   {
    "duration": 847,
    "start_time": "2022-03-16T10:33:00.716Z"
   },
   {
    "duration": 543,
    "start_time": "2022-03-16T10:33:09.421Z"
   },
   {
    "duration": 1226,
    "start_time": "2022-03-16T10:33:30.803Z"
   },
   {
    "duration": 1211,
    "start_time": "2022-03-16T10:33:57.317Z"
   },
   {
    "duration": 982,
    "start_time": "2022-03-16T10:34:11.294Z"
   },
   {
    "duration": 702,
    "start_time": "2022-03-16T10:34:27.295Z"
   },
   {
    "duration": 1012,
    "start_time": "2022-03-16T10:34:34.567Z"
   },
   {
    "duration": 587,
    "start_time": "2022-03-16T10:34:49.082Z"
   },
   {
    "duration": 533,
    "start_time": "2022-03-16T10:35:19.068Z"
   },
   {
    "duration": 824,
    "start_time": "2022-03-16T10:36:13.324Z"
   },
   {
    "duration": 359,
    "start_time": "2022-03-16T10:36:19.157Z"
   },
   {
    "duration": 344,
    "start_time": "2022-03-16T10:36:26.869Z"
   },
   {
    "duration": 725,
    "start_time": "2022-03-16T10:36:54.881Z"
   },
   {
    "duration": 506,
    "start_time": "2022-03-16T10:42:26.900Z"
   },
   {
    "duration": 18,
    "start_time": "2022-03-16T10:43:29.651Z"
   },
   {
    "duration": 16,
    "start_time": "2022-03-16T10:43:48.445Z"
   },
   {
    "duration": 192,
    "start_time": "2022-03-16T10:45:23.041Z"
   },
   {
    "duration": 332,
    "start_time": "2022-03-16T10:46:44.434Z"
   },
   {
    "duration": 353,
    "start_time": "2022-03-16T10:46:55.140Z"
   },
   {
    "duration": 663,
    "start_time": "2022-03-16T10:51:16.301Z"
   },
   {
    "duration": 7,
    "start_time": "2022-03-16T10:51:21.285Z"
   },
   {
    "duration": 765,
    "start_time": "2022-03-16T10:51:21.919Z"
   },
   {
    "duration": 363,
    "start_time": "2022-03-16T10:51:35.721Z"
   },
   {
    "duration": 3,
    "start_time": "2022-03-16T10:51:57.242Z"
   },
   {
    "duration": 381,
    "start_time": "2022-03-16T10:52:07.485Z"
   },
   {
    "duration": 103,
    "start_time": "2022-03-16T10:52:49.842Z"
   },
   {
    "duration": 743,
    "start_time": "2022-03-16T10:52:59.618Z"
   },
   {
    "duration": 708,
    "start_time": "2022-03-16T10:53:11.302Z"
   },
   {
    "duration": 845,
    "start_time": "2022-03-16T10:53:33.662Z"
   },
   {
    "duration": 770,
    "start_time": "2022-03-16T10:53:48.673Z"
   },
   {
    "duration": 474,
    "start_time": "2022-03-16T10:53:59.627Z"
   },
   {
    "duration": 347,
    "start_time": "2022-03-16T10:54:08.114Z"
   },
   {
    "duration": 190,
    "start_time": "2022-03-16T10:55:07.130Z"
   },
   {
    "duration": 4,
    "start_time": "2022-03-16T11:08:18.043Z"
   },
   {
    "duration": 360,
    "start_time": "2022-03-16T11:08:39.559Z"
   },
   {
    "duration": 4,
    "start_time": "2022-03-16T11:09:08.209Z"
   },
   {
    "duration": 25,
    "start_time": "2022-03-16T11:10:00.872Z"
   },
   {
    "duration": 7,
    "start_time": "2022-03-16T11:11:34.980Z"
   },
   {
    "duration": 5,
    "start_time": "2022-03-16T12:40:48.850Z"
   },
   {
    "duration": 7642,
    "start_time": "2022-03-16T12:41:28.304Z"
   },
   {
    "duration": 8233,
    "start_time": "2022-03-16T12:42:00.013Z"
   },
   {
    "duration": 288,
    "start_time": "2022-03-16T12:42:51.484Z"
   },
   {
    "duration": 8,
    "start_time": "2022-03-16T12:43:08.668Z"
   },
   {
    "duration": 4,
    "start_time": "2022-03-16T12:43:38.046Z"
   },
   {
    "duration": 536,
    "start_time": "2022-03-16T12:43:44.637Z"
   },
   {
    "duration": 3,
    "start_time": "2022-03-16T12:44:09.603Z"
   },
   {
    "duration": 3694,
    "start_time": "2022-03-16T12:44:14.933Z"
   },
   {
    "duration": 636,
    "start_time": "2022-03-16T12:44:27.345Z"
   },
   {
    "duration": 314,
    "start_time": "2022-03-16T12:46:46.050Z"
   },
   {
    "duration": 95,
    "start_time": "2022-03-16T12:48:32.440Z"
   },
   {
    "duration": 1500,
    "start_time": "2022-03-16T12:48:38.533Z"
   },
   {
    "duration": 1131,
    "start_time": "2022-03-16T12:48:59.465Z"
   },
   {
    "duration": 306,
    "start_time": "2022-03-16T12:49:00.598Z"
   },
   {
    "duration": 2,
    "start_time": "2022-03-16T12:49:00.906Z"
   },
   {
    "duration": 14,
    "start_time": "2022-03-16T12:49:00.910Z"
   },
   {
    "duration": 15,
    "start_time": "2022-03-16T12:49:00.926Z"
   },
   {
    "duration": 47,
    "start_time": "2022-03-16T12:49:00.943Z"
   },
   {
    "duration": 7,
    "start_time": "2022-03-16T12:49:00.992Z"
   },
   {
    "duration": 21,
    "start_time": "2022-03-16T12:49:01.002Z"
   },
   {
    "duration": 15,
    "start_time": "2022-03-16T12:49:01.025Z"
   },
   {
    "duration": 20,
    "start_time": "2022-03-16T12:49:01.042Z"
   },
   {
    "duration": 23,
    "start_time": "2022-03-16T12:49:01.063Z"
   },
   {
    "duration": 21,
    "start_time": "2022-03-16T12:49:01.087Z"
   },
   {
    "duration": 103,
    "start_time": "2022-03-16T12:49:01.110Z"
   },
   {
    "duration": 10,
    "start_time": "2022-03-16T12:49:01.214Z"
   },
   {
    "duration": 20,
    "start_time": "2022-03-16T12:49:01.226Z"
   },
   {
    "duration": 22,
    "start_time": "2022-03-16T12:49:01.248Z"
   },
   {
    "duration": 18,
    "start_time": "2022-03-16T12:49:01.280Z"
   },
   {
    "duration": 19,
    "start_time": "2022-03-16T12:49:01.300Z"
   },
   {
    "duration": 61,
    "start_time": "2022-03-16T12:49:01.321Z"
   },
   {
    "duration": 50,
    "start_time": "2022-03-16T12:49:01.384Z"
   },
   {
    "duration": 55,
    "start_time": "2022-03-16T12:49:01.436Z"
   },
   {
    "duration": 11,
    "start_time": "2022-03-16T12:49:01.492Z"
   },
   {
    "duration": 13,
    "start_time": "2022-03-16T12:49:01.507Z"
   },
   {
    "duration": 22,
    "start_time": "2022-03-16T12:49:01.522Z"
   },
   {
    "duration": 41,
    "start_time": "2022-03-16T12:49:01.546Z"
   },
   {
    "duration": 13,
    "start_time": "2022-03-16T12:49:01.589Z"
   },
   {
    "duration": 27,
    "start_time": "2022-03-16T12:49:01.603Z"
   },
   {
    "duration": 55,
    "start_time": "2022-03-16T12:49:01.632Z"
   },
   {
    "duration": 28,
    "start_time": "2022-03-16T12:49:01.690Z"
   },
   {
    "duration": 7,
    "start_time": "2022-03-16T12:49:01.720Z"
   },
   {
    "duration": 256,
    "start_time": "2022-03-16T12:49:01.729Z"
   },
   {
    "duration": 206,
    "start_time": "2022-03-16T12:49:01.987Z"
   },
   {
    "duration": 88,
    "start_time": "2022-03-16T12:49:02.195Z"
   },
   {
    "duration": 158,
    "start_time": "2022-03-16T12:49:02.285Z"
   },
   {
    "duration": 173,
    "start_time": "2022-03-16T12:49:02.445Z"
   },
   {
    "duration": 235,
    "start_time": "2022-03-16T12:49:02.619Z"
   },
   {
    "duration": 2,
    "start_time": "2022-03-16T12:49:02.856Z"
   },
   {
    "duration": 5977,
    "start_time": "2022-03-16T12:49:02.860Z"
   },
   {
    "duration": 795,
    "start_time": "2022-03-16T12:49:08.839Z"
   },
   {
    "duration": 2,
    "start_time": "2022-03-16T12:49:09.636Z"
   },
   {
    "duration": 7493,
    "start_time": "2022-03-16T12:49:09.640Z"
   },
   {
    "duration": 68,
    "start_time": "2022-03-16T12:49:17.135Z"
   },
   {
    "duration": 8,
    "start_time": "2022-03-16T12:49:17.205Z"
   },
   {
    "duration": 49,
    "start_time": "2022-03-16T12:49:17.214Z"
   },
   {
    "duration": 6,
    "start_time": "2022-03-16T12:49:17.264Z"
   },
   {
    "duration": 364,
    "start_time": "2022-03-16T12:49:17.271Z"
   },
   {
    "duration": 695,
    "start_time": "2022-03-16T12:49:17.637Z"
   },
   {
    "duration": 667,
    "start_time": "2022-03-16T12:49:18.334Z"
   },
   {
    "duration": 11,
    "start_time": "2022-03-16T12:49:19.002Z"
   },
   {
    "duration": 414,
    "start_time": "2022-03-16T12:49:19.015Z"
   },
   {
    "duration": 791,
    "start_time": "2022-03-16T12:49:19.431Z"
   },
   {
    "duration": 537,
    "start_time": "2022-03-16T12:49:20.223Z"
   },
   {
    "duration": 12,
    "start_time": "2022-03-16T12:49:20.761Z"
   },
   {
    "duration": 328,
    "start_time": "2022-03-16T12:49:20.781Z"
   },
   {
    "duration": 619,
    "start_time": "2022-03-16T12:49:21.111Z"
   },
   {
    "duration": 584,
    "start_time": "2022-03-16T12:49:21.732Z"
   },
   {
    "duration": 13,
    "start_time": "2022-03-16T12:49:22.318Z"
   },
   {
    "duration": 443,
    "start_time": "2022-03-16T12:49:22.333Z"
   },
   {
    "duration": 506,
    "start_time": "2022-03-16T12:49:22.778Z"
   },
   {
    "duration": 17,
    "start_time": "2022-03-16T12:49:23.286Z"
   },
   {
    "duration": 208,
    "start_time": "2022-03-16T12:49:23.305Z"
   },
   {
    "duration": 5,
    "start_time": "2022-03-16T12:49:23.515Z"
   },
   {
    "duration": 1292,
    "start_time": "2022-03-16T12:49:23.521Z"
   },
   {
    "duration": 18,
    "start_time": "2022-03-16T13:05:09.978Z"
   },
   {
    "duration": 1112,
    "start_time": "2022-03-16T13:06:38.985Z"
   },
   {
    "duration": 294,
    "start_time": "2022-03-16T13:06:40.099Z"
   },
   {
    "duration": 3,
    "start_time": "2022-03-16T13:06:40.395Z"
   },
   {
    "duration": 8,
    "start_time": "2022-03-16T13:06:40.400Z"
   },
   {
    "duration": 12,
    "start_time": "2022-03-16T13:06:40.410Z"
   },
   {
    "duration": 57,
    "start_time": "2022-03-16T13:06:40.424Z"
   },
   {
    "duration": 8,
    "start_time": "2022-03-16T13:06:40.483Z"
   },
   {
    "duration": 23,
    "start_time": "2022-03-16T13:06:40.494Z"
   },
   {
    "duration": 6,
    "start_time": "2022-03-16T13:06:40.519Z"
   },
   {
    "duration": 15,
    "start_time": "2022-03-16T13:06:40.527Z"
   },
   {
    "duration": 15,
    "start_time": "2022-03-16T13:06:40.543Z"
   },
   {
    "duration": 6,
    "start_time": "2022-03-16T13:06:40.581Z"
   },
   {
    "duration": 102,
    "start_time": "2022-03-16T13:06:40.589Z"
   },
   {
    "duration": 10,
    "start_time": "2022-03-16T13:06:40.692Z"
   },
   {
    "duration": 11,
    "start_time": "2022-03-16T13:06:40.703Z"
   },
   {
    "duration": 11,
    "start_time": "2022-03-16T13:06:40.716Z"
   },
   {
    "duration": 18,
    "start_time": "2022-03-16T13:06:40.728Z"
   },
   {
    "duration": 36,
    "start_time": "2022-03-16T13:06:40.747Z"
   },
   {
    "duration": 41,
    "start_time": "2022-03-16T13:06:40.785Z"
   },
   {
    "duration": 61,
    "start_time": "2022-03-16T13:06:40.827Z"
   },
   {
    "duration": 37,
    "start_time": "2022-03-16T13:06:40.890Z"
   },
   {
    "duration": 12,
    "start_time": "2022-03-16T13:06:40.929Z"
   },
   {
    "duration": 9,
    "start_time": "2022-03-16T13:06:40.945Z"
   },
   {
    "duration": 38,
    "start_time": "2022-03-16T13:06:40.956Z"
   },
   {
    "duration": 18,
    "start_time": "2022-03-16T13:06:40.996Z"
   },
   {
    "duration": 12,
    "start_time": "2022-03-16T13:06:41.015Z"
   },
   {
    "duration": 11,
    "start_time": "2022-03-16T13:06:41.028Z"
   },
   {
    "duration": 69,
    "start_time": "2022-03-16T13:06:41.041Z"
   },
   {
    "duration": 25,
    "start_time": "2022-03-16T13:06:41.112Z"
   },
   {
    "duration": 8,
    "start_time": "2022-03-16T13:06:41.139Z"
   },
   {
    "duration": 256,
    "start_time": "2022-03-16T13:06:41.148Z"
   },
   {
    "duration": 198,
    "start_time": "2022-03-16T13:06:41.405Z"
   },
   {
    "duration": 85,
    "start_time": "2022-03-16T13:06:41.604Z"
   },
   {
    "duration": 152,
    "start_time": "2022-03-16T13:06:41.690Z"
   },
   {
    "duration": 181,
    "start_time": "2022-03-16T13:06:41.844Z"
   },
   {
    "duration": 244,
    "start_time": "2022-03-16T13:06:42.026Z"
   },
   {
    "duration": 9,
    "start_time": "2022-03-16T13:06:42.272Z"
   },
   {
    "duration": 5921,
    "start_time": "2022-03-16T13:06:42.282Z"
   },
   {
    "duration": 785,
    "start_time": "2022-03-16T13:06:48.205Z"
   },
   {
    "duration": 3,
    "start_time": "2022-03-16T13:06:48.992Z"
   },
   {
    "duration": 7427,
    "start_time": "2022-03-16T13:06:48.996Z"
   },
   {
    "duration": 69,
    "start_time": "2022-03-16T13:06:56.425Z"
   },
   {
    "duration": 7,
    "start_time": "2022-03-16T13:06:56.496Z"
   },
   {
    "duration": 46,
    "start_time": "2022-03-16T13:06:56.505Z"
   },
   {
    "duration": 5,
    "start_time": "2022-03-16T13:06:56.552Z"
   },
   {
    "duration": 361,
    "start_time": "2022-03-16T13:06:56.558Z"
   },
   {
    "duration": 697,
    "start_time": "2022-03-16T13:06:56.920Z"
   },
   {
    "duration": 672,
    "start_time": "2022-03-16T13:06:57.618Z"
   },
   {
    "duration": 11,
    "start_time": "2022-03-16T13:06:58.292Z"
   },
   {
    "duration": 419,
    "start_time": "2022-03-16T13:06:58.305Z"
   },
   {
    "duration": 822,
    "start_time": "2022-03-16T13:06:58.725Z"
   },
   {
    "duration": 532,
    "start_time": "2022-03-16T13:06:59.549Z"
   },
   {
    "duration": 10,
    "start_time": "2022-03-16T13:07:00.083Z"
   },
   {
    "duration": 324,
    "start_time": "2022-03-16T13:07:00.094Z"
   },
   {
    "duration": 629,
    "start_time": "2022-03-16T13:07:00.419Z"
   },
   {
    "duration": 567,
    "start_time": "2022-03-16T13:07:01.049Z"
   },
   {
    "duration": 11,
    "start_time": "2022-03-16T13:07:01.618Z"
   },
   {
    "duration": 431,
    "start_time": "2022-03-16T13:07:01.631Z"
   },
   {
    "duration": 514,
    "start_time": "2022-03-16T13:07:02.063Z"
   },
   {
    "duration": 15,
    "start_time": "2022-03-16T13:07:02.581Z"
   },
   {
    "duration": 203,
    "start_time": "2022-03-16T13:07:02.598Z"
   },
   {
    "duration": 4,
    "start_time": "2022-03-16T13:07:02.803Z"
   },
   {
    "duration": 93,
    "start_time": "2022-03-16T13:07:02.809Z"
   },
   {
    "duration": 891,
    "start_time": "2022-03-16T13:33:10.378Z"
   },
   {
    "duration": 777,
    "start_time": "2022-03-16T13:34:13.504Z"
   },
   {
    "duration": 97,
    "start_time": "2022-03-16T13:39:17.566Z"
   },
   {
    "duration": 8831,
    "start_time": "2022-03-16T13:39:27.723Z"
   },
   {
    "duration": 922,
    "start_time": "2022-03-16T13:39:51.735Z"
   },
   {
    "duration": 853,
    "start_time": "2022-03-16T13:40:20.480Z"
   },
   {
    "duration": 3,
    "start_time": "2022-03-16T13:43:38.605Z"
   },
   {
    "duration": 28,
    "start_time": "2022-03-16T13:44:15.320Z"
   },
   {
    "duration": 303,
    "start_time": "2022-03-16T13:45:38.897Z"
   },
   {
    "duration": 693,
    "start_time": "2022-03-16T13:46:06.537Z"
   },
   {
    "duration": 666,
    "start_time": "2022-03-16T13:46:21.850Z"
   },
   {
    "duration": 11,
    "start_time": "2022-03-16T13:47:10.168Z"
   },
   {
    "duration": 366,
    "start_time": "2022-03-16T13:47:28.945Z"
   },
   {
    "duration": 823,
    "start_time": "2022-03-16T13:48:20.112Z"
   },
   {
    "duration": 474,
    "start_time": "2022-03-16T14:14:07.988Z"
   },
   {
    "duration": 1113,
    "start_time": "2022-03-16T14:16:34.557Z"
   },
   {
    "duration": 1120,
    "start_time": "2022-03-16T14:16:53.170Z"
   },
   {
    "duration": 834,
    "start_time": "2022-03-16T14:17:50.390Z"
   },
   {
    "duration": 838,
    "start_time": "2022-03-16T14:17:59.088Z"
   },
   {
    "duration": 814,
    "start_time": "2022-03-16T14:18:38.668Z"
   },
   {
    "duration": 359,
    "start_time": "2022-03-16T14:20:46.004Z"
   },
   {
    "duration": 17,
    "start_time": "2022-03-16T14:20:58.329Z"
   },
   {
    "duration": 5,
    "start_time": "2022-03-16T14:22:10.664Z"
   },
   {
    "duration": 3,
    "start_time": "2022-03-16T14:48:53.867Z"
   },
   {
    "duration": 813,
    "start_time": "2022-03-16T14:49:04.762Z"
   },
   {
    "duration": 8,
    "start_time": "2022-03-16T14:51:27.266Z"
   },
   {
    "duration": 4,
    "start_time": "2022-03-16T14:57:04.981Z"
   },
   {
    "duration": 4,
    "start_time": "2022-03-16T14:57:14.965Z"
   },
   {
    "duration": 5,
    "start_time": "2022-03-16T14:57:23.158Z"
   },
   {
    "duration": 1118,
    "start_time": "2022-03-16T15:06:35.459Z"
   },
   {
    "duration": 301,
    "start_time": "2022-03-16T15:06:38.235Z"
   },
   {
    "duration": 3,
    "start_time": "2022-03-16T15:06:39.123Z"
   },
   {
    "duration": 7,
    "start_time": "2022-03-16T15:06:43.131Z"
   },
   {
    "duration": 12,
    "start_time": "2022-03-16T15:06:45.996Z"
   },
   {
    "duration": 6,
    "start_time": "2022-03-16T15:06:52.292Z"
   },
   {
    "duration": 12,
    "start_time": "2022-03-16T15:06:56.686Z"
   },
   {
    "duration": 6,
    "start_time": "2022-03-16T15:07:02.109Z"
   },
   {
    "duration": 4,
    "start_time": "2022-03-16T15:07:02.839Z"
   },
   {
    "duration": 4,
    "start_time": "2022-03-16T15:07:10.087Z"
   },
   {
    "duration": 13,
    "start_time": "2022-03-16T15:16:08.019Z"
   },
   {
    "duration": 14,
    "start_time": "2022-03-16T15:16:12.884Z"
   },
   {
    "duration": 10,
    "start_time": "2022-03-16T15:16:24.983Z"
   },
   {
    "duration": 87,
    "start_time": "2022-03-16T15:18:28.398Z"
   },
   {
    "duration": 16,
    "start_time": "2022-03-16T15:18:37.887Z"
   },
   {
    "duration": 15,
    "start_time": "2022-03-16T15:21:25.258Z"
   },
   {
    "duration": 10,
    "start_time": "2022-03-16T15:21:45.948Z"
   },
   {
    "duration": 20,
    "start_time": "2022-03-16T15:38:06.960Z"
   },
   {
    "duration": 29,
    "start_time": "2022-03-16T15:40:13.271Z"
   },
   {
    "duration": 399,
    "start_time": "2022-03-16T15:45:43.126Z"
   },
   {
    "duration": 422,
    "start_time": "2022-03-16T15:47:09.012Z"
   },
   {
    "duration": 4,
    "start_time": "2022-03-16T15:47:15.907Z"
   },
   {
    "duration": 371,
    "start_time": "2022-03-16T15:47:15.914Z"
   },
   {
    "duration": 3,
    "start_time": "2022-03-16T15:47:16.286Z"
   },
   {
    "duration": 8,
    "start_time": "2022-03-16T15:47:16.291Z"
   },
   {
    "duration": 10,
    "start_time": "2022-03-16T15:47:16.301Z"
   },
   {
    "duration": 8,
    "start_time": "2022-03-16T15:47:16.312Z"
   },
   {
    "duration": 13,
    "start_time": "2022-03-16T15:47:16.321Z"
   },
   {
    "duration": 7,
    "start_time": "2022-03-16T15:47:16.335Z"
   },
   {
    "duration": 36,
    "start_time": "2022-03-16T15:47:16.345Z"
   },
   {
    "duration": 10,
    "start_time": "2022-03-16T15:47:16.383Z"
   },
   {
    "duration": 10,
    "start_time": "2022-03-16T15:47:16.394Z"
   },
   {
    "duration": 15,
    "start_time": "2022-03-16T15:47:16.406Z"
   },
   {
    "duration": 14,
    "start_time": "2022-03-16T15:47:16.423Z"
   },
   {
    "duration": 46,
    "start_time": "2022-03-16T15:47:16.439Z"
   },
   {
    "duration": 16,
    "start_time": "2022-03-16T15:47:16.486Z"
   },
   {
    "duration": 12,
    "start_time": "2022-03-16T15:47:16.503Z"
   },
   {
    "duration": 36,
    "start_time": "2022-03-16T15:47:16.517Z"
   },
   {
    "duration": 42,
    "start_time": "2022-03-16T15:47:16.580Z"
   },
   {
    "duration": 40,
    "start_time": "2022-03-16T15:47:16.623Z"
   },
   {
    "duration": 29,
    "start_time": "2022-03-16T15:47:16.664Z"
   },
   {
    "duration": 11,
    "start_time": "2022-03-16T15:47:16.695Z"
   },
   {
    "duration": 18,
    "start_time": "2022-03-16T15:47:16.708Z"
   },
   {
    "duration": 17,
    "start_time": "2022-03-16T15:47:16.728Z"
   },
   {
    "duration": 33,
    "start_time": "2022-03-16T15:47:16.748Z"
   },
   {
    "duration": 11,
    "start_time": "2022-03-16T15:47:16.783Z"
   },
   {
    "duration": 48,
    "start_time": "2022-03-16T15:47:16.796Z"
   },
   {
    "duration": 48,
    "start_time": "2022-03-16T15:47:16.845Z"
   },
   {
    "duration": 8,
    "start_time": "2022-03-16T15:47:16.894Z"
   },
   {
    "duration": 187,
    "start_time": "2022-03-16T15:47:16.904Z"
   },
   {
    "duration": 188,
    "start_time": "2022-03-16T15:47:23.885Z"
   },
   {
    "duration": 10,
    "start_time": "2022-03-16T15:48:09.904Z"
   },
   {
    "duration": 206,
    "start_time": "2022-03-16T15:49:05.947Z"
   },
   {
    "duration": 13,
    "start_time": "2022-03-16T15:49:18.755Z"
   },
   {
    "duration": 454,
    "start_time": "2022-03-16T15:51:47.326Z"
   },
   {
    "duration": 4,
    "start_time": "2022-03-16T15:51:57.843Z"
   },
   {
    "duration": 394,
    "start_time": "2022-03-16T15:51:57.851Z"
   },
   {
    "duration": 3,
    "start_time": "2022-03-16T15:51:58.247Z"
   },
   {
    "duration": 9,
    "start_time": "2022-03-16T15:51:58.251Z"
   },
   {
    "duration": 11,
    "start_time": "2022-03-16T15:51:58.261Z"
   },
   {
    "duration": 8,
    "start_time": "2022-03-16T15:51:58.273Z"
   },
   {
    "duration": 14,
    "start_time": "2022-03-16T15:51:58.282Z"
   },
   {
    "duration": 7,
    "start_time": "2022-03-16T15:51:58.298Z"
   },
   {
    "duration": 3,
    "start_time": "2022-03-16T15:51:58.307Z"
   },
   {
    "duration": 14,
    "start_time": "2022-03-16T15:51:58.312Z"
   },
   {
    "duration": 9,
    "start_time": "2022-03-16T15:51:58.328Z"
   },
   {
    "duration": 43,
    "start_time": "2022-03-16T15:51:58.339Z"
   },
   {
    "duration": 16,
    "start_time": "2022-03-16T15:51:58.384Z"
   },
   {
    "duration": 8,
    "start_time": "2022-03-16T15:51:58.402Z"
   },
   {
    "duration": 18,
    "start_time": "2022-03-16T15:51:58.412Z"
   },
   {
    "duration": 11,
    "start_time": "2022-03-16T15:51:58.432Z"
   },
   {
    "duration": 88,
    "start_time": "2022-03-16T15:51:58.445Z"
   },
   {
    "duration": 72,
    "start_time": "2022-03-16T15:51:58.535Z"
   },
   {
    "duration": 78,
    "start_time": "2022-03-16T15:51:58.609Z"
   },
   {
    "duration": 17,
    "start_time": "2022-03-16T15:51:58.689Z"
   },
   {
    "duration": 13,
    "start_time": "2022-03-16T15:51:58.707Z"
   },
   {
    "duration": 17,
    "start_time": "2022-03-16T15:51:58.722Z"
   },
   {
    "duration": 17,
    "start_time": "2022-03-16T15:51:58.741Z"
   },
   {
    "duration": 13,
    "start_time": "2022-03-16T15:51:58.780Z"
   },
   {
    "duration": 11,
    "start_time": "2022-03-16T15:51:58.794Z"
   },
   {
    "duration": 42,
    "start_time": "2022-03-16T15:51:58.807Z"
   },
   {
    "duration": 48,
    "start_time": "2022-03-16T15:51:58.851Z"
   },
   {
    "duration": 8,
    "start_time": "2022-03-16T15:51:58.902Z"
   },
   {
    "duration": 190,
    "start_time": "2022-03-16T15:51:58.911Z"
   },
   {
    "duration": 194,
    "start_time": "2022-03-16T15:51:59.103Z"
   },
   {
    "duration": 14,
    "start_time": "2022-03-16T15:51:59.299Z"
   },
   {
    "duration": 215,
    "start_time": "2022-03-16T15:51:59.315Z"
   },
   {
    "duration": 10,
    "start_time": "2022-03-16T15:51:59.532Z"
   },
   {
    "duration": 176,
    "start_time": "2022-03-16T15:51:59.544Z"
   },
   {
    "duration": 13,
    "start_time": "2022-03-16T15:52:04.336Z"
   },
   {
    "duration": 226,
    "start_time": "2022-03-16T16:06:12.227Z"
   },
   {
    "duration": 100,
    "start_time": "2022-03-16T16:06:31.342Z"
   },
   {
    "duration": 1067,
    "start_time": "2022-03-16T16:06:55.622Z"
   },
   {
    "duration": 290,
    "start_time": "2022-03-16T16:06:56.691Z"
   },
   {
    "duration": 2,
    "start_time": "2022-03-16T16:06:56.983Z"
   },
   {
    "duration": 31,
    "start_time": "2022-03-16T16:06:56.987Z"
   },
   {
    "duration": 35,
    "start_time": "2022-03-16T16:06:57.020Z"
   },
   {
    "duration": 33,
    "start_time": "2022-03-16T16:06:57.057Z"
   },
   {
    "duration": 51,
    "start_time": "2022-03-16T16:06:57.092Z"
   },
   {
    "duration": 15,
    "start_time": "2022-03-16T16:06:57.146Z"
   },
   {
    "duration": 22,
    "start_time": "2022-03-16T16:06:57.163Z"
   },
   {
    "duration": 35,
    "start_time": "2022-03-16T16:06:57.186Z"
   },
   {
    "duration": 23,
    "start_time": "2022-03-16T16:06:57.223Z"
   },
   {
    "duration": 21,
    "start_time": "2022-03-16T16:06:57.247Z"
   },
   {
    "duration": 27,
    "start_time": "2022-03-16T16:06:57.270Z"
   },
   {
    "duration": 11,
    "start_time": "2022-03-16T16:06:57.299Z"
   },
   {
    "duration": 23,
    "start_time": "2022-03-16T16:06:57.311Z"
   },
   {
    "duration": 29,
    "start_time": "2022-03-16T16:06:57.336Z"
   },
   {
    "duration": 54,
    "start_time": "2022-03-16T16:06:57.367Z"
   },
   {
    "duration": 68,
    "start_time": "2022-03-16T16:06:57.423Z"
   },
   {
    "duration": 71,
    "start_time": "2022-03-16T16:06:57.493Z"
   },
   {
    "duration": 28,
    "start_time": "2022-03-16T16:06:57.566Z"
   },
   {
    "duration": 18,
    "start_time": "2022-03-16T16:06:57.596Z"
   },
   {
    "duration": 25,
    "start_time": "2022-03-16T16:06:57.616Z"
   },
   {
    "duration": 43,
    "start_time": "2022-03-16T16:06:57.645Z"
   },
   {
    "duration": 20,
    "start_time": "2022-03-16T16:06:57.690Z"
   },
   {
    "duration": 11,
    "start_time": "2022-03-16T16:06:57.712Z"
   },
   {
    "duration": 67,
    "start_time": "2022-03-16T16:06:57.724Z"
   },
   {
    "duration": 37,
    "start_time": "2022-03-16T16:06:57.793Z"
   },
   {
    "duration": 9,
    "start_time": "2022-03-16T16:06:57.832Z"
   },
   {
    "duration": 241,
    "start_time": "2022-03-16T16:06:57.843Z"
   },
   {
    "duration": 261,
    "start_time": "2022-03-16T16:06:58.086Z"
   },
   {
    "duration": 13,
    "start_time": "2022-03-16T16:06:58.349Z"
   },
   {
    "duration": 168,
    "start_time": "2022-03-16T16:06:58.364Z"
   },
   {
    "duration": 9,
    "start_time": "2022-03-16T16:06:58.533Z"
   },
   {
    "duration": 166,
    "start_time": "2022-03-16T16:06:58.544Z"
   },
   {
    "duration": 13,
    "start_time": "2022-03-16T16:06:58.711Z"
   },
   {
    "duration": 109,
    "start_time": "2022-03-16T16:07:02.304Z"
   },
   {
    "duration": 3,
    "start_time": "2022-03-16T16:13:08.628Z"
   },
   {
    "duration": 411,
    "start_time": "2022-03-16T16:13:16.316Z"
   },
   {
    "duration": 4,
    "start_time": "2022-03-16T16:13:22.086Z"
   },
   {
    "duration": 832,
    "start_time": "2022-03-16T16:22:14.881Z"
   },
   {
    "duration": 52,
    "start_time": "2022-03-16T16:24:56.640Z"
   },
   {
    "duration": 7899,
    "start_time": "2022-03-16T16:25:07.903Z"
   },
   {
    "duration": 49,
    "start_time": "2022-03-16T16:25:15.804Z"
   },
   {
    "duration": 4,
    "start_time": "2022-03-16T16:25:29.281Z"
   },
   {
    "duration": 329,
    "start_time": "2022-03-16T16:25:29.287Z"
   },
   {
    "duration": 3,
    "start_time": "2022-03-16T16:25:29.618Z"
   },
   {
    "duration": 11,
    "start_time": "2022-03-16T16:25:29.623Z"
   },
   {
    "duration": 10,
    "start_time": "2022-03-16T16:25:29.635Z"
   },
   {
    "duration": 12,
    "start_time": "2022-03-16T16:25:29.647Z"
   },
   {
    "duration": 15,
    "start_time": "2022-03-16T16:25:29.661Z"
   },
   {
    "duration": 8,
    "start_time": "2022-03-16T16:25:29.678Z"
   },
   {
    "duration": 7,
    "start_time": "2022-03-16T16:25:29.687Z"
   },
   {
    "duration": 14,
    "start_time": "2022-03-16T16:25:29.696Z"
   },
   {
    "duration": 15,
    "start_time": "2022-03-16T16:25:29.712Z"
   },
   {
    "duration": 23,
    "start_time": "2022-03-16T16:25:29.729Z"
   },
   {
    "duration": 36,
    "start_time": "2022-03-16T16:25:29.754Z"
   },
   {
    "duration": 9,
    "start_time": "2022-03-16T16:25:29.792Z"
   },
   {
    "duration": 17,
    "start_time": "2022-03-16T16:25:29.803Z"
   },
   {
    "duration": 11,
    "start_time": "2022-03-16T16:25:29.821Z"
   },
   {
    "duration": 68,
    "start_time": "2022-03-16T16:25:29.833Z"
   },
   {
    "duration": 43,
    "start_time": "2022-03-16T16:25:29.903Z"
   },
   {
    "duration": 47,
    "start_time": "2022-03-16T16:25:29.949Z"
   },
   {
    "duration": 11,
    "start_time": "2022-03-16T16:25:29.998Z"
   },
   {
    "duration": 15,
    "start_time": "2022-03-16T16:25:30.011Z"
   },
   {
    "duration": 20,
    "start_time": "2022-03-16T16:25:30.027Z"
   },
   {
    "duration": 42,
    "start_time": "2022-03-16T16:25:30.049Z"
   },
   {
    "duration": 14,
    "start_time": "2022-03-16T16:25:30.093Z"
   },
   {
    "duration": 11,
    "start_time": "2022-03-16T16:25:30.108Z"
   },
   {
    "duration": 65,
    "start_time": "2022-03-16T16:25:30.120Z"
   },
   {
    "duration": 26,
    "start_time": "2022-03-16T16:25:30.187Z"
   },
   {
    "duration": 7,
    "start_time": "2022-03-16T16:25:30.215Z"
   },
   {
    "duration": 198,
    "start_time": "2022-03-16T16:25:30.224Z"
   },
   {
    "duration": 198,
    "start_time": "2022-03-16T16:25:30.424Z"
   },
   {
    "duration": 8,
    "start_time": "2022-03-16T16:25:30.624Z"
   },
   {
    "duration": 165,
    "start_time": "2022-03-16T16:25:30.634Z"
   },
   {
    "duration": 8,
    "start_time": "2022-03-16T16:25:30.801Z"
   },
   {
    "duration": 174,
    "start_time": "2022-03-16T16:25:30.811Z"
   },
   {
    "duration": 14,
    "start_time": "2022-03-16T16:25:30.986Z"
   },
   {
    "duration": 122,
    "start_time": "2022-03-16T16:25:31.002Z"
   },
   {
    "duration": 6335,
    "start_time": "2022-03-16T16:25:31.126Z"
   },
   {
    "duration": 796,
    "start_time": "2022-03-16T16:25:37.462Z"
   },
   {
    "duration": 7582,
    "start_time": "2022-03-16T16:25:38.260Z"
   },
   {
    "duration": 72,
    "start_time": "2022-03-16T16:25:45.844Z"
   },
   {
    "duration": 359,
    "start_time": "2022-03-16T16:29:51.811Z"
   },
   {
    "duration": 3,
    "start_time": "2022-03-16T16:29:57.522Z"
   },
   {
    "duration": 299,
    "start_time": "2022-03-16T16:29:57.528Z"
   },
   {
    "duration": 3,
    "start_time": "2022-03-16T16:29:57.829Z"
   },
   {
    "duration": 8,
    "start_time": "2022-03-16T16:29:57.834Z"
   },
   {
    "duration": 10,
    "start_time": "2022-03-16T16:29:57.844Z"
   },
   {
    "duration": 6,
    "start_time": "2022-03-16T16:29:57.856Z"
   },
   {
    "duration": 13,
    "start_time": "2022-03-16T16:29:57.864Z"
   },
   {
    "duration": 7,
    "start_time": "2022-03-16T16:29:57.878Z"
   },
   {
    "duration": 4,
    "start_time": "2022-03-16T16:29:57.887Z"
   },
   {
    "duration": 10,
    "start_time": "2022-03-16T16:29:57.893Z"
   },
   {
    "duration": 12,
    "start_time": "2022-03-16T16:29:57.904Z"
   },
   {
    "duration": 21,
    "start_time": "2022-03-16T16:29:57.918Z"
   },
   {
    "duration": 45,
    "start_time": "2022-03-16T16:29:57.941Z"
   },
   {
    "duration": 6,
    "start_time": "2022-03-16T16:29:57.988Z"
   },
   {
    "duration": 19,
    "start_time": "2022-03-16T16:29:57.996Z"
   },
   {
    "duration": 13,
    "start_time": "2022-03-16T16:29:58.016Z"
   },
   {
    "duration": 63,
    "start_time": "2022-03-16T16:29:58.030Z"
   },
   {
    "duration": 43,
    "start_time": "2022-03-16T16:29:58.094Z"
   },
   {
    "duration": 54,
    "start_time": "2022-03-16T16:29:58.138Z"
   },
   {
    "duration": 10,
    "start_time": "2022-03-16T16:29:58.193Z"
   },
   {
    "duration": 9,
    "start_time": "2022-03-16T16:29:58.204Z"
   },
   {
    "duration": 16,
    "start_time": "2022-03-16T16:29:58.215Z"
   },
   {
    "duration": 16,
    "start_time": "2022-03-16T16:29:58.233Z"
   },
   {
    "duration": 12,
    "start_time": "2022-03-16T16:29:58.280Z"
   },
   {
    "duration": 10,
    "start_time": "2022-03-16T16:29:58.294Z"
   },
   {
    "duration": 36,
    "start_time": "2022-03-16T16:29:58.306Z"
   },
   {
    "duration": 44,
    "start_time": "2022-03-16T16:29:58.343Z"
   },
   {
    "duration": 7,
    "start_time": "2022-03-16T16:29:58.389Z"
   },
   {
    "duration": 185,
    "start_time": "2022-03-16T16:29:58.397Z"
   },
   {
    "duration": 198,
    "start_time": "2022-03-16T16:29:58.584Z"
   },
   {
    "duration": 9,
    "start_time": "2022-03-16T16:29:58.783Z"
   },
   {
    "duration": 161,
    "start_time": "2022-03-16T16:29:58.793Z"
   },
   {
    "duration": 9,
    "start_time": "2022-03-16T16:29:58.956Z"
   },
   {
    "duration": 181,
    "start_time": "2022-03-16T16:29:58.968Z"
   },
   {
    "duration": 14,
    "start_time": "2022-03-16T16:29:59.151Z"
   },
   {
    "duration": 117,
    "start_time": "2022-03-16T16:29:59.166Z"
   },
   {
    "duration": 5971,
    "start_time": "2022-03-16T16:29:59.285Z"
   },
   {
    "duration": 810,
    "start_time": "2022-03-16T16:30:05.257Z"
   },
   {
    "duration": 8050,
    "start_time": "2022-03-16T16:30:06.069Z"
   },
   {
    "duration": 72,
    "start_time": "2022-03-16T16:30:14.121Z"
   },
   {
    "duration": 9,
    "start_time": "2022-03-16T16:30:14.195Z"
   },
   {
    "duration": 49,
    "start_time": "2022-03-16T16:30:26.301Z"
   },
   {
    "duration": 51,
    "start_time": "2022-03-16T16:30:43.401Z"
   },
   {
    "duration": 574,
    "start_time": "2022-03-16T16:32:46.951Z"
   },
   {
    "duration": 581,
    "start_time": "2022-03-16T16:32:55.120Z"
   },
   {
    "duration": 660,
    "start_time": "2022-03-16T16:33:08.986Z"
   },
   {
    "duration": 346,
    "start_time": "2022-03-16T16:33:32.565Z"
   },
   {
    "duration": 327,
    "start_time": "2022-03-16T16:33:41.646Z"
   },
   {
    "duration": 3,
    "start_time": "2022-03-16T16:40:56.541Z"
   },
   {
    "duration": 44,
    "start_time": "2022-03-17T12:23:31.109Z"
   },
   {
    "duration": 1357,
    "start_time": "2022-03-17T12:23:35.850Z"
   },
   {
    "duration": 1563,
    "start_time": "2022-03-17T12:23:37.209Z"
   },
   {
    "duration": 3,
    "start_time": "2022-03-17T12:23:38.773Z"
   },
   {
    "duration": 13,
    "start_time": "2022-03-17T12:23:38.778Z"
   },
   {
    "duration": 14,
    "start_time": "2022-03-17T12:23:38.793Z"
   },
   {
    "duration": 11,
    "start_time": "2022-03-17T12:23:38.808Z"
   },
   {
    "duration": 14,
    "start_time": "2022-03-17T12:23:38.820Z"
   },
   {
    "duration": 10,
    "start_time": "2022-03-17T12:23:38.835Z"
   },
   {
    "duration": 5,
    "start_time": "2022-03-17T12:23:38.846Z"
   },
   {
    "duration": 10,
    "start_time": "2022-03-17T12:23:38.853Z"
   },
   {
    "duration": 11,
    "start_time": "2022-03-17T12:23:38.881Z"
   },
   {
    "duration": 19,
    "start_time": "2022-03-17T12:23:38.893Z"
   },
   {
    "duration": 14,
    "start_time": "2022-03-17T12:23:38.913Z"
   },
   {
    "duration": 15,
    "start_time": "2022-03-17T12:23:38.929Z"
   },
   {
    "duration": 44,
    "start_time": "2022-03-17T12:23:38.945Z"
   },
   {
    "duration": 13,
    "start_time": "2022-03-17T12:23:38.991Z"
   },
   {
    "duration": 40,
    "start_time": "2022-03-17T12:23:39.006Z"
   },
   {
    "duration": 64,
    "start_time": "2022-03-17T12:23:39.048Z"
   },
   {
    "duration": 34,
    "start_time": "2022-03-17T12:23:39.114Z"
   },
   {
    "duration": 31,
    "start_time": "2022-03-17T12:23:39.150Z"
   },
   {
    "duration": 10,
    "start_time": "2022-03-17T12:23:39.182Z"
   },
   {
    "duration": 19,
    "start_time": "2022-03-17T12:23:39.193Z"
   },
   {
    "duration": 21,
    "start_time": "2022-03-17T12:23:39.214Z"
   },
   {
    "duration": 46,
    "start_time": "2022-03-17T12:23:39.237Z"
   },
   {
    "duration": 14,
    "start_time": "2022-03-17T12:23:39.285Z"
   },
   {
    "duration": 42,
    "start_time": "2022-03-17T12:23:39.300Z"
   },
   {
    "duration": 43,
    "start_time": "2022-03-17T12:23:39.344Z"
   },
   {
    "duration": 7,
    "start_time": "2022-03-17T12:23:39.390Z"
   },
   {
    "duration": 173,
    "start_time": "2022-03-17T12:23:39.398Z"
   },
   {
    "duration": 184,
    "start_time": "2022-03-17T12:23:39.573Z"
   },
   {
    "duration": 9,
    "start_time": "2022-03-17T12:23:39.758Z"
   },
   {
    "duration": 252,
    "start_time": "2022-03-17T12:23:39.768Z"
   },
   {
    "duration": 9,
    "start_time": "2022-03-17T12:23:40.022Z"
   },
   {
    "duration": 171,
    "start_time": "2022-03-17T12:23:40.033Z"
   },
   {
    "duration": 16,
    "start_time": "2022-03-17T12:23:40.206Z"
   },
   {
    "duration": 89,
    "start_time": "2022-03-17T12:23:40.223Z"
   },
   {
    "duration": 2358,
    "start_time": "2022-03-17T12:23:40.313Z"
   },
   {
    "duration": 314,
    "start_time": "2022-03-17T12:23:42.673Z"
   },
   {
    "duration": 3851,
    "start_time": "2022-03-17T12:23:42.988Z"
   },
   {
    "duration": 89,
    "start_time": "2022-03-17T12:23:46.841Z"
   },
   {
    "duration": 6,
    "start_time": "2022-03-17T12:23:46.932Z"
   },
   {
    "duration": 8,
    "start_time": "2022-03-17T12:35:54.908Z"
   },
   {
    "duration": 57,
    "start_time": "2022-03-17T12:35:55.161Z"
   },
   {
    "duration": 12,
    "start_time": "2022-03-17T12:36:14.616Z"
   },
   {
    "duration": 29,
    "start_time": "2022-03-17T12:36:20.930Z"
   },
   {
    "duration": 53,
    "start_time": "2022-03-17T12:36:30.800Z"
   },
   {
    "duration": 46,
    "start_time": "2022-03-17T12:36:43.389Z"
   },
   {
    "duration": 206,
    "start_time": "2022-03-17T12:37:40.700Z"
   },
   {
    "duration": 259,
    "start_time": "2022-03-17T12:37:40.995Z"
   },
   {
    "duration": 12,
    "start_time": "2022-03-17T12:40:26.431Z"
   },
   {
    "duration": 5,
    "start_time": "2022-03-17T12:40:48.641Z"
   },
   {
    "duration": 7,
    "start_time": "2022-03-17T12:40:57.899Z"
   },
   {
    "duration": 7,
    "start_time": "2022-03-17T12:41:09.084Z"
   },
   {
    "duration": 7,
    "start_time": "2022-03-17T12:41:15.472Z"
   },
   {
    "duration": 12,
    "start_time": "2022-03-17T13:08:31.460Z"
   },
   {
    "duration": 3,
    "start_time": "2022-03-17T13:08:36.027Z"
   },
   {
    "duration": 320,
    "start_time": "2022-03-17T13:08:36.033Z"
   },
   {
    "duration": 4,
    "start_time": "2022-03-17T13:08:36.354Z"
   },
   {
    "duration": 21,
    "start_time": "2022-03-17T13:08:36.359Z"
   },
   {
    "duration": 8,
    "start_time": "2022-03-17T13:08:36.382Z"
   },
   {
    "duration": 13,
    "start_time": "2022-03-17T13:08:36.391Z"
   },
   {
    "duration": 15,
    "start_time": "2022-03-17T13:08:36.405Z"
   },
   {
    "duration": 7,
    "start_time": "2022-03-17T13:08:36.421Z"
   },
   {
    "duration": 4,
    "start_time": "2022-03-17T13:08:36.429Z"
   },
   {
    "duration": 16,
    "start_time": "2022-03-17T13:08:36.434Z"
   },
   {
    "duration": 36,
    "start_time": "2022-03-17T13:08:36.453Z"
   },
   {
    "duration": 15,
    "start_time": "2022-03-17T13:08:36.491Z"
   },
   {
    "duration": 15,
    "start_time": "2022-03-17T13:08:36.507Z"
   },
   {
    "duration": 13,
    "start_time": "2022-03-17T13:08:36.523Z"
   },
   {
    "duration": 21,
    "start_time": "2022-03-17T13:08:36.537Z"
   },
   {
    "duration": 32,
    "start_time": "2022-03-17T13:08:36.559Z"
   },
   {
    "duration": 44,
    "start_time": "2022-03-17T13:08:36.593Z"
   },
   {
    "duration": 66,
    "start_time": "2022-03-17T13:08:36.638Z"
   },
   {
    "duration": 32,
    "start_time": "2022-03-17T13:08:36.706Z"
   },
   {
    "duration": 15,
    "start_time": "2022-03-17T13:08:36.740Z"
   },
   {
    "duration": 26,
    "start_time": "2022-03-17T13:08:36.756Z"
   },
   {
    "duration": 21,
    "start_time": "2022-03-17T13:08:36.784Z"
   },
   {
    "duration": 21,
    "start_time": "2022-03-17T13:08:36.807Z"
   },
   {
    "duration": 16,
    "start_time": "2022-03-17T13:08:36.829Z"
   },
   {
    "duration": 35,
    "start_time": "2022-03-17T13:08:36.846Z"
   },
   {
    "duration": 42,
    "start_time": "2022-03-17T13:08:36.883Z"
   },
   {
    "duration": 29,
    "start_time": "2022-03-17T13:08:36.927Z"
   },
   {
    "duration": 24,
    "start_time": "2022-03-17T13:08:36.958Z"
   },
   {
    "duration": 177,
    "start_time": "2022-03-17T13:08:36.986Z"
   },
   {
    "duration": 186,
    "start_time": "2022-03-17T13:08:37.165Z"
   },
   {
    "duration": 8,
    "start_time": "2022-03-17T13:08:37.353Z"
   },
   {
    "duration": 149,
    "start_time": "2022-03-17T13:08:37.362Z"
   },
   {
    "duration": 8,
    "start_time": "2022-03-17T13:08:37.513Z"
   },
   {
    "duration": 164,
    "start_time": "2022-03-17T13:08:37.523Z"
   },
   {
    "duration": 15,
    "start_time": "2022-03-17T13:08:37.688Z"
   },
   {
    "duration": 83,
    "start_time": "2022-03-17T13:08:37.705Z"
   },
   {
    "duration": 2346,
    "start_time": "2022-03-17T13:08:37.789Z"
   },
   {
    "duration": 298,
    "start_time": "2022-03-17T13:08:40.136Z"
   },
   {
    "duration": 3897,
    "start_time": "2022-03-17T13:08:40.436Z"
   },
   {
    "duration": 91,
    "start_time": "2022-03-17T13:08:44.335Z"
   },
   {
    "duration": 7,
    "start_time": "2022-03-17T13:08:44.428Z"
   },
   {
    "duration": 8,
    "start_time": "2022-03-17T13:08:44.437Z"
   },
   {
    "duration": 266,
    "start_time": "2022-03-17T13:08:44.446Z"
   },
   {
    "duration": 4,
    "start_time": "2022-03-17T13:08:44.714Z"
   },
   {
    "duration": 556,
    "start_time": "2022-03-17T13:08:44.719Z"
   },
   {
    "duration": 494,
    "start_time": "2022-03-17T13:08:45.280Z"
   },
   {
    "duration": 9,
    "start_time": "2022-03-17T13:08:45.776Z"
   },
   {
    "duration": 379,
    "start_time": "2022-03-17T13:08:45.786Z"
   },
   {
    "duration": 574,
    "start_time": "2022-03-17T13:08:46.166Z"
   },
   {
    "duration": 407,
    "start_time": "2022-03-17T13:08:46.741Z"
   },
   {
    "duration": 10,
    "start_time": "2022-03-17T13:08:47.149Z"
   },
   {
    "duration": 278,
    "start_time": "2022-03-17T13:08:47.161Z"
   },
   {
    "duration": 444,
    "start_time": "2022-03-17T13:08:47.441Z"
   },
   {
    "duration": 388,
    "start_time": "2022-03-17T13:08:47.886Z"
   },
   {
    "duration": 10,
    "start_time": "2022-03-17T13:08:48.276Z"
   },
   {
    "duration": 356,
    "start_time": "2022-03-17T13:08:48.287Z"
   },
   {
    "duration": 58,
    "start_time": "2022-03-17T13:08:48.644Z"
   },
   {
    "duration": 0,
    "start_time": "2022-03-17T13:08:48.703Z"
   },
   {
    "duration": 0,
    "start_time": "2022-03-17T13:08:48.705Z"
   },
   {
    "duration": 0,
    "start_time": "2022-03-17T13:08:48.706Z"
   },
   {
    "duration": 0,
    "start_time": "2022-03-17T13:08:48.707Z"
   },
   {
    "duration": 0,
    "start_time": "2022-03-17T13:08:48.708Z"
   },
   {
    "duration": 0,
    "start_time": "2022-03-17T13:08:48.709Z"
   },
   {
    "duration": 319,
    "start_time": "2022-03-17T13:44:34.728Z"
   },
   {
    "duration": 311,
    "start_time": "2022-03-17T13:45:11.981Z"
   },
   {
    "duration": 14,
    "start_time": "2022-03-17T13:45:13.285Z"
   },
   {
    "duration": 127,
    "start_time": "2022-03-17T13:45:13.885Z"
   },
   {
    "duration": 350,
    "start_time": "2022-03-17T13:45:59.876Z"
   },
   {
    "duration": 290,
    "start_time": "2022-03-17T13:46:16.021Z"
   },
   {
    "duration": 5,
    "start_time": "2022-03-17T13:53:07.705Z"
   },
   {
    "duration": 8,
    "start_time": "2022-03-17T14:16:36.799Z"
   },
   {
    "duration": 1139,
    "start_time": "2022-03-17T14:16:43.942Z"
   },
   {
    "duration": 286,
    "start_time": "2022-03-17T14:16:45.083Z"
   },
   {
    "duration": 2,
    "start_time": "2022-03-17T14:16:45.371Z"
   },
   {
    "duration": 22,
    "start_time": "2022-03-17T14:16:45.375Z"
   },
   {
    "duration": 20,
    "start_time": "2022-03-17T14:16:45.399Z"
   },
   {
    "duration": 9,
    "start_time": "2022-03-17T14:16:45.421Z"
   },
   {
    "duration": 13,
    "start_time": "2022-03-17T14:16:45.431Z"
   },
   {
    "duration": 25,
    "start_time": "2022-03-17T14:16:45.445Z"
   },
   {
    "duration": 8,
    "start_time": "2022-03-17T14:16:45.471Z"
   },
   {
    "duration": 24,
    "start_time": "2022-03-17T14:16:45.482Z"
   },
   {
    "duration": 24,
    "start_time": "2022-03-17T14:16:45.507Z"
   },
   {
    "duration": 29,
    "start_time": "2022-03-17T14:16:45.532Z"
   },
   {
    "duration": 22,
    "start_time": "2022-03-17T14:16:45.563Z"
   },
   {
    "duration": 18,
    "start_time": "2022-03-17T14:16:45.586Z"
   },
   {
    "duration": 19,
    "start_time": "2022-03-17T14:16:45.605Z"
   },
   {
    "duration": 12,
    "start_time": "2022-03-17T14:16:45.625Z"
   },
   {
    "duration": 56,
    "start_time": "2022-03-17T14:16:45.638Z"
   },
   {
    "duration": 44,
    "start_time": "2022-03-17T14:16:45.696Z"
   },
   {
    "duration": 51,
    "start_time": "2022-03-17T14:16:45.742Z"
   },
   {
    "duration": 16,
    "start_time": "2022-03-17T14:16:45.795Z"
   },
   {
    "duration": 9,
    "start_time": "2022-03-17T14:16:45.813Z"
   },
   {
    "duration": 20,
    "start_time": "2022-03-17T14:16:45.823Z"
   },
   {
    "duration": 42,
    "start_time": "2022-03-17T14:16:45.845Z"
   },
   {
    "duration": 16,
    "start_time": "2022-03-17T14:16:45.889Z"
   },
   {
    "duration": 13,
    "start_time": "2022-03-17T14:16:45.906Z"
   },
   {
    "duration": 41,
    "start_time": "2022-03-17T14:16:45.920Z"
   },
   {
    "duration": 47,
    "start_time": "2022-03-17T14:16:45.963Z"
   },
   {
    "duration": 7,
    "start_time": "2022-03-17T14:16:46.014Z"
   },
   {
    "duration": 195,
    "start_time": "2022-03-17T14:16:46.023Z"
   },
   {
    "duration": 194,
    "start_time": "2022-03-17T14:16:46.220Z"
   },
   {
    "duration": 8,
    "start_time": "2022-03-17T14:16:46.416Z"
   },
   {
    "duration": 155,
    "start_time": "2022-03-17T14:16:46.426Z"
   },
   {
    "duration": 8,
    "start_time": "2022-03-17T14:16:46.583Z"
   },
   {
    "duration": 161,
    "start_time": "2022-03-17T14:16:46.593Z"
   },
   {
    "duration": 25,
    "start_time": "2022-03-17T14:16:46.757Z"
   },
   {
    "duration": 74,
    "start_time": "2022-03-17T14:16:46.784Z"
   },
   {
    "duration": 2383,
    "start_time": "2022-03-17T14:16:46.860Z"
   },
   {
    "duration": 337,
    "start_time": "2022-03-17T14:16:49.244Z"
   },
   {
    "duration": 3869,
    "start_time": "2022-03-17T14:16:49.582Z"
   },
   {
    "duration": 93,
    "start_time": "2022-03-17T14:16:53.453Z"
   },
   {
    "duration": 7,
    "start_time": "2022-03-17T14:16:53.548Z"
   },
   {
    "duration": 12,
    "start_time": "2022-03-17T14:16:53.556Z"
   },
   {
    "duration": 259,
    "start_time": "2022-03-17T14:16:53.580Z"
   },
   {
    "duration": 3,
    "start_time": "2022-03-17T14:16:53.841Z"
   },
   {
    "duration": 548,
    "start_time": "2022-03-17T14:16:53.846Z"
   },
   {
    "duration": 521,
    "start_time": "2022-03-17T14:16:54.396Z"
   },
   {
    "duration": 9,
    "start_time": "2022-03-17T14:16:54.919Z"
   },
   {
    "duration": 261,
    "start_time": "2022-03-17T14:16:54.930Z"
   },
   {
    "duration": 625,
    "start_time": "2022-03-17T14:16:55.192Z"
   },
   {
    "duration": 413,
    "start_time": "2022-03-17T14:16:55.818Z"
   },
   {
    "duration": 10,
    "start_time": "2022-03-17T14:16:56.232Z"
   },
   {
    "duration": 277,
    "start_time": "2022-03-17T14:16:56.244Z"
   },
   {
    "duration": 452,
    "start_time": "2022-03-17T14:16:56.522Z"
   },
   {
    "duration": 238,
    "start_time": "2022-03-17T14:16:56.975Z"
   },
   {
    "duration": 0,
    "start_time": "2022-03-17T14:16:57.214Z"
   },
   {
    "duration": 0,
    "start_time": "2022-03-17T14:16:57.215Z"
   },
   {
    "duration": 0,
    "start_time": "2022-03-17T14:16:57.216Z"
   },
   {
    "duration": 0,
    "start_time": "2022-03-17T14:16:57.218Z"
   },
   {
    "duration": 0,
    "start_time": "2022-03-17T14:16:57.219Z"
   },
   {
    "duration": 0,
    "start_time": "2022-03-17T14:16:57.220Z"
   },
   {
    "duration": 0,
    "start_time": "2022-03-17T14:16:57.221Z"
   },
   {
    "duration": 0,
    "start_time": "2022-03-17T14:16:57.222Z"
   },
   {
    "duration": 0,
    "start_time": "2022-03-17T14:16:57.223Z"
   },
   {
    "duration": 0,
    "start_time": "2022-03-17T14:16:57.223Z"
   },
   {
    "duration": 83,
    "start_time": "2022-03-17T14:21:50.068Z"
   },
   {
    "duration": 434,
    "start_time": "2022-03-17T14:22:00.852Z"
   },
   {
    "duration": 12,
    "start_time": "2022-03-17T14:22:01.289Z"
   },
   {
    "duration": 270,
    "start_time": "2022-03-17T14:22:01.303Z"
   },
   {
    "duration": 277,
    "start_time": "2022-03-17T14:22:01.581Z"
   },
   {
    "duration": 23,
    "start_time": "2022-03-17T14:22:01.860Z"
   },
   {
    "duration": 237,
    "start_time": "2022-03-17T14:22:01.884Z"
   },
   {
    "duration": 5,
    "start_time": "2022-03-17T14:22:02.123Z"
   },
   {
    "duration": 357,
    "start_time": "2022-03-17T14:22:02.129Z"
   },
   {
    "duration": 15,
    "start_time": "2022-03-17T14:22:02.487Z"
   },
   {
    "duration": 12,
    "start_time": "2022-03-17T14:22:02.504Z"
   },
   {
    "duration": 1149,
    "start_time": "2022-03-17T15:16:36.532Z"
   },
   {
    "duration": 302,
    "start_time": "2022-03-17T15:16:37.683Z"
   },
   {
    "duration": 2,
    "start_time": "2022-03-17T15:16:37.987Z"
   },
   {
    "duration": 13,
    "start_time": "2022-03-17T15:16:37.991Z"
   },
   {
    "duration": 14,
    "start_time": "2022-03-17T15:16:38.005Z"
   },
   {
    "duration": 9,
    "start_time": "2022-03-17T15:16:38.021Z"
   },
   {
    "duration": 13,
    "start_time": "2022-03-17T15:16:38.032Z"
   },
   {
    "duration": 9,
    "start_time": "2022-03-17T15:16:38.046Z"
   },
   {
    "duration": 3,
    "start_time": "2022-03-17T15:16:38.056Z"
   },
   {
    "duration": 12,
    "start_time": "2022-03-17T15:16:38.081Z"
   },
   {
    "duration": 13,
    "start_time": "2022-03-17T15:16:38.094Z"
   },
   {
    "duration": 16,
    "start_time": "2022-03-17T15:16:38.109Z"
   },
   {
    "duration": 14,
    "start_time": "2022-03-17T15:16:38.127Z"
   },
   {
    "duration": 10,
    "start_time": "2022-03-17T15:16:38.142Z"
   },
   {
    "duration": 20,
    "start_time": "2022-03-17T15:16:38.180Z"
   },
   {
    "duration": 12,
    "start_time": "2022-03-17T15:16:38.202Z"
   },
   {
    "duration": 43,
    "start_time": "2022-03-17T15:16:38.216Z"
   },
   {
    "duration": 62,
    "start_time": "2022-03-17T15:16:38.261Z"
   },
   {
    "duration": 34,
    "start_time": "2022-03-17T15:16:38.324Z"
   },
   {
    "duration": 32,
    "start_time": "2022-03-17T15:16:38.360Z"
   },
   {
    "duration": 10,
    "start_time": "2022-03-17T15:16:38.393Z"
   },
   {
    "duration": 33,
    "start_time": "2022-03-17T15:16:38.405Z"
   },
   {
    "duration": 22,
    "start_time": "2022-03-17T15:16:38.440Z"
   },
   {
    "duration": 24,
    "start_time": "2022-03-17T15:16:38.464Z"
   },
   {
    "duration": 11,
    "start_time": "2022-03-17T15:16:38.490Z"
   },
   {
    "duration": 53,
    "start_time": "2022-03-17T15:16:38.502Z"
   },
   {
    "duration": 44,
    "start_time": "2022-03-17T15:16:38.557Z"
   },
   {
    "duration": 8,
    "start_time": "2022-03-17T15:16:38.605Z"
   },
   {
    "duration": 185,
    "start_time": "2022-03-17T15:16:38.614Z"
   },
   {
    "duration": 194,
    "start_time": "2022-03-17T15:16:38.801Z"
   },
   {
    "duration": 9,
    "start_time": "2022-03-17T15:16:38.996Z"
   },
   {
    "duration": 154,
    "start_time": "2022-03-17T15:16:39.006Z"
   },
   {
    "duration": 8,
    "start_time": "2022-03-17T15:16:39.162Z"
   },
   {
    "duration": 169,
    "start_time": "2022-03-17T15:16:39.172Z"
   },
   {
    "duration": 16,
    "start_time": "2022-03-17T15:16:39.343Z"
   },
   {
    "duration": 87,
    "start_time": "2022-03-17T15:16:39.360Z"
   },
   {
    "duration": 2435,
    "start_time": "2022-03-17T15:16:39.448Z"
   },
   {
    "duration": 321,
    "start_time": "2022-03-17T15:16:41.885Z"
   },
   {
    "duration": 3992,
    "start_time": "2022-03-17T15:16:42.207Z"
   },
   {
    "duration": 93,
    "start_time": "2022-03-17T15:16:46.201Z"
   },
   {
    "duration": 7,
    "start_time": "2022-03-17T15:16:46.296Z"
   },
   {
    "duration": 10,
    "start_time": "2022-03-17T15:16:46.304Z"
   },
   {
    "duration": 266,
    "start_time": "2022-03-17T15:16:46.315Z"
   },
   {
    "duration": 4,
    "start_time": "2022-03-17T15:16:46.582Z"
   },
   {
    "duration": 533,
    "start_time": "2022-03-17T15:16:46.587Z"
   },
   {
    "duration": 524,
    "start_time": "2022-03-17T15:16:47.121Z"
   },
   {
    "duration": 10,
    "start_time": "2022-03-17T15:16:47.647Z"
   },
   {
    "duration": 279,
    "start_time": "2022-03-17T15:16:47.659Z"
   },
   {
    "duration": 672,
    "start_time": "2022-03-17T15:16:47.939Z"
   },
   {
    "duration": 377,
    "start_time": "2022-03-17T15:16:48.613Z"
   },
   {
    "duration": 9,
    "start_time": "2022-03-17T15:16:48.992Z"
   },
   {
    "duration": 245,
    "start_time": "2022-03-17T15:16:49.002Z"
   },
   {
    "duration": 444,
    "start_time": "2022-03-17T15:16:49.249Z"
   },
   {
    "duration": 391,
    "start_time": "2022-03-17T15:16:49.694Z"
   },
   {
    "duration": 11,
    "start_time": "2022-03-17T15:16:50.086Z"
   },
   {
    "duration": 262,
    "start_time": "2022-03-17T15:16:50.098Z"
   },
   {
    "duration": 287,
    "start_time": "2022-03-17T15:16:50.362Z"
   },
   {
    "duration": 14,
    "start_time": "2022-03-17T15:16:50.650Z"
   },
   {
    "duration": 232,
    "start_time": "2022-03-17T15:16:50.665Z"
   },
   {
    "duration": 6,
    "start_time": "2022-03-17T15:16:50.899Z"
   },
   {
    "duration": 382,
    "start_time": "2022-03-17T15:16:50.906Z"
   },
   {
    "duration": 14,
    "start_time": "2022-03-17T15:16:51.290Z"
   },
   {
    "duration": 8,
    "start_time": "2022-03-17T15:16:51.305Z"
   }
  ],
  "kernelspec": {
   "display_name": "Python 3",
   "language": "python",
   "name": "python3"
  },
  "language_info": {
   "codemirror_mode": {
    "name": "ipython",
    "version": 3
   },
   "file_extension": ".py",
   "mimetype": "text/x-python",
   "name": "python",
   "nbconvert_exporter": "python",
   "pygments_lexer": "ipython3",
   "version": "3.8.5"
  },
  "toc": {
   "base_numbering": 1,
   "nav_menu": {},
   "number_sections": true,
   "sideBar": true,
   "skip_h1_title": false,
   "title_cell": "Table of Contents",
   "title_sidebar": "Contents",
   "toc_cell": false,
   "toc_position": {
    "height": "calc(100% - 180px)",
    "left": "10px",
    "top": "150px",
    "width": "746.875px"
   },
   "toc_section_display": true,
   "toc_window_display": true
  }
 },
 "nbformat": 4,
 "nbformat_minor": 2
}
