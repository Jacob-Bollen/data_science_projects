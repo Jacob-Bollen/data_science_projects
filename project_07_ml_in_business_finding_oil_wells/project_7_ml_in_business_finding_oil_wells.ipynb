{
 "cells": [
  {
   "cell_type": "code",
   "execution_count": 2,
   "metadata": {},
   "outputs": [],
   "source": [
    "#importing libraries\n",
    "import pandas as pd\n",
    "import numpy as np\n",
    "import matplotlib.pyplot as plt\n",
    "\n",
    "from sklearn.linear_model import LinearRegression\n",
    "from sklearn.model_selection import train_test_split\n",
    "from sklearn.metrics import mean_squared_error, r2_score\n",
    "\n",
    "from scipy import stats as st"
   ]
  },
  {
   "cell_type": "code",
   "execution_count": 3,
   "metadata": {},
   "outputs": [],
   "source": [
    "#setting style\n",
    "plt.style.use('seaborn-pastel')"
   ]
  },
  {
   "cell_type": "code",
   "execution_count": 4,
   "metadata": {},
   "outputs": [],
   "source": [
    "#importing datasets\n",
    "df_0 = pd.read_csv('/datasets/geo_data_0.csv')\n",
    "df_1 = pd.read_csv('/datasets/geo_data_1.csv')\n",
    "df_2 = pd.read_csv('/datasets/geo_data_2.csv')"
   ]
  },
  {
   "cell_type": "code",
   "execution_count": 5,
   "metadata": {},
   "outputs": [],
   "source": [
    "#function to print key info\n",
    "def preliminary_analysis(df):\n",
    "    print(df.info())\n",
    "    print(\"\"\"\n",
    "    \n",
    "    \"\"\")\n",
    "    print(df.describe())\n",
    "    print(\"\"\"\n",
    "    \n",
    "    \"\"\")\n",
    "    print(df.head())\n",
    "\n"
   ]
  },
  {
   "cell_type": "code",
   "execution_count": 6,
   "metadata": {},
   "outputs": [
    {
     "name": "stdout",
     "output_type": "stream",
     "text": [
      "<class 'pandas.core.frame.DataFrame'>\n",
      "RangeIndex: 100000 entries, 0 to 99999\n",
      "Data columns (total 5 columns):\n",
      " #   Column   Non-Null Count   Dtype  \n",
      "---  ------   --------------   -----  \n",
      " 0   id       100000 non-null  object \n",
      " 1   f0       100000 non-null  float64\n",
      " 2   f1       100000 non-null  float64\n",
      " 3   f2       100000 non-null  float64\n",
      " 4   product  100000 non-null  float64\n",
      "dtypes: float64(4), object(1)\n",
      "memory usage: 3.8+ MB\n",
      "None\n",
      "\n",
      "    \n",
      "    \n",
      "                  f0             f1             f2        product\n",
      "count  100000.000000  100000.000000  100000.000000  100000.000000\n",
      "mean        0.500419       0.250143       2.502647      92.500000\n",
      "std         0.871832       0.504433       3.248248      44.288691\n",
      "min        -1.408605      -0.848218     -12.088328       0.000000\n",
      "25%        -0.072580      -0.200881       0.287748      56.497507\n",
      "50%         0.502360       0.250252       2.515969      91.849972\n",
      "75%         1.073581       0.700646       4.715088     128.564089\n",
      "max         2.362331       1.343769      16.003790     185.364347\n",
      "\n",
      "    \n",
      "    \n",
      "      id        f0        f1        f2     product\n",
      "0  txEyH  0.705745 -0.497823  1.221170  105.280062\n",
      "1  2acmU  1.334711 -0.340164  4.365080   73.037750\n",
      "2  409Wp  1.022732  0.151990  1.419926   85.265647\n",
      "3  iJLyR -0.032172  0.139033  2.978566  168.620776\n",
      "4  Xdl7t  1.988431  0.155413  4.751769  154.036647\n"
     ]
    }
   ],
   "source": [
    "preliminary_analysis(df_0)"
   ]
  },
  {
   "cell_type": "code",
   "execution_count": 7,
   "metadata": {},
   "outputs": [
    {
     "name": "stdout",
     "output_type": "stream",
     "text": [
      "<class 'pandas.core.frame.DataFrame'>\n",
      "RangeIndex: 100000 entries, 0 to 99999\n",
      "Data columns (total 5 columns):\n",
      " #   Column   Non-Null Count   Dtype  \n",
      "---  ------   --------------   -----  \n",
      " 0   id       100000 non-null  object \n",
      " 1   f0       100000 non-null  float64\n",
      " 2   f1       100000 non-null  float64\n",
      " 3   f2       100000 non-null  float64\n",
      " 4   product  100000 non-null  float64\n",
      "dtypes: float64(4), object(1)\n",
      "memory usage: 3.8+ MB\n",
      "None\n",
      "\n",
      "    \n",
      "    \n",
      "                  f0             f1             f2        product\n",
      "count  100000.000000  100000.000000  100000.000000  100000.000000\n",
      "mean        1.141296      -4.796579       2.494541      68.825000\n",
      "std         8.965932       5.119872       1.703572      45.944423\n",
      "min       -31.609576     -26.358598      -0.018144       0.000000\n",
      "25%        -6.298551      -8.267985       1.000021      26.953261\n",
      "50%         1.153055      -4.813172       2.011479      57.085625\n",
      "75%         8.621015      -1.332816       3.999904     107.813044\n",
      "max        29.421755      18.734063       5.019721     137.945408\n",
      "\n",
      "    \n",
      "    \n",
      "      id         f0         f1        f2     product\n",
      "0  kBEdx -15.001348  -8.276000 -0.005876    3.179103\n",
      "1  62mP7  14.272088  -3.475083  0.999183   26.953261\n",
      "2  vyE1P   6.263187  -5.948386  5.001160  134.766305\n",
      "3  KcrkZ -13.081196 -11.506057  4.999415  137.945408\n",
      "4  AHL4O  12.702195  -8.147433  5.004363  134.766305\n"
     ]
    }
   ],
   "source": [
    "preliminary_analysis(df_1)"
   ]
  },
  {
   "cell_type": "code",
   "execution_count": 8,
   "metadata": {},
   "outputs": [
    {
     "name": "stdout",
     "output_type": "stream",
     "text": [
      "<class 'pandas.core.frame.DataFrame'>\n",
      "RangeIndex: 100000 entries, 0 to 99999\n",
      "Data columns (total 5 columns):\n",
      " #   Column   Non-Null Count   Dtype  \n",
      "---  ------   --------------   -----  \n",
      " 0   id       100000 non-null  object \n",
      " 1   f0       100000 non-null  float64\n",
      " 2   f1       100000 non-null  float64\n",
      " 3   f2       100000 non-null  float64\n",
      " 4   product  100000 non-null  float64\n",
      "dtypes: float64(4), object(1)\n",
      "memory usage: 3.8+ MB\n",
      "None\n",
      "\n",
      "    \n",
      "    \n",
      "                  f0             f1             f2        product\n",
      "count  100000.000000  100000.000000  100000.000000  100000.000000\n",
      "mean        0.002023      -0.002081       2.495128      95.000000\n",
      "std         1.732045       1.730417       3.473445      44.749921\n",
      "min        -8.760004      -7.084020     -11.970335       0.000000\n",
      "25%        -1.162288      -1.174820       0.130359      59.450441\n",
      "50%         0.009424      -0.009482       2.484236      94.925613\n",
      "75%         1.158535       1.163678       4.858794     130.595027\n",
      "max         7.238262       7.844801      16.739402     190.029838\n",
      "\n",
      "    \n",
      "    \n",
      "      id        f0        f1        f2     product\n",
      "0  fwXo0 -1.146987  0.963328 -0.828965   27.758673\n",
      "1  WJtFt  0.262778  0.269839 -2.530187   56.069697\n",
      "2  ovLUW  0.194587  0.289035 -5.586433   62.871910\n",
      "3  q6cA6  2.236060 -0.553760  0.930038  114.572842\n",
      "4  WPMUX -0.515993  1.716266  5.899011  149.600746\n"
     ]
    }
   ],
   "source": [
    "preliminary_analysis(df_2)"
   ]
  },
  {
   "cell_type": "markdown",
   "metadata": {},
   "source": [
    "There's no obvious issues with the data. \n",
    "\n",
    "Let's visualise the distribution"
   ]
  },
  {
   "cell_type": "code",
   "execution_count": 41,
   "metadata": {},
   "outputs": [
    {
     "data": {
      "image/png": "[encoded data removed]",
      "text/plain": [
       "<Figure size 720x432 with 1 Axes>"
      ]
     },
     "metadata": {
      "needs_background": "light"
     },
     "output_type": "display_data"
    }
   ],
   "source": [
    "plt.figure(figsize=(10, 6))\n",
    "plt.hist(df_0['product'], bins= list(range(0,201,10)), label='location_0_product', alpha = 0.7)\n",
    "plt.hist(df_1['product'], bins= list(range(0,201,10)), label='location_1_product', alpha = 0.4)\n",
    "plt.hist(df_2['product'], bins= list(range(0,201,10)), label='location_2_product', alpha = 0.3)\n",
    "plt.xlabel('Volume of reserves (thousand barrels)')\n",
    "plt.ylabel('Frequency')\n",
    "plt.title('Distribution of reserve volumes across different locations')\n",
    "plt.legend(loc = 'best')\n",
    "plt.show()"
   ]
  },
  {
   "cell_type": "markdown",
   "metadata": {},
   "source": [
    "We can see that locations 0 and 2 have fairly similar distributions, whilst volumes at location 1 appear to fall into a few distinct values."
   ]
  },
  {
   "cell_type": "markdown",
   "metadata": {},
   "source": [
    "### Training and testing the model"
   ]
  },
  {
   "cell_type": "code",
   "execution_count": 42,
   "metadata": {},
   "outputs": [],
   "source": [
    "#creating a function to split, train, test and predict for each region\n",
    "def train_test(df):\n",
    "    X = df[['f0', 'f1', 'f2']]\n",
    "    y = df['product']\n",
    "    X_train, X_val, y_train, y_val = train_test_split(X, y, test_size = 0.25, random_state = 1)\n",
    "    \n",
    "    model = LinearRegression()\n",
    "    model.fit(X_train, y_train)\n",
    "    predictions = model.predict(X_val)\n",
    "    rmse = mean_squared_error(y_val, predictions)**0.5\n",
    "    avg_vol = predictions.mean()\n",
    "    \n",
    "    print(f'Average volume of predicted reserves: {avg_vol:.2f}, RMSE: {rmse:.2f}')\n",
    "    \n",
    "    plt.figure(figsize=(6, 6))\n",
    "    plt.plot(y_val, predictions, 'o', alpha = 0.2)\n",
    "    plt.xlabel('True volume of reserves (thousand barrels)')\n",
    "    plt.ylabel('Predicted volume of reserves (thousand barrels)')\n",
    "    plt.title('Predicted Volume v True Volume')\n",
    "    plt.show()\n",
    "    print('R2: ', str(r2_score(y_val, predictions)))\n",
    "    return predictions, y_val, avg_vol, rmse"
   ]
  },
  {
   "cell_type": "code",
   "execution_count": 43,
   "metadata": {},
   "outputs": [
    {
     "name": "stdout",
     "output_type": "stream",
     "text": [
      "Average volume of predicted reserves: 92.49, RMSE: 37.74\n"
     ]
    },
    {
     "data": {
      "image/png": "[encoded data removed]",
      "text/plain": [
       "<Figure size 432x432 with 1 Axes>"
      ]
     },
     "metadata": {
      "needs_background": "light"
     },
     "output_type": "display_data"
    },
    {
     "name": "stdout",
     "output_type": "stream",
     "text": [
      "R2:  0.27728067218414654\n"
     ]
    }
   ],
   "source": [
    "#region 0\n",
    "predictions_0, y_val_0, avg_vol_0, rmse_0 = train_test(df_0)"
   ]
  },
  {
   "cell_type": "code",
   "execution_count": 44,
   "metadata": {},
   "outputs": [
    {
     "name": "stdout",
     "output_type": "stream",
     "text": [
      "Average volume of predicted reserves: 69.12, RMSE: 0.89\n"
     ]
    },
    {
     "data": {
      "image/png": "[encoded data removed]",
      "text/plain": [
       "<Figure size 432x432 with 1 Axes>"
      ]
     },
     "metadata": {
      "needs_background": "light"
     },
     "output_type": "display_data"
    },
    {
     "name": "stdout",
     "output_type": "stream",
     "text": [
      "R2:  0.9996221352766932\n"
     ]
    }
   ],
   "source": [
    "#region 1 \n",
    "predictions_1, y_val_1, avg_vol_1, rmse_1 = train_test(df_1)"
   ]
  },
  {
   "cell_type": "code",
   "execution_count": 45,
   "metadata": {},
   "outputs": [
    {
     "name": "stdout",
     "output_type": "stream",
     "text": [
      "Average volume of predicted reserves: 94.96, RMSE: 39.87\n"
     ]
    },
    {
     "data": {
      "image/png": "[encoded data removed]",
      "text/plain": [
       "<Figure size 432x432 with 1 Axes>"
      ]
     },
     "metadata": {
      "needs_background": "light"
     },
     "output_type": "display_data"
    },
    {
     "name": "stdout",
     "output_type": "stream",
     "text": [
      "R2:  0.20003372664683905\n"
     ]
    }
   ],
   "source": [
    "#region 2\n",
    "predictions_2, y_val_2, avg_vol_2, rmse_2 = train_test(df_2)"
   ]
  },
  {
   "cell_type": "markdown",
   "metadata": {},
   "source": [
    "Predictions for region 1 are very highly correlated, partly due to the fewer distinct possibilities for outputs that are evident from the scatterplot.\n",
    "We can see that our predictions for region 0 are the better corellated with their true values than the predictions for region 2."
   ]
  },
  {
   "cell_type": "markdown",
   "metadata": {},
   "source": [
    "### Profit \n",
    "\n",
    "Our investigation was given a number of conditions:\n",
    "- When exploring the region, a study of 500 points is carried with picking the best 200 points for the profit calculation.\n",
    "- The budget for development of 200 oil wells is 100 USD million.\n",
    "- One barrel of raw materials brings 4.5 USD of revenue The revenue from one unit of product is 4,500 dollars (volume of reserves is in thousand barrels).\n",
    "- After the risk evaluation, keep only the regions with the risk of losses lower than 2.5%. From the ones that fit the criteria, the region with the highest average profit should be selected.\n",
    "\n",
    "We can store these key values as variables, allowing us to  more easily calculate the profit for given wells.\n",
    "This will allow us to calculate the volume of reserves sufficient for developing a new well without losses."
   ]
  },
  {
   "cell_type": "code",
   "execution_count": 46,
   "metadata": {},
   "outputs": [],
   "source": [
    "n = 500\n",
    "n_best = 200\n",
    "n_wells = 200\n",
    "budget = 100000000\n",
    "revenue_per_barrel = 4.5\n",
    "barrels_per_unit = 1000\n",
    "rev_per_unit = revenue_per_barrel * barrels_per_unit\n",
    "risk = 0.025\n",
    "\n",
    "without_losses = budget/n_best/(rev_per_unit)"
   ]
  },
  {
   "cell_type": "code",
   "execution_count": 47,
   "metadata": {},
   "outputs": [
    {
     "name": "stdout",
     "output_type": "stream",
     "text": [
      "The volume of reserves sufficient for developing a new well without losses is: 111.11111111111111\n"
     ]
    }
   ],
   "source": [
    "print(f'The volume of reserves sufficient for developing a new well without losses is: {without_losses}')"
   ]
  },
  {
   "cell_type": "code",
   "execution_count": 58,
   "metadata": {},
   "outputs": [],
   "source": [
    "#function to compare the volumes necessary to avoid a loss with volume in each region\n",
    "def count_over(df, n):\n",
    "    l = len(df[df['product'] >= without_losses])\n",
    "    avg = df['product'].median()\n",
    "    print(f'Median volume in region: {avg:.2f}')\n",
    "    print(f'Number of locations with product greater than {n:.2f}: {l}')\n",
    "    print(\"\"\"\n",
    "    \"\"\")"
   ]
  },
  {
   "cell_type": "code",
   "execution_count": 59,
   "metadata": {},
   "outputs": [
    {
     "name": "stdout",
     "output_type": "stream",
     "text": [
      "Median volume in region: 91.85\n",
      "Number of locations with product greater than 111.11: 36583\n",
      "\n",
      "    \n",
      "Median volume in region: 57.09\n",
      "Number of locations with product greater than 111.11: 16537\n",
      "\n",
      "    \n",
      "Median volume in region: 94.93\n",
      "Number of locations with product greater than 111.11: 38178\n",
      "\n",
      "    \n"
     ]
    }
   ],
   "source": [
    "count_over(df_0, without_losses)\n",
    "count_over(df_1, without_losses)\n",
    "count_over(df_2, without_losses)"
   ]
  },
  {
   "cell_type": "markdown",
   "metadata": {},
   "source": [
    "We can see that region 3 has the highest median volume as well as the greatest number of wells above the volume require to not make a loss."
   ]
  },
  {
   "cell_type": "markdown",
   "metadata": {},
   "source": [
    "### Profit calculation\n",
    "\n",
    "We can pick the wells with the highest predicted volume then calculate the expected profit in that region."
   ]
  },
  {
   "cell_type": "code",
   "execution_count": 60,
   "metadata": {},
   "outputs": [],
   "source": [
    "def profit(target, predictions):\n",
    "    #collecting and sorting target and probabilities\n",
    "    target = pd.Series(target).reset_index(drop=True)\n",
    "    predictions = pd.Series(predictions)\n",
    "    preds_sorted = predictions.sort_values(ascending=False)\n",
    "    #selecting the n_best number of highest predicted values\n",
    "    selected = target[preds_sorted.index][:n_best]\n",
    "    return (selected.sum()* (rev_per_unit)) - budget"
   ]
  },
  {
   "cell_type": "code",
   "execution_count": 62,
   "metadata": {},
   "outputs": [
    {
     "data": {
      "text/plain": [
       "32607814.178141803"
      ]
     },
     "execution_count": 62,
     "metadata": {},
     "output_type": "execute_result"
    }
   ],
   "source": [
    "profit(y_val_0,  predictions_0)"
   ]
  },
  {
   "cell_type": "code",
   "execution_count": 63,
   "metadata": {},
   "outputs": [
    {
     "data": {
      "text/plain": [
       "24150866.966815114"
      ]
     },
     "execution_count": 63,
     "metadata": {},
     "output_type": "execute_result"
    }
   ],
   "source": [
    "profit(y_val_1,  predictions_1)"
   ]
  },
  {
   "cell_type": "code",
   "execution_count": 64,
   "metadata": {},
   "outputs": [
    {
     "data": {
      "text/plain": [
       "25630933.521668285"
      ]
     },
     "execution_count": 64,
     "metadata": {},
     "output_type": "execute_result"
    }
   ],
   "source": [
    "profit(y_val_2,  predictions_2)"
   ]
  },
  {
   "cell_type": "markdown",
   "metadata": {},
   "source": [
    "### Calculating risk and profits\n",
    "\n",
    "We will calculate the risk and profit for each region using the bootstrapping technique with 1000 samples to find the distribution of profit, then find the average profit, 95% confidence interval and risk of losses."
   ]
  },
  {
   "cell_type": "code",
   "execution_count": 65,
   "metadata": {},
   "outputs": [],
   "source": [
    "#Function to use bootstrapping to find distribution of profits\n",
    "def bootstrap_profit(target, predictions):\n",
    "    profits = []\n",
    "    target = pd.Series(target).reset_index(drop=True)\n",
    "    state = np.random.RandomState(1)\n",
    "    for i in range(1000):\n",
    "        target_subsample = target.sample(n=n, replace=True, random_state = state)\n",
    "        preds_subsample = predictions[target_subsample.index]\n",
    "        profits.append(profit(target_subsample, preds_subsample))\n",
    "\n",
    "    profits = pd.Series(profits)\n",
    "    print(f'Percent of samples that make a profit: {100* profits.gt(0).sum()/len(profits)}%')\n",
    "\n",
    "    plt.figure(figsize=(10, 5))\n",
    "\n",
    "    plt.grid(axis = 'y', linewidth = 0.3, linestyle = \"--\")\n",
    "    #weighted to use proportion rather than absolute number\n",
    "    plt.hist(profits, weights= np.ones(len(profits)) / len(profits), bins= np.linspace(-1e7,2e7,31), edgecolor='black',  alpha = 0.7)\n",
    "    \n",
    "    plt.xlabel('Profit (Millions of Dollars)')\n",
    "    plt.ylabel('Proportion of Samples')\n",
    "    plt.title('Proportion of Samples Making a Given Profit')\n",
    "    plt.ylim(0,0.2)\n",
    "    plt.show()\n",
    "    \n",
    "    return profits\n"
   ]
  },
  {
   "cell_type": "code",
   "execution_count": 66,
   "metadata": {},
   "outputs": [
    {
     "name": "stdout",
     "output_type": "stream",
     "text": [
      "Percent of wells that make a profit: 94.8%\n"
     ]
    },
    {
     "data": {
      "image/png": "[encoded data removed]",
      "text/plain": [
       "<Figure size 720x360 with 1 Axes>"
      ]
     },
     "metadata": {
      "needs_background": "light"
     },
     "output_type": "display_data"
    }
   ],
   "source": [
    "bs0 = bootstrap_profit(y_val_0, predictions_0)"
   ]
  },
  {
   "cell_type": "code",
   "execution_count": 67,
   "metadata": {},
   "outputs": [
    {
     "name": "stdout",
     "output_type": "stream",
     "text": [
      "Percent of wells that make a profit: 99.0%\n"
     ]
    },
    {
     "data": {
      "image/png": "[encoded data removed]",
      "text/plain": [
       "<Figure size 720x360 with 1 Axes>"
      ]
     },
     "metadata": {
      "needs_background": "light"
     },
     "output_type": "display_data"
    }
   ],
   "source": [
    "bs1 = bootstrap_profit(y_val_1, predictions_1)"
   ]
  },
  {
   "cell_type": "code",
   "execution_count": 68,
   "metadata": {},
   "outputs": [
    {
     "name": "stdout",
     "output_type": "stream",
     "text": [
      "Percent of wells that make a profit: 92.7%\n"
     ]
    },
    {
     "data": {
      "image/png": "[encoded data removed]",
      "text/plain": [
       "<Figure size 720x360 with 1 Axes>"
      ]
     },
     "metadata": {
      "needs_background": "light"
     },
     "output_type": "display_data"
    }
   ],
   "source": [
    "bs2 = bootstrap_profit(y_val_2, predictions_2)"
   ]
  },
  {
   "cell_type": "markdown",
   "metadata": {},
   "source": [
    "We can see that region 1 has the highest percentage of wells making a profit. Let's look at average profit, confidence intervals and risk."
   ]
  },
  {
   "cell_type": "code",
   "execution_count": 69,
   "metadata": {},
   "outputs": [],
   "source": [
    "def find_confidence_interval(profits):\n",
    "    ci = st.t.interval(0.95, len(profits)-1, profits.mean(), profits.sem())\n",
    "    risk = len(profits[profits < 0]) / len(profits)\n",
    "    print(f'Average profit: ${profits.mean():.2f}')\n",
    "    print(f'95% confidence interval: ${ci[0]:.2f}, ${ci[1]:.2f}' )\n",
    "    print(f'The risk of losses is {risk*100}%')"
   ]
  },
  {
   "cell_type": "code",
   "execution_count": 70,
   "metadata": {},
   "outputs": [
    {
     "name": "stdout",
     "output_type": "stream",
     "text": [
      "Average profit: $4330094.00\n",
      "95% confidence interval: $4165024.10, $4495163.91\n",
      "The risk of losses is 5.2%\n"
     ]
    }
   ],
   "source": [
    "find_confidence_interval(bs0)"
   ]
  },
  {
   "cell_type": "code",
   "execution_count": 71,
   "metadata": {},
   "outputs": [
    {
     "name": "stdout",
     "output_type": "stream",
     "text": [
      "Average profit: $4751972.43\n",
      "95% confidence interval: $4628545.37, $4875399.49\n",
      "The risk of losses is 1.0%\n"
     ]
    }
   ],
   "source": [
    "find_confidence_interval(bs1)"
   ]
  },
  {
   "cell_type": "code",
   "execution_count": 72,
   "metadata": {},
   "outputs": [
    {
     "name": "stdout",
     "output_type": "stream",
     "text": [
      "Average profit: $3947512.89\n",
      "95% confidence interval: $3781853.97, $4113171.81\n",
      "The risk of losses is 7.3%\n"
     ]
    }
   ],
   "source": [
    "find_confidence_interval(bs2)"
   ]
  },
  {
   "cell_type": "markdown",
   "metadata": {},
   "source": [
    "### Findings\n",
    "\n",
    "Region 1 appears to be most appealing for development despite it having the lowest median volume and the lowest average predicted reserves across all sites.\n",
    "However, in our bootsrapped samples:\n",
    "\n",
    "- 99% of samples made a profit\n",
    "- The average profit was $4751972.43\n",
    "- Our 95% confidence interval is between $4628545.37 and $4875399.49 (Even the lower confidence limit is greater than the other two regions upper limit)\n",
    "- It has the lowest risk of losses, at "
   ]
  }
 ],
 "metadata": {
  "ExecuteTimeLog": [
   {
    "duration": 393,
    "start_time": "2022-05-16T09:17:16.009Z"
   },
   {
    "duration": 161,
    "start_time": "2022-05-16T09:18:10.966Z"
   },
   {
    "duration": 14,
    "start_time": "2022-05-16T09:18:20.926Z"
   },
   {
    "duration": 96,
    "start_time": "2022-05-16T09:18:50.764Z"
   },
   {
    "duration": 202,
    "start_time": "2022-05-16T09:19:25.333Z"
   },
   {
    "duration": 333,
    "start_time": "2022-05-16T09:19:38.304Z"
   },
   {
    "duration": 16,
    "start_time": "2022-05-16T09:19:54.308Z"
   },
   {
    "duration": 14,
    "start_time": "2022-05-16T09:20:02.835Z"
   },
   {
    "duration": 14,
    "start_time": "2022-05-16T09:20:07.954Z"
   },
   {
    "duration": 10,
    "start_time": "2022-05-16T09:20:23.310Z"
   },
   {
    "duration": 18,
    "start_time": "2022-05-16T09:20:27.183Z"
   },
   {
    "duration": 7,
    "start_time": "2022-05-16T09:45:31.078Z"
   },
   {
    "duration": 9,
    "start_time": "2022-05-16T09:45:59.163Z"
   },
   {
    "duration": 4,
    "start_time": "2022-05-16T09:46:06.871Z"
   },
   {
    "duration": 10,
    "start_time": "2022-05-16T09:46:07.447Z"
   },
   {
    "duration": 1175,
    "start_time": "2022-05-16T09:46:25.497Z"
   },
   {
    "duration": 367,
    "start_time": "2022-05-16T09:46:29.504Z"
   },
   {
    "duration": 7,
    "start_time": "2022-05-16T09:48:17.008Z"
   },
   {
    "duration": 467,
    "start_time": "2022-05-16T09:48:18.326Z"
   },
   {
    "duration": 403,
    "start_time": "2022-05-16T09:58:43.517Z"
   },
   {
    "duration": 512,
    "start_time": "2022-05-16T09:58:55.801Z"
   },
   {
    "duration": 10,
    "start_time": "2022-05-16T09:59:29.907Z"
   },
   {
    "duration": 15,
    "start_time": "2022-05-16T09:59:39.726Z"
   },
   {
    "duration": 26,
    "start_time": "2022-05-16T12:38:55.521Z"
   },
   {
    "duration": 50,
    "start_time": "2022-05-16T12:40:04.424Z"
   },
   {
    "duration": 174,
    "start_time": "2022-05-16T12:40:15.571Z"
   },
   {
    "duration": 3,
    "start_time": "2022-05-16T12:40:56.119Z"
   },
   {
    "duration": 306,
    "start_time": "2022-05-16T12:41:15.168Z"
   },
   {
    "duration": 225,
    "start_time": "2022-05-16T12:41:23.278Z"
   },
   {
    "duration": 258,
    "start_time": "2022-05-16T12:42:15.298Z"
   },
   {
    "duration": 267,
    "start_time": "2022-05-16T12:42:25.891Z"
   },
   {
    "duration": 3,
    "start_time": "2022-05-16T12:43:51.086Z"
   },
   {
    "duration": 268,
    "start_time": "2022-05-16T12:43:57.862Z"
   },
   {
    "duration": 3,
    "start_time": "2022-05-16T12:44:10.649Z"
   },
   {
    "duration": 256,
    "start_time": "2022-05-16T12:44:16.825Z"
   },
   {
    "duration": 3,
    "start_time": "2022-05-16T12:44:36.124Z"
   },
   {
    "duration": 248,
    "start_time": "2022-05-16T12:44:41.868Z"
   },
   {
    "duration": 4,
    "start_time": "2022-05-16T12:44:49.853Z"
   },
   {
    "duration": 255,
    "start_time": "2022-05-16T12:44:55.246Z"
   },
   {
    "duration": 4,
    "start_time": "2022-05-16T12:45:09.359Z"
   },
   {
    "duration": 269,
    "start_time": "2022-05-16T12:45:15.168Z"
   },
   {
    "duration": 265,
    "start_time": "2022-05-16T12:45:21.890Z"
   },
   {
    "duration": 262,
    "start_time": "2022-05-16T12:45:28.577Z"
   },
   {
    "duration": 374,
    "start_time": "2022-05-16T12:45:42.819Z"
   },
   {
    "duration": 237,
    "start_time": "2022-05-16T12:46:15.991Z"
   },
   {
    "duration": 291,
    "start_time": "2022-05-16T12:46:33.908Z"
   },
   {
    "duration": 117,
    "start_time": "2022-05-16T12:51:06.085Z"
   },
   {
    "duration": 10,
    "start_time": "2022-05-16T12:51:12.877Z"
   },
   {
    "duration": 116,
    "start_time": "2022-05-16T12:51:16.221Z"
   },
   {
    "duration": 10,
    "start_time": "2022-05-16T12:51:16.462Z"
   },
   {
    "duration": 3,
    "start_time": "2022-05-16T12:51:26.423Z"
   },
   {
    "duration": 44,
    "start_time": "2022-05-16T12:51:26.646Z"
   },
   {
    "duration": 3,
    "start_time": "2022-05-16T12:51:52.099Z"
   },
   {
    "duration": 45,
    "start_time": "2022-05-16T12:51:53.509Z"
   },
   {
    "duration": 8,
    "start_time": "2022-05-16T12:54:58.478Z"
   },
   {
    "duration": 546,
    "start_time": "2022-05-16T12:54:58.692Z"
   },
   {
    "duration": 378,
    "start_time": "2022-05-16T12:55:04.115Z"
   },
   {
    "duration": 521,
    "start_time": "2022-05-16T12:55:06.683Z"
   },
   {
    "duration": 524,
    "start_time": "2022-05-16T13:01:28.365Z"
   },
   {
    "duration": 385,
    "start_time": "2022-05-16T13:01:53.612Z"
   },
   {
    "duration": 530,
    "start_time": "2022-05-16T13:02:04.177Z"
   },
   {
    "duration": 3,
    "start_time": "2022-05-16T13:04:15.330Z"
   },
   {
    "duration": 5,
    "start_time": "2022-05-16T13:04:21.922Z"
   },
   {
    "duration": 502,
    "start_time": "2022-05-16T13:04:22.194Z"
   },
   {
    "duration": 475,
    "start_time": "2022-05-16T13:04:22.698Z"
   },
   {
    "duration": 523,
    "start_time": "2022-05-16T13:04:23.266Z"
   },
   {
    "duration": 8,
    "start_time": "2022-05-18T09:04:58.291Z"
   },
   {
    "duration": 50,
    "start_time": "2022-05-18T09:04:58.492Z"
   },
   {
    "duration": 5,
    "start_time": "2022-05-18T09:05:11.580Z"
   },
   {
    "duration": 5,
    "start_time": "2022-05-18T09:05:22.261Z"
   },
   {
    "duration": 3,
    "start_time": "2022-05-18T09:05:25.816Z"
   },
   {
    "duration": 3,
    "start_time": "2022-05-18T09:05:26.000Z"
   },
   {
    "duration": 1316,
    "start_time": "2022-05-18T09:06:04.117Z"
   },
   {
    "duration": 3,
    "start_time": "2022-05-18T09:06:05.435Z"
   },
   {
    "duration": 1630,
    "start_time": "2022-05-18T09:06:05.439Z"
   },
   {
    "duration": 3,
    "start_time": "2022-05-18T09:06:07.072Z"
   },
   {
    "duration": 54,
    "start_time": "2022-05-18T09:06:07.077Z"
   },
   {
    "duration": 13,
    "start_time": "2022-05-18T09:06:07.132Z"
   },
   {
    "duration": 29,
    "start_time": "2022-05-18T09:06:07.146Z"
   },
   {
    "duration": 14,
    "start_time": "2022-05-18T09:06:07.176Z"
   },
   {
    "duration": 11,
    "start_time": "2022-05-18T09:06:07.192Z"
   },
   {
    "duration": 16,
    "start_time": "2022-05-18T09:06:07.205Z"
   },
   {
    "duration": 384,
    "start_time": "2022-05-18T09:06:07.223Z"
   },
   {
    "duration": 4,
    "start_time": "2022-05-18T09:06:07.609Z"
   },
   {
    "duration": 507,
    "start_time": "2022-05-18T09:06:07.615Z"
   },
   {
    "duration": 361,
    "start_time": "2022-05-18T09:06:08.124Z"
   },
   {
    "duration": 542,
    "start_time": "2022-05-18T09:06:08.486Z"
   },
   {
    "duration": 3,
    "start_time": "2022-05-18T09:06:09.030Z"
   },
   {
    "duration": 7,
    "start_time": "2022-05-18T09:06:09.034Z"
   },
   {
    "duration": 187,
    "start_time": "2022-05-18T09:09:44.894Z"
   },
   {
    "duration": 16,
    "start_time": "2022-05-18T09:10:06.763Z"
   },
   {
    "duration": 8,
    "start_time": "2022-05-18T09:10:21.718Z"
   },
   {
    "duration": 120,
    "start_time": "2022-05-18T09:12:03.562Z"
   },
   {
    "duration": 39,
    "start_time": "2022-05-18T09:12:07.775Z"
   },
   {
    "duration": 10,
    "start_time": "2022-05-18T09:12:08.531Z"
   },
   {
    "duration": 3,
    "start_time": "2022-05-18T09:12:15.333Z"
   },
   {
    "duration": 6,
    "start_time": "2022-05-18T09:12:15.862Z"
   },
   {
    "duration": 12,
    "start_time": "2022-05-18T09:12:29.093Z"
   },
   {
    "duration": 3,
    "start_time": "2022-05-18T09:12:42.387Z"
   },
   {
    "duration": 14,
    "start_time": "2022-05-18T09:12:42.630Z"
   },
   {
    "duration": 3,
    "start_time": "2022-05-18T09:13:41.809Z"
   },
   {
    "duration": 3,
    "start_time": "2022-05-18T09:13:42.192Z"
   },
   {
    "duration": 3,
    "start_time": "2022-05-18T09:13:42.480Z"
   },
   {
    "duration": 15,
    "start_time": "2022-05-18T09:13:42.755Z"
   },
   {
    "duration": 3,
    "start_time": "2022-05-18T09:20:53.414Z"
   },
   {
    "duration": 7,
    "start_time": "2022-05-18T09:21:08.686Z"
   },
   {
    "duration": 3,
    "start_time": "2022-05-18T09:22:04.821Z"
   },
   {
    "duration": 3,
    "start_time": "2022-05-18T09:22:05.053Z"
   },
   {
    "duration": 3,
    "start_time": "2022-05-18T09:23:25.528Z"
   },
   {
    "duration": 3,
    "start_time": "2022-05-18T09:25:46.954Z"
   },
   {
    "duration": 20,
    "start_time": "2022-05-18T09:25:49.194Z"
   },
   {
    "duration": 4,
    "start_time": "2022-05-18T09:25:55.514Z"
   },
   {
    "duration": 9,
    "start_time": "2022-05-18T09:25:55.798Z"
   },
   {
    "duration": 9,
    "start_time": "2022-05-18T09:26:19.862Z"
   },
   {
    "duration": 8,
    "start_time": "2022-05-18T09:26:29.311Z"
   },
   {
    "duration": 8,
    "start_time": "2022-05-18T09:26:35.767Z"
   },
   {
    "duration": 45,
    "start_time": "2022-05-18T10:03:33.220Z"
   },
   {
    "duration": 5,
    "start_time": "2022-05-18T10:03:45.858Z"
   },
   {
    "duration": 1249,
    "start_time": "2022-05-18T10:04:26.264Z"
   },
   {
    "duration": 6,
    "start_time": "2022-05-18T10:04:45.165Z"
   },
   {
    "duration": 1111,
    "start_time": "2022-05-18T10:04:46.785Z"
   },
   {
    "duration": 6,
    "start_time": "2022-05-18T10:05:35.517Z"
   },
   {
    "duration": 967,
    "start_time": "2022-05-18T10:05:35.747Z"
   },
   {
    "duration": 8,
    "start_time": "2022-05-18T10:05:42.732Z"
   },
   {
    "duration": 1096,
    "start_time": "2022-05-18T10:05:44.441Z"
   },
   {
    "duration": 6,
    "start_time": "2022-05-18T10:06:20.441Z"
   },
   {
    "duration": 1040,
    "start_time": "2022-05-18T10:06:21.125Z"
   },
   {
    "duration": 6,
    "start_time": "2022-05-18T10:06:57.524Z"
   },
   {
    "duration": 1175,
    "start_time": "2022-05-18T10:06:58.899Z"
   },
   {
    "duration": 5,
    "start_time": "2022-05-18T10:07:43.616Z"
   },
   {
    "duration": 1161,
    "start_time": "2022-05-18T10:07:43.842Z"
   },
   {
    "duration": 60,
    "start_time": "2022-05-18T10:09:12.285Z"
   },
   {
    "duration": 1150,
    "start_time": "2022-05-18T10:09:12.486Z"
   },
   {
    "duration": 5,
    "start_time": "2022-05-18T10:09:25.770Z"
   },
   {
    "duration": 1245,
    "start_time": "2022-05-18T10:09:26.018Z"
   },
   {
    "duration": 4,
    "start_time": "2022-05-18T10:10:25.798Z"
   },
   {
    "duration": 1085,
    "start_time": "2022-05-18T10:10:25.998Z"
   },
   {
    "duration": 211,
    "start_time": "2022-05-18T10:10:37.288Z"
   },
   {
    "duration": 4,
    "start_time": "2022-05-18T10:10:40.558Z"
   },
   {
    "duration": 1095,
    "start_time": "2022-05-18T10:10:40.759Z"
   },
   {
    "duration": 160,
    "start_time": "2022-05-18T10:11:41.230Z"
   },
   {
    "duration": 1390,
    "start_time": "2022-05-18T10:11:41.471Z"
   },
   {
    "duration": 6,
    "start_time": "2022-05-18T10:11:46.872Z"
   },
   {
    "duration": 1278,
    "start_time": "2022-05-18T10:11:47.279Z"
   },
   {
    "duration": 4,
    "start_time": "2022-05-18T10:11:57.720Z"
   },
   {
    "duration": 1112,
    "start_time": "2022-05-18T10:11:58.312Z"
   },
   {
    "duration": 7,
    "start_time": "2022-05-18T10:12:25.189Z"
   },
   {
    "duration": 1150,
    "start_time": "2022-05-18T10:12:26.413Z"
   },
   {
    "duration": 5,
    "start_time": "2022-05-18T10:12:39.262Z"
   },
   {
    "duration": 1173,
    "start_time": "2022-05-18T10:12:40.528Z"
   },
   {
    "duration": 5,
    "start_time": "2022-05-18T10:13:21.116Z"
   },
   {
    "duration": 1214,
    "start_time": "2022-05-18T10:13:21.475Z"
   },
   {
    "duration": 5,
    "start_time": "2022-05-18T10:13:29.724Z"
   },
   {
    "duration": 1181,
    "start_time": "2022-05-18T10:13:30.003Z"
   },
   {
    "duration": 6,
    "start_time": "2022-05-18T10:13:51.089Z"
   },
   {
    "duration": 1215,
    "start_time": "2022-05-18T10:13:51.310Z"
   },
   {
    "duration": 5,
    "start_time": "2022-05-18T10:13:54.568Z"
   },
   {
    "duration": 1292,
    "start_time": "2022-05-18T10:13:55.144Z"
   },
   {
    "duration": 5,
    "start_time": "2022-05-18T10:14:05.400Z"
   },
   {
    "duration": 1270,
    "start_time": "2022-05-18T10:14:05.616Z"
   },
   {
    "duration": 5,
    "start_time": "2022-05-18T10:14:50.494Z"
   },
   {
    "duration": 1192,
    "start_time": "2022-05-18T10:14:50.716Z"
   },
   {
    "duration": 5,
    "start_time": "2022-05-18T12:48:48.196Z"
   },
   {
    "duration": 1189,
    "start_time": "2022-05-18T12:48:49.417Z"
   },
   {
    "duration": 5,
    "start_time": "2022-05-18T12:51:15.535Z"
   },
   {
    "duration": 1183,
    "start_time": "2022-05-18T12:51:16.485Z"
   },
   {
    "duration": 7,
    "start_time": "2022-05-18T12:51:34.061Z"
   },
   {
    "duration": 1140,
    "start_time": "2022-05-18T12:51:34.264Z"
   },
   {
    "duration": 5,
    "start_time": "2022-05-18T12:51:48.648Z"
   },
   {
    "duration": 1180,
    "start_time": "2022-05-18T12:51:49.247Z"
   },
   {
    "duration": 6,
    "start_time": "2022-05-18T12:52:40.543Z"
   },
   {
    "duration": 1095,
    "start_time": "2022-05-18T12:52:40.750Z"
   },
   {
    "duration": 6,
    "start_time": "2022-05-18T12:54:16.762Z"
   },
   {
    "duration": 1170,
    "start_time": "2022-05-18T12:54:17.292Z"
   },
   {
    "duration": 6,
    "start_time": "2022-05-18T12:55:38.503Z"
   },
   {
    "duration": 1125,
    "start_time": "2022-05-18T12:55:38.694Z"
   },
   {
    "duration": 9,
    "start_time": "2022-05-18T12:56:09.053Z"
   },
   {
    "duration": 1147,
    "start_time": "2022-05-18T12:56:09.251Z"
   },
   {
    "duration": 1252,
    "start_time": "2022-05-18T12:56:28.294Z"
   },
   {
    "duration": 1133,
    "start_time": "2022-05-18T12:56:37.244Z"
   },
   {
    "duration": 1114,
    "start_time": "2022-05-18T12:57:07.215Z"
   },
   {
    "duration": 6,
    "start_time": "2022-05-18T12:57:35.085Z"
   },
   {
    "duration": 1125,
    "start_time": "2022-05-18T12:57:35.261Z"
   },
   {
    "duration": 1125,
    "start_time": "2022-05-18T12:57:36.388Z"
   },
   {
    "duration": 1111,
    "start_time": "2022-05-18T12:57:37.514Z"
   },
   {
    "duration": 6,
    "start_time": "2022-05-18T12:57:55.261Z"
   },
   {
    "duration": 1101,
    "start_time": "2022-05-18T12:57:55.461Z"
   },
   {
    "duration": 1107,
    "start_time": "2022-05-18T12:57:56.564Z"
   },
   {
    "duration": 1080,
    "start_time": "2022-05-18T12:57:57.675Z"
   },
   {
    "duration": 1135,
    "start_time": "2022-05-18T12:58:44.873Z"
   },
   {
    "duration": 3,
    "start_time": "2022-05-18T12:58:46.009Z"
   },
   {
    "duration": 817,
    "start_time": "2022-05-18T12:58:46.013Z"
   },
   {
    "duration": 3,
    "start_time": "2022-05-18T12:58:46.832Z"
   },
   {
    "duration": 52,
    "start_time": "2022-05-18T12:58:46.837Z"
   },
   {
    "duration": 48,
    "start_time": "2022-05-18T12:58:46.891Z"
   },
   {
    "duration": 62,
    "start_time": "2022-05-18T12:58:46.941Z"
   },
   {
    "duration": 359,
    "start_time": "2022-05-18T12:58:47.005Z"
   },
   {
    "duration": 12,
    "start_time": "2022-05-18T12:58:47.366Z"
   },
   {
    "duration": 393,
    "start_time": "2022-05-18T12:58:47.381Z"
   },
   {
    "duration": 369,
    "start_time": "2022-05-18T12:58:47.776Z"
   },
   {
    "duration": 421,
    "start_time": "2022-05-18T12:58:48.146Z"
   },
   {
    "duration": 3,
    "start_time": "2022-05-18T12:58:48.574Z"
   },
   {
    "duration": 6,
    "start_time": "2022-05-18T12:58:48.578Z"
   },
   {
    "duration": 5,
    "start_time": "2022-05-18T12:58:48.585Z"
   },
   {
    "duration": 16,
    "start_time": "2022-05-18T12:58:48.592Z"
   },
   {
    "duration": 3,
    "start_time": "2022-05-18T12:58:48.610Z"
   },
   {
    "duration": 12,
    "start_time": "2022-05-18T12:58:48.614Z"
   },
   {
    "duration": 8,
    "start_time": "2022-05-18T12:58:48.627Z"
   },
   {
    "duration": 8,
    "start_time": "2022-05-18T12:58:48.637Z"
   },
   {
    "duration": 32,
    "start_time": "2022-05-18T12:58:48.647Z"
   },
   {
    "duration": 1097,
    "start_time": "2022-05-18T12:58:48.681Z"
   },
   {
    "duration": 1073,
    "start_time": "2022-05-18T12:58:49.779Z"
   },
   {
    "duration": 1075,
    "start_time": "2022-05-18T12:58:50.854Z"
   },
   {
    "duration": 1211,
    "start_time": "2022-05-18T14:37:10.952Z"
   },
   {
    "duration": 3,
    "start_time": "2022-05-18T14:37:12.165Z"
   },
   {
    "duration": 825,
    "start_time": "2022-05-18T14:37:12.169Z"
   },
   {
    "duration": 4,
    "start_time": "2022-05-18T14:37:12.996Z"
   },
   {
    "duration": 73,
    "start_time": "2022-05-18T14:37:13.003Z"
   },
   {
    "duration": 61,
    "start_time": "2022-05-18T14:37:13.078Z"
   },
   {
    "duration": 71,
    "start_time": "2022-05-18T14:37:13.143Z"
   },
   {
    "duration": 401,
    "start_time": "2022-05-18T14:37:13.216Z"
   },
   {
    "duration": 5,
    "start_time": "2022-05-18T14:37:13.618Z"
   },
   {
    "duration": 462,
    "start_time": "2022-05-18T14:37:13.625Z"
   },
   {
    "duration": 376,
    "start_time": "2022-05-18T14:37:14.089Z"
   },
   {
    "duration": 429,
    "start_time": "2022-05-18T14:37:14.467Z"
   },
   {
    "duration": 4,
    "start_time": "2022-05-18T14:37:14.898Z"
   },
   {
    "duration": 6,
    "start_time": "2022-05-18T14:37:14.904Z"
   },
   {
    "duration": 7,
    "start_time": "2022-05-18T14:37:14.912Z"
   },
   {
    "duration": 19,
    "start_time": "2022-05-18T14:37:14.920Z"
   },
   {
    "duration": 4,
    "start_time": "2022-05-18T14:37:14.940Z"
   },
   {
    "duration": 34,
    "start_time": "2022-05-18T14:37:14.945Z"
   },
   {
    "duration": 13,
    "start_time": "2022-05-18T14:37:14.982Z"
   },
   {
    "duration": 10,
    "start_time": "2022-05-18T14:37:14.996Z"
   },
   {
    "duration": 7,
    "start_time": "2022-05-18T14:37:15.008Z"
   },
   {
    "duration": 1295,
    "start_time": "2022-05-18T14:37:15.017Z"
   },
   {
    "duration": 1219,
    "start_time": "2022-05-18T14:37:16.314Z"
   },
   {
    "duration": 1187,
    "start_time": "2022-05-18T14:37:17.535Z"
   },
   {
    "duration": 4,
    "start_time": "2022-05-18T14:38:42.010Z"
   },
   {
    "duration": 142,
    "start_time": "2022-05-18T14:39:03.112Z"
   },
   {
    "duration": 5,
    "start_time": "2022-05-18T14:39:25.615Z"
   },
   {
    "duration": 10,
    "start_time": "2022-05-18T14:39:29.711Z"
   },
   {
    "duration": 4,
    "start_time": "2022-05-18T14:40:12.918Z"
   },
   {
    "duration": 8,
    "start_time": "2022-05-18T14:40:13.142Z"
   },
   {
    "duration": 5,
    "start_time": "2022-05-18T14:41:12.933Z"
   },
   {
    "duration": 9,
    "start_time": "2022-05-18T14:41:13.140Z"
   },
   {
    "duration": 4,
    "start_time": "2022-05-18T14:41:30.792Z"
   },
   {
    "duration": 7,
    "start_time": "2022-05-18T14:41:31.296Z"
   },
   {
    "duration": 4,
    "start_time": "2022-05-18T14:41:50.738Z"
   },
   {
    "duration": 8,
    "start_time": "2022-05-18T14:41:51.170Z"
   },
   {
    "duration": 1187,
    "start_time": "2022-05-18T14:42:15.845Z"
   },
   {
    "duration": 4,
    "start_time": "2022-05-18T14:42:17.035Z"
   },
   {
    "duration": 598,
    "start_time": "2022-05-18T14:42:17.041Z"
   },
   {
    "duration": 7,
    "start_time": "2022-05-18T14:42:17.644Z"
   },
   {
    "duration": 70,
    "start_time": "2022-05-18T14:42:17.653Z"
   },
   {
    "duration": 72,
    "start_time": "2022-05-18T14:42:17.725Z"
   },
   {
    "duration": 60,
    "start_time": "2022-05-18T14:42:17.799Z"
   },
   {
    "duration": 397,
    "start_time": "2022-05-18T14:42:17.861Z"
   },
   {
    "duration": 5,
    "start_time": "2022-05-18T14:42:18.259Z"
   },
   {
    "duration": 520,
    "start_time": "2022-05-18T14:42:18.267Z"
   },
   {
    "duration": 400,
    "start_time": "2022-05-18T14:42:18.788Z"
   },
   {
    "duration": 461,
    "start_time": "2022-05-18T14:42:19.190Z"
   },
   {
    "duration": 4,
    "start_time": "2022-05-18T14:42:19.653Z"
   },
   {
    "duration": 36,
    "start_time": "2022-05-18T14:42:19.659Z"
   },
   {
    "duration": 16,
    "start_time": "2022-05-18T14:42:19.697Z"
   },
   {
    "duration": 23,
    "start_time": "2022-05-18T14:42:19.715Z"
   },
   {
    "duration": 4,
    "start_time": "2022-05-18T14:42:19.740Z"
   },
   {
    "duration": 16,
    "start_time": "2022-05-18T14:42:19.745Z"
   },
   {
    "duration": 10,
    "start_time": "2022-05-18T14:42:19.762Z"
   },
   {
    "duration": 13,
    "start_time": "2022-05-18T14:42:19.773Z"
   },
   {
    "duration": 23,
    "start_time": "2022-05-18T14:42:19.788Z"
   },
   {
    "duration": 1304,
    "start_time": "2022-05-18T14:42:19.813Z"
   },
   {
    "duration": 1244,
    "start_time": "2022-05-18T14:42:21.118Z"
   },
   {
    "duration": 1290,
    "start_time": "2022-05-18T14:42:22.363Z"
   },
   {
    "duration": 5,
    "start_time": "2022-05-18T14:42:23.655Z"
   },
   {
    "duration": 22,
    "start_time": "2022-05-18T14:42:23.662Z"
   },
   {
    "duration": 51,
    "start_time": "2022-05-20T13:13:32.086Z"
   },
   {
    "duration": 1406,
    "start_time": "2022-05-20T13:13:46.051Z"
   },
   {
    "duration": 3,
    "start_time": "2022-05-20T13:13:47.458Z"
   },
   {
    "duration": 1579,
    "start_time": "2022-05-20T13:13:47.463Z"
   },
   {
    "duration": 3,
    "start_time": "2022-05-20T13:13:49.044Z"
   },
   {
    "duration": 48,
    "start_time": "2022-05-20T13:13:49.049Z"
   },
   {
    "duration": 40,
    "start_time": "2022-05-20T13:13:49.098Z"
   },
   {
    "duration": 49,
    "start_time": "2022-05-20T13:13:49.140Z"
   },
   {
    "duration": 288,
    "start_time": "2022-05-20T13:13:49.191Z"
   },
   {
    "duration": 5,
    "start_time": "2022-05-20T13:13:49.480Z"
   },
   {
    "duration": 383,
    "start_time": "2022-05-20T13:13:49.487Z"
   },
   {
    "duration": 405,
    "start_time": "2022-05-20T13:13:49.872Z"
   },
   {
    "duration": 397,
    "start_time": "2022-05-20T13:13:50.279Z"
   },
   {
    "duration": 4,
    "start_time": "2022-05-20T13:13:50.678Z"
   },
   {
    "duration": 9,
    "start_time": "2022-05-20T13:13:50.684Z"
   },
   {
    "duration": 4,
    "start_time": "2022-05-20T13:13:50.695Z"
   },
   {
    "duration": 19,
    "start_time": "2022-05-20T13:13:50.700Z"
   },
   {
    "duration": 4,
    "start_time": "2022-05-20T13:13:50.721Z"
   },
   {
    "duration": 13,
    "start_time": "2022-05-20T13:13:50.726Z"
   },
   {
    "duration": 39,
    "start_time": "2022-05-20T13:13:50.740Z"
   },
   {
    "duration": 7,
    "start_time": "2022-05-20T13:13:50.781Z"
   },
   {
    "duration": 5,
    "start_time": "2022-05-20T13:13:50.790Z"
   },
   {
    "duration": 1104,
    "start_time": "2022-05-20T13:13:50.797Z"
   },
   {
    "duration": 1143,
    "start_time": "2022-05-20T13:13:51.903Z"
   },
   {
    "duration": 982,
    "start_time": "2022-05-20T13:13:53.048Z"
   },
   {
    "duration": 3,
    "start_time": "2022-05-20T13:13:54.032Z"
   },
   {
    "duration": 11,
    "start_time": "2022-05-20T13:13:54.037Z"
   },
   {
    "duration": 14,
    "start_time": "2022-05-20T13:13:54.049Z"
   },
   {
    "duration": 5,
    "start_time": "2022-05-20T13:16:44.214Z"
   },
   {
    "duration": 5,
    "start_time": "2022-05-20T13:17:18.673Z"
   },
   {
    "duration": 6,
    "start_time": "2022-05-20T13:17:18.856Z"
   },
   {
    "duration": 5,
    "start_time": "2022-05-20T13:17:19.038Z"
   },
   {
    "duration": 5,
    "start_time": "2022-05-20T13:17:19.708Z"
   },
   {
    "duration": 271,
    "start_time": "2022-05-20T14:09:34.766Z"
   },
   {
    "duration": 366,
    "start_time": "2022-05-20T14:11:24.459Z"
   },
   {
    "duration": 279,
    "start_time": "2022-05-20T14:11:38.810Z"
   },
   {
    "duration": 286,
    "start_time": "2022-05-20T14:11:44.635Z"
   },
   {
    "duration": 284,
    "start_time": "2022-05-20T14:11:52.395Z"
   },
   {
    "duration": 277,
    "start_time": "2022-05-20T14:11:57.702Z"
   },
   {
    "duration": 277,
    "start_time": "2022-05-20T14:12:10.872Z"
   },
   {
    "duration": 370,
    "start_time": "2022-05-20T14:12:16.880Z"
   },
   {
    "duration": 4,
    "start_time": "2022-05-20T14:20:32.631Z"
   },
   {
    "duration": 383,
    "start_time": "2022-05-20T14:20:44.974Z"
   },
   {
    "duration": 315,
    "start_time": "2022-05-20T14:20:54.428Z"
   },
   {
    "duration": 436,
    "start_time": "2022-05-20T14:21:11.033Z"
   },
   {
    "duration": 3,
    "start_time": "2022-05-20T14:26:21.994Z"
   },
   {
    "duration": 3,
    "start_time": "2022-05-20T14:26:23.568Z"
   },
   {
    "duration": 46,
    "start_time": "2022-05-20T14:28:49.353Z"
   },
   {
    "duration": 35,
    "start_time": "2022-05-20T14:29:04.397Z"
   },
   {
    "duration": 3,
    "start_time": "2022-05-20T14:29:43.764Z"
   },
   {
    "duration": 20,
    "start_time": "2022-05-20T14:29:45.094Z"
   },
   {
    "duration": 4,
    "start_time": "2022-05-20T14:30:00.158Z"
   },
   {
    "duration": 3,
    "start_time": "2022-05-20T14:30:03.104Z"
   },
   {
    "duration": 3,
    "start_time": "2022-05-20T14:30:06.245Z"
   },
   {
    "duration": 20,
    "start_time": "2022-05-20T14:30:06.962Z"
   },
   {
    "duration": 3,
    "start_time": "2022-05-20T14:30:33.091Z"
   },
   {
    "duration": 22,
    "start_time": "2022-05-20T14:30:33.531Z"
   },
   {
    "duration": 3,
    "start_time": "2022-05-20T14:30:40.196Z"
   },
   {
    "duration": 18,
    "start_time": "2022-05-20T14:30:40.457Z"
   },
   {
    "duration": 3,
    "start_time": "2022-05-20T14:33:09.584Z"
   },
   {
    "duration": 8,
    "start_time": "2022-05-20T14:33:12.473Z"
   },
   {
    "duration": 8,
    "start_time": "2022-05-20T14:33:22.713Z"
   },
   {
    "duration": 10,
    "start_time": "2022-05-20T14:33:22.850Z"
   },
   {
    "duration": 9,
    "start_time": "2022-05-20T14:33:23.250Z"
   },
   {
    "duration": 5,
    "start_time": "2022-05-20T14:56:02.339Z"
   },
   {
    "duration": 1119,
    "start_time": "2022-05-20T14:56:02.549Z"
   },
   {
    "duration": 1040,
    "start_time": "2022-05-20T14:56:03.674Z"
   },
   {
    "duration": 1020,
    "start_time": "2022-05-20T14:56:04.716Z"
   },
   {
    "duration": 4,
    "start_time": "2022-05-20T14:57:35.300Z"
   },
   {
    "duration": 6,
    "start_time": "2022-05-20T14:57:35.789Z"
   },
   {
    "duration": 6,
    "start_time": "2022-05-20T14:57:36.214Z"
   },
   {
    "duration": 6,
    "start_time": "2022-05-20T14:57:36.519Z"
   }
  ],
  "kernelspec": {
   "display_name": "Python 3",
   "language": "python",
   "name": "python3"
  },
  "language_info": {
   "codemirror_mode": {
    "name": "ipython",
    "version": 3
   },
   "file_extension": ".py",
   "mimetype": "text/x-python",
   "name": "python",
   "nbconvert_exporter": "python",
   "pygments_lexer": "ipython3",
   "version": "3.8.5"
  },
  "toc": {
   "base_numbering": 1,
   "nav_menu": {},
   "number_sections": true,
   "sideBar": true,
   "skip_h1_title": true,
   "title_cell": "Table of Contents",
   "title_sidebar": "Contents",
   "toc_cell": false,
   "toc_position": {},
   "toc_section_display": true,
   "toc_window_display": false
  }
 },
 "nbformat": 4,
 "nbformat_minor": 2
}
