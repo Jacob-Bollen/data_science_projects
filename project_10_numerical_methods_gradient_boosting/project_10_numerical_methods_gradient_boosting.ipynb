{
 "cells": [
  {
   "cell_type": "markdown",
   "metadata": {},
   "source": [
    "Rusty Bargain used car sales service is developing an app to attract new customers. In that app, you can quickly find out the market value of your car. You have access to historical data: technical specifications, trim versions, and prices. You need to build the model to determine the value. \n",
    "\n",
    "Rusty Bargain is interested in:\n",
    "\n",
    "- the quality of the prediction;\n",
    "- the speed of the prediction;\n",
    "- the time required for training"
   ]
  },
  {
   "cell_type": "markdown",
   "metadata": {},
   "source": [
    "## Data preparation"
   ]
  },
  {
   "cell_type": "code",
   "execution_count": 1,
   "metadata": {},
   "outputs": [],
   "source": [
    "#importing libraries\n",
    "import numpy as np\n",
    "import pandas as pd\n",
    "import csv\n",
    "import matplotlib.pyplot as plt\n",
    "import pandas as pd\n",
    "from datetime import datetime\n",
    "import seaborn as sns\n",
    "import time\n",
    "from itertools import product\n",
    "\n",
    "\n",
    "from sklearn.preprocessing import MinMaxScaler\n",
    "from sklearn.preprocessing import LabelEncoder\n",
    "from sklearn.preprocessing import OneHotEncoder\n",
    "from sklearn.model_selection import train_test_split\n",
    "from sklearn import tree\n",
    "from sklearn.model_selection import GridSearchCV\n",
    "from sklearn.compose import make_column_transformer\n",
    "\n",
    "from sklearn.ensemble import RandomForestRegressor\n",
    "\n",
    "from sklearn.metrics import mean_squared_error\n",
    "\n",
    "import xgboost as xgb\n",
    "\n",
    "from sklearn.linear_model import LinearRegression\n",
    "\n",
    "import lightgbm as lgb\n",
    "\n",
    "from catboost import CatBoostRegressor"
   ]
  },
  {
   "cell_type": "code",
   "execution_count": 2,
   "metadata": {},
   "outputs": [],
   "source": [
    "pd.options.mode.chained_assignment = None  # default='warn'"
   ]
  },
  {
   "cell_type": "code",
   "execution_count": 3,
   "metadata": {},
   "outputs": [],
   "source": [
    "#importing data\n",
    "df = pd.read_csv('/datasets/car_data.csv')"
   ]
  },
  {
   "cell_type": "code",
   "execution_count": 4,
   "metadata": {},
   "outputs": [
    {
     "data": {
      "text/html": [
       "<div>\n",
       "<style scoped>\n",
       "    .dataframe tbody tr th:only-of-type {\n",
       "        vertical-align: middle;\n",
       "    }\n",
       "\n",
       "    .dataframe tbody tr th {\n",
       "        vertical-align: top;\n",
       "    }\n",
       "\n",
       "    .dataframe thead th {\n",
       "        text-align: right;\n",
       "    }\n",
       "</style>\n",
       "<table border=\"1\" class=\"dataframe\">\n",
       "  <thead>\n",
       "    <tr style=\"text-align: right;\">\n",
       "      <th></th>\n",
       "      <th>DateCrawled</th>\n",
       "      <th>Price</th>\n",
       "      <th>VehicleType</th>\n",
       "      <th>RegistrationYear</th>\n",
       "      <th>Gearbox</th>\n",
       "      <th>Power</th>\n",
       "      <th>Model</th>\n",
       "      <th>Mileage</th>\n",
       "      <th>RegistrationMonth</th>\n",
       "      <th>FuelType</th>\n",
       "      <th>Brand</th>\n",
       "      <th>NotRepaired</th>\n",
       "      <th>DateCreated</th>\n",
       "      <th>NumberOfPictures</th>\n",
       "      <th>PostalCode</th>\n",
       "      <th>LastSeen</th>\n",
       "    </tr>\n",
       "  </thead>\n",
       "  <tbody>\n",
       "    <tr>\n",
       "      <th>323454</th>\n",
       "      <td>08/03/2016 07:36</td>\n",
       "      <td>0</td>\n",
       "      <td>bus</td>\n",
       "      <td>1996</td>\n",
       "      <td>manual</td>\n",
       "      <td>116</td>\n",
       "      <td>transporter</td>\n",
       "      <td>150000</td>\n",
       "      <td>8</td>\n",
       "      <td>petrol</td>\n",
       "      <td>volkswagen</td>\n",
       "      <td>no</td>\n",
       "      <td>08/03/2016 00:00</td>\n",
       "      <td>0</td>\n",
       "      <td>15926</td>\n",
       "      <td>05/04/2016 23:18</td>\n",
       "    </tr>\n",
       "    <tr>\n",
       "      <th>26195</th>\n",
       "      <td>26/03/2016 21:51</td>\n",
       "      <td>11800</td>\n",
       "      <td>sedan</td>\n",
       "      <td>2011</td>\n",
       "      <td>auto</td>\n",
       "      <td>156</td>\n",
       "      <td>other</td>\n",
       "      <td>40000</td>\n",
       "      <td>2</td>\n",
       "      <td>petrol</td>\n",
       "      <td>citroen</td>\n",
       "      <td>no</td>\n",
       "      <td>26/03/2016 00:00</td>\n",
       "      <td>0</td>\n",
       "      <td>90587</td>\n",
       "      <td>06/04/2016 14:17</td>\n",
       "    </tr>\n",
       "    <tr>\n",
       "      <th>251594</th>\n",
       "      <td>29/03/2016 12:53</td>\n",
       "      <td>200</td>\n",
       "      <td>small</td>\n",
       "      <td>1995</td>\n",
       "      <td>manual</td>\n",
       "      <td>60</td>\n",
       "      <td>corsa</td>\n",
       "      <td>150000</td>\n",
       "      <td>9</td>\n",
       "      <td>NaN</td>\n",
       "      <td>opel</td>\n",
       "      <td>NaN</td>\n",
       "      <td>29/03/2016 00:00</td>\n",
       "      <td>0</td>\n",
       "      <td>67308</td>\n",
       "      <td>29/03/2016 12:53</td>\n",
       "    </tr>\n",
       "    <tr>\n",
       "      <th>197310</th>\n",
       "      <td>15/03/2016 21:50</td>\n",
       "      <td>7350</td>\n",
       "      <td>small</td>\n",
       "      <td>2011</td>\n",
       "      <td>NaN</td>\n",
       "      <td>71</td>\n",
       "      <td>fortwo</td>\n",
       "      <td>30000</td>\n",
       "      <td>11</td>\n",
       "      <td>petrol</td>\n",
       "      <td>smart</td>\n",
       "      <td>no</td>\n",
       "      <td>15/03/2016 00:00</td>\n",
       "      <td>0</td>\n",
       "      <td>30853</td>\n",
       "      <td>07/04/2016 07:17</td>\n",
       "    </tr>\n",
       "    <tr>\n",
       "      <th>145238</th>\n",
       "      <td>30/03/2016 00:59</td>\n",
       "      <td>3333</td>\n",
       "      <td>coupe</td>\n",
       "      <td>2002</td>\n",
       "      <td>manual</td>\n",
       "      <td>129</td>\n",
       "      <td>other</td>\n",
       "      <td>150000</td>\n",
       "      <td>3</td>\n",
       "      <td>lpg</td>\n",
       "      <td>mercedes_benz</td>\n",
       "      <td>no</td>\n",
       "      <td>30/03/2016 00:00</td>\n",
       "      <td>0</td>\n",
       "      <td>66763</td>\n",
       "      <td>06/04/2016 22:45</td>\n",
       "    </tr>\n",
       "    <tr>\n",
       "      <th>38348</th>\n",
       "      <td>10/03/2016 14:58</td>\n",
       "      <td>500</td>\n",
       "      <td>NaN</td>\n",
       "      <td>2016</td>\n",
       "      <td>manual</td>\n",
       "      <td>0</td>\n",
       "      <td>vectra</td>\n",
       "      <td>150000</td>\n",
       "      <td>0</td>\n",
       "      <td>petrol</td>\n",
       "      <td>opel</td>\n",
       "      <td>yes</td>\n",
       "      <td>10/03/2016 00:00</td>\n",
       "      <td>0</td>\n",
       "      <td>32312</td>\n",
       "      <td>05/04/2016 11:50</td>\n",
       "    </tr>\n",
       "    <tr>\n",
       "      <th>182521</th>\n",
       "      <td>22/03/2016 15:57</td>\n",
       "      <td>1000</td>\n",
       "      <td>sedan</td>\n",
       "      <td>1991</td>\n",
       "      <td>manual</td>\n",
       "      <td>109</td>\n",
       "      <td>other</td>\n",
       "      <td>150000</td>\n",
       "      <td>12</td>\n",
       "      <td>petrol</td>\n",
       "      <td>mercedes_benz</td>\n",
       "      <td>NaN</td>\n",
       "      <td>22/03/2016 00:00</td>\n",
       "      <td>0</td>\n",
       "      <td>38173</td>\n",
       "      <td>22/03/2016 15:57</td>\n",
       "    </tr>\n",
       "    <tr>\n",
       "      <th>352098</th>\n",
       "      <td>07/03/2016 23:53</td>\n",
       "      <td>3699</td>\n",
       "      <td>small</td>\n",
       "      <td>2008</td>\n",
       "      <td>auto</td>\n",
       "      <td>84</td>\n",
       "      <td>fortwo</td>\n",
       "      <td>125000</td>\n",
       "      <td>3</td>\n",
       "      <td>petrol</td>\n",
       "      <td>smart</td>\n",
       "      <td>no</td>\n",
       "      <td>07/03/2016 00:00</td>\n",
       "      <td>0</td>\n",
       "      <td>70806</td>\n",
       "      <td>22/03/2016 04:18</td>\n",
       "    </tr>\n",
       "    <tr>\n",
       "      <th>285865</th>\n",
       "      <td>03/04/2016 13:43</td>\n",
       "      <td>3800</td>\n",
       "      <td>convertible</td>\n",
       "      <td>1999</td>\n",
       "      <td>manual</td>\n",
       "      <td>116</td>\n",
       "      <td>3er</td>\n",
       "      <td>150000</td>\n",
       "      <td>5</td>\n",
       "      <td>NaN</td>\n",
       "      <td>bmw</td>\n",
       "      <td>no</td>\n",
       "      <td>03/04/2016 00:00</td>\n",
       "      <td>0</td>\n",
       "      <td>23556</td>\n",
       "      <td>05/04/2016 12:19</td>\n",
       "    </tr>\n",
       "    <tr>\n",
       "      <th>353616</th>\n",
       "      <td>16/03/2016 18:46</td>\n",
       "      <td>8990</td>\n",
       "      <td>bus</td>\n",
       "      <td>2011</td>\n",
       "      <td>manual</td>\n",
       "      <td>90</td>\n",
       "      <td>kangoo</td>\n",
       "      <td>80000</td>\n",
       "      <td>10</td>\n",
       "      <td>gasoline</td>\n",
       "      <td>renault</td>\n",
       "      <td>no</td>\n",
       "      <td>16/03/2016 00:00</td>\n",
       "      <td>0</td>\n",
       "      <td>51702</td>\n",
       "      <td>04/04/2016 23:45</td>\n",
       "    </tr>\n",
       "  </tbody>\n",
       "</table>\n",
       "</div>"
      ],
      "text/plain": [
       "             DateCrawled  Price  VehicleType  RegistrationYear Gearbox  Power  \\\n",
       "323454  08/03/2016 07:36      0          bus              1996  manual    116   \n",
       "26195   26/03/2016 21:51  11800        sedan              2011    auto    156   \n",
       "251594  29/03/2016 12:53    200        small              1995  manual     60   \n",
       "197310  15/03/2016 21:50   7350        small              2011     NaN     71   \n",
       "145238  30/03/2016 00:59   3333        coupe              2002  manual    129   \n",
       "38348   10/03/2016 14:58    500          NaN              2016  manual      0   \n",
       "182521  22/03/2016 15:57   1000        sedan              1991  manual    109   \n",
       "352098  07/03/2016 23:53   3699        small              2008    auto     84   \n",
       "285865  03/04/2016 13:43   3800  convertible              1999  manual    116   \n",
       "353616  16/03/2016 18:46   8990          bus              2011  manual     90   \n",
       "\n",
       "              Model  Mileage  RegistrationMonth  FuelType          Brand  \\\n",
       "323454  transporter   150000                  8    petrol     volkswagen   \n",
       "26195         other    40000                  2    petrol        citroen   \n",
       "251594        corsa   150000                  9       NaN           opel   \n",
       "197310       fortwo    30000                 11    petrol          smart   \n",
       "145238        other   150000                  3       lpg  mercedes_benz   \n",
       "38348        vectra   150000                  0    petrol           opel   \n",
       "182521        other   150000                 12    petrol  mercedes_benz   \n",
       "352098       fortwo   125000                  3    petrol          smart   \n",
       "285865          3er   150000                  5       NaN            bmw   \n",
       "353616       kangoo    80000                 10  gasoline        renault   \n",
       "\n",
       "       NotRepaired       DateCreated  NumberOfPictures  PostalCode  \\\n",
       "323454          no  08/03/2016 00:00                 0       15926   \n",
       "26195           no  26/03/2016 00:00                 0       90587   \n",
       "251594         NaN  29/03/2016 00:00                 0       67308   \n",
       "197310          no  15/03/2016 00:00                 0       30853   \n",
       "145238          no  30/03/2016 00:00                 0       66763   \n",
       "38348          yes  10/03/2016 00:00                 0       32312   \n",
       "182521         NaN  22/03/2016 00:00                 0       38173   \n",
       "352098          no  07/03/2016 00:00                 0       70806   \n",
       "285865          no  03/04/2016 00:00                 0       23556   \n",
       "353616          no  16/03/2016 00:00                 0       51702   \n",
       "\n",
       "                LastSeen  \n",
       "323454  05/04/2016 23:18  \n",
       "26195   06/04/2016 14:17  \n",
       "251594  29/03/2016 12:53  \n",
       "197310  07/04/2016 07:17  \n",
       "145238  06/04/2016 22:45  \n",
       "38348   05/04/2016 11:50  \n",
       "182521  22/03/2016 15:57  \n",
       "352098  22/03/2016 04:18  \n",
       "285865  05/04/2016 12:19  \n",
       "353616  04/04/2016 23:45  "
      ]
     },
     "execution_count": 4,
     "metadata": {},
     "output_type": "execute_result"
    }
   ],
   "source": [
    "#inspecting data\n",
    "df.sample(10)"
   ]
  },
  {
   "cell_type": "code",
   "execution_count": 5,
   "metadata": {},
   "outputs": [
    {
     "name": "stdout",
     "output_type": "stream",
     "text": [
      "<class 'pandas.core.frame.DataFrame'>\n",
      "RangeIndex: 354369 entries, 0 to 354368\n",
      "Data columns (total 16 columns):\n",
      " #   Column             Non-Null Count   Dtype \n",
      "---  ------             --------------   ----- \n",
      " 0   DateCrawled        354369 non-null  object\n",
      " 1   Price              354369 non-null  int64 \n",
      " 2   VehicleType        316879 non-null  object\n",
      " 3   RegistrationYear   354369 non-null  int64 \n",
      " 4   Gearbox            334536 non-null  object\n",
      " 5   Power              354369 non-null  int64 \n",
      " 6   Model              334664 non-null  object\n",
      " 7   Mileage            354369 non-null  int64 \n",
      " 8   RegistrationMonth  354369 non-null  int64 \n",
      " 9   FuelType           321474 non-null  object\n",
      " 10  Brand              354369 non-null  object\n",
      " 11  NotRepaired        283215 non-null  object\n",
      " 12  DateCreated        354369 non-null  object\n",
      " 13  NumberOfPictures   354369 non-null  int64 \n",
      " 14  PostalCode         354369 non-null  int64 \n",
      " 15  LastSeen           354369 non-null  object\n",
      "dtypes: int64(7), object(9)\n",
      "memory usage: 43.3+ MB\n"
     ]
    }
   ],
   "source": [
    "df.info()"
   ]
  },
  {
   "cell_type": "code",
   "execution_count": 6,
   "metadata": {},
   "outputs": [
    {
     "data": {
      "text/html": [
       "<div>\n",
       "<style scoped>\n",
       "    .dataframe tbody tr th:only-of-type {\n",
       "        vertical-align: middle;\n",
       "    }\n",
       "\n",
       "    .dataframe tbody tr th {\n",
       "        vertical-align: top;\n",
       "    }\n",
       "\n",
       "    .dataframe thead th {\n",
       "        text-align: right;\n",
       "    }\n",
       "</style>\n",
       "<table border=\"1\" class=\"dataframe\">\n",
       "  <thead>\n",
       "    <tr style=\"text-align: right;\">\n",
       "      <th></th>\n",
       "      <th>Price</th>\n",
       "      <th>RegistrationYear</th>\n",
       "      <th>Power</th>\n",
       "      <th>Mileage</th>\n",
       "      <th>RegistrationMonth</th>\n",
       "      <th>NumberOfPictures</th>\n",
       "      <th>PostalCode</th>\n",
       "    </tr>\n",
       "  </thead>\n",
       "  <tbody>\n",
       "    <tr>\n",
       "      <th>count</th>\n",
       "      <td>354369.000000</td>\n",
       "      <td>354369.000000</td>\n",
       "      <td>354369.000000</td>\n",
       "      <td>354369.000000</td>\n",
       "      <td>354369.000000</td>\n",
       "      <td>354369.0</td>\n",
       "      <td>354369.000000</td>\n",
       "    </tr>\n",
       "    <tr>\n",
       "      <th>mean</th>\n",
       "      <td>4416.656776</td>\n",
       "      <td>2004.234448</td>\n",
       "      <td>110.094337</td>\n",
       "      <td>128211.172535</td>\n",
       "      <td>5.714645</td>\n",
       "      <td>0.0</td>\n",
       "      <td>50508.689087</td>\n",
       "    </tr>\n",
       "    <tr>\n",
       "      <th>std</th>\n",
       "      <td>4514.158514</td>\n",
       "      <td>90.227958</td>\n",
       "      <td>189.850405</td>\n",
       "      <td>37905.341530</td>\n",
       "      <td>3.726421</td>\n",
       "      <td>0.0</td>\n",
       "      <td>25783.096248</td>\n",
       "    </tr>\n",
       "    <tr>\n",
       "      <th>min</th>\n",
       "      <td>0.000000</td>\n",
       "      <td>1000.000000</td>\n",
       "      <td>0.000000</td>\n",
       "      <td>5000.000000</td>\n",
       "      <td>0.000000</td>\n",
       "      <td>0.0</td>\n",
       "      <td>1067.000000</td>\n",
       "    </tr>\n",
       "    <tr>\n",
       "      <th>25%</th>\n",
       "      <td>1050.000000</td>\n",
       "      <td>1999.000000</td>\n",
       "      <td>69.000000</td>\n",
       "      <td>125000.000000</td>\n",
       "      <td>3.000000</td>\n",
       "      <td>0.0</td>\n",
       "      <td>30165.000000</td>\n",
       "    </tr>\n",
       "    <tr>\n",
       "      <th>50%</th>\n",
       "      <td>2700.000000</td>\n",
       "      <td>2003.000000</td>\n",
       "      <td>105.000000</td>\n",
       "      <td>150000.000000</td>\n",
       "      <td>6.000000</td>\n",
       "      <td>0.0</td>\n",
       "      <td>49413.000000</td>\n",
       "    </tr>\n",
       "    <tr>\n",
       "      <th>75%</th>\n",
       "      <td>6400.000000</td>\n",
       "      <td>2008.000000</td>\n",
       "      <td>143.000000</td>\n",
       "      <td>150000.000000</td>\n",
       "      <td>9.000000</td>\n",
       "      <td>0.0</td>\n",
       "      <td>71083.000000</td>\n",
       "    </tr>\n",
       "    <tr>\n",
       "      <th>max</th>\n",
       "      <td>20000.000000</td>\n",
       "      <td>9999.000000</td>\n",
       "      <td>20000.000000</td>\n",
       "      <td>150000.000000</td>\n",
       "      <td>12.000000</td>\n",
       "      <td>0.0</td>\n",
       "      <td>99998.000000</td>\n",
       "    </tr>\n",
       "  </tbody>\n",
       "</table>\n",
       "</div>"
      ],
      "text/plain": [
       "               Price  RegistrationYear          Power        Mileage  \\\n",
       "count  354369.000000     354369.000000  354369.000000  354369.000000   \n",
       "mean     4416.656776       2004.234448     110.094337  128211.172535   \n",
       "std      4514.158514         90.227958     189.850405   37905.341530   \n",
       "min         0.000000       1000.000000       0.000000    5000.000000   \n",
       "25%      1050.000000       1999.000000      69.000000  125000.000000   \n",
       "50%      2700.000000       2003.000000     105.000000  150000.000000   \n",
       "75%      6400.000000       2008.000000     143.000000  150000.000000   \n",
       "max     20000.000000       9999.000000   20000.000000  150000.000000   \n",
       "\n",
       "       RegistrationMonth  NumberOfPictures     PostalCode  \n",
       "count      354369.000000          354369.0  354369.000000  \n",
       "mean            5.714645               0.0   50508.689087  \n",
       "std             3.726421               0.0   25783.096248  \n",
       "min             0.000000               0.0    1067.000000  \n",
       "25%             3.000000               0.0   30165.000000  \n",
       "50%             6.000000               0.0   49413.000000  \n",
       "75%             9.000000               0.0   71083.000000  \n",
       "max            12.000000               0.0   99998.000000  "
      ]
     },
     "execution_count": 6,
     "metadata": {},
     "output_type": "execute_result"
    }
   ],
   "source": [
    "df.describe()"
   ]
  },
  {
   "cell_type": "code",
   "execution_count": 7,
   "metadata": {},
   "outputs": [],
   "source": [
    "#changing column names to lower case\n",
    "df.columns = df.columns.str.lower()"
   ]
  },
  {
   "cell_type": "code",
   "execution_count": 8,
   "metadata": {},
   "outputs": [
    {
     "data": {
      "text/html": [
       "<div>\n",
       "<style scoped>\n",
       "    .dataframe tbody tr th:only-of-type {\n",
       "        vertical-align: middle;\n",
       "    }\n",
       "\n",
       "    .dataframe tbody tr th {\n",
       "        vertical-align: top;\n",
       "    }\n",
       "\n",
       "    .dataframe thead th {\n",
       "        text-align: right;\n",
       "    }\n",
       "</style>\n",
       "<table border=\"1\" class=\"dataframe\">\n",
       "  <thead>\n",
       "    <tr style=\"text-align: right;\">\n",
       "      <th></th>\n",
       "      <th>price</th>\n",
       "      <th>registrationyear</th>\n",
       "      <th>power</th>\n",
       "      <th>mileage</th>\n",
       "      <th>registrationmonth</th>\n",
       "      <th>numberofpictures</th>\n",
       "      <th>postalcode</th>\n",
       "    </tr>\n",
       "  </thead>\n",
       "  <tbody>\n",
       "    <tr>\n",
       "      <th>price</th>\n",
       "      <td>1.000000</td>\n",
       "      <td>0.026916</td>\n",
       "      <td>0.158872</td>\n",
       "      <td>-0.333199</td>\n",
       "      <td>0.110581</td>\n",
       "      <td>NaN</td>\n",
       "      <td>0.076055</td>\n",
       "    </tr>\n",
       "    <tr>\n",
       "      <th>registrationyear</th>\n",
       "      <td>0.026916</td>\n",
       "      <td>1.000000</td>\n",
       "      <td>-0.000828</td>\n",
       "      <td>-0.053447</td>\n",
       "      <td>-0.011619</td>\n",
       "      <td>NaN</td>\n",
       "      <td>-0.003459</td>\n",
       "    </tr>\n",
       "    <tr>\n",
       "      <th>power</th>\n",
       "      <td>0.158872</td>\n",
       "      <td>-0.000828</td>\n",
       "      <td>1.000000</td>\n",
       "      <td>0.024002</td>\n",
       "      <td>0.043380</td>\n",
       "      <td>NaN</td>\n",
       "      <td>0.021665</td>\n",
       "    </tr>\n",
       "    <tr>\n",
       "      <th>mileage</th>\n",
       "      <td>-0.333199</td>\n",
       "      <td>-0.053447</td>\n",
       "      <td>0.024002</td>\n",
       "      <td>1.000000</td>\n",
       "      <td>0.009571</td>\n",
       "      <td>NaN</td>\n",
       "      <td>-0.007698</td>\n",
       "    </tr>\n",
       "    <tr>\n",
       "      <th>registrationmonth</th>\n",
       "      <td>0.110581</td>\n",
       "      <td>-0.011619</td>\n",
       "      <td>0.043380</td>\n",
       "      <td>0.009571</td>\n",
       "      <td>1.000000</td>\n",
       "      <td>NaN</td>\n",
       "      <td>0.013995</td>\n",
       "    </tr>\n",
       "    <tr>\n",
       "      <th>numberofpictures</th>\n",
       "      <td>NaN</td>\n",
       "      <td>NaN</td>\n",
       "      <td>NaN</td>\n",
       "      <td>NaN</td>\n",
       "      <td>NaN</td>\n",
       "      <td>NaN</td>\n",
       "      <td>NaN</td>\n",
       "    </tr>\n",
       "    <tr>\n",
       "      <th>postalcode</th>\n",
       "      <td>0.076055</td>\n",
       "      <td>-0.003459</td>\n",
       "      <td>0.021665</td>\n",
       "      <td>-0.007698</td>\n",
       "      <td>0.013995</td>\n",
       "      <td>NaN</td>\n",
       "      <td>1.000000</td>\n",
       "    </tr>\n",
       "  </tbody>\n",
       "</table>\n",
       "</div>"
      ],
      "text/plain": [
       "                      price  registrationyear     power   mileage  \\\n",
       "price              1.000000          0.026916  0.158872 -0.333199   \n",
       "registrationyear   0.026916          1.000000 -0.000828 -0.053447   \n",
       "power              0.158872         -0.000828  1.000000  0.024002   \n",
       "mileage           -0.333199         -0.053447  0.024002  1.000000   \n",
       "registrationmonth  0.110581         -0.011619  0.043380  0.009571   \n",
       "numberofpictures        NaN               NaN       NaN       NaN   \n",
       "postalcode         0.076055         -0.003459  0.021665 -0.007698   \n",
       "\n",
       "                   registrationmonth  numberofpictures  postalcode  \n",
       "price                       0.110581               NaN    0.076055  \n",
       "registrationyear           -0.011619               NaN   -0.003459  \n",
       "power                       0.043380               NaN    0.021665  \n",
       "mileage                     0.009571               NaN   -0.007698  \n",
       "registrationmonth           1.000000               NaN    0.013995  \n",
       "numberofpictures                 NaN               NaN         NaN  \n",
       "postalcode                  0.013995               NaN    1.000000  "
      ]
     },
     "execution_count": 8,
     "metadata": {},
     "output_type": "execute_result"
    }
   ],
   "source": [
    "df.corr()"
   ]
  },
  {
   "cell_type": "markdown",
   "metadata": {},
   "source": [
    "To prepare the data for analysis y our models we must:\n",
    "\n",
    "- Change time data to datetime objects\n",
    "- Remove outliers for some columns \n",
    "- Imputate missing values "
   ]
  },
  {
   "cell_type": "markdown",
   "metadata": {},
   "source": [
    "### `date`, `datecreated`, `lastseen`"
   ]
  },
  {
   "cell_type": "code",
   "execution_count": 9,
   "metadata": {},
   "outputs": [
    {
     "data": {
      "text/plain": [
       "count                           354369\n",
       "mean     2016-03-21 12:57:41.165057280\n",
       "min                2016-03-05 14:06:00\n",
       "25%                2016-03-13 11:52:00\n",
       "50%                2016-03-21 17:50:00\n",
       "75%                2016-03-29 14:37:00\n",
       "max                2016-04-07 14:36:00\n",
       "Name: datecrawled, dtype: object"
      ]
     },
     "execution_count": 9,
     "metadata": {},
     "output_type": "execute_result"
    }
   ],
   "source": [
    "#changing to datetime and inspecting\n",
    "df['datecrawled'] = pd.to_datetime(df['datecrawled'], format = '%d/%m/%Y %H:%M')\n",
    "df['datecrawled'].describe(datetime_is_numeric=True)"
   ]
  },
  {
   "cell_type": "code",
   "execution_count": 10,
   "metadata": {},
   "outputs": [
    {
     "data": {
      "text/plain": [
       "count                           354369\n",
       "mean     2016-03-20 19:12:07.753274112\n",
       "min                2014-03-10 00:00:00\n",
       "25%                2016-03-13 00:00:00\n",
       "50%                2016-03-21 00:00:00\n",
       "75%                2016-03-29 00:00:00\n",
       "max                2016-04-07 00:00:00\n",
       "Name: datecreated, dtype: object"
      ]
     },
     "execution_count": 10,
     "metadata": {},
     "output_type": "execute_result"
    }
   ],
   "source": [
    "#changing to datetime and inspecting\n",
    "df['datecreated'] = pd.to_datetime(df['datecreated'], format = '%d/%m/%Y %H:%M')\n",
    "df['datecreated'].describe(datetime_is_numeric=True)"
   ]
  },
  {
   "cell_type": "code",
   "execution_count": 11,
   "metadata": {},
   "outputs": [
    {
     "data": {
      "text/plain": [
       "count                           354369\n",
       "mean     2016-03-29 23:50:30.593703680\n",
       "min                2016-03-05 14:15:00\n",
       "25%                2016-03-23 02:50:00\n",
       "50%                2016-04-03 15:15:00\n",
       "75%                2016-04-06 10:15:00\n",
       "max                2016-04-07 14:58:00\n",
       "Name: lastseen, dtype: object"
      ]
     },
     "execution_count": 11,
     "metadata": {},
     "output_type": "execute_result"
    }
   ],
   "source": [
    "#changing to datetime and inspecting\n",
    "df['lastseen'] = pd.to_datetime(df['lastseen'], format = '%d/%m/%Y %H:%M')\n",
    "df['lastseen'].describe(datetime_is_numeric=True)"
   ]
  },
  {
   "cell_type": "markdown",
   "metadata": {},
   "source": [
    "No missing values or clear outliers here."
   ]
  },
  {
   "cell_type": "markdown",
   "metadata": {},
   "source": [
    "### `price`"
   ]
  },
  {
   "cell_type": "code",
   "execution_count": 12,
   "metadata": {},
   "outputs": [
    {
     "data": {
      "text/plain": [
       "count    354369.000000\n",
       "mean       4416.656776\n",
       "std        4514.158514\n",
       "min           0.000000\n",
       "25%        1050.000000\n",
       "50%        2700.000000\n",
       "75%        6400.000000\n",
       "max       20000.000000\n",
       "Name: price, dtype: float64"
      ]
     },
     "execution_count": 12,
     "metadata": {},
     "output_type": "execute_result"
    }
   ],
   "source": [
    "#inspecting data\n",
    "df['price'].describe()"
   ]
  },
  {
   "cell_type": "markdown",
   "metadata": {},
   "source": [
    "There are some cars listed for 0. This may or may not be an error as, for instance, some may be offereed for scrap for collection.\n",
    "\n",
    "Let's take a closer look a the price distribution and see what sort of cars are listed for very cheap."
   ]
  },
  {
   "cell_type": "code",
   "execution_count": 13,
   "metadata": {},
   "outputs": [
    {
     "data": {
      "image/png": "[encoded data removed]",
      "text/plain": [
       "<Figure size 432x288 with 1 Axes>"
      ]
     },
     "metadata": {
      "needs_background": "light"
     },
     "output_type": "display_data"
    }
   ],
   "source": [
    "plt.hist(df['price'], bins = 200)\n",
    "plt.show()"
   ]
  },
  {
   "cell_type": "code",
   "execution_count": 14,
   "metadata": {},
   "outputs": [
    {
     "data": {
      "text/html": [
       "<div>\n",
       "<style scoped>\n",
       "    .dataframe tbody tr th:only-of-type {\n",
       "        vertical-align: middle;\n",
       "    }\n",
       "\n",
       "    .dataframe tbody tr th {\n",
       "        vertical-align: top;\n",
       "    }\n",
       "\n",
       "    .dataframe thead th {\n",
       "        text-align: right;\n",
       "    }\n",
       "</style>\n",
       "<table border=\"1\" class=\"dataframe\">\n",
       "  <thead>\n",
       "    <tr style=\"text-align: right;\">\n",
       "      <th></th>\n",
       "      <th>datecrawled</th>\n",
       "      <th>price</th>\n",
       "      <th>vehicletype</th>\n",
       "      <th>registrationyear</th>\n",
       "      <th>gearbox</th>\n",
       "      <th>power</th>\n",
       "      <th>model</th>\n",
       "      <th>mileage</th>\n",
       "      <th>registrationmonth</th>\n",
       "      <th>fueltype</th>\n",
       "      <th>brand</th>\n",
       "      <th>notrepaired</th>\n",
       "      <th>datecreated</th>\n",
       "      <th>numberofpictures</th>\n",
       "      <th>postalcode</th>\n",
       "      <th>lastseen</th>\n",
       "    </tr>\n",
       "  </thead>\n",
       "  <tbody>\n",
       "    <tr>\n",
       "      <th>7</th>\n",
       "      <td>2016-03-21 18:54:00</td>\n",
       "      <td>0</td>\n",
       "      <td>sedan</td>\n",
       "      <td>1980</td>\n",
       "      <td>manual</td>\n",
       "      <td>50</td>\n",
       "      <td>other</td>\n",
       "      <td>40000</td>\n",
       "      <td>7</td>\n",
       "      <td>petrol</td>\n",
       "      <td>volkswagen</td>\n",
       "      <td>no</td>\n",
       "      <td>2016-03-21</td>\n",
       "      <td>0</td>\n",
       "      <td>19348</td>\n",
       "      <td>2016-03-25 16:47:00</td>\n",
       "    </tr>\n",
       "    <tr>\n",
       "      <th>40</th>\n",
       "      <td>2016-03-26 22:06:00</td>\n",
       "      <td>0</td>\n",
       "      <td>NaN</td>\n",
       "      <td>1990</td>\n",
       "      <td>NaN</td>\n",
       "      <td>0</td>\n",
       "      <td>corsa</td>\n",
       "      <td>150000</td>\n",
       "      <td>1</td>\n",
       "      <td>petrol</td>\n",
       "      <td>opel</td>\n",
       "      <td>NaN</td>\n",
       "      <td>2016-03-26</td>\n",
       "      <td>0</td>\n",
       "      <td>56412</td>\n",
       "      <td>2016-03-27 17:43:00</td>\n",
       "    </tr>\n",
       "    <tr>\n",
       "      <th>59</th>\n",
       "      <td>2016-03-29 15:48:00</td>\n",
       "      <td>1</td>\n",
       "      <td>suv</td>\n",
       "      <td>1994</td>\n",
       "      <td>manual</td>\n",
       "      <td>286</td>\n",
       "      <td>NaN</td>\n",
       "      <td>150000</td>\n",
       "      <td>11</td>\n",
       "      <td>NaN</td>\n",
       "      <td>sonstige_autos</td>\n",
       "      <td>NaN</td>\n",
       "      <td>2016-03-29</td>\n",
       "      <td>0</td>\n",
       "      <td>53721</td>\n",
       "      <td>2016-04-06 01:44:00</td>\n",
       "    </tr>\n",
       "    <tr>\n",
       "      <th>89</th>\n",
       "      <td>2016-03-28 09:37:00</td>\n",
       "      <td>1</td>\n",
       "      <td>sedan</td>\n",
       "      <td>1995</td>\n",
       "      <td>manual</td>\n",
       "      <td>113</td>\n",
       "      <td>e_klasse</td>\n",
       "      <td>150000</td>\n",
       "      <td>4</td>\n",
       "      <td>gasoline</td>\n",
       "      <td>mercedes_benz</td>\n",
       "      <td>no</td>\n",
       "      <td>2016-03-28</td>\n",
       "      <td>0</td>\n",
       "      <td>40589</td>\n",
       "      <td>2016-04-06 12:15:00</td>\n",
       "    </tr>\n",
       "    <tr>\n",
       "      <th>111</th>\n",
       "      <td>2016-03-19 18:40:00</td>\n",
       "      <td>0</td>\n",
       "      <td>NaN</td>\n",
       "      <td>2017</td>\n",
       "      <td>manual</td>\n",
       "      <td>0</td>\n",
       "      <td>golf</td>\n",
       "      <td>5000</td>\n",
       "      <td>12</td>\n",
       "      <td>petrol</td>\n",
       "      <td>volkswagen</td>\n",
       "      <td>NaN</td>\n",
       "      <td>2016-03-19</td>\n",
       "      <td>0</td>\n",
       "      <td>21698</td>\n",
       "      <td>2016-04-01 08:47:00</td>\n",
       "    </tr>\n",
       "    <tr>\n",
       "      <th>...</th>\n",
       "      <td>...</td>\n",
       "      <td>...</td>\n",
       "      <td>...</td>\n",
       "      <td>...</td>\n",
       "      <td>...</td>\n",
       "      <td>...</td>\n",
       "      <td>...</td>\n",
       "      <td>...</td>\n",
       "      <td>...</td>\n",
       "      <td>...</td>\n",
       "      <td>...</td>\n",
       "      <td>...</td>\n",
       "      <td>...</td>\n",
       "      <td>...</td>\n",
       "      <td>...</td>\n",
       "      <td>...</td>\n",
       "    </tr>\n",
       "    <tr>\n",
       "      <th>354238</th>\n",
       "      <td>2016-03-20 14:55:00</td>\n",
       "      <td>0</td>\n",
       "      <td>small</td>\n",
       "      <td>2002</td>\n",
       "      <td>manual</td>\n",
       "      <td>60</td>\n",
       "      <td>fiesta</td>\n",
       "      <td>150000</td>\n",
       "      <td>3</td>\n",
       "      <td>petrol</td>\n",
       "      <td>ford</td>\n",
       "      <td>NaN</td>\n",
       "      <td>2016-03-20</td>\n",
       "      <td>0</td>\n",
       "      <td>33659</td>\n",
       "      <td>2016-04-06 18:45:00</td>\n",
       "    </tr>\n",
       "    <tr>\n",
       "      <th>354248</th>\n",
       "      <td>2016-03-24 13:48:00</td>\n",
       "      <td>0</td>\n",
       "      <td>small</td>\n",
       "      <td>1999</td>\n",
       "      <td>manual</td>\n",
       "      <td>53</td>\n",
       "      <td>swift</td>\n",
       "      <td>150000</td>\n",
       "      <td>3</td>\n",
       "      <td>petrol</td>\n",
       "      <td>suzuki</td>\n",
       "      <td>NaN</td>\n",
       "      <td>2016-03-24</td>\n",
       "      <td>0</td>\n",
       "      <td>42329</td>\n",
       "      <td>2016-04-07 05:17:00</td>\n",
       "    </tr>\n",
       "    <tr>\n",
       "      <th>354277</th>\n",
       "      <td>2016-03-10 22:55:00</td>\n",
       "      <td>0</td>\n",
       "      <td>small</td>\n",
       "      <td>1999</td>\n",
       "      <td>manual</td>\n",
       "      <td>37</td>\n",
       "      <td>arosa</td>\n",
       "      <td>150000</td>\n",
       "      <td>7</td>\n",
       "      <td>petrol</td>\n",
       "      <td>seat</td>\n",
       "      <td>yes</td>\n",
       "      <td>2016-03-10</td>\n",
       "      <td>0</td>\n",
       "      <td>22559</td>\n",
       "      <td>2016-03-12 23:46:00</td>\n",
       "    </tr>\n",
       "    <tr>\n",
       "      <th>354309</th>\n",
       "      <td>2016-03-09 22:37:00</td>\n",
       "      <td>99</td>\n",
       "      <td>small</td>\n",
       "      <td>1999</td>\n",
       "      <td>manual</td>\n",
       "      <td>60</td>\n",
       "      <td>arosa</td>\n",
       "      <td>150000</td>\n",
       "      <td>1</td>\n",
       "      <td>petrol</td>\n",
       "      <td>seat</td>\n",
       "      <td>yes</td>\n",
       "      <td>2016-03-09</td>\n",
       "      <td>0</td>\n",
       "      <td>91301</td>\n",
       "      <td>2016-04-06 22:15:00</td>\n",
       "    </tr>\n",
       "    <tr>\n",
       "      <th>354364</th>\n",
       "      <td>2016-03-21 09:50:00</td>\n",
       "      <td>0</td>\n",
       "      <td>NaN</td>\n",
       "      <td>2005</td>\n",
       "      <td>manual</td>\n",
       "      <td>0</td>\n",
       "      <td>colt</td>\n",
       "      <td>150000</td>\n",
       "      <td>7</td>\n",
       "      <td>petrol</td>\n",
       "      <td>mitsubishi</td>\n",
       "      <td>yes</td>\n",
       "      <td>2016-03-21</td>\n",
       "      <td>0</td>\n",
       "      <td>2694</td>\n",
       "      <td>2016-03-21 10:42:00</td>\n",
       "    </tr>\n",
       "  </tbody>\n",
       "</table>\n",
       "<p>13314 rows × 16 columns</p>\n",
       "</div>"
      ],
      "text/plain": [
       "               datecrawled  price vehicletype  registrationyear gearbox  \\\n",
       "7      2016-03-21 18:54:00      0       sedan              1980  manual   \n",
       "40     2016-03-26 22:06:00      0         NaN              1990     NaN   \n",
       "59     2016-03-29 15:48:00      1         suv              1994  manual   \n",
       "89     2016-03-28 09:37:00      1       sedan              1995  manual   \n",
       "111    2016-03-19 18:40:00      0         NaN              2017  manual   \n",
       "...                    ...    ...         ...               ...     ...   \n",
       "354238 2016-03-20 14:55:00      0       small              2002  manual   \n",
       "354248 2016-03-24 13:48:00      0       small              1999  manual   \n",
       "354277 2016-03-10 22:55:00      0       small              1999  manual   \n",
       "354309 2016-03-09 22:37:00     99       small              1999  manual   \n",
       "354364 2016-03-21 09:50:00      0         NaN              2005  manual   \n",
       "\n",
       "        power     model  mileage  registrationmonth  fueltype           brand  \\\n",
       "7          50     other    40000                  7    petrol      volkswagen   \n",
       "40          0     corsa   150000                  1    petrol            opel   \n",
       "59        286       NaN   150000                 11       NaN  sonstige_autos   \n",
       "89        113  e_klasse   150000                  4  gasoline   mercedes_benz   \n",
       "111         0      golf     5000                 12    petrol      volkswagen   \n",
       "...       ...       ...      ...                ...       ...             ...   \n",
       "354238     60    fiesta   150000                  3    petrol            ford   \n",
       "354248     53     swift   150000                  3    petrol          suzuki   \n",
       "354277     37     arosa   150000                  7    petrol            seat   \n",
       "354309     60     arosa   150000                  1    petrol            seat   \n",
       "354364      0      colt   150000                  7    petrol      mitsubishi   \n",
       "\n",
       "       notrepaired datecreated  numberofpictures  postalcode  \\\n",
       "7               no  2016-03-21                 0       19348   \n",
       "40             NaN  2016-03-26                 0       56412   \n",
       "59             NaN  2016-03-29                 0       53721   \n",
       "89              no  2016-03-28                 0       40589   \n",
       "111            NaN  2016-03-19                 0       21698   \n",
       "...            ...         ...               ...         ...   \n",
       "354238         NaN  2016-03-20                 0       33659   \n",
       "354248         NaN  2016-03-24                 0       42329   \n",
       "354277         yes  2016-03-10                 0       22559   \n",
       "354309         yes  2016-03-09                 0       91301   \n",
       "354364         yes  2016-03-21                 0        2694   \n",
       "\n",
       "                  lastseen  \n",
       "7      2016-03-25 16:47:00  \n",
       "40     2016-03-27 17:43:00  \n",
       "59     2016-04-06 01:44:00  \n",
       "89     2016-04-06 12:15:00  \n",
       "111    2016-04-01 08:47:00  \n",
       "...                    ...  \n",
       "354238 2016-04-06 18:45:00  \n",
       "354248 2016-04-07 05:17:00  \n",
       "354277 2016-03-12 23:46:00  \n",
       "354309 2016-04-06 22:15:00  \n",
       "354364 2016-03-21 10:42:00  \n",
       "\n",
       "[13314 rows x 16 columns]"
      ]
     },
     "execution_count": 14,
     "metadata": {},
     "output_type": "execute_result"
    }
   ],
   "source": [
    "#checking cheapest cars\n",
    "df[df['price'] < 100]"
   ]
  },
  {
   "cell_type": "markdown",
   "metadata": {},
   "source": [
    "There appears to be cars listed for very low amounts that appear to be unrealistic, for example a Mercedez Benz for 1 Euro.\n",
    "\n",
    "It's likely that some of these listings would not actually sell for that amount, but have been lsited at low prices to gain more views.\n",
    "\n",
    "We can remove some of these outliers by looking at prices for a particular brand and model of car and removing those which are more than 3 standard deviations away from the mean."
   ]
  },
  {
   "cell_type": "code",
   "execution_count": 15,
   "metadata": {},
   "outputs": [],
   "source": [
    "def remove_outliers(df, col_to_remove, col1_to_use, col2_to_use, sd = 3):\n",
    "    \"\"\"\n",
    "    Takes a dataframe, a column for which outliers are to be removed, and two columns to use for slicing data.\n",
    "    sd denotes the number of standard devations away from the mean for which to remove outliers\n",
    "    \"\"\"\n",
    "    d = 0\n",
    "    for i in df[col1_to_use].unique():\n",
    "        for j in df[df[col1_to_use] == i][col2_to_use].unique():\n",
    "            \n",
    "            #slicing data\n",
    "            temp_df = df[(df[col1_to_use] == i) & (df[col2_to_use] == j)]\n",
    "            data = temp_df[col_to_remove]\n",
    "            #calculating mean and sd for sliced data\n",
    "            data_mean, data_std = np.mean(data), np.std(data)\n",
    "            cut_off = data_std * sd\n",
    "            lower, upper = data_mean - cut_off, data_mean + cut_off\n",
    "            #removing outleirs\n",
    "            to_drop = temp_df.loc[(temp_df[col_to_remove]<lower) | (temp_df[col_to_remove]>upper)]\n",
    "            df.drop(to_drop.index, inplace = True)\n",
    "            d += len(to_drop)\n",
    "\n",
    "    print('dropped:',d)\n",
    "    df.reset_index(drop = True, inplace=True)\n",
    "    return df"
   ]
  },
  {
   "cell_type": "code",
   "execution_count": 16,
   "metadata": {},
   "outputs": [
    {
     "name": "stdout",
     "output_type": "stream",
     "text": [
      "dropped: 4580\n"
     ]
    },
    {
     "data": {
      "text/html": [
       "<div>\n",
       "<style scoped>\n",
       "    .dataframe tbody tr th:only-of-type {\n",
       "        vertical-align: middle;\n",
       "    }\n",
       "\n",
       "    .dataframe tbody tr th {\n",
       "        vertical-align: top;\n",
       "    }\n",
       "\n",
       "    .dataframe thead th {\n",
       "        text-align: right;\n",
       "    }\n",
       "</style>\n",
       "<table border=\"1\" class=\"dataframe\">\n",
       "  <thead>\n",
       "    <tr style=\"text-align: right;\">\n",
       "      <th></th>\n",
       "      <th>datecrawled</th>\n",
       "      <th>price</th>\n",
       "      <th>vehicletype</th>\n",
       "      <th>registrationyear</th>\n",
       "      <th>gearbox</th>\n",
       "      <th>power</th>\n",
       "      <th>model</th>\n",
       "      <th>mileage</th>\n",
       "      <th>registrationmonth</th>\n",
       "      <th>fueltype</th>\n",
       "      <th>brand</th>\n",
       "      <th>notrepaired</th>\n",
       "      <th>datecreated</th>\n",
       "      <th>numberofpictures</th>\n",
       "      <th>postalcode</th>\n",
       "      <th>lastseen</th>\n",
       "    </tr>\n",
       "  </thead>\n",
       "  <tbody>\n",
       "    <tr>\n",
       "      <th>0</th>\n",
       "      <td>2016-03-24 11:52:00</td>\n",
       "      <td>480</td>\n",
       "      <td>NaN</td>\n",
       "      <td>1993</td>\n",
       "      <td>manual</td>\n",
       "      <td>0</td>\n",
       "      <td>golf</td>\n",
       "      <td>150000</td>\n",
       "      <td>0</td>\n",
       "      <td>petrol</td>\n",
       "      <td>volkswagen</td>\n",
       "      <td>NaN</td>\n",
       "      <td>2016-03-24</td>\n",
       "      <td>0</td>\n",
       "      <td>70435</td>\n",
       "      <td>2016-04-07 03:16:00</td>\n",
       "    </tr>\n",
       "    <tr>\n",
       "      <th>1</th>\n",
       "      <td>2016-03-24 10:58:00</td>\n",
       "      <td>18300</td>\n",
       "      <td>coupe</td>\n",
       "      <td>2011</td>\n",
       "      <td>manual</td>\n",
       "      <td>190</td>\n",
       "      <td>NaN</td>\n",
       "      <td>125000</td>\n",
       "      <td>5</td>\n",
       "      <td>gasoline</td>\n",
       "      <td>audi</td>\n",
       "      <td>yes</td>\n",
       "      <td>2016-03-24</td>\n",
       "      <td>0</td>\n",
       "      <td>66954</td>\n",
       "      <td>2016-04-07 01:46:00</td>\n",
       "    </tr>\n",
       "    <tr>\n",
       "      <th>2</th>\n",
       "      <td>2016-03-14 12:52:00</td>\n",
       "      <td>9800</td>\n",
       "      <td>suv</td>\n",
       "      <td>2004</td>\n",
       "      <td>auto</td>\n",
       "      <td>163</td>\n",
       "      <td>grand</td>\n",
       "      <td>125000</td>\n",
       "      <td>8</td>\n",
       "      <td>gasoline</td>\n",
       "      <td>jeep</td>\n",
       "      <td>NaN</td>\n",
       "      <td>2016-03-14</td>\n",
       "      <td>0</td>\n",
       "      <td>90480</td>\n",
       "      <td>2016-04-05 12:47:00</td>\n",
       "    </tr>\n",
       "    <tr>\n",
       "      <th>3</th>\n",
       "      <td>2016-03-17 16:54:00</td>\n",
       "      <td>1500</td>\n",
       "      <td>small</td>\n",
       "      <td>2001</td>\n",
       "      <td>manual</td>\n",
       "      <td>75</td>\n",
       "      <td>golf</td>\n",
       "      <td>150000</td>\n",
       "      <td>6</td>\n",
       "      <td>petrol</td>\n",
       "      <td>volkswagen</td>\n",
       "      <td>no</td>\n",
       "      <td>2016-03-17</td>\n",
       "      <td>0</td>\n",
       "      <td>91074</td>\n",
       "      <td>2016-03-17 17:40:00</td>\n",
       "    </tr>\n",
       "    <tr>\n",
       "      <th>4</th>\n",
       "      <td>2016-03-31 17:25:00</td>\n",
       "      <td>3600</td>\n",
       "      <td>small</td>\n",
       "      <td>2008</td>\n",
       "      <td>manual</td>\n",
       "      <td>69</td>\n",
       "      <td>fabia</td>\n",
       "      <td>90000</td>\n",
       "      <td>7</td>\n",
       "      <td>gasoline</td>\n",
       "      <td>skoda</td>\n",
       "      <td>no</td>\n",
       "      <td>2016-03-31</td>\n",
       "      <td>0</td>\n",
       "      <td>60437</td>\n",
       "      <td>2016-04-06 10:17:00</td>\n",
       "    </tr>\n",
       "    <tr>\n",
       "      <th>...</th>\n",
       "      <td>...</td>\n",
       "      <td>...</td>\n",
       "      <td>...</td>\n",
       "      <td>...</td>\n",
       "      <td>...</td>\n",
       "      <td>...</td>\n",
       "      <td>...</td>\n",
       "      <td>...</td>\n",
       "      <td>...</td>\n",
       "      <td>...</td>\n",
       "      <td>...</td>\n",
       "      <td>...</td>\n",
       "      <td>...</td>\n",
       "      <td>...</td>\n",
       "      <td>...</td>\n",
       "      <td>...</td>\n",
       "    </tr>\n",
       "    <tr>\n",
       "      <th>349784</th>\n",
       "      <td>2016-03-21 09:50:00</td>\n",
       "      <td>0</td>\n",
       "      <td>NaN</td>\n",
       "      <td>2005</td>\n",
       "      <td>manual</td>\n",
       "      <td>0</td>\n",
       "      <td>colt</td>\n",
       "      <td>150000</td>\n",
       "      <td>7</td>\n",
       "      <td>petrol</td>\n",
       "      <td>mitsubishi</td>\n",
       "      <td>yes</td>\n",
       "      <td>2016-03-21</td>\n",
       "      <td>0</td>\n",
       "      <td>2694</td>\n",
       "      <td>2016-03-21 10:42:00</td>\n",
       "    </tr>\n",
       "    <tr>\n",
       "      <th>349785</th>\n",
       "      <td>2016-03-14 17:48:00</td>\n",
       "      <td>2200</td>\n",
       "      <td>NaN</td>\n",
       "      <td>2005</td>\n",
       "      <td>NaN</td>\n",
       "      <td>0</td>\n",
       "      <td>NaN</td>\n",
       "      <td>20000</td>\n",
       "      <td>1</td>\n",
       "      <td>NaN</td>\n",
       "      <td>sonstige_autos</td>\n",
       "      <td>NaN</td>\n",
       "      <td>2016-03-14</td>\n",
       "      <td>0</td>\n",
       "      <td>39576</td>\n",
       "      <td>2016-04-06 00:46:00</td>\n",
       "    </tr>\n",
       "    <tr>\n",
       "      <th>349786</th>\n",
       "      <td>2016-03-05 19:56:00</td>\n",
       "      <td>1199</td>\n",
       "      <td>convertible</td>\n",
       "      <td>2000</td>\n",
       "      <td>auto</td>\n",
       "      <td>101</td>\n",
       "      <td>fortwo</td>\n",
       "      <td>125000</td>\n",
       "      <td>3</td>\n",
       "      <td>petrol</td>\n",
       "      <td>smart</td>\n",
       "      <td>no</td>\n",
       "      <td>2016-03-05</td>\n",
       "      <td>0</td>\n",
       "      <td>26135</td>\n",
       "      <td>2016-03-11 18:17:00</td>\n",
       "    </tr>\n",
       "    <tr>\n",
       "      <th>349787</th>\n",
       "      <td>2016-03-19 18:57:00</td>\n",
       "      <td>9200</td>\n",
       "      <td>bus</td>\n",
       "      <td>1996</td>\n",
       "      <td>manual</td>\n",
       "      <td>102</td>\n",
       "      <td>transporter</td>\n",
       "      <td>150000</td>\n",
       "      <td>3</td>\n",
       "      <td>gasoline</td>\n",
       "      <td>volkswagen</td>\n",
       "      <td>no</td>\n",
       "      <td>2016-03-19</td>\n",
       "      <td>0</td>\n",
       "      <td>87439</td>\n",
       "      <td>2016-04-07 07:15:00</td>\n",
       "    </tr>\n",
       "    <tr>\n",
       "      <th>349788</th>\n",
       "      <td>2016-03-20 19:41:00</td>\n",
       "      <td>3400</td>\n",
       "      <td>wagon</td>\n",
       "      <td>2002</td>\n",
       "      <td>manual</td>\n",
       "      <td>100</td>\n",
       "      <td>golf</td>\n",
       "      <td>150000</td>\n",
       "      <td>6</td>\n",
       "      <td>gasoline</td>\n",
       "      <td>volkswagen</td>\n",
       "      <td>NaN</td>\n",
       "      <td>2016-03-20</td>\n",
       "      <td>0</td>\n",
       "      <td>40764</td>\n",
       "      <td>2016-03-24 12:45:00</td>\n",
       "    </tr>\n",
       "  </tbody>\n",
       "</table>\n",
       "<p>349789 rows × 16 columns</p>\n",
       "</div>"
      ],
      "text/plain": [
       "               datecrawled  price  vehicletype  registrationyear gearbox  \\\n",
       "0      2016-03-24 11:52:00    480          NaN              1993  manual   \n",
       "1      2016-03-24 10:58:00  18300        coupe              2011  manual   \n",
       "2      2016-03-14 12:52:00   9800          suv              2004    auto   \n",
       "3      2016-03-17 16:54:00   1500        small              2001  manual   \n",
       "4      2016-03-31 17:25:00   3600        small              2008  manual   \n",
       "...                    ...    ...          ...               ...     ...   \n",
       "349784 2016-03-21 09:50:00      0          NaN              2005  manual   \n",
       "349785 2016-03-14 17:48:00   2200          NaN              2005     NaN   \n",
       "349786 2016-03-05 19:56:00   1199  convertible              2000    auto   \n",
       "349787 2016-03-19 18:57:00   9200          bus              1996  manual   \n",
       "349788 2016-03-20 19:41:00   3400        wagon              2002  manual   \n",
       "\n",
       "        power        model  mileage  registrationmonth  fueltype  \\\n",
       "0           0         golf   150000                  0    petrol   \n",
       "1         190          NaN   125000                  5  gasoline   \n",
       "2         163        grand   125000                  8  gasoline   \n",
       "3          75         golf   150000                  6    petrol   \n",
       "4          69        fabia    90000                  7  gasoline   \n",
       "...       ...          ...      ...                ...       ...   \n",
       "349784      0         colt   150000                  7    petrol   \n",
       "349785      0          NaN    20000                  1       NaN   \n",
       "349786    101       fortwo   125000                  3    petrol   \n",
       "349787    102  transporter   150000                  3  gasoline   \n",
       "349788    100         golf   150000                  6  gasoline   \n",
       "\n",
       "                 brand notrepaired datecreated  numberofpictures  postalcode  \\\n",
       "0           volkswagen         NaN  2016-03-24                 0       70435   \n",
       "1                 audi         yes  2016-03-24                 0       66954   \n",
       "2                 jeep         NaN  2016-03-14                 0       90480   \n",
       "3           volkswagen          no  2016-03-17                 0       91074   \n",
       "4                skoda          no  2016-03-31                 0       60437   \n",
       "...                ...         ...         ...               ...         ...   \n",
       "349784      mitsubishi         yes  2016-03-21                 0        2694   \n",
       "349785  sonstige_autos         NaN  2016-03-14                 0       39576   \n",
       "349786           smart          no  2016-03-05                 0       26135   \n",
       "349787      volkswagen          no  2016-03-19                 0       87439   \n",
       "349788      volkswagen         NaN  2016-03-20                 0       40764   \n",
       "\n",
       "                  lastseen  \n",
       "0      2016-04-07 03:16:00  \n",
       "1      2016-04-07 01:46:00  \n",
       "2      2016-04-05 12:47:00  \n",
       "3      2016-03-17 17:40:00  \n",
       "4      2016-04-06 10:17:00  \n",
       "...                    ...  \n",
       "349784 2016-03-21 10:42:00  \n",
       "349785 2016-04-06 00:46:00  \n",
       "349786 2016-03-11 18:17:00  \n",
       "349787 2016-04-07 07:15:00  \n",
       "349788 2016-03-24 12:45:00  \n",
       "\n",
       "[349789 rows x 16 columns]"
      ]
     },
     "execution_count": 16,
     "metadata": {},
     "output_type": "execute_result"
    }
   ],
   "source": [
    "#removing outliers for price for given brand and model\n",
    "remove_outliers(df, 'price', 'brand', 'model')"
   ]
  },
  {
   "cell_type": "code",
   "execution_count": 17,
   "metadata": {
    "scrolled": true
   },
   "outputs": [
    {
     "data": {
      "text/plain": [
       "count    349789.000000\n",
       "mean       4286.547819\n",
       "std        4365.271874\n",
       "min           0.000000\n",
       "25%        1000.000000\n",
       "50%        2650.000000\n",
       "75%        6100.000000\n",
       "max       20000.000000\n",
       "Name: price, dtype: float64"
      ]
     },
     "execution_count": 17,
     "metadata": {},
     "output_type": "execute_result"
    }
   ],
   "source": [
    "#checking changes\n",
    "df['price'].describe()"
   ]
  },
  {
   "cell_type": "markdown",
   "metadata": {},
   "source": [
    "Still some low values remain in place but extreme outliers have been removed."
   ]
  },
  {
   "cell_type": "markdown",
   "metadata": {},
   "source": [
    "### `vehicletype`"
   ]
  },
  {
   "cell_type": "code",
   "execution_count": 18,
   "metadata": {},
   "outputs": [
    {
     "data": {
      "text/plain": [
       "sedan          90343\n",
       "small          78588\n",
       "wagon          64410\n",
       "bus            28335\n",
       "convertible    19805\n",
       "coupe          15871\n",
       "suv            11854\n",
       "other           3250\n",
       "Name: vehicletype, dtype: int64"
      ]
     },
     "execution_count": 18,
     "metadata": {},
     "output_type": "execute_result"
    }
   ],
   "source": [
    "#checking data\n",
    "df['vehicletype'].value_counts()"
   ]
  },
  {
   "cell_type": "code",
   "execution_count": 19,
   "metadata": {},
   "outputs": [
    {
     "data": {
      "text/html": [
       "<div>\n",
       "<style scoped>\n",
       "    .dataframe tbody tr th:only-of-type {\n",
       "        vertical-align: middle;\n",
       "    }\n",
       "\n",
       "    .dataframe tbody tr th {\n",
       "        vertical-align: top;\n",
       "    }\n",
       "\n",
       "    .dataframe thead th {\n",
       "        text-align: right;\n",
       "    }\n",
       "</style>\n",
       "<table border=\"1\" class=\"dataframe\">\n",
       "  <thead>\n",
       "    <tr style=\"text-align: right;\">\n",
       "      <th></th>\n",
       "      <th>datecrawled</th>\n",
       "      <th>price</th>\n",
       "      <th>vehicletype</th>\n",
       "      <th>registrationyear</th>\n",
       "      <th>gearbox</th>\n",
       "      <th>power</th>\n",
       "      <th>model</th>\n",
       "      <th>mileage</th>\n",
       "      <th>registrationmonth</th>\n",
       "      <th>fueltype</th>\n",
       "      <th>brand</th>\n",
       "      <th>notrepaired</th>\n",
       "      <th>datecreated</th>\n",
       "      <th>numberofpictures</th>\n",
       "      <th>postalcode</th>\n",
       "      <th>lastseen</th>\n",
       "    </tr>\n",
       "  </thead>\n",
       "  <tbody>\n",
       "    <tr>\n",
       "      <th>0</th>\n",
       "      <td>2016-03-24 11:52:00</td>\n",
       "      <td>480</td>\n",
       "      <td>NaN</td>\n",
       "      <td>1993</td>\n",
       "      <td>manual</td>\n",
       "      <td>0</td>\n",
       "      <td>golf</td>\n",
       "      <td>150000</td>\n",
       "      <td>0</td>\n",
       "      <td>petrol</td>\n",
       "      <td>volkswagen</td>\n",
       "      <td>NaN</td>\n",
       "      <td>2016-03-24</td>\n",
       "      <td>0</td>\n",
       "      <td>70435</td>\n",
       "      <td>2016-04-07 03:16:00</td>\n",
       "    </tr>\n",
       "    <tr>\n",
       "      <th>16</th>\n",
       "      <td>2016-04-01 12:46:00</td>\n",
       "      <td>300</td>\n",
       "      <td>NaN</td>\n",
       "      <td>2016</td>\n",
       "      <td>NaN</td>\n",
       "      <td>60</td>\n",
       "      <td>polo</td>\n",
       "      <td>150000</td>\n",
       "      <td>0</td>\n",
       "      <td>petrol</td>\n",
       "      <td>volkswagen</td>\n",
       "      <td>NaN</td>\n",
       "      <td>2016-04-01</td>\n",
       "      <td>0</td>\n",
       "      <td>38871</td>\n",
       "      <td>2016-04-01 12:46:00</td>\n",
       "    </tr>\n",
       "    <tr>\n",
       "      <th>22</th>\n",
       "      <td>2016-03-23 14:52:00</td>\n",
       "      <td>2900</td>\n",
       "      <td>NaN</td>\n",
       "      <td>2018</td>\n",
       "      <td>manual</td>\n",
       "      <td>90</td>\n",
       "      <td>meriva</td>\n",
       "      <td>150000</td>\n",
       "      <td>5</td>\n",
       "      <td>petrol</td>\n",
       "      <td>opel</td>\n",
       "      <td>no</td>\n",
       "      <td>2016-03-23</td>\n",
       "      <td>0</td>\n",
       "      <td>49716</td>\n",
       "      <td>2016-03-31 01:16:00</td>\n",
       "    </tr>\n",
       "    <tr>\n",
       "      <th>26</th>\n",
       "      <td>2016-03-10 19:38:00</td>\n",
       "      <td>5555</td>\n",
       "      <td>NaN</td>\n",
       "      <td>2017</td>\n",
       "      <td>manual</td>\n",
       "      <td>125</td>\n",
       "      <td>c4</td>\n",
       "      <td>125000</td>\n",
       "      <td>4</td>\n",
       "      <td>NaN</td>\n",
       "      <td>citroen</td>\n",
       "      <td>no</td>\n",
       "      <td>2016-03-10</td>\n",
       "      <td>0</td>\n",
       "      <td>31139</td>\n",
       "      <td>2016-03-16 09:16:00</td>\n",
       "    </tr>\n",
       "    <tr>\n",
       "      <th>31</th>\n",
       "      <td>2016-03-29 16:57:00</td>\n",
       "      <td>899</td>\n",
       "      <td>NaN</td>\n",
       "      <td>2016</td>\n",
       "      <td>manual</td>\n",
       "      <td>60</td>\n",
       "      <td>clio</td>\n",
       "      <td>150000</td>\n",
       "      <td>6</td>\n",
       "      <td>petrol</td>\n",
       "      <td>renault</td>\n",
       "      <td>NaN</td>\n",
       "      <td>2016-03-29</td>\n",
       "      <td>0</td>\n",
       "      <td>37075</td>\n",
       "      <td>2016-03-29 17:43:00</td>\n",
       "    </tr>\n",
       "    <tr>\n",
       "      <th>...</th>\n",
       "      <td>...</td>\n",
       "      <td>...</td>\n",
       "      <td>...</td>\n",
       "      <td>...</td>\n",
       "      <td>...</td>\n",
       "      <td>...</td>\n",
       "      <td>...</td>\n",
       "      <td>...</td>\n",
       "      <td>...</td>\n",
       "      <td>...</td>\n",
       "      <td>...</td>\n",
       "      <td>...</td>\n",
       "      <td>...</td>\n",
       "      <td>...</td>\n",
       "      <td>...</td>\n",
       "      <td>...</td>\n",
       "    </tr>\n",
       "    <tr>\n",
       "      <th>349766</th>\n",
       "      <td>2016-03-07 17:06:00</td>\n",
       "      <td>2600</td>\n",
       "      <td>NaN</td>\n",
       "      <td>2005</td>\n",
       "      <td>auto</td>\n",
       "      <td>0</td>\n",
       "      <td>c_klasse</td>\n",
       "      <td>150000</td>\n",
       "      <td>9</td>\n",
       "      <td>NaN</td>\n",
       "      <td>mercedes_benz</td>\n",
       "      <td>NaN</td>\n",
       "      <td>2016-03-07</td>\n",
       "      <td>0</td>\n",
       "      <td>61169</td>\n",
       "      <td>2016-03-08 21:28:00</td>\n",
       "    </tr>\n",
       "    <tr>\n",
       "      <th>349771</th>\n",
       "      <td>2016-03-11 23:40:00</td>\n",
       "      <td>1900</td>\n",
       "      <td>NaN</td>\n",
       "      <td>2000</td>\n",
       "      <td>manual</td>\n",
       "      <td>110</td>\n",
       "      <td>NaN</td>\n",
       "      <td>150000</td>\n",
       "      <td>7</td>\n",
       "      <td>NaN</td>\n",
       "      <td>volkswagen</td>\n",
       "      <td>no</td>\n",
       "      <td>2016-03-11</td>\n",
       "      <td>0</td>\n",
       "      <td>87700</td>\n",
       "      <td>2016-03-12 14:16:00</td>\n",
       "    </tr>\n",
       "    <tr>\n",
       "      <th>349781</th>\n",
       "      <td>2016-03-09 13:37:00</td>\n",
       "      <td>5250</td>\n",
       "      <td>NaN</td>\n",
       "      <td>2016</td>\n",
       "      <td>auto</td>\n",
       "      <td>150</td>\n",
       "      <td>159</td>\n",
       "      <td>150000</td>\n",
       "      <td>12</td>\n",
       "      <td>NaN</td>\n",
       "      <td>alfa_romeo</td>\n",
       "      <td>no</td>\n",
       "      <td>2016-03-09</td>\n",
       "      <td>0</td>\n",
       "      <td>51371</td>\n",
       "      <td>2016-03-13 01:44:00</td>\n",
       "    </tr>\n",
       "    <tr>\n",
       "      <th>349784</th>\n",
       "      <td>2016-03-21 09:50:00</td>\n",
       "      <td>0</td>\n",
       "      <td>NaN</td>\n",
       "      <td>2005</td>\n",
       "      <td>manual</td>\n",
       "      <td>0</td>\n",
       "      <td>colt</td>\n",
       "      <td>150000</td>\n",
       "      <td>7</td>\n",
       "      <td>petrol</td>\n",
       "      <td>mitsubishi</td>\n",
       "      <td>yes</td>\n",
       "      <td>2016-03-21</td>\n",
       "      <td>0</td>\n",
       "      <td>2694</td>\n",
       "      <td>2016-03-21 10:42:00</td>\n",
       "    </tr>\n",
       "    <tr>\n",
       "      <th>349785</th>\n",
       "      <td>2016-03-14 17:48:00</td>\n",
       "      <td>2200</td>\n",
       "      <td>NaN</td>\n",
       "      <td>2005</td>\n",
       "      <td>NaN</td>\n",
       "      <td>0</td>\n",
       "      <td>NaN</td>\n",
       "      <td>20000</td>\n",
       "      <td>1</td>\n",
       "      <td>NaN</td>\n",
       "      <td>sonstige_autos</td>\n",
       "      <td>NaN</td>\n",
       "      <td>2016-03-14</td>\n",
       "      <td>0</td>\n",
       "      <td>39576</td>\n",
       "      <td>2016-04-06 00:46:00</td>\n",
       "    </tr>\n",
       "  </tbody>\n",
       "</table>\n",
       "<p>37333 rows × 16 columns</p>\n",
       "</div>"
      ],
      "text/plain": [
       "               datecrawled  price vehicletype  registrationyear gearbox  \\\n",
       "0      2016-03-24 11:52:00    480         NaN              1993  manual   \n",
       "16     2016-04-01 12:46:00    300         NaN              2016     NaN   \n",
       "22     2016-03-23 14:52:00   2900         NaN              2018  manual   \n",
       "26     2016-03-10 19:38:00   5555         NaN              2017  manual   \n",
       "31     2016-03-29 16:57:00    899         NaN              2016  manual   \n",
       "...                    ...    ...         ...               ...     ...   \n",
       "349766 2016-03-07 17:06:00   2600         NaN              2005    auto   \n",
       "349771 2016-03-11 23:40:00   1900         NaN              2000  manual   \n",
       "349781 2016-03-09 13:37:00   5250         NaN              2016    auto   \n",
       "349784 2016-03-21 09:50:00      0         NaN              2005  manual   \n",
       "349785 2016-03-14 17:48:00   2200         NaN              2005     NaN   \n",
       "\n",
       "        power     model  mileage  registrationmonth fueltype           brand  \\\n",
       "0           0      golf   150000                  0   petrol      volkswagen   \n",
       "16         60      polo   150000                  0   petrol      volkswagen   \n",
       "22         90    meriva   150000                  5   petrol            opel   \n",
       "26        125        c4   125000                  4      NaN         citroen   \n",
       "31         60      clio   150000                  6   petrol         renault   \n",
       "...       ...       ...      ...                ...      ...             ...   \n",
       "349766      0  c_klasse   150000                  9      NaN   mercedes_benz   \n",
       "349771    110       NaN   150000                  7      NaN      volkswagen   \n",
       "349781    150       159   150000                 12      NaN      alfa_romeo   \n",
       "349784      0      colt   150000                  7   petrol      mitsubishi   \n",
       "349785      0       NaN    20000                  1      NaN  sonstige_autos   \n",
       "\n",
       "       notrepaired datecreated  numberofpictures  postalcode  \\\n",
       "0              NaN  2016-03-24                 0       70435   \n",
       "16             NaN  2016-04-01                 0       38871   \n",
       "22              no  2016-03-23                 0       49716   \n",
       "26              no  2016-03-10                 0       31139   \n",
       "31             NaN  2016-03-29                 0       37075   \n",
       "...            ...         ...               ...         ...   \n",
       "349766         NaN  2016-03-07                 0       61169   \n",
       "349771          no  2016-03-11                 0       87700   \n",
       "349781          no  2016-03-09                 0       51371   \n",
       "349784         yes  2016-03-21                 0        2694   \n",
       "349785         NaN  2016-03-14                 0       39576   \n",
       "\n",
       "                  lastseen  \n",
       "0      2016-04-07 03:16:00  \n",
       "16     2016-04-01 12:46:00  \n",
       "22     2016-03-31 01:16:00  \n",
       "26     2016-03-16 09:16:00  \n",
       "31     2016-03-29 17:43:00  \n",
       "...                    ...  \n",
       "349766 2016-03-08 21:28:00  \n",
       "349771 2016-03-12 14:16:00  \n",
       "349781 2016-03-13 01:44:00  \n",
       "349784 2016-03-21 10:42:00  \n",
       "349785 2016-04-06 00:46:00  \n",
       "\n",
       "[37333 rows x 16 columns]"
      ]
     },
     "execution_count": 19,
     "metadata": {},
     "output_type": "execute_result"
    }
   ],
   "source": [
    "#checking null values\n",
    "df[df['vehicletype'].isnull()]"
   ]
  },
  {
   "cell_type": "markdown",
   "metadata": {},
   "source": [
    "A large number of null values.\n",
    "We can imputate the vehicle type by looking at listings with the same model and brand, and taking the modal vehicle type listed."
   ]
  },
  {
   "cell_type": "code",
   "execution_count": 20,
   "metadata": {},
   "outputs": [],
   "source": [
    "def replace_null(df, col_to_replace, col1_to_use, col2_to_use, average = 'mode'):\n",
    "    \"\"\"\n",
    "    Takes two columns, finds the selected average value of non-null values in target column that have matching two columns, replaces null values in target column with modal value\n",
    "    \"\"\"\n",
    "    null_df = df[df[col_to_replace].isnull()]\n",
    "    for i in null_df[col1_to_use].unique():\n",
    "        for j in null_df[null_df[col1_to_use] == i][col2_to_use].unique():\n",
    "            temp_df = df[(df[col1_to_use] == i) & (df[col2_to_use] == j) & (df[col_to_replace].notnull())]\n",
    "            unchanged = []\n",
    "            if average == 'mode':\n",
    "                try:\n",
    "                    avg = temp_df[col_to_replace].value_counts().index[0]\n",
    "                except:\n",
    "                    unchanged.append((i,j))\n",
    "                    mode = np.nan\n",
    "            \n",
    "            elif average == 'mean':\n",
    "                try:\n",
    "                    avg = temp_df[col_to_replace].mean()\n",
    "                except:\n",
    "                    unchanged.append((i,j))\n",
    "                    avg = np.nan \n",
    "                    \n",
    "            elif average == 'median':\n",
    "                try:\n",
    "                    avg = temp_df[col_to_replace].median()\n",
    "                except:\n",
    "                    unchanged.append((i,j))\n",
    "                    avg = np.nan  \n",
    "            else:\n",
    "                print('Incorrect string for average: use \\'median\\', \\'mean\\' or \\'mode\\' .')\n",
    "                break\n",
    "                \n",
    "            to_replace = df[(df[col1_to_use] == i) & (df[col2_to_use] == j) & (df[col_to_replace].isnull())].index.tolist()\n",
    "                \n",
    "            if len(to_replace)>0:\n",
    "                df.loc[to_replace, col_to_replace] = avg\n",
    "            \n",
    "        \n",
    "    return df"
   ]
  },
  {
   "cell_type": "code",
   "execution_count": 21,
   "metadata": {},
   "outputs": [
    {
     "data": {
      "text/html": [
       "<div>\n",
       "<style scoped>\n",
       "    .dataframe tbody tr th:only-of-type {\n",
       "        vertical-align: middle;\n",
       "    }\n",
       "\n",
       "    .dataframe tbody tr th {\n",
       "        vertical-align: top;\n",
       "    }\n",
       "\n",
       "    .dataframe thead th {\n",
       "        text-align: right;\n",
       "    }\n",
       "</style>\n",
       "<table border=\"1\" class=\"dataframe\">\n",
       "  <thead>\n",
       "    <tr style=\"text-align: right;\">\n",
       "      <th></th>\n",
       "      <th>datecrawled</th>\n",
       "      <th>price</th>\n",
       "      <th>vehicletype</th>\n",
       "      <th>registrationyear</th>\n",
       "      <th>gearbox</th>\n",
       "      <th>power</th>\n",
       "      <th>model</th>\n",
       "      <th>mileage</th>\n",
       "      <th>registrationmonth</th>\n",
       "      <th>fueltype</th>\n",
       "      <th>brand</th>\n",
       "      <th>notrepaired</th>\n",
       "      <th>datecreated</th>\n",
       "      <th>numberofpictures</th>\n",
       "      <th>postalcode</th>\n",
       "      <th>lastseen</th>\n",
       "    </tr>\n",
       "  </thead>\n",
       "  <tbody>\n",
       "    <tr>\n",
       "      <th>257</th>\n",
       "      <td>2016-04-04 09:49:00</td>\n",
       "      <td>450</td>\n",
       "      <td>NaN</td>\n",
       "      <td>2016</td>\n",
       "      <td>manual</td>\n",
       "      <td>0</td>\n",
       "      <td>NaN</td>\n",
       "      <td>150000</td>\n",
       "      <td>3</td>\n",
       "      <td>petrol</td>\n",
       "      <td>mitsubishi</td>\n",
       "      <td>no</td>\n",
       "      <td>2016-04-04</td>\n",
       "      <td>0</td>\n",
       "      <td>59302</td>\n",
       "      <td>2016-04-06 11:17:00</td>\n",
       "    </tr>\n",
       "    <tr>\n",
       "      <th>303</th>\n",
       "      <td>2016-03-21 14:38:00</td>\n",
       "      <td>200</td>\n",
       "      <td>NaN</td>\n",
       "      <td>2009</td>\n",
       "      <td>NaN</td>\n",
       "      <td>0</td>\n",
       "      <td>NaN</td>\n",
       "      <td>10000</td>\n",
       "      <td>0</td>\n",
       "      <td>NaN</td>\n",
       "      <td>sonstige_autos</td>\n",
       "      <td>NaN</td>\n",
       "      <td>2016-03-21</td>\n",
       "      <td>0</td>\n",
       "      <td>6493</td>\n",
       "      <td>2016-03-24 02:47:00</td>\n",
       "    </tr>\n",
       "    <tr>\n",
       "      <th>427</th>\n",
       "      <td>2016-03-27 18:43:00</td>\n",
       "      <td>1300</td>\n",
       "      <td>NaN</td>\n",
       "      <td>2017</td>\n",
       "      <td>manual</td>\n",
       "      <td>150</td>\n",
       "      <td>NaN</td>\n",
       "      <td>150000</td>\n",
       "      <td>10</td>\n",
       "      <td>NaN</td>\n",
       "      <td>volkswagen</td>\n",
       "      <td>no</td>\n",
       "      <td>2016-03-27</td>\n",
       "      <td>0</td>\n",
       "      <td>70374</td>\n",
       "      <td>2016-04-05 15:15:00</td>\n",
       "    </tr>\n",
       "    <tr>\n",
       "      <th>435</th>\n",
       "      <td>2016-03-24 16:46:00</td>\n",
       "      <td>1950</td>\n",
       "      <td>NaN</td>\n",
       "      <td>2017</td>\n",
       "      <td>manual</td>\n",
       "      <td>0</td>\n",
       "      <td>NaN</td>\n",
       "      <td>150000</td>\n",
       "      <td>7</td>\n",
       "      <td>petrol</td>\n",
       "      <td>volkswagen</td>\n",
       "      <td>no</td>\n",
       "      <td>2016-03-24</td>\n",
       "      <td>0</td>\n",
       "      <td>70376</td>\n",
       "      <td>2016-03-30 18:16:00</td>\n",
       "    </tr>\n",
       "    <tr>\n",
       "      <th>470</th>\n",
       "      <td>2016-03-24 17:49:00</td>\n",
       "      <td>0</td>\n",
       "      <td>NaN</td>\n",
       "      <td>2000</td>\n",
       "      <td>manual</td>\n",
       "      <td>0</td>\n",
       "      <td>NaN</td>\n",
       "      <td>150000</td>\n",
       "      <td>0</td>\n",
       "      <td>NaN</td>\n",
       "      <td>audi</td>\n",
       "      <td>yes</td>\n",
       "      <td>2016-03-24</td>\n",
       "      <td>0</td>\n",
       "      <td>72514</td>\n",
       "      <td>2016-03-29 03:45:00</td>\n",
       "    </tr>\n",
       "    <tr>\n",
       "      <th>...</th>\n",
       "      <td>...</td>\n",
       "      <td>...</td>\n",
       "      <td>...</td>\n",
       "      <td>...</td>\n",
       "      <td>...</td>\n",
       "      <td>...</td>\n",
       "      <td>...</td>\n",
       "      <td>...</td>\n",
       "      <td>...</td>\n",
       "      <td>...</td>\n",
       "      <td>...</td>\n",
       "      <td>...</td>\n",
       "      <td>...</td>\n",
       "      <td>...</td>\n",
       "      <td>...</td>\n",
       "      <td>...</td>\n",
       "    </tr>\n",
       "    <tr>\n",
       "      <th>349504</th>\n",
       "      <td>2016-03-30 07:54:00</td>\n",
       "      <td>0</td>\n",
       "      <td>NaN</td>\n",
       "      <td>2000</td>\n",
       "      <td>NaN</td>\n",
       "      <td>0</td>\n",
       "      <td>NaN</td>\n",
       "      <td>150000</td>\n",
       "      <td>0</td>\n",
       "      <td>NaN</td>\n",
       "      <td>sonstige_autos</td>\n",
       "      <td>NaN</td>\n",
       "      <td>2016-03-30</td>\n",
       "      <td>0</td>\n",
       "      <td>6686</td>\n",
       "      <td>2016-04-06 23:46:00</td>\n",
       "    </tr>\n",
       "    <tr>\n",
       "      <th>349583</th>\n",
       "      <td>2016-03-07 19:51:00</td>\n",
       "      <td>1500</td>\n",
       "      <td>NaN</td>\n",
       "      <td>1995</td>\n",
       "      <td>NaN</td>\n",
       "      <td>0</td>\n",
       "      <td>NaN</td>\n",
       "      <td>150000</td>\n",
       "      <td>0</td>\n",
       "      <td>NaN</td>\n",
       "      <td>volkswagen</td>\n",
       "      <td>NaN</td>\n",
       "      <td>2016-03-07</td>\n",
       "      <td>0</td>\n",
       "      <td>26789</td>\n",
       "      <td>2016-04-03 11:46:00</td>\n",
       "    </tr>\n",
       "    <tr>\n",
       "      <th>349758</th>\n",
       "      <td>2016-03-31 19:52:00</td>\n",
       "      <td>180</td>\n",
       "      <td>NaN</td>\n",
       "      <td>1995</td>\n",
       "      <td>NaN</td>\n",
       "      <td>0</td>\n",
       "      <td>NaN</td>\n",
       "      <td>125000</td>\n",
       "      <td>3</td>\n",
       "      <td>petrol</td>\n",
       "      <td>opel</td>\n",
       "      <td>NaN</td>\n",
       "      <td>2016-03-31</td>\n",
       "      <td>0</td>\n",
       "      <td>41470</td>\n",
       "      <td>2016-04-06 14:18:00</td>\n",
       "    </tr>\n",
       "    <tr>\n",
       "      <th>349771</th>\n",
       "      <td>2016-03-11 23:40:00</td>\n",
       "      <td>1900</td>\n",
       "      <td>NaN</td>\n",
       "      <td>2000</td>\n",
       "      <td>manual</td>\n",
       "      <td>110</td>\n",
       "      <td>NaN</td>\n",
       "      <td>150000</td>\n",
       "      <td>7</td>\n",
       "      <td>NaN</td>\n",
       "      <td>volkswagen</td>\n",
       "      <td>no</td>\n",
       "      <td>2016-03-11</td>\n",
       "      <td>0</td>\n",
       "      <td>87700</td>\n",
       "      <td>2016-03-12 14:16:00</td>\n",
       "    </tr>\n",
       "    <tr>\n",
       "      <th>349785</th>\n",
       "      <td>2016-03-14 17:48:00</td>\n",
       "      <td>2200</td>\n",
       "      <td>NaN</td>\n",
       "      <td>2005</td>\n",
       "      <td>NaN</td>\n",
       "      <td>0</td>\n",
       "      <td>NaN</td>\n",
       "      <td>20000</td>\n",
       "      <td>1</td>\n",
       "      <td>NaN</td>\n",
       "      <td>sonstige_autos</td>\n",
       "      <td>NaN</td>\n",
       "      <td>2016-03-14</td>\n",
       "      <td>0</td>\n",
       "      <td>39576</td>\n",
       "      <td>2016-04-06 00:46:00</td>\n",
       "    </tr>\n",
       "  </tbody>\n",
       "</table>\n",
       "<p>6828 rows × 16 columns</p>\n",
       "</div>"
      ],
      "text/plain": [
       "               datecrawled  price vehicletype  registrationyear gearbox  \\\n",
       "257    2016-04-04 09:49:00    450         NaN              2016  manual   \n",
       "303    2016-03-21 14:38:00    200         NaN              2009     NaN   \n",
       "427    2016-03-27 18:43:00   1300         NaN              2017  manual   \n",
       "435    2016-03-24 16:46:00   1950         NaN              2017  manual   \n",
       "470    2016-03-24 17:49:00      0         NaN              2000  manual   \n",
       "...                    ...    ...         ...               ...     ...   \n",
       "349504 2016-03-30 07:54:00      0         NaN              2000     NaN   \n",
       "349583 2016-03-07 19:51:00   1500         NaN              1995     NaN   \n",
       "349758 2016-03-31 19:52:00    180         NaN              1995     NaN   \n",
       "349771 2016-03-11 23:40:00   1900         NaN              2000  manual   \n",
       "349785 2016-03-14 17:48:00   2200         NaN              2005     NaN   \n",
       "\n",
       "        power model  mileage  registrationmonth fueltype           brand  \\\n",
       "257         0   NaN   150000                  3   petrol      mitsubishi   \n",
       "303         0   NaN    10000                  0      NaN  sonstige_autos   \n",
       "427       150   NaN   150000                 10      NaN      volkswagen   \n",
       "435         0   NaN   150000                  7   petrol      volkswagen   \n",
       "470         0   NaN   150000                  0      NaN            audi   \n",
       "...       ...   ...      ...                ...      ...             ...   \n",
       "349504      0   NaN   150000                  0      NaN  sonstige_autos   \n",
       "349583      0   NaN   150000                  0      NaN      volkswagen   \n",
       "349758      0   NaN   125000                  3   petrol            opel   \n",
       "349771    110   NaN   150000                  7      NaN      volkswagen   \n",
       "349785      0   NaN    20000                  1      NaN  sonstige_autos   \n",
       "\n",
       "       notrepaired datecreated  numberofpictures  postalcode  \\\n",
       "257             no  2016-04-04                 0       59302   \n",
       "303            NaN  2016-03-21                 0        6493   \n",
       "427             no  2016-03-27                 0       70374   \n",
       "435             no  2016-03-24                 0       70376   \n",
       "470            yes  2016-03-24                 0       72514   \n",
       "...            ...         ...               ...         ...   \n",
       "349504         NaN  2016-03-30                 0        6686   \n",
       "349583         NaN  2016-03-07                 0       26789   \n",
       "349758         NaN  2016-03-31                 0       41470   \n",
       "349771          no  2016-03-11                 0       87700   \n",
       "349785         NaN  2016-03-14                 0       39576   \n",
       "\n",
       "                  lastseen  \n",
       "257    2016-04-06 11:17:00  \n",
       "303    2016-03-24 02:47:00  \n",
       "427    2016-04-05 15:15:00  \n",
       "435    2016-03-30 18:16:00  \n",
       "470    2016-03-29 03:45:00  \n",
       "...                    ...  \n",
       "349504 2016-04-06 23:46:00  \n",
       "349583 2016-04-03 11:46:00  \n",
       "349758 2016-04-06 14:18:00  \n",
       "349771 2016-03-12 14:16:00  \n",
       "349785 2016-04-06 00:46:00  \n",
       "\n",
       "[6828 rows x 16 columns]"
      ]
     },
     "execution_count": 21,
     "metadata": {},
     "output_type": "execute_result"
    }
   ],
   "source": [
    "#replacing null values\n",
    "replace_null(df, 'vehicletype', 'brand', 'model', average = 'mode')\n",
    "df[df['vehicletype'].isnull()]"
   ]
  },
  {
   "cell_type": "code",
   "execution_count": 22,
   "metadata": {},
   "outputs": [
    {
     "data": {
      "text/html": [
       "<div>\n",
       "<style scoped>\n",
       "    .dataframe tbody tr th:only-of-type {\n",
       "        vertical-align: middle;\n",
       "    }\n",
       "\n",
       "    .dataframe tbody tr th {\n",
       "        vertical-align: top;\n",
       "    }\n",
       "\n",
       "    .dataframe thead th {\n",
       "        text-align: right;\n",
       "    }\n",
       "</style>\n",
       "<table border=\"1\" class=\"dataframe\">\n",
       "  <thead>\n",
       "    <tr style=\"text-align: right;\">\n",
       "      <th></th>\n",
       "      <th>datecrawled</th>\n",
       "      <th>price</th>\n",
       "      <th>vehicletype</th>\n",
       "      <th>registrationyear</th>\n",
       "      <th>gearbox</th>\n",
       "      <th>power</th>\n",
       "      <th>model</th>\n",
       "      <th>mileage</th>\n",
       "      <th>registrationmonth</th>\n",
       "      <th>fueltype</th>\n",
       "      <th>brand</th>\n",
       "      <th>notrepaired</th>\n",
       "      <th>datecreated</th>\n",
       "      <th>numberofpictures</th>\n",
       "      <th>postalcode</th>\n",
       "      <th>lastseen</th>\n",
       "    </tr>\n",
       "  </thead>\n",
       "  <tbody>\n",
       "    <tr>\n",
       "      <th>257</th>\n",
       "      <td>2016-04-04 09:49:00</td>\n",
       "      <td>450</td>\n",
       "      <td>NaN</td>\n",
       "      <td>2016</td>\n",
       "      <td>manual</td>\n",
       "      <td>0</td>\n",
       "      <td>NaN</td>\n",
       "      <td>150000</td>\n",
       "      <td>3</td>\n",
       "      <td>petrol</td>\n",
       "      <td>mitsubishi</td>\n",
       "      <td>no</td>\n",
       "      <td>2016-04-04</td>\n",
       "      <td>0</td>\n",
       "      <td>59302</td>\n",
       "      <td>2016-04-06 11:17:00</td>\n",
       "    </tr>\n",
       "    <tr>\n",
       "      <th>303</th>\n",
       "      <td>2016-03-21 14:38:00</td>\n",
       "      <td>200</td>\n",
       "      <td>NaN</td>\n",
       "      <td>2009</td>\n",
       "      <td>NaN</td>\n",
       "      <td>0</td>\n",
       "      <td>NaN</td>\n",
       "      <td>10000</td>\n",
       "      <td>0</td>\n",
       "      <td>NaN</td>\n",
       "      <td>sonstige_autos</td>\n",
       "      <td>NaN</td>\n",
       "      <td>2016-03-21</td>\n",
       "      <td>0</td>\n",
       "      <td>6493</td>\n",
       "      <td>2016-03-24 02:47:00</td>\n",
       "    </tr>\n",
       "    <tr>\n",
       "      <th>427</th>\n",
       "      <td>2016-03-27 18:43:00</td>\n",
       "      <td>1300</td>\n",
       "      <td>NaN</td>\n",
       "      <td>2017</td>\n",
       "      <td>manual</td>\n",
       "      <td>150</td>\n",
       "      <td>NaN</td>\n",
       "      <td>150000</td>\n",
       "      <td>10</td>\n",
       "      <td>NaN</td>\n",
       "      <td>volkswagen</td>\n",
       "      <td>no</td>\n",
       "      <td>2016-03-27</td>\n",
       "      <td>0</td>\n",
       "      <td>70374</td>\n",
       "      <td>2016-04-05 15:15:00</td>\n",
       "    </tr>\n",
       "    <tr>\n",
       "      <th>435</th>\n",
       "      <td>2016-03-24 16:46:00</td>\n",
       "      <td>1950</td>\n",
       "      <td>NaN</td>\n",
       "      <td>2017</td>\n",
       "      <td>manual</td>\n",
       "      <td>0</td>\n",
       "      <td>NaN</td>\n",
       "      <td>150000</td>\n",
       "      <td>7</td>\n",
       "      <td>petrol</td>\n",
       "      <td>volkswagen</td>\n",
       "      <td>no</td>\n",
       "      <td>2016-03-24</td>\n",
       "      <td>0</td>\n",
       "      <td>70376</td>\n",
       "      <td>2016-03-30 18:16:00</td>\n",
       "    </tr>\n",
       "    <tr>\n",
       "      <th>470</th>\n",
       "      <td>2016-03-24 17:49:00</td>\n",
       "      <td>0</td>\n",
       "      <td>NaN</td>\n",
       "      <td>2000</td>\n",
       "      <td>manual</td>\n",
       "      <td>0</td>\n",
       "      <td>NaN</td>\n",
       "      <td>150000</td>\n",
       "      <td>0</td>\n",
       "      <td>NaN</td>\n",
       "      <td>audi</td>\n",
       "      <td>yes</td>\n",
       "      <td>2016-03-24</td>\n",
       "      <td>0</td>\n",
       "      <td>72514</td>\n",
       "      <td>2016-03-29 03:45:00</td>\n",
       "    </tr>\n",
       "    <tr>\n",
       "      <th>...</th>\n",
       "      <td>...</td>\n",
       "      <td>...</td>\n",
       "      <td>...</td>\n",
       "      <td>...</td>\n",
       "      <td>...</td>\n",
       "      <td>...</td>\n",
       "      <td>...</td>\n",
       "      <td>...</td>\n",
       "      <td>...</td>\n",
       "      <td>...</td>\n",
       "      <td>...</td>\n",
       "      <td>...</td>\n",
       "      <td>...</td>\n",
       "      <td>...</td>\n",
       "      <td>...</td>\n",
       "      <td>...</td>\n",
       "    </tr>\n",
       "    <tr>\n",
       "      <th>349504</th>\n",
       "      <td>2016-03-30 07:54:00</td>\n",
       "      <td>0</td>\n",
       "      <td>NaN</td>\n",
       "      <td>2000</td>\n",
       "      <td>NaN</td>\n",
       "      <td>0</td>\n",
       "      <td>NaN</td>\n",
       "      <td>150000</td>\n",
       "      <td>0</td>\n",
       "      <td>NaN</td>\n",
       "      <td>sonstige_autos</td>\n",
       "      <td>NaN</td>\n",
       "      <td>2016-03-30</td>\n",
       "      <td>0</td>\n",
       "      <td>6686</td>\n",
       "      <td>2016-04-06 23:46:00</td>\n",
       "    </tr>\n",
       "    <tr>\n",
       "      <th>349583</th>\n",
       "      <td>2016-03-07 19:51:00</td>\n",
       "      <td>1500</td>\n",
       "      <td>NaN</td>\n",
       "      <td>1995</td>\n",
       "      <td>NaN</td>\n",
       "      <td>0</td>\n",
       "      <td>NaN</td>\n",
       "      <td>150000</td>\n",
       "      <td>0</td>\n",
       "      <td>NaN</td>\n",
       "      <td>volkswagen</td>\n",
       "      <td>NaN</td>\n",
       "      <td>2016-03-07</td>\n",
       "      <td>0</td>\n",
       "      <td>26789</td>\n",
       "      <td>2016-04-03 11:46:00</td>\n",
       "    </tr>\n",
       "    <tr>\n",
       "      <th>349758</th>\n",
       "      <td>2016-03-31 19:52:00</td>\n",
       "      <td>180</td>\n",
       "      <td>NaN</td>\n",
       "      <td>1995</td>\n",
       "      <td>NaN</td>\n",
       "      <td>0</td>\n",
       "      <td>NaN</td>\n",
       "      <td>125000</td>\n",
       "      <td>3</td>\n",
       "      <td>petrol</td>\n",
       "      <td>opel</td>\n",
       "      <td>NaN</td>\n",
       "      <td>2016-03-31</td>\n",
       "      <td>0</td>\n",
       "      <td>41470</td>\n",
       "      <td>2016-04-06 14:18:00</td>\n",
       "    </tr>\n",
       "    <tr>\n",
       "      <th>349771</th>\n",
       "      <td>2016-03-11 23:40:00</td>\n",
       "      <td>1900</td>\n",
       "      <td>NaN</td>\n",
       "      <td>2000</td>\n",
       "      <td>manual</td>\n",
       "      <td>110</td>\n",
       "      <td>NaN</td>\n",
       "      <td>150000</td>\n",
       "      <td>7</td>\n",
       "      <td>NaN</td>\n",
       "      <td>volkswagen</td>\n",
       "      <td>no</td>\n",
       "      <td>2016-03-11</td>\n",
       "      <td>0</td>\n",
       "      <td>87700</td>\n",
       "      <td>2016-03-12 14:16:00</td>\n",
       "    </tr>\n",
       "    <tr>\n",
       "      <th>349785</th>\n",
       "      <td>2016-03-14 17:48:00</td>\n",
       "      <td>2200</td>\n",
       "      <td>NaN</td>\n",
       "      <td>2005</td>\n",
       "      <td>NaN</td>\n",
       "      <td>0</td>\n",
       "      <td>NaN</td>\n",
       "      <td>20000</td>\n",
       "      <td>1</td>\n",
       "      <td>NaN</td>\n",
       "      <td>sonstige_autos</td>\n",
       "      <td>NaN</td>\n",
       "      <td>2016-03-14</td>\n",
       "      <td>0</td>\n",
       "      <td>39576</td>\n",
       "      <td>2016-04-06 00:46:00</td>\n",
       "    </tr>\n",
       "  </tbody>\n",
       "</table>\n",
       "<p>6828 rows × 16 columns</p>\n",
       "</div>"
      ],
      "text/plain": [
       "               datecrawled  price vehicletype  registrationyear gearbox  \\\n",
       "257    2016-04-04 09:49:00    450         NaN              2016  manual   \n",
       "303    2016-03-21 14:38:00    200         NaN              2009     NaN   \n",
       "427    2016-03-27 18:43:00   1300         NaN              2017  manual   \n",
       "435    2016-03-24 16:46:00   1950         NaN              2017  manual   \n",
       "470    2016-03-24 17:49:00      0         NaN              2000  manual   \n",
       "...                    ...    ...         ...               ...     ...   \n",
       "349504 2016-03-30 07:54:00      0         NaN              2000     NaN   \n",
       "349583 2016-03-07 19:51:00   1500         NaN              1995     NaN   \n",
       "349758 2016-03-31 19:52:00    180         NaN              1995     NaN   \n",
       "349771 2016-03-11 23:40:00   1900         NaN              2000  manual   \n",
       "349785 2016-03-14 17:48:00   2200         NaN              2005     NaN   \n",
       "\n",
       "        power model  mileage  registrationmonth fueltype           brand  \\\n",
       "257         0   NaN   150000                  3   petrol      mitsubishi   \n",
       "303         0   NaN    10000                  0      NaN  sonstige_autos   \n",
       "427       150   NaN   150000                 10      NaN      volkswagen   \n",
       "435         0   NaN   150000                  7   petrol      volkswagen   \n",
       "470         0   NaN   150000                  0      NaN            audi   \n",
       "...       ...   ...      ...                ...      ...             ...   \n",
       "349504      0   NaN   150000                  0      NaN  sonstige_autos   \n",
       "349583      0   NaN   150000                  0      NaN      volkswagen   \n",
       "349758      0   NaN   125000                  3   petrol            opel   \n",
       "349771    110   NaN   150000                  7      NaN      volkswagen   \n",
       "349785      0   NaN    20000                  1      NaN  sonstige_autos   \n",
       "\n",
       "       notrepaired datecreated  numberofpictures  postalcode  \\\n",
       "257             no  2016-04-04                 0       59302   \n",
       "303            NaN  2016-03-21                 0        6493   \n",
       "427             no  2016-03-27                 0       70374   \n",
       "435             no  2016-03-24                 0       70376   \n",
       "470            yes  2016-03-24                 0       72514   \n",
       "...            ...         ...               ...         ...   \n",
       "349504         NaN  2016-03-30                 0        6686   \n",
       "349583         NaN  2016-03-07                 0       26789   \n",
       "349758         NaN  2016-03-31                 0       41470   \n",
       "349771          no  2016-03-11                 0       87700   \n",
       "349785         NaN  2016-03-14                 0       39576   \n",
       "\n",
       "                  lastseen  \n",
       "257    2016-04-06 11:17:00  \n",
       "303    2016-03-24 02:47:00  \n",
       "427    2016-04-05 15:15:00  \n",
       "435    2016-03-30 18:16:00  \n",
       "470    2016-03-29 03:45:00  \n",
       "...                    ...  \n",
       "349504 2016-04-06 23:46:00  \n",
       "349583 2016-04-03 11:46:00  \n",
       "349758 2016-04-06 14:18:00  \n",
       "349771 2016-03-12 14:16:00  \n",
       "349785 2016-04-06 00:46:00  \n",
       "\n",
       "[6828 rows x 16 columns]"
      ]
     },
     "execution_count": 22,
     "metadata": {},
     "output_type": "execute_result"
    }
   ],
   "source": [
    "df[df['vehicletype'].isnull()]"
   ]
  },
  {
   "cell_type": "markdown",
   "metadata": {},
   "source": [
    "A small number of null values remain, most where we do not know the model.\n",
    "We can remove these witout to much issue as it would be very hard to predict a price without knowing a model."
   ]
  },
  {
   "cell_type": "code",
   "execution_count": 23,
   "metadata": {},
   "outputs": [],
   "source": [
    "df = df[df['vehicletype'].notnull()]"
   ]
  },
  {
   "cell_type": "markdown",
   "metadata": {},
   "source": [
    "### `registrationyear`"
   ]
  },
  {
   "cell_type": "code",
   "execution_count": 24,
   "metadata": {},
   "outputs": [
    {
     "data": {
      "text/plain": [
       "count    342961.000000\n",
       "mean       2003.602783\n",
       "std          67.179017\n",
       "min        1000.000000\n",
       "25%        1999.000000\n",
       "50%        2003.000000\n",
       "75%        2007.000000\n",
       "max        9999.000000\n",
       "Name: registrationyear, dtype: float64"
      ]
     },
     "execution_count": 24,
     "metadata": {},
     "output_type": "execute_result"
    }
   ],
   "source": [
    "#checking data\n",
    "df['registrationyear'].describe()"
   ]
  },
  {
   "cell_type": "code",
   "execution_count": 25,
   "metadata": {},
   "outputs": [],
   "source": [
    "#Removing those with unrealistic values\n",
    "df = df[(df['registrationyear'] <2017) & (df['registrationyear'] >1950)]"
   ]
  },
  {
   "cell_type": "code",
   "execution_count": 26,
   "metadata": {},
   "outputs": [
    {
     "name": "stdout",
     "output_type": "stream",
     "text": [
      "dropped: 2246\n"
     ]
    },
    {
     "data": {
      "text/html": [
       "<div>\n",
       "<style scoped>\n",
       "    .dataframe tbody tr th:only-of-type {\n",
       "        vertical-align: middle;\n",
       "    }\n",
       "\n",
       "    .dataframe tbody tr th {\n",
       "        vertical-align: top;\n",
       "    }\n",
       "\n",
       "    .dataframe thead th {\n",
       "        text-align: right;\n",
       "    }\n",
       "</style>\n",
       "<table border=\"1\" class=\"dataframe\">\n",
       "  <thead>\n",
       "    <tr style=\"text-align: right;\">\n",
       "      <th></th>\n",
       "      <th>datecrawled</th>\n",
       "      <th>price</th>\n",
       "      <th>vehicletype</th>\n",
       "      <th>registrationyear</th>\n",
       "      <th>gearbox</th>\n",
       "      <th>power</th>\n",
       "      <th>model</th>\n",
       "      <th>mileage</th>\n",
       "      <th>registrationmonth</th>\n",
       "      <th>fueltype</th>\n",
       "      <th>brand</th>\n",
       "      <th>notrepaired</th>\n",
       "      <th>datecreated</th>\n",
       "      <th>numberofpictures</th>\n",
       "      <th>postalcode</th>\n",
       "      <th>lastseen</th>\n",
       "    </tr>\n",
       "  </thead>\n",
       "  <tbody>\n",
       "    <tr>\n",
       "      <th>0</th>\n",
       "      <td>2016-03-24 11:52:00</td>\n",
       "      <td>480</td>\n",
       "      <td>sedan</td>\n",
       "      <td>1993</td>\n",
       "      <td>manual</td>\n",
       "      <td>0</td>\n",
       "      <td>golf</td>\n",
       "      <td>150000</td>\n",
       "      <td>0</td>\n",
       "      <td>petrol</td>\n",
       "      <td>volkswagen</td>\n",
       "      <td>NaN</td>\n",
       "      <td>2016-03-24</td>\n",
       "      <td>0</td>\n",
       "      <td>70435</td>\n",
       "      <td>2016-04-07 03:16:00</td>\n",
       "    </tr>\n",
       "    <tr>\n",
       "      <th>1</th>\n",
       "      <td>2016-03-24 10:58:00</td>\n",
       "      <td>18300</td>\n",
       "      <td>coupe</td>\n",
       "      <td>2011</td>\n",
       "      <td>manual</td>\n",
       "      <td>190</td>\n",
       "      <td>NaN</td>\n",
       "      <td>125000</td>\n",
       "      <td>5</td>\n",
       "      <td>gasoline</td>\n",
       "      <td>audi</td>\n",
       "      <td>yes</td>\n",
       "      <td>2016-03-24</td>\n",
       "      <td>0</td>\n",
       "      <td>66954</td>\n",
       "      <td>2016-04-07 01:46:00</td>\n",
       "    </tr>\n",
       "    <tr>\n",
       "      <th>2</th>\n",
       "      <td>2016-03-14 12:52:00</td>\n",
       "      <td>9800</td>\n",
       "      <td>suv</td>\n",
       "      <td>2004</td>\n",
       "      <td>auto</td>\n",
       "      <td>163</td>\n",
       "      <td>grand</td>\n",
       "      <td>125000</td>\n",
       "      <td>8</td>\n",
       "      <td>gasoline</td>\n",
       "      <td>jeep</td>\n",
       "      <td>NaN</td>\n",
       "      <td>2016-03-14</td>\n",
       "      <td>0</td>\n",
       "      <td>90480</td>\n",
       "      <td>2016-04-05 12:47:00</td>\n",
       "    </tr>\n",
       "    <tr>\n",
       "      <th>3</th>\n",
       "      <td>2016-03-17 16:54:00</td>\n",
       "      <td>1500</td>\n",
       "      <td>small</td>\n",
       "      <td>2001</td>\n",
       "      <td>manual</td>\n",
       "      <td>75</td>\n",
       "      <td>golf</td>\n",
       "      <td>150000</td>\n",
       "      <td>6</td>\n",
       "      <td>petrol</td>\n",
       "      <td>volkswagen</td>\n",
       "      <td>no</td>\n",
       "      <td>2016-03-17</td>\n",
       "      <td>0</td>\n",
       "      <td>91074</td>\n",
       "      <td>2016-03-17 17:40:00</td>\n",
       "    </tr>\n",
       "    <tr>\n",
       "      <th>4</th>\n",
       "      <td>2016-03-31 17:25:00</td>\n",
       "      <td>3600</td>\n",
       "      <td>small</td>\n",
       "      <td>2008</td>\n",
       "      <td>manual</td>\n",
       "      <td>69</td>\n",
       "      <td>fabia</td>\n",
       "      <td>90000</td>\n",
       "      <td>7</td>\n",
       "      <td>gasoline</td>\n",
       "      <td>skoda</td>\n",
       "      <td>no</td>\n",
       "      <td>2016-03-31</td>\n",
       "      <td>0</td>\n",
       "      <td>60437</td>\n",
       "      <td>2016-04-06 10:17:00</td>\n",
       "    </tr>\n",
       "    <tr>\n",
       "      <th>...</th>\n",
       "      <td>...</td>\n",
       "      <td>...</td>\n",
       "      <td>...</td>\n",
       "      <td>...</td>\n",
       "      <td>...</td>\n",
       "      <td>...</td>\n",
       "      <td>...</td>\n",
       "      <td>...</td>\n",
       "      <td>...</td>\n",
       "      <td>...</td>\n",
       "      <td>...</td>\n",
       "      <td>...</td>\n",
       "      <td>...</td>\n",
       "      <td>...</td>\n",
       "      <td>...</td>\n",
       "      <td>...</td>\n",
       "    </tr>\n",
       "    <tr>\n",
       "      <th>328130</th>\n",
       "      <td>2016-03-27 20:36:00</td>\n",
       "      <td>1150</td>\n",
       "      <td>bus</td>\n",
       "      <td>2000</td>\n",
       "      <td>manual</td>\n",
       "      <td>0</td>\n",
       "      <td>zafira</td>\n",
       "      <td>150000</td>\n",
       "      <td>3</td>\n",
       "      <td>petrol</td>\n",
       "      <td>opel</td>\n",
       "      <td>no</td>\n",
       "      <td>2016-03-27</td>\n",
       "      <td>0</td>\n",
       "      <td>26624</td>\n",
       "      <td>2016-03-29 10:17:00</td>\n",
       "    </tr>\n",
       "    <tr>\n",
       "      <th>328131</th>\n",
       "      <td>2016-03-21 09:50:00</td>\n",
       "      <td>0</td>\n",
       "      <td>sedan</td>\n",
       "      <td>2005</td>\n",
       "      <td>manual</td>\n",
       "      <td>0</td>\n",
       "      <td>colt</td>\n",
       "      <td>150000</td>\n",
       "      <td>7</td>\n",
       "      <td>petrol</td>\n",
       "      <td>mitsubishi</td>\n",
       "      <td>yes</td>\n",
       "      <td>2016-03-21</td>\n",
       "      <td>0</td>\n",
       "      <td>2694</td>\n",
       "      <td>2016-03-21 10:42:00</td>\n",
       "    </tr>\n",
       "    <tr>\n",
       "      <th>328132</th>\n",
       "      <td>2016-03-05 19:56:00</td>\n",
       "      <td>1199</td>\n",
       "      <td>convertible</td>\n",
       "      <td>2000</td>\n",
       "      <td>auto</td>\n",
       "      <td>101</td>\n",
       "      <td>fortwo</td>\n",
       "      <td>125000</td>\n",
       "      <td>3</td>\n",
       "      <td>petrol</td>\n",
       "      <td>smart</td>\n",
       "      <td>no</td>\n",
       "      <td>2016-03-05</td>\n",
       "      <td>0</td>\n",
       "      <td>26135</td>\n",
       "      <td>2016-03-11 18:17:00</td>\n",
       "    </tr>\n",
       "    <tr>\n",
       "      <th>328133</th>\n",
       "      <td>2016-03-19 18:57:00</td>\n",
       "      <td>9200</td>\n",
       "      <td>bus</td>\n",
       "      <td>1996</td>\n",
       "      <td>manual</td>\n",
       "      <td>102</td>\n",
       "      <td>transporter</td>\n",
       "      <td>150000</td>\n",
       "      <td>3</td>\n",
       "      <td>gasoline</td>\n",
       "      <td>volkswagen</td>\n",
       "      <td>no</td>\n",
       "      <td>2016-03-19</td>\n",
       "      <td>0</td>\n",
       "      <td>87439</td>\n",
       "      <td>2016-04-07 07:15:00</td>\n",
       "    </tr>\n",
       "    <tr>\n",
       "      <th>328134</th>\n",
       "      <td>2016-03-20 19:41:00</td>\n",
       "      <td>3400</td>\n",
       "      <td>wagon</td>\n",
       "      <td>2002</td>\n",
       "      <td>manual</td>\n",
       "      <td>100</td>\n",
       "      <td>golf</td>\n",
       "      <td>150000</td>\n",
       "      <td>6</td>\n",
       "      <td>gasoline</td>\n",
       "      <td>volkswagen</td>\n",
       "      <td>NaN</td>\n",
       "      <td>2016-03-20</td>\n",
       "      <td>0</td>\n",
       "      <td>40764</td>\n",
       "      <td>2016-03-24 12:45:00</td>\n",
       "    </tr>\n",
       "  </tbody>\n",
       "</table>\n",
       "<p>328135 rows × 16 columns</p>\n",
       "</div>"
      ],
      "text/plain": [
       "               datecrawled  price  vehicletype  registrationyear gearbox  \\\n",
       "0      2016-03-24 11:52:00    480        sedan              1993  manual   \n",
       "1      2016-03-24 10:58:00  18300        coupe              2011  manual   \n",
       "2      2016-03-14 12:52:00   9800          suv              2004    auto   \n",
       "3      2016-03-17 16:54:00   1500        small              2001  manual   \n",
       "4      2016-03-31 17:25:00   3600        small              2008  manual   \n",
       "...                    ...    ...          ...               ...     ...   \n",
       "328130 2016-03-27 20:36:00   1150          bus              2000  manual   \n",
       "328131 2016-03-21 09:50:00      0        sedan              2005  manual   \n",
       "328132 2016-03-05 19:56:00   1199  convertible              2000    auto   \n",
       "328133 2016-03-19 18:57:00   9200          bus              1996  manual   \n",
       "328134 2016-03-20 19:41:00   3400        wagon              2002  manual   \n",
       "\n",
       "        power        model  mileage  registrationmonth  fueltype       brand  \\\n",
       "0           0         golf   150000                  0    petrol  volkswagen   \n",
       "1         190          NaN   125000                  5  gasoline        audi   \n",
       "2         163        grand   125000                  8  gasoline        jeep   \n",
       "3          75         golf   150000                  6    petrol  volkswagen   \n",
       "4          69        fabia    90000                  7  gasoline       skoda   \n",
       "...       ...          ...      ...                ...       ...         ...   \n",
       "328130      0       zafira   150000                  3    petrol        opel   \n",
       "328131      0         colt   150000                  7    petrol  mitsubishi   \n",
       "328132    101       fortwo   125000                  3    petrol       smart   \n",
       "328133    102  transporter   150000                  3  gasoline  volkswagen   \n",
       "328134    100         golf   150000                  6  gasoline  volkswagen   \n",
       "\n",
       "       notrepaired datecreated  numberofpictures  postalcode  \\\n",
       "0              NaN  2016-03-24                 0       70435   \n",
       "1              yes  2016-03-24                 0       66954   \n",
       "2              NaN  2016-03-14                 0       90480   \n",
       "3               no  2016-03-17                 0       91074   \n",
       "4               no  2016-03-31                 0       60437   \n",
       "...            ...         ...               ...         ...   \n",
       "328130          no  2016-03-27                 0       26624   \n",
       "328131         yes  2016-03-21                 0        2694   \n",
       "328132          no  2016-03-05                 0       26135   \n",
       "328133          no  2016-03-19                 0       87439   \n",
       "328134         NaN  2016-03-20                 0       40764   \n",
       "\n",
       "                  lastseen  \n",
       "0      2016-04-07 03:16:00  \n",
       "1      2016-04-07 01:46:00  \n",
       "2      2016-04-05 12:47:00  \n",
       "3      2016-03-17 17:40:00  \n",
       "4      2016-04-06 10:17:00  \n",
       "...                    ...  \n",
       "328130 2016-03-29 10:17:00  \n",
       "328131 2016-03-21 10:42:00  \n",
       "328132 2016-03-11 18:17:00  \n",
       "328133 2016-04-07 07:15:00  \n",
       "328134 2016-03-24 12:45:00  \n",
       "\n",
       "[328135 rows x 16 columns]"
      ]
     },
     "execution_count": 26,
     "metadata": {},
     "output_type": "execute_result"
    }
   ],
   "source": [
    "#remving outliers for specific models\n",
    "remove_outliers(df, 'registrationyear', 'brand', 'model')"
   ]
  },
  {
   "cell_type": "code",
   "execution_count": 27,
   "metadata": {},
   "outputs": [
    {
     "data": {
      "text/html": [
       "<div>\n",
       "<style scoped>\n",
       "    .dataframe tbody tr th:only-of-type {\n",
       "        vertical-align: middle;\n",
       "    }\n",
       "\n",
       "    .dataframe tbody tr th {\n",
       "        vertical-align: top;\n",
       "    }\n",
       "\n",
       "    .dataframe thead th {\n",
       "        text-align: right;\n",
       "    }\n",
       "</style>\n",
       "<table border=\"1\" class=\"dataframe\">\n",
       "  <thead>\n",
       "    <tr style=\"text-align: right;\">\n",
       "      <th></th>\n",
       "      <th>datecrawled</th>\n",
       "      <th>price</th>\n",
       "      <th>vehicletype</th>\n",
       "      <th>registrationyear</th>\n",
       "      <th>gearbox</th>\n",
       "      <th>power</th>\n",
       "      <th>model</th>\n",
       "      <th>mileage</th>\n",
       "      <th>registrationmonth</th>\n",
       "      <th>fueltype</th>\n",
       "      <th>brand</th>\n",
       "      <th>notrepaired</th>\n",
       "      <th>datecreated</th>\n",
       "      <th>numberofpictures</th>\n",
       "      <th>postalcode</th>\n",
       "      <th>lastseen</th>\n",
       "    </tr>\n",
       "  </thead>\n",
       "  <tbody>\n",
       "  </tbody>\n",
       "</table>\n",
       "</div>"
      ],
      "text/plain": [
       "Empty DataFrame\n",
       "Columns: [datecrawled, price, vehicletype, registrationyear, gearbox, power, model, mileage, registrationmonth, fueltype, brand, notrepaired, datecreated, numberofpictures, postalcode, lastseen]\n",
       "Index: []"
      ]
     },
     "execution_count": 27,
     "metadata": {},
     "output_type": "execute_result"
    }
   ],
   "source": [
    "#checking fix\n",
    "df[df['registrationyear'].isnull()]"
   ]
  },
  {
   "cell_type": "markdown",
   "metadata": {},
   "source": [
    "### `gearbox`"
   ]
  },
  {
   "cell_type": "code",
   "execution_count": 28,
   "metadata": {},
   "outputs": [
    {
     "data": {
      "text/plain": [
       "manual    250737\n",
       "auto       62547\n",
       "Name: gearbox, dtype: int64"
      ]
     },
     "execution_count": 28,
     "metadata": {},
     "output_type": "execute_result"
    }
   ],
   "source": [
    "df['gearbox'].value_counts()"
   ]
  },
  {
   "cell_type": "code",
   "execution_count": 29,
   "metadata": {
    "scrolled": true
   },
   "outputs": [
    {
     "data": {
      "text/html": [
       "<div>\n",
       "<style scoped>\n",
       "    .dataframe tbody tr th:only-of-type {\n",
       "        vertical-align: middle;\n",
       "    }\n",
       "\n",
       "    .dataframe tbody tr th {\n",
       "        vertical-align: top;\n",
       "    }\n",
       "\n",
       "    .dataframe thead th {\n",
       "        text-align: right;\n",
       "    }\n",
       "</style>\n",
       "<table border=\"1\" class=\"dataframe\">\n",
       "  <thead>\n",
       "    <tr style=\"text-align: right;\">\n",
       "      <th></th>\n",
       "      <th>datecrawled</th>\n",
       "      <th>price</th>\n",
       "      <th>vehicletype</th>\n",
       "      <th>registrationyear</th>\n",
       "      <th>gearbox</th>\n",
       "      <th>power</th>\n",
       "      <th>model</th>\n",
       "      <th>mileage</th>\n",
       "      <th>registrationmonth</th>\n",
       "      <th>fueltype</th>\n",
       "      <th>brand</th>\n",
       "      <th>notrepaired</th>\n",
       "      <th>datecreated</th>\n",
       "      <th>numberofpictures</th>\n",
       "      <th>postalcode</th>\n",
       "      <th>lastseen</th>\n",
       "    </tr>\n",
       "  </thead>\n",
       "  <tbody>\n",
       "    <tr>\n",
       "      <th>15</th>\n",
       "      <td>2016-04-01 12:46:00</td>\n",
       "      <td>300</td>\n",
       "      <td>small</td>\n",
       "      <td>2016</td>\n",
       "      <td>NaN</td>\n",
       "      <td>60</td>\n",
       "      <td>polo</td>\n",
       "      <td>150000</td>\n",
       "      <td>0</td>\n",
       "      <td>petrol</td>\n",
       "      <td>volkswagen</td>\n",
       "      <td>NaN</td>\n",
       "      <td>2016-04-01</td>\n",
       "      <td>0</td>\n",
       "      <td>38871</td>\n",
       "      <td>2016-04-01 12:46:00</td>\n",
       "    </tr>\n",
       "    <tr>\n",
       "      <th>29</th>\n",
       "      <td>2016-03-15 20:59:00</td>\n",
       "      <td>245</td>\n",
       "      <td>sedan</td>\n",
       "      <td>1994</td>\n",
       "      <td>NaN</td>\n",
       "      <td>0</td>\n",
       "      <td>golf</td>\n",
       "      <td>150000</td>\n",
       "      <td>2</td>\n",
       "      <td>petrol</td>\n",
       "      <td>volkswagen</td>\n",
       "      <td>no</td>\n",
       "      <td>2016-03-15</td>\n",
       "      <td>0</td>\n",
       "      <td>44145</td>\n",
       "      <td>2016-03-17 18:17:00</td>\n",
       "    </tr>\n",
       "    <tr>\n",
       "      <th>34</th>\n",
       "      <td>2016-03-28 17:50:00</td>\n",
       "      <td>1500</td>\n",
       "      <td>bus</td>\n",
       "      <td>2016</td>\n",
       "      <td>NaN</td>\n",
       "      <td>0</td>\n",
       "      <td>kangoo</td>\n",
       "      <td>150000</td>\n",
       "      <td>1</td>\n",
       "      <td>gasoline</td>\n",
       "      <td>renault</td>\n",
       "      <td>no</td>\n",
       "      <td>2016-03-28</td>\n",
       "      <td>0</td>\n",
       "      <td>46483</td>\n",
       "      <td>2016-03-30 09:18:00</td>\n",
       "    </tr>\n",
       "    <tr>\n",
       "      <th>37</th>\n",
       "      <td>2016-03-26 22:06:00</td>\n",
       "      <td>0</td>\n",
       "      <td>small</td>\n",
       "      <td>1990</td>\n",
       "      <td>NaN</td>\n",
       "      <td>0</td>\n",
       "      <td>corsa</td>\n",
       "      <td>150000</td>\n",
       "      <td>1</td>\n",
       "      <td>petrol</td>\n",
       "      <td>opel</td>\n",
       "      <td>NaN</td>\n",
       "      <td>2016-03-26</td>\n",
       "      <td>0</td>\n",
       "      <td>56412</td>\n",
       "      <td>2016-03-27 17:43:00</td>\n",
       "    </tr>\n",
       "    <tr>\n",
       "      <th>61</th>\n",
       "      <td>2016-04-01 11:56:00</td>\n",
       "      <td>1200</td>\n",
       "      <td>coupe</td>\n",
       "      <td>2001</td>\n",
       "      <td>NaN</td>\n",
       "      <td>0</td>\n",
       "      <td>astra</td>\n",
       "      <td>150000</td>\n",
       "      <td>0</td>\n",
       "      <td>NaN</td>\n",
       "      <td>opel</td>\n",
       "      <td>NaN</td>\n",
       "      <td>2016-04-01</td>\n",
       "      <td>0</td>\n",
       "      <td>47249</td>\n",
       "      <td>2016-04-07 08:46:00</td>\n",
       "    </tr>\n",
       "    <tr>\n",
       "      <th>...</th>\n",
       "      <td>...</td>\n",
       "      <td>...</td>\n",
       "      <td>...</td>\n",
       "      <td>...</td>\n",
       "      <td>...</td>\n",
       "      <td>...</td>\n",
       "      <td>...</td>\n",
       "      <td>...</td>\n",
       "      <td>...</td>\n",
       "      <td>...</td>\n",
       "      <td>...</td>\n",
       "      <td>...</td>\n",
       "      <td>...</td>\n",
       "      <td>...</td>\n",
       "      <td>...</td>\n",
       "      <td>...</td>\n",
       "    </tr>\n",
       "    <tr>\n",
       "      <th>328031</th>\n",
       "      <td>2016-03-09 17:59:00</td>\n",
       "      <td>399</td>\n",
       "      <td>other</td>\n",
       "      <td>1994</td>\n",
       "      <td>NaN</td>\n",
       "      <td>1103</td>\n",
       "      <td>3er</td>\n",
       "      <td>150000</td>\n",
       "      <td>0</td>\n",
       "      <td>NaN</td>\n",
       "      <td>bmw</td>\n",
       "      <td>NaN</td>\n",
       "      <td>2016-03-09</td>\n",
       "      <td>0</td>\n",
       "      <td>56235</td>\n",
       "      <td>2016-03-17 09:17:00</td>\n",
       "    </tr>\n",
       "    <tr>\n",
       "      <th>328056</th>\n",
       "      <td>2016-03-28 18:50:00</td>\n",
       "      <td>3500</td>\n",
       "      <td>small</td>\n",
       "      <td>2001</td>\n",
       "      <td>NaN</td>\n",
       "      <td>75</td>\n",
       "      <td>corsa</td>\n",
       "      <td>90000</td>\n",
       "      <td>4</td>\n",
       "      <td>petrol</td>\n",
       "      <td>opel</td>\n",
       "      <td>no</td>\n",
       "      <td>2016-03-28</td>\n",
       "      <td>0</td>\n",
       "      <td>49740</td>\n",
       "      <td>2016-04-07 01:15:00</td>\n",
       "    </tr>\n",
       "    <tr>\n",
       "      <th>328059</th>\n",
       "      <td>2016-03-16 13:36:00</td>\n",
       "      <td>3300</td>\n",
       "      <td>wagon</td>\n",
       "      <td>2006</td>\n",
       "      <td>NaN</td>\n",
       "      <td>0</td>\n",
       "      <td>touran</td>\n",
       "      <td>150000</td>\n",
       "      <td>7</td>\n",
       "      <td>gasoline</td>\n",
       "      <td>volkswagen</td>\n",
       "      <td>NaN</td>\n",
       "      <td>2016-03-16</td>\n",
       "      <td>0</td>\n",
       "      <td>12057</td>\n",
       "      <td>2016-03-17 12:17:00</td>\n",
       "    </tr>\n",
       "    <tr>\n",
       "      <th>328075</th>\n",
       "      <td>2016-04-03 13:46:00</td>\n",
       "      <td>3500</td>\n",
       "      <td>small</td>\n",
       "      <td>1995</td>\n",
       "      <td>NaN</td>\n",
       "      <td>0</td>\n",
       "      <td>polo</td>\n",
       "      <td>150000</td>\n",
       "      <td>0</td>\n",
       "      <td>NaN</td>\n",
       "      <td>volkswagen</td>\n",
       "      <td>NaN</td>\n",
       "      <td>2016-04-03</td>\n",
       "      <td>0</td>\n",
       "      <td>74579</td>\n",
       "      <td>2016-04-05 12:44:00</td>\n",
       "    </tr>\n",
       "    <tr>\n",
       "      <th>328099</th>\n",
       "      <td>2016-03-30 20:55:00</td>\n",
       "      <td>350</td>\n",
       "      <td>small</td>\n",
       "      <td>1996</td>\n",
       "      <td>NaN</td>\n",
       "      <td>65</td>\n",
       "      <td>punto</td>\n",
       "      <td>150000</td>\n",
       "      <td>0</td>\n",
       "      <td>NaN</td>\n",
       "      <td>fiat</td>\n",
       "      <td>NaN</td>\n",
       "      <td>2016-03-30</td>\n",
       "      <td>0</td>\n",
       "      <td>25436</td>\n",
       "      <td>2016-04-07 13:50:00</td>\n",
       "    </tr>\n",
       "  </tbody>\n",
       "</table>\n",
       "<p>14851 rows × 16 columns</p>\n",
       "</div>"
      ],
      "text/plain": [
       "               datecrawled  price vehicletype  registrationyear gearbox  \\\n",
       "15     2016-04-01 12:46:00    300       small              2016     NaN   \n",
       "29     2016-03-15 20:59:00    245       sedan              1994     NaN   \n",
       "34     2016-03-28 17:50:00   1500         bus              2016     NaN   \n",
       "37     2016-03-26 22:06:00      0       small              1990     NaN   \n",
       "61     2016-04-01 11:56:00   1200       coupe              2001     NaN   \n",
       "...                    ...    ...         ...               ...     ...   \n",
       "328031 2016-03-09 17:59:00    399       other              1994     NaN   \n",
       "328056 2016-03-28 18:50:00   3500       small              2001     NaN   \n",
       "328059 2016-03-16 13:36:00   3300       wagon              2006     NaN   \n",
       "328075 2016-04-03 13:46:00   3500       small              1995     NaN   \n",
       "328099 2016-03-30 20:55:00    350       small              1996     NaN   \n",
       "\n",
       "        power   model  mileage  registrationmonth  fueltype       brand  \\\n",
       "15         60    polo   150000                  0    petrol  volkswagen   \n",
       "29          0    golf   150000                  2    petrol  volkswagen   \n",
       "34          0  kangoo   150000                  1  gasoline     renault   \n",
       "37          0   corsa   150000                  1    petrol        opel   \n",
       "61          0   astra   150000                  0       NaN        opel   \n",
       "...       ...     ...      ...                ...       ...         ...   \n",
       "328031   1103     3er   150000                  0       NaN         bmw   \n",
       "328056     75   corsa    90000                  4    petrol        opel   \n",
       "328059      0  touran   150000                  7  gasoline  volkswagen   \n",
       "328075      0    polo   150000                  0       NaN  volkswagen   \n",
       "328099     65   punto   150000                  0       NaN        fiat   \n",
       "\n",
       "       notrepaired datecreated  numberofpictures  postalcode  \\\n",
       "15             NaN  2016-04-01                 0       38871   \n",
       "29              no  2016-03-15                 0       44145   \n",
       "34              no  2016-03-28                 0       46483   \n",
       "37             NaN  2016-03-26                 0       56412   \n",
       "61             NaN  2016-04-01                 0       47249   \n",
       "...            ...         ...               ...         ...   \n",
       "328031         NaN  2016-03-09                 0       56235   \n",
       "328056          no  2016-03-28                 0       49740   \n",
       "328059         NaN  2016-03-16                 0       12057   \n",
       "328075         NaN  2016-04-03                 0       74579   \n",
       "328099         NaN  2016-03-30                 0       25436   \n",
       "\n",
       "                  lastseen  \n",
       "15     2016-04-01 12:46:00  \n",
       "29     2016-03-17 18:17:00  \n",
       "34     2016-03-30 09:18:00  \n",
       "37     2016-03-27 17:43:00  \n",
       "61     2016-04-07 08:46:00  \n",
       "...                    ...  \n",
       "328031 2016-03-17 09:17:00  \n",
       "328056 2016-04-07 01:15:00  \n",
       "328059 2016-03-17 12:17:00  \n",
       "328075 2016-04-05 12:44:00  \n",
       "328099 2016-04-07 13:50:00  \n",
       "\n",
       "[14851 rows x 16 columns]"
      ]
     },
     "execution_count": 29,
     "metadata": {},
     "output_type": "execute_result"
    }
   ],
   "source": [
    "#checking null values\n",
    "df[df['gearbox'].isnull()]"
   ]
  },
  {
   "cell_type": "code",
   "execution_count": 30,
   "metadata": {},
   "outputs": [
    {
     "data": {
      "text/html": [
       "<div>\n",
       "<style scoped>\n",
       "    .dataframe tbody tr th:only-of-type {\n",
       "        vertical-align: middle;\n",
       "    }\n",
       "\n",
       "    .dataframe tbody tr th {\n",
       "        vertical-align: top;\n",
       "    }\n",
       "\n",
       "    .dataframe thead th {\n",
       "        text-align: right;\n",
       "    }\n",
       "</style>\n",
       "<table border=\"1\" class=\"dataframe\">\n",
       "  <thead>\n",
       "    <tr style=\"text-align: right;\">\n",
       "      <th></th>\n",
       "      <th>datecrawled</th>\n",
       "      <th>price</th>\n",
       "      <th>vehicletype</th>\n",
       "      <th>registrationyear</th>\n",
       "      <th>gearbox</th>\n",
       "      <th>power</th>\n",
       "      <th>model</th>\n",
       "      <th>mileage</th>\n",
       "      <th>registrationmonth</th>\n",
       "      <th>fueltype</th>\n",
       "      <th>brand</th>\n",
       "      <th>notrepaired</th>\n",
       "      <th>datecreated</th>\n",
       "      <th>numberofpictures</th>\n",
       "      <th>postalcode</th>\n",
       "      <th>lastseen</th>\n",
       "    </tr>\n",
       "  </thead>\n",
       "  <tbody>\n",
       "    <tr>\n",
       "      <th>0</th>\n",
       "      <td>2016-03-24 11:52:00</td>\n",
       "      <td>480</td>\n",
       "      <td>sedan</td>\n",
       "      <td>1993</td>\n",
       "      <td>manual</td>\n",
       "      <td>0</td>\n",
       "      <td>golf</td>\n",
       "      <td>150000</td>\n",
       "      <td>0</td>\n",
       "      <td>petrol</td>\n",
       "      <td>volkswagen</td>\n",
       "      <td>NaN</td>\n",
       "      <td>2016-03-24</td>\n",
       "      <td>0</td>\n",
       "      <td>70435</td>\n",
       "      <td>2016-04-07 03:16:00</td>\n",
       "    </tr>\n",
       "    <tr>\n",
       "      <th>1</th>\n",
       "      <td>2016-03-24 10:58:00</td>\n",
       "      <td>18300</td>\n",
       "      <td>coupe</td>\n",
       "      <td>2011</td>\n",
       "      <td>manual</td>\n",
       "      <td>190</td>\n",
       "      <td>NaN</td>\n",
       "      <td>125000</td>\n",
       "      <td>5</td>\n",
       "      <td>gasoline</td>\n",
       "      <td>audi</td>\n",
       "      <td>yes</td>\n",
       "      <td>2016-03-24</td>\n",
       "      <td>0</td>\n",
       "      <td>66954</td>\n",
       "      <td>2016-04-07 01:46:00</td>\n",
       "    </tr>\n",
       "    <tr>\n",
       "      <th>2</th>\n",
       "      <td>2016-03-14 12:52:00</td>\n",
       "      <td>9800</td>\n",
       "      <td>suv</td>\n",
       "      <td>2004</td>\n",
       "      <td>auto</td>\n",
       "      <td>163</td>\n",
       "      <td>grand</td>\n",
       "      <td>125000</td>\n",
       "      <td>8</td>\n",
       "      <td>gasoline</td>\n",
       "      <td>jeep</td>\n",
       "      <td>NaN</td>\n",
       "      <td>2016-03-14</td>\n",
       "      <td>0</td>\n",
       "      <td>90480</td>\n",
       "      <td>2016-04-05 12:47:00</td>\n",
       "    </tr>\n",
       "    <tr>\n",
       "      <th>3</th>\n",
       "      <td>2016-03-17 16:54:00</td>\n",
       "      <td>1500</td>\n",
       "      <td>small</td>\n",
       "      <td>2001</td>\n",
       "      <td>manual</td>\n",
       "      <td>75</td>\n",
       "      <td>golf</td>\n",
       "      <td>150000</td>\n",
       "      <td>6</td>\n",
       "      <td>petrol</td>\n",
       "      <td>volkswagen</td>\n",
       "      <td>no</td>\n",
       "      <td>2016-03-17</td>\n",
       "      <td>0</td>\n",
       "      <td>91074</td>\n",
       "      <td>2016-03-17 17:40:00</td>\n",
       "    </tr>\n",
       "    <tr>\n",
       "      <th>4</th>\n",
       "      <td>2016-03-31 17:25:00</td>\n",
       "      <td>3600</td>\n",
       "      <td>small</td>\n",
       "      <td>2008</td>\n",
       "      <td>manual</td>\n",
       "      <td>69</td>\n",
       "      <td>fabia</td>\n",
       "      <td>90000</td>\n",
       "      <td>7</td>\n",
       "      <td>gasoline</td>\n",
       "      <td>skoda</td>\n",
       "      <td>no</td>\n",
       "      <td>2016-03-31</td>\n",
       "      <td>0</td>\n",
       "      <td>60437</td>\n",
       "      <td>2016-04-06 10:17:00</td>\n",
       "    </tr>\n",
       "    <tr>\n",
       "      <th>...</th>\n",
       "      <td>...</td>\n",
       "      <td>...</td>\n",
       "      <td>...</td>\n",
       "      <td>...</td>\n",
       "      <td>...</td>\n",
       "      <td>...</td>\n",
       "      <td>...</td>\n",
       "      <td>...</td>\n",
       "      <td>...</td>\n",
       "      <td>...</td>\n",
       "      <td>...</td>\n",
       "      <td>...</td>\n",
       "      <td>...</td>\n",
       "      <td>...</td>\n",
       "      <td>...</td>\n",
       "      <td>...</td>\n",
       "    </tr>\n",
       "    <tr>\n",
       "      <th>328130</th>\n",
       "      <td>2016-03-27 20:36:00</td>\n",
       "      <td>1150</td>\n",
       "      <td>bus</td>\n",
       "      <td>2000</td>\n",
       "      <td>manual</td>\n",
       "      <td>0</td>\n",
       "      <td>zafira</td>\n",
       "      <td>150000</td>\n",
       "      <td>3</td>\n",
       "      <td>petrol</td>\n",
       "      <td>opel</td>\n",
       "      <td>no</td>\n",
       "      <td>2016-03-27</td>\n",
       "      <td>0</td>\n",
       "      <td>26624</td>\n",
       "      <td>2016-03-29 10:17:00</td>\n",
       "    </tr>\n",
       "    <tr>\n",
       "      <th>328131</th>\n",
       "      <td>2016-03-21 09:50:00</td>\n",
       "      <td>0</td>\n",
       "      <td>sedan</td>\n",
       "      <td>2005</td>\n",
       "      <td>manual</td>\n",
       "      <td>0</td>\n",
       "      <td>colt</td>\n",
       "      <td>150000</td>\n",
       "      <td>7</td>\n",
       "      <td>petrol</td>\n",
       "      <td>mitsubishi</td>\n",
       "      <td>yes</td>\n",
       "      <td>2016-03-21</td>\n",
       "      <td>0</td>\n",
       "      <td>2694</td>\n",
       "      <td>2016-03-21 10:42:00</td>\n",
       "    </tr>\n",
       "    <tr>\n",
       "      <th>328132</th>\n",
       "      <td>2016-03-05 19:56:00</td>\n",
       "      <td>1199</td>\n",
       "      <td>convertible</td>\n",
       "      <td>2000</td>\n",
       "      <td>auto</td>\n",
       "      <td>101</td>\n",
       "      <td>fortwo</td>\n",
       "      <td>125000</td>\n",
       "      <td>3</td>\n",
       "      <td>petrol</td>\n",
       "      <td>smart</td>\n",
       "      <td>no</td>\n",
       "      <td>2016-03-05</td>\n",
       "      <td>0</td>\n",
       "      <td>26135</td>\n",
       "      <td>2016-03-11 18:17:00</td>\n",
       "    </tr>\n",
       "    <tr>\n",
       "      <th>328133</th>\n",
       "      <td>2016-03-19 18:57:00</td>\n",
       "      <td>9200</td>\n",
       "      <td>bus</td>\n",
       "      <td>1996</td>\n",
       "      <td>manual</td>\n",
       "      <td>102</td>\n",
       "      <td>transporter</td>\n",
       "      <td>150000</td>\n",
       "      <td>3</td>\n",
       "      <td>gasoline</td>\n",
       "      <td>volkswagen</td>\n",
       "      <td>no</td>\n",
       "      <td>2016-03-19</td>\n",
       "      <td>0</td>\n",
       "      <td>87439</td>\n",
       "      <td>2016-04-07 07:15:00</td>\n",
       "    </tr>\n",
       "    <tr>\n",
       "      <th>328134</th>\n",
       "      <td>2016-03-20 19:41:00</td>\n",
       "      <td>3400</td>\n",
       "      <td>wagon</td>\n",
       "      <td>2002</td>\n",
       "      <td>manual</td>\n",
       "      <td>100</td>\n",
       "      <td>golf</td>\n",
       "      <td>150000</td>\n",
       "      <td>6</td>\n",
       "      <td>gasoline</td>\n",
       "      <td>volkswagen</td>\n",
       "      <td>NaN</td>\n",
       "      <td>2016-03-20</td>\n",
       "      <td>0</td>\n",
       "      <td>40764</td>\n",
       "      <td>2016-03-24 12:45:00</td>\n",
       "    </tr>\n",
       "  </tbody>\n",
       "</table>\n",
       "<p>328135 rows × 16 columns</p>\n",
       "</div>"
      ],
      "text/plain": [
       "               datecrawled  price  vehicletype  registrationyear gearbox  \\\n",
       "0      2016-03-24 11:52:00    480        sedan              1993  manual   \n",
       "1      2016-03-24 10:58:00  18300        coupe              2011  manual   \n",
       "2      2016-03-14 12:52:00   9800          suv              2004    auto   \n",
       "3      2016-03-17 16:54:00   1500        small              2001  manual   \n",
       "4      2016-03-31 17:25:00   3600        small              2008  manual   \n",
       "...                    ...    ...          ...               ...     ...   \n",
       "328130 2016-03-27 20:36:00   1150          bus              2000  manual   \n",
       "328131 2016-03-21 09:50:00      0        sedan              2005  manual   \n",
       "328132 2016-03-05 19:56:00   1199  convertible              2000    auto   \n",
       "328133 2016-03-19 18:57:00   9200          bus              1996  manual   \n",
       "328134 2016-03-20 19:41:00   3400        wagon              2002  manual   \n",
       "\n",
       "        power        model  mileage  registrationmonth  fueltype       brand  \\\n",
       "0           0         golf   150000                  0    petrol  volkswagen   \n",
       "1         190          NaN   125000                  5  gasoline        audi   \n",
       "2         163        grand   125000                  8  gasoline        jeep   \n",
       "3          75         golf   150000                  6    petrol  volkswagen   \n",
       "4          69        fabia    90000                  7  gasoline       skoda   \n",
       "...       ...          ...      ...                ...       ...         ...   \n",
       "328130      0       zafira   150000                  3    petrol        opel   \n",
       "328131      0         colt   150000                  7    petrol  mitsubishi   \n",
       "328132    101       fortwo   125000                  3    petrol       smart   \n",
       "328133    102  transporter   150000                  3  gasoline  volkswagen   \n",
       "328134    100         golf   150000                  6  gasoline  volkswagen   \n",
       "\n",
       "       notrepaired datecreated  numberofpictures  postalcode  \\\n",
       "0              NaN  2016-03-24                 0       70435   \n",
       "1              yes  2016-03-24                 0       66954   \n",
       "2              NaN  2016-03-14                 0       90480   \n",
       "3               no  2016-03-17                 0       91074   \n",
       "4               no  2016-03-31                 0       60437   \n",
       "...            ...         ...               ...         ...   \n",
       "328130          no  2016-03-27                 0       26624   \n",
       "328131         yes  2016-03-21                 0        2694   \n",
       "328132          no  2016-03-05                 0       26135   \n",
       "328133          no  2016-03-19                 0       87439   \n",
       "328134         NaN  2016-03-20                 0       40764   \n",
       "\n",
       "                  lastseen  \n",
       "0      2016-04-07 03:16:00  \n",
       "1      2016-04-07 01:46:00  \n",
       "2      2016-04-05 12:47:00  \n",
       "3      2016-03-17 17:40:00  \n",
       "4      2016-04-06 10:17:00  \n",
       "...                    ...  \n",
       "328130 2016-03-29 10:17:00  \n",
       "328131 2016-03-21 10:42:00  \n",
       "328132 2016-03-11 18:17:00  \n",
       "328133 2016-04-07 07:15:00  \n",
       "328134 2016-03-24 12:45:00  \n",
       "\n",
       "[328135 rows x 16 columns]"
      ]
     },
     "execution_count": 30,
     "metadata": {},
     "output_type": "execute_result"
    }
   ],
   "source": [
    "#replacing null values with most common for other listings of the same model\n",
    "replace_null(df, 'gearbox', 'brand', 'model')"
   ]
  },
  {
   "cell_type": "code",
   "execution_count": 31,
   "metadata": {},
   "outputs": [
    {
     "data": {
      "text/html": [
       "<div>\n",
       "<style scoped>\n",
       "    .dataframe tbody tr th:only-of-type {\n",
       "        vertical-align: middle;\n",
       "    }\n",
       "\n",
       "    .dataframe tbody tr th {\n",
       "        vertical-align: top;\n",
       "    }\n",
       "\n",
       "    .dataframe thead th {\n",
       "        text-align: right;\n",
       "    }\n",
       "</style>\n",
       "<table border=\"1\" class=\"dataframe\">\n",
       "  <thead>\n",
       "    <tr style=\"text-align: right;\">\n",
       "      <th></th>\n",
       "      <th>datecrawled</th>\n",
       "      <th>price</th>\n",
       "      <th>vehicletype</th>\n",
       "      <th>registrationyear</th>\n",
       "      <th>gearbox</th>\n",
       "      <th>power</th>\n",
       "      <th>model</th>\n",
       "      <th>mileage</th>\n",
       "      <th>registrationmonth</th>\n",
       "      <th>fueltype</th>\n",
       "      <th>brand</th>\n",
       "      <th>notrepaired</th>\n",
       "      <th>datecreated</th>\n",
       "      <th>numberofpictures</th>\n",
       "      <th>postalcode</th>\n",
       "      <th>lastseen</th>\n",
       "    </tr>\n",
       "  </thead>\n",
       "  <tbody>\n",
       "    <tr>\n",
       "      <th>105</th>\n",
       "      <td>2016-03-20 18:53:00</td>\n",
       "      <td>0</td>\n",
       "      <td>small</td>\n",
       "      <td>1999</td>\n",
       "      <td>NaN</td>\n",
       "      <td>0</td>\n",
       "      <td>NaN</td>\n",
       "      <td>5000</td>\n",
       "      <td>0</td>\n",
       "      <td>petrol</td>\n",
       "      <td>volkswagen</td>\n",
       "      <td>NaN</td>\n",
       "      <td>2016-03-20</td>\n",
       "      <td>0</td>\n",
       "      <td>37520</td>\n",
       "      <td>2016-04-07 02:45:00</td>\n",
       "    </tr>\n",
       "    <tr>\n",
       "      <th>141</th>\n",
       "      <td>2016-03-27 20:47:00</td>\n",
       "      <td>6799</td>\n",
       "      <td>small</td>\n",
       "      <td>2009</td>\n",
       "      <td>NaN</td>\n",
       "      <td>60</td>\n",
       "      <td>NaN</td>\n",
       "      <td>20000</td>\n",
       "      <td>5</td>\n",
       "      <td>petrol</td>\n",
       "      <td>volkswagen</td>\n",
       "      <td>no</td>\n",
       "      <td>2016-03-27</td>\n",
       "      <td>0</td>\n",
       "      <td>89077</td>\n",
       "      <td>2016-03-27 20:47:00</td>\n",
       "    </tr>\n",
       "    <tr>\n",
       "      <th>150</th>\n",
       "      <td>2016-03-28 10:50:00</td>\n",
       "      <td>1495</td>\n",
       "      <td>wagon</td>\n",
       "      <td>2001</td>\n",
       "      <td>NaN</td>\n",
       "      <td>64</td>\n",
       "      <td>NaN</td>\n",
       "      <td>150000</td>\n",
       "      <td>9</td>\n",
       "      <td>gasoline</td>\n",
       "      <td>volkswagen</td>\n",
       "      <td>NaN</td>\n",
       "      <td>2016-03-28</td>\n",
       "      <td>0</td>\n",
       "      <td>99086</td>\n",
       "      <td>2016-04-04 11:45:00</td>\n",
       "    </tr>\n",
       "    <tr>\n",
       "      <th>173</th>\n",
       "      <td>2016-03-16 15:51:00</td>\n",
       "      <td>14000</td>\n",
       "      <td>sedan</td>\n",
       "      <td>2008</td>\n",
       "      <td>NaN</td>\n",
       "      <td>235</td>\n",
       "      <td>NaN</td>\n",
       "      <td>150000</td>\n",
       "      <td>0</td>\n",
       "      <td>NaN</td>\n",
       "      <td>bmw</td>\n",
       "      <td>no</td>\n",
       "      <td>2016-02-12</td>\n",
       "      <td>0</td>\n",
       "      <td>95131</td>\n",
       "      <td>2016-04-07 14:56:00</td>\n",
       "    </tr>\n",
       "    <tr>\n",
       "      <th>591</th>\n",
       "      <td>2016-03-30 11:55:00</td>\n",
       "      <td>15000</td>\n",
       "      <td>coupe</td>\n",
       "      <td>1971</td>\n",
       "      <td>NaN</td>\n",
       "      <td>0</td>\n",
       "      <td>NaN</td>\n",
       "      <td>5000</td>\n",
       "      <td>4</td>\n",
       "      <td>NaN</td>\n",
       "      <td>sonstige_autos</td>\n",
       "      <td>no</td>\n",
       "      <td>2016-03-30</td>\n",
       "      <td>0</td>\n",
       "      <td>51145</td>\n",
       "      <td>2016-04-07 02:45:00</td>\n",
       "    </tr>\n",
       "    <tr>\n",
       "      <th>...</th>\n",
       "      <td>...</td>\n",
       "      <td>...</td>\n",
       "      <td>...</td>\n",
       "      <td>...</td>\n",
       "      <td>...</td>\n",
       "      <td>...</td>\n",
       "      <td>...</td>\n",
       "      <td>...</td>\n",
       "      <td>...</td>\n",
       "      <td>...</td>\n",
       "      <td>...</td>\n",
       "      <td>...</td>\n",
       "      <td>...</td>\n",
       "      <td>...</td>\n",
       "      <td>...</td>\n",
       "      <td>...</td>\n",
       "    </tr>\n",
       "    <tr>\n",
       "      <th>326290</th>\n",
       "      <td>2016-03-07 07:51:00</td>\n",
       "      <td>5100</td>\n",
       "      <td>suv</td>\n",
       "      <td>2006</td>\n",
       "      <td>NaN</td>\n",
       "      <td>0</td>\n",
       "      <td>NaN</td>\n",
       "      <td>150000</td>\n",
       "      <td>0</td>\n",
       "      <td>NaN</td>\n",
       "      <td>mitsubishi</td>\n",
       "      <td>NaN</td>\n",
       "      <td>2016-03-07</td>\n",
       "      <td>0</td>\n",
       "      <td>57555</td>\n",
       "      <td>2016-03-17 05:45:00</td>\n",
       "    </tr>\n",
       "    <tr>\n",
       "      <th>326733</th>\n",
       "      <td>2016-03-06 11:37:00</td>\n",
       "      <td>650</td>\n",
       "      <td>small</td>\n",
       "      <td>1997</td>\n",
       "      <td>NaN</td>\n",
       "      <td>0</td>\n",
       "      <td>NaN</td>\n",
       "      <td>5000</td>\n",
       "      <td>0</td>\n",
       "      <td>petrol</td>\n",
       "      <td>renault</td>\n",
       "      <td>no</td>\n",
       "      <td>2016-03-06</td>\n",
       "      <td>0</td>\n",
       "      <td>16348</td>\n",
       "      <td>2016-04-06 03:45:00</td>\n",
       "    </tr>\n",
       "    <tr>\n",
       "      <th>326753</th>\n",
       "      <td>2016-03-15 17:55:00</td>\n",
       "      <td>1299</td>\n",
       "      <td>small</td>\n",
       "      <td>2002</td>\n",
       "      <td>NaN</td>\n",
       "      <td>0</td>\n",
       "      <td>NaN</td>\n",
       "      <td>150000</td>\n",
       "      <td>0</td>\n",
       "      <td>NaN</td>\n",
       "      <td>ford</td>\n",
       "      <td>NaN</td>\n",
       "      <td>2016-03-15</td>\n",
       "      <td>0</td>\n",
       "      <td>27419</td>\n",
       "      <td>2016-03-22 21:49:00</td>\n",
       "    </tr>\n",
       "    <tr>\n",
       "      <th>327367</th>\n",
       "      <td>2016-03-17 20:44:00</td>\n",
       "      <td>900</td>\n",
       "      <td>other</td>\n",
       "      <td>1988</td>\n",
       "      <td>NaN</td>\n",
       "      <td>0</td>\n",
       "      <td>NaN</td>\n",
       "      <td>5000</td>\n",
       "      <td>11</td>\n",
       "      <td>NaN</td>\n",
       "      <td>sonstige_autos</td>\n",
       "      <td>no</td>\n",
       "      <td>2016-03-17</td>\n",
       "      <td>0</td>\n",
       "      <td>46117</td>\n",
       "      <td>2016-04-07 09:16:00</td>\n",
       "    </tr>\n",
       "    <tr>\n",
       "      <th>327682</th>\n",
       "      <td>2016-03-06 11:42:00</td>\n",
       "      <td>7900</td>\n",
       "      <td>bus</td>\n",
       "      <td>2009</td>\n",
       "      <td>NaN</td>\n",
       "      <td>140</td>\n",
       "      <td>NaN</td>\n",
       "      <td>125000</td>\n",
       "      <td>7</td>\n",
       "      <td>gasoline</td>\n",
       "      <td>sonstige_autos</td>\n",
       "      <td>no</td>\n",
       "      <td>2016-03-06</td>\n",
       "      <td>0</td>\n",
       "      <td>97256</td>\n",
       "      <td>2016-03-26 16:16:00</td>\n",
       "    </tr>\n",
       "  </tbody>\n",
       "</table>\n",
       "<p>1104 rows × 16 columns</p>\n",
       "</div>"
      ],
      "text/plain": [
       "               datecrawled  price vehicletype  registrationyear gearbox  \\\n",
       "105    2016-03-20 18:53:00      0       small              1999     NaN   \n",
       "141    2016-03-27 20:47:00   6799       small              2009     NaN   \n",
       "150    2016-03-28 10:50:00   1495       wagon              2001     NaN   \n",
       "173    2016-03-16 15:51:00  14000       sedan              2008     NaN   \n",
       "591    2016-03-30 11:55:00  15000       coupe              1971     NaN   \n",
       "...                    ...    ...         ...               ...     ...   \n",
       "326290 2016-03-07 07:51:00   5100         suv              2006     NaN   \n",
       "326733 2016-03-06 11:37:00    650       small              1997     NaN   \n",
       "326753 2016-03-15 17:55:00   1299       small              2002     NaN   \n",
       "327367 2016-03-17 20:44:00    900       other              1988     NaN   \n",
       "327682 2016-03-06 11:42:00   7900         bus              2009     NaN   \n",
       "\n",
       "        power model  mileage  registrationmonth  fueltype           brand  \\\n",
       "105         0   NaN     5000                  0    petrol      volkswagen   \n",
       "141        60   NaN    20000                  5    petrol      volkswagen   \n",
       "150        64   NaN   150000                  9  gasoline      volkswagen   \n",
       "173       235   NaN   150000                  0       NaN             bmw   \n",
       "591         0   NaN     5000                  4       NaN  sonstige_autos   \n",
       "...       ...   ...      ...                ...       ...             ...   \n",
       "326290      0   NaN   150000                  0       NaN      mitsubishi   \n",
       "326733      0   NaN     5000                  0    petrol         renault   \n",
       "326753      0   NaN   150000                  0       NaN            ford   \n",
       "327367      0   NaN     5000                 11       NaN  sonstige_autos   \n",
       "327682    140   NaN   125000                  7  gasoline  sonstige_autos   \n",
       "\n",
       "       notrepaired datecreated  numberofpictures  postalcode  \\\n",
       "105            NaN  2016-03-20                 0       37520   \n",
       "141             no  2016-03-27                 0       89077   \n",
       "150            NaN  2016-03-28                 0       99086   \n",
       "173             no  2016-02-12                 0       95131   \n",
       "591             no  2016-03-30                 0       51145   \n",
       "...            ...         ...               ...         ...   \n",
       "326290         NaN  2016-03-07                 0       57555   \n",
       "326733          no  2016-03-06                 0       16348   \n",
       "326753         NaN  2016-03-15                 0       27419   \n",
       "327367          no  2016-03-17                 0       46117   \n",
       "327682          no  2016-03-06                 0       97256   \n",
       "\n",
       "                  lastseen  \n",
       "105    2016-04-07 02:45:00  \n",
       "141    2016-03-27 20:47:00  \n",
       "150    2016-04-04 11:45:00  \n",
       "173    2016-04-07 14:56:00  \n",
       "591    2016-04-07 02:45:00  \n",
       "...                    ...  \n",
       "326290 2016-03-17 05:45:00  \n",
       "326733 2016-04-06 03:45:00  \n",
       "326753 2016-03-22 21:49:00  \n",
       "327367 2016-04-07 09:16:00  \n",
       "327682 2016-03-26 16:16:00  \n",
       "\n",
       "[1104 rows x 16 columns]"
      ]
     },
     "execution_count": 31,
     "metadata": {},
     "output_type": "execute_result"
    }
   ],
   "source": [
    "df[df['gearbox'].isnull()]"
   ]
  },
  {
   "cell_type": "markdown",
   "metadata": {},
   "source": [
    "We can remove the small number of remaining null values."
   ]
  },
  {
   "cell_type": "code",
   "execution_count": 32,
   "metadata": {},
   "outputs": [],
   "source": [
    "df = df[df['gearbox'].notnull()]"
   ]
  },
  {
   "cell_type": "markdown",
   "metadata": {},
   "source": [
    "### `power`"
   ]
  },
  {
   "cell_type": "code",
   "execution_count": 33,
   "metadata": {},
   "outputs": [
    {
     "data": {
      "text/plain": [
       "count    327031.000000\n",
       "mean        111.974486\n",
       "std         185.835085\n",
       "min           0.000000\n",
       "25%          71.000000\n",
       "50%         105.000000\n",
       "75%         143.000000\n",
       "max       20000.000000\n",
       "Name: power, dtype: float64"
      ]
     },
     "execution_count": 33,
     "metadata": {},
     "output_type": "execute_result"
    }
   ],
   "source": [
    "df['power'].describe()"
   ]
  },
  {
   "cell_type": "markdown",
   "metadata": {},
   "source": [
    "https://www.horsepowerspecs.com/ lists the lowest horespower car having 41hp and the highest with 1984.\n",
    "\n",
    "If listing have power outside of these ranges, we'll replace it with NaN and try and imputate it from other lsitings  of the same model.\n"
   ]
  },
  {
   "cell_type": "code",
   "execution_count": 34,
   "metadata": {},
   "outputs": [],
   "source": [
    "#replacing impossible values with null\n",
    "df.loc[(df['power']<41)|(df['power']>1984), 'power'] = np.nan"
   ]
  },
  {
   "cell_type": "code",
   "execution_count": 35,
   "metadata": {},
   "outputs": [
    {
     "data": {
      "text/html": [
       "<div>\n",
       "<style scoped>\n",
       "    .dataframe tbody tr th:only-of-type {\n",
       "        vertical-align: middle;\n",
       "    }\n",
       "\n",
       "    .dataframe tbody tr th {\n",
       "        vertical-align: top;\n",
       "    }\n",
       "\n",
       "    .dataframe thead th {\n",
       "        text-align: right;\n",
       "    }\n",
       "</style>\n",
       "<table border=\"1\" class=\"dataframe\">\n",
       "  <thead>\n",
       "    <tr style=\"text-align: right;\">\n",
       "      <th></th>\n",
       "      <th>datecrawled</th>\n",
       "      <th>price</th>\n",
       "      <th>vehicletype</th>\n",
       "      <th>registrationyear</th>\n",
       "      <th>gearbox</th>\n",
       "      <th>power</th>\n",
       "      <th>model</th>\n",
       "      <th>mileage</th>\n",
       "      <th>registrationmonth</th>\n",
       "      <th>fueltype</th>\n",
       "      <th>brand</th>\n",
       "      <th>notrepaired</th>\n",
       "      <th>datecreated</th>\n",
       "      <th>numberofpictures</th>\n",
       "      <th>postalcode</th>\n",
       "      <th>lastseen</th>\n",
       "    </tr>\n",
       "  </thead>\n",
       "  <tbody>\n",
       "    <tr>\n",
       "      <th>0</th>\n",
       "      <td>2016-03-24 11:52:00</td>\n",
       "      <td>480</td>\n",
       "      <td>sedan</td>\n",
       "      <td>1993</td>\n",
       "      <td>manual</td>\n",
       "      <td>NaN</td>\n",
       "      <td>golf</td>\n",
       "      <td>150000</td>\n",
       "      <td>0</td>\n",
       "      <td>petrol</td>\n",
       "      <td>volkswagen</td>\n",
       "      <td>NaN</td>\n",
       "      <td>2016-03-24</td>\n",
       "      <td>0</td>\n",
       "      <td>70435</td>\n",
       "      <td>2016-04-07 03:16:00</td>\n",
       "    </tr>\n",
       "    <tr>\n",
       "      <th>29</th>\n",
       "      <td>2016-03-15 20:59:00</td>\n",
       "      <td>245</td>\n",
       "      <td>sedan</td>\n",
       "      <td>1994</td>\n",
       "      <td>manual</td>\n",
       "      <td>NaN</td>\n",
       "      <td>golf</td>\n",
       "      <td>150000</td>\n",
       "      <td>2</td>\n",
       "      <td>petrol</td>\n",
       "      <td>volkswagen</td>\n",
       "      <td>no</td>\n",
       "      <td>2016-03-15</td>\n",
       "      <td>0</td>\n",
       "      <td>44145</td>\n",
       "      <td>2016-03-17 18:17:00</td>\n",
       "    </tr>\n",
       "    <tr>\n",
       "      <th>34</th>\n",
       "      <td>2016-03-28 17:50:00</td>\n",
       "      <td>1500</td>\n",
       "      <td>bus</td>\n",
       "      <td>2016</td>\n",
       "      <td>manual</td>\n",
       "      <td>NaN</td>\n",
       "      <td>kangoo</td>\n",
       "      <td>150000</td>\n",
       "      <td>1</td>\n",
       "      <td>gasoline</td>\n",
       "      <td>renault</td>\n",
       "      <td>no</td>\n",
       "      <td>2016-03-28</td>\n",
       "      <td>0</td>\n",
       "      <td>46483</td>\n",
       "      <td>2016-03-30 09:18:00</td>\n",
       "    </tr>\n",
       "    <tr>\n",
       "      <th>37</th>\n",
       "      <td>2016-03-26 22:06:00</td>\n",
       "      <td>0</td>\n",
       "      <td>small</td>\n",
       "      <td>1990</td>\n",
       "      <td>manual</td>\n",
       "      <td>NaN</td>\n",
       "      <td>corsa</td>\n",
       "      <td>150000</td>\n",
       "      <td>1</td>\n",
       "      <td>petrol</td>\n",
       "      <td>opel</td>\n",
       "      <td>NaN</td>\n",
       "      <td>2016-03-26</td>\n",
       "      <td>0</td>\n",
       "      <td>56412</td>\n",
       "      <td>2016-03-27 17:43:00</td>\n",
       "    </tr>\n",
       "    <tr>\n",
       "      <th>48</th>\n",
       "      <td>2016-03-17 07:56:00</td>\n",
       "      <td>4700</td>\n",
       "      <td>wagon</td>\n",
       "      <td>2005</td>\n",
       "      <td>manual</td>\n",
       "      <td>NaN</td>\n",
       "      <td>signum</td>\n",
       "      <td>150000</td>\n",
       "      <td>0</td>\n",
       "      <td>NaN</td>\n",
       "      <td>opel</td>\n",
       "      <td>no</td>\n",
       "      <td>2016-03-17</td>\n",
       "      <td>0</td>\n",
       "      <td>88433</td>\n",
       "      <td>2016-04-04 04:17:00</td>\n",
       "    </tr>\n",
       "    <tr>\n",
       "      <th>...</th>\n",
       "      <td>...</td>\n",
       "      <td>...</td>\n",
       "      <td>...</td>\n",
       "      <td>...</td>\n",
       "      <td>...</td>\n",
       "      <td>...</td>\n",
       "      <td>...</td>\n",
       "      <td>...</td>\n",
       "      <td>...</td>\n",
       "      <td>...</td>\n",
       "      <td>...</td>\n",
       "      <td>...</td>\n",
       "      <td>...</td>\n",
       "      <td>...</td>\n",
       "      <td>...</td>\n",
       "      <td>...</td>\n",
       "    </tr>\n",
       "    <tr>\n",
       "      <th>328106</th>\n",
       "      <td>2016-03-05 18:57:00</td>\n",
       "      <td>3299</td>\n",
       "      <td>suv</td>\n",
       "      <td>2005</td>\n",
       "      <td>auto</td>\n",
       "      <td>NaN</td>\n",
       "      <td>outlander</td>\n",
       "      <td>150000</td>\n",
       "      <td>4</td>\n",
       "      <td>petrol</td>\n",
       "      <td>mitsubishi</td>\n",
       "      <td>NaN</td>\n",
       "      <td>2016-03-05</td>\n",
       "      <td>0</td>\n",
       "      <td>17034</td>\n",
       "      <td>2016-03-06 04:17:00</td>\n",
       "    </tr>\n",
       "    <tr>\n",
       "      <th>328115</th>\n",
       "      <td>2016-03-07 17:06:00</td>\n",
       "      <td>2600</td>\n",
       "      <td>sedan</td>\n",
       "      <td>2005</td>\n",
       "      <td>auto</td>\n",
       "      <td>NaN</td>\n",
       "      <td>c_klasse</td>\n",
       "      <td>150000</td>\n",
       "      <td>9</td>\n",
       "      <td>NaN</td>\n",
       "      <td>mercedes_benz</td>\n",
       "      <td>NaN</td>\n",
       "      <td>2016-03-07</td>\n",
       "      <td>0</td>\n",
       "      <td>61169</td>\n",
       "      <td>2016-03-08 21:28:00</td>\n",
       "    </tr>\n",
       "    <tr>\n",
       "      <th>328128</th>\n",
       "      <td>2016-04-02 20:37:00</td>\n",
       "      <td>3999</td>\n",
       "      <td>wagon</td>\n",
       "      <td>2005</td>\n",
       "      <td>manual</td>\n",
       "      <td>NaN</td>\n",
       "      <td>3er</td>\n",
       "      <td>150000</td>\n",
       "      <td>5</td>\n",
       "      <td>gasoline</td>\n",
       "      <td>bmw</td>\n",
       "      <td>no</td>\n",
       "      <td>2016-04-02</td>\n",
       "      <td>0</td>\n",
       "      <td>81825</td>\n",
       "      <td>2016-04-06 20:47:00</td>\n",
       "    </tr>\n",
       "    <tr>\n",
       "      <th>328130</th>\n",
       "      <td>2016-03-27 20:36:00</td>\n",
       "      <td>1150</td>\n",
       "      <td>bus</td>\n",
       "      <td>2000</td>\n",
       "      <td>manual</td>\n",
       "      <td>NaN</td>\n",
       "      <td>zafira</td>\n",
       "      <td>150000</td>\n",
       "      <td>3</td>\n",
       "      <td>petrol</td>\n",
       "      <td>opel</td>\n",
       "      <td>no</td>\n",
       "      <td>2016-03-27</td>\n",
       "      <td>0</td>\n",
       "      <td>26624</td>\n",
       "      <td>2016-03-29 10:17:00</td>\n",
       "    </tr>\n",
       "    <tr>\n",
       "      <th>328131</th>\n",
       "      <td>2016-03-21 09:50:00</td>\n",
       "      <td>0</td>\n",
       "      <td>sedan</td>\n",
       "      <td>2005</td>\n",
       "      <td>manual</td>\n",
       "      <td>NaN</td>\n",
       "      <td>colt</td>\n",
       "      <td>150000</td>\n",
       "      <td>7</td>\n",
       "      <td>petrol</td>\n",
       "      <td>mitsubishi</td>\n",
       "      <td>yes</td>\n",
       "      <td>2016-03-21</td>\n",
       "      <td>0</td>\n",
       "      <td>2694</td>\n",
       "      <td>2016-03-21 10:42:00</td>\n",
       "    </tr>\n",
       "  </tbody>\n",
       "</table>\n",
       "<p>33584 rows × 16 columns</p>\n",
       "</div>"
      ],
      "text/plain": [
       "               datecrawled  price vehicletype  registrationyear gearbox  \\\n",
       "0      2016-03-24 11:52:00    480       sedan              1993  manual   \n",
       "29     2016-03-15 20:59:00    245       sedan              1994  manual   \n",
       "34     2016-03-28 17:50:00   1500         bus              2016  manual   \n",
       "37     2016-03-26 22:06:00      0       small              1990  manual   \n",
       "48     2016-03-17 07:56:00   4700       wagon              2005  manual   \n",
       "...                    ...    ...         ...               ...     ...   \n",
       "328106 2016-03-05 18:57:00   3299         suv              2005    auto   \n",
       "328115 2016-03-07 17:06:00   2600       sedan              2005    auto   \n",
       "328128 2016-04-02 20:37:00   3999       wagon              2005  manual   \n",
       "328130 2016-03-27 20:36:00   1150         bus              2000  manual   \n",
       "328131 2016-03-21 09:50:00      0       sedan              2005  manual   \n",
       "\n",
       "        power      model  mileage  registrationmonth  fueltype          brand  \\\n",
       "0         NaN       golf   150000                  0    petrol     volkswagen   \n",
       "29        NaN       golf   150000                  2    petrol     volkswagen   \n",
       "34        NaN     kangoo   150000                  1  gasoline        renault   \n",
       "37        NaN      corsa   150000                  1    petrol           opel   \n",
       "48        NaN     signum   150000                  0       NaN           opel   \n",
       "...       ...        ...      ...                ...       ...            ...   \n",
       "328106    NaN  outlander   150000                  4    petrol     mitsubishi   \n",
       "328115    NaN   c_klasse   150000                  9       NaN  mercedes_benz   \n",
       "328128    NaN        3er   150000                  5  gasoline            bmw   \n",
       "328130    NaN     zafira   150000                  3    petrol           opel   \n",
       "328131    NaN       colt   150000                  7    petrol     mitsubishi   \n",
       "\n",
       "       notrepaired datecreated  numberofpictures  postalcode  \\\n",
       "0              NaN  2016-03-24                 0       70435   \n",
       "29              no  2016-03-15                 0       44145   \n",
       "34              no  2016-03-28                 0       46483   \n",
       "37             NaN  2016-03-26                 0       56412   \n",
       "48              no  2016-03-17                 0       88433   \n",
       "...            ...         ...               ...         ...   \n",
       "328106         NaN  2016-03-05                 0       17034   \n",
       "328115         NaN  2016-03-07                 0       61169   \n",
       "328128          no  2016-04-02                 0       81825   \n",
       "328130          no  2016-03-27                 0       26624   \n",
       "328131         yes  2016-03-21                 0        2694   \n",
       "\n",
       "                  lastseen  \n",
       "0      2016-04-07 03:16:00  \n",
       "29     2016-03-17 18:17:00  \n",
       "34     2016-03-30 09:18:00  \n",
       "37     2016-03-27 17:43:00  \n",
       "48     2016-04-04 04:17:00  \n",
       "...                    ...  \n",
       "328106 2016-03-06 04:17:00  \n",
       "328115 2016-03-08 21:28:00  \n",
       "328128 2016-04-06 20:47:00  \n",
       "328130 2016-03-29 10:17:00  \n",
       "328131 2016-03-21 10:42:00  \n",
       "\n",
       "[33584 rows x 16 columns]"
      ]
     },
     "execution_count": 35,
     "metadata": {},
     "output_type": "execute_result"
    }
   ],
   "source": [
    "df[df['power'].isnull()]"
   ]
  },
  {
   "cell_type": "code",
   "execution_count": 36,
   "metadata": {
    "scrolled": true
   },
   "outputs": [
    {
     "data": {
      "text/html": [
       "<div>\n",
       "<style scoped>\n",
       "    .dataframe tbody tr th:only-of-type {\n",
       "        vertical-align: middle;\n",
       "    }\n",
       "\n",
       "    .dataframe tbody tr th {\n",
       "        vertical-align: top;\n",
       "    }\n",
       "\n",
       "    .dataframe thead th {\n",
       "        text-align: right;\n",
       "    }\n",
       "</style>\n",
       "<table border=\"1\" class=\"dataframe\">\n",
       "  <thead>\n",
       "    <tr style=\"text-align: right;\">\n",
       "      <th></th>\n",
       "      <th>datecrawled</th>\n",
       "      <th>price</th>\n",
       "      <th>vehicletype</th>\n",
       "      <th>registrationyear</th>\n",
       "      <th>gearbox</th>\n",
       "      <th>power</th>\n",
       "      <th>model</th>\n",
       "      <th>mileage</th>\n",
       "      <th>registrationmonth</th>\n",
       "      <th>fueltype</th>\n",
       "      <th>brand</th>\n",
       "      <th>notrepaired</th>\n",
       "      <th>datecreated</th>\n",
       "      <th>numberofpictures</th>\n",
       "      <th>postalcode</th>\n",
       "      <th>lastseen</th>\n",
       "    </tr>\n",
       "  </thead>\n",
       "  <tbody>\n",
       "    <tr>\n",
       "      <th>0</th>\n",
       "      <td>2016-03-24 11:52:00</td>\n",
       "      <td>480</td>\n",
       "      <td>sedan</td>\n",
       "      <td>1993</td>\n",
       "      <td>manual</td>\n",
       "      <td>101.0</td>\n",
       "      <td>golf</td>\n",
       "      <td>150000</td>\n",
       "      <td>0</td>\n",
       "      <td>petrol</td>\n",
       "      <td>volkswagen</td>\n",
       "      <td>NaN</td>\n",
       "      <td>2016-03-24</td>\n",
       "      <td>0</td>\n",
       "      <td>70435</td>\n",
       "      <td>2016-04-07 03:16:00</td>\n",
       "    </tr>\n",
       "    <tr>\n",
       "      <th>1</th>\n",
       "      <td>2016-03-24 10:58:00</td>\n",
       "      <td>18300</td>\n",
       "      <td>coupe</td>\n",
       "      <td>2011</td>\n",
       "      <td>manual</td>\n",
       "      <td>190.0</td>\n",
       "      <td>NaN</td>\n",
       "      <td>125000</td>\n",
       "      <td>5</td>\n",
       "      <td>gasoline</td>\n",
       "      <td>audi</td>\n",
       "      <td>yes</td>\n",
       "      <td>2016-03-24</td>\n",
       "      <td>0</td>\n",
       "      <td>66954</td>\n",
       "      <td>2016-04-07 01:46:00</td>\n",
       "    </tr>\n",
       "    <tr>\n",
       "      <th>2</th>\n",
       "      <td>2016-03-14 12:52:00</td>\n",
       "      <td>9800</td>\n",
       "      <td>suv</td>\n",
       "      <td>2004</td>\n",
       "      <td>auto</td>\n",
       "      <td>163.0</td>\n",
       "      <td>grand</td>\n",
       "      <td>125000</td>\n",
       "      <td>8</td>\n",
       "      <td>gasoline</td>\n",
       "      <td>jeep</td>\n",
       "      <td>NaN</td>\n",
       "      <td>2016-03-14</td>\n",
       "      <td>0</td>\n",
       "      <td>90480</td>\n",
       "      <td>2016-04-05 12:47:00</td>\n",
       "    </tr>\n",
       "    <tr>\n",
       "      <th>3</th>\n",
       "      <td>2016-03-17 16:54:00</td>\n",
       "      <td>1500</td>\n",
       "      <td>small</td>\n",
       "      <td>2001</td>\n",
       "      <td>manual</td>\n",
       "      <td>75.0</td>\n",
       "      <td>golf</td>\n",
       "      <td>150000</td>\n",
       "      <td>6</td>\n",
       "      <td>petrol</td>\n",
       "      <td>volkswagen</td>\n",
       "      <td>no</td>\n",
       "      <td>2016-03-17</td>\n",
       "      <td>0</td>\n",
       "      <td>91074</td>\n",
       "      <td>2016-03-17 17:40:00</td>\n",
       "    </tr>\n",
       "    <tr>\n",
       "      <th>4</th>\n",
       "      <td>2016-03-31 17:25:00</td>\n",
       "      <td>3600</td>\n",
       "      <td>small</td>\n",
       "      <td>2008</td>\n",
       "      <td>manual</td>\n",
       "      <td>69.0</td>\n",
       "      <td>fabia</td>\n",
       "      <td>90000</td>\n",
       "      <td>7</td>\n",
       "      <td>gasoline</td>\n",
       "      <td>skoda</td>\n",
       "      <td>no</td>\n",
       "      <td>2016-03-31</td>\n",
       "      <td>0</td>\n",
       "      <td>60437</td>\n",
       "      <td>2016-04-06 10:17:00</td>\n",
       "    </tr>\n",
       "    <tr>\n",
       "      <th>...</th>\n",
       "      <td>...</td>\n",
       "      <td>...</td>\n",
       "      <td>...</td>\n",
       "      <td>...</td>\n",
       "      <td>...</td>\n",
       "      <td>...</td>\n",
       "      <td>...</td>\n",
       "      <td>...</td>\n",
       "      <td>...</td>\n",
       "      <td>...</td>\n",
       "      <td>...</td>\n",
       "      <td>...</td>\n",
       "      <td>...</td>\n",
       "      <td>...</td>\n",
       "      <td>...</td>\n",
       "      <td>...</td>\n",
       "    </tr>\n",
       "    <tr>\n",
       "      <th>328130</th>\n",
       "      <td>2016-03-27 20:36:00</td>\n",
       "      <td>1150</td>\n",
       "      <td>bus</td>\n",
       "      <td>2000</td>\n",
       "      <td>manual</td>\n",
       "      <td>125.0</td>\n",
       "      <td>zafira</td>\n",
       "      <td>150000</td>\n",
       "      <td>3</td>\n",
       "      <td>petrol</td>\n",
       "      <td>opel</td>\n",
       "      <td>no</td>\n",
       "      <td>2016-03-27</td>\n",
       "      <td>0</td>\n",
       "      <td>26624</td>\n",
       "      <td>2016-03-29 10:17:00</td>\n",
       "    </tr>\n",
       "    <tr>\n",
       "      <th>328131</th>\n",
       "      <td>2016-03-21 09:50:00</td>\n",
       "      <td>0</td>\n",
       "      <td>sedan</td>\n",
       "      <td>2005</td>\n",
       "      <td>manual</td>\n",
       "      <td>82.0</td>\n",
       "      <td>colt</td>\n",
       "      <td>150000</td>\n",
       "      <td>7</td>\n",
       "      <td>petrol</td>\n",
       "      <td>mitsubishi</td>\n",
       "      <td>yes</td>\n",
       "      <td>2016-03-21</td>\n",
       "      <td>0</td>\n",
       "      <td>2694</td>\n",
       "      <td>2016-03-21 10:42:00</td>\n",
       "    </tr>\n",
       "    <tr>\n",
       "      <th>328132</th>\n",
       "      <td>2016-03-05 19:56:00</td>\n",
       "      <td>1199</td>\n",
       "      <td>convertible</td>\n",
       "      <td>2000</td>\n",
       "      <td>auto</td>\n",
       "      <td>101.0</td>\n",
       "      <td>fortwo</td>\n",
       "      <td>125000</td>\n",
       "      <td>3</td>\n",
       "      <td>petrol</td>\n",
       "      <td>smart</td>\n",
       "      <td>no</td>\n",
       "      <td>2016-03-05</td>\n",
       "      <td>0</td>\n",
       "      <td>26135</td>\n",
       "      <td>2016-03-11 18:17:00</td>\n",
       "    </tr>\n",
       "    <tr>\n",
       "      <th>328133</th>\n",
       "      <td>2016-03-19 18:57:00</td>\n",
       "      <td>9200</td>\n",
       "      <td>bus</td>\n",
       "      <td>1996</td>\n",
       "      <td>manual</td>\n",
       "      <td>102.0</td>\n",
       "      <td>transporter</td>\n",
       "      <td>150000</td>\n",
       "      <td>3</td>\n",
       "      <td>gasoline</td>\n",
       "      <td>volkswagen</td>\n",
       "      <td>no</td>\n",
       "      <td>2016-03-19</td>\n",
       "      <td>0</td>\n",
       "      <td>87439</td>\n",
       "      <td>2016-04-07 07:15:00</td>\n",
       "    </tr>\n",
       "    <tr>\n",
       "      <th>328134</th>\n",
       "      <td>2016-03-20 19:41:00</td>\n",
       "      <td>3400</td>\n",
       "      <td>wagon</td>\n",
       "      <td>2002</td>\n",
       "      <td>manual</td>\n",
       "      <td>100.0</td>\n",
       "      <td>golf</td>\n",
       "      <td>150000</td>\n",
       "      <td>6</td>\n",
       "      <td>gasoline</td>\n",
       "      <td>volkswagen</td>\n",
       "      <td>NaN</td>\n",
       "      <td>2016-03-20</td>\n",
       "      <td>0</td>\n",
       "      <td>40764</td>\n",
       "      <td>2016-03-24 12:45:00</td>\n",
       "    </tr>\n",
       "  </tbody>\n",
       "</table>\n",
       "<p>327031 rows × 16 columns</p>\n",
       "</div>"
      ],
      "text/plain": [
       "               datecrawled  price  vehicletype  registrationyear gearbox  \\\n",
       "0      2016-03-24 11:52:00    480        sedan              1993  manual   \n",
       "1      2016-03-24 10:58:00  18300        coupe              2011  manual   \n",
       "2      2016-03-14 12:52:00   9800          suv              2004    auto   \n",
       "3      2016-03-17 16:54:00   1500        small              2001  manual   \n",
       "4      2016-03-31 17:25:00   3600        small              2008  manual   \n",
       "...                    ...    ...          ...               ...     ...   \n",
       "328130 2016-03-27 20:36:00   1150          bus              2000  manual   \n",
       "328131 2016-03-21 09:50:00      0        sedan              2005  manual   \n",
       "328132 2016-03-05 19:56:00   1199  convertible              2000    auto   \n",
       "328133 2016-03-19 18:57:00   9200          bus              1996  manual   \n",
       "328134 2016-03-20 19:41:00   3400        wagon              2002  manual   \n",
       "\n",
       "        power        model  mileage  registrationmonth  fueltype       brand  \\\n",
       "0       101.0         golf   150000                  0    petrol  volkswagen   \n",
       "1       190.0          NaN   125000                  5  gasoline        audi   \n",
       "2       163.0        grand   125000                  8  gasoline        jeep   \n",
       "3        75.0         golf   150000                  6    petrol  volkswagen   \n",
       "4        69.0        fabia    90000                  7  gasoline       skoda   \n",
       "...       ...          ...      ...                ...       ...         ...   \n",
       "328130  125.0       zafira   150000                  3    petrol        opel   \n",
       "328131   82.0         colt   150000                  7    petrol  mitsubishi   \n",
       "328132  101.0       fortwo   125000                  3    petrol       smart   \n",
       "328133  102.0  transporter   150000                  3  gasoline  volkswagen   \n",
       "328134  100.0         golf   150000                  6  gasoline  volkswagen   \n",
       "\n",
       "       notrepaired datecreated  numberofpictures  postalcode  \\\n",
       "0              NaN  2016-03-24                 0       70435   \n",
       "1              yes  2016-03-24                 0       66954   \n",
       "2              NaN  2016-03-14                 0       90480   \n",
       "3               no  2016-03-17                 0       91074   \n",
       "4               no  2016-03-31                 0       60437   \n",
       "...            ...         ...               ...         ...   \n",
       "328130          no  2016-03-27                 0       26624   \n",
       "328131         yes  2016-03-21                 0        2694   \n",
       "328132          no  2016-03-05                 0       26135   \n",
       "328133          no  2016-03-19                 0       87439   \n",
       "328134         NaN  2016-03-20                 0       40764   \n",
       "\n",
       "                  lastseen  \n",
       "0      2016-04-07 03:16:00  \n",
       "1      2016-04-07 01:46:00  \n",
       "2      2016-04-05 12:47:00  \n",
       "3      2016-03-17 17:40:00  \n",
       "4      2016-04-06 10:17:00  \n",
       "...                    ...  \n",
       "328130 2016-03-29 10:17:00  \n",
       "328131 2016-03-21 10:42:00  \n",
       "328132 2016-03-11 18:17:00  \n",
       "328133 2016-04-07 07:15:00  \n",
       "328134 2016-03-24 12:45:00  \n",
       "\n",
       "[327031 rows x 16 columns]"
      ]
     },
     "execution_count": 36,
     "metadata": {},
     "output_type": "execute_result"
    }
   ],
   "source": [
    "#replacing with median values of the same model\n",
    "replace_null(df, 'power', 'brand', 'model', average = 'median')"
   ]
  },
  {
   "cell_type": "code",
   "execution_count": 37,
   "metadata": {
    "scrolled": true
   },
   "outputs": [
    {
     "data": {
      "text/html": [
       "<div>\n",
       "<style scoped>\n",
       "    .dataframe tbody tr th:only-of-type {\n",
       "        vertical-align: middle;\n",
       "    }\n",
       "\n",
       "    .dataframe tbody tr th {\n",
       "        vertical-align: top;\n",
       "    }\n",
       "\n",
       "    .dataframe thead th {\n",
       "        text-align: right;\n",
       "    }\n",
       "</style>\n",
       "<table border=\"1\" class=\"dataframe\">\n",
       "  <thead>\n",
       "    <tr style=\"text-align: right;\">\n",
       "      <th></th>\n",
       "      <th>datecrawled</th>\n",
       "      <th>price</th>\n",
       "      <th>vehicletype</th>\n",
       "      <th>registrationyear</th>\n",
       "      <th>gearbox</th>\n",
       "      <th>power</th>\n",
       "      <th>model</th>\n",
       "      <th>mileage</th>\n",
       "      <th>registrationmonth</th>\n",
       "      <th>fueltype</th>\n",
       "      <th>brand</th>\n",
       "      <th>notrepaired</th>\n",
       "      <th>datecreated</th>\n",
       "      <th>numberofpictures</th>\n",
       "      <th>postalcode</th>\n",
       "      <th>lastseen</th>\n",
       "    </tr>\n",
       "  </thead>\n",
       "  <tbody>\n",
       "    <tr>\n",
       "      <th>149</th>\n",
       "      <td>2016-03-19 19:49:00</td>\n",
       "      <td>500</td>\n",
       "      <td>small</td>\n",
       "      <td>1999</td>\n",
       "      <td>manual</td>\n",
       "      <td>NaN</td>\n",
       "      <td>NaN</td>\n",
       "      <td>150000</td>\n",
       "      <td>0</td>\n",
       "      <td>petrol</td>\n",
       "      <td>renault</td>\n",
       "      <td>no</td>\n",
       "      <td>2016-03-19</td>\n",
       "      <td>0</td>\n",
       "      <td>26969</td>\n",
       "      <td>2016-04-01 11:17:00</td>\n",
       "    </tr>\n",
       "    <tr>\n",
       "      <th>284</th>\n",
       "      <td>2016-03-13 13:38:00</td>\n",
       "      <td>1600</td>\n",
       "      <td>wagon</td>\n",
       "      <td>1999</td>\n",
       "      <td>manual</td>\n",
       "      <td>NaN</td>\n",
       "      <td>NaN</td>\n",
       "      <td>150000</td>\n",
       "      <td>6</td>\n",
       "      <td>petrol</td>\n",
       "      <td>bmw</td>\n",
       "      <td>no</td>\n",
       "      <td>2016-03-13</td>\n",
       "      <td>0</td>\n",
       "      <td>41199</td>\n",
       "      <td>2016-03-28 12:46:00</td>\n",
       "    </tr>\n",
       "    <tr>\n",
       "      <th>329</th>\n",
       "      <td>2016-03-23 23:57:00</td>\n",
       "      <td>300</td>\n",
       "      <td>small</td>\n",
       "      <td>2001</td>\n",
       "      <td>manual</td>\n",
       "      <td>NaN</td>\n",
       "      <td>NaN</td>\n",
       "      <td>150000</td>\n",
       "      <td>5</td>\n",
       "      <td>petrol</td>\n",
       "      <td>peugeot</td>\n",
       "      <td>yes</td>\n",
       "      <td>2016-03-23</td>\n",
       "      <td>0</td>\n",
       "      <td>84579</td>\n",
       "      <td>2016-03-25 15:22:00</td>\n",
       "    </tr>\n",
       "    <tr>\n",
       "      <th>393</th>\n",
       "      <td>2016-03-20 20:45:00</td>\n",
       "      <td>3950</td>\n",
       "      <td>small</td>\n",
       "      <td>2004</td>\n",
       "      <td>auto</td>\n",
       "      <td>NaN</td>\n",
       "      <td>NaN</td>\n",
       "      <td>70000</td>\n",
       "      <td>5</td>\n",
       "      <td>gasoline</td>\n",
       "      <td>sonstige_autos</td>\n",
       "      <td>no</td>\n",
       "      <td>2016-03-20</td>\n",
       "      <td>0</td>\n",
       "      <td>90562</td>\n",
       "      <td>2016-04-03 04:17:00</td>\n",
       "    </tr>\n",
       "    <tr>\n",
       "      <th>646</th>\n",
       "      <td>2016-03-21 14:47:00</td>\n",
       "      <td>1690</td>\n",
       "      <td>small</td>\n",
       "      <td>2000</td>\n",
       "      <td>auto</td>\n",
       "      <td>NaN</td>\n",
       "      <td>NaN</td>\n",
       "      <td>125000</td>\n",
       "      <td>12</td>\n",
       "      <td>petrol</td>\n",
       "      <td>smart</td>\n",
       "      <td>no</td>\n",
       "      <td>2016-03-21</td>\n",
       "      <td>0</td>\n",
       "      <td>25421</td>\n",
       "      <td>2016-04-02 09:17:00</td>\n",
       "    </tr>\n",
       "    <tr>\n",
       "      <th>...</th>\n",
       "      <td>...</td>\n",
       "      <td>...</td>\n",
       "      <td>...</td>\n",
       "      <td>...</td>\n",
       "      <td>...</td>\n",
       "      <td>...</td>\n",
       "      <td>...</td>\n",
       "      <td>...</td>\n",
       "      <td>...</td>\n",
       "      <td>...</td>\n",
       "      <td>...</td>\n",
       "      <td>...</td>\n",
       "      <td>...</td>\n",
       "      <td>...</td>\n",
       "      <td>...</td>\n",
       "      <td>...</td>\n",
       "    </tr>\n",
       "    <tr>\n",
       "      <th>327070</th>\n",
       "      <td>2016-03-28 19:56:00</td>\n",
       "      <td>300</td>\n",
       "      <td>sedan</td>\n",
       "      <td>2001</td>\n",
       "      <td>auto</td>\n",
       "      <td>NaN</td>\n",
       "      <td>NaN</td>\n",
       "      <td>150000</td>\n",
       "      <td>4</td>\n",
       "      <td>NaN</td>\n",
       "      <td>chrysler</td>\n",
       "      <td>yes</td>\n",
       "      <td>2016-03-28</td>\n",
       "      <td>0</td>\n",
       "      <td>64807</td>\n",
       "      <td>2016-04-07 02:17:00</td>\n",
       "    </tr>\n",
       "    <tr>\n",
       "      <th>327476</th>\n",
       "      <td>2016-03-28 10:55:00</td>\n",
       "      <td>2999</td>\n",
       "      <td>wagon</td>\n",
       "      <td>1998</td>\n",
       "      <td>manual</td>\n",
       "      <td>NaN</td>\n",
       "      <td>NaN</td>\n",
       "      <td>150000</td>\n",
       "      <td>0</td>\n",
       "      <td>petrol</td>\n",
       "      <td>mercedes_benz</td>\n",
       "      <td>NaN</td>\n",
       "      <td>2016-03-28</td>\n",
       "      <td>0</td>\n",
       "      <td>38875</td>\n",
       "      <td>2016-04-06 13:44:00</td>\n",
       "    </tr>\n",
       "    <tr>\n",
       "      <th>327769</th>\n",
       "      <td>2016-03-15 13:57:00</td>\n",
       "      <td>1500</td>\n",
       "      <td>bus</td>\n",
       "      <td>1984</td>\n",
       "      <td>manual</td>\n",
       "      <td>NaN</td>\n",
       "      <td>NaN</td>\n",
       "      <td>150000</td>\n",
       "      <td>5</td>\n",
       "      <td>gasoline</td>\n",
       "      <td>mercedes_benz</td>\n",
       "      <td>NaN</td>\n",
       "      <td>2016-03-15</td>\n",
       "      <td>0</td>\n",
       "      <td>48282</td>\n",
       "      <td>2016-04-06 03:46:00</td>\n",
       "    </tr>\n",
       "    <tr>\n",
       "      <th>327859</th>\n",
       "      <td>2016-03-21 08:36:00</td>\n",
       "      <td>200</td>\n",
       "      <td>small</td>\n",
       "      <td>1998</td>\n",
       "      <td>manual</td>\n",
       "      <td>NaN</td>\n",
       "      <td>NaN</td>\n",
       "      <td>150000</td>\n",
       "      <td>4</td>\n",
       "      <td>petrol</td>\n",
       "      <td>volkswagen</td>\n",
       "      <td>yes</td>\n",
       "      <td>2016-03-21</td>\n",
       "      <td>0</td>\n",
       "      <td>26382</td>\n",
       "      <td>2016-04-06 02:45:00</td>\n",
       "    </tr>\n",
       "    <tr>\n",
       "      <th>327861</th>\n",
       "      <td>2016-04-03 20:37:00</td>\n",
       "      <td>4300</td>\n",
       "      <td>small</td>\n",
       "      <td>2008</td>\n",
       "      <td>auto</td>\n",
       "      <td>NaN</td>\n",
       "      <td>NaN</td>\n",
       "      <td>150000</td>\n",
       "      <td>3</td>\n",
       "      <td>NaN</td>\n",
       "      <td>honda</td>\n",
       "      <td>NaN</td>\n",
       "      <td>2016-04-03</td>\n",
       "      <td>0</td>\n",
       "      <td>30627</td>\n",
       "      <td>2016-04-05 21:16:00</td>\n",
       "    </tr>\n",
       "  </tbody>\n",
       "</table>\n",
       "<p>2249 rows × 16 columns</p>\n",
       "</div>"
      ],
      "text/plain": [
       "               datecrawled  price vehicletype  registrationyear gearbox  \\\n",
       "149    2016-03-19 19:49:00    500       small              1999  manual   \n",
       "284    2016-03-13 13:38:00   1600       wagon              1999  manual   \n",
       "329    2016-03-23 23:57:00    300       small              2001  manual   \n",
       "393    2016-03-20 20:45:00   3950       small              2004    auto   \n",
       "646    2016-03-21 14:47:00   1690       small              2000    auto   \n",
       "...                    ...    ...         ...               ...     ...   \n",
       "327070 2016-03-28 19:56:00    300       sedan              2001    auto   \n",
       "327476 2016-03-28 10:55:00   2999       wagon              1998  manual   \n",
       "327769 2016-03-15 13:57:00   1500         bus              1984  manual   \n",
       "327859 2016-03-21 08:36:00    200       small              1998  manual   \n",
       "327861 2016-04-03 20:37:00   4300       small              2008    auto   \n",
       "\n",
       "        power model  mileage  registrationmonth  fueltype           brand  \\\n",
       "149       NaN   NaN   150000                  0    petrol         renault   \n",
       "284       NaN   NaN   150000                  6    petrol             bmw   \n",
       "329       NaN   NaN   150000                  5    petrol         peugeot   \n",
       "393       NaN   NaN    70000                  5  gasoline  sonstige_autos   \n",
       "646       NaN   NaN   125000                 12    petrol           smart   \n",
       "...       ...   ...      ...                ...       ...             ...   \n",
       "327070    NaN   NaN   150000                  4       NaN        chrysler   \n",
       "327476    NaN   NaN   150000                  0    petrol   mercedes_benz   \n",
       "327769    NaN   NaN   150000                  5  gasoline   mercedes_benz   \n",
       "327859    NaN   NaN   150000                  4    petrol      volkswagen   \n",
       "327861    NaN   NaN   150000                  3       NaN           honda   \n",
       "\n",
       "       notrepaired datecreated  numberofpictures  postalcode  \\\n",
       "149             no  2016-03-19                 0       26969   \n",
       "284             no  2016-03-13                 0       41199   \n",
       "329            yes  2016-03-23                 0       84579   \n",
       "393             no  2016-03-20                 0       90562   \n",
       "646             no  2016-03-21                 0       25421   \n",
       "...            ...         ...               ...         ...   \n",
       "327070         yes  2016-03-28                 0       64807   \n",
       "327476         NaN  2016-03-28                 0       38875   \n",
       "327769         NaN  2016-03-15                 0       48282   \n",
       "327859         yes  2016-03-21                 0       26382   \n",
       "327861         NaN  2016-04-03                 0       30627   \n",
       "\n",
       "                  lastseen  \n",
       "149    2016-04-01 11:17:00  \n",
       "284    2016-03-28 12:46:00  \n",
       "329    2016-03-25 15:22:00  \n",
       "393    2016-04-03 04:17:00  \n",
       "646    2016-04-02 09:17:00  \n",
       "...                    ...  \n",
       "327070 2016-04-07 02:17:00  \n",
       "327476 2016-04-06 13:44:00  \n",
       "327769 2016-04-06 03:46:00  \n",
       "327859 2016-04-06 02:45:00  \n",
       "327861 2016-04-05 21:16:00  \n",
       "\n",
       "[2249 rows x 16 columns]"
      ]
     },
     "execution_count": 37,
     "metadata": {},
     "output_type": "execute_result"
    }
   ],
   "source": [
    "df[df['power'].isnull()]"
   ]
  },
  {
   "cell_type": "code",
   "execution_count": 38,
   "metadata": {
    "scrolled": true
   },
   "outputs": [
    {
     "name": "stdout",
     "output_type": "stream",
     "text": [
      "dropped: 2412\n"
     ]
    },
    {
     "data": {
      "text/html": [
       "<div>\n",
       "<style scoped>\n",
       "    .dataframe tbody tr th:only-of-type {\n",
       "        vertical-align: middle;\n",
       "    }\n",
       "\n",
       "    .dataframe tbody tr th {\n",
       "        vertical-align: top;\n",
       "    }\n",
       "\n",
       "    .dataframe thead th {\n",
       "        text-align: right;\n",
       "    }\n",
       "</style>\n",
       "<table border=\"1\" class=\"dataframe\">\n",
       "  <thead>\n",
       "    <tr style=\"text-align: right;\">\n",
       "      <th></th>\n",
       "      <th>datecrawled</th>\n",
       "      <th>price</th>\n",
       "      <th>vehicletype</th>\n",
       "      <th>registrationyear</th>\n",
       "      <th>gearbox</th>\n",
       "      <th>power</th>\n",
       "      <th>model</th>\n",
       "      <th>mileage</th>\n",
       "      <th>registrationmonth</th>\n",
       "      <th>fueltype</th>\n",
       "      <th>brand</th>\n",
       "      <th>notrepaired</th>\n",
       "      <th>datecreated</th>\n",
       "      <th>numberofpictures</th>\n",
       "      <th>postalcode</th>\n",
       "      <th>lastseen</th>\n",
       "    </tr>\n",
       "  </thead>\n",
       "  <tbody>\n",
       "    <tr>\n",
       "      <th>0</th>\n",
       "      <td>2016-03-24 11:52:00</td>\n",
       "      <td>480</td>\n",
       "      <td>sedan</td>\n",
       "      <td>1993</td>\n",
       "      <td>manual</td>\n",
       "      <td>101.0</td>\n",
       "      <td>golf</td>\n",
       "      <td>150000</td>\n",
       "      <td>0</td>\n",
       "      <td>petrol</td>\n",
       "      <td>volkswagen</td>\n",
       "      <td>NaN</td>\n",
       "      <td>2016-03-24</td>\n",
       "      <td>0</td>\n",
       "      <td>70435</td>\n",
       "      <td>2016-04-07 03:16:00</td>\n",
       "    </tr>\n",
       "    <tr>\n",
       "      <th>1</th>\n",
       "      <td>2016-03-24 10:58:00</td>\n",
       "      <td>18300</td>\n",
       "      <td>coupe</td>\n",
       "      <td>2011</td>\n",
       "      <td>manual</td>\n",
       "      <td>190.0</td>\n",
       "      <td>NaN</td>\n",
       "      <td>125000</td>\n",
       "      <td>5</td>\n",
       "      <td>gasoline</td>\n",
       "      <td>audi</td>\n",
       "      <td>yes</td>\n",
       "      <td>2016-03-24</td>\n",
       "      <td>0</td>\n",
       "      <td>66954</td>\n",
       "      <td>2016-04-07 01:46:00</td>\n",
       "    </tr>\n",
       "    <tr>\n",
       "      <th>2</th>\n",
       "      <td>2016-03-14 12:52:00</td>\n",
       "      <td>9800</td>\n",
       "      <td>suv</td>\n",
       "      <td>2004</td>\n",
       "      <td>auto</td>\n",
       "      <td>163.0</td>\n",
       "      <td>grand</td>\n",
       "      <td>125000</td>\n",
       "      <td>8</td>\n",
       "      <td>gasoline</td>\n",
       "      <td>jeep</td>\n",
       "      <td>NaN</td>\n",
       "      <td>2016-03-14</td>\n",
       "      <td>0</td>\n",
       "      <td>90480</td>\n",
       "      <td>2016-04-05 12:47:00</td>\n",
       "    </tr>\n",
       "    <tr>\n",
       "      <th>3</th>\n",
       "      <td>2016-03-17 16:54:00</td>\n",
       "      <td>1500</td>\n",
       "      <td>small</td>\n",
       "      <td>2001</td>\n",
       "      <td>manual</td>\n",
       "      <td>75.0</td>\n",
       "      <td>golf</td>\n",
       "      <td>150000</td>\n",
       "      <td>6</td>\n",
       "      <td>petrol</td>\n",
       "      <td>volkswagen</td>\n",
       "      <td>no</td>\n",
       "      <td>2016-03-17</td>\n",
       "      <td>0</td>\n",
       "      <td>91074</td>\n",
       "      <td>2016-03-17 17:40:00</td>\n",
       "    </tr>\n",
       "    <tr>\n",
       "      <th>4</th>\n",
       "      <td>2016-03-31 17:25:00</td>\n",
       "      <td>3600</td>\n",
       "      <td>small</td>\n",
       "      <td>2008</td>\n",
       "      <td>manual</td>\n",
       "      <td>69.0</td>\n",
       "      <td>fabia</td>\n",
       "      <td>90000</td>\n",
       "      <td>7</td>\n",
       "      <td>gasoline</td>\n",
       "      <td>skoda</td>\n",
       "      <td>no</td>\n",
       "      <td>2016-03-31</td>\n",
       "      <td>0</td>\n",
       "      <td>60437</td>\n",
       "      <td>2016-04-06 10:17:00</td>\n",
       "    </tr>\n",
       "    <tr>\n",
       "      <th>...</th>\n",
       "      <td>...</td>\n",
       "      <td>...</td>\n",
       "      <td>...</td>\n",
       "      <td>...</td>\n",
       "      <td>...</td>\n",
       "      <td>...</td>\n",
       "      <td>...</td>\n",
       "      <td>...</td>\n",
       "      <td>...</td>\n",
       "      <td>...</td>\n",
       "      <td>...</td>\n",
       "      <td>...</td>\n",
       "      <td>...</td>\n",
       "      <td>...</td>\n",
       "      <td>...</td>\n",
       "      <td>...</td>\n",
       "    </tr>\n",
       "    <tr>\n",
       "      <th>324614</th>\n",
       "      <td>2016-03-27 20:36:00</td>\n",
       "      <td>1150</td>\n",
       "      <td>bus</td>\n",
       "      <td>2000</td>\n",
       "      <td>manual</td>\n",
       "      <td>125.0</td>\n",
       "      <td>zafira</td>\n",
       "      <td>150000</td>\n",
       "      <td>3</td>\n",
       "      <td>petrol</td>\n",
       "      <td>opel</td>\n",
       "      <td>no</td>\n",
       "      <td>2016-03-27</td>\n",
       "      <td>0</td>\n",
       "      <td>26624</td>\n",
       "      <td>2016-03-29 10:17:00</td>\n",
       "    </tr>\n",
       "    <tr>\n",
       "      <th>324615</th>\n",
       "      <td>2016-03-21 09:50:00</td>\n",
       "      <td>0</td>\n",
       "      <td>sedan</td>\n",
       "      <td>2005</td>\n",
       "      <td>manual</td>\n",
       "      <td>82.0</td>\n",
       "      <td>colt</td>\n",
       "      <td>150000</td>\n",
       "      <td>7</td>\n",
       "      <td>petrol</td>\n",
       "      <td>mitsubishi</td>\n",
       "      <td>yes</td>\n",
       "      <td>2016-03-21</td>\n",
       "      <td>0</td>\n",
       "      <td>2694</td>\n",
       "      <td>2016-03-21 10:42:00</td>\n",
       "    </tr>\n",
       "    <tr>\n",
       "      <th>324616</th>\n",
       "      <td>2016-03-05 19:56:00</td>\n",
       "      <td>1199</td>\n",
       "      <td>convertible</td>\n",
       "      <td>2000</td>\n",
       "      <td>auto</td>\n",
       "      <td>101.0</td>\n",
       "      <td>fortwo</td>\n",
       "      <td>125000</td>\n",
       "      <td>3</td>\n",
       "      <td>petrol</td>\n",
       "      <td>smart</td>\n",
       "      <td>no</td>\n",
       "      <td>2016-03-05</td>\n",
       "      <td>0</td>\n",
       "      <td>26135</td>\n",
       "      <td>2016-03-11 18:17:00</td>\n",
       "    </tr>\n",
       "    <tr>\n",
       "      <th>324617</th>\n",
       "      <td>2016-03-19 18:57:00</td>\n",
       "      <td>9200</td>\n",
       "      <td>bus</td>\n",
       "      <td>1996</td>\n",
       "      <td>manual</td>\n",
       "      <td>102.0</td>\n",
       "      <td>transporter</td>\n",
       "      <td>150000</td>\n",
       "      <td>3</td>\n",
       "      <td>gasoline</td>\n",
       "      <td>volkswagen</td>\n",
       "      <td>no</td>\n",
       "      <td>2016-03-19</td>\n",
       "      <td>0</td>\n",
       "      <td>87439</td>\n",
       "      <td>2016-04-07 07:15:00</td>\n",
       "    </tr>\n",
       "    <tr>\n",
       "      <th>324618</th>\n",
       "      <td>2016-03-20 19:41:00</td>\n",
       "      <td>3400</td>\n",
       "      <td>wagon</td>\n",
       "      <td>2002</td>\n",
       "      <td>manual</td>\n",
       "      <td>100.0</td>\n",
       "      <td>golf</td>\n",
       "      <td>150000</td>\n",
       "      <td>6</td>\n",
       "      <td>gasoline</td>\n",
       "      <td>volkswagen</td>\n",
       "      <td>NaN</td>\n",
       "      <td>2016-03-20</td>\n",
       "      <td>0</td>\n",
       "      <td>40764</td>\n",
       "      <td>2016-03-24 12:45:00</td>\n",
       "    </tr>\n",
       "  </tbody>\n",
       "</table>\n",
       "<p>324619 rows × 16 columns</p>\n",
       "</div>"
      ],
      "text/plain": [
       "               datecrawled  price  vehicletype  registrationyear gearbox  \\\n",
       "0      2016-03-24 11:52:00    480        sedan              1993  manual   \n",
       "1      2016-03-24 10:58:00  18300        coupe              2011  manual   \n",
       "2      2016-03-14 12:52:00   9800          suv              2004    auto   \n",
       "3      2016-03-17 16:54:00   1500        small              2001  manual   \n",
       "4      2016-03-31 17:25:00   3600        small              2008  manual   \n",
       "...                    ...    ...          ...               ...     ...   \n",
       "324614 2016-03-27 20:36:00   1150          bus              2000  manual   \n",
       "324615 2016-03-21 09:50:00      0        sedan              2005  manual   \n",
       "324616 2016-03-05 19:56:00   1199  convertible              2000    auto   \n",
       "324617 2016-03-19 18:57:00   9200          bus              1996  manual   \n",
       "324618 2016-03-20 19:41:00   3400        wagon              2002  manual   \n",
       "\n",
       "        power        model  mileage  registrationmonth  fueltype       brand  \\\n",
       "0       101.0         golf   150000                  0    petrol  volkswagen   \n",
       "1       190.0          NaN   125000                  5  gasoline        audi   \n",
       "2       163.0        grand   125000                  8  gasoline        jeep   \n",
       "3        75.0         golf   150000                  6    petrol  volkswagen   \n",
       "4        69.0        fabia    90000                  7  gasoline       skoda   \n",
       "...       ...          ...      ...                ...       ...         ...   \n",
       "324614  125.0       zafira   150000                  3    petrol        opel   \n",
       "324615   82.0         colt   150000                  7    petrol  mitsubishi   \n",
       "324616  101.0       fortwo   125000                  3    petrol       smart   \n",
       "324617  102.0  transporter   150000                  3  gasoline  volkswagen   \n",
       "324618  100.0         golf   150000                  6  gasoline  volkswagen   \n",
       "\n",
       "       notrepaired datecreated  numberofpictures  postalcode  \\\n",
       "0              NaN  2016-03-24                 0       70435   \n",
       "1              yes  2016-03-24                 0       66954   \n",
       "2              NaN  2016-03-14                 0       90480   \n",
       "3               no  2016-03-17                 0       91074   \n",
       "4               no  2016-03-31                 0       60437   \n",
       "...            ...         ...               ...         ...   \n",
       "324614          no  2016-03-27                 0       26624   \n",
       "324615         yes  2016-03-21                 0        2694   \n",
       "324616          no  2016-03-05                 0       26135   \n",
       "324617          no  2016-03-19                 0       87439   \n",
       "324618         NaN  2016-03-20                 0       40764   \n",
       "\n",
       "                  lastseen  \n",
       "0      2016-04-07 03:16:00  \n",
       "1      2016-04-07 01:46:00  \n",
       "2      2016-04-05 12:47:00  \n",
       "3      2016-03-17 17:40:00  \n",
       "4      2016-04-06 10:17:00  \n",
       "...                    ...  \n",
       "324614 2016-03-29 10:17:00  \n",
       "324615 2016-03-21 10:42:00  \n",
       "324616 2016-03-11 18:17:00  \n",
       "324617 2016-04-07 07:15:00  \n",
       "324618 2016-03-24 12:45:00  \n",
       "\n",
       "[324619 rows x 16 columns]"
      ]
     },
     "execution_count": 38,
     "metadata": {},
     "output_type": "execute_result"
    }
   ],
   "source": [
    "#removing unrealistic values\n",
    "remove_outliers(df, 'power', 'brand', 'model')"
   ]
  },
  {
   "cell_type": "code",
   "execution_count": 39,
   "metadata": {},
   "outputs": [],
   "source": [
    "#dropping remaining null values\n",
    "df = df[df['power'].notnull()]"
   ]
  },
  {
   "cell_type": "markdown",
   "metadata": {},
   "source": [
    "### `model`"
   ]
  },
  {
   "cell_type": "code",
   "execution_count": 40,
   "metadata": {},
   "outputs": [
    {
     "data": {
      "text/plain": [
       "golf                  26741\n",
       "other                 22936\n",
       "3er                   18817\n",
       "polo                  12047\n",
       "corsa                 11613\n",
       "                      ...  \n",
       "serie_2                   7\n",
       "kalina                    6\n",
       "serie_3                   4\n",
       "rangerover                3\n",
       "range_rover_evoque        2\n",
       "Name: model, Length: 249, dtype: int64"
      ]
     },
     "execution_count": 40,
     "metadata": {},
     "output_type": "execute_result"
    }
   ],
   "source": [
    "df['model'].value_counts()"
   ]
  },
  {
   "cell_type": "code",
   "execution_count": 41,
   "metadata": {
    "scrolled": true
   },
   "outputs": [
    {
     "data": {
      "text/html": [
       "<div>\n",
       "<style scoped>\n",
       "    .dataframe tbody tr th:only-of-type {\n",
       "        vertical-align: middle;\n",
       "    }\n",
       "\n",
       "    .dataframe tbody tr th {\n",
       "        vertical-align: top;\n",
       "    }\n",
       "\n",
       "    .dataframe thead th {\n",
       "        text-align: right;\n",
       "    }\n",
       "</style>\n",
       "<table border=\"1\" class=\"dataframe\">\n",
       "  <thead>\n",
       "    <tr style=\"text-align: right;\">\n",
       "      <th></th>\n",
       "      <th>datecrawled</th>\n",
       "      <th>price</th>\n",
       "      <th>vehicletype</th>\n",
       "      <th>registrationyear</th>\n",
       "      <th>gearbox</th>\n",
       "      <th>power</th>\n",
       "      <th>model</th>\n",
       "      <th>mileage</th>\n",
       "      <th>registrationmonth</th>\n",
       "      <th>fueltype</th>\n",
       "      <th>brand</th>\n",
       "      <th>notrepaired</th>\n",
       "      <th>datecreated</th>\n",
       "      <th>numberofpictures</th>\n",
       "      <th>postalcode</th>\n",
       "      <th>lastseen</th>\n",
       "    </tr>\n",
       "  </thead>\n",
       "  <tbody>\n",
       "    <tr>\n",
       "      <th>1</th>\n",
       "      <td>2016-03-24 10:58:00</td>\n",
       "      <td>18300</td>\n",
       "      <td>coupe</td>\n",
       "      <td>2011</td>\n",
       "      <td>manual</td>\n",
       "      <td>190.0</td>\n",
       "      <td>NaN</td>\n",
       "      <td>125000</td>\n",
       "      <td>5</td>\n",
       "      <td>gasoline</td>\n",
       "      <td>audi</td>\n",
       "      <td>yes</td>\n",
       "      <td>2016-03-24</td>\n",
       "      <td>0</td>\n",
       "      <td>66954</td>\n",
       "      <td>2016-04-07 01:46:00</td>\n",
       "    </tr>\n",
       "    <tr>\n",
       "      <th>52</th>\n",
       "      <td>2016-03-29 15:48:00</td>\n",
       "      <td>1</td>\n",
       "      <td>suv</td>\n",
       "      <td>1994</td>\n",
       "      <td>manual</td>\n",
       "      <td>286.0</td>\n",
       "      <td>NaN</td>\n",
       "      <td>150000</td>\n",
       "      <td>11</td>\n",
       "      <td>NaN</td>\n",
       "      <td>sonstige_autos</td>\n",
       "      <td>NaN</td>\n",
       "      <td>2016-03-29</td>\n",
       "      <td>0</td>\n",
       "      <td>53721</td>\n",
       "      <td>2016-04-06 01:44:00</td>\n",
       "    </tr>\n",
       "    <tr>\n",
       "      <th>72</th>\n",
       "      <td>2016-04-03 12:56:00</td>\n",
       "      <td>350</td>\n",
       "      <td>small</td>\n",
       "      <td>1997</td>\n",
       "      <td>manual</td>\n",
       "      <td>54.0</td>\n",
       "      <td>NaN</td>\n",
       "      <td>150000</td>\n",
       "      <td>3</td>\n",
       "      <td>NaN</td>\n",
       "      <td>fiat</td>\n",
       "      <td>yes</td>\n",
       "      <td>2016-04-03</td>\n",
       "      <td>0</td>\n",
       "      <td>45665</td>\n",
       "      <td>2016-04-05 11:47:00</td>\n",
       "    </tr>\n",
       "    <tr>\n",
       "      <th>123</th>\n",
       "      <td>2016-03-27 20:51:00</td>\n",
       "      <td>1450</td>\n",
       "      <td>sedan</td>\n",
       "      <td>1992</td>\n",
       "      <td>manual</td>\n",
       "      <td>136.0</td>\n",
       "      <td>NaN</td>\n",
       "      <td>150000</td>\n",
       "      <td>0</td>\n",
       "      <td>NaN</td>\n",
       "      <td>audi</td>\n",
       "      <td>no</td>\n",
       "      <td>2016-03-27</td>\n",
       "      <td>0</td>\n",
       "      <td>38709</td>\n",
       "      <td>2016-04-05 20:17:00</td>\n",
       "    </tr>\n",
       "    <tr>\n",
       "      <th>174</th>\n",
       "      <td>2016-03-27 12:47:00</td>\n",
       "      <td>1200</td>\n",
       "      <td>coupe</td>\n",
       "      <td>1990</td>\n",
       "      <td>manual</td>\n",
       "      <td>45.0</td>\n",
       "      <td>NaN</td>\n",
       "      <td>150000</td>\n",
       "      <td>0</td>\n",
       "      <td>petrol</td>\n",
       "      <td>volkswagen</td>\n",
       "      <td>NaN</td>\n",
       "      <td>2016-03-27</td>\n",
       "      <td>0</td>\n",
       "      <td>83317</td>\n",
       "      <td>2016-04-07 08:17:00</td>\n",
       "    </tr>\n",
       "    <tr>\n",
       "      <th>...</th>\n",
       "      <td>...</td>\n",
       "      <td>...</td>\n",
       "      <td>...</td>\n",
       "      <td>...</td>\n",
       "      <td>...</td>\n",
       "      <td>...</td>\n",
       "      <td>...</td>\n",
       "      <td>...</td>\n",
       "      <td>...</td>\n",
       "      <td>...</td>\n",
       "      <td>...</td>\n",
       "      <td>...</td>\n",
       "      <td>...</td>\n",
       "      <td>...</td>\n",
       "      <td>...</td>\n",
       "      <td>...</td>\n",
       "    </tr>\n",
       "    <tr>\n",
       "      <th>324242</th>\n",
       "      <td>2016-03-10 15:48:00</td>\n",
       "      <td>1599</td>\n",
       "      <td>small</td>\n",
       "      <td>2002</td>\n",
       "      <td>manual</td>\n",
       "      <td>75.0</td>\n",
       "      <td>NaN</td>\n",
       "      <td>150000</td>\n",
       "      <td>0</td>\n",
       "      <td>petrol</td>\n",
       "      <td>ford</td>\n",
       "      <td>NaN</td>\n",
       "      <td>2016-03-10</td>\n",
       "      <td>0</td>\n",
       "      <td>31655</td>\n",
       "      <td>2016-03-20 00:16:00</td>\n",
       "    </tr>\n",
       "    <tr>\n",
       "      <th>324333</th>\n",
       "      <td>2016-03-19 11:25:00</td>\n",
       "      <td>6000</td>\n",
       "      <td>small</td>\n",
       "      <td>2008</td>\n",
       "      <td>manual</td>\n",
       "      <td>155.0</td>\n",
       "      <td>NaN</td>\n",
       "      <td>150000</td>\n",
       "      <td>5</td>\n",
       "      <td>petrol</td>\n",
       "      <td>sonstige_autos</td>\n",
       "      <td>no</td>\n",
       "      <td>2016-03-19</td>\n",
       "      <td>0</td>\n",
       "      <td>63069</td>\n",
       "      <td>2016-04-07 00:46:00</td>\n",
       "    </tr>\n",
       "    <tr>\n",
       "      <th>324493</th>\n",
       "      <td>2016-03-19 01:47:00</td>\n",
       "      <td>5000</td>\n",
       "      <td>sedan</td>\n",
       "      <td>2002</td>\n",
       "      <td>auto</td>\n",
       "      <td>170.0</td>\n",
       "      <td>NaN</td>\n",
       "      <td>150000</td>\n",
       "      <td>0</td>\n",
       "      <td>petrol</td>\n",
       "      <td>audi</td>\n",
       "      <td>no</td>\n",
       "      <td>2016-03-18</td>\n",
       "      <td>0</td>\n",
       "      <td>85221</td>\n",
       "      <td>2016-04-06 03:45:00</td>\n",
       "    </tr>\n",
       "    <tr>\n",
       "      <th>324504</th>\n",
       "      <td>2016-03-07 16:37:00</td>\n",
       "      <td>560</td>\n",
       "      <td>small</td>\n",
       "      <td>2001</td>\n",
       "      <td>auto</td>\n",
       "      <td>170.0</td>\n",
       "      <td>NaN</td>\n",
       "      <td>90000</td>\n",
       "      <td>0</td>\n",
       "      <td>petrol</td>\n",
       "      <td>fiat</td>\n",
       "      <td>yes</td>\n",
       "      <td>2016-03-07</td>\n",
       "      <td>0</td>\n",
       "      <td>55743</td>\n",
       "      <td>2016-03-12 21:45:00</td>\n",
       "    </tr>\n",
       "    <tr>\n",
       "      <th>324576</th>\n",
       "      <td>2016-03-15 13:52:00</td>\n",
       "      <td>9400</td>\n",
       "      <td>wagon</td>\n",
       "      <td>2007</td>\n",
       "      <td>manual</td>\n",
       "      <td>200.0</td>\n",
       "      <td>NaN</td>\n",
       "      <td>150000</td>\n",
       "      <td>4</td>\n",
       "      <td>gasoline</td>\n",
       "      <td>sonstige_autos</td>\n",
       "      <td>yes</td>\n",
       "      <td>2016-03-15</td>\n",
       "      <td>0</td>\n",
       "      <td>91186</td>\n",
       "      <td>2016-03-17 08:16:00</td>\n",
       "    </tr>\n",
       "  </tbody>\n",
       "</table>\n",
       "<p>9479 rows × 16 columns</p>\n",
       "</div>"
      ],
      "text/plain": [
       "               datecrawled  price vehicletype  registrationyear gearbox  \\\n",
       "1      2016-03-24 10:58:00  18300       coupe              2011  manual   \n",
       "52     2016-03-29 15:48:00      1         suv              1994  manual   \n",
       "72     2016-04-03 12:56:00    350       small              1997  manual   \n",
       "123    2016-03-27 20:51:00   1450       sedan              1992  manual   \n",
       "174    2016-03-27 12:47:00   1200       coupe              1990  manual   \n",
       "...                    ...    ...         ...               ...     ...   \n",
       "324242 2016-03-10 15:48:00   1599       small              2002  manual   \n",
       "324333 2016-03-19 11:25:00   6000       small              2008  manual   \n",
       "324493 2016-03-19 01:47:00   5000       sedan              2002    auto   \n",
       "324504 2016-03-07 16:37:00    560       small              2001    auto   \n",
       "324576 2016-03-15 13:52:00   9400       wagon              2007  manual   \n",
       "\n",
       "        power model  mileage  registrationmonth  fueltype           brand  \\\n",
       "1       190.0   NaN   125000                  5  gasoline            audi   \n",
       "52      286.0   NaN   150000                 11       NaN  sonstige_autos   \n",
       "72       54.0   NaN   150000                  3       NaN            fiat   \n",
       "123     136.0   NaN   150000                  0       NaN            audi   \n",
       "174      45.0   NaN   150000                  0    petrol      volkswagen   \n",
       "...       ...   ...      ...                ...       ...             ...   \n",
       "324242   75.0   NaN   150000                  0    petrol            ford   \n",
       "324333  155.0   NaN   150000                  5    petrol  sonstige_autos   \n",
       "324493  170.0   NaN   150000                  0    petrol            audi   \n",
       "324504  170.0   NaN    90000                  0    petrol            fiat   \n",
       "324576  200.0   NaN   150000                  4  gasoline  sonstige_autos   \n",
       "\n",
       "       notrepaired datecreated  numberofpictures  postalcode  \\\n",
       "1              yes  2016-03-24                 0       66954   \n",
       "52             NaN  2016-03-29                 0       53721   \n",
       "72             yes  2016-04-03                 0       45665   \n",
       "123             no  2016-03-27                 0       38709   \n",
       "174            NaN  2016-03-27                 0       83317   \n",
       "...            ...         ...               ...         ...   \n",
       "324242         NaN  2016-03-10                 0       31655   \n",
       "324333          no  2016-03-19                 0       63069   \n",
       "324493          no  2016-03-18                 0       85221   \n",
       "324504         yes  2016-03-07                 0       55743   \n",
       "324576         yes  2016-03-15                 0       91186   \n",
       "\n",
       "                  lastseen  \n",
       "1      2016-04-07 01:46:00  \n",
       "52     2016-04-06 01:44:00  \n",
       "72     2016-04-05 11:47:00  \n",
       "123    2016-04-05 20:17:00  \n",
       "174    2016-04-07 08:17:00  \n",
       "...                    ...  \n",
       "324242 2016-03-20 00:16:00  \n",
       "324333 2016-04-07 00:46:00  \n",
       "324493 2016-04-06 03:45:00  \n",
       "324504 2016-03-12 21:45:00  \n",
       "324576 2016-03-17 08:16:00  \n",
       "\n",
       "[9479 rows x 16 columns]"
      ]
     },
     "execution_count": 41,
     "metadata": {},
     "output_type": "execute_result"
    }
   ],
   "source": [
    "df[df['model'].isnull()]"
   ]
  },
  {
   "cell_type": "markdown",
   "metadata": {},
   "source": [
    "There are a small number of null values, we can replace these with the modal model of listing with the same brand and vehicle type."
   ]
  },
  {
   "cell_type": "code",
   "execution_count": 42,
   "metadata": {
    "scrolled": true
   },
   "outputs": [
    {
     "data": {
      "text/html": [
       "<div>\n",
       "<style scoped>\n",
       "    .dataframe tbody tr th:only-of-type {\n",
       "        vertical-align: middle;\n",
       "    }\n",
       "\n",
       "    .dataframe tbody tr th {\n",
       "        vertical-align: top;\n",
       "    }\n",
       "\n",
       "    .dataframe thead th {\n",
       "        text-align: right;\n",
       "    }\n",
       "</style>\n",
       "<table border=\"1\" class=\"dataframe\">\n",
       "  <thead>\n",
       "    <tr style=\"text-align: right;\">\n",
       "      <th></th>\n",
       "      <th>datecrawled</th>\n",
       "      <th>price</th>\n",
       "      <th>vehicletype</th>\n",
       "      <th>registrationyear</th>\n",
       "      <th>gearbox</th>\n",
       "      <th>power</th>\n",
       "      <th>model</th>\n",
       "      <th>mileage</th>\n",
       "      <th>registrationmonth</th>\n",
       "      <th>fueltype</th>\n",
       "      <th>brand</th>\n",
       "      <th>notrepaired</th>\n",
       "      <th>datecreated</th>\n",
       "      <th>numberofpictures</th>\n",
       "      <th>postalcode</th>\n",
       "      <th>lastseen</th>\n",
       "    </tr>\n",
       "  </thead>\n",
       "  <tbody>\n",
       "    <tr>\n",
       "      <th>0</th>\n",
       "      <td>2016-03-24 11:52:00</td>\n",
       "      <td>480</td>\n",
       "      <td>sedan</td>\n",
       "      <td>1993</td>\n",
       "      <td>manual</td>\n",
       "      <td>101.0</td>\n",
       "      <td>golf</td>\n",
       "      <td>150000</td>\n",
       "      <td>0</td>\n",
       "      <td>petrol</td>\n",
       "      <td>volkswagen</td>\n",
       "      <td>NaN</td>\n",
       "      <td>2016-03-24</td>\n",
       "      <td>0</td>\n",
       "      <td>70435</td>\n",
       "      <td>2016-04-07 03:16:00</td>\n",
       "    </tr>\n",
       "    <tr>\n",
       "      <th>1</th>\n",
       "      <td>2016-03-24 10:58:00</td>\n",
       "      <td>18300</td>\n",
       "      <td>coupe</td>\n",
       "      <td>2011</td>\n",
       "      <td>manual</td>\n",
       "      <td>190.0</td>\n",
       "      <td>tt</td>\n",
       "      <td>125000</td>\n",
       "      <td>5</td>\n",
       "      <td>gasoline</td>\n",
       "      <td>audi</td>\n",
       "      <td>yes</td>\n",
       "      <td>2016-03-24</td>\n",
       "      <td>0</td>\n",
       "      <td>66954</td>\n",
       "      <td>2016-04-07 01:46:00</td>\n",
       "    </tr>\n",
       "    <tr>\n",
       "      <th>2</th>\n",
       "      <td>2016-03-14 12:52:00</td>\n",
       "      <td>9800</td>\n",
       "      <td>suv</td>\n",
       "      <td>2004</td>\n",
       "      <td>auto</td>\n",
       "      <td>163.0</td>\n",
       "      <td>grand</td>\n",
       "      <td>125000</td>\n",
       "      <td>8</td>\n",
       "      <td>gasoline</td>\n",
       "      <td>jeep</td>\n",
       "      <td>NaN</td>\n",
       "      <td>2016-03-14</td>\n",
       "      <td>0</td>\n",
       "      <td>90480</td>\n",
       "      <td>2016-04-05 12:47:00</td>\n",
       "    </tr>\n",
       "    <tr>\n",
       "      <th>3</th>\n",
       "      <td>2016-03-17 16:54:00</td>\n",
       "      <td>1500</td>\n",
       "      <td>small</td>\n",
       "      <td>2001</td>\n",
       "      <td>manual</td>\n",
       "      <td>75.0</td>\n",
       "      <td>golf</td>\n",
       "      <td>150000</td>\n",
       "      <td>6</td>\n",
       "      <td>petrol</td>\n",
       "      <td>volkswagen</td>\n",
       "      <td>no</td>\n",
       "      <td>2016-03-17</td>\n",
       "      <td>0</td>\n",
       "      <td>91074</td>\n",
       "      <td>2016-03-17 17:40:00</td>\n",
       "    </tr>\n",
       "    <tr>\n",
       "      <th>4</th>\n",
       "      <td>2016-03-31 17:25:00</td>\n",
       "      <td>3600</td>\n",
       "      <td>small</td>\n",
       "      <td>2008</td>\n",
       "      <td>manual</td>\n",
       "      <td>69.0</td>\n",
       "      <td>fabia</td>\n",
       "      <td>90000</td>\n",
       "      <td>7</td>\n",
       "      <td>gasoline</td>\n",
       "      <td>skoda</td>\n",
       "      <td>no</td>\n",
       "      <td>2016-03-31</td>\n",
       "      <td>0</td>\n",
       "      <td>60437</td>\n",
       "      <td>2016-04-06 10:17:00</td>\n",
       "    </tr>\n",
       "    <tr>\n",
       "      <th>...</th>\n",
       "      <td>...</td>\n",
       "      <td>...</td>\n",
       "      <td>...</td>\n",
       "      <td>...</td>\n",
       "      <td>...</td>\n",
       "      <td>...</td>\n",
       "      <td>...</td>\n",
       "      <td>...</td>\n",
       "      <td>...</td>\n",
       "      <td>...</td>\n",
       "      <td>...</td>\n",
       "      <td>...</td>\n",
       "      <td>...</td>\n",
       "      <td>...</td>\n",
       "      <td>...</td>\n",
       "      <td>...</td>\n",
       "    </tr>\n",
       "    <tr>\n",
       "      <th>324614</th>\n",
       "      <td>2016-03-27 20:36:00</td>\n",
       "      <td>1150</td>\n",
       "      <td>bus</td>\n",
       "      <td>2000</td>\n",
       "      <td>manual</td>\n",
       "      <td>125.0</td>\n",
       "      <td>zafira</td>\n",
       "      <td>150000</td>\n",
       "      <td>3</td>\n",
       "      <td>petrol</td>\n",
       "      <td>opel</td>\n",
       "      <td>no</td>\n",
       "      <td>2016-03-27</td>\n",
       "      <td>0</td>\n",
       "      <td>26624</td>\n",
       "      <td>2016-03-29 10:17:00</td>\n",
       "    </tr>\n",
       "    <tr>\n",
       "      <th>324615</th>\n",
       "      <td>2016-03-21 09:50:00</td>\n",
       "      <td>0</td>\n",
       "      <td>sedan</td>\n",
       "      <td>2005</td>\n",
       "      <td>manual</td>\n",
       "      <td>82.0</td>\n",
       "      <td>colt</td>\n",
       "      <td>150000</td>\n",
       "      <td>7</td>\n",
       "      <td>petrol</td>\n",
       "      <td>mitsubishi</td>\n",
       "      <td>yes</td>\n",
       "      <td>2016-03-21</td>\n",
       "      <td>0</td>\n",
       "      <td>2694</td>\n",
       "      <td>2016-03-21 10:42:00</td>\n",
       "    </tr>\n",
       "    <tr>\n",
       "      <th>324616</th>\n",
       "      <td>2016-03-05 19:56:00</td>\n",
       "      <td>1199</td>\n",
       "      <td>convertible</td>\n",
       "      <td>2000</td>\n",
       "      <td>auto</td>\n",
       "      <td>101.0</td>\n",
       "      <td>fortwo</td>\n",
       "      <td>125000</td>\n",
       "      <td>3</td>\n",
       "      <td>petrol</td>\n",
       "      <td>smart</td>\n",
       "      <td>no</td>\n",
       "      <td>2016-03-05</td>\n",
       "      <td>0</td>\n",
       "      <td>26135</td>\n",
       "      <td>2016-03-11 18:17:00</td>\n",
       "    </tr>\n",
       "    <tr>\n",
       "      <th>324617</th>\n",
       "      <td>2016-03-19 18:57:00</td>\n",
       "      <td>9200</td>\n",
       "      <td>bus</td>\n",
       "      <td>1996</td>\n",
       "      <td>manual</td>\n",
       "      <td>102.0</td>\n",
       "      <td>transporter</td>\n",
       "      <td>150000</td>\n",
       "      <td>3</td>\n",
       "      <td>gasoline</td>\n",
       "      <td>volkswagen</td>\n",
       "      <td>no</td>\n",
       "      <td>2016-03-19</td>\n",
       "      <td>0</td>\n",
       "      <td>87439</td>\n",
       "      <td>2016-04-07 07:15:00</td>\n",
       "    </tr>\n",
       "    <tr>\n",
       "      <th>324618</th>\n",
       "      <td>2016-03-20 19:41:00</td>\n",
       "      <td>3400</td>\n",
       "      <td>wagon</td>\n",
       "      <td>2002</td>\n",
       "      <td>manual</td>\n",
       "      <td>100.0</td>\n",
       "      <td>golf</td>\n",
       "      <td>150000</td>\n",
       "      <td>6</td>\n",
       "      <td>gasoline</td>\n",
       "      <td>volkswagen</td>\n",
       "      <td>NaN</td>\n",
       "      <td>2016-03-20</td>\n",
       "      <td>0</td>\n",
       "      <td>40764</td>\n",
       "      <td>2016-03-24 12:45:00</td>\n",
       "    </tr>\n",
       "  </tbody>\n",
       "</table>\n",
       "<p>322370 rows × 16 columns</p>\n",
       "</div>"
      ],
      "text/plain": [
       "               datecrawled  price  vehicletype  registrationyear gearbox  \\\n",
       "0      2016-03-24 11:52:00    480        sedan              1993  manual   \n",
       "1      2016-03-24 10:58:00  18300        coupe              2011  manual   \n",
       "2      2016-03-14 12:52:00   9800          suv              2004    auto   \n",
       "3      2016-03-17 16:54:00   1500        small              2001  manual   \n",
       "4      2016-03-31 17:25:00   3600        small              2008  manual   \n",
       "...                    ...    ...          ...               ...     ...   \n",
       "324614 2016-03-27 20:36:00   1150          bus              2000  manual   \n",
       "324615 2016-03-21 09:50:00      0        sedan              2005  manual   \n",
       "324616 2016-03-05 19:56:00   1199  convertible              2000    auto   \n",
       "324617 2016-03-19 18:57:00   9200          bus              1996  manual   \n",
       "324618 2016-03-20 19:41:00   3400        wagon              2002  manual   \n",
       "\n",
       "        power        model  mileage  registrationmonth  fueltype       brand  \\\n",
       "0       101.0         golf   150000                  0    petrol  volkswagen   \n",
       "1       190.0           tt   125000                  5  gasoline        audi   \n",
       "2       163.0        grand   125000                  8  gasoline        jeep   \n",
       "3        75.0         golf   150000                  6    petrol  volkswagen   \n",
       "4        69.0        fabia    90000                  7  gasoline       skoda   \n",
       "...       ...          ...      ...                ...       ...         ...   \n",
       "324614  125.0       zafira   150000                  3    petrol        opel   \n",
       "324615   82.0         colt   150000                  7    petrol  mitsubishi   \n",
       "324616  101.0       fortwo   125000                  3    petrol       smart   \n",
       "324617  102.0  transporter   150000                  3  gasoline  volkswagen   \n",
       "324618  100.0         golf   150000                  6  gasoline  volkswagen   \n",
       "\n",
       "       notrepaired datecreated  numberofpictures  postalcode  \\\n",
       "0              NaN  2016-03-24                 0       70435   \n",
       "1              yes  2016-03-24                 0       66954   \n",
       "2              NaN  2016-03-14                 0       90480   \n",
       "3               no  2016-03-17                 0       91074   \n",
       "4               no  2016-03-31                 0       60437   \n",
       "...            ...         ...               ...         ...   \n",
       "324614          no  2016-03-27                 0       26624   \n",
       "324615         yes  2016-03-21                 0        2694   \n",
       "324616          no  2016-03-05                 0       26135   \n",
       "324617          no  2016-03-19                 0       87439   \n",
       "324618         NaN  2016-03-20                 0       40764   \n",
       "\n",
       "                  lastseen  \n",
       "0      2016-04-07 03:16:00  \n",
       "1      2016-04-07 01:46:00  \n",
       "2      2016-04-05 12:47:00  \n",
       "3      2016-03-17 17:40:00  \n",
       "4      2016-04-06 10:17:00  \n",
       "...                    ...  \n",
       "324614 2016-03-29 10:17:00  \n",
       "324615 2016-03-21 10:42:00  \n",
       "324616 2016-03-11 18:17:00  \n",
       "324617 2016-04-07 07:15:00  \n",
       "324618 2016-03-24 12:45:00  \n",
       "\n",
       "[322370 rows x 16 columns]"
      ]
     },
     "execution_count": 42,
     "metadata": {},
     "output_type": "execute_result"
    }
   ],
   "source": [
    "replace_null(df, 'model', 'brand', 'vehicletype', average = 'mode')"
   ]
  },
  {
   "cell_type": "code",
   "execution_count": 43,
   "metadata": {},
   "outputs": [
    {
     "data": {
      "text/html": [
       "<div>\n",
       "<style scoped>\n",
       "    .dataframe tbody tr th:only-of-type {\n",
       "        vertical-align: middle;\n",
       "    }\n",
       "\n",
       "    .dataframe tbody tr th {\n",
       "        vertical-align: top;\n",
       "    }\n",
       "\n",
       "    .dataframe thead th {\n",
       "        text-align: right;\n",
       "    }\n",
       "</style>\n",
       "<table border=\"1\" class=\"dataframe\">\n",
       "  <thead>\n",
       "    <tr style=\"text-align: right;\">\n",
       "      <th></th>\n",
       "      <th>datecrawled</th>\n",
       "      <th>price</th>\n",
       "      <th>vehicletype</th>\n",
       "      <th>registrationyear</th>\n",
       "      <th>gearbox</th>\n",
       "      <th>power</th>\n",
       "      <th>model</th>\n",
       "      <th>mileage</th>\n",
       "      <th>registrationmonth</th>\n",
       "      <th>fueltype</th>\n",
       "      <th>brand</th>\n",
       "      <th>notrepaired</th>\n",
       "      <th>datecreated</th>\n",
       "      <th>numberofpictures</th>\n",
       "      <th>postalcode</th>\n",
       "      <th>lastseen</th>\n",
       "    </tr>\n",
       "  </thead>\n",
       "  <tbody>\n",
       "  </tbody>\n",
       "</table>\n",
       "</div>"
      ],
      "text/plain": [
       "Empty DataFrame\n",
       "Columns: [datecrawled, price, vehicletype, registrationyear, gearbox, power, model, mileage, registrationmonth, fueltype, brand, notrepaired, datecreated, numberofpictures, postalcode, lastseen]\n",
       "Index: []"
      ]
     },
     "execution_count": 43,
     "metadata": {},
     "output_type": "execute_result"
    }
   ],
   "source": [
    "df[df['model'].isnull()]"
   ]
  },
  {
   "cell_type": "markdown",
   "metadata": {},
   "source": [
    "### `mileage`"
   ]
  },
  {
   "cell_type": "code",
   "execution_count": 44,
   "metadata": {},
   "outputs": [
    {
     "data": {
      "text/plain": [
       "count    322370.000000\n",
       "mean     129556.053603\n",
       "std       36161.249117\n",
       "min        5000.000000\n",
       "25%      125000.000000\n",
       "50%      150000.000000\n",
       "75%      150000.000000\n",
       "max      150000.000000\n",
       "Name: mileage, dtype: float64"
      ]
     },
     "execution_count": 44,
     "metadata": {},
     "output_type": "execute_result"
    }
   ],
   "source": [
    "df['mileage'].describe()"
   ]
  },
  {
   "cell_type": "code",
   "execution_count": 45,
   "metadata": {},
   "outputs": [
    {
     "data": {
      "text/html": [
       "<div>\n",
       "<style scoped>\n",
       "    .dataframe tbody tr th:only-of-type {\n",
       "        vertical-align: middle;\n",
       "    }\n",
       "\n",
       "    .dataframe tbody tr th {\n",
       "        vertical-align: top;\n",
       "    }\n",
       "\n",
       "    .dataframe thead th {\n",
       "        text-align: right;\n",
       "    }\n",
       "</style>\n",
       "<table border=\"1\" class=\"dataframe\">\n",
       "  <thead>\n",
       "    <tr style=\"text-align: right;\">\n",
       "      <th></th>\n",
       "      <th>datecrawled</th>\n",
       "      <th>price</th>\n",
       "      <th>vehicletype</th>\n",
       "      <th>registrationyear</th>\n",
       "      <th>gearbox</th>\n",
       "      <th>power</th>\n",
       "      <th>model</th>\n",
       "      <th>mileage</th>\n",
       "      <th>registrationmonth</th>\n",
       "      <th>fueltype</th>\n",
       "      <th>brand</th>\n",
       "      <th>notrepaired</th>\n",
       "      <th>datecreated</th>\n",
       "      <th>numberofpictures</th>\n",
       "      <th>postalcode</th>\n",
       "      <th>lastseen</th>\n",
       "    </tr>\n",
       "  </thead>\n",
       "  <tbody>\n",
       "  </tbody>\n",
       "</table>\n",
       "</div>"
      ],
      "text/plain": [
       "Empty DataFrame\n",
       "Columns: [datecrawled, price, vehicletype, registrationyear, gearbox, power, model, mileage, registrationmonth, fueltype, brand, notrepaired, datecreated, numberofpictures, postalcode, lastseen]\n",
       "Index: []"
      ]
     },
     "execution_count": 45,
     "metadata": {},
     "output_type": "execute_result"
    }
   ],
   "source": [
    "df[df['mileage'].isnull()]"
   ]
  },
  {
   "cell_type": "code",
   "execution_count": 46,
   "metadata": {},
   "outputs": [
    {
     "data": {
      "text/plain": [
       "150000    219415\n",
       "125000     33801\n",
       "100000     13510\n",
       "90000      10677\n",
       "80000       9199\n",
       "70000       7783\n",
       "60000       6676\n",
       "50000       5437\n",
       "5000        4412\n",
       "40000       4190\n",
       "30000       3515\n",
       "20000       2988\n",
       "10000        767\n",
       "Name: mileage, dtype: int64"
      ]
     },
     "execution_count": 46,
     "metadata": {},
     "output_type": "execute_result"
    }
   ],
   "source": [
    "df['mileage'].value_counts()"
   ]
  },
  {
   "cell_type": "markdown",
   "metadata": {},
   "source": [
    "Although it appears that 150000 is the max value with over 50% of listings having this value, we can treat this as a categorical value for how used the car is. There is probably not going to be much effect on price if a cars milage was 200000 vs 250000.\n",
    "\n",
    "We'll leave it as is."
   ]
  },
  {
   "cell_type": "markdown",
   "metadata": {},
   "source": [
    "### `registrationmonth`"
   ]
  },
  {
   "cell_type": "code",
   "execution_count": 47,
   "metadata": {},
   "outputs": [
    {
     "data": {
      "text/plain": [
       "count    322370.000000\n",
       "mean          5.830226\n",
       "std           3.677787\n",
       "min           0.000000\n",
       "25%           3.000000\n",
       "50%           6.000000\n",
       "75%           9.000000\n",
       "max          12.000000\n",
       "Name: registrationmonth, dtype: float64"
      ]
     },
     "execution_count": 47,
     "metadata": {},
     "output_type": "execute_result"
    }
   ],
   "source": [
    "df['registrationmonth'].describe()"
   ]
  },
  {
   "cell_type": "code",
   "execution_count": 48,
   "metadata": {},
   "outputs": [
    {
     "data": {
      "text/html": [
       "<div>\n",
       "<style scoped>\n",
       "    .dataframe tbody tr th:only-of-type {\n",
       "        vertical-align: middle;\n",
       "    }\n",
       "\n",
       "    .dataframe tbody tr th {\n",
       "        vertical-align: top;\n",
       "    }\n",
       "\n",
       "    .dataframe thead th {\n",
       "        text-align: right;\n",
       "    }\n",
       "</style>\n",
       "<table border=\"1\" class=\"dataframe\">\n",
       "  <thead>\n",
       "    <tr style=\"text-align: right;\">\n",
       "      <th></th>\n",
       "      <th>datecrawled</th>\n",
       "      <th>price</th>\n",
       "      <th>vehicletype</th>\n",
       "      <th>registrationyear</th>\n",
       "      <th>gearbox</th>\n",
       "      <th>power</th>\n",
       "      <th>model</th>\n",
       "      <th>mileage</th>\n",
       "      <th>registrationmonth</th>\n",
       "      <th>fueltype</th>\n",
       "      <th>brand</th>\n",
       "      <th>notrepaired</th>\n",
       "      <th>datecreated</th>\n",
       "      <th>numberofpictures</th>\n",
       "      <th>postalcode</th>\n",
       "      <th>lastseen</th>\n",
       "    </tr>\n",
       "  </thead>\n",
       "  <tbody>\n",
       "  </tbody>\n",
       "</table>\n",
       "</div>"
      ],
      "text/plain": [
       "Empty DataFrame\n",
       "Columns: [datecrawled, price, vehicletype, registrationyear, gearbox, power, model, mileage, registrationmonth, fueltype, brand, notrepaired, datecreated, numberofpictures, postalcode, lastseen]\n",
       "Index: []"
      ]
     },
     "execution_count": 48,
     "metadata": {},
     "output_type": "execute_result"
    }
   ],
   "source": [
    "df[df['registrationmonth'].isnull()]"
   ]
  },
  {
   "cell_type": "markdown",
   "metadata": {},
   "source": [
    "All seems fine. Intuition suggests this shouldn't affect the price."
   ]
  },
  {
   "cell_type": "markdown",
   "metadata": {},
   "source": [
    "### `fueltype`"
   ]
  },
  {
   "cell_type": "code",
   "execution_count": 49,
   "metadata": {},
   "outputs": [
    {
     "data": {
      "text/plain": [
       "petrol      201190\n",
       "gasoline     93334\n",
       "lpg           4979\n",
       "cng            526\n",
       "hybrid         205\n",
       "other          125\n",
       "electric        59\n",
       "Name: fueltype, dtype: int64"
      ]
     },
     "execution_count": 49,
     "metadata": {},
     "output_type": "execute_result"
    }
   ],
   "source": [
    "df['fueltype'].value_counts()"
   ]
  },
  {
   "cell_type": "code",
   "execution_count": 50,
   "metadata": {
    "scrolled": true
   },
   "outputs": [
    {
     "data": {
      "text/html": [
       "<div>\n",
       "<style scoped>\n",
       "    .dataframe tbody tr th:only-of-type {\n",
       "        vertical-align: middle;\n",
       "    }\n",
       "\n",
       "    .dataframe tbody tr th {\n",
       "        vertical-align: top;\n",
       "    }\n",
       "\n",
       "    .dataframe thead th {\n",
       "        text-align: right;\n",
       "    }\n",
       "</style>\n",
       "<table border=\"1\" class=\"dataframe\">\n",
       "  <thead>\n",
       "    <tr style=\"text-align: right;\">\n",
       "      <th></th>\n",
       "      <th>datecrawled</th>\n",
       "      <th>price</th>\n",
       "      <th>vehicletype</th>\n",
       "      <th>registrationyear</th>\n",
       "      <th>gearbox</th>\n",
       "      <th>power</th>\n",
       "      <th>model</th>\n",
       "      <th>mileage</th>\n",
       "      <th>registrationmonth</th>\n",
       "      <th>fueltype</th>\n",
       "      <th>brand</th>\n",
       "      <th>notrepaired</th>\n",
       "      <th>datecreated</th>\n",
       "      <th>numberofpictures</th>\n",
       "      <th>postalcode</th>\n",
       "      <th>lastseen</th>\n",
       "    </tr>\n",
       "  </thead>\n",
       "  <tbody>\n",
       "    <tr>\n",
       "      <th>9</th>\n",
       "      <td>2016-03-17 10:53:00</td>\n",
       "      <td>999</td>\n",
       "      <td>small</td>\n",
       "      <td>1998</td>\n",
       "      <td>manual</td>\n",
       "      <td>101.0</td>\n",
       "      <td>golf</td>\n",
       "      <td>150000</td>\n",
       "      <td>0</td>\n",
       "      <td>NaN</td>\n",
       "      <td>volkswagen</td>\n",
       "      <td>NaN</td>\n",
       "      <td>2016-03-17</td>\n",
       "      <td>0</td>\n",
       "      <td>27472</td>\n",
       "      <td>2016-03-31 17:17:00</td>\n",
       "    </tr>\n",
       "    <tr>\n",
       "      <th>13</th>\n",
       "      <td>2016-03-21 21:37:00</td>\n",
       "      <td>2500</td>\n",
       "      <td>wagon</td>\n",
       "      <td>2004</td>\n",
       "      <td>manual</td>\n",
       "      <td>131.0</td>\n",
       "      <td>passat</td>\n",
       "      <td>150000</td>\n",
       "      <td>2</td>\n",
       "      <td>NaN</td>\n",
       "      <td>volkswagen</td>\n",
       "      <td>no</td>\n",
       "      <td>2016-03-21</td>\n",
       "      <td>0</td>\n",
       "      <td>90762</td>\n",
       "      <td>2016-03-23 02:50:00</td>\n",
       "    </tr>\n",
       "    <tr>\n",
       "      <th>33</th>\n",
       "      <td>2016-03-11 11:50:00</td>\n",
       "      <td>1600</td>\n",
       "      <td>other</td>\n",
       "      <td>1991</td>\n",
       "      <td>manual</td>\n",
       "      <td>75.0</td>\n",
       "      <td>kadett</td>\n",
       "      <td>70000</td>\n",
       "      <td>0</td>\n",
       "      <td>NaN</td>\n",
       "      <td>opel</td>\n",
       "      <td>NaN</td>\n",
       "      <td>2016-03-11</td>\n",
       "      <td>0</td>\n",
       "      <td>2943</td>\n",
       "      <td>2016-04-07 03:46:00</td>\n",
       "    </tr>\n",
       "    <tr>\n",
       "      <th>38</th>\n",
       "      <td>2016-03-30 20:38:00</td>\n",
       "      <td>7500</td>\n",
       "      <td>sedan</td>\n",
       "      <td>2002</td>\n",
       "      <td>auto</td>\n",
       "      <td>306.0</td>\n",
       "      <td>e_klasse</td>\n",
       "      <td>150000</td>\n",
       "      <td>4</td>\n",
       "      <td>NaN</td>\n",
       "      <td>mercedes_benz</td>\n",
       "      <td>NaN</td>\n",
       "      <td>2016-03-30</td>\n",
       "      <td>0</td>\n",
       "      <td>33649</td>\n",
       "      <td>2016-04-03 11:44:00</td>\n",
       "    </tr>\n",
       "    <tr>\n",
       "      <th>48</th>\n",
       "      <td>2016-03-17 07:56:00</td>\n",
       "      <td>4700</td>\n",
       "      <td>wagon</td>\n",
       "      <td>2005</td>\n",
       "      <td>manual</td>\n",
       "      <td>155.0</td>\n",
       "      <td>signum</td>\n",
       "      <td>150000</td>\n",
       "      <td>0</td>\n",
       "      <td>NaN</td>\n",
       "      <td>opel</td>\n",
       "      <td>no</td>\n",
       "      <td>2016-03-17</td>\n",
       "      <td>0</td>\n",
       "      <td>88433</td>\n",
       "      <td>2016-04-04 04:17:00</td>\n",
       "    </tr>\n",
       "    <tr>\n",
       "      <th>...</th>\n",
       "      <td>...</td>\n",
       "      <td>...</td>\n",
       "      <td>...</td>\n",
       "      <td>...</td>\n",
       "      <td>...</td>\n",
       "      <td>...</td>\n",
       "      <td>...</td>\n",
       "      <td>...</td>\n",
       "      <td>...</td>\n",
       "      <td>...</td>\n",
       "      <td>...</td>\n",
       "      <td>...</td>\n",
       "      <td>...</td>\n",
       "      <td>...</td>\n",
       "      <td>...</td>\n",
       "      <td>...</td>\n",
       "    </tr>\n",
       "    <tr>\n",
       "      <th>324581</th>\n",
       "      <td>2016-03-31 19:36:00</td>\n",
       "      <td>1300</td>\n",
       "      <td>small</td>\n",
       "      <td>1999</td>\n",
       "      <td>manual</td>\n",
       "      <td>75.0</td>\n",
       "      <td>2_reihe</td>\n",
       "      <td>125000</td>\n",
       "      <td>0</td>\n",
       "      <td>NaN</td>\n",
       "      <td>peugeot</td>\n",
       "      <td>NaN</td>\n",
       "      <td>2016-03-31</td>\n",
       "      <td>0</td>\n",
       "      <td>35102</td>\n",
       "      <td>2016-04-06 13:44:00</td>\n",
       "    </tr>\n",
       "    <tr>\n",
       "      <th>324582</th>\n",
       "      <td>2016-03-14 11:51:00</td>\n",
       "      <td>2999</td>\n",
       "      <td>wagon</td>\n",
       "      <td>2004</td>\n",
       "      <td>manual</td>\n",
       "      <td>234.0</td>\n",
       "      <td>vectra</td>\n",
       "      <td>100000</td>\n",
       "      <td>1</td>\n",
       "      <td>NaN</td>\n",
       "      <td>opel</td>\n",
       "      <td>NaN</td>\n",
       "      <td>2016-03-14</td>\n",
       "      <td>0</td>\n",
       "      <td>83364</td>\n",
       "      <td>2016-03-16 23:46:00</td>\n",
       "    </tr>\n",
       "    <tr>\n",
       "      <th>324584</th>\n",
       "      <td>2016-03-30 20:55:00</td>\n",
       "      <td>350</td>\n",
       "      <td>small</td>\n",
       "      <td>1996</td>\n",
       "      <td>manual</td>\n",
       "      <td>65.0</td>\n",
       "      <td>punto</td>\n",
       "      <td>150000</td>\n",
       "      <td>0</td>\n",
       "      <td>NaN</td>\n",
       "      <td>fiat</td>\n",
       "      <td>NaN</td>\n",
       "      <td>2016-03-30</td>\n",
       "      <td>0</td>\n",
       "      <td>25436</td>\n",
       "      <td>2016-04-07 13:50:00</td>\n",
       "    </tr>\n",
       "    <tr>\n",
       "      <th>324592</th>\n",
       "      <td>2016-03-20 12:46:00</td>\n",
       "      <td>3850</td>\n",
       "      <td>convertible</td>\n",
       "      <td>2006</td>\n",
       "      <td>manual</td>\n",
       "      <td>108.0</td>\n",
       "      <td>2_reihe</td>\n",
       "      <td>125000</td>\n",
       "      <td>2</td>\n",
       "      <td>NaN</td>\n",
       "      <td>peugeot</td>\n",
       "      <td>no</td>\n",
       "      <td>2016-03-20</td>\n",
       "      <td>0</td>\n",
       "      <td>53947</td>\n",
       "      <td>2016-03-26 21:18:00</td>\n",
       "    </tr>\n",
       "    <tr>\n",
       "      <th>324599</th>\n",
       "      <td>2016-03-07 17:06:00</td>\n",
       "      <td>2600</td>\n",
       "      <td>sedan</td>\n",
       "      <td>2005</td>\n",
       "      <td>auto</td>\n",
       "      <td>143.0</td>\n",
       "      <td>c_klasse</td>\n",
       "      <td>150000</td>\n",
       "      <td>9</td>\n",
       "      <td>NaN</td>\n",
       "      <td>mercedes_benz</td>\n",
       "      <td>NaN</td>\n",
       "      <td>2016-03-07</td>\n",
       "      <td>0</td>\n",
       "      <td>61169</td>\n",
       "      <td>2016-03-08 21:28:00</td>\n",
       "    </tr>\n",
       "  </tbody>\n",
       "</table>\n",
       "<p>21952 rows × 16 columns</p>\n",
       "</div>"
      ],
      "text/plain": [
       "               datecrawled  price  vehicletype  registrationyear gearbox  \\\n",
       "9      2016-03-17 10:53:00    999        small              1998  manual   \n",
       "13     2016-03-21 21:37:00   2500        wagon              2004  manual   \n",
       "33     2016-03-11 11:50:00   1600        other              1991  manual   \n",
       "38     2016-03-30 20:38:00   7500        sedan              2002    auto   \n",
       "48     2016-03-17 07:56:00   4700        wagon              2005  manual   \n",
       "...                    ...    ...          ...               ...     ...   \n",
       "324581 2016-03-31 19:36:00   1300        small              1999  manual   \n",
       "324582 2016-03-14 11:51:00   2999        wagon              2004  manual   \n",
       "324584 2016-03-30 20:55:00    350        small              1996  manual   \n",
       "324592 2016-03-20 12:46:00   3850  convertible              2006  manual   \n",
       "324599 2016-03-07 17:06:00   2600        sedan              2005    auto   \n",
       "\n",
       "        power     model  mileage  registrationmonth fueltype          brand  \\\n",
       "9       101.0      golf   150000                  0      NaN     volkswagen   \n",
       "13      131.0    passat   150000                  2      NaN     volkswagen   \n",
       "33       75.0    kadett    70000                  0      NaN           opel   \n",
       "38      306.0  e_klasse   150000                  4      NaN  mercedes_benz   \n",
       "48      155.0    signum   150000                  0      NaN           opel   \n",
       "...       ...       ...      ...                ...      ...            ...   \n",
       "324581   75.0   2_reihe   125000                  0      NaN        peugeot   \n",
       "324582  234.0    vectra   100000                  1      NaN           opel   \n",
       "324584   65.0     punto   150000                  0      NaN           fiat   \n",
       "324592  108.0   2_reihe   125000                  2      NaN        peugeot   \n",
       "324599  143.0  c_klasse   150000                  9      NaN  mercedes_benz   \n",
       "\n",
       "       notrepaired datecreated  numberofpictures  postalcode  \\\n",
       "9              NaN  2016-03-17                 0       27472   \n",
       "13              no  2016-03-21                 0       90762   \n",
       "33             NaN  2016-03-11                 0        2943   \n",
       "38             NaN  2016-03-30                 0       33649   \n",
       "48              no  2016-03-17                 0       88433   \n",
       "...            ...         ...               ...         ...   \n",
       "324581         NaN  2016-03-31                 0       35102   \n",
       "324582         NaN  2016-03-14                 0       83364   \n",
       "324584         NaN  2016-03-30                 0       25436   \n",
       "324592          no  2016-03-20                 0       53947   \n",
       "324599         NaN  2016-03-07                 0       61169   \n",
       "\n",
       "                  lastseen  \n",
       "9      2016-03-31 17:17:00  \n",
       "13     2016-03-23 02:50:00  \n",
       "33     2016-04-07 03:46:00  \n",
       "38     2016-04-03 11:44:00  \n",
       "48     2016-04-04 04:17:00  \n",
       "...                    ...  \n",
       "324581 2016-04-06 13:44:00  \n",
       "324582 2016-03-16 23:46:00  \n",
       "324584 2016-04-07 13:50:00  \n",
       "324592 2016-03-26 21:18:00  \n",
       "324599 2016-03-08 21:28:00  \n",
       "\n",
       "[21952 rows x 16 columns]"
      ]
     },
     "execution_count": 50,
     "metadata": {},
     "output_type": "execute_result"
    }
   ],
   "source": [
    "df[df['fueltype'].isnull()]"
   ]
  },
  {
   "cell_type": "code",
   "execution_count": 51,
   "metadata": {},
   "outputs": [
    {
     "data": {
      "text/html": [
       "<div>\n",
       "<style scoped>\n",
       "    .dataframe tbody tr th:only-of-type {\n",
       "        vertical-align: middle;\n",
       "    }\n",
       "\n",
       "    .dataframe tbody tr th {\n",
       "        vertical-align: top;\n",
       "    }\n",
       "\n",
       "    .dataframe thead th {\n",
       "        text-align: right;\n",
       "    }\n",
       "</style>\n",
       "<table border=\"1\" class=\"dataframe\">\n",
       "  <thead>\n",
       "    <tr style=\"text-align: right;\">\n",
       "      <th></th>\n",
       "      <th>datecrawled</th>\n",
       "      <th>price</th>\n",
       "      <th>vehicletype</th>\n",
       "      <th>registrationyear</th>\n",
       "      <th>gearbox</th>\n",
       "      <th>power</th>\n",
       "      <th>model</th>\n",
       "      <th>mileage</th>\n",
       "      <th>registrationmonth</th>\n",
       "      <th>fueltype</th>\n",
       "      <th>brand</th>\n",
       "      <th>notrepaired</th>\n",
       "      <th>datecreated</th>\n",
       "      <th>numberofpictures</th>\n",
       "      <th>postalcode</th>\n",
       "      <th>lastseen</th>\n",
       "    </tr>\n",
       "  </thead>\n",
       "  <tbody>\n",
       "    <tr>\n",
       "      <th>0</th>\n",
       "      <td>2016-03-24 11:52:00</td>\n",
       "      <td>480</td>\n",
       "      <td>sedan</td>\n",
       "      <td>1993</td>\n",
       "      <td>manual</td>\n",
       "      <td>101.0</td>\n",
       "      <td>golf</td>\n",
       "      <td>150000</td>\n",
       "      <td>0</td>\n",
       "      <td>petrol</td>\n",
       "      <td>volkswagen</td>\n",
       "      <td>NaN</td>\n",
       "      <td>2016-03-24</td>\n",
       "      <td>0</td>\n",
       "      <td>70435</td>\n",
       "      <td>2016-04-07 03:16:00</td>\n",
       "    </tr>\n",
       "    <tr>\n",
       "      <th>1</th>\n",
       "      <td>2016-03-24 10:58:00</td>\n",
       "      <td>18300</td>\n",
       "      <td>coupe</td>\n",
       "      <td>2011</td>\n",
       "      <td>manual</td>\n",
       "      <td>190.0</td>\n",
       "      <td>tt</td>\n",
       "      <td>125000</td>\n",
       "      <td>5</td>\n",
       "      <td>gasoline</td>\n",
       "      <td>audi</td>\n",
       "      <td>yes</td>\n",
       "      <td>2016-03-24</td>\n",
       "      <td>0</td>\n",
       "      <td>66954</td>\n",
       "      <td>2016-04-07 01:46:00</td>\n",
       "    </tr>\n",
       "    <tr>\n",
       "      <th>2</th>\n",
       "      <td>2016-03-14 12:52:00</td>\n",
       "      <td>9800</td>\n",
       "      <td>suv</td>\n",
       "      <td>2004</td>\n",
       "      <td>auto</td>\n",
       "      <td>163.0</td>\n",
       "      <td>grand</td>\n",
       "      <td>125000</td>\n",
       "      <td>8</td>\n",
       "      <td>gasoline</td>\n",
       "      <td>jeep</td>\n",
       "      <td>NaN</td>\n",
       "      <td>2016-03-14</td>\n",
       "      <td>0</td>\n",
       "      <td>90480</td>\n",
       "      <td>2016-04-05 12:47:00</td>\n",
       "    </tr>\n",
       "    <tr>\n",
       "      <th>3</th>\n",
       "      <td>2016-03-17 16:54:00</td>\n",
       "      <td>1500</td>\n",
       "      <td>small</td>\n",
       "      <td>2001</td>\n",
       "      <td>manual</td>\n",
       "      <td>75.0</td>\n",
       "      <td>golf</td>\n",
       "      <td>150000</td>\n",
       "      <td>6</td>\n",
       "      <td>petrol</td>\n",
       "      <td>volkswagen</td>\n",
       "      <td>no</td>\n",
       "      <td>2016-03-17</td>\n",
       "      <td>0</td>\n",
       "      <td>91074</td>\n",
       "      <td>2016-03-17 17:40:00</td>\n",
       "    </tr>\n",
       "    <tr>\n",
       "      <th>4</th>\n",
       "      <td>2016-03-31 17:25:00</td>\n",
       "      <td>3600</td>\n",
       "      <td>small</td>\n",
       "      <td>2008</td>\n",
       "      <td>manual</td>\n",
       "      <td>69.0</td>\n",
       "      <td>fabia</td>\n",
       "      <td>90000</td>\n",
       "      <td>7</td>\n",
       "      <td>gasoline</td>\n",
       "      <td>skoda</td>\n",
       "      <td>no</td>\n",
       "      <td>2016-03-31</td>\n",
       "      <td>0</td>\n",
       "      <td>60437</td>\n",
       "      <td>2016-04-06 10:17:00</td>\n",
       "    </tr>\n",
       "    <tr>\n",
       "      <th>...</th>\n",
       "      <td>...</td>\n",
       "      <td>...</td>\n",
       "      <td>...</td>\n",
       "      <td>...</td>\n",
       "      <td>...</td>\n",
       "      <td>...</td>\n",
       "      <td>...</td>\n",
       "      <td>...</td>\n",
       "      <td>...</td>\n",
       "      <td>...</td>\n",
       "      <td>...</td>\n",
       "      <td>...</td>\n",
       "      <td>...</td>\n",
       "      <td>...</td>\n",
       "      <td>...</td>\n",
       "      <td>...</td>\n",
       "    </tr>\n",
       "    <tr>\n",
       "      <th>324614</th>\n",
       "      <td>2016-03-27 20:36:00</td>\n",
       "      <td>1150</td>\n",
       "      <td>bus</td>\n",
       "      <td>2000</td>\n",
       "      <td>manual</td>\n",
       "      <td>125.0</td>\n",
       "      <td>zafira</td>\n",
       "      <td>150000</td>\n",
       "      <td>3</td>\n",
       "      <td>petrol</td>\n",
       "      <td>opel</td>\n",
       "      <td>no</td>\n",
       "      <td>2016-03-27</td>\n",
       "      <td>0</td>\n",
       "      <td>26624</td>\n",
       "      <td>2016-03-29 10:17:00</td>\n",
       "    </tr>\n",
       "    <tr>\n",
       "      <th>324615</th>\n",
       "      <td>2016-03-21 09:50:00</td>\n",
       "      <td>0</td>\n",
       "      <td>sedan</td>\n",
       "      <td>2005</td>\n",
       "      <td>manual</td>\n",
       "      <td>82.0</td>\n",
       "      <td>colt</td>\n",
       "      <td>150000</td>\n",
       "      <td>7</td>\n",
       "      <td>petrol</td>\n",
       "      <td>mitsubishi</td>\n",
       "      <td>yes</td>\n",
       "      <td>2016-03-21</td>\n",
       "      <td>0</td>\n",
       "      <td>2694</td>\n",
       "      <td>2016-03-21 10:42:00</td>\n",
       "    </tr>\n",
       "    <tr>\n",
       "      <th>324616</th>\n",
       "      <td>2016-03-05 19:56:00</td>\n",
       "      <td>1199</td>\n",
       "      <td>convertible</td>\n",
       "      <td>2000</td>\n",
       "      <td>auto</td>\n",
       "      <td>101.0</td>\n",
       "      <td>fortwo</td>\n",
       "      <td>125000</td>\n",
       "      <td>3</td>\n",
       "      <td>petrol</td>\n",
       "      <td>smart</td>\n",
       "      <td>no</td>\n",
       "      <td>2016-03-05</td>\n",
       "      <td>0</td>\n",
       "      <td>26135</td>\n",
       "      <td>2016-03-11 18:17:00</td>\n",
       "    </tr>\n",
       "    <tr>\n",
       "      <th>324617</th>\n",
       "      <td>2016-03-19 18:57:00</td>\n",
       "      <td>9200</td>\n",
       "      <td>bus</td>\n",
       "      <td>1996</td>\n",
       "      <td>manual</td>\n",
       "      <td>102.0</td>\n",
       "      <td>transporter</td>\n",
       "      <td>150000</td>\n",
       "      <td>3</td>\n",
       "      <td>gasoline</td>\n",
       "      <td>volkswagen</td>\n",
       "      <td>no</td>\n",
       "      <td>2016-03-19</td>\n",
       "      <td>0</td>\n",
       "      <td>87439</td>\n",
       "      <td>2016-04-07 07:15:00</td>\n",
       "    </tr>\n",
       "    <tr>\n",
       "      <th>324618</th>\n",
       "      <td>2016-03-20 19:41:00</td>\n",
       "      <td>3400</td>\n",
       "      <td>wagon</td>\n",
       "      <td>2002</td>\n",
       "      <td>manual</td>\n",
       "      <td>100.0</td>\n",
       "      <td>golf</td>\n",
       "      <td>150000</td>\n",
       "      <td>6</td>\n",
       "      <td>gasoline</td>\n",
       "      <td>volkswagen</td>\n",
       "      <td>NaN</td>\n",
       "      <td>2016-03-20</td>\n",
       "      <td>0</td>\n",
       "      <td>40764</td>\n",
       "      <td>2016-03-24 12:45:00</td>\n",
       "    </tr>\n",
       "  </tbody>\n",
       "</table>\n",
       "<p>322370 rows × 16 columns</p>\n",
       "</div>"
      ],
      "text/plain": [
       "               datecrawled  price  vehicletype  registrationyear gearbox  \\\n",
       "0      2016-03-24 11:52:00    480        sedan              1993  manual   \n",
       "1      2016-03-24 10:58:00  18300        coupe              2011  manual   \n",
       "2      2016-03-14 12:52:00   9800          suv              2004    auto   \n",
       "3      2016-03-17 16:54:00   1500        small              2001  manual   \n",
       "4      2016-03-31 17:25:00   3600        small              2008  manual   \n",
       "...                    ...    ...          ...               ...     ...   \n",
       "324614 2016-03-27 20:36:00   1150          bus              2000  manual   \n",
       "324615 2016-03-21 09:50:00      0        sedan              2005  manual   \n",
       "324616 2016-03-05 19:56:00   1199  convertible              2000    auto   \n",
       "324617 2016-03-19 18:57:00   9200          bus              1996  manual   \n",
       "324618 2016-03-20 19:41:00   3400        wagon              2002  manual   \n",
       "\n",
       "        power        model  mileage  registrationmonth  fueltype       brand  \\\n",
       "0       101.0         golf   150000                  0    petrol  volkswagen   \n",
       "1       190.0           tt   125000                  5  gasoline        audi   \n",
       "2       163.0        grand   125000                  8  gasoline        jeep   \n",
       "3        75.0         golf   150000                  6    petrol  volkswagen   \n",
       "4        69.0        fabia    90000                  7  gasoline       skoda   \n",
       "...       ...          ...      ...                ...       ...         ...   \n",
       "324614  125.0       zafira   150000                  3    petrol        opel   \n",
       "324615   82.0         colt   150000                  7    petrol  mitsubishi   \n",
       "324616  101.0       fortwo   125000                  3    petrol       smart   \n",
       "324617  102.0  transporter   150000                  3  gasoline  volkswagen   \n",
       "324618  100.0         golf   150000                  6  gasoline  volkswagen   \n",
       "\n",
       "       notrepaired datecreated  numberofpictures  postalcode  \\\n",
       "0              NaN  2016-03-24                 0       70435   \n",
       "1              yes  2016-03-24                 0       66954   \n",
       "2              NaN  2016-03-14                 0       90480   \n",
       "3               no  2016-03-17                 0       91074   \n",
       "4               no  2016-03-31                 0       60437   \n",
       "...            ...         ...               ...         ...   \n",
       "324614          no  2016-03-27                 0       26624   \n",
       "324615         yes  2016-03-21                 0        2694   \n",
       "324616          no  2016-03-05                 0       26135   \n",
       "324617          no  2016-03-19                 0       87439   \n",
       "324618         NaN  2016-03-20                 0       40764   \n",
       "\n",
       "                  lastseen  \n",
       "0      2016-04-07 03:16:00  \n",
       "1      2016-04-07 01:46:00  \n",
       "2      2016-04-05 12:47:00  \n",
       "3      2016-03-17 17:40:00  \n",
       "4      2016-04-06 10:17:00  \n",
       "...                    ...  \n",
       "324614 2016-03-29 10:17:00  \n",
       "324615 2016-03-21 10:42:00  \n",
       "324616 2016-03-11 18:17:00  \n",
       "324617 2016-04-07 07:15:00  \n",
       "324618 2016-03-24 12:45:00  \n",
       "\n",
       "[322370 rows x 16 columns]"
      ]
     },
     "execution_count": 51,
     "metadata": {},
     "output_type": "execute_result"
    }
   ],
   "source": [
    "#replacing missing values from most common value for same models\n",
    "replace_null(df, 'fueltype', 'brand', 'model', average = 'mode')"
   ]
  },
  {
   "cell_type": "code",
   "execution_count": 52,
   "metadata": {},
   "outputs": [
    {
     "data": {
      "text/html": [
       "<div>\n",
       "<style scoped>\n",
       "    .dataframe tbody tr th:only-of-type {\n",
       "        vertical-align: middle;\n",
       "    }\n",
       "\n",
       "    .dataframe tbody tr th {\n",
       "        vertical-align: top;\n",
       "    }\n",
       "\n",
       "    .dataframe thead th {\n",
       "        text-align: right;\n",
       "    }\n",
       "</style>\n",
       "<table border=\"1\" class=\"dataframe\">\n",
       "  <thead>\n",
       "    <tr style=\"text-align: right;\">\n",
       "      <th></th>\n",
       "      <th>datecrawled</th>\n",
       "      <th>price</th>\n",
       "      <th>vehicletype</th>\n",
       "      <th>registrationyear</th>\n",
       "      <th>gearbox</th>\n",
       "      <th>power</th>\n",
       "      <th>model</th>\n",
       "      <th>mileage</th>\n",
       "      <th>registrationmonth</th>\n",
       "      <th>fueltype</th>\n",
       "      <th>brand</th>\n",
       "      <th>notrepaired</th>\n",
       "      <th>datecreated</th>\n",
       "      <th>numberofpictures</th>\n",
       "      <th>postalcode</th>\n",
       "      <th>lastseen</th>\n",
       "    </tr>\n",
       "  </thead>\n",
       "  <tbody>\n",
       "  </tbody>\n",
       "</table>\n",
       "</div>"
      ],
      "text/plain": [
       "Empty DataFrame\n",
       "Columns: [datecrawled, price, vehicletype, registrationyear, gearbox, power, model, mileage, registrationmonth, fueltype, brand, notrepaired, datecreated, numberofpictures, postalcode, lastseen]\n",
       "Index: []"
      ]
     },
     "execution_count": 52,
     "metadata": {},
     "output_type": "execute_result"
    }
   ],
   "source": [
    "df[df['fueltype'].isnull()]"
   ]
  },
  {
   "cell_type": "markdown",
   "metadata": {},
   "source": [
    "### `brand`"
   ]
  },
  {
   "cell_type": "code",
   "execution_count": 53,
   "metadata": {
    "scrolled": true
   },
   "outputs": [
    {
     "data": {
      "text/plain": [
       "volkswagen        69744\n",
       "opel              36110\n",
       "bmw               34412\n",
       "mercedes_benz     29904\n",
       "audi              27482\n",
       "ford              22938\n",
       "renault           15948\n",
       "peugeot            9978\n",
       "fiat               8529\n",
       "seat               6243\n",
       "skoda              5234\n",
       "mazda              5028\n",
       "smart              4818\n",
       "citroen            4627\n",
       "nissan             4524\n",
       "toyota             4313\n",
       "hyundai            3244\n",
       "mini               3033\n",
       "volvo              2973\n",
       "mitsubishi         2757\n",
       "honda              2570\n",
       "kia                2248\n",
       "suzuki             2127\n",
       "alfa_romeo         2085\n",
       "chevrolet          1626\n",
       "sonstige_autos     1558\n",
       "chrysler           1290\n",
       "dacia               841\n",
       "daihatsu            724\n",
       "subaru              700\n",
       "porsche             697\n",
       "jeep                622\n",
       "land_rover          520\n",
       "saab                479\n",
       "jaguar              472\n",
       "daewoo              472\n",
       "trabant             470\n",
       "lancia              428\n",
       "rover               399\n",
       "lada                203\n",
       "Name: brand, dtype: int64"
      ]
     },
     "execution_count": 53,
     "metadata": {},
     "output_type": "execute_result"
    }
   ],
   "source": [
    "df['brand'].value_counts()"
   ]
  },
  {
   "cell_type": "code",
   "execution_count": 54,
   "metadata": {},
   "outputs": [
    {
     "data": {
      "text/html": [
       "<div>\n",
       "<style scoped>\n",
       "    .dataframe tbody tr th:only-of-type {\n",
       "        vertical-align: middle;\n",
       "    }\n",
       "\n",
       "    .dataframe tbody tr th {\n",
       "        vertical-align: top;\n",
       "    }\n",
       "\n",
       "    .dataframe thead th {\n",
       "        text-align: right;\n",
       "    }\n",
       "</style>\n",
       "<table border=\"1\" class=\"dataframe\">\n",
       "  <thead>\n",
       "    <tr style=\"text-align: right;\">\n",
       "      <th></th>\n",
       "      <th>datecrawled</th>\n",
       "      <th>price</th>\n",
       "      <th>vehicletype</th>\n",
       "      <th>registrationyear</th>\n",
       "      <th>gearbox</th>\n",
       "      <th>power</th>\n",
       "      <th>model</th>\n",
       "      <th>mileage</th>\n",
       "      <th>registrationmonth</th>\n",
       "      <th>fueltype</th>\n",
       "      <th>brand</th>\n",
       "      <th>notrepaired</th>\n",
       "      <th>datecreated</th>\n",
       "      <th>numberofpictures</th>\n",
       "      <th>postalcode</th>\n",
       "      <th>lastseen</th>\n",
       "    </tr>\n",
       "  </thead>\n",
       "  <tbody>\n",
       "  </tbody>\n",
       "</table>\n",
       "</div>"
      ],
      "text/plain": [
       "Empty DataFrame\n",
       "Columns: [datecrawled, price, vehicletype, registrationyear, gearbox, power, model, mileage, registrationmonth, fueltype, brand, notrepaired, datecreated, numberofpictures, postalcode, lastseen]\n",
       "Index: []"
      ]
     },
     "execution_count": 54,
     "metadata": {},
     "output_type": "execute_result"
    }
   ],
   "source": [
    "df[df['brand'].isnull()]"
   ]
  },
  {
   "cell_type": "markdown",
   "metadata": {},
   "source": [
    "All seems fine"
   ]
  },
  {
   "cell_type": "markdown",
   "metadata": {},
   "source": [
    "### `notrepaired`"
   ]
  },
  {
   "cell_type": "code",
   "execution_count": 55,
   "metadata": {},
   "outputs": [
    {
     "data": {
      "text/plain": [
       "no     230922\n",
       "yes     33474\n",
       "Name: notrepaired, dtype: int64"
      ]
     },
     "execution_count": 55,
     "metadata": {},
     "output_type": "execute_result"
    }
   ],
   "source": [
    "df['notrepaired'].value_counts()"
   ]
  },
  {
   "cell_type": "code",
   "execution_count": 56,
   "metadata": {},
   "outputs": [
    {
     "data": {
      "text/html": [
       "<div>\n",
       "<style scoped>\n",
       "    .dataframe tbody tr th:only-of-type {\n",
       "        vertical-align: middle;\n",
       "    }\n",
       "\n",
       "    .dataframe tbody tr th {\n",
       "        vertical-align: top;\n",
       "    }\n",
       "\n",
       "    .dataframe thead th {\n",
       "        text-align: right;\n",
       "    }\n",
       "</style>\n",
       "<table border=\"1\" class=\"dataframe\">\n",
       "  <thead>\n",
       "    <tr style=\"text-align: right;\">\n",
       "      <th></th>\n",
       "      <th>datecrawled</th>\n",
       "      <th>price</th>\n",
       "      <th>vehicletype</th>\n",
       "      <th>registrationyear</th>\n",
       "      <th>gearbox</th>\n",
       "      <th>power</th>\n",
       "      <th>model</th>\n",
       "      <th>mileage</th>\n",
       "      <th>registrationmonth</th>\n",
       "      <th>fueltype</th>\n",
       "      <th>brand</th>\n",
       "      <th>notrepaired</th>\n",
       "      <th>datecreated</th>\n",
       "      <th>numberofpictures</th>\n",
       "      <th>postalcode</th>\n",
       "      <th>lastseen</th>\n",
       "    </tr>\n",
       "  </thead>\n",
       "  <tbody>\n",
       "    <tr>\n",
       "      <th>0</th>\n",
       "      <td>2016-03-24 11:52:00</td>\n",
       "      <td>480</td>\n",
       "      <td>sedan</td>\n",
       "      <td>1993</td>\n",
       "      <td>manual</td>\n",
       "      <td>101.0</td>\n",
       "      <td>golf</td>\n",
       "      <td>150000</td>\n",
       "      <td>0</td>\n",
       "      <td>petrol</td>\n",
       "      <td>volkswagen</td>\n",
       "      <td>NaN</td>\n",
       "      <td>2016-03-24</td>\n",
       "      <td>0</td>\n",
       "      <td>70435</td>\n",
       "      <td>2016-04-07 03:16:00</td>\n",
       "    </tr>\n",
       "    <tr>\n",
       "      <th>2</th>\n",
       "      <td>2016-03-14 12:52:00</td>\n",
       "      <td>9800</td>\n",
       "      <td>suv</td>\n",
       "      <td>2004</td>\n",
       "      <td>auto</td>\n",
       "      <td>163.0</td>\n",
       "      <td>grand</td>\n",
       "      <td>125000</td>\n",
       "      <td>8</td>\n",
       "      <td>gasoline</td>\n",
       "      <td>jeep</td>\n",
       "      <td>NaN</td>\n",
       "      <td>2016-03-14</td>\n",
       "      <td>0</td>\n",
       "      <td>90480</td>\n",
       "      <td>2016-04-05 12:47:00</td>\n",
       "    </tr>\n",
       "    <tr>\n",
       "      <th>8</th>\n",
       "      <td>2016-04-04 23:42:00</td>\n",
       "      <td>14500</td>\n",
       "      <td>bus</td>\n",
       "      <td>2014</td>\n",
       "      <td>manual</td>\n",
       "      <td>125.0</td>\n",
       "      <td>c_max</td>\n",
       "      <td>30000</td>\n",
       "      <td>8</td>\n",
       "      <td>petrol</td>\n",
       "      <td>ford</td>\n",
       "      <td>NaN</td>\n",
       "      <td>2016-04-04</td>\n",
       "      <td>0</td>\n",
       "      <td>94505</td>\n",
       "      <td>2016-04-04 23:42:00</td>\n",
       "    </tr>\n",
       "    <tr>\n",
       "      <th>9</th>\n",
       "      <td>2016-03-17 10:53:00</td>\n",
       "      <td>999</td>\n",
       "      <td>small</td>\n",
       "      <td>1998</td>\n",
       "      <td>manual</td>\n",
       "      <td>101.0</td>\n",
       "      <td>golf</td>\n",
       "      <td>150000</td>\n",
       "      <td>0</td>\n",
       "      <td>petrol</td>\n",
       "      <td>volkswagen</td>\n",
       "      <td>NaN</td>\n",
       "      <td>2016-03-17</td>\n",
       "      <td>0</td>\n",
       "      <td>27472</td>\n",
       "      <td>2016-03-31 17:17:00</td>\n",
       "    </tr>\n",
       "    <tr>\n",
       "      <th>12</th>\n",
       "      <td>2016-03-15 22:49:00</td>\n",
       "      <td>999</td>\n",
       "      <td>wagon</td>\n",
       "      <td>1995</td>\n",
       "      <td>manual</td>\n",
       "      <td>115.0</td>\n",
       "      <td>passat</td>\n",
       "      <td>150000</td>\n",
       "      <td>11</td>\n",
       "      <td>petrol</td>\n",
       "      <td>volkswagen</td>\n",
       "      <td>NaN</td>\n",
       "      <td>2016-03-15</td>\n",
       "      <td>0</td>\n",
       "      <td>37269</td>\n",
       "      <td>2016-04-01 13:16:00</td>\n",
       "    </tr>\n",
       "    <tr>\n",
       "      <th>...</th>\n",
       "      <td>...</td>\n",
       "      <td>...</td>\n",
       "      <td>...</td>\n",
       "      <td>...</td>\n",
       "      <td>...</td>\n",
       "      <td>...</td>\n",
       "      <td>...</td>\n",
       "      <td>...</td>\n",
       "      <td>...</td>\n",
       "      <td>...</td>\n",
       "      <td>...</td>\n",
       "      <td>...</td>\n",
       "      <td>...</td>\n",
       "      <td>...</td>\n",
       "      <td>...</td>\n",
       "      <td>...</td>\n",
       "    </tr>\n",
       "    <tr>\n",
       "      <th>324599</th>\n",
       "      <td>2016-03-07 17:06:00</td>\n",
       "      <td>2600</td>\n",
       "      <td>sedan</td>\n",
       "      <td>2005</td>\n",
       "      <td>auto</td>\n",
       "      <td>143.0</td>\n",
       "      <td>c_klasse</td>\n",
       "      <td>150000</td>\n",
       "      <td>9</td>\n",
       "      <td>petrol</td>\n",
       "      <td>mercedes_benz</td>\n",
       "      <td>NaN</td>\n",
       "      <td>2016-03-07</td>\n",
       "      <td>0</td>\n",
       "      <td>61169</td>\n",
       "      <td>2016-03-08 21:28:00</td>\n",
       "    </tr>\n",
       "    <tr>\n",
       "      <th>324602</th>\n",
       "      <td>2016-03-16 17:06:00</td>\n",
       "      <td>5999</td>\n",
       "      <td>wagon</td>\n",
       "      <td>2005</td>\n",
       "      <td>manual</td>\n",
       "      <td>140.0</td>\n",
       "      <td>a4</td>\n",
       "      <td>150000</td>\n",
       "      <td>4</td>\n",
       "      <td>gasoline</td>\n",
       "      <td>audi</td>\n",
       "      <td>NaN</td>\n",
       "      <td>2016-03-16</td>\n",
       "      <td>0</td>\n",
       "      <td>56472</td>\n",
       "      <td>2016-03-18 11:30:00</td>\n",
       "    </tr>\n",
       "    <tr>\n",
       "      <th>324608</th>\n",
       "      <td>2016-04-04 11:45:00</td>\n",
       "      <td>999</td>\n",
       "      <td>convertible</td>\n",
       "      <td>2000</td>\n",
       "      <td>manual</td>\n",
       "      <td>95.0</td>\n",
       "      <td>megane</td>\n",
       "      <td>150000</td>\n",
       "      <td>4</td>\n",
       "      <td>petrol</td>\n",
       "      <td>renault</td>\n",
       "      <td>NaN</td>\n",
       "      <td>2016-04-04</td>\n",
       "      <td>0</td>\n",
       "      <td>88477</td>\n",
       "      <td>2016-04-06 12:44:00</td>\n",
       "    </tr>\n",
       "    <tr>\n",
       "      <th>324609</th>\n",
       "      <td>2016-03-09 11:36:00</td>\n",
       "      <td>1690</td>\n",
       "      <td>wagon</td>\n",
       "      <td>2004</td>\n",
       "      <td>manual</td>\n",
       "      <td>55.0</td>\n",
       "      <td>fabia</td>\n",
       "      <td>150000</td>\n",
       "      <td>4</td>\n",
       "      <td>petrol</td>\n",
       "      <td>skoda</td>\n",
       "      <td>NaN</td>\n",
       "      <td>2016-03-09</td>\n",
       "      <td>0</td>\n",
       "      <td>18246</td>\n",
       "      <td>2016-04-04 08:15:00</td>\n",
       "    </tr>\n",
       "    <tr>\n",
       "      <th>324618</th>\n",
       "      <td>2016-03-20 19:41:00</td>\n",
       "      <td>3400</td>\n",
       "      <td>wagon</td>\n",
       "      <td>2002</td>\n",
       "      <td>manual</td>\n",
       "      <td>100.0</td>\n",
       "      <td>golf</td>\n",
       "      <td>150000</td>\n",
       "      <td>6</td>\n",
       "      <td>gasoline</td>\n",
       "      <td>volkswagen</td>\n",
       "      <td>NaN</td>\n",
       "      <td>2016-03-20</td>\n",
       "      <td>0</td>\n",
       "      <td>40764</td>\n",
       "      <td>2016-03-24 12:45:00</td>\n",
       "    </tr>\n",
       "  </tbody>\n",
       "</table>\n",
       "<p>57974 rows × 16 columns</p>\n",
       "</div>"
      ],
      "text/plain": [
       "               datecrawled  price  vehicletype  registrationyear gearbox  \\\n",
       "0      2016-03-24 11:52:00    480        sedan              1993  manual   \n",
       "2      2016-03-14 12:52:00   9800          suv              2004    auto   \n",
       "8      2016-04-04 23:42:00  14500          bus              2014  manual   \n",
       "9      2016-03-17 10:53:00    999        small              1998  manual   \n",
       "12     2016-03-15 22:49:00    999        wagon              1995  manual   \n",
       "...                    ...    ...          ...               ...     ...   \n",
       "324599 2016-03-07 17:06:00   2600        sedan              2005    auto   \n",
       "324602 2016-03-16 17:06:00   5999        wagon              2005  manual   \n",
       "324608 2016-04-04 11:45:00    999  convertible              2000  manual   \n",
       "324609 2016-03-09 11:36:00   1690        wagon              2004  manual   \n",
       "324618 2016-03-20 19:41:00   3400        wagon              2002  manual   \n",
       "\n",
       "        power     model  mileage  registrationmonth  fueltype          brand  \\\n",
       "0       101.0      golf   150000                  0    petrol     volkswagen   \n",
       "2       163.0     grand   125000                  8  gasoline           jeep   \n",
       "8       125.0     c_max    30000                  8    petrol           ford   \n",
       "9       101.0      golf   150000                  0    petrol     volkswagen   \n",
       "12      115.0    passat   150000                 11    petrol     volkswagen   \n",
       "...       ...       ...      ...                ...       ...            ...   \n",
       "324599  143.0  c_klasse   150000                  9    petrol  mercedes_benz   \n",
       "324602  140.0        a4   150000                  4  gasoline           audi   \n",
       "324608   95.0    megane   150000                  4    petrol        renault   \n",
       "324609   55.0     fabia   150000                  4    petrol          skoda   \n",
       "324618  100.0      golf   150000                  6  gasoline     volkswagen   \n",
       "\n",
       "       notrepaired datecreated  numberofpictures  postalcode  \\\n",
       "0              NaN  2016-03-24                 0       70435   \n",
       "2              NaN  2016-03-14                 0       90480   \n",
       "8              NaN  2016-04-04                 0       94505   \n",
       "9              NaN  2016-03-17                 0       27472   \n",
       "12             NaN  2016-03-15                 0       37269   \n",
       "...            ...         ...               ...         ...   \n",
       "324599         NaN  2016-03-07                 0       61169   \n",
       "324602         NaN  2016-03-16                 0       56472   \n",
       "324608         NaN  2016-04-04                 0       88477   \n",
       "324609         NaN  2016-03-09                 0       18246   \n",
       "324618         NaN  2016-03-20                 0       40764   \n",
       "\n",
       "                  lastseen  \n",
       "0      2016-04-07 03:16:00  \n",
       "2      2016-04-05 12:47:00  \n",
       "8      2016-04-04 23:42:00  \n",
       "9      2016-03-31 17:17:00  \n",
       "12     2016-04-01 13:16:00  \n",
       "...                    ...  \n",
       "324599 2016-03-08 21:28:00  \n",
       "324602 2016-03-18 11:30:00  \n",
       "324608 2016-04-06 12:44:00  \n",
       "324609 2016-04-04 08:15:00  \n",
       "324618 2016-03-24 12:45:00  \n",
       "\n",
       "[57974 rows x 16 columns]"
      ]
     },
     "execution_count": 56,
     "metadata": {},
     "output_type": "execute_result"
    }
   ],
   "source": [
    "df[df['notrepaired'].isnull()]"
   ]
  },
  {
   "cell_type": "markdown",
   "metadata": {},
   "source": [
    "We will operate under the assumption that those who did not say yes to having been repaired, mean no. "
   ]
  },
  {
   "cell_type": "code",
   "execution_count": 57,
   "metadata": {},
   "outputs": [],
   "source": [
    "df['notrepaired'].fillna('no', inplace = True)"
   ]
  },
  {
   "cell_type": "code",
   "execution_count": 58,
   "metadata": {},
   "outputs": [
    {
     "data": {
      "text/html": [
       "<div>\n",
       "<style scoped>\n",
       "    .dataframe tbody tr th:only-of-type {\n",
       "        vertical-align: middle;\n",
       "    }\n",
       "\n",
       "    .dataframe tbody tr th {\n",
       "        vertical-align: top;\n",
       "    }\n",
       "\n",
       "    .dataframe thead th {\n",
       "        text-align: right;\n",
       "    }\n",
       "</style>\n",
       "<table border=\"1\" class=\"dataframe\">\n",
       "  <thead>\n",
       "    <tr style=\"text-align: right;\">\n",
       "      <th></th>\n",
       "      <th>datecrawled</th>\n",
       "      <th>price</th>\n",
       "      <th>vehicletype</th>\n",
       "      <th>registrationyear</th>\n",
       "      <th>gearbox</th>\n",
       "      <th>power</th>\n",
       "      <th>model</th>\n",
       "      <th>mileage</th>\n",
       "      <th>registrationmonth</th>\n",
       "      <th>fueltype</th>\n",
       "      <th>brand</th>\n",
       "      <th>notrepaired</th>\n",
       "      <th>datecreated</th>\n",
       "      <th>numberofpictures</th>\n",
       "      <th>postalcode</th>\n",
       "      <th>lastseen</th>\n",
       "    </tr>\n",
       "  </thead>\n",
       "  <tbody>\n",
       "  </tbody>\n",
       "</table>\n",
       "</div>"
      ],
      "text/plain": [
       "Empty DataFrame\n",
       "Columns: [datecrawled, price, vehicletype, registrationyear, gearbox, power, model, mileage, registrationmonth, fueltype, brand, notrepaired, datecreated, numberofpictures, postalcode, lastseen]\n",
       "Index: []"
      ]
     },
     "execution_count": 58,
     "metadata": {},
     "output_type": "execute_result"
    }
   ],
   "source": [
    "df[df['notrepaired'].isnull()]"
   ]
  },
  {
   "cell_type": "code",
   "execution_count": 59,
   "metadata": {},
   "outputs": [
    {
     "data": {
      "text/plain": [
       "no     288896\n",
       "yes     33474\n",
       "Name: notrepaired, dtype: int64"
      ]
     },
     "execution_count": 59,
     "metadata": {},
     "output_type": "execute_result"
    }
   ],
   "source": [
    "df['notrepaired'].value_counts()"
   ]
  },
  {
   "cell_type": "markdown",
   "metadata": {},
   "source": [
    "### `numberofpictures`"
   ]
  },
  {
   "cell_type": "code",
   "execution_count": 60,
   "metadata": {},
   "outputs": [
    {
     "data": {
      "text/plain": [
       "count    322370.0\n",
       "mean          0.0\n",
       "std           0.0\n",
       "min           0.0\n",
       "25%           0.0\n",
       "50%           0.0\n",
       "75%           0.0\n",
       "max           0.0\n",
       "Name: numberofpictures, dtype: float64"
      ]
     },
     "execution_count": 60,
     "metadata": {},
     "output_type": "execute_result"
    }
   ],
   "source": [
    "df['numberofpictures'].describe()"
   ]
  },
  {
   "cell_type": "markdown",
   "metadata": {},
   "source": [
    "No useful information, will be dropped."
   ]
  },
  {
   "cell_type": "code",
   "execution_count": 61,
   "metadata": {},
   "outputs": [],
   "source": [
    "df.drop('numberofpictures', axis = 1, inplace = True)"
   ]
  },
  {
   "cell_type": "markdown",
   "metadata": {},
   "source": [
    "No data here, will not be used in analysis."
   ]
  },
  {
   "cell_type": "markdown",
   "metadata": {},
   "source": [
    "### `postalcode`"
   ]
  },
  {
   "cell_type": "markdown",
   "metadata": {},
   "source": [
    "If we knew the country data was taken from we could extract some useful information from the Zip Code, alas, we cannot, we'll drop the column."
   ]
  },
  {
   "cell_type": "code",
   "execution_count": 62,
   "metadata": {},
   "outputs": [],
   "source": [
    "df.drop('postalcode', axis = 1, inplace = True)"
   ]
  },
  {
   "cell_type": "markdown",
   "metadata": {},
   "source": [
    "### Duplicates"
   ]
  },
  {
   "cell_type": "code",
   "execution_count": 63,
   "metadata": {},
   "outputs": [
    {
     "data": {
      "text/html": [
       "<div>\n",
       "<style scoped>\n",
       "    .dataframe tbody tr th:only-of-type {\n",
       "        vertical-align: middle;\n",
       "    }\n",
       "\n",
       "    .dataframe tbody tr th {\n",
       "        vertical-align: top;\n",
       "    }\n",
       "\n",
       "    .dataframe thead th {\n",
       "        text-align: right;\n",
       "    }\n",
       "</style>\n",
       "<table border=\"1\" class=\"dataframe\">\n",
       "  <thead>\n",
       "    <tr style=\"text-align: right;\">\n",
       "      <th></th>\n",
       "      <th>datecrawled</th>\n",
       "      <th>price</th>\n",
       "      <th>vehicletype</th>\n",
       "      <th>registrationyear</th>\n",
       "      <th>gearbox</th>\n",
       "      <th>power</th>\n",
       "      <th>model</th>\n",
       "      <th>mileage</th>\n",
       "      <th>registrationmonth</th>\n",
       "      <th>fueltype</th>\n",
       "      <th>brand</th>\n",
       "      <th>notrepaired</th>\n",
       "      <th>datecreated</th>\n",
       "      <th>lastseen</th>\n",
       "    </tr>\n",
       "  </thead>\n",
       "  <tbody>\n",
       "    <tr>\n",
       "      <th>12986</th>\n",
       "      <td>2016-03-21 19:06:00</td>\n",
       "      <td>5999</td>\n",
       "      <td>small</td>\n",
       "      <td>2009</td>\n",
       "      <td>manual</td>\n",
       "      <td>80.0</td>\n",
       "      <td>polo</td>\n",
       "      <td>125000</td>\n",
       "      <td>5</td>\n",
       "      <td>petrol</td>\n",
       "      <td>volkswagen</td>\n",
       "      <td>no</td>\n",
       "      <td>2016-03-21</td>\n",
       "      <td>2016-04-05 20:47:00</td>\n",
       "    </tr>\n",
       "    <tr>\n",
       "      <th>28851</th>\n",
       "      <td>2016-04-03 20:41:00</td>\n",
       "      <td>4950</td>\n",
       "      <td>wagon</td>\n",
       "      <td>2003</td>\n",
       "      <td>auto</td>\n",
       "      <td>170.0</td>\n",
       "      <td>e_klasse</td>\n",
       "      <td>150000</td>\n",
       "      <td>4</td>\n",
       "      <td>gasoline</td>\n",
       "      <td>mercedes_benz</td>\n",
       "      <td>no</td>\n",
       "      <td>2016-04-03</td>\n",
       "      <td>2016-04-05 21:17:00</td>\n",
       "    </tr>\n",
       "    <tr>\n",
       "      <th>30249</th>\n",
       "      <td>2016-03-07 20:45:00</td>\n",
       "      <td>10900</td>\n",
       "      <td>convertible</td>\n",
       "      <td>2005</td>\n",
       "      <td>auto</td>\n",
       "      <td>163.0</td>\n",
       "      <td>clk</td>\n",
       "      <td>125000</td>\n",
       "      <td>5</td>\n",
       "      <td>petrol</td>\n",
       "      <td>mercedes_benz</td>\n",
       "      <td>no</td>\n",
       "      <td>2016-03-07</td>\n",
       "      <td>2016-03-21 03:45:00</td>\n",
       "    </tr>\n",
       "    <tr>\n",
       "      <th>39922</th>\n",
       "      <td>2016-03-13 20:48:00</td>\n",
       "      <td>4200</td>\n",
       "      <td>sedan</td>\n",
       "      <td>2003</td>\n",
       "      <td>manual</td>\n",
       "      <td>105.0</td>\n",
       "      <td>golf</td>\n",
       "      <td>150000</td>\n",
       "      <td>10</td>\n",
       "      <td>gasoline</td>\n",
       "      <td>volkswagen</td>\n",
       "      <td>no</td>\n",
       "      <td>2016-03-13</td>\n",
       "      <td>2016-03-13 20:48:00</td>\n",
       "    </tr>\n",
       "    <tr>\n",
       "      <th>43396</th>\n",
       "      <td>2016-03-07 19:42:00</td>\n",
       "      <td>370</td>\n",
       "      <td>sedan</td>\n",
       "      <td>1997</td>\n",
       "      <td>manual</td>\n",
       "      <td>75.0</td>\n",
       "      <td>megane</td>\n",
       "      <td>150000</td>\n",
       "      <td>5</td>\n",
       "      <td>petrol</td>\n",
       "      <td>renault</td>\n",
       "      <td>no</td>\n",
       "      <td>2016-03-07</td>\n",
       "      <td>2016-03-12 17:47:00</td>\n",
       "    </tr>\n",
       "    <tr>\n",
       "      <th>...</th>\n",
       "      <td>...</td>\n",
       "      <td>...</td>\n",
       "      <td>...</td>\n",
       "      <td>...</td>\n",
       "      <td>...</td>\n",
       "      <td>...</td>\n",
       "      <td>...</td>\n",
       "      <td>...</td>\n",
       "      <td>...</td>\n",
       "      <td>...</td>\n",
       "      <td>...</td>\n",
       "      <td>...</td>\n",
       "      <td>...</td>\n",
       "      <td>...</td>\n",
       "    </tr>\n",
       "    <tr>\n",
       "      <th>320317</th>\n",
       "      <td>2016-03-20 16:45:00</td>\n",
       "      <td>13499</td>\n",
       "      <td>wagon</td>\n",
       "      <td>2005</td>\n",
       "      <td>manual</td>\n",
       "      <td>344.0</td>\n",
       "      <td>other</td>\n",
       "      <td>150000</td>\n",
       "      <td>6</td>\n",
       "      <td>petrol</td>\n",
       "      <td>audi</td>\n",
       "      <td>no</td>\n",
       "      <td>2016-03-20</td>\n",
       "      <td>2016-03-30 08:15:00</td>\n",
       "    </tr>\n",
       "    <tr>\n",
       "      <th>322012</th>\n",
       "      <td>2016-03-26 16:54:00</td>\n",
       "      <td>3150</td>\n",
       "      <td>bus</td>\n",
       "      <td>2003</td>\n",
       "      <td>manual</td>\n",
       "      <td>86.0</td>\n",
       "      <td>transit</td>\n",
       "      <td>150000</td>\n",
       "      <td>11</td>\n",
       "      <td>gasoline</td>\n",
       "      <td>ford</td>\n",
       "      <td>no</td>\n",
       "      <td>2016-03-26</td>\n",
       "      <td>2016-04-02 07:47:00</td>\n",
       "    </tr>\n",
       "    <tr>\n",
       "      <th>322787</th>\n",
       "      <td>2016-03-15 21:54:00</td>\n",
       "      <td>5900</td>\n",
       "      <td>wagon</td>\n",
       "      <td>2006</td>\n",
       "      <td>manual</td>\n",
       "      <td>129.0</td>\n",
       "      <td>3er</td>\n",
       "      <td>150000</td>\n",
       "      <td>12</td>\n",
       "      <td>petrol</td>\n",
       "      <td>bmw</td>\n",
       "      <td>no</td>\n",
       "      <td>2016-03-15</td>\n",
       "      <td>2016-03-20 21:17:00</td>\n",
       "    </tr>\n",
       "    <tr>\n",
       "      <th>323405</th>\n",
       "      <td>2016-03-05 14:16:00</td>\n",
       "      <td>9500</td>\n",
       "      <td>small</td>\n",
       "      <td>2013</td>\n",
       "      <td>manual</td>\n",
       "      <td>105.0</td>\n",
       "      <td>ibiza</td>\n",
       "      <td>40000</td>\n",
       "      <td>5</td>\n",
       "      <td>petrol</td>\n",
       "      <td>seat</td>\n",
       "      <td>no</td>\n",
       "      <td>2016-03-04</td>\n",
       "      <td>2016-04-05 19:18:00</td>\n",
       "    </tr>\n",
       "    <tr>\n",
       "      <th>323760</th>\n",
       "      <td>2016-03-10 20:56:00</td>\n",
       "      <td>9990</td>\n",
       "      <td>small</td>\n",
       "      <td>2013</td>\n",
       "      <td>manual</td>\n",
       "      <td>86.0</td>\n",
       "      <td>ibiza</td>\n",
       "      <td>40000</td>\n",
       "      <td>9</td>\n",
       "      <td>petrol</td>\n",
       "      <td>seat</td>\n",
       "      <td>no</td>\n",
       "      <td>2016-03-10</td>\n",
       "      <td>2016-04-06 19:46:00</td>\n",
       "    </tr>\n",
       "  </tbody>\n",
       "</table>\n",
       "<p>335 rows × 14 columns</p>\n",
       "</div>"
      ],
      "text/plain": [
       "               datecrawled  price  vehicletype  registrationyear gearbox  \\\n",
       "12986  2016-03-21 19:06:00   5999        small              2009  manual   \n",
       "28851  2016-04-03 20:41:00   4950        wagon              2003    auto   \n",
       "30249  2016-03-07 20:45:00  10900  convertible              2005    auto   \n",
       "39922  2016-03-13 20:48:00   4200        sedan              2003  manual   \n",
       "43396  2016-03-07 19:42:00    370        sedan              1997  manual   \n",
       "...                    ...    ...          ...               ...     ...   \n",
       "320317 2016-03-20 16:45:00  13499        wagon              2005  manual   \n",
       "322012 2016-03-26 16:54:00   3150          bus              2003  manual   \n",
       "322787 2016-03-15 21:54:00   5900        wagon              2006  manual   \n",
       "323405 2016-03-05 14:16:00   9500        small              2013  manual   \n",
       "323760 2016-03-10 20:56:00   9990        small              2013  manual   \n",
       "\n",
       "        power     model  mileage  registrationmonth  fueltype          brand  \\\n",
       "12986    80.0      polo   125000                  5    petrol     volkswagen   \n",
       "28851   170.0  e_klasse   150000                  4  gasoline  mercedes_benz   \n",
       "30249   163.0       clk   125000                  5    petrol  mercedes_benz   \n",
       "39922   105.0      golf   150000                 10  gasoline     volkswagen   \n",
       "43396    75.0    megane   150000                  5    petrol        renault   \n",
       "...       ...       ...      ...                ...       ...            ...   \n",
       "320317  344.0     other   150000                  6    petrol           audi   \n",
       "322012   86.0   transit   150000                 11  gasoline           ford   \n",
       "322787  129.0       3er   150000                 12    petrol            bmw   \n",
       "323405  105.0     ibiza    40000                  5    petrol           seat   \n",
       "323760   86.0     ibiza    40000                  9    petrol           seat   \n",
       "\n",
       "       notrepaired datecreated            lastseen  \n",
       "12986           no  2016-03-21 2016-04-05 20:47:00  \n",
       "28851           no  2016-04-03 2016-04-05 21:17:00  \n",
       "30249           no  2016-03-07 2016-03-21 03:45:00  \n",
       "39922           no  2016-03-13 2016-03-13 20:48:00  \n",
       "43396           no  2016-03-07 2016-03-12 17:47:00  \n",
       "...            ...         ...                 ...  \n",
       "320317          no  2016-03-20 2016-03-30 08:15:00  \n",
       "322012          no  2016-03-26 2016-04-02 07:47:00  \n",
       "322787          no  2016-03-15 2016-03-20 21:17:00  \n",
       "323405          no  2016-03-04 2016-04-05 19:18:00  \n",
       "323760          no  2016-03-10 2016-04-06 19:46:00  \n",
       "\n",
       "[335 rows x 14 columns]"
      ]
     },
     "execution_count": 63,
     "metadata": {},
     "output_type": "execute_result"
    }
   ],
   "source": [
    "df[df.duplicated()]"
   ]
  },
  {
   "cell_type": "markdown",
   "metadata": {},
   "source": [
    "We can drop this very small number of duplicates."
   ]
  },
  {
   "cell_type": "code",
   "execution_count": 64,
   "metadata": {},
   "outputs": [
    {
     "name": "stdout",
     "output_type": "stream",
     "text": [
      "<class 'pandas.core.frame.DataFrame'>\n",
      "RangeIndex: 322035 entries, 0 to 322034\n",
      "Data columns (total 14 columns):\n",
      " #   Column             Non-Null Count   Dtype         \n",
      "---  ------             --------------   -----         \n",
      " 0   datecrawled        322035 non-null  datetime64[ns]\n",
      " 1   price              322035 non-null  int64         \n",
      " 2   vehicletype        322035 non-null  object        \n",
      " 3   registrationyear   322035 non-null  int64         \n",
      " 4   gearbox            322035 non-null  object        \n",
      " 5   power              322035 non-null  float64       \n",
      " 6   model              322035 non-null  object        \n",
      " 7   mileage            322035 non-null  int64         \n",
      " 8   registrationmonth  322035 non-null  int64         \n",
      " 9   fueltype           322035 non-null  object        \n",
      " 10  brand              322035 non-null  object        \n",
      " 11  notrepaired        322035 non-null  object        \n",
      " 12  datecreated        322035 non-null  datetime64[ns]\n",
      " 13  lastseen           322035 non-null  datetime64[ns]\n",
      "dtypes: datetime64[ns](3), float64(1), int64(4), object(6)\n",
      "memory usage: 34.4+ MB\n"
     ]
    }
   ],
   "source": [
    "df.drop_duplicates(inplace = True)\n",
    "df.reset_index(drop = True, inplace=True)\n",
    "df.info()"
   ]
  },
  {
   "cell_type": "markdown",
   "metadata": {},
   "source": [
    "### Creating features"
   ]
  },
  {
   "cell_type": "markdown",
   "metadata": {},
   "source": [
    "To aid with analysis some columns will need to be OHE and `power` scaled.\n",
    "Although some models we will use can cope with unencoded categorical variables, not all can.\n",
    "Encoding the variables should not affect results."
   ]
  },
  {
   "cell_type": "code",
   "execution_count": 65,
   "metadata": {},
   "outputs": [],
   "source": [
    "#seperating features\n",
    "features_df = df[['vehicletype', 'registrationyear', 'gearbox', 'power', 'model', 'mileage', 'fueltype', 'brand', 'notrepaired']]"
   ]
  },
  {
   "cell_type": "code",
   "execution_count": 66,
   "metadata": {},
   "outputs": [
    {
     "data": {
      "text/html": [
       "<div>\n",
       "<style scoped>\n",
       "    .dataframe tbody tr th:only-of-type {\n",
       "        vertical-align: middle;\n",
       "    }\n",
       "\n",
       "    .dataframe tbody tr th {\n",
       "        vertical-align: top;\n",
       "    }\n",
       "\n",
       "    .dataframe thead th {\n",
       "        text-align: right;\n",
       "    }\n",
       "</style>\n",
       "<table border=\"1\" class=\"dataframe\">\n",
       "  <thead>\n",
       "    <tr style=\"text-align: right;\">\n",
       "      <th></th>\n",
       "      <th>vehicletype</th>\n",
       "      <th>registrationyear</th>\n",
       "      <th>gearbox</th>\n",
       "      <th>power</th>\n",
       "      <th>model</th>\n",
       "      <th>mileage</th>\n",
       "      <th>fueltype</th>\n",
       "      <th>brand</th>\n",
       "      <th>notrepaired</th>\n",
       "    </tr>\n",
       "  </thead>\n",
       "  <tbody>\n",
       "    <tr>\n",
       "      <th>128575</th>\n",
       "      <td>coupe</td>\n",
       "      <td>1993</td>\n",
       "      <td>1</td>\n",
       "      <td>140.0</td>\n",
       "      <td>3er</td>\n",
       "      <td>150000</td>\n",
       "      <td>petrol</td>\n",
       "      <td>bmw</td>\n",
       "      <td>0</td>\n",
       "    </tr>\n",
       "    <tr>\n",
       "      <th>68190</th>\n",
       "      <td>wagon</td>\n",
       "      <td>2006</td>\n",
       "      <td>1</td>\n",
       "      <td>170.0</td>\n",
       "      <td>passat</td>\n",
       "      <td>150000</td>\n",
       "      <td>gasoline</td>\n",
       "      <td>volkswagen</td>\n",
       "      <td>0</td>\n",
       "    </tr>\n",
       "    <tr>\n",
       "      <th>43350</th>\n",
       "      <td>small</td>\n",
       "      <td>2007</td>\n",
       "      <td>1</td>\n",
       "      <td>69.0</td>\n",
       "      <td>fiesta</td>\n",
       "      <td>80000</td>\n",
       "      <td>petrol</td>\n",
       "      <td>ford</td>\n",
       "      <td>0</td>\n",
       "    </tr>\n",
       "    <tr>\n",
       "      <th>50740</th>\n",
       "      <td>bus</td>\n",
       "      <td>2001</td>\n",
       "      <td>1</td>\n",
       "      <td>75.0</td>\n",
       "      <td>transporter</td>\n",
       "      <td>50000</td>\n",
       "      <td>petrol</td>\n",
       "      <td>volkswagen</td>\n",
       "      <td>0</td>\n",
       "    </tr>\n",
       "    <tr>\n",
       "      <th>33948</th>\n",
       "      <td>wagon</td>\n",
       "      <td>1998</td>\n",
       "      <td>1</td>\n",
       "      <td>113.0</td>\n",
       "      <td>lancer</td>\n",
       "      <td>150000</td>\n",
       "      <td>petrol</td>\n",
       "      <td>mitsubishi</td>\n",
       "      <td>0</td>\n",
       "    </tr>\n",
       "    <tr>\n",
       "      <th>131071</th>\n",
       "      <td>sedan</td>\n",
       "      <td>2002</td>\n",
       "      <td>1</td>\n",
       "      <td>109.0</td>\n",
       "      <td>3_reihe</td>\n",
       "      <td>150000</td>\n",
       "      <td>petrol</td>\n",
       "      <td>peugeot</td>\n",
       "      <td>0</td>\n",
       "    </tr>\n",
       "    <tr>\n",
       "      <th>39688</th>\n",
       "      <td>sedan</td>\n",
       "      <td>2000</td>\n",
       "      <td>1</td>\n",
       "      <td>150.0</td>\n",
       "      <td>3er</td>\n",
       "      <td>150000</td>\n",
       "      <td>petrol</td>\n",
       "      <td>bmw</td>\n",
       "      <td>0</td>\n",
       "    </tr>\n",
       "    <tr>\n",
       "      <th>282286</th>\n",
       "      <td>sedan</td>\n",
       "      <td>2002</td>\n",
       "      <td>1</td>\n",
       "      <td>75.0</td>\n",
       "      <td>focus</td>\n",
       "      <td>150000</td>\n",
       "      <td>petrol</td>\n",
       "      <td>ford</td>\n",
       "      <td>1</td>\n",
       "    </tr>\n",
       "    <tr>\n",
       "      <th>320166</th>\n",
       "      <td>sedan</td>\n",
       "      <td>2004</td>\n",
       "      <td>1</td>\n",
       "      <td>122.0</td>\n",
       "      <td>6_reihe</td>\n",
       "      <td>5000</td>\n",
       "      <td>petrol</td>\n",
       "      <td>mazda</td>\n",
       "      <td>0</td>\n",
       "    </tr>\n",
       "    <tr>\n",
       "      <th>262601</th>\n",
       "      <td>small</td>\n",
       "      <td>2009</td>\n",
       "      <td>1</td>\n",
       "      <td>75.0</td>\n",
       "      <td>one</td>\n",
       "      <td>100000</td>\n",
       "      <td>petrol</td>\n",
       "      <td>mini</td>\n",
       "      <td>0</td>\n",
       "    </tr>\n",
       "  </tbody>\n",
       "</table>\n",
       "</div>"
      ],
      "text/plain": [
       "       vehicletype  registrationyear  gearbox  power        model  mileage  \\\n",
       "128575       coupe              1993        1  140.0          3er   150000   \n",
       "68190        wagon              2006        1  170.0       passat   150000   \n",
       "43350        small              2007        1   69.0       fiesta    80000   \n",
       "50740          bus              2001        1   75.0  transporter    50000   \n",
       "33948        wagon              1998        1  113.0       lancer   150000   \n",
       "131071       sedan              2002        1  109.0      3_reihe   150000   \n",
       "39688        sedan              2000        1  150.0          3er   150000   \n",
       "282286       sedan              2002        1   75.0        focus   150000   \n",
       "320166       sedan              2004        1  122.0      6_reihe     5000   \n",
       "262601       small              2009        1   75.0          one   100000   \n",
       "\n",
       "        fueltype       brand  notrepaired  \n",
       "128575    petrol         bmw            0  \n",
       "68190   gasoline  volkswagen            0  \n",
       "43350     petrol        ford            0  \n",
       "50740     petrol  volkswagen            0  \n",
       "33948     petrol  mitsubishi            0  \n",
       "131071    petrol     peugeot            0  \n",
       "39688     petrol         bmw            0  \n",
       "282286    petrol        ford            1  \n",
       "320166    petrol       mazda            0  \n",
       "262601    petrol        mini            0  "
      ]
     },
     "execution_count": 66,
     "metadata": {},
     "output_type": "execute_result"
    }
   ],
   "source": [
    "#Label encoding categorical variables\n",
    "\n",
    "for col in ['gearbox', 'notrepaired']:\n",
    "    le = LabelEncoder()\n",
    "    features_df[col] = le.fit_transform(features_df[col])\n",
    "features_df.sample(10)"
   ]
  },
  {
   "cell_type": "code",
   "execution_count": 68,
   "metadata": {},
   "outputs": [],
   "source": [
    "#getting dummies for categorical variables\n",
    "features_df = pd.get_dummies(features_df, prefix =['vehicletype', 'gearbox', 'model', 'fueltype', 'brand'], columns =  ['vehicletype', 'gearbox', 'model', 'fueltype', 'brand'], drop_first = True)\n"
   ]
  },
  {
   "cell_type": "code",
   "execution_count": 69,
   "metadata": {},
   "outputs": [],
   "source": [
    "#splitting data\n",
    "features_train, features_test, target_test, target_train = train_test_split(features_df, df['price'], test_size = 0.3, random_state = 1)"
   ]
  },
  {
   "cell_type": "code",
   "execution_count": 70,
   "metadata": {},
   "outputs": [
    {
     "data": {
      "text/html": [
       "<div>\n",
       "<style scoped>\n",
       "    .dataframe tbody tr th:only-of-type {\n",
       "        vertical-align: middle;\n",
       "    }\n",
       "\n",
       "    .dataframe tbody tr th {\n",
       "        vertical-align: top;\n",
       "    }\n",
       "\n",
       "    .dataframe thead th {\n",
       "        text-align: right;\n",
       "    }\n",
       "</style>\n",
       "<table border=\"1\" class=\"dataframe\">\n",
       "  <thead>\n",
       "    <tr style=\"text-align: right;\">\n",
       "      <th></th>\n",
       "      <th>registrationyear</th>\n",
       "      <th>power</th>\n",
       "      <th>mileage</th>\n",
       "      <th>notrepaired</th>\n",
       "      <th>vehicletype_convertible</th>\n",
       "      <th>vehicletype_coupe</th>\n",
       "      <th>vehicletype_other</th>\n",
       "      <th>vehicletype_sedan</th>\n",
       "      <th>vehicletype_small</th>\n",
       "      <th>vehicletype_suv</th>\n",
       "      <th>...</th>\n",
       "      <th>brand_seat</th>\n",
       "      <th>brand_skoda</th>\n",
       "      <th>brand_smart</th>\n",
       "      <th>brand_sonstige_autos</th>\n",
       "      <th>brand_subaru</th>\n",
       "      <th>brand_suzuki</th>\n",
       "      <th>brand_toyota</th>\n",
       "      <th>brand_trabant</th>\n",
       "      <th>brand_volkswagen</th>\n",
       "      <th>brand_volvo</th>\n",
       "    </tr>\n",
       "  </thead>\n",
       "  <tbody>\n",
       "    <tr>\n",
       "      <th>176247</th>\n",
       "      <td>0.753846</td>\n",
       "      <td>0.047754</td>\n",
       "      <td>1.000000</td>\n",
       "      <td>0</td>\n",
       "      <td>0</td>\n",
       "      <td>1</td>\n",
       "      <td>0</td>\n",
       "      <td>0</td>\n",
       "      <td>0</td>\n",
       "      <td>0</td>\n",
       "      <td>...</td>\n",
       "      <td>0</td>\n",
       "      <td>0</td>\n",
       "      <td>0</td>\n",
       "      <td>0</td>\n",
       "      <td>0</td>\n",
       "      <td>0</td>\n",
       "      <td>0</td>\n",
       "      <td>0</td>\n",
       "      <td>0</td>\n",
       "      <td>0</td>\n",
       "    </tr>\n",
       "    <tr>\n",
       "      <th>196149</th>\n",
       "      <td>0.707692</td>\n",
       "      <td>0.010802</td>\n",
       "      <td>0.827586</td>\n",
       "      <td>0</td>\n",
       "      <td>0</td>\n",
       "      <td>0</td>\n",
       "      <td>0</td>\n",
       "      <td>0</td>\n",
       "      <td>1</td>\n",
       "      <td>0</td>\n",
       "      <td>...</td>\n",
       "      <td>0</td>\n",
       "      <td>0</td>\n",
       "      <td>0</td>\n",
       "      <td>0</td>\n",
       "      <td>0</td>\n",
       "      <td>0</td>\n",
       "      <td>0</td>\n",
       "      <td>0</td>\n",
       "      <td>0</td>\n",
       "      <td>0</td>\n",
       "    </tr>\n",
       "    <tr>\n",
       "      <th>57655</th>\n",
       "      <td>0.800000</td>\n",
       "      <td>0.039227</td>\n",
       "      <td>0.586207</td>\n",
       "      <td>0</td>\n",
       "      <td>1</td>\n",
       "      <td>0</td>\n",
       "      <td>0</td>\n",
       "      <td>0</td>\n",
       "      <td>0</td>\n",
       "      <td>0</td>\n",
       "      <td>...</td>\n",
       "      <td>0</td>\n",
       "      <td>0</td>\n",
       "      <td>0</td>\n",
       "      <td>0</td>\n",
       "      <td>0</td>\n",
       "      <td>0</td>\n",
       "      <td>0</td>\n",
       "      <td>0</td>\n",
       "      <td>0</td>\n",
       "      <td>0</td>\n",
       "    </tr>\n",
       "    <tr>\n",
       "      <th>277135</th>\n",
       "      <td>0.923077</td>\n",
       "      <td>0.046049</td>\n",
       "      <td>0.241379</td>\n",
       "      <td>0</td>\n",
       "      <td>0</td>\n",
       "      <td>0</td>\n",
       "      <td>1</td>\n",
       "      <td>0</td>\n",
       "      <td>0</td>\n",
       "      <td>0</td>\n",
       "      <td>...</td>\n",
       "      <td>0</td>\n",
       "      <td>0</td>\n",
       "      <td>0</td>\n",
       "      <td>0</td>\n",
       "      <td>0</td>\n",
       "      <td>0</td>\n",
       "      <td>0</td>\n",
       "      <td>0</td>\n",
       "      <td>0</td>\n",
       "      <td>0</td>\n",
       "    </tr>\n",
       "    <tr>\n",
       "      <th>27863</th>\n",
       "      <td>0.753846</td>\n",
       "      <td>0.047754</td>\n",
       "      <td>1.000000</td>\n",
       "      <td>0</td>\n",
       "      <td>0</td>\n",
       "      <td>0</td>\n",
       "      <td>0</td>\n",
       "      <td>0</td>\n",
       "      <td>0</td>\n",
       "      <td>0</td>\n",
       "      <td>...</td>\n",
       "      <td>0</td>\n",
       "      <td>0</td>\n",
       "      <td>0</td>\n",
       "      <td>0</td>\n",
       "      <td>0</td>\n",
       "      <td>0</td>\n",
       "      <td>0</td>\n",
       "      <td>0</td>\n",
       "      <td>0</td>\n",
       "      <td>0</td>\n",
       "    </tr>\n",
       "    <tr>\n",
       "      <th>307165</th>\n",
       "      <td>1.000000</td>\n",
       "      <td>0.010802</td>\n",
       "      <td>1.000000</td>\n",
       "      <td>0</td>\n",
       "      <td>0</td>\n",
       "      <td>0</td>\n",
       "      <td>0</td>\n",
       "      <td>0</td>\n",
       "      <td>1</td>\n",
       "      <td>0</td>\n",
       "      <td>...</td>\n",
       "      <td>0</td>\n",
       "      <td>0</td>\n",
       "      <td>0</td>\n",
       "      <td>0</td>\n",
       "      <td>0</td>\n",
       "      <td>0</td>\n",
       "      <td>0</td>\n",
       "      <td>0</td>\n",
       "      <td>0</td>\n",
       "      <td>0</td>\n",
       "    </tr>\n",
       "    <tr>\n",
       "      <th>52553</th>\n",
       "      <td>0.800000</td>\n",
       "      <td>0.092666</td>\n",
       "      <td>1.000000</td>\n",
       "      <td>1</td>\n",
       "      <td>0</td>\n",
       "      <td>0</td>\n",
       "      <td>0</td>\n",
       "      <td>0</td>\n",
       "      <td>0</td>\n",
       "      <td>0</td>\n",
       "      <td>...</td>\n",
       "      <td>0</td>\n",
       "      <td>0</td>\n",
       "      <td>0</td>\n",
       "      <td>0</td>\n",
       "      <td>0</td>\n",
       "      <td>0</td>\n",
       "      <td>0</td>\n",
       "      <td>0</td>\n",
       "      <td>0</td>\n",
       "      <td>0</td>\n",
       "    </tr>\n",
       "    <tr>\n",
       "      <th>105889</th>\n",
       "      <td>0.615385</td>\n",
       "      <td>0.019329</td>\n",
       "      <td>1.000000</td>\n",
       "      <td>0</td>\n",
       "      <td>0</td>\n",
       "      <td>0</td>\n",
       "      <td>0</td>\n",
       "      <td>1</td>\n",
       "      <td>0</td>\n",
       "      <td>0</td>\n",
       "      <td>...</td>\n",
       "      <td>0</td>\n",
       "      <td>0</td>\n",
       "      <td>0</td>\n",
       "      <td>0</td>\n",
       "      <td>0</td>\n",
       "      <td>0</td>\n",
       "      <td>0</td>\n",
       "      <td>0</td>\n",
       "      <td>1</td>\n",
       "      <td>0</td>\n",
       "    </tr>\n",
       "    <tr>\n",
       "      <th>196192</th>\n",
       "      <td>0.753846</td>\n",
       "      <td>0.005117</td>\n",
       "      <td>1.000000</td>\n",
       "      <td>0</td>\n",
       "      <td>0</td>\n",
       "      <td>0</td>\n",
       "      <td>0</td>\n",
       "      <td>0</td>\n",
       "      <td>1</td>\n",
       "      <td>0</td>\n",
       "      <td>...</td>\n",
       "      <td>0</td>\n",
       "      <td>0</td>\n",
       "      <td>0</td>\n",
       "      <td>0</td>\n",
       "      <td>0</td>\n",
       "      <td>0</td>\n",
       "      <td>0</td>\n",
       "      <td>0</td>\n",
       "      <td>1</td>\n",
       "      <td>0</td>\n",
       "    </tr>\n",
       "    <tr>\n",
       "      <th>297231</th>\n",
       "      <td>0.815385</td>\n",
       "      <td>0.036384</td>\n",
       "      <td>1.000000</td>\n",
       "      <td>1</td>\n",
       "      <td>0</td>\n",
       "      <td>0</td>\n",
       "      <td>0</td>\n",
       "      <td>0</td>\n",
       "      <td>0</td>\n",
       "      <td>0</td>\n",
       "      <td>...</td>\n",
       "      <td>0</td>\n",
       "      <td>0</td>\n",
       "      <td>0</td>\n",
       "      <td>0</td>\n",
       "      <td>0</td>\n",
       "      <td>0</td>\n",
       "      <td>0</td>\n",
       "      <td>0</td>\n",
       "      <td>1</td>\n",
       "      <td>0</td>\n",
       "    </tr>\n",
       "  </tbody>\n",
       "</table>\n",
       "<p>10 rows × 305 columns</p>\n",
       "</div>"
      ],
      "text/plain": [
       "        registrationyear     power   mileage  notrepaired  \\\n",
       "176247          0.753846  0.047754  1.000000            0   \n",
       "196149          0.707692  0.010802  0.827586            0   \n",
       "57655           0.800000  0.039227  0.586207            0   \n",
       "277135          0.923077  0.046049  0.241379            0   \n",
       "27863           0.753846  0.047754  1.000000            0   \n",
       "307165          1.000000  0.010802  1.000000            0   \n",
       "52553           0.800000  0.092666  1.000000            1   \n",
       "105889          0.615385  0.019329  1.000000            0   \n",
       "196192          0.753846  0.005117  1.000000            0   \n",
       "297231          0.815385  0.036384  1.000000            1   \n",
       "\n",
       "        vehicletype_convertible  vehicletype_coupe  vehicletype_other  \\\n",
       "176247                        0                  1                  0   \n",
       "196149                        0                  0                  0   \n",
       "57655                         1                  0                  0   \n",
       "277135                        0                  0                  1   \n",
       "27863                         0                  0                  0   \n",
       "307165                        0                  0                  0   \n",
       "52553                         0                  0                  0   \n",
       "105889                        0                  0                  0   \n",
       "196192                        0                  0                  0   \n",
       "297231                        0                  0                  0   \n",
       "\n",
       "        vehicletype_sedan  vehicletype_small  vehicletype_suv  ...  \\\n",
       "176247                  0                  0                0  ...   \n",
       "196149                  0                  1                0  ...   \n",
       "57655                   0                  0                0  ...   \n",
       "277135                  0                  0                0  ...   \n",
       "27863                   0                  0                0  ...   \n",
       "307165                  0                  1                0  ...   \n",
       "52553                   0                  0                0  ...   \n",
       "105889                  1                  0                0  ...   \n",
       "196192                  0                  1                0  ...   \n",
       "297231                  0                  0                0  ...   \n",
       "\n",
       "        brand_seat  brand_skoda  brand_smart  brand_sonstige_autos  \\\n",
       "176247           0            0            0                     0   \n",
       "196149           0            0            0                     0   \n",
       "57655            0            0            0                     0   \n",
       "277135           0            0            0                     0   \n",
       "27863            0            0            0                     0   \n",
       "307165           0            0            0                     0   \n",
       "52553            0            0            0                     0   \n",
       "105889           0            0            0                     0   \n",
       "196192           0            0            0                     0   \n",
       "297231           0            0            0                     0   \n",
       "\n",
       "        brand_subaru  brand_suzuki  brand_toyota  brand_trabant  \\\n",
       "176247             0             0             0              0   \n",
       "196149             0             0             0              0   \n",
       "57655              0             0             0              0   \n",
       "277135             0             0             0              0   \n",
       "27863              0             0             0              0   \n",
       "307165             0             0             0              0   \n",
       "52553              0             0             0              0   \n",
       "105889             0             0             0              0   \n",
       "196192             0             0             0              0   \n",
       "297231             0             0             0              0   \n",
       "\n",
       "        brand_volkswagen  brand_volvo  \n",
       "176247                 0            0  \n",
       "196149                 0            0  \n",
       "57655                  0            0  \n",
       "277135                 0            0  \n",
       "27863                  0            0  \n",
       "307165                 0            0  \n",
       "52553                  0            0  \n",
       "105889                 1            0  \n",
       "196192                 1            0  \n",
       "297231                 1            0  \n",
       "\n",
       "[10 rows x 305 columns]"
      ]
     },
     "execution_count": 70,
     "metadata": {},
     "output_type": "execute_result"
    }
   ],
   "source": [
    "#fitting scaler to training set\n",
    "scaler = MinMaxScaler()\n",
    "scaler = scaler.fit(features_train[['registrationyear','power','mileage']])\n",
    "features_train[['registrationyear','power','mileage']] = scaler.transform(features_train[['registrationyear','power','mileage']])\n",
    "features_train.sample(10)"
   ]
  },
  {
   "cell_type": "code",
   "execution_count": 71,
   "metadata": {},
   "outputs": [
    {
     "data": {
      "text/html": [
       "<div>\n",
       "<style scoped>\n",
       "    .dataframe tbody tr th:only-of-type {\n",
       "        vertical-align: middle;\n",
       "    }\n",
       "\n",
       "    .dataframe tbody tr th {\n",
       "        vertical-align: top;\n",
       "    }\n",
       "\n",
       "    .dataframe thead th {\n",
       "        text-align: right;\n",
       "    }\n",
       "</style>\n",
       "<table border=\"1\" class=\"dataframe\">\n",
       "  <thead>\n",
       "    <tr style=\"text-align: right;\">\n",
       "      <th></th>\n",
       "      <th>registrationyear</th>\n",
       "      <th>power</th>\n",
       "      <th>mileage</th>\n",
       "      <th>notrepaired</th>\n",
       "      <th>vehicletype_convertible</th>\n",
       "      <th>vehicletype_coupe</th>\n",
       "      <th>vehicletype_other</th>\n",
       "      <th>vehicletype_sedan</th>\n",
       "      <th>vehicletype_small</th>\n",
       "      <th>vehicletype_suv</th>\n",
       "      <th>...</th>\n",
       "      <th>brand_seat</th>\n",
       "      <th>brand_skoda</th>\n",
       "      <th>brand_smart</th>\n",
       "      <th>brand_sonstige_autos</th>\n",
       "      <th>brand_subaru</th>\n",
       "      <th>brand_suzuki</th>\n",
       "      <th>brand_toyota</th>\n",
       "      <th>brand_trabant</th>\n",
       "      <th>brand_volkswagen</th>\n",
       "      <th>brand_volvo</th>\n",
       "    </tr>\n",
       "  </thead>\n",
       "  <tbody>\n",
       "    <tr>\n",
       "      <th>183554</th>\n",
       "      <td>0.846154</td>\n",
       "      <td>0.050028</td>\n",
       "      <td>1.000000</td>\n",
       "      <td>1</td>\n",
       "      <td>0</td>\n",
       "      <td>0</td>\n",
       "      <td>0</td>\n",
       "      <td>0</td>\n",
       "      <td>0</td>\n",
       "      <td>0</td>\n",
       "      <td>...</td>\n",
       "      <td>0</td>\n",
       "      <td>0</td>\n",
       "      <td>0</td>\n",
       "      <td>0</td>\n",
       "      <td>0</td>\n",
       "      <td>0</td>\n",
       "      <td>0</td>\n",
       "      <td>0</td>\n",
       "      <td>0</td>\n",
       "      <td>0</td>\n",
       "    </tr>\n",
       "    <tr>\n",
       "      <th>153444</th>\n",
       "      <td>0.969231</td>\n",
       "      <td>0.056282</td>\n",
       "      <td>0.034483</td>\n",
       "      <td>1</td>\n",
       "      <td>0</td>\n",
       "      <td>0</td>\n",
       "      <td>0</td>\n",
       "      <td>0</td>\n",
       "      <td>0</td>\n",
       "      <td>0</td>\n",
       "      <td>...</td>\n",
       "      <td>0</td>\n",
       "      <td>0</td>\n",
       "      <td>0</td>\n",
       "      <td>0</td>\n",
       "      <td>0</td>\n",
       "      <td>0</td>\n",
       "      <td>0</td>\n",
       "      <td>0</td>\n",
       "      <td>1</td>\n",
       "      <td>0</td>\n",
       "    </tr>\n",
       "    <tr>\n",
       "      <th>258785</th>\n",
       "      <td>0.846154</td>\n",
       "      <td>0.073337</td>\n",
       "      <td>1.000000</td>\n",
       "      <td>0</td>\n",
       "      <td>0</td>\n",
       "      <td>0</td>\n",
       "      <td>0</td>\n",
       "      <td>0</td>\n",
       "      <td>0</td>\n",
       "      <td>0</td>\n",
       "      <td>...</td>\n",
       "      <td>0</td>\n",
       "      <td>0</td>\n",
       "      <td>0</td>\n",
       "      <td>0</td>\n",
       "      <td>0</td>\n",
       "      <td>0</td>\n",
       "      <td>0</td>\n",
       "      <td>0</td>\n",
       "      <td>1</td>\n",
       "      <td>0</td>\n",
       "    </tr>\n",
       "    <tr>\n",
       "      <th>74017</th>\n",
       "      <td>0.892308</td>\n",
       "      <td>0.038658</td>\n",
       "      <td>0.655172</td>\n",
       "      <td>0</td>\n",
       "      <td>0</td>\n",
       "      <td>0</td>\n",
       "      <td>0</td>\n",
       "      <td>0</td>\n",
       "      <td>0</td>\n",
       "      <td>0</td>\n",
       "      <td>...</td>\n",
       "      <td>0</td>\n",
       "      <td>0</td>\n",
       "      <td>0</td>\n",
       "      <td>0</td>\n",
       "      <td>0</td>\n",
       "      <td>0</td>\n",
       "      <td>0</td>\n",
       "      <td>0</td>\n",
       "      <td>0</td>\n",
       "      <td>0</td>\n",
       "    </tr>\n",
       "    <tr>\n",
       "      <th>144701</th>\n",
       "      <td>0.676923</td>\n",
       "      <td>0.034110</td>\n",
       "      <td>1.000000</td>\n",
       "      <td>0</td>\n",
       "      <td>0</td>\n",
       "      <td>0</td>\n",
       "      <td>0</td>\n",
       "      <td>0</td>\n",
       "      <td>0</td>\n",
       "      <td>0</td>\n",
       "      <td>...</td>\n",
       "      <td>0</td>\n",
       "      <td>0</td>\n",
       "      <td>0</td>\n",
       "      <td>0</td>\n",
       "      <td>0</td>\n",
       "      <td>0</td>\n",
       "      <td>0</td>\n",
       "      <td>0</td>\n",
       "      <td>0</td>\n",
       "      <td>0</td>\n",
       "    </tr>\n",
       "    <tr>\n",
       "      <th>105684</th>\n",
       "      <td>0.784615</td>\n",
       "      <td>0.005117</td>\n",
       "      <td>1.000000</td>\n",
       "      <td>0</td>\n",
       "      <td>0</td>\n",
       "      <td>0</td>\n",
       "      <td>0</td>\n",
       "      <td>0</td>\n",
       "      <td>1</td>\n",
       "      <td>0</td>\n",
       "      <td>...</td>\n",
       "      <td>0</td>\n",
       "      <td>0</td>\n",
       "      <td>0</td>\n",
       "      <td>0</td>\n",
       "      <td>0</td>\n",
       "      <td>0</td>\n",
       "      <td>0</td>\n",
       "      <td>0</td>\n",
       "      <td>1</td>\n",
       "      <td>0</td>\n",
       "    </tr>\n",
       "    <tr>\n",
       "      <th>68583</th>\n",
       "      <td>0.815385</td>\n",
       "      <td>0.034679</td>\n",
       "      <td>0.827586</td>\n",
       "      <td>1</td>\n",
       "      <td>0</td>\n",
       "      <td>0</td>\n",
       "      <td>0</td>\n",
       "      <td>0</td>\n",
       "      <td>1</td>\n",
       "      <td>0</td>\n",
       "      <td>...</td>\n",
       "      <td>0</td>\n",
       "      <td>0</td>\n",
       "      <td>0</td>\n",
       "      <td>0</td>\n",
       "      <td>0</td>\n",
       "      <td>0</td>\n",
       "      <td>0</td>\n",
       "      <td>0</td>\n",
       "      <td>1</td>\n",
       "      <td>0</td>\n",
       "    </tr>\n",
       "    <tr>\n",
       "      <th>183989</th>\n",
       "      <td>0.861538</td>\n",
       "      <td>0.069358</td>\n",
       "      <td>1.000000</td>\n",
       "      <td>0</td>\n",
       "      <td>0</td>\n",
       "      <td>0</td>\n",
       "      <td>0</td>\n",
       "      <td>1</td>\n",
       "      <td>0</td>\n",
       "      <td>0</td>\n",
       "      <td>...</td>\n",
       "      <td>0</td>\n",
       "      <td>0</td>\n",
       "      <td>0</td>\n",
       "      <td>0</td>\n",
       "      <td>0</td>\n",
       "      <td>0</td>\n",
       "      <td>0</td>\n",
       "      <td>0</td>\n",
       "      <td>0</td>\n",
       "      <td>0</td>\n",
       "    </tr>\n",
       "    <tr>\n",
       "      <th>116988</th>\n",
       "      <td>0.846154</td>\n",
       "      <td>0.061967</td>\n",
       "      <td>0.655172</td>\n",
       "      <td>0</td>\n",
       "      <td>0</td>\n",
       "      <td>0</td>\n",
       "      <td>0</td>\n",
       "      <td>1</td>\n",
       "      <td>0</td>\n",
       "      <td>0</td>\n",
       "      <td>...</td>\n",
       "      <td>0</td>\n",
       "      <td>0</td>\n",
       "      <td>0</td>\n",
       "      <td>0</td>\n",
       "      <td>0</td>\n",
       "      <td>0</td>\n",
       "      <td>0</td>\n",
       "      <td>0</td>\n",
       "      <td>0</td>\n",
       "      <td>0</td>\n",
       "    </tr>\n",
       "    <tr>\n",
       "      <th>227134</th>\n",
       "      <td>0.815385</td>\n",
       "      <td>0.056282</td>\n",
       "      <td>1.000000</td>\n",
       "      <td>0</td>\n",
       "      <td>0</td>\n",
       "      <td>0</td>\n",
       "      <td>0</td>\n",
       "      <td>1</td>\n",
       "      <td>0</td>\n",
       "      <td>0</td>\n",
       "      <td>...</td>\n",
       "      <td>0</td>\n",
       "      <td>0</td>\n",
       "      <td>0</td>\n",
       "      <td>0</td>\n",
       "      <td>0</td>\n",
       "      <td>0</td>\n",
       "      <td>0</td>\n",
       "      <td>0</td>\n",
       "      <td>1</td>\n",
       "      <td>0</td>\n",
       "    </tr>\n",
       "  </tbody>\n",
       "</table>\n",
       "<p>10 rows × 305 columns</p>\n",
       "</div>"
      ],
      "text/plain": [
       "        registrationyear     power   mileage  notrepaired  \\\n",
       "183554          0.846154  0.050028  1.000000            1   \n",
       "153444          0.969231  0.056282  0.034483            1   \n",
       "258785          0.846154  0.073337  1.000000            0   \n",
       "74017           0.892308  0.038658  0.655172            0   \n",
       "144701          0.676923  0.034110  1.000000            0   \n",
       "105684          0.784615  0.005117  1.000000            0   \n",
       "68583           0.815385  0.034679  0.827586            1   \n",
       "183989          0.861538  0.069358  1.000000            0   \n",
       "116988          0.846154  0.061967  0.655172            0   \n",
       "227134          0.815385  0.056282  1.000000            0   \n",
       "\n",
       "        vehicletype_convertible  vehicletype_coupe  vehicletype_other  \\\n",
       "183554                        0                  0                  0   \n",
       "153444                        0                  0                  0   \n",
       "258785                        0                  0                  0   \n",
       "74017                         0                  0                  0   \n",
       "144701                        0                  0                  0   \n",
       "105684                        0                  0                  0   \n",
       "68583                         0                  0                  0   \n",
       "183989                        0                  0                  0   \n",
       "116988                        0                  0                  0   \n",
       "227134                        0                  0                  0   \n",
       "\n",
       "        vehicletype_sedan  vehicletype_small  vehicletype_suv  ...  \\\n",
       "183554                  0                  0                0  ...   \n",
       "153444                  0                  0                0  ...   \n",
       "258785                  0                  0                0  ...   \n",
       "74017                   0                  0                0  ...   \n",
       "144701                  0                  0                0  ...   \n",
       "105684                  0                  1                0  ...   \n",
       "68583                   0                  1                0  ...   \n",
       "183989                  1                  0                0  ...   \n",
       "116988                  1                  0                0  ...   \n",
       "227134                  1                  0                0  ...   \n",
       "\n",
       "        brand_seat  brand_skoda  brand_smart  brand_sonstige_autos  \\\n",
       "183554           0            0            0                     0   \n",
       "153444           0            0            0                     0   \n",
       "258785           0            0            0                     0   \n",
       "74017            0            0            0                     0   \n",
       "144701           0            0            0                     0   \n",
       "105684           0            0            0                     0   \n",
       "68583            0            0            0                     0   \n",
       "183989           0            0            0                     0   \n",
       "116988           0            0            0                     0   \n",
       "227134           0            0            0                     0   \n",
       "\n",
       "        brand_subaru  brand_suzuki  brand_toyota  brand_trabant  \\\n",
       "183554             0             0             0              0   \n",
       "153444             0             0             0              0   \n",
       "258785             0             0             0              0   \n",
       "74017              0             0             0              0   \n",
       "144701             0             0             0              0   \n",
       "105684             0             0             0              0   \n",
       "68583              0             0             0              0   \n",
       "183989             0             0             0              0   \n",
       "116988             0             0             0              0   \n",
       "227134             0             0             0              0   \n",
       "\n",
       "        brand_volkswagen  brand_volvo  \n",
       "183554                 0            0  \n",
       "153444                 1            0  \n",
       "258785                 1            0  \n",
       "74017                  0            0  \n",
       "144701                 0            0  \n",
       "105684                 1            0  \n",
       "68583                  1            0  \n",
       "183989                 0            0  \n",
       "116988                 0            0  \n",
       "227134                 1            0  \n",
       "\n",
       "[10 rows x 305 columns]"
      ]
     },
     "execution_count": 71,
     "metadata": {},
     "output_type": "execute_result"
    }
   ],
   "source": [
    "#scaling test set\n",
    "features_test[['registrationyear','power','mileage']] = scaler.transform(features_test[['registrationyear','power','mileage']])\n",
    "features_test.sample(10)"
   ]
  },
  {
   "cell_type": "code",
   "execution_count": 72,
   "metadata": {},
   "outputs": [],
   "source": [
    "# split into input (X) and output (y) variables\n",
    "X_train, X_test = features_train.values, features_test.values,\n",
    "y_train, y_test = target_test.values, target_train.values\n"
   ]
  },
  {
   "cell_type": "code",
   "execution_count": 73,
   "metadata": {},
   "outputs": [
    {
     "name": "stdout",
     "output_type": "stream",
     "text": [
      "(225424, 305)\n",
      "(96611, 305)\n",
      "(225424,)\n",
      "(96611,)\n"
     ]
    }
   ],
   "source": [
    "#splitting off training set\n",
    "#X_train, X_test, y_train, y_test = train_test_split(X, y, test_size = 0.3, random_state = 1)\n",
    "\n",
    "#checking correct split\n",
    "for i in [X_train, X_test,  y_train, y_test]:\n",
    "    print(i.shape)"
   ]
  },
  {
   "cell_type": "markdown",
   "metadata": {},
   "source": [
    "## Model training"
   ]
  },
  {
   "cell_type": "code",
   "execution_count": 74,
   "metadata": {},
   "outputs": [
    {
     "name": "stdout",
     "output_type": "stream",
     "text": [
      "Baseline RMSE: 4400.120353634176\n"
     ]
    }
   ],
   "source": [
    "#sanity test\n",
    "mean = y_train.mean()\n",
    "rmse = mean_squared_error(y_test, [mean]* len(y_test), squared = False)\n",
    "print(f'Baseline RMSE: {rmse}')"
   ]
  },
  {
   "cell_type": "markdown",
   "metadata": {},
   "source": [
    "### LinearRegression"
   ]
  },
  {
   "cell_type": "code",
   "execution_count": 75,
   "metadata": {},
   "outputs": [
    {
     "name": "stdout",
     "output_type": "stream",
     "text": [
      "Linear Regression RMSE: 2641.2976744708394\n",
      "CPU times: user 38.3 s, sys: 45.8 s, total: 1min 24s\n",
      "Wall time: 1min 24s\n"
     ]
    }
   ],
   "source": [
    "%%time\n",
    "model = LinearRegression()\n",
    "model.fit(X_train, y_train)\n",
    "predictions = model.predict(X_test)\n",
    "rmse = mean_squared_error(y_test, predictions, squared = False)\n",
    "print(f'Linear Regression RMSE: {rmse}')"
   ]
  },
  {
   "cell_type": "markdown",
   "metadata": {},
   "source": [
    "We now have a baseline scores, let's compare other model against it.\n",
    "\n",
    "For each model we'll perform 5-fold cross validation for different combinations of parameters, then compare the models' performance and speed."
   ]
  },
  {
   "cell_type": "markdown",
   "metadata": {},
   "source": [
    "### LightGBM"
   ]
  },
  {
   "cell_type": "code",
   "execution_count": 76,
   "metadata": {},
   "outputs": [],
   "source": [
    "#parameters to test\n",
    "parameters = {\n",
    "    'n_estimators': [50,100,300],\n",
    "    'learning_rate':[0.05, 0.1],\n",
    "    'max_depth' :[5,7,10]\n",
    "    }\n"
   ]
  },
  {
   "cell_type": "code",
   "execution_count": 77,
   "metadata": {
    "scrolled": true
   },
   "outputs": [
    {
     "name": "stdout",
     "output_type": "stream",
     "text": [
      "Fitting 5 folds for each of 18 candidates, totalling 90 fits\n",
      "[CV] END ...learning_rate=0.05, max_depth=5, n_estimators=50; total time= 2.3min\n",
      "[CV] END ...learning_rate=0.05, max_depth=5, n_estimators=50; total time= 2.6min\n",
      "[CV] END ...learning_rate=0.05, max_depth=5, n_estimators=50; total time=  25.2s\n",
      "[CV] END ...learning_rate=0.05, max_depth=5, n_estimators=50; total time=  21.8s\n",
      "[CV] END ...learning_rate=0.05, max_depth=5, n_estimators=50; total time=  21.8s\n",
      "[CV] END ..learning_rate=0.05, max_depth=5, n_estimators=100; total time=  36.8s\n",
      "[CV] END ..learning_rate=0.05, max_depth=5, n_estimators=100; total time=  38.1s\n",
      "[CV] END ..learning_rate=0.05, max_depth=5, n_estimators=100; total time= 1.6min\n",
      "[CV] END ..learning_rate=0.05, max_depth=5, n_estimators=100; total time= 1.9min\n",
      "[CV] END ..learning_rate=0.05, max_depth=5, n_estimators=100; total time= 1.0min\n",
      "[CV] END ..learning_rate=0.05, max_depth=5, n_estimators=300; total time= 1.5min\n",
      "[CV] END ..learning_rate=0.05, max_depth=5, n_estimators=300; total time= 1.4min\n",
      "[CV] END ..learning_rate=0.05, max_depth=5, n_estimators=300; total time= 2.3min\n",
      "[CV] END ..learning_rate=0.05, max_depth=5, n_estimators=300; total time= 2.1min\n",
      "[CV] END ..learning_rate=0.05, max_depth=5, n_estimators=300; total time= 3.2min\n",
      "[CV] END ...learning_rate=0.05, max_depth=7, n_estimators=50; total time= 1.1min\n",
      "[CV] END ...learning_rate=0.05, max_depth=7, n_estimators=50; total time=  29.3s\n",
      "[CV] END ...learning_rate=0.05, max_depth=7, n_estimators=50; total time=  28.1s\n",
      "[CV] END ...learning_rate=0.05, max_depth=7, n_estimators=50; total time= 3.0min\n",
      "[CV] END ...learning_rate=0.05, max_depth=7, n_estimators=50; total time= 2.9min\n",
      "[CV] END ..learning_rate=0.05, max_depth=7, n_estimators=100; total time= 2.6min\n",
      "[CV] END ..learning_rate=0.05, max_depth=7, n_estimators=100; total time=  55.3s\n",
      "[CV] END ..learning_rate=0.05, max_depth=7, n_estimators=100; total time= 1.8min\n",
      "[CV] END ..learning_rate=0.05, max_depth=7, n_estimators=100; total time= 1.2min\n",
      "[CV] END ..learning_rate=0.05, max_depth=7, n_estimators=100; total time=  48.6s\n",
      "[CV] END ..learning_rate=0.05, max_depth=7, n_estimators=300; total time= 2.6min\n",
      "[CV] END ..learning_rate=0.05, max_depth=7, n_estimators=300; total time= 3.3min\n",
      "[CV] END ..learning_rate=0.05, max_depth=7, n_estimators=300; total time= 3.4min\n",
      "[CV] END ..learning_rate=0.05, max_depth=7, n_estimators=300; total time= 7.9min\n",
      "[CV] END ..learning_rate=0.05, max_depth=7, n_estimators=300; total time=10.7min\n",
      "[CV] END ..learning_rate=0.05, max_depth=10, n_estimators=50; total time= 1.6min\n",
      "[CV] END ..learning_rate=0.05, max_depth=10, n_estimators=50; total time=  27.6s\n",
      "[CV] END ..learning_rate=0.05, max_depth=10, n_estimators=50; total time=  57.9s\n",
      "[CV] END ..learning_rate=0.05, max_depth=10, n_estimators=50; total time=  30.6s\n",
      "[CV] END ..learning_rate=0.05, max_depth=10, n_estimators=50; total time=  27.8s\n",
      "[CV] END .learning_rate=0.05, max_depth=10, n_estimators=100; total time= 1.3min\n",
      "[CV] END .learning_rate=0.05, max_depth=10, n_estimators=100; total time= 1.1min\n",
      "[CV] END .learning_rate=0.05, max_depth=10, n_estimators=100; total time=  49.4s\n",
      "[CV] END .learning_rate=0.05, max_depth=10, n_estimators=100; total time=  57.9s\n",
      "[CV] END .learning_rate=0.05, max_depth=10, n_estimators=100; total time= 1.6min\n",
      "[CV] END .learning_rate=0.05, max_depth=10, n_estimators=300; total time= 7.2min\n",
      "[CV] END .learning_rate=0.05, max_depth=10, n_estimators=300; total time= 2.1min\n",
      "[CV] END .learning_rate=0.05, max_depth=10, n_estimators=300; total time= 2.4min\n",
      "[CV] END .learning_rate=0.05, max_depth=10, n_estimators=300; total time= 4.1min\n",
      "[CV] END .learning_rate=0.05, max_depth=10, n_estimators=300; total time=14.8min\n",
      "[CV] END ....learning_rate=0.1, max_depth=5, n_estimators=50; total time= 2.4min\n",
      "[CV] END ....learning_rate=0.1, max_depth=5, n_estimators=50; total time= 2.2min\n",
      "[CV] END ....learning_rate=0.1, max_depth=5, n_estimators=50; total time= 2.6min\n",
      "[CV] END ....learning_rate=0.1, max_depth=5, n_estimators=50; total time= 2.4min\n",
      "[CV] END ....learning_rate=0.1, max_depth=5, n_estimators=50; total time= 2.4min\n",
      "[CV] END ...learning_rate=0.1, max_depth=5, n_estimators=100; total time= 4.1min\n",
      "[CV] END ...learning_rate=0.1, max_depth=5, n_estimators=100; total time= 5.1min\n",
      "[CV] END ...learning_rate=0.1, max_depth=5, n_estimators=100; total time= 4.2min\n",
      "[CV] END ...learning_rate=0.1, max_depth=5, n_estimators=100; total time= 4.3min\n",
      "[CV] END ...learning_rate=0.1, max_depth=5, n_estimators=100; total time= 4.2min\n",
      "[CV] END ...learning_rate=0.1, max_depth=5, n_estimators=300; total time=11.1min\n",
      "[CV] END ...learning_rate=0.1, max_depth=5, n_estimators=300; total time=11.1min\n",
      "[CV] END ...learning_rate=0.1, max_depth=5, n_estimators=300; total time=10.5min\n",
      "[CV] END ...learning_rate=0.1, max_depth=5, n_estimators=300; total time= 9.9min\n",
      "[CV] END ...learning_rate=0.1, max_depth=5, n_estimators=300; total time=10.9min\n",
      "[CV] END ....learning_rate=0.1, max_depth=7, n_estimators=50; total time= 3.0min\n",
      "[CV] END ....learning_rate=0.1, max_depth=7, n_estimators=50; total time= 3.8min\n",
      "[CV] END ....learning_rate=0.1, max_depth=7, n_estimators=50; total time= 3.0min\n",
      "[CV] END ....learning_rate=0.1, max_depth=7, n_estimators=50; total time= 3.0min\n",
      "[CV] END ....learning_rate=0.1, max_depth=7, n_estimators=50; total time= 3.0min\n",
      "[CV] END ...learning_rate=0.1, max_depth=7, n_estimators=100; total time= 1.3min\n",
      "[CV] END ...learning_rate=0.1, max_depth=7, n_estimators=100; total time=  47.3s\n",
      "[CV] END ...learning_rate=0.1, max_depth=7, n_estimators=100; total time=  59.3s\n",
      "[CV] END ...learning_rate=0.1, max_depth=7, n_estimators=100; total time= 1.4min\n",
      "[CV] END ...learning_rate=0.1, max_depth=7, n_estimators=100; total time=  41.6s\n",
      "[CV] END ...learning_rate=0.1, max_depth=7, n_estimators=300; total time= 2.1min\n",
      "[CV] END ...learning_rate=0.1, max_depth=7, n_estimators=300; total time= 1.8min\n",
      "[CV] END ...learning_rate=0.1, max_depth=7, n_estimators=300; total time= 1.6min\n",
      "[CV] END ...learning_rate=0.1, max_depth=7, n_estimators=300; total time= 1.7min\n",
      "[CV] END ...learning_rate=0.1, max_depth=7, n_estimators=300; total time= 1.9min\n",
      "[CV] END ...learning_rate=0.1, max_depth=10, n_estimators=50; total time=  24.9s\n",
      "[CV] END ...learning_rate=0.1, max_depth=10, n_estimators=50; total time=  26.6s\n",
      "[CV] END ...learning_rate=0.1, max_depth=10, n_estimators=50; total time=  27.6s\n",
      "[CV] END ...learning_rate=0.1, max_depth=10, n_estimators=50; total time=  32.6s\n",
      "[CV] END ...learning_rate=0.1, max_depth=10, n_estimators=50; total time=  24.7s\n",
      "[CV] END ..learning_rate=0.1, max_depth=10, n_estimators=100; total time=  50.7s\n",
      "[CV] END ..learning_rate=0.1, max_depth=10, n_estimators=100; total time=  47.1s\n",
      "[CV] END ..learning_rate=0.1, max_depth=10, n_estimators=100; total time=  40.4s\n",
      "[CV] END ..learning_rate=0.1, max_depth=10, n_estimators=100; total time=  47.8s\n",
      "[CV] END ..learning_rate=0.1, max_depth=10, n_estimators=100; total time=  57.7s\n",
      "[CV] END ..learning_rate=0.1, max_depth=10, n_estimators=300; total time= 2.3min\n",
      "[CV] END ..learning_rate=0.1, max_depth=10, n_estimators=300; total time= 1.9min\n",
      "[CV] END ..learning_rate=0.1, max_depth=10, n_estimators=300; total time= 1.9min\n",
      "[CV] END ..learning_rate=0.1, max_depth=10, n_estimators=300; total time= 8.3min\n",
      "[CV] END ..learning_rate=0.1, max_depth=10, n_estimators=300; total time= 8.2min\n"
     ]
    }
   ],
   "source": [
    "#performing 5-fold CV\n",
    "model = lgb.LGBMRegressor()\n",
    "gsearch_lgb = GridSearchCV(model, param_grid = parameters, n_jobs=-1, scoring = 'neg_root_mean_squared_error', verbose=2)\n",
    "gsearch_lgb.fit(X_train,y_train)\n",
    "lgb_results = pd.DataFrame(gsearch_lgb.cv_results_)\n"
   ]
  },
  {
   "cell_type": "code",
   "execution_count": 78,
   "metadata": {
    "scrolled": true
   },
   "outputs": [
    {
     "data": {
      "text/html": [
       "<div>\n",
       "<style scoped>\n",
       "    .dataframe tbody tr th:only-of-type {\n",
       "        vertical-align: middle;\n",
       "    }\n",
       "\n",
       "    .dataframe tbody tr th {\n",
       "        vertical-align: top;\n",
       "    }\n",
       "\n",
       "    .dataframe thead th {\n",
       "        text-align: right;\n",
       "    }\n",
       "</style>\n",
       "<table border=\"1\" class=\"dataframe\">\n",
       "  <thead>\n",
       "    <tr style=\"text-align: right;\">\n",
       "      <th></th>\n",
       "      <th>mean_fit_time</th>\n",
       "      <th>std_fit_time</th>\n",
       "      <th>mean_score_time</th>\n",
       "      <th>std_score_time</th>\n",
       "      <th>param_learning_rate</th>\n",
       "      <th>param_max_depth</th>\n",
       "      <th>param_n_estimators</th>\n",
       "      <th>params</th>\n",
       "      <th>split0_test_score</th>\n",
       "      <th>split1_test_score</th>\n",
       "      <th>split2_test_score</th>\n",
       "      <th>split3_test_score</th>\n",
       "      <th>split4_test_score</th>\n",
       "      <th>mean_test_score</th>\n",
       "      <th>std_test_score</th>\n",
       "      <th>rank_test_score</th>\n",
       "    </tr>\n",
       "  </thead>\n",
       "  <tbody>\n",
       "    <tr>\n",
       "      <th>17</th>\n",
       "      <td>271.193309</td>\n",
       "      <td>182.030527</td>\n",
       "      <td>1.010564</td>\n",
       "      <td>0.056522</td>\n",
       "      <td>0.1</td>\n",
       "      <td>10</td>\n",
       "      <td>300</td>\n",
       "      <td>{'learning_rate': 0.1, 'max_depth': 10, 'n_est...</td>\n",
       "      <td>-1693.771706</td>\n",
       "      <td>-1702.533732</td>\n",
       "      <td>-1713.202265</td>\n",
       "      <td>-1667.566641</td>\n",
       "      <td>-1674.750049</td>\n",
       "      <td>-1690.364879</td>\n",
       "      <td>16.998919</td>\n",
       "      <td>1</td>\n",
       "    </tr>\n",
       "    <tr>\n",
       "      <th>14</th>\n",
       "      <td>109.976430</td>\n",
       "      <td>10.236809</td>\n",
       "      <td>0.924287</td>\n",
       "      <td>0.033571</td>\n",
       "      <td>0.1</td>\n",
       "      <td>7</td>\n",
       "      <td>300</td>\n",
       "      <td>{'learning_rate': 0.1, 'max_depth': 7, 'n_esti...</td>\n",
       "      <td>-1705.471058</td>\n",
       "      <td>-1715.393227</td>\n",
       "      <td>-1729.268048</td>\n",
       "      <td>-1678.905510</td>\n",
       "      <td>-1695.268191</td>\n",
       "      <td>-1704.861207</td>\n",
       "      <td>17.162246</td>\n",
       "      <td>2</td>\n",
       "    </tr>\n",
       "    <tr>\n",
       "      <th>8</th>\n",
       "      <td>365.812191</td>\n",
       "      <td>282.132711</td>\n",
       "      <td>1.134002</td>\n",
       "      <td>0.036279</td>\n",
       "      <td>0.05</td>\n",
       "      <td>10</td>\n",
       "      <td>300</td>\n",
       "      <td>{'learning_rate': 0.05, 'max_depth': 10, 'n_es...</td>\n",
       "      <td>-1728.738220</td>\n",
       "      <td>-1739.141655</td>\n",
       "      <td>-1750.133510</td>\n",
       "      <td>-1704.295539</td>\n",
       "      <td>-1713.094832</td>\n",
       "      <td>-1727.080751</td>\n",
       "      <td>16.699785</td>\n",
       "      <td>3</td>\n",
       "    </tr>\n",
       "    <tr>\n",
       "      <th>11</th>\n",
       "      <td>642.517564</td>\n",
       "      <td>26.604700</td>\n",
       "      <td>0.780579</td>\n",
       "      <td>0.027326</td>\n",
       "      <td>0.1</td>\n",
       "      <td>5</td>\n",
       "      <td>300</td>\n",
       "      <td>{'learning_rate': 0.1, 'max_depth': 5, 'n_esti...</td>\n",
       "      <td>-1734.477870</td>\n",
       "      <td>-1750.757071</td>\n",
       "      <td>-1761.546827</td>\n",
       "      <td>-1712.736246</td>\n",
       "      <td>-1727.706556</td>\n",
       "      <td>-1737.444914</td>\n",
       "      <td>17.159680</td>\n",
       "      <td>4</td>\n",
       "    </tr>\n",
       "    <tr>\n",
       "      <th>5</th>\n",
       "      <td>332.417311</td>\n",
       "      <td>190.171148</td>\n",
       "      <td>0.985883</td>\n",
       "      <td>0.035626</td>\n",
       "      <td>0.05</td>\n",
       "      <td>7</td>\n",
       "      <td>300</td>\n",
       "      <td>{'learning_rate': 0.05, 'max_depth': 7, 'n_est...</td>\n",
       "      <td>-1738.895079</td>\n",
       "      <td>-1756.035148</td>\n",
       "      <td>-1765.422763</td>\n",
       "      <td>-1718.794557</td>\n",
       "      <td>-1731.869280</td>\n",
       "      <td>-1742.203365</td>\n",
       "      <td>16.710290</td>\n",
       "      <td>5</td>\n",
       "    </tr>\n",
       "    <tr>\n",
       "      <th>16</th>\n",
       "      <td>48.293679</td>\n",
       "      <td>5.583282</td>\n",
       "      <td>0.448215</td>\n",
       "      <td>0.035107</td>\n",
       "      <td>0.1</td>\n",
       "      <td>10</td>\n",
       "      <td>100</td>\n",
       "      <td>{'learning_rate': 0.1, 'max_depth': 10, 'n_est...</td>\n",
       "      <td>-1755.091743</td>\n",
       "      <td>-1767.318525</td>\n",
       "      <td>-1776.971829</td>\n",
       "      <td>-1733.295486</td>\n",
       "      <td>-1744.061638</td>\n",
       "      <td>-1755.347844</td>\n",
       "      <td>15.650204</td>\n",
       "      <td>6</td>\n",
       "    </tr>\n",
       "    <tr>\n",
       "      <th>13</th>\n",
       "      <td>61.634876</td>\n",
       "      <td>16.517707</td>\n",
       "      <td>0.403863</td>\n",
       "      <td>0.004831</td>\n",
       "      <td>0.1</td>\n",
       "      <td>7</td>\n",
       "      <td>100</td>\n",
       "      <td>{'learning_rate': 0.1, 'max_depth': 7, 'n_esti...</td>\n",
       "      <td>-1768.585782</td>\n",
       "      <td>-1779.234909</td>\n",
       "      <td>-1792.829538</td>\n",
       "      <td>-1742.692315</td>\n",
       "      <td>-1757.687583</td>\n",
       "      <td>-1768.206026</td>\n",
       "      <td>17.260851</td>\n",
       "      <td>7</td>\n",
       "    </tr>\n",
       "    <tr>\n",
       "      <th>2</th>\n",
       "      <td>124.919418</td>\n",
       "      <td>37.525929</td>\n",
       "      <td>0.819736</td>\n",
       "      <td>0.063127</td>\n",
       "      <td>0.05</td>\n",
       "      <td>5</td>\n",
       "      <td>300</td>\n",
       "      <td>{'learning_rate': 0.05, 'max_depth': 5, 'n_est...</td>\n",
       "      <td>-1775.553508</td>\n",
       "      <td>-1792.989355</td>\n",
       "      <td>-1802.531682</td>\n",
       "      <td>-1755.911053</td>\n",
       "      <td>-1767.671281</td>\n",
       "      <td>-1778.931376</td>\n",
       "      <td>16.868528</td>\n",
       "      <td>8</td>\n",
       "    </tr>\n",
       "    <tr>\n",
       "      <th>10</th>\n",
       "      <td>263.435093</td>\n",
       "      <td>22.334458</td>\n",
       "      <td>0.343971</td>\n",
       "      <td>0.034608</td>\n",
       "      <td>0.1</td>\n",
       "      <td>5</td>\n",
       "      <td>100</td>\n",
       "      <td>{'learning_rate': 0.1, 'max_depth': 5, 'n_esti...</td>\n",
       "      <td>-1803.665614</td>\n",
       "      <td>-1817.557586</td>\n",
       "      <td>-1828.944962</td>\n",
       "      <td>-1781.594420</td>\n",
       "      <td>-1798.182454</td>\n",
       "      <td>-1805.989007</td>\n",
       "      <td>16.261883</td>\n",
       "      <td>9</td>\n",
       "    </tr>\n",
       "    <tr>\n",
       "      <th>7</th>\n",
       "      <td>68.550353</td>\n",
       "      <td>15.840026</td>\n",
       "      <td>0.465699</td>\n",
       "      <td>0.036125</td>\n",
       "      <td>0.05</td>\n",
       "      <td>10</td>\n",
       "      <td>100</td>\n",
       "      <td>{'learning_rate': 0.05, 'max_depth': 10, 'n_es...</td>\n",
       "      <td>-1816.401053</td>\n",
       "      <td>-1831.249823</td>\n",
       "      <td>-1840.727127</td>\n",
       "      <td>-1792.189325</td>\n",
       "      <td>-1809.013502</td>\n",
       "      <td>-1817.916166</td>\n",
       "      <td>16.979692</td>\n",
       "      <td>10</td>\n",
       "    </tr>\n",
       "    <tr>\n",
       "      <th>15</th>\n",
       "      <td>26.982150</td>\n",
       "      <td>2.869148</td>\n",
       "      <td>0.297529</td>\n",
       "      <td>0.000695</td>\n",
       "      <td>0.1</td>\n",
       "      <td>10</td>\n",
       "      <td>50</td>\n",
       "      <td>{'learning_rate': 0.1, 'max_depth': 10, 'n_est...</td>\n",
       "      <td>-1816.150363</td>\n",
       "      <td>-1833.553837</td>\n",
       "      <td>-1839.365544</td>\n",
       "      <td>-1797.250023</td>\n",
       "      <td>-1806.864154</td>\n",
       "      <td>-1818.636784</td>\n",
       "      <td>15.839006</td>\n",
       "      <td>11</td>\n",
       "    </tr>\n",
       "    <tr>\n",
       "      <th>4</th>\n",
       "      <td>88.373175</td>\n",
       "      <td>39.624105</td>\n",
       "      <td>0.424189</td>\n",
       "      <td>0.031434</td>\n",
       "      <td>0.05</td>\n",
       "      <td>7</td>\n",
       "      <td>100</td>\n",
       "      <td>{'learning_rate': 0.05, 'max_depth': 7, 'n_est...</td>\n",
       "      <td>-1823.768765</td>\n",
       "      <td>-1841.294574</td>\n",
       "      <td>-1847.201464</td>\n",
       "      <td>-1801.411283</td>\n",
       "      <td>-1819.032037</td>\n",
       "      <td>-1826.541625</td>\n",
       "      <td>16.371287</td>\n",
       "      <td>12</td>\n",
       "    </tr>\n",
       "    <tr>\n",
       "      <th>12</th>\n",
       "      <td>188.397945</td>\n",
       "      <td>18.618719</td>\n",
       "      <td>0.298416</td>\n",
       "      <td>0.004241</td>\n",
       "      <td>0.1</td>\n",
       "      <td>7</td>\n",
       "      <td>50</td>\n",
       "      <td>{'learning_rate': 0.1, 'max_depth': 7, 'n_esti...</td>\n",
       "      <td>-1828.405595</td>\n",
       "      <td>-1842.297770</td>\n",
       "      <td>-1851.805318</td>\n",
       "      <td>-1801.487345</td>\n",
       "      <td>-1821.391107</td>\n",
       "      <td>-1829.077427</td>\n",
       "      <td>17.390101</td>\n",
       "      <td>13</td>\n",
       "    </tr>\n",
       "    <tr>\n",
       "      <th>9</th>\n",
       "      <td>143.757251</td>\n",
       "      <td>6.992542</td>\n",
       "      <td>0.255342</td>\n",
       "      <td>0.034308</td>\n",
       "      <td>0.1</td>\n",
       "      <td>5</td>\n",
       "      <td>50</td>\n",
       "      <td>{'learning_rate': 0.1, 'max_depth': 5, 'n_esti...</td>\n",
       "      <td>-1868.771831</td>\n",
       "      <td>-1886.791491</td>\n",
       "      <td>-1893.344544</td>\n",
       "      <td>-1847.016620</td>\n",
       "      <td>-1864.285534</td>\n",
       "      <td>-1872.042004</td>\n",
       "      <td>16.543713</td>\n",
       "      <td>14</td>\n",
       "    </tr>\n",
       "    <tr>\n",
       "      <th>1</th>\n",
       "      <td>67.791665</td>\n",
       "      <td>29.931347</td>\n",
       "      <td>0.381774</td>\n",
       "      <td>0.032563</td>\n",
       "      <td>0.05</td>\n",
       "      <td>5</td>\n",
       "      <td>100</td>\n",
       "      <td>{'learning_rate': 0.05, 'max_depth': 5, 'n_est...</td>\n",
       "      <td>-1871.797047</td>\n",
       "      <td>-1886.594929</td>\n",
       "      <td>-1893.627757</td>\n",
       "      <td>-1849.531633</td>\n",
       "      <td>-1867.850809</td>\n",
       "      <td>-1873.880435</td>\n",
       "      <td>15.395948</td>\n",
       "      <td>15</td>\n",
       "    </tr>\n",
       "    <tr>\n",
       "      <th>6</th>\n",
       "      <td>47.793367</td>\n",
       "      <td>26.771526</td>\n",
       "      <td>0.278756</td>\n",
       "      <td>0.034024</td>\n",
       "      <td>0.05</td>\n",
       "      <td>10</td>\n",
       "      <td>50</td>\n",
       "      <td>{'learning_rate': 0.05, 'max_depth': 10, 'n_es...</td>\n",
       "      <td>-1996.427460</td>\n",
       "      <td>-2003.747113</td>\n",
       "      <td>-2015.048607</td>\n",
       "      <td>-1971.697882</td>\n",
       "      <td>-1996.047842</td>\n",
       "      <td>-1996.593781</td>\n",
       "      <td>14.225908</td>\n",
       "      <td>16</td>\n",
       "    </tr>\n",
       "    <tr>\n",
       "      <th>3</th>\n",
       "      <td>94.922929</td>\n",
       "      <td>67.999453</td>\n",
       "      <td>0.299636</td>\n",
       "      <td>0.003406</td>\n",
       "      <td>0.05</td>\n",
       "      <td>7</td>\n",
       "      <td>50</td>\n",
       "      <td>{'learning_rate': 0.05, 'max_depth': 7, 'n_est...</td>\n",
       "      <td>-2002.984151</td>\n",
       "      <td>-2014.880921</td>\n",
       "      <td>-2021.230496</td>\n",
       "      <td>-1979.528498</td>\n",
       "      <td>-2003.175907</td>\n",
       "      <td>-2004.359995</td>\n",
       "      <td>14.249224</td>\n",
       "      <td>17</td>\n",
       "    </tr>\n",
       "    <tr>\n",
       "      <th>0</th>\n",
       "      <td>72.579066</td>\n",
       "      <td>61.384082</td>\n",
       "      <td>0.241321</td>\n",
       "      <td>0.034366</td>\n",
       "      <td>0.05</td>\n",
       "      <td>5</td>\n",
       "      <td>50</td>\n",
       "      <td>{'learning_rate': 0.05, 'max_depth': 5, 'n_est...</td>\n",
       "      <td>-2062.908429</td>\n",
       "      <td>-2069.915790</td>\n",
       "      <td>-2078.784978</td>\n",
       "      <td>-2040.833717</td>\n",
       "      <td>-2064.327072</td>\n",
       "      <td>-2063.353997</td>\n",
       "      <td>12.565673</td>\n",
       "      <td>18</td>\n",
       "    </tr>\n",
       "  </tbody>\n",
       "</table>\n",
       "</div>"
      ],
      "text/plain": [
       "    mean_fit_time  std_fit_time  mean_score_time  std_score_time  \\\n",
       "17     271.193309    182.030527         1.010564        0.056522   \n",
       "14     109.976430     10.236809         0.924287        0.033571   \n",
       "8      365.812191    282.132711         1.134002        0.036279   \n",
       "11     642.517564     26.604700         0.780579        0.027326   \n",
       "5      332.417311    190.171148         0.985883        0.035626   \n",
       "16      48.293679      5.583282         0.448215        0.035107   \n",
       "13      61.634876     16.517707         0.403863        0.004831   \n",
       "2      124.919418     37.525929         0.819736        0.063127   \n",
       "10     263.435093     22.334458         0.343971        0.034608   \n",
       "7       68.550353     15.840026         0.465699        0.036125   \n",
       "15      26.982150      2.869148         0.297529        0.000695   \n",
       "4       88.373175     39.624105         0.424189        0.031434   \n",
       "12     188.397945     18.618719         0.298416        0.004241   \n",
       "9      143.757251      6.992542         0.255342        0.034308   \n",
       "1       67.791665     29.931347         0.381774        0.032563   \n",
       "6       47.793367     26.771526         0.278756        0.034024   \n",
       "3       94.922929     67.999453         0.299636        0.003406   \n",
       "0       72.579066     61.384082         0.241321        0.034366   \n",
       "\n",
       "   param_learning_rate param_max_depth param_n_estimators  \\\n",
       "17                 0.1              10                300   \n",
       "14                 0.1               7                300   \n",
       "8                 0.05              10                300   \n",
       "11                 0.1               5                300   \n",
       "5                 0.05               7                300   \n",
       "16                 0.1              10                100   \n",
       "13                 0.1               7                100   \n",
       "2                 0.05               5                300   \n",
       "10                 0.1               5                100   \n",
       "7                 0.05              10                100   \n",
       "15                 0.1              10                 50   \n",
       "4                 0.05               7                100   \n",
       "12                 0.1               7                 50   \n",
       "9                  0.1               5                 50   \n",
       "1                 0.05               5                100   \n",
       "6                 0.05              10                 50   \n",
       "3                 0.05               7                 50   \n",
       "0                 0.05               5                 50   \n",
       "\n",
       "                                               params  split0_test_score  \\\n",
       "17  {'learning_rate': 0.1, 'max_depth': 10, 'n_est...       -1693.771706   \n",
       "14  {'learning_rate': 0.1, 'max_depth': 7, 'n_esti...       -1705.471058   \n",
       "8   {'learning_rate': 0.05, 'max_depth': 10, 'n_es...       -1728.738220   \n",
       "11  {'learning_rate': 0.1, 'max_depth': 5, 'n_esti...       -1734.477870   \n",
       "5   {'learning_rate': 0.05, 'max_depth': 7, 'n_est...       -1738.895079   \n",
       "16  {'learning_rate': 0.1, 'max_depth': 10, 'n_est...       -1755.091743   \n",
       "13  {'learning_rate': 0.1, 'max_depth': 7, 'n_esti...       -1768.585782   \n",
       "2   {'learning_rate': 0.05, 'max_depth': 5, 'n_est...       -1775.553508   \n",
       "10  {'learning_rate': 0.1, 'max_depth': 5, 'n_esti...       -1803.665614   \n",
       "7   {'learning_rate': 0.05, 'max_depth': 10, 'n_es...       -1816.401053   \n",
       "15  {'learning_rate': 0.1, 'max_depth': 10, 'n_est...       -1816.150363   \n",
       "4   {'learning_rate': 0.05, 'max_depth': 7, 'n_est...       -1823.768765   \n",
       "12  {'learning_rate': 0.1, 'max_depth': 7, 'n_esti...       -1828.405595   \n",
       "9   {'learning_rate': 0.1, 'max_depth': 5, 'n_esti...       -1868.771831   \n",
       "1   {'learning_rate': 0.05, 'max_depth': 5, 'n_est...       -1871.797047   \n",
       "6   {'learning_rate': 0.05, 'max_depth': 10, 'n_es...       -1996.427460   \n",
       "3   {'learning_rate': 0.05, 'max_depth': 7, 'n_est...       -2002.984151   \n",
       "0   {'learning_rate': 0.05, 'max_depth': 5, 'n_est...       -2062.908429   \n",
       "\n",
       "    split1_test_score  split2_test_score  split3_test_score  \\\n",
       "17       -1702.533732       -1713.202265       -1667.566641   \n",
       "14       -1715.393227       -1729.268048       -1678.905510   \n",
       "8        -1739.141655       -1750.133510       -1704.295539   \n",
       "11       -1750.757071       -1761.546827       -1712.736246   \n",
       "5        -1756.035148       -1765.422763       -1718.794557   \n",
       "16       -1767.318525       -1776.971829       -1733.295486   \n",
       "13       -1779.234909       -1792.829538       -1742.692315   \n",
       "2        -1792.989355       -1802.531682       -1755.911053   \n",
       "10       -1817.557586       -1828.944962       -1781.594420   \n",
       "7        -1831.249823       -1840.727127       -1792.189325   \n",
       "15       -1833.553837       -1839.365544       -1797.250023   \n",
       "4        -1841.294574       -1847.201464       -1801.411283   \n",
       "12       -1842.297770       -1851.805318       -1801.487345   \n",
       "9        -1886.791491       -1893.344544       -1847.016620   \n",
       "1        -1886.594929       -1893.627757       -1849.531633   \n",
       "6        -2003.747113       -2015.048607       -1971.697882   \n",
       "3        -2014.880921       -2021.230496       -1979.528498   \n",
       "0        -2069.915790       -2078.784978       -2040.833717   \n",
       "\n",
       "    split4_test_score  mean_test_score  std_test_score  rank_test_score  \n",
       "17       -1674.750049     -1690.364879       16.998919                1  \n",
       "14       -1695.268191     -1704.861207       17.162246                2  \n",
       "8        -1713.094832     -1727.080751       16.699785                3  \n",
       "11       -1727.706556     -1737.444914       17.159680                4  \n",
       "5        -1731.869280     -1742.203365       16.710290                5  \n",
       "16       -1744.061638     -1755.347844       15.650204                6  \n",
       "13       -1757.687583     -1768.206026       17.260851                7  \n",
       "2        -1767.671281     -1778.931376       16.868528                8  \n",
       "10       -1798.182454     -1805.989007       16.261883                9  \n",
       "7        -1809.013502     -1817.916166       16.979692               10  \n",
       "15       -1806.864154     -1818.636784       15.839006               11  \n",
       "4        -1819.032037     -1826.541625       16.371287               12  \n",
       "12       -1821.391107     -1829.077427       17.390101               13  \n",
       "9        -1864.285534     -1872.042004       16.543713               14  \n",
       "1        -1867.850809     -1873.880435       15.395948               15  \n",
       "6        -1996.047842     -1996.593781       14.225908               16  \n",
       "3        -2003.175907     -2004.359995       14.249224               17  \n",
       "0        -2064.327072     -2063.353997       12.565673               18  "
      ]
     },
     "execution_count": 78,
     "metadata": {},
     "output_type": "execute_result"
    }
   ],
   "source": [
    "lgb_results.sort_values(by = 'rank_test_score')"
   ]
  },
  {
   "cell_type": "code",
   "execution_count": 81,
   "metadata": {},
   "outputs": [
    {
     "name": "stdout",
     "output_type": "stream",
     "text": [
      " RMSE: 1672.612230\n"
     ]
    }
   ],
   "source": [
    "#checking best score on test set\n",
    "\n",
    "best_model = lgb.LGBMRegressor(**gsearch_lgb.best_params_)\n",
    "preds_lgb_model = gsearch_lgb.predict(X_test)\n",
    "rmse_lgb = np.sqrt(mean_squared_error(y_test, preds_lgb_model))\n",
    "print(\" RMSE: %f\" % (rmse_lgb ))"
   ]
  },
  {
   "cell_type": "markdown",
   "metadata": {},
   "source": [
    "### RandomForest"
   ]
  },
  {
   "cell_type": "code",
   "execution_count": 82,
   "metadata": {},
   "outputs": [],
   "source": [
    "#parameters to test\n",
    "parameters = {\n",
    "    'n_estimators': [50,100,300],\n",
    "    'max_depth' :[5,7,10]\n",
    "    }\n"
   ]
  },
  {
   "cell_type": "code",
   "execution_count": 83,
   "metadata": {
    "scrolled": true
   },
   "outputs": [
    {
     "name": "stdout",
     "output_type": "stream",
     "text": [
      "Fitting 5 folds for each of 9 candidates, totalling 45 fits\n",
      "[CV] END .......................max_depth=5, n_estimators=50; total time= 2.5min\n",
      "[CV] END .......................max_depth=5, n_estimators=50; total time= 2.5min\n",
      "[CV] END .......................max_depth=5, n_estimators=50; total time= 2.4min\n",
      "[CV] END .......................max_depth=5, n_estimators=50; total time= 2.5min\n",
      "[CV] END .......................max_depth=5, n_estimators=50; total time= 2.5min\n",
      "[CV] END ......................max_depth=5, n_estimators=100; total time= 5.0min\n",
      "[CV] END ......................max_depth=5, n_estimators=100; total time= 4.8min\n",
      "[CV] END ......................max_depth=5, n_estimators=100; total time= 4.9min\n",
      "[CV] END ......................max_depth=5, n_estimators=100; total time= 4.8min\n",
      "[CV] END ......................max_depth=5, n_estimators=100; total time= 5.4min\n",
      "[CV] END ......................max_depth=5, n_estimators=300; total time=14.0min\n",
      "[CV] END ......................max_depth=5, n_estimators=300; total time=14.4min\n",
      "[CV] END ......................max_depth=5, n_estimators=300; total time=14.4min\n",
      "[CV] END ......................max_depth=5, n_estimators=300; total time=14.7min\n",
      "[CV] END ......................max_depth=5, n_estimators=300; total time=14.2min\n",
      "[CV] END .......................max_depth=7, n_estimators=50; total time= 2.9min\n",
      "[CV] END .......................max_depth=7, n_estimators=50; total time= 2.9min\n",
      "[CV] END .......................max_depth=7, n_estimators=50; total time= 2.9min\n",
      "[CV] END .......................max_depth=7, n_estimators=50; total time= 3.0min\n",
      "[CV] END .......................max_depth=7, n_estimators=50; total time= 2.9min\n",
      "[CV] END ......................max_depth=7, n_estimators=100; total time= 5.7min\n",
      "[CV] END ......................max_depth=7, n_estimators=100; total time= 5.9min\n",
      "[CV] END ......................max_depth=7, n_estimators=100; total time= 6.1min\n",
      "[CV] END ......................max_depth=7, n_estimators=100; total time= 5.9min\n",
      "[CV] END ......................max_depth=7, n_estimators=100; total time= 5.9min\n",
      "[CV] END ......................max_depth=7, n_estimators=300; total time=17.5min\n",
      "[CV] END ......................max_depth=7, n_estimators=300; total time=18.2min\n",
      "[CV] END ......................max_depth=7, n_estimators=300; total time=18.6min\n",
      "[CV] END ......................max_depth=7, n_estimators=300; total time=17.7min\n",
      "[CV] END ......................max_depth=7, n_estimators=300; total time=17.8min\n",
      "[CV] END ......................max_depth=10, n_estimators=50; total time= 3.6min\n",
      "[CV] END ......................max_depth=10, n_estimators=50; total time= 3.6min\n",
      "[CV] END ......................max_depth=10, n_estimators=50; total time= 3.5min\n",
      "[CV] END ......................max_depth=10, n_estimators=50; total time= 3.5min\n",
      "[CV] END ......................max_depth=10, n_estimators=50; total time= 3.5min\n",
      "[CV] END .....................max_depth=10, n_estimators=100; total time= 7.0min\n",
      "[CV] END .....................max_depth=10, n_estimators=100; total time= 7.0min\n",
      "[CV] END .....................max_depth=10, n_estimators=100; total time= 6.8min\n",
      "[CV] END .....................max_depth=10, n_estimators=100; total time= 6.7min\n",
      "[CV] END .....................max_depth=10, n_estimators=100; total time= 6.7min\n",
      "[CV] END .....................max_depth=10, n_estimators=300; total time=19.4min\n",
      "[CV] END .....................max_depth=10, n_estimators=300; total time=19.4min\n",
      "[CV] END .....................max_depth=10, n_estimators=300; total time=19.5min\n",
      "[CV] END .....................max_depth=10, n_estimators=300; total time=20.1min\n",
      "[CV] END .....................max_depth=10, n_estimators=300; total time=19.3min\n"
     ]
    }
   ],
   "source": [
    "#performing CV\n",
    "model = RandomForestRegressor()\n",
    "gsearch_rf = GridSearchCV(model, param_grid = parameters, n_jobs=-1, scoring = 'neg_root_mean_squared_error', verbose=2)\n",
    "gsearch_rf.fit(X_train,y_train)\n",
    "rf_results = pd.DataFrame(gsearch_rf.cv_results_)\n"
   ]
  },
  {
   "cell_type": "code",
   "execution_count": 85,
   "metadata": {},
   "outputs": [
    {
     "name": "stdout",
     "output_type": "stream",
     "text": [
      " RMSE: 1924.723595\n"
     ]
    }
   ],
   "source": [
    "#checking performance on test set\n",
    "\n",
    "best_model = RandomForestRegressor(**gsearch_rf.best_params_)\n",
    "preds_rf_model = gsearch_rf.predict(X_test)\n",
    "rmse_rf = np.sqrt(mean_squared_error(y_test, preds_rf_model))\n",
    "print(\" RMSE: %f\" % (rmse_rf ))"
   ]
  },
  {
   "cell_type": "code",
   "execution_count": 86,
   "metadata": {
    "scrolled": true
   },
   "outputs": [
    {
     "data": {
      "text/html": [
       "<div>\n",
       "<style scoped>\n",
       "    .dataframe tbody tr th:only-of-type {\n",
       "        vertical-align: middle;\n",
       "    }\n",
       "\n",
       "    .dataframe tbody tr th {\n",
       "        vertical-align: top;\n",
       "    }\n",
       "\n",
       "    .dataframe thead th {\n",
       "        text-align: right;\n",
       "    }\n",
       "</style>\n",
       "<table border=\"1\" class=\"dataframe\">\n",
       "  <thead>\n",
       "    <tr style=\"text-align: right;\">\n",
       "      <th></th>\n",
       "      <th>mean_fit_time</th>\n",
       "      <th>std_fit_time</th>\n",
       "      <th>mean_score_time</th>\n",
       "      <th>std_score_time</th>\n",
       "      <th>param_max_depth</th>\n",
       "      <th>param_n_estimators</th>\n",
       "      <th>params</th>\n",
       "      <th>split0_test_score</th>\n",
       "      <th>split1_test_score</th>\n",
       "      <th>split2_test_score</th>\n",
       "      <th>split3_test_score</th>\n",
       "      <th>split4_test_score</th>\n",
       "      <th>mean_test_score</th>\n",
       "      <th>std_test_score</th>\n",
       "      <th>rank_test_score</th>\n",
       "    </tr>\n",
       "  </thead>\n",
       "  <tbody>\n",
       "    <tr>\n",
       "      <th>8</th>\n",
       "      <td>1171.416667</td>\n",
       "      <td>17.459267</td>\n",
       "      <td>1.897988</td>\n",
       "      <td>0.127453</td>\n",
       "      <td>10</td>\n",
       "      <td>300</td>\n",
       "      <td>{'max_depth': 10, 'n_estimators': 300}</td>\n",
       "      <td>-1928.881067</td>\n",
       "      <td>-1943.630157</td>\n",
       "      <td>-1945.637247</td>\n",
       "      <td>-1912.005411</td>\n",
       "      <td>-1922.288230</td>\n",
       "      <td>-1930.488423</td>\n",
       "      <td>12.756493</td>\n",
       "      <td>1</td>\n",
       "    </tr>\n",
       "    <tr>\n",
       "      <th>7</th>\n",
       "      <td>409.807990</td>\n",
       "      <td>9.270077</td>\n",
       "      <td>0.722597</td>\n",
       "      <td>0.065688</td>\n",
       "      <td>10</td>\n",
       "      <td>100</td>\n",
       "      <td>{'max_depth': 10, 'n_estimators': 100}</td>\n",
       "      <td>-1930.084439</td>\n",
       "      <td>-1945.803698</td>\n",
       "      <td>-1947.634774</td>\n",
       "      <td>-1911.891373</td>\n",
       "      <td>-1922.677822</td>\n",
       "      <td>-1931.618421</td>\n",
       "      <td>13.632237</td>\n",
       "      <td>2</td>\n",
       "    </tr>\n",
       "    <tr>\n",
       "      <th>6</th>\n",
       "      <td>212.538875</td>\n",
       "      <td>2.306362</td>\n",
       "      <td>0.398887</td>\n",
       "      <td>0.015022</td>\n",
       "      <td>10</td>\n",
       "      <td>50</td>\n",
       "      <td>{'max_depth': 10, 'n_estimators': 50}</td>\n",
       "      <td>-1929.552384</td>\n",
       "      <td>-1949.938590</td>\n",
       "      <td>-1950.437960</td>\n",
       "      <td>-1913.150311</td>\n",
       "      <td>-1925.480100</td>\n",
       "      <td>-1933.711869</td>\n",
       "      <td>14.497652</td>\n",
       "      <td>3</td>\n",
       "    </tr>\n",
       "    <tr>\n",
       "      <th>4</th>\n",
       "      <td>353.803805</td>\n",
       "      <td>6.570276</td>\n",
       "      <td>0.478496</td>\n",
       "      <td>0.061424</td>\n",
       "      <td>7</td>\n",
       "      <td>100</td>\n",
       "      <td>{'max_depth': 7, 'n_estimators': 100}</td>\n",
       "      <td>-2133.261541</td>\n",
       "      <td>-2154.595953</td>\n",
       "      <td>-2149.506686</td>\n",
       "      <td>-2120.514598</td>\n",
       "      <td>-2135.197345</td>\n",
       "      <td>-2138.615224</td>\n",
       "      <td>12.181823</td>\n",
       "      <td>4</td>\n",
       "    </tr>\n",
       "    <tr>\n",
       "      <th>5</th>\n",
       "      <td>1076.168705</td>\n",
       "      <td>24.322486</td>\n",
       "      <td>1.280945</td>\n",
       "      <td>0.136190</td>\n",
       "      <td>7</td>\n",
       "      <td>300</td>\n",
       "      <td>{'max_depth': 7, 'n_estimators': 300}</td>\n",
       "      <td>-2132.258319</td>\n",
       "      <td>-2157.244806</td>\n",
       "      <td>-2149.529359</td>\n",
       "      <td>-2121.245993</td>\n",
       "      <td>-2134.906624</td>\n",
       "      <td>-2139.037020</td>\n",
       "      <td>12.815180</td>\n",
       "      <td>5</td>\n",
       "    </tr>\n",
       "    <tr>\n",
       "      <th>3</th>\n",
       "      <td>175.247360</td>\n",
       "      <td>1.806237</td>\n",
       "      <td>0.263016</td>\n",
       "      <td>0.040367</td>\n",
       "      <td>7</td>\n",
       "      <td>50</td>\n",
       "      <td>{'max_depth': 7, 'n_estimators': 50}</td>\n",
       "      <td>-2133.818071</td>\n",
       "      <td>-2157.484847</td>\n",
       "      <td>-2156.281582</td>\n",
       "      <td>-2121.545384</td>\n",
       "      <td>-2136.604397</td>\n",
       "      <td>-2141.146856</td>\n",
       "      <td>13.817037</td>\n",
       "      <td>6</td>\n",
       "    </tr>\n",
       "    <tr>\n",
       "      <th>2</th>\n",
       "      <td>859.409941</td>\n",
       "      <td>15.456725</td>\n",
       "      <td>0.882536</td>\n",
       "      <td>0.065917</td>\n",
       "      <td>5</td>\n",
       "      <td>300</td>\n",
       "      <td>{'max_depth': 5, 'n_estimators': 300}</td>\n",
       "      <td>-2348.571126</td>\n",
       "      <td>-2374.541021</td>\n",
       "      <td>-2375.686094</td>\n",
       "      <td>-2328.158608</td>\n",
       "      <td>-2382.937727</td>\n",
       "      <td>-2361.978915</td>\n",
       "      <td>20.535565</td>\n",
       "      <td>7</td>\n",
       "    </tr>\n",
       "    <tr>\n",
       "      <th>1</th>\n",
       "      <td>298.759723</td>\n",
       "      <td>12.556562</td>\n",
       "      <td>0.342283</td>\n",
       "      <td>0.017698</td>\n",
       "      <td>5</td>\n",
       "      <td>100</td>\n",
       "      <td>{'max_depth': 5, 'n_estimators': 100}</td>\n",
       "      <td>-2352.940655</td>\n",
       "      <td>-2376.112851</td>\n",
       "      <td>-2374.538142</td>\n",
       "      <td>-2330.156848</td>\n",
       "      <td>-2385.124383</td>\n",
       "      <td>-2363.774576</td>\n",
       "      <td>19.856622</td>\n",
       "      <td>8</td>\n",
       "    </tr>\n",
       "    <tr>\n",
       "      <th>0</th>\n",
       "      <td>147.695768</td>\n",
       "      <td>1.871476</td>\n",
       "      <td>0.205289</td>\n",
       "      <td>0.021424</td>\n",
       "      <td>5</td>\n",
       "      <td>50</td>\n",
       "      <td>{'max_depth': 5, 'n_estimators': 50}</td>\n",
       "      <td>-2351.435859</td>\n",
       "      <td>-2369.318372</td>\n",
       "      <td>-2388.278423</td>\n",
       "      <td>-2328.107633</td>\n",
       "      <td>-2382.866549</td>\n",
       "      <td>-2364.001367</td>\n",
       "      <td>21.999060</td>\n",
       "      <td>9</td>\n",
       "    </tr>\n",
       "  </tbody>\n",
       "</table>\n",
       "</div>"
      ],
      "text/plain": [
       "   mean_fit_time  std_fit_time  mean_score_time  std_score_time  \\\n",
       "8    1171.416667     17.459267         1.897988        0.127453   \n",
       "7     409.807990      9.270077         0.722597        0.065688   \n",
       "6     212.538875      2.306362         0.398887        0.015022   \n",
       "4     353.803805      6.570276         0.478496        0.061424   \n",
       "5    1076.168705     24.322486         1.280945        0.136190   \n",
       "3     175.247360      1.806237         0.263016        0.040367   \n",
       "2     859.409941     15.456725         0.882536        0.065917   \n",
       "1     298.759723     12.556562         0.342283        0.017698   \n",
       "0     147.695768      1.871476         0.205289        0.021424   \n",
       "\n",
       "  param_max_depth param_n_estimators                                  params  \\\n",
       "8              10                300  {'max_depth': 10, 'n_estimators': 300}   \n",
       "7              10                100  {'max_depth': 10, 'n_estimators': 100}   \n",
       "6              10                 50   {'max_depth': 10, 'n_estimators': 50}   \n",
       "4               7                100   {'max_depth': 7, 'n_estimators': 100}   \n",
       "5               7                300   {'max_depth': 7, 'n_estimators': 300}   \n",
       "3               7                 50    {'max_depth': 7, 'n_estimators': 50}   \n",
       "2               5                300   {'max_depth': 5, 'n_estimators': 300}   \n",
       "1               5                100   {'max_depth': 5, 'n_estimators': 100}   \n",
       "0               5                 50    {'max_depth': 5, 'n_estimators': 50}   \n",
       "\n",
       "   split0_test_score  split1_test_score  split2_test_score  split3_test_score  \\\n",
       "8       -1928.881067       -1943.630157       -1945.637247       -1912.005411   \n",
       "7       -1930.084439       -1945.803698       -1947.634774       -1911.891373   \n",
       "6       -1929.552384       -1949.938590       -1950.437960       -1913.150311   \n",
       "4       -2133.261541       -2154.595953       -2149.506686       -2120.514598   \n",
       "5       -2132.258319       -2157.244806       -2149.529359       -2121.245993   \n",
       "3       -2133.818071       -2157.484847       -2156.281582       -2121.545384   \n",
       "2       -2348.571126       -2374.541021       -2375.686094       -2328.158608   \n",
       "1       -2352.940655       -2376.112851       -2374.538142       -2330.156848   \n",
       "0       -2351.435859       -2369.318372       -2388.278423       -2328.107633   \n",
       "\n",
       "   split4_test_score  mean_test_score  std_test_score  rank_test_score  \n",
       "8       -1922.288230     -1930.488423       12.756493                1  \n",
       "7       -1922.677822     -1931.618421       13.632237                2  \n",
       "6       -1925.480100     -1933.711869       14.497652                3  \n",
       "4       -2135.197345     -2138.615224       12.181823                4  \n",
       "5       -2134.906624     -2139.037020       12.815180                5  \n",
       "3       -2136.604397     -2141.146856       13.817037                6  \n",
       "2       -2382.937727     -2361.978915       20.535565                7  \n",
       "1       -2385.124383     -2363.774576       19.856622                8  \n",
       "0       -2382.866549     -2364.001367       21.999060                9  "
      ]
     },
     "execution_count": 86,
     "metadata": {},
     "output_type": "execute_result"
    }
   ],
   "source": [
    "rf_results.sort_values(by = 'rank_test_score')"
   ]
  },
  {
   "cell_type": "markdown",
   "metadata": {},
   "source": []
  },
  {
   "cell_type": "markdown",
   "metadata": {},
   "source": [
    "### CatBoost"
   ]
  },
  {
   "cell_type": "code",
   "execution_count": 87,
   "metadata": {},
   "outputs": [],
   "source": [
    "parameters = {\n",
    "    'iterations': [50,100, 300],\n",
    "    'learning_rate':[0.05, 0.1],\n",
    "    'depth' :[5,7,10]\n",
    "    }\n"
   ]
  },
  {
   "cell_type": "code",
   "execution_count": 88,
   "metadata": {
    "scrolled": true
   },
   "outputs": [
    {
     "name": "stdout",
     "output_type": "stream",
     "text": [
      "Fitting 5 folds for each of 18 candidates, totalling 90 fits\n",
      "[CV] END .........depth=5, iterations=50, learning_rate=0.05; total time=  20.2s\n",
      "[CV] END .........depth=5, iterations=50, learning_rate=0.05; total time=  20.1s\n",
      "[CV] END .........depth=5, iterations=50, learning_rate=0.05; total time=  20.9s\n",
      "[CV] END .........depth=5, iterations=50, learning_rate=0.05; total time=  19.3s\n",
      "[CV] END .........depth=5, iterations=50, learning_rate=0.05; total time=  19.8s\n",
      "[CV] END ..........depth=5, iterations=50, learning_rate=0.1; total time=  20.1s\n",
      "[CV] END ..........depth=5, iterations=50, learning_rate=0.1; total time=  19.8s\n",
      "[CV] END ..........depth=5, iterations=50, learning_rate=0.1; total time=  20.5s\n",
      "[CV] END ..........depth=5, iterations=50, learning_rate=0.1; total time=  20.4s\n",
      "[CV] END ..........depth=5, iterations=50, learning_rate=0.1; total time=  19.5s\n",
      "[CV] END ........depth=5, iterations=100, learning_rate=0.05; total time=  20.9s\n",
      "[CV] END ........depth=5, iterations=100, learning_rate=0.05; total time=  21.6s\n",
      "[CV] END ........depth=5, iterations=100, learning_rate=0.05; total time=  21.3s\n",
      "[CV] END ........depth=5, iterations=100, learning_rate=0.05; total time=  21.2s\n",
      "[CV] END ........depth=5, iterations=100, learning_rate=0.05; total time=  21.5s\n",
      "[CV] END .........depth=5, iterations=100, learning_rate=0.1; total time=  20.5s\n",
      "[CV] END .........depth=5, iterations=100, learning_rate=0.1; total time=  20.9s\n",
      "[CV] END .........depth=5, iterations=100, learning_rate=0.1; total time=  22.4s\n",
      "[CV] END .........depth=5, iterations=100, learning_rate=0.1; total time=  20.9s\n",
      "[CV] END .........depth=5, iterations=100, learning_rate=0.1; total time=  21.7s\n",
      "[CV] END ........depth=5, iterations=300, learning_rate=0.05; total time=  25.5s\n",
      "[CV] END ........depth=5, iterations=300, learning_rate=0.05; total time=  25.4s\n",
      "[CV] END ........depth=5, iterations=300, learning_rate=0.05; total time=  25.1s\n",
      "[CV] END ........depth=5, iterations=300, learning_rate=0.05; total time=  26.5s\n",
      "[CV] END ........depth=5, iterations=300, learning_rate=0.05; total time=  26.5s\n",
      "[CV] END .........depth=5, iterations=300, learning_rate=0.1; total time=  25.2s\n",
      "[CV] END .........depth=5, iterations=300, learning_rate=0.1; total time=  24.9s\n",
      "[CV] END .........depth=5, iterations=300, learning_rate=0.1; total time=  24.9s\n",
      "[CV] END .........depth=5, iterations=300, learning_rate=0.1; total time=  25.7s\n",
      "[CV] END .........depth=5, iterations=300, learning_rate=0.1; total time=  25.7s\n",
      "[CV] END .........depth=7, iterations=50, learning_rate=0.05; total time=  20.2s\n",
      "[CV] END .........depth=7, iterations=50, learning_rate=0.05; total time=  19.8s\n",
      "[CV] END .........depth=7, iterations=50, learning_rate=0.05; total time=  19.8s\n",
      "[CV] END .........depth=7, iterations=50, learning_rate=0.05; total time=  19.9s\n",
      "[CV] END .........depth=7, iterations=50, learning_rate=0.05; total time=  20.8s\n",
      "[CV] END ..........depth=7, iterations=50, learning_rate=0.1; total time=  20.0s\n",
      "[CV] END ..........depth=7, iterations=50, learning_rate=0.1; total time=  20.4s\n",
      "[CV] END ..........depth=7, iterations=50, learning_rate=0.1; total time=  20.5s\n",
      "[CV] END ..........depth=7, iterations=50, learning_rate=0.1; total time=  20.2s\n",
      "[CV] END ..........depth=7, iterations=50, learning_rate=0.1; total time=  20.1s\n",
      "[CV] END ........depth=7, iterations=100, learning_rate=0.05; total time=  21.3s\n",
      "[CV] END ........depth=7, iterations=100, learning_rate=0.05; total time=  21.4s\n",
      "[CV] END ........depth=7, iterations=100, learning_rate=0.05; total time=  22.2s\n",
      "[CV] END ........depth=7, iterations=100, learning_rate=0.05; total time=  22.2s\n",
      "[CV] END ........depth=7, iterations=100, learning_rate=0.05; total time=  22.8s\n",
      "[CV] END .........depth=7, iterations=100, learning_rate=0.1; total time=  21.6s\n",
      "[CV] END .........depth=7, iterations=100, learning_rate=0.1; total time=  21.2s\n",
      "[CV] END .........depth=7, iterations=100, learning_rate=0.1; total time=  21.1s\n",
      "[CV] END .........depth=7, iterations=100, learning_rate=0.1; total time=  21.6s\n",
      "[CV] END .........depth=7, iterations=100, learning_rate=0.1; total time=  21.5s\n",
      "[CV] END ........depth=7, iterations=300, learning_rate=0.05; total time=  26.6s\n",
      "[CV] END ........depth=7, iterations=300, learning_rate=0.05; total time=  27.4s\n",
      "[CV] END ........depth=7, iterations=300, learning_rate=0.05; total time=  26.7s\n",
      "[CV] END ........depth=7, iterations=300, learning_rate=0.05; total time=  27.4s\n",
      "[CV] END ........depth=7, iterations=300, learning_rate=0.05; total time=  26.9s\n",
      "[CV] END .........depth=7, iterations=300, learning_rate=0.1; total time=  27.2s\n",
      "[CV] END .........depth=7, iterations=300, learning_rate=0.1; total time=  26.0s\n",
      "[CV] END .........depth=7, iterations=300, learning_rate=0.1; total time=  26.6s\n",
      "[CV] END .........depth=7, iterations=300, learning_rate=0.1; total time=  26.2s\n",
      "[CV] END .........depth=7, iterations=300, learning_rate=0.1; total time=  26.6s\n",
      "[CV] END ........depth=10, iterations=50, learning_rate=0.05; total time=  21.8s\n",
      "[CV] END ........depth=10, iterations=50, learning_rate=0.05; total time=  21.0s\n",
      "[CV] END ........depth=10, iterations=50, learning_rate=0.05; total time=  21.5s\n",
      "[CV] END ........depth=10, iterations=50, learning_rate=0.05; total time=  21.2s\n",
      "[CV] END ........depth=10, iterations=50, learning_rate=0.05; total time=  21.0s\n",
      "[CV] END .........depth=10, iterations=50, learning_rate=0.1; total time=  21.2s\n",
      "[CV] END .........depth=10, iterations=50, learning_rate=0.1; total time=  21.1s\n",
      "[CV] END .........depth=10, iterations=50, learning_rate=0.1; total time=  21.5s\n",
      "[CV] END .........depth=10, iterations=50, learning_rate=0.1; total time=  21.5s\n",
      "[CV] END .........depth=10, iterations=50, learning_rate=0.1; total time=  21.3s\n",
      "[CV] END .......depth=10, iterations=100, learning_rate=0.05; total time=  23.7s\n",
      "[CV] END .......depth=10, iterations=100, learning_rate=0.05; total time=  24.6s\n",
      "[CV] END .......depth=10, iterations=100, learning_rate=0.05; total time=  23.8s\n",
      "[CV] END .......depth=10, iterations=100, learning_rate=0.05; total time=  23.8s\n",
      "[CV] END .......depth=10, iterations=100, learning_rate=0.05; total time=  24.2s\n",
      "[CV] END ........depth=10, iterations=100, learning_rate=0.1; total time=  23.7s\n",
      "[CV] END ........depth=10, iterations=100, learning_rate=0.1; total time=  24.2s\n",
      "[CV] END ........depth=10, iterations=100, learning_rate=0.1; total time=  24.3s\n",
      "[CV] END ........depth=10, iterations=100, learning_rate=0.1; total time=  23.4s\n",
      "[CV] END ........depth=10, iterations=100, learning_rate=0.1; total time=  24.0s\n",
      "[CV] END .......depth=10, iterations=300, learning_rate=0.05; total time=  34.7s\n",
      "[CV] END .......depth=10, iterations=300, learning_rate=0.05; total time=  34.3s\n",
      "[CV] END .......depth=10, iterations=300, learning_rate=0.05; total time=  34.2s\n",
      "[CV] END .......depth=10, iterations=300, learning_rate=0.05; total time=  34.9s\n",
      "[CV] END .......depth=10, iterations=300, learning_rate=0.05; total time=  36.6s\n",
      "[CV] END ........depth=10, iterations=300, learning_rate=0.1; total time=  36.1s\n",
      "[CV] END ........depth=10, iterations=300, learning_rate=0.1; total time=  35.1s\n",
      "[CV] END ........depth=10, iterations=300, learning_rate=0.1; total time=  37.7s\n",
      "[CV] END ........depth=10, iterations=300, learning_rate=0.1; total time=  36.1s\n",
      "[CV] END ........depth=10, iterations=300, learning_rate=0.1; total time=  36.1s\n"
     ]
    }
   ],
   "source": [
    "#performing gridsearch\n",
    "model = CatBoostRegressor(verbose = False)\n",
    "gsearch_cb = GridSearchCV(model, param_grid = parameters, n_jobs=-1, scoring = 'neg_root_mean_squared_error', verbose=2)\n",
    "gsearch_cb.fit(X_train,y_train)\n",
    "cb_results = pd.DataFrame(gsearch_cb.cv_results_)\n"
   ]
  },
  {
   "cell_type": "code",
   "execution_count": 89,
   "metadata": {},
   "outputs": [
    {
     "name": "stdout",
     "output_type": "stream",
     "text": [
      " RMSE: 1665.599671\n"
     ]
    }
   ],
   "source": [
    "#checking prformance on test set\n",
    "best_model = CatBoostRegressor(**gsearch_cb.best_params_)\n",
    "preds_cb_model = gsearch_cb.predict(X_test)\n",
    "rmse_cb = np.sqrt(mean_squared_error(y_test, preds_cb_model))\n",
    "print(\" RMSE: %f\" % (rmse_cb))"
   ]
  },
  {
   "cell_type": "markdown",
   "metadata": {},
   "source": [
    "## Model analysis"
   ]
  },
  {
   "cell_type": "markdown",
   "metadata": {},
   "source": [
    "We can use the data we collected earlier to look at how our different models performed."
   ]
  },
  {
   "cell_type": "code",
   "execution_count": 113,
   "metadata": {},
   "outputs": [],
   "source": [
    "#combingin results\n",
    "to_plot = pd.DataFrame(columns = ['mean_fit_time', 'mean_test_score', 'model'])\n",
    "models = ['LGBM', 'RandomForest', 'CatBoost']\n",
    "i = 0\n",
    "for results in [lgb_results,rf_results,cb_results]:\n",
    "    temp = results[['mean_fit_time', 'mean_test_score']]\n",
    "    temp['model'] = models[i]\n",
    "    i+=1\n",
    "    to_plot = pd.concat([to_plot, temp])\n",
    "\n",
    "to_plot = to_plot.rename(columns = {'mean_test_score': 'rmse'})\n",
    "to_plot['rmse'] = abs(to_plot['rmse'])"
   ]
  },
  {
   "cell_type": "code",
   "execution_count": 104,
   "metadata": {},
   "outputs": [
    {
     "data": {
      "image/png": "[encoded data removed]",
      "text/plain": [
       "<Figure size 576x576 with 1 Axes>"
      ]
     },
     "metadata": {},
     "output_type": "display_data"
    }
   ],
   "source": [
    "#plotting data\n",
    "fig, axes = plt.subplots(1)\n",
    "fig.set_size_inches(8,8)\n",
    "sns.scatterplot(data=to_plot, x='mean_fit_time', y='rmse', hue=\"model\", ax=axes) #, palette = pal\n",
    "\n",
    "axes.set(title = 'RMSE score vs time to train model')\n",
    "sns.set(style=\"whitegrid\", color_codes=True, font_scale = 1)"
   ]
  },
  {
   "cell_type": "code",
   "execution_count": 112,
   "metadata": {},
   "outputs": [
    {
     "name": "stdout",
     "output_type": "stream",
     "text": [
      "Mean time to train for LGBM: 167.7\n",
      "Mean RMSE for LGBM: 1822.9\n",
      "RMSE on test set: 1672.6\n",
      "\n",
      "Mean time to train for RandomForest: 522.8\n",
      "Mean RMSE for RandomForest: 2144.9\n",
      "RMSE on test set: 1924.7\n",
      "\n",
      "Mean time to train for CatBoost: 20.7\n",
      "Mean RMSE for CatBoost: 1891.0\n",
      "RMSE on test set: 1665.6\n",
      "\n"
     ]
    }
   ],
   "source": [
    "test_rmse = [rmse_lgb, rmse_rf, rmse_cb]\n",
    "i = 0\n",
    "for model in ['LGBM', 'RandomForest', 'CatBoost']:\n",
    "    mean_time = to_plot[to_plot['model'] == model]['mean_fit_time'].mean()\n",
    "    mean_rmse = to_plot[to_plot['model'] == model]['rmse'].mean()\n",
    "    print(f'Mean time to train for {model}: {mean_time:.1f}')\n",
    "    print(f'Mean RMSE for {model}: {mean_rmse:.1f}')\n",
    "    print(f'RMSE on test set: {test_rmse[i]:.1f}')\n",
    "    i+=1\n",
    "    print()"
   ]
  },
  {
   "cell_type": "markdown",
   "metadata": {},
   "source": [
    "We can see that with our chosen hyperparameters, CatBoost was the fastest to train on average, significantly faster than the other two models.\n",
    "LGBM and CatBoost performed similarly well during cross validation, with LGBM having a slightly better mean RMSE than CatBoost (1822.9 vs 1891.0) but CatBoost performed marginally better on the test set than LGBM (1665.6 vs 1672.6).\n",
    "\n",
    "RandomForest took longer to train on average and had the worst RMSE on average.\n",
    "\n",
    "However, only a few hyperparameter combinations were tested and there is no guarantee these observations would be true for different hyperparameters for each model.\n",
    "\n"
   ]
  },
  {
   "cell_type": "code",
   "execution_count": null,
   "metadata": {},
   "outputs": [],
   "source": []
  }
 ],
 "metadata": {
  "ExecuteTimeLog": [
   {
    "duration": 58,
    "start_time": "2022-07-07T13:43:57.986Z"
   },
   {
    "duration": 1312,
    "start_time": "2022-07-07T13:44:27.645Z"
   },
   {
    "duration": 1077,
    "start_time": "2022-07-07T13:44:42.135Z"
   },
   {
    "duration": 1358,
    "start_time": "2022-07-07T13:44:47.315Z"
   },
   {
    "duration": 35,
    "start_time": "2022-07-07T13:44:59.154Z"
   },
   {
    "duration": 116,
    "start_time": "2022-07-07T13:45:07.398Z"
   },
   {
    "duration": 25,
    "start_time": "2022-07-07T13:46:36.899Z"
   },
   {
    "duration": 67,
    "start_time": "2022-07-07T13:47:17.068Z"
   },
   {
    "duration": 17,
    "start_time": "2022-07-07T13:47:20.912Z"
   },
   {
    "duration": 330,
    "start_time": "2022-07-07T13:47:34.666Z"
   },
   {
    "duration": 4,
    "start_time": "2022-07-07T13:48:03.693Z"
   },
   {
    "duration": 16,
    "start_time": "2022-07-07T13:59:50.053Z"
   },
   {
    "duration": 13,
    "start_time": "2022-07-07T14:00:49.786Z"
   },
   {
    "duration": 15,
    "start_time": "2022-07-07T14:01:43.758Z"
   },
   {
    "duration": 5,
    "start_time": "2022-07-07T14:02:19.556Z"
   },
   {
    "duration": 12,
    "start_time": "2022-07-07T14:03:03.274Z"
   },
   {
    "duration": 1157,
    "start_time": "2022-07-07T14:04:39.013Z"
   },
   {
    "duration": 21,
    "start_time": "2022-07-07T14:04:44.557Z"
   },
   {
    "duration": 127,
    "start_time": "2022-07-07T14:04:50.456Z"
   },
   {
    "duration": 22,
    "start_time": "2022-07-07T14:05:01.855Z"
   },
   {
    "duration": 32,
    "start_time": "2022-07-07T14:05:11.172Z"
   },
   {
    "duration": 103,
    "start_time": "2022-07-07T14:05:25.573Z"
   },
   {
    "duration": 143,
    "start_time": "2022-07-07T14:05:29.953Z"
   },
   {
    "duration": 31,
    "start_time": "2022-07-07T14:05:33.068Z"
   },
   {
    "duration": 1231,
    "start_time": "2022-07-07T14:06:05.119Z"
   },
   {
    "duration": 20,
    "start_time": "2022-07-07T14:07:59.075Z"
   },
   {
    "duration": 39,
    "start_time": "2022-07-07T14:08:44.220Z"
   },
   {
    "duration": 61,
    "start_time": "2022-07-07T14:13:11.072Z"
   },
   {
    "duration": 61,
    "start_time": "2022-07-07T14:13:31.491Z"
   },
   {
    "duration": 31,
    "start_time": "2022-07-07T14:13:44.009Z"
   },
   {
    "duration": 204,
    "start_time": "2022-07-07T14:14:29.739Z"
   },
   {
    "duration": 189,
    "start_time": "2022-07-07T14:14:41.206Z"
   },
   {
    "duration": 192,
    "start_time": "2022-07-07T14:14:44.639Z"
   },
   {
    "duration": 302,
    "start_time": "2022-07-07T14:14:46.883Z"
   },
   {
    "duration": 422,
    "start_time": "2022-07-07T14:14:54.484Z"
   },
   {
    "duration": 6,
    "start_time": "2022-07-07T14:16:24.713Z"
   },
   {
    "duration": 754,
    "start_time": "2022-07-07T14:16:24.722Z"
   },
   {
    "duration": 29,
    "start_time": "2022-07-07T14:16:25.478Z"
   },
   {
    "duration": 137,
    "start_time": "2022-07-07T14:16:25.509Z"
   },
   {
    "duration": 4,
    "start_time": "2022-07-07T14:16:25.649Z"
   },
   {
    "duration": 997,
    "start_time": "2022-07-07T14:16:25.656Z"
   },
   {
    "duration": 933,
    "start_time": "2022-07-07T14:16:26.655Z"
   },
   {
    "duration": 18,
    "start_time": "2022-07-07T14:16:27.589Z"
   },
   {
    "duration": 330,
    "start_time": "2022-07-07T14:16:27.623Z"
   },
   {
    "duration": 35,
    "start_time": "2022-07-07T14:16:27.957Z"
   },
   {
    "duration": 45,
    "start_time": "2022-07-07T14:16:45.754Z"
   },
   {
    "duration": 1746,
    "start_time": "2022-07-07T14:16:55.054Z"
   },
   {
    "duration": 419,
    "start_time": "2022-07-07T14:17:07.096Z"
   },
   {
    "duration": 939,
    "start_time": "2022-07-07T14:18:10.660Z"
   },
   {
    "duration": 30,
    "start_time": "2022-07-07T14:18:16.159Z"
   },
   {
    "duration": 41,
    "start_time": "2022-07-07T14:18:53.048Z"
   },
   {
    "duration": 10,
    "start_time": "2022-07-07T14:25:08.869Z"
   },
   {
    "duration": 818,
    "start_time": "2022-07-07T14:25:08.881Z"
   },
   {
    "duration": 37,
    "start_time": "2022-07-07T14:25:09.701Z"
   },
   {
    "duration": 132,
    "start_time": "2022-07-07T14:25:09.739Z"
   },
   {
    "duration": 4,
    "start_time": "2022-07-07T14:25:09.875Z"
   },
   {
    "duration": 977,
    "start_time": "2022-07-07T14:25:09.881Z"
   },
   {
    "duration": 982,
    "start_time": "2022-07-07T14:25:10.860Z"
   },
   {
    "duration": 20,
    "start_time": "2022-07-07T14:25:11.844Z"
   },
   {
    "duration": 449,
    "start_time": "2022-07-07T14:25:11.866Z"
   },
   {
    "duration": 39,
    "start_time": "2022-07-07T14:25:12.323Z"
   },
   {
    "duration": 19,
    "start_time": "2022-07-07T14:25:12.364Z"
   },
   {
    "duration": 81580,
    "start_time": "2022-07-07T14:25:12.385Z"
   },
   {
    "duration": 17914,
    "start_time": "2022-07-07T14:27:07.754Z"
   },
   {
    "duration": 86322,
    "start_time": "2022-07-07T14:27:33.918Z"
   },
   {
    "duration": 52857,
    "start_time": "2022-07-07T14:29:43.049Z"
   },
   {
    "duration": 82,
    "start_time": "2022-07-07T14:30:48.984Z"
   },
   {
    "duration": 35701,
    "start_time": "2022-07-07T14:30:52.747Z"
   },
   {
    "duration": 9737,
    "start_time": "2022-07-07T14:31:29.805Z"
   },
   {
    "duration": 13114,
    "start_time": "2022-07-07T14:32:16.786Z"
   },
   {
    "duration": 29962,
    "start_time": "2022-07-07T14:32:38.551Z"
   },
   {
    "duration": 8,
    "start_time": "2022-07-07T14:34:03.340Z"
   },
   {
    "duration": 749,
    "start_time": "2022-07-07T14:34:03.350Z"
   },
   {
    "duration": 42,
    "start_time": "2022-07-07T14:34:04.100Z"
   },
   {
    "duration": 115,
    "start_time": "2022-07-07T14:34:04.144Z"
   },
   {
    "duration": 4,
    "start_time": "2022-07-07T14:34:04.261Z"
   },
   {
    "duration": 927,
    "start_time": "2022-07-07T14:34:04.268Z"
   },
   {
    "duration": 991,
    "start_time": "2022-07-07T14:34:05.197Z"
   },
   {
    "duration": 41,
    "start_time": "2022-07-07T14:34:06.189Z"
   },
   {
    "duration": 668,
    "start_time": "2022-07-07T14:34:06.232Z"
   },
   {
    "duration": 61,
    "start_time": "2022-07-07T14:34:06.902Z"
   },
   {
    "duration": 21,
    "start_time": "2022-07-07T14:34:06.966Z"
   },
   {
    "duration": 27607,
    "start_time": "2022-07-07T14:34:10.152Z"
   },
   {
    "duration": 7,
    "start_time": "2022-07-07T14:34:40.414Z"
   },
   {
    "duration": 716,
    "start_time": "2022-07-07T14:34:40.423Z"
   },
   {
    "duration": 35,
    "start_time": "2022-07-07T14:34:41.141Z"
   },
   {
    "duration": 124,
    "start_time": "2022-07-07T14:34:41.179Z"
   },
   {
    "duration": 4,
    "start_time": "2022-07-07T14:34:41.305Z"
   },
   {
    "duration": 1002,
    "start_time": "2022-07-07T14:34:41.310Z"
   },
   {
    "duration": 977,
    "start_time": "2022-07-07T14:34:42.314Z"
   },
   {
    "duration": 47,
    "start_time": "2022-07-07T14:34:43.293Z"
   },
   {
    "duration": 460,
    "start_time": "2022-07-07T14:34:43.342Z"
   },
   {
    "duration": 54,
    "start_time": "2022-07-07T14:34:43.804Z"
   },
   {
    "duration": 19,
    "start_time": "2022-07-07T14:34:43.859Z"
   },
   {
    "duration": 30505,
    "start_time": "2022-07-07T14:34:48.351Z"
   },
   {
    "duration": 20,
    "start_time": "2022-07-07T15:21:16.507Z"
   },
   {
    "duration": 2,
    "start_time": "2022-07-07T15:21:21.381Z"
   },
   {
    "duration": 10,
    "start_time": "2022-07-07T15:32:29.229Z"
   },
   {
    "duration": 641,
    "start_time": "2022-07-07T15:32:29.242Z"
   },
   {
    "duration": 47,
    "start_time": "2022-07-07T15:32:29.886Z"
   },
   {
    "duration": 118,
    "start_time": "2022-07-07T15:32:29.935Z"
   },
   {
    "duration": 5,
    "start_time": "2022-07-07T15:32:30.055Z"
   },
   {
    "duration": 893,
    "start_time": "2022-07-07T15:32:30.062Z"
   },
   {
    "duration": 890,
    "start_time": "2022-07-07T15:32:30.957Z"
   },
   {
    "duration": 18,
    "start_time": "2022-07-07T15:32:31.849Z"
   },
   {
    "duration": 439,
    "start_time": "2022-07-07T15:32:31.869Z"
   },
   {
    "duration": 40,
    "start_time": "2022-07-07T15:32:32.310Z"
   },
   {
    "duration": 19,
    "start_time": "2022-07-07T15:32:32.353Z"
   },
   {
    "duration": 27243,
    "start_time": "2022-07-07T15:32:38.586Z"
   },
   {
    "duration": 20,
    "start_time": "2022-07-07T15:33:05.832Z"
   },
   {
    "duration": 32,
    "start_time": "2022-07-07T15:54:50.650Z"
   },
   {
    "duration": 57,
    "start_time": "2022-07-07T15:54:51.920Z"
   },
   {
    "duration": 109,
    "start_time": "2022-07-07T15:59:30.292Z"
   },
   {
    "duration": 89,
    "start_time": "2022-07-07T15:59:41.768Z"
   },
   {
    "duration": 67795,
    "start_time": "2022-07-07T16:00:32.742Z"
   },
   {
    "duration": 90753,
    "start_time": "2022-07-07T16:01:42.892Z"
   },
   {
    "duration": 2220,
    "start_time": "2022-07-07T16:03:25.834Z"
   },
   {
    "duration": 6,
    "start_time": "2022-07-07T16:03:43.241Z"
   },
   {
    "duration": 18,
    "start_time": "2022-07-07T16:04:34.343Z"
   },
   {
    "duration": 5,
    "start_time": "2022-07-07T16:04:46.581Z"
   },
   {
    "duration": 15,
    "start_time": "2022-07-07T16:05:02.366Z"
   },
   {
    "duration": 11,
    "start_time": "2022-07-07T16:05:50.975Z"
   },
   {
    "duration": 671,
    "start_time": "2022-07-07T16:05:50.988Z"
   },
   {
    "duration": 29,
    "start_time": "2022-07-07T16:05:51.661Z"
   },
   {
    "duration": 134,
    "start_time": "2022-07-07T16:05:51.691Z"
   },
   {
    "duration": 4,
    "start_time": "2022-07-07T16:05:51.829Z"
   },
   {
    "duration": 917,
    "start_time": "2022-07-07T16:05:51.836Z"
   },
   {
    "duration": 946,
    "start_time": "2022-07-07T16:05:52.755Z"
   },
   {
    "duration": 53,
    "start_time": "2022-07-07T16:05:53.703Z"
   },
   {
    "duration": 510,
    "start_time": "2022-07-07T16:05:53.759Z"
   },
   {
    "duration": 62,
    "start_time": "2022-07-07T16:05:54.272Z"
   },
   {
    "duration": 25,
    "start_time": "2022-07-07T16:05:54.337Z"
   },
   {
    "duration": 28544,
    "start_time": "2022-07-07T16:05:54.364Z"
   },
   {
    "duration": 29,
    "start_time": "2022-07-07T16:06:22.909Z"
   },
   {
    "duration": 13,
    "start_time": "2022-07-07T16:06:22.942Z"
   },
   {
    "duration": 57,
    "start_time": "2022-07-07T16:06:22.957Z"
   },
   {
    "duration": 79,
    "start_time": "2022-07-07T16:06:23.016Z"
   },
   {
    "duration": 1614,
    "start_time": "2022-07-07T16:06:31.634Z"
   },
   {
    "duration": 22,
    "start_time": "2022-07-07T16:06:35.041Z"
   },
   {
    "duration": 4,
    "start_time": "2022-07-07T16:06:52.198Z"
   },
   {
    "duration": 29,
    "start_time": "2022-07-07T16:06:53.379Z"
   },
   {
    "duration": 69,
    "start_time": "2022-07-07T16:06:53.698Z"
   },
   {
    "duration": 7,
    "start_time": "2022-07-07T16:07:12.194Z"
   },
   {
    "duration": 678,
    "start_time": "2022-07-07T16:07:12.205Z"
   },
   {
    "duration": 25,
    "start_time": "2022-07-07T16:07:12.885Z"
   },
   {
    "duration": 165,
    "start_time": "2022-07-07T16:07:12.925Z"
   },
   {
    "duration": 5,
    "start_time": "2022-07-07T16:07:13.093Z"
   },
   {
    "duration": 996,
    "start_time": "2022-07-07T16:07:13.100Z"
   },
   {
    "duration": 974,
    "start_time": "2022-07-07T16:07:14.098Z"
   },
   {
    "duration": 27,
    "start_time": "2022-07-07T16:07:15.074Z"
   },
   {
    "duration": 468,
    "start_time": "2022-07-07T16:07:15.103Z"
   },
   {
    "duration": 33,
    "start_time": "2022-07-07T16:07:15.573Z"
   },
   {
    "duration": 25,
    "start_time": "2022-07-07T16:07:15.622Z"
   },
   {
    "duration": 27726,
    "start_time": "2022-07-07T16:07:15.650Z"
   },
   {
    "duration": 20,
    "start_time": "2022-07-07T16:07:43.377Z"
   },
   {
    "duration": 31,
    "start_time": "2022-07-07T16:07:43.399Z"
   },
   {
    "duration": 48,
    "start_time": "2022-07-07T16:07:43.432Z"
   },
   {
    "duration": 55,
    "start_time": "2022-07-07T16:07:43.482Z"
   },
   {
    "duration": 22,
    "start_time": "2022-07-07T16:08:04.847Z"
   },
   {
    "duration": 934,
    "start_time": "2022-07-07T16:08:09.126Z"
   },
   {
    "duration": 11,
    "start_time": "2022-07-07T16:08:24.653Z"
   },
   {
    "duration": 16,
    "start_time": "2022-07-07T16:08:28.114Z"
   },
   {
    "duration": 9,
    "start_time": "2022-07-07T16:08:35.265Z"
   },
   {
    "duration": 88,
    "start_time": "2022-07-07T16:08:50.850Z"
   },
   {
    "duration": 2367,
    "start_time": "2022-07-07T16:09:37.594Z"
   },
   {
    "duration": 5,
    "start_time": "2022-07-07T16:09:53.991Z"
   },
   {
    "duration": 43,
    "start_time": "2022-07-07T16:11:28.886Z"
   },
   {
    "duration": 33,
    "start_time": "2022-07-07T16:11:33.265Z"
   },
   {
    "duration": 41,
    "start_time": "2022-07-07T16:11:41.103Z"
   },
   {
    "duration": 31,
    "start_time": "2022-07-07T16:11:49.357Z"
   },
   {
    "duration": 21,
    "start_time": "2022-07-07T16:11:57.075Z"
   },
   {
    "duration": 22,
    "start_time": "2022-07-07T16:12:00.438Z"
   },
   {
    "duration": 28,
    "start_time": "2022-07-07T16:12:17.238Z"
   },
   {
    "duration": 54,
    "start_time": "2022-07-07T16:12:25.102Z"
   },
   {
    "duration": 49,
    "start_time": "2022-07-07T16:12:31.941Z"
   },
   {
    "duration": 49,
    "start_time": "2022-07-07T16:13:27.158Z"
   },
   {
    "duration": 72,
    "start_time": "2022-07-07T16:13:34.919Z"
   },
   {
    "duration": 1862762,
    "start_time": "2022-07-07T16:14:02.376Z"
   },
   {
    "duration": 8064,
    "start_time": "2022-07-07T17:10:39.037Z"
   },
   {
    "duration": 10,
    "start_time": "2022-07-07T17:10:50.568Z"
   },
   {
    "duration": 1135,
    "start_time": "2022-07-07T17:10:50.581Z"
   },
   {
    "duration": 32,
    "start_time": "2022-07-07T17:10:51.718Z"
   },
   {
    "duration": 148,
    "start_time": "2022-07-07T17:10:51.753Z"
   },
   {
    "duration": 3,
    "start_time": "2022-07-07T17:10:51.903Z"
   },
   {
    "duration": 891,
    "start_time": "2022-07-07T17:10:51.908Z"
   },
   {
    "duration": 867,
    "start_time": "2022-07-07T17:10:52.801Z"
   },
   {
    "duration": 23,
    "start_time": "2022-07-07T17:10:53.669Z"
   },
   {
    "duration": 479,
    "start_time": "2022-07-07T17:10:53.695Z"
   },
   {
    "duration": 48,
    "start_time": "2022-07-07T17:10:54.177Z"
   },
   {
    "duration": 22,
    "start_time": "2022-07-07T17:10:54.228Z"
   },
   {
    "duration": 26238,
    "start_time": "2022-07-07T17:10:54.251Z"
   },
   {
    "duration": 19,
    "start_time": "2022-07-07T17:11:20.491Z"
   },
   {
    "duration": 11,
    "start_time": "2022-07-07T17:11:20.512Z"
   },
   {
    "duration": 36,
    "start_time": "2022-07-07T17:11:20.526Z"
   },
   {
    "duration": 70,
    "start_time": "2022-07-07T17:11:20.564Z"
   },
   {
    "duration": 1904137,
    "start_time": "2022-07-07T17:11:24.599Z"
   },
   {
    "duration": 0,
    "start_time": "2022-07-07T18:16:35.455Z"
   },
   {
    "duration": 0,
    "start_time": "2022-07-07T18:16:35.457Z"
   },
   {
    "duration": 58,
    "start_time": "2022-07-07T18:16:59.939Z"
   },
   {
    "duration": 10,
    "start_time": "2022-07-07T18:17:05.430Z"
   },
   {
    "duration": 645,
    "start_time": "2022-07-07T18:17:05.443Z"
   },
   {
    "duration": 44,
    "start_time": "2022-07-07T18:17:06.090Z"
   },
   {
    "duration": 143,
    "start_time": "2022-07-07T18:17:06.137Z"
   },
   {
    "duration": 4,
    "start_time": "2022-07-07T18:17:06.283Z"
   },
   {
    "duration": 948,
    "start_time": "2022-07-07T18:17:06.290Z"
   },
   {
    "duration": 900,
    "start_time": "2022-07-07T18:17:07.240Z"
   },
   {
    "duration": 19,
    "start_time": "2022-07-07T18:17:08.142Z"
   },
   {
    "duration": 421,
    "start_time": "2022-07-07T18:17:08.163Z"
   },
   {
    "duration": 48,
    "start_time": "2022-07-07T18:17:08.587Z"
   },
   {
    "duration": 25,
    "start_time": "2022-07-07T18:17:08.637Z"
   },
   {
    "duration": 26790,
    "start_time": "2022-07-07T18:17:08.665Z"
   },
   {
    "duration": 24,
    "start_time": "2022-07-07T18:17:35.457Z"
   },
   {
    "duration": 2,
    "start_time": "2022-07-07T18:17:35.485Z"
   },
   {
    "duration": 73,
    "start_time": "2022-07-07T18:17:35.490Z"
   },
   {
    "duration": 59,
    "start_time": "2022-07-07T18:17:35.566Z"
   },
   {
    "duration": 2316,
    "start_time": "2022-07-07T18:17:35.627Z"
   },
   {
    "duration": 1741273,
    "start_time": "2022-07-07T18:18:41.624Z"
   },
   {
    "duration": 0,
    "start_time": "2022-07-07T18:47:42.899Z"
   },
   {
    "duration": 0,
    "start_time": "2022-07-07T18:47:42.900Z"
   },
   {
    "duration": 12863,
    "start_time": "2022-07-07T18:49:30.823Z"
   },
   {
    "duration": 0,
    "start_time": "2022-07-07T18:49:43.689Z"
   },
   {
    "duration": 0,
    "start_time": "2022-07-07T18:49:43.690Z"
   },
   {
    "duration": 0,
    "start_time": "2022-07-07T18:49:43.691Z"
   },
   {
    "duration": 0,
    "start_time": "2022-07-07T18:49:43.695Z"
   },
   {
    "duration": 0,
    "start_time": "2022-07-07T18:49:43.696Z"
   },
   {
    "duration": 0,
    "start_time": "2022-07-07T18:49:43.698Z"
   },
   {
    "duration": 0,
    "start_time": "2022-07-07T18:49:43.700Z"
   },
   {
    "duration": 0,
    "start_time": "2022-07-07T18:49:43.725Z"
   },
   {
    "duration": 0,
    "start_time": "2022-07-07T18:49:43.726Z"
   },
   {
    "duration": 0,
    "start_time": "2022-07-07T18:49:43.728Z"
   },
   {
    "duration": 0,
    "start_time": "2022-07-07T18:49:43.729Z"
   },
   {
    "duration": 0,
    "start_time": "2022-07-07T18:49:43.730Z"
   },
   {
    "duration": 0,
    "start_time": "2022-07-07T18:49:43.731Z"
   },
   {
    "duration": 0,
    "start_time": "2022-07-07T18:49:43.739Z"
   },
   {
    "duration": 0,
    "start_time": "2022-07-07T18:49:43.740Z"
   },
   {
    "duration": 0,
    "start_time": "2022-07-07T18:49:43.742Z"
   },
   {
    "duration": 0,
    "start_time": "2022-07-07T18:49:43.745Z"
   },
   {
    "duration": 12,
    "start_time": "2022-07-07T18:49:46.300Z"
   },
   {
    "duration": 680,
    "start_time": "2022-07-07T18:49:46.315Z"
   },
   {
    "duration": 48,
    "start_time": "2022-07-07T18:49:46.998Z"
   },
   {
    "duration": 151,
    "start_time": "2022-07-07T18:49:47.048Z"
   },
   {
    "duration": 102,
    "start_time": "2022-07-07T18:49:47.201Z"
   },
   {
    "duration": 26,
    "start_time": "2022-07-07T18:49:47.306Z"
   },
   {
    "duration": 943,
    "start_time": "2022-07-07T18:49:47.336Z"
   },
   {
    "duration": 983,
    "start_time": "2022-07-07T18:49:48.281Z"
   },
   {
    "duration": 21,
    "start_time": "2022-07-07T18:49:49.266Z"
   },
   {
    "duration": 675,
    "start_time": "2022-07-07T18:49:49.290Z"
   },
   {
    "duration": 34,
    "start_time": "2022-07-07T18:49:49.967Z"
   },
   {
    "duration": 44,
    "start_time": "2022-07-07T18:49:50.003Z"
   },
   {
    "duration": 26197,
    "start_time": "2022-07-07T18:49:50.049Z"
   },
   {
    "duration": 18,
    "start_time": "2022-07-07T18:50:16.248Z"
   },
   {
    "duration": 4,
    "start_time": "2022-07-07T18:50:16.269Z"
   },
   {
    "duration": 74,
    "start_time": "2022-07-07T18:50:16.275Z"
   },
   {
    "duration": 44,
    "start_time": "2022-07-07T18:50:16.351Z"
   },
   {
    "duration": 1718549,
    "start_time": "2022-07-07T18:50:16.397Z"
   },
   {
    "duration": 7,
    "start_time": "2022-07-08T09:13:26.717Z"
   },
   {
    "duration": 610,
    "start_time": "2022-07-08T09:13:26.726Z"
   },
   {
    "duration": 25,
    "start_time": "2022-07-08T09:13:27.338Z"
   },
   {
    "duration": 132,
    "start_time": "2022-07-08T09:13:27.364Z"
   },
   {
    "duration": 106,
    "start_time": "2022-07-08T09:13:27.498Z"
   },
   {
    "duration": 4,
    "start_time": "2022-07-08T09:13:27.606Z"
   },
   {
    "duration": 850,
    "start_time": "2022-07-08T09:13:27.612Z"
   },
   {
    "duration": 888,
    "start_time": "2022-07-08T09:13:28.463Z"
   },
   {
    "duration": 17,
    "start_time": "2022-07-08T09:13:29.353Z"
   },
   {
    "duration": 428,
    "start_time": "2022-07-08T09:13:29.372Z"
   },
   {
    "duration": 43,
    "start_time": "2022-07-08T09:13:29.802Z"
   },
   {
    "duration": 17,
    "start_time": "2022-07-08T09:13:29.846Z"
   },
   {
    "duration": 25026,
    "start_time": "2022-07-08T09:13:29.865Z"
   },
   {
    "duration": 30,
    "start_time": "2022-07-08T09:13:54.895Z"
   },
   {
    "duration": 3,
    "start_time": "2022-07-08T09:13:54.927Z"
   },
   {
    "duration": 46,
    "start_time": "2022-07-08T09:13:54.931Z"
   },
   {
    "duration": 59,
    "start_time": "2022-07-08T09:13:54.980Z"
   },
   {
    "duration": 1613066,
    "start_time": "2022-07-08T09:13:55.040Z"
   },
   {
    "duration": 12,
    "start_time": "2022-07-08T10:46:03.960Z"
   },
   {
    "duration": 20,
    "start_time": "2022-07-08T10:46:22.365Z"
   },
   {
    "duration": 17,
    "start_time": "2022-07-08T10:47:00.723Z"
   },
   {
    "duration": 14,
    "start_time": "2022-07-08T10:47:21.059Z"
   },
   {
    "duration": 10,
    "start_time": "2022-07-08T10:48:59.037Z"
   },
   {
    "duration": 616,
    "start_time": "2022-07-08T10:48:59.049Z"
   },
   {
    "duration": 25,
    "start_time": "2022-07-08T10:48:59.667Z"
   },
   {
    "duration": 163,
    "start_time": "2022-07-08T10:48:59.694Z"
   },
   {
    "duration": 105,
    "start_time": "2022-07-08T10:48:59.859Z"
   },
   {
    "duration": 3,
    "start_time": "2022-07-08T10:48:59.966Z"
   },
   {
    "duration": 855,
    "start_time": "2022-07-08T10:48:59.971Z"
   },
   {
    "duration": 858,
    "start_time": "2022-07-08T10:49:00.828Z"
   },
   {
    "duration": 38,
    "start_time": "2022-07-08T10:49:01.687Z"
   },
   {
    "duration": 410,
    "start_time": "2022-07-08T10:49:01.728Z"
   },
   {
    "duration": 33,
    "start_time": "2022-07-08T10:49:02.139Z"
   },
   {
    "duration": 17,
    "start_time": "2022-07-08T10:49:02.173Z"
   },
   {
    "duration": 8,
    "start_time": "2022-07-08T10:49:08.871Z"
   },
   {
    "duration": 24774,
    "start_time": "2022-07-08T10:49:26.395Z"
   },
   {
    "duration": 18,
    "start_time": "2022-07-08T10:50:02.594Z"
   },
   {
    "duration": 23,
    "start_time": "2022-07-08T10:50:18.499Z"
   },
   {
    "duration": 1588831,
    "start_time": "2022-07-08T10:50:28.064Z"
   },
   {
    "duration": 30,
    "start_time": "2022-07-08T11:16:56.897Z"
   },
   {
    "duration": 3,
    "start_time": "2022-07-08T11:16:56.928Z"
   },
   {
    "duration": 48,
    "start_time": "2022-07-08T11:16:56.933Z"
   },
   {
    "duration": 48,
    "start_time": "2022-07-08T11:16:56.982Z"
   },
   {
    "duration": 0,
    "start_time": "2022-07-08T11:42:42.059Z"
   },
   {
    "duration": 11,
    "start_time": "2022-07-08T11:42:45.366Z"
   },
   {
    "duration": 664,
    "start_time": "2022-07-08T11:42:45.379Z"
   },
   {
    "duration": 30,
    "start_time": "2022-07-08T11:42:46.046Z"
   },
   {
    "duration": 150,
    "start_time": "2022-07-08T11:42:46.078Z"
   },
   {
    "duration": 125,
    "start_time": "2022-07-08T11:42:46.230Z"
   },
   {
    "duration": 3,
    "start_time": "2022-07-08T11:42:46.357Z"
   },
   {
    "duration": 916,
    "start_time": "2022-07-08T11:42:46.362Z"
   },
   {
    "duration": 805,
    "start_time": "2022-07-08T11:42:47.280Z"
   },
   {
    "duration": 39,
    "start_time": "2022-07-08T11:42:48.087Z"
   },
   {
    "duration": 449,
    "start_time": "2022-07-08T11:42:48.129Z"
   },
   {
    "duration": 54,
    "start_time": "2022-07-08T11:42:48.580Z"
   },
   {
    "duration": 19,
    "start_time": "2022-07-08T11:42:48.636Z"
   },
   {
    "duration": 25511,
    "start_time": "2022-07-08T11:42:48.657Z"
   },
   {
    "duration": 19,
    "start_time": "2022-07-08T11:43:14.170Z"
   },
   {
    "duration": 4,
    "start_time": "2022-07-08T11:43:14.191Z"
   },
   {
    "duration": 53,
    "start_time": "2022-07-08T11:43:14.197Z"
   },
   {
    "duration": 46,
    "start_time": "2022-07-08T11:43:14.252Z"
   },
   {
    "duration": 1534175,
    "start_time": "2022-07-08T11:43:14.301Z"
   },
   {
    "duration": 15,
    "start_time": "2022-07-08T12:11:07.522Z"
   },
   {
    "duration": 8,
    "start_time": "2022-07-08T12:13:00.441Z"
   },
   {
    "duration": 660,
    "start_time": "2022-07-08T12:13:00.451Z"
   },
   {
    "duration": 28,
    "start_time": "2022-07-08T12:13:01.113Z"
   },
   {
    "duration": 133,
    "start_time": "2022-07-08T12:13:01.143Z"
   },
   {
    "duration": 121,
    "start_time": "2022-07-08T12:13:01.278Z"
   },
   {
    "duration": 4,
    "start_time": "2022-07-08T12:13:01.400Z"
   },
   {
    "duration": 861,
    "start_time": "2022-07-08T12:13:01.406Z"
   },
   {
    "duration": 846,
    "start_time": "2022-07-08T12:13:02.269Z"
   },
   {
    "duration": 22,
    "start_time": "2022-07-08T12:13:03.124Z"
   },
   {
    "duration": 440,
    "start_time": "2022-07-08T12:13:03.148Z"
   },
   {
    "duration": 43,
    "start_time": "2022-07-08T12:13:03.590Z"
   },
   {
    "duration": 19,
    "start_time": "2022-07-08T12:13:03.635Z"
   },
   {
    "duration": 25232,
    "start_time": "2022-07-08T12:13:03.656Z"
   },
   {
    "duration": 34,
    "start_time": "2022-07-08T12:13:28.891Z"
   },
   {
    "duration": 3,
    "start_time": "2022-07-08T12:13:28.928Z"
   },
   {
    "duration": 53,
    "start_time": "2022-07-08T12:13:28.933Z"
   },
   {
    "duration": 72,
    "start_time": "2022-07-08T12:13:28.989Z"
   },
   {
    "duration": 32285,
    "start_time": "2022-07-08T12:13:44.849Z"
   },
   {
    "duration": 3,
    "start_time": "2022-07-08T12:14:32.998Z"
   },
   {
    "duration": 68,
    "start_time": "2022-07-08T12:15:05.823Z"
   },
   {
    "duration": 20,
    "start_time": "2022-07-08T12:42:31.487Z"
   },
   {
    "duration": 39,
    "start_time": "2022-07-08T13:18:44.543Z"
   },
   {
    "duration": 23,
    "start_time": "2022-07-08T13:18:48.648Z"
   },
   {
    "duration": 21,
    "start_time": "2022-07-08T13:19:12.325Z"
   },
   {
    "duration": 39,
    "start_time": "2022-07-08T13:19:45.123Z"
   },
   {
    "duration": 83,
    "start_time": "2022-07-08T13:20:14.601Z"
   },
   {
    "duration": 41,
    "start_time": "2022-07-08T13:20:17.799Z"
   },
   {
    "duration": 28,
    "start_time": "2022-07-08T13:20:23.638Z"
   },
   {
    "duration": 33,
    "start_time": "2022-07-08T13:20:39.916Z"
   },
   {
    "duration": 9,
    "start_time": "2022-07-08T13:21:42.407Z"
   },
   {
    "duration": 8,
    "start_time": "2022-07-08T13:21:52.250Z"
   },
   {
    "duration": 13,
    "start_time": "2022-07-08T13:22:01.717Z"
   },
   {
    "duration": 702,
    "start_time": "2022-07-08T13:22:01.745Z"
   },
   {
    "duration": 27,
    "start_time": "2022-07-08T13:22:02.453Z"
   },
   {
    "duration": 151,
    "start_time": "2022-07-08T13:22:02.483Z"
   },
   {
    "duration": 117,
    "start_time": "2022-07-08T13:22:02.637Z"
   },
   {
    "duration": 4,
    "start_time": "2022-07-08T13:22:02.756Z"
   },
   {
    "duration": 995,
    "start_time": "2022-07-08T13:22:02.763Z"
   },
   {
    "duration": 992,
    "start_time": "2022-07-08T13:22:03.760Z"
   },
   {
    "duration": 19,
    "start_time": "2022-07-08T13:22:04.753Z"
   },
   {
    "duration": 489,
    "start_time": "2022-07-08T13:22:04.777Z"
   },
   {
    "duration": 32,
    "start_time": "2022-07-08T13:22:05.268Z"
   },
   {
    "duration": 36,
    "start_time": "2022-07-08T13:22:05.302Z"
   },
   {
    "duration": 28198,
    "start_time": "2022-07-08T13:22:05.341Z"
   },
   {
    "duration": 21,
    "start_time": "2022-07-08T13:22:33.540Z"
   },
   {
    "duration": 3,
    "start_time": "2022-07-08T13:22:33.563Z"
   },
   {
    "duration": 59,
    "start_time": "2022-07-08T13:22:33.568Z"
   },
   {
    "duration": 62,
    "start_time": "2022-07-08T13:22:33.633Z"
   },
   {
    "duration": 35574,
    "start_time": "2022-07-08T13:22:33.697Z"
   },
   {
    "duration": 65,
    "start_time": "2022-07-08T13:23:09.274Z"
   },
   {
    "duration": 35,
    "start_time": "2022-07-08T13:23:09.342Z"
   },
   {
    "duration": 61,
    "start_time": "2022-07-08T13:23:09.379Z"
   },
   {
    "duration": 23,
    "start_time": "2022-07-08T13:23:09.443Z"
   },
   {
    "duration": 46,
    "start_time": "2022-07-08T13:23:09.470Z"
   },
   {
    "duration": 47,
    "start_time": "2022-07-08T13:23:09.518Z"
   },
   {
    "duration": 42,
    "start_time": "2022-07-08T13:23:37.147Z"
   },
   {
    "duration": 10095,
    "start_time": "2022-07-08T13:25:16.898Z"
   },
   {
    "duration": 9,
    "start_time": "2022-07-08T13:25:31.064Z"
   },
   {
    "duration": 664,
    "start_time": "2022-07-08T13:25:31.082Z"
   },
   {
    "duration": 28,
    "start_time": "2022-07-08T13:25:31.752Z"
   },
   {
    "duration": 175,
    "start_time": "2022-07-08T13:25:31.782Z"
   },
   {
    "duration": 122,
    "start_time": "2022-07-08T13:25:31.959Z"
   },
   {
    "duration": 3,
    "start_time": "2022-07-08T13:25:32.084Z"
   },
   {
    "duration": 966,
    "start_time": "2022-07-08T13:25:32.089Z"
   },
   {
    "duration": 962,
    "start_time": "2022-07-08T13:25:33.057Z"
   },
   {
    "duration": 24,
    "start_time": "2022-07-08T13:25:34.025Z"
   },
   {
    "duration": 449,
    "start_time": "2022-07-08T13:25:34.054Z"
   },
   {
    "duration": 51,
    "start_time": "2022-07-08T13:25:34.504Z"
   },
   {
    "duration": 22,
    "start_time": "2022-07-08T13:25:34.557Z"
   },
   {
    "duration": 27406,
    "start_time": "2022-07-08T13:25:34.581Z"
   },
   {
    "duration": 18,
    "start_time": "2022-07-08T13:26:01.989Z"
   },
   {
    "duration": 9,
    "start_time": "2022-07-08T13:26:02.028Z"
   },
   {
    "duration": 36,
    "start_time": "2022-07-08T13:26:02.040Z"
   },
   {
    "duration": 68,
    "start_time": "2022-07-08T13:26:02.078Z"
   },
   {
    "duration": 34623,
    "start_time": "2022-07-08T13:26:02.148Z"
   },
   {
    "duration": 64,
    "start_time": "2022-07-08T13:26:36.774Z"
   },
   {
    "duration": 24,
    "start_time": "2022-07-08T13:26:36.839Z"
   },
   {
    "duration": 38,
    "start_time": "2022-07-08T13:26:36.865Z"
   },
   {
    "duration": 49,
    "start_time": "2022-07-08T13:26:36.905Z"
   },
   {
    "duration": 33,
    "start_time": "2022-07-08T13:26:36.957Z"
   },
   {
    "duration": 52,
    "start_time": "2022-07-08T13:26:36.992Z"
   },
   {
    "duration": 44,
    "start_time": "2022-07-08T13:26:37.047Z"
   },
   {
    "duration": 31901,
    "start_time": "2022-07-08T13:26:37.093Z"
   },
   {
    "duration": 6,
    "start_time": "2022-07-08T13:27:22.782Z"
   },
   {
    "duration": 680,
    "start_time": "2022-07-08T13:27:22.790Z"
   },
   {
    "duration": 32,
    "start_time": "2022-07-08T13:27:23.472Z"
   },
   {
    "duration": 171,
    "start_time": "2022-07-08T13:27:23.506Z"
   },
   {
    "duration": 107,
    "start_time": "2022-07-08T13:27:23.679Z"
   },
   {
    "duration": 3,
    "start_time": "2022-07-08T13:27:23.788Z"
   },
   {
    "duration": 964,
    "start_time": "2022-07-08T13:27:23.792Z"
   },
   {
    "duration": 987,
    "start_time": "2022-07-08T13:27:24.758Z"
   },
   {
    "duration": 19,
    "start_time": "2022-07-08T13:27:25.747Z"
   },
   {
    "duration": 525,
    "start_time": "2022-07-08T13:27:25.768Z"
   },
   {
    "duration": 55,
    "start_time": "2022-07-08T13:27:26.295Z"
   },
   {
    "duration": 19,
    "start_time": "2022-07-08T13:27:26.352Z"
   },
   {
    "duration": 28346,
    "start_time": "2022-07-08T13:27:26.373Z"
   },
   {
    "duration": 44,
    "start_time": "2022-07-08T13:27:54.721Z"
   },
   {
    "duration": 8,
    "start_time": "2022-07-08T13:27:54.767Z"
   },
   {
    "duration": 43,
    "start_time": "2022-07-08T13:27:54.777Z"
   },
   {
    "duration": 83,
    "start_time": "2022-07-08T13:27:54.823Z"
   },
   {
    "duration": 35892,
    "start_time": "2022-07-08T13:27:54.909Z"
   },
   {
    "duration": 53,
    "start_time": "2022-07-08T13:28:30.803Z"
   },
   {
    "duration": 21,
    "start_time": "2022-07-08T13:28:30.858Z"
   },
   {
    "duration": 87,
    "start_time": "2022-07-08T13:28:30.881Z"
   },
   {
    "duration": 26,
    "start_time": "2022-07-08T13:28:30.970Z"
   },
   {
    "duration": 45,
    "start_time": "2022-07-08T13:28:30.999Z"
   },
   {
    "duration": 42,
    "start_time": "2022-07-08T13:28:31.046Z"
   },
   {
    "duration": 63,
    "start_time": "2022-07-08T13:28:31.090Z"
   },
   {
    "duration": 30581,
    "start_time": "2022-07-08T13:28:31.156Z"
   },
   {
    "duration": 35,
    "start_time": "2022-07-08T14:40:16.740Z"
   },
   {
    "duration": 1926,
    "start_time": "2022-07-08T14:47:04.638Z"
   },
   {
    "duration": 700,
    "start_time": "2022-07-08T14:47:06.566Z"
   },
   {
    "duration": 27,
    "start_time": "2022-07-08T14:47:07.267Z"
   },
   {
    "duration": 150,
    "start_time": "2022-07-08T14:47:07.296Z"
   },
   {
    "duration": 119,
    "start_time": "2022-07-08T14:47:07.448Z"
   },
   {
    "duration": 4,
    "start_time": "2022-07-08T14:47:07.569Z"
   },
   {
    "duration": 935,
    "start_time": "2022-07-08T14:47:07.575Z"
   },
   {
    "duration": 1053,
    "start_time": "2022-07-08T14:47:08.512Z"
   },
   {
    "duration": 17,
    "start_time": "2022-07-08T14:47:09.567Z"
   },
   {
    "duration": 518,
    "start_time": "2022-07-08T14:47:09.586Z"
   },
   {
    "duration": 64,
    "start_time": "2022-07-08T14:47:10.107Z"
   },
   {
    "duration": 20,
    "start_time": "2022-07-08T14:47:10.173Z"
   },
   {
    "duration": 28015,
    "start_time": "2022-07-08T14:47:10.196Z"
   },
   {
    "duration": 27,
    "start_time": "2022-07-08T14:47:38.213Z"
   },
   {
    "duration": 6,
    "start_time": "2022-07-08T14:47:38.243Z"
   },
   {
    "duration": 33,
    "start_time": "2022-07-08T14:47:38.251Z"
   },
   {
    "duration": 74,
    "start_time": "2022-07-08T14:47:38.286Z"
   },
   {
    "duration": 31995,
    "start_time": "2022-07-08T14:47:38.361Z"
   },
   {
    "duration": 40,
    "start_time": "2022-07-08T14:48:10.358Z"
   },
   {
    "duration": 39,
    "start_time": "2022-07-08T14:48:10.400Z"
   },
   {
    "duration": 55,
    "start_time": "2022-07-08T14:48:10.441Z"
   },
   {
    "duration": 41,
    "start_time": "2022-07-08T14:48:10.498Z"
   },
   {
    "duration": 33,
    "start_time": "2022-07-08T14:48:10.541Z"
   },
   {
    "duration": 56,
    "start_time": "2022-07-08T14:48:10.576Z"
   },
   {
    "duration": 39,
    "start_time": "2022-07-08T14:48:10.634Z"
   },
   {
    "duration": 30013,
    "start_time": "2022-07-08T14:48:10.674Z"
   },
   {
    "duration": 43,
    "start_time": "2022-07-08T14:48:40.690Z"
   },
   {
    "duration": 47,
    "start_time": "2022-07-08T14:48:40.741Z"
   },
   {
    "duration": 8,
    "start_time": "2022-07-08T14:48:40.790Z"
   },
   {
    "duration": 61,
    "start_time": "2022-07-08T14:48:40.800Z"
   },
   {
    "duration": 16,
    "start_time": "2022-07-08T14:48:40.863Z"
   },
   {
    "duration": 18,
    "start_time": "2022-07-08T14:48:40.880Z"
   },
   {
    "duration": 48,
    "start_time": "2022-07-08T14:48:40.928Z"
   },
   {
    "duration": 71,
    "start_time": "2022-07-08T14:48:40.978Z"
   },
   {
    "duration": 41,
    "start_time": "2022-07-08T14:48:41.051Z"
   },
   {
    "duration": 69,
    "start_time": "2022-07-08T14:48:41.095Z"
   },
   {
    "duration": 16,
    "start_time": "2022-07-08T14:48:41.165Z"
   },
   {
    "duration": 43,
    "start_time": "2022-07-08T14:48:41.184Z"
   },
   {
    "duration": 27,
    "start_time": "2022-07-08T14:48:41.230Z"
   },
   {
    "duration": 167,
    "start_time": "2022-07-08T14:48:41.259Z"
   },
   {
    "duration": 19,
    "start_time": "2022-07-08T15:12:42.073Z"
   },
   {
    "duration": 10,
    "start_time": "2022-07-08T15:15:42.254Z"
   },
   {
    "duration": 23,
    "start_time": "2022-07-08T15:15:50.681Z"
   },
   {
    "duration": 36,
    "start_time": "2022-07-08T15:16:05.020Z"
   },
   {
    "duration": 4,
    "start_time": "2022-07-08T15:16:51.851Z"
   },
   {
    "duration": 30,
    "start_time": "2022-07-08T15:16:57.773Z"
   },
   {
    "duration": 16,
    "start_time": "2022-07-08T15:17:12.556Z"
   },
   {
    "duration": 17,
    "start_time": "2022-07-08T15:17:18.944Z"
   },
   {
    "duration": 13,
    "start_time": "2022-07-08T15:17:36.039Z"
   },
   {
    "duration": 1713,
    "start_time": "2022-07-08T15:17:42.447Z"
   },
   {
    "duration": 752,
    "start_time": "2022-07-08T15:17:44.163Z"
   },
   {
    "duration": 41,
    "start_time": "2022-07-08T15:17:44.917Z"
   },
   {
    "duration": 147,
    "start_time": "2022-07-08T15:17:44.960Z"
   },
   {
    "duration": 125,
    "start_time": "2022-07-08T15:17:45.122Z"
   },
   {
    "duration": 3,
    "start_time": "2022-07-08T15:17:45.250Z"
   },
   {
    "duration": 993,
    "start_time": "2022-07-08T15:17:45.255Z"
   },
   {
    "duration": 914,
    "start_time": "2022-07-08T15:17:46.250Z"
   },
   {
    "duration": 19,
    "start_time": "2022-07-08T15:17:47.165Z"
   },
   {
    "duration": 548,
    "start_time": "2022-07-08T15:17:47.186Z"
   },
   {
    "duration": 63,
    "start_time": "2022-07-08T15:17:47.738Z"
   },
   {
    "duration": 17,
    "start_time": "2022-07-08T15:17:47.802Z"
   },
   {
    "duration": 29321,
    "start_time": "2022-07-08T15:17:47.821Z"
   },
   {
    "duration": 22,
    "start_time": "2022-07-08T15:18:17.149Z"
   },
   {
    "duration": 4,
    "start_time": "2022-07-08T15:18:17.173Z"
   },
   {
    "duration": 34,
    "start_time": "2022-07-08T15:18:17.179Z"
   },
   {
    "duration": 46,
    "start_time": "2022-07-08T15:18:17.229Z"
   },
   {
    "duration": 33606,
    "start_time": "2022-07-08T15:18:17.277Z"
   },
   {
    "duration": 56,
    "start_time": "2022-07-08T15:18:50.885Z"
   },
   {
    "duration": 22,
    "start_time": "2022-07-08T15:18:50.943Z"
   },
   {
    "duration": 74,
    "start_time": "2022-07-08T15:18:50.967Z"
   },
   {
    "duration": 19,
    "start_time": "2022-07-08T15:18:51.043Z"
   },
   {
    "duration": 31,
    "start_time": "2022-07-08T15:18:51.064Z"
   },
   {
    "duration": 71,
    "start_time": "2022-07-08T15:18:51.097Z"
   },
   {
    "duration": 61,
    "start_time": "2022-07-08T15:18:51.169Z"
   },
   {
    "duration": 31711,
    "start_time": "2022-07-08T15:18:51.241Z"
   },
   {
    "duration": 40,
    "start_time": "2022-07-08T15:19:22.954Z"
   },
   {
    "duration": 67,
    "start_time": "2022-07-08T15:19:22.996Z"
   },
   {
    "duration": 17,
    "start_time": "2022-07-08T15:19:23.065Z"
   },
   {
    "duration": 10,
    "start_time": "2022-07-08T15:19:23.084Z"
   },
   {
    "duration": 69,
    "start_time": "2022-07-08T15:19:23.096Z"
   },
   {
    "duration": 14,
    "start_time": "2022-07-08T15:19:23.167Z"
   },
   {
    "duration": 43,
    "start_time": "2022-07-08T15:19:23.183Z"
   },
   {
    "duration": 48,
    "start_time": "2022-07-08T15:19:23.235Z"
   },
   {
    "duration": 49,
    "start_time": "2022-07-08T15:19:23.285Z"
   },
   {
    "duration": 53,
    "start_time": "2022-07-08T15:19:23.341Z"
   },
   {
    "duration": 60,
    "start_time": "2022-07-08T15:19:23.396Z"
   },
   {
    "duration": 12,
    "start_time": "2022-07-08T15:19:23.458Z"
   },
   {
    "duration": 15,
    "start_time": "2022-07-08T15:19:23.471Z"
   },
   {
    "duration": 39,
    "start_time": "2022-07-08T15:19:23.488Z"
   },
   {
    "duration": 149,
    "start_time": "2022-07-08T15:19:23.531Z"
   },
   {
    "duration": 72,
    "start_time": "2022-07-08T15:24:41.799Z"
   },
   {
    "duration": 8,
    "start_time": "2022-07-08T15:24:59.865Z"
   },
   {
    "duration": 9,
    "start_time": "2022-07-08T15:26:07.505Z"
   },
   {
    "duration": 742,
    "start_time": "2022-07-08T15:26:07.516Z"
   },
   {
    "duration": 25,
    "start_time": "2022-07-08T15:26:08.262Z"
   },
   {
    "duration": 154,
    "start_time": "2022-07-08T15:26:08.290Z"
   },
   {
    "duration": 103,
    "start_time": "2022-07-08T15:26:08.452Z"
   },
   {
    "duration": 4,
    "start_time": "2022-07-08T15:26:08.557Z"
   },
   {
    "duration": 1069,
    "start_time": "2022-07-08T15:26:08.562Z"
   },
   {
    "duration": 904,
    "start_time": "2022-07-08T15:26:09.638Z"
   },
   {
    "duration": 21,
    "start_time": "2022-07-08T15:26:10.546Z"
   },
   {
    "duration": 431,
    "start_time": "2022-07-08T15:26:10.571Z"
   },
   {
    "duration": 48,
    "start_time": "2022-07-08T15:26:11.003Z"
   },
   {
    "duration": 18,
    "start_time": "2022-07-08T15:26:11.053Z"
   },
   {
    "duration": 28683,
    "start_time": "2022-07-08T15:26:11.073Z"
   },
   {
    "duration": 21,
    "start_time": "2022-07-08T15:26:39.759Z"
   },
   {
    "duration": 3,
    "start_time": "2022-07-08T15:26:39.781Z"
   },
   {
    "duration": 60,
    "start_time": "2022-07-08T15:26:39.786Z"
   },
   {
    "duration": 50,
    "start_time": "2022-07-08T15:26:39.850Z"
   },
   {
    "duration": 6,
    "start_time": "2022-07-08T15:26:39.902Z"
   },
   {
    "duration": 6,
    "start_time": "2022-07-08T15:26:46.015Z"
   },
   {
    "duration": 41,
    "start_time": "2022-07-08T15:26:48.049Z"
   },
   {
    "duration": 5,
    "start_time": "2022-07-08T15:27:19.483Z"
   },
   {
    "duration": 34730,
    "start_time": "2022-07-08T15:27:20.379Z"
   },
   {
    "duration": 36,
    "start_time": "2022-07-09T09:07:21.398Z"
   },
   {
    "duration": 37,
    "start_time": "2022-07-09T09:10:18.714Z"
   },
   {
    "duration": 8,
    "start_time": "2022-07-09T09:10:34.016Z"
   },
   {
    "duration": 6,
    "start_time": "2022-07-09T09:10:49.937Z"
   },
   {
    "duration": 588,
    "start_time": "2022-07-09T09:10:49.945Z"
   },
   {
    "duration": 25,
    "start_time": "2022-07-09T09:10:50.535Z"
   },
   {
    "duration": 113,
    "start_time": "2022-07-09T09:10:50.562Z"
   },
   {
    "duration": 105,
    "start_time": "2022-07-09T09:10:50.676Z"
   },
   {
    "duration": 3,
    "start_time": "2022-07-09T09:10:50.782Z"
   },
   {
    "duration": 753,
    "start_time": "2022-07-09T09:10:50.787Z"
   },
   {
    "duration": 734,
    "start_time": "2022-07-09T09:10:51.542Z"
   },
   {
    "duration": 17,
    "start_time": "2022-07-09T09:10:52.279Z"
   },
   {
    "duration": 380,
    "start_time": "2022-07-09T09:10:52.298Z"
   },
   {
    "duration": 30,
    "start_time": "2022-07-09T09:10:52.680Z"
   },
   {
    "duration": 17,
    "start_time": "2022-07-09T09:10:52.724Z"
   },
   {
    "duration": 23684,
    "start_time": "2022-07-09T09:10:52.742Z"
   },
   {
    "duration": 22,
    "start_time": "2022-07-09T09:11:16.429Z"
   },
   {
    "duration": 7,
    "start_time": "2022-07-09T09:11:16.454Z"
   },
   {
    "duration": 38,
    "start_time": "2022-07-09T09:11:16.464Z"
   },
   {
    "duration": 41,
    "start_time": "2022-07-09T09:11:16.523Z"
   },
   {
    "duration": 6,
    "start_time": "2022-07-09T09:11:16.566Z"
   },
   {
    "duration": 28376,
    "start_time": "2022-07-09T09:11:16.574Z"
   },
   {
    "duration": 38,
    "start_time": "2022-07-09T09:11:44.952Z"
   },
   {
    "duration": 39,
    "start_time": "2022-07-09T09:11:44.992Z"
   },
   {
    "duration": 39,
    "start_time": "2022-07-09T09:11:45.032Z"
   },
   {
    "duration": 17,
    "start_time": "2022-07-09T09:11:45.074Z"
   },
   {
    "duration": 28,
    "start_time": "2022-07-09T09:11:45.123Z"
   },
   {
    "duration": 28,
    "start_time": "2022-07-09T09:11:45.153Z"
   },
   {
    "duration": 58,
    "start_time": "2022-07-09T09:11:45.182Z"
   },
   {
    "duration": 48,
    "start_time": "2022-07-09T09:11:45.241Z"
   },
   {
    "duration": 0,
    "start_time": "2022-07-09T09:11:45.291Z"
   },
   {
    "duration": 0,
    "start_time": "2022-07-09T09:11:45.292Z"
   },
   {
    "duration": 0,
    "start_time": "2022-07-09T09:11:45.294Z"
   },
   {
    "duration": 0,
    "start_time": "2022-07-09T09:11:45.295Z"
   },
   {
    "duration": 0,
    "start_time": "2022-07-09T09:11:45.296Z"
   },
   {
    "duration": 26369,
    "start_time": "2022-07-09T09:13:43.307Z"
   },
   {
    "duration": 31,
    "start_time": "2022-07-09T09:14:09.678Z"
   },
   {
    "duration": 44,
    "start_time": "2022-07-09T09:14:09.710Z"
   },
   {
    "duration": 16,
    "start_time": "2022-07-09T09:14:31.281Z"
   },
   {
    "duration": 13,
    "start_time": "2022-07-09T09:14:32.817Z"
   },
   {
    "duration": 29,
    "start_time": "2022-07-09T09:14:44.867Z"
   },
   {
    "duration": 8,
    "start_time": "2022-07-09T09:20:28.680Z"
   },
   {
    "duration": 7,
    "start_time": "2022-07-09T09:20:37.623Z"
   },
   {
    "duration": 657,
    "start_time": "2022-07-09T09:20:37.633Z"
   },
   {
    "duration": 36,
    "start_time": "2022-07-09T09:20:38.292Z"
   },
   {
    "duration": 119,
    "start_time": "2022-07-09T09:20:38.330Z"
   },
   {
    "duration": 116,
    "start_time": "2022-07-09T09:20:38.451Z"
   },
   {
    "duration": 4,
    "start_time": "2022-07-09T09:20:38.568Z"
   },
   {
    "duration": 844,
    "start_time": "2022-07-09T09:20:38.574Z"
   },
   {
    "duration": 776,
    "start_time": "2022-07-09T09:20:39.422Z"
   },
   {
    "duration": 29,
    "start_time": "2022-07-09T09:20:40.200Z"
   },
   {
    "duration": 498,
    "start_time": "2022-07-09T09:20:40.233Z"
   },
   {
    "duration": 32,
    "start_time": "2022-07-09T09:20:40.733Z"
   },
   {
    "duration": 19,
    "start_time": "2022-07-09T09:20:40.767Z"
   },
   {
    "duration": 23554,
    "start_time": "2022-07-09T09:20:40.822Z"
   },
   {
    "duration": 16,
    "start_time": "2022-07-09T09:21:04.378Z"
   },
   {
    "duration": 5,
    "start_time": "2022-07-09T09:21:04.396Z"
   },
   {
    "duration": 42,
    "start_time": "2022-07-09T09:21:04.403Z"
   },
   {
    "duration": 42,
    "start_time": "2022-07-09T09:21:04.447Z"
   },
   {
    "duration": 8,
    "start_time": "2022-07-09T09:21:04.490Z"
   },
   {
    "duration": 1919,
    "start_time": "2022-07-09T09:21:04.500Z"
   },
   {
    "duration": 6,
    "start_time": "2022-07-09T09:21:34.776Z"
   },
   {
    "duration": 2079,
    "start_time": "2022-07-09T09:21:45.427Z"
   },
   {
    "duration": 1892,
    "start_time": "2022-07-09T09:22:02.356Z"
   },
   {
    "duration": 7,
    "start_time": "2022-07-09T09:23:19.389Z"
   },
   {
    "duration": 10,
    "start_time": "2022-07-09T09:23:20.157Z"
   },
   {
    "duration": 4880,
    "start_time": "2022-07-09T09:23:28.917Z"
   },
   {
    "duration": 6,
    "start_time": "2022-07-09T09:23:35.938Z"
   },
   {
    "duration": 574,
    "start_time": "2022-07-09T09:23:35.947Z"
   },
   {
    "duration": 22,
    "start_time": "2022-07-09T09:23:36.524Z"
   },
   {
    "duration": 115,
    "start_time": "2022-07-09T09:23:36.548Z"
   },
   {
    "duration": 98,
    "start_time": "2022-07-09T09:23:36.665Z"
   },
   {
    "duration": 4,
    "start_time": "2022-07-09T09:23:36.764Z"
   },
   {
    "duration": 747,
    "start_time": "2022-07-09T09:23:36.769Z"
   },
   {
    "duration": 770,
    "start_time": "2022-07-09T09:23:37.518Z"
   },
   {
    "duration": 38,
    "start_time": "2022-07-09T09:23:38.290Z"
   },
   {
    "duration": 390,
    "start_time": "2022-07-09T09:23:38.330Z"
   },
   {
    "duration": 31,
    "start_time": "2022-07-09T09:23:38.723Z"
   },
   {
    "duration": 17,
    "start_time": "2022-07-09T09:23:38.756Z"
   },
   {
    "duration": 23513,
    "start_time": "2022-07-09T09:23:38.775Z"
   },
   {
    "duration": 16,
    "start_time": "2022-07-09T09:24:02.290Z"
   },
   {
    "duration": 16,
    "start_time": "2022-07-09T09:24:02.308Z"
   },
   {
    "duration": 32,
    "start_time": "2022-07-09T09:24:02.326Z"
   },
   {
    "duration": 45,
    "start_time": "2022-07-09T09:24:02.359Z"
   },
   {
    "duration": 7,
    "start_time": "2022-07-09T09:24:02.424Z"
   },
   {
    "duration": 27769,
    "start_time": "2022-07-09T09:24:02.433Z"
   },
   {
    "duration": 66,
    "start_time": "2022-07-09T09:29:15.467Z"
   },
   {
    "duration": 5,
    "start_time": "2022-07-09T09:29:19.977Z"
   },
   {
    "duration": 6,
    "start_time": "2022-07-09T09:29:37.625Z"
   },
   {
    "duration": 569,
    "start_time": "2022-07-09T09:29:37.634Z"
   },
   {
    "duration": 33,
    "start_time": "2022-07-09T09:29:38.205Z"
   },
   {
    "duration": 124,
    "start_time": "2022-07-09T09:29:38.241Z"
   },
   {
    "duration": 97,
    "start_time": "2022-07-09T09:29:38.367Z"
   },
   {
    "duration": 3,
    "start_time": "2022-07-09T09:29:38.465Z"
   },
   {
    "duration": 833,
    "start_time": "2022-07-09T09:29:38.470Z"
   },
   {
    "duration": 821,
    "start_time": "2022-07-09T09:29:39.305Z"
   },
   {
    "duration": 18,
    "start_time": "2022-07-09T09:29:40.127Z"
   },
   {
    "duration": 402,
    "start_time": "2022-07-09T09:29:40.148Z"
   },
   {
    "duration": 30,
    "start_time": "2022-07-09T09:29:40.552Z"
   },
   {
    "duration": 16,
    "start_time": "2022-07-09T09:29:40.584Z"
   },
   {
    "duration": 24,
    "start_time": "2022-07-09T09:29:40.602Z"
   },
   {
    "duration": 24357,
    "start_time": "2022-07-09T09:29:46.563Z"
   },
   {
    "duration": 16,
    "start_time": "2022-07-09T09:30:17.874Z"
   },
   {
    "duration": 3,
    "start_time": "2022-07-09T09:30:18.279Z"
   },
   {
    "duration": 35,
    "start_time": "2022-07-09T09:30:18.856Z"
   },
   {
    "duration": 37,
    "start_time": "2022-07-09T09:30:19.120Z"
   },
   {
    "duration": 7,
    "start_time": "2022-07-09T09:30:21.224Z"
   },
   {
    "duration": 27230,
    "start_time": "2022-07-09T09:30:22.273Z"
   },
   {
    "duration": 39,
    "start_time": "2022-07-09T09:30:49.505Z"
   },
   {
    "duration": 16,
    "start_time": "2022-07-09T09:30:49.545Z"
   },
   {
    "duration": 25,
    "start_time": "2022-07-09T09:30:49.564Z"
   },
   {
    "duration": 9652,
    "start_time": "2022-07-09T09:31:39.025Z"
   },
   {
    "duration": 4,
    "start_time": "2022-07-09T09:33:38.203Z"
   },
   {
    "duration": 5,
    "start_time": "2022-07-09T09:34:16.750Z"
   },
   {
    "duration": 3461,
    "start_time": "2022-07-09T09:34:28.617Z"
   },
   {
    "duration": 3,
    "start_time": "2022-07-09T09:35:27.271Z"
   },
   {
    "duration": 6,
    "start_time": "2022-07-09T09:35:44.979Z"
   },
   {
    "duration": 7,
    "start_time": "2022-07-09T09:35:44.987Z"
   },
   {
    "duration": 590,
    "start_time": "2022-07-09T09:35:44.996Z"
   },
   {
    "duration": 24,
    "start_time": "2022-07-09T09:35:45.587Z"
   },
   {
    "duration": 128,
    "start_time": "2022-07-09T09:35:45.613Z"
   },
   {
    "duration": 98,
    "start_time": "2022-07-09T09:35:45.743Z"
   },
   {
    "duration": 3,
    "start_time": "2022-07-09T09:35:45.844Z"
   },
   {
    "duration": 805,
    "start_time": "2022-07-09T09:35:45.849Z"
   },
   {
    "duration": 797,
    "start_time": "2022-07-09T09:35:46.656Z"
   },
   {
    "duration": 17,
    "start_time": "2022-07-09T09:35:47.455Z"
   },
   {
    "duration": 383,
    "start_time": "2022-07-09T09:35:47.474Z"
   },
   {
    "duration": 30,
    "start_time": "2022-07-09T09:35:47.859Z"
   },
   {
    "duration": 43,
    "start_time": "2022-07-09T09:35:47.892Z"
   },
   {
    "duration": 7,
    "start_time": "2022-07-09T09:35:47.937Z"
   },
   {
    "duration": 24711,
    "start_time": "2022-07-09T09:35:47.946Z"
   },
   {
    "duration": 17,
    "start_time": "2022-07-09T09:36:12.659Z"
   },
   {
    "duration": 2,
    "start_time": "2022-07-09T09:36:12.678Z"
   },
   {
    "duration": 58,
    "start_time": "2022-07-09T09:36:12.682Z"
   },
   {
    "duration": 42,
    "start_time": "2022-07-09T09:36:12.742Z"
   },
   {
    "duration": 7,
    "start_time": "2022-07-09T09:36:12.786Z"
   },
   {
    "duration": 26724,
    "start_time": "2022-07-09T09:36:12.794Z"
   },
   {
    "duration": 34,
    "start_time": "2022-07-09T09:36:39.520Z"
   },
   {
    "duration": 33,
    "start_time": "2022-07-09T09:36:39.556Z"
   },
   {
    "duration": 43,
    "start_time": "2022-07-09T09:36:39.591Z"
   },
   {
    "duration": 26,
    "start_time": "2022-07-09T09:36:39.635Z"
   },
   {
    "duration": 22556,
    "start_time": "2022-07-09T09:36:39.663Z"
   },
   {
    "duration": 10,
    "start_time": "2022-07-09T09:50:27.971Z"
   },
   {
    "duration": 6,
    "start_time": "2022-07-09T09:52:24.377Z"
   },
   {
    "duration": 5,
    "start_time": "2022-07-09T09:52:24.385Z"
   },
   {
    "duration": 567,
    "start_time": "2022-07-09T09:52:24.392Z"
   },
   {
    "duration": 22,
    "start_time": "2022-07-09T09:52:24.961Z"
   },
   {
    "duration": 125,
    "start_time": "2022-07-09T09:52:24.984Z"
   },
   {
    "duration": 107,
    "start_time": "2022-07-09T09:52:25.111Z"
   },
   {
    "duration": 3,
    "start_time": "2022-07-09T09:52:25.220Z"
   },
   {
    "duration": 792,
    "start_time": "2022-07-09T09:52:25.225Z"
   },
   {
    "duration": 813,
    "start_time": "2022-07-09T09:52:26.020Z"
   },
   {
    "duration": 17,
    "start_time": "2022-07-09T09:52:26.837Z"
   },
   {
    "duration": 522,
    "start_time": "2022-07-09T09:52:26.857Z"
   },
   {
    "duration": 43,
    "start_time": "2022-07-09T09:52:27.381Z"
   },
   {
    "duration": 19,
    "start_time": "2022-07-09T09:52:27.426Z"
   },
   {
    "duration": 6,
    "start_time": "2022-07-09T09:52:27.447Z"
   },
   {
    "duration": 24947,
    "start_time": "2022-07-09T09:52:27.455Z"
   },
   {
    "duration": 30,
    "start_time": "2022-07-09T09:52:52.404Z"
   },
   {
    "duration": 3,
    "start_time": "2022-07-09T09:52:52.436Z"
   },
   {
    "duration": 32,
    "start_time": "2022-07-09T09:52:52.441Z"
   },
   {
    "duration": 72,
    "start_time": "2022-07-09T09:52:52.475Z"
   },
   {
    "duration": 8,
    "start_time": "2022-07-09T09:52:52.550Z"
   },
   {
    "duration": 27436,
    "start_time": "2022-07-09T09:52:52.560Z"
   },
   {
    "duration": 45,
    "start_time": "2022-07-09T09:53:19.998Z"
   },
   {
    "duration": 35,
    "start_time": "2022-07-09T09:53:20.045Z"
   },
   {
    "duration": 42,
    "start_time": "2022-07-09T09:53:20.082Z"
   },
   {
    "duration": 29,
    "start_time": "2022-07-09T09:53:20.126Z"
   },
   {
    "duration": 22839,
    "start_time": "2022-07-09T09:53:20.157Z"
   },
   {
    "duration": 10,
    "start_time": "2022-07-09T09:53:42.997Z"
   },
   {
    "duration": 28,
    "start_time": "2022-07-09T09:53:43.022Z"
   },
   {
    "duration": 41,
    "start_time": "2022-07-09T09:53:43.052Z"
   },
   {
    "duration": 25942,
    "start_time": "2022-07-09T09:53:43.094Z"
   },
   {
    "duration": 34,
    "start_time": "2022-07-09T09:54:09.038Z"
   },
   {
    "duration": 52,
    "start_time": "2022-07-09T09:54:09.074Z"
   },
   {
    "duration": 17,
    "start_time": "2022-07-09T09:54:09.128Z"
   },
   {
    "duration": 11,
    "start_time": "2022-07-09T09:54:09.146Z"
   },
   {
    "duration": 32,
    "start_time": "2022-07-09T09:54:09.159Z"
   },
   {
    "duration": 20265,
    "start_time": "2022-07-09T09:54:09.193Z"
   },
   {
    "duration": 23192,
    "start_time": "2022-07-09T09:54:29.460Z"
   },
   {
    "duration": 34,
    "start_time": "2022-07-09T09:56:27.446Z"
   },
   {
    "duration": 20968,
    "start_time": "2022-07-09T09:58:13.882Z"
   },
   {
    "duration": 19,
    "start_time": "2022-07-09T09:58:34.852Z"
   },
   {
    "duration": 1274,
    "start_time": "2022-07-09T09:59:05.377Z"
   },
   {
    "duration": 9,
    "start_time": "2022-07-09T09:59:09.949Z"
   },
   {
    "duration": 17,
    "start_time": "2022-07-09T09:59:20.713Z"
   },
   {
    "duration": 11,
    "start_time": "2022-07-09T09:59:31.371Z"
   },
   {
    "duration": 11,
    "start_time": "2022-07-09T09:59:44.845Z"
   },
   {
    "duration": 27,
    "start_time": "2022-07-09T09:59:47.921Z"
   },
   {
    "duration": 43,
    "start_time": "2022-07-09T10:00:03.335Z"
   },
   {
    "duration": 24982,
    "start_time": "2022-07-09T10:00:42.572Z"
   },
   {
    "duration": 21,
    "start_time": "2022-07-09T10:01:07.556Z"
   },
   {
    "duration": 28,
    "start_time": "2022-07-09T10:01:27.493Z"
   },
   {
    "duration": 19,
    "start_time": "2022-07-09T10:01:43.995Z"
   },
   {
    "duration": 28,
    "start_time": "2022-07-09T10:01:55.399Z"
   },
   {
    "duration": 41,
    "start_time": "2022-07-09T10:02:08.658Z"
   },
   {
    "duration": 18,
    "start_time": "2022-07-09T10:02:46.773Z"
   },
   {
    "duration": 39,
    "start_time": "2022-07-09T10:03:02.298Z"
   },
   {
    "duration": 16,
    "start_time": "2022-07-09T10:03:15.506Z"
   },
   {
    "duration": 19,
    "start_time": "2022-07-09T10:03:17.372Z"
   },
   {
    "duration": 88,
    "start_time": "2022-07-09T10:04:10.354Z"
   },
   {
    "duration": 14,
    "start_time": "2022-07-09T10:04:16.971Z"
   },
   {
    "duration": 6,
    "start_time": "2022-07-11T08:42:02.474Z"
   },
   {
    "duration": 3,
    "start_time": "2022-07-11T08:42:02.530Z"
   },
   {
    "duration": 633,
    "start_time": "2022-07-11T08:42:02.583Z"
   },
   {
    "duration": 1610,
    "start_time": "2022-07-11T08:42:05.633Z"
   },
   {
    "duration": 2,
    "start_time": "2022-07-11T08:42:07.245Z"
   },
   {
    "duration": 696,
    "start_time": "2022-07-11T08:42:07.249Z"
   },
   {
    "duration": 27,
    "start_time": "2022-07-11T08:42:07.947Z"
   },
   {
    "duration": 136,
    "start_time": "2022-07-11T08:42:07.976Z"
   },
   {
    "duration": 106,
    "start_time": "2022-07-11T08:42:08.114Z"
   },
   {
    "duration": 3,
    "start_time": "2022-07-11T08:42:08.222Z"
   },
   {
    "duration": 836,
    "start_time": "2022-07-11T08:42:08.227Z"
   },
   {
    "duration": 104,
    "start_time": "2022-07-11T08:42:09.065Z"
   },
   {
    "duration": 749,
    "start_time": "2022-07-11T08:42:09.171Z"
   },
   {
    "duration": 34,
    "start_time": "2022-07-11T08:42:09.922Z"
   },
   {
    "duration": 420,
    "start_time": "2022-07-11T08:42:09.958Z"
   },
   {
    "duration": 34,
    "start_time": "2022-07-11T08:42:10.379Z"
   },
   {
    "duration": 34,
    "start_time": "2022-07-11T08:42:10.415Z"
   },
   {
    "duration": 5,
    "start_time": "2022-07-11T08:42:10.451Z"
   },
   {
    "duration": 25900,
    "start_time": "2022-07-11T08:42:10.458Z"
   },
   {
    "duration": 19,
    "start_time": "2022-07-11T08:42:36.360Z"
   },
   {
    "duration": 3,
    "start_time": "2022-07-11T08:42:36.381Z"
   },
   {
    "duration": 68,
    "start_time": "2022-07-11T08:42:36.386Z"
   },
   {
    "duration": 43,
    "start_time": "2022-07-11T08:42:36.456Z"
   },
   {
    "duration": 7,
    "start_time": "2022-07-11T08:42:36.502Z"
   },
   {
    "duration": 29417,
    "start_time": "2022-07-11T08:42:36.511Z"
   },
   {
    "duration": 44,
    "start_time": "2022-07-11T08:43:05.930Z"
   },
   {
    "duration": 38,
    "start_time": "2022-07-11T08:43:05.976Z"
   },
   {
    "duration": 41,
    "start_time": "2022-07-11T08:43:06.016Z"
   },
   {
    "duration": 41,
    "start_time": "2022-07-11T08:43:06.060Z"
   },
   {
    "duration": 24379,
    "start_time": "2022-07-11T08:43:06.103Z"
   },
   {
    "duration": 12,
    "start_time": "2022-07-11T08:43:30.484Z"
   },
   {
    "duration": 53,
    "start_time": "2022-07-11T08:43:30.497Z"
   },
   {
    "duration": 57,
    "start_time": "2022-07-11T08:43:30.552Z"
   },
   {
    "duration": 26982,
    "start_time": "2022-07-11T08:43:30.611Z"
   },
   {
    "duration": 35,
    "start_time": "2022-07-11T08:43:57.595Z"
   },
   {
    "duration": 35,
    "start_time": "2022-07-11T08:43:57.646Z"
   },
   {
    "duration": 18,
    "start_time": "2022-07-11T08:43:57.683Z"
   },
   {
    "duration": 43,
    "start_time": "2022-07-11T08:43:57.703Z"
   },
   {
    "duration": 31,
    "start_time": "2022-07-11T08:43:57.747Z"
   },
   {
    "duration": 20696,
    "start_time": "2022-07-11T08:43:57.780Z"
   },
   {
    "duration": 25,
    "start_time": "2022-07-11T08:44:18.477Z"
   },
   {
    "duration": 23580,
    "start_time": "2022-07-11T08:44:18.504Z"
   },
   {
    "duration": 33,
    "start_time": "2022-07-11T08:44:42.086Z"
   },
   {
    "duration": 59,
    "start_time": "2022-07-11T08:44:42.123Z"
   },
   {
    "duration": 22634,
    "start_time": "2022-07-11T08:44:42.184Z"
   },
   {
    "duration": 32,
    "start_time": "2022-07-11T08:45:04.820Z"
   },
   {
    "duration": 23,
    "start_time": "2022-07-11T08:45:04.854Z"
   },
   {
    "duration": 9,
    "start_time": "2022-07-11T08:45:04.878Z"
   },
   {
    "duration": 19,
    "start_time": "2022-07-11T08:45:04.889Z"
   },
   {
    "duration": 9,
    "start_time": "2022-07-11T08:45:04.910Z"
   },
   {
    "duration": 32,
    "start_time": "2022-07-11T08:45:04.946Z"
   },
   {
    "duration": 44,
    "start_time": "2022-07-11T08:45:04.980Z"
   },
   {
    "duration": 25682,
    "start_time": "2022-07-11T08:45:05.026Z"
   },
   {
    "duration": 19,
    "start_time": "2022-07-11T08:45:30.710Z"
   },
   {
    "duration": 39,
    "start_time": "2022-07-11T08:45:30.731Z"
   },
   {
    "duration": 42,
    "start_time": "2022-07-11T08:45:30.772Z"
   },
   {
    "duration": 37,
    "start_time": "2022-07-11T08:45:30.816Z"
   },
   {
    "duration": 68,
    "start_time": "2022-07-11T08:45:30.855Z"
   },
   {
    "duration": 17,
    "start_time": "2022-07-11T08:45:30.925Z"
   },
   {
    "duration": 39,
    "start_time": "2022-07-11T08:45:30.943Z"
   },
   {
    "duration": 110,
    "start_time": "2022-07-11T08:45:30.984Z"
   },
   {
    "duration": 13,
    "start_time": "2022-07-11T08:45:31.095Z"
   },
   {
    "duration": 22,
    "start_time": "2022-07-11T08:45:31.110Z"
   },
   {
    "duration": 34,
    "start_time": "2022-07-11T08:45:31.164Z"
   },
   {
    "duration": 30,
    "start_time": "2022-07-11T08:45:31.200Z"
   },
   {
    "duration": 121,
    "start_time": "2022-07-11T08:45:31.232Z"
   },
   {
    "duration": 0,
    "start_time": "2022-07-11T08:45:31.354Z"
   },
   {
    "duration": 0,
    "start_time": "2022-07-11T08:45:31.355Z"
   },
   {
    "duration": 18,
    "start_time": "2022-07-11T08:48:53.595Z"
   },
   {
    "duration": 34,
    "start_time": "2022-07-11T08:49:55.844Z"
   },
   {
    "duration": 14,
    "start_time": "2022-07-11T08:50:05.324Z"
   },
   {
    "duration": 19,
    "start_time": "2022-07-11T08:50:57.552Z"
   },
   {
    "duration": 4,
    "start_time": "2022-07-11T08:51:25.153Z"
   },
   {
    "duration": 188,
    "start_time": "2022-07-11T08:51:27.424Z"
   },
   {
    "duration": 7697,
    "start_time": "2022-07-11T08:52:30.698Z"
   },
   {
    "duration": 299,
    "start_time": "2022-07-11T08:53:41.692Z"
   },
   {
    "duration": 264,
    "start_time": "2022-07-11T08:53:47.034Z"
   },
   {
    "duration": 8,
    "start_time": "2022-07-11T08:57:23.948Z"
   },
   {
    "duration": 7,
    "start_time": "2022-07-11T08:57:27.095Z"
   },
   {
    "duration": 7,
    "start_time": "2022-07-11T08:57:39.174Z"
   },
   {
    "duration": 63,
    "start_time": "2022-07-11T08:58:37.063Z"
   },
   {
    "duration": 3,
    "start_time": "2022-07-11T08:58:56.295Z"
   },
   {
    "duration": 12,
    "start_time": "2022-07-11T08:59:19.662Z"
   },
   {
    "duration": 4,
    "start_time": "2022-07-11T08:59:27.895Z"
   },
   {
    "duration": 14,
    "start_time": "2022-07-11T08:59:46.731Z"
   },
   {
    "duration": 5,
    "start_time": "2022-07-11T08:59:51.850Z"
   },
   {
    "duration": 15,
    "start_time": "2022-07-11T09:02:56.089Z"
   },
   {
    "duration": 1298,
    "start_time": "2022-07-11T09:03:55.409Z"
   },
   {
    "duration": 13,
    "start_time": "2022-07-11T09:04:15.100Z"
   },
   {
    "duration": 15,
    "start_time": "2022-07-11T09:04:32.521Z"
   },
   {
    "duration": 24,
    "start_time": "2022-07-11T09:04:37.424Z"
   },
   {
    "duration": 1491,
    "start_time": "2022-07-11T09:04:42.601Z"
   },
   {
    "duration": 15,
    "start_time": "2022-07-11T09:04:52.832Z"
   },
   {
    "duration": 14,
    "start_time": "2022-07-11T09:04:57.694Z"
   },
   {
    "duration": 13,
    "start_time": "2022-07-11T09:07:47.366Z"
   },
   {
    "duration": 1051,
    "start_time": "2022-07-11T09:07:58.591Z"
   },
   {
    "duration": 311,
    "start_time": "2022-07-11T09:08:04.611Z"
   },
   {
    "duration": 1641,
    "start_time": "2022-07-11T09:10:51.472Z"
   },
   {
    "duration": 2,
    "start_time": "2022-07-11T09:10:53.116Z"
   },
   {
    "duration": 801,
    "start_time": "2022-07-11T09:10:53.121Z"
   },
   {
    "duration": 35,
    "start_time": "2022-07-11T09:10:53.925Z"
   },
   {
    "duration": 159,
    "start_time": "2022-07-11T09:10:53.961Z"
   },
   {
    "duration": 100,
    "start_time": "2022-07-11T09:10:54.122Z"
   },
   {
    "duration": 4,
    "start_time": "2022-07-11T09:10:54.224Z"
   },
   {
    "duration": 887,
    "start_time": "2022-07-11T09:10:54.245Z"
   },
   {
    "duration": 118,
    "start_time": "2022-07-11T09:10:55.134Z"
   },
   {
    "duration": 812,
    "start_time": "2022-07-11T09:10:55.255Z"
   },
   {
    "duration": 18,
    "start_time": "2022-07-11T09:10:56.069Z"
   },
   {
    "duration": 540,
    "start_time": "2022-07-11T09:10:56.089Z"
   },
   {
    "duration": 38,
    "start_time": "2022-07-11T09:10:56.631Z"
   },
   {
    "duration": 22,
    "start_time": "2022-07-11T09:10:56.670Z"
   },
   {
    "duration": 8,
    "start_time": "2022-07-11T09:10:56.694Z"
   },
   {
    "duration": 28077,
    "start_time": "2022-07-11T09:10:56.704Z"
   },
   {
    "duration": 17,
    "start_time": "2022-07-11T09:11:24.783Z"
   },
   {
    "duration": 3,
    "start_time": "2022-07-11T09:11:24.802Z"
   },
   {
    "duration": 60,
    "start_time": "2022-07-11T09:11:24.806Z"
   },
   {
    "duration": 80,
    "start_time": "2022-07-11T09:11:24.868Z"
   },
   {
    "duration": 11,
    "start_time": "2022-07-11T09:11:24.951Z"
   },
   {
    "duration": 32996,
    "start_time": "2022-07-11T09:11:24.965Z"
   },
   {
    "duration": 43,
    "start_time": "2022-07-11T09:11:57.962Z"
   },
   {
    "duration": 57,
    "start_time": "2022-07-11T09:11:58.007Z"
   },
   {
    "duration": 95,
    "start_time": "2022-07-11T09:11:58.066Z"
   },
   {
    "duration": 4,
    "start_time": "2022-07-11T09:11:58.162Z"
   },
   {
    "duration": 9,
    "start_time": "2022-07-11T09:11:58.168Z"
   },
   {
    "duration": 30,
    "start_time": "2022-07-11T09:11:58.183Z"
   },
   {
    "duration": 74,
    "start_time": "2022-07-11T09:11:58.215Z"
   },
   {
    "duration": 26105,
    "start_time": "2022-07-11T09:11:58.291Z"
   },
   {
    "duration": 11,
    "start_time": "2022-07-11T09:12:24.397Z"
   },
   {
    "duration": 50,
    "start_time": "2022-07-11T09:12:24.410Z"
   },
   {
    "duration": 65,
    "start_time": "2022-07-11T09:12:24.462Z"
   },
   {
    "duration": 31198,
    "start_time": "2022-07-11T09:12:24.529Z"
   },
   {
    "duration": 65,
    "start_time": "2022-07-11T09:12:55.730Z"
   },
   {
    "duration": 35,
    "start_time": "2022-07-11T09:12:55.796Z"
   },
   {
    "duration": 21,
    "start_time": "2022-07-11T09:12:55.845Z"
   },
   {
    "duration": 13,
    "start_time": "2022-07-11T09:12:55.868Z"
   },
   {
    "duration": 66,
    "start_time": "2022-07-11T09:12:55.883Z"
   },
   {
    "duration": 24516,
    "start_time": "2022-07-11T09:12:55.954Z"
   },
   {
    "duration": 24,
    "start_time": "2022-07-11T09:13:20.472Z"
   },
   {
    "duration": 26225,
    "start_time": "2022-07-11T09:13:20.498Z"
   },
   {
    "duration": 50,
    "start_time": "2022-07-11T09:13:46.724Z"
   },
   {
    "duration": 40,
    "start_time": "2022-07-11T09:13:46.776Z"
   },
   {
    "duration": 17399,
    "start_time": "2022-07-11T09:13:46.818Z"
   },
   {
    "duration": 34,
    "start_time": "2022-07-11T09:14:04.219Z"
   },
   {
    "duration": 21,
    "start_time": "2022-07-11T09:14:04.254Z"
   },
   {
    "duration": 9,
    "start_time": "2022-07-11T09:14:04.277Z"
   },
   {
    "duration": 19,
    "start_time": "2022-07-11T09:14:04.288Z"
   },
   {
    "duration": 9,
    "start_time": "2022-07-11T09:14:04.308Z"
   },
   {
    "duration": 60,
    "start_time": "2022-07-11T09:14:04.319Z"
   },
   {
    "duration": 45,
    "start_time": "2022-07-11T09:14:04.380Z"
   },
   {
    "duration": 29474,
    "start_time": "2022-07-11T09:14:04.427Z"
   },
   {
    "duration": 47,
    "start_time": "2022-07-11T09:14:33.903Z"
   },
   {
    "duration": 71,
    "start_time": "2022-07-11T09:14:33.954Z"
   },
   {
    "duration": 41,
    "start_time": "2022-07-11T09:14:34.027Z"
   },
   {
    "duration": 50,
    "start_time": "2022-07-11T09:14:34.070Z"
   },
   {
    "duration": 60,
    "start_time": "2022-07-11T09:14:34.122Z"
   },
   {
    "duration": 19,
    "start_time": "2022-07-11T09:14:34.183Z"
   },
   {
    "duration": 23,
    "start_time": "2022-07-11T09:14:34.204Z"
   },
   {
    "duration": 146,
    "start_time": "2022-07-11T09:14:34.229Z"
   },
   {
    "duration": 14,
    "start_time": "2022-07-11T09:14:34.377Z"
   },
   {
    "duration": 12,
    "start_time": "2022-07-11T09:14:34.393Z"
   },
   {
    "duration": 56,
    "start_time": "2022-07-11T09:14:34.406Z"
   },
   {
    "duration": 9,
    "start_time": "2022-07-11T09:14:34.465Z"
   },
   {
    "duration": 18,
    "start_time": "2022-07-11T09:14:34.476Z"
   },
   {
    "duration": 203,
    "start_time": "2022-07-11T09:14:34.496Z"
   },
   {
    "duration": 258,
    "start_time": "2022-07-11T09:14:34.701Z"
   },
   {
    "duration": 13,
    "start_time": "2022-07-11T09:14:34.961Z"
   },
   {
    "duration": 221,
    "start_time": "2022-07-11T09:14:34.976Z"
   },
   {
    "duration": 0,
    "start_time": "2022-07-11T09:14:35.198Z"
   },
   {
    "duration": 232,
    "start_time": "2022-07-11T09:17:15.012Z"
   },
   {
    "duration": 5,
    "start_time": "2022-07-11T09:17:15.501Z"
   },
   {
    "duration": 5,
    "start_time": "2022-07-11T09:17:30.773Z"
   },
   {
    "duration": 4,
    "start_time": "2022-07-11T09:18:19.343Z"
   },
   {
    "duration": 1748,
    "start_time": "2022-07-11T09:19:25.408Z"
   },
   {
    "duration": 3,
    "start_time": "2022-07-11T09:19:27.158Z"
   },
   {
    "duration": 715,
    "start_time": "2022-07-11T09:19:27.163Z"
   },
   {
    "duration": 29,
    "start_time": "2022-07-11T09:19:27.880Z"
   },
   {
    "duration": 152,
    "start_time": "2022-07-11T09:19:27.911Z"
   },
   {
    "duration": 112,
    "start_time": "2022-07-11T09:19:28.065Z"
   },
   {
    "duration": 4,
    "start_time": "2022-07-11T09:19:28.180Z"
   },
   {
    "duration": 867,
    "start_time": "2022-07-11T09:19:28.185Z"
   },
   {
    "duration": 138,
    "start_time": "2022-07-11T09:19:29.054Z"
   },
   {
    "duration": 806,
    "start_time": "2022-07-11T09:19:29.196Z"
   },
   {
    "duration": 18,
    "start_time": "2022-07-11T09:19:30.004Z"
   },
   {
    "duration": 502,
    "start_time": "2022-07-11T09:19:30.024Z"
   },
   {
    "duration": 44,
    "start_time": "2022-07-11T09:19:30.528Z"
   },
   {
    "duration": 19,
    "start_time": "2022-07-11T09:19:30.573Z"
   },
   {
    "duration": 6,
    "start_time": "2022-07-11T09:19:30.594Z"
   },
   {
    "duration": 1711,
    "start_time": "2022-07-11T09:19:47.318Z"
   },
   {
    "duration": 4,
    "start_time": "2022-07-11T09:19:49.032Z"
   },
   {
    "duration": 711,
    "start_time": "2022-07-11T09:19:49.038Z"
   },
   {
    "duration": 26,
    "start_time": "2022-07-11T09:19:49.751Z"
   },
   {
    "duration": 134,
    "start_time": "2022-07-11T09:19:49.779Z"
   },
   {
    "duration": 105,
    "start_time": "2022-07-11T09:19:49.915Z"
   },
   {
    "duration": 3,
    "start_time": "2022-07-11T09:19:50.022Z"
   },
   {
    "duration": 829,
    "start_time": "2022-07-11T09:19:50.027Z"
   },
   {
    "duration": 104,
    "start_time": "2022-07-11T09:19:50.857Z"
   },
   {
    "duration": 799,
    "start_time": "2022-07-11T09:19:50.963Z"
   },
   {
    "duration": 23,
    "start_time": "2022-07-11T09:19:51.764Z"
   },
   {
    "duration": 511,
    "start_time": "2022-07-11T09:19:51.789Z"
   },
   {
    "duration": 34,
    "start_time": "2022-07-11T09:19:52.302Z"
   },
   {
    "duration": 18,
    "start_time": "2022-07-11T09:19:52.346Z"
   },
   {
    "duration": 6,
    "start_time": "2022-07-11T09:19:52.366Z"
   },
   {
    "duration": 27112,
    "start_time": "2022-07-11T09:19:52.374Z"
   },
   {
    "duration": 21,
    "start_time": "2022-07-11T09:20:19.490Z"
   },
   {
    "duration": 2,
    "start_time": "2022-07-11T09:20:19.513Z"
   },
   {
    "duration": 55,
    "start_time": "2022-07-11T09:20:19.516Z"
   },
   {
    "duration": 50,
    "start_time": "2022-07-11T09:20:19.573Z"
   },
   {
    "duration": 7,
    "start_time": "2022-07-11T09:20:19.625Z"
   },
   {
    "duration": 32181,
    "start_time": "2022-07-11T09:20:19.633Z"
   },
   {
    "duration": 51,
    "start_time": "2022-07-11T09:20:51.816Z"
   },
   {
    "duration": 38,
    "start_time": "2022-07-11T09:20:51.869Z"
   },
   {
    "duration": 3,
    "start_time": "2022-07-11T09:20:51.908Z"
   },
   {
    "duration": 7,
    "start_time": "2022-07-11T09:20:51.912Z"
   },
   {
    "duration": 25,
    "start_time": "2022-07-11T09:20:51.920Z"
   },
   {
    "duration": 18,
    "start_time": "2022-07-11T09:20:51.949Z"
   },
   {
    "duration": 40,
    "start_time": "2022-07-11T09:20:51.969Z"
   },
   {
    "duration": 25806,
    "start_time": "2022-07-11T09:20:52.011Z"
   },
   {
    "duration": 10,
    "start_time": "2022-07-11T09:21:17.819Z"
   },
   {
    "duration": 43,
    "start_time": "2022-07-11T09:21:17.831Z"
   },
   {
    "duration": 45,
    "start_time": "2022-07-11T09:21:17.876Z"
   },
   {
    "duration": 30061,
    "start_time": "2022-07-11T09:21:17.923Z"
   },
   {
    "duration": 35,
    "start_time": "2022-07-11T09:21:47.986Z"
   },
   {
    "duration": 46,
    "start_time": "2022-07-11T09:21:48.023Z"
   },
   {
    "duration": 16,
    "start_time": "2022-07-11T09:21:48.071Z"
   },
   {
    "duration": 12,
    "start_time": "2022-07-11T09:21:48.089Z"
   },
   {
    "duration": 65,
    "start_time": "2022-07-11T09:21:48.102Z"
   },
   {
    "duration": 22321,
    "start_time": "2022-07-11T09:21:48.169Z"
   },
   {
    "duration": 26,
    "start_time": "2022-07-11T09:22:10.492Z"
   },
   {
    "duration": 25203,
    "start_time": "2022-07-11T09:22:10.520Z"
   },
   {
    "duration": 40,
    "start_time": "2022-07-11T09:22:35.725Z"
   },
   {
    "duration": 40,
    "start_time": "2022-07-11T09:22:35.767Z"
   },
   {
    "duration": 25089,
    "start_time": "2022-07-11T09:22:35.810Z"
   },
   {
    "duration": 21,
    "start_time": "2022-07-11T09:23:00.902Z"
   },
   {
    "duration": 31,
    "start_time": "2022-07-11T09:23:00.924Z"
   },
   {
    "duration": 18,
    "start_time": "2022-07-11T09:23:00.956Z"
   },
   {
    "duration": 47,
    "start_time": "2022-07-11T09:23:00.976Z"
   },
   {
    "duration": 25,
    "start_time": "2022-07-11T09:23:01.025Z"
   },
   {
    "duration": 41,
    "start_time": "2022-07-11T09:23:01.052Z"
   },
   {
    "duration": 58,
    "start_time": "2022-07-11T09:23:01.095Z"
   },
   {
    "duration": 26954,
    "start_time": "2022-07-11T09:23:01.155Z"
   },
   {
    "duration": 43,
    "start_time": "2022-07-11T09:23:28.111Z"
   },
   {
    "duration": 32,
    "start_time": "2022-07-11T09:23:28.156Z"
   },
   {
    "duration": 23,
    "start_time": "2022-07-11T09:23:28.190Z"
   },
   {
    "duration": 49,
    "start_time": "2022-07-11T09:23:28.215Z"
   },
   {
    "duration": 46,
    "start_time": "2022-07-11T09:23:28.265Z"
   },
   {
    "duration": 35,
    "start_time": "2022-07-11T09:23:28.313Z"
   },
   {
    "duration": 22,
    "start_time": "2022-07-11T09:23:28.350Z"
   },
   {
    "duration": 112,
    "start_time": "2022-07-11T09:23:28.374Z"
   },
   {
    "duration": 15,
    "start_time": "2022-07-11T09:23:28.487Z"
   },
   {
    "duration": 14,
    "start_time": "2022-07-11T09:23:28.503Z"
   },
   {
    "duration": 49,
    "start_time": "2022-07-11T09:23:28.519Z"
   },
   {
    "duration": 11,
    "start_time": "2022-07-11T09:23:28.569Z"
   },
   {
    "duration": 25,
    "start_time": "2022-07-11T09:23:28.582Z"
   },
   {
    "duration": 214,
    "start_time": "2022-07-11T09:23:28.609Z"
   },
   {
    "duration": 394,
    "start_time": "2022-07-11T09:23:28.825Z"
   },
   {
    "duration": 14,
    "start_time": "2022-07-11T09:23:29.221Z"
   },
   {
    "duration": 379,
    "start_time": "2022-07-11T09:23:29.245Z"
   },
   {
    "duration": 5,
    "start_time": "2022-07-11T09:23:29.625Z"
   },
   {
    "duration": 15,
    "start_time": "2022-07-11T09:23:29.631Z"
   },
   {
    "duration": 121,
    "start_time": "2022-07-11T09:30:07.947Z"
   },
   {
    "duration": 7,
    "start_time": "2022-07-11T09:30:31.886Z"
   },
   {
    "duration": 18,
    "start_time": "2022-07-11T09:30:37.131Z"
   },
   {
    "duration": 12,
    "start_time": "2022-07-11T09:31:11.127Z"
   },
   {
    "duration": 185,
    "start_time": "2022-07-11T09:33:44.137Z"
   },
   {
    "duration": 1821,
    "start_time": "2022-07-11T09:34:11.910Z"
   },
   {
    "duration": 3,
    "start_time": "2022-07-11T09:34:13.733Z"
   },
   {
    "duration": 799,
    "start_time": "2022-07-11T09:34:13.738Z"
   },
   {
    "duration": 33,
    "start_time": "2022-07-11T09:34:14.539Z"
   },
   {
    "duration": 206,
    "start_time": "2022-07-11T09:34:14.574Z"
   },
   {
    "duration": 141,
    "start_time": "2022-07-11T09:34:14.782Z"
   },
   {
    "duration": 4,
    "start_time": "2022-07-11T09:34:14.925Z"
   },
   {
    "duration": 841,
    "start_time": "2022-07-11T09:34:14.931Z"
   },
   {
    "duration": 117,
    "start_time": "2022-07-11T09:34:15.773Z"
   },
   {
    "duration": 818,
    "start_time": "2022-07-11T09:34:15.893Z"
   },
   {
    "duration": 34,
    "start_time": "2022-07-11T09:34:16.713Z"
   },
   {
    "duration": 489,
    "start_time": "2022-07-11T09:34:16.748Z"
   },
   {
    "duration": 39,
    "start_time": "2022-07-11T09:34:17.238Z"
   },
   {
    "duration": 18,
    "start_time": "2022-07-11T09:34:17.279Z"
   },
   {
    "duration": 7,
    "start_time": "2022-07-11T09:34:17.298Z"
   },
   {
    "duration": 27888,
    "start_time": "2022-07-11T09:34:17.306Z"
   },
   {
    "duration": 20,
    "start_time": "2022-07-11T09:34:45.197Z"
   },
   {
    "duration": 32,
    "start_time": "2022-07-11T09:34:45.219Z"
   },
   {
    "duration": 54,
    "start_time": "2022-07-11T09:34:45.253Z"
   },
   {
    "duration": 71,
    "start_time": "2022-07-11T09:34:45.309Z"
   },
   {
    "duration": 9,
    "start_time": "2022-07-11T09:34:45.381Z"
   },
   {
    "duration": 32972,
    "start_time": "2022-07-11T09:34:45.392Z"
   },
   {
    "duration": 42,
    "start_time": "2022-07-11T09:35:18.366Z"
   },
   {
    "duration": 60,
    "start_time": "2022-07-11T09:35:18.409Z"
   },
   {
    "duration": 3,
    "start_time": "2022-07-11T09:35:18.471Z"
   },
   {
    "duration": 7,
    "start_time": "2022-07-11T09:35:18.477Z"
   },
   {
    "duration": 13,
    "start_time": "2022-07-11T09:35:18.485Z"
   },
   {
    "duration": 21,
    "start_time": "2022-07-11T09:35:18.502Z"
   },
   {
    "duration": 52,
    "start_time": "2022-07-11T09:35:18.524Z"
   },
   {
    "duration": 26569,
    "start_time": "2022-07-11T09:35:18.578Z"
   },
   {
    "duration": 11,
    "start_time": "2022-07-11T09:35:45.148Z"
   },
   {
    "duration": 34,
    "start_time": "2022-07-11T09:35:45.162Z"
   },
   {
    "duration": 62,
    "start_time": "2022-07-11T09:35:45.198Z"
   },
   {
    "duration": 30300,
    "start_time": "2022-07-11T09:35:45.262Z"
   },
   {
    "duration": 38,
    "start_time": "2022-07-11T09:36:15.564Z"
   },
   {
    "duration": 56,
    "start_time": "2022-07-11T09:36:15.604Z"
   },
   {
    "duration": 19,
    "start_time": "2022-07-11T09:36:15.661Z"
   },
   {
    "duration": 14,
    "start_time": "2022-07-11T09:36:15.682Z"
   },
   {
    "duration": 55,
    "start_time": "2022-07-11T09:36:15.698Z"
   },
   {
    "duration": 23102,
    "start_time": "2022-07-11T09:36:15.755Z"
   },
   {
    "duration": 42,
    "start_time": "2022-07-11T09:36:38.859Z"
   },
   {
    "duration": 25828,
    "start_time": "2022-07-11T09:36:38.902Z"
   },
   {
    "duration": 43,
    "start_time": "2022-07-11T09:37:04.732Z"
   },
   {
    "duration": 43,
    "start_time": "2022-07-11T09:37:04.777Z"
   },
   {
    "duration": 25415,
    "start_time": "2022-07-11T09:37:04.821Z"
   },
   {
    "duration": 28,
    "start_time": "2022-07-11T09:37:30.238Z"
   },
   {
    "duration": 25,
    "start_time": "2022-07-11T09:37:30.268Z"
   },
   {
    "duration": 10,
    "start_time": "2022-07-11T09:37:30.294Z"
   },
   {
    "duration": 44,
    "start_time": "2022-07-11T09:37:30.306Z"
   },
   {
    "duration": 14,
    "start_time": "2022-07-11T09:37:30.352Z"
   },
   {
    "duration": 45,
    "start_time": "2022-07-11T09:37:30.368Z"
   },
   {
    "duration": 88,
    "start_time": "2022-07-11T09:37:30.415Z"
   },
   {
    "duration": 27874,
    "start_time": "2022-07-11T09:37:30.505Z"
   },
   {
    "duration": 22,
    "start_time": "2022-07-11T09:37:58.381Z"
   },
   {
    "duration": 50,
    "start_time": "2022-07-11T09:37:58.405Z"
   },
   {
    "duration": 37,
    "start_time": "2022-07-11T09:37:58.456Z"
   },
   {
    "duration": 30,
    "start_time": "2022-07-11T09:37:58.495Z"
   },
   {
    "duration": 58,
    "start_time": "2022-07-11T09:37:58.527Z"
   },
   {
    "duration": 20,
    "start_time": "2022-07-11T09:37:58.587Z"
   },
   {
    "duration": 43,
    "start_time": "2022-07-11T09:37:58.608Z"
   },
   {
    "duration": 106,
    "start_time": "2022-07-11T09:37:58.652Z"
   },
   {
    "duration": 15,
    "start_time": "2022-07-11T09:37:58.760Z"
   },
   {
    "duration": 15,
    "start_time": "2022-07-11T09:37:58.777Z"
   },
   {
    "duration": 63,
    "start_time": "2022-07-11T09:37:58.794Z"
   },
   {
    "duration": 18,
    "start_time": "2022-07-11T09:37:58.863Z"
   },
   {
    "duration": 38,
    "start_time": "2022-07-11T09:37:58.884Z"
   },
   {
    "duration": 311,
    "start_time": "2022-07-11T09:37:58.925Z"
   },
   {
    "duration": 278,
    "start_time": "2022-07-11T09:37:59.238Z"
   },
   {
    "duration": 16,
    "start_time": "2022-07-11T09:37:59.518Z"
   },
   {
    "duration": 365,
    "start_time": "2022-07-11T09:37:59.546Z"
   },
   {
    "duration": 187,
    "start_time": "2022-07-11T09:37:59.913Z"
   },
   {
    "duration": 54,
    "start_time": "2022-07-11T09:47:23.146Z"
   },
   {
    "duration": 136,
    "start_time": "2022-07-11T09:47:23.386Z"
   },
   {
    "duration": 10,
    "start_time": "2022-07-11T09:47:26.754Z"
   },
   {
    "duration": 11,
    "start_time": "2022-07-11T09:47:26.946Z"
   },
   {
    "duration": 10,
    "start_time": "2022-07-11T09:47:40.999Z"
   },
   {
    "duration": 18,
    "start_time": "2022-07-11T09:47:48.614Z"
   },
   {
    "duration": 69,
    "start_time": "2022-07-11T09:47:49.297Z"
   },
   {
    "duration": 11,
    "start_time": "2022-07-11T09:52:11.517Z"
   },
   {
    "duration": 7,
    "start_time": "2022-07-11T09:52:36.753Z"
   },
   {
    "duration": 16,
    "start_time": "2022-07-11T09:52:40.674Z"
   },
   {
    "duration": 21,
    "start_time": "2022-07-11T09:52:44.993Z"
   },
   {
    "duration": 1768,
    "start_time": "2022-07-11T09:53:34.819Z"
   },
   {
    "duration": 4,
    "start_time": "2022-07-11T09:53:36.590Z"
   },
   {
    "duration": 773,
    "start_time": "2022-07-11T09:53:36.596Z"
   },
   {
    "duration": 30,
    "start_time": "2022-07-11T09:53:37.371Z"
   },
   {
    "duration": 163,
    "start_time": "2022-07-11T09:53:37.402Z"
   },
   {
    "duration": 119,
    "start_time": "2022-07-11T09:53:37.567Z"
   },
   {
    "duration": 5,
    "start_time": "2022-07-11T09:53:37.688Z"
   },
   {
    "duration": 803,
    "start_time": "2022-07-11T09:53:37.694Z"
   },
   {
    "duration": 120,
    "start_time": "2022-07-11T09:53:38.499Z"
   },
   {
    "duration": 1013,
    "start_time": "2022-07-11T09:53:38.621Z"
   },
   {
    "duration": 20,
    "start_time": "2022-07-11T09:53:39.646Z"
   },
   {
    "duration": 515,
    "start_time": "2022-07-11T09:53:39.668Z"
   },
   {
    "duration": 38,
    "start_time": "2022-07-11T09:53:40.185Z"
   },
   {
    "duration": 33,
    "start_time": "2022-07-11T09:53:40.224Z"
   },
   {
    "duration": 6,
    "start_time": "2022-07-11T09:53:40.259Z"
   },
   {
    "duration": 28728,
    "start_time": "2022-07-11T09:53:40.267Z"
   },
   {
    "duration": 26,
    "start_time": "2022-07-11T09:54:08.997Z"
   },
   {
    "duration": 22,
    "start_time": "2022-07-11T09:54:09.026Z"
   },
   {
    "duration": 101,
    "start_time": "2022-07-11T09:54:09.050Z"
   },
   {
    "duration": 77,
    "start_time": "2022-07-11T09:54:09.153Z"
   },
   {
    "duration": 8,
    "start_time": "2022-07-11T09:54:09.232Z"
   },
   {
    "duration": 33568,
    "start_time": "2022-07-11T09:54:09.242Z"
   },
   {
    "duration": 58,
    "start_time": "2022-07-11T09:54:42.812Z"
   },
   {
    "duration": 45,
    "start_time": "2022-07-11T09:54:42.873Z"
   },
   {
    "duration": 2,
    "start_time": "2022-07-11T09:54:42.920Z"
   },
   {
    "duration": 3,
    "start_time": "2022-07-11T09:54:42.945Z"
   },
   {
    "duration": 12,
    "start_time": "2022-07-11T09:54:42.950Z"
   },
   {
    "duration": 23,
    "start_time": "2022-07-11T09:54:42.967Z"
   },
   {
    "duration": 54,
    "start_time": "2022-07-11T09:54:42.992Z"
   },
   {
    "duration": 26259,
    "start_time": "2022-07-11T09:54:43.048Z"
   },
   {
    "duration": 11,
    "start_time": "2022-07-11T09:55:09.310Z"
   },
   {
    "duration": 48,
    "start_time": "2022-07-11T09:55:09.323Z"
   },
   {
    "duration": 44,
    "start_time": "2022-07-11T09:55:09.373Z"
   },
   {
    "duration": 30901,
    "start_time": "2022-07-11T09:55:09.420Z"
   },
   {
    "duration": 55,
    "start_time": "2022-07-11T09:55:40.322Z"
   },
   {
    "duration": 39,
    "start_time": "2022-07-11T09:55:40.379Z"
   },
   {
    "duration": 44,
    "start_time": "2022-07-11T09:55:40.420Z"
   },
   {
    "duration": 18,
    "start_time": "2022-07-11T09:55:40.465Z"
   },
   {
    "duration": 33,
    "start_time": "2022-07-11T09:55:40.486Z"
   },
   {
    "duration": 24585,
    "start_time": "2022-07-11T09:55:40.520Z"
   },
   {
    "duration": 25,
    "start_time": "2022-07-11T09:56:05.107Z"
   },
   {
    "duration": 27596,
    "start_time": "2022-07-11T09:56:05.145Z"
   },
   {
    "duration": 28,
    "start_time": "2022-07-11T09:56:32.743Z"
   },
   {
    "duration": 43,
    "start_time": "2022-07-11T09:56:32.774Z"
   },
   {
    "duration": 72,
    "start_time": "2022-07-11T09:56:32.819Z"
   },
   {
    "duration": 26313,
    "start_time": "2022-07-11T09:56:32.893Z"
   },
   {
    "duration": 40,
    "start_time": "2022-07-11T09:56:59.209Z"
   },
   {
    "duration": 33,
    "start_time": "2022-07-11T09:56:59.251Z"
   },
   {
    "duration": 9,
    "start_time": "2022-07-11T09:56:59.285Z"
   },
   {
    "duration": 21,
    "start_time": "2022-07-11T09:56:59.297Z"
   },
   {
    "duration": 10,
    "start_time": "2022-07-11T09:56:59.320Z"
   },
   {
    "duration": 41,
    "start_time": "2022-07-11T09:56:59.347Z"
   },
   {
    "duration": 64,
    "start_time": "2022-07-11T09:56:59.390Z"
   },
   {
    "duration": 30466,
    "start_time": "2022-07-11T09:56:59.456Z"
   },
   {
    "duration": 33,
    "start_time": "2022-07-11T09:57:29.924Z"
   },
   {
    "duration": 41,
    "start_time": "2022-07-11T09:57:29.973Z"
   },
   {
    "duration": 52,
    "start_time": "2022-07-11T09:57:30.016Z"
   },
   {
    "duration": 43,
    "start_time": "2022-07-11T09:57:30.069Z"
   },
   {
    "duration": 65,
    "start_time": "2022-07-11T09:57:30.114Z"
   },
   {
    "duration": 31,
    "start_time": "2022-07-11T09:57:30.181Z"
   },
   {
    "duration": 59,
    "start_time": "2022-07-11T09:57:30.214Z"
   },
   {
    "duration": 192,
    "start_time": "2022-07-11T09:57:30.275Z"
   },
   {
    "duration": 16,
    "start_time": "2022-07-11T09:57:30.469Z"
   },
   {
    "duration": 28,
    "start_time": "2022-07-11T09:57:30.487Z"
   },
   {
    "duration": 55,
    "start_time": "2022-07-11T09:57:30.517Z"
   },
   {
    "duration": 13,
    "start_time": "2022-07-11T09:57:30.574Z"
   },
   {
    "duration": 65,
    "start_time": "2022-07-11T09:57:30.589Z"
   },
   {
    "duration": 244,
    "start_time": "2022-07-11T09:57:30.662Z"
   },
   {
    "duration": 282,
    "start_time": "2022-07-11T09:57:30.908Z"
   },
   {
    "duration": 29,
    "start_time": "2022-07-11T09:57:31.192Z"
   },
   {
    "duration": 413,
    "start_time": "2022-07-11T09:57:31.223Z"
   },
   {
    "duration": 190,
    "start_time": "2022-07-11T09:57:31.638Z"
   },
   {
    "duration": 23,
    "start_time": "2022-07-11T09:57:31.830Z"
   },
   {
    "duration": 86,
    "start_time": "2022-07-11T09:57:31.858Z"
   },
   {
    "duration": 419,
    "start_time": "2022-07-11T09:57:31.945Z"
   },
   {
    "duration": 7,
    "start_time": "2022-07-11T10:53:41.525Z"
   },
   {
    "duration": 77,
    "start_time": "2022-07-11T10:53:52.272Z"
   },
   {
    "duration": 145,
    "start_time": "2022-07-11T10:54:06.811Z"
   },
   {
    "duration": 12,
    "start_time": "2022-07-11T10:55:11.016Z"
   },
   {
    "duration": 5,
    "start_time": "2022-07-11T10:55:15.763Z"
   },
   {
    "duration": 54,
    "start_time": "2022-07-11T10:55:50.746Z"
   },
   {
    "duration": 11,
    "start_time": "2022-07-11T10:55:54.018Z"
   },
   {
    "duration": 11,
    "start_time": "2022-07-11T10:56:00.633Z"
   },
   {
    "duration": 14,
    "start_time": "2022-07-11T10:56:06.926Z"
   },
   {
    "duration": 10,
    "start_time": "2022-07-11T10:57:03.200Z"
   },
   {
    "duration": 81,
    "start_time": "2022-07-11T10:57:04.300Z"
   },
   {
    "duration": 9352,
    "start_time": "2022-07-11T10:58:03.433Z"
   },
   {
    "duration": 104,
    "start_time": "2022-07-11T10:58:36.153Z"
   },
   {
    "duration": 15,
    "start_time": "2022-07-11T11:08:09.003Z"
   },
   {
    "duration": 31,
    "start_time": "2022-07-11T11:08:16.989Z"
   },
   {
    "duration": 26,
    "start_time": "2022-07-11T11:08:21.326Z"
   },
   {
    "duration": 4,
    "start_time": "2022-07-11T11:08:33.622Z"
   },
   {
    "duration": 3,
    "start_time": "2022-07-11T11:11:34.998Z"
   },
   {
    "duration": 44273,
    "start_time": "2022-07-11T11:11:36.719Z"
   },
   {
    "duration": 1911,
    "start_time": "2022-07-11T11:12:50.440Z"
   },
   {
    "duration": 7,
    "start_time": "2022-07-11T11:12:52.353Z"
   },
   {
    "duration": 813,
    "start_time": "2022-07-11T11:12:52.367Z"
   },
   {
    "duration": 29,
    "start_time": "2022-07-11T11:12:53.183Z"
   },
   {
    "duration": 185,
    "start_time": "2022-07-11T11:12:53.213Z"
   },
   {
    "duration": 127,
    "start_time": "2022-07-11T11:12:53.399Z"
   },
   {
    "duration": 3,
    "start_time": "2022-07-11T11:12:53.528Z"
   },
   {
    "duration": 1014,
    "start_time": "2022-07-11T11:12:53.533Z"
   },
   {
    "duration": 133,
    "start_time": "2022-07-11T11:12:54.549Z"
   },
   {
    "duration": 1004,
    "start_time": "2022-07-11T11:12:54.685Z"
   },
   {
    "duration": 19,
    "start_time": "2022-07-11T11:12:55.690Z"
   },
   {
    "duration": 574,
    "start_time": "2022-07-11T11:12:55.711Z"
   },
   {
    "duration": 38,
    "start_time": "2022-07-11T11:12:56.287Z"
   },
   {
    "duration": 48,
    "start_time": "2022-07-11T11:12:56.327Z"
   },
   {
    "duration": 6,
    "start_time": "2022-07-11T11:12:56.377Z"
   },
   {
    "duration": 32570,
    "start_time": "2022-07-11T11:12:56.385Z"
   },
   {
    "duration": 32,
    "start_time": "2022-07-11T11:13:28.957Z"
   },
   {
    "duration": 8,
    "start_time": "2022-07-11T11:13:28.992Z"
   },
   {
    "duration": 67,
    "start_time": "2022-07-11T11:13:29.002Z"
   },
   {
    "duration": 90,
    "start_time": "2022-07-11T11:13:29.073Z"
   },
   {
    "duration": 12,
    "start_time": "2022-07-11T11:13:29.165Z"
   },
   {
    "duration": 41544,
    "start_time": "2022-07-11T11:13:29.180Z"
   },
   {
    "duration": 60,
    "start_time": "2022-07-11T11:14:10.726Z"
   },
   {
    "duration": 38,
    "start_time": "2022-07-11T11:14:10.788Z"
   },
   {
    "duration": 3,
    "start_time": "2022-07-11T11:14:10.828Z"
   },
   {
    "duration": 11,
    "start_time": "2022-07-11T11:14:10.850Z"
   },
   {
    "duration": 27,
    "start_time": "2022-07-11T11:14:10.862Z"
   },
   {
    "duration": 21,
    "start_time": "2022-07-11T11:14:10.895Z"
   },
   {
    "duration": 50,
    "start_time": "2022-07-11T11:14:10.917Z"
   },
   {
    "duration": 28904,
    "start_time": "2022-07-11T11:14:10.973Z"
   },
   {
    "duration": 11,
    "start_time": "2022-07-11T11:14:39.879Z"
   },
   {
    "duration": 36,
    "start_time": "2022-07-11T11:14:39.891Z"
   },
   {
    "duration": 64,
    "start_time": "2022-07-11T11:14:39.928Z"
   },
   {
    "duration": 33275,
    "start_time": "2022-07-11T11:14:39.995Z"
   },
   {
    "duration": 41,
    "start_time": "2022-07-11T11:15:13.272Z"
   },
   {
    "duration": 53,
    "start_time": "2022-07-11T11:15:13.314Z"
   },
   {
    "duration": 17,
    "start_time": "2022-07-11T11:15:13.368Z"
   },
   {
    "duration": 16,
    "start_time": "2022-07-11T11:15:13.387Z"
   },
   {
    "duration": 65,
    "start_time": "2022-07-11T11:15:13.405Z"
   },
   {
    "duration": 23900,
    "start_time": "2022-07-11T11:15:13.473Z"
   },
   {
    "duration": 27,
    "start_time": "2022-07-11T11:15:37.375Z"
   },
   {
    "duration": 26735,
    "start_time": "2022-07-11T11:15:37.404Z"
   },
   {
    "duration": 32,
    "start_time": "2022-07-11T11:16:04.141Z"
   },
   {
    "duration": 35,
    "start_time": "2022-07-11T11:16:04.176Z"
   },
   {
    "duration": 80,
    "start_time": "2022-07-11T11:16:04.213Z"
   },
   {
    "duration": 25642,
    "start_time": "2022-07-11T11:16:04.295Z"
   },
   {
    "duration": 41,
    "start_time": "2022-07-11T11:16:29.939Z"
   },
   {
    "duration": 16,
    "start_time": "2022-07-11T11:16:29.982Z"
   },
   {
    "duration": 8,
    "start_time": "2022-07-11T11:16:30.000Z"
   },
   {
    "duration": 29,
    "start_time": "2022-07-11T11:16:30.010Z"
   },
   {
    "duration": 30,
    "start_time": "2022-07-11T11:16:30.041Z"
   },
   {
    "duration": 37,
    "start_time": "2022-07-11T11:16:30.076Z"
   },
   {
    "duration": 66,
    "start_time": "2022-07-11T11:16:30.116Z"
   },
   {
    "duration": 33851,
    "start_time": "2022-07-11T11:16:30.185Z"
   },
   {
    "duration": 45,
    "start_time": "2022-07-11T11:17:04.038Z"
   },
   {
    "duration": 54,
    "start_time": "2022-07-11T11:17:04.084Z"
   },
   {
    "duration": 61,
    "start_time": "2022-07-11T11:17:04.140Z"
   },
   {
    "duration": 33,
    "start_time": "2022-07-11T11:17:04.203Z"
   },
   {
    "duration": 69,
    "start_time": "2022-07-11T11:17:04.237Z"
   },
   {
    "duration": 18,
    "start_time": "2022-07-11T11:17:04.308Z"
   },
   {
    "duration": 48,
    "start_time": "2022-07-11T11:17:04.328Z"
   },
   {
    "duration": 152,
    "start_time": "2022-07-11T11:17:04.378Z"
   },
   {
    "duration": 36,
    "start_time": "2022-07-11T11:17:04.533Z"
   },
   {
    "duration": 14,
    "start_time": "2022-07-11T11:17:04.578Z"
   },
   {
    "duration": 39,
    "start_time": "2022-07-11T11:17:04.594Z"
   },
   {
    "duration": 10,
    "start_time": "2022-07-11T11:17:04.634Z"
   },
   {
    "duration": 62,
    "start_time": "2022-07-11T11:17:04.649Z"
   },
   {
    "duration": 213,
    "start_time": "2022-07-11T11:17:04.712Z"
   },
   {
    "duration": 312,
    "start_time": "2022-07-11T11:17:04.926Z"
   },
   {
    "duration": 39,
    "start_time": "2022-07-11T11:17:05.240Z"
   },
   {
    "duration": 412,
    "start_time": "2022-07-11T11:17:05.282Z"
   },
   {
    "duration": 215,
    "start_time": "2022-07-11T11:17:05.696Z"
   },
   {
    "duration": 15,
    "start_time": "2022-07-11T11:17:05.913Z"
   },
   {
    "duration": 95,
    "start_time": "2022-07-11T11:17:05.930Z"
   },
   {
    "duration": 19,
    "start_time": "2022-07-11T11:17:06.027Z"
   },
   {
    "duration": 222,
    "start_time": "2022-07-11T11:17:06.052Z"
   },
   {
    "duration": 66,
    "start_time": "2022-07-11T11:17:06.285Z"
   },
   {
    "duration": 1744,
    "start_time": "2022-07-11T11:18:35.443Z"
   },
   {
    "duration": 4,
    "start_time": "2022-07-11T11:18:37.193Z"
   },
   {
    "duration": 857,
    "start_time": "2022-07-11T11:18:37.199Z"
   },
   {
    "duration": 42,
    "start_time": "2022-07-11T11:18:38.061Z"
   },
   {
    "duration": 192,
    "start_time": "2022-07-11T11:18:38.105Z"
   },
   {
    "duration": 117,
    "start_time": "2022-07-11T11:18:38.299Z"
   },
   {
    "duration": 3,
    "start_time": "2022-07-11T11:18:38.418Z"
   },
   {
    "duration": 1019,
    "start_time": "2022-07-11T11:18:38.423Z"
   },
   {
    "duration": 128,
    "start_time": "2022-07-11T11:18:39.444Z"
   },
   {
    "duration": 837,
    "start_time": "2022-07-11T11:18:39.575Z"
   },
   {
    "duration": 18,
    "start_time": "2022-07-11T11:18:40.414Z"
   },
   {
    "duration": 506,
    "start_time": "2022-07-11T11:18:40.447Z"
   },
   {
    "duration": 35,
    "start_time": "2022-07-11T11:18:40.958Z"
   },
   {
    "duration": 22,
    "start_time": "2022-07-11T11:18:40.995Z"
   },
   {
    "duration": 6,
    "start_time": "2022-07-11T11:18:41.019Z"
   },
   {
    "duration": 31491,
    "start_time": "2022-07-11T11:18:41.027Z"
   },
   {
    "duration": 38,
    "start_time": "2022-07-11T11:19:12.520Z"
   },
   {
    "duration": 4,
    "start_time": "2022-07-11T11:19:12.559Z"
   },
   {
    "duration": 39,
    "start_time": "2022-07-11T11:19:12.565Z"
   },
   {
    "duration": 81,
    "start_time": "2022-07-11T11:19:12.606Z"
   },
   {
    "duration": 11,
    "start_time": "2022-07-11T11:19:12.689Z"
   },
   {
    "duration": 39456,
    "start_time": "2022-07-11T11:19:12.702Z"
   },
   {
    "duration": 66,
    "start_time": "2022-07-11T11:19:52.160Z"
   },
   {
    "duration": 58,
    "start_time": "2022-07-11T11:19:52.228Z"
   },
   {
    "duration": 2,
    "start_time": "2022-07-11T11:19:52.288Z"
   },
   {
    "duration": 13,
    "start_time": "2022-07-11T11:19:52.292Z"
   },
   {
    "duration": 8,
    "start_time": "2022-07-11T11:19:52.307Z"
   },
   {
    "duration": 20,
    "start_time": "2022-07-11T11:19:52.320Z"
   },
   {
    "duration": 54,
    "start_time": "2022-07-11T11:19:52.345Z"
   },
   {
    "duration": 28902,
    "start_time": "2022-07-11T11:19:52.401Z"
   },
   {
    "duration": 10,
    "start_time": "2022-07-11T11:20:21.304Z"
   },
   {
    "duration": 65,
    "start_time": "2022-07-11T11:20:21.316Z"
   },
   {
    "duration": 39,
    "start_time": "2022-07-11T11:20:21.384Z"
   },
   {
    "duration": 36980,
    "start_time": "2022-07-11T11:20:21.425Z"
   },
   {
    "duration": 49,
    "start_time": "2022-07-11T11:20:58.406Z"
   },
   {
    "duration": 46,
    "start_time": "2022-07-11T11:20:58.459Z"
   },
   {
    "duration": 17,
    "start_time": "2022-07-11T11:20:58.507Z"
   },
   {
    "duration": 28,
    "start_time": "2022-07-11T11:20:58.526Z"
   },
   {
    "duration": 35,
    "start_time": "2022-07-11T11:20:58.556Z"
   },
   {
    "duration": 26600,
    "start_time": "2022-07-11T11:20:58.593Z"
   },
   {
    "duration": 35,
    "start_time": "2022-07-11T11:21:25.195Z"
   },
   {
    "duration": 29683,
    "start_time": "2022-07-11T11:21:25.232Z"
   },
   {
    "duration": 39,
    "start_time": "2022-07-11T11:21:54.916Z"
   },
   {
    "duration": 49,
    "start_time": "2022-07-11T11:21:54.958Z"
   },
   {
    "duration": 51,
    "start_time": "2022-07-11T11:21:55.009Z"
   },
   {
    "duration": 32102,
    "start_time": "2022-07-11T11:21:55.062Z"
   },
   {
    "duration": 38,
    "start_time": "2022-07-11T11:22:27.166Z"
   },
   {
    "duration": 16,
    "start_time": "2022-07-11T11:22:27.206Z"
   },
   {
    "duration": 35,
    "start_time": "2022-07-11T11:22:27.224Z"
   },
   {
    "duration": 49,
    "start_time": "2022-07-11T11:22:27.263Z"
   },
   {
    "duration": 10,
    "start_time": "2022-07-11T11:22:27.314Z"
   },
   {
    "duration": 57,
    "start_time": "2022-07-11T11:22:27.326Z"
   },
   {
    "duration": 45,
    "start_time": "2022-07-11T11:22:27.391Z"
   },
   {
    "duration": 36088,
    "start_time": "2022-07-11T11:22:27.438Z"
   },
   {
    "duration": 31,
    "start_time": "2022-07-11T11:23:03.528Z"
   },
   {
    "duration": 67,
    "start_time": "2022-07-11T11:23:03.561Z"
   },
   {
    "duration": 43,
    "start_time": "2022-07-11T11:23:03.630Z"
   },
   {
    "duration": 48,
    "start_time": "2022-07-11T11:23:03.679Z"
   },
   {
    "duration": 87,
    "start_time": "2022-07-11T11:23:03.729Z"
   },
   {
    "duration": 22,
    "start_time": "2022-07-11T11:23:03.818Z"
   },
   {
    "duration": 64,
    "start_time": "2022-07-11T11:23:03.843Z"
   },
   {
    "duration": 164,
    "start_time": "2022-07-11T11:23:03.910Z"
   },
   {
    "duration": 19,
    "start_time": "2022-07-11T11:23:04.079Z"
   },
   {
    "duration": 32,
    "start_time": "2022-07-11T11:23:04.100Z"
   },
   {
    "duration": 92,
    "start_time": "2022-07-11T11:23:04.134Z"
   },
   {
    "duration": 12,
    "start_time": "2022-07-11T11:23:04.228Z"
   },
   {
    "duration": 68,
    "start_time": "2022-07-11T11:23:04.242Z"
   },
   {
    "duration": 215,
    "start_time": "2022-07-11T11:23:04.312Z"
   },
   {
    "duration": 310,
    "start_time": "2022-07-11T11:23:04.529Z"
   },
   {
    "duration": 36,
    "start_time": "2022-07-11T11:23:04.841Z"
   },
   {
    "duration": 399,
    "start_time": "2022-07-11T11:23:04.880Z"
   },
   {
    "duration": 213,
    "start_time": "2022-07-11T11:23:05.281Z"
   },
   {
    "duration": 9,
    "start_time": "2022-07-11T11:23:05.496Z"
   },
   {
    "duration": 110,
    "start_time": "2022-07-11T11:23:05.507Z"
   },
   {
    "duration": 9,
    "start_time": "2022-07-11T11:23:05.619Z"
   },
   {
    "duration": 251,
    "start_time": "2022-07-11T11:23:05.630Z"
   },
   {
    "duration": 5,
    "start_time": "2022-07-11T11:23:05.946Z"
   },
   {
    "duration": 1798,
    "start_time": "2022-07-11T11:26:51.895Z"
   },
   {
    "duration": 3,
    "start_time": "2022-07-11T11:26:53.696Z"
   },
   {
    "duration": 851,
    "start_time": "2022-07-11T11:26:53.701Z"
   },
   {
    "duration": 37,
    "start_time": "2022-07-11T11:26:54.553Z"
   },
   {
    "duration": 161,
    "start_time": "2022-07-11T11:26:54.592Z"
   },
   {
    "duration": 109,
    "start_time": "2022-07-11T11:26:54.755Z"
   },
   {
    "duration": 5,
    "start_time": "2022-07-11T11:26:54.867Z"
   },
   {
    "duration": 990,
    "start_time": "2022-07-11T11:26:54.873Z"
   },
   {
    "duration": 122,
    "start_time": "2022-07-11T11:26:55.864Z"
   },
   {
    "duration": 939,
    "start_time": "2022-07-11T11:26:55.988Z"
   },
   {
    "duration": 51,
    "start_time": "2022-07-11T11:26:56.928Z"
   },
   {
    "duration": 512,
    "start_time": "2022-07-11T11:26:56.982Z"
   },
   {
    "duration": 36,
    "start_time": "2022-07-11T11:26:57.496Z"
   },
   {
    "duration": 33,
    "start_time": "2022-07-11T11:26:57.546Z"
   },
   {
    "duration": 5,
    "start_time": "2022-07-11T11:26:57.582Z"
   },
   {
    "duration": 29276,
    "start_time": "2022-07-11T11:26:57.589Z"
   },
   {
    "duration": 19,
    "start_time": "2022-07-11T11:27:26.867Z"
   },
   {
    "duration": 3,
    "start_time": "2022-07-11T11:27:26.888Z"
   },
   {
    "duration": 72,
    "start_time": "2022-07-11T11:27:26.892Z"
   },
   {
    "duration": 46,
    "start_time": "2022-07-11T11:27:26.966Z"
   },
   {
    "duration": 8,
    "start_time": "2022-07-11T11:27:27.015Z"
   },
   {
    "duration": 1864,
    "start_time": "2022-07-11T11:27:50.562Z"
   },
   {
    "duration": 4,
    "start_time": "2022-07-11T11:27:52.428Z"
   },
   {
    "duration": 794,
    "start_time": "2022-07-11T11:27:52.434Z"
   },
   {
    "duration": 42,
    "start_time": "2022-07-11T11:27:53.230Z"
   },
   {
    "duration": 172,
    "start_time": "2022-07-11T11:27:53.275Z"
   },
   {
    "duration": 128,
    "start_time": "2022-07-11T11:27:53.449Z"
   },
   {
    "duration": 3,
    "start_time": "2022-07-11T11:27:53.579Z"
   },
   {
    "duration": 1023,
    "start_time": "2022-07-11T11:27:53.584Z"
   },
   {
    "duration": 128,
    "start_time": "2022-07-11T11:27:54.608Z"
   },
   {
    "duration": 885,
    "start_time": "2022-07-11T11:27:54.738Z"
   },
   {
    "duration": 31,
    "start_time": "2022-07-11T11:27:55.624Z"
   },
   {
    "duration": 496,
    "start_time": "2022-07-11T11:27:55.660Z"
   },
   {
    "duration": 38,
    "start_time": "2022-07-11T11:27:56.158Z"
   },
   {
    "duration": 18,
    "start_time": "2022-07-11T11:27:56.199Z"
   },
   {
    "duration": 5,
    "start_time": "2022-07-11T11:27:56.219Z"
   },
   {
    "duration": 28756,
    "start_time": "2022-07-11T11:27:56.252Z"
   },
   {
    "duration": 42,
    "start_time": "2022-07-11T11:28:25.011Z"
   },
   {
    "duration": 6,
    "start_time": "2022-07-11T11:28:25.055Z"
   },
   {
    "duration": 41,
    "start_time": "2022-07-11T11:28:25.063Z"
   },
   {
    "duration": 59,
    "start_time": "2022-07-11T11:28:25.107Z"
   },
   {
    "duration": 8,
    "start_time": "2022-07-11T11:28:25.168Z"
   },
   {
    "duration": 34852,
    "start_time": "2022-07-11T11:28:25.178Z"
   },
   {
    "duration": 53,
    "start_time": "2022-07-11T11:29:00.031Z"
   },
   {
    "duration": 38,
    "start_time": "2022-07-11T11:29:00.086Z"
   },
   {
    "duration": 32,
    "start_time": "2022-07-11T11:29:00.126Z"
   },
   {
    "duration": 18,
    "start_time": "2022-07-11T11:29:00.160Z"
   },
   {
    "duration": 14,
    "start_time": "2022-07-11T11:29:00.180Z"
   },
   {
    "duration": 43,
    "start_time": "2022-07-11T11:29:00.196Z"
   },
   {
    "duration": 43,
    "start_time": "2022-07-11T11:29:00.241Z"
   },
   {
    "duration": 1801,
    "start_time": "2022-07-11T11:29:06.387Z"
   },
   {
    "duration": 3,
    "start_time": "2022-07-11T11:29:08.191Z"
   },
   {
    "duration": 770,
    "start_time": "2022-07-11T11:29:08.196Z"
   },
   {
    "duration": 37,
    "start_time": "2022-07-11T11:29:08.967Z"
   },
   {
    "duration": 212,
    "start_time": "2022-07-11T11:29:09.008Z"
   },
   {
    "duration": 115,
    "start_time": "2022-07-11T11:29:09.222Z"
   },
   {
    "duration": 15,
    "start_time": "2022-07-11T11:29:09.339Z"
   },
   {
    "duration": 854,
    "start_time": "2022-07-11T11:29:09.361Z"
   },
   {
    "duration": 117,
    "start_time": "2022-07-11T11:29:10.217Z"
   },
   {
    "duration": 851,
    "start_time": "2022-07-11T11:29:10.336Z"
   },
   {
    "duration": 19,
    "start_time": "2022-07-11T11:29:11.189Z"
   },
   {
    "duration": 520,
    "start_time": "2022-07-11T11:29:11.210Z"
   },
   {
    "duration": 45,
    "start_time": "2022-07-11T11:29:11.732Z"
   },
   {
    "duration": 17,
    "start_time": "2022-07-11T11:29:11.780Z"
   },
   {
    "duration": 5,
    "start_time": "2022-07-11T11:29:11.798Z"
   },
   {
    "duration": 30086,
    "start_time": "2022-07-11T11:29:11.805Z"
   },
   {
    "duration": 17,
    "start_time": "2022-07-11T11:29:41.893Z"
   },
   {
    "duration": 3,
    "start_time": "2022-07-11T11:29:41.911Z"
   },
   {
    "duration": 70,
    "start_time": "2022-07-11T11:29:41.915Z"
   },
   {
    "duration": 50,
    "start_time": "2022-07-11T11:29:41.987Z"
   },
   {
    "duration": 21,
    "start_time": "2022-07-11T11:29:42.038Z"
   },
   {
    "duration": 36931,
    "start_time": "2022-07-11T11:29:42.064Z"
   },
   {
    "duration": 68,
    "start_time": "2022-07-11T11:30:18.997Z"
   },
   {
    "duration": 56,
    "start_time": "2022-07-11T11:30:19.068Z"
   },
   {
    "duration": 2,
    "start_time": "2022-07-11T11:30:19.128Z"
   },
   {
    "duration": 32,
    "start_time": "2022-07-11T11:30:19.150Z"
   },
   {
    "duration": 22,
    "start_time": "2022-07-11T11:30:19.185Z"
   },
   {
    "duration": 38,
    "start_time": "2022-07-11T11:30:19.210Z"
   },
   {
    "duration": 68,
    "start_time": "2022-07-11T11:30:19.254Z"
   },
   {
    "duration": 28529,
    "start_time": "2022-07-11T11:30:19.324Z"
   },
   {
    "duration": 10,
    "start_time": "2022-07-11T11:30:47.862Z"
   },
   {
    "duration": 40,
    "start_time": "2022-07-11T11:30:47.873Z"
   },
   {
    "duration": 51,
    "start_time": "2022-07-11T11:30:47.915Z"
   },
   {
    "duration": 33994,
    "start_time": "2022-07-11T11:30:47.968Z"
   },
   {
    "duration": 36,
    "start_time": "2022-07-11T11:31:21.964Z"
   },
   {
    "duration": 59,
    "start_time": "2022-07-11T11:31:22.001Z"
   },
   {
    "duration": 20,
    "start_time": "2022-07-11T11:31:22.064Z"
   },
   {
    "duration": 18,
    "start_time": "2022-07-11T11:31:22.086Z"
   },
   {
    "duration": 44,
    "start_time": "2022-07-11T11:31:22.105Z"
   },
   {
    "duration": 26393,
    "start_time": "2022-07-11T11:31:22.151Z"
   },
   {
    "duration": 29,
    "start_time": "2022-07-11T11:31:48.553Z"
   },
   {
    "duration": 28473,
    "start_time": "2022-07-11T11:31:48.584Z"
   },
   {
    "duration": 33,
    "start_time": "2022-07-11T11:32:17.059Z"
   },
   {
    "duration": 69,
    "start_time": "2022-07-11T11:32:17.093Z"
   },
   {
    "duration": 51,
    "start_time": "2022-07-11T11:32:17.169Z"
   },
   {
    "duration": 28869,
    "start_time": "2022-07-11T11:32:17.222Z"
   },
   {
    "duration": 20,
    "start_time": "2022-07-11T11:32:46.093Z"
   },
   {
    "duration": 19,
    "start_time": "2022-07-11T11:32:46.115Z"
   },
   {
    "duration": 22,
    "start_time": "2022-07-11T11:32:46.136Z"
   },
   {
    "duration": 23,
    "start_time": "2022-07-11T11:32:46.159Z"
   },
   {
    "duration": 9,
    "start_time": "2022-07-11T11:32:46.184Z"
   },
   {
    "duration": 42,
    "start_time": "2022-07-11T11:32:46.195Z"
   },
   {
    "duration": 116,
    "start_time": "2022-07-11T11:32:46.239Z"
   },
   {
    "duration": 31206,
    "start_time": "2022-07-11T11:32:46.360Z"
   },
   {
    "duration": 23,
    "start_time": "2022-07-11T11:33:17.567Z"
   },
   {
    "duration": 58,
    "start_time": "2022-07-11T11:33:17.592Z"
   },
   {
    "duration": 26,
    "start_time": "2022-07-11T11:33:17.652Z"
   },
   {
    "duration": 38,
    "start_time": "2022-07-11T11:33:17.680Z"
   },
   {
    "duration": 72,
    "start_time": "2022-07-11T11:33:17.720Z"
   },
   {
    "duration": 18,
    "start_time": "2022-07-11T11:33:17.795Z"
   },
   {
    "duration": 36,
    "start_time": "2022-07-11T11:33:17.814Z"
   },
   {
    "duration": 141,
    "start_time": "2022-07-11T11:33:17.853Z"
   },
   {
    "duration": 15,
    "start_time": "2022-07-11T11:33:17.996Z"
   },
   {
    "duration": 15,
    "start_time": "2022-07-11T11:33:18.013Z"
   },
   {
    "duration": 42,
    "start_time": "2022-07-11T11:33:18.046Z"
   },
   {
    "duration": 11,
    "start_time": "2022-07-11T11:33:18.090Z"
   },
   {
    "duration": 52,
    "start_time": "2022-07-11T11:33:18.103Z"
   },
   {
    "duration": 202,
    "start_time": "2022-07-11T11:33:18.156Z"
   },
   {
    "duration": 277,
    "start_time": "2022-07-11T11:33:18.360Z"
   },
   {
    "duration": 32,
    "start_time": "2022-07-11T11:33:18.639Z"
   },
   {
    "duration": 440,
    "start_time": "2022-07-11T11:33:18.672Z"
   },
   {
    "duration": 224,
    "start_time": "2022-07-11T11:33:19.115Z"
   },
   {
    "duration": 13,
    "start_time": "2022-07-11T11:33:19.340Z"
   },
   {
    "duration": 70,
    "start_time": "2022-07-11T11:33:19.357Z"
   },
   {
    "duration": 30,
    "start_time": "2022-07-11T11:33:19.428Z"
   },
   {
    "duration": 191,
    "start_time": "2022-07-11T11:33:19.462Z"
   },
   {
    "duration": 7,
    "start_time": "2022-07-11T11:33:19.655Z"
   },
   {
    "duration": 1827,
    "start_time": "2022-07-11T12:05:50.962Z"
   },
   {
    "duration": 4,
    "start_time": "2022-07-11T12:05:52.791Z"
   },
   {
    "duration": 764,
    "start_time": "2022-07-11T12:05:52.797Z"
   },
   {
    "duration": 28,
    "start_time": "2022-07-11T12:05:53.563Z"
   },
   {
    "duration": 193,
    "start_time": "2022-07-11T12:05:53.594Z"
   },
   {
    "duration": 114,
    "start_time": "2022-07-11T12:05:53.789Z"
   },
   {
    "duration": 3,
    "start_time": "2022-07-11T12:05:53.905Z"
   },
   {
    "duration": 973,
    "start_time": "2022-07-11T12:05:53.910Z"
   },
   {
    "duration": 126,
    "start_time": "2022-07-11T12:05:54.886Z"
   },
   {
    "duration": 982,
    "start_time": "2022-07-11T12:05:55.014Z"
   },
   {
    "duration": 19,
    "start_time": "2022-07-11T12:05:55.999Z"
   },
   {
    "duration": 562,
    "start_time": "2022-07-11T12:05:56.021Z"
   },
   {
    "duration": 38,
    "start_time": "2022-07-11T12:05:56.584Z"
   },
   {
    "duration": 50,
    "start_time": "2022-07-11T12:05:56.625Z"
   },
   {
    "duration": 6,
    "start_time": "2022-07-11T12:05:56.677Z"
   },
   {
    "duration": 30383,
    "start_time": "2022-07-11T12:05:56.685Z"
   },
   {
    "duration": 19,
    "start_time": "2022-07-11T12:06:27.069Z"
   },
   {
    "duration": 3,
    "start_time": "2022-07-11T12:06:27.089Z"
   },
   {
    "duration": 68,
    "start_time": "2022-07-11T12:06:27.093Z"
   },
   {
    "duration": 50,
    "start_time": "2022-07-11T12:06:27.163Z"
   },
   {
    "duration": 7,
    "start_time": "2022-07-11T12:06:27.216Z"
   },
   {
    "duration": 35359,
    "start_time": "2022-07-11T12:06:27.225Z"
   },
   {
    "duration": 39,
    "start_time": "2022-07-11T12:07:02.586Z"
   },
   {
    "duration": 60,
    "start_time": "2022-07-11T12:07:02.627Z"
   },
   {
    "duration": 3,
    "start_time": "2022-07-11T12:07:02.688Z"
   },
   {
    "duration": 9,
    "start_time": "2022-07-11T12:07:02.692Z"
   },
   {
    "duration": 10,
    "start_time": "2022-07-11T12:07:02.703Z"
   },
   {
    "duration": 30,
    "start_time": "2022-07-11T12:07:02.714Z"
   },
   {
    "duration": 52,
    "start_time": "2022-07-11T12:07:02.746Z"
   },
   {
    "duration": 26981,
    "start_time": "2022-07-11T12:07:02.800Z"
   },
   {
    "duration": 10,
    "start_time": "2022-07-11T12:07:29.784Z"
   },
   {
    "duration": 44,
    "start_time": "2022-07-11T12:07:29.795Z"
   },
   {
    "duration": 57,
    "start_time": "2022-07-11T12:07:29.840Z"
   },
   {
    "duration": 31961,
    "start_time": "2022-07-11T12:07:29.898Z"
   },
   {
    "duration": 36,
    "start_time": "2022-07-11T12:08:01.861Z"
   },
   {
    "duration": 59,
    "start_time": "2022-07-11T12:08:01.899Z"
   },
   {
    "duration": 18,
    "start_time": "2022-07-11T12:08:01.964Z"
   },
   {
    "duration": 12,
    "start_time": "2022-07-11T12:08:01.984Z"
   },
   {
    "duration": 40,
    "start_time": "2022-07-11T12:08:01.998Z"
   },
   {
    "duration": 25218,
    "start_time": "2022-07-11T12:08:02.046Z"
   },
   {
    "duration": 25,
    "start_time": "2022-07-11T12:08:27.268Z"
   },
   {
    "duration": 27044,
    "start_time": "2022-07-11T12:08:27.295Z"
   },
   {
    "duration": 33,
    "start_time": "2022-07-11T12:08:54.340Z"
   },
   {
    "duration": 38,
    "start_time": "2022-07-11T12:08:54.375Z"
   },
   {
    "duration": 59,
    "start_time": "2022-07-11T12:08:54.415Z"
   },
   {
    "duration": 25522,
    "start_time": "2022-07-11T12:08:54.477Z"
   },
   {
    "duration": 23,
    "start_time": "2022-07-11T12:09:20.000Z"
   },
   {
    "duration": 38,
    "start_time": "2022-07-11T12:09:20.024Z"
   },
   {
    "duration": 19,
    "start_time": "2022-07-11T12:09:20.064Z"
   },
   {
    "duration": 22,
    "start_time": "2022-07-11T12:09:20.085Z"
   },
   {
    "duration": 11,
    "start_time": "2022-07-11T12:09:20.108Z"
   },
   {
    "duration": 52,
    "start_time": "2022-07-11T12:09:20.121Z"
   },
   {
    "duration": 45,
    "start_time": "2022-07-11T12:09:20.175Z"
   },
   {
    "duration": 29245,
    "start_time": "2022-07-11T12:09:20.221Z"
   },
   {
    "duration": 26,
    "start_time": "2022-07-11T12:09:49.467Z"
   },
   {
    "duration": 68,
    "start_time": "2022-07-11T12:09:49.495Z"
   },
   {
    "duration": 21,
    "start_time": "2022-07-11T12:09:49.565Z"
   },
   {
    "duration": 32,
    "start_time": "2022-07-11T12:09:49.588Z"
   },
   {
    "duration": 77,
    "start_time": "2022-07-11T12:09:49.622Z"
   },
   {
    "duration": 17,
    "start_time": "2022-07-11T12:09:49.700Z"
   },
   {
    "duration": 33,
    "start_time": "2022-07-11T12:09:49.719Z"
   },
   {
    "duration": 117,
    "start_time": "2022-07-11T12:09:49.757Z"
   },
   {
    "duration": 14,
    "start_time": "2022-07-11T12:09:49.875Z"
   },
   {
    "duration": 13,
    "start_time": "2022-07-11T12:09:49.891Z"
   },
   {
    "duration": 63,
    "start_time": "2022-07-11T12:09:49.905Z"
   },
   {
    "duration": 8,
    "start_time": "2022-07-11T12:09:49.970Z"
   },
   {
    "duration": 22,
    "start_time": "2022-07-11T12:09:49.980Z"
   },
   {
    "duration": 218,
    "start_time": "2022-07-11T12:09:50.003Z"
   },
   {
    "duration": 296,
    "start_time": "2022-07-11T12:09:50.223Z"
   },
   {
    "duration": 30,
    "start_time": "2022-07-11T12:09:50.520Z"
   },
   {
    "duration": 395,
    "start_time": "2022-07-11T12:09:50.551Z"
   },
   {
    "duration": 200,
    "start_time": "2022-07-11T12:09:50.950Z"
   },
   {
    "duration": 9,
    "start_time": "2022-07-11T12:09:51.156Z"
   },
   {
    "duration": 75,
    "start_time": "2022-07-11T12:09:51.166Z"
   },
   {
    "duration": 29,
    "start_time": "2022-07-11T12:09:51.246Z"
   },
   {
    "duration": 274,
    "start_time": "2022-07-11T12:09:51.279Z"
   },
   {
    "duration": 9,
    "start_time": "2022-07-11T12:09:51.554Z"
   },
   {
    "duration": 1766,
    "start_time": "2022-07-11T12:35:56.814Z"
   },
   {
    "duration": 3,
    "start_time": "2022-07-11T12:35:58.582Z"
   },
   {
    "duration": 878,
    "start_time": "2022-07-11T12:35:58.587Z"
   },
   {
    "duration": 36,
    "start_time": "2022-07-11T12:35:59.469Z"
   },
   {
    "duration": 206,
    "start_time": "2022-07-11T12:35:59.508Z"
   },
   {
    "duration": 115,
    "start_time": "2022-07-11T12:35:59.716Z"
   },
   {
    "duration": 29,
    "start_time": "2022-07-11T12:35:59.833Z"
   },
   {
    "duration": 899,
    "start_time": "2022-07-11T12:35:59.864Z"
   },
   {
    "duration": 110,
    "start_time": "2022-07-11T12:36:00.767Z"
   },
   {
    "duration": 1004,
    "start_time": "2022-07-11T12:36:00.881Z"
   },
   {
    "duration": 20,
    "start_time": "2022-07-11T12:36:01.887Z"
   },
   {
    "duration": 593,
    "start_time": "2022-07-11T12:36:01.909Z"
   },
   {
    "duration": 61,
    "start_time": "2022-07-11T12:36:02.504Z"
   },
   {
    "duration": 20,
    "start_time": "2022-07-11T12:36:02.566Z"
   },
   {
    "duration": 6,
    "start_time": "2022-07-11T12:36:02.588Z"
   },
   {
    "duration": 31417,
    "start_time": "2022-07-11T12:36:02.596Z"
   },
   {
    "duration": 32,
    "start_time": "2022-07-11T12:36:34.015Z"
   },
   {
    "duration": 2,
    "start_time": "2022-07-11T12:36:34.049Z"
   },
   {
    "duration": 64,
    "start_time": "2022-07-11T12:36:34.053Z"
   },
   {
    "duration": 63,
    "start_time": "2022-07-11T12:36:34.119Z"
   },
   {
    "duration": 8,
    "start_time": "2022-07-11T12:36:34.185Z"
   },
   {
    "duration": 36322,
    "start_time": "2022-07-11T12:36:34.196Z"
   },
   {
    "duration": 55,
    "start_time": "2022-07-11T12:37:10.519Z"
   },
   {
    "duration": 40,
    "start_time": "2022-07-11T12:37:10.576Z"
   },
   {
    "duration": 3,
    "start_time": "2022-07-11T12:37:10.617Z"
   },
   {
    "duration": 8,
    "start_time": "2022-07-11T12:37:10.622Z"
   },
   {
    "duration": 18,
    "start_time": "2022-07-11T12:37:10.632Z"
   },
   {
    "duration": 33,
    "start_time": "2022-07-11T12:37:10.656Z"
   },
   {
    "duration": 33,
    "start_time": "2022-07-11T12:37:10.691Z"
   },
   {
    "duration": 27785,
    "start_time": "2022-07-11T12:37:10.726Z"
   },
   {
    "duration": 11,
    "start_time": "2022-07-11T12:37:38.513Z"
   },
   {
    "duration": 55,
    "start_time": "2022-07-11T12:37:38.526Z"
   },
   {
    "duration": 44,
    "start_time": "2022-07-11T12:37:38.583Z"
   },
   {
    "duration": 32796,
    "start_time": "2022-07-11T12:37:38.629Z"
   },
   {
    "duration": 57,
    "start_time": "2022-07-11T12:38:11.427Z"
   },
   {
    "duration": 50,
    "start_time": "2022-07-11T12:38:11.486Z"
   },
   {
    "duration": 28,
    "start_time": "2022-07-11T12:38:11.538Z"
   },
   {
    "duration": 17,
    "start_time": "2022-07-11T12:38:11.567Z"
   },
   {
    "duration": 32,
    "start_time": "2022-07-11T12:38:11.585Z"
   },
   {
    "duration": 24290,
    "start_time": "2022-07-11T12:38:11.619Z"
   },
   {
    "duration": 35,
    "start_time": "2022-07-11T12:38:35.911Z"
   },
   {
    "duration": 28003,
    "start_time": "2022-07-11T12:38:35.948Z"
   },
   {
    "duration": 33,
    "start_time": "2022-07-11T12:39:03.959Z"
   },
   {
    "duration": 38,
    "start_time": "2022-07-11T12:39:03.994Z"
   },
   {
    "duration": 62,
    "start_time": "2022-07-11T12:39:04.034Z"
   },
   {
    "duration": 25661,
    "start_time": "2022-07-11T12:39:04.098Z"
   },
   {
    "duration": 24,
    "start_time": "2022-07-11T12:39:29.761Z"
   },
   {
    "duration": 18,
    "start_time": "2022-07-11T12:39:29.788Z"
   },
   {
    "duration": 11,
    "start_time": "2022-07-11T12:39:29.808Z"
   },
   {
    "duration": 44,
    "start_time": "2022-07-11T12:39:29.822Z"
   },
   {
    "duration": 13,
    "start_time": "2022-07-11T12:39:29.868Z"
   },
   {
    "duration": 39,
    "start_time": "2022-07-11T12:39:29.883Z"
   },
   {
    "duration": 68,
    "start_time": "2022-07-11T12:39:29.925Z"
   },
   {
    "duration": 29257,
    "start_time": "2022-07-11T12:39:29.995Z"
   },
   {
    "duration": 27,
    "start_time": "2022-07-11T12:39:59.255Z"
   },
   {
    "duration": 72,
    "start_time": "2022-07-11T12:39:59.284Z"
   },
   {
    "duration": 34,
    "start_time": "2022-07-11T12:39:59.357Z"
   },
   {
    "duration": 34,
    "start_time": "2022-07-11T12:39:59.394Z"
   },
   {
    "duration": 62,
    "start_time": "2022-07-11T12:39:59.430Z"
   },
   {
    "duration": 21,
    "start_time": "2022-07-11T12:39:59.494Z"
   },
   {
    "duration": 46,
    "start_time": "2022-07-11T12:39:59.517Z"
   },
   {
    "duration": 117,
    "start_time": "2022-07-11T12:39:59.565Z"
   },
   {
    "duration": 16,
    "start_time": "2022-07-11T12:39:59.684Z"
   },
   {
    "duration": 14,
    "start_time": "2022-07-11T12:39:59.702Z"
   },
   {
    "duration": 58,
    "start_time": "2022-07-11T12:39:59.718Z"
   },
   {
    "duration": 10,
    "start_time": "2022-07-11T12:39:59.778Z"
   },
   {
    "duration": 22,
    "start_time": "2022-07-11T12:39:59.790Z"
   },
   {
    "duration": 220,
    "start_time": "2022-07-11T12:39:59.814Z"
   },
   {
    "duration": 288,
    "start_time": "2022-07-11T12:40:00.036Z"
   },
   {
    "duration": 35,
    "start_time": "2022-07-11T12:40:00.325Z"
   },
   {
    "duration": 363,
    "start_time": "2022-07-11T12:40:00.362Z"
   },
   {
    "duration": 199,
    "start_time": "2022-07-11T12:40:00.727Z"
   },
   {
    "duration": 28,
    "start_time": "2022-07-11T12:40:00.928Z"
   },
   {
    "duration": 77,
    "start_time": "2022-07-11T12:40:00.962Z"
   },
   {
    "duration": 24,
    "start_time": "2022-07-11T12:40:01.041Z"
   },
   {
    "duration": 187,
    "start_time": "2022-07-11T12:40:01.067Z"
   },
   {
    "duration": 93,
    "start_time": "2022-07-11T12:40:01.258Z"
   },
   {
    "duration": 7740097,
    "start_time": "2022-07-11T12:40:01.357Z"
   },
   {
    "duration": 172,
    "start_time": "2022-07-11T14:49:01.456Z"
   },
   {
    "duration": 0,
    "start_time": "2022-07-11T14:49:01.630Z"
   },
   {
    "duration": 0,
    "start_time": "2022-07-11T14:49:01.633Z"
   },
   {
    "duration": 0,
    "start_time": "2022-07-11T14:49:01.634Z"
   },
   {
    "duration": 0,
    "start_time": "2022-07-11T14:49:01.646Z"
   },
   {
    "duration": 0,
    "start_time": "2022-07-11T14:49:01.648Z"
   },
   {
    "duration": 0,
    "start_time": "2022-07-11T14:49:01.649Z"
   },
   {
    "duration": 14,
    "start_time": "2022-07-11T15:00:03.134Z"
   },
   {
    "duration": 15,
    "start_time": "2022-07-11T15:00:11.885Z"
   },
   {
    "duration": 18,
    "start_time": "2022-07-11T15:00:24.138Z"
   },
   {
    "duration": 18,
    "start_time": "2022-07-11T15:00:45.294Z"
   },
   {
    "duration": 20,
    "start_time": "2022-07-11T15:01:25.470Z"
   },
   {
    "duration": 4851,
    "start_time": "2022-07-11T15:03:57.907Z"
   },
   {
    "duration": 106,
    "start_time": "2022-07-11T15:07:10.689Z"
   },
   {
    "duration": 28,
    "start_time": "2022-07-11T15:07:37.664Z"
   },
   {
    "duration": 992,
    "start_time": "2022-07-11T15:07:41.369Z"
   },
   {
    "duration": 4510,
    "start_time": "2022-07-11T15:07:47.453Z"
   },
   {
    "duration": 47000,
    "start_time": "2022-07-11T15:08:06.549Z"
   },
   {
    "duration": 5864,
    "start_time": "2022-07-11T15:09:21.487Z"
   },
   {
    "duration": 4692,
    "start_time": "2022-07-11T15:09:31.361Z"
   },
   {
    "duration": 224436,
    "start_time": "2022-07-11T15:09:45.612Z"
   },
   {
    "duration": 4,
    "start_time": "2022-07-11T15:15:19.142Z"
   },
   {
    "duration": 2,
    "start_time": "2022-07-11T15:15:44.759Z"
   },
   {
    "duration": 79,
    "start_time": "2022-07-11T15:15:51.701Z"
   },
   {
    "duration": 5,
    "start_time": "2022-07-11T15:16:17.427Z"
   },
   {
    "duration": 3,
    "start_time": "2022-07-11T15:16:28.348Z"
   },
   {
    "duration": 38788,
    "start_time": "2022-07-11T15:16:28.637Z"
   },
   {
    "duration": 36831,
    "start_time": "2022-07-11T15:18:47.329Z"
   },
   {
    "duration": 3,
    "start_time": "2022-07-11T15:29:32.632Z"
   },
   {
    "duration": 84006,
    "start_time": "2022-07-11T15:29:35.353Z"
   },
   {
    "duration": 3,
    "start_time": "2022-07-11T15:31:56.054Z"
   },
   {
    "duration": 1089100,
    "start_time": "2022-07-11T15:32:01.476Z"
   },
   {
    "duration": 60,
    "start_time": "2022-07-11T15:52:19.668Z"
   },
   {
    "duration": 56,
    "start_time": "2022-07-11T15:52:39.658Z"
   },
   {
    "duration": 5,
    "start_time": "2022-07-11T15:52:44.673Z"
   },
   {
    "duration": 84,
    "start_time": "2022-07-11T15:52:52.538Z"
   },
   {
    "duration": 4,
    "start_time": "2022-07-11T15:54:07.838Z"
   },
   {
    "duration": 3,
    "start_time": "2022-07-11T15:54:13.004Z"
   },
   {
    "duration": 401037,
    "start_time": "2022-07-11T15:54:25.874Z"
   },
   {
    "duration": 78,
    "start_time": "2022-07-11T16:01:06.912Z"
   },
   {
    "duration": 56,
    "start_time": "2022-07-11T16:01:07.051Z"
   },
   {
    "duration": 10,
    "start_time": "2022-07-11T16:01:07.109Z"
   },
   {
    "duration": 0,
    "start_time": "2022-07-11T16:01:07.120Z"
   },
   {
    "duration": 5,
    "start_time": "2022-07-11T16:03:03.376Z"
   },
   {
    "duration": 4,
    "start_time": "2022-07-11T16:05:23.682Z"
   },
   {
    "duration": 334,
    "start_time": "2022-07-11T16:05:26.978Z"
   },
   {
    "duration": 12,
    "start_time": "2022-07-11T16:05:31.819Z"
   },
   {
    "duration": 5,
    "start_time": "2022-07-11T16:05:42.125Z"
   },
   {
    "duration": 5,
    "start_time": "2022-07-11T16:06:50.052Z"
   },
   {
    "duration": 4,
    "start_time": "2022-07-11T16:06:54.645Z"
   },
   {
    "duration": 88,
    "start_time": "2022-07-11T16:06:56.696Z"
   },
   {
    "duration": 15,
    "start_time": "2022-07-11T16:07:06.284Z"
   },
   {
    "duration": 5,
    "start_time": "2022-07-11T16:07:16.958Z"
   },
   {
    "duration": 66542,
    "start_time": "2022-07-11T16:07:34.505Z"
   },
   {
    "duration": 5,
    "start_time": "2022-07-11T16:09:04.515Z"
   },
   {
    "duration": 13350,
    "start_time": "2022-07-11T16:09:05.215Z"
   },
   {
    "duration": 55382,
    "start_time": "2022-07-11T16:09:19.467Z"
   },
   {
    "duration": 3,
    "start_time": "2022-07-11T16:10:21.065Z"
   },
   {
    "duration": 134931,
    "start_time": "2022-07-11T16:10:24.097Z"
   },
   {
    "duration": 4,
    "start_time": "2022-07-11T16:24:46.674Z"
   },
   {
    "duration": 118383,
    "start_time": "2022-07-11T16:24:49.865Z"
   },
   {
    "duration": 3,
    "start_time": "2022-07-11T16:37:40.161Z"
   },
   {
    "duration": 5,
    "start_time": "2022-07-11T16:38:49.781Z"
   },
   {
    "duration": 329775,
    "start_time": "2022-07-11T16:38:57.081Z"
   },
   {
    "duration": 83,
    "start_time": "2022-07-11T17:05:03.671Z"
   },
   {
    "duration": 2,
    "start_time": "2022-07-11T17:05:07.447Z"
   },
   {
    "duration": 3,
    "start_time": "2022-07-11T17:05:41.446Z"
   },
   {
    "duration": 72,
    "start_time": "2022-07-11T17:05:41.980Z"
   },
   {
    "duration": 8,
    "start_time": "2022-07-11T17:05:55.339Z"
   },
   {
    "duration": 3,
    "start_time": "2022-07-11T17:06:06.677Z"
   },
   {
    "duration": 67,
    "start_time": "2022-07-11T17:06:08.203Z"
   },
   {
    "duration": 4,
    "start_time": "2022-07-11T17:07:28.564Z"
   },
   {
    "duration": 1884,
    "start_time": "2022-07-11T17:17:06.540Z"
   },
   {
    "duration": 3,
    "start_time": "2022-07-11T17:17:08.426Z"
   },
   {
    "duration": 1030,
    "start_time": "2022-07-11T17:17:08.431Z"
   },
   {
    "duration": 34,
    "start_time": "2022-07-11T17:17:09.463Z"
   },
   {
    "duration": 151,
    "start_time": "2022-07-11T17:17:09.500Z"
   },
   {
    "duration": 110,
    "start_time": "2022-07-11T17:17:09.653Z"
   },
   {
    "duration": 3,
    "start_time": "2022-07-11T17:17:09.765Z"
   },
   {
    "duration": 795,
    "start_time": "2022-07-11T17:17:09.769Z"
   },
   {
    "duration": 108,
    "start_time": "2022-07-11T17:17:10.566Z"
   },
   {
    "duration": 771,
    "start_time": "2022-07-11T17:17:10.676Z"
   },
   {
    "duration": 18,
    "start_time": "2022-07-11T17:17:11.448Z"
   },
   {
    "duration": 470,
    "start_time": "2022-07-11T17:17:11.468Z"
   },
   {
    "duration": 37,
    "start_time": "2022-07-11T17:17:11.940Z"
   },
   {
    "duration": 17,
    "start_time": "2022-07-11T17:17:11.980Z"
   },
   {
    "duration": 5,
    "start_time": "2022-07-11T17:17:11.998Z"
   },
   {
    "duration": 27958,
    "start_time": "2022-07-11T17:17:12.005Z"
   },
   {
    "duration": 27,
    "start_time": "2022-07-11T17:17:39.965Z"
   },
   {
    "duration": 2,
    "start_time": "2022-07-11T17:17:39.994Z"
   },
   {
    "duration": 37,
    "start_time": "2022-07-11T17:17:39.998Z"
   },
   {
    "duration": 52,
    "start_time": "2022-07-11T17:17:40.045Z"
   },
   {
    "duration": 7,
    "start_time": "2022-07-11T17:17:40.099Z"
   },
   {
    "duration": 31112,
    "start_time": "2022-07-11T17:17:40.108Z"
   },
   {
    "duration": 48,
    "start_time": "2022-07-11T17:18:11.222Z"
   },
   {
    "duration": 42,
    "start_time": "2022-07-11T17:18:11.273Z"
   },
   {
    "duration": 3,
    "start_time": "2022-07-11T17:18:11.317Z"
   },
   {
    "duration": 25,
    "start_time": "2022-07-11T17:18:11.321Z"
   },
   {
    "duration": 6,
    "start_time": "2022-07-11T17:18:11.348Z"
   },
   {
    "duration": 24,
    "start_time": "2022-07-11T17:18:11.356Z"
   },
   {
    "duration": 44,
    "start_time": "2022-07-11T17:18:11.382Z"
   },
   {
    "duration": 25181,
    "start_time": "2022-07-11T17:18:11.428Z"
   },
   {
    "duration": 10,
    "start_time": "2022-07-11T17:18:36.611Z"
   },
   {
    "duration": 66,
    "start_time": "2022-07-11T17:18:36.623Z"
   },
   {
    "duration": 43,
    "start_time": "2022-07-11T17:18:36.691Z"
   },
   {
    "duration": 29096,
    "start_time": "2022-07-11T17:18:36.746Z"
   },
   {
    "duration": 53,
    "start_time": "2022-07-11T17:19:05.845Z"
   },
   {
    "duration": 53,
    "start_time": "2022-07-11T17:19:05.900Z"
   },
   {
    "duration": 18,
    "start_time": "2022-07-11T17:19:05.954Z"
   },
   {
    "duration": 12,
    "start_time": "2022-07-11T17:19:05.974Z"
   },
   {
    "duration": 32,
    "start_time": "2022-07-11T17:19:05.988Z"
   },
   {
    "duration": 22206,
    "start_time": "2022-07-11T17:19:06.021Z"
   },
   {
    "duration": 31,
    "start_time": "2022-07-11T17:19:28.232Z"
   },
   {
    "duration": 24624,
    "start_time": "2022-07-11T17:19:28.265Z"
   },
   {
    "duration": 24,
    "start_time": "2022-07-11T17:19:52.891Z"
   },
   {
    "duration": 44,
    "start_time": "2022-07-11T17:19:52.917Z"
   },
   {
    "duration": 42,
    "start_time": "2022-07-11T17:19:52.962Z"
   },
   {
    "duration": 22910,
    "start_time": "2022-07-11T17:19:53.006Z"
   },
   {
    "duration": 27,
    "start_time": "2022-07-11T17:20:15.918Z"
   },
   {
    "duration": 14,
    "start_time": "2022-07-11T17:20:15.947Z"
   },
   {
    "duration": 8,
    "start_time": "2022-07-11T17:20:15.963Z"
   },
   {
    "duration": 18,
    "start_time": "2022-07-11T17:20:15.973Z"
   },
   {
    "duration": 9,
    "start_time": "2022-07-11T17:20:15.993Z"
   },
   {
    "duration": 61,
    "start_time": "2022-07-11T17:20:16.004Z"
   },
   {
    "duration": 43,
    "start_time": "2022-07-11T17:20:16.067Z"
   },
   {
    "duration": 26626,
    "start_time": "2022-07-11T17:20:16.113Z"
   },
   {
    "duration": 22,
    "start_time": "2022-07-11T17:20:42.745Z"
   },
   {
    "duration": 40,
    "start_time": "2022-07-11T17:20:42.769Z"
   },
   {
    "duration": 35,
    "start_time": "2022-07-11T17:20:42.811Z"
   },
   {
    "duration": 29,
    "start_time": "2022-07-11T17:20:42.848Z"
   },
   {
    "duration": 46,
    "start_time": "2022-07-11T17:20:42.879Z"
   },
   {
    "duration": 31,
    "start_time": "2022-07-11T17:20:42.927Z"
   },
   {
    "duration": 26,
    "start_time": "2022-07-11T17:20:42.960Z"
   },
   {
    "duration": 125,
    "start_time": "2022-07-11T17:20:42.987Z"
   },
   {
    "duration": 14,
    "start_time": "2022-07-11T17:20:43.114Z"
   },
   {
    "duration": 23,
    "start_time": "2022-07-11T17:20:43.130Z"
   },
   {
    "duration": 39,
    "start_time": "2022-07-11T17:20:43.155Z"
   },
   {
    "duration": 10,
    "start_time": "2022-07-11T17:20:43.195Z"
   },
   {
    "duration": 46,
    "start_time": "2022-07-11T17:20:43.206Z"
   },
   {
    "duration": 186,
    "start_time": "2022-07-11T17:20:43.253Z"
   },
   {
    "duration": 272,
    "start_time": "2022-07-11T17:20:43.440Z"
   },
   {
    "duration": 17,
    "start_time": "2022-07-11T17:20:43.713Z"
   },
   {
    "duration": 371,
    "start_time": "2022-07-11T17:20:43.732Z"
   },
   {
    "duration": 190,
    "start_time": "2022-07-11T17:20:44.105Z"
   },
   {
    "duration": 14,
    "start_time": "2022-07-11T17:20:44.296Z"
   },
   {
    "duration": 77,
    "start_time": "2022-07-11T17:20:44.311Z"
   },
   {
    "duration": 9,
    "start_time": "2022-07-11T17:20:44.389Z"
   },
   {
    "duration": 147,
    "start_time": "2022-07-11T17:20:44.400Z"
   },
   {
    "duration": 5,
    "start_time": "2022-07-11T17:20:44.549Z"
   },
   {
    "duration": 7,
    "start_time": "2022-07-11T17:20:44.646Z"
   },
   {
    "duration": 9,
    "start_time": "2022-07-11T17:20:44.654Z"
   },
   {
    "duration": 253802,
    "start_time": "2022-07-11T17:20:44.664Z"
   },
   {
    "duration": 3,
    "start_time": "2022-07-11T17:24:58.468Z"
   },
   {
    "duration": 10,
    "start_time": "2022-07-11T17:59:13.467Z"
   },
   {
    "duration": 1833,
    "start_time": "2022-07-11T17:59:19.334Z"
   },
   {
    "duration": 3,
    "start_time": "2022-07-11T17:59:21.169Z"
   },
   {
    "duration": 930,
    "start_time": "2022-07-11T17:59:21.174Z"
   },
   {
    "duration": 31,
    "start_time": "2022-07-11T17:59:22.106Z"
   },
   {
    "duration": 132,
    "start_time": "2022-07-11T17:59:22.140Z"
   },
   {
    "duration": 110,
    "start_time": "2022-07-11T17:59:22.274Z"
   },
   {
    "duration": 3,
    "start_time": "2022-07-11T17:59:22.386Z"
   },
   {
    "duration": 784,
    "start_time": "2022-07-11T17:59:22.391Z"
   },
   {
    "duration": 121,
    "start_time": "2022-07-11T17:59:23.177Z"
   },
   {
    "duration": 815,
    "start_time": "2022-07-11T17:59:23.300Z"
   },
   {
    "duration": 33,
    "start_time": "2022-07-11T17:59:24.116Z"
   },
   {
    "duration": 448,
    "start_time": "2022-07-11T17:59:24.151Z"
   },
   {
    "duration": 34,
    "start_time": "2022-07-11T17:59:24.600Z"
   },
   {
    "duration": 22,
    "start_time": "2022-07-11T17:59:24.649Z"
   },
   {
    "duration": 8,
    "start_time": "2022-07-11T17:59:24.674Z"
   },
   {
    "duration": 25646,
    "start_time": "2022-07-11T17:59:24.685Z"
   },
   {
    "duration": 23,
    "start_time": "2022-07-11T17:59:50.333Z"
   },
   {
    "duration": 2,
    "start_time": "2022-07-11T17:59:50.358Z"
   },
   {
    "duration": 36,
    "start_time": "2022-07-11T17:59:50.362Z"
   },
   {
    "duration": 58,
    "start_time": "2022-07-11T17:59:50.400Z"
   },
   {
    "duration": 7,
    "start_time": "2022-07-11T17:59:50.459Z"
   },
   {
    "duration": 30797,
    "start_time": "2022-07-11T17:59:50.468Z"
   },
   {
    "duration": 36,
    "start_time": "2022-07-11T18:00:21.267Z"
   },
   {
    "duration": 51,
    "start_time": "2022-07-11T18:00:21.305Z"
   },
   {
    "duration": 2,
    "start_time": "2022-07-11T18:00:21.357Z"
   },
   {
    "duration": 11,
    "start_time": "2022-07-11T18:00:21.361Z"
   },
   {
    "duration": 9,
    "start_time": "2022-07-11T18:00:21.373Z"
   },
   {
    "duration": 20,
    "start_time": "2022-07-11T18:00:21.383Z"
   },
   {
    "duration": 55,
    "start_time": "2022-07-11T18:00:21.405Z"
   },
   {
    "duration": 24444,
    "start_time": "2022-07-11T18:00:21.461Z"
   },
   {
    "duration": 43,
    "start_time": "2022-07-11T18:00:45.908Z"
   },
   {
    "duration": 35,
    "start_time": "2022-07-11T18:00:45.952Z"
   },
   {
    "duration": 78,
    "start_time": "2022-07-11T18:00:45.988Z"
   },
   {
    "duration": 28534,
    "start_time": "2022-07-11T18:00:46.068Z"
   },
   {
    "duration": 34,
    "start_time": "2022-07-11T18:01:14.603Z"
   },
   {
    "duration": 37,
    "start_time": "2022-07-11T18:01:14.645Z"
   },
   {
    "duration": 15,
    "start_time": "2022-07-11T18:01:14.684Z"
   },
   {
    "duration": 31,
    "start_time": "2022-07-11T18:01:14.701Z"
   },
   {
    "duration": 41,
    "start_time": "2022-07-11T18:01:14.734Z"
   },
   {
    "duration": 21652,
    "start_time": "2022-07-11T18:01:14.777Z"
   },
   {
    "duration": 33,
    "start_time": "2022-07-11T18:01:36.433Z"
   },
   {
    "duration": 24549,
    "start_time": "2022-07-11T18:01:36.468Z"
   },
   {
    "duration": 38,
    "start_time": "2022-07-11T18:02:01.019Z"
   },
   {
    "duration": 35,
    "start_time": "2022-07-11T18:02:01.059Z"
   },
   {
    "duration": 57,
    "start_time": "2022-07-11T18:02:01.096Z"
   },
   {
    "duration": 22718,
    "start_time": "2022-07-11T18:02:01.155Z"
   },
   {
    "duration": 26,
    "start_time": "2022-07-11T18:02:23.875Z"
   },
   {
    "duration": 30,
    "start_time": "2022-07-11T18:02:23.903Z"
   },
   {
    "duration": 20,
    "start_time": "2022-07-11T18:02:23.935Z"
   },
   {
    "duration": 55,
    "start_time": "2022-07-11T18:02:23.957Z"
   },
   {
    "duration": 18,
    "start_time": "2022-07-11T18:02:24.013Z"
   },
   {
    "duration": 49,
    "start_time": "2022-07-11T18:02:24.032Z"
   },
   {
    "duration": 46,
    "start_time": "2022-07-11T18:02:24.083Z"
   },
   {
    "duration": 26418,
    "start_time": "2022-07-11T18:02:24.131Z"
   },
   {
    "duration": 20,
    "start_time": "2022-07-11T18:02:50.550Z"
   },
   {
    "duration": 40,
    "start_time": "2022-07-11T18:02:50.572Z"
   },
   {
    "duration": 34,
    "start_time": "2022-07-11T18:02:50.613Z"
   },
   {
    "duration": 30,
    "start_time": "2022-07-11T18:02:50.649Z"
   },
   {
    "duration": 51,
    "start_time": "2022-07-11T18:02:50.680Z"
   },
   {
    "duration": 27,
    "start_time": "2022-07-11T18:02:50.733Z"
   },
   {
    "duration": 23,
    "start_time": "2022-07-11T18:02:50.762Z"
   },
   {
    "duration": 123,
    "start_time": "2022-07-11T18:02:50.787Z"
   },
   {
    "duration": 15,
    "start_time": "2022-07-11T18:02:50.913Z"
   },
   {
    "duration": 26,
    "start_time": "2022-07-11T18:02:50.929Z"
   },
   {
    "duration": 40,
    "start_time": "2022-07-11T18:02:50.957Z"
   },
   {
    "duration": 10,
    "start_time": "2022-07-11T18:02:50.999Z"
   },
   {
    "duration": 43,
    "start_time": "2022-07-11T18:02:51.011Z"
   },
   {
    "duration": 192,
    "start_time": "2022-07-11T18:02:51.056Z"
   },
   {
    "duration": 278,
    "start_time": "2022-07-11T18:02:51.250Z"
   },
   {
    "duration": 29,
    "start_time": "2022-07-11T18:02:51.530Z"
   },
   {
    "duration": 359,
    "start_time": "2022-07-11T18:02:51.561Z"
   },
   {
    "duration": 186,
    "start_time": "2022-07-11T18:02:51.922Z"
   },
   {
    "duration": 14,
    "start_time": "2022-07-11T18:02:52.110Z"
   },
   {
    "duration": 88,
    "start_time": "2022-07-11T18:02:52.125Z"
   },
   {
    "duration": 9,
    "start_time": "2022-07-11T18:02:52.215Z"
   },
   {
    "duration": 222,
    "start_time": "2022-07-11T18:02:52.225Z"
   },
   {
    "duration": 3,
    "start_time": "2022-07-11T18:02:52.449Z"
   },
   {
    "duration": 9,
    "start_time": "2022-07-11T18:02:52.454Z"
   },
   {
    "duration": 6,
    "start_time": "2022-07-11T18:02:52.464Z"
   },
   {
    "duration": 1676,
    "start_time": "2022-07-11T18:06:23.016Z"
   },
   {
    "duration": 2,
    "start_time": "2022-07-11T18:06:24.694Z"
   },
   {
    "duration": 634,
    "start_time": "2022-07-11T18:06:24.698Z"
   },
   {
    "duration": 28,
    "start_time": "2022-07-11T18:06:25.334Z"
   },
   {
    "duration": 148,
    "start_time": "2022-07-11T18:06:25.364Z"
   },
   {
    "duration": 94,
    "start_time": "2022-07-11T18:06:25.514Z"
   },
   {
    "duration": 3,
    "start_time": "2022-07-11T18:06:25.610Z"
   },
   {
    "duration": 787,
    "start_time": "2022-07-11T18:06:25.615Z"
   },
   {
    "duration": 101,
    "start_time": "2022-07-11T18:06:26.404Z"
   },
   {
    "duration": 755,
    "start_time": "2022-07-11T18:06:26.508Z"
   },
   {
    "duration": 17,
    "start_time": "2022-07-11T18:06:27.264Z"
   },
   {
    "duration": 462,
    "start_time": "2022-07-11T18:06:27.283Z"
   },
   {
    "duration": 34,
    "start_time": "2022-07-11T18:06:27.747Z"
   },
   {
    "duration": 16,
    "start_time": "2022-07-11T18:06:27.782Z"
   },
   {
    "duration": 5,
    "start_time": "2022-07-11T18:06:27.800Z"
   },
   {
    "duration": 26341,
    "start_time": "2022-07-11T18:06:27.806Z"
   },
   {
    "duration": 18,
    "start_time": "2022-07-11T18:06:54.148Z"
   },
   {
    "duration": 3,
    "start_time": "2022-07-11T18:06:54.167Z"
   },
   {
    "duration": 39,
    "start_time": "2022-07-11T18:06:54.171Z"
   },
   {
    "duration": 62,
    "start_time": "2022-07-11T18:06:54.211Z"
   },
   {
    "duration": 7,
    "start_time": "2022-07-11T18:06:54.275Z"
   },
   {
    "duration": 31221,
    "start_time": "2022-07-11T18:06:54.283Z"
   },
   {
    "duration": 55,
    "start_time": "2022-07-11T18:07:25.506Z"
   },
   {
    "duration": 38,
    "start_time": "2022-07-11T18:07:25.562Z"
   },
   {
    "duration": 3,
    "start_time": "2022-07-11T18:07:25.602Z"
   },
   {
    "duration": 13,
    "start_time": "2022-07-11T18:07:25.606Z"
   },
   {
    "duration": 14,
    "start_time": "2022-07-11T18:07:25.621Z"
   },
   {
    "duration": 23,
    "start_time": "2022-07-11T18:07:25.645Z"
   },
   {
    "duration": 41,
    "start_time": "2022-07-11T18:07:25.670Z"
   },
   {
    "duration": 24299,
    "start_time": "2022-07-11T18:07:25.713Z"
   },
   {
    "duration": 9,
    "start_time": "2022-07-11T18:07:50.014Z"
   },
   {
    "duration": 48,
    "start_time": "2022-07-11T18:07:50.025Z"
   },
   {
    "duration": 43,
    "start_time": "2022-07-11T18:07:50.074Z"
   },
   {
    "duration": 29170,
    "start_time": "2022-07-11T18:07:50.118Z"
   },
   {
    "duration": 34,
    "start_time": "2022-07-11T18:08:19.289Z"
   },
   {
    "duration": 48,
    "start_time": "2022-07-11T18:08:19.325Z"
   },
   {
    "duration": 19,
    "start_time": "2022-07-11T18:08:19.376Z"
   },
   {
    "duration": 16,
    "start_time": "2022-07-11T18:08:19.396Z"
   },
   {
    "duration": 58,
    "start_time": "2022-07-11T18:08:19.415Z"
   },
   {
    "duration": 21731,
    "start_time": "2022-07-11T18:08:19.475Z"
   },
   {
    "duration": 42,
    "start_time": "2022-07-11T18:08:41.208Z"
   },
   {
    "duration": 24738,
    "start_time": "2022-07-11T18:08:41.252Z"
   },
   {
    "duration": 27,
    "start_time": "2022-07-11T18:09:05.992Z"
   },
   {
    "duration": 50,
    "start_time": "2022-07-11T18:09:06.021Z"
   },
   {
    "duration": 42,
    "start_time": "2022-07-11T18:09:06.072Z"
   },
   {
    "duration": 24659,
    "start_time": "2022-07-11T18:09:06.116Z"
   },
   {
    "duration": 21,
    "start_time": "2022-07-11T18:09:30.776Z"
   },
   {
    "duration": 31,
    "start_time": "2022-07-11T18:09:30.798Z"
   },
   {
    "duration": 16,
    "start_time": "2022-07-11T18:09:30.831Z"
   },
   {
    "duration": 23,
    "start_time": "2022-07-11T18:09:30.848Z"
   },
   {
    "duration": 10,
    "start_time": "2022-07-11T18:09:30.873Z"
   },
   {
    "duration": 40,
    "start_time": "2022-07-11T18:09:30.884Z"
   },
   {
    "duration": 78,
    "start_time": "2022-07-11T18:09:30.926Z"
   },
   {
    "duration": 27136,
    "start_time": "2022-07-11T18:09:31.006Z"
   },
   {
    "duration": 21,
    "start_time": "2022-07-11T18:09:58.146Z"
   },
   {
    "duration": 56,
    "start_time": "2022-07-11T18:09:58.169Z"
   },
   {
    "duration": 44,
    "start_time": "2022-07-11T18:09:58.227Z"
   },
   {
    "duration": 41,
    "start_time": "2022-07-11T18:09:58.273Z"
   },
   {
    "duration": 56,
    "start_time": "2022-07-11T18:09:58.316Z"
   },
   {
    "duration": 20,
    "start_time": "2022-07-11T18:09:58.374Z"
   },
   {
    "duration": 21,
    "start_time": "2022-07-11T18:09:58.396Z"
   },
   {
    "duration": 179,
    "start_time": "2022-07-11T18:09:58.419Z"
   },
   {
    "duration": 15,
    "start_time": "2022-07-11T18:09:58.599Z"
   },
   {
    "duration": 30,
    "start_time": "2022-07-11T18:09:58.616Z"
   },
   {
    "duration": 38,
    "start_time": "2022-07-11T18:09:58.649Z"
   },
   {
    "duration": 15,
    "start_time": "2022-07-11T18:09:58.689Z"
   },
   {
    "duration": 40,
    "start_time": "2022-07-11T18:09:58.706Z"
   },
   {
    "duration": 240,
    "start_time": "2022-07-11T18:09:58.748Z"
   },
   {
    "duration": 321,
    "start_time": "2022-07-11T18:09:58.991Z"
   },
   {
    "duration": 23,
    "start_time": "2022-07-11T18:09:59.314Z"
   },
   {
    "duration": 398,
    "start_time": "2022-07-11T18:09:59.345Z"
   },
   {
    "duration": 180,
    "start_time": "2022-07-11T18:09:59.745Z"
   },
   {
    "duration": 8,
    "start_time": "2022-07-11T18:09:59.926Z"
   },
   {
    "duration": 77,
    "start_time": "2022-07-11T18:09:59.936Z"
   },
   {
    "duration": 12,
    "start_time": "2022-07-11T18:10:00.015Z"
   },
   {
    "duration": 205,
    "start_time": "2022-07-11T18:10:00.046Z"
   },
   {
    "duration": 91,
    "start_time": "2022-07-11T18:10:00.254Z"
   },
   {
    "duration": 13,
    "start_time": "2022-07-11T18:10:00.347Z"
   },
   {
    "duration": 13,
    "start_time": "2022-07-11T18:10:00.362Z"
   },
   {
    "duration": 3143718,
    "start_time": "2022-07-11T18:10:00.377Z"
   },
   {
    "duration": 3,
    "start_time": "2022-07-11T19:02:24.097Z"
   },
   {
    "duration": 1888,
    "start_time": "2022-07-11T19:31:46.093Z"
   },
   {
    "duration": 3,
    "start_time": "2022-07-11T19:31:47.983Z"
   },
   {
    "duration": 976,
    "start_time": "2022-07-11T19:31:47.988Z"
   },
   {
    "duration": 36,
    "start_time": "2022-07-11T19:31:48.967Z"
   },
   {
    "duration": 249,
    "start_time": "2022-07-11T19:31:49.005Z"
   },
   {
    "duration": 106,
    "start_time": "2022-07-11T19:31:49.256Z"
   },
   {
    "duration": 3,
    "start_time": "2022-07-11T19:31:49.364Z"
   },
   {
    "duration": 810,
    "start_time": "2022-07-11T19:31:49.369Z"
   },
   {
    "duration": 108,
    "start_time": "2022-07-11T19:31:50.180Z"
   },
   {
    "duration": 756,
    "start_time": "2022-07-11T19:31:50.290Z"
   },
   {
    "duration": 16,
    "start_time": "2022-07-11T19:31:51.048Z"
   },
   {
    "duration": 456,
    "start_time": "2022-07-11T19:31:51.066Z"
   },
   {
    "duration": 40,
    "start_time": "2022-07-11T19:31:51.524Z"
   },
   {
    "duration": 17,
    "start_time": "2022-07-11T19:31:51.567Z"
   },
   {
    "duration": 5,
    "start_time": "2022-07-11T19:31:51.586Z"
   },
   {
    "duration": 27427,
    "start_time": "2022-07-11T19:31:51.592Z"
   },
   {
    "duration": 30,
    "start_time": "2022-07-11T19:32:19.021Z"
   },
   {
    "duration": 44,
    "start_time": "2022-07-11T19:32:19.053Z"
   },
   {
    "duration": 61,
    "start_time": "2022-07-11T19:32:19.099Z"
   },
   {
    "duration": 61,
    "start_time": "2022-07-11T19:32:19.163Z"
   },
   {
    "duration": 15,
    "start_time": "2022-07-11T19:32:19.228Z"
   },
   {
    "duration": 31939,
    "start_time": "2022-07-11T19:32:19.245Z"
   },
   {
    "duration": 40,
    "start_time": "2022-07-11T19:32:51.186Z"
   },
   {
    "duration": 47,
    "start_time": "2022-07-11T19:32:51.228Z"
   },
   {
    "duration": 2,
    "start_time": "2022-07-11T19:32:51.277Z"
   },
   {
    "duration": 5,
    "start_time": "2022-07-11T19:32:51.281Z"
   },
   {
    "duration": 5,
    "start_time": "2022-07-11T19:32:51.287Z"
   },
   {
    "duration": 19,
    "start_time": "2022-07-11T19:32:51.294Z"
   },
   {
    "duration": 62,
    "start_time": "2022-07-11T19:32:51.314Z"
   },
   {
    "duration": 25709,
    "start_time": "2022-07-11T19:32:51.378Z"
   },
   {
    "duration": 14,
    "start_time": "2022-07-11T19:33:17.089Z"
   },
   {
    "duration": 46,
    "start_time": "2022-07-11T19:33:17.105Z"
   },
   {
    "duration": 42,
    "start_time": "2022-07-11T19:33:17.153Z"
   },
   {
    "duration": 29599,
    "start_time": "2022-07-11T19:33:17.196Z"
   },
   {
    "duration": 34,
    "start_time": "2022-07-11T19:33:46.797Z"
   },
   {
    "duration": 38,
    "start_time": "2022-07-11T19:33:46.845Z"
   },
   {
    "duration": 18,
    "start_time": "2022-07-11T19:33:46.885Z"
   },
   {
    "duration": 14,
    "start_time": "2022-07-11T19:33:46.905Z"
   },
   {
    "duration": 37,
    "start_time": "2022-07-11T19:33:46.947Z"
   },
   {
    "duration": 22746,
    "start_time": "2022-07-11T19:33:46.986Z"
   },
   {
    "duration": 31,
    "start_time": "2022-07-11T19:34:09.736Z"
   },
   {
    "duration": 25614,
    "start_time": "2022-07-11T19:34:09.769Z"
   },
   {
    "duration": 26,
    "start_time": "2022-07-11T19:34:35.385Z"
   },
   {
    "duration": 50,
    "start_time": "2022-07-11T19:34:35.413Z"
   },
   {
    "duration": 46,
    "start_time": "2022-07-11T19:34:35.465Z"
   },
   {
    "duration": 23888,
    "start_time": "2022-07-11T19:34:35.513Z"
   },
   {
    "duration": 24,
    "start_time": "2022-07-11T19:34:59.402Z"
   },
   {
    "duration": 31,
    "start_time": "2022-07-11T19:34:59.428Z"
   },
   {
    "duration": 10,
    "start_time": "2022-07-11T19:34:59.461Z"
   },
   {
    "duration": 20,
    "start_time": "2022-07-11T19:34:59.473Z"
   },
   {
    "duration": 11,
    "start_time": "2022-07-11T19:34:59.495Z"
   },
   {
    "duration": 79,
    "start_time": "2022-07-11T19:34:59.508Z"
   },
   {
    "duration": 47,
    "start_time": "2022-07-11T19:34:59.589Z"
   },
   {
    "duration": 27385,
    "start_time": "2022-07-11T19:34:59.638Z"
   },
   {
    "duration": 27,
    "start_time": "2022-07-11T19:35:27.025Z"
   },
   {
    "duration": 39,
    "start_time": "2022-07-11T19:35:27.054Z"
   },
   {
    "duration": 52,
    "start_time": "2022-07-11T19:35:27.095Z"
   },
   {
    "duration": 30,
    "start_time": "2022-07-11T19:35:27.148Z"
   },
   {
    "duration": 50,
    "start_time": "2022-07-11T19:35:27.180Z"
   },
   {
    "duration": 19,
    "start_time": "2022-07-11T19:35:27.245Z"
   },
   {
    "duration": 28,
    "start_time": "2022-07-11T19:35:27.266Z"
   },
   {
    "duration": 140,
    "start_time": "2022-07-11T19:35:27.296Z"
   },
   {
    "duration": 20,
    "start_time": "2022-07-11T19:35:27.439Z"
   },
   {
    "duration": 14,
    "start_time": "2022-07-11T19:35:27.461Z"
   },
   {
    "duration": 41,
    "start_time": "2022-07-11T19:35:27.476Z"
   },
   {
    "duration": 34,
    "start_time": "2022-07-11T19:35:27.519Z"
   },
   {
    "duration": 26,
    "start_time": "2022-07-11T19:35:27.555Z"
   },
   {
    "duration": 214,
    "start_time": "2022-07-11T19:35:27.583Z"
   },
   {
    "duration": 267,
    "start_time": "2022-07-11T19:35:27.799Z"
   },
   {
    "duration": 15,
    "start_time": "2022-07-11T19:35:28.068Z"
   },
   {
    "duration": 363,
    "start_time": "2022-07-11T19:35:28.085Z"
   },
   {
    "duration": 208,
    "start_time": "2022-07-11T19:35:28.450Z"
   },
   {
    "duration": 11,
    "start_time": "2022-07-11T19:35:28.661Z"
   },
   {
    "duration": 89,
    "start_time": "2022-07-11T19:35:28.674Z"
   },
   {
    "duration": 9,
    "start_time": "2022-07-11T19:35:28.765Z"
   },
   {
    "duration": 273,
    "start_time": "2022-07-11T19:35:28.776Z"
   },
   {
    "duration": 5,
    "start_time": "2022-07-11T19:35:29.054Z"
   },
   {
    "duration": 18,
    "start_time": "2022-07-11T19:35:29.063Z"
   },
   {
    "duration": 12,
    "start_time": "2022-07-11T19:35:29.147Z"
   },
   {
    "duration": 1637,
    "start_time": "2022-07-11T20:27:53.498Z"
   },
   {
    "duration": 3,
    "start_time": "2022-07-11T20:27:55.137Z"
   },
   {
    "duration": 721,
    "start_time": "2022-07-11T20:27:55.141Z"
   },
   {
    "duration": 28,
    "start_time": "2022-07-11T20:27:55.864Z"
   },
   {
    "duration": 140,
    "start_time": "2022-07-11T20:27:55.894Z"
   },
   {
    "duration": 97,
    "start_time": "2022-07-11T20:27:56.035Z"
   },
   {
    "duration": 12,
    "start_time": "2022-07-11T20:27:56.134Z"
   },
   {
    "duration": 792,
    "start_time": "2022-07-11T20:27:56.148Z"
   },
   {
    "duration": 103,
    "start_time": "2022-07-11T20:27:56.945Z"
   },
   {
    "duration": 795,
    "start_time": "2022-07-11T20:27:57.051Z"
   },
   {
    "duration": 17,
    "start_time": "2022-07-11T20:27:57.848Z"
   },
   {
    "duration": 465,
    "start_time": "2022-07-11T20:27:57.867Z"
   },
   {
    "duration": 41,
    "start_time": "2022-07-11T20:27:58.334Z"
   },
   {
    "duration": 17,
    "start_time": "2022-07-11T20:27:58.377Z"
   },
   {
    "duration": 5,
    "start_time": "2022-07-11T20:27:58.395Z"
   },
   {
    "duration": 27146,
    "start_time": "2022-07-11T20:27:58.402Z"
   },
   {
    "duration": 17,
    "start_time": "2022-07-11T20:28:25.549Z"
   },
   {
    "duration": 3,
    "start_time": "2022-07-11T20:28:25.567Z"
   },
   {
    "duration": 37,
    "start_time": "2022-07-11T20:28:25.571Z"
   },
   {
    "duration": 62,
    "start_time": "2022-07-11T20:28:25.610Z"
   },
   {
    "duration": 8,
    "start_time": "2022-07-11T20:28:25.673Z"
   },
   {
    "duration": 30713,
    "start_time": "2022-07-11T20:28:25.682Z"
   },
   {
    "duration": 39,
    "start_time": "2022-07-11T20:28:56.397Z"
   },
   {
    "duration": 38,
    "start_time": "2022-07-11T20:28:56.446Z"
   },
   {
    "duration": 2,
    "start_time": "2022-07-11T20:28:56.486Z"
   },
   {
    "duration": 6,
    "start_time": "2022-07-11T20:28:56.490Z"
   },
   {
    "duration": 5,
    "start_time": "2022-07-11T20:28:56.497Z"
   },
   {
    "duration": 40,
    "start_time": "2022-07-11T20:28:56.507Z"
   },
   {
    "duration": 37,
    "start_time": "2022-07-11T20:28:56.548Z"
   },
   {
    "duration": 1590,
    "start_time": "2022-07-11T20:29:01.259Z"
   },
   {
    "duration": 3,
    "start_time": "2022-07-11T20:29:02.851Z"
   },
   {
    "duration": 693,
    "start_time": "2022-07-11T20:29:02.855Z"
   },
   {
    "duration": 27,
    "start_time": "2022-07-11T20:29:03.550Z"
   },
   {
    "duration": 147,
    "start_time": "2022-07-11T20:29:03.579Z"
   },
   {
    "duration": 98,
    "start_time": "2022-07-11T20:29:03.728Z"
   },
   {
    "duration": 3,
    "start_time": "2022-07-11T20:29:03.828Z"
   },
   {
    "duration": 789,
    "start_time": "2022-07-11T20:29:03.845Z"
   },
   {
    "duration": 110,
    "start_time": "2022-07-11T20:29:04.636Z"
   },
   {
    "duration": 769,
    "start_time": "2022-07-11T20:29:04.749Z"
   },
   {
    "duration": 19,
    "start_time": "2022-07-11T20:29:05.520Z"
   },
   {
    "duration": 454,
    "start_time": "2022-07-11T20:29:05.546Z"
   },
   {
    "duration": 45,
    "start_time": "2022-07-11T20:29:06.002Z"
   },
   {
    "duration": 17,
    "start_time": "2022-07-11T20:29:06.049Z"
   },
   {
    "duration": 5,
    "start_time": "2022-07-11T20:29:06.068Z"
   },
   {
    "duration": 27481,
    "start_time": "2022-07-11T20:29:06.074Z"
   },
   {
    "duration": 18,
    "start_time": "2022-07-11T20:29:33.556Z"
   },
   {
    "duration": 3,
    "start_time": "2022-07-11T20:29:33.575Z"
   },
   {
    "duration": 35,
    "start_time": "2022-07-11T20:29:33.580Z"
   },
   {
    "duration": 67,
    "start_time": "2022-07-11T20:29:33.617Z"
   },
   {
    "duration": 7,
    "start_time": "2022-07-11T20:29:33.686Z"
   },
   {
    "duration": 31068,
    "start_time": "2022-07-11T20:29:33.696Z"
   },
   {
    "duration": 40,
    "start_time": "2022-07-11T20:30:04.765Z"
   },
   {
    "duration": 53,
    "start_time": "2022-07-11T20:30:04.806Z"
   },
   {
    "duration": 3,
    "start_time": "2022-07-11T20:30:04.860Z"
   },
   {
    "duration": 8,
    "start_time": "2022-07-11T20:30:04.864Z"
   },
   {
    "duration": 10,
    "start_time": "2022-07-11T20:30:04.873Z"
   },
   {
    "duration": 20,
    "start_time": "2022-07-11T20:30:04.887Z"
   },
   {
    "duration": 51,
    "start_time": "2022-07-11T20:30:04.909Z"
   },
   {
    "duration": 25143,
    "start_time": "2022-07-11T20:30:04.962Z"
   },
   {
    "duration": 8,
    "start_time": "2022-07-11T20:30:30.107Z"
   },
   {
    "duration": 45,
    "start_time": "2022-07-11T20:30:30.116Z"
   },
   {
    "duration": 43,
    "start_time": "2022-07-11T20:30:30.162Z"
   },
   {
    "duration": 28759,
    "start_time": "2022-07-11T20:30:30.206Z"
   },
   {
    "duration": 45,
    "start_time": "2022-07-11T20:30:58.967Z"
   },
   {
    "duration": 61,
    "start_time": "2022-07-11T20:30:59.015Z"
   },
   {
    "duration": 21,
    "start_time": "2022-07-11T20:30:59.079Z"
   },
   {
    "duration": 14,
    "start_time": "2022-07-11T20:30:59.102Z"
   },
   {
    "duration": 58,
    "start_time": "2022-07-11T20:30:59.118Z"
   },
   {
    "duration": 21678,
    "start_time": "2022-07-11T20:30:59.178Z"
   },
   {
    "duration": 24,
    "start_time": "2022-07-11T20:31:20.858Z"
   },
   {
    "duration": 25078,
    "start_time": "2022-07-11T20:31:20.883Z"
   },
   {
    "duration": 23,
    "start_time": "2022-07-11T20:31:45.963Z"
   },
   {
    "duration": 31,
    "start_time": "2022-07-11T20:31:45.988Z"
   },
   {
    "duration": 60,
    "start_time": "2022-07-11T20:31:46.021Z"
   },
   {
    "duration": 22801,
    "start_time": "2022-07-11T20:31:46.083Z"
   },
   {
    "duration": 28,
    "start_time": "2022-07-11T20:32:08.887Z"
   },
   {
    "duration": 36,
    "start_time": "2022-07-11T20:32:08.917Z"
   },
   {
    "duration": 24,
    "start_time": "2022-07-11T20:32:08.955Z"
   },
   {
    "duration": 25,
    "start_time": "2022-07-11T20:32:08.982Z"
   },
   {
    "duration": 15,
    "start_time": "2022-07-11T20:32:09.009Z"
   },
   {
    "duration": 56,
    "start_time": "2022-07-11T20:32:09.025Z"
   },
   {
    "duration": 65,
    "start_time": "2022-07-11T20:32:09.083Z"
   },
   {
    "duration": 26377,
    "start_time": "2022-07-11T20:32:09.150Z"
   },
   {
    "duration": 28,
    "start_time": "2022-07-11T20:32:35.529Z"
   },
   {
    "duration": 45,
    "start_time": "2022-07-11T20:32:35.559Z"
   },
   {
    "duration": 42,
    "start_time": "2022-07-11T20:32:35.606Z"
   },
   {
    "duration": 39,
    "start_time": "2022-07-11T20:32:35.651Z"
   },
   {
    "duration": 58,
    "start_time": "2022-07-11T20:32:35.692Z"
   },
   {
    "duration": 22,
    "start_time": "2022-07-11T20:32:35.752Z"
   },
   {
    "duration": 33,
    "start_time": "2022-07-11T20:32:35.776Z"
   },
   {
    "duration": 144,
    "start_time": "2022-07-11T20:32:35.811Z"
   },
   {
    "duration": 14,
    "start_time": "2022-07-11T20:32:35.957Z"
   },
   {
    "duration": 17,
    "start_time": "2022-07-11T20:32:35.973Z"
   },
   {
    "duration": 59,
    "start_time": "2022-07-11T20:32:35.992Z"
   },
   {
    "duration": 10,
    "start_time": "2022-07-11T20:32:36.053Z"
   },
   {
    "duration": 30,
    "start_time": "2022-07-11T20:32:36.065Z"
   },
   {
    "duration": 192,
    "start_time": "2022-07-11T20:32:36.097Z"
   },
   {
    "duration": 276,
    "start_time": "2022-07-11T20:32:36.291Z"
   },
   {
    "duration": 19,
    "start_time": "2022-07-11T20:32:36.569Z"
   },
   {
    "duration": 378,
    "start_time": "2022-07-11T20:32:36.590Z"
   },
   {
    "duration": 200,
    "start_time": "2022-07-11T20:32:36.970Z"
   },
   {
    "duration": 14,
    "start_time": "2022-07-11T20:32:37.172Z"
   },
   {
    "duration": 80,
    "start_time": "2022-07-11T20:32:37.188Z"
   },
   {
    "duration": 10,
    "start_time": "2022-07-11T20:32:37.270Z"
   },
   {
    "duration": 169,
    "start_time": "2022-07-11T20:32:37.282Z"
   },
   {
    "duration": 94,
    "start_time": "2022-07-11T20:32:37.453Z"
   },
   {
    "duration": 9,
    "start_time": "2022-07-11T20:32:37.549Z"
   },
   {
    "duration": 8,
    "start_time": "2022-07-11T20:32:37.560Z"
   },
   {
    "duration": 124608,
    "start_time": "2022-07-11T20:32:37.569Z"
   },
   {
    "duration": 3,
    "start_time": "2022-07-11T20:34:42.178Z"
   },
   {
    "duration": 1588,
    "start_time": "2022-07-11T20:35:52.306Z"
   },
   {
    "duration": 3,
    "start_time": "2022-07-11T20:35:53.896Z"
   },
   {
    "duration": 720,
    "start_time": "2022-07-11T20:35:53.900Z"
   },
   {
    "duration": 31,
    "start_time": "2022-07-11T20:35:54.622Z"
   },
   {
    "duration": 138,
    "start_time": "2022-07-11T20:35:54.655Z"
   },
   {
    "duration": 112,
    "start_time": "2022-07-11T20:35:54.794Z"
   },
   {
    "duration": 3,
    "start_time": "2022-07-11T20:35:54.908Z"
   },
   {
    "duration": 830,
    "start_time": "2022-07-11T20:35:54.913Z"
   },
   {
    "duration": 104,
    "start_time": "2022-07-11T20:35:55.746Z"
   },
   {
    "duration": 768,
    "start_time": "2022-07-11T20:35:55.852Z"
   },
   {
    "duration": 31,
    "start_time": "2022-07-11T20:35:56.622Z"
   },
   {
    "duration": 449,
    "start_time": "2022-07-11T20:35:56.655Z"
   },
   {
    "duration": 41,
    "start_time": "2022-07-11T20:35:57.105Z"
   },
   {
    "duration": 17,
    "start_time": "2022-07-11T20:35:57.149Z"
   },
   {
    "duration": 5,
    "start_time": "2022-07-11T20:35:57.167Z"
   },
   {
    "duration": 26251,
    "start_time": "2022-07-11T20:35:57.173Z"
   },
   {
    "duration": 27,
    "start_time": "2022-07-11T20:36:23.426Z"
   },
   {
    "duration": 2,
    "start_time": "2022-07-11T20:36:23.455Z"
   },
   {
    "duration": 39,
    "start_time": "2022-07-11T20:36:23.459Z"
   },
   {
    "duration": 64,
    "start_time": "2022-07-11T20:36:23.500Z"
   },
   {
    "duration": 6,
    "start_time": "2022-07-11T20:36:23.566Z"
   },
   {
    "duration": 31603,
    "start_time": "2022-07-11T20:36:23.573Z"
   },
   {
    "duration": 54,
    "start_time": "2022-07-11T20:36:55.178Z"
   },
   {
    "duration": 48,
    "start_time": "2022-07-11T20:36:55.234Z"
   },
   {
    "duration": 2,
    "start_time": "2022-07-11T20:36:55.284Z"
   },
   {
    "duration": 8,
    "start_time": "2022-07-11T20:36:55.288Z"
   },
   {
    "duration": 5,
    "start_time": "2022-07-11T20:36:55.297Z"
   },
   {
    "duration": 22,
    "start_time": "2022-07-11T20:36:55.303Z"
   },
   {
    "duration": 58,
    "start_time": "2022-07-11T20:36:55.327Z"
   },
   {
    "duration": 25975,
    "start_time": "2022-07-11T20:36:55.387Z"
   },
   {
    "duration": 10,
    "start_time": "2022-07-11T20:37:21.364Z"
   },
   {
    "duration": 33,
    "start_time": "2022-07-11T20:37:21.376Z"
   },
   {
    "duration": 59,
    "start_time": "2022-07-11T20:37:21.411Z"
   },
   {
    "duration": 29581,
    "start_time": "2022-07-11T20:37:21.472Z"
   },
   {
    "duration": 36,
    "start_time": "2022-07-11T20:37:51.055Z"
   },
   {
    "duration": 57,
    "start_time": "2022-07-11T20:37:51.093Z"
   },
   {
    "duration": 17,
    "start_time": "2022-07-11T20:37:51.151Z"
   },
   {
    "duration": 12,
    "start_time": "2022-07-11T20:37:51.170Z"
   },
   {
    "duration": 63,
    "start_time": "2022-07-11T20:37:51.184Z"
   },
   {
    "duration": 22860,
    "start_time": "2022-07-11T20:37:51.249Z"
   },
   {
    "duration": 33,
    "start_time": "2022-07-11T20:38:14.115Z"
   },
   {
    "duration": 25520,
    "start_time": "2022-07-11T20:38:14.150Z"
   },
   {
    "duration": 35,
    "start_time": "2022-07-11T20:38:39.673Z"
   },
   {
    "duration": 76,
    "start_time": "2022-07-11T20:38:39.710Z"
   },
   {
    "duration": 90,
    "start_time": "2022-07-11T20:38:39.788Z"
   },
   {
    "duration": 24100,
    "start_time": "2022-07-11T20:38:39.880Z"
   },
   {
    "duration": 39,
    "start_time": "2022-07-11T20:39:03.983Z"
   },
   {
    "duration": 31,
    "start_time": "2022-07-11T20:39:04.024Z"
   },
   {
    "duration": 11,
    "start_time": "2022-07-11T20:39:04.056Z"
   },
   {
    "duration": 27,
    "start_time": "2022-07-11T20:39:04.069Z"
   },
   {
    "duration": 16,
    "start_time": "2022-07-11T20:39:04.098Z"
   },
   {
    "duration": 73,
    "start_time": "2022-07-11T20:39:04.116Z"
   },
   {
    "duration": 55,
    "start_time": "2022-07-11T20:39:04.191Z"
   },
   {
    "duration": 27739,
    "start_time": "2022-07-11T20:39:04.248Z"
   },
   {
    "duration": 21,
    "start_time": "2022-07-11T20:39:31.989Z"
   },
   {
    "duration": 44,
    "start_time": "2022-07-11T20:39:32.011Z"
   },
   {
    "duration": 28,
    "start_time": "2022-07-11T20:39:32.057Z"
   },
   {
    "duration": 33,
    "start_time": "2022-07-11T20:39:32.087Z"
   },
   {
    "duration": 66,
    "start_time": "2022-07-11T20:39:32.122Z"
   },
   {
    "duration": 18,
    "start_time": "2022-07-11T20:39:32.190Z"
   },
   {
    "duration": 41,
    "start_time": "2022-07-11T20:39:32.210Z"
   },
   {
    "duration": 121,
    "start_time": "2022-07-11T20:39:32.252Z"
   },
   {
    "duration": 14,
    "start_time": "2022-07-11T20:39:32.376Z"
   },
   {
    "duration": 13,
    "start_time": "2022-07-11T20:39:32.392Z"
   },
   {
    "duration": 61,
    "start_time": "2022-07-11T20:39:32.406Z"
   },
   {
    "duration": 11,
    "start_time": "2022-07-11T20:39:32.469Z"
   },
   {
    "duration": 21,
    "start_time": "2022-07-11T20:39:32.482Z"
   },
   {
    "duration": 196,
    "start_time": "2022-07-11T20:39:32.505Z"
   },
   {
    "duration": 283,
    "start_time": "2022-07-11T20:39:32.702Z"
   },
   {
    "duration": 15,
    "start_time": "2022-07-11T20:39:32.987Z"
   },
   {
    "duration": 367,
    "start_time": "2022-07-11T20:39:33.004Z"
   },
   {
    "duration": 191,
    "start_time": "2022-07-11T20:39:33.373Z"
   },
   {
    "duration": 14,
    "start_time": "2022-07-11T20:39:33.566Z"
   },
   {
    "duration": 76,
    "start_time": "2022-07-11T20:39:33.582Z"
   },
   {
    "duration": 9,
    "start_time": "2022-07-11T20:39:33.660Z"
   },
   {
    "duration": 179,
    "start_time": "2022-07-11T20:39:33.671Z"
   },
   {
    "duration": 5,
    "start_time": "2022-07-11T20:39:33.852Z"
   },
   {
    "duration": 115,
    "start_time": "2022-07-11T20:39:33.859Z"
   },
   {
    "duration": 71,
    "start_time": "2022-07-11T20:39:33.977Z"
   },
   {
    "duration": 613120,
    "start_time": "2022-07-11T20:39:34.049Z"
   },
   {
    "duration": 75,
    "start_time": "2022-07-11T20:49:47.171Z"
   },
   {
    "duration": 9,
    "start_time": "2022-07-11T21:11:59.348Z"
   },
   {
    "duration": 2184,
    "start_time": "2022-07-11T21:12:05.514Z"
   },
   {
    "duration": 4,
    "start_time": "2022-07-11T21:12:07.700Z"
   },
   {
    "duration": 1361,
    "start_time": "2022-07-11T21:12:07.706Z"
   },
   {
    "duration": 48,
    "start_time": "2022-07-11T21:12:09.071Z"
   },
   {
    "duration": 196,
    "start_time": "2022-07-11T21:12:09.121Z"
   },
   {
    "duration": 131,
    "start_time": "2022-07-11T21:12:09.319Z"
   },
   {
    "duration": 4,
    "start_time": "2022-07-11T21:12:09.452Z"
   },
   {
    "duration": 866,
    "start_time": "2022-07-11T21:12:09.457Z"
   },
   {
    "duration": 141,
    "start_time": "2022-07-11T21:12:10.325Z"
   },
   {
    "duration": 819,
    "start_time": "2022-07-11T21:12:10.469Z"
   },
   {
    "duration": 23,
    "start_time": "2022-07-11T21:12:11.291Z"
   },
   {
    "duration": 547,
    "start_time": "2022-07-11T21:12:11.317Z"
   },
   {
    "duration": 47,
    "start_time": "2022-07-11T21:12:11.867Z"
   },
   {
    "duration": 39,
    "start_time": "2022-07-11T21:12:11.917Z"
   },
   {
    "duration": 7,
    "start_time": "2022-07-11T21:12:11.959Z"
   },
   {
    "duration": 29004,
    "start_time": "2022-07-11T21:12:11.968Z"
   },
   {
    "duration": 22,
    "start_time": "2022-07-11T21:12:40.974Z"
   },
   {
    "duration": 3,
    "start_time": "2022-07-11T21:12:40.998Z"
   },
   {
    "duration": 60,
    "start_time": "2022-07-11T21:12:41.004Z"
   },
   {
    "duration": 53,
    "start_time": "2022-07-11T21:12:41.067Z"
   },
   {
    "duration": 28,
    "start_time": "2022-07-11T21:12:41.122Z"
   },
   {
    "duration": 33323,
    "start_time": "2022-07-11T21:12:41.151Z"
   },
   {
    "duration": 40,
    "start_time": "2022-07-11T21:13:14.476Z"
   },
   {
    "duration": 59,
    "start_time": "2022-07-11T21:13:14.518Z"
   },
   {
    "duration": 3,
    "start_time": "2022-07-11T21:13:14.579Z"
   },
   {
    "duration": 8,
    "start_time": "2022-07-11T21:13:14.584Z"
   },
   {
    "duration": 6,
    "start_time": "2022-07-11T21:13:14.595Z"
   },
   {
    "duration": 40,
    "start_time": "2022-07-11T21:13:14.608Z"
   },
   {
    "duration": 51,
    "start_time": "2022-07-11T21:13:14.649Z"
   },
   {
    "duration": 26378,
    "start_time": "2022-07-11T21:13:14.703Z"
   },
   {
    "duration": 10,
    "start_time": "2022-07-11T21:13:41.083Z"
   },
   {
    "duration": 54,
    "start_time": "2022-07-11T21:13:41.095Z"
   },
   {
    "duration": 42,
    "start_time": "2022-07-11T21:13:41.151Z"
   },
   {
    "duration": 29714,
    "start_time": "2022-07-11T21:13:41.194Z"
   },
   {
    "duration": 68,
    "start_time": "2022-07-11T21:14:10.911Z"
   },
   {
    "duration": 46,
    "start_time": "2022-07-11T21:14:10.981Z"
   },
   {
    "duration": 37,
    "start_time": "2022-07-11T21:14:11.030Z"
   },
   {
    "duration": 16,
    "start_time": "2022-07-11T21:14:11.069Z"
   },
   {
    "duration": 59,
    "start_time": "2022-07-11T21:14:11.087Z"
   },
   {
    "duration": 22713,
    "start_time": "2022-07-11T21:14:11.148Z"
   },
   {
    "duration": 30,
    "start_time": "2022-07-11T21:14:33.863Z"
   },
   {
    "duration": 25459,
    "start_time": "2022-07-11T21:14:33.895Z"
   },
   {
    "duration": 27,
    "start_time": "2022-07-11T21:14:59.355Z"
   },
   {
    "duration": 37,
    "start_time": "2022-07-11T21:14:59.384Z"
   },
   {
    "duration": 41,
    "start_time": "2022-07-11T21:14:59.445Z"
   },
   {
    "duration": 24048,
    "start_time": "2022-07-11T21:14:59.488Z"
   },
   {
    "duration": 25,
    "start_time": "2022-07-11T21:15:23.537Z"
   },
   {
    "duration": 21,
    "start_time": "2022-07-11T21:15:23.564Z"
   },
   {
    "duration": 11,
    "start_time": "2022-07-11T21:15:23.587Z"
   },
   {
    "duration": 52,
    "start_time": "2022-07-11T21:15:23.600Z"
   },
   {
    "duration": 11,
    "start_time": "2022-07-11T21:15:23.655Z"
   },
   {
    "duration": 45,
    "start_time": "2022-07-11T21:15:23.669Z"
   },
   {
    "duration": 70,
    "start_time": "2022-07-11T21:15:23.716Z"
   },
   {
    "duration": 27541,
    "start_time": "2022-07-11T21:15:23.788Z"
   },
   {
    "duration": 31,
    "start_time": "2022-07-11T21:15:51.331Z"
   },
   {
    "duration": 35,
    "start_time": "2022-07-11T21:15:51.364Z"
   },
   {
    "duration": 23,
    "start_time": "2022-07-11T21:15:51.401Z"
   },
   {
    "duration": 53,
    "start_time": "2022-07-11T21:15:51.426Z"
   },
   {
    "duration": 67,
    "start_time": "2022-07-11T21:15:51.481Z"
   },
   {
    "duration": 17,
    "start_time": "2022-07-11T21:15:51.550Z"
   },
   {
    "duration": 26,
    "start_time": "2022-07-11T21:15:51.569Z"
   },
   {
    "duration": 141,
    "start_time": "2022-07-11T21:15:51.598Z"
   },
   {
    "duration": 17,
    "start_time": "2022-07-11T21:15:51.741Z"
   },
   {
    "duration": 13,
    "start_time": "2022-07-11T21:15:51.760Z"
   },
   {
    "duration": 39,
    "start_time": "2022-07-11T21:15:51.775Z"
   },
   {
    "duration": 35,
    "start_time": "2022-07-11T21:15:51.816Z"
   },
   {
    "duration": 27,
    "start_time": "2022-07-11T21:15:51.853Z"
   },
   {
    "duration": 255,
    "start_time": "2022-07-11T21:15:51.882Z"
   },
   {
    "duration": 275,
    "start_time": "2022-07-11T21:15:52.139Z"
   },
   {
    "duration": 30,
    "start_time": "2022-07-11T21:15:52.416Z"
   },
   {
    "duration": 393,
    "start_time": "2022-07-11T21:15:52.448Z"
   },
   {
    "duration": 208,
    "start_time": "2022-07-11T21:15:52.845Z"
   },
   {
    "duration": 15,
    "start_time": "2022-07-11T21:15:53.055Z"
   },
   {
    "duration": 92,
    "start_time": "2022-07-11T21:15:53.072Z"
   },
   {
    "duration": 11,
    "start_time": "2022-07-11T21:15:53.166Z"
   },
   {
    "duration": 271,
    "start_time": "2022-07-11T21:15:53.179Z"
   },
   {
    "duration": 3,
    "start_time": "2022-07-11T21:15:53.454Z"
   },
   {
    "duration": 87,
    "start_time": "2022-07-11T21:15:53.459Z"
   },
   {
    "duration": 29,
    "start_time": "2022-07-11T21:15:53.549Z"
   },
   {
    "duration": 1632,
    "start_time": "2022-07-11T22:18:40.505Z"
   },
   {
    "duration": 3,
    "start_time": "2022-07-11T22:18:42.139Z"
   },
   {
    "duration": 734,
    "start_time": "2022-07-11T22:18:42.145Z"
   },
   {
    "duration": 28,
    "start_time": "2022-07-11T22:18:42.881Z"
   },
   {
    "duration": 144,
    "start_time": "2022-07-11T22:18:42.911Z"
   },
   {
    "duration": 103,
    "start_time": "2022-07-11T22:18:43.057Z"
   },
   {
    "duration": 3,
    "start_time": "2022-07-11T22:18:43.161Z"
   },
   {
    "duration": 815,
    "start_time": "2022-07-11T22:18:43.166Z"
   },
   {
    "duration": 116,
    "start_time": "2022-07-11T22:18:43.983Z"
   },
   {
    "duration": 789,
    "start_time": "2022-07-11T22:18:44.101Z"
   },
   {
    "duration": 16,
    "start_time": "2022-07-11T22:18:44.892Z"
   },
   {
    "duration": 458,
    "start_time": "2022-07-11T22:18:44.910Z"
   },
   {
    "duration": 38,
    "start_time": "2022-07-11T22:18:45.370Z"
   },
   {
    "duration": 18,
    "start_time": "2022-07-11T22:18:45.411Z"
   },
   {
    "duration": 6,
    "start_time": "2022-07-11T22:18:45.446Z"
   },
   {
    "duration": 26650,
    "start_time": "2022-07-11T22:18:45.453Z"
   },
   {
    "duration": 19,
    "start_time": "2022-07-11T22:19:12.106Z"
   },
   {
    "duration": 3,
    "start_time": "2022-07-11T22:19:12.126Z"
   },
   {
    "duration": 39,
    "start_time": "2022-07-11T22:19:12.146Z"
   },
   {
    "duration": 43,
    "start_time": "2022-07-11T22:19:12.187Z"
   },
   {
    "duration": 7,
    "start_time": "2022-07-11T22:19:12.245Z"
   },
   {
    "duration": 30827,
    "start_time": "2022-07-11T22:19:12.254Z"
   },
   {
    "duration": 39,
    "start_time": "2022-07-11T22:19:43.082Z"
   },
   {
    "duration": 49,
    "start_time": "2022-07-11T22:19:43.123Z"
   },
   {
    "duration": 3,
    "start_time": "2022-07-11T22:19:43.174Z"
   },
   {
    "duration": 6,
    "start_time": "2022-07-11T22:19:43.178Z"
   },
   {
    "duration": 6,
    "start_time": "2022-07-11T22:19:43.185Z"
   },
   {
    "duration": 19,
    "start_time": "2022-07-11T22:19:43.192Z"
   },
   {
    "duration": 59,
    "start_time": "2022-07-11T22:19:43.213Z"
   },
   {
    "duration": 24890,
    "start_time": "2022-07-11T22:19:43.273Z"
   },
   {
    "duration": 10,
    "start_time": "2022-07-11T22:20:08.164Z"
   },
   {
    "duration": 30,
    "start_time": "2022-07-11T22:20:08.175Z"
   },
   {
    "duration": 60,
    "start_time": "2022-07-11T22:20:08.207Z"
   },
   {
    "duration": 28238,
    "start_time": "2022-07-11T22:20:08.268Z"
   },
   {
    "duration": 44,
    "start_time": "2022-07-11T22:20:36.508Z"
   },
   {
    "duration": 35,
    "start_time": "2022-07-11T22:20:36.553Z"
   },
   {
    "duration": 17,
    "start_time": "2022-07-11T22:20:36.590Z"
   },
   {
    "duration": 13,
    "start_time": "2022-07-11T22:20:36.609Z"
   },
   {
    "duration": 34,
    "start_time": "2022-07-11T22:20:36.646Z"
   },
   {
    "duration": 21718,
    "start_time": "2022-07-11T22:20:36.682Z"
   },
   {
    "duration": 24,
    "start_time": "2022-07-11T22:20:58.404Z"
   },
   {
    "duration": 24486,
    "start_time": "2022-07-11T22:20:58.430Z"
   },
   {
    "duration": 38,
    "start_time": "2022-07-11T22:21:22.918Z"
   },
   {
    "duration": 38,
    "start_time": "2022-07-11T22:21:22.958Z"
   },
   {
    "duration": 80,
    "start_time": "2022-07-11T22:21:22.999Z"
   },
   {
    "duration": 22991,
    "start_time": "2022-07-11T22:21:23.082Z"
   },
   {
    "duration": 19,
    "start_time": "2022-07-11T22:21:46.075Z"
   },
   {
    "duration": 22,
    "start_time": "2022-07-11T22:21:46.095Z"
   },
   {
    "duration": 9,
    "start_time": "2022-07-11T22:21:46.119Z"
   },
   {
    "duration": 34,
    "start_time": "2022-07-11T22:21:46.130Z"
   },
   {
    "duration": 10,
    "start_time": "2022-07-11T22:21:46.166Z"
   },
   {
    "duration": 41,
    "start_time": "2022-07-11T22:21:46.178Z"
   },
   {
    "duration": 56,
    "start_time": "2022-07-11T22:21:46.221Z"
   },
   {
    "duration": 26833,
    "start_time": "2022-07-11T22:21:46.278Z"
   },
   {
    "duration": 21,
    "start_time": "2022-07-11T22:22:13.112Z"
   },
   {
    "duration": 51,
    "start_time": "2022-07-11T22:22:13.135Z"
   },
   {
    "duration": 24,
    "start_time": "2022-07-11T22:22:13.188Z"
   },
   {
    "duration": 51,
    "start_time": "2022-07-11T22:22:13.213Z"
   },
   {
    "duration": 48,
    "start_time": "2022-07-11T22:22:13.266Z"
   },
   {
    "duration": 17,
    "start_time": "2022-07-11T22:22:13.316Z"
   },
   {
    "duration": 39,
    "start_time": "2022-07-11T22:22:13.334Z"
   },
   {
    "duration": 136,
    "start_time": "2022-07-11T22:22:13.375Z"
   },
   {
    "duration": 16,
    "start_time": "2022-07-11T22:22:13.512Z"
   },
   {
    "duration": 27,
    "start_time": "2022-07-11T22:22:13.531Z"
   },
   {
    "duration": 49,
    "start_time": "2022-07-11T22:22:13.563Z"
   },
   {
    "duration": 10,
    "start_time": "2022-07-11T22:22:13.614Z"
   },
   {
    "duration": 39,
    "start_time": "2022-07-11T22:22:13.625Z"
   },
   {
    "duration": 206,
    "start_time": "2022-07-11T22:22:13.666Z"
   },
   {
    "duration": 304,
    "start_time": "2022-07-11T22:22:13.875Z"
   },
   {
    "duration": 16,
    "start_time": "2022-07-11T22:22:14.180Z"
   },
   {
    "duration": 401,
    "start_time": "2022-07-11T22:22:14.198Z"
   },
   {
    "duration": 192,
    "start_time": "2022-07-11T22:22:14.601Z"
   },
   {
    "duration": 14,
    "start_time": "2022-07-11T22:22:14.795Z"
   },
   {
    "duration": 80,
    "start_time": "2022-07-11T22:22:14.811Z"
   },
   {
    "duration": 9,
    "start_time": "2022-07-11T22:22:14.893Z"
   },
   {
    "duration": 243,
    "start_time": "2022-07-11T22:22:14.904Z"
   },
   {
    "duration": 9,
    "start_time": "2022-07-11T22:22:15.153Z"
   },
   {
    "duration": 460482,
    "start_time": "2022-07-11T22:22:15.163Z"
   },
   {
    "duration": 4,
    "start_time": "2022-07-11T22:29:55.647Z"
   },
   {
    "duration": 8,
    "start_time": "2022-07-11T22:29:55.653Z"
   },
   {
    "duration": 1665,
    "start_time": "2022-07-11T23:24:17.137Z"
   },
   {
    "duration": 4,
    "start_time": "2022-07-11T23:24:18.805Z"
   },
   {
    "duration": 811,
    "start_time": "2022-07-11T23:24:18.811Z"
   },
   {
    "duration": 36,
    "start_time": "2022-07-11T23:24:19.625Z"
   },
   {
    "duration": 136,
    "start_time": "2022-07-11T23:24:19.663Z"
   },
   {
    "duration": 114,
    "start_time": "2022-07-11T23:24:19.801Z"
   },
   {
    "duration": 4,
    "start_time": "2022-07-11T23:24:19.917Z"
   },
   {
    "duration": 812,
    "start_time": "2022-07-11T23:24:19.923Z"
   },
   {
    "duration": 110,
    "start_time": "2022-07-11T23:24:20.737Z"
   },
   {
    "duration": 781,
    "start_time": "2022-07-11T23:24:20.850Z"
   },
   {
    "duration": 28,
    "start_time": "2022-07-11T23:24:21.633Z"
   },
   {
    "duration": 501,
    "start_time": "2022-07-11T23:24:21.663Z"
   },
   {
    "duration": 51,
    "start_time": "2022-07-11T23:24:22.166Z"
   },
   {
    "duration": 35,
    "start_time": "2022-07-11T23:24:22.219Z"
   },
   {
    "duration": 6,
    "start_time": "2022-07-11T23:24:22.256Z"
   },
   {
    "duration": 26749,
    "start_time": "2022-07-11T23:24:22.265Z"
   },
   {
    "duration": 31,
    "start_time": "2022-07-11T23:24:49.016Z"
   },
   {
    "duration": 2,
    "start_time": "2022-07-11T23:24:49.049Z"
   },
   {
    "duration": 38,
    "start_time": "2022-07-11T23:24:49.053Z"
   },
   {
    "duration": 67,
    "start_time": "2022-07-11T23:24:49.092Z"
   },
   {
    "duration": 7,
    "start_time": "2022-07-11T23:24:49.160Z"
   },
   {
    "duration": 31185,
    "start_time": "2022-07-11T23:24:49.169Z"
   },
   {
    "duration": 40,
    "start_time": "2022-07-11T23:25:20.357Z"
   },
   {
    "duration": 61,
    "start_time": "2022-07-11T23:25:20.399Z"
   },
   {
    "duration": 2,
    "start_time": "2022-07-11T23:25:20.463Z"
   },
   {
    "duration": 7,
    "start_time": "2022-07-11T23:25:20.466Z"
   },
   {
    "duration": 7,
    "start_time": "2022-07-11T23:25:20.475Z"
   },
   {
    "duration": 24,
    "start_time": "2022-07-11T23:25:20.488Z"
   },
   {
    "duration": 75,
    "start_time": "2022-07-11T23:25:20.514Z"
   },
   {
    "duration": 24943,
    "start_time": "2022-07-11T23:25:20.591Z"
   },
   {
    "duration": 18,
    "start_time": "2022-07-11T23:25:45.536Z"
   },
   {
    "duration": 34,
    "start_time": "2022-07-11T23:25:45.556Z"
   },
   {
    "duration": 62,
    "start_time": "2022-07-11T23:25:45.592Z"
   },
   {
    "duration": 28881,
    "start_time": "2022-07-11T23:25:45.657Z"
   },
   {
    "duration": 50,
    "start_time": "2022-07-11T23:26:14.540Z"
   },
   {
    "duration": 54,
    "start_time": "2022-07-11T23:26:14.592Z"
   },
   {
    "duration": 20,
    "start_time": "2022-07-11T23:26:14.647Z"
   },
   {
    "duration": 15,
    "start_time": "2022-07-11T23:26:14.669Z"
   },
   {
    "duration": 31,
    "start_time": "2022-07-11T23:26:14.686Z"
   },
   {
    "duration": 22045,
    "start_time": "2022-07-11T23:26:14.745Z"
   },
   {
    "duration": 28,
    "start_time": "2022-07-11T23:26:36.792Z"
   },
   {
    "duration": 25072,
    "start_time": "2022-07-11T23:26:36.823Z"
   },
   {
    "duration": 25,
    "start_time": "2022-07-11T23:27:01.896Z"
   },
   {
    "duration": 47,
    "start_time": "2022-07-11T23:27:01.923Z"
   },
   {
    "duration": 45,
    "start_time": "2022-07-11T23:27:01.972Z"
   },
   {
    "duration": 22880,
    "start_time": "2022-07-11T23:27:02.019Z"
   },
   {
    "duration": 22,
    "start_time": "2022-07-11T23:27:24.901Z"
   },
   {
    "duration": 33,
    "start_time": "2022-07-11T23:27:24.924Z"
   },
   {
    "duration": 10,
    "start_time": "2022-07-11T23:27:24.959Z"
   },
   {
    "duration": 26,
    "start_time": "2022-07-11T23:27:24.971Z"
   },
   {
    "duration": 11,
    "start_time": "2022-07-11T23:27:24.999Z"
   },
   {
    "duration": 46,
    "start_time": "2022-07-11T23:27:25.011Z"
   },
   {
    "duration": 63,
    "start_time": "2022-07-11T23:27:25.058Z"
   },
   {
    "duration": 26852,
    "start_time": "2022-07-11T23:27:25.123Z"
   },
   {
    "duration": 22,
    "start_time": "2022-07-11T23:27:51.978Z"
   },
   {
    "duration": 49,
    "start_time": "2022-07-11T23:27:52.001Z"
   },
   {
    "duration": 27,
    "start_time": "2022-07-11T23:27:52.052Z"
   },
   {
    "duration": 66,
    "start_time": "2022-07-11T23:27:52.081Z"
   },
   {
    "duration": 52,
    "start_time": "2022-07-11T23:27:52.149Z"
   },
   {
    "duration": 21,
    "start_time": "2022-07-11T23:27:52.203Z"
   },
   {
    "duration": 54,
    "start_time": "2022-07-11T23:27:52.226Z"
   },
   {
    "duration": 142,
    "start_time": "2022-07-11T23:27:52.282Z"
   },
   {
    "duration": 15,
    "start_time": "2022-07-11T23:27:52.426Z"
   },
   {
    "duration": 20,
    "start_time": "2022-07-11T23:27:52.443Z"
   },
   {
    "duration": 38,
    "start_time": "2022-07-11T23:27:52.465Z"
   },
   {
    "duration": 10,
    "start_time": "2022-07-11T23:27:52.505Z"
   },
   {
    "duration": 48,
    "start_time": "2022-07-11T23:27:52.516Z"
   },
   {
    "duration": 202,
    "start_time": "2022-07-11T23:27:52.566Z"
   },
   {
    "duration": 264,
    "start_time": "2022-07-11T23:27:52.770Z"
   },
   {
    "duration": 19,
    "start_time": "2022-07-11T23:27:53.036Z"
   },
   {
    "duration": 358,
    "start_time": "2022-07-11T23:27:53.057Z"
   },
   {
    "duration": 207,
    "start_time": "2022-07-11T23:27:53.418Z"
   },
   {
    "duration": 20,
    "start_time": "2022-07-11T23:27:53.626Z"
   },
   {
    "duration": 99,
    "start_time": "2022-07-11T23:27:53.647Z"
   },
   {
    "duration": 11,
    "start_time": "2022-07-11T23:27:53.749Z"
   },
   {
    "duration": 288,
    "start_time": "2022-07-11T23:27:53.762Z"
   },
   {
    "duration": 5,
    "start_time": "2022-07-11T23:27:54.052Z"
   },
   {
    "duration": 308893,
    "start_time": "2022-07-11T23:27:54.059Z"
   },
   {
    "duration": 4,
    "start_time": "2022-07-11T23:33:02.954Z"
   },
   {
    "duration": 12,
    "start_time": "2022-07-11T23:33:02.960Z"
   },
   {
    "duration": 2698395,
    "start_time": "2022-07-11T23:33:02.973Z"
   },
   {
    "duration": 3,
    "start_time": "2022-07-12T00:18:01.374Z"
   },
   {
    "duration": 740779,
    "start_time": "2022-07-12T00:18:01.378Z"
   },
   {
    "duration": 3,
    "start_time": "2022-07-12T00:30:22.159Z"
   },
   {
    "duration": 4499,
    "start_time": "2022-07-12T00:30:22.164Z"
   },
   {
    "duration": 6,
    "start_time": "2022-07-12T08:23:33.205Z"
   },
   {
    "duration": 88205,
    "start_time": "2022-07-12T08:23:42.052Z"
   },
   {
    "duration": 82297,
    "start_time": "2022-07-12T08:25:11.791Z"
   },
   {
    "duration": 5,
    "start_time": "2022-07-12T08:26:34.090Z"
   },
   {
    "duration": 569323,
    "start_time": "2022-07-12T08:26:35.192Z"
   },
   {
    "duration": 16,
    "start_time": "2022-07-12T10:27:49.872Z"
   },
   {
    "duration": 7,
    "start_time": "2022-07-12T10:28:07.640Z"
   },
   {
    "duration": 5,
    "start_time": "2022-07-12T10:28:31.240Z"
   },
   {
    "duration": 15,
    "start_time": "2022-07-12T10:28:38.765Z"
   },
   {
    "duration": 12,
    "start_time": "2022-07-12T10:29:55.238Z"
   },
   {
    "duration": 13,
    "start_time": "2022-07-12T10:30:12.368Z"
   },
   {
    "duration": 384,
    "start_time": "2022-07-12T10:31:18.589Z"
   },
   {
    "duration": 189,
    "start_time": "2022-07-12T10:31:28.653Z"
   },
   {
    "duration": 309,
    "start_time": "2022-07-12T10:31:38.551Z"
   },
   {
    "duration": 240,
    "start_time": "2022-07-12T10:32:21.146Z"
   },
   {
    "duration": 269,
    "start_time": "2022-07-12T10:32:30.566Z"
   },
   {
    "duration": 16,
    "start_time": "2022-07-12T10:33:46.844Z"
   },
   {
    "duration": 267,
    "start_time": "2022-07-12T10:33:47.008Z"
   },
   {
    "duration": 279,
    "start_time": "2022-07-12T10:33:53.866Z"
   },
   {
    "duration": 290,
    "start_time": "2022-07-12T10:40:29.315Z"
   },
   {
    "duration": 4,
    "start_time": "2022-07-12T10:42:19.893Z"
   },
   {
    "duration": 71,
    "start_time": "2022-07-12T10:42:20.188Z"
   },
   {
    "duration": 1882,
    "start_time": "2022-07-12T10:43:23.499Z"
   },
   {
    "duration": 3,
    "start_time": "2022-07-12T10:43:25.384Z"
   },
   {
    "duration": 806,
    "start_time": "2022-07-12T10:43:25.389Z"
   },
   {
    "duration": 39,
    "start_time": "2022-07-12T10:43:26.198Z"
   },
   {
    "duration": 164,
    "start_time": "2022-07-12T10:43:26.240Z"
   },
   {
    "duration": 133,
    "start_time": "2022-07-12T10:43:26.407Z"
   },
   {
    "duration": 4,
    "start_time": "2022-07-12T10:43:26.545Z"
   },
   {
    "duration": 849,
    "start_time": "2022-07-12T10:43:26.551Z"
   },
   {
    "duration": 126,
    "start_time": "2022-07-12T10:43:27.401Z"
   },
   {
    "duration": 831,
    "start_time": "2022-07-12T10:43:27.531Z"
   },
   {
    "duration": 18,
    "start_time": "2022-07-12T10:43:28.363Z"
   },
   {
    "duration": 504,
    "start_time": "2022-07-12T10:43:28.383Z"
   },
   {
    "duration": 54,
    "start_time": "2022-07-12T10:43:28.890Z"
   },
   {
    "duration": 27,
    "start_time": "2022-07-12T10:43:28.946Z"
   },
   {
    "duration": 7,
    "start_time": "2022-07-12T10:43:28.976Z"
   },
   {
    "duration": 28504,
    "start_time": "2022-07-12T10:43:28.985Z"
   },
   {
    "duration": 20,
    "start_time": "2022-07-12T10:43:57.492Z"
   },
   {
    "duration": 12,
    "start_time": "2022-07-12T10:43:57.514Z"
   },
   {
    "duration": 72,
    "start_time": "2022-07-12T10:43:57.528Z"
   },
   {
    "duration": 71,
    "start_time": "2022-07-12T10:43:57.602Z"
   },
   {
    "duration": 9,
    "start_time": "2022-07-12T10:43:57.675Z"
   },
   {
    "duration": 33560,
    "start_time": "2022-07-12T10:43:57.686Z"
   },
   {
    "duration": 69,
    "start_time": "2022-07-12T10:44:31.248Z"
   },
   {
    "duration": 58,
    "start_time": "2022-07-12T10:44:31.319Z"
   },
   {
    "duration": 2,
    "start_time": "2022-07-12T10:44:31.379Z"
   },
   {
    "duration": 12,
    "start_time": "2022-07-12T10:44:31.383Z"
   },
   {
    "duration": 13,
    "start_time": "2022-07-12T10:44:31.397Z"
   },
   {
    "duration": 21,
    "start_time": "2022-07-12T10:44:31.414Z"
   },
   {
    "duration": 56,
    "start_time": "2022-07-12T10:44:31.437Z"
   },
   {
    "duration": 28047,
    "start_time": "2022-07-12T10:44:31.495Z"
   },
   {
    "duration": 14,
    "start_time": "2022-07-12T10:44:59.545Z"
   },
   {
    "duration": 55,
    "start_time": "2022-07-12T10:44:59.561Z"
   },
   {
    "duration": 76,
    "start_time": "2022-07-12T10:44:59.618Z"
   },
   {
    "duration": 31081,
    "start_time": "2022-07-12T10:44:59.696Z"
   },
   {
    "duration": 36,
    "start_time": "2022-07-12T10:45:30.779Z"
   },
   {
    "duration": 53,
    "start_time": "2022-07-12T10:45:30.817Z"
   },
   {
    "duration": 20,
    "start_time": "2022-07-12T10:45:30.872Z"
   },
   {
    "duration": 25,
    "start_time": "2022-07-12T10:45:30.894Z"
   },
   {
    "duration": 45,
    "start_time": "2022-07-12T10:45:30.921Z"
   },
   {
    "duration": 23013,
    "start_time": "2022-07-12T10:45:30.968Z"
   },
   {
    "duration": 28,
    "start_time": "2022-07-12T10:45:53.983Z"
   },
   {
    "duration": 27371,
    "start_time": "2022-07-12T10:45:54.013Z"
   },
   {
    "duration": 33,
    "start_time": "2022-07-12T10:46:21.386Z"
   },
   {
    "duration": 77,
    "start_time": "2022-07-12T10:46:21.421Z"
   },
   {
    "duration": 78,
    "start_time": "2022-07-12T10:46:21.500Z"
   },
   {
    "duration": 26498,
    "start_time": "2022-07-12T10:46:21.580Z"
   },
   {
    "duration": 35,
    "start_time": "2022-07-12T10:46:48.080Z"
   },
   {
    "duration": 40,
    "start_time": "2022-07-12T10:46:48.117Z"
   },
   {
    "duration": 12,
    "start_time": "2022-07-12T10:46:48.159Z"
   },
   {
    "duration": 34,
    "start_time": "2022-07-12T10:46:48.174Z"
   },
   {
    "duration": 37,
    "start_time": "2022-07-12T10:46:48.210Z"
   },
   {
    "duration": 54,
    "start_time": "2022-07-12T10:46:48.249Z"
   },
   {
    "duration": 97,
    "start_time": "2022-07-12T10:46:48.307Z"
   },
   {
    "duration": 30400,
    "start_time": "2022-07-12T10:46:48.405Z"
   },
   {
    "duration": 20,
    "start_time": "2022-07-12T10:47:18.807Z"
   },
   {
    "duration": 76,
    "start_time": "2022-07-12T10:47:18.828Z"
   },
   {
    "duration": 35,
    "start_time": "2022-07-12T10:47:18.906Z"
   },
   {
    "duration": 54,
    "start_time": "2022-07-12T10:47:18.948Z"
   },
   {
    "duration": 77,
    "start_time": "2022-07-12T10:47:19.004Z"
   },
   {
    "duration": 30,
    "start_time": "2022-07-12T10:47:19.084Z"
   },
   {
    "duration": 63,
    "start_time": "2022-07-12T10:47:19.116Z"
   },
   {
    "duration": 180,
    "start_time": "2022-07-12T10:47:19.182Z"
   },
   {
    "duration": 15,
    "start_time": "2022-07-12T10:47:19.367Z"
   },
   {
    "duration": 14,
    "start_time": "2022-07-12T10:47:19.383Z"
   },
   {
    "duration": 58,
    "start_time": "2022-07-12T10:47:19.399Z"
   },
   {
    "duration": 11,
    "start_time": "2022-07-12T10:47:19.459Z"
   },
   {
    "duration": 28,
    "start_time": "2022-07-12T10:47:19.472Z"
   },
   {
    "duration": 270,
    "start_time": "2022-07-12T10:47:19.502Z"
   },
   {
    "duration": 290,
    "start_time": "2022-07-12T10:47:19.774Z"
   },
   {
    "duration": 17,
    "start_time": "2022-07-12T10:47:20.066Z"
   },
   {
    "duration": 398,
    "start_time": "2022-07-12T10:47:20.085Z"
   },
   {
    "duration": 213,
    "start_time": "2022-07-12T10:47:20.485Z"
   },
   {
    "duration": 15,
    "start_time": "2022-07-12T10:47:20.700Z"
   },
   {
    "duration": 86,
    "start_time": "2022-07-12T10:47:20.717Z"
   },
   {
    "duration": 9,
    "start_time": "2022-07-12T10:47:20.805Z"
   },
   {
    "duration": 150,
    "start_time": "2022-07-12T10:47:20.816Z"
   },
   {
    "duration": 4,
    "start_time": "2022-07-12T10:47:20.969Z"
   },
   {
    "duration": 181826,
    "start_time": "2022-07-12T10:47:21.046Z"
   },
   {
    "duration": 3,
    "start_time": "2022-07-12T10:50:22.874Z"
   },
   {
    "duration": 9,
    "start_time": "2022-07-12T10:50:22.879Z"
   },
   {
    "duration": 687270,
    "start_time": "2022-07-12T10:50:22.890Z"
   },
   {
    "duration": 3,
    "start_time": "2022-07-12T11:01:50.165Z"
   },
   {
    "duration": 1654,
    "start_time": "2022-07-12T11:13:50.995Z"
   },
   {
    "duration": 11,
    "start_time": "2022-07-12T11:13:52.659Z"
   },
   {
    "duration": 790,
    "start_time": "2022-07-12T11:13:52.673Z"
   },
   {
    "duration": 46,
    "start_time": "2022-07-12T11:13:53.468Z"
   },
   {
    "duration": 249,
    "start_time": "2022-07-12T11:13:53.516Z"
   },
   {
    "duration": 111,
    "start_time": "2022-07-12T11:13:53.769Z"
   },
   {
    "duration": 5,
    "start_time": "2022-07-12T11:13:53.882Z"
   },
   {
    "duration": 1924,
    "start_time": "2022-07-12T11:14:42.925Z"
   },
   {
    "duration": 5,
    "start_time": "2022-07-12T11:14:44.854Z"
   },
   {
    "duration": 1102,
    "start_time": "2022-07-12T11:14:44.862Z"
   },
   {
    "duration": 27,
    "start_time": "2022-07-12T11:14:45.966Z"
   },
   {
    "duration": 222,
    "start_time": "2022-07-12T11:14:45.994Z"
   },
   {
    "duration": 175,
    "start_time": "2022-07-12T11:14:46.218Z"
   },
   {
    "duration": 3,
    "start_time": "2022-07-12T11:14:46.395Z"
   },
   {
    "duration": 1947,
    "start_time": "2022-07-12T11:15:53.093Z"
   },
   {
    "duration": 7,
    "start_time": "2022-07-12T11:15:55.042Z"
   },
   {
    "duration": 1082,
    "start_time": "2022-07-12T11:15:55.052Z"
   },
   {
    "duration": 47,
    "start_time": "2022-07-12T11:15:56.137Z"
   },
   {
    "duration": 170,
    "start_time": "2022-07-12T11:15:56.186Z"
   },
   {
    "duration": 105,
    "start_time": "2022-07-12T11:15:56.357Z"
   },
   {
    "duration": 3,
    "start_time": "2022-07-12T11:15:56.464Z"
   },
   {
    "duration": 95,
    "start_time": "2022-07-12T11:15:56.469Z"
   },
   {
    "duration": 2039,
    "start_time": "2022-07-12T11:21:04.680Z"
   },
   {
    "duration": 3,
    "start_time": "2022-07-12T11:21:06.721Z"
   },
   {
    "duration": 1370,
    "start_time": "2022-07-12T11:21:06.726Z"
   },
   {
    "duration": 31,
    "start_time": "2022-07-12T11:21:08.097Z"
   },
   {
    "duration": 170,
    "start_time": "2022-07-12T11:21:08.131Z"
   },
   {
    "duration": 126,
    "start_time": "2022-07-12T11:21:08.303Z"
   },
   {
    "duration": 3,
    "start_time": "2022-07-12T11:21:08.431Z"
   },
   {
    "duration": 92,
    "start_time": "2022-07-12T11:21:08.436Z"
   },
   {
    "duration": 1174,
    "start_time": "2022-07-12T11:21:08.530Z"
   },
   {
    "duration": 119,
    "start_time": "2022-07-12T11:21:09.705Z"
   },
   {
    "duration": 1053,
    "start_time": "2022-07-12T11:21:09.826Z"
   },
   {
    "duration": 18,
    "start_time": "2022-07-12T11:21:10.880Z"
   },
   {
    "duration": 533,
    "start_time": "2022-07-12T11:21:10.900Z"
   },
   {
    "duration": 45,
    "start_time": "2022-07-12T11:21:11.436Z"
   },
   {
    "duration": 8,
    "start_time": "2022-07-12T11:21:11.483Z"
   },
   {
    "duration": 32147,
    "start_time": "2022-07-12T11:21:11.493Z"
   },
   {
    "duration": 23,
    "start_time": "2022-07-12T11:21:43.646Z"
   },
   {
    "duration": 50,
    "start_time": "2022-07-12T11:21:43.672Z"
   },
   {
    "duration": 86,
    "start_time": "2022-07-12T11:21:43.724Z"
   },
   {
    "duration": 7,
    "start_time": "2022-07-12T11:21:43.812Z"
   },
   {
    "duration": 38403,
    "start_time": "2022-07-12T11:21:43.821Z"
   },
   {
    "duration": 51,
    "start_time": "2022-07-12T11:22:22.226Z"
   },
   {
    "duration": 72,
    "start_time": "2022-07-12T11:22:22.279Z"
   },
   {
    "duration": 22,
    "start_time": "2022-07-12T11:22:22.353Z"
   },
   {
    "duration": 45,
    "start_time": "2022-07-12T11:22:22.377Z"
   },
   {
    "duration": 30679,
    "start_time": "2022-07-12T11:22:22.424Z"
   },
   {
    "duration": 10,
    "start_time": "2022-07-12T11:22:53.105Z"
   },
   {
    "duration": 69,
    "start_time": "2022-07-12T11:22:53.117Z"
   },
   {
    "duration": 43,
    "start_time": "2022-07-12T11:22:53.188Z"
   },
   {
    "duration": 34899,
    "start_time": "2022-07-12T11:22:53.233Z"
   },
   {
    "duration": 51,
    "start_time": "2022-07-12T11:23:28.134Z"
   },
   {
    "duration": 129,
    "start_time": "2022-07-12T11:23:28.187Z"
   },
   {
    "duration": 0,
    "start_time": "2022-07-12T11:23:28.318Z"
   },
   {
    "duration": 0,
    "start_time": "2022-07-12T11:23:28.320Z"
   },
   {
    "duration": 0,
    "start_time": "2022-07-12T11:23:28.321Z"
   },
   {
    "duration": 0,
    "start_time": "2022-07-12T11:23:28.322Z"
   },
   {
    "duration": 0,
    "start_time": "2022-07-12T11:23:28.323Z"
   },
   {
    "duration": 0,
    "start_time": "2022-07-12T11:23:28.325Z"
   },
   {
    "duration": 0,
    "start_time": "2022-07-12T11:23:28.326Z"
   },
   {
    "duration": 0,
    "start_time": "2022-07-12T11:23:28.327Z"
   },
   {
    "duration": 0,
    "start_time": "2022-07-12T11:23:28.328Z"
   },
   {
    "duration": 0,
    "start_time": "2022-07-12T11:23:28.329Z"
   },
   {
    "duration": 0,
    "start_time": "2022-07-12T11:23:28.329Z"
   },
   {
    "duration": 0,
    "start_time": "2022-07-12T11:23:28.330Z"
   },
   {
    "duration": 0,
    "start_time": "2022-07-12T11:23:28.332Z"
   },
   {
    "duration": 0,
    "start_time": "2022-07-12T11:23:28.333Z"
   },
   {
    "duration": 0,
    "start_time": "2022-07-12T11:23:28.334Z"
   },
   {
    "duration": 0,
    "start_time": "2022-07-12T11:23:28.335Z"
   },
   {
    "duration": 4,
    "start_time": "2022-07-12T11:34:42.249Z"
   },
   {
    "duration": 7,
    "start_time": "2022-07-12T11:34:42.257Z"
   },
   {
    "duration": 758,
    "start_time": "2022-07-12T11:34:42.267Z"
   },
   {
    "duration": 42,
    "start_time": "2022-07-12T11:34:43.027Z"
   },
   {
    "duration": 140,
    "start_time": "2022-07-12T11:34:43.071Z"
   },
   {
    "duration": 100,
    "start_time": "2022-07-12T11:34:43.212Z"
   },
   {
    "duration": 3,
    "start_time": "2022-07-12T11:34:43.314Z"
   },
   {
    "duration": 97,
    "start_time": "2022-07-12T11:34:43.318Z"
   },
   {
    "duration": 1056,
    "start_time": "2022-07-12T11:34:43.417Z"
   },
   {
    "duration": 97,
    "start_time": "2022-07-12T11:34:44.477Z"
   },
   {
    "duration": 1069,
    "start_time": "2022-07-12T11:34:44.577Z"
   },
   {
    "duration": 21,
    "start_time": "2022-07-12T11:34:45.648Z"
   },
   {
    "duration": 520,
    "start_time": "2022-07-12T11:34:45.672Z"
   },
   {
    "duration": 42,
    "start_time": "2022-07-12T11:34:46.249Z"
   },
   {
    "duration": 6,
    "start_time": "2022-07-12T11:34:46.292Z"
   },
   {
    "duration": 29234,
    "start_time": "2022-07-12T11:34:46.299Z"
   },
   {
    "duration": 41,
    "start_time": "2022-07-12T11:35:15.535Z"
   },
   {
    "duration": 36,
    "start_time": "2022-07-12T11:35:15.578Z"
   },
   {
    "duration": 81,
    "start_time": "2022-07-12T11:35:15.616Z"
   },
   {
    "duration": 7,
    "start_time": "2022-07-12T11:35:15.699Z"
   },
   {
    "duration": 34637,
    "start_time": "2022-07-12T11:35:15.707Z"
   },
   {
    "duration": 47,
    "start_time": "2022-07-12T11:35:50.351Z"
   },
   {
    "duration": 67,
    "start_time": "2022-07-12T11:35:50.400Z"
   },
   {
    "duration": 18,
    "start_time": "2022-07-12T11:35:50.469Z"
   },
   {
    "duration": 42,
    "start_time": "2022-07-12T11:35:50.489Z"
   },
   {
    "duration": 26938,
    "start_time": "2022-07-12T11:35:50.533Z"
   },
   {
    "duration": 12,
    "start_time": "2022-07-12T11:36:17.473Z"
   },
   {
    "duration": 58,
    "start_time": "2022-07-12T11:36:17.489Z"
   },
   {
    "duration": 44,
    "start_time": "2022-07-12T11:36:17.549Z"
   },
   {
    "duration": 31793,
    "start_time": "2022-07-12T11:36:17.595Z"
   },
   {
    "duration": 33,
    "start_time": "2022-07-12T11:36:49.390Z"
   },
   {
    "duration": 52,
    "start_time": "2022-07-12T11:36:49.425Z"
   },
   {
    "duration": 0,
    "start_time": "2022-07-12T11:36:49.480Z"
   },
   {
    "duration": 0,
    "start_time": "2022-07-12T11:36:49.483Z"
   },
   {
    "duration": 0,
    "start_time": "2022-07-12T11:36:49.486Z"
   },
   {
    "duration": 0,
    "start_time": "2022-07-12T11:36:49.488Z"
   },
   {
    "duration": 0,
    "start_time": "2022-07-12T11:36:49.490Z"
   },
   {
    "duration": 0,
    "start_time": "2022-07-12T11:36:49.491Z"
   },
   {
    "duration": 0,
    "start_time": "2022-07-12T11:36:49.493Z"
   },
   {
    "duration": 0,
    "start_time": "2022-07-12T11:36:49.494Z"
   },
   {
    "duration": 0,
    "start_time": "2022-07-12T11:36:49.495Z"
   },
   {
    "duration": 0,
    "start_time": "2022-07-12T11:36:49.496Z"
   },
   {
    "duration": 0,
    "start_time": "2022-07-12T11:36:49.497Z"
   },
   {
    "duration": 0,
    "start_time": "2022-07-12T11:36:49.499Z"
   },
   {
    "duration": 0,
    "start_time": "2022-07-12T11:36:49.500Z"
   },
   {
    "duration": 0,
    "start_time": "2022-07-12T11:36:49.501Z"
   },
   {
    "duration": 0,
    "start_time": "2022-07-12T11:36:49.503Z"
   },
   {
    "duration": 5,
    "start_time": "2022-07-12T11:55:23.488Z"
   },
   {
    "duration": 13,
    "start_time": "2022-07-12T11:55:23.496Z"
   },
   {
    "duration": 714,
    "start_time": "2022-07-12T11:55:23.511Z"
   },
   {
    "duration": 31,
    "start_time": "2022-07-12T11:55:24.227Z"
   },
   {
    "duration": 143,
    "start_time": "2022-07-12T11:55:24.260Z"
   },
   {
    "duration": 114,
    "start_time": "2022-07-12T11:55:24.405Z"
   },
   {
    "duration": 3,
    "start_time": "2022-07-12T11:55:24.521Z"
   },
   {
    "duration": 95,
    "start_time": "2022-07-12T11:55:24.525Z"
   },
   {
    "duration": 896,
    "start_time": "2022-07-12T11:55:24.622Z"
   },
   {
    "duration": 95,
    "start_time": "2022-07-12T11:55:25.521Z"
   },
   {
    "duration": 865,
    "start_time": "2022-07-12T11:55:25.618Z"
   },
   {
    "duration": 20,
    "start_time": "2022-07-12T11:55:26.485Z"
   },
   {
    "duration": 394,
    "start_time": "2022-07-12T11:55:26.507Z"
   },
   {
    "duration": 45,
    "start_time": "2022-07-12T11:55:26.902Z"
   },
   {
    "duration": 5,
    "start_time": "2022-07-12T11:55:26.949Z"
   },
   {
    "duration": 29277,
    "start_time": "2022-07-12T11:55:26.956Z"
   },
   {
    "duration": 28,
    "start_time": "2022-07-12T11:55:56.235Z"
   },
   {
    "duration": 36,
    "start_time": "2022-07-12T11:55:56.265Z"
   },
   {
    "duration": 64,
    "start_time": "2022-07-12T11:55:56.302Z"
   },
   {
    "duration": 7,
    "start_time": "2022-07-12T11:55:56.368Z"
   },
   {
    "duration": 33494,
    "start_time": "2022-07-12T11:55:56.376Z"
   },
   {
    "duration": 38,
    "start_time": "2022-07-12T11:56:29.872Z"
   },
   {
    "duration": 51,
    "start_time": "2022-07-12T11:56:29.912Z"
   },
   {
    "duration": 16,
    "start_time": "2022-07-12T11:56:29.965Z"
   },
   {
    "duration": 42,
    "start_time": "2022-07-12T11:56:29.983Z"
   },
   {
    "duration": 24503,
    "start_time": "2022-07-12T11:56:30.027Z"
   },
   {
    "duration": 15,
    "start_time": "2022-07-12T11:56:54.532Z"
   },
   {
    "duration": 36,
    "start_time": "2022-07-12T11:56:54.551Z"
   },
   {
    "duration": 41,
    "start_time": "2022-07-12T11:56:54.588Z"
   },
   {
    "duration": 32183,
    "start_time": "2022-07-12T11:56:54.630Z"
   },
   {
    "duration": 56,
    "start_time": "2022-07-12T11:57:26.815Z"
   },
   {
    "duration": 89,
    "start_time": "2022-07-12T11:57:26.873Z"
   },
   {
    "duration": 0,
    "start_time": "2022-07-12T11:57:26.964Z"
   },
   {
    "duration": 0,
    "start_time": "2022-07-12T11:57:26.965Z"
   },
   {
    "duration": 0,
    "start_time": "2022-07-12T11:57:26.967Z"
   },
   {
    "duration": 0,
    "start_time": "2022-07-12T11:57:26.968Z"
   },
   {
    "duration": 0,
    "start_time": "2022-07-12T11:57:26.970Z"
   },
   {
    "duration": 0,
    "start_time": "2022-07-12T11:57:26.971Z"
   },
   {
    "duration": 0,
    "start_time": "2022-07-12T11:57:26.972Z"
   },
   {
    "duration": 0,
    "start_time": "2022-07-12T11:57:26.974Z"
   },
   {
    "duration": 0,
    "start_time": "2022-07-12T11:57:26.975Z"
   },
   {
    "duration": 0,
    "start_time": "2022-07-12T11:57:26.976Z"
   },
   {
    "duration": 0,
    "start_time": "2022-07-12T11:57:26.977Z"
   },
   {
    "duration": 0,
    "start_time": "2022-07-12T11:57:26.979Z"
   },
   {
    "duration": 0,
    "start_time": "2022-07-12T11:57:26.980Z"
   },
   {
    "duration": 0,
    "start_time": "2022-07-12T11:57:26.981Z"
   },
   {
    "duration": 0,
    "start_time": "2022-07-12T11:57:26.981Z"
   },
   {
    "duration": 37,
    "start_time": "2022-07-12T12:02:08.530Z"
   },
   {
    "duration": 20,
    "start_time": "2022-07-12T12:02:09.271Z"
   },
   {
    "duration": 14,
    "start_time": "2022-07-12T12:02:10.365Z"
   },
   {
    "duration": 42,
    "start_time": "2022-07-12T12:02:11.092Z"
   },
   {
    "duration": 22135,
    "start_time": "2022-07-12T12:02:14.462Z"
   },
   {
    "duration": 26,
    "start_time": "2022-07-12T12:02:36.599Z"
   },
   {
    "duration": 25122,
    "start_time": "2022-07-12T12:02:36.627Z"
   },
   {
    "duration": 57,
    "start_time": "2022-07-12T12:03:01.751Z"
   },
   {
    "duration": 0,
    "start_time": "2022-07-12T12:03:01.810Z"
   },
   {
    "duration": 0,
    "start_time": "2022-07-12T12:03:01.811Z"
   },
   {
    "duration": 0,
    "start_time": "2022-07-12T12:03:01.813Z"
   },
   {
    "duration": 0,
    "start_time": "2022-07-12T12:03:01.814Z"
   },
   {
    "duration": 0,
    "start_time": "2022-07-12T12:03:01.815Z"
   },
   {
    "duration": 0,
    "start_time": "2022-07-12T12:03:01.817Z"
   },
   {
    "duration": 0,
    "start_time": "2022-07-12T12:03:01.818Z"
   },
   {
    "duration": 14,
    "start_time": "2022-07-12T13:01:38.571Z"
   },
   {
    "duration": 10,
    "start_time": "2022-07-12T13:01:39.187Z"
   },
   {
    "duration": 8,
    "start_time": "2022-07-12T13:01:39.731Z"
   },
   {
    "duration": 2000,
    "start_time": "2022-07-12T13:03:19.070Z"
   },
   {
    "duration": 3,
    "start_time": "2022-07-12T13:03:21.072Z"
   },
   {
    "duration": 1142,
    "start_time": "2022-07-12T13:03:21.076Z"
   },
   {
    "duration": 36,
    "start_time": "2022-07-12T13:03:22.221Z"
   },
   {
    "duration": 148,
    "start_time": "2022-07-12T13:03:22.258Z"
   },
   {
    "duration": 109,
    "start_time": "2022-07-12T13:03:22.408Z"
   },
   {
    "duration": 3,
    "start_time": "2022-07-12T13:03:22.519Z"
   },
   {
    "duration": 94,
    "start_time": "2022-07-12T13:03:22.523Z"
   },
   {
    "duration": 829,
    "start_time": "2022-07-12T13:03:22.619Z"
   },
   {
    "duration": 116,
    "start_time": "2022-07-12T13:03:23.450Z"
   },
   {
    "duration": 848,
    "start_time": "2022-07-12T13:03:23.568Z"
   },
   {
    "duration": 36,
    "start_time": "2022-07-12T13:03:24.418Z"
   },
   {
    "duration": 567,
    "start_time": "2022-07-12T13:03:24.456Z"
   },
   {
    "duration": 48,
    "start_time": "2022-07-12T13:03:25.025Z"
   },
   {
    "duration": 6,
    "start_time": "2022-07-12T13:03:25.076Z"
   },
   {
    "duration": 28338,
    "start_time": "2022-07-12T13:03:25.083Z"
   },
   {
    "duration": 24,
    "start_time": "2022-07-12T13:03:53.423Z"
   },
   {
    "duration": 36,
    "start_time": "2022-07-12T13:03:53.449Z"
   },
   {
    "duration": 64,
    "start_time": "2022-07-12T13:03:53.487Z"
   },
   {
    "duration": 8,
    "start_time": "2022-07-12T13:03:53.553Z"
   },
   {
    "duration": 31325,
    "start_time": "2022-07-12T13:03:53.564Z"
   },
   {
    "duration": 39,
    "start_time": "2022-07-12T13:04:24.891Z"
   },
   {
    "duration": 53,
    "start_time": "2022-07-12T13:04:24.945Z"
   },
   {
    "duration": 18,
    "start_time": "2022-07-12T13:04:25.000Z"
   },
   {
    "duration": 61,
    "start_time": "2022-07-12T13:04:25.019Z"
   },
   {
    "duration": 25305,
    "start_time": "2022-07-12T13:04:25.082Z"
   },
   {
    "duration": 9,
    "start_time": "2022-07-12T13:04:50.388Z"
   },
   {
    "duration": 48,
    "start_time": "2022-07-12T13:04:50.402Z"
   },
   {
    "duration": 48,
    "start_time": "2022-07-12T13:04:50.452Z"
   },
   {
    "duration": 29315,
    "start_time": "2022-07-12T13:04:50.501Z"
   },
   {
    "duration": 44,
    "start_time": "2022-07-12T13:05:19.817Z"
   },
   {
    "duration": 38,
    "start_time": "2022-07-12T13:05:19.862Z"
   },
   {
    "duration": 19,
    "start_time": "2022-07-12T13:05:19.901Z"
   },
   {
    "duration": 35,
    "start_time": "2022-07-12T13:05:19.921Z"
   },
   {
    "duration": 34,
    "start_time": "2022-07-12T13:05:19.958Z"
   },
   {
    "duration": 22773,
    "start_time": "2022-07-12T13:05:19.994Z"
   },
   {
    "duration": 25,
    "start_time": "2022-07-12T13:05:42.768Z"
   },
   {
    "duration": 26248,
    "start_time": "2022-07-12T13:05:42.795Z"
   },
   {
    "duration": 30,
    "start_time": "2022-07-12T13:06:09.046Z"
   },
   {
    "duration": 49,
    "start_time": "2022-07-12T13:06:09.078Z"
   },
   {
    "duration": 55,
    "start_time": "2022-07-12T13:06:09.147Z"
   },
   {
    "duration": 24174,
    "start_time": "2022-07-12T13:06:09.205Z"
   },
   {
    "duration": 20,
    "start_time": "2022-07-12T13:06:33.381Z"
   },
   {
    "duration": 17,
    "start_time": "2022-07-12T13:06:33.403Z"
   },
   {
    "duration": 31,
    "start_time": "2022-07-12T13:06:33.422Z"
   },
   {
    "duration": 12,
    "start_time": "2022-07-12T13:06:33.454Z"
   },
   {
    "duration": 21,
    "start_time": "2022-07-12T13:06:33.468Z"
   },
   {
    "duration": 18,
    "start_time": "2022-07-12T13:06:33.491Z"
   },
   {
    "duration": 50,
    "start_time": "2022-07-12T13:06:33.511Z"
   },
   {
    "duration": 47,
    "start_time": "2022-07-12T13:06:33.562Z"
   },
   {
    "duration": 27868,
    "start_time": "2022-07-12T13:06:33.611Z"
   },
   {
    "duration": 23,
    "start_time": "2022-07-12T13:07:01.482Z"
   },
   {
    "duration": 57,
    "start_time": "2022-07-12T13:07:01.507Z"
   },
   {
    "duration": 37,
    "start_time": "2022-07-12T13:07:01.567Z"
   },
   {
    "duration": 90,
    "start_time": "2022-07-12T13:07:01.606Z"
   },
   {
    "duration": 88,
    "start_time": "2022-07-12T13:07:01.698Z"
   },
   {
    "duration": 18,
    "start_time": "2022-07-12T13:07:01.788Z"
   },
   {
    "duration": 47,
    "start_time": "2022-07-12T13:07:01.808Z"
   },
   {
    "duration": 11,
    "start_time": "2022-07-12T13:07:01.857Z"
   },
   {
    "duration": 51,
    "start_time": "2022-07-12T13:07:01.870Z"
   },
   {
    "duration": 17,
    "start_time": "2022-07-12T13:07:01.923Z"
   },
   {
    "duration": 36,
    "start_time": "2022-07-12T13:07:01.942Z"
   },
   {
    "duration": 44,
    "start_time": "2022-07-12T13:07:01.980Z"
   },
   {
    "duration": 242,
    "start_time": "2022-07-12T13:07:02.026Z"
   },
   {
    "duration": 373,
    "start_time": "2022-07-12T13:07:02.269Z"
   },
   {
    "duration": 19,
    "start_time": "2022-07-12T13:07:02.645Z"
   },
   {
    "duration": 227,
    "start_time": "2022-07-12T13:07:02.666Z"
   },
   {
    "duration": 125,
    "start_time": "2022-07-12T13:07:02.895Z"
   },
   {
    "duration": 0,
    "start_time": "2022-07-12T13:07:03.022Z"
   },
   {
    "duration": 0,
    "start_time": "2022-07-12T13:07:03.023Z"
   },
   {
    "duration": 0,
    "start_time": "2022-07-12T13:07:03.024Z"
   },
   {
    "duration": 0,
    "start_time": "2022-07-12T13:07:03.025Z"
   },
   {
    "duration": 0,
    "start_time": "2022-07-12T13:07:03.026Z"
   },
   {
    "duration": 0,
    "start_time": "2022-07-12T13:07:03.027Z"
   },
   {
    "duration": 0,
    "start_time": "2022-07-12T13:07:03.028Z"
   },
   {
    "duration": 0,
    "start_time": "2022-07-12T13:07:03.045Z"
   },
   {
    "duration": 0,
    "start_time": "2022-07-12T13:07:03.047Z"
   },
   {
    "duration": 0,
    "start_time": "2022-07-12T13:07:03.048Z"
   },
   {
    "duration": 0,
    "start_time": "2022-07-12T13:07:03.049Z"
   },
   {
    "duration": 0,
    "start_time": "2022-07-12T13:07:03.050Z"
   },
   {
    "duration": 0,
    "start_time": "2022-07-12T13:07:03.051Z"
   },
   {
    "duration": 0,
    "start_time": "2022-07-12T13:07:03.053Z"
   },
   {
    "duration": 0,
    "start_time": "2022-07-12T13:07:03.054Z"
   },
   {
    "duration": 0,
    "start_time": "2022-07-12T13:07:03.055Z"
   },
   {
    "duration": 0,
    "start_time": "2022-07-12T13:07:03.056Z"
   },
   {
    "duration": 53,
    "start_time": "2022-07-12T13:08:09.080Z"
   },
   {
    "duration": 71,
    "start_time": "2022-07-12T13:08:19.655Z"
   },
   {
    "duration": 28,
    "start_time": "2022-07-12T13:08:19.729Z"
   },
   {
    "duration": 0,
    "start_time": "2022-07-12T13:08:19.758Z"
   },
   {
    "duration": 0,
    "start_time": "2022-07-12T13:08:19.759Z"
   },
   {
    "duration": 0,
    "start_time": "2022-07-12T13:08:19.761Z"
   },
   {
    "duration": 0,
    "start_time": "2022-07-12T13:08:19.762Z"
   },
   {
    "duration": 0,
    "start_time": "2022-07-12T13:08:19.763Z"
   },
   {
    "duration": 0,
    "start_time": "2022-07-12T13:08:19.764Z"
   },
   {
    "duration": 0,
    "start_time": "2022-07-12T13:08:19.765Z"
   },
   {
    "duration": 0,
    "start_time": "2022-07-12T13:08:19.767Z"
   },
   {
    "duration": 0,
    "start_time": "2022-07-12T13:08:19.768Z"
   },
   {
    "duration": 0,
    "start_time": "2022-07-12T13:08:19.769Z"
   },
   {
    "duration": 0,
    "start_time": "2022-07-12T13:08:19.770Z"
   },
   {
    "duration": 0,
    "start_time": "2022-07-12T13:08:19.771Z"
   },
   {
    "duration": 0,
    "start_time": "2022-07-12T13:08:19.773Z"
   },
   {
    "duration": 0,
    "start_time": "2022-07-12T13:08:19.774Z"
   },
   {
    "duration": 0,
    "start_time": "2022-07-12T13:08:19.776Z"
   },
   {
    "duration": 0,
    "start_time": "2022-07-12T13:08:19.777Z"
   },
   {
    "duration": 0,
    "start_time": "2022-07-12T13:08:19.778Z"
   },
   {
    "duration": 65,
    "start_time": "2022-07-12T13:08:30.944Z"
   },
   {
    "duration": 5,
    "start_time": "2022-07-12T13:08:36.739Z"
   },
   {
    "duration": 55,
    "start_time": "2022-07-12T13:08:43.554Z"
   },
   {
    "duration": 18,
    "start_time": "2022-07-12T13:08:43.611Z"
   },
   {
    "duration": 0,
    "start_time": "2022-07-12T13:08:43.646Z"
   },
   {
    "duration": 0,
    "start_time": "2022-07-12T13:08:43.647Z"
   },
   {
    "duration": 0,
    "start_time": "2022-07-12T13:08:43.649Z"
   },
   {
    "duration": 0,
    "start_time": "2022-07-12T13:08:43.650Z"
   },
   {
    "duration": 0,
    "start_time": "2022-07-12T13:08:43.651Z"
   },
   {
    "duration": 0,
    "start_time": "2022-07-12T13:08:43.653Z"
   },
   {
    "duration": 0,
    "start_time": "2022-07-12T13:08:43.653Z"
   },
   {
    "duration": 0,
    "start_time": "2022-07-12T13:08:43.654Z"
   },
   {
    "duration": 0,
    "start_time": "2022-07-12T13:08:43.656Z"
   },
   {
    "duration": 0,
    "start_time": "2022-07-12T13:08:43.657Z"
   },
   {
    "duration": 0,
    "start_time": "2022-07-12T13:08:43.659Z"
   },
   {
    "duration": 0,
    "start_time": "2022-07-12T13:08:43.660Z"
   },
   {
    "duration": 0,
    "start_time": "2022-07-12T13:08:43.662Z"
   },
   {
    "duration": 0,
    "start_time": "2022-07-12T13:08:43.663Z"
   },
   {
    "duration": 0,
    "start_time": "2022-07-12T13:08:43.665Z"
   },
   {
    "duration": 0,
    "start_time": "2022-07-12T13:08:43.666Z"
   },
   {
    "duration": 191,
    "start_time": "2022-07-12T13:08:43.669Z"
   },
   {
    "duration": 18,
    "start_time": "2022-07-12T15:01:03.441Z"
   },
   {
    "duration": 3675,
    "start_time": "2022-07-12T15:02:42.141Z"
   },
   {
    "duration": 974,
    "start_time": "2022-07-12T15:04:53.861Z"
   },
   {
    "duration": 12938,
    "start_time": "2022-07-12T15:05:03.786Z"
   },
   {
    "duration": 832,
    "start_time": "2022-07-12T15:08:13.481Z"
   },
   {
    "duration": 905,
    "start_time": "2022-07-12T15:08:30.200Z"
   },
   {
    "duration": 720,
    "start_time": "2022-07-12T15:08:47.445Z"
   },
   {
    "duration": 10,
    "start_time": "2022-07-12T15:09:10.669Z"
   },
   {
    "duration": 5,
    "start_time": "2022-07-12T15:09:23.498Z"
   },
   {
    "duration": 56,
    "start_time": "2022-07-12T15:09:37.933Z"
   },
   {
    "duration": 163,
    "start_time": "2022-07-12T15:09:58.059Z"
   },
   {
    "duration": 716,
    "start_time": "2022-07-12T15:10:06.607Z"
   },
   {
    "duration": 732,
    "start_time": "2022-07-12T15:10:47.003Z"
   },
   {
    "duration": 5,
    "start_time": "2022-07-12T15:11:38.077Z"
   },
   {
    "duration": 9,
    "start_time": "2022-07-12T15:11:38.085Z"
   },
   {
    "duration": 723,
    "start_time": "2022-07-12T15:11:38.096Z"
   },
   {
    "duration": 37,
    "start_time": "2022-07-12T15:11:38.821Z"
   },
   {
    "duration": 220,
    "start_time": "2022-07-12T15:11:38.860Z"
   },
   {
    "duration": 117,
    "start_time": "2022-07-12T15:11:39.083Z"
   },
   {
    "duration": 4,
    "start_time": "2022-07-12T15:11:39.202Z"
   },
   {
    "duration": 92,
    "start_time": "2022-07-12T15:11:39.208Z"
   },
   {
    "duration": 801,
    "start_time": "2022-07-12T15:11:39.303Z"
   },
   {
    "duration": 95,
    "start_time": "2022-07-12T15:11:40.106Z"
   },
   {
    "duration": 788,
    "start_time": "2022-07-12T15:11:40.203Z"
   },
   {
    "duration": 17,
    "start_time": "2022-07-12T15:11:40.993Z"
   },
   {
    "duration": 384,
    "start_time": "2022-07-12T15:11:41.011Z"
   },
   {
    "duration": 55,
    "start_time": "2022-07-12T15:11:41.398Z"
   },
   {
    "duration": 6,
    "start_time": "2022-07-12T15:11:41.456Z"
   },
   {
    "duration": 26010,
    "start_time": "2022-07-12T15:11:41.463Z"
   },
   {
    "duration": 18,
    "start_time": "2022-07-12T15:12:07.475Z"
   },
   {
    "duration": 56,
    "start_time": "2022-07-12T15:12:07.495Z"
   },
   {
    "duration": 49,
    "start_time": "2022-07-12T15:12:07.553Z"
   },
   {
    "duration": 7,
    "start_time": "2022-07-12T15:12:07.603Z"
   },
   {
    "duration": 31597,
    "start_time": "2022-07-12T15:12:07.612Z"
   },
   {
    "duration": 47,
    "start_time": "2022-07-12T15:12:39.211Z"
   },
   {
    "duration": 40,
    "start_time": "2022-07-12T15:12:39.259Z"
   },
   {
    "duration": 19,
    "start_time": "2022-07-12T15:12:39.304Z"
   },
   {
    "duration": 57,
    "start_time": "2022-07-12T15:12:39.325Z"
   },
   {
    "duration": 24896,
    "start_time": "2022-07-12T15:12:39.384Z"
   },
   {
    "duration": 9,
    "start_time": "2022-07-12T15:13:04.282Z"
   },
   {
    "duration": 43,
    "start_time": "2022-07-12T15:13:04.293Z"
   },
   {
    "duration": 51,
    "start_time": "2022-07-12T15:13:04.337Z"
   },
   {
    "duration": 28001,
    "start_time": "2022-07-12T15:13:04.390Z"
   },
   {
    "duration": 37,
    "start_time": "2022-07-12T15:13:32.393Z"
   },
   {
    "duration": 35,
    "start_time": "2022-07-12T15:13:32.445Z"
   },
   {
    "duration": 18,
    "start_time": "2022-07-12T15:13:32.482Z"
   },
   {
    "duration": 14,
    "start_time": "2022-07-12T15:13:32.502Z"
   },
   {
    "duration": 57,
    "start_time": "2022-07-12T15:13:32.517Z"
   },
   {
    "duration": 21861,
    "start_time": "2022-07-12T15:13:32.576Z"
   },
   {
    "duration": 29,
    "start_time": "2022-07-12T15:13:54.438Z"
   },
   {
    "duration": 23989,
    "start_time": "2022-07-12T15:13:54.469Z"
   },
   {
    "duration": 24,
    "start_time": "2022-07-12T15:14:18.460Z"
   },
   {
    "duration": 31,
    "start_time": "2022-07-12T15:14:18.486Z"
   },
   {
    "duration": 58,
    "start_time": "2022-07-12T15:14:18.518Z"
   },
   {
    "duration": 22566,
    "start_time": "2022-07-12T15:14:18.578Z"
   },
   {
    "duration": 22,
    "start_time": "2022-07-12T15:14:41.146Z"
   },
   {
    "duration": 16,
    "start_time": "2022-07-12T15:14:41.170Z"
   },
   {
    "duration": 10,
    "start_time": "2022-07-12T15:14:41.187Z"
   },
   {
    "duration": 9,
    "start_time": "2022-07-12T15:14:41.199Z"
   },
   {
    "duration": 47,
    "start_time": "2022-07-12T15:14:41.210Z"
   },
   {
    "duration": 11,
    "start_time": "2022-07-12T15:14:41.259Z"
   },
   {
    "duration": 39,
    "start_time": "2022-07-12T15:14:41.271Z"
   },
   {
    "duration": 66,
    "start_time": "2022-07-12T15:14:41.312Z"
   },
   {
    "duration": 26693,
    "start_time": "2022-07-12T15:14:41.380Z"
   },
   {
    "duration": 19,
    "start_time": "2022-07-12T15:15:08.075Z"
   },
   {
    "duration": 38,
    "start_time": "2022-07-12T15:15:08.096Z"
   },
   {
    "duration": 27,
    "start_time": "2022-07-12T15:15:08.136Z"
   },
   {
    "duration": 35,
    "start_time": "2022-07-12T15:15:08.164Z"
   },
   {
    "duration": 55,
    "start_time": "2022-07-12T15:15:08.201Z"
   },
   {
    "duration": 17,
    "start_time": "2022-07-12T15:15:08.258Z"
   },
   {
    "duration": 24,
    "start_time": "2022-07-12T15:15:08.277Z"
   },
   {
    "duration": 3,
    "start_time": "2022-07-12T15:15:08.303Z"
   },
   {
    "duration": 52,
    "start_time": "2022-07-12T15:15:08.308Z"
   },
   {
    "duration": 13,
    "start_time": "2022-07-12T15:15:08.362Z"
   },
   {
    "duration": 35,
    "start_time": "2022-07-12T15:15:08.376Z"
   },
   {
    "duration": 43,
    "start_time": "2022-07-12T15:15:08.413Z"
   },
   {
    "duration": 218,
    "start_time": "2022-07-12T15:15:08.458Z"
   },
   {
    "duration": 410,
    "start_time": "2022-07-12T15:15:08.677Z"
   },
   {
    "duration": 17,
    "start_time": "2022-07-12T15:15:09.089Z"
   },
   {
    "duration": 189,
    "start_time": "2022-07-12T15:15:09.109Z"
   },
   {
    "duration": 176,
    "start_time": "2022-07-12T15:15:09.300Z"
   },
   {
    "duration": 726,
    "start_time": "2022-07-12T15:15:09.481Z"
   },
   {
    "duration": 348,
    "start_time": "2022-07-12T15:15:10.209Z"
   },
   {
    "duration": 3119,
    "start_time": "2022-07-12T15:15:10.559Z"
   },
   {
    "duration": 10,
    "start_time": "2022-07-12T15:15:13.679Z"
   },
   {
    "duration": 1768,
    "start_time": "2022-07-12T15:21:24.809Z"
   },
   {
    "duration": 3,
    "start_time": "2022-07-12T15:21:26.579Z"
   },
   {
    "duration": 1042,
    "start_time": "2022-07-12T15:21:26.583Z"
   },
   {
    "duration": 29,
    "start_time": "2022-07-12T15:21:27.627Z"
   },
   {
    "duration": 160,
    "start_time": "2022-07-12T15:21:27.658Z"
   },
   {
    "duration": 114,
    "start_time": "2022-07-12T15:21:27.819Z"
   },
   {
    "duration": 11,
    "start_time": "2022-07-12T15:21:27.935Z"
   },
   {
    "duration": 106,
    "start_time": "2022-07-12T15:21:27.948Z"
   },
   {
    "duration": 841,
    "start_time": "2022-07-12T15:21:28.055Z"
   },
   {
    "duration": 138,
    "start_time": "2022-07-12T15:21:28.899Z"
   },
   {
    "duration": 846,
    "start_time": "2022-07-12T15:21:29.039Z"
   },
   {
    "duration": 17,
    "start_time": "2022-07-12T15:21:29.887Z"
   },
   {
    "duration": 497,
    "start_time": "2022-07-12T15:21:29.907Z"
   },
   {
    "duration": 50,
    "start_time": "2022-07-12T15:21:30.406Z"
   },
   {
    "duration": 5,
    "start_time": "2022-07-12T15:21:30.458Z"
   },
   {
    "duration": 27210,
    "start_time": "2022-07-12T15:21:30.465Z"
   },
   {
    "duration": 19,
    "start_time": "2022-07-12T15:21:57.677Z"
   },
   {
    "duration": 49,
    "start_time": "2022-07-12T15:21:57.698Z"
   },
   {
    "duration": 44,
    "start_time": "2022-07-12T15:21:57.749Z"
   },
   {
    "duration": 7,
    "start_time": "2022-07-12T15:21:57.795Z"
   },
   {
    "duration": 30824,
    "start_time": "2022-07-12T15:21:57.804Z"
   },
   {
    "duration": 48,
    "start_time": "2022-07-12T15:22:28.631Z"
   },
   {
    "duration": 41,
    "start_time": "2022-07-12T15:22:28.681Z"
   },
   {
    "duration": 33,
    "start_time": "2022-07-12T15:22:28.724Z"
   },
   {
    "duration": 43,
    "start_time": "2022-07-12T15:22:28.759Z"
   },
   {
    "duration": 25383,
    "start_time": "2022-07-12T15:22:28.804Z"
   },
   {
    "duration": 9,
    "start_time": "2022-07-12T15:22:54.189Z"
   },
   {
    "duration": 47,
    "start_time": "2022-07-12T15:22:54.202Z"
   },
   {
    "duration": 40,
    "start_time": "2022-07-12T15:22:54.250Z"
   },
   {
    "duration": 28649,
    "start_time": "2022-07-12T15:22:54.291Z"
   },
   {
    "duration": 43,
    "start_time": "2022-07-12T15:23:22.945Z"
   },
   {
    "duration": 43,
    "start_time": "2022-07-12T15:23:22.990Z"
   },
   {
    "duration": 24,
    "start_time": "2022-07-12T15:23:23.035Z"
   },
   {
    "duration": 15,
    "start_time": "2022-07-12T15:23:23.061Z"
   },
   {
    "duration": 39,
    "start_time": "2022-07-12T15:23:23.078Z"
   },
   {
    "duration": 21540,
    "start_time": "2022-07-12T15:23:23.119Z"
   },
   {
    "duration": 27,
    "start_time": "2022-07-12T15:23:44.661Z"
   },
   {
    "duration": 24976,
    "start_time": "2022-07-12T15:23:44.690Z"
   },
   {
    "duration": 25,
    "start_time": "2022-07-12T15:24:09.667Z"
   },
   {
    "duration": 31,
    "start_time": "2022-07-12T15:24:09.694Z"
   },
   {
    "duration": 67,
    "start_time": "2022-07-12T15:24:09.727Z"
   },
   {
    "duration": 22480,
    "start_time": "2022-07-12T15:24:09.796Z"
   },
   {
    "duration": 19,
    "start_time": "2022-07-12T15:24:32.278Z"
   },
   {
    "duration": 20,
    "start_time": "2022-07-12T15:24:32.298Z"
   },
   {
    "duration": 27,
    "start_time": "2022-07-12T15:24:32.320Z"
   },
   {
    "duration": 13,
    "start_time": "2022-07-12T15:24:32.349Z"
   },
   {
    "duration": 16,
    "start_time": "2022-07-12T15:24:32.364Z"
   },
   {
    "duration": 9,
    "start_time": "2022-07-12T15:24:32.382Z"
   },
   {
    "duration": 33,
    "start_time": "2022-07-12T15:24:32.392Z"
   },
   {
    "duration": 61,
    "start_time": "2022-07-12T15:24:32.426Z"
   },
   {
    "duration": 27260,
    "start_time": "2022-07-12T15:24:32.488Z"
   },
   {
    "duration": 21,
    "start_time": "2022-07-12T15:24:59.749Z"
   },
   {
    "duration": 31,
    "start_time": "2022-07-12T15:24:59.772Z"
   },
   {
    "duration": 41,
    "start_time": "2022-07-12T15:24:59.805Z"
   },
   {
    "duration": 30,
    "start_time": "2022-07-12T15:24:59.848Z"
   },
   {
    "duration": 53,
    "start_time": "2022-07-12T15:24:59.879Z"
   },
   {
    "duration": 27,
    "start_time": "2022-07-12T15:24:59.934Z"
   },
   {
    "duration": 28,
    "start_time": "2022-07-12T15:24:59.962Z"
   },
   {
    "duration": 4,
    "start_time": "2022-07-12T15:24:59.992Z"
   },
   {
    "duration": 46,
    "start_time": "2022-07-12T15:24:59.997Z"
   },
   {
    "duration": 31,
    "start_time": "2022-07-12T15:25:00.044Z"
   },
   {
    "duration": 43,
    "start_time": "2022-07-12T15:25:00.076Z"
   },
   {
    "duration": 40,
    "start_time": "2022-07-12T15:25:00.121Z"
   },
   {
    "duration": 219,
    "start_time": "2022-07-12T15:25:00.163Z"
   },
   {
    "duration": 345,
    "start_time": "2022-07-12T15:25:00.384Z"
   },
   {
    "duration": 25,
    "start_time": "2022-07-12T15:25:00.731Z"
   },
   {
    "duration": 190,
    "start_time": "2022-07-12T15:25:00.758Z"
   },
   {
    "duration": 187,
    "start_time": "2022-07-12T15:25:00.949Z"
   },
   {
    "duration": 892,
    "start_time": "2022-07-12T15:25:01.138Z"
   },
   {
    "duration": 349,
    "start_time": "2022-07-12T15:25:02.032Z"
   },
   {
    "duration": 3145,
    "start_time": "2022-07-12T15:25:02.382Z"
   },
   {
    "duration": 16,
    "start_time": "2022-07-12T15:25:05.529Z"
   },
   {
    "duration": 22702,
    "start_time": "2022-07-12T15:25:05.547Z"
   },
   {
    "duration": 94,
    "start_time": "2022-07-12T15:25:28.252Z"
   },
   {
    "duration": 6400,
    "start_time": "2022-07-12T15:25:28.348Z"
   },
   {
    "duration": 3,
    "start_time": "2022-07-12T15:25:34.749Z"
   },
   {
    "duration": 14,
    "start_time": "2022-07-12T15:25:34.754Z"
   },
   {
    "duration": 1063401,
    "start_time": "2022-07-12T15:25:34.769Z"
   },
   {
    "duration": 2,
    "start_time": "2022-07-12T15:43:18.172Z"
   },
   {
    "duration": 2296,
    "start_time": "2022-07-12T17:38:16.566Z"
   },
   {
    "duration": 4,
    "start_time": "2022-07-12T17:38:18.864Z"
   },
   {
    "duration": 1220,
    "start_time": "2022-07-12T17:38:18.870Z"
   },
   {
    "duration": 33,
    "start_time": "2022-07-12T17:38:20.093Z"
   },
   {
    "duration": 181,
    "start_time": "2022-07-12T17:38:20.128Z"
   },
   {
    "duration": 131,
    "start_time": "2022-07-12T17:38:20.311Z"
   },
   {
    "duration": 7,
    "start_time": "2022-07-12T17:38:20.443Z"
   },
   {
    "duration": 109,
    "start_time": "2022-07-12T17:38:20.452Z"
   },
   {
    "duration": 954,
    "start_time": "2022-07-12T17:38:20.564Z"
   },
   {
    "duration": 136,
    "start_time": "2022-07-12T17:38:21.522Z"
   },
   {
    "duration": 939,
    "start_time": "2022-07-12T17:38:21.660Z"
   },
   {
    "duration": 18,
    "start_time": "2022-07-12T17:38:22.601Z"
   },
   {
    "duration": 590,
    "start_time": "2022-07-12T17:38:22.621Z"
   },
   {
    "duration": 53,
    "start_time": "2022-07-12T17:38:23.213Z"
   },
   {
    "duration": 9,
    "start_time": "2022-07-12T17:38:23.268Z"
   },
   {
    "duration": 30172,
    "start_time": "2022-07-12T17:38:23.279Z"
   },
   {
    "duration": 23,
    "start_time": "2022-07-12T17:38:53.453Z"
   },
   {
    "duration": 68,
    "start_time": "2022-07-12T17:38:53.478Z"
   },
   {
    "duration": 55,
    "start_time": "2022-07-12T17:38:53.548Z"
   },
   {
    "duration": 7,
    "start_time": "2022-07-12T17:38:53.605Z"
   },
   {
    "duration": 35305,
    "start_time": "2022-07-12T17:38:53.613Z"
   },
   {
    "duration": 62,
    "start_time": "2022-07-12T17:39:28.921Z"
   },
   {
    "duration": 61,
    "start_time": "2022-07-12T17:39:28.985Z"
   },
   {
    "duration": 20,
    "start_time": "2022-07-12T17:39:29.053Z"
   },
   {
    "duration": 52,
    "start_time": "2022-07-12T17:39:29.075Z"
   },
   {
    "duration": 26534,
    "start_time": "2022-07-12T17:39:29.129Z"
   },
   {
    "duration": 9,
    "start_time": "2022-07-12T17:39:55.665Z"
   },
   {
    "duration": 31,
    "start_time": "2022-07-12T17:39:55.678Z"
   },
   {
    "duration": 61,
    "start_time": "2022-07-12T17:39:55.710Z"
   },
   {
    "duration": 31639,
    "start_time": "2022-07-12T17:39:55.772Z"
   },
   {
    "duration": 49,
    "start_time": "2022-07-12T17:40:27.412Z"
   },
   {
    "duration": 41,
    "start_time": "2022-07-12T17:40:27.463Z"
   },
   {
    "duration": 21,
    "start_time": "2022-07-12T17:40:27.505Z"
   },
   {
    "duration": 17,
    "start_time": "2022-07-12T17:40:27.553Z"
   },
   {
    "duration": 34,
    "start_time": "2022-07-12T17:40:27.572Z"
   },
   {
    "duration": 24271,
    "start_time": "2022-07-12T17:40:27.608Z"
   },
   {
    "duration": 25,
    "start_time": "2022-07-12T17:40:51.881Z"
   },
   {
    "duration": 26492,
    "start_time": "2022-07-12T17:40:51.907Z"
   },
   {
    "duration": 25,
    "start_time": "2022-07-12T17:41:18.402Z"
   },
   {
    "duration": 59,
    "start_time": "2022-07-12T17:41:18.429Z"
   },
   {
    "duration": 57,
    "start_time": "2022-07-12T17:41:18.490Z"
   },
   {
    "duration": 25429,
    "start_time": "2022-07-12T17:41:18.549Z"
   },
   {
    "duration": 24,
    "start_time": "2022-07-12T17:41:43.981Z"
   },
   {
    "duration": 18,
    "start_time": "2022-07-12T17:41:44.007Z"
   },
   {
    "duration": 28,
    "start_time": "2022-07-12T17:41:44.027Z"
   },
   {
    "duration": 13,
    "start_time": "2022-07-12T17:41:44.061Z"
   },
   {
    "duration": 17,
    "start_time": "2022-07-12T17:41:44.075Z"
   },
   {
    "duration": 10,
    "start_time": "2022-07-12T17:41:44.093Z"
   },
   {
    "duration": 59,
    "start_time": "2022-07-12T17:41:44.104Z"
   },
   {
    "duration": 44,
    "start_time": "2022-07-12T17:41:44.165Z"
   },
   {
    "duration": 28925,
    "start_time": "2022-07-12T17:41:44.210Z"
   },
   {
    "duration": 35,
    "start_time": "2022-07-12T17:42:13.136Z"
   },
   {
    "duration": 35,
    "start_time": "2022-07-12T17:42:13.173Z"
   },
   {
    "duration": 37,
    "start_time": "2022-07-12T17:42:13.210Z"
   },
   {
    "duration": 32,
    "start_time": "2022-07-12T17:42:13.249Z"
   },
   {
    "duration": 67,
    "start_time": "2022-07-12T17:42:13.283Z"
   },
   {
    "duration": 22,
    "start_time": "2022-07-12T17:42:13.353Z"
   },
   {
    "duration": 22,
    "start_time": "2022-07-12T17:42:13.377Z"
   },
   {
    "duration": 7,
    "start_time": "2022-07-12T17:42:13.401Z"
   },
   {
    "duration": 59,
    "start_time": "2022-07-12T17:42:13.410Z"
   },
   {
    "duration": 14,
    "start_time": "2022-07-12T17:42:13.472Z"
   },
   {
    "duration": 58,
    "start_time": "2022-07-12T17:42:13.488Z"
   },
   {
    "duration": 28,
    "start_time": "2022-07-12T17:42:13.549Z"
   },
   {
    "duration": 252,
    "start_time": "2022-07-12T17:42:13.579Z"
   },
   {
    "duration": 411,
    "start_time": "2022-07-12T17:42:13.832Z"
   },
   {
    "duration": 16,
    "start_time": "2022-07-12T17:42:14.244Z"
   },
   {
    "duration": 197,
    "start_time": "2022-07-12T17:42:14.262Z"
   },
   {
    "duration": 198,
    "start_time": "2022-07-12T17:42:14.462Z"
   },
   {
    "duration": 766,
    "start_time": "2022-07-12T17:42:14.662Z"
   },
   {
    "duration": 369,
    "start_time": "2022-07-12T17:42:15.430Z"
   },
   {
    "duration": 3264,
    "start_time": "2022-07-12T17:42:15.801Z"
   },
   {
    "duration": 12,
    "start_time": "2022-07-12T17:42:19.066Z"
   },
   {
    "duration": 31182,
    "start_time": "2022-07-12T17:42:19.081Z"
   },
   {
    "duration": 3,
    "start_time": "2022-07-12T17:42:50.265Z"
   },
   {
    "duration": 70597,
    "start_time": "2022-07-12T17:42:50.270Z"
   },
   {
    "duration": 3,
    "start_time": "2022-07-12T17:44:00.869Z"
   },
   {
    "duration": 11,
    "start_time": "2022-07-12T17:44:00.873Z"
   },
   {
    "duration": 1105963,
    "start_time": "2022-07-12T17:44:00.885Z"
   },
   {
    "duration": 3,
    "start_time": "2022-07-12T18:02:26.850Z"
   },
   {
    "duration": 11677008,
    "start_time": "2022-07-12T18:02:26.855Z"
   },
   {
    "duration": 5,
    "start_time": "2022-07-12T21:17:03.865Z"
   },
   {
    "duration": 5,
    "start_time": "2022-07-12T21:17:03.878Z"
   },
   {
    "duration": 947846,
    "start_time": "2022-07-12T21:17:03.885Z"
   },
   {
    "duration": 22,
    "start_time": "2022-07-12T21:32:51.733Z"
   },
   {
    "duration": 277,
    "start_time": "2022-07-12T21:32:51.756Z"
   },
   {
    "duration": 102,
    "start_time": "2022-07-13T14:08:10.923Z"
   },
   {
    "duration": 90,
    "start_time": "2022-07-13T14:08:17.123Z"
   },
   {
    "duration": 57,
    "start_time": "2022-07-13T14:08:52.813Z"
   },
   {
    "duration": 46,
    "start_time": "2022-07-13T14:08:58.405Z"
   },
   {
    "duration": 77,
    "start_time": "2022-07-13T14:09:46.891Z"
   },
   {
    "duration": 95,
    "start_time": "2022-07-13T14:10:38.290Z"
   },
   {
    "duration": 105,
    "start_time": "2022-07-13T14:11:41.855Z"
   },
   {
    "duration": 9,
    "start_time": "2022-07-13T14:11:46.256Z"
   },
   {
    "duration": 1666,
    "start_time": "2022-07-13T14:48:50.541Z"
   },
   {
    "duration": 2,
    "start_time": "2022-07-13T14:48:52.209Z"
   },
   {
    "duration": 900,
    "start_time": "2022-07-13T14:48:52.213Z"
   },
   {
    "duration": 28,
    "start_time": "2022-07-13T14:48:53.115Z"
   },
   {
    "duration": 109,
    "start_time": "2022-07-13T14:48:53.144Z"
   },
   {
    "duration": 97,
    "start_time": "2022-07-13T14:48:53.254Z"
   },
   {
    "duration": 3,
    "start_time": "2022-07-13T14:48:53.353Z"
   },
   {
    "duration": 88,
    "start_time": "2022-07-13T14:48:53.358Z"
   },
   {
    "duration": 784,
    "start_time": "2022-07-13T14:48:53.448Z"
   },
   {
    "duration": 90,
    "start_time": "2022-07-13T14:48:54.241Z"
   },
   {
    "duration": 794,
    "start_time": "2022-07-13T14:48:54.341Z"
   },
   {
    "duration": 19,
    "start_time": "2022-07-13T14:48:55.136Z"
   },
   {
    "duration": 422,
    "start_time": "2022-07-13T14:48:55.156Z"
   },
   {
    "duration": 32,
    "start_time": "2022-07-13T14:48:55.580Z"
   },
   {
    "duration": 5,
    "start_time": "2022-07-13T14:48:55.613Z"
   },
   {
    "duration": 23076,
    "start_time": "2022-07-13T14:48:55.619Z"
   },
   {
    "duration": 16,
    "start_time": "2022-07-13T14:49:18.696Z"
   },
   {
    "duration": 42,
    "start_time": "2022-07-13T14:49:18.714Z"
   },
   {
    "duration": 42,
    "start_time": "2022-07-13T14:49:18.757Z"
   },
   {
    "duration": 6,
    "start_time": "2022-07-13T14:49:18.801Z"
   },
   {
    "duration": 25586,
    "start_time": "2022-07-13T14:49:18.809Z"
   },
   {
    "duration": 46,
    "start_time": "2022-07-13T14:49:44.397Z"
   },
   {
    "duration": 35,
    "start_time": "2022-07-13T14:49:44.445Z"
   },
   {
    "duration": 18,
    "start_time": "2022-07-13T14:49:44.483Z"
   },
   {
    "duration": 64,
    "start_time": "2022-07-13T14:49:44.503Z"
   },
   {
    "duration": 21624,
    "start_time": "2022-07-13T14:49:44.569Z"
   },
   {
    "duration": 9,
    "start_time": "2022-07-13T14:50:06.195Z"
   },
   {
    "duration": 38,
    "start_time": "2022-07-13T14:50:06.207Z"
   },
   {
    "duration": 36,
    "start_time": "2022-07-13T14:50:06.247Z"
   },
   {
    "duration": 23724,
    "start_time": "2022-07-13T14:50:06.285Z"
   },
   {
    "duration": 34,
    "start_time": "2022-07-13T14:50:30.011Z"
   },
   {
    "duration": 30,
    "start_time": "2022-07-13T14:50:30.046Z"
   },
   {
    "duration": 19,
    "start_time": "2022-07-13T14:50:30.077Z"
   },
   {
    "duration": 21,
    "start_time": "2022-07-13T14:50:30.097Z"
   },
   {
    "duration": 39,
    "start_time": "2022-07-13T14:50:30.119Z"
   },
   {
    "duration": 18846,
    "start_time": "2022-07-13T14:50:30.159Z"
   },
   {
    "duration": 24,
    "start_time": "2022-07-13T14:50:49.007Z"
   },
   {
    "duration": 22034,
    "start_time": "2022-07-13T14:50:49.033Z"
   },
   {
    "duration": 22,
    "start_time": "2022-07-13T14:51:11.069Z"
   },
   {
    "duration": 28,
    "start_time": "2022-07-13T14:51:11.092Z"
   },
   {
    "duration": 48,
    "start_time": "2022-07-13T14:51:11.121Z"
   },
   {
    "duration": 18712,
    "start_time": "2022-07-13T14:51:11.171Z"
   },
   {
    "duration": 16,
    "start_time": "2022-07-13T14:51:29.885Z"
   },
   {
    "duration": 16,
    "start_time": "2022-07-13T14:51:29.902Z"
   },
   {
    "duration": 8,
    "start_time": "2022-07-13T14:51:29.919Z"
   },
   {
    "duration": 6,
    "start_time": "2022-07-13T14:51:29.943Z"
   },
   {
    "duration": 16,
    "start_time": "2022-07-13T14:51:29.950Z"
   },
   {
    "duration": 8,
    "start_time": "2022-07-13T14:51:29.967Z"
   },
   {
    "duration": 30,
    "start_time": "2022-07-13T14:51:29.977Z"
   },
   {
    "duration": 63,
    "start_time": "2022-07-13T14:51:30.009Z"
   },
   {
    "duration": 22684,
    "start_time": "2022-07-13T14:51:30.074Z"
   },
   {
    "duration": 17,
    "start_time": "2022-07-13T14:51:52.760Z"
   },
   {
    "duration": 28,
    "start_time": "2022-07-13T14:51:52.779Z"
   },
   {
    "duration": 33,
    "start_time": "2022-07-13T14:51:52.809Z"
   },
   {
    "duration": 24,
    "start_time": "2022-07-13T14:51:52.844Z"
   },
   {
    "duration": 41,
    "start_time": "2022-07-13T14:51:52.870Z"
   },
   {
    "duration": 15,
    "start_time": "2022-07-13T14:51:52.912Z"
   },
   {
    "duration": 18,
    "start_time": "2022-07-13T14:51:52.942Z"
   },
   {
    "duration": 4,
    "start_time": "2022-07-13T14:51:52.962Z"
   },
   {
    "duration": 28,
    "start_time": "2022-07-13T14:51:52.968Z"
   },
   {
    "duration": 13,
    "start_time": "2022-07-13T14:51:52.997Z"
   },
   {
    "duration": 54,
    "start_time": "2022-07-13T14:51:53.011Z"
   },
   {
    "duration": 23,
    "start_time": "2022-07-13T14:51:53.066Z"
   },
   {
    "duration": 199,
    "start_time": "2022-07-13T14:51:53.091Z"
   },
   {
    "duration": 280,
    "start_time": "2022-07-13T14:51:53.292Z"
   },
   {
    "duration": 13,
    "start_time": "2022-07-13T14:51:53.573Z"
   },
   {
    "duration": 154,
    "start_time": "2022-07-13T14:51:53.588Z"
   },
   {
    "duration": 161,
    "start_time": "2022-07-13T14:51:53.744Z"
   },
   {
    "duration": 695,
    "start_time": "2022-07-13T14:51:53.906Z"
   },
   {
    "duration": 331,
    "start_time": "2022-07-13T14:51:54.603Z"
   },
   {
    "duration": 2796,
    "start_time": "2022-07-13T14:51:54.935Z"
   },
   {
    "duration": 11,
    "start_time": "2022-07-13T14:51:57.733Z"
   },
   {
    "duration": 19503,
    "start_time": "2022-07-13T14:51:57.745Z"
   },
   {
    "duration": 93,
    "start_time": "2022-07-13T14:52:17.250Z"
   },
   {
    "duration": 5798,
    "start_time": "2022-07-13T14:52:17.345Z"
   },
   {
    "duration": 3,
    "start_time": "2022-07-13T14:52:23.145Z"
   },
   {
    "duration": 7,
    "start_time": "2022-07-13T14:52:23.149Z"
   },
   {
    "duration": 129497,
    "start_time": "2022-07-13T14:52:23.158Z"
   },
   {
    "duration": 4,
    "start_time": "2022-07-13T14:54:32.657Z"
   },
   {
    "duration": 1365,
    "start_time": "2022-07-14T06:08:04.890Z"
   },
   {
    "duration": 2,
    "start_time": "2022-07-14T06:08:06.258Z"
   },
   {
    "duration": 614,
    "start_time": "2022-07-14T06:08:06.261Z"
   },
   {
    "duration": 27,
    "start_time": "2022-07-14T06:08:06.877Z"
   },
   {
    "duration": 119,
    "start_time": "2022-07-14T06:08:06.905Z"
   },
   {
    "duration": 101,
    "start_time": "2022-07-14T06:08:07.026Z"
   },
   {
    "duration": 2,
    "start_time": "2022-07-14T06:08:07.129Z"
   },
   {
    "duration": 82,
    "start_time": "2022-07-14T06:08:07.132Z"
   },
   {
    "duration": 813,
    "start_time": "2022-07-14T06:08:07.216Z"
   },
   {
    "duration": 92,
    "start_time": "2022-07-14T06:08:08.031Z"
   },
   {
    "duration": 776,
    "start_time": "2022-07-14T06:08:08.124Z"
   },
   {
    "duration": 15,
    "start_time": "2022-07-14T06:08:08.902Z"
   },
   {
    "duration": 448,
    "start_time": "2022-07-14T06:08:08.918Z"
   },
   {
    "duration": 31,
    "start_time": "2022-07-14T06:08:09.367Z"
   },
   {
    "duration": 5,
    "start_time": "2022-07-14T06:08:09.399Z"
   },
   {
    "duration": 22904,
    "start_time": "2022-07-14T06:08:09.405Z"
   },
   {
    "duration": 15,
    "start_time": "2022-07-14T06:08:32.310Z"
   },
   {
    "duration": 36,
    "start_time": "2022-07-14T06:08:32.326Z"
   },
   {
    "duration": 40,
    "start_time": "2022-07-14T06:08:32.363Z"
   },
   {
    "duration": 6,
    "start_time": "2022-07-14T06:08:32.404Z"
   },
   {
    "duration": 25311,
    "start_time": "2022-07-14T06:08:32.412Z"
   },
   {
    "duration": 38,
    "start_time": "2022-07-14T06:08:57.724Z"
   },
   {
    "duration": 29,
    "start_time": "2022-07-14T06:08:57.764Z"
   },
   {
    "duration": 15,
    "start_time": "2022-07-14T06:08:57.794Z"
   },
   {
    "duration": 52,
    "start_time": "2022-07-14T06:08:57.811Z"
   },
   {
    "duration": 21160,
    "start_time": "2022-07-14T06:08:57.864Z"
   },
   {
    "duration": 16,
    "start_time": "2022-07-14T06:09:19.026Z"
   },
   {
    "duration": 24,
    "start_time": "2022-07-14T06:09:19.046Z"
   },
   {
    "duration": 38,
    "start_time": "2022-07-14T06:09:19.071Z"
   },
   {
    "duration": 23851,
    "start_time": "2022-07-14T06:09:19.110Z"
   },
   {
    "duration": 30,
    "start_time": "2022-07-14T06:09:42.962Z"
   },
   {
    "duration": 29,
    "start_time": "2022-07-14T06:09:42.993Z"
   },
   {
    "duration": 15,
    "start_time": "2022-07-14T06:09:43.042Z"
   },
   {
    "duration": 11,
    "start_time": "2022-07-14T06:09:43.058Z"
   },
   {
    "duration": 26,
    "start_time": "2022-07-14T06:09:43.071Z"
   },
   {
    "duration": 18813,
    "start_time": "2022-07-14T06:09:43.098Z"
   },
   {
    "duration": 30,
    "start_time": "2022-07-14T06:10:01.912Z"
   },
   {
    "duration": 21223,
    "start_time": "2022-07-14T06:10:01.944Z"
   },
   {
    "duration": 23,
    "start_time": "2022-07-14T06:10:23.168Z"
   },
   {
    "duration": 28,
    "start_time": "2022-07-14T06:10:23.192Z"
   },
   {
    "duration": 55,
    "start_time": "2022-07-14T06:10:23.221Z"
   },
   {
    "duration": 18877,
    "start_time": "2022-07-14T06:10:23.278Z"
   },
   {
    "duration": 15,
    "start_time": "2022-07-14T06:10:42.156Z"
   },
   {
    "duration": 12,
    "start_time": "2022-07-14T06:10:42.173Z"
   },
   {
    "duration": 8,
    "start_time": "2022-07-14T06:10:42.187Z"
   },
   {
    "duration": 8,
    "start_time": "2022-07-14T06:10:42.196Z"
   },
   {
    "duration": 45,
    "start_time": "2022-07-14T06:10:42.205Z"
   },
   {
    "duration": 8,
    "start_time": "2022-07-14T06:10:42.251Z"
   },
   {
    "duration": 30,
    "start_time": "2022-07-14T06:10:42.260Z"
   },
   {
    "duration": 36,
    "start_time": "2022-07-14T06:10:42.291Z"
   },
   {
    "duration": 21917,
    "start_time": "2022-07-14T06:10:42.328Z"
   },
   {
    "duration": 15,
    "start_time": "2022-07-14T06:11:04.246Z"
   },
   {
    "duration": 33,
    "start_time": "2022-07-14T06:11:04.262Z"
   },
   {
    "duration": 20,
    "start_time": "2022-07-14T06:11:04.296Z"
   },
   {
    "duration": 35,
    "start_time": "2022-07-14T06:11:04.317Z"
   },
   {
    "duration": 41,
    "start_time": "2022-07-14T06:11:04.353Z"
   },
   {
    "duration": 19,
    "start_time": "2022-07-14T06:11:04.396Z"
   },
   {
    "duration": 38,
    "start_time": "2022-07-14T06:11:04.417Z"
   },
   {
    "duration": 3,
    "start_time": "2022-07-14T06:11:04.457Z"
   },
   {
    "duration": 26,
    "start_time": "2022-07-14T06:11:04.461Z"
   },
   {
    "duration": 14,
    "start_time": "2022-07-14T06:11:04.488Z"
   },
   {
    "duration": 50,
    "start_time": "2022-07-14T06:11:04.504Z"
   },
   {
    "duration": 30,
    "start_time": "2022-07-14T06:11:04.556Z"
   },
   {
    "duration": 191,
    "start_time": "2022-07-14T06:11:04.588Z"
   },
   {
    "duration": 244,
    "start_time": "2022-07-14T06:11:04.781Z"
   },
   {
    "duration": 21,
    "start_time": "2022-07-14T06:11:05.027Z"
   },
   {
    "duration": 146,
    "start_time": "2022-07-14T06:11:05.049Z"
   },
   {
    "duration": 168,
    "start_time": "2022-07-14T06:11:05.197Z"
   },
   {
    "duration": 629,
    "start_time": "2022-07-14T06:11:05.366Z"
   },
   {
    "duration": 317,
    "start_time": "2022-07-14T06:11:05.997Z"
   },
   {
    "duration": 2946,
    "start_time": "2022-07-14T06:11:06.316Z"
   },
   {
    "duration": 9,
    "start_time": "2022-07-14T06:11:09.263Z"
   },
   {
    "duration": 17470,
    "start_time": "2022-07-14T06:11:09.273Z"
   },
   {
    "duration": 3,
    "start_time": "2022-07-14T06:11:26.745Z"
   },
   {
    "duration": 5406,
    "start_time": "2022-07-14T06:11:26.749Z"
   },
   {
    "duration": 3,
    "start_time": "2022-07-14T06:11:32.156Z"
   },
   {
    "duration": 4,
    "start_time": "2022-07-14T06:11:32.243Z"
   },
   {
    "duration": 121914,
    "start_time": "2022-07-14T06:11:32.249Z"
   },
   {
    "duration": 3,
    "start_time": "2022-07-14T06:13:34.165Z"
   },
   {
    "duration": 1875,
    "start_time": "2022-07-14T07:56:48.596Z"
   },
   {
    "duration": 5,
    "start_time": "2022-07-14T07:56:50.473Z"
   },
   {
    "duration": 1042,
    "start_time": "2022-07-14T07:56:50.480Z"
   },
   {
    "duration": 28,
    "start_time": "2022-07-14T07:56:51.524Z"
   },
   {
    "duration": 136,
    "start_time": "2022-07-14T07:56:51.554Z"
   },
   {
    "duration": 103,
    "start_time": "2022-07-14T07:56:51.692Z"
   },
   {
    "duration": 3,
    "start_time": "2022-07-14T07:56:51.797Z"
   },
   {
    "duration": 83,
    "start_time": "2022-07-14T07:56:51.802Z"
   },
   {
    "duration": 825,
    "start_time": "2022-07-14T07:56:51.887Z"
   },
   {
    "duration": 124,
    "start_time": "2022-07-14T07:56:52.715Z"
   },
   {
    "duration": 782,
    "start_time": "2022-07-14T07:56:52.841Z"
   },
   {
    "duration": 15,
    "start_time": "2022-07-14T07:56:53.625Z"
   },
   {
    "duration": 482,
    "start_time": "2022-07-14T07:56:53.642Z"
   },
   {
    "duration": 31,
    "start_time": "2022-07-14T07:56:54.126Z"
   },
   {
    "duration": 6,
    "start_time": "2022-07-14T07:56:54.158Z"
   },
   {
    "duration": 25002,
    "start_time": "2022-07-14T07:56:54.165Z"
   },
   {
    "duration": 16,
    "start_time": "2022-07-14T07:57:19.169Z"
   },
   {
    "duration": 64,
    "start_time": "2022-07-14T07:57:19.186Z"
   },
   {
    "duration": 39,
    "start_time": "2022-07-14T07:57:19.252Z"
   },
   {
    "duration": 6,
    "start_time": "2022-07-14T07:57:19.293Z"
   },
   {
    "duration": 29340,
    "start_time": "2022-07-14T07:57:19.300Z"
   },
   {
    "duration": 35,
    "start_time": "2022-07-14T07:57:48.642Z"
   },
   {
    "duration": 52,
    "start_time": "2022-07-14T07:57:48.678Z"
   },
   {
    "duration": 15,
    "start_time": "2022-07-14T07:57:48.733Z"
   },
   {
    "duration": 32,
    "start_time": "2022-07-14T07:57:48.749Z"
   },
   {
    "duration": 22316,
    "start_time": "2022-07-14T07:57:48.784Z"
   },
   {
    "duration": 8,
    "start_time": "2022-07-14T07:58:11.101Z"
   },
   {
    "duration": 28,
    "start_time": "2022-07-14T07:58:11.126Z"
   },
   {
    "duration": 37,
    "start_time": "2022-07-14T07:58:11.156Z"
   },
   {
    "duration": 26811,
    "start_time": "2022-07-14T07:58:11.194Z"
   },
   {
    "duration": 37,
    "start_time": "2022-07-14T07:58:38.006Z"
   },
   {
    "duration": 31,
    "start_time": "2022-07-14T07:58:38.045Z"
   },
   {
    "duration": 15,
    "start_time": "2022-07-14T07:58:38.078Z"
   },
   {
    "duration": 35,
    "start_time": "2022-07-14T07:58:38.095Z"
   },
   {
    "duration": 27,
    "start_time": "2022-07-14T07:58:38.131Z"
   },
   {
    "duration": 20499,
    "start_time": "2022-07-14T07:58:38.159Z"
   },
   {
    "duration": 23,
    "start_time": "2022-07-14T07:58:58.660Z"
   },
   {
    "duration": 21941,
    "start_time": "2022-07-14T07:58:58.684Z"
   },
   {
    "duration": 22,
    "start_time": "2022-07-14T07:59:20.627Z"
   },
   {
    "duration": 31,
    "start_time": "2022-07-14T07:59:20.650Z"
   },
   {
    "duration": 61,
    "start_time": "2022-07-14T07:59:20.682Z"
   },
   {
    "duration": 21674,
    "start_time": "2022-07-14T07:59:20.744Z"
   },
   {
    "duration": 20,
    "start_time": "2022-07-14T07:59:42.420Z"
   },
   {
    "duration": 19,
    "start_time": "2022-07-14T07:59:42.441Z"
   },
   {
    "duration": 8,
    "start_time": "2022-07-14T07:59:42.461Z"
   },
   {
    "duration": 11,
    "start_time": "2022-07-14T07:59:42.471Z"
   },
   {
    "duration": 45,
    "start_time": "2022-07-14T07:59:42.484Z"
   },
   {
    "duration": 14,
    "start_time": "2022-07-14T07:59:42.531Z"
   },
   {
    "duration": 44,
    "start_time": "2022-07-14T07:59:42.548Z"
   },
   {
    "duration": 63,
    "start_time": "2022-07-14T07:59:42.594Z"
   },
   {
    "duration": 25205,
    "start_time": "2022-07-14T07:59:42.658Z"
   },
   {
    "duration": 31,
    "start_time": "2022-07-14T08:00:07.865Z"
   },
   {
    "duration": 47,
    "start_time": "2022-07-14T08:00:07.898Z"
   },
   {
    "duration": 26,
    "start_time": "2022-07-14T08:00:07.947Z"
   },
   {
    "duration": 31,
    "start_time": "2022-07-14T08:00:07.975Z"
   },
   {
    "duration": 45,
    "start_time": "2022-07-14T08:00:08.007Z"
   },
   {
    "duration": 15,
    "start_time": "2022-07-14T08:00:08.054Z"
   },
   {
    "duration": 22,
    "start_time": "2022-07-14T08:00:08.071Z"
   },
   {
    "duration": 5,
    "start_time": "2022-07-14T08:00:08.094Z"
   },
   {
    "duration": 47,
    "start_time": "2022-07-14T08:00:08.100Z"
   },
   {
    "duration": 21,
    "start_time": "2022-07-14T08:00:08.148Z"
   },
   {
    "duration": 24,
    "start_time": "2022-07-14T08:00:08.170Z"
   },
   {
    "duration": 27,
    "start_time": "2022-07-14T08:00:08.196Z"
   },
   {
    "duration": 212,
    "start_time": "2022-07-14T08:00:08.224Z"
   },
   {
    "duration": 328,
    "start_time": "2022-07-14T08:00:08.438Z"
   },
   {
    "duration": 14,
    "start_time": "2022-07-14T08:00:08.767Z"
   },
   {
    "duration": 178,
    "start_time": "2022-07-14T08:00:08.783Z"
   },
   {
    "duration": 165,
    "start_time": "2022-07-14T08:00:08.962Z"
   },
   {
    "duration": 631,
    "start_time": "2022-07-14T08:00:09.129Z"
   },
   {
    "duration": 333,
    "start_time": "2022-07-14T08:00:09.762Z"
   },
   {
    "duration": 2993,
    "start_time": "2022-07-14T08:00:10.097Z"
   },
   {
    "duration": 9,
    "start_time": "2022-07-14T08:00:13.092Z"
   },
   {
    "duration": 30928,
    "start_time": "2022-07-14T08:00:13.103Z"
   },
   {
    "duration": 4,
    "start_time": "2022-07-14T08:00:44.033Z"
   },
   {
    "duration": 32701,
    "start_time": "2022-07-14T08:00:44.124Z"
   },
   {
    "duration": 3,
    "start_time": "2022-07-14T08:01:16.827Z"
   },
   {
    "duration": 13,
    "start_time": "2022-07-14T08:01:16.832Z"
   },
   {
    "duration": 225578,
    "start_time": "2022-07-14T08:01:16.847Z"
   },
   {
    "duration": 2,
    "start_time": "2022-07-14T08:05:02.427Z"
   },
   {
    "duration": 1746,
    "start_time": "2022-07-14T10:09:17.002Z"
   },
   {
    "duration": 3,
    "start_time": "2022-07-14T10:09:18.750Z"
   },
   {
    "duration": 712,
    "start_time": "2022-07-14T10:09:18.754Z"
   },
   {
    "duration": 26,
    "start_time": "2022-07-14T10:09:19.469Z"
   },
   {
    "duration": 161,
    "start_time": "2022-07-14T10:09:19.497Z"
   },
   {
    "duration": 102,
    "start_time": "2022-07-14T10:09:19.660Z"
   },
   {
    "duration": 3,
    "start_time": "2022-07-14T10:09:19.764Z"
   },
   {
    "duration": 85,
    "start_time": "2022-07-14T10:09:19.768Z"
   },
   {
    "duration": 825,
    "start_time": "2022-07-14T10:09:19.855Z"
   },
   {
    "duration": 107,
    "start_time": "2022-07-14T10:09:20.682Z"
   },
   {
    "duration": 992,
    "start_time": "2022-07-14T10:09:20.791Z"
   },
   {
    "duration": 17,
    "start_time": "2022-07-14T10:09:21.785Z"
   },
   {
    "duration": 484,
    "start_time": "2022-07-14T10:09:21.804Z"
   },
   {
    "duration": 53,
    "start_time": "2022-07-14T10:09:22.290Z"
   },
   {
    "duration": 7,
    "start_time": "2022-07-14T10:09:22.345Z"
   },
   {
    "duration": 27538,
    "start_time": "2022-07-14T10:09:22.354Z"
   },
   {
    "duration": 17,
    "start_time": "2022-07-14T10:09:49.894Z"
   },
   {
    "duration": 41,
    "start_time": "2022-07-14T10:09:49.926Z"
   },
   {
    "duration": 58,
    "start_time": "2022-07-14T10:09:49.968Z"
   },
   {
    "duration": 12,
    "start_time": "2022-07-14T10:09:50.028Z"
   },
   {
    "duration": 34257,
    "start_time": "2022-07-14T10:09:50.043Z"
   },
   {
    "duration": 62,
    "start_time": "2022-07-14T10:10:24.301Z"
   },
   {
    "duration": 35,
    "start_time": "2022-07-14T10:10:24.365Z"
   },
   {
    "duration": 32,
    "start_time": "2022-07-14T10:10:24.402Z"
   },
   {
    "duration": 49,
    "start_time": "2022-07-14T10:10:24.436Z"
   },
   {
    "duration": 25771,
    "start_time": "2022-07-14T10:10:24.487Z"
   },
   {
    "duration": 9,
    "start_time": "2022-07-14T10:10:50.260Z"
   },
   {
    "duration": 34,
    "start_time": "2022-07-14T10:10:50.273Z"
   },
   {
    "duration": 60,
    "start_time": "2022-07-14T10:10:50.325Z"
   },
   {
    "duration": 30801,
    "start_time": "2022-07-14T10:10:50.387Z"
   },
   {
    "duration": 56,
    "start_time": "2022-07-14T10:11:21.190Z"
   },
   {
    "duration": 33,
    "start_time": "2022-07-14T10:11:21.248Z"
   },
   {
    "duration": 16,
    "start_time": "2022-07-14T10:11:21.283Z"
   },
   {
    "duration": 15,
    "start_time": "2022-07-14T10:11:21.324Z"
   },
   {
    "duration": 52,
    "start_time": "2022-07-14T10:11:21.341Z"
   },
   {
    "duration": 22750,
    "start_time": "2022-07-14T10:11:21.394Z"
   },
   {
    "duration": 24,
    "start_time": "2022-07-14T10:11:44.146Z"
   },
   {
    "duration": 24038,
    "start_time": "2022-07-14T10:11:44.171Z"
   },
   {
    "duration": 33,
    "start_time": "2022-07-14T10:12:08.211Z"
   },
   {
    "duration": 39,
    "start_time": "2022-07-14T10:12:08.246Z"
   },
   {
    "duration": 70,
    "start_time": "2022-07-14T10:12:08.288Z"
   },
   {
    "duration": 23497,
    "start_time": "2022-07-14T10:12:08.359Z"
   },
   {
    "duration": 22,
    "start_time": "2022-07-14T10:12:31.858Z"
   },
   {
    "duration": 27,
    "start_time": "2022-07-14T10:12:31.881Z"
   },
   {
    "duration": 19,
    "start_time": "2022-07-14T10:12:31.910Z"
   },
   {
    "duration": 9,
    "start_time": "2022-07-14T10:12:31.931Z"
   },
   {
    "duration": 21,
    "start_time": "2022-07-14T10:12:31.942Z"
   },
   {
    "duration": 11,
    "start_time": "2022-07-14T10:12:31.964Z"
   },
   {
    "duration": 57,
    "start_time": "2022-07-14T10:12:31.976Z"
   },
   {
    "duration": 75,
    "start_time": "2022-07-14T10:12:32.035Z"
   },
   {
    "duration": 26695,
    "start_time": "2022-07-14T10:12:32.111Z"
   },
   {
    "duration": 27,
    "start_time": "2022-07-14T10:12:58.808Z"
   },
   {
    "duration": 34,
    "start_time": "2022-07-14T10:12:58.836Z"
   },
   {
    "duration": 24,
    "start_time": "2022-07-14T10:12:58.872Z"
   },
   {
    "duration": 42,
    "start_time": "2022-07-14T10:12:58.898Z"
   },
   {
    "duration": 44,
    "start_time": "2022-07-14T10:12:58.942Z"
   },
   {
    "duration": 16,
    "start_time": "2022-07-14T10:12:58.988Z"
   },
   {
    "duration": 36,
    "start_time": "2022-07-14T10:12:59.006Z"
   },
   {
    "duration": 2,
    "start_time": "2022-07-14T10:12:59.044Z"
   },
   {
    "duration": 35,
    "start_time": "2022-07-14T10:12:59.048Z"
   },
   {
    "duration": 15,
    "start_time": "2022-07-14T10:12:59.085Z"
   },
   {
    "duration": 35,
    "start_time": "2022-07-14T10:12:59.123Z"
   },
   {
    "duration": 35,
    "start_time": "2022-07-14T10:12:59.159Z"
   },
   {
    "duration": 199,
    "start_time": "2022-07-14T10:12:59.195Z"
   },
   {
    "duration": 315,
    "start_time": "2022-07-14T10:12:59.395Z"
   },
   {
    "duration": 18,
    "start_time": "2022-07-14T10:12:59.712Z"
   },
   {
    "duration": 158,
    "start_time": "2022-07-14T10:12:59.731Z"
   },
   {
    "duration": 164,
    "start_time": "2022-07-14T10:12:59.891Z"
   },
   {
    "duration": 698,
    "start_time": "2022-07-14T10:13:00.057Z"
   },
   {
    "duration": 331,
    "start_time": "2022-07-14T10:13:00.757Z"
   },
   {
    "duration": 2935,
    "start_time": "2022-07-14T10:13:01.090Z"
   },
   {
    "duration": 9,
    "start_time": "2022-07-14T10:13:04.027Z"
   },
   {
    "duration": 23589,
    "start_time": "2022-07-14T10:13:04.037Z"
   },
   {
    "duration": 94,
    "start_time": "2022-07-14T10:13:27.630Z"
   },
   {
    "duration": 41102,
    "start_time": "2022-07-14T10:13:27.726Z"
   },
   {
    "duration": 4,
    "start_time": "2022-07-14T10:14:08.830Z"
   },
   {
    "duration": 19,
    "start_time": "2022-07-14T10:14:08.836Z"
   },
   {
    "duration": 2213,
    "start_time": "2022-07-14T13:43:56.559Z"
   },
   {
    "duration": 3,
    "start_time": "2022-07-14T13:43:58.774Z"
   },
   {
    "duration": 1104,
    "start_time": "2022-07-14T13:43:58.779Z"
   },
   {
    "duration": 36,
    "start_time": "2022-07-14T13:43:59.885Z"
   },
   {
    "duration": 121,
    "start_time": "2022-07-14T13:43:59.923Z"
   },
   {
    "duration": 110,
    "start_time": "2022-07-14T13:44:00.046Z"
   },
   {
    "duration": 3,
    "start_time": "2022-07-14T13:44:00.158Z"
   },
   {
    "duration": 99,
    "start_time": "2022-07-14T13:44:00.163Z"
   },
   {
    "duration": 923,
    "start_time": "2022-07-14T13:44:00.264Z"
   },
   {
    "duration": 148,
    "start_time": "2022-07-14T13:44:01.190Z"
   },
   {
    "duration": 909,
    "start_time": "2022-07-14T13:44:01.339Z"
   },
   {
    "duration": 16,
    "start_time": "2022-07-14T13:44:02.250Z"
   },
   {
    "duration": 519,
    "start_time": "2022-07-14T13:44:02.269Z"
   },
   {
    "duration": 60,
    "start_time": "2022-07-14T13:44:02.789Z"
   },
   {
    "duration": 6,
    "start_time": "2022-07-14T13:44:02.851Z"
   },
   {
    "duration": 26461,
    "start_time": "2022-07-14T13:44:02.859Z"
   },
   {
    "duration": 17,
    "start_time": "2022-07-14T13:44:29.324Z"
   },
   {
    "duration": 40,
    "start_time": "2022-07-14T13:44:29.343Z"
   },
   {
    "duration": 71,
    "start_time": "2022-07-14T13:44:29.385Z"
   },
   {
    "duration": 6,
    "start_time": "2022-07-14T13:44:29.458Z"
   },
   {
    "duration": 1636,
    "start_time": "2022-07-14T13:45:00.088Z"
   },
   {
    "duration": 3,
    "start_time": "2022-07-14T13:45:01.727Z"
   },
   {
    "duration": 690,
    "start_time": "2022-07-14T13:45:01.734Z"
   },
   {
    "duration": 27,
    "start_time": "2022-07-14T13:45:02.426Z"
   },
   {
    "duration": 160,
    "start_time": "2022-07-14T13:45:02.454Z"
   },
   {
    "duration": 107,
    "start_time": "2022-07-14T13:45:02.616Z"
   },
   {
    "duration": 5,
    "start_time": "2022-07-14T13:45:02.725Z"
   },
   {
    "duration": 146,
    "start_time": "2022-07-14T13:45:02.733Z"
   },
   {
    "duration": 876,
    "start_time": "2022-07-14T13:45:02.881Z"
   },
   {
    "duration": 163,
    "start_time": "2022-07-14T13:45:03.760Z"
   },
   {
    "duration": 996,
    "start_time": "2022-07-14T13:45:03.925Z"
   },
   {
    "duration": 16,
    "start_time": "2022-07-14T13:45:04.923Z"
   },
   {
    "duration": 572,
    "start_time": "2022-07-14T13:45:04.941Z"
   },
   {
    "duration": 55,
    "start_time": "2022-07-14T13:45:05.515Z"
   },
   {
    "duration": 8,
    "start_time": "2022-07-14T13:45:05.573Z"
   },
   {
    "duration": 26812,
    "start_time": "2022-07-14T13:45:05.587Z"
   },
   {
    "duration": 22,
    "start_time": "2022-07-14T13:45:32.400Z"
   },
   {
    "duration": 36,
    "start_time": "2022-07-14T13:45:32.424Z"
   },
   {
    "duration": 60,
    "start_time": "2022-07-14T13:45:32.461Z"
   },
   {
    "duration": 7,
    "start_time": "2022-07-14T13:45:32.523Z"
   },
   {
    "duration": 29404,
    "start_time": "2022-07-14T13:45:32.532Z"
   },
   {
    "duration": 37,
    "start_time": "2022-07-14T13:46:01.937Z"
   },
   {
    "duration": 51,
    "start_time": "2022-07-14T13:46:01.976Z"
   },
   {
    "duration": 43,
    "start_time": "2022-07-14T13:46:02.029Z"
   },
   {
    "duration": 49,
    "start_time": "2022-07-14T13:46:02.074Z"
   },
   {
    "duration": 24800,
    "start_time": "2022-07-14T13:46:02.126Z"
   },
   {
    "duration": 9,
    "start_time": "2022-07-14T13:46:26.928Z"
   },
   {
    "duration": 28,
    "start_time": "2022-07-14T13:46:26.942Z"
   },
   {
    "duration": 67,
    "start_time": "2022-07-14T13:46:26.971Z"
   },
   {
    "duration": 29230,
    "start_time": "2022-07-14T13:46:27.040Z"
   },
   {
    "duration": 57,
    "start_time": "2022-07-14T13:46:56.272Z"
   },
   {
    "duration": 44,
    "start_time": "2022-07-14T13:46:56.331Z"
   },
   {
    "duration": 41,
    "start_time": "2022-07-14T13:46:56.377Z"
   },
   {
    "duration": 14,
    "start_time": "2022-07-14T13:46:56.420Z"
   },
   {
    "duration": 33,
    "start_time": "2022-07-14T13:46:56.436Z"
   },
   {
    "duration": 22077,
    "start_time": "2022-07-14T13:46:56.471Z"
   },
   {
    "duration": 29,
    "start_time": "2022-07-14T13:47:18.549Z"
   },
   {
    "duration": 24236,
    "start_time": "2022-07-14T13:47:18.579Z"
   },
   {
    "duration": 29,
    "start_time": "2022-07-14T13:47:42.821Z"
   },
   {
    "duration": 61,
    "start_time": "2022-07-14T13:47:42.852Z"
   },
   {
    "duration": 65,
    "start_time": "2022-07-14T13:47:42.917Z"
   },
   {
    "duration": 22941,
    "start_time": "2022-07-14T13:47:42.985Z"
   },
   {
    "duration": 27,
    "start_time": "2022-07-14T13:48:05.928Z"
   },
   {
    "duration": 20,
    "start_time": "2022-07-14T13:48:05.957Z"
   },
   {
    "duration": 37,
    "start_time": "2022-07-14T13:48:05.979Z"
   },
   {
    "duration": 23,
    "start_time": "2022-07-14T13:48:06.023Z"
   },
   {
    "duration": 24,
    "start_time": "2022-07-14T13:48:06.048Z"
   },
   {
    "duration": 10,
    "start_time": "2022-07-14T13:48:06.074Z"
   },
   {
    "duration": 66,
    "start_time": "2022-07-14T13:48:06.085Z"
   },
   {
    "duration": 45,
    "start_time": "2022-07-14T13:48:06.153Z"
   },
   {
    "duration": 25861,
    "start_time": "2022-07-14T13:48:06.199Z"
   },
   {
    "duration": 17,
    "start_time": "2022-07-14T13:48:32.062Z"
   },
   {
    "duration": 50,
    "start_time": "2022-07-14T13:48:32.081Z"
   },
   {
    "duration": 18,
    "start_time": "2022-07-14T13:48:32.133Z"
   },
   {
    "duration": 34,
    "start_time": "2022-07-14T13:48:32.153Z"
   },
   {
    "duration": 69,
    "start_time": "2022-07-14T13:48:32.204Z"
   },
   {
    "duration": 32,
    "start_time": "2022-07-14T13:48:32.274Z"
   },
   {
    "duration": 45,
    "start_time": "2022-07-14T13:48:32.307Z"
   },
   {
    "duration": 4,
    "start_time": "2022-07-14T13:48:32.354Z"
   },
   {
    "duration": 58,
    "start_time": "2022-07-14T13:48:32.360Z"
   },
   {
    "duration": 32,
    "start_time": "2022-07-14T13:48:32.419Z"
   },
   {
    "duration": 38,
    "start_time": "2022-07-14T13:48:32.453Z"
   },
   {
    "duration": 81,
    "start_time": "2022-07-14T13:48:32.494Z"
   },
   {
    "duration": 220,
    "start_time": "2022-07-14T13:48:32.577Z"
   },
   {
    "duration": 313,
    "start_time": "2022-07-14T13:48:32.802Z"
   },
   {
    "duration": 15,
    "start_time": "2022-07-14T13:48:33.117Z"
   },
   {
    "duration": 158,
    "start_time": "2022-07-14T13:48:33.134Z"
   },
   {
    "duration": 174,
    "start_time": "2022-07-14T13:48:33.294Z"
   },
   {
    "duration": 769,
    "start_time": "2022-07-14T13:48:33.470Z"
   },
   {
    "duration": 1078,
    "start_time": "2022-07-14T13:48:34.241Z"
   },
   {
    "duration": 4453,
    "start_time": "2022-07-14T13:48:35.334Z"
   },
   {
    "duration": 27,
    "start_time": "2022-07-14T13:48:39.789Z"
   },
   {
    "duration": 54403,
    "start_time": "2022-07-14T13:48:39.818Z"
   },
   {
    "duration": 80,
    "start_time": "2022-07-14T13:49:34.226Z"
   },
   {
    "duration": 353210,
    "start_time": "2022-07-14T13:49:34.308Z"
   },
   {
    "duration": 4,
    "start_time": "2022-07-14T13:55:27.521Z"
   },
   {
    "duration": 17,
    "start_time": "2022-07-14T13:55:27.527Z"
   },
   {
    "duration": 193864,
    "start_time": "2022-07-14T13:55:27.548Z"
   },
   {
    "duration": 2,
    "start_time": "2022-07-14T13:58:41.414Z"
   },
   {
    "duration": 3502484,
    "start_time": "2022-07-14T13:58:41.418Z"
   },
   {
    "duration": 6,
    "start_time": "2022-07-14T14:57:03.904Z"
   },
   {
    "duration": 35,
    "start_time": "2022-07-14T14:57:03.917Z"
   },
   {
    "duration": 326780,
    "start_time": "2022-07-14T14:57:03.953Z"
   },
   {
    "duration": 15,
    "start_time": "2022-07-14T15:02:30.735Z"
   },
   {
    "duration": 267,
    "start_time": "2022-07-14T15:02:30.752Z"
   },
   {
    "duration": 128,
    "start_time": "2022-07-14T15:02:31.021Z"
   },
   {
    "duration": 0,
    "start_time": "2022-07-14T15:02:31.151Z"
   },
   {
    "duration": 9,
    "start_time": "2022-07-14T16:25:00.229Z"
   },
   {
    "duration": 82,
    "start_time": "2022-07-14T16:25:07.954Z"
   },
   {
    "duration": 9,
    "start_time": "2022-07-14T16:25:13.941Z"
   },
   {
    "duration": 17,
    "start_time": "2022-07-14T16:25:21.296Z"
   },
   {
    "duration": 6,
    "start_time": "2022-07-14T16:25:36.619Z"
   },
   {
    "duration": 5,
    "start_time": "2022-07-14T16:26:12.724Z"
   },
   {
    "duration": 233,
    "start_time": "2022-07-14T16:26:20.821Z"
   },
   {
    "duration": 3,
    "start_time": "2022-07-14T16:26:51.864Z"
   },
   {
    "duration": 617926,
    "start_time": "2022-07-14T16:26:55.650Z"
   },
   {
    "duration": 3,
    "start_time": "2022-07-14T16:37:13.578Z"
   },
   {
    "duration": 265250,
    "start_time": "2022-07-14T16:37:13.582Z"
   },
   {
    "duration": 10,
    "start_time": "2022-07-14T16:41:38.835Z"
   },
   {
    "duration": 10,
    "start_time": "2022-07-14T17:36:59.190Z"
   },
   {
    "duration": 250,
    "start_time": "2022-07-14T17:37:16.734Z"
   },
   {
    "duration": 6,
    "start_time": "2022-07-14T17:37:23.653Z"
   },
   {
    "duration": 285,
    "start_time": "2022-07-14T17:37:24.270Z"
   },
   {
    "duration": 1700,
    "start_time": "2022-07-21T10:46:55.652Z"
   },
   {
    "duration": 2,
    "start_time": "2022-07-21T10:46:57.354Z"
   },
   {
    "duration": 2626,
    "start_time": "2022-07-21T10:46:57.358Z"
   },
   {
    "duration": 29,
    "start_time": "2022-07-21T10:46:59.986Z"
   },
   {
    "duration": 118,
    "start_time": "2022-07-21T10:47:00.016Z"
   },
   {
    "duration": 116,
    "start_time": "2022-07-21T10:47:00.137Z"
   },
   {
    "duration": 3,
    "start_time": "2022-07-21T10:47:00.255Z"
   },
   {
    "duration": 90,
    "start_time": "2022-07-21T10:47:00.259Z"
   },
   {
    "duration": 827,
    "start_time": "2022-07-21T10:47:00.350Z"
   },
   {
    "duration": 107,
    "start_time": "2022-07-21T10:47:01.180Z"
   },
   {
    "duration": 807,
    "start_time": "2022-07-21T10:47:01.298Z"
   },
   {
    "duration": 17,
    "start_time": "2022-07-21T10:47:02.106Z"
   },
   {
    "duration": 462,
    "start_time": "2022-07-21T10:47:02.124Z"
   },
   {
    "duration": 39,
    "start_time": "2022-07-21T10:47:02.588Z"
   },
   {
    "duration": 5,
    "start_time": "2022-07-21T10:47:02.628Z"
   },
   {
    "duration": 24648,
    "start_time": "2022-07-21T10:47:02.635Z"
   },
   {
    "duration": 26,
    "start_time": "2022-07-21T10:47:27.285Z"
   },
   {
    "duration": 31,
    "start_time": "2022-07-21T10:47:27.312Z"
   },
   {
    "duration": 54,
    "start_time": "2022-07-21T10:47:27.345Z"
   },
   {
    "duration": 7,
    "start_time": "2022-07-21T10:47:27.401Z"
   },
   {
    "duration": 26976,
    "start_time": "2022-07-21T10:47:27.409Z"
   },
   {
    "duration": 40,
    "start_time": "2022-07-21T10:47:54.386Z"
   },
   {
    "duration": 35,
    "start_time": "2022-07-21T10:47:54.428Z"
   },
   {
    "duration": 43,
    "start_time": "2022-07-21T10:47:54.464Z"
   },
   {
    "duration": 36,
    "start_time": "2022-07-21T10:47:54.508Z"
   },
   {
    "duration": 22617,
    "start_time": "2022-07-21T10:47:54.546Z"
   },
   {
    "duration": 10,
    "start_time": "2022-07-21T10:48:17.165Z"
   },
   {
    "duration": 44,
    "start_time": "2022-07-21T10:48:17.181Z"
   },
   {
    "duration": 40,
    "start_time": "2022-07-21T10:48:17.226Z"
   },
   {
    "duration": 24811,
    "start_time": "2022-07-21T10:48:17.268Z"
   },
   {
    "duration": 34,
    "start_time": "2022-07-21T10:48:42.081Z"
   },
   {
    "duration": 31,
    "start_time": "2022-07-21T10:48:42.117Z"
   },
   {
    "duration": 16,
    "start_time": "2022-07-21T10:48:42.150Z"
   },
   {
    "duration": 40,
    "start_time": "2022-07-21T10:48:42.168Z"
   },
   {
    "duration": 29,
    "start_time": "2022-07-21T10:48:42.210Z"
   },
   {
    "duration": 19955,
    "start_time": "2022-07-21T10:48:42.241Z"
   },
   {
    "duration": 25,
    "start_time": "2022-07-21T10:49:02.198Z"
   },
   {
    "duration": 22712,
    "start_time": "2022-07-21T10:49:02.225Z"
   },
   {
    "duration": 24,
    "start_time": "2022-07-21T10:49:24.939Z"
   },
   {
    "duration": 44,
    "start_time": "2022-07-21T10:49:24.965Z"
   },
   {
    "duration": 42,
    "start_time": "2022-07-21T10:49:25.011Z"
   },
   {
    "duration": 20587,
    "start_time": "2022-07-21T10:49:25.055Z"
   },
   {
    "duration": 17,
    "start_time": "2022-07-21T10:49:45.644Z"
   },
   {
    "duration": 16,
    "start_time": "2022-07-21T10:49:45.663Z"
   },
   {
    "duration": 24,
    "start_time": "2022-07-21T10:49:45.681Z"
   },
   {
    "duration": 9,
    "start_time": "2022-07-21T10:49:45.707Z"
   },
   {
    "duration": 17,
    "start_time": "2022-07-21T10:49:45.718Z"
   },
   {
    "duration": 9,
    "start_time": "2022-07-21T10:49:45.736Z"
   },
   {
    "duration": 59,
    "start_time": "2022-07-21T10:49:45.746Z"
   },
   {
    "duration": 41,
    "start_time": "2022-07-21T10:49:45.806Z"
   },
   {
    "duration": 23621,
    "start_time": "2022-07-21T10:49:45.848Z"
   },
   {
    "duration": 28,
    "start_time": "2022-07-21T10:50:09.471Z"
   },
   {
    "duration": 41,
    "start_time": "2022-07-21T10:50:09.501Z"
   },
   {
    "duration": 19,
    "start_time": "2022-07-21T10:50:09.543Z"
   },
   {
    "duration": 25,
    "start_time": "2022-07-21T10:50:09.564Z"
   },
   {
    "duration": 48,
    "start_time": "2022-07-21T10:50:09.598Z"
   },
   {
    "duration": 15,
    "start_time": "2022-07-21T10:50:09.647Z"
   },
   {
    "duration": 35,
    "start_time": "2022-07-21T10:50:09.664Z"
   },
   {
    "duration": 27,
    "start_time": "2022-07-21T10:50:09.701Z"
   },
   {
    "duration": 13,
    "start_time": "2022-07-21T10:50:09.730Z"
   },
   {
    "duration": 53,
    "start_time": "2022-07-21T10:50:09.745Z"
   },
   {
    "duration": 21,
    "start_time": "2022-07-21T10:50:09.800Z"
   },
   {
    "duration": 219,
    "start_time": "2022-07-21T10:50:09.823Z"
   },
   {
    "duration": 324,
    "start_time": "2022-07-21T10:50:10.044Z"
   },
   {
    "duration": 14,
    "start_time": "2022-07-21T10:50:10.370Z"
   },
   {
    "duration": 149,
    "start_time": "2022-07-21T10:50:10.386Z"
   },
   {
    "duration": 161,
    "start_time": "2022-07-21T10:50:10.536Z"
   },
   {
    "duration": 720,
    "start_time": "2022-07-21T10:50:10.699Z"
   },
   {
    "duration": 404,
    "start_time": "2022-07-21T10:50:11.421Z"
   },
   {
    "duration": 121,
    "start_time": "2022-07-21T10:50:11.827Z"
   },
   {
    "duration": 70,
    "start_time": "2022-07-21T10:50:11.950Z"
   },
   {
    "duration": 267,
    "start_time": "2022-07-21T10:50:12.022Z"
   },
   {
    "duration": 8,
    "start_time": "2022-07-21T10:50:12.291Z"
   },
   {
    "duration": 12,
    "start_time": "2022-07-21T10:50:12.301Z"
   },
   {
    "duration": 25690,
    "start_time": "2022-07-21T10:50:12.314Z"
   },
   {
    "duration": 93,
    "start_time": "2022-07-21T10:50:38.006Z"
   },
   {
    "duration": 10509,
    "start_time": "2022-07-21T10:50:38.101Z"
   },
   {
    "duration": 87,
    "start_time": "2022-07-21T10:50:48.611Z"
   },
   {
    "duration": 115,
    "start_time": "2022-07-21T10:55:24.255Z"
   },
   {
    "duration": 5,
    "start_time": "2022-07-21T10:56:06.372Z"
   },
   {
    "duration": 810339,
    "start_time": "2022-07-21T10:56:12.061Z"
   },
   {
    "duration": 23,
    "start_time": "2022-07-21T11:09:42.402Z"
   },
   {
    "duration": 103,
    "start_time": "2022-07-21T11:09:42.427Z"
   },
   {
    "duration": 3,
    "start_time": "2022-07-21T11:09:42.532Z"
   },
   {
    "duration": 21804261,
    "start_time": "2022-07-21T11:09:42.536Z"
   },
   {
    "duration": 84,
    "start_time": "2022-07-21T17:13:06.799Z"
   },
   {
    "duration": 25,
    "start_time": "2022-07-21T17:13:06.885Z"
   },
   {
    "duration": 2195,
    "start_time": "2022-07-21T17:13:06.912Z"
   },
   {
    "duration": 22,
    "start_time": "2022-07-21T17:13:09.109Z"
   },
   {
    "duration": 2686,
    "start_time": "2022-07-22T09:53:51.707Z"
   },
   {
    "duration": 19,
    "start_time": "2022-07-22T09:54:03.061Z"
   },
   {
    "duration": 3,
    "start_time": "2022-07-22T09:54:13.614Z"
   },
   {
    "duration": 120,
    "start_time": "2022-07-22T09:54:15.895Z"
   },
   {
    "duration": 1997094,
    "start_time": "2022-07-22T09:54:20.815Z"
   },
   {
    "duration": 46,
    "start_time": "2022-07-22T10:27:37.911Z"
   },
   {
    "duration": 168,
    "start_time": "2022-07-22T10:27:51.523Z"
   },
   {
    "duration": 14,
    "start_time": "2022-07-22T10:27:58.992Z"
   },
   {
    "duration": 31,
    "start_time": "2022-07-22T10:28:16.641Z"
   },
   {
    "duration": 32,
    "start_time": "2022-07-22T10:29:32.491Z"
   },
   {
    "duration": 99,
    "start_time": "2022-07-22T10:42:37.603Z"
   },
   {
    "duration": 1858,
    "start_time": "2022-07-22T11:00:47.992Z"
   },
   {
    "duration": 3,
    "start_time": "2022-07-22T11:00:49.852Z"
   },
   {
    "duration": 1096,
    "start_time": "2022-07-22T11:00:49.856Z"
   },
   {
    "duration": 27,
    "start_time": "2022-07-22T11:00:50.955Z"
   },
   {
    "duration": 158,
    "start_time": "2022-07-22T11:00:50.983Z"
   },
   {
    "duration": 110,
    "start_time": "2022-07-22T11:00:51.143Z"
   },
   {
    "duration": 3,
    "start_time": "2022-07-22T11:00:51.256Z"
   },
   {
    "duration": 97,
    "start_time": "2022-07-22T11:00:51.261Z"
   },
   {
    "duration": 949,
    "start_time": "2022-07-22T11:00:51.360Z"
   },
   {
    "duration": 117,
    "start_time": "2022-07-22T11:00:52.321Z"
   },
   {
    "duration": 925,
    "start_time": "2022-07-22T11:00:52.439Z"
   },
   {
    "duration": 20,
    "start_time": "2022-07-22T11:00:53.366Z"
   },
   {
    "duration": 523,
    "start_time": "2022-07-22T11:00:53.388Z"
   },
   {
    "duration": 46,
    "start_time": "2022-07-22T11:00:53.913Z"
   },
   {
    "duration": 7,
    "start_time": "2022-07-22T11:00:53.961Z"
   },
   {
    "duration": 31279,
    "start_time": "2022-07-22T11:00:53.970Z"
   },
   {
    "duration": 19,
    "start_time": "2022-07-22T11:01:25.252Z"
   },
   {
    "duration": 45,
    "start_time": "2022-07-22T11:01:25.272Z"
   },
   {
    "duration": 76,
    "start_time": "2022-07-22T11:01:25.322Z"
   },
   {
    "duration": 8,
    "start_time": "2022-07-22T11:01:25.400Z"
   },
   {
    "duration": 39446,
    "start_time": "2022-07-22T11:01:25.410Z"
   },
   {
    "duration": 51,
    "start_time": "2022-07-22T11:02:04.858Z"
   },
   {
    "duration": 60,
    "start_time": "2022-07-22T11:02:04.911Z"
   },
   {
    "duration": 18,
    "start_time": "2022-07-22T11:02:04.972Z"
   },
   {
    "duration": 64,
    "start_time": "2022-07-22T11:02:04.991Z"
   },
   {
    "duration": 28206,
    "start_time": "2022-07-22T11:02:05.057Z"
   },
   {
    "duration": 10,
    "start_time": "2022-07-22T11:02:33.264Z"
   },
   {
    "duration": 68,
    "start_time": "2022-07-22T11:02:33.279Z"
   },
   {
    "duration": 52,
    "start_time": "2022-07-22T11:02:33.349Z"
   },
   {
    "duration": 34423,
    "start_time": "2022-07-22T11:02:33.403Z"
   },
   {
    "duration": 50,
    "start_time": "2022-07-22T11:03:07.833Z"
   },
   {
    "duration": 56,
    "start_time": "2022-07-22T11:03:07.885Z"
   },
   {
    "duration": 20,
    "start_time": "2022-07-22T11:03:07.943Z"
   },
   {
    "duration": 17,
    "start_time": "2022-07-22T11:03:07.966Z"
   },
   {
    "duration": 60,
    "start_time": "2022-07-22T11:03:07.986Z"
   },
   {
    "duration": 28359,
    "start_time": "2022-07-22T11:03:08.049Z"
   },
   {
    "duration": 46,
    "start_time": "2022-07-22T11:03:36.410Z"
   },
   {
    "duration": 28008,
    "start_time": "2022-07-22T11:03:36.459Z"
   },
   {
    "duration": 33,
    "start_time": "2022-07-22T11:04:04.470Z"
   },
   {
    "duration": 64,
    "start_time": "2022-07-22T11:04:04.509Z"
   },
   {
    "duration": 91,
    "start_time": "2022-07-22T11:04:04.575Z"
   },
   {
    "duration": 26994,
    "start_time": "2022-07-22T11:04:04.667Z"
   },
   {
    "duration": 23,
    "start_time": "2022-07-22T11:04:31.663Z"
   },
   {
    "duration": 43,
    "start_time": "2022-07-22T11:04:31.688Z"
   },
   {
    "duration": 13,
    "start_time": "2022-07-22T11:04:31.734Z"
   },
   {
    "duration": 21,
    "start_time": "2022-07-22T11:04:31.749Z"
   },
   {
    "duration": 26,
    "start_time": "2022-07-22T11:04:31.773Z"
   },
   {
    "duration": 10,
    "start_time": "2022-07-22T11:04:31.801Z"
   },
   {
    "duration": 46,
    "start_time": "2022-07-22T11:04:31.812Z"
   },
   {
    "duration": 53,
    "start_time": "2022-07-22T11:04:31.860Z"
   },
   {
    "duration": 31742,
    "start_time": "2022-07-22T11:04:31.914Z"
   },
   {
    "duration": 25,
    "start_time": "2022-07-22T11:05:03.658Z"
   },
   {
    "duration": 61,
    "start_time": "2022-07-22T11:05:03.685Z"
   },
   {
    "duration": 30,
    "start_time": "2022-07-22T11:05:03.748Z"
   },
   {
    "duration": 47,
    "start_time": "2022-07-22T11:05:03.780Z"
   },
   {
    "duration": 52,
    "start_time": "2022-07-22T11:05:03.832Z"
   },
   {
    "duration": 20,
    "start_time": "2022-07-22T11:05:03.885Z"
   },
   {
    "duration": 49,
    "start_time": "2022-07-22T11:05:03.906Z"
   },
   {
    "duration": 37,
    "start_time": "2022-07-22T11:05:03.958Z"
   },
   {
    "duration": 39,
    "start_time": "2022-07-22T11:05:03.996Z"
   },
   {
    "duration": 30,
    "start_time": "2022-07-22T11:05:04.037Z"
   },
   {
    "duration": 27,
    "start_time": "2022-07-22T11:05:04.069Z"
   },
   {
    "duration": 273,
    "start_time": "2022-07-22T11:05:04.098Z"
   },
   {
    "duration": 472,
    "start_time": "2022-07-22T11:05:04.373Z"
   },
   {
    "duration": 21,
    "start_time": "2022-07-22T11:05:04.847Z"
   },
   {
    "duration": 212,
    "start_time": "2022-07-22T11:05:04.871Z"
   },
   {
    "duration": 195,
    "start_time": "2022-07-22T11:05:05.084Z"
   },
   {
    "duration": 943,
    "start_time": "2022-07-22T11:05:05.281Z"
   },
   {
    "duration": 440,
    "start_time": "2022-07-22T11:05:06.234Z"
   },
   {
    "duration": 143,
    "start_time": "2022-07-22T11:05:06.676Z"
   },
   {
    "duration": 84,
    "start_time": "2022-07-22T11:05:06.825Z"
   },
   {
    "duration": 300,
    "start_time": "2022-07-22T11:05:06.911Z"
   },
   {
    "duration": 8,
    "start_time": "2022-07-22T11:05:07.213Z"
   },
   {
    "duration": 58,
    "start_time": "2022-07-22T11:05:07.223Z"
   },
   {
    "duration": 84743,
    "start_time": "2022-07-22T11:05:07.283Z"
   },
   {
    "duration": 8,
    "start_time": "2022-07-22T11:06:32.036Z"
   },
   {
    "duration": 15933277,
    "start_time": "2022-07-22T11:06:32.051Z"
   },
   {
    "duration": 27,
    "start_time": "2022-07-22T15:32:05.330Z"
   },
   {
    "duration": 5,
    "start_time": "2022-07-22T15:32:05.359Z"
   },
   {
    "duration": 0,
    "start_time": "2022-07-22T15:32:05.366Z"
   },
   {
    "duration": 0,
    "start_time": "2022-07-22T15:32:05.367Z"
   },
   {
    "duration": 0,
    "start_time": "2022-07-22T15:32:05.369Z"
   },
   {
    "duration": 0,
    "start_time": "2022-07-22T15:32:05.370Z"
   },
   {
    "duration": 0,
    "start_time": "2022-07-22T15:32:05.372Z"
   },
   {
    "duration": 0,
    "start_time": "2022-07-22T15:32:05.373Z"
   },
   {
    "duration": 0,
    "start_time": "2022-07-22T15:32:05.374Z"
   },
   {
    "duration": 0,
    "start_time": "2022-07-22T15:32:05.375Z"
   },
   {
    "duration": 0,
    "start_time": "2022-07-22T15:32:05.376Z"
   },
   {
    "duration": 0,
    "start_time": "2022-07-22T15:32:05.377Z"
   },
   {
    "duration": 7,
    "start_time": "2022-07-23T12:08:21.909Z"
   },
   {
    "duration": 2353,
    "start_time": "2022-07-23T12:08:35.012Z"
   },
   {
    "duration": 5,
    "start_time": "2022-07-23T12:08:47.668Z"
   },
   {
    "duration": 24414529,
    "start_time": "2022-07-23T12:08:48.390Z"
   },
   {
    "duration": 16,
    "start_time": "2022-07-23T18:55:42.921Z"
   },
   {
    "duration": 0,
    "start_time": "2022-07-23T18:55:42.940Z"
   },
   {
    "duration": 0,
    "start_time": "2022-07-23T18:55:42.943Z"
   },
   {
    "duration": 0,
    "start_time": "2022-07-23T18:55:42.945Z"
   },
   {
    "duration": 0,
    "start_time": "2022-07-23T18:55:42.946Z"
   },
   {
    "duration": 1,
    "start_time": "2022-07-23T18:55:42.948Z"
   },
   {
    "duration": 3244,
    "start_time": "2022-07-25T09:05:33.838Z"
   },
   {
    "duration": 20,
    "start_time": "2022-07-25T09:05:37.084Z"
   },
   {
    "duration": 19,
    "start_time": "2022-07-25T09:05:37.106Z"
   },
   {
    "duration": 2186478,
    "start_time": "2022-07-25T09:05:37.128Z"
   },
   {
    "duration": 184,
    "start_time": "2022-07-25T09:42:03.607Z"
   },
   {
    "duration": 144,
    "start_time": "2022-07-25T09:42:03.793Z"
   },
   {
    "duration": 0,
    "start_time": "2022-07-25T09:42:03.939Z"
   },
   {
    "duration": 0,
    "start_time": "2022-07-25T09:42:03.940Z"
   },
   {
    "duration": 17,
    "start_time": "2022-07-25T09:48:08.791Z"
   },
   {
    "duration": 15,
    "start_time": "2022-07-25T09:48:17.554Z"
   },
   {
    "duration": 13,
    "start_time": "2022-07-25T09:48:27.448Z"
   },
   {
    "duration": 22,
    "start_time": "2022-07-25T09:49:19.008Z"
   },
   {
    "duration": 141,
    "start_time": "2022-07-25T09:50:05.283Z"
   },
   {
    "duration": 133,
    "start_time": "2022-07-25T09:50:13.083Z"
   },
   {
    "duration": 125,
    "start_time": "2022-07-25T09:50:40.491Z"
   },
   {
    "duration": 10,
    "start_time": "2022-07-25T09:50:48.479Z"
   },
   {
    "duration": 12,
    "start_time": "2022-07-25T09:51:02.213Z"
   },
   {
    "duration": 246,
    "start_time": "2022-07-25T09:51:05.660Z"
   },
   {
    "duration": 1019,
    "start_time": "2022-07-25T09:51:52.541Z"
   },
   {
    "duration": 207,
    "start_time": "2022-07-25T09:51:54.460Z"
   },
   {
    "duration": 13,
    "start_time": "2022-07-25T09:52:04.767Z"
   },
   {
    "duration": 255,
    "start_time": "2022-07-25T09:52:08.047Z"
   },
   {
    "duration": 11,
    "start_time": "2022-07-25T10:01:08.412Z"
   },
   {
    "duration": 11,
    "start_time": "2022-07-25T10:01:18.971Z"
   },
   {
    "duration": 2901,
    "start_time": "2022-07-25T10:01:34.366Z"
   },
   {
    "duration": 13,
    "start_time": "2022-07-25T10:01:48.195Z"
   },
   {
    "duration": 15,
    "start_time": "2022-07-25T10:02:10.802Z"
   },
   {
    "duration": 10,
    "start_time": "2022-07-25T10:05:40.732Z"
   },
   {
    "duration": 11,
    "start_time": "2022-07-25T10:05:47.780Z"
   },
   {
    "duration": 11,
    "start_time": "2022-07-25T10:05:55.593Z"
   },
   {
    "duration": 12,
    "start_time": "2022-07-25T10:10:23.667Z"
   }
  ],
  "kernelspec": {
   "display_name": "Python 3",
   "language": "python",
   "name": "python3"
  },
  "language_info": {
   "codemirror_mode": {
    "name": "ipython",
    "version": 3
   },
   "file_extension": ".py",
   "mimetype": "text/x-python",
   "name": "python",
   "nbconvert_exporter": "python",
   "pygments_lexer": "ipython3",
   "version": "3.8.5"
  },
  "toc": {
   "base_numbering": 1,
   "nav_menu": {},
   "number_sections": true,
   "sideBar": true,
   "skip_h1_title": true,
   "title_cell": "Table of Contents",
   "title_sidebar": "Contents",
   "toc_cell": false,
   "toc_position": {
    "height": "880px",
    "left": "23px",
    "top": "111.125px",
    "width": "165px"
   },
   "toc_section_display": true,
   "toc_window_display": true
  }
 },
 "nbformat": 4,
 "nbformat_minor": 2
}
