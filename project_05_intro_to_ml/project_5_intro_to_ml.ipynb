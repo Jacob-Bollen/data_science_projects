{
 "cells": [
  {
   "cell_type": "markdown",
   "metadata": {},
   "source": [
    "# Developing a model to recommend a new plan\n",
    "\n",
    "\n",
    "Mobile carrier Megaline has found out that many of their subscribers use legacy plans. They want to develop a model that would analyze subscribers' behavior and recommend one of Megaline's newer plans: Smart or Ultra.\n",
    "\n",
    "\n",
    "The dataset contains behavior data about subscribers who have already switched to the new plans. For this classification task, a model will be developed that will pick the right plan. The data preprocessing step has been performed previously, so the model selection step can now be performed."
   ]
  },
  {
   "cell_type": "code",
   "execution_count": 1,
   "metadata": {},
   "outputs": [],
   "source": [
    "#importing libraries\n",
    "import pandas as pd\n",
    "import numpy as np\n",
    "\n",
    "from sklearn.model_selection import train_test_split\n",
    "from sklearn.tree import DecisionTreeClassifier\n",
    "from sklearn.ensemble import RandomForestClassifier, AdaBoostClassifier\n",
    "from sklearn.naive_bayes import GaussianNB\n",
    "from sklearn.neighbors import KNeighborsClassifier\n",
    "from sklearn.gaussian_process import GaussianProcessClassifier\n",
    "\n",
    "from sklearn.metrics import accuracy_score, confusion_matrix"
   ]
  },
  {
   "cell_type": "markdown",
   "metadata": {},
   "source": [
    "## Preliminary Analysis\n",
    "\n",
    "Checking for any errata."
   ]
  },
  {
   "cell_type": "code",
   "execution_count": 2,
   "metadata": {},
   "outputs": [
    {
     "data": {
      "text/html": [
       "<div>\n",
       "<style scoped>\n",
       "    .dataframe tbody tr th:only-of-type {\n",
       "        vertical-align: middle;\n",
       "    }\n",
       "\n",
       "    .dataframe tbody tr th {\n",
       "        vertical-align: top;\n",
       "    }\n",
       "\n",
       "    .dataframe thead th {\n",
       "        text-align: right;\n",
       "    }\n",
       "</style>\n",
       "<table border=\"1\" class=\"dataframe\">\n",
       "  <thead>\n",
       "    <tr style=\"text-align: right;\">\n",
       "      <th></th>\n",
       "      <th>calls</th>\n",
       "      <th>minutes</th>\n",
       "      <th>messages</th>\n",
       "      <th>mb_used</th>\n",
       "      <th>is_ultra</th>\n",
       "    </tr>\n",
       "  </thead>\n",
       "  <tbody>\n",
       "    <tr>\n",
       "      <th>0</th>\n",
       "      <td>40.0</td>\n",
       "      <td>311.90</td>\n",
       "      <td>83.0</td>\n",
       "      <td>19915.42</td>\n",
       "      <td>0</td>\n",
       "    </tr>\n",
       "    <tr>\n",
       "      <th>1</th>\n",
       "      <td>85.0</td>\n",
       "      <td>516.75</td>\n",
       "      <td>56.0</td>\n",
       "      <td>22696.96</td>\n",
       "      <td>0</td>\n",
       "    </tr>\n",
       "    <tr>\n",
       "      <th>2</th>\n",
       "      <td>77.0</td>\n",
       "      <td>467.66</td>\n",
       "      <td>86.0</td>\n",
       "      <td>21060.45</td>\n",
       "      <td>0</td>\n",
       "    </tr>\n",
       "    <tr>\n",
       "      <th>3</th>\n",
       "      <td>106.0</td>\n",
       "      <td>745.53</td>\n",
       "      <td>81.0</td>\n",
       "      <td>8437.39</td>\n",
       "      <td>1</td>\n",
       "    </tr>\n",
       "    <tr>\n",
       "      <th>4</th>\n",
       "      <td>66.0</td>\n",
       "      <td>418.74</td>\n",
       "      <td>1.0</td>\n",
       "      <td>14502.75</td>\n",
       "      <td>0</td>\n",
       "    </tr>\n",
       "  </tbody>\n",
       "</table>\n",
       "</div>"
      ],
      "text/plain": [
       "   calls  minutes  messages   mb_used  is_ultra\n",
       "0   40.0   311.90      83.0  19915.42         0\n",
       "1   85.0   516.75      56.0  22696.96         0\n",
       "2   77.0   467.66      86.0  21060.45         0\n",
       "3  106.0   745.53      81.0   8437.39         1\n",
       "4   66.0   418.74       1.0  14502.75         0"
      ]
     },
     "execution_count": 2,
     "metadata": {},
     "output_type": "execute_result"
    }
   ],
   "source": [
    "#loading dataset\n",
    "df = pd.read_csv('/datasets/users_behavior.csv')\n",
    "df.head()"
   ]
  },
  {
   "cell_type": "code",
   "execution_count": 3,
   "metadata": {},
   "outputs": [
    {
     "name": "stdout",
     "output_type": "stream",
     "text": [
      "<class 'pandas.core.frame.DataFrame'>\n",
      "RangeIndex: 3214 entries, 0 to 3213\n",
      "Data columns (total 5 columns):\n",
      " #   Column    Non-Null Count  Dtype  \n",
      "---  ------    --------------  -----  \n",
      " 0   calls     3214 non-null   float64\n",
      " 1   minutes   3214 non-null   float64\n",
      " 2   messages  3214 non-null   float64\n",
      " 3   mb_used   3214 non-null   float64\n",
      " 4   is_ultra  3214 non-null   int64  \n",
      "dtypes: float64(4), int64(1)\n",
      "memory usage: 125.7 KB\n"
     ]
    }
   ],
   "source": [
    "#analysing features of dataset\n",
    "df.info()"
   ]
  },
  {
   "cell_type": "markdown",
   "metadata": {},
   "source": [
    "No columns appear to have missing values"
   ]
  },
  {
   "cell_type": "code",
   "execution_count": 4,
   "metadata": {
    "scrolled": true
   },
   "outputs": [
    {
     "name": "stdout",
     "output_type": "stream",
     "text": [
      "calls\n",
      "count    3214.000000\n",
      "mean       63.038892\n",
      "std        33.236368\n",
      "min         0.000000\n",
      "25%        40.000000\n",
      "50%        62.000000\n",
      "75%        82.000000\n",
      "max       244.000000\n",
      "Name: calls, dtype: float64\n",
      "\n",
      "    \n",
      "    \n",
      "    \n",
      "minutes\n",
      "count    3214.000000\n",
      "mean      438.208787\n",
      "std       234.569872\n",
      "min         0.000000\n",
      "25%       274.575000\n",
      "50%       430.600000\n",
      "75%       571.927500\n",
      "max      1632.060000\n",
      "Name: minutes, dtype: float64\n",
      "\n",
      "    \n",
      "    \n",
      "    \n",
      "messages\n",
      "count    3214.000000\n",
      "mean       38.281269\n",
      "std        36.148326\n",
      "min         0.000000\n",
      "25%         9.000000\n",
      "50%        30.000000\n",
      "75%        57.000000\n",
      "max       224.000000\n",
      "Name: messages, dtype: float64\n",
      "\n",
      "    \n",
      "    \n",
      "    \n",
      "mb_used\n",
      "count     3214.000000\n",
      "mean     17207.673836\n",
      "std       7570.968246\n",
      "min          0.000000\n",
      "25%      12491.902500\n",
      "50%      16943.235000\n",
      "75%      21424.700000\n",
      "max      49745.730000\n",
      "Name: mb_used, dtype: float64\n",
      "\n",
      "    \n",
      "    \n",
      "    \n",
      "is_ultra\n",
      "count    3214.000000\n",
      "mean        0.306472\n",
      "std         0.461100\n",
      "min         0.000000\n",
      "25%         0.000000\n",
      "50%         0.000000\n",
      "75%         1.000000\n",
      "max         1.000000\n",
      "Name: is_ultra, dtype: float64\n",
      "\n",
      "    \n",
      "    \n",
      "    \n"
     ]
    }
   ],
   "source": [
    "#checking details for each column\n",
    "for col in df.columns:\n",
    "    print(col)\n",
    "    print(df[col].describe())\n",
    "    print(\"\"\"\n",
    "    \n",
    "    \n",
    "    \"\"\")"
   ]
  },
  {
   "cell_type": "markdown",
   "metadata": {},
   "source": [
    "No columns appear to have any issues.\n",
    "\n",
    "We can split our data without any problems."
   ]
  },
  {
   "cell_type": "markdown",
   "metadata": {},
   "source": [
    "## Splitting the data\n",
    "\n",
    "The data will be split into 60% train, 20% validation and 20% test. "
   ]
  },
  {
   "cell_type": "code",
   "execution_count": 5,
   "metadata": {},
   "outputs": [],
   "source": [
    "#splitting data into train and validation\n",
    "\n",
    "features = df.drop('is_ultra', axis=1)\n",
    "target = df['is_ultra']\n",
    "\n",
    "features_train, features_valid, target_train, target_valid = train_test_split(\n",
    "    features, target, test_size=0.2, random_state=54321) "
   ]
  },
  {
   "cell_type": "code",
   "execution_count": 6,
   "metadata": {},
   "outputs": [],
   "source": [
    "#splitting off another 20% from train set for test set\n",
    "features_train, features_test, target_train, target_test = train_test_split(\n",
    "    features_train, target_train, test_size=0.25, random_state=54321) "
   ]
  },
  {
   "cell_type": "code",
   "execution_count": 7,
   "metadata": {},
   "outputs": [
    {
     "name": "stdout",
     "output_type": "stream",
     "text": [
      "(1928, 4)\n",
      "(643, 4)\n",
      "(643, 4)\n",
      "(1928,)\n",
      "(643,)\n",
      "(643,)\n"
     ]
    }
   ],
   "source": [
    "#checking correct split\n",
    "for i in [features_train, features_valid, features_test, target_train, target_valid, target_test]:\n",
    "    print(i.shape)"
   ]
  },
  {
   "cell_type": "markdown",
   "metadata": {},
   "source": [
    "The data is now split correctly, we can move on to testing our models."
   ]
  },
  {
   "cell_type": "markdown",
   "metadata": {},
   "source": [
    "## Testing models"
   ]
  },
  {
   "cell_type": "markdown",
   "metadata": {},
   "source": [
    "### Decision Tree Classifier"
   ]
  },
  {
   "cell_type": "markdown",
   "metadata": {},
   "source": [
    "Starting off with a simple Decision Tree Classifier.\n",
    "\n",
    "We can do a broad search initially by looping through different values for max_depth, before narrowing down our search."
   ]
  },
  {
   "cell_type": "code",
   "execution_count": 8,
   "metadata": {},
   "outputs": [
    {
     "name": "stdout",
     "output_type": "stream",
     "text": [
      "depth: 1, accuracy_score: 0.7231726283048211\n",
      "depth: 10, accuracy_score: 0.7573872472783826\n",
      "depth: 20, accuracy_score: 0.7216174183514774\n",
      "depth: 30, accuracy_score: 0.7153965785381027\n",
      "depth: 40, accuracy_score: 0.7153965785381027\n",
      "depth: 50, accuracy_score: 0.7153965785381027\n",
      "depth: 60, accuracy_score: 0.7153965785381027\n",
      "depth: 70, accuracy_score: 0.7153965785381027\n",
      "depth: 80, accuracy_score: 0.7153965785381027\n",
      "depth: 90, accuracy_score: 0.7153965785381027\n"
     ]
    }
   ],
   "source": [
    "#testing a broad max depths\n",
    "for depth in [1] + list(range(10,100, 10)):\n",
    "    model = DecisionTreeClassifier(max_depth = depth, random_state = 54321)\n",
    "    model.fit(features_train, target_train)\n",
    "    predictions = model.predict(features_valid)\n",
    "    acc = accuracy_score(target_valid, predictions)\n",
    "    \n",
    "    print(f'depth: {depth}, accuracy_score: {acc}')"
   ]
  },
  {
   "cell_type": "markdown",
   "metadata": {},
   "source": [
    "It appears there's no real change after a depth of 30 and that our optimal depth is somewhere between 2 and 19, let'd perform an exhaustive search between those limits."
   ]
  },
  {
   "cell_type": "code",
   "execution_count": 9,
   "metadata": {
    "scrolled": false
   },
   "outputs": [
    {
     "name": "stdout",
     "output_type": "stream",
     "text": [
      "Best DecisionTreeClassifier accuracy= 0.776049766718507, best depth = 7\n"
     ]
    }
   ],
   "source": [
    "#finding best depth\n",
    "best_acc = 0\n",
    "best_depth = 0\n",
    "for depth in list(range(2,20)):\n",
    "    model = DecisionTreeClassifier(max_depth = depth, random_state = 54321)\n",
    "    model.fit(features_train, target_train)\n",
    "    predictions = model.predict(features_valid)\n",
    "    acc = accuracy_score(target_valid, predictions)\n",
    "    if acc> best_acc:\n",
    "        best_depth = depth\n",
    "        best_acc = acc\n",
    "\n",
    "\n",
    "print(f'Best DecisionTreeClassifier accuracy= {best_acc}, best depth = {best_depth}')"
   ]
  },
  {
   "cell_type": "markdown",
   "metadata": {},
   "source": [
    "We now have a benchmark for accuracy: 0.776.\n",
    "\n",
    "Let's test some alternative models."
   ]
  },
  {
   "cell_type": "markdown",
   "metadata": {},
   "source": [
    "### RandomForestClassifier\n",
    "\n",
    "Again we'll start with a broad search of the number of estimators then narrow down our search."
   ]
  },
  {
   "cell_type": "code",
   "execution_count": 19,
   "metadata": {
    "scrolled": true
   },
   "outputs": [
    {
     "name": "stdout",
     "output_type": "stream",
     "text": [
      "n_estimators: 5, accuracy_score: 0.7511664074650077\n",
      "n_estimators: 10, accuracy_score: 0.7838258164852255\n",
      "n_estimators: 15, accuracy_score: 0.7853810264385692\n",
      "n_estimators: 20, accuracy_score: 0.7807153965785381\n",
      "n_estimators: 25, accuracy_score: 0.7822706065318819\n",
      "n_estimators: 30, accuracy_score: 0.7884914463452566\n",
      "n_estimators: 35, accuracy_score: 0.7947122861586314\n",
      "n_estimators: 40, accuracy_score: 0.7947122861586314\n",
      "n_estimators: 45, accuracy_score: 0.7869362363919129\n",
      "n_estimators: 50, accuracy_score: 0.7869362363919129\n",
      "n_estimators: 55, accuracy_score: 0.7916018662519441\n",
      "n_estimators: 60, accuracy_score: 0.7900466562986003\n",
      "n_estimators: 65, accuracy_score: 0.7884914463452566\n",
      "n_estimators: 70, accuracy_score: 0.7947122861586314\n",
      "n_estimators: 75, accuracy_score: 0.7931570762052877\n",
      "n_estimators: 80, accuracy_score: 0.7947122861586314\n",
      "n_estimators: 85, accuracy_score: 0.7962674961119751\n",
      "n_estimators: 90, accuracy_score: 0.7947122861586314\n",
      "n_estimators: 95, accuracy_score: 0.7900466562986003\n",
      "n_estimators: 100, accuracy_score: 0.7947122861586314\n",
      "n_estimators: 105, accuracy_score: 0.7947122861586314\n",
      "n_estimators: 110, accuracy_score: 0.7947122861586314\n",
      "n_estimators: 115, accuracy_score: 0.7947122861586314\n",
      "n_estimators: 120, accuracy_score: 0.7962674961119751\n",
      "n_estimators: 125, accuracy_score: 0.7931570762052877\n",
      "n_estimators: 130, accuracy_score: 0.7884914463452566\n",
      "n_estimators: 135, accuracy_score: 0.7900466562986003\n",
      "n_estimators: 140, accuracy_score: 0.7884914463452566\n",
      "n_estimators: 145, accuracy_score: 0.7900466562986003\n",
      "n_estimators: 150, accuracy_score: 0.7916018662519441\n",
      "n_estimators: 155, accuracy_score: 0.7884914463452566\n",
      "n_estimators: 160, accuracy_score: 0.7884914463452566\n",
      "n_estimators: 165, accuracy_score: 0.7884914463452566\n",
      "n_estimators: 170, accuracy_score: 0.7884914463452566\n",
      "n_estimators: 175, accuracy_score: 0.7853810264385692\n",
      "n_estimators: 180, accuracy_score: 0.7884914463452566\n",
      "n_estimators: 185, accuracy_score: 0.7916018662519441\n",
      "n_estimators: 190, accuracy_score: 0.7916018662519441\n",
      "n_estimators: 195, accuracy_score: 0.7884914463452566\n",
      "n_estimators: 200, accuracy_score: 0.7931570762052877\n"
     ]
    }
   ],
   "source": [
    "#testing broad number of estimators\n",
    "for est in list(range(5,201, 5)):\n",
    "    model = RandomForestClassifier(n_estimators = est, random_state = 54321)\n",
    "    model.fit(features_train, target_train)\n",
    "    predictions = model.predict(features_valid)\n",
    "    acc = accuracy_score(target_valid, predictions)\n",
    "    \n",
    "    print(f'n_estimators: {est}, accuracy_score: {acc}')"
   ]
  },
  {
   "cell_type": "markdown",
   "metadata": {},
   "source": [
    "There are a few different values for the number of estimators that give the same top accuracy score between 20 and 150, let's perform an exhaustive search between those limits."
   ]
  },
  {
   "cell_type": "code",
   "execution_count": 20,
   "metadata": {},
   "outputs": [
    {
     "name": "stdout",
     "output_type": "stream",
     "text": [
      "Best RandomForestClassifier accuracy= 0.8009331259720062, best n_estimators = 36\n"
     ]
    }
   ],
   "source": [
    "#finding optimal number of estimators\n",
    "best_est = 0\n",
    "best_acc = 0\n",
    "for est in list(range(20,150)):\n",
    "    model = RandomForestClassifier(n_estimators = est, random_state = 54321)\n",
    "    model.fit(features_train, target_train)\n",
    "    predictions = model.predict(features_valid)\n",
    "    acc = accuracy_score(target_valid, predictions)\n",
    "    \n",
    "    \n",
    "    if acc> best_acc:\n",
    "        best_est = est\n",
    "        best_acc = acc\n",
    "\n",
    "print(f'Best RandomForestClassifier accuracy= {best_acc}, best n_estimators = {best_est}')"
   ]
  },
  {
   "cell_type": "markdown",
   "metadata": {},
   "source": [
    "We have a new benchmark: 0.801"
   ]
  },
  {
   "cell_type": "markdown",
   "metadata": {},
   "source": [
    "### GaussianProcessClassifier\n",
    "\n",
    "The GaussianProcessClassifier doesn't have the same 'tunability' of hyperparamaters as the previous models. No adjusting is required so we will just run it once."
   ]
  },
  {
   "cell_type": "code",
   "execution_count": 12,
   "metadata": {},
   "outputs": [
    {
     "name": "stdout",
     "output_type": "stream",
     "text": [
      "GaussianProcessClassifier accuracy: 0.6500777604976672\n"
     ]
    }
   ],
   "source": [
    "#finding accuracy of model\n",
    "model = GaussianProcessClassifier(max_iter_predict =1000)\n",
    "model.fit(features_train, target_train)\n",
    "predictions = model.predict(features_valid)\n",
    "acc = accuracy_score(target_valid, predictions)\n",
    "print(f'GaussianProcessClassifier accuracy: {acc}')"
   ]
  },
  {
   "cell_type": "markdown",
   "metadata": {},
   "source": [
    "### GaussianNB"
   ]
  },
  {
   "cell_type": "markdown",
   "metadata": {},
   "source": [
    "We can test a Naive Bayes classifier."
   ]
  },
  {
   "cell_type": "code",
   "execution_count": 13,
   "metadata": {},
   "outputs": [
    {
     "name": "stdout",
     "output_type": "stream",
     "text": [
      "GaussianNB accuracy: 0.7682737169517885\n"
     ]
    }
   ],
   "source": [
    "#finding accuracy of model\n",
    "model = GaussianNB()\n",
    "model.fit(features_train, target_train)\n",
    "predictions = model.predict(features_valid)\n",
    "acc = accuracy_score(target_valid, predictions)\n",
    "print(f'GaussianNB accuracy: {acc}')"
   ]
  },
  {
   "cell_type": "markdown",
   "metadata": {},
   "source": [
    "### KNeighborsClassifier"
   ]
  },
  {
   "cell_type": "markdown",
   "metadata": {},
   "source": [
    "Running a K neighbors classifier with different values for the number of neighbors."
   ]
  },
  {
   "cell_type": "code",
   "execution_count": 14,
   "metadata": {},
   "outputs": [
    {
     "name": "stdout",
     "output_type": "stream",
     "text": [
      "Best KNeighborsClassifier accuracy= 0.7589424572317263, best n_estimators = 36\n"
     ]
    }
   ],
   "source": [
    "#find best accuracy \n",
    "best_n = 0\n",
    "best_acc = 0\n",
    "for n in list(range(1,50)):\n",
    "    model = KNeighborsClassifier(n_neighbors = n)\n",
    "    model.fit(features_train, target_train)\n",
    "    predictions = model.predict(features_valid)\n",
    "    acc = accuracy_score(target_valid, predictions)\n",
    "    \n",
    "    \n",
    "    if acc> best_acc:\n",
    "        best_n = n\n",
    "        best_acc = acc\n",
    "\n",
    "print(f'Best KNeighborsClassifier accuracy= {best_acc}, best n_estimators = {best_est}')"
   ]
  },
  {
   "cell_type": "markdown",
   "metadata": {},
   "source": [
    "### Intermediate Conclusion\n",
    "\n",
    "Having tested a number of classifier models, we have found our Random Forest Classifier to have the best performance.The performance could potentially be improved via boosting. But our current model exceeds the performance threshhold we're after so we can now check it's performance on the 'unseen' test set and perform a sanity check on our results.\n",
    "\n"
   ]
  },
  {
   "cell_type": "markdown",
   "metadata": {},
   "source": [
    "## Checking performance on test set"
   ]
  },
  {
   "cell_type": "code",
   "execution_count": 15,
   "metadata": {},
   "outputs": [
    {
     "name": "stdout",
     "output_type": "stream",
     "text": [
      "Accuracy on test set:  0.8211508553654744\n"
     ]
    }
   ],
   "source": [
    "model = RandomForestClassifier(n_estimators = 36, random_state = 54321)\n",
    "model.fit(features_train, target_train)\n",
    "predictions = model.predict(features_test)\n",
    "acc = accuracy_score(target_test, predictions)\n",
    "\n",
    "print(f'Accuracy on test set: ', acc)"
   ]
  },
  {
   "cell_type": "markdown",
   "metadata": {},
   "source": [
    "## Sanity check"
   ]
  },
  {
   "cell_type": "markdown",
   "metadata": {},
   "source": [
    "We need to check how our target variables are distributed so we can see what could be achieved by chance.\n"
   ]
  },
  {
   "cell_type": "code",
   "execution_count": 16,
   "metadata": {},
   "outputs": [
    {
     "data": {
      "text/plain": [
       "0    460\n",
       "1    183\n",
       "Name: is_ultra, dtype: int64"
      ]
     },
     "execution_count": 16,
     "metadata": {},
     "output_type": "execute_result"
    }
   ],
   "source": [
    "target_test.value_counts()"
   ]
  },
  {
   "cell_type": "code",
   "execution_count": 17,
   "metadata": {},
   "outputs": [
    {
     "data": {
      "text/plain": [
       "0.2846034214618974"
      ]
     },
     "execution_count": 17,
     "metadata": {},
     "output_type": "execute_result"
    }
   ],
   "source": [
    "target_test.mean()"
   ]
  },
  {
   "cell_type": "markdown",
   "metadata": {},
   "source": [
    "~71.5% of the test target have a value of 0, so if we had a model guessing 0, 100% of the time it would achieve an accuracy score of 0.715"
   ]
  },
  {
   "cell_type": "code",
   "execution_count": 18,
   "metadata": {},
   "outputs": [
    {
     "data": {
      "text/plain": [
       "array([[421,  39],\n",
       "       [ 76, 107]])"
      ]
     },
     "execution_count": 18,
     "metadata": {},
     "output_type": "execute_result"
    }
   ],
   "source": [
    "confusion_matrix(target_test, predictions)"
   ]
  },
  {
   "cell_type": "markdown",
   "metadata": {},
   "source": [
    "We can see that the model has a tendency to correctly predict 0s far more often than 1s, although it still performs better than random chance."
   ]
  },
  {
   "cell_type": "markdown",
   "metadata": {},
   "source": [
    "## Conclusion"
   ]
  },
  {
   "cell_type": "markdown",
   "metadata": {},
   "source": [
    "We set out to find a suitable model for recommending a new plan for users.\n",
    "\n",
    "We trialled a number of models and tweaked hyperparameters where appropriate, namely:\n",
    "- DecisionTreeClassifier\n",
    "- RandomForestClassifier\n",
    "- GaussianProcessClassifier\n",
    "- GaussianNB\n",
    "- KNeighborsClassifier\n",
    "\n",
    "Our best performing model was RandomForestClassifier, with an accuracy score of 0.801 on the train set and 0.821 on the test set. This model also passed our sanity check.\n",
    "\n",
    "\n"
   ]
  }
 ],
 "metadata": {
  "ExecuteTimeLog": [
   {
    "duration": 426,
    "start_time": "2022-04-19T14:32:12.592Z"
   },
   {
    "duration": 83,
    "start_time": "2022-04-19T14:32:55.007Z"
   },
   {
    "duration": 72,
    "start_time": "2022-04-19T14:33:03.383Z"
   },
   {
    "duration": 88,
    "start_time": "2022-04-19T14:33:20.259Z"
   },
   {
    "duration": 14,
    "start_time": "2022-04-19T14:33:27.965Z"
   },
   {
    "duration": 26,
    "start_time": "2022-04-19T14:33:38.359Z"
   },
   {
    "duration": 11,
    "start_time": "2022-04-19T14:33:48.951Z"
   },
   {
    "duration": 16,
    "start_time": "2022-04-19T14:34:48.748Z"
   },
   {
    "duration": 20,
    "start_time": "2022-04-19T14:34:58.648Z"
   },
   {
    "duration": 19,
    "start_time": "2022-04-19T14:35:07.128Z"
   },
   {
    "duration": 8,
    "start_time": "2022-04-19T14:44:35.347Z"
   },
   {
    "duration": 8,
    "start_time": "2022-04-19T14:44:35.975Z"
   },
   {
    "duration": 1320,
    "start_time": "2022-04-19T14:44:44.462Z"
   },
   {
    "duration": 34,
    "start_time": "2022-04-19T14:44:45.785Z"
   },
   {
    "duration": 13,
    "start_time": "2022-04-19T14:44:45.820Z"
   },
   {
    "duration": 22,
    "start_time": "2022-04-19T14:44:45.834Z"
   },
   {
    "duration": 5,
    "start_time": "2022-04-19T14:44:45.859Z"
   },
   {
    "duration": 29,
    "start_time": "2022-04-19T14:44:45.866Z"
   },
   {
    "duration": 4,
    "start_time": "2022-04-19T14:48:45.614Z"
   },
   {
    "duration": 125,
    "start_time": "2022-04-19T14:50:13.904Z"
   },
   {
    "duration": 180,
    "start_time": "2022-04-19T14:50:26.461Z"
   },
   {
    "duration": 106,
    "start_time": "2022-04-19T14:50:37.558Z"
   },
   {
    "duration": 16,
    "start_time": "2022-04-19T14:50:49.453Z"
   },
   {
    "duration": 14,
    "start_time": "2022-04-19T14:51:21.341Z"
   },
   {
    "duration": 5,
    "start_time": "2022-04-19T14:51:29.634Z"
   },
   {
    "duration": 139,
    "start_time": "2022-04-19T14:51:33.699Z"
   },
   {
    "duration": 144,
    "start_time": "2022-04-19T14:51:43.701Z"
   },
   {
    "duration": 202,
    "start_time": "2022-04-19T14:52:31.405Z"
   },
   {
    "duration": 206,
    "start_time": "2022-04-19T14:55:29.794Z"
   },
   {
    "duration": 200,
    "start_time": "2022-04-19T15:06:16.309Z"
   },
   {
    "duration": 47853,
    "start_time": "2022-04-19T15:06:27.312Z"
   },
   {
    "duration": 13027,
    "start_time": "2022-04-19T15:09:04.202Z"
   },
   {
    "duration": 175543,
    "start_time": "2022-04-19T15:10:01.151Z"
   },
   {
    "duration": 245053,
    "start_time": "2022-04-19T15:13:37.915Z"
   },
   {
    "duration": 175525,
    "start_time": "2022-04-19T15:18:09.005Z"
   },
   {
    "duration": 25424,
    "start_time": "2022-04-19T15:21:04.533Z"
   },
   {
    "duration": 138,
    "start_time": "2022-04-19T15:21:46.785Z"
   },
   {
    "duration": 26020,
    "start_time": "2022-04-19T15:21:51.617Z"
   },
   {
    "duration": 26895,
    "start_time": "2022-04-19T15:22:20.564Z"
   },
   {
    "duration": 25648,
    "start_time": "2022-04-19T15:23:06.210Z"
   },
   {
    "duration": 25913,
    "start_time": "2022-04-19T15:23:35.524Z"
   },
   {
    "duration": 42323,
    "start_time": "2022-04-19T15:24:06.901Z"
   },
   {
    "duration": 45109,
    "start_time": "2022-04-19T15:24:55.552Z"
   },
   {
    "duration": 38622,
    "start_time": "2022-04-19T15:25:42.339Z"
   },
   {
    "duration": 27091,
    "start_time": "2022-04-19T15:26:24.252Z"
   },
   {
    "duration": 9685,
    "start_time": "2022-04-19T15:26:53.329Z"
   },
   {
    "duration": 9831,
    "start_time": "2022-04-19T15:27:08.420Z"
   },
   {
    "duration": 9719,
    "start_time": "2022-04-19T15:27:25.222Z"
   },
   {
    "duration": 137,
    "start_time": "2022-04-19T15:29:39.689Z"
   },
   {
    "duration": 12,
    "start_time": "2022-04-19T15:29:45.300Z"
   },
   {
    "duration": 9,
    "start_time": "2022-04-19T15:30:18.784Z"
   },
   {
    "duration": 14,
    "start_time": "2022-04-19T15:31:29.131Z"
   },
   {
    "duration": 1190177,
    "start_time": "2022-04-19T15:32:44.439Z"
   },
   {
    "duration": 9,
    "start_time": "2022-04-19T16:02:12.158Z"
   },
   {
    "duration": 9,
    "start_time": "2022-04-19T16:02:53.477Z"
   },
   {
    "duration": 8,
    "start_time": "2022-04-19T16:03:00.622Z"
   },
   {
    "duration": 9,
    "start_time": "2022-04-19T16:03:40.797Z"
   },
   {
    "duration": 8,
    "start_time": "2022-04-19T16:04:45.548Z"
   },
   {
    "duration": 8,
    "start_time": "2022-04-19T16:04:53.665Z"
   },
   {
    "duration": 8,
    "start_time": "2022-04-19T16:05:26.058Z"
   },
   {
    "duration": 145,
    "start_time": "2022-04-19T16:08:14.209Z"
   },
   {
    "duration": 186762,
    "start_time": "2022-04-19T16:08:25.578Z"
   },
   {
    "duration": 1129,
    "start_time": "2022-04-20T09:49:57.607Z"
   },
   {
    "duration": 25,
    "start_time": "2022-04-20T09:49:58.738Z"
   },
   {
    "duration": 10,
    "start_time": "2022-04-20T09:49:58.764Z"
   },
   {
    "duration": 18,
    "start_time": "2022-04-20T09:49:58.776Z"
   },
   {
    "duration": 99,
    "start_time": "2022-04-20T09:49:58.796Z"
   },
   {
    "duration": 0,
    "start_time": "2022-04-20T09:49:58.897Z"
   },
   {
    "duration": 0,
    "start_time": "2022-04-20T09:49:58.898Z"
   },
   {
    "duration": 0,
    "start_time": "2022-04-20T09:49:58.900Z"
   },
   {
    "duration": 0,
    "start_time": "2022-04-20T09:49:58.901Z"
   },
   {
    "duration": 0,
    "start_time": "2022-04-20T09:49:58.902Z"
   },
   {
    "duration": 0,
    "start_time": "2022-04-20T09:49:58.903Z"
   },
   {
    "duration": 6,
    "start_time": "2022-04-20T09:50:13.219Z"
   },
   {
    "duration": 117,
    "start_time": "2022-04-20T09:50:13.226Z"
   },
   {
    "duration": 178,
    "start_time": "2022-04-20T09:50:13.345Z"
   },
   {
    "duration": 39990,
    "start_time": "2022-04-20T09:50:13.525Z"
   },
   {
    "duration": 1036,
    "start_time": "2022-04-20T09:51:17.277Z"
   },
   {
    "duration": 26,
    "start_time": "2022-04-20T09:51:18.315Z"
   },
   {
    "duration": 10,
    "start_time": "2022-04-20T09:51:18.342Z"
   },
   {
    "duration": 18,
    "start_time": "2022-04-20T09:51:18.354Z"
   },
   {
    "duration": 5,
    "start_time": "2022-04-20T09:51:18.375Z"
   },
   {
    "duration": 132,
    "start_time": "2022-04-20T09:51:18.382Z"
   },
   {
    "duration": 189,
    "start_time": "2022-04-20T09:51:18.516Z"
   },
   {
    "duration": 39072,
    "start_time": "2022-04-20T09:51:18.707Z"
   },
   {
    "duration": 1035,
    "start_time": "2022-04-20T09:51:59.856Z"
   },
   {
    "duration": 27,
    "start_time": "2022-04-20T09:52:00.893Z"
   },
   {
    "duration": 11,
    "start_time": "2022-04-20T09:52:00.921Z"
   },
   {
    "duration": 37,
    "start_time": "2022-04-20T09:52:00.933Z"
   },
   {
    "duration": 7,
    "start_time": "2022-04-20T09:52:00.972Z"
   },
   {
    "duration": 95,
    "start_time": "2022-04-20T09:52:00.980Z"
   },
   {
    "duration": 0,
    "start_time": "2022-04-20T09:52:01.076Z"
   },
   {
    "duration": 0,
    "start_time": "2022-04-20T09:52:01.078Z"
   },
   {
    "duration": 0,
    "start_time": "2022-04-20T09:52:01.079Z"
   },
   {
    "duration": 0,
    "start_time": "2022-04-20T09:52:01.080Z"
   },
   {
    "duration": 0,
    "start_time": "2022-04-20T09:52:01.081Z"
   },
   {
    "duration": 0,
    "start_time": "2022-04-20T09:52:01.082Z"
   },
   {
    "duration": 4,
    "start_time": "2022-04-20T09:52:29.666Z"
   },
   {
    "duration": 9,
    "start_time": "2022-04-20T09:52:33.314Z"
   },
   {
    "duration": 12,
    "start_time": "2022-04-20T09:52:42.165Z"
   },
   {
    "duration": 14,
    "start_time": "2022-04-20T09:52:56.198Z"
   },
   {
    "duration": 4,
    "start_time": "2022-04-20T09:53:06.534Z"
   },
   {
    "duration": 120,
    "start_time": "2022-04-20T09:53:55.717Z"
   },
   {
    "duration": 163,
    "start_time": "2022-04-20T09:53:57.517Z"
   },
   {
    "duration": 38729,
    "start_time": "2022-04-20T09:53:57.682Z"
   },
   {
    "duration": 143409,
    "start_time": "2022-04-20T09:54:36.413Z"
   },
   {
    "duration": 152316,
    "start_time": "2022-04-20T09:56:59.824Z"
   },
   {
    "duration": 9,
    "start_time": "2022-04-20T09:59:32.142Z"
   },
   {
    "duration": 1083,
    "start_time": "2022-04-20T09:59:57.603Z"
   },
   {
    "duration": 29,
    "start_time": "2022-04-20T09:59:58.687Z"
   },
   {
    "duration": 9,
    "start_time": "2022-04-20T09:59:58.718Z"
   },
   {
    "duration": 31,
    "start_time": "2022-04-20T09:59:58.729Z"
   },
   {
    "duration": 7,
    "start_time": "2022-04-20T09:59:58.762Z"
   },
   {
    "duration": 12,
    "start_time": "2022-04-20T09:59:58.771Z"
   },
   {
    "duration": 20,
    "start_time": "2022-04-20T09:59:58.784Z"
   },
   {
    "duration": 126,
    "start_time": "2022-04-20T09:59:58.805Z"
   },
   {
    "duration": 177,
    "start_time": "2022-04-20T09:59:58.932Z"
   },
   {
    "duration": 30845,
    "start_time": "2022-04-20T09:59:59.111Z"
   },
   {
    "duration": 0,
    "start_time": "2022-04-20T10:00:29.958Z"
   },
   {
    "duration": 0,
    "start_time": "2022-04-20T10:00:29.959Z"
   },
   {
    "duration": 0,
    "start_time": "2022-04-20T10:00:29.960Z"
   },
   {
    "duration": 1023,
    "start_time": "2022-04-20T10:01:09.770Z"
   },
   {
    "duration": 26,
    "start_time": "2022-04-20T10:01:10.795Z"
   },
   {
    "duration": 10,
    "start_time": "2022-04-20T10:01:10.822Z"
   },
   {
    "duration": 17,
    "start_time": "2022-04-20T10:01:10.834Z"
   },
   {
    "duration": 5,
    "start_time": "2022-04-20T10:01:10.852Z"
   },
   {
    "duration": 6,
    "start_time": "2022-04-20T10:01:10.858Z"
   },
   {
    "duration": 5,
    "start_time": "2022-04-20T10:01:10.865Z"
   },
   {
    "duration": 124,
    "start_time": "2022-04-20T10:01:10.871Z"
   },
   {
    "duration": 164,
    "start_time": "2022-04-20T10:01:10.996Z"
   },
   {
    "duration": 33114,
    "start_time": "2022-04-20T10:01:11.163Z"
   },
   {
    "duration": 1092,
    "start_time": "2022-04-20T10:02:57.328Z"
   },
   {
    "duration": 26,
    "start_time": "2022-04-20T10:02:58.422Z"
   },
   {
    "duration": 10,
    "start_time": "2022-04-20T10:02:58.450Z"
   },
   {
    "duration": 22,
    "start_time": "2022-04-20T10:02:58.462Z"
   },
   {
    "duration": 6,
    "start_time": "2022-04-20T10:02:58.485Z"
   },
   {
    "duration": 5,
    "start_time": "2022-04-20T10:02:58.492Z"
   },
   {
    "duration": 5,
    "start_time": "2022-04-20T10:02:58.499Z"
   },
   {
    "duration": 103,
    "start_time": "2022-04-20T10:02:58.524Z"
   },
   {
    "duration": 163,
    "start_time": "2022-04-20T10:02:58.629Z"
   },
   {
    "duration": 33690,
    "start_time": "2022-04-20T10:02:58.794Z"
   },
   {
    "duration": 33852,
    "start_time": "2022-04-20T10:03:32.486Z"
   },
   {
    "duration": 137742,
    "start_time": "2022-04-20T10:04:06.339Z"
   },
   {
    "duration": 8,
    "start_time": "2022-04-20T10:06:24.082Z"
   },
   {
    "duration": 151043,
    "start_time": "2022-04-20T11:20:30.408Z"
   },
   {
    "duration": 92,
    "start_time": "2022-04-20T11:25:45.397Z"
   },
   {
    "duration": 15,
    "start_time": "2022-04-20T11:25:51.496Z"
   },
   {
    "duration": 60912,
    "start_time": "2022-04-20T11:26:41.327Z"
   },
   {
    "duration": 1344903,
    "start_time": "2022-04-20T11:28:34.140Z"
   },
   {
    "duration": 197108,
    "start_time": "2022-04-20T12:18:26.498Z"
   },
   {
    "duration": 3,
    "start_time": "2022-04-20T13:37:41.303Z"
   },
   {
    "duration": 12,
    "start_time": "2022-04-20T13:39:07.294Z"
   },
   {
    "duration": 396,
    "start_time": "2022-04-20T13:39:16.368Z"
   },
   {
    "duration": 1924,
    "start_time": "2022-04-20T13:39:26.736Z"
   },
   {
    "duration": 1143,
    "start_time": "2022-04-20T13:40:41.540Z"
   },
   {
    "duration": 11029,
    "start_time": "2022-04-20T13:41:01.965Z"
   },
   {
    "duration": 1036,
    "start_time": "2022-04-20T13:41:39.042Z"
   },
   {
    "duration": 1766394,
    "start_time": "2022-04-20T14:10:03.355Z"
   },
   {
    "duration": 9,
    "start_time": "2022-04-20T14:39:29.751Z"
   },
   {
    "duration": 0,
    "start_time": "2022-04-20T14:39:29.763Z"
   },
   {
    "duration": 17,
    "start_time": "2022-04-20T14:56:38.236Z"
   },
   {
    "duration": 6799,
    "start_time": "2022-04-20T14:56:42.139Z"
   },
   {
    "duration": 13,
    "start_time": "2022-04-20T14:56:52.261Z"
   },
   {
    "duration": 7187,
    "start_time": "2022-04-20T14:58:36.251Z"
   },
   {
    "duration": 8675,
    "start_time": "2022-04-20T14:59:59.365Z"
   },
   {
    "duration": 7872,
    "start_time": "2022-04-20T15:00:11.551Z"
   },
   {
    "duration": 1244,
    "start_time": "2022-04-20T15:06:24.018Z"
   },
   {
    "duration": 25,
    "start_time": "2022-04-20T15:06:25.264Z"
   },
   {
    "duration": 9,
    "start_time": "2022-04-20T15:06:25.290Z"
   },
   {
    "duration": 24,
    "start_time": "2022-04-20T15:06:25.301Z"
   },
   {
    "duration": 5,
    "start_time": "2022-04-20T15:06:25.336Z"
   },
   {
    "duration": 5,
    "start_time": "2022-04-20T15:06:25.343Z"
   },
   {
    "duration": 4,
    "start_time": "2022-04-20T15:06:25.350Z"
   },
   {
    "duration": 114,
    "start_time": "2022-04-20T15:06:25.355Z"
   },
   {
    "duration": 151,
    "start_time": "2022-04-20T15:06:25.471Z"
   },
   {
    "duration": 20926,
    "start_time": "2022-04-20T15:06:25.625Z"
   },
   {
    "duration": 36886,
    "start_time": "2022-04-20T15:06:46.553Z"
   },
   {
    "duration": 193842,
    "start_time": "2022-04-20T15:07:23.442Z"
   },
   {
    "duration": 10154,
    "start_time": "2022-04-20T15:10:37.286Z"
   },
   {
    "duration": 92,
    "start_time": "2022-04-20T15:10:47.445Z"
   },
   {
    "duration": 205,
    "start_time": "2022-04-20T15:10:47.542Z"
   },
   {
    "duration": 943,
    "start_time": "2022-04-20T15:15:33.905Z"
   },
   {
    "duration": 22814,
    "start_time": "2022-04-20T15:15:41.044Z"
   },
   {
    "duration": 16,
    "start_time": "2022-04-20T15:27:39.299Z"
   },
   {
    "duration": 345,
    "start_time": "2022-04-20T15:28:04.458Z"
   },
   {
    "duration": 461,
    "start_time": "2022-04-20T15:28:56.992Z"
   },
   {
    "duration": 531,
    "start_time": "2022-04-20T15:29:01.740Z"
   },
   {
    "duration": 335,
    "start_time": "2022-04-20T15:29:52.655Z"
   },
   {
    "duration": 335,
    "start_time": "2022-04-20T15:30:37.037Z"
   },
   {
    "duration": 1193,
    "start_time": "2022-04-20T15:47:25.993Z"
   },
   {
    "duration": 31,
    "start_time": "2022-04-20T15:47:27.188Z"
   },
   {
    "duration": 11,
    "start_time": "2022-04-20T15:47:27.221Z"
   },
   {
    "duration": 19,
    "start_time": "2022-04-20T15:47:27.236Z"
   },
   {
    "duration": 6,
    "start_time": "2022-04-20T15:47:27.256Z"
   },
   {
    "duration": 11,
    "start_time": "2022-04-20T15:47:27.264Z"
   },
   {
    "duration": 24,
    "start_time": "2022-04-20T15:47:27.276Z"
   },
   {
    "duration": 106,
    "start_time": "2022-04-20T15:47:27.302Z"
   },
   {
    "duration": 149,
    "start_time": "2022-04-20T15:47:27.409Z"
   },
   {
    "duration": 18627,
    "start_time": "2022-04-20T15:47:27.560Z"
   },
   {
    "duration": 141,
    "start_time": "2022-04-20T15:47:46.189Z"
   },
   {
    "duration": 0,
    "start_time": "2022-04-20T15:47:46.332Z"
   },
   {
    "duration": 0,
    "start_time": "2022-04-20T15:47:46.333Z"
   },
   {
    "duration": 0,
    "start_time": "2022-04-20T15:47:46.334Z"
   },
   {
    "duration": 0,
    "start_time": "2022-04-20T15:47:46.336Z"
   },
   {
    "duration": 0,
    "start_time": "2022-04-20T15:47:46.337Z"
   },
   {
    "duration": 35427,
    "start_time": "2022-04-20T17:37:46.397Z"
   },
   {
    "duration": 194177,
    "start_time": "2022-04-20T17:38:21.826Z"
   },
   {
    "duration": 9332,
    "start_time": "2022-04-20T17:41:36.005Z"
   },
   {
    "duration": 91,
    "start_time": "2022-04-20T17:41:45.340Z"
   },
   {
    "duration": 932,
    "start_time": "2022-04-20T17:41:45.433Z"
   },
   {
    "duration": 346,
    "start_time": "2022-04-20T17:41:46.366Z"
   },
   {
    "duration": 67,
    "start_time": "2022-04-21T08:14:43.620Z"
   },
   {
    "duration": 1628,
    "start_time": "2022-04-21T08:15:21.965Z"
   },
   {
    "duration": 1544,
    "start_time": "2022-04-21T08:15:28.510Z"
   },
   {
    "duration": 52,
    "start_time": "2022-04-21T08:15:30.057Z"
   },
   {
    "duration": 17,
    "start_time": "2022-04-21T08:15:30.111Z"
   },
   {
    "duration": 30,
    "start_time": "2022-04-21T08:15:30.132Z"
   },
   {
    "duration": 33,
    "start_time": "2022-04-21T08:15:30.164Z"
   },
   {
    "duration": 12,
    "start_time": "2022-04-21T08:15:30.199Z"
   },
   {
    "duration": 14,
    "start_time": "2022-04-21T08:15:30.213Z"
   },
   {
    "duration": 176,
    "start_time": "2022-04-21T08:15:30.229Z"
   },
   {
    "duration": 229,
    "start_time": "2022-04-21T08:15:30.407Z"
   },
   {
    "duration": 26793,
    "start_time": "2022-04-21T08:15:30.639Z"
   },
   {
    "duration": 50529,
    "start_time": "2022-04-21T08:15:57.434Z"
   },
   {
    "duration": 282997,
    "start_time": "2022-04-21T08:16:47.965Z"
   },
   {
    "duration": 7838,
    "start_time": "2022-04-21T08:21:30.965Z"
   },
   {
    "duration": 186,
    "start_time": "2022-04-21T08:21:38.807Z"
   },
   {
    "duration": 1427,
    "start_time": "2022-04-21T08:21:38.996Z"
   },
   {
    "duration": 477,
    "start_time": "2022-04-21T08:21:40.426Z"
   },
   {
    "duration": 7,
    "start_time": "2022-04-21T08:21:40.905Z"
   },
   {
    "duration": 8,
    "start_time": "2022-04-21T09:08:50.563Z"
   },
   {
    "duration": 6,
    "start_time": "2022-04-21T09:08:56.854Z"
   },
   {
    "duration": 7,
    "start_time": "2022-04-21T09:09:13.856Z"
   },
   {
    "duration": 3,
    "start_time": "2022-04-21T10:03:16.125Z"
   },
   {
    "duration": 6,
    "start_time": "2022-04-21T10:17:13.564Z"
   },
   {
    "duration": 959,
    "start_time": "2022-04-21T10:33:17.486Z"
   },
   {
    "duration": 28,
    "start_time": "2022-04-21T10:33:45.969Z"
   },
   {
    "duration": 8076,
    "start_time": "2022-04-21T10:33:56.652Z"
   },
   {
    "duration": 1982,
    "start_time": "2022-04-21T10:34:55.869Z"
   },
   {
    "duration": 40,
    "start_time": "2022-04-21T10:34:57.854Z"
   },
   {
    "duration": 20,
    "start_time": "2022-04-21T10:34:57.898Z"
   },
   {
    "duration": 28,
    "start_time": "2022-04-21T10:34:57.921Z"
   },
   {
    "duration": 46,
    "start_time": "2022-04-21T10:34:57.952Z"
   },
   {
    "duration": 12,
    "start_time": "2022-04-21T10:34:58.002Z"
   },
   {
    "duration": 5,
    "start_time": "2022-04-21T10:34:58.018Z"
   },
   {
    "duration": 214,
    "start_time": "2022-04-21T10:34:58.026Z"
   },
   {
    "duration": 249,
    "start_time": "2022-04-21T10:34:58.243Z"
   },
   {
    "duration": 29685,
    "start_time": "2022-04-21T10:34:58.498Z"
   },
   {
    "duration": 56485,
    "start_time": "2022-04-21T10:35:28.194Z"
   },
   {
    "duration": 342650,
    "start_time": "2022-04-21T10:36:24.681Z"
   },
   {
    "duration": 14963,
    "start_time": "2022-04-21T10:42:07.334Z"
   },
   {
    "duration": 113,
    "start_time": "2022-04-21T10:42:22.299Z"
   },
   {
    "duration": 1713,
    "start_time": "2022-04-21T10:42:22.414Z"
   },
   {
    "duration": 629,
    "start_time": "2022-04-21T10:42:24.130Z"
   },
   {
    "duration": 7,
    "start_time": "2022-04-21T10:42:24.762Z"
   },
   {
    "duration": 49,
    "start_time": "2022-04-21T10:42:24.771Z"
   },
   {
    "duration": 19,
    "start_time": "2022-04-21T10:42:24.823Z"
   },
   {
    "duration": 62793,
    "start_time": "2022-04-21T11:33:27.011Z"
   },
   {
    "duration": 21912,
    "start_time": "2022-04-21T11:34:32.347Z"
   },
   {
    "duration": 113834,
    "start_time": "2022-04-21T11:35:04.906Z"
   },
   {
    "duration": 62345,
    "start_time": "2022-04-21T11:36:58.742Z"
   },
   {
    "duration": 23824,
    "start_time": "2022-04-21T11:40:00.269Z"
   },
   {
    "duration": 907219,
    "start_time": "2022-04-21T11:40:29.337Z"
   },
   {
    "duration": 69396,
    "start_time": "2022-04-21T11:56:05.741Z"
   },
   {
    "duration": 235,
    "start_time": "2022-04-21T11:57:28.122Z"
   },
   {
    "duration": 8,
    "start_time": "2022-04-21T11:59:15.340Z"
   },
   {
    "duration": 4262587,
    "start_time": "2022-04-21T12:18:47.072Z"
   },
   {
    "duration": 0,
    "start_time": "2022-04-21T13:29:49.663Z"
   },
   {
    "duration": 0,
    "start_time": "2022-04-21T13:29:49.665Z"
   },
   {
    "duration": 51789,
    "start_time": "2022-04-21T13:29:54.568Z"
   },
   {
    "duration": 10996,
    "start_time": "2022-04-21T13:30:48.273Z"
   },
   {
    "duration": 235711,
    "start_time": "2022-04-21T13:31:01.834Z"
   },
   {
    "duration": 26408,
    "start_time": "2022-04-21T13:35:01.033Z"
   },
   {
    "duration": 1351769,
    "start_time": "2022-04-21T13:35:28.224Z"
   },
   {
    "duration": 0,
    "start_time": "2022-04-21T13:59:55.390Z"
   },
   {
    "duration": 2724923,
    "start_time": "2022-04-21T13:59:59.570Z"
   },
   {
    "duration": 7249,
    "start_time": "2022-04-21T14:45:25.946Z"
   },
   {
    "duration": 1111291,
    "start_time": "2022-04-21T14:45:35.490Z"
   },
   {
    "duration": 631889,
    "start_time": "2022-04-21T15:04:08.830Z"
   },
   {
    "duration": 16,
    "start_time": "2022-04-21T15:15:00.494Z"
   },
   {
    "duration": 4805006,
    "start_time": "2022-04-21T15:15:15.001Z"
   },
   {
    "duration": 1635,
    "start_time": "2022-04-22T08:10:39.239Z"
   },
   {
    "duration": 141,
    "start_time": "2022-04-22T08:10:40.877Z"
   },
   {
    "duration": 15,
    "start_time": "2022-04-22T08:10:41.020Z"
   },
   {
    "duration": 28,
    "start_time": "2022-04-22T08:10:41.038Z"
   },
   {
    "duration": 30,
    "start_time": "2022-04-22T08:10:41.069Z"
   },
   {
    "duration": 16,
    "start_time": "2022-04-22T08:10:41.102Z"
   },
   {
    "duration": 9,
    "start_time": "2022-04-22T08:10:41.121Z"
   },
   {
    "duration": 180,
    "start_time": "2022-04-22T08:10:41.133Z"
   },
   {
    "duration": 249,
    "start_time": "2022-04-22T08:10:41.316Z"
   },
   {
    "duration": 23616,
    "start_time": "2022-04-22T08:10:41.568Z"
   },
   {
    "duration": 64544,
    "start_time": "2022-04-22T08:11:05.187Z"
   },
   {
    "duration": 11678,
    "start_time": "2022-04-22T08:12:09.734Z"
   },
   {
    "duration": 94,
    "start_time": "2022-04-22T08:12:21.415Z"
   },
   {
    "duration": 1588,
    "start_time": "2022-04-22T08:12:21.513Z"
   },
   {
    "duration": 210,
    "start_time": "2022-04-22T08:12:23.103Z"
   },
   {
    "duration": 7,
    "start_time": "2022-04-22T08:12:23.315Z"
   },
   {
    "duration": 20,
    "start_time": "2022-04-22T08:12:23.324Z"
   },
   {
    "duration": 13,
    "start_time": "2022-04-22T08:12:23.346Z"
   },
   {
    "duration": 1622,
    "start_time": "2022-04-22T08:37:14.286Z"
   },
   {
    "duration": 42,
    "start_time": "2022-04-22T08:37:15.911Z"
   },
   {
    "duration": 15,
    "start_time": "2022-04-22T08:37:15.955Z"
   },
   {
    "duration": 39,
    "start_time": "2022-04-22T08:37:15.973Z"
   },
   {
    "duration": 10,
    "start_time": "2022-04-22T08:37:16.015Z"
   },
   {
    "duration": 9,
    "start_time": "2022-04-22T08:37:16.027Z"
   },
   {
    "duration": 9,
    "start_time": "2022-04-22T08:37:16.038Z"
   },
   {
    "duration": 201,
    "start_time": "2022-04-22T08:37:16.050Z"
   },
   {
    "duration": 241,
    "start_time": "2022-04-22T08:37:16.254Z"
   },
   {
    "duration": 22161,
    "start_time": "2022-04-22T08:37:16.499Z"
   },
   {
    "duration": 61421,
    "start_time": "2022-04-22T08:37:38.662Z"
   },
   {
    "duration": 13029,
    "start_time": "2022-04-22T08:38:40.093Z"
   },
   {
    "duration": 82,
    "start_time": "2022-04-22T08:38:53.124Z"
   },
   {
    "duration": 1622,
    "start_time": "2022-04-22T08:38:53.213Z"
   },
   {
    "duration": 217,
    "start_time": "2022-04-22T08:38:54.837Z"
   },
   {
    "duration": 8,
    "start_time": "2022-04-22T08:38:55.057Z"
   },
   {
    "duration": 28,
    "start_time": "2022-04-22T08:38:55.068Z"
   },
   {
    "duration": 16,
    "start_time": "2022-04-22T08:38:55.098Z"
   },
   {
    "duration": 22600,
    "start_time": "2022-04-22T08:38:55.117Z"
   },
   {
    "duration": 63158,
    "start_time": "2022-04-22T08:39:25.306Z"
   }
  ],
  "kernelspec": {
   "display_name": "Python 3",
   "language": "python",
   "name": "python3"
  },
  "language_info": {
   "codemirror_mode": {
    "name": "ipython",
    "version": 3
   },
   "file_extension": ".py",
   "mimetype": "text/x-python",
   "name": "python",
   "nbconvert_exporter": "python",
   "pygments_lexer": "ipython3",
   "version": "3.8.5"
  },
  "toc": {
   "base_numbering": 1,
   "nav_menu": {},
   "number_sections": true,
   "sideBar": true,
   "skip_h1_title": true,
   "title_cell": "Table of Contents",
   "title_sidebar": "Contents",
   "toc_cell": false,
   "toc_position": {},
   "toc_section_display": true,
   "toc_window_display": false
  }
 },
 "nbformat": 4,
 "nbformat_minor": 2
}
