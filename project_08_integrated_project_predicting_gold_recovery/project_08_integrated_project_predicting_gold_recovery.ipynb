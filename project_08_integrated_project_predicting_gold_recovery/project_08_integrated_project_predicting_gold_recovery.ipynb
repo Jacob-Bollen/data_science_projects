{
 "cells": [
  {
   "cell_type": "markdown",
   "metadata": {},
   "source": [
    "# Predicting the amount of gold recovered from gold ore.\n",
    "\n",
    "This project uses data provided by Zyfra.\n",
    "We are tasked with preparing a prototype of a machine learning model for Zyfra. The company develops efficiency solutions for heavy industry.\n",
    "\n",
    "The model should predict the amount of gold recovered from gold ore. \n",
    "\n",
    "The model will help to optimize the production and eliminate unprofitable parameters.\n",
    "\n",
    "We need to:\n",
    "- Prepare the data;\n",
    "- Perform data analysis;\n",
    "- Develop and train a model."
   ]
  },
  {
   "cell_type": "code",
   "execution_count": 1,
   "metadata": {},
   "outputs": [],
   "source": [
    "import numpy as np\n",
    "import pandas as pd\n",
    "import csv\n",
    "import matplotlib.pyplot as plt\n",
    "\n",
    "from sklearn import tree\n",
    "from sklearn.model_selection import RandomizedSearchCV\n",
    "from sklearn.model_selection import GridSearchCV\n",
    "from sklearn.linear_model import LinearRegression\n",
    "from sklearn.tree import DecisionTreeRegressor\n",
    "from sklearn.model_selection import cross_val_score\n",
    "from sklearn.ensemble import RandomForestRegressor\n",
    "from scipy import stats as st\n",
    "\n",
    "from sklearn.metrics import mean_absolute_error\n",
    "from sklearn.metrics import make_scorer\n",
    "\n",
    "import seaborn as sns\n",
    "\n",
    "import statistics"
   ]
  },
  {
   "cell_type": "code",
   "execution_count": 2,
   "metadata": {},
   "outputs": [],
   "source": [
    "pd.set_option('display.max_columns', 500)\n",
    "pd.set_option('display.max_rows', 500)\n",
    "plt.style.use('seaborn-pastel')"
   ]
  },
  {
   "cell_type": "markdown",
   "metadata": {},
   "source": [
    "## Data preprocessing\n",
    "\n",
    "### Initial exploratory analysis"
   ]
  },
  {
   "cell_type": "code",
   "execution_count": 3,
   "metadata": {},
   "outputs": [],
   "source": [
    "#importing data\n",
    "df_train = pd.read_csv('/datasets/gold_recovery_train.csv')\n",
    "df_test = pd.read_csv('/datasets/gold_recovery_test.csv')\n",
    "df_full = pd.read_csv('/datasets/gold_recovery_full.csv')"
   ]
  },
  {
   "cell_type": "code",
   "execution_count": 4,
   "metadata": {},
   "outputs": [],
   "source": [
    "#function to print key info\n",
    "def preliminary_analysis(df):\n",
    "    print(df.info())\n",
    "    print(\"\"\"\n",
    "    \n",
    "    \"\"\")\n",
    "    print(df.describe())\n",
    "    print(\"\"\"\n",
    "    \n",
    "    \"\"\")\n",
    "    return df.head()\n"
   ]
  },
  {
   "cell_type": "code",
   "execution_count": 5,
   "metadata": {},
   "outputs": [
    {
     "name": "stdout",
     "output_type": "stream",
     "text": [
      "<class 'pandas.core.frame.DataFrame'>\n",
      "RangeIndex: 16860 entries, 0 to 16859\n",
      "Data columns (total 87 columns):\n",
      " #   Column                                              Non-Null Count  Dtype  \n",
      "---  ------                                              --------------  -----  \n",
      " 0   date                                                16860 non-null  object \n",
      " 1   final.output.concentrate_ag                         16788 non-null  float64\n",
      " 2   final.output.concentrate_pb                         16788 non-null  float64\n",
      " 3   final.output.concentrate_sol                        16490 non-null  float64\n",
      " 4   final.output.concentrate_au                         16789 non-null  float64\n",
      " 5   final.output.recovery                               15339 non-null  float64\n",
      " 6   final.output.tail_ag                                16794 non-null  float64\n",
      " 7   final.output.tail_pb                                16677 non-null  float64\n",
      " 8   final.output.tail_sol                               16715 non-null  float64\n",
      " 9   final.output.tail_au                                16794 non-null  float64\n",
      " 10  primary_cleaner.input.sulfate                       15553 non-null  float64\n",
      " 11  primary_cleaner.input.depressant                    15598 non-null  float64\n",
      " 12  primary_cleaner.input.feed_size                     16860 non-null  float64\n",
      " 13  primary_cleaner.input.xanthate                      15875 non-null  float64\n",
      " 14  primary_cleaner.output.concentrate_ag               16778 non-null  float64\n",
      " 15  primary_cleaner.output.concentrate_pb               16502 non-null  float64\n",
      " 16  primary_cleaner.output.concentrate_sol              16224 non-null  float64\n",
      " 17  primary_cleaner.output.concentrate_au               16778 non-null  float64\n",
      " 18  primary_cleaner.output.tail_ag                      16777 non-null  float64\n",
      " 19  primary_cleaner.output.tail_pb                      16761 non-null  float64\n",
      " 20  primary_cleaner.output.tail_sol                     16579 non-null  float64\n",
      " 21  primary_cleaner.output.tail_au                      16777 non-null  float64\n",
      " 22  primary_cleaner.state.floatbank8_a_air              16820 non-null  float64\n",
      " 23  primary_cleaner.state.floatbank8_a_level            16827 non-null  float64\n",
      " 24  primary_cleaner.state.floatbank8_b_air              16820 non-null  float64\n",
      " 25  primary_cleaner.state.floatbank8_b_level            16833 non-null  float64\n",
      " 26  primary_cleaner.state.floatbank8_c_air              16822 non-null  float64\n",
      " 27  primary_cleaner.state.floatbank8_c_level            16833 non-null  float64\n",
      " 28  primary_cleaner.state.floatbank8_d_air              16821 non-null  float64\n",
      " 29  primary_cleaner.state.floatbank8_d_level            16833 non-null  float64\n",
      " 30  rougher.calculation.sulfate_to_au_concentrate       16833 non-null  float64\n",
      " 31  rougher.calculation.floatbank10_sulfate_to_au_feed  16833 non-null  float64\n",
      " 32  rougher.calculation.floatbank11_sulfate_to_au_feed  16833 non-null  float64\n",
      " 33  rougher.calculation.au_pb_ratio                     15618 non-null  float64\n",
      " 34  rougher.input.feed_ag                               16778 non-null  float64\n",
      " 35  rougher.input.feed_pb                               16632 non-null  float64\n",
      " 36  rougher.input.feed_rate                             16347 non-null  float64\n",
      " 37  rougher.input.feed_size                             16443 non-null  float64\n",
      " 38  rougher.input.feed_sol                              16568 non-null  float64\n",
      " 39  rougher.input.feed_au                               16777 non-null  float64\n",
      " 40  rougher.input.floatbank10_sulfate                   15816 non-null  float64\n",
      " 41  rougher.input.floatbank10_xanthate                  16514 non-null  float64\n",
      " 42  rougher.input.floatbank11_sulfate                   16237 non-null  float64\n",
      " 43  rougher.input.floatbank11_xanthate                  14956 non-null  float64\n",
      " 44  rougher.output.concentrate_ag                       16778 non-null  float64\n",
      " 45  rougher.output.concentrate_pb                       16778 non-null  float64\n",
      " 46  rougher.output.concentrate_sol                      16698 non-null  float64\n",
      " 47  rougher.output.concentrate_au                       16778 non-null  float64\n",
      " 48  rougher.output.recovery                             14287 non-null  float64\n",
      " 49  rougher.output.tail_ag                              14610 non-null  float64\n",
      " 50  rougher.output.tail_pb                              16778 non-null  float64\n",
      " 51  rougher.output.tail_sol                             14611 non-null  float64\n",
      " 52  rougher.output.tail_au                              14611 non-null  float64\n",
      " 53  rougher.state.floatbank10_a_air                     16807 non-null  float64\n",
      " 54  rougher.state.floatbank10_a_level                   16807 non-null  float64\n",
      " 55  rougher.state.floatbank10_b_air                     16807 non-null  float64\n",
      " 56  rougher.state.floatbank10_b_level                   16807 non-null  float64\n",
      " 57  rougher.state.floatbank10_c_air                     16807 non-null  float64\n",
      " 58  rougher.state.floatbank10_c_level                   16814 non-null  float64\n",
      " 59  rougher.state.floatbank10_d_air                     16802 non-null  float64\n",
      " 60  rougher.state.floatbank10_d_level                   16809 non-null  float64\n",
      " 61  rougher.state.floatbank10_e_air                     16257 non-null  float64\n",
      " 62  rougher.state.floatbank10_e_level                   16809 non-null  float64\n",
      " 63  rougher.state.floatbank10_f_air                     16802 non-null  float64\n",
      " 64  rougher.state.floatbank10_f_level                   16802 non-null  float64\n",
      " 65  secondary_cleaner.output.tail_ag                    16776 non-null  float64\n",
      " 66  secondary_cleaner.output.tail_pb                    16764 non-null  float64\n",
      " 67  secondary_cleaner.output.tail_sol                   14874 non-null  float64\n",
      " 68  secondary_cleaner.output.tail_au                    16778 non-null  float64\n",
      " 69  secondary_cleaner.state.floatbank2_a_air            16497 non-null  float64\n",
      " 70  secondary_cleaner.state.floatbank2_a_level          16751 non-null  float64\n",
      " 71  secondary_cleaner.state.floatbank2_b_air            16705 non-null  float64\n",
      " 72  secondary_cleaner.state.floatbank2_b_level          16748 non-null  float64\n",
      " 73  secondary_cleaner.state.floatbank3_a_air            16763 non-null  float64\n",
      " 74  secondary_cleaner.state.floatbank3_a_level          16747 non-null  float64\n",
      " 75  secondary_cleaner.state.floatbank3_b_air            16752 non-null  float64\n",
      " 76  secondary_cleaner.state.floatbank3_b_level          16750 non-null  float64\n",
      " 77  secondary_cleaner.state.floatbank4_a_air            16731 non-null  float64\n",
      " 78  secondary_cleaner.state.floatbank4_a_level          16747 non-null  float64\n",
      " 79  secondary_cleaner.state.floatbank4_b_air            16768 non-null  float64\n",
      " 80  secondary_cleaner.state.floatbank4_b_level          16767 non-null  float64\n",
      " 81  secondary_cleaner.state.floatbank5_a_air            16775 non-null  float64\n",
      " 82  secondary_cleaner.state.floatbank5_a_level          16775 non-null  float64\n",
      " 83  secondary_cleaner.state.floatbank5_b_air            16775 non-null  float64\n",
      " 84  secondary_cleaner.state.floatbank5_b_level          16776 non-null  float64\n",
      " 85  secondary_cleaner.state.floatbank6_a_air            16757 non-null  float64\n",
      " 86  secondary_cleaner.state.floatbank6_a_level          16775 non-null  float64\n",
      "dtypes: float64(86), object(1)\n",
      "memory usage: 11.2+ MB\n",
      "None\n",
      "\n",
      "    \n",
      "    \n",
      "       final.output.concentrate_ag  final.output.concentrate_pb  \\\n",
      "count                 16788.000000                 16788.000000   \n",
      "mean                      4.716907                     9.113559   \n",
      "std                       2.096718                     3.389495   \n",
      "min                       0.000000                     0.000000   \n",
      "25%                       3.971262                     8.825748   \n",
      "50%                       4.869346                    10.065316   \n",
      "75%                       5.821176                    11.054809   \n",
      "max                      16.001945                    17.031899   \n",
      "\n",
      "       final.output.concentrate_sol  final.output.concentrate_au  \\\n",
      "count                  16490.000000                 16789.000000   \n",
      "mean                       8.301123                    39.467217   \n",
      "std                        3.825760                    13.917227   \n",
      "min                        0.000000                     0.000000   \n",
      "25%                        6.939185                    42.055722   \n",
      "50%                        8.557228                    44.498874   \n",
      "75%                       10.289741                    45.976222   \n",
      "max                       18.124851                    53.611374   \n",
      "\n",
      "       final.output.recovery  final.output.tail_ag  final.output.tail_pb  \\\n",
      "count           15339.000000          16794.000000          16677.000000   \n",
      "mean               67.213166              8.757048              2.360327   \n",
      "std                11.960446              3.634103              1.215576   \n",
      "min                 0.000000              0.000000              0.000000   \n",
      "25%                62.625685              7.610544              1.641604   \n",
      "50%                67.644601              9.220393              2.453690   \n",
      "75%                72.824595             10.971110              3.192404   \n",
      "max               100.000000             19.552149              6.086532   \n",
      "\n",
      "       final.output.tail_sol  final.output.tail_au  \\\n",
      "count           16715.000000          16794.000000   \n",
      "mean                9.303932              2.687512   \n",
      "std                 4.263208              1.272757   \n",
      "min                 0.000000              0.000000   \n",
      "25%                 7.870275              2.172953   \n",
      "50%                10.021968              2.781132   \n",
      "75%                11.648573              3.416936   \n",
      "max                22.317730              9.789625   \n",
      "\n",
      "       primary_cleaner.input.sulfate  primary_cleaner.input.depressant  \\\n",
      "count                   15553.000000                      15598.000000   \n",
      "mean                      129.479789                          8.625021   \n",
      "std                        45.386931                          3.698633   \n",
      "min                         0.000003                          0.000000   \n",
      "25%                       103.064021                          6.004886   \n",
      "50%                       131.783108                          8.016531   \n",
      "75%                       159.539839                         11.437819   \n",
      "max                       251.999948                         40.000000   \n",
      "\n",
      "       primary_cleaner.input.feed_size  primary_cleaner.input.xanthate  \\\n",
      "count                     16860.000000                    15875.000000   \n",
      "mean                          7.297285                        0.843812   \n",
      "std                           0.619166                        0.419098   \n",
      "min                           1.080000                        0.000005   \n",
      "25%                           6.940000                        0.568934   \n",
      "50%                           7.285000                        0.844271   \n",
      "75%                           7.700000                        1.097080   \n",
      "max                          10.470000                        6.027907   \n",
      "\n",
      "       primary_cleaner.output.concentrate_ag  \\\n",
      "count                           16778.000000   \n",
      "mean                                7.422640   \n",
      "std                                 3.105117   \n",
      "min                                 0.000000   \n",
      "25%                                 6.612584   \n",
      "50%                                 7.997143   \n",
      "75%                                 9.399463   \n",
      "max                                16.081632   \n",
      "\n",
      "       primary_cleaner.output.concentrate_pb  \\\n",
      "count                           16502.000000   \n",
      "mean                                8.620294   \n",
      "std                                 3.815415   \n",
      "min                                 0.000000   \n",
      "25%                                 7.146794   \n",
      "50%                                 9.618910   \n",
      "75%                                11.131134   \n",
      "max                                17.081278   \n",
      "\n",
      "       primary_cleaner.output.concentrate_sol  \\\n",
      "count                            16224.000000   \n",
      "mean                                 9.171453   \n",
      "std                                  4.901822   \n",
      "min                                  0.000000   \n",
      "25%                                  6.477601   \n",
      "50%                                  9.295954   \n",
      "75%                                 12.747802   \n",
      "max                                 22.280845   \n",
      "\n",
      "       primary_cleaner.output.concentrate_au  primary_cleaner.output.tail_ag  \\\n",
      "count                           16778.000000                    16777.000000   \n",
      "mean                               29.164596                       14.916716   \n",
      "std                                10.983718                        5.940559   \n",
      "min                                 0.000000                        0.000000   \n",
      "25%                                29.631129                       13.283872   \n",
      "50%                                32.648867                       15.554321   \n",
      "75%                                35.011318                       18.310868   \n",
      "max                                45.933934                       29.459575   \n",
      "\n",
      "       primary_cleaner.output.tail_pb  primary_cleaner.output.tail_sol  \\\n",
      "count                    16761.000000                     16579.000000   \n",
      "mean                         3.165957                         6.746209   \n",
      "std                          1.747066                         2.999423   \n",
      "min                          0.000000                         0.000000   \n",
      "25%                          2.162262                         5.530088   \n",
      "50%                          3.082745                         7.380058   \n",
      "75%                          4.190997                         8.728101   \n",
      "max                          9.634565                        20.620833   \n",
      "\n",
      "       primary_cleaner.output.tail_au  primary_cleaner.state.floatbank8_a_air  \\\n",
      "count                    16777.000000                            16820.000000   \n",
      "mean                         3.590534                             1521.291691   \n",
      "std                          2.028115                              380.064453   \n",
      "min                          0.000000                                0.000000   \n",
      "25%                          2.664223                             1503.883158   \n",
      "50%                          3.404941                             1601.139322   \n",
      "75%                          4.467152                             1699.304472   \n",
      "max                         18.528821                             2079.531340   \n",
      "\n",
      "       primary_cleaner.state.floatbank8_a_level  \\\n",
      "count                              16827.000000   \n",
      "mean                                -505.811103   \n",
      "std                                   77.640285   \n",
      "min                                 -800.037388   \n",
      "25%                                 -500.414946   \n",
      "50%                                 -499.951772   \n",
      "75%                                 -499.412584   \n",
      "max                                 -330.134203   \n",
      "\n",
      "       primary_cleaner.state.floatbank8_b_air  \\\n",
      "count                            16820.000000   \n",
      "mean                              1523.880015   \n",
      "std                                381.245324   \n",
      "min                                  0.000000   \n",
      "25%                               1502.956269   \n",
      "50%                               1601.125754   \n",
      "75%                               1699.997294   \n",
      "max                               2361.414084   \n",
      "\n",
      "       primary_cleaner.state.floatbank8_b_level  \\\n",
      "count                              16833.000000   \n",
      "mean                                -507.346105   \n",
      "std                                   79.830738   \n",
      "min                                 -800.409770   \n",
      "25%                                 -500.491143   \n",
      "50%                                 -499.985447   \n",
      "75%                                 -499.436173   \n",
      "max                                 -336.237097   \n",
      "\n",
      "       primary_cleaner.state.floatbank8_c_air  \\\n",
      "count                            16822.000000   \n",
      "mean                              1514.351131   \n",
      "std                                396.493106   \n",
      "min                                  0.000000   \n",
      "25%                               1500.685486   \n",
      "50%                               1600.908740   \n",
      "75%                               1700.221778   \n",
      "max                               2042.072583   \n",
      "\n",
      "       primary_cleaner.state.floatbank8_c_level  \\\n",
      "count                              16833.000000   \n",
      "mean                                -507.094373   \n",
      "std                                   78.823157   \n",
      "min                                 -800.362914   \n",
      "25%                                 -500.859360   \n",
      "50%                                 -499.950634   \n",
      "75%                                 -498.901452   \n",
      "max                                 -221.857683   \n",
      "\n",
      "       primary_cleaner.state.floatbank8_d_air  \\\n",
      "count                            16821.000000   \n",
      "mean                              1468.599116   \n",
      "std                                444.329353   \n",
      "min                                  0.000000   \n",
      "25%                               1418.756530   \n",
      "50%                               1599.709469   \n",
      "75%                               1699.222198   \n",
      "max                               2398.903635   \n",
      "\n",
      "       primary_cleaner.state.floatbank8_d_level  \\\n",
      "count                              16833.000000   \n",
      "mean                                -501.835392   \n",
      "std                                   87.257010   \n",
      "min                                 -800.166222   \n",
      "25%                                 -500.643616   \n",
      "50%                                 -499.908024   \n",
      "75%                                 -498.716100   \n",
      "max                                  -20.654343   \n",
      "\n",
      "       rougher.calculation.sulfate_to_au_concentrate  \\\n",
      "count                                   1.683300e+04   \n",
      "mean                                   -1.137202e+04   \n",
      "std                                     5.754320e+06   \n",
      "min                                    -6.643891e+08   \n",
      "25%                                     3.898865e+04   \n",
      "50%                                     4.316793e+04   \n",
      "75%                                     4.781106e+04   \n",
      "max                                     8.332404e+07   \n",
      "\n",
      "       rougher.calculation.floatbank10_sulfate_to_au_feed  \\\n",
      "count                                       1.683300e+04    \n",
      "mean                                        3.784836e+03    \n",
      "std                                         7.088720e+04    \n",
      "min                                        -2.023459e+06    \n",
      "25%                                         2.502308e+03    \n",
      "50%                                         2.854641e+03    \n",
      "75%                                         3.644408e+03    \n",
      "max                                         6.211433e+06    \n",
      "\n",
      "       rougher.calculation.floatbank11_sulfate_to_au_feed  \\\n",
      "count                                       1.683300e+04    \n",
      "mean                                        2.017512e+03    \n",
      "std                                         4.836941e+04    \n",
      "min                                        -4.014502e+06    \n",
      "25%                                         2.498158e+03    \n",
      "50%                                         2.815062e+03    \n",
      "75%                                         3.511394e+03    \n",
      "max                                         1.537564e+06    \n",
      "\n",
      "       rougher.calculation.au_pb_ratio  rougher.input.feed_ag  \\\n",
      "count                     15618.000000           16778.000000   \n",
      "mean                          2.327953               7.832347   \n",
      "std                           0.899125               3.139014   \n",
      "min                          -0.010548               0.000000   \n",
      "25%                           1.979046               6.889426   \n",
      "50%                           2.229144               7.938193   \n",
      "75%                           2.637776               9.829857   \n",
      "max                          39.379272              14.869652   \n",
      "\n",
      "       rougher.input.feed_pb  rougher.input.feed_rate  \\\n",
      "count           16632.000000             16347.000000   \n",
      "mean                3.218931               435.963431   \n",
      "std                 1.477263               156.592162   \n",
      "min                 0.000000                 0.000044   \n",
      "25%                 2.551143               396.667936   \n",
      "50%                 3.297050               488.629971   \n",
      "75%                 4.181842               540.548376   \n",
      "max                 7.142594               717.508837   \n",
      "\n",
      "       rougher.input.feed_size  rougher.input.feed_sol  rougher.input.feed_au  \\\n",
      "count             16443.000000            16568.000000           16777.000000   \n",
      "mean                 58.676444               32.636662               7.170717   \n",
      "std                  23.922591               11.661981               3.002113   \n",
      "min                   9.659576                0.000000               0.000000   \n",
      "25%                  47.575879               32.170423               6.203083   \n",
      "50%                  54.104257               36.354079               7.443530   \n",
      "75%                  65.051064               39.043343               8.965193   \n",
      "max                 484.967466               48.363177              14.093363   \n",
      "\n",
      "       rougher.input.floatbank10_sulfate  rougher.input.floatbank10_xanthate  \\\n",
      "count                       15816.000000                        16514.000000   \n",
      "mean                           11.198142                            5.366609   \n",
      "std                             3.964080                            1.940766   \n",
      "min                             0.000002                            0.000003   \n",
      "25%                             9.366078                            4.802531   \n",
      "50%                            11.179351                            5.767015   \n",
      "75%                            13.203315                            6.501621   \n",
      "max                            36.118275                           31.493331   \n",
      "\n",
      "       rougher.input.floatbank11_sulfate  rougher.input.floatbank11_xanthate  \\\n",
      "count                       16237.000000                        14956.000000   \n",
      "mean                           10.550080                            5.792970   \n",
      "std                             4.560428                            1.294180   \n",
      "min                             0.000049                            0.000010   \n",
      "25%                             8.903492                            5.097006   \n",
      "50%                            11.001027                            5.995942   \n",
      "75%                            13.004085                            6.695277   \n",
      "max                            37.980648                            9.698407   \n",
      "\n",
      "       rougher.output.concentrate_ag  rougher.output.concentrate_pb  \\\n",
      "count                   16778.000000                   16778.000000   \n",
      "mean                       10.580475                       6.880322   \n",
      "std                         4.451490                       2.928757   \n",
      "min                         0.000000                       0.000000   \n",
      "25%                         9.970467                       6.346373   \n",
      "50%                        11.459862                       7.583773   \n",
      "75%                        13.280031                       8.503498   \n",
      "max                        24.480271                      18.394042   \n",
      "\n",
      "       rougher.output.concentrate_sol  rougher.output.concentrate_au  \\\n",
      "count                    16698.000000                   16778.000000   \n",
      "mean                        25.388996                      17.401541   \n",
      "std                         10.400528                       6.921875   \n",
      "min                          0.000000                       0.000000   \n",
      "25%                         24.792988                      17.443663   \n",
      "50%                         28.797785                      19.644663   \n",
      "75%                         31.542677                      21.224486   \n",
      "max                         40.089993                      28.522811   \n",
      "\n",
      "       rougher.output.recovery  rougher.output.tail_ag  \\\n",
      "count             14287.000000            14610.000000   \n",
      "mean                 82.394201                5.566579   \n",
      "std                  15.096808                1.045456   \n",
      "min                   0.000000                0.594562   \n",
      "25%                  79.818372                4.918713   \n",
      "50%                  85.235997                5.718038   \n",
      "75%                  90.131691                6.308490   \n",
      "max                 100.000000               12.719177   \n",
      "\n",
      "       rougher.output.tail_pb  rougher.output.tail_sol  \\\n",
      "count            16778.000000             14611.000000   \n",
      "mean                 0.596493                17.865309   \n",
      "std                  0.330819                 3.455588   \n",
      "min                  0.000000                10.014648   \n",
      "25%                  0.413711                15.646980   \n",
      "50%                  0.594959                17.996971   \n",
      "75%                  0.779544                19.933255   \n",
      "max                  3.778064                66.117188   \n",
      "\n",
      "       rougher.output.tail_au  rougher.state.floatbank10_a_air  \\\n",
      "count            14611.000000                     16807.000000   \n",
      "mean                 1.763930                      1077.201302   \n",
      "std                  0.731518                       291.800894   \n",
      "min                  0.020676                        -0.345168   \n",
      "25%                  1.311610                       999.636979   \n",
      "50%                  1.747907                      1001.310190   \n",
      "75%                  2.190839                      1299.577654   \n",
      "max                  9.688980                      1521.980372   \n",
      "\n",
      "       rougher.state.floatbank10_a_level  rougher.state.floatbank10_b_air  \\\n",
      "count                       16807.000000                     16807.000000   \n",
      "mean                         -384.109359                      1252.285954   \n",
      "std                           112.408685                       331.076715   \n",
      "min                          -658.223080                        -0.759568   \n",
      "25%                          -499.908427                      1196.415722   \n",
      "50%                          -300.233403                      1299.649429   \n",
      "75%                          -299.976784                      1432.326657   \n",
      "max                           -19.383282                      1809.194008   \n",
      "\n",
      "       rougher.state.floatbank10_b_level  rougher.state.floatbank10_c_air  \\\n",
      "count                       16807.000000                     16807.000000   \n",
      "mean                         -475.443395                      1229.567445   \n",
      "std                            70.051458                       344.840251   \n",
      "min                          -650.437575                        -0.378521   \n",
      "25%                          -500.284895                      1100.084257   \n",
      "50%                          -499.837368                      1298.324087   \n",
      "75%                          -400.865979                      1448.560325   \n",
      "max                             9.457822                      2499.129174   \n",
      "\n",
      "       rougher.state.floatbank10_c_level  rougher.state.floatbank10_d_air  \\\n",
      "count                       16814.000000                     16802.000000   \n",
      "mean                         -474.713811                      1146.785992   \n",
      "std                            67.065122                       327.311834   \n",
      "min                          -650.151190                        -1.197435   \n",
      "25%                          -500.329171                      1044.848978   \n",
      "50%                          -499.775884                      1199.211289   \n",
      "75%                          -401.277897                      1307.829439   \n",
      "max                           -10.242658                      2077.222699   \n",
      "\n",
      "       rougher.state.floatbank10_d_level  rougher.state.floatbank10_e_air  \\\n",
      "count                       16809.000000                     16257.000000   \n",
      "mean                         -476.180417                      1033.886871   \n",
      "std                            64.118377                       293.456164   \n",
      "min                          -649.300693                        -2.163619   \n",
      "25%                          -500.594910                       949.615568   \n",
      "50%                          -499.640478                      1049.693712   \n",
      "75%                          -402.354963                      1199.711798   \n",
      "max                            21.365035                      2330.310425   \n",
      "\n",
      "       rougher.state.floatbank10_e_level  rougher.state.floatbank10_f_air  \\\n",
      "count                       16809.000000                     16802.000000   \n",
      "mean                         -475.545309                       983.384202   \n",
      "std                            68.781915                       275.426261   \n",
      "min                          -650.196204                        -2.636171   \n",
      "25%                          -500.395113                       900.029475   \n",
      "50%                          -499.724295                       999.828611   \n",
      "75%                          -401.349388                      1099.734617   \n",
      "max                            -2.406020                      1950.493751   \n",
      "\n",
      "       rougher.state.floatbank10_f_level  secondary_cleaner.output.tail_ag  \\\n",
      "count                       16802.000000                      16776.000000   \n",
      "mean                         -475.980531                         13.014971   \n",
      "std                            70.132801                          5.960323   \n",
      "min                          -650.072915                          0.000000   \n",
      "25%                          -500.738649                         11.367185   \n",
      "50%                          -499.576077                         14.773117   \n",
      "75%                          -402.026493                         17.134159   \n",
      "max                           -21.745268                         23.264738   \n",
      "\n",
      "       secondary_cleaner.output.tail_pb  secondary_cleaner.output.tail_sol  \\\n",
      "count                      16764.000000                       14874.000000   \n",
      "mean                           5.320902                           6.181742   \n",
      "std                            3.191103                           4.460622   \n",
      "min                            0.000000                           0.000000   \n",
      "25%                            3.466609                           2.045824   \n",
      "50%                            5.164745                           6.194420   \n",
      "75%                            7.562139                          10.252499   \n",
      "max                           17.042505                          33.058594   \n",
      "\n",
      "       secondary_cleaner.output.tail_au  \\\n",
      "count                      16778.000000   \n",
      "mean                           3.935796   \n",
      "std                            2.675785   \n",
      "min                            0.000000   \n",
      "25%                            2.820390   \n",
      "50%                            3.863798   \n",
      "75%                            4.845187   \n",
      "max                           26.811643   \n",
      "\n",
      "       secondary_cleaner.state.floatbank2_a_air  \\\n",
      "count                              16497.000000   \n",
      "mean                                  28.134535   \n",
      "std                                    8.320744   \n",
      "min                                    0.000000   \n",
      "25%                                   25.045244   \n",
      "50%                                   29.988519   \n",
      "75%                                   34.771800   \n",
      "max                                   60.000000   \n",
      "\n",
      "       secondary_cleaner.state.floatbank2_a_level  \\\n",
      "count                                16751.000000   \n",
      "mean                                  -517.777116   \n",
      "std                                     89.551883   \n",
      "min                                   -799.841677   \n",
      "25%                                   -500.333800   \n",
      "50%                                   -499.986132   \n",
      "75%                                   -499.620568   \n",
      "max                                   -127.875565   \n",
      "\n",
      "       secondary_cleaner.state.floatbank2_b_air  \\\n",
      "count                              16705.000000   \n",
      "mean                                  23.619503   \n",
      "std                                    8.144236   \n",
      "min                                    0.000000   \n",
      "25%                                   20.110141   \n",
      "50%                                   26.981647   \n",
      "75%                                   28.094066   \n",
      "max                                   51.093216   \n",
      "\n",
      "       secondary_cleaner.state.floatbank2_b_level  \\\n",
      "count                                16748.000000   \n",
      "mean                                  -519.562134   \n",
      "std                                     89.374849   \n",
      "min                                   -799.967956   \n",
      "25%                                   -500.348178   \n",
      "50%                                   -500.037663   \n",
      "75%                                   -499.780945   \n",
      "max                                   -212.064665   \n",
      "\n",
      "       secondary_cleaner.state.floatbank3_a_air  \\\n",
      "count                              16763.000000   \n",
      "mean                                  27.913358   \n",
      "std                                    8.170477   \n",
      "min                                    0.000000   \n",
      "25%                                   24.972364   \n",
      "50%                                   27.999437   \n",
      "75%                                   34.967470   \n",
      "max                                   60.000000   \n",
      "\n",
      "       secondary_cleaner.state.floatbank3_a_level  \\\n",
      "count                                16747.000000   \n",
      "mean                                  -493.470026   \n",
      "std                                     85.296428   \n",
      "min                                   -799.926254   \n",
      "25%                                   -500.236661   \n",
      "50%                                   -499.908346   \n",
      "75%                                   -495.885262   \n",
      "max                                   -191.678810   \n",
      "\n",
      "       secondary_cleaner.state.floatbank3_b_air  \\\n",
      "count                              16752.000000   \n",
      "mean                                  21.663507   \n",
      "std                                    6.738952   \n",
      "min                                    0.000000   \n",
      "25%                                   19.007706   \n",
      "50%                                   21.996298   \n",
      "75%                                   25.071338   \n",
      "max                                   39.487633   \n",
      "\n",
      "       secondary_cleaner.state.floatbank3_b_level  \\\n",
      "count                                16750.000000   \n",
      "mean                                  -501.521561   \n",
      "std                                     74.723250   \n",
      "min                                   -809.421923   \n",
      "25%                                   -500.141064   \n",
      "50%                                   -499.980536   \n",
      "75%                                   -499.778014   \n",
      "max                                   -139.771483   \n",
      "\n",
      "       secondary_cleaner.state.floatbank4_a_air  \\\n",
      "count                              16731.000000   \n",
      "mean                                  19.101874   \n",
      "std                                    6.883163   \n",
      "min                                    0.000000   \n",
      "25%                                   14.508299   \n",
      "50%                                   19.986958   \n",
      "75%                                   24.983961   \n",
      "max                                   60.000000   \n",
      "\n",
      "       secondary_cleaner.state.floatbank4_a_level  \\\n",
      "count                                16747.000000   \n",
      "mean                                  -494.164481   \n",
      "std                                     84.803334   \n",
      "min                                   -799.920713   \n",
      "25%                                   -500.837689   \n",
      "50%                                   -499.778379   \n",
      "75%                                   -494.648754   \n",
      "max                                   -127.692333   \n",
      "\n",
      "       secondary_cleaner.state.floatbank4_b_air  \\\n",
      "count                              16768.000000   \n",
      "mean                                  14.778164   \n",
      "std                                    5.999149   \n",
      "min                                    0.000000   \n",
      "25%                                   10.741388   \n",
      "50%                                   14.943933   \n",
      "75%                                   20.023751   \n",
      "max                                   28.003828   \n",
      "\n",
      "       secondary_cleaner.state.floatbank4_b_level  \\\n",
      "count                                16767.000000   \n",
      "mean                                  -476.600082   \n",
      "std                                     89.381172   \n",
      "min                                   -800.021781   \n",
      "25%                                   -500.269182   \n",
      "50%                                   -499.593286   \n",
      "75%                                   -400.137948   \n",
      "max                                    -71.472472   \n",
      "\n",
      "       secondary_cleaner.state.floatbank5_a_air  \\\n",
      "count                              16775.000000   \n",
      "mean                                  15.779488   \n",
      "std                                    6.834703   \n",
      "min                                   -0.423260   \n",
      "25%                                   10.977713   \n",
      "50%                                   15.998340   \n",
      "75%                                   20.000701   \n",
      "max                                   63.116298   \n",
      "\n",
      "       secondary_cleaner.state.floatbank5_a_level  \\\n",
      "count                                16775.000000   \n",
      "mean                                  -500.230146   \n",
      "std                                     76.983542   \n",
      "min                                   -799.741097   \n",
      "25%                                   -500.530594   \n",
      "50%                                   -499.784231   \n",
      "75%                                   -496.531781   \n",
      "max                                   -275.073125   \n",
      "\n",
      "       secondary_cleaner.state.floatbank5_b_air  \\\n",
      "count                              16775.000000   \n",
      "mean                                  12.377241   \n",
      "std                                    6.219989   \n",
      "min                                    0.427084   \n",
      "25%                                    8.925586   \n",
      "50%                                   11.092839   \n",
      "75%                                   15.979467   \n",
      "max                                   39.846228   \n",
      "\n",
      "       secondary_cleaner.state.floatbank5_b_level  \\\n",
      "count                                16776.000000   \n",
      "mean                                  -498.956257   \n",
      "std                                     82.146207   \n",
      "min                                   -800.258209   \n",
      "25%                                   -500.147603   \n",
      "50%                                   -499.933330   \n",
      "75%                                   -498.418000   \n",
      "max                                   -120.190931   \n",
      "\n",
      "       secondary_cleaner.state.floatbank6_a_air  \\\n",
      "count                              16757.000000   \n",
      "mean                                  18.429208   \n",
      "std                                    6.958294   \n",
      "min                                    0.024270   \n",
      "25%                                   13.977626   \n",
      "50%                                   18.034960   \n",
      "75%                                   24.984992   \n",
      "max                                   54.876806   \n",
      "\n",
      "       secondary_cleaner.state.floatbank6_a_level  \n",
      "count                                16775.000000  \n",
      "mean                                  -521.801826  \n",
      "std                                     77.170888  \n",
      "min                                   -810.473526  \n",
      "25%                                   -501.080595  \n",
      "50%                                   -500.109898  \n",
      "75%                                   -499.565540  \n",
      "max                                    -39.784927  \n",
      "\n",
      "    \n",
      "    \n"
     ]
    },
    {
     "data": {
      "text/html": [
       "<div>\n",
       "<style scoped>\n",
       "    .dataframe tbody tr th:only-of-type {\n",
       "        vertical-align: middle;\n",
       "    }\n",
       "\n",
       "    .dataframe tbody tr th {\n",
       "        vertical-align: top;\n",
       "    }\n",
       "\n",
       "    .dataframe thead th {\n",
       "        text-align: right;\n",
       "    }\n",
       "</style>\n",
       "<table border=\"1\" class=\"dataframe\">\n",
       "  <thead>\n",
       "    <tr style=\"text-align: right;\">\n",
       "      <th></th>\n",
       "      <th>date</th>\n",
       "      <th>final.output.concentrate_ag</th>\n",
       "      <th>final.output.concentrate_pb</th>\n",
       "      <th>final.output.concentrate_sol</th>\n",
       "      <th>final.output.concentrate_au</th>\n",
       "      <th>final.output.recovery</th>\n",
       "      <th>final.output.tail_ag</th>\n",
       "      <th>final.output.tail_pb</th>\n",
       "      <th>final.output.tail_sol</th>\n",
       "      <th>final.output.tail_au</th>\n",
       "      <th>primary_cleaner.input.sulfate</th>\n",
       "      <th>primary_cleaner.input.depressant</th>\n",
       "      <th>primary_cleaner.input.feed_size</th>\n",
       "      <th>primary_cleaner.input.xanthate</th>\n",
       "      <th>primary_cleaner.output.concentrate_ag</th>\n",
       "      <th>primary_cleaner.output.concentrate_pb</th>\n",
       "      <th>primary_cleaner.output.concentrate_sol</th>\n",
       "      <th>primary_cleaner.output.concentrate_au</th>\n",
       "      <th>primary_cleaner.output.tail_ag</th>\n",
       "      <th>primary_cleaner.output.tail_pb</th>\n",
       "      <th>primary_cleaner.output.tail_sol</th>\n",
       "      <th>primary_cleaner.output.tail_au</th>\n",
       "      <th>primary_cleaner.state.floatbank8_a_air</th>\n",
       "      <th>primary_cleaner.state.floatbank8_a_level</th>\n",
       "      <th>primary_cleaner.state.floatbank8_b_air</th>\n",
       "      <th>primary_cleaner.state.floatbank8_b_level</th>\n",
       "      <th>primary_cleaner.state.floatbank8_c_air</th>\n",
       "      <th>primary_cleaner.state.floatbank8_c_level</th>\n",
       "      <th>primary_cleaner.state.floatbank8_d_air</th>\n",
       "      <th>primary_cleaner.state.floatbank8_d_level</th>\n",
       "      <th>rougher.calculation.sulfate_to_au_concentrate</th>\n",
       "      <th>rougher.calculation.floatbank10_sulfate_to_au_feed</th>\n",
       "      <th>rougher.calculation.floatbank11_sulfate_to_au_feed</th>\n",
       "      <th>rougher.calculation.au_pb_ratio</th>\n",
       "      <th>rougher.input.feed_ag</th>\n",
       "      <th>rougher.input.feed_pb</th>\n",
       "      <th>rougher.input.feed_rate</th>\n",
       "      <th>rougher.input.feed_size</th>\n",
       "      <th>rougher.input.feed_sol</th>\n",
       "      <th>rougher.input.feed_au</th>\n",
       "      <th>rougher.input.floatbank10_sulfate</th>\n",
       "      <th>rougher.input.floatbank10_xanthate</th>\n",
       "      <th>rougher.input.floatbank11_sulfate</th>\n",
       "      <th>rougher.input.floatbank11_xanthate</th>\n",
       "      <th>rougher.output.concentrate_ag</th>\n",
       "      <th>rougher.output.concentrate_pb</th>\n",
       "      <th>rougher.output.concentrate_sol</th>\n",
       "      <th>rougher.output.concentrate_au</th>\n",
       "      <th>rougher.output.recovery</th>\n",
       "      <th>rougher.output.tail_ag</th>\n",
       "      <th>rougher.output.tail_pb</th>\n",
       "      <th>rougher.output.tail_sol</th>\n",
       "      <th>rougher.output.tail_au</th>\n",
       "      <th>rougher.state.floatbank10_a_air</th>\n",
       "      <th>rougher.state.floatbank10_a_level</th>\n",
       "      <th>rougher.state.floatbank10_b_air</th>\n",
       "      <th>rougher.state.floatbank10_b_level</th>\n",
       "      <th>rougher.state.floatbank10_c_air</th>\n",
       "      <th>rougher.state.floatbank10_c_level</th>\n",
       "      <th>rougher.state.floatbank10_d_air</th>\n",
       "      <th>rougher.state.floatbank10_d_level</th>\n",
       "      <th>rougher.state.floatbank10_e_air</th>\n",
       "      <th>rougher.state.floatbank10_e_level</th>\n",
       "      <th>rougher.state.floatbank10_f_air</th>\n",
       "      <th>rougher.state.floatbank10_f_level</th>\n",
       "      <th>secondary_cleaner.output.tail_ag</th>\n",
       "      <th>secondary_cleaner.output.tail_pb</th>\n",
       "      <th>secondary_cleaner.output.tail_sol</th>\n",
       "      <th>secondary_cleaner.output.tail_au</th>\n",
       "      <th>secondary_cleaner.state.floatbank2_a_air</th>\n",
       "      <th>secondary_cleaner.state.floatbank2_a_level</th>\n",
       "      <th>secondary_cleaner.state.floatbank2_b_air</th>\n",
       "      <th>secondary_cleaner.state.floatbank2_b_level</th>\n",
       "      <th>secondary_cleaner.state.floatbank3_a_air</th>\n",
       "      <th>secondary_cleaner.state.floatbank3_a_level</th>\n",
       "      <th>secondary_cleaner.state.floatbank3_b_air</th>\n",
       "      <th>secondary_cleaner.state.floatbank3_b_level</th>\n",
       "      <th>secondary_cleaner.state.floatbank4_a_air</th>\n",
       "      <th>secondary_cleaner.state.floatbank4_a_level</th>\n",
       "      <th>secondary_cleaner.state.floatbank4_b_air</th>\n",
       "      <th>secondary_cleaner.state.floatbank4_b_level</th>\n",
       "      <th>secondary_cleaner.state.floatbank5_a_air</th>\n",
       "      <th>secondary_cleaner.state.floatbank5_a_level</th>\n",
       "      <th>secondary_cleaner.state.floatbank5_b_air</th>\n",
       "      <th>secondary_cleaner.state.floatbank5_b_level</th>\n",
       "      <th>secondary_cleaner.state.floatbank6_a_air</th>\n",
       "      <th>secondary_cleaner.state.floatbank6_a_level</th>\n",
       "    </tr>\n",
       "  </thead>\n",
       "  <tbody>\n",
       "    <tr>\n",
       "      <th>0</th>\n",
       "      <td>2016-01-15 00:00:00</td>\n",
       "      <td>6.055403</td>\n",
       "      <td>9.889648</td>\n",
       "      <td>5.507324</td>\n",
       "      <td>42.192020</td>\n",
       "      <td>70.541216</td>\n",
       "      <td>10.411962</td>\n",
       "      <td>0.895447</td>\n",
       "      <td>16.904297</td>\n",
       "      <td>2.143149</td>\n",
       "      <td>127.092003</td>\n",
       "      <td>10.128295</td>\n",
       "      <td>7.25</td>\n",
       "      <td>0.988759</td>\n",
       "      <td>8.547551</td>\n",
       "      <td>10.389648</td>\n",
       "      <td>19.529297</td>\n",
       "      <td>34.174427</td>\n",
       "      <td>14.936526</td>\n",
       "      <td>2.534912</td>\n",
       "      <td>7.476074</td>\n",
       "      <td>2.106679</td>\n",
       "      <td>1549.775757</td>\n",
       "      <td>-498.912140</td>\n",
       "      <td>1551.434204</td>\n",
       "      <td>-516.403442</td>\n",
       "      <td>1549.873901</td>\n",
       "      <td>-498.666595</td>\n",
       "      <td>1554.367432</td>\n",
       "      <td>-493.428131</td>\n",
       "      <td>41885.707031</td>\n",
       "      <td>3481.779053</td>\n",
       "      <td>3520.337158</td>\n",
       "      <td>2.838687</td>\n",
       "      <td>6.100378</td>\n",
       "      <td>2.284912</td>\n",
       "      <td>523.546326</td>\n",
       "      <td>55.486599</td>\n",
       "      <td>36.808594</td>\n",
       "      <td>6.486150</td>\n",
       "      <td>11.986616</td>\n",
       "      <td>6.007990</td>\n",
       "      <td>11.836743</td>\n",
       "      <td>6.005818</td>\n",
       "      <td>11.500771</td>\n",
       "      <td>7.101074</td>\n",
       "      <td>28.029297</td>\n",
       "      <td>19.793808</td>\n",
       "      <td>87.107763</td>\n",
       "      <td>5.008018</td>\n",
       "      <td>0.508728</td>\n",
       "      <td>19.154297</td>\n",
       "      <td>1.170244</td>\n",
       "      <td>999.706909</td>\n",
       "      <td>-404.066986</td>\n",
       "      <td>1603.011353</td>\n",
       "      <td>-434.715027</td>\n",
       "      <td>1602.375000</td>\n",
       "      <td>-442.204468</td>\n",
       "      <td>1598.937256</td>\n",
       "      <td>-451.294128</td>\n",
       "      <td>1404.472046</td>\n",
       "      <td>-455.462982</td>\n",
       "      <td>1416.354980</td>\n",
       "      <td>-451.939636</td>\n",
       "      <td>14.500184</td>\n",
       "      <td>4.694824</td>\n",
       "      <td>8.764648</td>\n",
       "      <td>2.606185</td>\n",
       "      <td>25.853109</td>\n",
       "      <td>-498.526489</td>\n",
       "      <td>23.893660</td>\n",
       "      <td>-501.406281</td>\n",
       "      <td>23.961798</td>\n",
       "      <td>-495.262817</td>\n",
       "      <td>21.940409</td>\n",
       "      <td>-499.340973</td>\n",
       "      <td>14.016835</td>\n",
       "      <td>-502.488007</td>\n",
       "      <td>12.099931</td>\n",
       "      <td>-504.715942</td>\n",
       "      <td>9.925633</td>\n",
       "      <td>-498.310211</td>\n",
       "      <td>8.079666</td>\n",
       "      <td>-500.470978</td>\n",
       "      <td>14.151341</td>\n",
       "      <td>-605.841980</td>\n",
       "    </tr>\n",
       "    <tr>\n",
       "      <th>1</th>\n",
       "      <td>2016-01-15 01:00:00</td>\n",
       "      <td>6.029369</td>\n",
       "      <td>9.968944</td>\n",
       "      <td>5.257781</td>\n",
       "      <td>42.701629</td>\n",
       "      <td>69.266198</td>\n",
       "      <td>10.462676</td>\n",
       "      <td>0.927452</td>\n",
       "      <td>16.634514</td>\n",
       "      <td>2.224930</td>\n",
       "      <td>125.629232</td>\n",
       "      <td>10.296251</td>\n",
       "      <td>7.25</td>\n",
       "      <td>1.002663</td>\n",
       "      <td>8.558743</td>\n",
       "      <td>10.497069</td>\n",
       "      <td>19.369147</td>\n",
       "      <td>34.118526</td>\n",
       "      <td>16.250511</td>\n",
       "      <td>3.049646</td>\n",
       "      <td>6.733907</td>\n",
       "      <td>2.353017</td>\n",
       "      <td>1576.166671</td>\n",
       "      <td>-500.904965</td>\n",
       "      <td>1575.950626</td>\n",
       "      <td>-499.865889</td>\n",
       "      <td>1575.994189</td>\n",
       "      <td>-499.315107</td>\n",
       "      <td>1574.479259</td>\n",
       "      <td>-498.931665</td>\n",
       "      <td>42050.861809</td>\n",
       "      <td>3498.370979</td>\n",
       "      <td>3489.981857</td>\n",
       "      <td>2.858998</td>\n",
       "      <td>6.161113</td>\n",
       "      <td>2.266033</td>\n",
       "      <td>525.290581</td>\n",
       "      <td>57.278666</td>\n",
       "      <td>35.753385</td>\n",
       "      <td>6.478583</td>\n",
       "      <td>11.971193</td>\n",
       "      <td>6.005766</td>\n",
       "      <td>11.996163</td>\n",
       "      <td>6.012594</td>\n",
       "      <td>11.615865</td>\n",
       "      <td>7.278807</td>\n",
       "      <td>28.067063</td>\n",
       "      <td>20.050975</td>\n",
       "      <td>86.843261</td>\n",
       "      <td>4.955378</td>\n",
       "      <td>0.536689</td>\n",
       "      <td>18.965234</td>\n",
       "      <td>1.184827</td>\n",
       "      <td>1000.286398</td>\n",
       "      <td>-400.065196</td>\n",
       "      <td>1600.754587</td>\n",
       "      <td>-449.953435</td>\n",
       "      <td>1600.479580</td>\n",
       "      <td>-449.830646</td>\n",
       "      <td>1600.527589</td>\n",
       "      <td>-449.953649</td>\n",
       "      <td>1399.227084</td>\n",
       "      <td>-450.869848</td>\n",
       "      <td>1399.719514</td>\n",
       "      <td>-450.119001</td>\n",
       "      <td>14.265474</td>\n",
       "      <td>4.592547</td>\n",
       "      <td>9.001494</td>\n",
       "      <td>2.488248</td>\n",
       "      <td>25.880539</td>\n",
       "      <td>-499.989656</td>\n",
       "      <td>23.889530</td>\n",
       "      <td>-500.372428</td>\n",
       "      <td>23.970550</td>\n",
       "      <td>-500.085473</td>\n",
       "      <td>22.085714</td>\n",
       "      <td>-499.446897</td>\n",
       "      <td>13.992281</td>\n",
       "      <td>-505.503262</td>\n",
       "      <td>11.950531</td>\n",
       "      <td>-501.331529</td>\n",
       "      <td>10.039245</td>\n",
       "      <td>-500.169983</td>\n",
       "      <td>7.984757</td>\n",
       "      <td>-500.582168</td>\n",
       "      <td>13.998353</td>\n",
       "      <td>-599.787184</td>\n",
       "    </tr>\n",
       "    <tr>\n",
       "      <th>2</th>\n",
       "      <td>2016-01-15 02:00:00</td>\n",
       "      <td>6.055926</td>\n",
       "      <td>10.213995</td>\n",
       "      <td>5.383759</td>\n",
       "      <td>42.657501</td>\n",
       "      <td>68.116445</td>\n",
       "      <td>10.507046</td>\n",
       "      <td>0.953716</td>\n",
       "      <td>16.208849</td>\n",
       "      <td>2.257889</td>\n",
       "      <td>123.819808</td>\n",
       "      <td>11.316280</td>\n",
       "      <td>7.25</td>\n",
       "      <td>0.991265</td>\n",
       "      <td>8.603505</td>\n",
       "      <td>10.354494</td>\n",
       "      <td>19.167579</td>\n",
       "      <td>33.969464</td>\n",
       "      <td>16.491823</td>\n",
       "      <td>3.124664</td>\n",
       "      <td>6.471768</td>\n",
       "      <td>2.416800</td>\n",
       "      <td>1601.556163</td>\n",
       "      <td>-499.997791</td>\n",
       "      <td>1600.386685</td>\n",
       "      <td>-500.607762</td>\n",
       "      <td>1602.003542</td>\n",
       "      <td>-500.870069</td>\n",
       "      <td>1599.541515</td>\n",
       "      <td>-499.827444</td>\n",
       "      <td>42018.101184</td>\n",
       "      <td>3495.348910</td>\n",
       "      <td>3502.359819</td>\n",
       "      <td>2.945989</td>\n",
       "      <td>6.116455</td>\n",
       "      <td>2.159622</td>\n",
       "      <td>530.026610</td>\n",
       "      <td>57.510649</td>\n",
       "      <td>35.971630</td>\n",
       "      <td>6.362222</td>\n",
       "      <td>11.920603</td>\n",
       "      <td>6.197377</td>\n",
       "      <td>11.920305</td>\n",
       "      <td>6.204633</td>\n",
       "      <td>11.695753</td>\n",
       "      <td>7.216833</td>\n",
       "      <td>27.454037</td>\n",
       "      <td>19.737170</td>\n",
       "      <td>86.842308</td>\n",
       "      <td>4.843460</td>\n",
       "      <td>0.546416</td>\n",
       "      <td>18.808533</td>\n",
       "      <td>1.162562</td>\n",
       "      <td>999.719565</td>\n",
       "      <td>-400.074028</td>\n",
       "      <td>1599.337330</td>\n",
       "      <td>-450.008530</td>\n",
       "      <td>1599.672797</td>\n",
       "      <td>-449.954491</td>\n",
       "      <td>1599.849325</td>\n",
       "      <td>-449.954185</td>\n",
       "      <td>1399.180945</td>\n",
       "      <td>-449.937588</td>\n",
       "      <td>1400.316682</td>\n",
       "      <td>-450.527147</td>\n",
       "      <td>14.115662</td>\n",
       "      <td>4.624775</td>\n",
       "      <td>8.842896</td>\n",
       "      <td>2.458187</td>\n",
       "      <td>26.005245</td>\n",
       "      <td>-499.929616</td>\n",
       "      <td>23.886657</td>\n",
       "      <td>-499.951928</td>\n",
       "      <td>23.913535</td>\n",
       "      <td>-499.442343</td>\n",
       "      <td>23.957717</td>\n",
       "      <td>-499.901982</td>\n",
       "      <td>14.015015</td>\n",
       "      <td>-502.520901</td>\n",
       "      <td>11.912783</td>\n",
       "      <td>-501.133383</td>\n",
       "      <td>10.070913</td>\n",
       "      <td>-500.129135</td>\n",
       "      <td>8.013877</td>\n",
       "      <td>-500.517572</td>\n",
       "      <td>14.028663</td>\n",
       "      <td>-601.427363</td>\n",
       "    </tr>\n",
       "    <tr>\n",
       "      <th>3</th>\n",
       "      <td>2016-01-15 03:00:00</td>\n",
       "      <td>6.047977</td>\n",
       "      <td>9.977019</td>\n",
       "      <td>4.858634</td>\n",
       "      <td>42.689819</td>\n",
       "      <td>68.347543</td>\n",
       "      <td>10.422762</td>\n",
       "      <td>0.883763</td>\n",
       "      <td>16.532835</td>\n",
       "      <td>2.146849</td>\n",
       "      <td>122.270188</td>\n",
       "      <td>11.322140</td>\n",
       "      <td>7.25</td>\n",
       "      <td>0.996739</td>\n",
       "      <td>7.221879</td>\n",
       "      <td>8.496563</td>\n",
       "      <td>15.978538</td>\n",
       "      <td>28.260743</td>\n",
       "      <td>16.024359</td>\n",
       "      <td>2.960362</td>\n",
       "      <td>6.843791</td>\n",
       "      <td>2.262051</td>\n",
       "      <td>1599.968720</td>\n",
       "      <td>-500.951778</td>\n",
       "      <td>1600.659236</td>\n",
       "      <td>-499.677094</td>\n",
       "      <td>1600.304144</td>\n",
       "      <td>-500.727997</td>\n",
       "      <td>1600.449520</td>\n",
       "      <td>-500.052575</td>\n",
       "      <td>42029.447991</td>\n",
       "      <td>3498.578313</td>\n",
       "      <td>3499.162912</td>\n",
       "      <td>3.002340</td>\n",
       "      <td>6.043309</td>\n",
       "      <td>2.037807</td>\n",
       "      <td>542.590390</td>\n",
       "      <td>57.792734</td>\n",
       "      <td>36.862241</td>\n",
       "      <td>6.118189</td>\n",
       "      <td>11.630094</td>\n",
       "      <td>6.203177</td>\n",
       "      <td>11.692450</td>\n",
       "      <td>6.196578</td>\n",
       "      <td>11.915047</td>\n",
       "      <td>7.175616</td>\n",
       "      <td>27.341277</td>\n",
       "      <td>19.320810</td>\n",
       "      <td>87.226430</td>\n",
       "      <td>4.655288</td>\n",
       "      <td>0.542525</td>\n",
       "      <td>19.330200</td>\n",
       "      <td>1.079755</td>\n",
       "      <td>999.814770</td>\n",
       "      <td>-400.200179</td>\n",
       "      <td>1600.059442</td>\n",
       "      <td>-450.619948</td>\n",
       "      <td>1600.012842</td>\n",
       "      <td>-449.910497</td>\n",
       "      <td>1597.725177</td>\n",
       "      <td>-450.130127</td>\n",
       "      <td>1400.943157</td>\n",
       "      <td>-450.030142</td>\n",
       "      <td>1400.234743</td>\n",
       "      <td>-449.790835</td>\n",
       "      <td>13.732071</td>\n",
       "      <td>4.482453</td>\n",
       "      <td>9.122857</td>\n",
       "      <td>2.322062</td>\n",
       "      <td>25.942508</td>\n",
       "      <td>-499.176749</td>\n",
       "      <td>23.955516</td>\n",
       "      <td>-499.848796</td>\n",
       "      <td>23.966838</td>\n",
       "      <td>-500.008812</td>\n",
       "      <td>23.954443</td>\n",
       "      <td>-499.944710</td>\n",
       "      <td>14.036510</td>\n",
       "      <td>-500.857308</td>\n",
       "      <td>11.999550</td>\n",
       "      <td>-501.193686</td>\n",
       "      <td>9.970366</td>\n",
       "      <td>-499.201640</td>\n",
       "      <td>7.977324</td>\n",
       "      <td>-500.255908</td>\n",
       "      <td>14.005551</td>\n",
       "      <td>-599.996129</td>\n",
       "    </tr>\n",
       "    <tr>\n",
       "      <th>4</th>\n",
       "      <td>2016-01-15 04:00:00</td>\n",
       "      <td>6.148599</td>\n",
       "      <td>10.142511</td>\n",
       "      <td>4.939416</td>\n",
       "      <td>42.774141</td>\n",
       "      <td>66.927016</td>\n",
       "      <td>10.360302</td>\n",
       "      <td>0.792826</td>\n",
       "      <td>16.525686</td>\n",
       "      <td>2.055292</td>\n",
       "      <td>117.988169</td>\n",
       "      <td>11.913613</td>\n",
       "      <td>7.25</td>\n",
       "      <td>1.009869</td>\n",
       "      <td>9.089428</td>\n",
       "      <td>9.986786</td>\n",
       "      <td>19.199864</td>\n",
       "      <td>33.044932</td>\n",
       "      <td>16.480185</td>\n",
       "      <td>3.112100</td>\n",
       "      <td>6.550154</td>\n",
       "      <td>2.277073</td>\n",
       "      <td>1601.339707</td>\n",
       "      <td>-498.975456</td>\n",
       "      <td>1601.437854</td>\n",
       "      <td>-500.323246</td>\n",
       "      <td>1599.581894</td>\n",
       "      <td>-500.888152</td>\n",
       "      <td>1602.649541</td>\n",
       "      <td>-500.593010</td>\n",
       "      <td>42125.354245</td>\n",
       "      <td>3494.800771</td>\n",
       "      <td>3506.679315</td>\n",
       "      <td>3.169615</td>\n",
       "      <td>6.060915</td>\n",
       "      <td>1.786875</td>\n",
       "      <td>540.531893</td>\n",
       "      <td>56.047189</td>\n",
       "      <td>34.347666</td>\n",
       "      <td>5.663707</td>\n",
       "      <td>10.957755</td>\n",
       "      <td>6.198826</td>\n",
       "      <td>10.960521</td>\n",
       "      <td>6.194897</td>\n",
       "      <td>12.411054</td>\n",
       "      <td>7.240205</td>\n",
       "      <td>27.041023</td>\n",
       "      <td>19.216101</td>\n",
       "      <td>86.688794</td>\n",
       "      <td>4.552800</td>\n",
       "      <td>0.515438</td>\n",
       "      <td>19.267422</td>\n",
       "      <td>1.012642</td>\n",
       "      <td>999.678690</td>\n",
       "      <td>-399.752729</td>\n",
       "      <td>1600.208824</td>\n",
       "      <td>-449.599614</td>\n",
       "      <td>1600.357732</td>\n",
       "      <td>-450.034364</td>\n",
       "      <td>1599.759049</td>\n",
       "      <td>-449.909799</td>\n",
       "      <td>1401.560902</td>\n",
       "      <td>-448.877187</td>\n",
       "      <td>1401.160227</td>\n",
       "      <td>-450.407128</td>\n",
       "      <td>14.079996</td>\n",
       "      <td>4.470737</td>\n",
       "      <td>8.871028</td>\n",
       "      <td>2.330448</td>\n",
       "      <td>26.024787</td>\n",
       "      <td>-500.279091</td>\n",
       "      <td>23.955345</td>\n",
       "      <td>-500.593614</td>\n",
       "      <td>23.985703</td>\n",
       "      <td>-500.083811</td>\n",
       "      <td>23.958945</td>\n",
       "      <td>-499.990309</td>\n",
       "      <td>14.027298</td>\n",
       "      <td>-499.838632</td>\n",
       "      <td>11.953070</td>\n",
       "      <td>-501.053894</td>\n",
       "      <td>9.925709</td>\n",
       "      <td>-501.686727</td>\n",
       "      <td>7.894242</td>\n",
       "      <td>-500.356035</td>\n",
       "      <td>13.996647</td>\n",
       "      <td>-601.496691</td>\n",
       "    </tr>\n",
       "  </tbody>\n",
       "</table>\n",
       "</div>"
      ],
      "text/plain": [
       "                  date  final.output.concentrate_ag  \\\n",
       "0  2016-01-15 00:00:00                     6.055403   \n",
       "1  2016-01-15 01:00:00                     6.029369   \n",
       "2  2016-01-15 02:00:00                     6.055926   \n",
       "3  2016-01-15 03:00:00                     6.047977   \n",
       "4  2016-01-15 04:00:00                     6.148599   \n",
       "\n",
       "   final.output.concentrate_pb  final.output.concentrate_sol  \\\n",
       "0                     9.889648                      5.507324   \n",
       "1                     9.968944                      5.257781   \n",
       "2                    10.213995                      5.383759   \n",
       "3                     9.977019                      4.858634   \n",
       "4                    10.142511                      4.939416   \n",
       "\n",
       "   final.output.concentrate_au  final.output.recovery  final.output.tail_ag  \\\n",
       "0                    42.192020              70.541216             10.411962   \n",
       "1                    42.701629              69.266198             10.462676   \n",
       "2                    42.657501              68.116445             10.507046   \n",
       "3                    42.689819              68.347543             10.422762   \n",
       "4                    42.774141              66.927016             10.360302   \n",
       "\n",
       "   final.output.tail_pb  final.output.tail_sol  final.output.tail_au  \\\n",
       "0              0.895447              16.904297              2.143149   \n",
       "1              0.927452              16.634514              2.224930   \n",
       "2              0.953716              16.208849              2.257889   \n",
       "3              0.883763              16.532835              2.146849   \n",
       "4              0.792826              16.525686              2.055292   \n",
       "\n",
       "   primary_cleaner.input.sulfate  primary_cleaner.input.depressant  \\\n",
       "0                     127.092003                         10.128295   \n",
       "1                     125.629232                         10.296251   \n",
       "2                     123.819808                         11.316280   \n",
       "3                     122.270188                         11.322140   \n",
       "4                     117.988169                         11.913613   \n",
       "\n",
       "   primary_cleaner.input.feed_size  primary_cleaner.input.xanthate  \\\n",
       "0                             7.25                        0.988759   \n",
       "1                             7.25                        1.002663   \n",
       "2                             7.25                        0.991265   \n",
       "3                             7.25                        0.996739   \n",
       "4                             7.25                        1.009869   \n",
       "\n",
       "   primary_cleaner.output.concentrate_ag  \\\n",
       "0                               8.547551   \n",
       "1                               8.558743   \n",
       "2                               8.603505   \n",
       "3                               7.221879   \n",
       "4                               9.089428   \n",
       "\n",
       "   primary_cleaner.output.concentrate_pb  \\\n",
       "0                              10.389648   \n",
       "1                              10.497069   \n",
       "2                              10.354494   \n",
       "3                               8.496563   \n",
       "4                               9.986786   \n",
       "\n",
       "   primary_cleaner.output.concentrate_sol  \\\n",
       "0                               19.529297   \n",
       "1                               19.369147   \n",
       "2                               19.167579   \n",
       "3                               15.978538   \n",
       "4                               19.199864   \n",
       "\n",
       "   primary_cleaner.output.concentrate_au  primary_cleaner.output.tail_ag  \\\n",
       "0                              34.174427                       14.936526   \n",
       "1                              34.118526                       16.250511   \n",
       "2                              33.969464                       16.491823   \n",
       "3                              28.260743                       16.024359   \n",
       "4                              33.044932                       16.480185   \n",
       "\n",
       "   primary_cleaner.output.tail_pb  primary_cleaner.output.tail_sol  \\\n",
       "0                        2.534912                         7.476074   \n",
       "1                        3.049646                         6.733907   \n",
       "2                        3.124664                         6.471768   \n",
       "3                        2.960362                         6.843791   \n",
       "4                        3.112100                         6.550154   \n",
       "\n",
       "   primary_cleaner.output.tail_au  primary_cleaner.state.floatbank8_a_air  \\\n",
       "0                        2.106679                             1549.775757   \n",
       "1                        2.353017                             1576.166671   \n",
       "2                        2.416800                             1601.556163   \n",
       "3                        2.262051                             1599.968720   \n",
       "4                        2.277073                             1601.339707   \n",
       "\n",
       "   primary_cleaner.state.floatbank8_a_level  \\\n",
       "0                               -498.912140   \n",
       "1                               -500.904965   \n",
       "2                               -499.997791   \n",
       "3                               -500.951778   \n",
       "4                               -498.975456   \n",
       "\n",
       "   primary_cleaner.state.floatbank8_b_air  \\\n",
       "0                             1551.434204   \n",
       "1                             1575.950626   \n",
       "2                             1600.386685   \n",
       "3                             1600.659236   \n",
       "4                             1601.437854   \n",
       "\n",
       "   primary_cleaner.state.floatbank8_b_level  \\\n",
       "0                               -516.403442   \n",
       "1                               -499.865889   \n",
       "2                               -500.607762   \n",
       "3                               -499.677094   \n",
       "4                               -500.323246   \n",
       "\n",
       "   primary_cleaner.state.floatbank8_c_air  \\\n",
       "0                             1549.873901   \n",
       "1                             1575.994189   \n",
       "2                             1602.003542   \n",
       "3                             1600.304144   \n",
       "4                             1599.581894   \n",
       "\n",
       "   primary_cleaner.state.floatbank8_c_level  \\\n",
       "0                               -498.666595   \n",
       "1                               -499.315107   \n",
       "2                               -500.870069   \n",
       "3                               -500.727997   \n",
       "4                               -500.888152   \n",
       "\n",
       "   primary_cleaner.state.floatbank8_d_air  \\\n",
       "0                             1554.367432   \n",
       "1                             1574.479259   \n",
       "2                             1599.541515   \n",
       "3                             1600.449520   \n",
       "4                             1602.649541   \n",
       "\n",
       "   primary_cleaner.state.floatbank8_d_level  \\\n",
       "0                               -493.428131   \n",
       "1                               -498.931665   \n",
       "2                               -499.827444   \n",
       "3                               -500.052575   \n",
       "4                               -500.593010   \n",
       "\n",
       "   rougher.calculation.sulfate_to_au_concentrate  \\\n",
       "0                                   41885.707031   \n",
       "1                                   42050.861809   \n",
       "2                                   42018.101184   \n",
       "3                                   42029.447991   \n",
       "4                                   42125.354245   \n",
       "\n",
       "   rougher.calculation.floatbank10_sulfate_to_au_feed  \\\n",
       "0                                        3481.779053    \n",
       "1                                        3498.370979    \n",
       "2                                        3495.348910    \n",
       "3                                        3498.578313    \n",
       "4                                        3494.800771    \n",
       "\n",
       "   rougher.calculation.floatbank11_sulfate_to_au_feed  \\\n",
       "0                                        3520.337158    \n",
       "1                                        3489.981857    \n",
       "2                                        3502.359819    \n",
       "3                                        3499.162912    \n",
       "4                                        3506.679315    \n",
       "\n",
       "   rougher.calculation.au_pb_ratio  rougher.input.feed_ag  \\\n",
       "0                         2.838687               6.100378   \n",
       "1                         2.858998               6.161113   \n",
       "2                         2.945989               6.116455   \n",
       "3                         3.002340               6.043309   \n",
       "4                         3.169615               6.060915   \n",
       "\n",
       "   rougher.input.feed_pb  rougher.input.feed_rate  rougher.input.feed_size  \\\n",
       "0               2.284912               523.546326                55.486599   \n",
       "1               2.266033               525.290581                57.278666   \n",
       "2               2.159622               530.026610                57.510649   \n",
       "3               2.037807               542.590390                57.792734   \n",
       "4               1.786875               540.531893                56.047189   \n",
       "\n",
       "   rougher.input.feed_sol  rougher.input.feed_au  \\\n",
       "0               36.808594               6.486150   \n",
       "1               35.753385               6.478583   \n",
       "2               35.971630               6.362222   \n",
       "3               36.862241               6.118189   \n",
       "4               34.347666               5.663707   \n",
       "\n",
       "   rougher.input.floatbank10_sulfate  rougher.input.floatbank10_xanthate  \\\n",
       "0                          11.986616                            6.007990   \n",
       "1                          11.971193                            6.005766   \n",
       "2                          11.920603                            6.197377   \n",
       "3                          11.630094                            6.203177   \n",
       "4                          10.957755                            6.198826   \n",
       "\n",
       "   rougher.input.floatbank11_sulfate  rougher.input.floatbank11_xanthate  \\\n",
       "0                          11.836743                            6.005818   \n",
       "1                          11.996163                            6.012594   \n",
       "2                          11.920305                            6.204633   \n",
       "3                          11.692450                            6.196578   \n",
       "4                          10.960521                            6.194897   \n",
       "\n",
       "   rougher.output.concentrate_ag  rougher.output.concentrate_pb  \\\n",
       "0                      11.500771                       7.101074   \n",
       "1                      11.615865                       7.278807   \n",
       "2                      11.695753                       7.216833   \n",
       "3                      11.915047                       7.175616   \n",
       "4                      12.411054                       7.240205   \n",
       "\n",
       "   rougher.output.concentrate_sol  rougher.output.concentrate_au  \\\n",
       "0                       28.029297                      19.793808   \n",
       "1                       28.067063                      20.050975   \n",
       "2                       27.454037                      19.737170   \n",
       "3                       27.341277                      19.320810   \n",
       "4                       27.041023                      19.216101   \n",
       "\n",
       "   rougher.output.recovery  rougher.output.tail_ag  rougher.output.tail_pb  \\\n",
       "0                87.107763                5.008018                0.508728   \n",
       "1                86.843261                4.955378                0.536689   \n",
       "2                86.842308                4.843460                0.546416   \n",
       "3                87.226430                4.655288                0.542525   \n",
       "4                86.688794                4.552800                0.515438   \n",
       "\n",
       "   rougher.output.tail_sol  rougher.output.tail_au  \\\n",
       "0                19.154297                1.170244   \n",
       "1                18.965234                1.184827   \n",
       "2                18.808533                1.162562   \n",
       "3                19.330200                1.079755   \n",
       "4                19.267422                1.012642   \n",
       "\n",
       "   rougher.state.floatbank10_a_air  rougher.state.floatbank10_a_level  \\\n",
       "0                       999.706909                        -404.066986   \n",
       "1                      1000.286398                        -400.065196   \n",
       "2                       999.719565                        -400.074028   \n",
       "3                       999.814770                        -400.200179   \n",
       "4                       999.678690                        -399.752729   \n",
       "\n",
       "   rougher.state.floatbank10_b_air  rougher.state.floatbank10_b_level  \\\n",
       "0                      1603.011353                        -434.715027   \n",
       "1                      1600.754587                        -449.953435   \n",
       "2                      1599.337330                        -450.008530   \n",
       "3                      1600.059442                        -450.619948   \n",
       "4                      1600.208824                        -449.599614   \n",
       "\n",
       "   rougher.state.floatbank10_c_air  rougher.state.floatbank10_c_level  \\\n",
       "0                      1602.375000                        -442.204468   \n",
       "1                      1600.479580                        -449.830646   \n",
       "2                      1599.672797                        -449.954491   \n",
       "3                      1600.012842                        -449.910497   \n",
       "4                      1600.357732                        -450.034364   \n",
       "\n",
       "   rougher.state.floatbank10_d_air  rougher.state.floatbank10_d_level  \\\n",
       "0                      1598.937256                        -451.294128   \n",
       "1                      1600.527589                        -449.953649   \n",
       "2                      1599.849325                        -449.954185   \n",
       "3                      1597.725177                        -450.130127   \n",
       "4                      1599.759049                        -449.909799   \n",
       "\n",
       "   rougher.state.floatbank10_e_air  rougher.state.floatbank10_e_level  \\\n",
       "0                      1404.472046                        -455.462982   \n",
       "1                      1399.227084                        -450.869848   \n",
       "2                      1399.180945                        -449.937588   \n",
       "3                      1400.943157                        -450.030142   \n",
       "4                      1401.560902                        -448.877187   \n",
       "\n",
       "   rougher.state.floatbank10_f_air  rougher.state.floatbank10_f_level  \\\n",
       "0                      1416.354980                        -451.939636   \n",
       "1                      1399.719514                        -450.119001   \n",
       "2                      1400.316682                        -450.527147   \n",
       "3                      1400.234743                        -449.790835   \n",
       "4                      1401.160227                        -450.407128   \n",
       "\n",
       "   secondary_cleaner.output.tail_ag  secondary_cleaner.output.tail_pb  \\\n",
       "0                         14.500184                          4.694824   \n",
       "1                         14.265474                          4.592547   \n",
       "2                         14.115662                          4.624775   \n",
       "3                         13.732071                          4.482453   \n",
       "4                         14.079996                          4.470737   \n",
       "\n",
       "   secondary_cleaner.output.tail_sol  secondary_cleaner.output.tail_au  \\\n",
       "0                           8.764648                          2.606185   \n",
       "1                           9.001494                          2.488248   \n",
       "2                           8.842896                          2.458187   \n",
       "3                           9.122857                          2.322062   \n",
       "4                           8.871028                          2.330448   \n",
       "\n",
       "   secondary_cleaner.state.floatbank2_a_air  \\\n",
       "0                                 25.853109   \n",
       "1                                 25.880539   \n",
       "2                                 26.005245   \n",
       "3                                 25.942508   \n",
       "4                                 26.024787   \n",
       "\n",
       "   secondary_cleaner.state.floatbank2_a_level  \\\n",
       "0                                 -498.526489   \n",
       "1                                 -499.989656   \n",
       "2                                 -499.929616   \n",
       "3                                 -499.176749   \n",
       "4                                 -500.279091   \n",
       "\n",
       "   secondary_cleaner.state.floatbank2_b_air  \\\n",
       "0                                 23.893660   \n",
       "1                                 23.889530   \n",
       "2                                 23.886657   \n",
       "3                                 23.955516   \n",
       "4                                 23.955345   \n",
       "\n",
       "   secondary_cleaner.state.floatbank2_b_level  \\\n",
       "0                                 -501.406281   \n",
       "1                                 -500.372428   \n",
       "2                                 -499.951928   \n",
       "3                                 -499.848796   \n",
       "4                                 -500.593614   \n",
       "\n",
       "   secondary_cleaner.state.floatbank3_a_air  \\\n",
       "0                                 23.961798   \n",
       "1                                 23.970550   \n",
       "2                                 23.913535   \n",
       "3                                 23.966838   \n",
       "4                                 23.985703   \n",
       "\n",
       "   secondary_cleaner.state.floatbank3_a_level  \\\n",
       "0                                 -495.262817   \n",
       "1                                 -500.085473   \n",
       "2                                 -499.442343   \n",
       "3                                 -500.008812   \n",
       "4                                 -500.083811   \n",
       "\n",
       "   secondary_cleaner.state.floatbank3_b_air  \\\n",
       "0                                 21.940409   \n",
       "1                                 22.085714   \n",
       "2                                 23.957717   \n",
       "3                                 23.954443   \n",
       "4                                 23.958945   \n",
       "\n",
       "   secondary_cleaner.state.floatbank3_b_level  \\\n",
       "0                                 -499.340973   \n",
       "1                                 -499.446897   \n",
       "2                                 -499.901982   \n",
       "3                                 -499.944710   \n",
       "4                                 -499.990309   \n",
       "\n",
       "   secondary_cleaner.state.floatbank4_a_air  \\\n",
       "0                                 14.016835   \n",
       "1                                 13.992281   \n",
       "2                                 14.015015   \n",
       "3                                 14.036510   \n",
       "4                                 14.027298   \n",
       "\n",
       "   secondary_cleaner.state.floatbank4_a_level  \\\n",
       "0                                 -502.488007   \n",
       "1                                 -505.503262   \n",
       "2                                 -502.520901   \n",
       "3                                 -500.857308   \n",
       "4                                 -499.838632   \n",
       "\n",
       "   secondary_cleaner.state.floatbank4_b_air  \\\n",
       "0                                 12.099931   \n",
       "1                                 11.950531   \n",
       "2                                 11.912783   \n",
       "3                                 11.999550   \n",
       "4                                 11.953070   \n",
       "\n",
       "   secondary_cleaner.state.floatbank4_b_level  \\\n",
       "0                                 -504.715942   \n",
       "1                                 -501.331529   \n",
       "2                                 -501.133383   \n",
       "3                                 -501.193686   \n",
       "4                                 -501.053894   \n",
       "\n",
       "   secondary_cleaner.state.floatbank5_a_air  \\\n",
       "0                                  9.925633   \n",
       "1                                 10.039245   \n",
       "2                                 10.070913   \n",
       "3                                  9.970366   \n",
       "4                                  9.925709   \n",
       "\n",
       "   secondary_cleaner.state.floatbank5_a_level  \\\n",
       "0                                 -498.310211   \n",
       "1                                 -500.169983   \n",
       "2                                 -500.129135   \n",
       "3                                 -499.201640   \n",
       "4                                 -501.686727   \n",
       "\n",
       "   secondary_cleaner.state.floatbank5_b_air  \\\n",
       "0                                  8.079666   \n",
       "1                                  7.984757   \n",
       "2                                  8.013877   \n",
       "3                                  7.977324   \n",
       "4                                  7.894242   \n",
       "\n",
       "   secondary_cleaner.state.floatbank5_b_level  \\\n",
       "0                                 -500.470978   \n",
       "1                                 -500.582168   \n",
       "2                                 -500.517572   \n",
       "3                                 -500.255908   \n",
       "4                                 -500.356035   \n",
       "\n",
       "   secondary_cleaner.state.floatbank6_a_air  \\\n",
       "0                                 14.151341   \n",
       "1                                 13.998353   \n",
       "2                                 14.028663   \n",
       "3                                 14.005551   \n",
       "4                                 13.996647   \n",
       "\n",
       "   secondary_cleaner.state.floatbank6_a_level  \n",
       "0                                 -605.841980  \n",
       "1                                 -599.787184  \n",
       "2                                 -601.427363  \n",
       "3                                 -599.996129  \n",
       "4                                 -601.496691  "
      ]
     },
     "execution_count": 5,
     "metadata": {},
     "output_type": "execute_result"
    }
   ],
   "source": [
    "preliminary_analysis(df_train)"
   ]
  },
  {
   "cell_type": "code",
   "execution_count": 6,
   "metadata": {},
   "outputs": [
    {
     "name": "stdout",
     "output_type": "stream",
     "text": [
      "<class 'pandas.core.frame.DataFrame'>\n",
      "RangeIndex: 5856 entries, 0 to 5855\n",
      "Data columns (total 53 columns):\n",
      " #   Column                                      Non-Null Count  Dtype  \n",
      "---  ------                                      --------------  -----  \n",
      " 0   date                                        5856 non-null   object \n",
      " 1   primary_cleaner.input.sulfate               5554 non-null   float64\n",
      " 2   primary_cleaner.input.depressant            5572 non-null   float64\n",
      " 3   primary_cleaner.input.feed_size             5856 non-null   float64\n",
      " 4   primary_cleaner.input.xanthate              5690 non-null   float64\n",
      " 5   primary_cleaner.state.floatbank8_a_air      5840 non-null   float64\n",
      " 6   primary_cleaner.state.floatbank8_a_level    5840 non-null   float64\n",
      " 7   primary_cleaner.state.floatbank8_b_air      5840 non-null   float64\n",
      " 8   primary_cleaner.state.floatbank8_b_level    5840 non-null   float64\n",
      " 9   primary_cleaner.state.floatbank8_c_air      5840 non-null   float64\n",
      " 10  primary_cleaner.state.floatbank8_c_level    5840 non-null   float64\n",
      " 11  primary_cleaner.state.floatbank8_d_air      5840 non-null   float64\n",
      " 12  primary_cleaner.state.floatbank8_d_level    5840 non-null   float64\n",
      " 13  rougher.input.feed_ag                       5840 non-null   float64\n",
      " 14  rougher.input.feed_pb                       5840 non-null   float64\n",
      " 15  rougher.input.feed_rate                     5816 non-null   float64\n",
      " 16  rougher.input.feed_size                     5834 non-null   float64\n",
      " 17  rougher.input.feed_sol                      5789 non-null   float64\n",
      " 18  rougher.input.feed_au                       5840 non-null   float64\n",
      " 19  rougher.input.floatbank10_sulfate           5599 non-null   float64\n",
      " 20  rougher.input.floatbank10_xanthate          5733 non-null   float64\n",
      " 21  rougher.input.floatbank11_sulfate           5801 non-null   float64\n",
      " 22  rougher.input.floatbank11_xanthate          5503 non-null   float64\n",
      " 23  rougher.state.floatbank10_a_air             5839 non-null   float64\n",
      " 24  rougher.state.floatbank10_a_level           5840 non-null   float64\n",
      " 25  rougher.state.floatbank10_b_air             5839 non-null   float64\n",
      " 26  rougher.state.floatbank10_b_level           5840 non-null   float64\n",
      " 27  rougher.state.floatbank10_c_air             5839 non-null   float64\n",
      " 28  rougher.state.floatbank10_c_level           5840 non-null   float64\n",
      " 29  rougher.state.floatbank10_d_air             5839 non-null   float64\n",
      " 30  rougher.state.floatbank10_d_level           5840 non-null   float64\n",
      " 31  rougher.state.floatbank10_e_air             5839 non-null   float64\n",
      " 32  rougher.state.floatbank10_e_level           5840 non-null   float64\n",
      " 33  rougher.state.floatbank10_f_air             5839 non-null   float64\n",
      " 34  rougher.state.floatbank10_f_level           5840 non-null   float64\n",
      " 35  secondary_cleaner.state.floatbank2_a_air    5836 non-null   float64\n",
      " 36  secondary_cleaner.state.floatbank2_a_level  5840 non-null   float64\n",
      " 37  secondary_cleaner.state.floatbank2_b_air    5833 non-null   float64\n",
      " 38  secondary_cleaner.state.floatbank2_b_level  5840 non-null   float64\n",
      " 39  secondary_cleaner.state.floatbank3_a_air    5822 non-null   float64\n",
      " 40  secondary_cleaner.state.floatbank3_a_level  5840 non-null   float64\n",
      " 41  secondary_cleaner.state.floatbank3_b_air    5840 non-null   float64\n",
      " 42  secondary_cleaner.state.floatbank3_b_level  5840 non-null   float64\n",
      " 43  secondary_cleaner.state.floatbank4_a_air    5840 non-null   float64\n",
      " 44  secondary_cleaner.state.floatbank4_a_level  5840 non-null   float64\n",
      " 45  secondary_cleaner.state.floatbank4_b_air    5840 non-null   float64\n",
      " 46  secondary_cleaner.state.floatbank4_b_level  5840 non-null   float64\n",
      " 47  secondary_cleaner.state.floatbank5_a_air    5840 non-null   float64\n",
      " 48  secondary_cleaner.state.floatbank5_a_level  5840 non-null   float64\n",
      " 49  secondary_cleaner.state.floatbank5_b_air    5840 non-null   float64\n",
      " 50  secondary_cleaner.state.floatbank5_b_level  5840 non-null   float64\n",
      " 51  secondary_cleaner.state.floatbank6_a_air    5840 non-null   float64\n",
      " 52  secondary_cleaner.state.floatbank6_a_level  5840 non-null   float64\n",
      "dtypes: float64(52), object(1)\n",
      "memory usage: 2.4+ MB\n",
      "None\n",
      "\n",
      "    \n",
      "    \n",
      "       primary_cleaner.input.sulfate  primary_cleaner.input.depressant  \\\n",
      "count                    5554.000000                       5572.000000   \n",
      "mean                      170.515243                          8.482873   \n",
      "std                        49.608602                          3.353105   \n",
      "min                         0.000103                          0.000031   \n",
      "25%                       143.340022                          6.411500   \n",
      "50%                       176.103893                          8.023252   \n",
      "75%                       207.240761                         10.017725   \n",
      "max                       274.409626                         40.024582   \n",
      "\n",
      "       primary_cleaner.input.feed_size  primary_cleaner.input.xanthate  \\\n",
      "count                      5856.000000                     5690.000000   \n",
      "mean                          7.264651                        1.321420   \n",
      "std                           0.611526                        0.693246   \n",
      "min                           5.650000                        0.000003   \n",
      "25%                           6.885625                        0.888769   \n",
      "50%                           7.259333                        1.183362   \n",
      "75%                           7.650000                        1.763797   \n",
      "max                          15.500000                        5.433169   \n",
      "\n",
      "       primary_cleaner.state.floatbank8_a_air  \\\n",
      "count                             5840.000000   \n",
      "mean                              1481.990241   \n",
      "std                                310.453166   \n",
      "min                                  0.000000   \n",
      "25%                               1497.190681   \n",
      "50%                               1554.659783   \n",
      "75%                               1601.681656   \n",
      "max                               2212.432090   \n",
      "\n",
      "       primary_cleaner.state.floatbank8_a_level  \\\n",
      "count                               5840.000000   \n",
      "mean                                -509.057796   \n",
      "std                                   61.339256   \n",
      "min                                 -799.773788   \n",
      "25%                                 -500.455211   \n",
      "50%                                 -499.997402   \n",
      "75%                                 -499.575313   \n",
      "max                                  -57.195404   \n",
      "\n",
      "       primary_cleaner.state.floatbank8_b_air  \\\n",
      "count                             5840.000000   \n",
      "mean                              1486.908670   \n",
      "std                                313.224286   \n",
      "min                                  0.000000   \n",
      "25%                               1497.150234   \n",
      "50%                               1553.268084   \n",
      "75%                               1601.784707   \n",
      "max                               1975.147923   \n",
      "\n",
      "       primary_cleaner.state.floatbank8_b_level  \\\n",
      "count                               5840.000000   \n",
      "mean                                -511.743956   \n",
      "std                                   67.139074   \n",
      "min                                 -800.029078   \n",
      "25%                                 -500.936639   \n",
      "50%                                 -500.066588   \n",
      "75%                                 -499.323361   \n",
      "max                                 -142.527229   \n",
      "\n",
      "       primary_cleaner.state.floatbank8_c_air  \\\n",
      "count                             5840.000000   \n",
      "mean                              1468.495216   \n",
      "std                                309.980748   \n",
      "min                                  0.000000   \n",
      "25%                               1437.050321   \n",
      "50%                               1546.160672   \n",
      "75%                               1600.785573   \n",
      "max                               1715.053773   \n",
      "\n",
      "       primary_cleaner.state.floatbank8_c_level  \\\n",
      "count                               5840.000000   \n",
      "mean                                -509.741212   \n",
      "std                                   62.671873   \n",
      "min                                 -799.995127   \n",
      "25%                                 -501.300441   \n",
      "50%                                 -500.079537   \n",
      "75%                                 -499.009545   \n",
      "max                                 -150.937035   \n",
      "\n",
      "       primary_cleaner.state.floatbank8_d_air  \\\n",
      "count                             5840.000000   \n",
      "mean                              1486.398557   \n",
      "std                                313.725248   \n",
      "min                                  0.000000   \n",
      "25%                               1498.407528   \n",
      "50%                               1552.089348   \n",
      "75%                               1600.781243   \n",
      "max                               1913.256561   \n",
      "\n",
      "       primary_cleaner.state.floatbank8_d_level  rougher.input.feed_ag  \\\n",
      "count                               5840.000000            5840.000000   \n",
      "mean                                -510.723606               8.736170   \n",
      "std                                   65.417633               2.985805   \n",
      "min                                 -799.838846               0.000000   \n",
      "25%                                 -500.553630               7.598683   \n",
      "50%                                 -500.045560               9.628324   \n",
      "75%                                 -499.612913              10.568373   \n",
      "max                                  -32.449456              14.406130   \n",
      "\n",
      "       rougher.input.feed_pb  rougher.input.feed_rate  \\\n",
      "count            5840.000000              5816.000000   \n",
      "mean                3.552722               458.485472   \n",
      "std                 1.326113               155.958272   \n",
      "min                 0.000000                 0.002986   \n",
      "25%                 3.079145               399.781738   \n",
      "50%                 3.679706               489.533016   \n",
      "75%                 4.241195               568.111571   \n",
      "max                 6.905684               707.364020   \n",
      "\n",
      "       rougher.input.feed_size  rougher.input.feed_sol  rougher.input.feed_au  \\\n",
      "count              5834.000000             5789.000000            5840.000000   \n",
      "mean                 55.937535               35.105834               8.700930   \n",
      "std                  22.724254               10.793249               2.803046   \n",
      "min                   0.046369                0.000000               0.000000   \n",
      "25%                  43.890852               33.381580               7.763634   \n",
      "50%                  50.002004               37.336634               9.449623   \n",
      "75%                  61.638434               41.388612              10.377337   \n",
      "max                 477.445473               53.477742              13.731330   \n",
      "\n",
      "       rougher.input.floatbank10_sulfate  rougher.input.floatbank10_xanthate  \\\n",
      "count                        5599.000000                         5733.000000   \n",
      "mean                           13.439933                            6.169553   \n",
      "std                             3.997715                            1.673606   \n",
      "min                             0.000154                            0.000052   \n",
      "25%                            11.006487                            5.884416   \n",
      "50%                            14.000240                            6.401502   \n",
      "75%                            16.674640                            7.002358   \n",
      "max                            24.280636                           13.037750   \n",
      "\n",
      "       rougher.input.floatbank11_sulfate  rougher.input.floatbank11_xanthate  \\\n",
      "count                        5801.000000                         5503.000000   \n",
      "mean                           13.056047                            6.423566   \n",
      "std                             4.533948                            1.120371   \n",
      "min                             0.000014                            0.000055   \n",
      "25%                            10.999216                            5.994363   \n",
      "50%                            13.998778                            6.496105   \n",
      "75%                            16.375267                            7.008034   \n",
      "max                            28.949609                           18.709478   \n",
      "\n",
      "       rougher.state.floatbank10_a_air  rougher.state.floatbank10_a_level  \\\n",
      "count                      5839.000000                        5840.000000   \n",
      "mean                       1016.294703                        -404.977728   \n",
      "std                         226.494775                         100.953782   \n",
      "min                          -0.123194                        -657.949759   \n",
      "25%                         998.970605                        -499.971279   \n",
      "50%                        1000.327062                        -399.817250   \n",
      "75%                        1005.088855                        -300.074857   \n",
      "max                        1423.274687                        -273.776101   \n",
      "\n",
      "       rougher.state.floatbank10_b_air  rougher.state.floatbank10_b_level  \\\n",
      "count                      5839.000000                        5840.000000   \n",
      "mean                       1270.598553                        -482.154567   \n",
      "std                         285.247715                          55.399631   \n",
      "min                          -0.821921                        -650.349159   \n",
      "25%                        1199.500725                        -500.327705   \n",
      "50%                        1300.983516                        -499.875575   \n",
      "75%                        1403.256153                        -497.613901   \n",
      "max                        1706.640419                        -229.396203   \n",
      "\n",
      "       rougher.state.floatbank10_c_air  rougher.state.floatbank10_c_level  \\\n",
      "count                      5839.000000                        5840.000000   \n",
      "mean                       1253.495045                        -480.945868   \n",
      "std                         290.703157                          53.759053   \n",
      "min                          -0.282087                        -650.000000   \n",
      "25%                        1195.460415                        -500.310780   \n",
      "50%                        1298.509443                        -499.810503   \n",
      "75%                        1401.907624                        -497.343773   \n",
      "max                        1809.889686                        -253.054587   \n",
      "\n",
      "       rougher.state.floatbank10_d_air  rougher.state.floatbank10_d_level  \\\n",
      "count                      5839.000000                        5840.000000   \n",
      "mean                       1169.675564                        -482.152253   \n",
      "std                         285.407244                          54.967985   \n",
      "min                          -1.047388                        -648.390665   \n",
      "25%                        1004.580472                        -500.582886   \n",
      "50%                        1202.899254                        -499.757267   \n",
      "75%                        1357.767099                        -495.583327   \n",
      "max                        1775.218584                         -76.397327   \n",
      "\n",
      "       rougher.state.floatbank10_e_air  rougher.state.floatbank10_e_level  \\\n",
      "count                      5839.000000                        5840.000000   \n",
      "mean                       1018.386311                        -476.551547   \n",
      "std                         231.675756                          67.002595   \n",
      "min                          -2.076798                        -650.152533   \n",
      "25%                         998.870710                        -500.268985   \n",
      "50%                        1001.670995                        -499.801509   \n",
      "75%                        1100.884720                        -497.815261   \n",
      "max                        1467.184843                        -139.753025   \n",
      "\n",
      "       rougher.state.floatbank10_f_air  rougher.state.floatbank10_f_level  \\\n",
      "count                      5839.000000                        5840.000000   \n",
      "mean                        962.005375                        -477.795380   \n",
      "std                         220.862435                          68.342305   \n",
      "min                          -2.593390                        -650.034631   \n",
      "25%                         900.518560                        -500.769058   \n",
      "50%                         999.088194                        -499.754468   \n",
      "75%                        1050.044643                        -495.576639   \n",
      "max                        1476.588107                        -218.472824   \n",
      "\n",
      "       secondary_cleaner.state.floatbank2_a_air  \\\n",
      "count                               5836.000000   \n",
      "mean                                  25.479808   \n",
      "std                                    5.450424   \n",
      "min                                    0.000000   \n",
      "25%                                   24.908789   \n",
      "50%                                   26.862173   \n",
      "75%                                   28.052589   \n",
      "max                                   59.944409   \n",
      "\n",
      "       secondary_cleaner.state.floatbank2_a_level  \\\n",
      "count                                 5840.000000   \n",
      "mean                                  -513.714941   \n",
      "std                                     62.448366   \n",
      "min                                   -799.608557   \n",
      "25%                                   -500.244425   \n",
      "50%                                   -500.017410   \n",
      "75%                                   -499.798265   \n",
      "max                                   -300.343670   \n",
      "\n",
      "       secondary_cleaner.state.floatbank2_b_air  \\\n",
      "count                               5833.000000   \n",
      "mean                                  21.083475   \n",
      "std                                    5.940017   \n",
      "min                                    0.000000   \n",
      "25%                                   19.964880   \n",
      "50%                                   22.909020   \n",
      "75%                                   24.951835   \n",
      "max                                   60.000000   \n",
      "\n",
      "       secondary_cleaner.state.floatbank2_b_level  \\\n",
      "count                                 5840.000000   \n",
      "mean                                  -512.325717   \n",
      "std                                     63.376776   \n",
      "min                                   -798.467243   \n",
      "25%                                   -500.252962   \n",
      "50%                                   -500.031103   \n",
      "75%                                   -499.836572   \n",
      "max                                   -211.999273   \n",
      "\n",
      "       secondary_cleaner.state.floatbank3_a_air  \\\n",
      "count                               5822.000000   \n",
      "mean                                  24.345831   \n",
      "std                                    7.950733   \n",
      "min                                    0.000000   \n",
      "25%                                   22.033603   \n",
      "50%                                   25.000337   \n",
      "75%                                   29.994405   \n",
      "max                                   40.041997   \n",
      "\n",
      "       secondary_cleaner.state.floatbank3_a_level  \\\n",
      "count                                 5840.000000   \n",
      "mean                                  -519.417733   \n",
      "std                                     73.968109   \n",
      "min                                   -799.755798   \n",
      "25%                                   -500.368334   \n",
      "50%                                   -500.053137   \n",
      "75%                                   -499.794288   \n",
      "max                                   -313.866425   \n",
      "\n",
      "       secondary_cleaner.state.floatbank3_b_air  \\\n",
      "count                               5840.000000   \n",
      "mean                                  20.068079   \n",
      "std                                    7.644391   \n",
      "min                                    0.000000   \n",
      "25%                                   15.979792   \n",
      "50%                                   20.028317   \n",
      "75%                                   26.958680   \n",
      "max                                   32.039365   \n",
      "\n",
      "       secondary_cleaner.state.floatbank3_b_level  \\\n",
      "count                                 5840.000000   \n",
      "mean                                  -515.028316   \n",
      "std                                     60.457838   \n",
      "min                                   -809.333008   \n",
      "25%                                   -500.172778   \n",
      "50%                                   -500.023768   \n",
      "75%                                   -499.895641   \n",
      "max                                   -202.277366   \n",
      "\n",
      "       secondary_cleaner.state.floatbank4_a_air  \\\n",
      "count                               5840.000000   \n",
      "mean                                  15.636031   \n",
      "std                                    4.660835   \n",
      "min                                    0.000000   \n",
      "25%                                   12.057838   \n",
      "50%                                   17.001867   \n",
      "75%                                   18.030985   \n",
      "max                                   30.051797   \n",
      "\n",
      "       secondary_cleaner.state.floatbank4_a_level  \\\n",
      "count                                 5840.000000   \n",
      "mean                                  -516.266074   \n",
      "std                                     62.756748   \n",
      "min                                   -799.798523   \n",
      "25%                                   -501.054741   \n",
      "50%                                   -500.160145   \n",
      "75%                                   -499.441529   \n",
      "max                                   -401.565212   \n",
      "\n",
      "       secondary_cleaner.state.floatbank4_b_air  \\\n",
      "count                               5840.000000   \n",
      "mean                                  13.145702   \n",
      "std                                    4.304086   \n",
      "min                                    0.000000   \n",
      "25%                                   11.880119   \n",
      "50%                                   14.952102   \n",
      "75%                                   15.940011   \n",
      "max                                   31.269706   \n",
      "\n",
      "       secondary_cleaner.state.floatbank4_b_level  \\\n",
      "count                                 5840.000000   \n",
      "mean                                  -476.338907   \n",
      "std                                    105.549424   \n",
      "min                                   -800.836914   \n",
      "25%                                   -500.419113   \n",
      "50%                                   -499.644328   \n",
      "75%                                   -401.523664   \n",
      "max                                     -6.506986   \n",
      "\n",
      "       secondary_cleaner.state.floatbank5_a_air  \\\n",
      "count                               5840.000000   \n",
      "mean                                  12.308967   \n",
      "std                                    3.762827   \n",
      "min                                   -0.223393   \n",
      "25%                                   10.123459   \n",
      "50%                                   12.062877   \n",
      "75%                                   15.017881   \n",
      "max                                   25.258848   \n",
      "\n",
      "       secondary_cleaner.state.floatbank5_a_level  \\\n",
      "count                                 5840.000000   \n",
      "mean                                  -512.208126   \n",
      "std                                     58.864651   \n",
      "min                                   -799.661076   \n",
      "25%                                   -500.879383   \n",
      "50%                                   -500.047621   \n",
      "75%                                   -499.297033   \n",
      "max                                   -244.483566   \n",
      "\n",
      "       secondary_cleaner.state.floatbank5_b_air  \\\n",
      "count                               5840.000000   \n",
      "mean                                   9.470986   \n",
      "std                                    3.312471   \n",
      "min                                    0.528083   \n",
      "25%                                    7.991208   \n",
      "50%                                    9.980774   \n",
      "75%                                   11.992176   \n",
      "max                                   14.090194   \n",
      "\n",
      "       secondary_cleaner.state.floatbank5_b_level  \\\n",
      "count                                 5840.000000   \n",
      "mean                                  -505.017827   \n",
      "std                                     68.785898   \n",
      "min                                   -800.220337   \n",
      "25%                                   -500.223089   \n",
      "50%                                   -500.001338   \n",
      "75%                                   -499.722835   \n",
      "max                                   -126.463446   \n",
      "\n",
      "       secondary_cleaner.state.floatbank6_a_air  \\\n",
      "count                               5840.000000   \n",
      "mean                                  16.678722   \n",
      "std                                    5.404514   \n",
      "min                                   -0.079426   \n",
      "25%                                   13.012422   \n",
      "50%                                   16.007242   \n",
      "75%                                   21.009076   \n",
      "max                                   26.705889   \n",
      "\n",
      "       secondary_cleaner.state.floatbank6_a_level  \n",
      "count                                 5840.000000  \n",
      "mean                                  -512.351694  \n",
      "std                                     69.919839  \n",
      "min                                   -809.859706  \n",
      "25%                                   -500.833821  \n",
      "50%                                   -500.041085  \n",
      "75%                                   -499.395621  \n",
      "max                                    -29.093593  \n",
      "\n",
      "    \n",
      "    \n"
     ]
    },
    {
     "data": {
      "text/html": [
       "<div>\n",
       "<style scoped>\n",
       "    .dataframe tbody tr th:only-of-type {\n",
       "        vertical-align: middle;\n",
       "    }\n",
       "\n",
       "    .dataframe tbody tr th {\n",
       "        vertical-align: top;\n",
       "    }\n",
       "\n",
       "    .dataframe thead th {\n",
       "        text-align: right;\n",
       "    }\n",
       "</style>\n",
       "<table border=\"1\" class=\"dataframe\">\n",
       "  <thead>\n",
       "    <tr style=\"text-align: right;\">\n",
       "      <th></th>\n",
       "      <th>date</th>\n",
       "      <th>primary_cleaner.input.sulfate</th>\n",
       "      <th>primary_cleaner.input.depressant</th>\n",
       "      <th>primary_cleaner.input.feed_size</th>\n",
       "      <th>primary_cleaner.input.xanthate</th>\n",
       "      <th>primary_cleaner.state.floatbank8_a_air</th>\n",
       "      <th>primary_cleaner.state.floatbank8_a_level</th>\n",
       "      <th>primary_cleaner.state.floatbank8_b_air</th>\n",
       "      <th>primary_cleaner.state.floatbank8_b_level</th>\n",
       "      <th>primary_cleaner.state.floatbank8_c_air</th>\n",
       "      <th>primary_cleaner.state.floatbank8_c_level</th>\n",
       "      <th>primary_cleaner.state.floatbank8_d_air</th>\n",
       "      <th>primary_cleaner.state.floatbank8_d_level</th>\n",
       "      <th>rougher.input.feed_ag</th>\n",
       "      <th>rougher.input.feed_pb</th>\n",
       "      <th>rougher.input.feed_rate</th>\n",
       "      <th>rougher.input.feed_size</th>\n",
       "      <th>rougher.input.feed_sol</th>\n",
       "      <th>rougher.input.feed_au</th>\n",
       "      <th>rougher.input.floatbank10_sulfate</th>\n",
       "      <th>rougher.input.floatbank10_xanthate</th>\n",
       "      <th>rougher.input.floatbank11_sulfate</th>\n",
       "      <th>rougher.input.floatbank11_xanthate</th>\n",
       "      <th>rougher.state.floatbank10_a_air</th>\n",
       "      <th>rougher.state.floatbank10_a_level</th>\n",
       "      <th>rougher.state.floatbank10_b_air</th>\n",
       "      <th>rougher.state.floatbank10_b_level</th>\n",
       "      <th>rougher.state.floatbank10_c_air</th>\n",
       "      <th>rougher.state.floatbank10_c_level</th>\n",
       "      <th>rougher.state.floatbank10_d_air</th>\n",
       "      <th>rougher.state.floatbank10_d_level</th>\n",
       "      <th>rougher.state.floatbank10_e_air</th>\n",
       "      <th>rougher.state.floatbank10_e_level</th>\n",
       "      <th>rougher.state.floatbank10_f_air</th>\n",
       "      <th>rougher.state.floatbank10_f_level</th>\n",
       "      <th>secondary_cleaner.state.floatbank2_a_air</th>\n",
       "      <th>secondary_cleaner.state.floatbank2_a_level</th>\n",
       "      <th>secondary_cleaner.state.floatbank2_b_air</th>\n",
       "      <th>secondary_cleaner.state.floatbank2_b_level</th>\n",
       "      <th>secondary_cleaner.state.floatbank3_a_air</th>\n",
       "      <th>secondary_cleaner.state.floatbank3_a_level</th>\n",
       "      <th>secondary_cleaner.state.floatbank3_b_air</th>\n",
       "      <th>secondary_cleaner.state.floatbank3_b_level</th>\n",
       "      <th>secondary_cleaner.state.floatbank4_a_air</th>\n",
       "      <th>secondary_cleaner.state.floatbank4_a_level</th>\n",
       "      <th>secondary_cleaner.state.floatbank4_b_air</th>\n",
       "      <th>secondary_cleaner.state.floatbank4_b_level</th>\n",
       "      <th>secondary_cleaner.state.floatbank5_a_air</th>\n",
       "      <th>secondary_cleaner.state.floatbank5_a_level</th>\n",
       "      <th>secondary_cleaner.state.floatbank5_b_air</th>\n",
       "      <th>secondary_cleaner.state.floatbank5_b_level</th>\n",
       "      <th>secondary_cleaner.state.floatbank6_a_air</th>\n",
       "      <th>secondary_cleaner.state.floatbank6_a_level</th>\n",
       "    </tr>\n",
       "  </thead>\n",
       "  <tbody>\n",
       "    <tr>\n",
       "      <th>0</th>\n",
       "      <td>2016-09-01 00:59:59</td>\n",
       "      <td>210.800909</td>\n",
       "      <td>14.993118</td>\n",
       "      <td>8.080000</td>\n",
       "      <td>1.005021</td>\n",
       "      <td>1398.981301</td>\n",
       "      <td>-500.225577</td>\n",
       "      <td>1399.144926</td>\n",
       "      <td>-499.919735</td>\n",
       "      <td>1400.102998</td>\n",
       "      <td>-500.704369</td>\n",
       "      <td>1399.001695</td>\n",
       "      <td>-499.485144</td>\n",
       "      <td>13.128569</td>\n",
       "      <td>5.636710</td>\n",
       "      <td>489.793655</td>\n",
       "      <td>62.710452</td>\n",
       "      <td>42.022440</td>\n",
       "      <td>12.084103</td>\n",
       "      <td>16.922877</td>\n",
       "      <td>6.153479</td>\n",
       "      <td>16.867518</td>\n",
       "      <td>6.150709</td>\n",
       "      <td>1001.849317</td>\n",
       "      <td>-350.301265</td>\n",
       "      <td>1249.738612</td>\n",
       "      <td>-399.107531</td>\n",
       "      <td>1249.750520</td>\n",
       "      <td>-399.396730</td>\n",
       "      <td>1198.287855</td>\n",
       "      <td>-399.488594</td>\n",
       "      <td>999.472250</td>\n",
       "      <td>-399.530962</td>\n",
       "      <td>949.566189</td>\n",
       "      <td>-398.180807</td>\n",
       "      <td>24.938200</td>\n",
       "      <td>-500.490963</td>\n",
       "      <td>14.947607</td>\n",
       "      <td>-500.013837</td>\n",
       "      <td>20.018166</td>\n",
       "      <td>-450.395995</td>\n",
       "      <td>13.987058</td>\n",
       "      <td>-449.831513</td>\n",
       "      <td>12.023554</td>\n",
       "      <td>-497.795834</td>\n",
       "      <td>8.016656</td>\n",
       "      <td>-501.289139</td>\n",
       "      <td>7.946562</td>\n",
       "      <td>-432.317850</td>\n",
       "      <td>4.872511</td>\n",
       "      <td>-500.037437</td>\n",
       "      <td>26.705889</td>\n",
       "      <td>-499.709414</td>\n",
       "    </tr>\n",
       "    <tr>\n",
       "      <th>1</th>\n",
       "      <td>2016-09-01 01:59:59</td>\n",
       "      <td>215.392455</td>\n",
       "      <td>14.987471</td>\n",
       "      <td>8.080000</td>\n",
       "      <td>0.990469</td>\n",
       "      <td>1398.777912</td>\n",
       "      <td>-500.057435</td>\n",
       "      <td>1398.055362</td>\n",
       "      <td>-499.778182</td>\n",
       "      <td>1396.151033</td>\n",
       "      <td>-499.240168</td>\n",
       "      <td>1399.508091</td>\n",
       "      <td>-500.416324</td>\n",
       "      <td>13.036280</td>\n",
       "      <td>5.526065</td>\n",
       "      <td>490.104534</td>\n",
       "      <td>61.961163</td>\n",
       "      <td>41.187903</td>\n",
       "      <td>11.918977</td>\n",
       "      <td>17.002532</td>\n",
       "      <td>5.999043</td>\n",
       "      <td>16.996063</td>\n",
       "      <td>6.002315</td>\n",
       "      <td>998.690785</td>\n",
       "      <td>-350.425704</td>\n",
       "      <td>1248.395457</td>\n",
       "      <td>-399.946025</td>\n",
       "      <td>1249.514451</td>\n",
       "      <td>-399.630810</td>\n",
       "      <td>1200.506459</td>\n",
       "      <td>-399.942434</td>\n",
       "      <td>1000.002114</td>\n",
       "      <td>-399.491528</td>\n",
       "      <td>950.200009</td>\n",
       "      <td>-405.787514</td>\n",
       "      <td>24.923466</td>\n",
       "      <td>-499.813963</td>\n",
       "      <td>14.930873</td>\n",
       "      <td>-500.764452</td>\n",
       "      <td>19.988503</td>\n",
       "      <td>-450.114024</td>\n",
       "      <td>14.092981</td>\n",
       "      <td>-450.059163</td>\n",
       "      <td>12.058140</td>\n",
       "      <td>-498.695773</td>\n",
       "      <td>8.130979</td>\n",
       "      <td>-499.634209</td>\n",
       "      <td>7.958270</td>\n",
       "      <td>-525.839648</td>\n",
       "      <td>4.878850</td>\n",
       "      <td>-500.162375</td>\n",
       "      <td>25.019940</td>\n",
       "      <td>-499.819438</td>\n",
       "    </tr>\n",
       "    <tr>\n",
       "      <th>2</th>\n",
       "      <td>2016-09-01 02:59:59</td>\n",
       "      <td>215.259946</td>\n",
       "      <td>12.884934</td>\n",
       "      <td>7.786667</td>\n",
       "      <td>0.996043</td>\n",
       "      <td>1398.493666</td>\n",
       "      <td>-500.868360</td>\n",
       "      <td>1398.860436</td>\n",
       "      <td>-499.764529</td>\n",
       "      <td>1398.075709</td>\n",
       "      <td>-502.151509</td>\n",
       "      <td>1399.497088</td>\n",
       "      <td>-499.715479</td>\n",
       "      <td>13.138412</td>\n",
       "      <td>5.426561</td>\n",
       "      <td>489.617969</td>\n",
       "      <td>66.903807</td>\n",
       "      <td>42.546294</td>\n",
       "      <td>12.091332</td>\n",
       "      <td>16.992520</td>\n",
       "      <td>5.850632</td>\n",
       "      <td>16.982096</td>\n",
       "      <td>5.853594</td>\n",
       "      <td>998.516720</td>\n",
       "      <td>-349.783538</td>\n",
       "      <td>1247.440748</td>\n",
       "      <td>-400.264330</td>\n",
       "      <td>1248.207204</td>\n",
       "      <td>-401.074405</td>\n",
       "      <td>1199.770026</td>\n",
       "      <td>-400.790582</td>\n",
       "      <td>999.925519</td>\n",
       "      <td>-399.236999</td>\n",
       "      <td>950.320481</td>\n",
       "      <td>-400.864340</td>\n",
       "      <td>24.908732</td>\n",
       "      <td>-500.304035</td>\n",
       "      <td>14.996511</td>\n",
       "      <td>-500.993821</td>\n",
       "      <td>20.039689</td>\n",
       "      <td>-450.263164</td>\n",
       "      <td>14.077881</td>\n",
       "      <td>-449.660997</td>\n",
       "      <td>11.962366</td>\n",
       "      <td>-498.767484</td>\n",
       "      <td>8.096893</td>\n",
       "      <td>-500.827423</td>\n",
       "      <td>8.071056</td>\n",
       "      <td>-500.801673</td>\n",
       "      <td>4.905125</td>\n",
       "      <td>-499.828510</td>\n",
       "      <td>24.994862</td>\n",
       "      <td>-500.622559</td>\n",
       "    </tr>\n",
       "    <tr>\n",
       "      <th>3</th>\n",
       "      <td>2016-09-01 03:59:59</td>\n",
       "      <td>215.336236</td>\n",
       "      <td>12.006805</td>\n",
       "      <td>7.640000</td>\n",
       "      <td>0.863514</td>\n",
       "      <td>1399.618111</td>\n",
       "      <td>-498.863574</td>\n",
       "      <td>1397.440120</td>\n",
       "      <td>-499.211024</td>\n",
       "      <td>1400.129303</td>\n",
       "      <td>-498.355873</td>\n",
       "      <td>1401.065165</td>\n",
       "      <td>-501.038738</td>\n",
       "      <td>12.400507</td>\n",
       "      <td>5.114758</td>\n",
       "      <td>476.618130</td>\n",
       "      <td>59.865919</td>\n",
       "      <td>41.060195</td>\n",
       "      <td>12.181597</td>\n",
       "      <td>16.532144</td>\n",
       "      <td>5.801935</td>\n",
       "      <td>16.515277</td>\n",
       "      <td>5.803657</td>\n",
       "      <td>1000.276604</td>\n",
       "      <td>-350.172597</td>\n",
       "      <td>1251.322675</td>\n",
       "      <td>-398.655289</td>\n",
       "      <td>1250.493702</td>\n",
       "      <td>-399.746728</td>\n",
       "      <td>1199.398691</td>\n",
       "      <td>-397.503052</td>\n",
       "      <td>1001.930679</td>\n",
       "      <td>-400.437573</td>\n",
       "      <td>950.735324</td>\n",
       "      <td>-399.802986</td>\n",
       "      <td>24.893998</td>\n",
       "      <td>-499.382374</td>\n",
       "      <td>14.916674</td>\n",
       "      <td>-499.862299</td>\n",
       "      <td>20.031100</td>\n",
       "      <td>-449.372570</td>\n",
       "      <td>14.013968</td>\n",
       "      <td>-449.526900</td>\n",
       "      <td>12.033091</td>\n",
       "      <td>-498.350935</td>\n",
       "      <td>8.074946</td>\n",
       "      <td>-499.474407</td>\n",
       "      <td>7.897085</td>\n",
       "      <td>-500.868509</td>\n",
       "      <td>4.931400</td>\n",
       "      <td>-499.963623</td>\n",
       "      <td>24.948919</td>\n",
       "      <td>-498.709987</td>\n",
       "    </tr>\n",
       "    <tr>\n",
       "      <th>4</th>\n",
       "      <td>2016-09-01 04:59:59</td>\n",
       "      <td>199.099327</td>\n",
       "      <td>10.682530</td>\n",
       "      <td>7.530000</td>\n",
       "      <td>0.805575</td>\n",
       "      <td>1401.268123</td>\n",
       "      <td>-500.808305</td>\n",
       "      <td>1398.128818</td>\n",
       "      <td>-499.504543</td>\n",
       "      <td>1402.172226</td>\n",
       "      <td>-500.810606</td>\n",
       "      <td>1399.480508</td>\n",
       "      <td>-499.374053</td>\n",
       "      <td>11.327427</td>\n",
       "      <td>4.767383</td>\n",
       "      <td>488.248117</td>\n",
       "      <td>63.315324</td>\n",
       "      <td>41.269161</td>\n",
       "      <td>11.290425</td>\n",
       "      <td>13.607257</td>\n",
       "      <td>5.738081</td>\n",
       "      <td>13.650053</td>\n",
       "      <td>5.739634</td>\n",
       "      <td>996.541302</td>\n",
       "      <td>-350.562517</td>\n",
       "      <td>1304.658848</td>\n",
       "      <td>-399.511519</td>\n",
       "      <td>1306.455515</td>\n",
       "      <td>-399.050685</td>\n",
       "      <td>1248.699349</td>\n",
       "      <td>-400.876894</td>\n",
       "      <td>1058.839106</td>\n",
       "      <td>-398.988239</td>\n",
       "      <td>949.645313</td>\n",
       "      <td>-399.277632</td>\n",
       "      <td>24.886905</td>\n",
       "      <td>-499.357375</td>\n",
       "      <td>14.979233</td>\n",
       "      <td>-500.186804</td>\n",
       "      <td>19.962364</td>\n",
       "      <td>-450.638828</td>\n",
       "      <td>14.009245</td>\n",
       "      <td>-450.022259</td>\n",
       "      <td>12.025367</td>\n",
       "      <td>-500.786497</td>\n",
       "      <td>8.054678</td>\n",
       "      <td>-500.397500</td>\n",
       "      <td>8.107890</td>\n",
       "      <td>-509.526725</td>\n",
       "      <td>4.957674</td>\n",
       "      <td>-500.360026</td>\n",
       "      <td>25.003331</td>\n",
       "      <td>-500.856333</td>\n",
       "    </tr>\n",
       "  </tbody>\n",
       "</table>\n",
       "</div>"
      ],
      "text/plain": [
       "                  date  primary_cleaner.input.sulfate  \\\n",
       "0  2016-09-01 00:59:59                     210.800909   \n",
       "1  2016-09-01 01:59:59                     215.392455   \n",
       "2  2016-09-01 02:59:59                     215.259946   \n",
       "3  2016-09-01 03:59:59                     215.336236   \n",
       "4  2016-09-01 04:59:59                     199.099327   \n",
       "\n",
       "   primary_cleaner.input.depressant  primary_cleaner.input.feed_size  \\\n",
       "0                         14.993118                         8.080000   \n",
       "1                         14.987471                         8.080000   \n",
       "2                         12.884934                         7.786667   \n",
       "3                         12.006805                         7.640000   \n",
       "4                         10.682530                         7.530000   \n",
       "\n",
       "   primary_cleaner.input.xanthate  primary_cleaner.state.floatbank8_a_air  \\\n",
       "0                        1.005021                             1398.981301   \n",
       "1                        0.990469                             1398.777912   \n",
       "2                        0.996043                             1398.493666   \n",
       "3                        0.863514                             1399.618111   \n",
       "4                        0.805575                             1401.268123   \n",
       "\n",
       "   primary_cleaner.state.floatbank8_a_level  \\\n",
       "0                               -500.225577   \n",
       "1                               -500.057435   \n",
       "2                               -500.868360   \n",
       "3                               -498.863574   \n",
       "4                               -500.808305   \n",
       "\n",
       "   primary_cleaner.state.floatbank8_b_air  \\\n",
       "0                             1399.144926   \n",
       "1                             1398.055362   \n",
       "2                             1398.860436   \n",
       "3                             1397.440120   \n",
       "4                             1398.128818   \n",
       "\n",
       "   primary_cleaner.state.floatbank8_b_level  \\\n",
       "0                               -499.919735   \n",
       "1                               -499.778182   \n",
       "2                               -499.764529   \n",
       "3                               -499.211024   \n",
       "4                               -499.504543   \n",
       "\n",
       "   primary_cleaner.state.floatbank8_c_air  \\\n",
       "0                             1400.102998   \n",
       "1                             1396.151033   \n",
       "2                             1398.075709   \n",
       "3                             1400.129303   \n",
       "4                             1402.172226   \n",
       "\n",
       "   primary_cleaner.state.floatbank8_c_level  \\\n",
       "0                               -500.704369   \n",
       "1                               -499.240168   \n",
       "2                               -502.151509   \n",
       "3                               -498.355873   \n",
       "4                               -500.810606   \n",
       "\n",
       "   primary_cleaner.state.floatbank8_d_air  \\\n",
       "0                             1399.001695   \n",
       "1                             1399.508091   \n",
       "2                             1399.497088   \n",
       "3                             1401.065165   \n",
       "4                             1399.480508   \n",
       "\n",
       "   primary_cleaner.state.floatbank8_d_level  rougher.input.feed_ag  \\\n",
       "0                               -499.485144              13.128569   \n",
       "1                               -500.416324              13.036280   \n",
       "2                               -499.715479              13.138412   \n",
       "3                               -501.038738              12.400507   \n",
       "4                               -499.374053              11.327427   \n",
       "\n",
       "   rougher.input.feed_pb  rougher.input.feed_rate  rougher.input.feed_size  \\\n",
       "0               5.636710               489.793655                62.710452   \n",
       "1               5.526065               490.104534                61.961163   \n",
       "2               5.426561               489.617969                66.903807   \n",
       "3               5.114758               476.618130                59.865919   \n",
       "4               4.767383               488.248117                63.315324   \n",
       "\n",
       "   rougher.input.feed_sol  rougher.input.feed_au  \\\n",
       "0               42.022440              12.084103   \n",
       "1               41.187903              11.918977   \n",
       "2               42.546294              12.091332   \n",
       "3               41.060195              12.181597   \n",
       "4               41.269161              11.290425   \n",
       "\n",
       "   rougher.input.floatbank10_sulfate  rougher.input.floatbank10_xanthate  \\\n",
       "0                          16.922877                            6.153479   \n",
       "1                          17.002532                            5.999043   \n",
       "2                          16.992520                            5.850632   \n",
       "3                          16.532144                            5.801935   \n",
       "4                          13.607257                            5.738081   \n",
       "\n",
       "   rougher.input.floatbank11_sulfate  rougher.input.floatbank11_xanthate  \\\n",
       "0                          16.867518                            6.150709   \n",
       "1                          16.996063                            6.002315   \n",
       "2                          16.982096                            5.853594   \n",
       "3                          16.515277                            5.803657   \n",
       "4                          13.650053                            5.739634   \n",
       "\n",
       "   rougher.state.floatbank10_a_air  rougher.state.floatbank10_a_level  \\\n",
       "0                      1001.849317                        -350.301265   \n",
       "1                       998.690785                        -350.425704   \n",
       "2                       998.516720                        -349.783538   \n",
       "3                      1000.276604                        -350.172597   \n",
       "4                       996.541302                        -350.562517   \n",
       "\n",
       "   rougher.state.floatbank10_b_air  rougher.state.floatbank10_b_level  \\\n",
       "0                      1249.738612                        -399.107531   \n",
       "1                      1248.395457                        -399.946025   \n",
       "2                      1247.440748                        -400.264330   \n",
       "3                      1251.322675                        -398.655289   \n",
       "4                      1304.658848                        -399.511519   \n",
       "\n",
       "   rougher.state.floatbank10_c_air  rougher.state.floatbank10_c_level  \\\n",
       "0                      1249.750520                        -399.396730   \n",
       "1                      1249.514451                        -399.630810   \n",
       "2                      1248.207204                        -401.074405   \n",
       "3                      1250.493702                        -399.746728   \n",
       "4                      1306.455515                        -399.050685   \n",
       "\n",
       "   rougher.state.floatbank10_d_air  rougher.state.floatbank10_d_level  \\\n",
       "0                      1198.287855                        -399.488594   \n",
       "1                      1200.506459                        -399.942434   \n",
       "2                      1199.770026                        -400.790582   \n",
       "3                      1199.398691                        -397.503052   \n",
       "4                      1248.699349                        -400.876894   \n",
       "\n",
       "   rougher.state.floatbank10_e_air  rougher.state.floatbank10_e_level  \\\n",
       "0                       999.472250                        -399.530962   \n",
       "1                      1000.002114                        -399.491528   \n",
       "2                       999.925519                        -399.236999   \n",
       "3                      1001.930679                        -400.437573   \n",
       "4                      1058.839106                        -398.988239   \n",
       "\n",
       "   rougher.state.floatbank10_f_air  rougher.state.floatbank10_f_level  \\\n",
       "0                       949.566189                        -398.180807   \n",
       "1                       950.200009                        -405.787514   \n",
       "2                       950.320481                        -400.864340   \n",
       "3                       950.735324                        -399.802986   \n",
       "4                       949.645313                        -399.277632   \n",
       "\n",
       "   secondary_cleaner.state.floatbank2_a_air  \\\n",
       "0                                 24.938200   \n",
       "1                                 24.923466   \n",
       "2                                 24.908732   \n",
       "3                                 24.893998   \n",
       "4                                 24.886905   \n",
       "\n",
       "   secondary_cleaner.state.floatbank2_a_level  \\\n",
       "0                                 -500.490963   \n",
       "1                                 -499.813963   \n",
       "2                                 -500.304035   \n",
       "3                                 -499.382374   \n",
       "4                                 -499.357375   \n",
       "\n",
       "   secondary_cleaner.state.floatbank2_b_air  \\\n",
       "0                                 14.947607   \n",
       "1                                 14.930873   \n",
       "2                                 14.996511   \n",
       "3                                 14.916674   \n",
       "4                                 14.979233   \n",
       "\n",
       "   secondary_cleaner.state.floatbank2_b_level  \\\n",
       "0                                 -500.013837   \n",
       "1                                 -500.764452   \n",
       "2                                 -500.993821   \n",
       "3                                 -499.862299   \n",
       "4                                 -500.186804   \n",
       "\n",
       "   secondary_cleaner.state.floatbank3_a_air  \\\n",
       "0                                 20.018166   \n",
       "1                                 19.988503   \n",
       "2                                 20.039689   \n",
       "3                                 20.031100   \n",
       "4                                 19.962364   \n",
       "\n",
       "   secondary_cleaner.state.floatbank3_a_level  \\\n",
       "0                                 -450.395995   \n",
       "1                                 -450.114024   \n",
       "2                                 -450.263164   \n",
       "3                                 -449.372570   \n",
       "4                                 -450.638828   \n",
       "\n",
       "   secondary_cleaner.state.floatbank3_b_air  \\\n",
       "0                                 13.987058   \n",
       "1                                 14.092981   \n",
       "2                                 14.077881   \n",
       "3                                 14.013968   \n",
       "4                                 14.009245   \n",
       "\n",
       "   secondary_cleaner.state.floatbank3_b_level  \\\n",
       "0                                 -449.831513   \n",
       "1                                 -450.059163   \n",
       "2                                 -449.660997   \n",
       "3                                 -449.526900   \n",
       "4                                 -450.022259   \n",
       "\n",
       "   secondary_cleaner.state.floatbank4_a_air  \\\n",
       "0                                 12.023554   \n",
       "1                                 12.058140   \n",
       "2                                 11.962366   \n",
       "3                                 12.033091   \n",
       "4                                 12.025367   \n",
       "\n",
       "   secondary_cleaner.state.floatbank4_a_level  \\\n",
       "0                                 -497.795834   \n",
       "1                                 -498.695773   \n",
       "2                                 -498.767484   \n",
       "3                                 -498.350935   \n",
       "4                                 -500.786497   \n",
       "\n",
       "   secondary_cleaner.state.floatbank4_b_air  \\\n",
       "0                                  8.016656   \n",
       "1                                  8.130979   \n",
       "2                                  8.096893   \n",
       "3                                  8.074946   \n",
       "4                                  8.054678   \n",
       "\n",
       "   secondary_cleaner.state.floatbank4_b_level  \\\n",
       "0                                 -501.289139   \n",
       "1                                 -499.634209   \n",
       "2                                 -500.827423   \n",
       "3                                 -499.474407   \n",
       "4                                 -500.397500   \n",
       "\n",
       "   secondary_cleaner.state.floatbank5_a_air  \\\n",
       "0                                  7.946562   \n",
       "1                                  7.958270   \n",
       "2                                  8.071056   \n",
       "3                                  7.897085   \n",
       "4                                  8.107890   \n",
       "\n",
       "   secondary_cleaner.state.floatbank5_a_level  \\\n",
       "0                                 -432.317850   \n",
       "1                                 -525.839648   \n",
       "2                                 -500.801673   \n",
       "3                                 -500.868509   \n",
       "4                                 -509.526725   \n",
       "\n",
       "   secondary_cleaner.state.floatbank5_b_air  \\\n",
       "0                                  4.872511   \n",
       "1                                  4.878850   \n",
       "2                                  4.905125   \n",
       "3                                  4.931400   \n",
       "4                                  4.957674   \n",
       "\n",
       "   secondary_cleaner.state.floatbank5_b_level  \\\n",
       "0                                 -500.037437   \n",
       "1                                 -500.162375   \n",
       "2                                 -499.828510   \n",
       "3                                 -499.963623   \n",
       "4                                 -500.360026   \n",
       "\n",
       "   secondary_cleaner.state.floatbank6_a_air  \\\n",
       "0                                 26.705889   \n",
       "1                                 25.019940   \n",
       "2                                 24.994862   \n",
       "3                                 24.948919   \n",
       "4                                 25.003331   \n",
       "\n",
       "   secondary_cleaner.state.floatbank6_a_level  \n",
       "0                                 -499.709414  \n",
       "1                                 -499.819438  \n",
       "2                                 -500.622559  \n",
       "3                                 -498.709987  \n",
       "4                                 -500.856333  "
      ]
     },
     "execution_count": 6,
     "metadata": {},
     "output_type": "execute_result"
    }
   ],
   "source": [
    "preliminary_analysis(df_test)"
   ]
  },
  {
   "cell_type": "code",
   "execution_count": 7,
   "metadata": {},
   "outputs": [
    {
     "name": "stdout",
     "output_type": "stream",
     "text": [
      "<class 'pandas.core.frame.DataFrame'>\n",
      "RangeIndex: 22716 entries, 0 to 22715\n",
      "Data columns (total 87 columns):\n",
      " #   Column                                              Non-Null Count  Dtype  \n",
      "---  ------                                              --------------  -----  \n",
      " 0   date                                                22716 non-null  object \n",
      " 1   final.output.concentrate_ag                         22627 non-null  float64\n",
      " 2   final.output.concentrate_pb                         22629 non-null  float64\n",
      " 3   final.output.concentrate_sol                        22331 non-null  float64\n",
      " 4   final.output.concentrate_au                         22630 non-null  float64\n",
      " 5   final.output.recovery                               20753 non-null  float64\n",
      " 6   final.output.tail_ag                                22633 non-null  float64\n",
      " 7   final.output.tail_pb                                22516 non-null  float64\n",
      " 8   final.output.tail_sol                               22445 non-null  float64\n",
      " 9   final.output.tail_au                                22635 non-null  float64\n",
      " 10  primary_cleaner.input.sulfate                       21107 non-null  float64\n",
      " 11  primary_cleaner.input.depressant                    21170 non-null  float64\n",
      " 12  primary_cleaner.input.feed_size                     22716 non-null  float64\n",
      " 13  primary_cleaner.input.xanthate                      21565 non-null  float64\n",
      " 14  primary_cleaner.output.concentrate_ag               22618 non-null  float64\n",
      " 15  primary_cleaner.output.concentrate_pb               22268 non-null  float64\n",
      " 16  primary_cleaner.output.concentrate_sol              21918 non-null  float64\n",
      " 17  primary_cleaner.output.concentrate_au               22618 non-null  float64\n",
      " 18  primary_cleaner.output.tail_ag                      22614 non-null  float64\n",
      " 19  primary_cleaner.output.tail_pb                      22594 non-null  float64\n",
      " 20  primary_cleaner.output.tail_sol                     22365 non-null  float64\n",
      " 21  primary_cleaner.output.tail_au                      22617 non-null  float64\n",
      " 22  primary_cleaner.state.floatbank8_a_air              22660 non-null  float64\n",
      " 23  primary_cleaner.state.floatbank8_a_level            22667 non-null  float64\n",
      " 24  primary_cleaner.state.floatbank8_b_air              22660 non-null  float64\n",
      " 25  primary_cleaner.state.floatbank8_b_level            22673 non-null  float64\n",
      " 26  primary_cleaner.state.floatbank8_c_air              22662 non-null  float64\n",
      " 27  primary_cleaner.state.floatbank8_c_level            22673 non-null  float64\n",
      " 28  primary_cleaner.state.floatbank8_d_air              22661 non-null  float64\n",
      " 29  primary_cleaner.state.floatbank8_d_level            22673 non-null  float64\n",
      " 30  rougher.calculation.sulfate_to_au_concentrate       22672 non-null  float64\n",
      " 31  rougher.calculation.floatbank10_sulfate_to_au_feed  22672 non-null  float64\n",
      " 32  rougher.calculation.floatbank11_sulfate_to_au_feed  22672 non-null  float64\n",
      " 33  rougher.calculation.au_pb_ratio                     21089 non-null  float64\n",
      " 34  rougher.input.feed_ag                               22618 non-null  float64\n",
      " 35  rougher.input.feed_pb                               22472 non-null  float64\n",
      " 36  rougher.input.feed_rate                             22163 non-null  float64\n",
      " 37  rougher.input.feed_size                             22277 non-null  float64\n",
      " 38  rougher.input.feed_sol                              22357 non-null  float64\n",
      " 39  rougher.input.feed_au                               22617 non-null  float64\n",
      " 40  rougher.input.floatbank10_sulfate                   21415 non-null  float64\n",
      " 41  rougher.input.floatbank10_xanthate                  22247 non-null  float64\n",
      " 42  rougher.input.floatbank11_sulfate                   22038 non-null  float64\n",
      " 43  rougher.input.floatbank11_xanthate                  20459 non-null  float64\n",
      " 44  rougher.output.concentrate_ag                       22618 non-null  float64\n",
      " 45  rougher.output.concentrate_pb                       22618 non-null  float64\n",
      " 46  rougher.output.concentrate_sol                      22526 non-null  float64\n",
      " 47  rougher.output.concentrate_au                       22618 non-null  float64\n",
      " 48  rougher.output.recovery                             19597 non-null  float64\n",
      " 49  rougher.output.tail_ag                              19979 non-null  float64\n",
      " 50  rougher.output.tail_pb                              22618 non-null  float64\n",
      " 51  rougher.output.tail_sol                             19980 non-null  float64\n",
      " 52  rougher.output.tail_au                              19980 non-null  float64\n",
      " 53  rougher.state.floatbank10_a_air                     22646 non-null  float64\n",
      " 54  rougher.state.floatbank10_a_level                   22647 non-null  float64\n",
      " 55  rougher.state.floatbank10_b_air                     22646 non-null  float64\n",
      " 56  rougher.state.floatbank10_b_level                   22647 non-null  float64\n",
      " 57  rougher.state.floatbank10_c_air                     22646 non-null  float64\n",
      " 58  rougher.state.floatbank10_c_level                   22654 non-null  float64\n",
      " 59  rougher.state.floatbank10_d_air                     22641 non-null  float64\n",
      " 60  rougher.state.floatbank10_d_level                   22649 non-null  float64\n",
      " 61  rougher.state.floatbank10_e_air                     22096 non-null  float64\n",
      " 62  rougher.state.floatbank10_e_level                   22649 non-null  float64\n",
      " 63  rougher.state.floatbank10_f_air                     22641 non-null  float64\n",
      " 64  rougher.state.floatbank10_f_level                   22642 non-null  float64\n",
      " 65  secondary_cleaner.output.tail_ag                    22616 non-null  float64\n",
      " 66  secondary_cleaner.output.tail_pb                    22600 non-null  float64\n",
      " 67  secondary_cleaner.output.tail_sol                   20501 non-null  float64\n",
      " 68  secondary_cleaner.output.tail_au                    22618 non-null  float64\n",
      " 69  secondary_cleaner.state.floatbank2_a_air            22333 non-null  float64\n",
      " 70  secondary_cleaner.state.floatbank2_a_level          22591 non-null  float64\n",
      " 71  secondary_cleaner.state.floatbank2_b_air            22538 non-null  float64\n",
      " 72  secondary_cleaner.state.floatbank2_b_level          22588 non-null  float64\n",
      " 73  secondary_cleaner.state.floatbank3_a_air            22585 non-null  float64\n",
      " 74  secondary_cleaner.state.floatbank3_a_level          22587 non-null  float64\n",
      " 75  secondary_cleaner.state.floatbank3_b_air            22592 non-null  float64\n",
      " 76  secondary_cleaner.state.floatbank3_b_level          22590 non-null  float64\n",
      " 77  secondary_cleaner.state.floatbank4_a_air            22571 non-null  float64\n",
      " 78  secondary_cleaner.state.floatbank4_a_level          22587 non-null  float64\n",
      " 79  secondary_cleaner.state.floatbank4_b_air            22608 non-null  float64\n",
      " 80  secondary_cleaner.state.floatbank4_b_level          22607 non-null  float64\n",
      " 81  secondary_cleaner.state.floatbank5_a_air            22615 non-null  float64\n",
      " 82  secondary_cleaner.state.floatbank5_a_level          22615 non-null  float64\n",
      " 83  secondary_cleaner.state.floatbank5_b_air            22615 non-null  float64\n",
      " 84  secondary_cleaner.state.floatbank5_b_level          22616 non-null  float64\n",
      " 85  secondary_cleaner.state.floatbank6_a_air            22597 non-null  float64\n",
      " 86  secondary_cleaner.state.floatbank6_a_level          22615 non-null  float64\n",
      "dtypes: float64(86), object(1)\n",
      "memory usage: 15.1+ MB\n",
      "None\n",
      "\n",
      "    \n",
      "    \n",
      "       final.output.concentrate_ag  final.output.concentrate_pb  \\\n",
      "count                 22627.000000                 22629.000000   \n",
      "mean                      4.781559                     9.095308   \n",
      "std                       2.030128                     3.230797   \n",
      "min                       0.000000                     0.000000   \n",
      "25%                       4.018525                     8.750171   \n",
      "50%                       4.953729                     9.914519   \n",
      "75%                       5.862593                    10.929839   \n",
      "max                      16.001945                    17.031899   \n",
      "\n",
      "       final.output.concentrate_sol  final.output.concentrate_au  \\\n",
      "count                  22331.000000                 22630.000000   \n",
      "mean                       8.640317                    40.001172   \n",
      "std                        3.785035                    13.398062   \n",
      "min                        0.000000                     0.000000   \n",
      "25%                        7.116799                    42.383721   \n",
      "50%                        8.908792                    44.653436   \n",
      "75%                       10.705824                    46.111999   \n",
      "max                       19.615720                    53.611374   \n",
      "\n",
      "       final.output.recovery  final.output.tail_ag  final.output.tail_pb  \\\n",
      "count           20753.000000          22633.000000          22516.000000   \n",
      "mean               67.447488              8.923690              2.488252   \n",
      "std                11.616034              3.517917              1.189407   \n",
      "min                 0.000000              0.000000              0.000000   \n",
      "25%                63.282393              7.684016              1.805376   \n",
      "50%                68.322258              9.484369              2.653001   \n",
      "75%                72.950836             11.084557              3.287790   \n",
      "max               100.000000             19.552149              6.086532   \n",
      "\n",
      "       final.output.tail_sol  final.output.tail_au  \\\n",
      "count           22445.000000          22635.000000   \n",
      "mean                9.523632              2.827459   \n",
      "std                 4.079739              1.262834   \n",
      "min                 0.000000              0.000000   \n",
      "25%                 8.143576              2.303108   \n",
      "50%                10.212998              2.913794   \n",
      "75%                11.860824              3.555077   \n",
      "max                22.861749              9.789625   \n",
      "\n",
      "       primary_cleaner.input.sulfate  primary_cleaner.input.depressant  \\\n",
      "count                   21107.000000                      21170.000000   \n",
      "mean                      140.277672                          8.587607   \n",
      "std                        49.919004                          3.611361   \n",
      "min                         0.000003                          0.000000   \n",
      "25%                       110.177081                          6.018085   \n",
      "50%                       141.330501                          8.018173   \n",
      "75%                       174.049914                         11.003573   \n",
      "max                       274.409626                         40.024582   \n",
      "\n",
      "       primary_cleaner.input.feed_size  primary_cleaner.input.xanthate  \\\n",
      "count                     22716.000000                    21565.000000   \n",
      "mean                          7.288872                        0.969830   \n",
      "std                           0.617357                        0.548083   \n",
      "min                           1.080000                        0.000003   \n",
      "25%                           6.920000                        0.626346   \n",
      "50%                           7.280000                        0.905286   \n",
      "75%                           7.680000                        1.200734   \n",
      "max                          15.500000                        6.027907   \n",
      "\n",
      "       primary_cleaner.output.concentrate_ag  \\\n",
      "count                           22618.000000   \n",
      "mean                                7.691652   \n",
      "std                                 3.109306   \n",
      "min                                 0.000000   \n",
      "25%                                 6.771102   \n",
      "50%                                 8.265643   \n",
      "75%                                 9.697896   \n",
      "max                                16.081632   \n",
      "\n",
      "       primary_cleaner.output.concentrate_pb  \\\n",
      "count                           22268.000000   \n",
      "mean                                8.921110   \n",
      "std                                 3.706314   \n",
      "min                                 0.000000   \n",
      "25%                                 7.834690   \n",
      "50%                                 9.921116   \n",
      "75%                                11.266100   \n",
      "max                                17.081278   \n",
      "\n",
      "       primary_cleaner.output.concentrate_sol  \\\n",
      "count                            21918.000000   \n",
      "mean                                 9.573672   \n",
      "std                                  4.788433   \n",
      "min                                  0.000000   \n",
      "25%                                  7.009980   \n",
      "50%                                  9.851136   \n",
      "75%                                 13.180304   \n",
      "max                                 22.458114   \n",
      "\n",
      "       primary_cleaner.output.concentrate_au  primary_cleaner.output.tail_ag  \\\n",
      "count                           22618.000000                    22614.000000   \n",
      "mean                               29.212289                       14.876219   \n",
      "std                                10.539303                        5.654342   \n",
      "min                                 0.000000                        0.000000   \n",
      "25%                                29.374406                       13.464756   \n",
      "50%                                32.359813                       15.600454   \n",
      "75%                                34.770726                       17.931084   \n",
      "max                                45.933934                       29.459575   \n",
      "\n",
      "       primary_cleaner.output.tail_pb  primary_cleaner.output.tail_sol  \\\n",
      "count                    22594.000000                     22365.000000   \n",
      "mean                         3.175822                         7.208474   \n",
      "std                          1.652177                         3.087892   \n",
      "min                          0.000000                         0.000000   \n",
      "25%                          2.269103                         5.961535   \n",
      "50%                          3.154022                         7.873945   \n",
      "75%                          4.123574                         9.348743   \n",
      "max                          9.634565                        22.276364   \n",
      "\n",
      "       primary_cleaner.output.tail_au  primary_cleaner.state.floatbank8_a_air  \\\n",
      "count                    22617.000000                            22660.000000   \n",
      "mean                         3.670333                             1511.162809   \n",
      "std                          1.985206                              363.801472   \n",
      "min                          0.000000                                0.000000   \n",
      "25%                          2.741534                             1500.593119   \n",
      "50%                          3.513008                             1600.079008   \n",
      "75%                          4.559485                             1696.691067   \n",
      "max                         18.528821                             2212.432090   \n",
      "\n",
      "       primary_cleaner.state.floatbank8_a_level  \\\n",
      "count                              22667.000000   \n",
      "mean                                -506.647591   \n",
      "std                                   73.798002   \n",
      "min                                 -800.037388   \n",
      "25%                                 -500.426010   \n",
      "50%                                 -499.963174   \n",
      "75%                                 -499.458089   \n",
      "max                                  -57.195404   \n",
      "\n",
      "       primary_cleaner.state.floatbank8_b_air  \\\n",
      "count                            22660.000000   \n",
      "mean                              1514.351654   \n",
      "std                                365.280954   \n",
      "min                                  0.000000   \n",
      "25%                               1500.500790   \n",
      "50%                               1600.032196   \n",
      "75%                               1698.933079   \n",
      "max                               2361.414084   \n",
      "\n",
      "       primary_cleaner.state.floatbank8_b_level  \\\n",
      "count                              22673.000000   \n",
      "mean                                -508.478882   \n",
      "std                                   76.785239   \n",
      "min                                 -800.409770   \n",
      "25%                                 -500.558891   \n",
      "50%                                 -500.001770   \n",
      "75%                                 -499.414187   \n",
      "max                                 -142.527229   \n",
      "\n",
      "       primary_cleaner.state.floatbank8_c_air  \\\n",
      "count                            22662.000000   \n",
      "mean                              1502.534056   \n",
      "std                                376.634842   \n",
      "min                                  0.000000   \n",
      "25%                               1499.146216   \n",
      "50%                               1599.749504   \n",
      "75%                               1699.151169   \n",
      "max                               2042.072583   \n",
      "\n",
      "       primary_cleaner.state.floatbank8_c_level  \\\n",
      "count                              22673.000000   \n",
      "mean                                -507.776133   \n",
      "std                                   75.003917   \n",
      "min                                 -800.362914   \n",
      "25%                                 -500.953774   \n",
      "50%                                 -499.982485   \n",
      "75%                                 -498.932758   \n",
      "max                                 -150.937035   \n",
      "\n",
      "       primary_cleaner.state.floatbank8_d_air  \\\n",
      "count                            22661.000000   \n",
      "mean                              1473.186236   \n",
      "std                                414.691424   \n",
      "min                                  0.000000   \n",
      "25%                               1447.698210   \n",
      "50%                               1598.993577   \n",
      "75%                               1698.142189   \n",
      "max                               2398.903635   \n",
      "\n",
      "       primary_cleaner.state.floatbank8_d_level  \\\n",
      "count                              22673.000000   \n",
      "mean                                -504.124775   \n",
      "std                                   82.278973   \n",
      "min                                 -800.166222   \n",
      "25%                                 -500.616787   \n",
      "50%                                 -499.961283   \n",
      "75%                                 -499.135326   \n",
      "max                                  -20.654343   \n",
      "\n",
      "       rougher.calculation.sulfate_to_au_concentrate  \\\n",
      "count                                   2.267200e+04   \n",
      "mean                                   -6.294614e+06   \n",
      "std                                     9.826921e+07   \n",
      "min                                    -2.248017e+09   \n",
      "25%                                     3.988478e+04   \n",
      "50%                                     4.405929e+04   \n",
      "75%                                     4.814479e+04   \n",
      "max                                     8.332404e+07   \n",
      "\n",
      "       rougher.calculation.floatbank10_sulfate_to_au_feed  \\\n",
      "count                                       2.267200e+04    \n",
      "mean                                        3.559534e+03    \n",
      "std                                         6.116649e+04    \n",
      "min                                        -2.023459e+06    \n",
      "25%                                         2.506366e+03    \n",
      "50%                                         2.940838e+03    \n",
      "75%                                         3.613983e+03    \n",
      "max                                         6.211433e+06    \n",
      "\n",
      "       rougher.calculation.floatbank11_sulfate_to_au_feed  \\\n",
      "count                                       2.267200e+04    \n",
      "mean                                        2.294828e+03    \n",
      "std                                         4.177895e+04    \n",
      "min                                        -4.014502e+06    \n",
      "25%                                         2.501745e+03    \n",
      "50%                                         2.897014e+03    \n",
      "75%                                         3.529913e+03    \n",
      "max                                         1.537564e+06    \n",
      "\n",
      "       rougher.calculation.au_pb_ratio  rougher.input.feed_ag  \\\n",
      "count                     21089.000000           22618.000000   \n",
      "mean                          2.386287               8.065715   \n",
      "std                           0.839999               3.125250   \n",
      "min                          -0.010548               0.000000   \n",
      "25%                           2.021360               6.944415   \n",
      "50%                           2.286493               8.302613   \n",
      "75%                           2.711070              10.135202   \n",
      "max                          39.379272              14.869652   \n",
      "\n",
      "       rougher.input.feed_pb  rougher.input.feed_rate  \\\n",
      "count           22472.000000             22163.000000   \n",
      "mean                3.305676               441.873650   \n",
      "std                 1.446905               156.736078   \n",
      "min                 0.000000                 0.000044   \n",
      "25%                 2.658814               398.222097   \n",
      "50%                 3.432054               488.968597   \n",
      "75%                 4.204960               546.587401   \n",
      "max                 7.142594               717.508837   \n",
      "\n",
      "       rougher.input.feed_size  rougher.input.feed_sol  rougher.input.feed_au  \\\n",
      "count             22277.000000            22357.000000           22617.000000   \n",
      "mean                 57.959166               33.276016               7.565838   \n",
      "std                  23.644823               11.494135               3.026954   \n",
      "min                   0.046369                0.000000               0.000000   \n",
      "25%                  46.687088               32.524264               6.485009   \n",
      "50%                  53.405122               36.559955               7.884832   \n",
      "75%                  64.096151               39.675470               9.668064   \n",
      "max                 484.967466               53.477742              14.093363   \n",
      "\n",
      "       rougher.input.floatbank10_sulfate  rougher.input.floatbank10_xanthate  \\\n",
      "count                       21415.000000                        22247.000000   \n",
      "mean                           11.784263                            5.573526   \n",
      "std                             4.093125                            1.908123   \n",
      "min                             0.000002                            0.000003   \n",
      "25%                             9.915698                            5.046782   \n",
      "50%                            11.998801                            5.999078   \n",
      "75%                            14.437582                            6.700493   \n",
      "max                            36.118275                           31.493331   \n",
      "\n",
      "       rougher.input.floatbank11_sulfate  rougher.input.floatbank11_xanthate  \\\n",
      "count                       22038.000000                        20459.000000   \n",
      "mean                           11.209718                            5.962586   \n",
      "std                             4.685205                            1.280682   \n",
      "min                             0.000014                            0.000010   \n",
      "25%                             9.281388                            5.353321   \n",
      "50%                            11.946466                            6.034551   \n",
      "75%                            14.015696                            6.799526   \n",
      "max                            37.980648                           18.709478   \n",
      "\n",
      "       rougher.output.concentrate_ag  rougher.output.concentrate_pb  \\\n",
      "count                   22618.000000                   22618.000000   \n",
      "mean                       10.874484                       6.900646   \n",
      "std                         4.377924                       2.806948   \n",
      "min                         0.000000                       0.000000   \n",
      "25%                        10.126646                       6.374692   \n",
      "50%                        11.785127                       7.572855   \n",
      "75%                        13.615299                       8.477358   \n",
      "max                        24.480271                      18.394042   \n",
      "\n",
      "       rougher.output.concentrate_sol  rougher.output.concentrate_au  \\\n",
      "count                    22526.000000                   22618.000000   \n",
      "mean                        26.095508                      17.879538   \n",
      "std                         10.140120                       6.790112   \n",
      "min                          0.000000                       0.000000   \n",
      "25%                         25.815139                      17.928729   \n",
      "50%                         29.382638                      20.003202   \n",
      "75%                         32.002766                      21.564238   \n",
      "max                         40.089993                      28.824507   \n",
      "\n",
      "       rougher.output.recovery  rougher.output.tail_ag  \\\n",
      "count             19597.000000            19979.000000   \n",
      "mean                 83.078122                5.587861   \n",
      "std                  14.661880                1.114614   \n",
      "min                   0.000000                0.594562   \n",
      "25%                  80.941306                4.887758   \n",
      "50%                  86.144121                5.759630   \n",
      "75%                  89.987561                6.386301   \n",
      "max                 100.000000               12.719177   \n",
      "\n",
      "       rougher.output.tail_pb  rougher.output.tail_sol  \\\n",
      "count            22618.000000             19980.000000   \n",
      "mean                 0.593620                18.040138   \n",
      "std                  0.315295                 3.470514   \n",
      "min                  0.000000                10.014648   \n",
      "25%                  0.427513                15.788283   \n",
      "50%                  0.590746                18.082595   \n",
      "75%                  0.763219                20.084427   \n",
      "max                  3.778064                66.117188   \n",
      "\n",
      "       rougher.output.tail_au  rougher.state.floatbank10_a_air  \\\n",
      "count            19980.000000                     22646.000000   \n",
      "mean                 1.821193                      1061.497265   \n",
      "std                  0.695663                       277.718805   \n",
      "min                  0.020676                        -0.345168   \n",
      "25%                  1.403951                       999.482192   \n",
      "50%                  1.808567                      1000.874850   \n",
      "75%                  2.215317                      1210.446131   \n",
      "max                  9.688980                      1521.980372   \n",
      "\n",
      "       rougher.state.floatbank10_a_level  rougher.state.floatbank10_b_air  \\\n",
      "count                       22647.000000                     22646.000000   \n",
      "mean                         -389.490702                      1257.007638   \n",
      "std                           109.946946                       319.983248   \n",
      "min                          -658.223080                        -0.821921   \n",
      "25%                          -499.930417                      1197.548268   \n",
      "50%                          -300.401147                      1299.976586   \n",
      "75%                          -299.992579                      1407.132038   \n",
      "max                           -19.383282                      1809.194008   \n",
      "\n",
      "       rougher.state.floatbank10_b_level  rougher.state.floatbank10_c_air  \\\n",
      "count                       22647.000000                     22646.000000   \n",
      "mean                         -477.174011                      1235.736890   \n",
      "std                            66.645938                       331.886940   \n",
      "min                          -650.437575                        -0.378521   \n",
      "25%                          -500.297595                      1100.701647   \n",
      "50%                          -499.847233                      1298.358825   \n",
      "75%                          -403.034804                      1437.004925   \n",
      "max                             9.457822                      2499.129174   \n",
      "\n",
      "       rougher.state.floatbank10_c_level  rougher.state.floatbank10_d_air  \\\n",
      "count                       22654.000000                     22641.000000   \n",
      "mean                         -476.320380                      1152.689097   \n",
      "std                            63.957539                       317.187293   \n",
      "min                          -650.151190                        -1.197435   \n",
      "25%                          -500.323902                      1040.497698   \n",
      "50%                          -499.786527                      1200.061465   \n",
      "75%                          -403.386144                      1342.550632   \n",
      "max                           -10.242658                      2077.222699   \n",
      "\n",
      "       rougher.state.floatbank10_d_level  rougher.state.floatbank10_e_air  \\\n",
      "count                       22649.000000                     22096.000000   \n",
      "mean                         -477.720243                      1029.790755   \n",
      "std                            61.942486                       278.544787   \n",
      "min                          -649.300693                        -2.163619   \n",
      "25%                          -500.590442                       950.272126   \n",
      "50%                          -499.674320                      1049.208185   \n",
      "75%                          -443.310570                      1198.762174   \n",
      "max                            21.365035                      2330.310425   \n",
      "\n",
      "       rougher.state.floatbank10_e_level  rougher.state.floatbank10_f_air  \\\n",
      "count                       22649.000000                     22641.000000   \n",
      "mean                         -475.804766                       977.870710   \n",
      "std                            68.327502                       262.604257   \n",
      "min                          -650.196204                        -2.636171   \n",
      "25%                          -500.357323                       900.173576   \n",
      "50%                          -499.749602                       999.693303   \n",
      "75%                          -403.199939                      1099.189914   \n",
      "max                            -2.406020                      1950.493751   \n",
      "\n",
      "       rougher.state.floatbank10_f_level  secondary_cleaner.output.tail_ag  \\\n",
      "count                       22642.000000                      22616.000000   \n",
      "mean                         -476.448631                         13.375349   \n",
      "std                            69.678409                          5.768719   \n",
      "min                          -650.072915                          0.000000   \n",
      "25%                          -500.749731                         11.802936   \n",
      "50%                          -499.631519                         15.222165   \n",
      "75%                          -403.810536                         17.231611   \n",
      "max                           -21.745268                         23.264738   \n",
      "\n",
      "       secondary_cleaner.output.tail_pb  secondary_cleaner.output.tail_sol  \\\n",
      "count                      22600.000000                       20501.000000   \n",
      "mean                           5.304107                           6.465460   \n",
      "std                            3.092536                           4.277993   \n",
      "min                            0.000000                           0.000000   \n",
      "25%                            3.451435                           2.658971   \n",
      "50%                            5.074145                           6.966645   \n",
      "75%                            7.585281                          10.152612   \n",
      "max                           17.042505                          33.058594   \n",
      "\n",
      "       secondary_cleaner.output.tail_au  \\\n",
      "count                      22618.000000   \n",
      "mean                           4.041218   \n",
      "std                            2.605738   \n",
      "min                            0.000000   \n",
      "25%                            2.877554   \n",
      "50%                            3.956171   \n",
      "75%                            5.006944   \n",
      "max                           26.811643   \n",
      "\n",
      "       secondary_cleaner.state.floatbank2_a_air  \\\n",
      "count                              22333.000000   \n",
      "mean                                  27.440808   \n",
      "std                                    7.763001   \n",
      "min                                    0.000000   \n",
      "25%                                   25.011462   \n",
      "50%                                   28.927709   \n",
      "75%                                   32.892271   \n",
      "max                                   60.000000   \n",
      "\n",
      "       secondary_cleaner.state.floatbank2_a_level  \\\n",
      "count                                22591.000000   \n",
      "mean                                  -516.727003   \n",
      "std                                     83.411562   \n",
      "min                                   -799.841677   \n",
      "25%                                   -500.303776   \n",
      "50%                                   -499.996457   \n",
      "75%                                   -499.686110   \n",
      "max                                   -127.875565   \n",
      "\n",
      "       secondary_cleaner.state.floatbank2_b_air  \\\n",
      "count                              22538.000000   \n",
      "mean                                  22.963160   \n",
      "std                                    7.715298   \n",
      "min                                    0.000000   \n",
      "25%                                   20.018733   \n",
      "50%                                   24.978758   \n",
      "75%                                   27.999758   \n",
      "max                                   60.000000   \n",
      "\n",
      "       secondary_cleaner.state.floatbank2_b_level  \\\n",
      "count                                22588.000000   \n",
      "mean                                  -517.691199   \n",
      "std                                     83.492128   \n",
      "min                                   -799.967956   \n",
      "25%                                   -500.318700   \n",
      "50%                                   -500.035682   \n",
      "75%                                   -499.798350   \n",
      "max                                   -211.999273   \n",
      "\n",
      "       secondary_cleaner.state.floatbank3_a_air  \\\n",
      "count                              22585.000000   \n",
      "mean                                  26.993715   \n",
      "std                                    8.262921   \n",
      "min                                    0.000000   \n",
      "25%                                   24.020017   \n",
      "50%                                   27.959889   \n",
      "75%                                   32.981390   \n",
      "max                                   60.000000   \n",
      "\n",
      "       secondary_cleaner.state.floatbank3_a_level  \\\n",
      "count                                22587.000000   \n",
      "mean                                  -500.178956   \n",
      "std                                     83.293510   \n",
      "min                                   -799.926254   \n",
      "25%                                   -500.273049   \n",
      "50%                                   -499.957251   \n",
      "75%                                   -499.386548   \n",
      "max                                   -191.678810   \n",
      "\n",
      "       secondary_cleaner.state.floatbank3_b_air  \\\n",
      "count                              22592.000000   \n",
      "mean                                  21.251091   \n",
      "std                                    7.018935   \n",
      "min                                    0.000000   \n",
      "25%                                   18.070333   \n",
      "50%                                   21.971564   \n",
      "75%                                   25.961958   \n",
      "max                                   39.487633   \n",
      "\n",
      "       secondary_cleaner.state.floatbank3_b_level  \\\n",
      "count                                22590.000000   \n",
      "mean                                  -505.013347   \n",
      "std                                     71.552885   \n",
      "min                                   -809.421923   \n",
      "25%                                   -500.150167   \n",
      "50%                                   -499.993182   \n",
      "75%                                   -499.821199   \n",
      "max                                   -139.771483   \n",
      "\n",
      "       secondary_cleaner.state.floatbank4_a_air  \\\n",
      "count                              22571.000000   \n",
      "mean                                  18.205125   \n",
      "std                                    6.560700   \n",
      "min                                    0.000000   \n",
      "25%                                   14.095940   \n",
      "50%                                   18.007326   \n",
      "75%                                   22.998194   \n",
      "max                                   60.000000   \n",
      "\n",
      "       secondary_cleaner.state.floatbank4_a_level  \\\n",
      "count                                22587.000000   \n",
      "mean                                  -499.878977   \n",
      "std                                     80.273964   \n",
      "min                                   -799.920713   \n",
      "25%                                   -500.896232   \n",
      "50%                                   -499.917108   \n",
      "75%                                   -498.361545   \n",
      "max                                   -127.692333   \n",
      "\n",
      "       secondary_cleaner.state.floatbank4_b_air  \\\n",
      "count                              22608.000000   \n",
      "mean                                  14.356474   \n",
      "std                                    5.655791   \n",
      "min                                    0.000000   \n",
      "25%                                   10.882675   \n",
      "50%                                   14.947646   \n",
      "75%                                   17.977502   \n",
      "max                                   31.269706   \n",
      "\n",
      "       secondary_cleaner.state.floatbank4_b_level  \\\n",
      "count                                22607.000000   \n",
      "mean                                  -476.532613   \n",
      "std                                     93.822791   \n",
      "min                                   -800.836914   \n",
      "25%                                   -500.309169   \n",
      "50%                                   -499.612292   \n",
      "75%                                   -400.224147   \n",
      "max                                     -6.506986   \n",
      "\n",
      "       secondary_cleaner.state.floatbank5_a_air  \\\n",
      "count                              22615.000000   \n",
      "mean                                  14.883276   \n",
      "std                                    6.372811   \n",
      "min                                   -0.423260   \n",
      "25%                                   10.941299   \n",
      "50%                                   14.859117   \n",
      "75%                                   18.014914   \n",
      "max                                   63.116298   \n",
      "\n",
      "       secondary_cleaner.state.floatbank5_a_level  \\\n",
      "count                                22615.000000   \n",
      "mean                                  -503.323288   \n",
      "std                                     72.925589   \n",
      "min                                   -799.741097   \n",
      "25%                                   -500.628697   \n",
      "50%                                   -499.865158   \n",
      "75%                                   -498.489381   \n",
      "max                                   -244.483566   \n",
      "\n",
      "       secondary_cleaner.state.floatbank5_b_air  \\\n",
      "count                              22615.000000   \n",
      "mean                                  11.626743   \n",
      "std                                    5.757449   \n",
      "min                                    0.427084   \n",
      "25%                                    8.037533   \n",
      "50%                                   10.989756   \n",
      "75%                                   14.001193   \n",
      "max                                   39.846228   \n",
      "\n",
      "       secondary_cleaner.state.floatbank5_b_level  \\\n",
      "count                                22616.000000   \n",
      "mean                                  -500.521502   \n",
      "std                                     78.956292   \n",
      "min                                   -800.258209   \n",
      "25%                                   -500.167897   \n",
      "50%                                   -499.951980   \n",
      "75%                                   -499.492354   \n",
      "max                                   -120.190931   \n",
      "\n",
      "       secondary_cleaner.state.floatbank6_a_air  \\\n",
      "count                              22597.000000   \n",
      "mean                                  17.976810   \n",
      "std                                    6.636203   \n",
      "min                                   -0.079426   \n",
      "25%                                   13.968418   \n",
      "50%                                   18.004215   \n",
      "75%                                   23.009704   \n",
      "max                                   54.876806   \n",
      "\n",
      "       secondary_cleaner.state.floatbank6_a_level  \n",
      "count                                22615.000000  \n",
      "mean                                  -519.361465  \n",
      "std                                     75.477151  \n",
      "min                                   -810.473526  \n",
      "25%                                   -500.981671  \n",
      "50%                                   -500.095463  \n",
      "75%                                   -499.526388  \n",
      "max                                    -29.093593  \n",
      "\n",
      "    \n",
      "    \n"
     ]
    },
    {
     "data": {
      "text/html": [
       "<div>\n",
       "<style scoped>\n",
       "    .dataframe tbody tr th:only-of-type {\n",
       "        vertical-align: middle;\n",
       "    }\n",
       "\n",
       "    .dataframe tbody tr th {\n",
       "        vertical-align: top;\n",
       "    }\n",
       "\n",
       "    .dataframe thead th {\n",
       "        text-align: right;\n",
       "    }\n",
       "</style>\n",
       "<table border=\"1\" class=\"dataframe\">\n",
       "  <thead>\n",
       "    <tr style=\"text-align: right;\">\n",
       "      <th></th>\n",
       "      <th>date</th>\n",
       "      <th>final.output.concentrate_ag</th>\n",
       "      <th>final.output.concentrate_pb</th>\n",
       "      <th>final.output.concentrate_sol</th>\n",
       "      <th>final.output.concentrate_au</th>\n",
       "      <th>final.output.recovery</th>\n",
       "      <th>final.output.tail_ag</th>\n",
       "      <th>final.output.tail_pb</th>\n",
       "      <th>final.output.tail_sol</th>\n",
       "      <th>final.output.tail_au</th>\n",
       "      <th>primary_cleaner.input.sulfate</th>\n",
       "      <th>primary_cleaner.input.depressant</th>\n",
       "      <th>primary_cleaner.input.feed_size</th>\n",
       "      <th>primary_cleaner.input.xanthate</th>\n",
       "      <th>primary_cleaner.output.concentrate_ag</th>\n",
       "      <th>primary_cleaner.output.concentrate_pb</th>\n",
       "      <th>primary_cleaner.output.concentrate_sol</th>\n",
       "      <th>primary_cleaner.output.concentrate_au</th>\n",
       "      <th>primary_cleaner.output.tail_ag</th>\n",
       "      <th>primary_cleaner.output.tail_pb</th>\n",
       "      <th>primary_cleaner.output.tail_sol</th>\n",
       "      <th>primary_cleaner.output.tail_au</th>\n",
       "      <th>primary_cleaner.state.floatbank8_a_air</th>\n",
       "      <th>primary_cleaner.state.floatbank8_a_level</th>\n",
       "      <th>primary_cleaner.state.floatbank8_b_air</th>\n",
       "      <th>primary_cleaner.state.floatbank8_b_level</th>\n",
       "      <th>primary_cleaner.state.floatbank8_c_air</th>\n",
       "      <th>primary_cleaner.state.floatbank8_c_level</th>\n",
       "      <th>primary_cleaner.state.floatbank8_d_air</th>\n",
       "      <th>primary_cleaner.state.floatbank8_d_level</th>\n",
       "      <th>rougher.calculation.sulfate_to_au_concentrate</th>\n",
       "      <th>rougher.calculation.floatbank10_sulfate_to_au_feed</th>\n",
       "      <th>rougher.calculation.floatbank11_sulfate_to_au_feed</th>\n",
       "      <th>rougher.calculation.au_pb_ratio</th>\n",
       "      <th>rougher.input.feed_ag</th>\n",
       "      <th>rougher.input.feed_pb</th>\n",
       "      <th>rougher.input.feed_rate</th>\n",
       "      <th>rougher.input.feed_size</th>\n",
       "      <th>rougher.input.feed_sol</th>\n",
       "      <th>rougher.input.feed_au</th>\n",
       "      <th>rougher.input.floatbank10_sulfate</th>\n",
       "      <th>rougher.input.floatbank10_xanthate</th>\n",
       "      <th>rougher.input.floatbank11_sulfate</th>\n",
       "      <th>rougher.input.floatbank11_xanthate</th>\n",
       "      <th>rougher.output.concentrate_ag</th>\n",
       "      <th>rougher.output.concentrate_pb</th>\n",
       "      <th>rougher.output.concentrate_sol</th>\n",
       "      <th>rougher.output.concentrate_au</th>\n",
       "      <th>rougher.output.recovery</th>\n",
       "      <th>rougher.output.tail_ag</th>\n",
       "      <th>rougher.output.tail_pb</th>\n",
       "      <th>rougher.output.tail_sol</th>\n",
       "      <th>rougher.output.tail_au</th>\n",
       "      <th>rougher.state.floatbank10_a_air</th>\n",
       "      <th>rougher.state.floatbank10_a_level</th>\n",
       "      <th>rougher.state.floatbank10_b_air</th>\n",
       "      <th>rougher.state.floatbank10_b_level</th>\n",
       "      <th>rougher.state.floatbank10_c_air</th>\n",
       "      <th>rougher.state.floatbank10_c_level</th>\n",
       "      <th>rougher.state.floatbank10_d_air</th>\n",
       "      <th>rougher.state.floatbank10_d_level</th>\n",
       "      <th>rougher.state.floatbank10_e_air</th>\n",
       "      <th>rougher.state.floatbank10_e_level</th>\n",
       "      <th>rougher.state.floatbank10_f_air</th>\n",
       "      <th>rougher.state.floatbank10_f_level</th>\n",
       "      <th>secondary_cleaner.output.tail_ag</th>\n",
       "      <th>secondary_cleaner.output.tail_pb</th>\n",
       "      <th>secondary_cleaner.output.tail_sol</th>\n",
       "      <th>secondary_cleaner.output.tail_au</th>\n",
       "      <th>secondary_cleaner.state.floatbank2_a_air</th>\n",
       "      <th>secondary_cleaner.state.floatbank2_a_level</th>\n",
       "      <th>secondary_cleaner.state.floatbank2_b_air</th>\n",
       "      <th>secondary_cleaner.state.floatbank2_b_level</th>\n",
       "      <th>secondary_cleaner.state.floatbank3_a_air</th>\n",
       "      <th>secondary_cleaner.state.floatbank3_a_level</th>\n",
       "      <th>secondary_cleaner.state.floatbank3_b_air</th>\n",
       "      <th>secondary_cleaner.state.floatbank3_b_level</th>\n",
       "      <th>secondary_cleaner.state.floatbank4_a_air</th>\n",
       "      <th>secondary_cleaner.state.floatbank4_a_level</th>\n",
       "      <th>secondary_cleaner.state.floatbank4_b_air</th>\n",
       "      <th>secondary_cleaner.state.floatbank4_b_level</th>\n",
       "      <th>secondary_cleaner.state.floatbank5_a_air</th>\n",
       "      <th>secondary_cleaner.state.floatbank5_a_level</th>\n",
       "      <th>secondary_cleaner.state.floatbank5_b_air</th>\n",
       "      <th>secondary_cleaner.state.floatbank5_b_level</th>\n",
       "      <th>secondary_cleaner.state.floatbank6_a_air</th>\n",
       "      <th>secondary_cleaner.state.floatbank6_a_level</th>\n",
       "    </tr>\n",
       "  </thead>\n",
       "  <tbody>\n",
       "    <tr>\n",
       "      <th>0</th>\n",
       "      <td>2016-01-15 00:00:00</td>\n",
       "      <td>6.055403</td>\n",
       "      <td>9.889648</td>\n",
       "      <td>5.507324</td>\n",
       "      <td>42.192020</td>\n",
       "      <td>70.541216</td>\n",
       "      <td>10.411962</td>\n",
       "      <td>0.895447</td>\n",
       "      <td>16.904297</td>\n",
       "      <td>2.143149</td>\n",
       "      <td>127.092003</td>\n",
       "      <td>10.128295</td>\n",
       "      <td>7.25</td>\n",
       "      <td>0.988759</td>\n",
       "      <td>8.547551</td>\n",
       "      <td>10.389648</td>\n",
       "      <td>19.529297</td>\n",
       "      <td>34.174427</td>\n",
       "      <td>14.936526</td>\n",
       "      <td>2.534912</td>\n",
       "      <td>7.476074</td>\n",
       "      <td>2.106679</td>\n",
       "      <td>1549.775757</td>\n",
       "      <td>-498.912140</td>\n",
       "      <td>1551.434204</td>\n",
       "      <td>-516.403442</td>\n",
       "      <td>1549.873901</td>\n",
       "      <td>-498.666595</td>\n",
       "      <td>1554.367432</td>\n",
       "      <td>-493.428131</td>\n",
       "      <td>41885.707031</td>\n",
       "      <td>3481.779053</td>\n",
       "      <td>3520.337158</td>\n",
       "      <td>2.838687</td>\n",
       "      <td>6.100378</td>\n",
       "      <td>2.284912</td>\n",
       "      <td>523.546326</td>\n",
       "      <td>55.486599</td>\n",
       "      <td>36.808594</td>\n",
       "      <td>6.486150</td>\n",
       "      <td>11.986616</td>\n",
       "      <td>6.007990</td>\n",
       "      <td>11.836743</td>\n",
       "      <td>6.005818</td>\n",
       "      <td>11.500771</td>\n",
       "      <td>7.101074</td>\n",
       "      <td>28.029297</td>\n",
       "      <td>19.793808</td>\n",
       "      <td>87.107763</td>\n",
       "      <td>5.008018</td>\n",
       "      <td>0.508728</td>\n",
       "      <td>19.154297</td>\n",
       "      <td>1.170244</td>\n",
       "      <td>999.706909</td>\n",
       "      <td>-404.066986</td>\n",
       "      <td>1603.011353</td>\n",
       "      <td>-434.715027</td>\n",
       "      <td>1602.375000</td>\n",
       "      <td>-442.204468</td>\n",
       "      <td>1598.937256</td>\n",
       "      <td>-451.294128</td>\n",
       "      <td>1404.472046</td>\n",
       "      <td>-455.462982</td>\n",
       "      <td>1416.354980</td>\n",
       "      <td>-451.939636</td>\n",
       "      <td>14.500184</td>\n",
       "      <td>4.694824</td>\n",
       "      <td>8.764648</td>\n",
       "      <td>2.606185</td>\n",
       "      <td>25.853109</td>\n",
       "      <td>-498.526489</td>\n",
       "      <td>23.893660</td>\n",
       "      <td>-501.406281</td>\n",
       "      <td>23.961798</td>\n",
       "      <td>-495.262817</td>\n",
       "      <td>21.940409</td>\n",
       "      <td>-499.340973</td>\n",
       "      <td>14.016835</td>\n",
       "      <td>-502.488007</td>\n",
       "      <td>12.099931</td>\n",
       "      <td>-504.715942</td>\n",
       "      <td>9.925633</td>\n",
       "      <td>-498.310211</td>\n",
       "      <td>8.079666</td>\n",
       "      <td>-500.470978</td>\n",
       "      <td>14.151341</td>\n",
       "      <td>-605.841980</td>\n",
       "    </tr>\n",
       "    <tr>\n",
       "      <th>1</th>\n",
       "      <td>2016-01-15 01:00:00</td>\n",
       "      <td>6.029369</td>\n",
       "      <td>9.968944</td>\n",
       "      <td>5.257781</td>\n",
       "      <td>42.701629</td>\n",
       "      <td>69.266198</td>\n",
       "      <td>10.462676</td>\n",
       "      <td>0.927452</td>\n",
       "      <td>16.634514</td>\n",
       "      <td>2.224930</td>\n",
       "      <td>125.629232</td>\n",
       "      <td>10.296251</td>\n",
       "      <td>7.25</td>\n",
       "      <td>1.002663</td>\n",
       "      <td>8.558743</td>\n",
       "      <td>10.497069</td>\n",
       "      <td>19.369147</td>\n",
       "      <td>34.118526</td>\n",
       "      <td>16.250511</td>\n",
       "      <td>3.049646</td>\n",
       "      <td>6.733907</td>\n",
       "      <td>2.353017</td>\n",
       "      <td>1576.166671</td>\n",
       "      <td>-500.904965</td>\n",
       "      <td>1575.950626</td>\n",
       "      <td>-499.865889</td>\n",
       "      <td>1575.994189</td>\n",
       "      <td>-499.315107</td>\n",
       "      <td>1574.479259</td>\n",
       "      <td>-498.931665</td>\n",
       "      <td>42050.861809</td>\n",
       "      <td>3498.370979</td>\n",
       "      <td>3489.981857</td>\n",
       "      <td>2.858998</td>\n",
       "      <td>6.161113</td>\n",
       "      <td>2.266033</td>\n",
       "      <td>525.290581</td>\n",
       "      <td>57.278666</td>\n",
       "      <td>35.753385</td>\n",
       "      <td>6.478583</td>\n",
       "      <td>11.971193</td>\n",
       "      <td>6.005766</td>\n",
       "      <td>11.996163</td>\n",
       "      <td>6.012594</td>\n",
       "      <td>11.615865</td>\n",
       "      <td>7.278807</td>\n",
       "      <td>28.067063</td>\n",
       "      <td>20.050975</td>\n",
       "      <td>86.843261</td>\n",
       "      <td>4.955378</td>\n",
       "      <td>0.536689</td>\n",
       "      <td>18.965234</td>\n",
       "      <td>1.184827</td>\n",
       "      <td>1000.286398</td>\n",
       "      <td>-400.065196</td>\n",
       "      <td>1600.754587</td>\n",
       "      <td>-449.953435</td>\n",
       "      <td>1600.479580</td>\n",
       "      <td>-449.830646</td>\n",
       "      <td>1600.527589</td>\n",
       "      <td>-449.953649</td>\n",
       "      <td>1399.227084</td>\n",
       "      <td>-450.869848</td>\n",
       "      <td>1399.719514</td>\n",
       "      <td>-450.119001</td>\n",
       "      <td>14.265474</td>\n",
       "      <td>4.592547</td>\n",
       "      <td>9.001494</td>\n",
       "      <td>2.488248</td>\n",
       "      <td>25.880539</td>\n",
       "      <td>-499.989656</td>\n",
       "      <td>23.889530</td>\n",
       "      <td>-500.372428</td>\n",
       "      <td>23.970550</td>\n",
       "      <td>-500.085473</td>\n",
       "      <td>22.085714</td>\n",
       "      <td>-499.446897</td>\n",
       "      <td>13.992281</td>\n",
       "      <td>-505.503262</td>\n",
       "      <td>11.950531</td>\n",
       "      <td>-501.331529</td>\n",
       "      <td>10.039245</td>\n",
       "      <td>-500.169983</td>\n",
       "      <td>7.984757</td>\n",
       "      <td>-500.582168</td>\n",
       "      <td>13.998353</td>\n",
       "      <td>-599.787184</td>\n",
       "    </tr>\n",
       "    <tr>\n",
       "      <th>2</th>\n",
       "      <td>2016-01-15 02:00:00</td>\n",
       "      <td>6.055926</td>\n",
       "      <td>10.213995</td>\n",
       "      <td>5.383759</td>\n",
       "      <td>42.657501</td>\n",
       "      <td>68.116445</td>\n",
       "      <td>10.507046</td>\n",
       "      <td>0.953716</td>\n",
       "      <td>16.208849</td>\n",
       "      <td>2.257889</td>\n",
       "      <td>123.819808</td>\n",
       "      <td>11.316280</td>\n",
       "      <td>7.25</td>\n",
       "      <td>0.991265</td>\n",
       "      <td>8.603505</td>\n",
       "      <td>10.354494</td>\n",
       "      <td>19.167579</td>\n",
       "      <td>33.969464</td>\n",
       "      <td>16.491823</td>\n",
       "      <td>3.124664</td>\n",
       "      <td>6.471768</td>\n",
       "      <td>2.416800</td>\n",
       "      <td>1601.556163</td>\n",
       "      <td>-499.997791</td>\n",
       "      <td>1600.386685</td>\n",
       "      <td>-500.607762</td>\n",
       "      <td>1602.003542</td>\n",
       "      <td>-500.870069</td>\n",
       "      <td>1599.541515</td>\n",
       "      <td>-499.827444</td>\n",
       "      <td>42018.101184</td>\n",
       "      <td>3495.348910</td>\n",
       "      <td>3502.359819</td>\n",
       "      <td>2.945989</td>\n",
       "      <td>6.116455</td>\n",
       "      <td>2.159622</td>\n",
       "      <td>530.026610</td>\n",
       "      <td>57.510649</td>\n",
       "      <td>35.971630</td>\n",
       "      <td>6.362222</td>\n",
       "      <td>11.920603</td>\n",
       "      <td>6.197377</td>\n",
       "      <td>11.920305</td>\n",
       "      <td>6.204633</td>\n",
       "      <td>11.695753</td>\n",
       "      <td>7.216833</td>\n",
       "      <td>27.454037</td>\n",
       "      <td>19.737170</td>\n",
       "      <td>86.842308</td>\n",
       "      <td>4.843460</td>\n",
       "      <td>0.546416</td>\n",
       "      <td>18.808533</td>\n",
       "      <td>1.162562</td>\n",
       "      <td>999.719565</td>\n",
       "      <td>-400.074028</td>\n",
       "      <td>1599.337330</td>\n",
       "      <td>-450.008530</td>\n",
       "      <td>1599.672797</td>\n",
       "      <td>-449.954491</td>\n",
       "      <td>1599.849325</td>\n",
       "      <td>-449.954185</td>\n",
       "      <td>1399.180945</td>\n",
       "      <td>-449.937588</td>\n",
       "      <td>1400.316682</td>\n",
       "      <td>-450.527147</td>\n",
       "      <td>14.115662</td>\n",
       "      <td>4.624775</td>\n",
       "      <td>8.842896</td>\n",
       "      <td>2.458187</td>\n",
       "      <td>26.005245</td>\n",
       "      <td>-499.929616</td>\n",
       "      <td>23.886657</td>\n",
       "      <td>-499.951928</td>\n",
       "      <td>23.913535</td>\n",
       "      <td>-499.442343</td>\n",
       "      <td>23.957717</td>\n",
       "      <td>-499.901982</td>\n",
       "      <td>14.015015</td>\n",
       "      <td>-502.520901</td>\n",
       "      <td>11.912783</td>\n",
       "      <td>-501.133383</td>\n",
       "      <td>10.070913</td>\n",
       "      <td>-500.129135</td>\n",
       "      <td>8.013877</td>\n",
       "      <td>-500.517572</td>\n",
       "      <td>14.028663</td>\n",
       "      <td>-601.427363</td>\n",
       "    </tr>\n",
       "    <tr>\n",
       "      <th>3</th>\n",
       "      <td>2016-01-15 03:00:00</td>\n",
       "      <td>6.047977</td>\n",
       "      <td>9.977019</td>\n",
       "      <td>4.858634</td>\n",
       "      <td>42.689819</td>\n",
       "      <td>68.347543</td>\n",
       "      <td>10.422762</td>\n",
       "      <td>0.883763</td>\n",
       "      <td>16.532835</td>\n",
       "      <td>2.146849</td>\n",
       "      <td>122.270188</td>\n",
       "      <td>11.322140</td>\n",
       "      <td>7.25</td>\n",
       "      <td>0.996739</td>\n",
       "      <td>7.221879</td>\n",
       "      <td>8.496563</td>\n",
       "      <td>15.978538</td>\n",
       "      <td>28.260743</td>\n",
       "      <td>16.024359</td>\n",
       "      <td>2.960362</td>\n",
       "      <td>6.843791</td>\n",
       "      <td>2.262051</td>\n",
       "      <td>1599.968720</td>\n",
       "      <td>-500.951778</td>\n",
       "      <td>1600.659236</td>\n",
       "      <td>-499.677094</td>\n",
       "      <td>1600.304144</td>\n",
       "      <td>-500.727997</td>\n",
       "      <td>1600.449520</td>\n",
       "      <td>-500.052575</td>\n",
       "      <td>42029.447991</td>\n",
       "      <td>3498.578313</td>\n",
       "      <td>3499.162912</td>\n",
       "      <td>3.002340</td>\n",
       "      <td>6.043309</td>\n",
       "      <td>2.037807</td>\n",
       "      <td>542.590390</td>\n",
       "      <td>57.792734</td>\n",
       "      <td>36.862241</td>\n",
       "      <td>6.118189</td>\n",
       "      <td>11.630094</td>\n",
       "      <td>6.203177</td>\n",
       "      <td>11.692450</td>\n",
       "      <td>6.196578</td>\n",
       "      <td>11.915047</td>\n",
       "      <td>7.175616</td>\n",
       "      <td>27.341277</td>\n",
       "      <td>19.320810</td>\n",
       "      <td>87.226430</td>\n",
       "      <td>4.655288</td>\n",
       "      <td>0.542525</td>\n",
       "      <td>19.330200</td>\n",
       "      <td>1.079755</td>\n",
       "      <td>999.814770</td>\n",
       "      <td>-400.200179</td>\n",
       "      <td>1600.059442</td>\n",
       "      <td>-450.619948</td>\n",
       "      <td>1600.012842</td>\n",
       "      <td>-449.910497</td>\n",
       "      <td>1597.725177</td>\n",
       "      <td>-450.130127</td>\n",
       "      <td>1400.943157</td>\n",
       "      <td>-450.030142</td>\n",
       "      <td>1400.234743</td>\n",
       "      <td>-449.790835</td>\n",
       "      <td>13.732071</td>\n",
       "      <td>4.482453</td>\n",
       "      <td>9.122857</td>\n",
       "      <td>2.322062</td>\n",
       "      <td>25.942508</td>\n",
       "      <td>-499.176749</td>\n",
       "      <td>23.955516</td>\n",
       "      <td>-499.848796</td>\n",
       "      <td>23.966838</td>\n",
       "      <td>-500.008812</td>\n",
       "      <td>23.954443</td>\n",
       "      <td>-499.944710</td>\n",
       "      <td>14.036510</td>\n",
       "      <td>-500.857308</td>\n",
       "      <td>11.999550</td>\n",
       "      <td>-501.193686</td>\n",
       "      <td>9.970366</td>\n",
       "      <td>-499.201640</td>\n",
       "      <td>7.977324</td>\n",
       "      <td>-500.255908</td>\n",
       "      <td>14.005551</td>\n",
       "      <td>-599.996129</td>\n",
       "    </tr>\n",
       "    <tr>\n",
       "      <th>4</th>\n",
       "      <td>2016-01-15 04:00:00</td>\n",
       "      <td>6.148599</td>\n",
       "      <td>10.142511</td>\n",
       "      <td>4.939416</td>\n",
       "      <td>42.774141</td>\n",
       "      <td>66.927016</td>\n",
       "      <td>10.360302</td>\n",
       "      <td>0.792826</td>\n",
       "      <td>16.525686</td>\n",
       "      <td>2.055292</td>\n",
       "      <td>117.988169</td>\n",
       "      <td>11.913613</td>\n",
       "      <td>7.25</td>\n",
       "      <td>1.009869</td>\n",
       "      <td>9.089428</td>\n",
       "      <td>9.986786</td>\n",
       "      <td>19.199864</td>\n",
       "      <td>33.044932</td>\n",
       "      <td>16.480185</td>\n",
       "      <td>3.112100</td>\n",
       "      <td>6.550154</td>\n",
       "      <td>2.277073</td>\n",
       "      <td>1601.339707</td>\n",
       "      <td>-498.975456</td>\n",
       "      <td>1601.437854</td>\n",
       "      <td>-500.323246</td>\n",
       "      <td>1599.581894</td>\n",
       "      <td>-500.888152</td>\n",
       "      <td>1602.649541</td>\n",
       "      <td>-500.593010</td>\n",
       "      <td>42125.354245</td>\n",
       "      <td>3494.800771</td>\n",
       "      <td>3506.679315</td>\n",
       "      <td>3.169615</td>\n",
       "      <td>6.060915</td>\n",
       "      <td>1.786875</td>\n",
       "      <td>540.531893</td>\n",
       "      <td>56.047189</td>\n",
       "      <td>34.347666</td>\n",
       "      <td>5.663707</td>\n",
       "      <td>10.957755</td>\n",
       "      <td>6.198826</td>\n",
       "      <td>10.960521</td>\n",
       "      <td>6.194897</td>\n",
       "      <td>12.411054</td>\n",
       "      <td>7.240205</td>\n",
       "      <td>27.041023</td>\n",
       "      <td>19.216101</td>\n",
       "      <td>86.688794</td>\n",
       "      <td>4.552800</td>\n",
       "      <td>0.515438</td>\n",
       "      <td>19.267422</td>\n",
       "      <td>1.012642</td>\n",
       "      <td>999.678690</td>\n",
       "      <td>-399.752729</td>\n",
       "      <td>1600.208824</td>\n",
       "      <td>-449.599614</td>\n",
       "      <td>1600.357732</td>\n",
       "      <td>-450.034364</td>\n",
       "      <td>1599.759049</td>\n",
       "      <td>-449.909799</td>\n",
       "      <td>1401.560902</td>\n",
       "      <td>-448.877187</td>\n",
       "      <td>1401.160227</td>\n",
       "      <td>-450.407128</td>\n",
       "      <td>14.079996</td>\n",
       "      <td>4.470737</td>\n",
       "      <td>8.871028</td>\n",
       "      <td>2.330448</td>\n",
       "      <td>26.024787</td>\n",
       "      <td>-500.279091</td>\n",
       "      <td>23.955345</td>\n",
       "      <td>-500.593614</td>\n",
       "      <td>23.985703</td>\n",
       "      <td>-500.083811</td>\n",
       "      <td>23.958945</td>\n",
       "      <td>-499.990309</td>\n",
       "      <td>14.027298</td>\n",
       "      <td>-499.838632</td>\n",
       "      <td>11.953070</td>\n",
       "      <td>-501.053894</td>\n",
       "      <td>9.925709</td>\n",
       "      <td>-501.686727</td>\n",
       "      <td>7.894242</td>\n",
       "      <td>-500.356035</td>\n",
       "      <td>13.996647</td>\n",
       "      <td>-601.496691</td>\n",
       "    </tr>\n",
       "  </tbody>\n",
       "</table>\n",
       "</div>"
      ],
      "text/plain": [
       "                  date  final.output.concentrate_ag  \\\n",
       "0  2016-01-15 00:00:00                     6.055403   \n",
       "1  2016-01-15 01:00:00                     6.029369   \n",
       "2  2016-01-15 02:00:00                     6.055926   \n",
       "3  2016-01-15 03:00:00                     6.047977   \n",
       "4  2016-01-15 04:00:00                     6.148599   \n",
       "\n",
       "   final.output.concentrate_pb  final.output.concentrate_sol  \\\n",
       "0                     9.889648                      5.507324   \n",
       "1                     9.968944                      5.257781   \n",
       "2                    10.213995                      5.383759   \n",
       "3                     9.977019                      4.858634   \n",
       "4                    10.142511                      4.939416   \n",
       "\n",
       "   final.output.concentrate_au  final.output.recovery  final.output.tail_ag  \\\n",
       "0                    42.192020              70.541216             10.411962   \n",
       "1                    42.701629              69.266198             10.462676   \n",
       "2                    42.657501              68.116445             10.507046   \n",
       "3                    42.689819              68.347543             10.422762   \n",
       "4                    42.774141              66.927016             10.360302   \n",
       "\n",
       "   final.output.tail_pb  final.output.tail_sol  final.output.tail_au  \\\n",
       "0              0.895447              16.904297              2.143149   \n",
       "1              0.927452              16.634514              2.224930   \n",
       "2              0.953716              16.208849              2.257889   \n",
       "3              0.883763              16.532835              2.146849   \n",
       "4              0.792826              16.525686              2.055292   \n",
       "\n",
       "   primary_cleaner.input.sulfate  primary_cleaner.input.depressant  \\\n",
       "0                     127.092003                         10.128295   \n",
       "1                     125.629232                         10.296251   \n",
       "2                     123.819808                         11.316280   \n",
       "3                     122.270188                         11.322140   \n",
       "4                     117.988169                         11.913613   \n",
       "\n",
       "   primary_cleaner.input.feed_size  primary_cleaner.input.xanthate  \\\n",
       "0                             7.25                        0.988759   \n",
       "1                             7.25                        1.002663   \n",
       "2                             7.25                        0.991265   \n",
       "3                             7.25                        0.996739   \n",
       "4                             7.25                        1.009869   \n",
       "\n",
       "   primary_cleaner.output.concentrate_ag  \\\n",
       "0                               8.547551   \n",
       "1                               8.558743   \n",
       "2                               8.603505   \n",
       "3                               7.221879   \n",
       "4                               9.089428   \n",
       "\n",
       "   primary_cleaner.output.concentrate_pb  \\\n",
       "0                              10.389648   \n",
       "1                              10.497069   \n",
       "2                              10.354494   \n",
       "3                               8.496563   \n",
       "4                               9.986786   \n",
       "\n",
       "   primary_cleaner.output.concentrate_sol  \\\n",
       "0                               19.529297   \n",
       "1                               19.369147   \n",
       "2                               19.167579   \n",
       "3                               15.978538   \n",
       "4                               19.199864   \n",
       "\n",
       "   primary_cleaner.output.concentrate_au  primary_cleaner.output.tail_ag  \\\n",
       "0                              34.174427                       14.936526   \n",
       "1                              34.118526                       16.250511   \n",
       "2                              33.969464                       16.491823   \n",
       "3                              28.260743                       16.024359   \n",
       "4                              33.044932                       16.480185   \n",
       "\n",
       "   primary_cleaner.output.tail_pb  primary_cleaner.output.tail_sol  \\\n",
       "0                        2.534912                         7.476074   \n",
       "1                        3.049646                         6.733907   \n",
       "2                        3.124664                         6.471768   \n",
       "3                        2.960362                         6.843791   \n",
       "4                        3.112100                         6.550154   \n",
       "\n",
       "   primary_cleaner.output.tail_au  primary_cleaner.state.floatbank8_a_air  \\\n",
       "0                        2.106679                             1549.775757   \n",
       "1                        2.353017                             1576.166671   \n",
       "2                        2.416800                             1601.556163   \n",
       "3                        2.262051                             1599.968720   \n",
       "4                        2.277073                             1601.339707   \n",
       "\n",
       "   primary_cleaner.state.floatbank8_a_level  \\\n",
       "0                               -498.912140   \n",
       "1                               -500.904965   \n",
       "2                               -499.997791   \n",
       "3                               -500.951778   \n",
       "4                               -498.975456   \n",
       "\n",
       "   primary_cleaner.state.floatbank8_b_air  \\\n",
       "0                             1551.434204   \n",
       "1                             1575.950626   \n",
       "2                             1600.386685   \n",
       "3                             1600.659236   \n",
       "4                             1601.437854   \n",
       "\n",
       "   primary_cleaner.state.floatbank8_b_level  \\\n",
       "0                               -516.403442   \n",
       "1                               -499.865889   \n",
       "2                               -500.607762   \n",
       "3                               -499.677094   \n",
       "4                               -500.323246   \n",
       "\n",
       "   primary_cleaner.state.floatbank8_c_air  \\\n",
       "0                             1549.873901   \n",
       "1                             1575.994189   \n",
       "2                             1602.003542   \n",
       "3                             1600.304144   \n",
       "4                             1599.581894   \n",
       "\n",
       "   primary_cleaner.state.floatbank8_c_level  \\\n",
       "0                               -498.666595   \n",
       "1                               -499.315107   \n",
       "2                               -500.870069   \n",
       "3                               -500.727997   \n",
       "4                               -500.888152   \n",
       "\n",
       "   primary_cleaner.state.floatbank8_d_air  \\\n",
       "0                             1554.367432   \n",
       "1                             1574.479259   \n",
       "2                             1599.541515   \n",
       "3                             1600.449520   \n",
       "4                             1602.649541   \n",
       "\n",
       "   primary_cleaner.state.floatbank8_d_level  \\\n",
       "0                               -493.428131   \n",
       "1                               -498.931665   \n",
       "2                               -499.827444   \n",
       "3                               -500.052575   \n",
       "4                               -500.593010   \n",
       "\n",
       "   rougher.calculation.sulfate_to_au_concentrate  \\\n",
       "0                                   41885.707031   \n",
       "1                                   42050.861809   \n",
       "2                                   42018.101184   \n",
       "3                                   42029.447991   \n",
       "4                                   42125.354245   \n",
       "\n",
       "   rougher.calculation.floatbank10_sulfate_to_au_feed  \\\n",
       "0                                        3481.779053    \n",
       "1                                        3498.370979    \n",
       "2                                        3495.348910    \n",
       "3                                        3498.578313    \n",
       "4                                        3494.800771    \n",
       "\n",
       "   rougher.calculation.floatbank11_sulfate_to_au_feed  \\\n",
       "0                                        3520.337158    \n",
       "1                                        3489.981857    \n",
       "2                                        3502.359819    \n",
       "3                                        3499.162912    \n",
       "4                                        3506.679315    \n",
       "\n",
       "   rougher.calculation.au_pb_ratio  rougher.input.feed_ag  \\\n",
       "0                         2.838687               6.100378   \n",
       "1                         2.858998               6.161113   \n",
       "2                         2.945989               6.116455   \n",
       "3                         3.002340               6.043309   \n",
       "4                         3.169615               6.060915   \n",
       "\n",
       "   rougher.input.feed_pb  rougher.input.feed_rate  rougher.input.feed_size  \\\n",
       "0               2.284912               523.546326                55.486599   \n",
       "1               2.266033               525.290581                57.278666   \n",
       "2               2.159622               530.026610                57.510649   \n",
       "3               2.037807               542.590390                57.792734   \n",
       "4               1.786875               540.531893                56.047189   \n",
       "\n",
       "   rougher.input.feed_sol  rougher.input.feed_au  \\\n",
       "0               36.808594               6.486150   \n",
       "1               35.753385               6.478583   \n",
       "2               35.971630               6.362222   \n",
       "3               36.862241               6.118189   \n",
       "4               34.347666               5.663707   \n",
       "\n",
       "   rougher.input.floatbank10_sulfate  rougher.input.floatbank10_xanthate  \\\n",
       "0                          11.986616                            6.007990   \n",
       "1                          11.971193                            6.005766   \n",
       "2                          11.920603                            6.197377   \n",
       "3                          11.630094                            6.203177   \n",
       "4                          10.957755                            6.198826   \n",
       "\n",
       "   rougher.input.floatbank11_sulfate  rougher.input.floatbank11_xanthate  \\\n",
       "0                          11.836743                            6.005818   \n",
       "1                          11.996163                            6.012594   \n",
       "2                          11.920305                            6.204633   \n",
       "3                          11.692450                            6.196578   \n",
       "4                          10.960521                            6.194897   \n",
       "\n",
       "   rougher.output.concentrate_ag  rougher.output.concentrate_pb  \\\n",
       "0                      11.500771                       7.101074   \n",
       "1                      11.615865                       7.278807   \n",
       "2                      11.695753                       7.216833   \n",
       "3                      11.915047                       7.175616   \n",
       "4                      12.411054                       7.240205   \n",
       "\n",
       "   rougher.output.concentrate_sol  rougher.output.concentrate_au  \\\n",
       "0                       28.029297                      19.793808   \n",
       "1                       28.067063                      20.050975   \n",
       "2                       27.454037                      19.737170   \n",
       "3                       27.341277                      19.320810   \n",
       "4                       27.041023                      19.216101   \n",
       "\n",
       "   rougher.output.recovery  rougher.output.tail_ag  rougher.output.tail_pb  \\\n",
       "0                87.107763                5.008018                0.508728   \n",
       "1                86.843261                4.955378                0.536689   \n",
       "2                86.842308                4.843460                0.546416   \n",
       "3                87.226430                4.655288                0.542525   \n",
       "4                86.688794                4.552800                0.515438   \n",
       "\n",
       "   rougher.output.tail_sol  rougher.output.tail_au  \\\n",
       "0                19.154297                1.170244   \n",
       "1                18.965234                1.184827   \n",
       "2                18.808533                1.162562   \n",
       "3                19.330200                1.079755   \n",
       "4                19.267422                1.012642   \n",
       "\n",
       "   rougher.state.floatbank10_a_air  rougher.state.floatbank10_a_level  \\\n",
       "0                       999.706909                        -404.066986   \n",
       "1                      1000.286398                        -400.065196   \n",
       "2                       999.719565                        -400.074028   \n",
       "3                       999.814770                        -400.200179   \n",
       "4                       999.678690                        -399.752729   \n",
       "\n",
       "   rougher.state.floatbank10_b_air  rougher.state.floatbank10_b_level  \\\n",
       "0                      1603.011353                        -434.715027   \n",
       "1                      1600.754587                        -449.953435   \n",
       "2                      1599.337330                        -450.008530   \n",
       "3                      1600.059442                        -450.619948   \n",
       "4                      1600.208824                        -449.599614   \n",
       "\n",
       "   rougher.state.floatbank10_c_air  rougher.state.floatbank10_c_level  \\\n",
       "0                      1602.375000                        -442.204468   \n",
       "1                      1600.479580                        -449.830646   \n",
       "2                      1599.672797                        -449.954491   \n",
       "3                      1600.012842                        -449.910497   \n",
       "4                      1600.357732                        -450.034364   \n",
       "\n",
       "   rougher.state.floatbank10_d_air  rougher.state.floatbank10_d_level  \\\n",
       "0                      1598.937256                        -451.294128   \n",
       "1                      1600.527589                        -449.953649   \n",
       "2                      1599.849325                        -449.954185   \n",
       "3                      1597.725177                        -450.130127   \n",
       "4                      1599.759049                        -449.909799   \n",
       "\n",
       "   rougher.state.floatbank10_e_air  rougher.state.floatbank10_e_level  \\\n",
       "0                      1404.472046                        -455.462982   \n",
       "1                      1399.227084                        -450.869848   \n",
       "2                      1399.180945                        -449.937588   \n",
       "3                      1400.943157                        -450.030142   \n",
       "4                      1401.560902                        -448.877187   \n",
       "\n",
       "   rougher.state.floatbank10_f_air  rougher.state.floatbank10_f_level  \\\n",
       "0                      1416.354980                        -451.939636   \n",
       "1                      1399.719514                        -450.119001   \n",
       "2                      1400.316682                        -450.527147   \n",
       "3                      1400.234743                        -449.790835   \n",
       "4                      1401.160227                        -450.407128   \n",
       "\n",
       "   secondary_cleaner.output.tail_ag  secondary_cleaner.output.tail_pb  \\\n",
       "0                         14.500184                          4.694824   \n",
       "1                         14.265474                          4.592547   \n",
       "2                         14.115662                          4.624775   \n",
       "3                         13.732071                          4.482453   \n",
       "4                         14.079996                          4.470737   \n",
       "\n",
       "   secondary_cleaner.output.tail_sol  secondary_cleaner.output.tail_au  \\\n",
       "0                           8.764648                          2.606185   \n",
       "1                           9.001494                          2.488248   \n",
       "2                           8.842896                          2.458187   \n",
       "3                           9.122857                          2.322062   \n",
       "4                           8.871028                          2.330448   \n",
       "\n",
       "   secondary_cleaner.state.floatbank2_a_air  \\\n",
       "0                                 25.853109   \n",
       "1                                 25.880539   \n",
       "2                                 26.005245   \n",
       "3                                 25.942508   \n",
       "4                                 26.024787   \n",
       "\n",
       "   secondary_cleaner.state.floatbank2_a_level  \\\n",
       "0                                 -498.526489   \n",
       "1                                 -499.989656   \n",
       "2                                 -499.929616   \n",
       "3                                 -499.176749   \n",
       "4                                 -500.279091   \n",
       "\n",
       "   secondary_cleaner.state.floatbank2_b_air  \\\n",
       "0                                 23.893660   \n",
       "1                                 23.889530   \n",
       "2                                 23.886657   \n",
       "3                                 23.955516   \n",
       "4                                 23.955345   \n",
       "\n",
       "   secondary_cleaner.state.floatbank2_b_level  \\\n",
       "0                                 -501.406281   \n",
       "1                                 -500.372428   \n",
       "2                                 -499.951928   \n",
       "3                                 -499.848796   \n",
       "4                                 -500.593614   \n",
       "\n",
       "   secondary_cleaner.state.floatbank3_a_air  \\\n",
       "0                                 23.961798   \n",
       "1                                 23.970550   \n",
       "2                                 23.913535   \n",
       "3                                 23.966838   \n",
       "4                                 23.985703   \n",
       "\n",
       "   secondary_cleaner.state.floatbank3_a_level  \\\n",
       "0                                 -495.262817   \n",
       "1                                 -500.085473   \n",
       "2                                 -499.442343   \n",
       "3                                 -500.008812   \n",
       "4                                 -500.083811   \n",
       "\n",
       "   secondary_cleaner.state.floatbank3_b_air  \\\n",
       "0                                 21.940409   \n",
       "1                                 22.085714   \n",
       "2                                 23.957717   \n",
       "3                                 23.954443   \n",
       "4                                 23.958945   \n",
       "\n",
       "   secondary_cleaner.state.floatbank3_b_level  \\\n",
       "0                                 -499.340973   \n",
       "1                                 -499.446897   \n",
       "2                                 -499.901982   \n",
       "3                                 -499.944710   \n",
       "4                                 -499.990309   \n",
       "\n",
       "   secondary_cleaner.state.floatbank4_a_air  \\\n",
       "0                                 14.016835   \n",
       "1                                 13.992281   \n",
       "2                                 14.015015   \n",
       "3                                 14.036510   \n",
       "4                                 14.027298   \n",
       "\n",
       "   secondary_cleaner.state.floatbank4_a_level  \\\n",
       "0                                 -502.488007   \n",
       "1                                 -505.503262   \n",
       "2                                 -502.520901   \n",
       "3                                 -500.857308   \n",
       "4                                 -499.838632   \n",
       "\n",
       "   secondary_cleaner.state.floatbank4_b_air  \\\n",
       "0                                 12.099931   \n",
       "1                                 11.950531   \n",
       "2                                 11.912783   \n",
       "3                                 11.999550   \n",
       "4                                 11.953070   \n",
       "\n",
       "   secondary_cleaner.state.floatbank4_b_level  \\\n",
       "0                                 -504.715942   \n",
       "1                                 -501.331529   \n",
       "2                                 -501.133383   \n",
       "3                                 -501.193686   \n",
       "4                                 -501.053894   \n",
       "\n",
       "   secondary_cleaner.state.floatbank5_a_air  \\\n",
       "0                                  9.925633   \n",
       "1                                 10.039245   \n",
       "2                                 10.070913   \n",
       "3                                  9.970366   \n",
       "4                                  9.925709   \n",
       "\n",
       "   secondary_cleaner.state.floatbank5_a_level  \\\n",
       "0                                 -498.310211   \n",
       "1                                 -500.169983   \n",
       "2                                 -500.129135   \n",
       "3                                 -499.201640   \n",
       "4                                 -501.686727   \n",
       "\n",
       "   secondary_cleaner.state.floatbank5_b_air  \\\n",
       "0                                  8.079666   \n",
       "1                                  7.984757   \n",
       "2                                  8.013877   \n",
       "3                                  7.977324   \n",
       "4                                  7.894242   \n",
       "\n",
       "   secondary_cleaner.state.floatbank5_b_level  \\\n",
       "0                                 -500.470978   \n",
       "1                                 -500.582168   \n",
       "2                                 -500.517572   \n",
       "3                                 -500.255908   \n",
       "4                                 -500.356035   \n",
       "\n",
       "   secondary_cleaner.state.floatbank6_a_air  \\\n",
       "0                                 14.151341   \n",
       "1                                 13.998353   \n",
       "2                                 14.028663   \n",
       "3                                 14.005551   \n",
       "4                                 13.996647   \n",
       "\n",
       "   secondary_cleaner.state.floatbank6_a_level  \n",
       "0                                 -605.841980  \n",
       "1                                 -599.787184  \n",
       "2                                 -601.427363  \n",
       "3                                 -599.996129  \n",
       "4                                 -601.496691  "
      ]
     },
     "execution_count": 7,
     "metadata": {},
     "output_type": "execute_result"
    }
   ],
   "source": [
    "preliminary_analysis(df_full)"
   ]
  },
  {
   "cell_type": "markdown",
   "metadata": {},
   "source": [
    "The dataframe df_full appears to contain all the data from the train and test set, but the datafram df_test is missing a number of columns.\n",
    "\n",
    "We should be able to merge df_test with df_full to aquire those missing columns which will allow us to use those features in our model.\n",
    "\n",
    "We'll set the datetime to our index to assist with this."
   ]
  },
  {
   "cell_type": "code",
   "execution_count": 8,
   "metadata": {},
   "outputs": [],
   "source": [
    "#setting date to a datetime index\n",
    "for df in [df_full, df_train, df_test]:\n",
    "    if \"date\" in df.columns:\n",
    "        df[\"date\"] = pd.to_datetime(df[\"date\"])\n",
    "        df.set_index(\"date\", inplace=True)"
   ]
  },
  {
   "cell_type": "markdown",
   "metadata": {},
   "source": [
    "It is important to checck that recovery is calculated correctly. Using the training set, we'll calculate recovery for the rougher.output.recovery feature and find the MAE between our calculations and the feature values. "
   ]
  },
  {
   "cell_type": "code",
   "execution_count": 9,
   "metadata": {},
   "outputs": [],
   "source": [
    "#creating a function to calculate recovery\n",
    "def calculate_recovery(c,f,t): \n",
    "    \"\"\"\n",
    "    for finding rougher concentrate recovery/for finding final concntrate recovery\n",
    "    c: share of gold in share of gold in the concentrate right after flotation /after purification \n",
    "    f: share of gold in the feed before flotation /in the concentrate right after flotation \n",
    "    t: share of gold in the rougher tails right after flotation /after purification\n",
    "    \"\"\"\n",
    "    \n",
    "    try:\n",
    "        recovery = ((c*(f-t))/(f*(c-t)))*100\n",
    "    except:\n",
    "        recovery = np.nan\n",
    "        \n",
    "    return recovery #recovery as a percentage\n",
    "    "
   ]
  },
  {
   "cell_type": "code",
   "execution_count": 10,
   "metadata": {
    "collapsed": true
   },
   "outputs": [
    {
     "name": "stderr",
     "output_type": "stream",
     "text": [
      "/tmp/ipykernel_97/1863206389.py:8: RuntimeWarning: divide by zero encountered in double_scalars\n",
      "  recovery = ((c*(f-t))/(f*(c-t)))*100\n",
      "/tmp/ipykernel_97/1863206389.py:8: RuntimeWarning: invalid value encountered in double_scalars\n",
      "  recovery = ((c*(f-t))/(f*(c-t)))*100\n"
     ]
    }
   ],
   "source": [
    "#creating a column of recovery predictions\n",
    "df_train['recovery_predictions'] = df_train.apply(lambda x: calculate_recovery(x['rougher.output.concentrate_au'], x['rougher.input.feed_au'], x['rougher.output.tail_au']), axis=1)"
   ]
  },
  {
   "cell_type": "code",
   "execution_count": 11,
   "metadata": {},
   "outputs": [
    {
     "data": {
      "text/plain": [
       "count    1.457700e+04\n",
       "mean              NaN\n",
       "std               NaN\n",
       "min              -inf\n",
       "25%      7.965104e+01\n",
       "50%      8.521533e+01\n",
       "75%      9.019726e+01\n",
       "max               inf\n",
       "Name: recovery_predictions, dtype: float64"
      ]
     },
     "execution_count": 11,
     "metadata": {},
     "output_type": "execute_result"
    }
   ],
   "source": [
    "df_train['recovery_predictions'].describe()"
   ]
  },
  {
   "cell_type": "code",
   "execution_count": 12,
   "metadata": {},
   "outputs": [
    {
     "data": {
      "text/plain": [
       "count    14287.000000\n",
       "mean        82.394201\n",
       "std         15.096808\n",
       "min          0.000000\n",
       "25%         79.818372\n",
       "50%         85.235997\n",
       "75%         90.131691\n",
       "max        100.000000\n",
       "Name: rougher.output.recovery, dtype: float64"
      ]
     },
     "execution_count": 12,
     "metadata": {},
     "output_type": "execute_result"
    }
   ],
   "source": [
    "df_train['rougher.output.recovery'].describe()"
   ]
  },
  {
   "cell_type": "markdown",
   "metadata": {},
   "source": [
    "We can see that the predictions currently contain some errata. Let's take a look at what produced the erroneous values."
   ]
  },
  {
   "cell_type": "code",
   "execution_count": 13,
   "metadata": {},
   "outputs": [
    {
     "data": {
      "text/html": [
       "<div>\n",
       "<style scoped>\n",
       "    .dataframe tbody tr th:only-of-type {\n",
       "        vertical-align: middle;\n",
       "    }\n",
       "\n",
       "    .dataframe tbody tr th {\n",
       "        vertical-align: top;\n",
       "    }\n",
       "\n",
       "    .dataframe thead th {\n",
       "        text-align: right;\n",
       "    }\n",
       "</style>\n",
       "<table border=\"1\" class=\"dataframe\">\n",
       "  <thead>\n",
       "    <tr style=\"text-align: right;\">\n",
       "      <th></th>\n",
       "      <th>rougher.output.concentrate_au</th>\n",
       "      <th>rougher.input.feed_au</th>\n",
       "      <th>rougher.output.tail_au</th>\n",
       "      <th>recovery_predictions</th>\n",
       "      <th>rougher.output.recovery</th>\n",
       "    </tr>\n",
       "    <tr>\n",
       "      <th>date</th>\n",
       "      <th></th>\n",
       "      <th></th>\n",
       "      <th></th>\n",
       "      <th></th>\n",
       "      <th></th>\n",
       "    </tr>\n",
       "  </thead>\n",
       "  <tbody>\n",
       "    <tr>\n",
       "      <th>2016-01-17 05:00:00</th>\n",
       "      <td>3.507147</td>\n",
       "      <td>7.548341</td>\n",
       "      <td>2.187465</td>\n",
       "      <td>1.887421e+02</td>\n",
       "      <td>NaN</td>\n",
       "    </tr>\n",
       "    <tr>\n",
       "      <th>2016-01-30 12:00:00</th>\n",
       "      <td>4.642559</td>\n",
       "      <td>0.139652</td>\n",
       "      <td>2.574309</td>\n",
       "      <td>-3.913313e+03</td>\n",
       "      <td>NaN</td>\n",
       "    </tr>\n",
       "    <tr>\n",
       "      <th>2016-01-30 17:00:00</th>\n",
       "      <td>15.084039</td>\n",
       "      <td>3.501578</td>\n",
       "      <td>5.964024</td>\n",
       "      <td>-1.163121e+02</td>\n",
       "      <td>NaN</td>\n",
       "    </tr>\n",
       "    <tr>\n",
       "      <th>2016-02-07 08:00:00</th>\n",
       "      <td>19.619751</td>\n",
       "      <td>1.921101</td>\n",
       "      <td>1.939904</td>\n",
       "      <td>-1.086185e+00</td>\n",
       "      <td>NaN</td>\n",
       "    </tr>\n",
       "    <tr>\n",
       "      <th>2016-02-13 04:00:00</th>\n",
       "      <td>1.483835</td>\n",
       "      <td>0.253075</td>\n",
       "      <td>1.477470</td>\n",
       "      <td>-1.127899e+05</td>\n",
       "      <td>NaN</td>\n",
       "    </tr>\n",
       "    <tr>\n",
       "      <th>2016-02-17 20:00:00</th>\n",
       "      <td>16.561142</td>\n",
       "      <td>1.489851</td>\n",
       "      <td>2.483197</td>\n",
       "      <td>-7.843480e+01</td>\n",
       "      <td>NaN</td>\n",
       "    </tr>\n",
       "    <tr>\n",
       "      <th>2016-02-18 19:00:00</th>\n",
       "      <td>5.966380</td>\n",
       "      <td>11.209605</td>\n",
       "      <td>1.359009</td>\n",
       "      <td>1.137968e+02</td>\n",
       "      <td>NaN</td>\n",
       "    </tr>\n",
       "    <tr>\n",
       "      <th>2016-02-18 21:00:00</th>\n",
       "      <td>8.347044</td>\n",
       "      <td>11.484935</td>\n",
       "      <td>1.521192</td>\n",
       "      <td>1.060889e+02</td>\n",
       "      <td>NaN</td>\n",
       "    </tr>\n",
       "    <tr>\n",
       "      <th>2016-03-02 20:00:00</th>\n",
       "      <td>15.745147</td>\n",
       "      <td>0.460536</td>\n",
       "      <td>1.812582</td>\n",
       "      <td>-3.317745e+02</td>\n",
       "      <td>NaN</td>\n",
       "    </tr>\n",
       "    <tr>\n",
       "      <th>2016-03-02 21:00:00</th>\n",
       "      <td>15.907362</td>\n",
       "      <td>0.000000</td>\n",
       "      <td>2.447669</td>\n",
       "      <td>-inf</td>\n",
       "      <td>NaN</td>\n",
       "    </tr>\n",
       "    <tr>\n",
       "      <th>2016-03-02 22:00:00</th>\n",
       "      <td>15.018306</td>\n",
       "      <td>0.000000</td>\n",
       "      <td>2.693501</td>\n",
       "      <td>-inf</td>\n",
       "      <td>NaN</td>\n",
       "    </tr>\n",
       "    <tr>\n",
       "      <th>2016-03-07 09:00:00</th>\n",
       "      <td>17.410670</td>\n",
       "      <td>1.181421</td>\n",
       "      <td>1.439086</td>\n",
       "      <td>-2.377481e+01</td>\n",
       "      <td>NaN</td>\n",
       "    </tr>\n",
       "    <tr>\n",
       "      <th>2016-03-07 13:00:00</th>\n",
       "      <td>4.593995</td>\n",
       "      <td>0.474618</td>\n",
       "      <td>1.466832</td>\n",
       "      <td>-3.071150e+02</td>\n",
       "      <td>NaN</td>\n",
       "    </tr>\n",
       "    <tr>\n",
       "      <th>2016-03-07 15:00:00</th>\n",
       "      <td>14.329955</td>\n",
       "      <td>1.967411</td>\n",
       "      <td>2.155205</td>\n",
       "      <td>-1.123491e+01</td>\n",
       "      <td>NaN</td>\n",
       "    </tr>\n",
       "    <tr>\n",
       "      <th>2016-03-10 15:00:00</th>\n",
       "      <td>0.945757</td>\n",
       "      <td>8.585458</td>\n",
       "      <td>2.285970</td>\n",
       "      <td>-5.177826e+01</td>\n",
       "      <td>NaN</td>\n",
       "    </tr>\n",
       "    <tr>\n",
       "      <th>2016-03-28 04:00:00</th>\n",
       "      <td>2.551529</td>\n",
       "      <td>1.493485</td>\n",
       "      <td>1.932292</td>\n",
       "      <td>-1.210644e+02</td>\n",
       "      <td>NaN</td>\n",
       "    </tr>\n",
       "    <tr>\n",
       "      <th>2016-03-29 02:00:00</th>\n",
       "      <td>4.692243</td>\n",
       "      <td>1.689639</td>\n",
       "      <td>1.822740</td>\n",
       "      <td>-1.288136e+01</td>\n",
       "      <td>NaN</td>\n",
       "    </tr>\n",
       "    <tr>\n",
       "      <th>2016-04-01 11:00:00</th>\n",
       "      <td>16.420675</td>\n",
       "      <td>1.106357</td>\n",
       "      <td>2.216559</td>\n",
       "      <td>-1.160068e+02</td>\n",
       "      <td>NaN</td>\n",
       "    </tr>\n",
       "    <tr>\n",
       "      <th>2016-04-01 12:00:00</th>\n",
       "      <td>17.422477</td>\n",
       "      <td>0.492298</td>\n",
       "      <td>2.290846</td>\n",
       "      <td>-4.206473e+02</td>\n",
       "      <td>NaN</td>\n",
       "    </tr>\n",
       "    <tr>\n",
       "      <th>2016-04-09 11:00:00</th>\n",
       "      <td>1.072534</td>\n",
       "      <td>5.632335</td>\n",
       "      <td>1.840819</td>\n",
       "      <td>-9.397513e+01</td>\n",
       "      <td>NaN</td>\n",
       "    </tr>\n",
       "    <tr>\n",
       "      <th>2016-04-09 18:00:00</th>\n",
       "      <td>2.860661</td>\n",
       "      <td>7.124742</td>\n",
       "      <td>2.570645</td>\n",
       "      <td>6.304894e+02</td>\n",
       "      <td>NaN</td>\n",
       "    </tr>\n",
       "    <tr>\n",
       "      <th>2016-04-10 08:00:00</th>\n",
       "      <td>6.544348</td>\n",
       "      <td>7.069204</td>\n",
       "      <td>3.504448</td>\n",
       "      <td>1.085591e+02</td>\n",
       "      <td>NaN</td>\n",
       "    </tr>\n",
       "    <tr>\n",
       "      <th>2016-04-22 10:00:00</th>\n",
       "      <td>3.277688</td>\n",
       "      <td>10.113163</td>\n",
       "      <td>1.845347</td>\n",
       "      <td>1.870790e+02</td>\n",
       "      <td>NaN</td>\n",
       "    </tr>\n",
       "    <tr>\n",
       "      <th>2016-04-22 11:00:00</th>\n",
       "      <td>5.419208</td>\n",
       "      <td>10.895194</td>\n",
       "      <td>1.960498</td>\n",
       "      <td>1.284892e+02</td>\n",
       "      <td>NaN</td>\n",
       "    </tr>\n",
       "    <tr>\n",
       "      <th>2016-04-24 22:59:59</th>\n",
       "      <td>7.528968</td>\n",
       "      <td>12.588519</td>\n",
       "      <td>4.218205</td>\n",
       "      <td>1.512079e+02</td>\n",
       "      <td>NaN</td>\n",
       "    </tr>\n",
       "    <tr>\n",
       "      <th>2016-05-01 04:59:59</th>\n",
       "      <td>13.832572</td>\n",
       "      <td>0.000000</td>\n",
       "      <td>2.672610</td>\n",
       "      <td>-inf</td>\n",
       "      <td>NaN</td>\n",
       "    </tr>\n",
       "    <tr>\n",
       "      <th>2016-05-15 18:59:59</th>\n",
       "      <td>5.141126</td>\n",
       "      <td>10.889096</td>\n",
       "      <td>4.681578</td>\n",
       "      <td>6.377548e+02</td>\n",
       "      <td>NaN</td>\n",
       "    </tr>\n",
       "    <tr>\n",
       "      <th>2016-05-22 06:59:59</th>\n",
       "      <td>1.343274</td>\n",
       "      <td>6.700573</td>\n",
       "      <td>1.803354</td>\n",
       "      <td>-2.133872e+02</td>\n",
       "      <td>NaN</td>\n",
       "    </tr>\n",
       "    <tr>\n",
       "      <th>2016-05-22 10:59:59</th>\n",
       "      <td>24.409254</td>\n",
       "      <td>0.000000</td>\n",
       "      <td>1.637472</td>\n",
       "      <td>-inf</td>\n",
       "      <td>NaN</td>\n",
       "    </tr>\n",
       "    <tr>\n",
       "      <th>2016-05-22 11:59:59</th>\n",
       "      <td>24.382054</td>\n",
       "      <td>0.000000</td>\n",
       "      <td>1.703065</td>\n",
       "      <td>-inf</td>\n",
       "      <td>NaN</td>\n",
       "    </tr>\n",
       "    <tr>\n",
       "      <th>2016-05-22 12:59:59</th>\n",
       "      <td>22.968800</td>\n",
       "      <td>0.000000</td>\n",
       "      <td>2.164390</td>\n",
       "      <td>-inf</td>\n",
       "      <td>NaN</td>\n",
       "    </tr>\n",
       "    <tr>\n",
       "      <th>2016-05-22 13:59:59</th>\n",
       "      <td>23.576810</td>\n",
       "      <td>0.000000</td>\n",
       "      <td>3.211033</td>\n",
       "      <td>-inf</td>\n",
       "      <td>NaN</td>\n",
       "    </tr>\n",
       "    <tr>\n",
       "      <th>2016-05-22 14:59:59</th>\n",
       "      <td>24.006272</td>\n",
       "      <td>0.000000</td>\n",
       "      <td>2.798918</td>\n",
       "      <td>-inf</td>\n",
       "      <td>NaN</td>\n",
       "    </tr>\n",
       "    <tr>\n",
       "      <th>2016-05-22 15:59:59</th>\n",
       "      <td>24.470183</td>\n",
       "      <td>0.000000</td>\n",
       "      <td>2.690033</td>\n",
       "      <td>-inf</td>\n",
       "      <td>NaN</td>\n",
       "    </tr>\n",
       "    <tr>\n",
       "      <th>2016-05-22 16:59:59</th>\n",
       "      <td>24.224868</td>\n",
       "      <td>0.000000</td>\n",
       "      <td>2.916833</td>\n",
       "      <td>-inf</td>\n",
       "      <td>NaN</td>\n",
       "    </tr>\n",
       "    <tr>\n",
       "      <th>2016-05-24 12:59:59</th>\n",
       "      <td>4.238658</td>\n",
       "      <td>2.487535</td>\n",
       "      <td>2.869184</td>\n",
       "      <td>-4.748658e+01</td>\n",
       "      <td>NaN</td>\n",
       "    </tr>\n",
       "    <tr>\n",
       "      <th>2016-05-24 16:59:59</th>\n",
       "      <td>5.733518</td>\n",
       "      <td>8.641271</td>\n",
       "      <td>2.440002</td>\n",
       "      <td>1.249293e+02</td>\n",
       "      <td>NaN</td>\n",
       "    </tr>\n",
       "    <tr>\n",
       "      <th>2016-05-24 17:59:59</th>\n",
       "      <td>8.001392</td>\n",
       "      <td>8.353146</td>\n",
       "      <td>2.420835</td>\n",
       "      <td>1.018267e+02</td>\n",
       "      <td>NaN</td>\n",
       "    </tr>\n",
       "    <tr>\n",
       "      <th>2016-06-06 17:59:59</th>\n",
       "      <td>5.505956</td>\n",
       "      <td>7.000422</td>\n",
       "      <td>2.615558</td>\n",
       "      <td>1.193183e+02</td>\n",
       "      <td>NaN</td>\n",
       "    </tr>\n",
       "    <tr>\n",
       "      <th>2016-06-06 19:59:59</th>\n",
       "      <td>5.700334</td>\n",
       "      <td>7.301313</td>\n",
       "      <td>2.567990</td>\n",
       "      <td>1.179766e+02</td>\n",
       "      <td>NaN</td>\n",
       "    </tr>\n",
       "    <tr>\n",
       "      <th>2016-06-07 17:59:59</th>\n",
       "      <td>5.631175</td>\n",
       "      <td>1.034933</td>\n",
       "      <td>3.210448</td>\n",
       "      <td>-4.889935e+02</td>\n",
       "      <td>NaN</td>\n",
       "    </tr>\n",
       "    <tr>\n",
       "      <th>2016-06-08 12:59:59</th>\n",
       "      <td>7.145798</td>\n",
       "      <td>1.711728</td>\n",
       "      <td>2.066799</td>\n",
       "      <td>-2.918459e+01</td>\n",
       "      <td>NaN</td>\n",
       "    </tr>\n",
       "    <tr>\n",
       "      <th>2016-06-20 04:59:59</th>\n",
       "      <td>21.662029</td>\n",
       "      <td>1.114434</td>\n",
       "      <td>2.257829</td>\n",
       "      <td>-1.145369e+02</td>\n",
       "      <td>NaN</td>\n",
       "    </tr>\n",
       "    <tr>\n",
       "      <th>2016-07-01 01:59:59</th>\n",
       "      <td>1.336758</td>\n",
       "      <td>0.000000</td>\n",
       "      <td>3.566809</td>\n",
       "      <td>inf</td>\n",
       "      <td>NaN</td>\n",
       "    </tr>\n",
       "    <tr>\n",
       "      <th>2016-07-07 06:59:59</th>\n",
       "      <td>0.419395</td>\n",
       "      <td>7.213309</td>\n",
       "      <td>3.085186</td>\n",
       "      <td>-9.003589e+00</td>\n",
       "      <td>NaN</td>\n",
       "    </tr>\n",
       "    <tr>\n",
       "      <th>2016-08-01 08:59:59</th>\n",
       "      <td>0.837710</td>\n",
       "      <td>7.705356</td>\n",
       "      <td>2.742276</td>\n",
       "      <td>-2.833062e+01</td>\n",
       "      <td>NaN</td>\n",
       "    </tr>\n",
       "    <tr>\n",
       "      <th>2016-08-01 16:59:59</th>\n",
       "      <td>5.090981</td>\n",
       "      <td>8.616136</td>\n",
       "      <td>2.215439</td>\n",
       "      <td>1.315214e+02</td>\n",
       "      <td>NaN</td>\n",
       "    </tr>\n",
       "    <tr>\n",
       "      <th>2016-08-07 20:59:59</th>\n",
       "      <td>6.102131</td>\n",
       "      <td>2.898545</td>\n",
       "      <td>4.098953</td>\n",
       "      <td>-1.261569e+02</td>\n",
       "      <td>NaN</td>\n",
       "    </tr>\n",
       "    <tr>\n",
       "      <th>2017-01-10 07:59:59</th>\n",
       "      <td>0.659373</td>\n",
       "      <td>8.486759</td>\n",
       "      <td>1.792255</td>\n",
       "      <td>-4.591167e+01</td>\n",
       "      <td>NaN</td>\n",
       "    </tr>\n",
       "    <tr>\n",
       "      <th>2017-01-10 15:59:59</th>\n",
       "      <td>5.973407</td>\n",
       "      <td>8.473847</td>\n",
       "      <td>1.554594</td>\n",
       "      <td>1.103812e+02</td>\n",
       "      <td>NaN</td>\n",
       "    </tr>\n",
       "    <tr>\n",
       "      <th>2017-01-10 22:59:59</th>\n",
       "      <td>6.835283</td>\n",
       "      <td>7.772794</td>\n",
       "      <td>1.903876</td>\n",
       "      <td>1.046566e+02</td>\n",
       "      <td>NaN</td>\n",
       "    </tr>\n",
       "    <tr>\n",
       "      <th>2017-01-13 01:59:59</th>\n",
       "      <td>6.429021</td>\n",
       "      <td>0.000000</td>\n",
       "      <td>1.148358</td>\n",
       "      <td>-inf</td>\n",
       "      <td>NaN</td>\n",
       "    </tr>\n",
       "    <tr>\n",
       "      <th>2017-01-21 18:59:59</th>\n",
       "      <td>3.130606</td>\n",
       "      <td>10.761943</td>\n",
       "      <td>1.965347</td>\n",
       "      <td>2.195988e+02</td>\n",
       "      <td>NaN</td>\n",
       "    </tr>\n",
       "    <tr>\n",
       "      <th>2017-01-21 19:59:59</th>\n",
       "      <td>7.877167</td>\n",
       "      <td>10.775778</td>\n",
       "      <td>2.023792</td>\n",
       "      <td>1.093004e+02</td>\n",
       "      <td>NaN</td>\n",
       "    </tr>\n",
       "    <tr>\n",
       "      <th>2017-01-22 14:59:59</th>\n",
       "      <td>8.991010</td>\n",
       "      <td>10.893525</td>\n",
       "      <td>1.942105</td>\n",
       "      <td>1.048118e+02</td>\n",
       "      <td>NaN</td>\n",
       "    </tr>\n",
       "    <tr>\n",
       "      <th>2017-01-22 15:59:59</th>\n",
       "      <td>7.055200</td>\n",
       "      <td>10.991019</td>\n",
       "      <td>1.900995</td>\n",
       "      <td>1.132074e+02</td>\n",
       "      <td>NaN</td>\n",
       "    </tr>\n",
       "    <tr>\n",
       "      <th>2017-01-22 16:59:59</th>\n",
       "      <td>8.567209</td>\n",
       "      <td>10.873752</td>\n",
       "      <td>1.887328</td>\n",
       "      <td>1.059932e+02</td>\n",
       "      <td>NaN</td>\n",
       "    </tr>\n",
       "    <tr>\n",
       "      <th>2017-01-25 08:59:59</th>\n",
       "      <td>3.088757</td>\n",
       "      <td>0.000000</td>\n",
       "      <td>1.334945</td>\n",
       "      <td>-inf</td>\n",
       "      <td>NaN</td>\n",
       "    </tr>\n",
       "    <tr>\n",
       "      <th>2017-03-06 13:59:59</th>\n",
       "      <td>19.737510</td>\n",
       "      <td>0.000000</td>\n",
       "      <td>0.734503</td>\n",
       "      <td>-inf</td>\n",
       "      <td>NaN</td>\n",
       "    </tr>\n",
       "    <tr>\n",
       "      <th>2017-03-06 14:59:59</th>\n",
       "      <td>20.466895</td>\n",
       "      <td>0.000000</td>\n",
       "      <td>0.758442</td>\n",
       "      <td>-inf</td>\n",
       "      <td>NaN</td>\n",
       "    </tr>\n",
       "    <tr>\n",
       "      <th>2017-03-08 00:59:59</th>\n",
       "      <td>5.078813</td>\n",
       "      <td>10.209483</td>\n",
       "      <td>2.318845</td>\n",
       "      <td>1.422219e+02</td>\n",
       "      <td>NaN</td>\n",
       "    </tr>\n",
       "    <tr>\n",
       "      <th>2017-03-09 06:59:59</th>\n",
       "      <td>4.693461</td>\n",
       "      <td>9.648870</td>\n",
       "      <td>2.296468</td>\n",
       "      <td>1.492036e+02</td>\n",
       "      <td>NaN</td>\n",
       "    </tr>\n",
       "    <tr>\n",
       "      <th>2017-03-11 06:59:59</th>\n",
       "      <td>3.777770</td>\n",
       "      <td>8.731723</td>\n",
       "      <td>0.788286</td>\n",
       "      <td>1.149603e+02</td>\n",
       "      <td>NaN</td>\n",
       "    </tr>\n",
       "    <tr>\n",
       "      <th>2017-03-11 08:59:59</th>\n",
       "      <td>8.780698</td>\n",
       "      <td>8.919874</td>\n",
       "      <td>1.159757</td>\n",
       "      <td>1.002374e+02</td>\n",
       "      <td>NaN</td>\n",
       "    </tr>\n",
       "    <tr>\n",
       "      <th>2017-03-11 20:59:59</th>\n",
       "      <td>5.978189</td>\n",
       "      <td>9.556149</td>\n",
       "      <td>1.245675</td>\n",
       "      <td>1.098552e+02</td>\n",
       "      <td>NaN</td>\n",
       "    </tr>\n",
       "    <tr>\n",
       "      <th>2017-03-11 22:59:59</th>\n",
       "      <td>6.002323</td>\n",
       "      <td>10.075897</td>\n",
       "      <td>1.360330</td>\n",
       "      <td>1.118476e+02</td>\n",
       "      <td>NaN</td>\n",
       "    </tr>\n",
       "    <tr>\n",
       "      <th>2017-03-12 02:59:59</th>\n",
       "      <td>5.512815</td>\n",
       "      <td>9.341871</td>\n",
       "      <td>1.176812</td>\n",
       "      <td>1.111244e+02</td>\n",
       "      <td>NaN</td>\n",
       "    </tr>\n",
       "    <tr>\n",
       "      <th>2017-03-12 10:59:59</th>\n",
       "      <td>0.278798</td>\n",
       "      <td>10.564552</td>\n",
       "      <td>1.587758</td>\n",
       "      <td>-1.809813e+01</td>\n",
       "      <td>NaN</td>\n",
       "    </tr>\n",
       "    <tr>\n",
       "      <th>2017-03-12 11:59:59</th>\n",
       "      <td>10.527209</td>\n",
       "      <td>10.739662</td>\n",
       "      <td>2.593867</td>\n",
       "      <td>1.006468e+02</td>\n",
       "      <td>NaN</td>\n",
       "    </tr>\n",
       "    <tr>\n",
       "      <th>2017-04-05 19:59:59</th>\n",
       "      <td>0.308807</td>\n",
       "      <td>8.118752</td>\n",
       "      <td>1.871901</td>\n",
       "      <td>-1.520107e+01</td>\n",
       "      <td>NaN</td>\n",
       "    </tr>\n",
       "    <tr>\n",
       "      <th>2017-04-06 13:59:59</th>\n",
       "      <td>6.927682</td>\n",
       "      <td>8.104827</td>\n",
       "      <td>2.247170</td>\n",
       "      <td>1.069731e+02</td>\n",
       "      <td>NaN</td>\n",
       "    </tr>\n",
       "    <tr>\n",
       "      <th>2017-04-07 13:59:59</th>\n",
       "      <td>6.603673</td>\n",
       "      <td>7.872079</td>\n",
       "      <td>2.042381</td>\n",
       "      <td>1.072147e+02</td>\n",
       "      <td>NaN</td>\n",
       "    </tr>\n",
       "    <tr>\n",
       "      <th>2017-04-07 22:59:59</th>\n",
       "      <td>3.906887</td>\n",
       "      <td>6.779148</td>\n",
       "      <td>1.305390</td>\n",
       "      <td>1.212601e+02</td>\n",
       "      <td>NaN</td>\n",
       "    </tr>\n",
       "    <tr>\n",
       "      <th>2017-04-08 01:59:59</th>\n",
       "      <td>5.275005</td>\n",
       "      <td>6.840172</td>\n",
       "      <td>0.956113</td>\n",
       "      <td>1.050656e+02</td>\n",
       "      <td>NaN</td>\n",
       "    </tr>\n",
       "    <tr>\n",
       "      <th>2017-05-06 08:59:59</th>\n",
       "      <td>22.621953</td>\n",
       "      <td>2.281454</td>\n",
       "      <td>2.311159</td>\n",
       "      <td>-1.450180e+00</td>\n",
       "      <td>NaN</td>\n",
       "    </tr>\n",
       "    <tr>\n",
       "      <th>2017-05-08 13:59:59</th>\n",
       "      <td>20.280247</td>\n",
       "      <td>0.000000</td>\n",
       "      <td>3.254957</td>\n",
       "      <td>-inf</td>\n",
       "      <td>NaN</td>\n",
       "    </tr>\n",
       "    <tr>\n",
       "      <th>2017-05-08 18:59:59</th>\n",
       "      <td>6.041862</td>\n",
       "      <td>0.000000</td>\n",
       "      <td>2.108834</td>\n",
       "      <td>-inf</td>\n",
       "      <td>NaN</td>\n",
       "    </tr>\n",
       "    <tr>\n",
       "      <th>2017-05-10 10:59:59</th>\n",
       "      <td>21.930976</td>\n",
       "      <td>4.131633</td>\n",
       "      <td>4.418794</td>\n",
       "      <td>-8.704029e+00</td>\n",
       "      <td>NaN</td>\n",
       "    </tr>\n",
       "    <tr>\n",
       "      <th>2017-05-11 08:59:59</th>\n",
       "      <td>5.328790</td>\n",
       "      <td>0.000000</td>\n",
       "      <td>2.692304</td>\n",
       "      <td>-inf</td>\n",
       "      <td>NaN</td>\n",
       "    </tr>\n",
       "    <tr>\n",
       "      <th>2017-05-22 12:59:59</th>\n",
       "      <td>4.206145</td>\n",
       "      <td>0.479304</td>\n",
       "      <td>1.900052</td>\n",
       "      <td>-5.406471e+02</td>\n",
       "      <td>NaN</td>\n",
       "    </tr>\n",
       "    <tr>\n",
       "      <th>2017-05-23 16:59:59</th>\n",
       "      <td>12.745855</td>\n",
       "      <td>8.835945</td>\n",
       "      <td>8.932753</td>\n",
       "      <td>-3.662263e+00</td>\n",
       "      <td>NaN</td>\n",
       "    </tr>\n",
       "    <tr>\n",
       "      <th>2017-05-28 14:59:59</th>\n",
       "      <td>4.755406</td>\n",
       "      <td>10.231131</td>\n",
       "      <td>3.838395</td>\n",
       "      <td>3.240233e+02</td>\n",
       "      <td>NaN</td>\n",
       "    </tr>\n",
       "    <tr>\n",
       "      <th>2017-06-02 20:59:59</th>\n",
       "      <td>10.024827</td>\n",
       "      <td>10.378861</td>\n",
       "      <td>2.828613</td>\n",
       "      <td>1.013408e+02</td>\n",
       "      <td>NaN</td>\n",
       "    </tr>\n",
       "    <tr>\n",
       "      <th>2017-06-02 21:59:59</th>\n",
       "      <td>7.469816</td>\n",
       "      <td>10.619716</td>\n",
       "      <td>3.069384</td>\n",
       "      <td>1.206890e+02</td>\n",
       "      <td>NaN</td>\n",
       "    </tr>\n",
       "    <tr>\n",
       "      <th>2017-06-04 05:59:59</th>\n",
       "      <td>1.838909</td>\n",
       "      <td>8.385874</td>\n",
       "      <td>2.486890</td>\n",
       "      <td>-1.996303e+02</td>\n",
       "      <td>NaN</td>\n",
       "    </tr>\n",
       "    <tr>\n",
       "      <th>2017-06-04 06:59:59</th>\n",
       "      <td>4.569166</td>\n",
       "      <td>8.464712</td>\n",
       "      <td>2.470802</td>\n",
       "      <td>1.541892e+02</td>\n",
       "      <td>NaN</td>\n",
       "    </tr>\n",
       "    <tr>\n",
       "      <th>2017-06-04 08:59:59</th>\n",
       "      <td>0.163636</td>\n",
       "      <td>8.644782</td>\n",
       "      <td>2.315261</td>\n",
       "      <td>-5.568374e+00</td>\n",
       "      <td>NaN</td>\n",
       "    </tr>\n",
       "    <tr>\n",
       "      <th>2017-06-04 10:59:59</th>\n",
       "      <td>6.238406</td>\n",
       "      <td>8.110291</td>\n",
       "      <td>2.223346</td>\n",
       "      <td>1.127808e+02</td>\n",
       "      <td>NaN</td>\n",
       "    </tr>\n",
       "    <tr>\n",
       "      <th>2017-06-07 22:59:59</th>\n",
       "      <td>3.791287</td>\n",
       "      <td>7.291253</td>\n",
       "      <td>1.992816</td>\n",
       "      <td>1.531894e+02</td>\n",
       "      <td>NaN</td>\n",
       "    </tr>\n",
       "    <tr>\n",
       "      <th>2017-06-08 06:59:59</th>\n",
       "      <td>3.739781</td>\n",
       "      <td>7.132937</td>\n",
       "      <td>2.016421</td>\n",
       "      <td>1.556597e+02</td>\n",
       "      <td>NaN</td>\n",
       "    </tr>\n",
       "    <tr>\n",
       "      <th>2017-06-08 08:59:59</th>\n",
       "      <td>5.666662</td>\n",
       "      <td>7.649182</td>\n",
       "      <td>2.210807</td>\n",
       "      <td>1.165805e+02</td>\n",
       "      <td>NaN</td>\n",
       "    </tr>\n",
       "    <tr>\n",
       "      <th>2017-06-08 10:59:59</th>\n",
       "      <td>5.026410</td>\n",
       "      <td>8.049392</td>\n",
       "      <td>2.255764</td>\n",
       "      <td>1.305763e+02</td>\n",
       "      <td>NaN</td>\n",
       "    </tr>\n",
       "    <tr>\n",
       "      <th>2017-06-09 11:59:59</th>\n",
       "      <td>4.630169</td>\n",
       "      <td>7.811329</td>\n",
       "      <td>2.073049</td>\n",
       "      <td>1.330156e+02</td>\n",
       "      <td>NaN</td>\n",
       "    </tr>\n",
       "    <tr>\n",
       "      <th>2017-06-09 21:59:59</th>\n",
       "      <td>3.088738</td>\n",
       "      <td>6.681114</td>\n",
       "      <td>1.537121</td>\n",
       "      <td>1.532668e+02</td>\n",
       "      <td>NaN</td>\n",
       "    </tr>\n",
       "    <tr>\n",
       "      <th>2017-06-12 20:59:59</th>\n",
       "      <td>2.867225</td>\n",
       "      <td>8.009869</td>\n",
       "      <td>2.108797</td>\n",
       "      <td>2.785177e+02</td>\n",
       "      <td>NaN</td>\n",
       "    </tr>\n",
       "    <tr>\n",
       "      <th>2017-06-15 12:59:59</th>\n",
       "      <td>6.426528</td>\n",
       "      <td>0.000000</td>\n",
       "      <td>2.109773</td>\n",
       "      <td>-inf</td>\n",
       "      <td>NaN</td>\n",
       "    </tr>\n",
       "    <tr>\n",
       "      <th>2017-07-05 15:59:59</th>\n",
       "      <td>19.500466</td>\n",
       "      <td>0.000000</td>\n",
       "      <td>1.851081</td>\n",
       "      <td>-inf</td>\n",
       "      <td>NaN</td>\n",
       "    </tr>\n",
       "    <tr>\n",
       "      <th>2017-07-05 16:59:59</th>\n",
       "      <td>19.581812</td>\n",
       "      <td>0.000000</td>\n",
       "      <td>1.815289</td>\n",
       "      <td>-inf</td>\n",
       "      <td>NaN</td>\n",
       "    </tr>\n",
       "    <tr>\n",
       "      <th>2017-07-12 13:59:59</th>\n",
       "      <td>4.311286</td>\n",
       "      <td>6.579413</td>\n",
       "      <td>1.530601</td>\n",
       "      <td>1.189754e+02</td>\n",
       "      <td>NaN</td>\n",
       "    </tr>\n",
       "    <tr>\n",
       "      <th>2017-07-12 14:59:59</th>\n",
       "      <td>3.178044</td>\n",
       "      <td>6.339445</td>\n",
       "      <td>1.708050</td>\n",
       "      <td>1.579447e+02</td>\n",
       "      <td>NaN</td>\n",
       "    </tr>\n",
       "    <tr>\n",
       "      <th>2017-07-14 19:59:59</th>\n",
       "      <td>3.577850</td>\n",
       "      <td>6.464559</td>\n",
       "      <td>2.378939</td>\n",
       "      <td>1.886055e+02</td>\n",
       "      <td>NaN</td>\n",
       "    </tr>\n",
       "    <tr>\n",
       "      <th>2017-07-18 13:59:59</th>\n",
       "      <td>2.208876</td>\n",
       "      <td>7.008153</td>\n",
       "      <td>1.646809</td>\n",
       "      <td>3.006446e+02</td>\n",
       "      <td>NaN</td>\n",
       "    </tr>\n",
       "    <tr>\n",
       "      <th>2017-07-25 06:59:59</th>\n",
       "      <td>4.884727</td>\n",
       "      <td>6.187600</td>\n",
       "      <td>1.827859</td>\n",
       "      <td>1.125906e+02</td>\n",
       "      <td>NaN</td>\n",
       "    </tr>\n",
       "    <tr>\n",
       "      <th>2017-08-03 13:59:59</th>\n",
       "      <td>5.114306</td>\n",
       "      <td>1.182949</td>\n",
       "      <td>1.795379</td>\n",
       "      <td>-7.977737e+01</td>\n",
       "      <td>NaN</td>\n",
       "    </tr>\n",
       "    <tr>\n",
       "      <th>2017-08-13 16:59:59</th>\n",
       "      <td>4.275364</td>\n",
       "      <td>7.023538</td>\n",
       "      <td>1.580403</td>\n",
       "      <td>1.229458e+02</td>\n",
       "      <td>NaN</td>\n",
       "    </tr>\n",
       "    <tr>\n",
       "      <th>2017-08-14 03:59:59</th>\n",
       "      <td>4.287668</td>\n",
       "      <td>7.392280</td>\n",
       "      <td>2.005606</td>\n",
       "      <td>1.369103e+02</td>\n",
       "      <td>NaN</td>\n",
       "    </tr>\n",
       "    <tr>\n",
       "      <th>2017-08-14 07:59:59</th>\n",
       "      <td>6.442468</td>\n",
       "      <td>7.708804</td>\n",
       "      <td>2.196630</td>\n",
       "      <td>1.084988e+02</td>\n",
       "      <td>NaN</td>\n",
       "    </tr>\n",
       "    <tr>\n",
       "      <th>2017-08-14 09:59:59</th>\n",
       "      <td>3.115830</td>\n",
       "      <td>7.271351</td>\n",
       "      <td>1.846816</td>\n",
       "      <td>1.831702e+02</td>\n",
       "      <td>NaN</td>\n",
       "    </tr>\n",
       "    <tr>\n",
       "      <th>2017-08-14 11:59:59</th>\n",
       "      <td>4.699359</td>\n",
       "      <td>6.721850</td>\n",
       "      <td>1.620662</td>\n",
       "      <td>1.158388e+02</td>\n",
       "      <td>NaN</td>\n",
       "    </tr>\n",
       "    <tr>\n",
       "      <th>2017-08-18 09:59:59</th>\n",
       "      <td>4.601722</td>\n",
       "      <td>6.336991</td>\n",
       "      <td>0.844222</td>\n",
       "      <td>1.061524e+02</td>\n",
       "      <td>NaN</td>\n",
       "    </tr>\n",
       "    <tr>\n",
       "      <th>2017-08-18 10:59:59</th>\n",
       "      <td>6.826314</td>\n",
       "      <td>6.925856</td>\n",
       "      <td>0.712067</td>\n",
       "      <td>1.001674e+02</td>\n",
       "      <td>NaN</td>\n",
       "    </tr>\n",
       "    <tr>\n",
       "      <th>2017-08-18 23:59:59</th>\n",
       "      <td>6.939168</td>\n",
       "      <td>7.387793</td>\n",
       "      <td>1.729855</td>\n",
       "      <td>1.020165e+02</td>\n",
       "      <td>NaN</td>\n",
       "    </tr>\n",
       "    <tr>\n",
       "      <th>2017-08-27 11:59:59</th>\n",
       "      <td>4.283949</td>\n",
       "      <td>7.057069</td>\n",
       "      <td>1.749669</td>\n",
       "      <td>1.271297e+02</td>\n",
       "      <td>NaN</td>\n",
       "    </tr>\n",
       "    <tr>\n",
       "      <th>2018-01-01 21:59:59</th>\n",
       "      <td>8.584450</td>\n",
       "      <td>9.640173</td>\n",
       "      <td>1.732163</td>\n",
       "      <td>1.027683e+02</td>\n",
       "      <td>NaN</td>\n",
       "    </tr>\n",
       "    <tr>\n",
       "      <th>2018-01-03 12:59:59</th>\n",
       "      <td>22.163624</td>\n",
       "      <td>2.506245</td>\n",
       "      <td>3.802294</td>\n",
       "      <td>-6.242155e+01</td>\n",
       "      <td>NaN</td>\n",
       "    </tr>\n",
       "    <tr>\n",
       "      <th>2018-01-03 13:59:59</th>\n",
       "      <td>20.430104</td>\n",
       "      <td>0.000000</td>\n",
       "      <td>2.825023</td>\n",
       "      <td>-inf</td>\n",
       "      <td>NaN</td>\n",
       "    </tr>\n",
       "    <tr>\n",
       "      <th>2018-01-03 20:59:59</th>\n",
       "      <td>22.028494</td>\n",
       "      <td>0.000000</td>\n",
       "      <td>2.512082</td>\n",
       "      <td>-inf</td>\n",
       "      <td>NaN</td>\n",
       "    </tr>\n",
       "    <tr>\n",
       "      <th>2018-01-03 21:59:59</th>\n",
       "      <td>19.675835</td>\n",
       "      <td>0.000000</td>\n",
       "      <td>2.424231</td>\n",
       "      <td>-inf</td>\n",
       "      <td>NaN</td>\n",
       "    </tr>\n",
       "    <tr>\n",
       "      <th>2018-01-03 22:59:59</th>\n",
       "      <td>20.919913</td>\n",
       "      <td>0.000000</td>\n",
       "      <td>2.436576</td>\n",
       "      <td>-inf</td>\n",
       "      <td>NaN</td>\n",
       "    </tr>\n",
       "    <tr>\n",
       "      <th>2018-01-04 01:59:59</th>\n",
       "      <td>18.756710</td>\n",
       "      <td>0.000000</td>\n",
       "      <td>1.995466</td>\n",
       "      <td>-inf</td>\n",
       "      <td>NaN</td>\n",
       "    </tr>\n",
       "    <tr>\n",
       "      <th>2018-01-04 02:59:59</th>\n",
       "      <td>18.697659</td>\n",
       "      <td>0.000000</td>\n",
       "      <td>2.073471</td>\n",
       "      <td>-inf</td>\n",
       "      <td>NaN</td>\n",
       "    </tr>\n",
       "    <tr>\n",
       "      <th>2018-01-11 23:59:59</th>\n",
       "      <td>13.491670</td>\n",
       "      <td>0.000000</td>\n",
       "      <td>2.362443</td>\n",
       "      <td>-inf</td>\n",
       "      <td>NaN</td>\n",
       "    </tr>\n",
       "    <tr>\n",
       "      <th>2018-01-15 08:59:59</th>\n",
       "      <td>12.092323</td>\n",
       "      <td>1.211527</td>\n",
       "      <td>2.496304</td>\n",
       "      <td>-1.336330e+02</td>\n",
       "      <td>NaN</td>\n",
       "    </tr>\n",
       "    <tr>\n",
       "      <th>2018-01-16 11:59:59</th>\n",
       "      <td>0.346817</td>\n",
       "      <td>3.259291</td>\n",
       "      <td>1.358097</td>\n",
       "      <td>-2.000468e+01</td>\n",
       "      <td>NaN</td>\n",
       "    </tr>\n",
       "    <tr>\n",
       "      <th>2018-01-16 14:59:59</th>\n",
       "      <td>1.253355</td>\n",
       "      <td>0.898679</td>\n",
       "      <td>1.271186</td>\n",
       "      <td>2.913645e+03</td>\n",
       "      <td>NaN</td>\n",
       "    </tr>\n",
       "    <tr>\n",
       "      <th>2018-01-26 11:59:59</th>\n",
       "      <td>19.026627</td>\n",
       "      <td>0.000000</td>\n",
       "      <td>1.644845</td>\n",
       "      <td>-inf</td>\n",
       "      <td>NaN</td>\n",
       "    </tr>\n",
       "    <tr>\n",
       "      <th>2018-01-26 12:59:59</th>\n",
       "      <td>16.035962</td>\n",
       "      <td>0.000000</td>\n",
       "      <td>1.835492</td>\n",
       "      <td>-inf</td>\n",
       "      <td>NaN</td>\n",
       "    </tr>\n",
       "    <tr>\n",
       "      <th>2018-01-31 08:59:59</th>\n",
       "      <td>3.802393</td>\n",
       "      <td>12.253203</td>\n",
       "      <td>2.220249</td>\n",
       "      <td>1.967842e+02</td>\n",
       "      <td>NaN</td>\n",
       "    </tr>\n",
       "    <tr>\n",
       "      <th>2018-01-31 11:59:59</th>\n",
       "      <td>3.123879</td>\n",
       "      <td>12.190396</td>\n",
       "      <td>2.204182</td>\n",
       "      <td>2.782484e+02</td>\n",
       "      <td>NaN</td>\n",
       "    </tr>\n",
       "    <tr>\n",
       "      <th>2018-01-31 13:59:59</th>\n",
       "      <td>4.444520</td>\n",
       "      <td>11.922801</td>\n",
       "      <td>2.245062</td>\n",
       "      <td>1.640230e+02</td>\n",
       "      <td>NaN</td>\n",
       "    </tr>\n",
       "    <tr>\n",
       "      <th>2018-02-04 13:59:59</th>\n",
       "      <td>2.037574</td>\n",
       "      <td>11.431764</td>\n",
       "      <td>2.450165</td>\n",
       "      <td>-3.880021e+02</td>\n",
       "      <td>NaN</td>\n",
       "    </tr>\n",
       "    <tr>\n",
       "      <th>2018-02-05 12:59:59</th>\n",
       "      <td>8.935951</td>\n",
       "      <td>10.896785</td>\n",
       "      <td>1.662837</td>\n",
       "      <td>1.041141e+02</td>\n",
       "      <td>NaN</td>\n",
       "    </tr>\n",
       "    <tr>\n",
       "      <th>2018-02-05 14:59:59</th>\n",
       "      <td>8.746842</td>\n",
       "      <td>11.053486</td>\n",
       "      <td>1.903783</td>\n",
       "      <td>1.058056e+02</td>\n",
       "      <td>NaN</td>\n",
       "    </tr>\n",
       "    <tr>\n",
       "      <th>2018-02-06 21:59:59</th>\n",
       "      <td>10.950993</td>\n",
       "      <td>12.187426</td>\n",
       "      <td>1.975908</td>\n",
       "      <td>1.022335e+02</td>\n",
       "      <td>NaN</td>\n",
       "    </tr>\n",
       "    <tr>\n",
       "      <th>2018-02-07 03:59:59</th>\n",
       "      <td>3.869876</td>\n",
       "      <td>12.187966</td>\n",
       "      <td>1.862501</td>\n",
       "      <td>1.633228e+02</td>\n",
       "      <td>NaN</td>\n",
       "    </tr>\n",
       "    <tr>\n",
       "      <th>2018-02-07 07:59:59</th>\n",
       "      <td>7.729739</td>\n",
       "      <td>12.146369</td>\n",
       "      <td>1.895272</td>\n",
       "      <td>1.118118e+02</td>\n",
       "      <td>NaN</td>\n",
       "    </tr>\n",
       "    <tr>\n",
       "      <th>2018-02-08 11:59:59</th>\n",
       "      <td>6.805983</td>\n",
       "      <td>9.480868</td>\n",
       "      <td>1.565749</td>\n",
       "      <td>1.084300e+02</td>\n",
       "      <td>NaN</td>\n",
       "    </tr>\n",
       "    <tr>\n",
       "      <th>2018-02-09 08:59:59</th>\n",
       "      <td>1.947857</td>\n",
       "      <td>7.957904</td>\n",
       "      <td>1.406891</td>\n",
       "      <td>2.964127e+02</td>\n",
       "      <td>NaN</td>\n",
       "    </tr>\n",
       "    <tr>\n",
       "      <th>2018-02-11 07:59:59</th>\n",
       "      <td>0.895631</td>\n",
       "      <td>7.585297</td>\n",
       "      <td>0.936011</td>\n",
       "      <td>-1.944323e+03</td>\n",
       "      <td>NaN</td>\n",
       "    </tr>\n",
       "    <tr>\n",
       "      <th>2018-02-11 19:59:59</th>\n",
       "      <td>3.490282</td>\n",
       "      <td>8.039796</td>\n",
       "      <td>1.191903</td>\n",
       "      <td>1.293453e+02</td>\n",
       "      <td>NaN</td>\n",
       "    </tr>\n",
       "    <tr>\n",
       "      <th>2018-02-12 14:59:59</th>\n",
       "      <td>7.040638</td>\n",
       "      <td>7.674897</td>\n",
       "      <td>0.912916</td>\n",
       "      <td>1.012312e+02</td>\n",
       "      <td>NaN</td>\n",
       "    </tr>\n",
       "    <tr>\n",
       "      <th>2018-02-12 15:59:59</th>\n",
       "      <td>0.009975</td>\n",
       "      <td>7.934517</td>\n",
       "      <td>0.870034</td>\n",
       "      <td>-1.032585e+00</td>\n",
       "      <td>NaN</td>\n",
       "    </tr>\n",
       "    <tr>\n",
       "      <th>2018-02-12 16:59:59</th>\n",
       "      <td>7.353590</td>\n",
       "      <td>8.136750</td>\n",
       "      <td>0.836702</td>\n",
       "      <td>1.012357e+02</td>\n",
       "      <td>NaN</td>\n",
       "    </tr>\n",
       "    <tr>\n",
       "      <th>2018-02-12 20:59:59</th>\n",
       "      <td>0.010000</td>\n",
       "      <td>9.317939</td>\n",
       "      <td>1.291840</td>\n",
       "      <td>-6.719713e-01</td>\n",
       "      <td>NaN</td>\n",
       "    </tr>\n",
       "    <tr>\n",
       "      <th>2018-02-12 21:59:59</th>\n",
       "      <td>0.010000</td>\n",
       "      <td>9.413180</td>\n",
       "      <td>1.249700</td>\n",
       "      <td>-6.995556e-01</td>\n",
       "      <td>NaN</td>\n",
       "    </tr>\n",
       "    <tr>\n",
       "      <th>2018-02-12 22:59:59</th>\n",
       "      <td>0.010000</td>\n",
       "      <td>8.689009</td>\n",
       "      <td>1.181616</td>\n",
       "      <td>-7.374517e-01</td>\n",
       "      <td>NaN</td>\n",
       "    </tr>\n",
       "    <tr>\n",
       "      <th>2018-02-12 23:59:59</th>\n",
       "      <td>5.269073</td>\n",
       "      <td>7.820918</td>\n",
       "      <td>0.945734</td>\n",
       "      <td>1.071375e+02</td>\n",
       "      <td>NaN</td>\n",
       "    </tr>\n",
       "    <tr>\n",
       "      <th>2018-02-13 02:59:59</th>\n",
       "      <td>0.010000</td>\n",
       "      <td>8.442711</td>\n",
       "      <td>1.044781</td>\n",
       "      <td>-8.467979e-01</td>\n",
       "      <td>NaN</td>\n",
       "    </tr>\n",
       "    <tr>\n",
       "      <th>2018-02-13 03:59:59</th>\n",
       "      <td>0.010000</td>\n",
       "      <td>8.233200</td>\n",
       "      <td>0.927103</td>\n",
       "      <td>-9.676061e-01</td>\n",
       "      <td>NaN</td>\n",
       "    </tr>\n",
       "    <tr>\n",
       "      <th>2018-02-13 06:59:59</th>\n",
       "      <td>0.010000</td>\n",
       "      <td>8.321927</td>\n",
       "      <td>0.766638</td>\n",
       "      <td>-1.199884e+00</td>\n",
       "      <td>NaN</td>\n",
       "    </tr>\n",
       "    <tr>\n",
       "      <th>2018-02-13 07:59:59</th>\n",
       "      <td>0.010000</td>\n",
       "      <td>8.041398</td>\n",
       "      <td>0.687290</td>\n",
       "      <td>-1.350280e+00</td>\n",
       "      <td>NaN</td>\n",
       "    </tr>\n",
       "    <tr>\n",
       "      <th>2018-02-13 08:59:59</th>\n",
       "      <td>0.010000</td>\n",
       "      <td>8.076303</td>\n",
       "      <td>0.725042</td>\n",
       "      <td>-1.272969e+00</td>\n",
       "      <td>NaN</td>\n",
       "    </tr>\n",
       "    <tr>\n",
       "      <th>2018-02-13 09:59:59</th>\n",
       "      <td>0.010000</td>\n",
       "      <td>8.072124</td>\n",
       "      <td>0.788890</td>\n",
       "      <td>-1.158405e+00</td>\n",
       "      <td>NaN</td>\n",
       "    </tr>\n",
       "    <tr>\n",
       "      <th>2018-02-13 10:59:59</th>\n",
       "      <td>0.010000</td>\n",
       "      <td>8.172408</td>\n",
       "      <td>0.800533</td>\n",
       "      <td>-1.141058e+00</td>\n",
       "      <td>NaN</td>\n",
       "    </tr>\n",
       "    <tr>\n",
       "      <th>2018-02-13 11:59:59</th>\n",
       "      <td>7.838310</td>\n",
       "      <td>8.061924</td>\n",
       "      <td>0.902653</td>\n",
       "      <td>1.003610e+02</td>\n",
       "      <td>NaN</td>\n",
       "    </tr>\n",
       "    <tr>\n",
       "      <th>2018-02-18 15:59:59</th>\n",
       "      <td>2.838152</td>\n",
       "      <td>9.707263</td>\n",
       "      <td>1.231494</td>\n",
       "      <td>1.542391e+02</td>\n",
       "      <td>NaN</td>\n",
       "    </tr>\n",
       "    <tr>\n",
       "      <th>2018-02-20 19:59:59</th>\n",
       "      <td>0.010000</td>\n",
       "      <td>9.019502</td>\n",
       "      <td>1.627054</td>\n",
       "      <td>-5.068519e-01</td>\n",
       "      <td>NaN</td>\n",
       "    </tr>\n",
       "    <tr>\n",
       "      <th>2018-02-20 20:59:59</th>\n",
       "      <td>6.522357</td>\n",
       "      <td>9.024151</td>\n",
       "      <td>1.369989</td>\n",
       "      <td>1.073715e+02</td>\n",
       "      <td>NaN</td>\n",
       "    </tr>\n",
       "    <tr>\n",
       "      <th>2018-02-24 02:59:59</th>\n",
       "      <td>0.010000</td>\n",
       "      <td>7.904226</td>\n",
       "      <td>1.570928</td>\n",
       "      <td>-5.133194e-01</td>\n",
       "      <td>NaN</td>\n",
       "    </tr>\n",
       "    <tr>\n",
       "      <th>2018-02-24 03:59:59</th>\n",
       "      <td>0.010000</td>\n",
       "      <td>8.072471</td>\n",
       "      <td>1.733223</td>\n",
       "      <td>-4.557114e-01</td>\n",
       "      <td>NaN</td>\n",
       "    </tr>\n",
       "    <tr>\n",
       "      <th>2018-03-02 02:59:59</th>\n",
       "      <td>12.163703</td>\n",
       "      <td>12.287992</td>\n",
       "      <td>1.726559</td>\n",
       "      <td>1.001673e+02</td>\n",
       "      <td>NaN</td>\n",
       "    </tr>\n",
       "    <tr>\n",
       "      <th>2018-03-07 08:59:59</th>\n",
       "      <td>11.620160</td>\n",
       "      <td>12.390598</td>\n",
       "      <td>2.007535</td>\n",
       "      <td>1.012986e+02</td>\n",
       "      <td>NaN</td>\n",
       "    </tr>\n",
       "    <tr>\n",
       "      <th>2018-03-07 12:59:59</th>\n",
       "      <td>10.373846</td>\n",
       "      <td>12.682778</td>\n",
       "      <td>1.901441</td>\n",
       "      <td>1.040858e+02</td>\n",
       "      <td>NaN</td>\n",
       "    </tr>\n",
       "    <tr>\n",
       "      <th>2018-03-07 13:59:59</th>\n",
       "      <td>8.100994</td>\n",
       "      <td>12.847390</td>\n",
       "      <td>1.993876</td>\n",
       "      <td>1.120618e+02</td>\n",
       "      <td>NaN</td>\n",
       "    </tr>\n",
       "    <tr>\n",
       "      <th>2018-03-07 15:59:59</th>\n",
       "      <td>8.437820</td>\n",
       "      <td>11.953535</td>\n",
       "      <td>2.066563</td>\n",
       "      <td>1.095398e+02</td>\n",
       "      <td>NaN</td>\n",
       "    </tr>\n",
       "    <tr>\n",
       "      <th>2018-03-07 21:59:59</th>\n",
       "      <td>9.624376</td>\n",
       "      <td>12.711057</td>\n",
       "      <td>1.823022</td>\n",
       "      <td>1.056746e+02</td>\n",
       "      <td>NaN</td>\n",
       "    </tr>\n",
       "    <tr>\n",
       "      <th>2018-03-07 22:59:59</th>\n",
       "      <td>0.934997</td>\n",
       "      <td>12.535855</td>\n",
       "      <td>1.794690</td>\n",
       "      <td>-9.318885e+01</td>\n",
       "      <td>NaN</td>\n",
       "    </tr>\n",
       "    <tr>\n",
       "      <th>2018-03-08 01:59:59</th>\n",
       "      <td>8.025801</td>\n",
       "      <td>11.806550</td>\n",
       "      <td>1.563347</td>\n",
       "      <td>1.077466e+02</td>\n",
       "      <td>NaN</td>\n",
       "    </tr>\n",
       "    <tr>\n",
       "      <th>2018-03-08 02:59:59</th>\n",
       "      <td>9.243317</td>\n",
       "      <td>10.293584</td>\n",
       "      <td>1.447236</td>\n",
       "      <td>1.018941e+02</td>\n",
       "      <td>NaN</td>\n",
       "    </tr>\n",
       "    <tr>\n",
       "      <th>2018-03-13 19:59:59</th>\n",
       "      <td>7.999009</td>\n",
       "      <td>10.165841</td>\n",
       "      <td>1.229255</td>\n",
       "      <td>1.038704e+02</td>\n",
       "      <td>NaN</td>\n",
       "    </tr>\n",
       "    <tr>\n",
       "      <th>2018-03-13 20:59:59</th>\n",
       "      <td>7.774243</td>\n",
       "      <td>10.060394</td>\n",
       "      <td>1.345529</td>\n",
       "      <td>1.047562e+02</td>\n",
       "      <td>NaN</td>\n",
       "    </tr>\n",
       "    <tr>\n",
       "      <th>2018-03-14 01:59:59</th>\n",
       "      <td>0.010000</td>\n",
       "      <td>9.653765</td>\n",
       "      <td>1.370343</td>\n",
       "      <td>-6.307609e-01</td>\n",
       "      <td>NaN</td>\n",
       "    </tr>\n",
       "    <tr>\n",
       "      <th>2018-03-14 15:59:59</th>\n",
       "      <td>7.698497</td>\n",
       "      <td>8.627229</td>\n",
       "      <td>1.338493</td>\n",
       "      <td>1.022656e+02</td>\n",
       "      <td>NaN</td>\n",
       "    </tr>\n",
       "    <tr>\n",
       "      <th>2018-03-14 18:59:59</th>\n",
       "      <td>0.010000</td>\n",
       "      <td>10.034381</td>\n",
       "      <td>1.526854</td>\n",
       "      <td>-5.589447e-01</td>\n",
       "      <td>NaN</td>\n",
       "    </tr>\n",
       "    <tr>\n",
       "      <th>2018-03-15 12:59:59</th>\n",
       "      <td>2.670409</td>\n",
       "      <td>9.596863</td>\n",
       "      <td>1.626121</td>\n",
       "      <td>2.123865e+02</td>\n",
       "      <td>NaN</td>\n",
       "    </tr>\n",
       "    <tr>\n",
       "      <th>2018-03-16 12:59:59</th>\n",
       "      <td>9.258420</td>\n",
       "      <td>9.718391</td>\n",
       "      <td>1.239588</td>\n",
       "      <td>1.007316e+02</td>\n",
       "      <td>NaN</td>\n",
       "    </tr>\n",
       "    <tr>\n",
       "      <th>2018-03-18 11:59:59</th>\n",
       "      <td>11.245958</td>\n",
       "      <td>0.010000</td>\n",
       "      <td>0.436271</td>\n",
       "      <td>-4.434751e+03</td>\n",
       "      <td>NaN</td>\n",
       "    </tr>\n",
       "    <tr>\n",
       "      <th>2018-03-18 12:59:59</th>\n",
       "      <td>1.015070</td>\n",
       "      <td>0.010000</td>\n",
       "      <td>3.809132</td>\n",
       "      <td>1.380207e+04</td>\n",
       "      <td>NaN</td>\n",
       "    </tr>\n",
       "    <tr>\n",
       "      <th>2018-03-18 13:59:59</th>\n",
       "      <td>17.919109</td>\n",
       "      <td>0.010000</td>\n",
       "      <td>3.809132</td>\n",
       "      <td>-4.824746e+04</td>\n",
       "      <td>NaN</td>\n",
       "    </tr>\n",
       "    <tr>\n",
       "      <th>2018-03-19 12:59:59</th>\n",
       "      <td>2.765359</td>\n",
       "      <td>9.342629</td>\n",
       "      <td>1.280327</td>\n",
       "      <td>1.606962e+02</td>\n",
       "      <td>NaN</td>\n",
       "    </tr>\n",
       "    <tr>\n",
       "      <th>2018-03-19 13:59:59</th>\n",
       "      <td>5.606154</td>\n",
       "      <td>9.074666</td>\n",
       "      <td>1.500188</td>\n",
       "      <td>1.139651e+02</td>\n",
       "      <td>NaN</td>\n",
       "    </tr>\n",
       "    <tr>\n",
       "      <th>2018-03-19 14:59:59</th>\n",
       "      <td>0.010000</td>\n",
       "      <td>9.286556</td>\n",
       "      <td>1.376449</td>\n",
       "      <td>-6.233535e-01</td>\n",
       "      <td>NaN</td>\n",
       "    </tr>\n",
       "    <tr>\n",
       "      <th>2018-03-19 15:59:59</th>\n",
       "      <td>7.246130</td>\n",
       "      <td>10.197440</td>\n",
       "      <td>1.438552</td>\n",
       "      <td>1.071689e+02</td>\n",
       "      <td>NaN</td>\n",
       "    </tr>\n",
       "    <tr>\n",
       "      <th>2018-03-19 20:59:59</th>\n",
       "      <td>8.989922</td>\n",
       "      <td>11.617720</td>\n",
       "      <td>1.798941</td>\n",
       "      <td>1.056585e+02</td>\n",
       "      <td>NaN</td>\n",
       "    </tr>\n",
       "    <tr>\n",
       "      <th>2018-03-19 21:59:59</th>\n",
       "      <td>0.010000</td>\n",
       "      <td>11.889275</td>\n",
       "      <td>1.867746</td>\n",
       "      <td>-4.537245e-01</td>\n",
       "      <td>NaN</td>\n",
       "    </tr>\n",
       "    <tr>\n",
       "      <th>2018-03-19 22:59:59</th>\n",
       "      <td>0.010000</td>\n",
       "      <td>11.552184</td>\n",
       "      <td>1.902551</td>\n",
       "      <td>-4.413663e-01</td>\n",
       "      <td>NaN</td>\n",
       "    </tr>\n",
       "    <tr>\n",
       "      <th>2018-03-23 09:59:59</th>\n",
       "      <td>19.521366</td>\n",
       "      <td>0.010000</td>\n",
       "      <td>1.446445</td>\n",
       "      <td>-1.551396e+04</td>\n",
       "      <td>NaN</td>\n",
       "    </tr>\n",
       "    <tr>\n",
       "      <th>2018-03-29 12:59:59</th>\n",
       "      <td>1.842542</td>\n",
       "      <td>0.010000</td>\n",
       "      <td>1.754920</td>\n",
       "      <td>-3.669242e+05</td>\n",
       "      <td>NaN</td>\n",
       "    </tr>\n",
       "    <tr>\n",
       "      <th>2018-04-06 06:59:59</th>\n",
       "      <td>0.010000</td>\n",
       "      <td>7.243859</td>\n",
       "      <td>0.978288</td>\n",
       "      <td>-8.932770e-01</td>\n",
       "      <td>NaN</td>\n",
       "    </tr>\n",
       "    <tr>\n",
       "      <th>2018-04-06 07:59:59</th>\n",
       "      <td>0.010000</td>\n",
       "      <td>7.027854</td>\n",
       "      <td>0.745225</td>\n",
       "      <td>-1.215902e+00</td>\n",
       "      <td>NaN</td>\n",
       "    </tr>\n",
       "    <tr>\n",
       "      <th>2018-04-12 08:59:59</th>\n",
       "      <td>0.010000</td>\n",
       "      <td>9.379553</td>\n",
       "      <td>0.247966</td>\n",
       "      <td>-4.091192e+00</td>\n",
       "      <td>NaN</td>\n",
       "    </tr>\n",
       "    <tr>\n",
       "      <th>2018-04-13 01:59:59</th>\n",
       "      <td>5.138934</td>\n",
       "      <td>12.175077</td>\n",
       "      <td>1.504457</td>\n",
       "      <td>1.239222e+02</td>\n",
       "      <td>NaN</td>\n",
       "    </tr>\n",
       "    <tr>\n",
       "      <th>2018-04-13 02:59:59</th>\n",
       "      <td>9.352791</td>\n",
       "      <td>12.006342</td>\n",
       "      <td>1.507280</td>\n",
       "      <td>1.042461e+02</td>\n",
       "      <td>NaN</td>\n",
       "    </tr>\n",
       "    <tr>\n",
       "      <th>2018-04-13 03:59:59</th>\n",
       "      <td>9.269793</td>\n",
       "      <td>11.396235</td>\n",
       "      <td>1.396345</td>\n",
       "      <td>1.033092e+02</td>\n",
       "      <td>NaN</td>\n",
       "    </tr>\n",
       "    <tr>\n",
       "      <th>2018-04-13 04:59:59</th>\n",
       "      <td>9.403012</td>\n",
       "      <td>10.708310</td>\n",
       "      <td>1.204200</td>\n",
       "      <td>1.017903e+02</td>\n",
       "      <td>NaN</td>\n",
       "    </tr>\n",
       "    <tr>\n",
       "      <th>2018-04-13 05:59:59</th>\n",
       "      <td>9.307390</td>\n",
       "      <td>10.166948</td>\n",
       "      <td>1.041399</td>\n",
       "      <td>1.010651e+02</td>\n",
       "      <td>NaN</td>\n",
       "    </tr>\n",
       "    <tr>\n",
       "      <th>2018-04-14 07:59:59</th>\n",
       "      <td>4.774928</td>\n",
       "      <td>12.599177</td>\n",
       "      <td>2.148280</td>\n",
       "      <td>1.507913e+02</td>\n",
       "      <td>NaN</td>\n",
       "    </tr>\n",
       "    <tr>\n",
       "      <th>2018-04-16 10:59:59</th>\n",
       "      <td>0.010000</td>\n",
       "      <td>5.455763</td>\n",
       "      <td>1.920182</td>\n",
       "      <td>-3.392584e-01</td>\n",
       "      <td>NaN</td>\n",
       "    </tr>\n",
       "    <tr>\n",
       "      <th>2018-04-16 14:59:59</th>\n",
       "      <td>4.214238</td>\n",
       "      <td>11.058157</td>\n",
       "      <td>0.721306</td>\n",
       "      <td>1.127806e+02</td>\n",
       "      <td>NaN</td>\n",
       "    </tr>\n",
       "    <tr>\n",
       "      <th>2018-04-21 07:59:59</th>\n",
       "      <td>0.010000</td>\n",
       "      <td>7.522018</td>\n",
       "      <td>2.929708</td>\n",
       "      <td>-2.091016e-01</td>\n",
       "      <td>NaN</td>\n",
       "    </tr>\n",
       "    <tr>\n",
       "      <th>2018-04-22 23:59:59</th>\n",
       "      <td>0.010000</td>\n",
       "      <td>8.504367</td>\n",
       "      <td>1.389861</td>\n",
       "      <td>-6.062716e-01</td>\n",
       "      <td>NaN</td>\n",
       "    </tr>\n",
       "    <tr>\n",
       "      <th>2018-04-23 18:59:59</th>\n",
       "      <td>4.965128</td>\n",
       "      <td>8.086385</td>\n",
       "      <td>1.386717</td>\n",
       "      <td>1.149580e+02</td>\n",
       "      <td>NaN</td>\n",
       "    </tr>\n",
       "    <tr>\n",
       "      <th>2018-04-23 20:59:59</th>\n",
       "      <td>0.010000</td>\n",
       "      <td>9.005468</td>\n",
       "      <td>1.428424</td>\n",
       "      <td>-5.931814e-01</td>\n",
       "      <td>NaN</td>\n",
       "    </tr>\n",
       "    <tr>\n",
       "      <th>2018-04-23 21:59:59</th>\n",
       "      <td>0.010000</td>\n",
       "      <td>8.155093</td>\n",
       "      <td>1.399749</td>\n",
       "      <td>-5.960495e-01</td>\n",
       "      <td>NaN</td>\n",
       "    </tr>\n",
       "    <tr>\n",
       "      <th>2018-04-23 22:59:59</th>\n",
       "      <td>0.010000</td>\n",
       "      <td>7.941458</td>\n",
       "      <td>1.257826</td>\n",
       "      <td>-6.744632e-01</td>\n",
       "      <td>NaN</td>\n",
       "    </tr>\n",
       "    <tr>\n",
       "      <th>2018-04-23 23:59:59</th>\n",
       "      <td>0.010000</td>\n",
       "      <td>8.167198</td>\n",
       "      <td>1.348506</td>\n",
       "      <td>-6.237458e-01</td>\n",
       "      <td>NaN</td>\n",
       "    </tr>\n",
       "    <tr>\n",
       "      <th>2018-04-24 00:59:59</th>\n",
       "      <td>0.010000</td>\n",
       "      <td>8.523969</td>\n",
       "      <td>1.438948</td>\n",
       "      <td>-5.816781e-01</td>\n",
       "      <td>NaN</td>\n",
       "    </tr>\n",
       "    <tr>\n",
       "      <th>2018-04-24 01:59:59</th>\n",
       "      <td>0.010000</td>\n",
       "      <td>8.529353</td>\n",
       "      <td>1.346981</td>\n",
       "      <td>-6.298349e-01</td>\n",
       "      <td>NaN</td>\n",
       "    </tr>\n",
       "    <tr>\n",
       "      <th>2018-04-24 02:59:59</th>\n",
       "      <td>0.010000</td>\n",
       "      <td>8.553570</td>\n",
       "      <td>1.046125</td>\n",
       "      <td>-8.470955e-01</td>\n",
       "      <td>NaN</td>\n",
       "    </tr>\n",
       "    <tr>\n",
       "      <th>2018-04-24 03:59:59</th>\n",
       "      <td>0.010000</td>\n",
       "      <td>8.358826</td>\n",
       "      <td>0.866253</td>\n",
       "      <td>-1.046848e+00</td>\n",
       "      <td>NaN</td>\n",
       "    </tr>\n",
       "    <tr>\n",
       "      <th>2018-04-24 04:59:59</th>\n",
       "      <td>0.010000</td>\n",
       "      <td>8.167540</td>\n",
       "      <td>0.840253</td>\n",
       "      <td>-1.080541e+00</td>\n",
       "      <td>NaN</td>\n",
       "    </tr>\n",
       "    <tr>\n",
       "      <th>2018-04-24 05:59:59</th>\n",
       "      <td>0.010000</td>\n",
       "      <td>8.063233</td>\n",
       "      <td>0.642144</td>\n",
       "      <td>-1.455937e+00</td>\n",
       "      <td>NaN</td>\n",
       "    </tr>\n",
       "    <tr>\n",
       "      <th>2018-04-24 06:59:59</th>\n",
       "      <td>0.010000</td>\n",
       "      <td>8.059756</td>\n",
       "      <td>0.561246</td>\n",
       "      <td>-1.687750e+00</td>\n",
       "      <td>NaN</td>\n",
       "    </tr>\n",
       "    <tr>\n",
       "      <th>2018-05-01 16:59:59</th>\n",
       "      <td>17.023279</td>\n",
       "      <td>0.010000</td>\n",
       "      <td>1.037259</td>\n",
       "      <td>-1.093913e+04</td>\n",
       "      <td>NaN</td>\n",
       "    </tr>\n",
       "    <tr>\n",
       "      <th>2018-05-02 14:59:59</th>\n",
       "      <td>16.799990</td>\n",
       "      <td>0.343259</td>\n",
       "      <td>0.405009</td>\n",
       "      <td>-1.843371e+01</td>\n",
       "      <td>NaN</td>\n",
       "    </tr>\n",
       "    <tr>\n",
       "      <th>2018-05-02 15:59:59</th>\n",
       "      <td>15.923190</td>\n",
       "      <td>0.239341</td>\n",
       "      <td>0.352509</td>\n",
       "      <td>-4.835377e+01</td>\n",
       "      <td>NaN</td>\n",
       "    </tr>\n",
       "    <tr>\n",
       "      <th>2018-05-05 22:59:59</th>\n",
       "      <td>2.145319</td>\n",
       "      <td>5.650990</td>\n",
       "      <td>0.884013</td>\n",
       "      <td>1.434795e+02</td>\n",
       "      <td>NaN</td>\n",
       "    </tr>\n",
       "    <tr>\n",
       "      <th>2018-05-06 14:59:59</th>\n",
       "      <td>15.271441</td>\n",
       "      <td>1.859688</td>\n",
       "      <td>2.481640</td>\n",
       "      <td>-3.993314e+01</td>\n",
       "      <td>NaN</td>\n",
       "    </tr>\n",
       "    <tr>\n",
       "      <th>2018-05-08 12:59:59</th>\n",
       "      <td>15.005881</td>\n",
       "      <td>0.191601</td>\n",
       "      <td>0.297908</td>\n",
       "      <td>-5.660728e+01</td>\n",
       "      <td>NaN</td>\n",
       "    </tr>\n",
       "    <tr>\n",
       "      <th>2018-05-19 08:59:59</th>\n",
       "      <td>17.940838</td>\n",
       "      <td>0.010000</td>\n",
       "      <td>2.449551</td>\n",
       "      <td>-2.825304e+04</td>\n",
       "      <td>NaN</td>\n",
       "    </tr>\n",
       "    <tr>\n",
       "      <th>2018-05-19 09:59:59</th>\n",
       "      <td>18.413390</td>\n",
       "      <td>0.010000</td>\n",
       "      <td>2.381199</td>\n",
       "      <td>-2.723384e+04</td>\n",
       "      <td>NaN</td>\n",
       "    </tr>\n",
       "    <tr>\n",
       "      <th>2018-05-19 10:59:59</th>\n",
       "      <td>17.996343</td>\n",
       "      <td>0.010000</td>\n",
       "      <td>2.302712</td>\n",
       "      <td>-2.629119e+04</td>\n",
       "      <td>NaN</td>\n",
       "    </tr>\n",
       "    <tr>\n",
       "      <th>2018-05-19 11:59:59</th>\n",
       "      <td>17.932357</td>\n",
       "      <td>0.010000</td>\n",
       "      <td>2.198812</td>\n",
       "      <td>-2.494706e+04</td>\n",
       "      <td>NaN</td>\n",
       "    </tr>\n",
       "    <tr>\n",
       "      <th>2018-05-19 12:59:59</th>\n",
       "      <td>17.051058</td>\n",
       "      <td>0.010000</td>\n",
       "      <td>2.180461</td>\n",
       "      <td>-2.488714e+04</td>\n",
       "      <td>NaN</td>\n",
       "    </tr>\n",
       "    <tr>\n",
       "      <th>2018-05-21 01:59:59</th>\n",
       "      <td>2.399695</td>\n",
       "      <td>0.484294</td>\n",
       "      <td>1.936847</td>\n",
       "      <td>-1.555036e+03</td>\n",
       "      <td>NaN</td>\n",
       "    </tr>\n",
       "    <tr>\n",
       "      <th>2018-05-26 11:59:59</th>\n",
       "      <td>4.482946</td>\n",
       "      <td>7.661292</td>\n",
       "      <td>1.975307</td>\n",
       "      <td>1.326790e+02</td>\n",
       "      <td>NaN</td>\n",
       "    </tr>\n",
       "    <tr>\n",
       "      <th>2018-05-26 12:59:59</th>\n",
       "      <td>0.010000</td>\n",
       "      <td>2.206914</td>\n",
       "      <td>1.942978</td>\n",
       "      <td>-6.187086e-02</td>\n",
       "      <td>NaN</td>\n",
       "    </tr>\n",
       "    <tr>\n",
       "      <th>2018-05-26 13:59:59</th>\n",
       "      <td>9.182558</td>\n",
       "      <td>3.948451</td>\n",
       "      <td>4.352487</td>\n",
       "      <td>-1.945379e+01</td>\n",
       "      <td>NaN</td>\n",
       "    </tr>\n",
       "    <tr>\n",
       "      <th>2018-05-27 23:59:59</th>\n",
       "      <td>3.883298</td>\n",
       "      <td>6.669693</td>\n",
       "      <td>0.908058</td>\n",
       "      <td>1.127505e+02</td>\n",
       "      <td>NaN</td>\n",
       "    </tr>\n",
       "    <tr>\n",
       "      <th>2018-05-28 00:59:59</th>\n",
       "      <td>7.308726</td>\n",
       "      <td>8.430392</td>\n",
       "      <td>0.864900</td>\n",
       "      <td>1.017858e+02</td>\n",
       "      <td>NaN</td>\n",
       "    </tr>\n",
       "    <tr>\n",
       "      <th>2018-05-28 01:59:59</th>\n",
       "      <td>0.011601</td>\n",
       "      <td>8.548549</td>\n",
       "      <td>0.795685</td>\n",
       "      <td>-1.341881e+00</td>\n",
       "      <td>NaN</td>\n",
       "    </tr>\n",
       "    <tr>\n",
       "      <th>2018-05-28 03:59:59</th>\n",
       "      <td>4.864394</td>\n",
       "      <td>7.126961</td>\n",
       "      <td>0.573173</td>\n",
       "      <td>1.042404e+02</td>\n",
       "      <td>NaN</td>\n",
       "    </tr>\n",
       "    <tr>\n",
       "      <th>2018-06-27 05:59:59</th>\n",
       "      <td>0.584730</td>\n",
       "      <td>0.010000</td>\n",
       "      <td>1.294141</td>\n",
       "      <td>1.058448e+04</td>\n",
       "      <td>NaN</td>\n",
       "    </tr>\n",
       "    <tr>\n",
       "      <th>2018-06-28 02:59:59</th>\n",
       "      <td>0.010000</td>\n",
       "      <td>9.979357</td>\n",
       "      <td>2.327789</td>\n",
       "      <td>-3.308064e-01</td>\n",
       "      <td>NaN</td>\n",
       "    </tr>\n",
       "    <tr>\n",
       "      <th>2018-06-28 03:59:59</th>\n",
       "      <td>0.010000</td>\n",
       "      <td>10.251741</td>\n",
       "      <td>1.628187</td>\n",
       "      <td>-5.198285e-01</td>\n",
       "      <td>NaN</td>\n",
       "    </tr>\n",
       "    <tr>\n",
       "      <th>2018-06-28 04:59:59</th>\n",
       "      <td>0.010000</td>\n",
       "      <td>10.046187</td>\n",
       "      <td>1.547207</td>\n",
       "      <td>-5.503427e-01</td>\n",
       "      <td>NaN</td>\n",
       "    </tr>\n",
       "    <tr>\n",
       "      <th>2018-06-28 05:59:59</th>\n",
       "      <td>0.010000</td>\n",
       "      <td>9.576184</td>\n",
       "      <td>1.628897</td>\n",
       "      <td>-5.126337e-01</td>\n",
       "      <td>NaN</td>\n",
       "    </tr>\n",
       "    <tr>\n",
       "      <th>2018-06-28 06:59:59</th>\n",
       "      <td>0.010000</td>\n",
       "      <td>9.289610</td>\n",
       "      <td>1.731883</td>\n",
       "      <td>-4.724871e-01</td>\n",
       "      <td>NaN</td>\n",
       "    </tr>\n",
       "    <tr>\n",
       "      <th>2018-06-28 07:59:59</th>\n",
       "      <td>0.010000</td>\n",
       "      <td>9.081602</td>\n",
       "      <td>1.566207</td>\n",
       "      <td>-5.317676e-01</td>\n",
       "      <td>NaN</td>\n",
       "    </tr>\n",
       "    <tr>\n",
       "      <th>2018-06-28 13:59:59</th>\n",
       "      <td>4.506721</td>\n",
       "      <td>8.838588</td>\n",
       "      <td>0.753873</td>\n",
       "      <td>1.098453e+02</td>\n",
       "      <td>NaN</td>\n",
       "    </tr>\n",
       "    <tr>\n",
       "      <th>2018-06-28 14:59:59</th>\n",
       "      <td>0.010000</td>\n",
       "      <td>9.192093</td>\n",
       "      <td>0.882695</td>\n",
       "      <td>-1.035840e+00</td>\n",
       "      <td>NaN</td>\n",
       "    </tr>\n",
       "    <tr>\n",
       "      <th>2018-06-28 15:59:59</th>\n",
       "      <td>0.010000</td>\n",
       "      <td>8.910537</td>\n",
       "      <td>1.121635</td>\n",
       "      <td>-7.863398e-01</td>\n",
       "      <td>NaN</td>\n",
       "    </tr>\n",
       "    <tr>\n",
       "      <th>2018-06-28 16:59:59</th>\n",
       "      <td>0.010000</td>\n",
       "      <td>8.339407</td>\n",
       "      <td>1.063673</td>\n",
       "      <td>-8.280105e-01</td>\n",
       "      <td>NaN</td>\n",
       "    </tr>\n",
       "    <tr>\n",
       "      <th>2018-06-28 17:59:59</th>\n",
       "      <td>0.010000</td>\n",
       "      <td>7.690807</td>\n",
       "      <td>1.058935</td>\n",
       "      <td>-8.220830e-01</td>\n",
       "      <td>NaN</td>\n",
       "    </tr>\n",
       "    <tr>\n",
       "      <th>2018-06-28 18:59:59</th>\n",
       "      <td>0.010000</td>\n",
       "      <td>7.838527</td>\n",
       "      <td>1.168858</td>\n",
       "      <td>-7.342425e-01</td>\n",
       "      <td>NaN</td>\n",
       "    </tr>\n",
       "    <tr>\n",
       "      <th>2018-06-28 19:59:59</th>\n",
       "      <td>4.914593</td>\n",
       "      <td>8.382512</td>\n",
       "      <td>1.218002</td>\n",
       "      <td>1.136314e+02</td>\n",
       "      <td>NaN</td>\n",
       "    </tr>\n",
       "    <tr>\n",
       "      <th>2018-06-30 01:59:59</th>\n",
       "      <td>0.010000</td>\n",
       "      <td>8.461342</td>\n",
       "      <td>2.504100</td>\n",
       "      <td>-2.822879e-01</td>\n",
       "      <td>NaN</td>\n",
       "    </tr>\n",
       "    <tr>\n",
       "      <th>2018-06-30 02:59:59</th>\n",
       "      <td>0.010000</td>\n",
       "      <td>8.456279</td>\n",
       "      <td>2.467075</td>\n",
       "      <td>-2.882514e-01</td>\n",
       "      <td>NaN</td>\n",
       "    </tr>\n",
       "    <tr>\n",
       "      <th>2018-06-30 03:59:59</th>\n",
       "      <td>0.010000</td>\n",
       "      <td>8.845704</td>\n",
       "      <td>2.577472</td>\n",
       "      <td>-2.759987e-01</td>\n",
       "      <td>NaN</td>\n",
       "    </tr>\n",
       "    <tr>\n",
       "      <th>2018-06-30 04:59:59</th>\n",
       "      <td>0.010000</td>\n",
       "      <td>9.180225</td>\n",
       "      <td>2.772791</td>\n",
       "      <td>-2.526287e-01</td>\n",
       "      <td>NaN</td>\n",
       "    </tr>\n",
       "    <tr>\n",
       "      <th>2018-06-30 05:59:59</th>\n",
       "      <td>0.010000</td>\n",
       "      <td>9.209884</td>\n",
       "      <td>2.803967</td>\n",
       "      <td>-2.489464e-01</td>\n",
       "      <td>NaN</td>\n",
       "    </tr>\n",
       "    <tr>\n",
       "      <th>2018-06-30 06:59:59</th>\n",
       "      <td>0.010000</td>\n",
       "      <td>9.259690</td>\n",
       "      <td>2.795563</td>\n",
       "      <td>-2.506111e-01</td>\n",
       "      <td>NaN</td>\n",
       "    </tr>\n",
       "    <tr>\n",
       "      <th>2018-06-30 07:59:59</th>\n",
       "      <td>0.010000</td>\n",
       "      <td>8.855757</td>\n",
       "      <td>2.911861</td>\n",
       "      <td>-2.312964e-01</td>\n",
       "      <td>NaN</td>\n",
       "    </tr>\n",
       "    <tr>\n",
       "      <th>2018-06-30 08:59:59</th>\n",
       "      <td>0.010000</td>\n",
       "      <td>6.963635</td>\n",
       "      <td>2.590886</td>\n",
       "      <td>-2.433043e-01</td>\n",
       "      <td>NaN</td>\n",
       "    </tr>\n",
       "    <tr>\n",
       "      <th>2018-06-30 09:59:59</th>\n",
       "      <td>0.010000</td>\n",
       "      <td>5.205454</td>\n",
       "      <td>2.070038</td>\n",
       "      <td>-2.923893e-01</td>\n",
       "      <td>NaN</td>\n",
       "    </tr>\n",
       "    <tr>\n",
       "      <th>2018-06-30 10:59:59</th>\n",
       "      <td>0.010000</td>\n",
       "      <td>9.779017</td>\n",
       "      <td>1.771845</td>\n",
       "      <td>-4.647467e-01</td>\n",
       "      <td>NaN</td>\n",
       "    </tr>\n",
       "    <tr>\n",
       "      <th>2018-06-30 11:59:59</th>\n",
       "      <td>0.010000</td>\n",
       "      <td>9.077700</td>\n",
       "      <td>1.517674</td>\n",
       "      <td>-5.523825e-01</td>\n",
       "      <td>NaN</td>\n",
       "    </tr>\n",
       "    <tr>\n",
       "      <th>2018-06-30 12:59:59</th>\n",
       "      <td>0.010000</td>\n",
       "      <td>8.711482</td>\n",
       "      <td>1.427835</td>\n",
       "      <td>-5.897000e-01</td>\n",
       "      <td>NaN</td>\n",
       "    </tr>\n",
       "    <tr>\n",
       "      <th>2018-06-30 13:59:59</th>\n",
       "      <td>0.010000</td>\n",
       "      <td>9.659688</td>\n",
       "      <td>1.317466</td>\n",
       "      <td>-6.605236e-01</td>\n",
       "      <td>NaN</td>\n",
       "    </tr>\n",
       "    <tr>\n",
       "      <th>2018-06-30 14:59:59</th>\n",
       "      <td>0.010000</td>\n",
       "      <td>9.716623</td>\n",
       "      <td>1.333066</td>\n",
       "      <td>-6.521260e-01</td>\n",
       "      <td>NaN</td>\n",
       "    </tr>\n",
       "    <tr>\n",
       "      <th>2018-07-01 00:59:59</th>\n",
       "      <td>0.416259</td>\n",
       "      <td>0.451126</td>\n",
       "      <td>0.411736</td>\n",
       "      <td>8.036251e+02</td>\n",
       "      <td>NaN</td>\n",
       "    </tr>\n",
       "    <tr>\n",
       "      <th>2018-07-05 10:59:59</th>\n",
       "      <td>0.596856</td>\n",
       "      <td>0.496248</td>\n",
       "      <td>0.528073</td>\n",
       "      <td>-5.564985e+01</td>\n",
       "      <td>NaN</td>\n",
       "    </tr>\n",
       "    <tr>\n",
       "      <th>2018-07-14 13:59:59</th>\n",
       "      <td>3.378131</td>\n",
       "      <td>6.637190</td>\n",
       "      <td>0.988104</td>\n",
       "      <td>1.203005e+02</td>\n",
       "      <td>NaN</td>\n",
       "    </tr>\n",
       "    <tr>\n",
       "      <th>2018-07-14 14:59:59</th>\n",
       "      <td>0.010000</td>\n",
       "      <td>6.774047</td>\n",
       "      <td>1.007503</td>\n",
       "      <td>-8.534012e-01</td>\n",
       "      <td>NaN</td>\n",
       "    </tr>\n",
       "    <tr>\n",
       "      <th>2018-07-14 15:59:59</th>\n",
       "      <td>0.010000</td>\n",
       "      <td>6.371596</td>\n",
       "      <td>1.032279</td>\n",
       "      <td>-8.197248e-01</td>\n",
       "      <td>NaN</td>\n",
       "    </tr>\n",
       "    <tr>\n",
       "      <th>2018-07-18 18:59:59</th>\n",
       "      <td>5.439151</td>\n",
       "      <td>6.170862</td>\n",
       "      <td>0.663100</td>\n",
       "      <td>1.016463e+02</td>\n",
       "      <td>NaN</td>\n",
       "    </tr>\n",
       "    <tr>\n",
       "      <th>2018-07-25 11:59:59</th>\n",
       "      <td>0.010000</td>\n",
       "      <td>8.776276</td>\n",
       "      <td>2.350579</td>\n",
       "      <td>-3.128144e-01</td>\n",
       "      <td>NaN</td>\n",
       "    </tr>\n",
       "    <tr>\n",
       "      <th>2018-07-25 12:59:59</th>\n",
       "      <td>0.010000</td>\n",
       "      <td>9.078831</td>\n",
       "      <td>2.636803</td>\n",
       "      <td>-2.701252e-01</td>\n",
       "      <td>NaN</td>\n",
       "    </tr>\n",
       "    <tr>\n",
       "      <th>2018-07-25 13:59:59</th>\n",
       "      <td>0.010000</td>\n",
       "      <td>9.210337</td>\n",
       "      <td>2.915845</td>\n",
       "      <td>-2.351866e-01</td>\n",
       "      <td>NaN</td>\n",
       "    </tr>\n",
       "    <tr>\n",
       "      <th>2018-07-27 05:59:59</th>\n",
       "      <td>0.010000</td>\n",
       "      <td>8.552027</td>\n",
       "      <td>1.677022</td>\n",
       "      <td>-4.822392e-01</td>\n",
       "      <td>NaN</td>\n",
       "    </tr>\n",
       "    <tr>\n",
       "      <th>2018-07-27 06:59:59</th>\n",
       "      <td>0.010000</td>\n",
       "      <td>9.086024</td>\n",
       "      <td>1.660722</td>\n",
       "      <td>-4.950697e-01</td>\n",
       "      <td>NaN</td>\n",
       "    </tr>\n",
       "    <tr>\n",
       "      <th>2018-07-27 07:59:59</th>\n",
       "      <td>6.030127</td>\n",
       "      <td>9.744366</td>\n",
       "      <td>1.678780</td>\n",
       "      <td>1.147057e+02</td>\n",
       "      <td>NaN</td>\n",
       "    </tr>\n",
       "    <tr>\n",
       "      <th>2018-07-30 10:59:59</th>\n",
       "      <td>0.010000</td>\n",
       "      <td>8.603210</td>\n",
       "      <td>1.688865</td>\n",
       "      <td>-4.787123e-01</td>\n",
       "      <td>NaN</td>\n",
       "    </tr>\n",
       "    <tr>\n",
       "      <th>2018-07-30 11:59:59</th>\n",
       "      <td>0.010000</td>\n",
       "      <td>8.698454</td>\n",
       "      <td>1.583172</td>\n",
       "      <td>-5.199647e-01</td>\n",
       "      <td>NaN</td>\n",
       "    </tr>\n",
       "    <tr>\n",
       "      <th>2018-07-30 12:59:59</th>\n",
       "      <td>0.010000</td>\n",
       "      <td>8.864622</td>\n",
       "      <td>1.575716</td>\n",
       "      <td>-5.251569e-01</td>\n",
       "      <td>NaN</td>\n",
       "    </tr>\n",
       "    <tr>\n",
       "      <th>2018-07-31 15:59:59</th>\n",
       "      <td>18.750832</td>\n",
       "      <td>1.468337</td>\n",
       "      <td>2.034386</td>\n",
       "      <td>-4.324194e+01</td>\n",
       "      <td>NaN</td>\n",
       "    </tr>\n",
       "    <tr>\n",
       "      <th>2018-08-03 04:59:59</th>\n",
       "      <td>10.725718</td>\n",
       "      <td>10.843220</td>\n",
       "      <td>2.064114</td>\n",
       "      <td>1.002582e+02</td>\n",
       "      <td>NaN</td>\n",
       "    </tr>\n",
       "    <tr>\n",
       "      <th>2018-08-03 06:59:59</th>\n",
       "      <td>9.851452</td>\n",
       "      <td>10.681285</td>\n",
       "      <td>2.706712</td>\n",
       "      <td>1.029432e+02</td>\n",
       "      <td>NaN</td>\n",
       "    </tr>\n",
       "    <tr>\n",
       "      <th>2018-08-04 10:59:59</th>\n",
       "      <td>6.448039</td>\n",
       "      <td>11.072162</td>\n",
       "      <td>1.472646</td>\n",
       "      <td>1.123614e+02</td>\n",
       "      <td>NaN</td>\n",
       "    </tr>\n",
       "    <tr>\n",
       "      <th>2018-08-04 11:59:59</th>\n",
       "      <td>0.010000</td>\n",
       "      <td>10.797965</td>\n",
       "      <td>1.576967</td>\n",
       "      <td>-5.449744e-01</td>\n",
       "      <td>NaN</td>\n",
       "    </tr>\n",
       "    <tr>\n",
       "      <th>2018-08-04 12:59:59</th>\n",
       "      <td>10.169620</td>\n",
       "      <td>10.484898</td>\n",
       "      <td>1.544372</td>\n",
       "      <td>1.005384e+02</td>\n",
       "      <td>NaN</td>\n",
       "    </tr>\n",
       "    <tr>\n",
       "      <th>2018-08-07 22:59:59</th>\n",
       "      <td>3.366292</td>\n",
       "      <td>0.010000</td>\n",
       "      <td>2.258871</td>\n",
       "      <td>-6.836024e+04</td>\n",
       "      <td>NaN</td>\n",
       "    </tr>\n",
       "    <tr>\n",
       "      <th>2018-08-09 14:59:59</th>\n",
       "      <td>10.133832</td>\n",
       "      <td>10.404188</td>\n",
       "      <td>1.595380</td>\n",
       "      <td>1.004855e+02</td>\n",
       "      <td>NaN</td>\n",
       "    </tr>\n",
       "    <tr>\n",
       "      <th>2018-08-09 20:59:59</th>\n",
       "      <td>1.522571</td>\n",
       "      <td>10.556043</td>\n",
       "      <td>1.501984</td>\n",
       "      <td>6.343567e+03</td>\n",
       "      <td>NaN</td>\n",
       "    </tr>\n",
       "    <tr>\n",
       "      <th>2018-08-09 21:59:59</th>\n",
       "      <td>0.010000</td>\n",
       "      <td>10.120533</td>\n",
       "      <td>1.335850</td>\n",
       "      <td>-6.546787e-01</td>\n",
       "      <td>NaN</td>\n",
       "    </tr>\n",
       "    <tr>\n",
       "      <th>2018-08-11 16:59:59</th>\n",
       "      <td>6.038533</td>\n",
       "      <td>11.035269</td>\n",
       "      <td>1.343570</td>\n",
       "      <td>1.129578e+02</td>\n",
       "      <td>NaN</td>\n",
       "    </tr>\n",
       "    <tr>\n",
       "      <th>2018-08-11 17:59:59</th>\n",
       "      <td>10.712677</td>\n",
       "      <td>10.943209</td>\n",
       "      <td>1.858404</td>\n",
       "      <td>1.004422e+02</td>\n",
       "      <td>NaN</td>\n",
       "    </tr>\n",
       "    <tr>\n",
       "      <th>2018-08-11 18:59:59</th>\n",
       "      <td>0.010000</td>\n",
       "      <td>10.149224</td>\n",
       "      <td>1.729189</td>\n",
       "      <td>-4.825668e-01</td>\n",
       "      <td>NaN</td>\n",
       "    </tr>\n",
       "    <tr>\n",
       "      <th>2018-08-11 19:59:59</th>\n",
       "      <td>0.010000</td>\n",
       "      <td>10.591710</td>\n",
       "      <td>1.481931</td>\n",
       "      <td>-5.843248e-01</td>\n",
       "      <td>NaN</td>\n",
       "    </tr>\n",
       "    <tr>\n",
       "      <th>2018-08-11 20:59:59</th>\n",
       "      <td>0.031533</td>\n",
       "      <td>11.420406</td>\n",
       "      <td>1.803747</td>\n",
       "      <td>-1.498298e+00</td>\n",
       "      <td>NaN</td>\n",
       "    </tr>\n",
       "  </tbody>\n",
       "</table>\n",
       "</div>"
      ],
      "text/plain": [
       "                     rougher.output.concentrate_au  rougher.input.feed_au  \\\n",
       "date                                                                        \n",
       "2016-01-17 05:00:00                       3.507147               7.548341   \n",
       "2016-01-30 12:00:00                       4.642559               0.139652   \n",
       "2016-01-30 17:00:00                      15.084039               3.501578   \n",
       "2016-02-07 08:00:00                      19.619751               1.921101   \n",
       "2016-02-13 04:00:00                       1.483835               0.253075   \n",
       "2016-02-17 20:00:00                      16.561142               1.489851   \n",
       "2016-02-18 19:00:00                       5.966380              11.209605   \n",
       "2016-02-18 21:00:00                       8.347044              11.484935   \n",
       "2016-03-02 20:00:00                      15.745147               0.460536   \n",
       "2016-03-02 21:00:00                      15.907362               0.000000   \n",
       "2016-03-02 22:00:00                      15.018306               0.000000   \n",
       "2016-03-07 09:00:00                      17.410670               1.181421   \n",
       "2016-03-07 13:00:00                       4.593995               0.474618   \n",
       "2016-03-07 15:00:00                      14.329955               1.967411   \n",
       "2016-03-10 15:00:00                       0.945757               8.585458   \n",
       "2016-03-28 04:00:00                       2.551529               1.493485   \n",
       "2016-03-29 02:00:00                       4.692243               1.689639   \n",
       "2016-04-01 11:00:00                      16.420675               1.106357   \n",
       "2016-04-01 12:00:00                      17.422477               0.492298   \n",
       "2016-04-09 11:00:00                       1.072534               5.632335   \n",
       "2016-04-09 18:00:00                       2.860661               7.124742   \n",
       "2016-04-10 08:00:00                       6.544348               7.069204   \n",
       "2016-04-22 10:00:00                       3.277688              10.113163   \n",
       "2016-04-22 11:00:00                       5.419208              10.895194   \n",
       "2016-04-24 22:59:59                       7.528968              12.588519   \n",
       "2016-05-01 04:59:59                      13.832572               0.000000   \n",
       "2016-05-15 18:59:59                       5.141126              10.889096   \n",
       "2016-05-22 06:59:59                       1.343274               6.700573   \n",
       "2016-05-22 10:59:59                      24.409254               0.000000   \n",
       "2016-05-22 11:59:59                      24.382054               0.000000   \n",
       "2016-05-22 12:59:59                      22.968800               0.000000   \n",
       "2016-05-22 13:59:59                      23.576810               0.000000   \n",
       "2016-05-22 14:59:59                      24.006272               0.000000   \n",
       "2016-05-22 15:59:59                      24.470183               0.000000   \n",
       "2016-05-22 16:59:59                      24.224868               0.000000   \n",
       "2016-05-24 12:59:59                       4.238658               2.487535   \n",
       "2016-05-24 16:59:59                       5.733518               8.641271   \n",
       "2016-05-24 17:59:59                       8.001392               8.353146   \n",
       "2016-06-06 17:59:59                       5.505956               7.000422   \n",
       "2016-06-06 19:59:59                       5.700334               7.301313   \n",
       "2016-06-07 17:59:59                       5.631175               1.034933   \n",
       "2016-06-08 12:59:59                       7.145798               1.711728   \n",
       "2016-06-20 04:59:59                      21.662029               1.114434   \n",
       "2016-07-01 01:59:59                       1.336758               0.000000   \n",
       "2016-07-07 06:59:59                       0.419395               7.213309   \n",
       "2016-08-01 08:59:59                       0.837710               7.705356   \n",
       "2016-08-01 16:59:59                       5.090981               8.616136   \n",
       "2016-08-07 20:59:59                       6.102131               2.898545   \n",
       "2017-01-10 07:59:59                       0.659373               8.486759   \n",
       "2017-01-10 15:59:59                       5.973407               8.473847   \n",
       "2017-01-10 22:59:59                       6.835283               7.772794   \n",
       "2017-01-13 01:59:59                       6.429021               0.000000   \n",
       "2017-01-21 18:59:59                       3.130606              10.761943   \n",
       "2017-01-21 19:59:59                       7.877167              10.775778   \n",
       "2017-01-22 14:59:59                       8.991010              10.893525   \n",
       "2017-01-22 15:59:59                       7.055200              10.991019   \n",
       "2017-01-22 16:59:59                       8.567209              10.873752   \n",
       "2017-01-25 08:59:59                       3.088757               0.000000   \n",
       "2017-03-06 13:59:59                      19.737510               0.000000   \n",
       "2017-03-06 14:59:59                      20.466895               0.000000   \n",
       "2017-03-08 00:59:59                       5.078813              10.209483   \n",
       "2017-03-09 06:59:59                       4.693461               9.648870   \n",
       "2017-03-11 06:59:59                       3.777770               8.731723   \n",
       "2017-03-11 08:59:59                       8.780698               8.919874   \n",
       "2017-03-11 20:59:59                       5.978189               9.556149   \n",
       "2017-03-11 22:59:59                       6.002323              10.075897   \n",
       "2017-03-12 02:59:59                       5.512815               9.341871   \n",
       "2017-03-12 10:59:59                       0.278798              10.564552   \n",
       "2017-03-12 11:59:59                      10.527209              10.739662   \n",
       "2017-04-05 19:59:59                       0.308807               8.118752   \n",
       "2017-04-06 13:59:59                       6.927682               8.104827   \n",
       "2017-04-07 13:59:59                       6.603673               7.872079   \n",
       "2017-04-07 22:59:59                       3.906887               6.779148   \n",
       "2017-04-08 01:59:59                       5.275005               6.840172   \n",
       "2017-05-06 08:59:59                      22.621953               2.281454   \n",
       "2017-05-08 13:59:59                      20.280247               0.000000   \n",
       "2017-05-08 18:59:59                       6.041862               0.000000   \n",
       "2017-05-10 10:59:59                      21.930976               4.131633   \n",
       "2017-05-11 08:59:59                       5.328790               0.000000   \n",
       "2017-05-22 12:59:59                       4.206145               0.479304   \n",
       "2017-05-23 16:59:59                      12.745855               8.835945   \n",
       "2017-05-28 14:59:59                       4.755406              10.231131   \n",
       "2017-06-02 20:59:59                      10.024827              10.378861   \n",
       "2017-06-02 21:59:59                       7.469816              10.619716   \n",
       "2017-06-04 05:59:59                       1.838909               8.385874   \n",
       "2017-06-04 06:59:59                       4.569166               8.464712   \n",
       "2017-06-04 08:59:59                       0.163636               8.644782   \n",
       "2017-06-04 10:59:59                       6.238406               8.110291   \n",
       "2017-06-07 22:59:59                       3.791287               7.291253   \n",
       "2017-06-08 06:59:59                       3.739781               7.132937   \n",
       "2017-06-08 08:59:59                       5.666662               7.649182   \n",
       "2017-06-08 10:59:59                       5.026410               8.049392   \n",
       "2017-06-09 11:59:59                       4.630169               7.811329   \n",
       "2017-06-09 21:59:59                       3.088738               6.681114   \n",
       "2017-06-12 20:59:59                       2.867225               8.009869   \n",
       "2017-06-15 12:59:59                       6.426528               0.000000   \n",
       "2017-07-05 15:59:59                      19.500466               0.000000   \n",
       "2017-07-05 16:59:59                      19.581812               0.000000   \n",
       "2017-07-12 13:59:59                       4.311286               6.579413   \n",
       "2017-07-12 14:59:59                       3.178044               6.339445   \n",
       "2017-07-14 19:59:59                       3.577850               6.464559   \n",
       "2017-07-18 13:59:59                       2.208876               7.008153   \n",
       "2017-07-25 06:59:59                       4.884727               6.187600   \n",
       "2017-08-03 13:59:59                       5.114306               1.182949   \n",
       "2017-08-13 16:59:59                       4.275364               7.023538   \n",
       "2017-08-14 03:59:59                       4.287668               7.392280   \n",
       "2017-08-14 07:59:59                       6.442468               7.708804   \n",
       "2017-08-14 09:59:59                       3.115830               7.271351   \n",
       "2017-08-14 11:59:59                       4.699359               6.721850   \n",
       "2017-08-18 09:59:59                       4.601722               6.336991   \n",
       "2017-08-18 10:59:59                       6.826314               6.925856   \n",
       "2017-08-18 23:59:59                       6.939168               7.387793   \n",
       "2017-08-27 11:59:59                       4.283949               7.057069   \n",
       "2018-01-01 21:59:59                       8.584450               9.640173   \n",
       "2018-01-03 12:59:59                      22.163624               2.506245   \n",
       "2018-01-03 13:59:59                      20.430104               0.000000   \n",
       "2018-01-03 20:59:59                      22.028494               0.000000   \n",
       "2018-01-03 21:59:59                      19.675835               0.000000   \n",
       "2018-01-03 22:59:59                      20.919913               0.000000   \n",
       "2018-01-04 01:59:59                      18.756710               0.000000   \n",
       "2018-01-04 02:59:59                      18.697659               0.000000   \n",
       "2018-01-11 23:59:59                      13.491670               0.000000   \n",
       "2018-01-15 08:59:59                      12.092323               1.211527   \n",
       "2018-01-16 11:59:59                       0.346817               3.259291   \n",
       "2018-01-16 14:59:59                       1.253355               0.898679   \n",
       "2018-01-26 11:59:59                      19.026627               0.000000   \n",
       "2018-01-26 12:59:59                      16.035962               0.000000   \n",
       "2018-01-31 08:59:59                       3.802393              12.253203   \n",
       "2018-01-31 11:59:59                       3.123879              12.190396   \n",
       "2018-01-31 13:59:59                       4.444520              11.922801   \n",
       "2018-02-04 13:59:59                       2.037574              11.431764   \n",
       "2018-02-05 12:59:59                       8.935951              10.896785   \n",
       "2018-02-05 14:59:59                       8.746842              11.053486   \n",
       "2018-02-06 21:59:59                      10.950993              12.187426   \n",
       "2018-02-07 03:59:59                       3.869876              12.187966   \n",
       "2018-02-07 07:59:59                       7.729739              12.146369   \n",
       "2018-02-08 11:59:59                       6.805983               9.480868   \n",
       "2018-02-09 08:59:59                       1.947857               7.957904   \n",
       "2018-02-11 07:59:59                       0.895631               7.585297   \n",
       "2018-02-11 19:59:59                       3.490282               8.039796   \n",
       "2018-02-12 14:59:59                       7.040638               7.674897   \n",
       "2018-02-12 15:59:59                       0.009975               7.934517   \n",
       "2018-02-12 16:59:59                       7.353590               8.136750   \n",
       "2018-02-12 20:59:59                       0.010000               9.317939   \n",
       "2018-02-12 21:59:59                       0.010000               9.413180   \n",
       "2018-02-12 22:59:59                       0.010000               8.689009   \n",
       "2018-02-12 23:59:59                       5.269073               7.820918   \n",
       "2018-02-13 02:59:59                       0.010000               8.442711   \n",
       "2018-02-13 03:59:59                       0.010000               8.233200   \n",
       "2018-02-13 06:59:59                       0.010000               8.321927   \n",
       "2018-02-13 07:59:59                       0.010000               8.041398   \n",
       "2018-02-13 08:59:59                       0.010000               8.076303   \n",
       "2018-02-13 09:59:59                       0.010000               8.072124   \n",
       "2018-02-13 10:59:59                       0.010000               8.172408   \n",
       "2018-02-13 11:59:59                       7.838310               8.061924   \n",
       "2018-02-18 15:59:59                       2.838152               9.707263   \n",
       "2018-02-20 19:59:59                       0.010000               9.019502   \n",
       "2018-02-20 20:59:59                       6.522357               9.024151   \n",
       "2018-02-24 02:59:59                       0.010000               7.904226   \n",
       "2018-02-24 03:59:59                       0.010000               8.072471   \n",
       "2018-03-02 02:59:59                      12.163703              12.287992   \n",
       "2018-03-07 08:59:59                      11.620160              12.390598   \n",
       "2018-03-07 12:59:59                      10.373846              12.682778   \n",
       "2018-03-07 13:59:59                       8.100994              12.847390   \n",
       "2018-03-07 15:59:59                       8.437820              11.953535   \n",
       "2018-03-07 21:59:59                       9.624376              12.711057   \n",
       "2018-03-07 22:59:59                       0.934997              12.535855   \n",
       "2018-03-08 01:59:59                       8.025801              11.806550   \n",
       "2018-03-08 02:59:59                       9.243317              10.293584   \n",
       "2018-03-13 19:59:59                       7.999009              10.165841   \n",
       "2018-03-13 20:59:59                       7.774243              10.060394   \n",
       "2018-03-14 01:59:59                       0.010000               9.653765   \n",
       "2018-03-14 15:59:59                       7.698497               8.627229   \n",
       "2018-03-14 18:59:59                       0.010000              10.034381   \n",
       "2018-03-15 12:59:59                       2.670409               9.596863   \n",
       "2018-03-16 12:59:59                       9.258420               9.718391   \n",
       "2018-03-18 11:59:59                      11.245958               0.010000   \n",
       "2018-03-18 12:59:59                       1.015070               0.010000   \n",
       "2018-03-18 13:59:59                      17.919109               0.010000   \n",
       "2018-03-19 12:59:59                       2.765359               9.342629   \n",
       "2018-03-19 13:59:59                       5.606154               9.074666   \n",
       "2018-03-19 14:59:59                       0.010000               9.286556   \n",
       "2018-03-19 15:59:59                       7.246130              10.197440   \n",
       "2018-03-19 20:59:59                       8.989922              11.617720   \n",
       "2018-03-19 21:59:59                       0.010000              11.889275   \n",
       "2018-03-19 22:59:59                       0.010000              11.552184   \n",
       "2018-03-23 09:59:59                      19.521366               0.010000   \n",
       "2018-03-29 12:59:59                       1.842542               0.010000   \n",
       "2018-04-06 06:59:59                       0.010000               7.243859   \n",
       "2018-04-06 07:59:59                       0.010000               7.027854   \n",
       "2018-04-12 08:59:59                       0.010000               9.379553   \n",
       "2018-04-13 01:59:59                       5.138934              12.175077   \n",
       "2018-04-13 02:59:59                       9.352791              12.006342   \n",
       "2018-04-13 03:59:59                       9.269793              11.396235   \n",
       "2018-04-13 04:59:59                       9.403012              10.708310   \n",
       "2018-04-13 05:59:59                       9.307390              10.166948   \n",
       "2018-04-14 07:59:59                       4.774928              12.599177   \n",
       "2018-04-16 10:59:59                       0.010000               5.455763   \n",
       "2018-04-16 14:59:59                       4.214238              11.058157   \n",
       "2018-04-21 07:59:59                       0.010000               7.522018   \n",
       "2018-04-22 23:59:59                       0.010000               8.504367   \n",
       "2018-04-23 18:59:59                       4.965128               8.086385   \n",
       "2018-04-23 20:59:59                       0.010000               9.005468   \n",
       "2018-04-23 21:59:59                       0.010000               8.155093   \n",
       "2018-04-23 22:59:59                       0.010000               7.941458   \n",
       "2018-04-23 23:59:59                       0.010000               8.167198   \n",
       "2018-04-24 00:59:59                       0.010000               8.523969   \n",
       "2018-04-24 01:59:59                       0.010000               8.529353   \n",
       "2018-04-24 02:59:59                       0.010000               8.553570   \n",
       "2018-04-24 03:59:59                       0.010000               8.358826   \n",
       "2018-04-24 04:59:59                       0.010000               8.167540   \n",
       "2018-04-24 05:59:59                       0.010000               8.063233   \n",
       "2018-04-24 06:59:59                       0.010000               8.059756   \n",
       "2018-05-01 16:59:59                      17.023279               0.010000   \n",
       "2018-05-02 14:59:59                      16.799990               0.343259   \n",
       "2018-05-02 15:59:59                      15.923190               0.239341   \n",
       "2018-05-05 22:59:59                       2.145319               5.650990   \n",
       "2018-05-06 14:59:59                      15.271441               1.859688   \n",
       "2018-05-08 12:59:59                      15.005881               0.191601   \n",
       "2018-05-19 08:59:59                      17.940838               0.010000   \n",
       "2018-05-19 09:59:59                      18.413390               0.010000   \n",
       "2018-05-19 10:59:59                      17.996343               0.010000   \n",
       "2018-05-19 11:59:59                      17.932357               0.010000   \n",
       "2018-05-19 12:59:59                      17.051058               0.010000   \n",
       "2018-05-21 01:59:59                       2.399695               0.484294   \n",
       "2018-05-26 11:59:59                       4.482946               7.661292   \n",
       "2018-05-26 12:59:59                       0.010000               2.206914   \n",
       "2018-05-26 13:59:59                       9.182558               3.948451   \n",
       "2018-05-27 23:59:59                       3.883298               6.669693   \n",
       "2018-05-28 00:59:59                       7.308726               8.430392   \n",
       "2018-05-28 01:59:59                       0.011601               8.548549   \n",
       "2018-05-28 03:59:59                       4.864394               7.126961   \n",
       "2018-06-27 05:59:59                       0.584730               0.010000   \n",
       "2018-06-28 02:59:59                       0.010000               9.979357   \n",
       "2018-06-28 03:59:59                       0.010000              10.251741   \n",
       "2018-06-28 04:59:59                       0.010000              10.046187   \n",
       "2018-06-28 05:59:59                       0.010000               9.576184   \n",
       "2018-06-28 06:59:59                       0.010000               9.289610   \n",
       "2018-06-28 07:59:59                       0.010000               9.081602   \n",
       "2018-06-28 13:59:59                       4.506721               8.838588   \n",
       "2018-06-28 14:59:59                       0.010000               9.192093   \n",
       "2018-06-28 15:59:59                       0.010000               8.910537   \n",
       "2018-06-28 16:59:59                       0.010000               8.339407   \n",
       "2018-06-28 17:59:59                       0.010000               7.690807   \n",
       "2018-06-28 18:59:59                       0.010000               7.838527   \n",
       "2018-06-28 19:59:59                       4.914593               8.382512   \n",
       "2018-06-30 01:59:59                       0.010000               8.461342   \n",
       "2018-06-30 02:59:59                       0.010000               8.456279   \n",
       "2018-06-30 03:59:59                       0.010000               8.845704   \n",
       "2018-06-30 04:59:59                       0.010000               9.180225   \n",
       "2018-06-30 05:59:59                       0.010000               9.209884   \n",
       "2018-06-30 06:59:59                       0.010000               9.259690   \n",
       "2018-06-30 07:59:59                       0.010000               8.855757   \n",
       "2018-06-30 08:59:59                       0.010000               6.963635   \n",
       "2018-06-30 09:59:59                       0.010000               5.205454   \n",
       "2018-06-30 10:59:59                       0.010000               9.779017   \n",
       "2018-06-30 11:59:59                       0.010000               9.077700   \n",
       "2018-06-30 12:59:59                       0.010000               8.711482   \n",
       "2018-06-30 13:59:59                       0.010000               9.659688   \n",
       "2018-06-30 14:59:59                       0.010000               9.716623   \n",
       "2018-07-01 00:59:59                       0.416259               0.451126   \n",
       "2018-07-05 10:59:59                       0.596856               0.496248   \n",
       "2018-07-14 13:59:59                       3.378131               6.637190   \n",
       "2018-07-14 14:59:59                       0.010000               6.774047   \n",
       "2018-07-14 15:59:59                       0.010000               6.371596   \n",
       "2018-07-18 18:59:59                       5.439151               6.170862   \n",
       "2018-07-25 11:59:59                       0.010000               8.776276   \n",
       "2018-07-25 12:59:59                       0.010000               9.078831   \n",
       "2018-07-25 13:59:59                       0.010000               9.210337   \n",
       "2018-07-27 05:59:59                       0.010000               8.552027   \n",
       "2018-07-27 06:59:59                       0.010000               9.086024   \n",
       "2018-07-27 07:59:59                       6.030127               9.744366   \n",
       "2018-07-30 10:59:59                       0.010000               8.603210   \n",
       "2018-07-30 11:59:59                       0.010000               8.698454   \n",
       "2018-07-30 12:59:59                       0.010000               8.864622   \n",
       "2018-07-31 15:59:59                      18.750832               1.468337   \n",
       "2018-08-03 04:59:59                      10.725718              10.843220   \n",
       "2018-08-03 06:59:59                       9.851452              10.681285   \n",
       "2018-08-04 10:59:59                       6.448039              11.072162   \n",
       "2018-08-04 11:59:59                       0.010000              10.797965   \n",
       "2018-08-04 12:59:59                      10.169620              10.484898   \n",
       "2018-08-07 22:59:59                       3.366292               0.010000   \n",
       "2018-08-09 14:59:59                      10.133832              10.404188   \n",
       "2018-08-09 20:59:59                       1.522571              10.556043   \n",
       "2018-08-09 21:59:59                       0.010000              10.120533   \n",
       "2018-08-11 16:59:59                       6.038533              11.035269   \n",
       "2018-08-11 17:59:59                      10.712677              10.943209   \n",
       "2018-08-11 18:59:59                       0.010000              10.149224   \n",
       "2018-08-11 19:59:59                       0.010000              10.591710   \n",
       "2018-08-11 20:59:59                       0.031533              11.420406   \n",
       "\n",
       "                     rougher.output.tail_au  recovery_predictions  \\\n",
       "date                                                                \n",
       "2016-01-17 05:00:00                2.187465          1.887421e+02   \n",
       "2016-01-30 12:00:00                2.574309         -3.913313e+03   \n",
       "2016-01-30 17:00:00                5.964024         -1.163121e+02   \n",
       "2016-02-07 08:00:00                1.939904         -1.086185e+00   \n",
       "2016-02-13 04:00:00                1.477470         -1.127899e+05   \n",
       "2016-02-17 20:00:00                2.483197         -7.843480e+01   \n",
       "2016-02-18 19:00:00                1.359009          1.137968e+02   \n",
       "2016-02-18 21:00:00                1.521192          1.060889e+02   \n",
       "2016-03-02 20:00:00                1.812582         -3.317745e+02   \n",
       "2016-03-02 21:00:00                2.447669                  -inf   \n",
       "2016-03-02 22:00:00                2.693501                  -inf   \n",
       "2016-03-07 09:00:00                1.439086         -2.377481e+01   \n",
       "2016-03-07 13:00:00                1.466832         -3.071150e+02   \n",
       "2016-03-07 15:00:00                2.155205         -1.123491e+01   \n",
       "2016-03-10 15:00:00                2.285970         -5.177826e+01   \n",
       "2016-03-28 04:00:00                1.932292         -1.210644e+02   \n",
       "2016-03-29 02:00:00                1.822740         -1.288136e+01   \n",
       "2016-04-01 11:00:00                2.216559         -1.160068e+02   \n",
       "2016-04-01 12:00:00                2.290846         -4.206473e+02   \n",
       "2016-04-09 11:00:00                1.840819         -9.397513e+01   \n",
       "2016-04-09 18:00:00                2.570645          6.304894e+02   \n",
       "2016-04-10 08:00:00                3.504448          1.085591e+02   \n",
       "2016-04-22 10:00:00                1.845347          1.870790e+02   \n",
       "2016-04-22 11:00:00                1.960498          1.284892e+02   \n",
       "2016-04-24 22:59:59                4.218205          1.512079e+02   \n",
       "2016-05-01 04:59:59                2.672610                  -inf   \n",
       "2016-05-15 18:59:59                4.681578          6.377548e+02   \n",
       "2016-05-22 06:59:59                1.803354         -2.133872e+02   \n",
       "2016-05-22 10:59:59                1.637472                  -inf   \n",
       "2016-05-22 11:59:59                1.703065                  -inf   \n",
       "2016-05-22 12:59:59                2.164390                  -inf   \n",
       "2016-05-22 13:59:59                3.211033                  -inf   \n",
       "2016-05-22 14:59:59                2.798918                  -inf   \n",
       "2016-05-22 15:59:59                2.690033                  -inf   \n",
       "2016-05-22 16:59:59                2.916833                  -inf   \n",
       "2016-05-24 12:59:59                2.869184         -4.748658e+01   \n",
       "2016-05-24 16:59:59                2.440002          1.249293e+02   \n",
       "2016-05-24 17:59:59                2.420835          1.018267e+02   \n",
       "2016-06-06 17:59:59                2.615558          1.193183e+02   \n",
       "2016-06-06 19:59:59                2.567990          1.179766e+02   \n",
       "2016-06-07 17:59:59                3.210448         -4.889935e+02   \n",
       "2016-06-08 12:59:59                2.066799         -2.918459e+01   \n",
       "2016-06-20 04:59:59                2.257829         -1.145369e+02   \n",
       "2016-07-01 01:59:59                3.566809                   inf   \n",
       "2016-07-07 06:59:59                3.085186         -9.003589e+00   \n",
       "2016-08-01 08:59:59                2.742276         -2.833062e+01   \n",
       "2016-08-01 16:59:59                2.215439          1.315214e+02   \n",
       "2016-08-07 20:59:59                4.098953         -1.261569e+02   \n",
       "2017-01-10 07:59:59                1.792255         -4.591167e+01   \n",
       "2017-01-10 15:59:59                1.554594          1.103812e+02   \n",
       "2017-01-10 22:59:59                1.903876          1.046566e+02   \n",
       "2017-01-13 01:59:59                1.148358                  -inf   \n",
       "2017-01-21 18:59:59                1.965347          2.195988e+02   \n",
       "2017-01-21 19:59:59                2.023792          1.093004e+02   \n",
       "2017-01-22 14:59:59                1.942105          1.048118e+02   \n",
       "2017-01-22 15:59:59                1.900995          1.132074e+02   \n",
       "2017-01-22 16:59:59                1.887328          1.059932e+02   \n",
       "2017-01-25 08:59:59                1.334945                  -inf   \n",
       "2017-03-06 13:59:59                0.734503                  -inf   \n",
       "2017-03-06 14:59:59                0.758442                  -inf   \n",
       "2017-03-08 00:59:59                2.318845          1.422219e+02   \n",
       "2017-03-09 06:59:59                2.296468          1.492036e+02   \n",
       "2017-03-11 06:59:59                0.788286          1.149603e+02   \n",
       "2017-03-11 08:59:59                1.159757          1.002374e+02   \n",
       "2017-03-11 20:59:59                1.245675          1.098552e+02   \n",
       "2017-03-11 22:59:59                1.360330          1.118476e+02   \n",
       "2017-03-12 02:59:59                1.176812          1.111244e+02   \n",
       "2017-03-12 10:59:59                1.587758         -1.809813e+01   \n",
       "2017-03-12 11:59:59                2.593867          1.006468e+02   \n",
       "2017-04-05 19:59:59                1.871901         -1.520107e+01   \n",
       "2017-04-06 13:59:59                2.247170          1.069731e+02   \n",
       "2017-04-07 13:59:59                2.042381          1.072147e+02   \n",
       "2017-04-07 22:59:59                1.305390          1.212601e+02   \n",
       "2017-04-08 01:59:59                0.956113          1.050656e+02   \n",
       "2017-05-06 08:59:59                2.311159         -1.450180e+00   \n",
       "2017-05-08 13:59:59                3.254957                  -inf   \n",
       "2017-05-08 18:59:59                2.108834                  -inf   \n",
       "2017-05-10 10:59:59                4.418794         -8.704029e+00   \n",
       "2017-05-11 08:59:59                2.692304                  -inf   \n",
       "2017-05-22 12:59:59                1.900052         -5.406471e+02   \n",
       "2017-05-23 16:59:59                8.932753         -3.662263e+00   \n",
       "2017-05-28 14:59:59                3.838395          3.240233e+02   \n",
       "2017-06-02 20:59:59                2.828613          1.013408e+02   \n",
       "2017-06-02 21:59:59                3.069384          1.206890e+02   \n",
       "2017-06-04 05:59:59                2.486890         -1.996303e+02   \n",
       "2017-06-04 06:59:59                2.470802          1.541892e+02   \n",
       "2017-06-04 08:59:59                2.315261         -5.568374e+00   \n",
       "2017-06-04 10:59:59                2.223346          1.127808e+02   \n",
       "2017-06-07 22:59:59                1.992816          1.531894e+02   \n",
       "2017-06-08 06:59:59                2.016421          1.556597e+02   \n",
       "2017-06-08 08:59:59                2.210807          1.165805e+02   \n",
       "2017-06-08 10:59:59                2.255764          1.305763e+02   \n",
       "2017-06-09 11:59:59                2.073049          1.330156e+02   \n",
       "2017-06-09 21:59:59                1.537121          1.532668e+02   \n",
       "2017-06-12 20:59:59                2.108797          2.785177e+02   \n",
       "2017-06-15 12:59:59                2.109773                  -inf   \n",
       "2017-07-05 15:59:59                1.851081                  -inf   \n",
       "2017-07-05 16:59:59                1.815289                  -inf   \n",
       "2017-07-12 13:59:59                1.530601          1.189754e+02   \n",
       "2017-07-12 14:59:59                1.708050          1.579447e+02   \n",
       "2017-07-14 19:59:59                2.378939          1.886055e+02   \n",
       "2017-07-18 13:59:59                1.646809          3.006446e+02   \n",
       "2017-07-25 06:59:59                1.827859          1.125906e+02   \n",
       "2017-08-03 13:59:59                1.795379         -7.977737e+01   \n",
       "2017-08-13 16:59:59                1.580403          1.229458e+02   \n",
       "2017-08-14 03:59:59                2.005606          1.369103e+02   \n",
       "2017-08-14 07:59:59                2.196630          1.084988e+02   \n",
       "2017-08-14 09:59:59                1.846816          1.831702e+02   \n",
       "2017-08-14 11:59:59                1.620662          1.158388e+02   \n",
       "2017-08-18 09:59:59                0.844222          1.061524e+02   \n",
       "2017-08-18 10:59:59                0.712067          1.001674e+02   \n",
       "2017-08-18 23:59:59                1.729855          1.020165e+02   \n",
       "2017-08-27 11:59:59                1.749669          1.271297e+02   \n",
       "2018-01-01 21:59:59                1.732163          1.027683e+02   \n",
       "2018-01-03 12:59:59                3.802294         -6.242155e+01   \n",
       "2018-01-03 13:59:59                2.825023                  -inf   \n",
       "2018-01-03 20:59:59                2.512082                  -inf   \n",
       "2018-01-03 21:59:59                2.424231                  -inf   \n",
       "2018-01-03 22:59:59                2.436576                  -inf   \n",
       "2018-01-04 01:59:59                1.995466                  -inf   \n",
       "2018-01-04 02:59:59                2.073471                  -inf   \n",
       "2018-01-11 23:59:59                2.362443                  -inf   \n",
       "2018-01-15 08:59:59                2.496304         -1.336330e+02   \n",
       "2018-01-16 11:59:59                1.358097         -2.000468e+01   \n",
       "2018-01-16 14:59:59                1.271186          2.913645e+03   \n",
       "2018-01-26 11:59:59                1.644845                  -inf   \n",
       "2018-01-26 12:59:59                1.835492                  -inf   \n",
       "2018-01-31 08:59:59                2.220249          1.967842e+02   \n",
       "2018-01-31 11:59:59                2.204182          2.782484e+02   \n",
       "2018-01-31 13:59:59                2.245062          1.640230e+02   \n",
       "2018-02-04 13:59:59                2.450165         -3.880021e+02   \n",
       "2018-02-05 12:59:59                1.662837          1.041141e+02   \n",
       "2018-02-05 14:59:59                1.903783          1.058056e+02   \n",
       "2018-02-06 21:59:59                1.975908          1.022335e+02   \n",
       "2018-02-07 03:59:59                1.862501          1.633228e+02   \n",
       "2018-02-07 07:59:59                1.895272          1.118118e+02   \n",
       "2018-02-08 11:59:59                1.565749          1.084300e+02   \n",
       "2018-02-09 08:59:59                1.406891          2.964127e+02   \n",
       "2018-02-11 07:59:59                0.936011         -1.944323e+03   \n",
       "2018-02-11 19:59:59                1.191903          1.293453e+02   \n",
       "2018-02-12 14:59:59                0.912916          1.012312e+02   \n",
       "2018-02-12 15:59:59                0.870034         -1.032585e+00   \n",
       "2018-02-12 16:59:59                0.836702          1.012357e+02   \n",
       "2018-02-12 20:59:59                1.291840         -6.719713e-01   \n",
       "2018-02-12 21:59:59                1.249700         -6.995556e-01   \n",
       "2018-02-12 22:59:59                1.181616         -7.374517e-01   \n",
       "2018-02-12 23:59:59                0.945734          1.071375e+02   \n",
       "2018-02-13 02:59:59                1.044781         -8.467979e-01   \n",
       "2018-02-13 03:59:59                0.927103         -9.676061e-01   \n",
       "2018-02-13 06:59:59                0.766638         -1.199884e+00   \n",
       "2018-02-13 07:59:59                0.687290         -1.350280e+00   \n",
       "2018-02-13 08:59:59                0.725042         -1.272969e+00   \n",
       "2018-02-13 09:59:59                0.788890         -1.158405e+00   \n",
       "2018-02-13 10:59:59                0.800533         -1.141058e+00   \n",
       "2018-02-13 11:59:59                0.902653          1.003610e+02   \n",
       "2018-02-18 15:59:59                1.231494          1.542391e+02   \n",
       "2018-02-20 19:59:59                1.627054         -5.068519e-01   \n",
       "2018-02-20 20:59:59                1.369989          1.073715e+02   \n",
       "2018-02-24 02:59:59                1.570928         -5.133194e-01   \n",
       "2018-02-24 03:59:59                1.733223         -4.557114e-01   \n",
       "2018-03-02 02:59:59                1.726559          1.001673e+02   \n",
       "2018-03-07 08:59:59                2.007535          1.012986e+02   \n",
       "2018-03-07 12:59:59                1.901441          1.040858e+02   \n",
       "2018-03-07 13:59:59                1.993876          1.120618e+02   \n",
       "2018-03-07 15:59:59                2.066563          1.095398e+02   \n",
       "2018-03-07 21:59:59                1.823022          1.056746e+02   \n",
       "2018-03-07 22:59:59                1.794690         -9.318885e+01   \n",
       "2018-03-08 01:59:59                1.563347          1.077466e+02   \n",
       "2018-03-08 02:59:59                1.447236          1.018941e+02   \n",
       "2018-03-13 19:59:59                1.229255          1.038704e+02   \n",
       "2018-03-13 20:59:59                1.345529          1.047562e+02   \n",
       "2018-03-14 01:59:59                1.370343         -6.307609e-01   \n",
       "2018-03-14 15:59:59                1.338493          1.022656e+02   \n",
       "2018-03-14 18:59:59                1.526854         -5.589447e-01   \n",
       "2018-03-15 12:59:59                1.626121          2.123865e+02   \n",
       "2018-03-16 12:59:59                1.239588          1.007316e+02   \n",
       "2018-03-18 11:59:59                0.436271         -4.434751e+03   \n",
       "2018-03-18 12:59:59                3.809132          1.380207e+04   \n",
       "2018-03-18 13:59:59                3.809132         -4.824746e+04   \n",
       "2018-03-19 12:59:59                1.280327          1.606962e+02   \n",
       "2018-03-19 13:59:59                1.500188          1.139651e+02   \n",
       "2018-03-19 14:59:59                1.376449         -6.233535e-01   \n",
       "2018-03-19 15:59:59                1.438552          1.071689e+02   \n",
       "2018-03-19 20:59:59                1.798941          1.056585e+02   \n",
       "2018-03-19 21:59:59                1.867746         -4.537245e-01   \n",
       "2018-03-19 22:59:59                1.902551         -4.413663e-01   \n",
       "2018-03-23 09:59:59                1.446445         -1.551396e+04   \n",
       "2018-03-29 12:59:59                1.754920         -3.669242e+05   \n",
       "2018-04-06 06:59:59                0.978288         -8.932770e-01   \n",
       "2018-04-06 07:59:59                0.745225         -1.215902e+00   \n",
       "2018-04-12 08:59:59                0.247966         -4.091192e+00   \n",
       "2018-04-13 01:59:59                1.504457          1.239222e+02   \n",
       "2018-04-13 02:59:59                1.507280          1.042461e+02   \n",
       "2018-04-13 03:59:59                1.396345          1.033092e+02   \n",
       "2018-04-13 04:59:59                1.204200          1.017903e+02   \n",
       "2018-04-13 05:59:59                1.041399          1.010651e+02   \n",
       "2018-04-14 07:59:59                2.148280          1.507913e+02   \n",
       "2018-04-16 10:59:59                1.920182         -3.392584e-01   \n",
       "2018-04-16 14:59:59                0.721306          1.127806e+02   \n",
       "2018-04-21 07:59:59                2.929708         -2.091016e-01   \n",
       "2018-04-22 23:59:59                1.389861         -6.062716e-01   \n",
       "2018-04-23 18:59:59                1.386717          1.149580e+02   \n",
       "2018-04-23 20:59:59                1.428424         -5.931814e-01   \n",
       "2018-04-23 21:59:59                1.399749         -5.960495e-01   \n",
       "2018-04-23 22:59:59                1.257826         -6.744632e-01   \n",
       "2018-04-23 23:59:59                1.348506         -6.237458e-01   \n",
       "2018-04-24 00:59:59                1.438948         -5.816781e-01   \n",
       "2018-04-24 01:59:59                1.346981         -6.298349e-01   \n",
       "2018-04-24 02:59:59                1.046125         -8.470955e-01   \n",
       "2018-04-24 03:59:59                0.866253         -1.046848e+00   \n",
       "2018-04-24 04:59:59                0.840253         -1.080541e+00   \n",
       "2018-04-24 05:59:59                0.642144         -1.455937e+00   \n",
       "2018-04-24 06:59:59                0.561246         -1.687750e+00   \n",
       "2018-05-01 16:59:59                1.037259         -1.093913e+04   \n",
       "2018-05-02 14:59:59                0.405009         -1.843371e+01   \n",
       "2018-05-02 15:59:59                0.352509         -4.835377e+01   \n",
       "2018-05-05 22:59:59                0.884013          1.434795e+02   \n",
       "2018-05-06 14:59:59                2.481640         -3.993314e+01   \n",
       "2018-05-08 12:59:59                0.297908         -5.660728e+01   \n",
       "2018-05-19 08:59:59                2.449551         -2.825304e+04   \n",
       "2018-05-19 09:59:59                2.381199         -2.723384e+04   \n",
       "2018-05-19 10:59:59                2.302712         -2.629119e+04   \n",
       "2018-05-19 11:59:59                2.198812         -2.494706e+04   \n",
       "2018-05-19 12:59:59                2.180461         -2.488714e+04   \n",
       "2018-05-21 01:59:59                1.936847         -1.555036e+03   \n",
       "2018-05-26 11:59:59                1.975307          1.326790e+02   \n",
       "2018-05-26 12:59:59                1.942978         -6.187086e-02   \n",
       "2018-05-26 13:59:59                4.352487         -1.945379e+01   \n",
       "2018-05-27 23:59:59                0.908058          1.127505e+02   \n",
       "2018-05-28 00:59:59                0.864900          1.017858e+02   \n",
       "2018-05-28 01:59:59                0.795685         -1.341881e+00   \n",
       "2018-05-28 03:59:59                0.573173          1.042404e+02   \n",
       "2018-06-27 05:59:59                1.294141          1.058448e+04   \n",
       "2018-06-28 02:59:59                2.327789         -3.308064e-01   \n",
       "2018-06-28 03:59:59                1.628187         -5.198285e-01   \n",
       "2018-06-28 04:59:59                1.547207         -5.503427e-01   \n",
       "2018-06-28 05:59:59                1.628897         -5.126337e-01   \n",
       "2018-06-28 06:59:59                1.731883         -4.724871e-01   \n",
       "2018-06-28 07:59:59                1.566207         -5.317676e-01   \n",
       "2018-06-28 13:59:59                0.753873          1.098453e+02   \n",
       "2018-06-28 14:59:59                0.882695         -1.035840e+00   \n",
       "2018-06-28 15:59:59                1.121635         -7.863398e-01   \n",
       "2018-06-28 16:59:59                1.063673         -8.280105e-01   \n",
       "2018-06-28 17:59:59                1.058935         -8.220830e-01   \n",
       "2018-06-28 18:59:59                1.168858         -7.342425e-01   \n",
       "2018-06-28 19:59:59                1.218002          1.136314e+02   \n",
       "2018-06-30 01:59:59                2.504100         -2.822879e-01   \n",
       "2018-06-30 02:59:59                2.467075         -2.882514e-01   \n",
       "2018-06-30 03:59:59                2.577472         -2.759987e-01   \n",
       "2018-06-30 04:59:59                2.772791         -2.526287e-01   \n",
       "2018-06-30 05:59:59                2.803967         -2.489464e-01   \n",
       "2018-06-30 06:59:59                2.795563         -2.506111e-01   \n",
       "2018-06-30 07:59:59                2.911861         -2.312964e-01   \n",
       "2018-06-30 08:59:59                2.590886         -2.433043e-01   \n",
       "2018-06-30 09:59:59                2.070038         -2.923893e-01   \n",
       "2018-06-30 10:59:59                1.771845         -4.647467e-01   \n",
       "2018-06-30 11:59:59                1.517674         -5.523825e-01   \n",
       "2018-06-30 12:59:59                1.427835         -5.897000e-01   \n",
       "2018-06-30 13:59:59                1.317466         -6.605236e-01   \n",
       "2018-06-30 14:59:59                1.333066         -6.521260e-01   \n",
       "2018-07-01 00:59:59                0.411736          8.036251e+02   \n",
       "2018-07-05 10:59:59                0.528073         -5.564985e+01   \n",
       "2018-07-14 13:59:59                0.988104          1.203005e+02   \n",
       "2018-07-14 14:59:59                1.007503         -8.534012e-01   \n",
       "2018-07-14 15:59:59                1.032279         -8.197248e-01   \n",
       "2018-07-18 18:59:59                0.663100          1.016463e+02   \n",
       "2018-07-25 11:59:59                2.350579         -3.128144e-01   \n",
       "2018-07-25 12:59:59                2.636803         -2.701252e-01   \n",
       "2018-07-25 13:59:59                2.915845         -2.351866e-01   \n",
       "2018-07-27 05:59:59                1.677022         -4.822392e-01   \n",
       "2018-07-27 06:59:59                1.660722         -4.950697e-01   \n",
       "2018-07-27 07:59:59                1.678780          1.147057e+02   \n",
       "2018-07-30 10:59:59                1.688865         -4.787123e-01   \n",
       "2018-07-30 11:59:59                1.583172         -5.199647e-01   \n",
       "2018-07-30 12:59:59                1.575716         -5.251569e-01   \n",
       "2018-07-31 15:59:59                2.034386         -4.324194e+01   \n",
       "2018-08-03 04:59:59                2.064114          1.002582e+02   \n",
       "2018-08-03 06:59:59                2.706712          1.029432e+02   \n",
       "2018-08-04 10:59:59                1.472646          1.123614e+02   \n",
       "2018-08-04 11:59:59                1.576967         -5.449744e-01   \n",
       "2018-08-04 12:59:59                1.544372          1.005384e+02   \n",
       "2018-08-07 22:59:59                2.258871         -6.836024e+04   \n",
       "2018-08-09 14:59:59                1.595380          1.004855e+02   \n",
       "2018-08-09 20:59:59                1.501984          6.343567e+03   \n",
       "2018-08-09 21:59:59                1.335850         -6.546787e-01   \n",
       "2018-08-11 16:59:59                1.343570          1.129578e+02   \n",
       "2018-08-11 17:59:59                1.858404          1.004422e+02   \n",
       "2018-08-11 18:59:59                1.729189         -4.825668e-01   \n",
       "2018-08-11 19:59:59                1.481931         -5.843248e-01   \n",
       "2018-08-11 20:59:59                1.803747         -1.498298e+00   \n",
       "\n",
       "                     rougher.output.recovery  \n",
       "date                                          \n",
       "2016-01-17 05:00:00                      NaN  \n",
       "2016-01-30 12:00:00                      NaN  \n",
       "2016-01-30 17:00:00                      NaN  \n",
       "2016-02-07 08:00:00                      NaN  \n",
       "2016-02-13 04:00:00                      NaN  \n",
       "2016-02-17 20:00:00                      NaN  \n",
       "2016-02-18 19:00:00                      NaN  \n",
       "2016-02-18 21:00:00                      NaN  \n",
       "2016-03-02 20:00:00                      NaN  \n",
       "2016-03-02 21:00:00                      NaN  \n",
       "2016-03-02 22:00:00                      NaN  \n",
       "2016-03-07 09:00:00                      NaN  \n",
       "2016-03-07 13:00:00                      NaN  \n",
       "2016-03-07 15:00:00                      NaN  \n",
       "2016-03-10 15:00:00                      NaN  \n",
       "2016-03-28 04:00:00                      NaN  \n",
       "2016-03-29 02:00:00                      NaN  \n",
       "2016-04-01 11:00:00                      NaN  \n",
       "2016-04-01 12:00:00                      NaN  \n",
       "2016-04-09 11:00:00                      NaN  \n",
       "2016-04-09 18:00:00                      NaN  \n",
       "2016-04-10 08:00:00                      NaN  \n",
       "2016-04-22 10:00:00                      NaN  \n",
       "2016-04-22 11:00:00                      NaN  \n",
       "2016-04-24 22:59:59                      NaN  \n",
       "2016-05-01 04:59:59                      NaN  \n",
       "2016-05-15 18:59:59                      NaN  \n",
       "2016-05-22 06:59:59                      NaN  \n",
       "2016-05-22 10:59:59                      NaN  \n",
       "2016-05-22 11:59:59                      NaN  \n",
       "2016-05-22 12:59:59                      NaN  \n",
       "2016-05-22 13:59:59                      NaN  \n",
       "2016-05-22 14:59:59                      NaN  \n",
       "2016-05-22 15:59:59                      NaN  \n",
       "2016-05-22 16:59:59                      NaN  \n",
       "2016-05-24 12:59:59                      NaN  \n",
       "2016-05-24 16:59:59                      NaN  \n",
       "2016-05-24 17:59:59                      NaN  \n",
       "2016-06-06 17:59:59                      NaN  \n",
       "2016-06-06 19:59:59                      NaN  \n",
       "2016-06-07 17:59:59                      NaN  \n",
       "2016-06-08 12:59:59                      NaN  \n",
       "2016-06-20 04:59:59                      NaN  \n",
       "2016-07-01 01:59:59                      NaN  \n",
       "2016-07-07 06:59:59                      NaN  \n",
       "2016-08-01 08:59:59                      NaN  \n",
       "2016-08-01 16:59:59                      NaN  \n",
       "2016-08-07 20:59:59                      NaN  \n",
       "2017-01-10 07:59:59                      NaN  \n",
       "2017-01-10 15:59:59                      NaN  \n",
       "2017-01-10 22:59:59                      NaN  \n",
       "2017-01-13 01:59:59                      NaN  \n",
       "2017-01-21 18:59:59                      NaN  \n",
       "2017-01-21 19:59:59                      NaN  \n",
       "2017-01-22 14:59:59                      NaN  \n",
       "2017-01-22 15:59:59                      NaN  \n",
       "2017-01-22 16:59:59                      NaN  \n",
       "2017-01-25 08:59:59                      NaN  \n",
       "2017-03-06 13:59:59                      NaN  \n",
       "2017-03-06 14:59:59                      NaN  \n",
       "2017-03-08 00:59:59                      NaN  \n",
       "2017-03-09 06:59:59                      NaN  \n",
       "2017-03-11 06:59:59                      NaN  \n",
       "2017-03-11 08:59:59                      NaN  \n",
       "2017-03-11 20:59:59                      NaN  \n",
       "2017-03-11 22:59:59                      NaN  \n",
       "2017-03-12 02:59:59                      NaN  \n",
       "2017-03-12 10:59:59                      NaN  \n",
       "2017-03-12 11:59:59                      NaN  \n",
       "2017-04-05 19:59:59                      NaN  \n",
       "2017-04-06 13:59:59                      NaN  \n",
       "2017-04-07 13:59:59                      NaN  \n",
       "2017-04-07 22:59:59                      NaN  \n",
       "2017-04-08 01:59:59                      NaN  \n",
       "2017-05-06 08:59:59                      NaN  \n",
       "2017-05-08 13:59:59                      NaN  \n",
       "2017-05-08 18:59:59                      NaN  \n",
       "2017-05-10 10:59:59                      NaN  \n",
       "2017-05-11 08:59:59                      NaN  \n",
       "2017-05-22 12:59:59                      NaN  \n",
       "2017-05-23 16:59:59                      NaN  \n",
       "2017-05-28 14:59:59                      NaN  \n",
       "2017-06-02 20:59:59                      NaN  \n",
       "2017-06-02 21:59:59                      NaN  \n",
       "2017-06-04 05:59:59                      NaN  \n",
       "2017-06-04 06:59:59                      NaN  \n",
       "2017-06-04 08:59:59                      NaN  \n",
       "2017-06-04 10:59:59                      NaN  \n",
       "2017-06-07 22:59:59                      NaN  \n",
       "2017-06-08 06:59:59                      NaN  \n",
       "2017-06-08 08:59:59                      NaN  \n",
       "2017-06-08 10:59:59                      NaN  \n",
       "2017-06-09 11:59:59                      NaN  \n",
       "2017-06-09 21:59:59                      NaN  \n",
       "2017-06-12 20:59:59                      NaN  \n",
       "2017-06-15 12:59:59                      NaN  \n",
       "2017-07-05 15:59:59                      NaN  \n",
       "2017-07-05 16:59:59                      NaN  \n",
       "2017-07-12 13:59:59                      NaN  \n",
       "2017-07-12 14:59:59                      NaN  \n",
       "2017-07-14 19:59:59                      NaN  \n",
       "2017-07-18 13:59:59                      NaN  \n",
       "2017-07-25 06:59:59                      NaN  \n",
       "2017-08-03 13:59:59                      NaN  \n",
       "2017-08-13 16:59:59                      NaN  \n",
       "2017-08-14 03:59:59                      NaN  \n",
       "2017-08-14 07:59:59                      NaN  \n",
       "2017-08-14 09:59:59                      NaN  \n",
       "2017-08-14 11:59:59                      NaN  \n",
       "2017-08-18 09:59:59                      NaN  \n",
       "2017-08-18 10:59:59                      NaN  \n",
       "2017-08-18 23:59:59                      NaN  \n",
       "2017-08-27 11:59:59                      NaN  \n",
       "2018-01-01 21:59:59                      NaN  \n",
       "2018-01-03 12:59:59                      NaN  \n",
       "2018-01-03 13:59:59                      NaN  \n",
       "2018-01-03 20:59:59                      NaN  \n",
       "2018-01-03 21:59:59                      NaN  \n",
       "2018-01-03 22:59:59                      NaN  \n",
       "2018-01-04 01:59:59                      NaN  \n",
       "2018-01-04 02:59:59                      NaN  \n",
       "2018-01-11 23:59:59                      NaN  \n",
       "2018-01-15 08:59:59                      NaN  \n",
       "2018-01-16 11:59:59                      NaN  \n",
       "2018-01-16 14:59:59                      NaN  \n",
       "2018-01-26 11:59:59                      NaN  \n",
       "2018-01-26 12:59:59                      NaN  \n",
       "2018-01-31 08:59:59                      NaN  \n",
       "2018-01-31 11:59:59                      NaN  \n",
       "2018-01-31 13:59:59                      NaN  \n",
       "2018-02-04 13:59:59                      NaN  \n",
       "2018-02-05 12:59:59                      NaN  \n",
       "2018-02-05 14:59:59                      NaN  \n",
       "2018-02-06 21:59:59                      NaN  \n",
       "2018-02-07 03:59:59                      NaN  \n",
       "2018-02-07 07:59:59                      NaN  \n",
       "2018-02-08 11:59:59                      NaN  \n",
       "2018-02-09 08:59:59                      NaN  \n",
       "2018-02-11 07:59:59                      NaN  \n",
       "2018-02-11 19:59:59                      NaN  \n",
       "2018-02-12 14:59:59                      NaN  \n",
       "2018-02-12 15:59:59                      NaN  \n",
       "2018-02-12 16:59:59                      NaN  \n",
       "2018-02-12 20:59:59                      NaN  \n",
       "2018-02-12 21:59:59                      NaN  \n",
       "2018-02-12 22:59:59                      NaN  \n",
       "2018-02-12 23:59:59                      NaN  \n",
       "2018-02-13 02:59:59                      NaN  \n",
       "2018-02-13 03:59:59                      NaN  \n",
       "2018-02-13 06:59:59                      NaN  \n",
       "2018-02-13 07:59:59                      NaN  \n",
       "2018-02-13 08:59:59                      NaN  \n",
       "2018-02-13 09:59:59                      NaN  \n",
       "2018-02-13 10:59:59                      NaN  \n",
       "2018-02-13 11:59:59                      NaN  \n",
       "2018-02-18 15:59:59                      NaN  \n",
       "2018-02-20 19:59:59                      NaN  \n",
       "2018-02-20 20:59:59                      NaN  \n",
       "2018-02-24 02:59:59                      NaN  \n",
       "2018-02-24 03:59:59                      NaN  \n",
       "2018-03-02 02:59:59                      NaN  \n",
       "2018-03-07 08:59:59                      NaN  \n",
       "2018-03-07 12:59:59                      NaN  \n",
       "2018-03-07 13:59:59                      NaN  \n",
       "2018-03-07 15:59:59                      NaN  \n",
       "2018-03-07 21:59:59                      NaN  \n",
       "2018-03-07 22:59:59                      NaN  \n",
       "2018-03-08 01:59:59                      NaN  \n",
       "2018-03-08 02:59:59                      NaN  \n",
       "2018-03-13 19:59:59                      NaN  \n",
       "2018-03-13 20:59:59                      NaN  \n",
       "2018-03-14 01:59:59                      NaN  \n",
       "2018-03-14 15:59:59                      NaN  \n",
       "2018-03-14 18:59:59                      NaN  \n",
       "2018-03-15 12:59:59                      NaN  \n",
       "2018-03-16 12:59:59                      NaN  \n",
       "2018-03-18 11:59:59                      NaN  \n",
       "2018-03-18 12:59:59                      NaN  \n",
       "2018-03-18 13:59:59                      NaN  \n",
       "2018-03-19 12:59:59                      NaN  \n",
       "2018-03-19 13:59:59                      NaN  \n",
       "2018-03-19 14:59:59                      NaN  \n",
       "2018-03-19 15:59:59                      NaN  \n",
       "2018-03-19 20:59:59                      NaN  \n",
       "2018-03-19 21:59:59                      NaN  \n",
       "2018-03-19 22:59:59                      NaN  \n",
       "2018-03-23 09:59:59                      NaN  \n",
       "2018-03-29 12:59:59                      NaN  \n",
       "2018-04-06 06:59:59                      NaN  \n",
       "2018-04-06 07:59:59                      NaN  \n",
       "2018-04-12 08:59:59                      NaN  \n",
       "2018-04-13 01:59:59                      NaN  \n",
       "2018-04-13 02:59:59                      NaN  \n",
       "2018-04-13 03:59:59                      NaN  \n",
       "2018-04-13 04:59:59                      NaN  \n",
       "2018-04-13 05:59:59                      NaN  \n",
       "2018-04-14 07:59:59                      NaN  \n",
       "2018-04-16 10:59:59                      NaN  \n",
       "2018-04-16 14:59:59                      NaN  \n",
       "2018-04-21 07:59:59                      NaN  \n",
       "2018-04-22 23:59:59                      NaN  \n",
       "2018-04-23 18:59:59                      NaN  \n",
       "2018-04-23 20:59:59                      NaN  \n",
       "2018-04-23 21:59:59                      NaN  \n",
       "2018-04-23 22:59:59                      NaN  \n",
       "2018-04-23 23:59:59                      NaN  \n",
       "2018-04-24 00:59:59                      NaN  \n",
       "2018-04-24 01:59:59                      NaN  \n",
       "2018-04-24 02:59:59                      NaN  \n",
       "2018-04-24 03:59:59                      NaN  \n",
       "2018-04-24 04:59:59                      NaN  \n",
       "2018-04-24 05:59:59                      NaN  \n",
       "2018-04-24 06:59:59                      NaN  \n",
       "2018-05-01 16:59:59                      NaN  \n",
       "2018-05-02 14:59:59                      NaN  \n",
       "2018-05-02 15:59:59                      NaN  \n",
       "2018-05-05 22:59:59                      NaN  \n",
       "2018-05-06 14:59:59                      NaN  \n",
       "2018-05-08 12:59:59                      NaN  \n",
       "2018-05-19 08:59:59                      NaN  \n",
       "2018-05-19 09:59:59                      NaN  \n",
       "2018-05-19 10:59:59                      NaN  \n",
       "2018-05-19 11:59:59                      NaN  \n",
       "2018-05-19 12:59:59                      NaN  \n",
       "2018-05-21 01:59:59                      NaN  \n",
       "2018-05-26 11:59:59                      NaN  \n",
       "2018-05-26 12:59:59                      NaN  \n",
       "2018-05-26 13:59:59                      NaN  \n",
       "2018-05-27 23:59:59                      NaN  \n",
       "2018-05-28 00:59:59                      NaN  \n",
       "2018-05-28 01:59:59                      NaN  \n",
       "2018-05-28 03:59:59                      NaN  \n",
       "2018-06-27 05:59:59                      NaN  \n",
       "2018-06-28 02:59:59                      NaN  \n",
       "2018-06-28 03:59:59                      NaN  \n",
       "2018-06-28 04:59:59                      NaN  \n",
       "2018-06-28 05:59:59                      NaN  \n",
       "2018-06-28 06:59:59                      NaN  \n",
       "2018-06-28 07:59:59                      NaN  \n",
       "2018-06-28 13:59:59                      NaN  \n",
       "2018-06-28 14:59:59                      NaN  \n",
       "2018-06-28 15:59:59                      NaN  \n",
       "2018-06-28 16:59:59                      NaN  \n",
       "2018-06-28 17:59:59                      NaN  \n",
       "2018-06-28 18:59:59                      NaN  \n",
       "2018-06-28 19:59:59                      NaN  \n",
       "2018-06-30 01:59:59                      NaN  \n",
       "2018-06-30 02:59:59                      NaN  \n",
       "2018-06-30 03:59:59                      NaN  \n",
       "2018-06-30 04:59:59                      NaN  \n",
       "2018-06-30 05:59:59                      NaN  \n",
       "2018-06-30 06:59:59                      NaN  \n",
       "2018-06-30 07:59:59                      NaN  \n",
       "2018-06-30 08:59:59                      NaN  \n",
       "2018-06-30 09:59:59                      NaN  \n",
       "2018-06-30 10:59:59                      NaN  \n",
       "2018-06-30 11:59:59                      NaN  \n",
       "2018-06-30 12:59:59                      NaN  \n",
       "2018-06-30 13:59:59                      NaN  \n",
       "2018-06-30 14:59:59                      NaN  \n",
       "2018-07-01 00:59:59                      NaN  \n",
       "2018-07-05 10:59:59                      NaN  \n",
       "2018-07-14 13:59:59                      NaN  \n",
       "2018-07-14 14:59:59                      NaN  \n",
       "2018-07-14 15:59:59                      NaN  \n",
       "2018-07-18 18:59:59                      NaN  \n",
       "2018-07-25 11:59:59                      NaN  \n",
       "2018-07-25 12:59:59                      NaN  \n",
       "2018-07-25 13:59:59                      NaN  \n",
       "2018-07-27 05:59:59                      NaN  \n",
       "2018-07-27 06:59:59                      NaN  \n",
       "2018-07-27 07:59:59                      NaN  \n",
       "2018-07-30 10:59:59                      NaN  \n",
       "2018-07-30 11:59:59                      NaN  \n",
       "2018-07-30 12:59:59                      NaN  \n",
       "2018-07-31 15:59:59                      NaN  \n",
       "2018-08-03 04:59:59                      NaN  \n",
       "2018-08-03 06:59:59                      NaN  \n",
       "2018-08-04 10:59:59                      NaN  \n",
       "2018-08-04 11:59:59                      NaN  \n",
       "2018-08-04 12:59:59                      NaN  \n",
       "2018-08-07 22:59:59                      NaN  \n",
       "2018-08-09 14:59:59                      NaN  \n",
       "2018-08-09 20:59:59                      NaN  \n",
       "2018-08-09 21:59:59                      NaN  \n",
       "2018-08-11 16:59:59                      NaN  \n",
       "2018-08-11 17:59:59                      NaN  \n",
       "2018-08-11 18:59:59                      NaN  \n",
       "2018-08-11 19:59:59                      NaN  \n",
       "2018-08-11 20:59:59                      NaN  "
      ]
     },
     "execution_count": 13,
     "metadata": {},
     "output_type": "execute_result"
    }
   ],
   "source": [
    "#checking data that gave impossible predictions\n",
    "df_train[(df_train['recovery_predictions'] <0)| (df_train['recovery_predictions'] >100)][['rougher.output.concentrate_au', 'rougher.input.feed_au', 'rougher.output.tail_au', 'recovery_predictions', 'rougher.output.recovery']]"
   ]
  },
  {
   "cell_type": "markdown",
   "metadata": {},
   "source": [
    "It may well be that many of these come from incorrect measurements or errors in the process that led to, for example, no gold in the rougher input.\n",
    "\n",
    "We can also see that these led to NaN values for the output recovery, one of our target variables.\n",
    "\n",
    "We can drop these rows from our dataframes."
   ]
  },
  {
   "cell_type": "code",
   "execution_count": 14,
   "metadata": {},
   "outputs": [],
   "source": [
    "#dropping rows with errata\n",
    "dates_to_drop = df_train.loc[df_train['rougher.output.recovery'].isnull()].index.to_list()\n",
    "df_full = df_full[~df_full.index.isin(dates_to_drop)]\n",
    "df_train.dropna(subset=['rougher.output.recovery'], inplace = True)"
   ]
  },
  {
   "cell_type": "code",
   "execution_count": 15,
   "metadata": {},
   "outputs": [
    {
     "data": {
      "text/plain": [
       "2573"
      ]
     },
     "execution_count": 15,
     "metadata": {},
     "output_type": "execute_result"
    }
   ],
   "source": [
    "len(dates_to_drop)"
   ]
  },
  {
   "cell_type": "code",
   "execution_count": 16,
   "metadata": {},
   "outputs": [
    {
     "data": {
      "text/plain": [
       "count    14287.000000\n",
       "mean        82.394201\n",
       "std         15.096808\n",
       "min         -0.000000\n",
       "25%         79.818372\n",
       "50%         85.235997\n",
       "75%         90.131691\n",
       "max        100.000000\n",
       "Name: recovery_predictions, dtype: float64"
      ]
     },
     "execution_count": 16,
     "metadata": {},
     "output_type": "execute_result"
    }
   ],
   "source": [
    "#checking predictions after rows removed\n",
    "df_train['recovery_predictions'].describe()"
   ]
  },
  {
   "cell_type": "markdown",
   "metadata": {},
   "source": [
    "These predictions now seem much mroe reasonable, let's check the MAE."
   ]
  },
  {
   "cell_type": "code",
   "execution_count": 17,
   "metadata": {},
   "outputs": [
    {
     "data": {
      "text/plain": [
       "9.303415616264301e-15"
      ]
     },
     "execution_count": 17,
     "metadata": {},
     "output_type": "execute_result"
    }
   ],
   "source": [
    "#calculating MAE\n",
    "mean_absolute_error(df_train['rougher.output.recovery'], df_train['recovery_predictions'])"
   ]
  },
  {
   "cell_type": "markdown",
   "metadata": {},
   "source": [
    "An incredibly small number, it appears the calculations are now correct."
   ]
  },
  {
   "cell_type": "code",
   "execution_count": 18,
   "metadata": {},
   "outputs": [],
   "source": [
    "#dropping predictions\n",
    "df_train.drop('recovery_predictions', axis = 1, inplace = True)"
   ]
  },
  {
   "cell_type": "markdown",
   "metadata": {},
   "source": [
    "Now to check the missing values."
   ]
  },
  {
   "cell_type": "code",
   "execution_count": 19,
   "metadata": {
    "scrolled": true
   },
   "outputs": [
    {
     "data": {
      "text/plain": [
       "final.output.concentrate_ag                              5\n",
       "final.output.concentrate_pb                              5\n",
       "final.output.concentrate_sol                           232\n",
       "final.output.concentrate_au                              4\n",
       "final.output.recovery                                  138\n",
       "final.output.tail_ag                                     0\n",
       "final.output.tail_pb                                   114\n",
       "final.output.tail_sol                                    8\n",
       "final.output.tail_au                                     0\n",
       "primary_cleaner.input.sulfate                           26\n",
       "primary_cleaner.input.depressant                        38\n",
       "primary_cleaner.input.feed_size                          0\n",
       "primary_cleaner.input.xanthate                         105\n",
       "primary_cleaner.output.concentrate_ag                    0\n",
       "primary_cleaner.output.concentrate_pb                  123\n",
       "primary_cleaner.output.concentrate_sol                 338\n",
       "primary_cleaner.output.concentrate_au                    0\n",
       "primary_cleaner.output.tail_ag                           1\n",
       "primary_cleaner.output.tail_pb                          16\n",
       "primary_cleaner.output.tail_sol                         79\n",
       "primary_cleaner.output.tail_au                           0\n",
       "primary_cleaner.state.floatbank8_a_air                   4\n",
       "primary_cleaner.state.floatbank8_a_level                 1\n",
       "primary_cleaner.state.floatbank8_b_air                   4\n",
       "primary_cleaner.state.floatbank8_b_level                 1\n",
       "primary_cleaner.state.floatbank8_c_air                   2\n",
       "primary_cleaner.state.floatbank8_c_level                 1\n",
       "primary_cleaner.state.floatbank8_d_air                   3\n",
       "primary_cleaner.state.floatbank8_d_level                 1\n",
       "rougher.calculation.sulfate_to_au_concentrate            1\n",
       "rougher.calculation.floatbank10_sulfate_to_au_feed       1\n",
       "rougher.calculation.floatbank11_sulfate_to_au_feed       1\n",
       "rougher.calculation.au_pb_ratio                          0\n",
       "rougher.input.feed_ag                                    0\n",
       "rougher.input.feed_pb                                  123\n",
       "rougher.input.feed_rate                                 13\n",
       "rougher.input.feed_size                                149\n",
       "rougher.input.feed_sol                                  96\n",
       "rougher.input.feed_au                                    0\n",
       "rougher.input.floatbank10_sulfate                       31\n",
       "rougher.input.floatbank10_xanthate                       9\n",
       "rougher.input.floatbank11_sulfate                       38\n",
       "rougher.input.floatbank11_xanthate                     434\n",
       "rougher.output.concentrate_ag                            0\n",
       "rougher.output.concentrate_pb                            0\n",
       "rougher.output.concentrate_sol                          26\n",
       "rougher.output.concentrate_au                            0\n",
       "rougher.output.recovery                                  0\n",
       "rougher.output.tail_ag                                   1\n",
       "rougher.output.tail_pb                                   0\n",
       "rougher.output.tail_sol                                  0\n",
       "rougher.output.tail_au                                   0\n",
       "rougher.state.floatbank10_a_air                          1\n",
       "rougher.state.floatbank10_a_level                        1\n",
       "rougher.state.floatbank10_b_air                          1\n",
       "rougher.state.floatbank10_b_level                        1\n",
       "rougher.state.floatbank10_c_air                          1\n",
       "rougher.state.floatbank10_c_level                        1\n",
       "rougher.state.floatbank10_d_air                          0\n",
       "rougher.state.floatbank10_d_level                        0\n",
       "rougher.state.floatbank10_e_air                        438\n",
       "rougher.state.floatbank10_e_level                        0\n",
       "rougher.state.floatbank10_f_air                          0\n",
       "rougher.state.floatbank10_f_level                        0\n",
       "secondary_cleaner.output.tail_ag                         2\n",
       "secondary_cleaner.output.tail_pb                        10\n",
       "secondary_cleaner.output.tail_sol                     1654\n",
       "secondary_cleaner.output.tail_au                         0\n",
       "secondary_cleaner.state.floatbank2_a_air               219\n",
       "secondary_cleaner.state.floatbank2_a_level               1\n",
       "secondary_cleaner.state.floatbank2_b_air                23\n",
       "secondary_cleaner.state.floatbank2_b_level               1\n",
       "secondary_cleaner.state.floatbank3_a_air                 4\n",
       "secondary_cleaner.state.floatbank3_a_level               1\n",
       "secondary_cleaner.state.floatbank3_b_air                 1\n",
       "secondary_cleaner.state.floatbank3_b_level               1\n",
       "secondary_cleaner.state.floatbank4_a_air                 6\n",
       "secondary_cleaner.state.floatbank4_a_level               1\n",
       "secondary_cleaner.state.floatbank4_b_air                 1\n",
       "secondary_cleaner.state.floatbank4_b_level               1\n",
       "secondary_cleaner.state.floatbank5_a_air                 1\n",
       "secondary_cleaner.state.floatbank5_a_level               1\n",
       "secondary_cleaner.state.floatbank5_b_air                 1\n",
       "secondary_cleaner.state.floatbank5_b_level               1\n",
       "secondary_cleaner.state.floatbank6_a_air                 3\n",
       "secondary_cleaner.state.floatbank6_a_level               1\n",
       "dtype: int64"
      ]
     },
     "execution_count": 19,
     "metadata": {},
     "output_type": "execute_result"
    }
   ],
   "source": [
    "df_train.isna().sum()"
   ]
  },
  {
   "cell_type": "markdown",
   "metadata": {},
   "source": [
    "There are a relatively small number of missing values accross a range of columns.\n",
    "In the project description we are told that : \"Parameters that are next to each other in terms of time are often similar.\"\n",
    "The natural way to fill in these values would therefore be ffill;  propagating last valid observation forward."
   ]
  },
  {
   "cell_type": "code",
   "execution_count": 20,
   "metadata": {},
   "outputs": [],
   "source": [
    "#removing any rows with missing targets\n",
    "df_train = df_train[~df_train['final.output.recovery'].isna()]\n",
    "df_train = df_train.fillna(method='ffill')"
   ]
  },
  {
   "cell_type": "code",
   "execution_count": 21,
   "metadata": {
    "scrolled": true
   },
   "outputs": [
    {
     "data": {
      "text/plain": [
       "final.output.concentrate_ag                           0\n",
       "final.output.concentrate_pb                           0\n",
       "final.output.concentrate_sol                          0\n",
       "final.output.concentrate_au                           0\n",
       "final.output.recovery                                 0\n",
       "final.output.tail_ag                                  0\n",
       "final.output.tail_pb                                  0\n",
       "final.output.tail_sol                                 0\n",
       "final.output.tail_au                                  0\n",
       "primary_cleaner.input.sulfate                         0\n",
       "primary_cleaner.input.depressant                      0\n",
       "primary_cleaner.input.feed_size                       0\n",
       "primary_cleaner.input.xanthate                        0\n",
       "primary_cleaner.output.concentrate_ag                 0\n",
       "primary_cleaner.output.concentrate_pb                 0\n",
       "primary_cleaner.output.concentrate_sol                0\n",
       "primary_cleaner.output.concentrate_au                 0\n",
       "primary_cleaner.output.tail_ag                        0\n",
       "primary_cleaner.output.tail_pb                        0\n",
       "primary_cleaner.output.tail_sol                       0\n",
       "primary_cleaner.output.tail_au                        0\n",
       "primary_cleaner.state.floatbank8_a_air                0\n",
       "primary_cleaner.state.floatbank8_a_level              0\n",
       "primary_cleaner.state.floatbank8_b_air                0\n",
       "primary_cleaner.state.floatbank8_b_level              0\n",
       "primary_cleaner.state.floatbank8_c_air                0\n",
       "primary_cleaner.state.floatbank8_c_level              0\n",
       "primary_cleaner.state.floatbank8_d_air                0\n",
       "primary_cleaner.state.floatbank8_d_level              0\n",
       "rougher.calculation.sulfate_to_au_concentrate         0\n",
       "rougher.calculation.floatbank10_sulfate_to_au_feed    0\n",
       "rougher.calculation.floatbank11_sulfate_to_au_feed    0\n",
       "rougher.calculation.au_pb_ratio                       0\n",
       "rougher.input.feed_ag                                 0\n",
       "rougher.input.feed_pb                                 0\n",
       "rougher.input.feed_rate                               0\n",
       "rougher.input.feed_size                               0\n",
       "rougher.input.feed_sol                                0\n",
       "rougher.input.feed_au                                 0\n",
       "rougher.input.floatbank10_sulfate                     0\n",
       "rougher.input.floatbank10_xanthate                    0\n",
       "rougher.input.floatbank11_sulfate                     0\n",
       "rougher.input.floatbank11_xanthate                    0\n",
       "rougher.output.concentrate_ag                         0\n",
       "rougher.output.concentrate_pb                         0\n",
       "rougher.output.concentrate_sol                        0\n",
       "rougher.output.concentrate_au                         0\n",
       "rougher.output.recovery                               0\n",
       "rougher.output.tail_ag                                0\n",
       "rougher.output.tail_pb                                0\n",
       "rougher.output.tail_sol                               0\n",
       "rougher.output.tail_au                                0\n",
       "rougher.state.floatbank10_a_air                       0\n",
       "rougher.state.floatbank10_a_level                     0\n",
       "rougher.state.floatbank10_b_air                       0\n",
       "rougher.state.floatbank10_b_level                     0\n",
       "rougher.state.floatbank10_c_air                       0\n",
       "rougher.state.floatbank10_c_level                     0\n",
       "rougher.state.floatbank10_d_air                       0\n",
       "rougher.state.floatbank10_d_level                     0\n",
       "rougher.state.floatbank10_e_air                       0\n",
       "rougher.state.floatbank10_e_level                     0\n",
       "rougher.state.floatbank10_f_air                       0\n",
       "rougher.state.floatbank10_f_level                     0\n",
       "secondary_cleaner.output.tail_ag                      0\n",
       "secondary_cleaner.output.tail_pb                      0\n",
       "secondary_cleaner.output.tail_sol                     0\n",
       "secondary_cleaner.output.tail_au                      0\n",
       "secondary_cleaner.state.floatbank2_a_air              0\n",
       "secondary_cleaner.state.floatbank2_a_level            0\n",
       "secondary_cleaner.state.floatbank2_b_air              0\n",
       "secondary_cleaner.state.floatbank2_b_level            0\n",
       "secondary_cleaner.state.floatbank3_a_air              0\n",
       "secondary_cleaner.state.floatbank3_a_level            0\n",
       "secondary_cleaner.state.floatbank3_b_air              0\n",
       "secondary_cleaner.state.floatbank3_b_level            0\n",
       "secondary_cleaner.state.floatbank4_a_air              0\n",
       "secondary_cleaner.state.floatbank4_a_level            0\n",
       "secondary_cleaner.state.floatbank4_b_air              0\n",
       "secondary_cleaner.state.floatbank4_b_level            0\n",
       "secondary_cleaner.state.floatbank5_a_air              0\n",
       "secondary_cleaner.state.floatbank5_a_level            0\n",
       "secondary_cleaner.state.floatbank5_b_air              0\n",
       "secondary_cleaner.state.floatbank5_b_level            0\n",
       "secondary_cleaner.state.floatbank6_a_air              0\n",
       "secondary_cleaner.state.floatbank6_a_level            0\n",
       "dtype: int64"
      ]
     },
     "execution_count": 21,
     "metadata": {},
     "output_type": "execute_result"
    }
   ],
   "source": [
    "#checking for missing values\n",
    "df_train.isna().sum()"
   ]
  },
  {
   "cell_type": "markdown",
   "metadata": {
    "scrolled": true
   },
   "source": [
    "Before we fill missing values, let's add the target variables to the test set."
   ]
  },
  {
   "cell_type": "code",
   "execution_count": 22,
   "metadata": {
    "scrolled": true
   },
   "outputs": [],
   "source": [
    "df_test = df_test.merge(df_full[['final.output.recovery', 'rougher.output.recovery']], how='left', left_index=True, right_index=True)"
   ]
  },
  {
   "cell_type": "code",
   "execution_count": 23,
   "metadata": {
    "scrolled": true
   },
   "outputs": [
    {
     "data": {
      "text/plain": [
       "primary_cleaner.input.sulfate                 302\n",
       "primary_cleaner.input.depressant              284\n",
       "primary_cleaner.input.feed_size                 0\n",
       "primary_cleaner.input.xanthate                166\n",
       "primary_cleaner.state.floatbank8_a_air         16\n",
       "primary_cleaner.state.floatbank8_a_level       16\n",
       "primary_cleaner.state.floatbank8_b_air         16\n",
       "primary_cleaner.state.floatbank8_b_level       16\n",
       "primary_cleaner.state.floatbank8_c_air         16\n",
       "primary_cleaner.state.floatbank8_c_level       16\n",
       "primary_cleaner.state.floatbank8_d_air         16\n",
       "primary_cleaner.state.floatbank8_d_level       16\n",
       "rougher.input.feed_ag                          16\n",
       "rougher.input.feed_pb                          16\n",
       "rougher.input.feed_rate                        40\n",
       "rougher.input.feed_size                        22\n",
       "rougher.input.feed_sol                         67\n",
       "rougher.input.feed_au                          16\n",
       "rougher.input.floatbank10_sulfate             257\n",
       "rougher.input.floatbank10_xanthate            123\n",
       "rougher.input.floatbank11_sulfate              55\n",
       "rougher.input.floatbank11_xanthate            353\n",
       "rougher.state.floatbank10_a_air                17\n",
       "rougher.state.floatbank10_a_level              16\n",
       "rougher.state.floatbank10_b_air                17\n",
       "rougher.state.floatbank10_b_level              16\n",
       "rougher.state.floatbank10_c_air                17\n",
       "rougher.state.floatbank10_c_level              16\n",
       "rougher.state.floatbank10_d_air                17\n",
       "rougher.state.floatbank10_d_level              16\n",
       "rougher.state.floatbank10_e_air                17\n",
       "rougher.state.floatbank10_e_level              16\n",
       "rougher.state.floatbank10_f_air                17\n",
       "rougher.state.floatbank10_f_level              16\n",
       "secondary_cleaner.state.floatbank2_a_air       20\n",
       "secondary_cleaner.state.floatbank2_a_level     16\n",
       "secondary_cleaner.state.floatbank2_b_air       23\n",
       "secondary_cleaner.state.floatbank2_b_level     16\n",
       "secondary_cleaner.state.floatbank3_a_air       34\n",
       "secondary_cleaner.state.floatbank3_a_level     16\n",
       "secondary_cleaner.state.floatbank3_b_air       16\n",
       "secondary_cleaner.state.floatbank3_b_level     16\n",
       "secondary_cleaner.state.floatbank4_a_air       16\n",
       "secondary_cleaner.state.floatbank4_a_level     16\n",
       "secondary_cleaner.state.floatbank4_b_air       16\n",
       "secondary_cleaner.state.floatbank4_b_level     16\n",
       "secondary_cleaner.state.floatbank5_a_air       16\n",
       "secondary_cleaner.state.floatbank5_a_level     16\n",
       "secondary_cleaner.state.floatbank5_b_air       16\n",
       "secondary_cleaner.state.floatbank5_b_level     16\n",
       "secondary_cleaner.state.floatbank6_a_air       16\n",
       "secondary_cleaner.state.floatbank6_a_level     16\n",
       "final.output.recovery                         442\n",
       "rougher.output.recovery                       546\n",
       "dtype: int64"
      ]
     },
     "execution_count": 23,
     "metadata": {},
     "output_type": "execute_result"
    }
   ],
   "source": [
    "#checking missing valeus\n",
    "df_test.isna().sum()"
   ]
  },
  {
   "cell_type": "markdown",
   "metadata": {},
   "source": [
    "Again, a small number, let's follow the same process as above"
   ]
  },
  {
   "cell_type": "code",
   "execution_count": 24,
   "metadata": {},
   "outputs": [],
   "source": [
    "#removing rows with missing targets and filling missing values\n",
    "df_test = df_test[~df_test['final.output.recovery'].isna()]\n",
    "df_test = df_test[~df_test['rougher.output.recovery'].isna()]\n",
    "df_test = df_test.fillna(method='ffill')"
   ]
  },
  {
   "cell_type": "code",
   "execution_count": 25,
   "metadata": {
    "scrolled": true
   },
   "outputs": [
    {
     "data": {
      "text/plain": [
       "primary_cleaner.input.sulfate                 0\n",
       "primary_cleaner.input.depressant              0\n",
       "primary_cleaner.input.feed_size               0\n",
       "primary_cleaner.input.xanthate                0\n",
       "primary_cleaner.state.floatbank8_a_air        0\n",
       "primary_cleaner.state.floatbank8_a_level      0\n",
       "primary_cleaner.state.floatbank8_b_air        0\n",
       "primary_cleaner.state.floatbank8_b_level      0\n",
       "primary_cleaner.state.floatbank8_c_air        0\n",
       "primary_cleaner.state.floatbank8_c_level      0\n",
       "primary_cleaner.state.floatbank8_d_air        0\n",
       "primary_cleaner.state.floatbank8_d_level      0\n",
       "rougher.input.feed_ag                         0\n",
       "rougher.input.feed_pb                         0\n",
       "rougher.input.feed_rate                       0\n",
       "rougher.input.feed_size                       0\n",
       "rougher.input.feed_sol                        0\n",
       "rougher.input.feed_au                         0\n",
       "rougher.input.floatbank10_sulfate             0\n",
       "rougher.input.floatbank10_xanthate            0\n",
       "rougher.input.floatbank11_sulfate             0\n",
       "rougher.input.floatbank11_xanthate            0\n",
       "rougher.state.floatbank10_a_air               0\n",
       "rougher.state.floatbank10_a_level             0\n",
       "rougher.state.floatbank10_b_air               0\n",
       "rougher.state.floatbank10_b_level             0\n",
       "rougher.state.floatbank10_c_air               0\n",
       "rougher.state.floatbank10_c_level             0\n",
       "rougher.state.floatbank10_d_air               0\n",
       "rougher.state.floatbank10_d_level             0\n",
       "rougher.state.floatbank10_e_air               0\n",
       "rougher.state.floatbank10_e_level             0\n",
       "rougher.state.floatbank10_f_air               0\n",
       "rougher.state.floatbank10_f_level             0\n",
       "secondary_cleaner.state.floatbank2_a_air      0\n",
       "secondary_cleaner.state.floatbank2_a_level    0\n",
       "secondary_cleaner.state.floatbank2_b_air      0\n",
       "secondary_cleaner.state.floatbank2_b_level    0\n",
       "secondary_cleaner.state.floatbank3_a_air      0\n",
       "secondary_cleaner.state.floatbank3_a_level    0\n",
       "secondary_cleaner.state.floatbank3_b_air      0\n",
       "secondary_cleaner.state.floatbank3_b_level    0\n",
       "secondary_cleaner.state.floatbank4_a_air      0\n",
       "secondary_cleaner.state.floatbank4_a_level    0\n",
       "secondary_cleaner.state.floatbank4_b_air      0\n",
       "secondary_cleaner.state.floatbank4_b_level    0\n",
       "secondary_cleaner.state.floatbank5_a_air      0\n",
       "secondary_cleaner.state.floatbank5_a_level    0\n",
       "secondary_cleaner.state.floatbank5_b_air      0\n",
       "secondary_cleaner.state.floatbank5_b_level    0\n",
       "secondary_cleaner.state.floatbank6_a_air      0\n",
       "secondary_cleaner.state.floatbank6_a_level    0\n",
       "final.output.recovery                         0\n",
       "rougher.output.recovery                       0\n",
       "dtype: int64"
      ]
     },
     "execution_count": 25,
     "metadata": {},
     "output_type": "execute_result"
    }
   ],
   "source": [
    "#checking for no missing valeus\n",
    "df_test.isna().sum()"
   ]
  },
  {
   "cell_type": "markdown",
   "metadata": {},
   "source": [
    "## Analysing the data\n"
   ]
  },
  {
   "cell_type": "markdown",
   "metadata": {},
   "source": [
    "Let's visualise  how the concentrations of metals (Au, Ag, Pb) change depending on the purification stage.\n"
   ]
  },
  {
   "cell_type": "code",
   "execution_count": 26,
   "metadata": {},
   "outputs": [
    {
     "data": {
      "image/png": "[encoded data removed]",
      "text/plain": [
       "<Figure size 1080x1080 with 4 Axes>"
      ]
     },
     "metadata": {
      "needs_background": "light"
     },
     "output_type": "display_data"
    }
   ],
   "source": [
    "#creating plot of concentration changes per stage\n",
    "fig, axs = plt.subplots(ncols=2, nrows=2)\n",
    "sns.set(style=\"whitegrid\", color_codes=True, font_scale = 2)\n",
    "fig.set_size_inches(15,15)\n",
    "axes = [axs[0,0], axs[0,1], axs[1,0], axs[1,1]]\n",
    "flierprops = dict(markerfacecolor = 'grey', markersize = 2, markeredgecolor='none')\n",
    "    \n",
    "sns.boxplot(data=[df_full['rougher.output.concentrate_au'],df_full['primary_cleaner.output.concentrate_au'], df_full['final.output.concentrate_au']], ax=axs[0,0], color='gold', flierprops = flierprops).set(title='au_concentration_per_stage', ylabel = 'concentration (percent)', xlabel = 'stage')\n",
    "sns.boxplot(data=[df_full['rougher.output.concentrate_ag'],df_full['primary_cleaner.output.concentrate_ag'], df_full['final.output.concentrate_ag']], ax=axs[0,1], color='silver', flierprops = flierprops).set(title='ag_concentration_per_stage', ylabel = 'concentration (percent)', xlabel = 'stage')\n",
    "sns.boxplot(data=[df_full['rougher.output.concentrate_pb'],df_full['primary_cleaner.output.concentrate_pb'], df_full['final.output.concentrate_pb']], ax=axs[1,0], color='purple', flierprops = flierprops).set(title='pb_concentration_per_stage', ylabel = 'concentration (percent)', xlabel = 'stage')\n",
    "sns.boxplot(data=[df_full['rougher.output.concentrate_sol'],df_full['primary_cleaner.output.concentrate_sol'], df_full['final.output.concentrate_sol']], ax=axs[1,1], color='green', flierprops = flierprops).set(title='sol_concentration_per_stage', ylabel = 'concentration (percent)', xlabel = 'stage')\n",
    "\n",
    "for ax in axes:\n",
    "    ax.set_xticklabels(['rougher.output','primary.output','final.output'], fontsize = 10)\n",
    "    ax.set_ylim(0,60)\n",
    "    ax.xaxis.get_label().set_fontsize(15)\n",
    "    ax.yaxis.get_label().set_fontsize(15)\n",
    "    ax.title.set_fontsize(15)"
   ]
  },
  {
   "cell_type": "markdown",
   "metadata": {},
   "source": [
    "We can see that concentration steadily increases through the stages, silver steadily decreases whilst lead concentration increases slightly from rougher.output to primary.output then stays approximately the same in the final.output"
   ]
  },
  {
   "cell_type": "markdown",
   "metadata": {},
   "source": [
    "Let's compare the feed particle size distributions in the training set and in the test set. If the distributions vary significantly, the model evaluation will be incorrect."
   ]
  },
  {
   "cell_type": "code",
   "execution_count": 27,
   "metadata": {},
   "outputs": [
    {
     "data": {
      "image/png": "[encoded data removed]",
      "text/plain": [
       "<Figure size 1080x1080 with 4 Axes>"
      ]
     },
     "metadata": {},
     "output_type": "display_data"
    }
   ],
   "source": [
    "#plotting distributions\n",
    "fig, axs = plt.subplots(ncols=2, nrows=2)\n",
    "sns.set(style=\"whitegrid\", color_codes=True, font_scale = 1)\n",
    "fig.set_size_inches(15,15)\n",
    "axes = [axs[0,0], axs[0,1], axs[1,0], axs[1,1]]\n",
    "flierprops = dict(markerfacecolor = 'grey', markersize = 2, markeredgecolor='none')\n",
    "    \n",
    "sns.histplot(data=df_train['rougher.input.feed_size'], ax=axs[0,0]).set(title='train_set_rougher.input.feed_size',  xlabel = 'size')\n",
    "axs[0,0].set_ylim(0,1000)\n",
    "axs[0,0].set_xlim(0,300)\n",
    "sns.histplot(data=df_test['rougher.input.feed_size'], ax=axs[0,1]).set(title='test_set_rougher.input.feed_size',  xlabel = 'size')\n",
    "axs[0,1].set_ylim(0,1000)\n",
    "axs[0,1].set_xlim(0,300)\n",
    "sns.histplot(data=df_train['primary_cleaner.input.feed_size'], ax=axs[1,0]).set(title='train_set_primary_cleaner.input.feed_size',  xlabel = 'size')\n",
    "axs[1,0].set_xlim(0,10)\n",
    "axs[1,0].set_ylim(0,1000)\n",
    "sns.histplot(data=df_test['primary_cleaner.input.feed_size'], ax=axs[1,1]).set(title='test_set_primary_cleaner.input.feed_size',  xlabel = 'size')\n",
    "axs[1,1].set_xlim(0,10)\n",
    "axs[1,1].set_ylim(0,1000)\n",
    "\n",
    "#sns.boxplot(data=[df_train['primary_cleaner.input.feed_size'],df_test['primary_cleaner.input.feed_size']], ax=axs[1], flierprops = flierprops).set(title='primary_cleaner.input.feed_size', ylabel = 'size', xlabel = 'set')\n",
    "#axs[1].set_ylim(0,10)\n",
    "#sns.boxplot(data=[df_train['rougher.output.concentrate_ag'],df_train['primary_cleaner.output.concentrate_ag'], df_train['final.output.concentrate_ag']], ax=axs[0,1], color='silver', flierprops = flierprops).set(title='ag_concentration_per_stage')\n",
    "\n",
    "for ax in axes:\n",
    "    #ax.set_xticklabels(['train', 'test',], fontsize = 10)\n",
    "    \n",
    "    ax.xaxis.get_label().set_fontsize(15)\n",
    "    ax.yaxis.get_label().set_fontsize(15)\n",
    "    ax.title.set_fontsize(15)"
   ]
  },
  {
   "cell_type": "markdown",
   "metadata": {},
   "source": [
    "The rougher.input.feed_size distributions appear to vary more then the primary_cleaner.input.feed_size.\n",
    "In order to caculate if they are significantly different, we can perform an independent t-test for two samples. \n",
    "We can do this as the data ppears to be normally distributed, we will however have to first remove some of the extreme outliers, namely those more than 3 standard deviations from the mean.\n"
   ]
  },
  {
   "cell_type": "code",
   "execution_count": 28,
   "metadata": {},
   "outputs": [],
   "source": [
    "#defining function to remove outliers\n",
    "def remove_outliers(data):\n",
    "    data_mean, data_std = np.mean(data), np.std(data)\n",
    "    cut_off = data_std * 3\n",
    "    lower, upper = data_mean - cut_off, data_mean + cut_off\n",
    "    outliers_removed = [x for x in data if x > lower and x < upper]\n",
    "    return pd.Series(outliers_removed)"
   ]
  },
  {
   "cell_type": "code",
   "execution_count": 29,
   "metadata": {},
   "outputs": [
    {
     "name": "stdout",
     "output_type": "stream",
     "text": [
      "rougher.input.feed_size \n",
      "    \n",
      "Train set mean: 58.60, Test set mean: 54.84\n",
      "Train set variance: 192.19, Test set variance: 190.55\n",
      "\n",
      "    H0: μ1 = μ2 (the two population means are equal)\n",
      "    H1: μ1 != μ2 (the two population means are not equal)\n",
      "    \n",
      "Testing at a 0.05 significance level\n",
      "p-value:  8.937746182764508e-63\n",
      "Reject null hypothesis: the two population means are not equal\n",
      "\n",
      "        ------------------------------\n",
      "primary_cleaner.input.feed_size \n",
      "    \n",
      "Train set mean: 7.32, Test set mean: 7.25\n",
      "Train set variance: 0.34, Test set variance: 0.32\n",
      "\n",
      "    H0: μ1 = μ2 (the two population means are equal)\n",
      "    H1: μ1 != μ2 (the two population means are not equal)\n",
      "    \n",
      "Testing at a 0.05 significance level\n",
      "p-value:  1.493959184483575e-16\n",
      "Reject null hypothesis: the two population means are not equal\n",
      "\n",
      "        ------------------------------\n"
     ]
    }
   ],
   "source": [
    "# removing outliers, checking means and performing the ttest\n",
    "feed_sizes = ['rougher.input.feed_size', 'primary_cleaner.input.feed_size']\n",
    "for f in feed_sizes:\n",
    "    data_train = remove_outliers(df_train[f])\n",
    "    data_test = remove_outliers(df_test[f])\n",
    "    \n",
    "    print(f,\"\"\"\n",
    "    \"\"\")\n",
    "    print(f'Train set mean: {data_train.mean():.2f}, Test set mean: {data_test.mean():.2f}')\n",
    "    print(f'Train set variance: {statistics.variance(data_train.dropna()):.2f}, Test set variance: {statistics.variance(data_test.dropna()):.2f}')\n",
    "\n",
    "    \n",
    "    alpha = 0.05\n",
    "    \n",
    "    print(\"\"\"\n",
    "    H0: μ1 = μ2 (the two population means are equal)\n",
    "    H1: μ1 != μ2 (the two population means are not equal)\n",
    "    \"\"\")\n",
    "    print(f'Testing at a {alpha} significance level')\n",
    "    \n",
    "    pvalue = st.ttest_ind(data_train, data_test, nan_policy = 'omit', equal_var = True).pvalue\n",
    "\n",
    "    print('p-value: ', pvalue)\n",
    "\n",
    "    if pvalue < alpha:\n",
    "        print(\n",
    "            \"Reject null hypothesis: the two population means are not equal\"\n",
    "        )\n",
    "    else:\n",
    "        print(\n",
    "            \"Failed to reject null hypothesis: the two population means are equal\"\n",
    "        )\n",
    "\n",
    "    print(\"\"\"\n",
    "        ------------------------------\"\"\")   "
   ]
  },
  {
   "cell_type": "markdown",
   "metadata": {},
   "source": [
    "The distributions in the test and train set differ. In order to make sure our model is valid, we can remove these columns."
   ]
  },
  {
   "cell_type": "code",
   "execution_count": 30,
   "metadata": {},
   "outputs": [],
   "source": [
    "#dropping feed sizes\n",
    "df_train.drop(['rougher.input.feed_size', 'primary_cleaner.input.feed_size'], axis = 1, inplace = True)\n",
    "df_test.drop(['rougher.input.feed_size', 'primary_cleaner.input.feed_size'], axis = 1, inplace = True)\n",
    "df_full.drop(['rougher.input.feed_size', 'primary_cleaner.input.feed_size'], axis = 1, inplace = True)"
   ]
  },
  {
   "cell_type": "markdown",
   "metadata": {},
   "source": [
    "Lets consider the total concentrations of all substances at different stages: raw feed, rougher concentrate, and final concentrate. We'll check for any outliers and remove them if necessary."
   ]
  },
  {
   "cell_type": "code",
   "execution_count": 31,
   "metadata": {},
   "outputs": [
    {
     "name": "stdout",
     "output_type": "stream",
     "text": [
      "['final.output.concentrate_ag', 'final.output.concentrate_pb', 'final.output.concentrate_sol', 'final.output.concentrate_au', 'primary_cleaner.output.concentrate_ag', 'primary_cleaner.output.concentrate_pb', 'primary_cleaner.output.concentrate_sol', 'primary_cleaner.output.concentrate_au', 'rougher.calculation.sulfate_to_au_concentrate', 'rougher.output.concentrate_ag', 'rougher.output.concentrate_pb', 'rougher.output.concentrate_sol', 'rougher.output.concentrate_au']\n"
     ]
    }
   ],
   "source": [
    "#getting a list of all features concerning concentrations\n",
    "concentrations =[x for x in df_train.columns if 'concentrate' in x]  \n",
    "print (concentrations)"
   ]
  },
  {
   "cell_type": "code",
   "execution_count": 32,
   "metadata": {},
   "outputs": [],
   "source": [
    "#function to check the percent of outliers.\n",
    "def check_for_outliers(df, cols, sigmas=3):\n",
    "    for col in cols:\n",
    "        data = df[col].dropna()\n",
    "        data_mean, data_std = np.mean(data), np.std(data)\n",
    "        cut_off = data_std * sigmas\n",
    "        lower, upper = data_mean - cut_off, data_mean + cut_off\n",
    "        outliers = [x for x in data if (x < lower) or (x > upper)]\n",
    "        percent_outliers = (len(outliers)/len(data))*100\n",
    "        print(f'{col}, outliers: {percent_outliers:.2f}%')\n",
    "        \n"
   ]
  },
  {
   "cell_type": "code",
   "execution_count": 33,
   "metadata": {},
   "outputs": [
    {
     "name": "stdout",
     "output_type": "stream",
     "text": [
      "final.output.concentrate_ag, outliers: 3.20%\n",
      "final.output.concentrate_pb, outliers: 2.82%\n",
      "final.output.concentrate_sol, outliers: 2.45%\n",
      "final.output.concentrate_au, outliers: 3.09%\n",
      "primary_cleaner.output.concentrate_ag, outliers: 3.42%\n",
      "primary_cleaner.output.concentrate_pb, outliers: 3.31%\n",
      "primary_cleaner.output.concentrate_sol, outliers: 0.00%\n",
      "primary_cleaner.output.concentrate_au, outliers: 3.72%\n",
      "rougher.calculation.sulfate_to_au_concentrate, outliers: 0.50%\n",
      "rougher.output.concentrate_ag, outliers: 4.02%\n",
      "rougher.output.concentrate_pb, outliers: 4.00%\n",
      "rougher.output.concentrate_sol, outliers: 4.14%\n",
      "rougher.output.concentrate_au, outliers: 4.08%\n"
     ]
    }
   ],
   "source": [
    "check_for_outliers(df_full, concentrations, 3)"
   ]
  },
  {
   "cell_type": "markdown",
   "metadata": {},
   "source": [
    "There is a small percentage of extreme outliers, we can drop these without issue."
   ]
  },
  {
   "cell_type": "code",
   "execution_count": 34,
   "metadata": {},
   "outputs": [],
   "source": [
    "def drop_outliers(df, cols, sigmas=3):\n",
    "    outliers_dropped = 0\n",
    "    for col in cols:\n",
    "        data = df[col].dropna()\n",
    "        data_mean, data_std = np.mean(data), np.std(data)\n",
    "        cut_off = data_std * sigmas\n",
    "        lower, upper = data_mean - cut_off, data_mean + cut_off\n",
    "        to_drop = df.loc[(df[col]<lower) | (df[col]>upper)]\n",
    "        o = len(to_drop)\n",
    "        df.drop(to_drop.index, inplace = True)\n",
    "        \n",
    "        outliers_dropped += o\n",
    "    print(f'outliers dropped: {outliers_dropped}')\n",
    "    return df\n",
    "        \n",
    "    "
   ]
  },
  {
   "cell_type": "code",
   "execution_count": null,
   "metadata": {},
   "outputs": [],
   "source": []
  },
  {
   "cell_type": "code",
   "execution_count": 35,
   "metadata": {},
   "outputs": [
    {
     "name": "stdout",
     "output_type": "stream",
     "text": [
      "outliers dropped: 2883\n"
     ]
    }
   ],
   "source": [
    "#dropping rows with outliers\n",
    "df_full = drop_outliers(df_full, concentrations, 3)\n",
    "df_train = df_train[df_train.index.isin(df_full.index.tolist())]\n",
    "df_test = df_test[df_test.index.isin(df_full.index.tolist())]"
   ]
  },
  {
   "cell_type": "markdown",
   "metadata": {},
   "source": [
    "## Building the model\n",
    "We'll train  number different models and evaluate them using cross-validation. \n",
    "To evaluate our model, we'll use the symmetric Mean Absolute Percentage Error and our final metric will be a weigted sMAPE.\n",
    "\n",
    "We'll use these formulas for our evaluation metrics:\n",
    "\n",
    "$sMAPE= \\frac{1}{N} \\sum_{i=1}^{N} \\frac {|y_i-\\hat{y_i}|}{(|y_i|+|\\hat{y_i}|)/2} \\times 100\\% $\n",
    "\n",
    "$Final\\hspace{0.2cm}sMAPE = 25\\% \\times sMAPE(rougher) + 75\\% \\times sMAPE(final)$\n",
    "\n",
    "We'll create a custom scorer in SKLearn in order to evaluate our models.\n",
    "\n",
    "### Writing a function to calculate the final sMAPE value."
   ]
  },
  {
   "cell_type": "code",
   "execution_count": 36,
   "metadata": {},
   "outputs": [],
   "source": [
    "def smape(y_true, y_pred):\n",
    "    fraction = np.divide(np.abs(y_true - y_pred), (np.abs(y_true)+np.abs(y_pred))/2)\n",
    "    return np.average(fraction, axis=0)"
   ]
  },
  {
   "cell_type": "code",
   "execution_count": 37,
   "metadata": {},
   "outputs": [],
   "source": [
    "def smape_final(y_true,y_pred):\n",
    "    \n",
    "    smape_out_rougher = smape(y_true[target.index('rougher.output.recovery')], y_pred[target.index('rougher.output.recovery')])\n",
    "    \n",
    "    smape_out_final = smape(y_true[target.index('final.output.recovery')], y_pred[target.index('final.output.recovery')])\n",
    "    \n",
    "    return 0.25*smape_out_rougher + 0.75*smape_out_final"
   ]
  },
  {
   "cell_type": "markdown",
   "metadata": {},
   "source": [
    "In order to use our metric in grid search, we will set greater_is_better = False, this will actually output sMAPE*-1, so when displaying results we will take the absolute value."
   ]
  },
  {
   "cell_type": "code",
   "execution_count": 38,
   "metadata": {},
   "outputs": [],
   "source": [
    "smape_score = make_scorer(smape_final, greater_is_better = False)"
   ]
  },
  {
   "cell_type": "code",
   "execution_count": 39,
   "metadata": {
    "scrolled": true
   },
   "outputs": [],
   "source": [
    "#setting targets and features\n",
    "target = ['rougher.output.recovery', 'final.output.recovery']\n",
    "features = df_test[df_test.columns.difference(target)].columns.tolist()"
   ]
  },
  {
   "cell_type": "code",
   "execution_count": null,
   "metadata": {},
   "outputs": [],
   "source": []
  },
  {
   "cell_type": "code",
   "execution_count": 40,
   "metadata": {},
   "outputs": [],
   "source": [
    "#defining train and test splits\n",
    "X_train, X_test = df_train[features].values, df_test[features].values\n",
    "y_train, y_test = df_train[target].values, df_test[target].values"
   ]
  },
  {
   "cell_type": "code",
   "execution_count": 41,
   "metadata": {},
   "outputs": [
    {
     "name": "stdout",
     "output_type": "stream",
     "text": [
      "mean train cv smape: 0.06570762482231438\n",
      "cv scores : [0.029481593370556093, 0.07938284662897081, 0.1278062146621214, 0.05491213682195105, 0.03695533262797251]\n",
      "\n",
      "\n",
      "mean test cv smape: 0.03564477984629483\n",
      "cv scores : [0.05141286894170725, 0.027666374154077876, 0.052071189322376754, 0.016005270620643712, 0.03106819619266854]\n",
      "\n",
      "\n"
     ]
    }
   ],
   "source": [
    "# testing linear regression\n",
    "lr = LinearRegression().fit(X_train, y_train)\n",
    "scores_lr = cross_val_score(lr, X_train, y_train, cv=5, scoring=smape_score)\n",
    "print(\"mean train cv smape:\", abs(scores_lr.mean()))\n",
    "print('cv scores :', [abs(x) for x in scores_lr])\n",
    "print(\"\"\"\n",
    "\"\"\")\n",
    "#test set\n",
    "scores_lr_test = cross_val_score(lr, X_test, y_test, cv=5, scoring=smape_score)\n",
    "print(\"mean test cv smape:\", abs(scores_lr_test.mean()))\n",
    "print('cv scores :',[abs(x) for x in scores_lr_test])\n",
    "print(\"\"\"\n",
    "\"\"\")"
   ]
  },
  {
   "cell_type": "code",
   "execution_count": 42,
   "metadata": {},
   "outputs": [
    {
     "name": "stdout",
     "output_type": "stream",
     "text": [
      "mean train cv smape: 0.07947826842350708\n",
      "cv scores : [0.21756281637424604, 0.09299667030119259, 0.013160044356267206, 0.05560196192079378, 0.018069849165035814]\n",
      "\n",
      "\n",
      "mean test cv smape: 0.03617970664010537\n",
      "cv scores : [0.00899607410866105, 0.010798963048368086, 0.01908944491891578, 0.08435818412155294, 0.05765586700302899]\n",
      "\n",
      "\n"
     ]
    }
   ],
   "source": [
    "#testing decision tree regressor \n",
    "\n",
    "#defining parameters for grid search\n",
    "params = {'min_samples_split': [2,5,10], 'max_depth': range(5,15,1), 'max_features': ['auto','sqrt']}\n",
    "g_cv = GridSearchCV(DecisionTreeRegressor(random_state=1),param_grid=params,scoring=smape_score, cv=5, refit=True)\n",
    "g_cv.fit(X_train, y_train)\n",
    "best_params = g_cv.best_params_\n",
    "\n",
    "#testing with best params\n",
    "dtr = DecisionTreeRegressor(**best_params).fit(X_train, y_train)\n",
    "scores_dtr = cross_val_score(dtr, X_train, y_train, cv=5, scoring=smape_score)\n",
    "print(\"mean train cv smape:\", abs(scores_dtr.mean()))\n",
    "print('cv scores :', [abs(x) for x in scores_dtr])\n",
    "print(\"\"\"\n",
    "\"\"\")\n",
    "#test set\n",
    "scores_dtr_test = cross_val_score(dtr, X_test, y_test, cv=5, scoring=smape_score)\n",
    "print(\"mean test cv smape:\", abs(scores_dtr_test.mean()))\n",
    "print('cv scores :',[abs(x) for x in scores_dtr_test])\n",
    "print(\"\"\"\n",
    "\"\"\")"
   ]
  },
  {
   "cell_type": "code",
   "execution_count": 43,
   "metadata": {},
   "outputs": [
    {
     "name": "stdout",
     "output_type": "stream",
     "text": [
      "mean train cv smape: 0.04909032212525154\n",
      "cv scores : [0.12306595367983154, 0.07044334221787542, 0.02311415486638943, 0.01853482909732361, 0.01029333076483767]\n",
      "\n",
      "\n",
      "mean test cv smape: 0.03592557482520854\n",
      "cv scores : [0.033486516530981, 0.00488951945784615, 0.03749801266467983, 0.04822190990920911, 0.05553191556332662]\n",
      "\n",
      "\n"
     ]
    }
   ],
   "source": [
    "#testing random forest regressor \n",
    "\n",
    "#defining parameters for grid search\n",
    "params = {'min_samples_split': [2,5,10], 'max_depth': range(5,15,1)}\n",
    "rf_cv = GridSearchCV(RandomForestRegressor(random_state=1),param_grid=params,scoring=smape_score, cv=5, refit=True)\n",
    "rf_cv.fit(X_train, y_train)\n",
    "best_params = rf_cv.best_params_\n",
    "\n",
    "#testing with best params\n",
    "rfr = RandomForestRegressor(**best_params).fit(X_train, y_train)\n",
    "scores_rfr = cross_val_score(rfr, X_train, y_train, cv=5, scoring=smape_score)\n",
    "print(\"mean train cv smape:\", abs(scores_rfr.mean()))\n",
    "print('cv scores :', [abs(x) for x in scores_rfr])\n",
    "print(\"\"\"\n",
    "\"\"\")\n",
    "#test set\n",
    "scores_rfr_test = cross_val_score(rfr, X_test, y_test, cv=5, scoring=smape_score)\n",
    "print(\"mean test cv smape:\", abs(scores_rfr_test.mean()))\n",
    "print('cv scores :',[abs(x) for x in scores_rfr_test])\n",
    "print(\"\"\"\n",
    "\"\"\")"
   ]
  },
  {
   "cell_type": "code",
   "execution_count": null,
   "metadata": {},
   "outputs": [],
   "source": []
  },
  {
   "cell_type": "markdown",
   "metadata": {},
   "source": [
    "## Conclusion\n",
    "\n",
    "In this project we:\n",
    "- Processed our data\n",
    "     - removing missing, erroneous and outlier values, adding recovery predictions through calculations\n",
    "- Analysed our data\n",
    "    - inspected concentrations throughout the process, statistically analysed the features in the train and test set\n",
    "- Built out model\n",
    "    - creating a custom sMAPE function to measure performance, compared different model and hyperparameter performances\n",
    "\n",
    "\n",
    "This resulted in our final model, the RandomForestRegressor, which had a mean cv score of 0.049 on our train set and 0.036 on our test set.\n"
   ]
  },
  {
   "cell_type": "code",
   "execution_count": null,
   "metadata": {},
   "outputs": [],
   "source": []
  }
 ],
 "metadata": {
  "ExecuteTimeLog": [
   {
    "duration": 5,
    "start_time": "2022-05-30T08:52:11.316Z"
   },
   {
    "duration": 3,
    "start_time": "2022-05-30T08:52:11.521Z"
   },
   {
    "duration": 140,
    "start_time": "2022-05-30T08:52:32.281Z"
   },
   {
    "duration": 516,
    "start_time": "2022-05-30T08:52:48.500Z"
   },
   {
    "duration": 1034,
    "start_time": "2022-05-30T08:52:58.558Z"
   },
   {
    "duration": 3,
    "start_time": "2022-05-30T08:53:42.898Z"
   },
   {
    "duration": 321,
    "start_time": "2022-05-30T08:53:55.201Z"
   },
   {
    "duration": 3,
    "start_time": "2022-05-30T08:54:47.706Z"
   },
   {
    "duration": 364,
    "start_time": "2022-05-30T08:54:47.898Z"
   },
   {
    "duration": 175,
    "start_time": "2022-05-30T08:55:24.886Z"
   },
   {
    "duration": 362,
    "start_time": "2022-05-30T08:55:45.401Z"
   },
   {
    "duration": 4,
    "start_time": "2022-05-30T08:56:35.704Z"
   },
   {
    "duration": 92,
    "start_time": "2022-05-30T09:08:39.972Z"
   },
   {
    "duration": 3,
    "start_time": "2022-05-30T09:08:45.258Z"
   },
   {
    "duration": 91,
    "start_time": "2022-05-30T09:08:46.207Z"
   },
   {
    "duration": 89,
    "start_time": "2022-05-30T09:10:37.319Z"
   },
   {
    "duration": 358,
    "start_time": "2022-05-30T09:11:20.149Z"
   },
   {
    "duration": 178,
    "start_time": "2022-05-30T09:11:24.311Z"
   },
   {
    "duration": 10,
    "start_time": "2022-05-30T09:12:20.013Z"
   },
   {
    "duration": 6,
    "start_time": "2022-05-30T09:12:37.290Z"
   },
   {
    "duration": 555,
    "start_time": "2022-05-30T09:13:13.077Z"
   },
   {
    "duration": 98,
    "start_time": "2022-05-30T09:15:09.838Z"
   },
   {
    "duration": 38,
    "start_time": "2022-05-30T09:16:10.104Z"
   },
   {
    "duration": 51,
    "start_time": "2022-05-30T09:16:36.525Z"
   },
   {
    "duration": 4,
    "start_time": "2022-05-30T09:16:48.719Z"
   },
   {
    "duration": 296,
    "start_time": "2022-05-30T09:16:54.784Z"
   },
   {
    "duration": 9,
    "start_time": "2022-05-30T09:17:13.477Z"
   },
   {
    "duration": 6,
    "start_time": "2022-05-30T09:19:10.641Z"
   },
   {
    "duration": 9,
    "start_time": "2022-05-30T09:21:53.841Z"
   },
   {
    "duration": 532,
    "start_time": "2022-05-30T10:10:37.766Z"
   },
   {
    "duration": 273,
    "start_time": "2022-05-30T10:10:40.937Z"
   },
   {
    "duration": 10,
    "start_time": "2022-05-30T10:10:41.212Z"
   },
   {
    "duration": 15,
    "start_time": "2022-05-30T10:11:51.381Z"
   },
   {
    "duration": 473,
    "start_time": "2022-05-30T10:11:56.338Z"
   },
   {
    "duration": 24,
    "start_time": "2022-05-30T10:12:04.984Z"
   },
   {
    "duration": 27,
    "start_time": "2022-05-30T10:12:15.780Z"
   },
   {
    "duration": 359,
    "start_time": "2022-05-30T10:12:39.619Z"
   },
   {
    "duration": 336,
    "start_time": "2022-05-30T10:13:32.362Z"
   },
   {
    "duration": 22,
    "start_time": "2022-05-30T10:13:46.075Z"
   },
   {
    "duration": 4,
    "start_time": "2022-05-30T10:17:33.055Z"
   },
   {
    "duration": 6,
    "start_time": "2022-05-30T10:17:33.406Z"
   },
   {
    "duration": 284,
    "start_time": "2022-05-30T10:17:34.127Z"
   },
   {
    "duration": 9,
    "start_time": "2022-05-30T10:17:34.815Z"
   },
   {
    "duration": 10,
    "start_time": "2022-05-30T10:17:37.235Z"
   },
   {
    "duration": 22,
    "start_time": "2022-05-30T10:17:39.230Z"
   },
   {
    "duration": 25,
    "start_time": "2022-05-30T10:17:52.921Z"
   },
   {
    "duration": 28,
    "start_time": "2022-05-30T10:18:30.896Z"
   },
   {
    "duration": 8,
    "start_time": "2022-05-30T10:19:04.956Z"
   },
   {
    "duration": 26,
    "start_time": "2022-05-30T10:20:26.977Z"
   },
   {
    "duration": 24,
    "start_time": "2022-05-30T10:20:36.861Z"
   },
   {
    "duration": 10,
    "start_time": "2022-05-30T10:21:04.870Z"
   },
   {
    "duration": 83,
    "start_time": "2022-05-30T10:21:13.262Z"
   },
   {
    "duration": 32,
    "start_time": "2022-05-30T10:28:11.230Z"
   },
   {
    "duration": 23,
    "start_time": "2022-05-30T10:28:55.880Z"
   },
   {
    "duration": 37,
    "start_time": "2022-05-30T10:29:04.441Z"
   },
   {
    "duration": 20,
    "start_time": "2022-05-30T10:29:08.911Z"
   },
   {
    "duration": 17,
    "start_time": "2022-05-30T10:29:15.967Z"
   },
   {
    "duration": 5,
    "start_time": "2022-05-30T10:29:25.072Z"
   },
   {
    "duration": 6,
    "start_time": "2022-05-30T10:29:25.079Z"
   },
   {
    "duration": 784,
    "start_time": "2022-05-30T10:29:25.087Z"
   },
   {
    "duration": 3,
    "start_time": "2022-05-30T10:29:25.874Z"
   },
   {
    "duration": 365,
    "start_time": "2022-05-30T10:29:25.878Z"
   },
   {
    "duration": 205,
    "start_time": "2022-05-30T10:29:26.244Z"
   },
   {
    "duration": 373,
    "start_time": "2022-05-30T10:29:26.450Z"
   },
   {
    "duration": 3,
    "start_time": "2022-05-30T10:29:26.825Z"
   },
   {
    "duration": 31,
    "start_time": "2022-05-30T10:29:26.830Z"
   },
   {
    "duration": 280,
    "start_time": "2022-05-30T10:29:26.863Z"
   },
   {
    "duration": 9,
    "start_time": "2022-05-30T10:29:27.145Z"
   },
   {
    "duration": 30,
    "start_time": "2022-05-30T10:29:27.155Z"
   },
   {
    "duration": 47,
    "start_time": "2022-05-30T10:29:28.915Z"
   },
   {
    "duration": 32,
    "start_time": "2022-05-30T10:30:48.579Z"
   },
   {
    "duration": 13,
    "start_time": "2022-05-30T10:30:56.929Z"
   },
   {
    "duration": 9,
    "start_time": "2022-05-30T10:31:34.206Z"
   },
   {
    "duration": 10,
    "start_time": "2022-05-30T10:31:52.776Z"
   },
   {
    "duration": 11,
    "start_time": "2022-05-30T10:31:53.071Z"
   },
   {
    "duration": 5,
    "start_time": "2022-05-30T10:33:11.805Z"
   },
   {
    "duration": 7,
    "start_time": "2022-05-30T10:34:26.822Z"
   },
   {
    "duration": 6,
    "start_time": "2022-05-30T11:59:39.902Z"
   },
   {
    "duration": 7,
    "start_time": "2022-05-30T12:14:13.129Z"
   },
   {
    "duration": 12,
    "start_time": "2022-05-30T12:14:18.870Z"
   },
   {
    "duration": 9,
    "start_time": "2022-05-30T12:14:54.442Z"
   },
   {
    "duration": 464,
    "start_time": "2022-05-30T12:18:55.603Z"
   },
   {
    "duration": 111,
    "start_time": "2022-05-30T12:19:52.614Z"
   },
   {
    "duration": 141,
    "start_time": "2022-05-30T12:21:44.375Z"
   },
   {
    "duration": 631,
    "start_time": "2022-05-30T12:26:51.768Z"
   },
   {
    "duration": 4,
    "start_time": "2022-05-30T12:27:11.458Z"
   },
   {
    "duration": 1981,
    "start_time": "2022-05-30T12:27:17.527Z"
   },
   {
    "duration": 448,
    "start_time": "2022-05-30T12:30:54.096Z"
   },
   {
    "duration": 21,
    "start_time": "2022-05-30T12:36:32.220Z"
   },
   {
    "duration": 35,
    "start_time": "2022-05-30T12:37:04.574Z"
   },
   {
    "duration": 41,
    "start_time": "2022-05-30T12:37:08.071Z"
   },
   {
    "duration": 5,
    "start_time": "2022-05-30T12:37:19.256Z"
   },
   {
    "duration": 1622,
    "start_time": "2022-05-30T12:38:26.002Z"
   },
   {
    "duration": 12,
    "start_time": "2022-05-30T12:38:27.629Z"
   },
   {
    "duration": 1012,
    "start_time": "2022-05-30T12:38:27.644Z"
   },
   {
    "duration": 5,
    "start_time": "2022-05-30T12:38:28.658Z"
   },
   {
    "duration": 435,
    "start_time": "2022-05-30T12:38:28.666Z"
   },
   {
    "duration": 222,
    "start_time": "2022-05-30T12:38:29.104Z"
   },
   {
    "duration": 431,
    "start_time": "2022-05-30T12:38:29.328Z"
   },
   {
    "duration": 4,
    "start_time": "2022-05-30T12:38:29.761Z"
   },
   {
    "duration": 14,
    "start_time": "2022-05-30T12:38:29.767Z"
   },
   {
    "duration": 351,
    "start_time": "2022-05-30T12:38:29.783Z"
   },
   {
    "duration": 11,
    "start_time": "2022-05-30T12:38:30.136Z"
   },
   {
    "duration": 13,
    "start_time": "2022-05-30T12:38:30.148Z"
   },
   {
    "duration": 106,
    "start_time": "2022-05-30T12:38:30.164Z"
   },
   {
    "duration": 171,
    "start_time": "2022-05-30T12:38:30.273Z"
   },
   {
    "duration": 0,
    "start_time": "2022-05-30T12:38:30.446Z"
   },
   {
    "duration": 0,
    "start_time": "2022-05-30T12:38:30.447Z"
   },
   {
    "duration": 0,
    "start_time": "2022-05-30T12:38:30.449Z"
   },
   {
    "duration": 0,
    "start_time": "2022-05-30T12:38:30.450Z"
   },
   {
    "duration": 0,
    "start_time": "2022-05-30T12:38:30.451Z"
   },
   {
    "duration": 0,
    "start_time": "2022-05-30T12:38:30.452Z"
   },
   {
    "duration": 0,
    "start_time": "2022-05-30T12:38:30.453Z"
   },
   {
    "duration": 0,
    "start_time": "2022-05-30T12:38:30.454Z"
   },
   {
    "duration": 0,
    "start_time": "2022-05-30T12:38:30.455Z"
   },
   {
    "duration": 0,
    "start_time": "2022-05-30T12:38:30.456Z"
   },
   {
    "duration": 0,
    "start_time": "2022-05-30T12:38:30.457Z"
   },
   {
    "duration": 0,
    "start_time": "2022-05-30T12:38:30.458Z"
   },
   {
    "duration": 1608,
    "start_time": "2022-05-31T13:55:10.811Z"
   },
   {
    "duration": 3,
    "start_time": "2022-05-31T13:55:12.421Z"
   },
   {
    "duration": 3934,
    "start_time": "2022-05-31T13:55:12.426Z"
   },
   {
    "duration": 4,
    "start_time": "2022-05-31T13:55:16.362Z"
   },
   {
    "duration": 331,
    "start_time": "2022-05-31T13:55:16.368Z"
   },
   {
    "duration": 174,
    "start_time": "2022-05-31T13:55:16.700Z"
   },
   {
    "duration": 342,
    "start_time": "2022-05-31T13:55:16.875Z"
   },
   {
    "duration": 10,
    "start_time": "2022-05-31T13:55:17.218Z"
   },
   {
    "duration": 9,
    "start_time": "2022-05-31T13:55:17.230Z"
   },
   {
    "duration": 283,
    "start_time": "2022-05-31T13:55:17.241Z"
   },
   {
    "duration": 9,
    "start_time": "2022-05-31T13:55:17.525Z"
   },
   {
    "duration": 7,
    "start_time": "2022-05-31T13:55:17.536Z"
   },
   {
    "duration": 61,
    "start_time": "2022-05-31T13:55:17.544Z"
   },
   {
    "duration": 3,
    "start_time": "2022-05-31T13:55:17.608Z"
   },
   {
    "duration": 0,
    "start_time": "2022-05-31T13:55:17.612Z"
   },
   {
    "duration": 0,
    "start_time": "2022-05-31T13:55:17.626Z"
   },
   {
    "duration": 0,
    "start_time": "2022-05-31T13:55:17.627Z"
   },
   {
    "duration": 0,
    "start_time": "2022-05-31T13:55:17.628Z"
   },
   {
    "duration": 0,
    "start_time": "2022-05-31T13:55:17.629Z"
   },
   {
    "duration": 0,
    "start_time": "2022-05-31T13:55:17.630Z"
   },
   {
    "duration": 0,
    "start_time": "2022-05-31T13:55:17.631Z"
   },
   {
    "duration": 0,
    "start_time": "2022-05-31T13:55:17.632Z"
   },
   {
    "duration": 0,
    "start_time": "2022-05-31T13:55:17.632Z"
   },
   {
    "duration": 0,
    "start_time": "2022-05-31T13:55:17.633Z"
   },
   {
    "duration": 0,
    "start_time": "2022-05-31T13:55:17.634Z"
   },
   {
    "duration": 0,
    "start_time": "2022-05-31T13:55:17.635Z"
   },
   {
    "duration": 21,
    "start_time": "2022-05-31T13:57:20.432Z"
   },
   {
    "duration": 17,
    "start_time": "2022-05-31T13:57:26.578Z"
   },
   {
    "duration": 3,
    "start_time": "2022-05-31T13:57:26.597Z"
   },
   {
    "duration": 11,
    "start_time": "2022-05-31T13:57:26.602Z"
   },
   {
    "duration": 17,
    "start_time": "2022-05-31T13:57:26.614Z"
   },
   {
    "duration": 16,
    "start_time": "2022-05-31T13:57:26.633Z"
   },
   {
    "duration": 22,
    "start_time": "2022-05-31T13:57:26.650Z"
   },
   {
    "duration": 30,
    "start_time": "2022-05-31T13:57:26.673Z"
   },
   {
    "duration": 19,
    "start_time": "2022-05-31T13:57:26.705Z"
   },
   {
    "duration": 18,
    "start_time": "2022-05-31T13:57:26.725Z"
   },
   {
    "duration": 125,
    "start_time": "2022-05-31T13:57:26.745Z"
   },
   {
    "duration": 0,
    "start_time": "2022-05-31T13:57:26.872Z"
   },
   {
    "duration": 0,
    "start_time": "2022-05-31T13:57:26.873Z"
   },
   {
    "duration": 0,
    "start_time": "2022-05-31T13:57:26.874Z"
   },
   {
    "duration": 562,
    "start_time": "2022-05-31T13:57:39.194Z"
   },
   {
    "duration": 504,
    "start_time": "2022-05-31T13:59:24.358Z"
   },
   {
    "duration": 568,
    "start_time": "2022-05-31T13:59:34.539Z"
   },
   {
    "duration": 498,
    "start_time": "2022-05-31T14:00:29.637Z"
   },
   {
    "duration": 495,
    "start_time": "2022-05-31T14:00:38.472Z"
   },
   {
    "duration": 485,
    "start_time": "2022-05-31T14:00:46.837Z"
   },
   {
    "duration": 462,
    "start_time": "2022-05-31T14:00:53.095Z"
   },
   {
    "duration": 58,
    "start_time": "2022-05-31T14:02:06.906Z"
   },
   {
    "duration": 655,
    "start_time": "2022-05-31T14:02:11.530Z"
   },
   {
    "duration": 454,
    "start_time": "2022-05-31T14:02:42.139Z"
   },
   {
    "duration": 455,
    "start_time": "2022-05-31T14:03:23.979Z"
   },
   {
    "duration": 547,
    "start_time": "2022-05-31T14:03:31.193Z"
   },
   {
    "duration": 571,
    "start_time": "2022-05-31T14:03:37.609Z"
   },
   {
    "duration": 498,
    "start_time": "2022-05-31T14:05:56.363Z"
   },
   {
    "duration": 458,
    "start_time": "2022-05-31T14:07:15.076Z"
   },
   {
    "duration": 171,
    "start_time": "2022-05-31T14:07:24.152Z"
   },
   {
    "duration": 177,
    "start_time": "2022-05-31T14:07:30.633Z"
   },
   {
    "duration": 600,
    "start_time": "2022-05-31T14:07:36.130Z"
   },
   {
    "duration": 528,
    "start_time": "2022-05-31T14:08:05.398Z"
   },
   {
    "duration": 454,
    "start_time": "2022-05-31T14:08:17.430Z"
   },
   {
    "duration": 538,
    "start_time": "2022-05-31T14:08:31.892Z"
   },
   {
    "duration": 592,
    "start_time": "2022-05-31T14:08:43.468Z"
   },
   {
    "duration": 492,
    "start_time": "2022-05-31T14:08:57.508Z"
   },
   {
    "duration": 464,
    "start_time": "2022-05-31T14:10:02.275Z"
   },
   {
    "duration": 473,
    "start_time": "2022-05-31T14:10:32.595Z"
   },
   {
    "duration": 606,
    "start_time": "2022-05-31T14:10:53.730Z"
   },
   {
    "duration": 589,
    "start_time": "2022-05-31T14:11:11.429Z"
   },
   {
    "duration": 451,
    "start_time": "2022-05-31T14:12:46.860Z"
   },
   {
    "duration": 450,
    "start_time": "2022-05-31T14:13:03.679Z"
   },
   {
    "duration": 471,
    "start_time": "2022-05-31T14:13:50.088Z"
   },
   {
    "duration": 488,
    "start_time": "2022-05-31T14:14:27.171Z"
   },
   {
    "duration": 690,
    "start_time": "2022-05-31T14:14:56.096Z"
   },
   {
    "duration": 507,
    "start_time": "2022-05-31T14:15:03.271Z"
   },
   {
    "duration": 723,
    "start_time": "2022-05-31T14:15:41.303Z"
   },
   {
    "duration": 525,
    "start_time": "2022-05-31T14:16:40.370Z"
   },
   {
    "duration": 524,
    "start_time": "2022-05-31T14:16:55.595Z"
   },
   {
    "duration": 768,
    "start_time": "2022-05-31T14:17:20.994Z"
   },
   {
    "duration": 530,
    "start_time": "2022-05-31T14:17:25.681Z"
   },
   {
    "duration": 491,
    "start_time": "2022-05-31T14:19:59.062Z"
   },
   {
    "duration": 522,
    "start_time": "2022-05-31T14:20:04.459Z"
   },
   {
    "duration": 710,
    "start_time": "2022-05-31T14:20:09.695Z"
   },
   {
    "duration": 6,
    "start_time": "2022-05-31T14:59:30.843Z"
   },
   {
    "duration": 36,
    "start_time": "2022-05-31T14:59:58.001Z"
   },
   {
    "duration": 4,
    "start_time": "2022-05-31T15:00:02.666Z"
   },
   {
    "duration": 296,
    "start_time": "2022-05-31T15:04:54.796Z"
   },
   {
    "duration": 317,
    "start_time": "2022-05-31T15:05:13.160Z"
   },
   {
    "duration": 352,
    "start_time": "2022-05-31T15:05:56.651Z"
   },
   {
    "duration": 301,
    "start_time": "2022-05-31T15:06:18.478Z"
   },
   {
    "duration": 317,
    "start_time": "2022-05-31T15:06:29.118Z"
   },
   {
    "duration": 309,
    "start_time": "2022-05-31T15:07:12.891Z"
   },
   {
    "duration": 361,
    "start_time": "2022-05-31T15:09:36.091Z"
   },
   {
    "duration": 345,
    "start_time": "2022-05-31T15:09:50.271Z"
   },
   {
    "duration": 295,
    "start_time": "2022-05-31T15:10:06.759Z"
   },
   {
    "duration": 284,
    "start_time": "2022-05-31T15:10:29.964Z"
   },
   {
    "duration": 173,
    "start_time": "2022-05-31T15:18:26.665Z"
   },
   {
    "duration": 14,
    "start_time": "2022-05-31T15:19:51.871Z"
   },
   {
    "duration": 9,
    "start_time": "2022-05-31T15:23:38.629Z"
   },
   {
    "duration": 13,
    "start_time": "2022-05-31T15:23:43.165Z"
   },
   {
    "duration": 6,
    "start_time": "2022-05-31T15:24:17.961Z"
   },
   {
    "duration": 198,
    "start_time": "2022-05-31T15:24:22.766Z"
   },
   {
    "duration": 27,
    "start_time": "2022-05-31T15:24:26.633Z"
   },
   {
    "duration": 18,
    "start_time": "2022-05-31T15:24:41.919Z"
   },
   {
    "duration": 147,
    "start_time": "2022-05-31T15:25:08.007Z"
   },
   {
    "duration": 202,
    "start_time": "2022-05-31T15:25:16.328Z"
   },
   {
    "duration": 34,
    "start_time": "2022-05-31T15:25:32.180Z"
   },
   {
    "duration": 49,
    "start_time": "2022-05-31T15:25:37.406Z"
   },
   {
    "duration": 192,
    "start_time": "2022-05-31T15:26:01.667Z"
   },
   {
    "duration": 14,
    "start_time": "2022-05-31T15:26:48.242Z"
   },
   {
    "duration": 11,
    "start_time": "2022-05-31T15:27:04.529Z"
   },
   {
    "duration": 10,
    "start_time": "2022-05-31T15:27:12.019Z"
   },
   {
    "duration": 37,
    "start_time": "2022-05-31T15:27:29.300Z"
   },
   {
    "duration": 82,
    "start_time": "2022-05-31T15:28:06.718Z"
   },
   {
    "duration": 474,
    "start_time": "2022-05-31T15:28:30.966Z"
   },
   {
    "duration": 13,
    "start_time": "2022-05-31T15:28:42.114Z"
   },
   {
    "duration": 90,
    "start_time": "2022-06-01T09:26:31.707Z"
   },
   {
    "duration": 81,
    "start_time": "2022-06-01T09:26:50.393Z"
   },
   {
    "duration": 84,
    "start_time": "2022-06-01T09:42:46.930Z"
   },
   {
    "duration": 87,
    "start_time": "2022-06-01T09:43:31.708Z"
   },
   {
    "duration": 84,
    "start_time": "2022-06-01T09:43:43.425Z"
   },
   {
    "duration": 87,
    "start_time": "2022-06-01T09:43:50.322Z"
   },
   {
    "duration": 83,
    "start_time": "2022-06-01T09:44:10.886Z"
   },
   {
    "duration": 86,
    "start_time": "2022-06-01T09:44:18.351Z"
   },
   {
    "duration": 83,
    "start_time": "2022-06-01T10:17:28.037Z"
   },
   {
    "duration": 92,
    "start_time": "2022-06-01T10:18:39.947Z"
   },
   {
    "duration": 1028,
    "start_time": "2022-06-01T10:22:06.221Z"
   },
   {
    "duration": 992,
    "start_time": "2022-06-01T10:22:26.607Z"
   },
   {
    "duration": 4,
    "start_time": "2022-06-01T10:27:04.774Z"
   },
   {
    "duration": 10,
    "start_time": "2022-06-01T10:27:29.629Z"
   },
   {
    "duration": 14,
    "start_time": "2022-06-01T10:27:36.418Z"
   },
   {
    "duration": 5,
    "start_time": "2022-06-01T10:27:53.560Z"
   },
   {
    "duration": 18,
    "start_time": "2022-06-01T10:28:42.669Z"
   },
   {
    "duration": 19,
    "start_time": "2022-06-01T10:30:48.385Z"
   },
   {
    "duration": 3,
    "start_time": "2022-06-01T10:31:09.243Z"
   },
   {
    "duration": 101,
    "start_time": "2022-06-01T10:31:10.052Z"
   },
   {
    "duration": 4,
    "start_time": "2022-06-01T11:55:04.966Z"
   },
   {
    "duration": 107,
    "start_time": "2022-06-01T11:55:05.228Z"
   },
   {
    "duration": 4,
    "start_time": "2022-06-01T11:55:22.150Z"
   },
   {
    "duration": 92,
    "start_time": "2022-06-01T11:55:22.437Z"
   },
   {
    "duration": 3,
    "start_time": "2022-06-01T11:55:38.775Z"
   },
   {
    "duration": 31,
    "start_time": "2022-06-01T11:55:39.049Z"
   },
   {
    "duration": 3,
    "start_time": "2022-06-01T11:55:50.122Z"
   },
   {
    "duration": 111,
    "start_time": "2022-06-01T11:55:51.219Z"
   },
   {
    "duration": 839,
    "start_time": "2022-06-01T11:57:07.967Z"
   },
   {
    "duration": 1368,
    "start_time": "2022-06-01T11:57:55.540Z"
   },
   {
    "duration": 1138,
    "start_time": "2022-06-01T11:58:21.985Z"
   },
   {
    "duration": 1417,
    "start_time": "2022-06-01T11:58:44.289Z"
   },
   {
    "duration": 1560,
    "start_time": "2022-06-01T11:59:01.027Z"
   },
   {
    "duration": 1467,
    "start_time": "2022-06-01T11:59:58.374Z"
   },
   {
    "duration": 1253,
    "start_time": "2022-06-01T12:00:23.422Z"
   },
   {
    "duration": 1546,
    "start_time": "2022-06-01T12:01:04.414Z"
   },
   {
    "duration": 1577,
    "start_time": "2022-06-01T12:01:30.242Z"
   },
   {
    "duration": 1271,
    "start_time": "2022-06-01T12:01:37.865Z"
   },
   {
    "duration": 1494,
    "start_time": "2022-06-01T12:01:41.937Z"
   },
   {
    "duration": 1814,
    "start_time": "2022-06-01T12:02:53.483Z"
   },
   {
    "duration": 1939,
    "start_time": "2022-06-01T12:03:29.981Z"
   },
   {
    "duration": 2044,
    "start_time": "2022-06-01T12:04:14.245Z"
   },
   {
    "duration": 3,
    "start_time": "2022-06-01T12:07:58.640Z"
   },
   {
    "duration": 61,
    "start_time": "2022-06-01T12:08:04.554Z"
   },
   {
    "duration": 4,
    "start_time": "2022-06-01T12:08:09.475Z"
   },
   {
    "duration": 4,
    "start_time": "2022-06-01T12:08:20.150Z"
   },
   {
    "duration": 3,
    "start_time": "2022-06-01T12:08:32.959Z"
   },
   {
    "duration": 5,
    "start_time": "2022-06-01T12:08:44.798Z"
   },
   {
    "duration": 4,
    "start_time": "2022-06-01T12:13:15.624Z"
   },
   {
    "duration": 3,
    "start_time": "2022-06-01T12:16:39.849Z"
   },
   {
    "duration": 78,
    "start_time": "2022-06-01T12:30:34.489Z"
   },
   {
    "duration": 90,
    "start_time": "2022-06-01T13:59:52.643Z"
   },
   {
    "duration": 76,
    "start_time": "2022-06-01T13:59:59.894Z"
   },
   {
    "duration": 9,
    "start_time": "2022-06-01T14:02:42.579Z"
   },
   {
    "duration": 170,
    "start_time": "2022-06-01T14:02:54.820Z"
   },
   {
    "duration": 4,
    "start_time": "2022-06-01T14:06:19.654Z"
   },
   {
    "duration": 4,
    "start_time": "2022-06-01T14:07:23.279Z"
   },
   {
    "duration": 5,
    "start_time": "2022-06-01T14:19:58.548Z"
   },
   {
    "duration": 7,
    "start_time": "2022-06-01T14:21:11.592Z"
   },
   {
    "duration": 16,
    "start_time": "2022-06-01T14:21:26.213Z"
   },
   {
    "duration": 4,
    "start_time": "2022-06-01T14:22:23.474Z"
   },
   {
    "duration": 47,
    "start_time": "2022-06-01T14:22:23.665Z"
   },
   {
    "duration": 5,
    "start_time": "2022-06-01T14:22:31.961Z"
   },
   {
    "duration": 46,
    "start_time": "2022-06-01T14:22:33.150Z"
   },
   {
    "duration": 4,
    "start_time": "2022-06-01T14:22:55.987Z"
   },
   {
    "duration": 5,
    "start_time": "2022-06-01T14:23:05.241Z"
   },
   {
    "duration": 51,
    "start_time": "2022-06-01T14:23:06.445Z"
   },
   {
    "duration": 46,
    "start_time": "2022-06-01T14:23:28.719Z"
   },
   {
    "duration": 53,
    "start_time": "2022-06-01T14:23:33.813Z"
   },
   {
    "duration": 62,
    "start_time": "2022-06-01T14:24:16.032Z"
   },
   {
    "duration": 56,
    "start_time": "2022-06-01T14:24:22.140Z"
   },
   {
    "duration": 4,
    "start_time": "2022-06-01T14:24:55.937Z"
   },
   {
    "duration": 73,
    "start_time": "2022-06-01T14:24:56.144Z"
   },
   {
    "duration": 5,
    "start_time": "2022-06-01T14:25:40.091Z"
   },
   {
    "duration": 66,
    "start_time": "2022-06-01T14:25:40.442Z"
   },
   {
    "duration": 5,
    "start_time": "2022-06-01T14:26:04.756Z"
   },
   {
    "duration": 92,
    "start_time": "2022-06-01T14:26:06.085Z"
   },
   {
    "duration": 4,
    "start_time": "2022-06-01T14:26:14.825Z"
   },
   {
    "duration": 71,
    "start_time": "2022-06-01T14:26:15.049Z"
   },
   {
    "duration": 5,
    "start_time": "2022-06-01T14:26:20.881Z"
   },
   {
    "duration": 76,
    "start_time": "2022-06-01T14:26:21.143Z"
   },
   {
    "duration": 47,
    "start_time": "2022-06-01T14:26:41.612Z"
   },
   {
    "duration": 85,
    "start_time": "2022-06-01T14:27:34.785Z"
   },
   {
    "duration": 35,
    "start_time": "2022-06-01T14:27:36.714Z"
   },
   {
    "duration": 14,
    "start_time": "2022-06-01T14:37:32.413Z"
   },
   {
    "duration": 4,
    "start_time": "2022-06-01T14:41:49.758Z"
   },
   {
    "duration": 3,
    "start_time": "2022-06-01T14:42:05.472Z"
   },
   {
    "duration": 538,
    "start_time": "2022-06-01T14:42:18.434Z"
   },
   {
    "duration": 4,
    "start_time": "2022-06-01T14:43:22.185Z"
   },
   {
    "duration": 536,
    "start_time": "2022-06-01T14:43:25.438Z"
   },
   {
    "duration": 4,
    "start_time": "2022-06-01T14:43:48.897Z"
   },
   {
    "duration": 424,
    "start_time": "2022-06-01T14:43:49.562Z"
   },
   {
    "duration": 4,
    "start_time": "2022-06-01T14:44:10.025Z"
   },
   {
    "duration": 4,
    "start_time": "2022-06-01T14:44:22.819Z"
   },
   {
    "duration": 4,
    "start_time": "2022-06-01T14:44:43.298Z"
   },
   {
    "duration": 5,
    "start_time": "2022-06-01T14:44:47.320Z"
   },
   {
    "duration": 91,
    "start_time": "2022-06-01T14:44:47.716Z"
   },
   {
    "duration": 5,
    "start_time": "2022-06-01T14:44:49.573Z"
   },
   {
    "duration": 724,
    "start_time": "2022-06-01T14:44:50.395Z"
   },
   {
    "duration": 5,
    "start_time": "2022-06-01T14:47:51.433Z"
   },
   {
    "duration": 21,
    "start_time": "2022-06-01T14:47:51.631Z"
   },
   {
    "duration": 4,
    "start_time": "2022-06-01T14:48:06.267Z"
   },
   {
    "duration": 22,
    "start_time": "2022-06-01T14:48:07.360Z"
   },
   {
    "duration": 5,
    "start_time": "2022-06-01T14:48:40.225Z"
   },
   {
    "duration": 43,
    "start_time": "2022-06-01T14:48:40.617Z"
   },
   {
    "duration": 6,
    "start_time": "2022-06-01T14:51:44.140Z"
   },
   {
    "duration": 31,
    "start_time": "2022-06-01T14:51:45.048Z"
   },
   {
    "duration": 6,
    "start_time": "2022-06-01T14:52:08.341Z"
   },
   {
    "duration": 31,
    "start_time": "2022-06-01T14:52:09.033Z"
   },
   {
    "duration": 5,
    "start_time": "2022-06-01T14:52:26.889Z"
   },
   {
    "duration": 35,
    "start_time": "2022-06-01T14:52:27.389Z"
   },
   {
    "duration": 6,
    "start_time": "2022-06-01T14:53:30.086Z"
   },
   {
    "duration": 100,
    "start_time": "2022-06-01T14:53:30.711Z"
   },
   {
    "duration": 84,
    "start_time": "2022-06-01T14:54:53.214Z"
   },
   {
    "duration": 1544,
    "start_time": "2022-06-01T14:55:40.544Z"
   },
   {
    "duration": 3,
    "start_time": "2022-06-01T14:55:42.090Z"
   },
   {
    "duration": 4114,
    "start_time": "2022-06-01T14:55:42.095Z"
   },
   {
    "duration": 3,
    "start_time": "2022-06-01T14:55:46.211Z"
   },
   {
    "duration": 372,
    "start_time": "2022-06-01T14:55:46.216Z"
   },
   {
    "duration": 211,
    "start_time": "2022-06-01T14:55:46.590Z"
   },
   {
    "duration": 388,
    "start_time": "2022-06-01T14:55:46.803Z"
   },
   {
    "duration": 4,
    "start_time": "2022-06-01T14:55:47.193Z"
   },
   {
    "duration": 15,
    "start_time": "2022-06-01T14:55:47.199Z"
   },
   {
    "duration": 336,
    "start_time": "2022-06-01T14:55:47.217Z"
   },
   {
    "duration": 12,
    "start_time": "2022-06-01T14:55:47.554Z"
   },
   {
    "duration": 15,
    "start_time": "2022-06-01T14:55:47.568Z"
   },
   {
    "duration": 83,
    "start_time": "2022-06-01T14:55:47.585Z"
   },
   {
    "duration": 31,
    "start_time": "2022-06-01T14:55:47.670Z"
   },
   {
    "duration": 37,
    "start_time": "2022-06-01T14:55:47.704Z"
   },
   {
    "duration": 32,
    "start_time": "2022-06-01T14:55:47.743Z"
   },
   {
    "duration": 10,
    "start_time": "2022-06-01T14:55:47.777Z"
   },
   {
    "duration": 7,
    "start_time": "2022-06-01T14:55:47.789Z"
   },
   {
    "duration": 11,
    "start_time": "2022-06-01T14:55:47.798Z"
   },
   {
    "duration": 15,
    "start_time": "2022-06-01T14:55:47.811Z"
   },
   {
    "duration": 42,
    "start_time": "2022-06-01T14:55:47.828Z"
   },
   {
    "duration": 13,
    "start_time": "2022-06-01T14:55:47.872Z"
   },
   {
    "duration": 574,
    "start_time": "2022-06-01T14:55:47.887Z"
   },
   {
    "duration": 5,
    "start_time": "2022-06-01T14:55:48.463Z"
   },
   {
    "duration": 349,
    "start_time": "2022-06-01T14:55:48.471Z"
   },
   {
    "duration": 2049,
    "start_time": "2022-06-01T14:55:48.821Z"
   },
   {
    "duration": 5,
    "start_time": "2022-06-01T14:55:50.873Z"
   },
   {
    "duration": 172,
    "start_time": "2022-06-01T14:55:50.882Z"
   },
   {
    "duration": 9,
    "start_time": "2022-06-01T14:55:51.056Z"
   },
   {
    "duration": 47,
    "start_time": "2022-06-01T14:55:51.067Z"
   },
   {
    "duration": 31,
    "start_time": "2022-06-01T14:55:51.115Z"
   },
   {
    "duration": 11,
    "start_time": "2022-06-01T14:55:51.149Z"
   },
   {
    "duration": 9,
    "start_time": "2022-06-01T14:55:51.161Z"
   },
   {
    "duration": 102,
    "start_time": "2022-06-01T14:55:51.171Z"
   },
   {
    "duration": 5,
    "start_time": "2022-06-01T14:55:51.275Z"
   },
   {
    "duration": 113,
    "start_time": "2022-06-01T14:55:51.281Z"
   },
   {
    "duration": 4,
    "start_time": "2022-06-01T14:57:06.752Z"
   },
   {
    "duration": 3,
    "start_time": "2022-06-01T16:52:35.765Z"
   },
   {
    "duration": 1387,
    "start_time": "2022-06-02T09:49:16.985Z"
   },
   {
    "duration": 3,
    "start_time": "2022-06-02T09:49:18.374Z"
   },
   {
    "duration": 3982,
    "start_time": "2022-06-02T09:49:18.378Z"
   },
   {
    "duration": 4,
    "start_time": "2022-06-02T09:49:22.361Z"
   },
   {
    "duration": 329,
    "start_time": "2022-06-02T09:49:22.366Z"
   },
   {
    "duration": 180,
    "start_time": "2022-06-02T09:49:22.697Z"
   },
   {
    "duration": 337,
    "start_time": "2022-06-02T09:49:22.878Z"
   },
   {
    "duration": 3,
    "start_time": "2022-06-02T09:49:28.374Z"
   },
   {
    "duration": 5,
    "start_time": "2022-06-02T09:49:28.863Z"
   },
   {
    "duration": 253,
    "start_time": "2022-06-02T09:49:35.824Z"
   },
   {
    "duration": 9,
    "start_time": "2022-06-02T09:49:41.369Z"
   },
   {
    "duration": 8,
    "start_time": "2022-06-02T09:49:42.480Z"
   },
   {
    "duration": 61,
    "start_time": "2022-06-02T09:49:48.330Z"
   },
   {
    "duration": 18,
    "start_time": "2022-06-02T09:49:54.268Z"
   },
   {
    "duration": 11,
    "start_time": "2022-06-02T09:49:56.978Z"
   },
   {
    "duration": 8,
    "start_time": "2022-06-02T09:49:58.162Z"
   },
   {
    "duration": 8,
    "start_time": "2022-06-02T09:50:00.947Z"
   },
   {
    "duration": 5,
    "start_time": "2022-06-02T09:50:07.204Z"
   },
   {
    "duration": 4,
    "start_time": "2022-06-02T09:51:43.361Z"
   },
   {
    "duration": 3,
    "start_time": "2022-06-02T09:53:39.901Z"
   },
   {
    "duration": 9,
    "start_time": "2022-06-02T09:53:42.518Z"
   },
   {
    "duration": 11,
    "start_time": "2022-06-02T09:55:14.785Z"
   },
   {
    "duration": 9,
    "start_time": "2022-06-02T09:55:25.967Z"
   },
   {
    "duration": 6,
    "start_time": "2022-06-02T09:55:53.021Z"
   },
   {
    "duration": 13,
    "start_time": "2022-06-02T09:57:40.627Z"
   },
   {
    "duration": 1290,
    "start_time": "2022-06-02T09:57:47.279Z"
   },
   {
    "duration": 3,
    "start_time": "2022-06-02T09:57:48.571Z"
   },
   {
    "duration": 695,
    "start_time": "2022-06-02T09:57:48.575Z"
   },
   {
    "duration": 3,
    "start_time": "2022-06-02T09:57:49.272Z"
   },
   {
    "duration": 309,
    "start_time": "2022-06-02T09:57:49.277Z"
   },
   {
    "duration": 168,
    "start_time": "2022-06-02T09:57:49.591Z"
   },
   {
    "duration": 316,
    "start_time": "2022-06-02T09:57:49.761Z"
   },
   {
    "duration": 19,
    "start_time": "2022-06-02T09:57:50.078Z"
   },
   {
    "duration": 9,
    "start_time": "2022-06-02T09:57:50.098Z"
   },
   {
    "duration": 14,
    "start_time": "2022-06-02T09:57:50.110Z"
   },
   {
    "duration": 197,
    "start_time": "2022-06-02T09:57:50.125Z"
   },
   {
    "duration": 7,
    "start_time": "2022-06-02T09:57:50.323Z"
   },
   {
    "duration": 7,
    "start_time": "2022-06-02T09:57:50.332Z"
   },
   {
    "duration": 95,
    "start_time": "2022-06-02T09:57:50.340Z"
   },
   {
    "duration": 129,
    "start_time": "2022-06-02T09:57:50.436Z"
   },
   {
    "duration": 0,
    "start_time": "2022-06-02T09:57:50.566Z"
   },
   {
    "duration": 0,
    "start_time": "2022-06-02T09:57:50.567Z"
   },
   {
    "duration": 0,
    "start_time": "2022-06-02T09:57:50.568Z"
   },
   {
    "duration": 0,
    "start_time": "2022-06-02T09:57:50.569Z"
   },
   {
    "duration": 0,
    "start_time": "2022-06-02T09:57:50.570Z"
   },
   {
    "duration": 0,
    "start_time": "2022-06-02T09:57:50.571Z"
   },
   {
    "duration": 0,
    "start_time": "2022-06-02T09:57:50.572Z"
   },
   {
    "duration": 0,
    "start_time": "2022-06-02T09:57:50.573Z"
   },
   {
    "duration": 0,
    "start_time": "2022-06-02T09:57:50.574Z"
   },
   {
    "duration": 0,
    "start_time": "2022-06-02T09:57:50.575Z"
   },
   {
    "duration": 0,
    "start_time": "2022-06-02T09:57:50.576Z"
   },
   {
    "duration": 0,
    "start_time": "2022-06-02T09:57:50.576Z"
   },
   {
    "duration": 0,
    "start_time": "2022-06-02T09:57:50.577Z"
   },
   {
    "duration": 0,
    "start_time": "2022-06-02T09:57:50.578Z"
   },
   {
    "duration": 0,
    "start_time": "2022-06-02T09:57:50.579Z"
   },
   {
    "duration": 0,
    "start_time": "2022-06-02T09:57:50.592Z"
   },
   {
    "duration": 0,
    "start_time": "2022-06-02T09:57:50.592Z"
   },
   {
    "duration": 0,
    "start_time": "2022-06-02T09:57:50.594Z"
   },
   {
    "duration": 0,
    "start_time": "2022-06-02T09:57:50.595Z"
   },
   {
    "duration": 0,
    "start_time": "2022-06-02T09:57:50.596Z"
   },
   {
    "duration": 0,
    "start_time": "2022-06-02T09:57:50.597Z"
   },
   {
    "duration": 0,
    "start_time": "2022-06-02T09:57:50.597Z"
   },
   {
    "duration": 0,
    "start_time": "2022-06-02T09:57:50.598Z"
   },
   {
    "duration": 0,
    "start_time": "2022-06-02T09:57:50.599Z"
   },
   {
    "duration": 0,
    "start_time": "2022-06-02T09:57:50.600Z"
   },
   {
    "duration": 0,
    "start_time": "2022-06-02T09:57:50.601Z"
   },
   {
    "duration": 0,
    "start_time": "2022-06-02T09:57:50.602Z"
   },
   {
    "duration": 0,
    "start_time": "2022-06-02T09:57:50.603Z"
   },
   {
    "duration": 0,
    "start_time": "2022-06-02T09:57:50.604Z"
   },
   {
    "duration": 0,
    "start_time": "2022-06-02T09:57:50.605Z"
   },
   {
    "duration": 24,
    "start_time": "2022-06-02T09:58:36.070Z"
   },
   {
    "duration": 20,
    "start_time": "2022-06-02T09:59:05.695Z"
   },
   {
    "duration": 8,
    "start_time": "2022-06-02T09:59:05.972Z"
   },
   {
    "duration": 4,
    "start_time": "2022-06-02T09:59:07.255Z"
   },
   {
    "duration": 4,
    "start_time": "2022-06-02T09:59:09.719Z"
   },
   {
    "duration": 12,
    "start_time": "2022-06-02T09:59:09.725Z"
   },
   {
    "duration": 89,
    "start_time": "2022-06-02T09:59:09.738Z"
   },
   {
    "duration": 0,
    "start_time": "2022-06-02T09:59:09.829Z"
   },
   {
    "duration": 0,
    "start_time": "2022-06-02T09:59:09.830Z"
   },
   {
    "duration": 0,
    "start_time": "2022-06-02T09:59:09.830Z"
   },
   {
    "duration": 1,
    "start_time": "2022-06-02T09:59:09.831Z"
   },
   {
    "duration": 0,
    "start_time": "2022-06-02T09:59:09.833Z"
   },
   {
    "duration": 0,
    "start_time": "2022-06-02T09:59:09.834Z"
   },
   {
    "duration": 0,
    "start_time": "2022-06-02T09:59:09.834Z"
   },
   {
    "duration": 0,
    "start_time": "2022-06-02T09:59:09.835Z"
   },
   {
    "duration": 0,
    "start_time": "2022-06-02T09:59:09.836Z"
   },
   {
    "duration": 0,
    "start_time": "2022-06-02T09:59:09.837Z"
   },
   {
    "duration": 0,
    "start_time": "2022-06-02T09:59:09.837Z"
   },
   {
    "duration": 0,
    "start_time": "2022-06-02T09:59:09.838Z"
   },
   {
    "duration": 0,
    "start_time": "2022-06-02T09:59:09.839Z"
   },
   {
    "duration": 0,
    "start_time": "2022-06-02T09:59:09.840Z"
   },
   {
    "duration": 0,
    "start_time": "2022-06-02T09:59:09.841Z"
   },
   {
    "duration": 0,
    "start_time": "2022-06-02T09:59:09.842Z"
   },
   {
    "duration": 3,
    "start_time": "2022-06-02T09:59:09.869Z"
   },
   {
    "duration": 14,
    "start_time": "2022-06-02T09:59:09.875Z"
   },
   {
    "duration": 87,
    "start_time": "2022-06-02T09:59:09.891Z"
   },
   {
    "duration": 14,
    "start_time": "2022-06-02T09:59:09.980Z"
   },
   {
    "duration": 688,
    "start_time": "2022-06-02T09:59:09.996Z"
   },
   {
    "duration": 0,
    "start_time": "2022-06-02T09:59:10.686Z"
   },
   {
    "duration": 0,
    "start_time": "2022-06-02T09:59:10.687Z"
   },
   {
    "duration": 0,
    "start_time": "2022-06-02T09:59:10.689Z"
   },
   {
    "duration": 256,
    "start_time": "2022-06-02T09:59:36.890Z"
   },
   {
    "duration": 4,
    "start_time": "2022-06-02T09:59:48.181Z"
   },
   {
    "duration": 8,
    "start_time": "2022-06-02T09:59:49.781Z"
   },
   {
    "duration": 1259,
    "start_time": "2022-06-02T09:59:56.628Z"
   },
   {
    "duration": 4,
    "start_time": "2022-06-02T09:59:57.889Z"
   },
   {
    "duration": 729,
    "start_time": "2022-06-02T09:59:57.894Z"
   },
   {
    "duration": 3,
    "start_time": "2022-06-02T09:59:58.626Z"
   },
   {
    "duration": 305,
    "start_time": "2022-06-02T09:59:58.631Z"
   },
   {
    "duration": 165,
    "start_time": "2022-06-02T09:59:58.938Z"
   },
   {
    "duration": 317,
    "start_time": "2022-06-02T09:59:59.104Z"
   },
   {
    "duration": 13,
    "start_time": "2022-06-02T09:59:59.422Z"
   },
   {
    "duration": 5,
    "start_time": "2022-06-02T09:59:59.437Z"
   },
   {
    "duration": 7,
    "start_time": "2022-06-02T09:59:59.444Z"
   },
   {
    "duration": 207,
    "start_time": "2022-06-02T09:59:59.452Z"
   },
   {
    "duration": 8,
    "start_time": "2022-06-02T09:59:59.661Z"
   },
   {
    "duration": 24,
    "start_time": "2022-06-02T09:59:59.670Z"
   },
   {
    "duration": 75,
    "start_time": "2022-06-02T09:59:59.696Z"
   },
   {
    "duration": 22,
    "start_time": "2022-06-02T09:59:59.772Z"
   },
   {
    "duration": 19,
    "start_time": "2022-06-02T09:59:59.795Z"
   },
   {
    "duration": 9,
    "start_time": "2022-06-02T09:59:59.816Z"
   },
   {
    "duration": 5,
    "start_time": "2022-06-02T09:59:59.826Z"
   },
   {
    "duration": 4,
    "start_time": "2022-06-02T09:59:59.833Z"
   },
   {
    "duration": 13,
    "start_time": "2022-06-02T09:59:59.838Z"
   },
   {
    "duration": 16,
    "start_time": "2022-06-02T09:59:59.853Z"
   },
   {
    "duration": 24,
    "start_time": "2022-06-02T09:59:59.871Z"
   },
   {
    "duration": 6,
    "start_time": "2022-06-02T09:59:59.896Z"
   },
   {
    "duration": 4,
    "start_time": "2022-06-02T09:59:59.903Z"
   },
   {
    "duration": 10,
    "start_time": "2022-06-02T09:59:59.909Z"
   },
   {
    "duration": 10,
    "start_time": "2022-06-02T09:59:59.921Z"
   },
   {
    "duration": 7,
    "start_time": "2022-06-02T09:59:59.933Z"
   },
   {
    "duration": 466,
    "start_time": "2022-06-02T09:59:59.944Z"
   },
   {
    "duration": 4,
    "start_time": "2022-06-02T10:00:00.411Z"
   },
   {
    "duration": 267,
    "start_time": "2022-06-02T10:00:00.416Z"
   },
   {
    "duration": 1644,
    "start_time": "2022-06-02T10:00:00.685Z"
   },
   {
    "duration": 4,
    "start_time": "2022-06-02T10:00:02.330Z"
   },
   {
    "duration": 106,
    "start_time": "2022-06-02T10:00:02.335Z"
   },
   {
    "duration": 6,
    "start_time": "2022-06-02T10:00:02.443Z"
   },
   {
    "duration": 29,
    "start_time": "2022-06-02T10:00:02.451Z"
   },
   {
    "duration": 6,
    "start_time": "2022-06-02T10:00:02.492Z"
   },
   {
    "duration": 7,
    "start_time": "2022-06-02T10:00:02.500Z"
   },
   {
    "duration": 11,
    "start_time": "2022-06-02T10:00:02.508Z"
   },
   {
    "duration": 183,
    "start_time": "2022-06-02T10:00:02.520Z"
   },
   {
    "duration": 4,
    "start_time": "2022-06-02T10:00:02.705Z"
   },
   {
    "duration": 226,
    "start_time": "2022-06-02T10:00:02.710Z"
   },
   {
    "duration": 3,
    "start_time": "2022-06-02T10:00:02.938Z"
   },
   {
    "duration": 6,
    "start_time": "2022-06-02T10:00:02.942Z"
   },
   {
    "duration": 5,
    "start_time": "2022-06-02T10:00:02.949Z"
   },
   {
    "duration": 138,
    "start_time": "2022-06-02T10:00:43.167Z"
   },
   {
    "duration": 9,
    "start_time": "2022-06-02T10:00:43.451Z"
   },
   {
    "duration": 8,
    "start_time": "2022-06-02T10:00:43.822Z"
   },
   {
    "duration": 9,
    "start_time": "2022-06-02T10:00:44.471Z"
   },
   {
    "duration": 1638,
    "start_time": "2022-06-02T10:00:56.266Z"
   },
   {
    "duration": 3,
    "start_time": "2022-06-02T10:00:57.906Z"
   },
   {
    "duration": 741,
    "start_time": "2022-06-02T10:00:57.910Z"
   },
   {
    "duration": 3,
    "start_time": "2022-06-02T10:00:58.653Z"
   },
   {
    "duration": 301,
    "start_time": "2022-06-02T10:00:58.658Z"
   },
   {
    "duration": 167,
    "start_time": "2022-06-02T10:00:58.961Z"
   },
   {
    "duration": 312,
    "start_time": "2022-06-02T10:00:59.129Z"
   },
   {
    "duration": 14,
    "start_time": "2022-06-02T10:01:02.343Z"
   },
   {
    "duration": 3,
    "start_time": "2022-06-02T10:01:04.470Z"
   },
   {
    "duration": 5,
    "start_time": "2022-06-02T10:01:06.750Z"
   },
   {
    "duration": 198,
    "start_time": "2022-06-02T10:01:14.250Z"
   },
   {
    "duration": 9,
    "start_time": "2022-06-02T10:01:16.391Z"
   },
   {
    "duration": 8,
    "start_time": "2022-06-02T10:01:20.560Z"
   },
   {
    "duration": 86,
    "start_time": "2022-06-02T10:01:27.233Z"
   },
   {
    "duration": 22,
    "start_time": "2022-06-02T10:01:48.502Z"
   },
   {
    "duration": 20,
    "start_time": "2022-06-02T10:01:52.950Z"
   },
   {
    "duration": 3,
    "start_time": "2022-06-02T10:02:19.691Z"
   },
   {
    "duration": 9,
    "start_time": "2022-06-02T10:02:23.200Z"
   },
   {
    "duration": 6,
    "start_time": "2022-06-02T10:02:24.753Z"
   },
   {
    "duration": 6,
    "start_time": "2022-06-02T10:02:27.554Z"
   },
   {
    "duration": 8,
    "start_time": "2022-06-02T10:02:35.360Z"
   },
   {
    "duration": 6,
    "start_time": "2022-06-02T10:03:02.799Z"
   },
   {
    "duration": 632,
    "start_time": "2022-06-02T10:03:04.456Z"
   },
   {
    "duration": 1266,
    "start_time": "2022-06-02T10:03:19.199Z"
   },
   {
    "duration": 3,
    "start_time": "2022-06-02T10:03:20.467Z"
   },
   {
    "duration": 707,
    "start_time": "2022-06-02T10:03:20.472Z"
   },
   {
    "duration": 4,
    "start_time": "2022-06-02T10:03:21.181Z"
   },
   {
    "duration": 345,
    "start_time": "2022-06-02T10:03:21.187Z"
   },
   {
    "duration": 166,
    "start_time": "2022-06-02T10:03:21.534Z"
   },
   {
    "duration": 334,
    "start_time": "2022-06-02T10:03:21.702Z"
   },
   {
    "duration": 13,
    "start_time": "2022-06-02T10:03:22.038Z"
   },
   {
    "duration": 14,
    "start_time": "2022-06-02T10:03:22.052Z"
   },
   {
    "duration": 12,
    "start_time": "2022-06-02T10:03:22.068Z"
   },
   {
    "duration": 204,
    "start_time": "2022-06-02T10:03:22.081Z"
   },
   {
    "duration": 8,
    "start_time": "2022-06-02T10:03:22.291Z"
   },
   {
    "duration": 8,
    "start_time": "2022-06-02T10:03:22.301Z"
   },
   {
    "duration": 109,
    "start_time": "2022-06-02T10:03:22.310Z"
   },
   {
    "duration": 33,
    "start_time": "2022-06-02T10:03:22.421Z"
   },
   {
    "duration": 4,
    "start_time": "2022-06-02T10:03:22.455Z"
   },
   {
    "duration": 11,
    "start_time": "2022-06-02T10:03:22.461Z"
   },
   {
    "duration": 10,
    "start_time": "2022-06-02T10:03:22.474Z"
   },
   {
    "duration": 6,
    "start_time": "2022-06-02T10:03:25.942Z"
   },
   {
    "duration": 11,
    "start_time": "2022-06-02T10:03:27.343Z"
   },
   {
    "duration": 9,
    "start_time": "2022-06-02T10:03:34.929Z"
   },
   {
    "duration": 7,
    "start_time": "2022-06-02T10:03:36.593Z"
   },
   {
    "duration": 11,
    "start_time": "2022-06-02T10:03:56.517Z"
   },
   {
    "duration": 39,
    "start_time": "2022-06-02T10:04:06.587Z"
   },
   {
    "duration": 19,
    "start_time": "2022-06-02T10:05:23.843Z"
   },
   {
    "duration": 13,
    "start_time": "2022-06-02T10:06:04.524Z"
   },
   {
    "duration": 505,
    "start_time": "2022-06-02T10:06:31.086Z"
   },
   {
    "duration": 6,
    "start_time": "2022-06-02T11:22:55.126Z"
   },
   {
    "duration": 7,
    "start_time": "2022-06-02T11:22:55.133Z"
   },
   {
    "duration": 723,
    "start_time": "2022-06-02T11:22:55.142Z"
   },
   {
    "duration": 3,
    "start_time": "2022-06-02T11:22:55.866Z"
   },
   {
    "duration": 294,
    "start_time": "2022-06-02T11:22:55.870Z"
   },
   {
    "duration": 163,
    "start_time": "2022-06-02T11:22:56.165Z"
   },
   {
    "duration": 308,
    "start_time": "2022-06-02T11:22:56.329Z"
   },
   {
    "duration": 13,
    "start_time": "2022-06-02T11:22:56.638Z"
   },
   {
    "duration": 7,
    "start_time": "2022-06-02T11:22:56.653Z"
   },
   {
    "duration": 9,
    "start_time": "2022-06-02T11:22:56.661Z"
   },
   {
    "duration": 203,
    "start_time": "2022-06-02T11:22:56.672Z"
   },
   {
    "duration": 15,
    "start_time": "2022-06-02T11:22:56.877Z"
   },
   {
    "duration": 7,
    "start_time": "2022-06-02T11:22:56.894Z"
   },
   {
    "duration": 48,
    "start_time": "2022-06-02T11:22:56.902Z"
   },
   {
    "duration": 107,
    "start_time": "2022-06-02T11:22:56.951Z"
   },
   {
    "duration": 4,
    "start_time": "2022-06-02T11:22:57.060Z"
   },
   {
    "duration": 15,
    "start_time": "2022-06-02T11:22:57.065Z"
   },
   {
    "duration": 10,
    "start_time": "2022-06-02T11:22:57.082Z"
   },
   {
    "duration": 14,
    "start_time": "2022-06-02T11:22:57.093Z"
   },
   {
    "duration": 14,
    "start_time": "2022-06-02T11:22:57.109Z"
   },
   {
    "duration": 15,
    "start_time": "2022-06-02T11:22:57.124Z"
   },
   {
    "duration": 7,
    "start_time": "2022-06-02T11:22:57.141Z"
   },
   {
    "duration": 13,
    "start_time": "2022-06-02T11:22:57.149Z"
   },
   {
    "duration": 27,
    "start_time": "2022-06-02T11:22:57.165Z"
   },
   {
    "duration": 9,
    "start_time": "2022-06-02T11:23:03.319Z"
   },
   {
    "duration": 10,
    "start_time": "2022-06-02T11:24:35.391Z"
   },
   {
    "duration": 6,
    "start_time": "2022-06-02T11:24:49.785Z"
   },
   {
    "duration": 14,
    "start_time": "2022-06-02T11:24:49.793Z"
   },
   {
    "duration": 713,
    "start_time": "2022-06-02T11:24:49.808Z"
   },
   {
    "duration": 4,
    "start_time": "2022-06-02T11:24:50.523Z"
   },
   {
    "duration": 291,
    "start_time": "2022-06-02T11:24:50.529Z"
   },
   {
    "duration": 171,
    "start_time": "2022-06-02T11:24:50.822Z"
   },
   {
    "duration": 380,
    "start_time": "2022-06-02T11:24:50.994Z"
   },
   {
    "duration": 19,
    "start_time": "2022-06-02T11:24:51.376Z"
   },
   {
    "duration": 3,
    "start_time": "2022-06-02T11:24:51.397Z"
   },
   {
    "duration": 9,
    "start_time": "2022-06-02T11:24:51.402Z"
   },
   {
    "duration": 215,
    "start_time": "2022-06-02T11:24:51.413Z"
   },
   {
    "duration": 7,
    "start_time": "2022-06-02T11:24:51.630Z"
   },
   {
    "duration": 7,
    "start_time": "2022-06-02T11:24:51.640Z"
   },
   {
    "duration": 70,
    "start_time": "2022-06-02T11:24:51.648Z"
   },
   {
    "duration": 19,
    "start_time": "2022-06-02T11:24:51.719Z"
   },
   {
    "duration": 3,
    "start_time": "2022-06-02T11:24:51.739Z"
   },
   {
    "duration": 10,
    "start_time": "2022-06-02T11:24:51.743Z"
   },
   {
    "duration": 4,
    "start_time": "2022-06-02T11:24:51.754Z"
   },
   {
    "duration": 6,
    "start_time": "2022-06-02T11:24:51.760Z"
   },
   {
    "duration": 8,
    "start_time": "2022-06-02T11:24:51.792Z"
   },
   {
    "duration": 13,
    "start_time": "2022-06-02T11:24:51.801Z"
   },
   {
    "duration": 7,
    "start_time": "2022-06-02T11:24:51.815Z"
   },
   {
    "duration": 11,
    "start_time": "2022-06-02T11:24:51.823Z"
   },
   {
    "duration": 13,
    "start_time": "2022-06-02T11:24:51.835Z"
   },
   {
    "duration": 80,
    "start_time": "2022-06-02T11:24:51.849Z"
   },
   {
    "duration": 608,
    "start_time": "2022-06-02T11:24:51.930Z"
   },
   {
    "duration": 0,
    "start_time": "2022-06-02T11:24:52.540Z"
   },
   {
    "duration": 0,
    "start_time": "2022-06-02T11:24:52.541Z"
   },
   {
    "duration": 0,
    "start_time": "2022-06-02T11:24:52.542Z"
   },
   {
    "duration": 0,
    "start_time": "2022-06-02T11:24:52.544Z"
   },
   {
    "duration": 0,
    "start_time": "2022-06-02T11:24:52.544Z"
   },
   {
    "duration": 0,
    "start_time": "2022-06-02T11:24:52.545Z"
   },
   {
    "duration": 0,
    "start_time": "2022-06-02T11:24:52.546Z"
   },
   {
    "duration": 0,
    "start_time": "2022-06-02T11:24:52.547Z"
   },
   {
    "duration": 0,
    "start_time": "2022-06-02T11:24:52.549Z"
   },
   {
    "duration": 0,
    "start_time": "2022-06-02T11:24:52.550Z"
   },
   {
    "duration": 0,
    "start_time": "2022-06-02T11:24:52.551Z"
   },
   {
    "duration": 0,
    "start_time": "2022-06-02T11:24:52.552Z"
   },
   {
    "duration": 0,
    "start_time": "2022-06-02T11:24:52.553Z"
   },
   {
    "duration": 0,
    "start_time": "2022-06-02T11:24:52.554Z"
   },
   {
    "duration": 0,
    "start_time": "2022-06-02T11:24:52.555Z"
   },
   {
    "duration": 0,
    "start_time": "2022-06-02T11:24:52.556Z"
   },
   {
    "duration": 0,
    "start_time": "2022-06-02T11:24:52.557Z"
   },
   {
    "duration": 0,
    "start_time": "2022-06-02T11:24:52.558Z"
   },
   {
    "duration": 0,
    "start_time": "2022-06-02T11:24:52.559Z"
   },
   {
    "duration": 0,
    "start_time": "2022-06-02T11:24:52.560Z"
   },
   {
    "duration": 0,
    "start_time": "2022-06-02T11:24:52.561Z"
   },
   {
    "duration": 6,
    "start_time": "2022-06-02T11:25:47.778Z"
   },
   {
    "duration": 497,
    "start_time": "2022-06-02T11:25:59.618Z"
   },
   {
    "duration": 5,
    "start_time": "2022-06-02T11:26:20.678Z"
   },
   {
    "duration": 5,
    "start_time": "2022-06-02T11:26:21.079Z"
   },
   {
    "duration": 12,
    "start_time": "2022-06-02T11:26:31.763Z"
   },
   {
    "duration": 12,
    "start_time": "2022-06-02T11:26:48.407Z"
   },
   {
    "duration": 9,
    "start_time": "2022-06-02T11:27:13.183Z"
   },
   {
    "duration": 4,
    "start_time": "2022-06-02T11:27:18.021Z"
   },
   {
    "duration": 79,
    "start_time": "2022-06-02T11:27:20.345Z"
   },
   {
    "duration": 332,
    "start_time": "2022-06-02T11:27:33.558Z"
   },
   {
    "duration": 5,
    "start_time": "2022-06-02T11:28:05.083Z"
   },
   {
    "duration": 6,
    "start_time": "2022-06-02T11:28:05.090Z"
   },
   {
    "duration": 707,
    "start_time": "2022-06-02T11:28:05.097Z"
   },
   {
    "duration": 4,
    "start_time": "2022-06-02T11:28:05.806Z"
   },
   {
    "duration": 306,
    "start_time": "2022-06-02T11:28:05.812Z"
   },
   {
    "duration": 168,
    "start_time": "2022-06-02T11:28:06.119Z"
   },
   {
    "duration": 329,
    "start_time": "2022-06-02T11:28:06.288Z"
   },
   {
    "duration": 22,
    "start_time": "2022-06-02T11:28:06.619Z"
   },
   {
    "duration": 8,
    "start_time": "2022-06-02T11:28:06.642Z"
   },
   {
    "duration": 9,
    "start_time": "2022-06-02T11:28:06.651Z"
   },
   {
    "duration": 215,
    "start_time": "2022-06-02T11:28:06.662Z"
   },
   {
    "duration": 13,
    "start_time": "2022-06-02T11:28:06.879Z"
   },
   {
    "duration": 8,
    "start_time": "2022-06-02T11:28:06.894Z"
   },
   {
    "duration": 56,
    "start_time": "2022-06-02T11:28:06.904Z"
   },
   {
    "duration": 39,
    "start_time": "2022-06-02T11:28:06.962Z"
   },
   {
    "duration": 4,
    "start_time": "2022-06-02T11:28:07.003Z"
   },
   {
    "duration": 10,
    "start_time": "2022-06-02T11:28:07.009Z"
   },
   {
    "duration": 7,
    "start_time": "2022-06-02T11:28:07.020Z"
   },
   {
    "duration": 9,
    "start_time": "2022-06-02T11:28:07.029Z"
   },
   {
    "duration": 11,
    "start_time": "2022-06-02T11:28:07.040Z"
   },
   {
    "duration": 11,
    "start_time": "2022-06-02T11:28:07.053Z"
   },
   {
    "duration": 30,
    "start_time": "2022-06-02T11:28:07.065Z"
   },
   {
    "duration": 12,
    "start_time": "2022-06-02T11:28:07.097Z"
   },
   {
    "duration": 6,
    "start_time": "2022-06-02T11:28:07.110Z"
   },
   {
    "duration": 5,
    "start_time": "2022-06-02T11:28:30.499Z"
   },
   {
    "duration": 11,
    "start_time": "2022-06-02T11:28:30.506Z"
   },
   {
    "duration": 718,
    "start_time": "2022-06-02T11:28:30.519Z"
   },
   {
    "duration": 4,
    "start_time": "2022-06-02T11:28:31.240Z"
   },
   {
    "duration": 314,
    "start_time": "2022-06-02T11:28:31.246Z"
   },
   {
    "duration": 168,
    "start_time": "2022-06-02T11:28:31.561Z"
   },
   {
    "duration": 354,
    "start_time": "2022-06-02T11:28:31.731Z"
   },
   {
    "duration": 14,
    "start_time": "2022-06-02T11:28:32.092Z"
   },
   {
    "duration": 4,
    "start_time": "2022-06-02T11:28:32.108Z"
   },
   {
    "duration": 7,
    "start_time": "2022-06-02T11:28:32.114Z"
   },
   {
    "duration": 289,
    "start_time": "2022-06-02T11:28:32.123Z"
   },
   {
    "duration": 8,
    "start_time": "2022-06-02T11:28:32.414Z"
   },
   {
    "duration": 7,
    "start_time": "2022-06-02T11:28:32.424Z"
   },
   {
    "duration": 71,
    "start_time": "2022-06-02T11:28:32.433Z"
   },
   {
    "duration": 19,
    "start_time": "2022-06-02T11:28:32.506Z"
   },
   {
    "duration": 4,
    "start_time": "2022-06-02T11:28:32.526Z"
   },
   {
    "duration": 8,
    "start_time": "2022-06-02T11:28:32.531Z"
   },
   {
    "duration": 24,
    "start_time": "2022-06-02T11:28:32.541Z"
   },
   {
    "duration": 8,
    "start_time": "2022-06-02T11:28:32.566Z"
   },
   {
    "duration": 21,
    "start_time": "2022-06-02T11:28:32.575Z"
   },
   {
    "duration": 11,
    "start_time": "2022-06-02T11:28:32.597Z"
   },
   {
    "duration": 8,
    "start_time": "2022-06-02T11:28:32.609Z"
   },
   {
    "duration": 11,
    "start_time": "2022-06-02T11:28:32.618Z"
   },
   {
    "duration": 6,
    "start_time": "2022-06-02T11:28:32.639Z"
   },
   {
    "duration": 11,
    "start_time": "2022-06-02T11:28:40.605Z"
   },
   {
    "duration": 660,
    "start_time": "2022-06-02T11:28:55.624Z"
   },
   {
    "duration": 732,
    "start_time": "2022-06-02T11:29:14.177Z"
   },
   {
    "duration": 5,
    "start_time": "2022-06-02T11:31:04.074Z"
   },
   {
    "duration": 6,
    "start_time": "2022-06-02T11:31:04.081Z"
   },
   {
    "duration": 717,
    "start_time": "2022-06-02T11:31:04.089Z"
   },
   {
    "duration": 3,
    "start_time": "2022-06-02T11:31:04.808Z"
   },
   {
    "duration": 304,
    "start_time": "2022-06-02T11:31:04.813Z"
   },
   {
    "duration": 188,
    "start_time": "2022-06-02T11:31:05.118Z"
   },
   {
    "duration": 311,
    "start_time": "2022-06-02T11:31:05.307Z"
   },
   {
    "duration": 16,
    "start_time": "2022-06-02T11:31:05.620Z"
   },
   {
    "duration": 7,
    "start_time": "2022-06-02T11:31:05.637Z"
   },
   {
    "duration": 8,
    "start_time": "2022-06-02T11:31:05.646Z"
   },
   {
    "duration": 232,
    "start_time": "2022-06-02T11:31:05.656Z"
   },
   {
    "duration": 8,
    "start_time": "2022-06-02T11:31:05.891Z"
   },
   {
    "duration": 7,
    "start_time": "2022-06-02T11:31:05.901Z"
   },
   {
    "duration": 50,
    "start_time": "2022-06-02T11:31:05.911Z"
   },
   {
    "duration": 47,
    "start_time": "2022-06-02T11:31:05.963Z"
   },
   {
    "duration": 4,
    "start_time": "2022-06-02T11:31:06.011Z"
   },
   {
    "duration": 8,
    "start_time": "2022-06-02T11:31:06.016Z"
   },
   {
    "duration": 4,
    "start_time": "2022-06-02T11:31:06.026Z"
   },
   {
    "duration": 5,
    "start_time": "2022-06-02T11:31:06.032Z"
   },
   {
    "duration": 11,
    "start_time": "2022-06-02T11:31:06.038Z"
   },
   {
    "duration": 10,
    "start_time": "2022-06-02T11:31:06.050Z"
   },
   {
    "duration": 8,
    "start_time": "2022-06-02T11:31:06.092Z"
   },
   {
    "duration": 11,
    "start_time": "2022-06-02T11:31:06.102Z"
   },
   {
    "duration": 18,
    "start_time": "2022-06-02T11:31:18.024Z"
   },
   {
    "duration": 14,
    "start_time": "2022-06-02T11:32:25.862Z"
   },
   {
    "duration": 6,
    "start_time": "2022-06-02T11:32:37.736Z"
   },
   {
    "duration": 9,
    "start_time": "2022-06-02T11:32:37.743Z"
   },
   {
    "duration": 707,
    "start_time": "2022-06-02T11:32:37.753Z"
   },
   {
    "duration": 3,
    "start_time": "2022-06-02T11:32:38.461Z"
   },
   {
    "duration": 289,
    "start_time": "2022-06-02T11:32:38.466Z"
   },
   {
    "duration": 168,
    "start_time": "2022-06-02T11:32:38.757Z"
   },
   {
    "duration": 314,
    "start_time": "2022-06-02T11:32:38.927Z"
   },
   {
    "duration": 14,
    "start_time": "2022-06-02T11:32:39.242Z"
   },
   {
    "duration": 5,
    "start_time": "2022-06-02T11:32:39.257Z"
   },
   {
    "duration": 7,
    "start_time": "2022-06-02T11:32:39.264Z"
   },
   {
    "duration": 210,
    "start_time": "2022-06-02T11:32:39.273Z"
   },
   {
    "duration": 14,
    "start_time": "2022-06-02T11:32:39.484Z"
   },
   {
    "duration": 8,
    "start_time": "2022-06-02T11:32:39.499Z"
   },
   {
    "duration": 53,
    "start_time": "2022-06-02T11:32:39.508Z"
   },
   {
    "duration": 43,
    "start_time": "2022-06-02T11:32:39.563Z"
   },
   {
    "duration": 3,
    "start_time": "2022-06-02T11:32:39.608Z"
   },
   {
    "duration": 9,
    "start_time": "2022-06-02T11:32:39.612Z"
   },
   {
    "duration": 4,
    "start_time": "2022-06-02T11:32:39.623Z"
   },
   {
    "duration": 6,
    "start_time": "2022-06-02T11:32:39.628Z"
   },
   {
    "duration": 10,
    "start_time": "2022-06-02T11:32:39.635Z"
   },
   {
    "duration": 10,
    "start_time": "2022-06-02T11:32:39.646Z"
   },
   {
    "duration": 39,
    "start_time": "2022-06-02T11:32:39.657Z"
   },
   {
    "duration": 11,
    "start_time": "2022-06-02T11:32:39.698Z"
   },
   {
    "duration": 12,
    "start_time": "2022-06-02T11:32:39.711Z"
   },
   {
    "duration": 13,
    "start_time": "2022-06-02T11:32:47.983Z"
   },
   {
    "duration": 13,
    "start_time": "2022-06-02T11:32:59.217Z"
   },
   {
    "duration": 5,
    "start_time": "2022-06-02T11:35:23.921Z"
   },
   {
    "duration": 13,
    "start_time": "2022-06-02T11:35:34.171Z"
   },
   {
    "duration": 8,
    "start_time": "2022-06-02T11:36:29.576Z"
   },
   {
    "duration": 13,
    "start_time": "2022-06-02T11:36:37.119Z"
   },
   {
    "duration": 5,
    "start_time": "2022-06-02T11:36:46.006Z"
   },
   {
    "duration": 9,
    "start_time": "2022-06-02T11:37:42.907Z"
   },
   {
    "duration": 8,
    "start_time": "2022-06-02T11:37:43.505Z"
   },
   {
    "duration": 523,
    "start_time": "2022-06-02T11:38:27.769Z"
   },
   {
    "duration": 3,
    "start_time": "2022-06-02T11:38:51.370Z"
   },
   {
    "duration": 251,
    "start_time": "2022-06-02T11:38:59.900Z"
   },
   {
    "duration": 1519,
    "start_time": "2022-06-02T11:39:11.274Z"
   },
   {
    "duration": 3,
    "start_time": "2022-06-02T11:39:20.740Z"
   },
   {
    "duration": 94,
    "start_time": "2022-06-02T11:39:24.742Z"
   },
   {
    "duration": 4,
    "start_time": "2022-06-02T11:41:04.618Z"
   },
   {
    "duration": 4,
    "start_time": "2022-06-02T11:41:09.570Z"
   },
   {
    "duration": 72,
    "start_time": "2022-06-02T11:41:10.427Z"
   },
   {
    "duration": 4,
    "start_time": "2022-06-02T11:41:22.382Z"
   },
   {
    "duration": 165,
    "start_time": "2022-06-02T11:41:29.317Z"
   },
   {
    "duration": 3,
    "start_time": "2022-06-02T11:41:34.769Z"
   },
   {
    "duration": 3,
    "start_time": "2022-06-02T11:41:35.125Z"
   },
   {
    "duration": 3,
    "start_time": "2022-06-02T11:41:35.508Z"
   },
   {
    "duration": 56,
    "start_time": "2022-06-02T11:42:19.788Z"
   },
   {
    "duration": 13,
    "start_time": "2022-06-02T11:43:21.115Z"
   },
   {
    "duration": 4,
    "start_time": "2022-06-02T11:43:23.940Z"
   },
   {
    "duration": 11,
    "start_time": "2022-06-02T11:45:26.306Z"
   },
   {
    "duration": 4,
    "start_time": "2022-06-02T11:45:40.076Z"
   },
   {
    "duration": 4,
    "start_time": "2022-06-02T11:45:49.784Z"
   },
   {
    "duration": 4,
    "start_time": "2022-06-02T11:45:53.796Z"
   },
   {
    "duration": 4,
    "start_time": "2022-06-02T11:46:18.315Z"
   },
   {
    "duration": 317,
    "start_time": "2022-06-02T11:47:44.285Z"
   },
   {
    "duration": 9,
    "start_time": "2022-06-02T11:47:53.326Z"
   },
   {
    "duration": 9,
    "start_time": "2022-06-02T11:50:07.127Z"
   },
   {
    "duration": 4,
    "start_time": "2022-06-02T11:50:13.619Z"
   },
   {
    "duration": 34,
    "start_time": "2022-06-02T11:50:23.971Z"
   },
   {
    "duration": 4,
    "start_time": "2022-06-02T11:50:27.734Z"
   },
   {
    "duration": 5,
    "start_time": "2022-06-02T11:50:37.084Z"
   },
   {
    "duration": 3,
    "start_time": "2022-06-02T11:50:51.076Z"
   },
   {
    "duration": 72,
    "start_time": "2022-06-02T11:52:22.491Z"
   },
   {
    "duration": 10,
    "start_time": "2022-06-02T11:52:31.285Z"
   },
   {
    "duration": 6,
    "start_time": "2022-06-02T11:52:40.781Z"
   },
   {
    "duration": 9,
    "start_time": "2022-06-02T11:52:56.098Z"
   },
   {
    "duration": 10,
    "start_time": "2022-06-02T11:56:09.372Z"
   },
   {
    "duration": 5,
    "start_time": "2022-06-02T11:57:13.367Z"
   },
   {
    "duration": 192,
    "start_time": "2022-06-02T11:57:16.403Z"
   },
   {
    "duration": 5,
    "start_time": "2022-06-02T11:58:02.593Z"
   },
   {
    "duration": 1891,
    "start_time": "2022-06-02T11:58:06.504Z"
   },
   {
    "duration": 5,
    "start_time": "2022-06-02T12:01:26.884Z"
   },
   {
    "duration": 90140,
    "start_time": "2022-06-02T12:01:51.217Z"
   },
   {
    "duration": 49,
    "start_time": "2022-06-02T12:04:20.013Z"
   },
   {
    "duration": 11,
    "start_time": "2022-06-02T12:04:25.539Z"
   },
   {
    "duration": 6,
    "start_time": "2022-06-02T12:04:55.531Z"
   },
   {
    "duration": 2135653,
    "start_time": "2022-06-02T12:04:58.571Z"
   },
   {
    "duration": 2,
    "start_time": "2022-06-02T12:40:38.183Z"
   },
   {
    "duration": 5,
    "start_time": "2022-06-02T12:40:38.870Z"
   },
   {
    "duration": 6,
    "start_time": "2022-06-02T12:40:39.905Z"
   },
   {
    "duration": 10,
    "start_time": "2022-06-02T12:40:41.160Z"
   },
   {
    "duration": 1933,
    "start_time": "2022-06-02T12:40:41.979Z"
   },
   {
    "duration": 91981,
    "start_time": "2022-06-02T12:41:00.664Z"
   },
   {
    "duration": 248445,
    "start_time": "2022-06-02T12:42:32.647Z"
   },
   {
    "duration": 2316,
    "start_time": "2022-06-02T12:46:43.382Z"
   },
   {
    "duration": 1703,
    "start_time": "2022-06-02T12:47:39.294Z"
   },
   {
    "duration": 91628,
    "start_time": "2022-06-02T12:47:40.999Z"
   },
   {
    "duration": 5567522,
    "start_time": "2022-06-02T12:49:12.629Z"
   },
   {
    "duration": 6748,
    "start_time": "2022-06-02T14:22:00.152Z"
   },
   {
    "duration": 63,
    "start_time": "2022-06-03T07:47:43.196Z"
   },
   {
    "duration": 1640,
    "start_time": "2022-06-03T07:47:53.543Z"
   },
   {
    "duration": 3,
    "start_time": "2022-06-03T07:47:55.185Z"
   },
   {
    "duration": 3746,
    "start_time": "2022-06-03T07:47:55.189Z"
   },
   {
    "duration": 3,
    "start_time": "2022-06-03T07:47:58.937Z"
   },
   {
    "duration": 409,
    "start_time": "2022-06-03T07:47:58.942Z"
   },
   {
    "duration": 197,
    "start_time": "2022-06-03T07:47:59.353Z"
   },
   {
    "duration": 377,
    "start_time": "2022-06-03T07:47:59.553Z"
   },
   {
    "duration": 18,
    "start_time": "2022-06-03T07:47:59.934Z"
   },
   {
    "duration": 15,
    "start_time": "2022-06-03T07:47:59.954Z"
   },
   {
    "duration": 3,
    "start_time": "2022-06-03T07:47:59.973Z"
   },
   {
    "duration": 10,
    "start_time": "2022-06-03T07:47:59.978Z"
   },
   {
    "duration": 236,
    "start_time": "2022-06-03T07:47:59.989Z"
   },
   {
    "duration": 9,
    "start_time": "2022-06-03T07:48:00.227Z"
   },
   {
    "duration": 14,
    "start_time": "2022-06-03T07:48:00.238Z"
   },
   {
    "duration": 132,
    "start_time": "2022-06-03T07:48:00.255Z"
   },
   {
    "duration": 26,
    "start_time": "2022-06-03T07:48:00.389Z"
   },
   {
    "duration": 13,
    "start_time": "2022-06-03T07:48:00.416Z"
   },
   {
    "duration": 17,
    "start_time": "2022-06-03T07:48:00.430Z"
   },
   {
    "duration": 6,
    "start_time": "2022-06-03T07:48:00.449Z"
   },
   {
    "duration": 43,
    "start_time": "2022-06-03T07:48:00.457Z"
   },
   {
    "duration": 23,
    "start_time": "2022-06-03T07:48:00.502Z"
   },
   {
    "duration": 16,
    "start_time": "2022-06-03T07:48:00.527Z"
   },
   {
    "duration": 27,
    "start_time": "2022-06-03T07:48:00.544Z"
   },
   {
    "duration": 23,
    "start_time": "2022-06-03T07:48:00.572Z"
   },
   {
    "duration": 6,
    "start_time": "2022-06-03T07:48:00.597Z"
   },
   {
    "duration": 17,
    "start_time": "2022-06-03T07:48:00.604Z"
   },
   {
    "duration": 135,
    "start_time": "2022-06-03T07:48:00.622Z"
   },
   {
    "duration": 0,
    "start_time": "2022-06-03T07:48:00.760Z"
   },
   {
    "duration": 0,
    "start_time": "2022-06-03T07:48:00.761Z"
   },
   {
    "duration": 0,
    "start_time": "2022-06-03T07:48:00.762Z"
   },
   {
    "duration": 0,
    "start_time": "2022-06-03T07:48:00.763Z"
   },
   {
    "duration": 0,
    "start_time": "2022-06-03T07:48:00.764Z"
   },
   {
    "duration": 0,
    "start_time": "2022-06-03T07:48:00.766Z"
   },
   {
    "duration": 0,
    "start_time": "2022-06-03T07:48:00.767Z"
   },
   {
    "duration": 0,
    "start_time": "2022-06-03T07:48:00.768Z"
   },
   {
    "duration": 0,
    "start_time": "2022-06-03T07:48:00.769Z"
   },
   {
    "duration": 0,
    "start_time": "2022-06-03T07:48:00.770Z"
   },
   {
    "duration": 0,
    "start_time": "2022-06-03T07:48:00.772Z"
   },
   {
    "duration": 0,
    "start_time": "2022-06-03T07:48:00.773Z"
   },
   {
    "duration": 0,
    "start_time": "2022-06-03T07:48:00.774Z"
   },
   {
    "duration": 0,
    "start_time": "2022-06-03T07:48:00.775Z"
   },
   {
    "duration": 0,
    "start_time": "2022-06-03T07:48:00.776Z"
   },
   {
    "duration": 0,
    "start_time": "2022-06-03T07:48:00.778Z"
   },
   {
    "duration": 0,
    "start_time": "2022-06-03T07:48:00.779Z"
   },
   {
    "duration": 0,
    "start_time": "2022-06-03T07:48:00.780Z"
   },
   {
    "duration": 0,
    "start_time": "2022-06-03T07:48:00.781Z"
   },
   {
    "duration": 0,
    "start_time": "2022-06-03T07:48:00.782Z"
   },
   {
    "duration": 0,
    "start_time": "2022-06-03T07:48:00.783Z"
   },
   {
    "duration": 0,
    "start_time": "2022-06-03T07:48:00.784Z"
   },
   {
    "duration": 0,
    "start_time": "2022-06-03T07:48:00.822Z"
   },
   {
    "duration": 1310,
    "start_time": "2022-06-03T07:48:20.249Z"
   },
   {
    "duration": 3,
    "start_time": "2022-06-03T07:48:21.560Z"
   },
   {
    "duration": 730,
    "start_time": "2022-06-03T07:48:21.565Z"
   },
   {
    "duration": 4,
    "start_time": "2022-06-03T07:48:22.297Z"
   },
   {
    "duration": 385,
    "start_time": "2022-06-03T07:48:22.303Z"
   },
   {
    "duration": 215,
    "start_time": "2022-06-03T07:48:22.690Z"
   },
   {
    "duration": 327,
    "start_time": "2022-06-03T07:48:22.907Z"
   },
   {
    "duration": 13,
    "start_time": "2022-06-03T07:48:23.236Z"
   },
   {
    "duration": 10,
    "start_time": "2022-06-03T07:48:23.251Z"
   },
   {
    "duration": 3,
    "start_time": "2022-06-03T07:48:23.263Z"
   },
   {
    "duration": 15,
    "start_time": "2022-06-03T07:48:23.267Z"
   },
   {
    "duration": 222,
    "start_time": "2022-06-03T07:48:23.284Z"
   },
   {
    "duration": 8,
    "start_time": "2022-06-03T07:48:23.508Z"
   },
   {
    "duration": 7,
    "start_time": "2022-06-03T07:48:23.523Z"
   },
   {
    "duration": 103,
    "start_time": "2022-06-03T07:48:23.532Z"
   },
   {
    "duration": 25,
    "start_time": "2022-06-03T07:48:23.637Z"
   },
   {
    "duration": 4,
    "start_time": "2022-06-03T07:48:23.664Z"
   },
   {
    "duration": 22,
    "start_time": "2022-06-03T07:48:23.670Z"
   },
   {
    "duration": 22,
    "start_time": "2022-06-03T07:48:23.694Z"
   },
   {
    "duration": 17,
    "start_time": "2022-06-03T07:48:23.718Z"
   },
   {
    "duration": 16,
    "start_time": "2022-06-03T07:48:23.736Z"
   },
   {
    "duration": 13,
    "start_time": "2022-06-03T07:48:23.753Z"
   },
   {
    "duration": 8,
    "start_time": "2022-06-03T07:48:23.767Z"
   },
   {
    "duration": 12,
    "start_time": "2022-06-03T07:48:23.776Z"
   },
   {
    "duration": 4,
    "start_time": "2022-06-03T07:48:23.790Z"
   },
   {
    "duration": 15,
    "start_time": "2022-06-03T07:48:23.796Z"
   },
   {
    "duration": 15,
    "start_time": "2022-06-03T07:48:23.812Z"
   },
   {
    "duration": 8,
    "start_time": "2022-06-03T07:48:23.830Z"
   },
   {
    "duration": 14,
    "start_time": "2022-06-03T07:48:23.840Z"
   },
   {
    "duration": 484,
    "start_time": "2022-06-03T07:48:23.855Z"
   },
   {
    "duration": 294,
    "start_time": "2022-06-03T07:48:24.341Z"
   },
   {
    "duration": 1725,
    "start_time": "2022-06-03T07:48:24.637Z"
   },
   {
    "duration": 4,
    "start_time": "2022-06-03T07:48:26.363Z"
   },
   {
    "duration": 103,
    "start_time": "2022-06-03T07:48:26.368Z"
   },
   {
    "duration": 2,
    "start_time": "2022-06-03T07:48:26.473Z"
   },
   {
    "duration": 9,
    "start_time": "2022-06-03T07:48:26.477Z"
   },
   {
    "duration": 82,
    "start_time": "2022-06-03T07:48:26.488Z"
   },
   {
    "duration": 4,
    "start_time": "2022-06-03T07:48:26.572Z"
   },
   {
    "duration": 290,
    "start_time": "2022-06-03T07:48:26.577Z"
   },
   {
    "duration": 3,
    "start_time": "2022-06-03T07:48:26.869Z"
   },
   {
    "duration": 8,
    "start_time": "2022-06-03T07:48:26.873Z"
   },
   {
    "duration": 7,
    "start_time": "2022-06-03T07:48:26.882Z"
   },
   {
    "duration": 6,
    "start_time": "2022-06-03T07:48:26.890Z"
   },
   {
    "duration": 7,
    "start_time": "2022-06-03T07:48:26.898Z"
   },
   {
    "duration": 23,
    "start_time": "2022-06-03T07:48:26.906Z"
   },
   {
    "duration": 2803,
    "start_time": "2022-06-03T07:48:26.930Z"
   },
   {
    "duration": 97500,
    "start_time": "2022-06-03T07:48:29.734Z"
   },
   {
    "duration": 72632,
    "start_time": "2022-06-03T07:50:07.236Z"
   },
   {
    "duration": 0,
    "start_time": "2022-06-03T07:51:19.870Z"
   },
   {
    "duration": 0,
    "start_time": "2022-06-03T07:51:19.872Z"
   },
   {
    "duration": 4955,
    "start_time": "2022-06-03T07:51:21.687Z"
   },
   {
    "duration": 100532,
    "start_time": "2022-06-03T07:53:09.869Z"
   },
   {
    "duration": 6507050,
    "start_time": "2022-06-03T07:54:50.404Z"
   },
   {
    "duration": 1908,
    "start_time": "2022-06-03T10:06:34.188Z"
   },
   {
    "duration": 1414,
    "start_time": "2022-06-03T10:40:56.549Z"
   },
   {
    "duration": 3,
    "start_time": "2022-06-03T10:40:57.965Z"
   },
   {
    "duration": 812,
    "start_time": "2022-06-03T10:40:57.970Z"
   },
   {
    "duration": 3,
    "start_time": "2022-06-03T10:40:58.784Z"
   },
   {
    "duration": 449,
    "start_time": "2022-06-03T10:40:58.789Z"
   },
   {
    "duration": 278,
    "start_time": "2022-06-03T10:40:59.240Z"
   },
   {
    "duration": 435,
    "start_time": "2022-06-03T10:40:59.520Z"
   },
   {
    "duration": 22,
    "start_time": "2022-06-03T10:40:59.957Z"
   },
   {
    "duration": 9,
    "start_time": "2022-06-03T10:40:59.981Z"
   },
   {
    "duration": 268,
    "start_time": "2022-06-03T10:40:59.995Z"
   },
   {
    "duration": 10,
    "start_time": "2022-06-03T10:41:00.265Z"
   },
   {
    "duration": 15,
    "start_time": "2022-06-03T10:41:00.276Z"
   },
   {
    "duration": 119,
    "start_time": "2022-06-03T10:41:00.292Z"
   },
   {
    "duration": 39,
    "start_time": "2022-06-03T10:41:00.413Z"
   },
   {
    "duration": 6,
    "start_time": "2022-06-03T10:41:00.454Z"
   },
   {
    "duration": 11,
    "start_time": "2022-06-03T10:41:00.462Z"
   },
   {
    "duration": 13,
    "start_time": "2022-06-03T10:41:00.475Z"
   },
   {
    "duration": 7,
    "start_time": "2022-06-03T10:41:00.490Z"
   },
   {
    "duration": 0,
    "start_time": "2022-06-03T10:41:00.499Z"
   },
   {
    "duration": 0,
    "start_time": "2022-06-03T10:41:00.501Z"
   },
   {
    "duration": 0,
    "start_time": "2022-06-03T10:41:00.502Z"
   },
   {
    "duration": 1,
    "start_time": "2022-06-03T10:41:00.502Z"
   },
   {
    "duration": 0,
    "start_time": "2022-06-03T10:41:00.503Z"
   },
   {
    "duration": 0,
    "start_time": "2022-06-03T10:41:00.504Z"
   },
   {
    "duration": 0,
    "start_time": "2022-06-03T10:41:00.504Z"
   },
   {
    "duration": 0,
    "start_time": "2022-06-03T10:41:00.505Z"
   },
   {
    "duration": 0,
    "start_time": "2022-06-03T10:41:00.505Z"
   },
   {
    "duration": 0,
    "start_time": "2022-06-03T10:41:00.525Z"
   },
   {
    "duration": 0,
    "start_time": "2022-06-03T10:41:00.525Z"
   },
   {
    "duration": 0,
    "start_time": "2022-06-03T10:41:00.526Z"
   },
   {
    "duration": 0,
    "start_time": "2022-06-03T10:41:00.527Z"
   },
   {
    "duration": 0,
    "start_time": "2022-06-03T10:41:00.528Z"
   },
   {
    "duration": 0,
    "start_time": "2022-06-03T10:41:00.528Z"
   },
   {
    "duration": 0,
    "start_time": "2022-06-03T10:41:00.529Z"
   },
   {
    "duration": 0,
    "start_time": "2022-06-03T10:41:00.535Z"
   },
   {
    "duration": 0,
    "start_time": "2022-06-03T10:41:00.536Z"
   },
   {
    "duration": 0,
    "start_time": "2022-06-03T10:41:00.537Z"
   },
   {
    "duration": 0,
    "start_time": "2022-06-03T10:41:00.539Z"
   },
   {
    "duration": 0,
    "start_time": "2022-06-03T10:41:00.540Z"
   },
   {
    "duration": 0,
    "start_time": "2022-06-03T10:41:00.541Z"
   },
   {
    "duration": 0,
    "start_time": "2022-06-03T10:41:00.542Z"
   },
   {
    "duration": 0,
    "start_time": "2022-06-03T10:41:00.544Z"
   },
   {
    "duration": 0,
    "start_time": "2022-06-03T10:41:00.545Z"
   },
   {
    "duration": 0,
    "start_time": "2022-06-03T10:41:00.546Z"
   },
   {
    "duration": 0,
    "start_time": "2022-06-03T10:41:00.547Z"
   },
   {
    "duration": 7,
    "start_time": "2022-06-03T10:41:11.747Z"
   },
   {
    "duration": 16,
    "start_time": "2022-06-03T10:41:11.756Z"
   },
   {
    "duration": 14,
    "start_time": "2022-06-03T10:41:11.774Z"
   },
   {
    "duration": 10,
    "start_time": "2022-06-03T10:41:11.790Z"
   },
   {
    "duration": 6,
    "start_time": "2022-06-03T10:41:11.802Z"
   },
   {
    "duration": 19,
    "start_time": "2022-06-03T10:41:11.809Z"
   },
   {
    "duration": 9,
    "start_time": "2022-06-03T10:41:11.830Z"
   },
   {
    "duration": 13,
    "start_time": "2022-06-03T10:41:11.845Z"
   },
   {
    "duration": 580,
    "start_time": "2022-06-03T10:41:11.862Z"
   },
   {
    "duration": 1915,
    "start_time": "2022-06-03T10:41:12.444Z"
   },
   {
    "duration": 4,
    "start_time": "2022-06-03T10:41:14.361Z"
   },
   {
    "duration": 133,
    "start_time": "2022-06-03T10:41:14.367Z"
   },
   {
    "duration": 5,
    "start_time": "2022-06-03T10:41:14.503Z"
   },
   {
    "duration": 0,
    "start_time": "2022-06-03T10:41:14.509Z"
   },
   {
    "duration": 0,
    "start_time": "2022-06-03T10:41:14.510Z"
   },
   {
    "duration": 0,
    "start_time": "2022-06-03T10:41:14.511Z"
   },
   {
    "duration": 0,
    "start_time": "2022-06-03T10:41:14.511Z"
   },
   {
    "duration": 0,
    "start_time": "2022-06-03T10:41:14.512Z"
   },
   {
    "duration": 0,
    "start_time": "2022-06-03T10:41:14.512Z"
   },
   {
    "duration": 0,
    "start_time": "2022-06-03T10:41:14.513Z"
   },
   {
    "duration": 0,
    "start_time": "2022-06-03T10:41:14.513Z"
   },
   {
    "duration": 0,
    "start_time": "2022-06-03T10:41:14.524Z"
   },
   {
    "duration": 0,
    "start_time": "2022-06-03T10:41:14.527Z"
   },
   {
    "duration": 0,
    "start_time": "2022-06-03T10:41:14.528Z"
   },
   {
    "duration": 0,
    "start_time": "2022-06-03T10:41:14.529Z"
   },
   {
    "duration": 0,
    "start_time": "2022-06-03T10:41:14.529Z"
   },
   {
    "duration": 0,
    "start_time": "2022-06-03T10:41:14.530Z"
   },
   {
    "duration": 149,
    "start_time": "2022-06-03T10:41:54.017Z"
   },
   {
    "duration": 0,
    "start_time": "2022-06-03T10:41:54.168Z"
   },
   {
    "duration": 0,
    "start_time": "2022-06-03T10:41:54.169Z"
   },
   {
    "duration": 0,
    "start_time": "2022-06-03T10:41:54.170Z"
   },
   {
    "duration": 0,
    "start_time": "2022-06-03T10:41:54.171Z"
   },
   {
    "duration": 0,
    "start_time": "2022-06-03T10:41:54.172Z"
   },
   {
    "duration": 0,
    "start_time": "2022-06-03T10:41:54.174Z"
   },
   {
    "duration": 0,
    "start_time": "2022-06-03T10:41:54.175Z"
   },
   {
    "duration": 0,
    "start_time": "2022-06-03T10:41:54.176Z"
   },
   {
    "duration": 0,
    "start_time": "2022-06-03T10:41:54.177Z"
   },
   {
    "duration": 0,
    "start_time": "2022-06-03T10:41:54.179Z"
   },
   {
    "duration": 0,
    "start_time": "2022-06-03T10:41:54.180Z"
   },
   {
    "duration": 0,
    "start_time": "2022-06-03T10:41:54.181Z"
   },
   {
    "duration": 0,
    "start_time": "2022-06-03T10:41:54.183Z"
   },
   {
    "duration": 0,
    "start_time": "2022-06-03T10:41:54.184Z"
   },
   {
    "duration": 0,
    "start_time": "2022-06-03T10:41:54.185Z"
   },
   {
    "duration": 0,
    "start_time": "2022-06-03T10:41:54.226Z"
   },
   {
    "duration": 0,
    "start_time": "2022-06-03T10:41:54.229Z"
   },
   {
    "duration": 0,
    "start_time": "2022-06-03T10:41:54.233Z"
   },
   {
    "duration": 0,
    "start_time": "2022-06-03T10:41:54.234Z"
   },
   {
    "duration": 0,
    "start_time": "2022-06-03T10:41:54.235Z"
   },
   {
    "duration": 0,
    "start_time": "2022-06-03T10:41:54.239Z"
   },
   {
    "duration": 13,
    "start_time": "2022-06-03T10:41:54.241Z"
   },
   {
    "duration": 0,
    "start_time": "2022-06-03T10:41:54.255Z"
   },
   {
    "duration": 0,
    "start_time": "2022-06-03T10:41:54.257Z"
   },
   {
    "duration": 0,
    "start_time": "2022-06-03T10:41:54.258Z"
   },
   {
    "duration": 0,
    "start_time": "2022-06-03T10:41:54.260Z"
   },
   {
    "duration": 1361,
    "start_time": "2022-06-03T10:42:07.179Z"
   },
   {
    "duration": 3,
    "start_time": "2022-06-03T10:42:08.543Z"
   },
   {
    "duration": 839,
    "start_time": "2022-06-03T10:42:08.548Z"
   },
   {
    "duration": 3,
    "start_time": "2022-06-03T10:42:09.389Z"
   },
   {
    "duration": 352,
    "start_time": "2022-06-03T10:42:09.395Z"
   },
   {
    "duration": 199,
    "start_time": "2022-06-03T10:42:09.748Z"
   },
   {
    "duration": 392,
    "start_time": "2022-06-03T10:42:09.954Z"
   },
   {
    "duration": 15,
    "start_time": "2022-06-03T10:42:10.348Z"
   },
   {
    "duration": 4,
    "start_time": "2022-06-03T10:42:10.364Z"
   },
   {
    "duration": 249,
    "start_time": "2022-06-03T10:42:10.370Z"
   },
   {
    "duration": 9,
    "start_time": "2022-06-03T10:42:10.622Z"
   },
   {
    "duration": 11,
    "start_time": "2022-06-03T10:42:10.633Z"
   },
   {
    "duration": 91,
    "start_time": "2022-06-03T10:42:10.647Z"
   },
   {
    "duration": 25,
    "start_time": "2022-06-03T10:42:10.742Z"
   },
   {
    "duration": 4,
    "start_time": "2022-06-03T10:42:10.769Z"
   },
   {
    "duration": 10,
    "start_time": "2022-06-03T10:42:10.775Z"
   },
   {
    "duration": 8,
    "start_time": "2022-06-03T10:42:10.787Z"
   },
   {
    "duration": 8,
    "start_time": "2022-06-03T10:42:10.796Z"
   },
   {
    "duration": 25,
    "start_time": "2022-06-03T10:42:10.806Z"
   },
   {
    "duration": 16,
    "start_time": "2022-06-03T10:42:10.833Z"
   },
   {
    "duration": 12,
    "start_time": "2022-06-03T10:42:10.852Z"
   },
   {
    "duration": 7,
    "start_time": "2022-06-03T10:42:10.866Z"
   },
   {
    "duration": 9,
    "start_time": "2022-06-03T10:42:10.875Z"
   },
   {
    "duration": 49,
    "start_time": "2022-06-03T10:42:10.885Z"
   },
   {
    "duration": 18,
    "start_time": "2022-06-03T10:42:10.939Z"
   },
   {
    "duration": 522,
    "start_time": "2022-06-03T10:42:10.959Z"
   },
   {
    "duration": 1934,
    "start_time": "2022-06-03T10:42:11.483Z"
   },
   {
    "duration": 9,
    "start_time": "2022-06-03T10:42:13.427Z"
   },
   {
    "duration": 134,
    "start_time": "2022-06-03T10:42:13.444Z"
   },
   {
    "duration": 11,
    "start_time": "2022-06-03T10:42:13.579Z"
   },
   {
    "duration": 17,
    "start_time": "2022-06-03T10:42:13.592Z"
   },
   {
    "duration": 5,
    "start_time": "2022-06-03T10:42:13.611Z"
   },
   {
    "duration": 120,
    "start_time": "2022-06-03T10:42:13.624Z"
   },
   {
    "duration": 5,
    "start_time": "2022-06-03T10:42:13.746Z"
   },
   {
    "duration": 199,
    "start_time": "2022-06-03T10:42:13.752Z"
   },
   {
    "duration": 4,
    "start_time": "2022-06-03T10:42:13.953Z"
   },
   {
    "duration": 17,
    "start_time": "2022-06-03T10:42:13.959Z"
   },
   {
    "duration": 11,
    "start_time": "2022-06-03T10:42:13.978Z"
   },
   {
    "duration": 154,
    "start_time": "2022-06-03T10:42:13.991Z"
   },
   {
    "duration": 0,
    "start_time": "2022-06-03T10:42:14.149Z"
   },
   {
    "duration": 0,
    "start_time": "2022-06-03T10:42:14.150Z"
   },
   {
    "duration": 0,
    "start_time": "2022-06-03T10:42:14.151Z"
   },
   {
    "duration": 0,
    "start_time": "2022-06-03T10:42:14.152Z"
   },
   {
    "duration": 0,
    "start_time": "2022-06-03T10:42:14.152Z"
   },
   {
    "duration": 595,
    "start_time": "2022-06-03T10:43:09.156Z"
   },
   {
    "duration": 18,
    "start_time": "2022-06-03T10:43:21.783Z"
   },
   {
    "duration": 11,
    "start_time": "2022-06-03T10:43:27.400Z"
   },
   {
    "duration": 19,
    "start_time": "2022-06-03T10:43:39.990Z"
   },
   {
    "duration": 23,
    "start_time": "2022-06-03T10:44:00.765Z"
   },
   {
    "duration": 15,
    "start_time": "2022-06-03T10:44:09.853Z"
   },
   {
    "duration": 1423,
    "start_time": "2022-06-03T10:45:03.392Z"
   },
   {
    "duration": 3,
    "start_time": "2022-06-03T10:45:04.817Z"
   },
   {
    "duration": 790,
    "start_time": "2022-06-03T10:45:04.826Z"
   },
   {
    "duration": 8,
    "start_time": "2022-06-03T10:45:05.618Z"
   },
   {
    "duration": 389,
    "start_time": "2022-06-03T10:45:05.628Z"
   },
   {
    "duration": 225,
    "start_time": "2022-06-03T10:45:06.019Z"
   },
   {
    "duration": 360,
    "start_time": "2022-06-03T10:45:06.246Z"
   },
   {
    "duration": 26,
    "start_time": "2022-06-03T10:45:06.608Z"
   },
   {
    "duration": 12,
    "start_time": "2022-06-03T10:45:06.636Z"
   },
   {
    "duration": 246,
    "start_time": "2022-06-03T10:45:06.650Z"
   },
   {
    "duration": 9,
    "start_time": "2022-06-03T10:45:06.897Z"
   },
   {
    "duration": 24,
    "start_time": "2022-06-03T10:45:06.908Z"
   },
   {
    "duration": 104,
    "start_time": "2022-06-03T10:45:06.939Z"
   },
   {
    "duration": 25,
    "start_time": "2022-06-03T10:45:07.046Z"
   },
   {
    "duration": 3,
    "start_time": "2022-06-03T10:45:07.073Z"
   },
   {
    "duration": 15,
    "start_time": "2022-06-03T10:45:07.077Z"
   },
   {
    "duration": 5,
    "start_time": "2022-06-03T10:45:07.094Z"
   },
   {
    "duration": 7,
    "start_time": "2022-06-03T10:45:07.101Z"
   },
   {
    "duration": 17,
    "start_time": "2022-06-03T10:45:07.124Z"
   },
   {
    "duration": 16,
    "start_time": "2022-06-03T10:45:07.142Z"
   },
   {
    "duration": 9,
    "start_time": "2022-06-03T10:45:07.160Z"
   },
   {
    "duration": 6,
    "start_time": "2022-06-03T10:45:07.170Z"
   },
   {
    "duration": 7,
    "start_time": "2022-06-03T10:45:07.177Z"
   },
   {
    "duration": 8,
    "start_time": "2022-06-03T10:45:07.186Z"
   },
   {
    "duration": 35,
    "start_time": "2022-06-03T10:45:07.195Z"
   },
   {
    "duration": 530,
    "start_time": "2022-06-03T10:45:07.235Z"
   },
   {
    "duration": 1915,
    "start_time": "2022-06-03T10:45:07.767Z"
   },
   {
    "duration": 4,
    "start_time": "2022-06-03T10:45:09.684Z"
   },
   {
    "duration": 119,
    "start_time": "2022-06-03T10:45:09.690Z"
   },
   {
    "duration": 29,
    "start_time": "2022-06-03T10:45:09.811Z"
   },
   {
    "duration": 6,
    "start_time": "2022-06-03T10:45:09.843Z"
   },
   {
    "duration": 6,
    "start_time": "2022-06-03T10:45:09.851Z"
   },
   {
    "duration": 107,
    "start_time": "2022-06-03T10:45:09.858Z"
   },
   {
    "duration": 6,
    "start_time": "2022-06-03T10:45:09.966Z"
   },
   {
    "duration": 210,
    "start_time": "2022-06-03T10:45:09.974Z"
   },
   {
    "duration": 4,
    "start_time": "2022-06-03T10:45:10.185Z"
   },
   {
    "duration": 7,
    "start_time": "2022-06-03T10:45:10.190Z"
   },
   {
    "duration": 8,
    "start_time": "2022-06-03T10:45:10.199Z"
   },
   {
    "duration": 41,
    "start_time": "2022-06-03T10:45:10.209Z"
   },
   {
    "duration": 17,
    "start_time": "2022-06-03T10:45:10.252Z"
   },
   {
    "duration": 6462,
    "start_time": "2022-06-03T10:45:10.274Z"
   },
   {
    "duration": 100165,
    "start_time": "2022-06-03T10:45:16.744Z"
   },
   {
    "duration": 1274,
    "start_time": "2022-06-03T10:47:49.138Z"
   },
   {
    "duration": 3,
    "start_time": "2022-06-03T10:47:50.414Z"
   },
   {
    "duration": 828,
    "start_time": "2022-06-03T10:47:50.418Z"
   },
   {
    "duration": 3,
    "start_time": "2022-06-03T10:47:51.248Z"
   },
   {
    "duration": 328,
    "start_time": "2022-06-03T10:47:51.253Z"
   },
   {
    "duration": 189,
    "start_time": "2022-06-03T10:47:51.583Z"
   },
   {
    "duration": 364,
    "start_time": "2022-06-03T10:47:51.774Z"
   },
   {
    "duration": 20,
    "start_time": "2022-06-03T10:47:52.140Z"
   },
   {
    "duration": 10,
    "start_time": "2022-06-03T10:47:52.161Z"
   },
   {
    "duration": 225,
    "start_time": "2022-06-03T10:47:52.173Z"
   },
   {
    "duration": 9,
    "start_time": "2022-06-03T10:47:52.400Z"
   },
   {
    "duration": 26,
    "start_time": "2022-06-03T10:47:52.410Z"
   },
   {
    "duration": 73,
    "start_time": "2022-06-03T10:47:52.438Z"
   },
   {
    "duration": 27,
    "start_time": "2022-06-03T10:47:52.513Z"
   },
   {
    "duration": 33,
    "start_time": "2022-06-03T10:47:52.541Z"
   },
   {
    "duration": 18,
    "start_time": "2022-06-03T10:47:52.576Z"
   },
   {
    "duration": 6,
    "start_time": "2022-06-03T10:47:52.596Z"
   },
   {
    "duration": 12,
    "start_time": "2022-06-03T10:47:52.603Z"
   },
   {
    "duration": 15,
    "start_time": "2022-06-03T10:47:52.616Z"
   },
   {
    "duration": 20,
    "start_time": "2022-06-03T10:47:52.633Z"
   },
   {
    "duration": 19,
    "start_time": "2022-06-03T10:47:52.655Z"
   },
   {
    "duration": 8,
    "start_time": "2022-06-03T10:47:52.676Z"
   },
   {
    "duration": 16,
    "start_time": "2022-06-03T10:47:52.686Z"
   },
   {
    "duration": 15,
    "start_time": "2022-06-03T10:47:52.703Z"
   },
   {
    "duration": 26,
    "start_time": "2022-06-03T10:47:52.720Z"
   },
   {
    "duration": 524,
    "start_time": "2022-06-03T10:47:52.748Z"
   },
   {
    "duration": 1654,
    "start_time": "2022-06-03T10:47:53.273Z"
   },
   {
    "duration": 10,
    "start_time": "2022-06-03T10:47:54.932Z"
   },
   {
    "duration": 115,
    "start_time": "2022-06-03T10:47:54.943Z"
   },
   {
    "duration": 14,
    "start_time": "2022-06-03T10:47:55.060Z"
   },
   {
    "duration": 6,
    "start_time": "2022-06-03T10:47:55.076Z"
   },
   {
    "duration": 5,
    "start_time": "2022-06-03T10:47:55.084Z"
   },
   {
    "duration": 111,
    "start_time": "2022-06-03T10:47:55.091Z"
   },
   {
    "duration": 4,
    "start_time": "2022-06-03T10:47:55.204Z"
   },
   {
    "duration": 202,
    "start_time": "2022-06-03T10:47:55.210Z"
   },
   {
    "duration": 4,
    "start_time": "2022-06-03T10:47:55.413Z"
   },
   {
    "duration": 12,
    "start_time": "2022-06-03T10:47:55.426Z"
   },
   {
    "duration": 9,
    "start_time": "2022-06-03T10:47:55.440Z"
   },
   {
    "duration": 9,
    "start_time": "2022-06-03T10:47:55.451Z"
   },
   {
    "duration": 13,
    "start_time": "2022-06-03T10:47:55.462Z"
   },
   {
    "duration": 5550,
    "start_time": "2022-06-03T10:47:55.477Z"
   },
   {
    "duration": 67035,
    "start_time": "2022-06-03T10:48:01.029Z"
   },
   {
    "duration": 1402,
    "start_time": "2022-06-03T10:51:56.740Z"
   },
   {
    "duration": 3,
    "start_time": "2022-06-03T10:51:58.144Z"
   },
   {
    "duration": 868,
    "start_time": "2022-06-03T10:51:58.149Z"
   },
   {
    "duration": 4,
    "start_time": "2022-06-03T10:51:59.019Z"
   },
   {
    "duration": 418,
    "start_time": "2022-06-03T10:51:59.026Z"
   },
   {
    "duration": 209,
    "start_time": "2022-06-03T10:51:59.446Z"
   },
   {
    "duration": 389,
    "start_time": "2022-06-03T10:51:59.657Z"
   },
   {
    "duration": 14,
    "start_time": "2022-06-03T10:52:00.048Z"
   },
   {
    "duration": 10,
    "start_time": "2022-06-03T10:52:00.064Z"
   },
   {
    "duration": 244,
    "start_time": "2022-06-03T10:52:00.076Z"
   },
   {
    "duration": 10,
    "start_time": "2022-06-03T10:52:00.322Z"
   },
   {
    "duration": 16,
    "start_time": "2022-06-03T10:52:00.334Z"
   },
   {
    "duration": 115,
    "start_time": "2022-06-03T10:52:00.352Z"
   },
   {
    "duration": 23,
    "start_time": "2022-06-03T10:52:00.470Z"
   },
   {
    "duration": 4,
    "start_time": "2022-06-03T10:52:00.495Z"
   },
   {
    "duration": 18,
    "start_time": "2022-06-03T10:52:00.500Z"
   },
   {
    "duration": 24,
    "start_time": "2022-06-03T10:52:00.519Z"
   },
   {
    "duration": 26,
    "start_time": "2022-06-03T10:52:00.545Z"
   },
   {
    "duration": 21,
    "start_time": "2022-06-03T10:52:00.572Z"
   },
   {
    "duration": 20,
    "start_time": "2022-06-03T10:52:00.595Z"
   },
   {
    "duration": 38,
    "start_time": "2022-06-03T10:52:00.617Z"
   },
   {
    "duration": 13,
    "start_time": "2022-06-03T10:52:00.656Z"
   },
   {
    "duration": 26,
    "start_time": "2022-06-03T10:52:00.670Z"
   },
   {
    "duration": 16,
    "start_time": "2022-06-03T10:52:00.697Z"
   },
   {
    "duration": 29,
    "start_time": "2022-06-03T10:52:00.715Z"
   },
   {
    "duration": 554,
    "start_time": "2022-06-03T10:52:00.746Z"
   },
   {
    "duration": 1890,
    "start_time": "2022-06-03T10:52:01.302Z"
   },
   {
    "duration": 5,
    "start_time": "2022-06-03T10:52:03.194Z"
   },
   {
    "duration": 116,
    "start_time": "2022-06-03T10:52:03.200Z"
   },
   {
    "duration": 25,
    "start_time": "2022-06-03T10:52:03.317Z"
   },
   {
    "duration": 5,
    "start_time": "2022-06-03T10:52:03.344Z"
   },
   {
    "duration": 7,
    "start_time": "2022-06-03T10:52:03.350Z"
   },
   {
    "duration": 101,
    "start_time": "2022-06-03T10:52:03.358Z"
   },
   {
    "duration": 4,
    "start_time": "2022-06-03T10:52:03.461Z"
   },
   {
    "duration": 198,
    "start_time": "2022-06-03T10:52:03.466Z"
   },
   {
    "duration": 3,
    "start_time": "2022-06-03T10:52:03.665Z"
   },
   {
    "duration": 8,
    "start_time": "2022-06-03T10:52:03.670Z"
   },
   {
    "duration": 6,
    "start_time": "2022-06-03T10:52:03.680Z"
   },
   {
    "duration": 9,
    "start_time": "2022-06-03T10:52:03.687Z"
   },
   {
    "duration": 18,
    "start_time": "2022-06-03T10:52:03.698Z"
   },
   {
    "duration": 5112,
    "start_time": "2022-06-03T10:52:03.724Z"
   },
   {
    "duration": 1690,
    "start_time": "2022-06-03T10:52:08.838Z"
   },
   {
    "duration": 0,
    "start_time": "2022-06-03T10:52:10.529Z"
   },
   {
    "duration": 0,
    "start_time": "2022-06-03T10:52:10.530Z"
   },
   {
    "duration": 152515,
    "start_time": "2022-06-03T10:52:31.058Z"
   },
   {
    "duration": 1293,
    "start_time": "2022-06-03T10:55:34.482Z"
   },
   {
    "duration": 3,
    "start_time": "2022-06-03T10:55:35.777Z"
   },
   {
    "duration": 814,
    "start_time": "2022-06-03T10:55:35.781Z"
   },
   {
    "duration": 4,
    "start_time": "2022-06-03T10:55:36.597Z"
   },
   {
    "duration": 352,
    "start_time": "2022-06-03T10:55:36.604Z"
   },
   {
    "duration": 187,
    "start_time": "2022-06-03T10:55:36.957Z"
   },
   {
    "duration": 355,
    "start_time": "2022-06-03T10:55:37.146Z"
   },
   {
    "duration": 34,
    "start_time": "2022-06-03T10:55:37.502Z"
   },
   {
    "duration": 10,
    "start_time": "2022-06-03T10:55:37.538Z"
   },
   {
    "duration": 234,
    "start_time": "2022-06-03T10:55:37.549Z"
   },
   {
    "duration": 10,
    "start_time": "2022-06-03T10:55:37.785Z"
   },
   {
    "duration": 8,
    "start_time": "2022-06-03T10:55:37.797Z"
   },
   {
    "duration": 92,
    "start_time": "2022-06-03T10:55:37.807Z"
   },
   {
    "duration": 30,
    "start_time": "2022-06-03T10:55:37.903Z"
   },
   {
    "duration": 6,
    "start_time": "2022-06-03T10:55:37.938Z"
   },
   {
    "duration": 26,
    "start_time": "2022-06-03T10:55:37.947Z"
   },
   {
    "duration": 6,
    "start_time": "2022-06-03T10:55:37.975Z"
   },
   {
    "duration": 10,
    "start_time": "2022-06-03T10:55:37.982Z"
   },
   {
    "duration": 15,
    "start_time": "2022-06-03T10:55:37.994Z"
   },
   {
    "duration": 18,
    "start_time": "2022-06-03T10:55:38.011Z"
   },
   {
    "duration": 15,
    "start_time": "2022-06-03T10:55:38.035Z"
   },
   {
    "duration": 10,
    "start_time": "2022-06-03T10:55:38.052Z"
   },
   {
    "duration": 8,
    "start_time": "2022-06-03T10:55:38.063Z"
   },
   {
    "duration": 10,
    "start_time": "2022-06-03T10:55:38.073Z"
   },
   {
    "duration": 10,
    "start_time": "2022-06-03T10:55:38.084Z"
   },
   {
    "duration": 512,
    "start_time": "2022-06-03T10:55:38.095Z"
   },
   {
    "duration": 1749,
    "start_time": "2022-06-03T10:55:38.609Z"
   },
   {
    "duration": 4,
    "start_time": "2022-06-03T10:55:40.360Z"
   },
   {
    "duration": 114,
    "start_time": "2022-06-03T10:55:40.365Z"
   },
   {
    "duration": 19,
    "start_time": "2022-06-03T10:55:40.480Z"
   },
   {
    "duration": 11,
    "start_time": "2022-06-03T10:55:40.500Z"
   },
   {
    "duration": 18,
    "start_time": "2022-06-03T10:55:40.527Z"
   },
   {
    "duration": 93,
    "start_time": "2022-06-03T10:55:40.547Z"
   },
   {
    "duration": 4,
    "start_time": "2022-06-03T10:55:40.642Z"
   },
   {
    "duration": 195,
    "start_time": "2022-06-03T10:55:40.648Z"
   },
   {
    "duration": 4,
    "start_time": "2022-06-03T10:55:40.844Z"
   },
   {
    "duration": 9,
    "start_time": "2022-06-03T10:55:40.850Z"
   },
   {
    "duration": 5,
    "start_time": "2022-06-03T10:55:40.861Z"
   },
   {
    "duration": 9,
    "start_time": "2022-06-03T10:55:40.868Z"
   },
   {
    "duration": 22,
    "start_time": "2022-06-03T10:55:40.878Z"
   },
   {
    "duration": 6227,
    "start_time": "2022-06-03T10:55:40.904Z"
   },
   {
    "duration": 170532,
    "start_time": "2022-06-03T10:55:47.133Z"
   },
   {
    "duration": 9147194,
    "start_time": "2022-06-03T10:58:37.667Z"
   },
   {
    "duration": 122,
    "start_time": "2022-06-03T13:31:04.862Z"
   },
   {
    "duration": 1342,
    "start_time": "2022-06-03T13:42:12.679Z"
   },
   {
    "duration": 3,
    "start_time": "2022-06-03T13:42:14.025Z"
   },
   {
    "duration": 875,
    "start_time": "2022-06-03T13:42:14.030Z"
   },
   {
    "duration": 3,
    "start_time": "2022-06-03T13:42:14.907Z"
   },
   {
    "duration": 354,
    "start_time": "2022-06-03T13:42:14.912Z"
   },
   {
    "duration": 179,
    "start_time": "2022-06-03T13:42:15.268Z"
   },
   {
    "duration": 344,
    "start_time": "2022-06-03T13:42:15.449Z"
   },
   {
    "duration": 15,
    "start_time": "2022-06-03T13:42:15.794Z"
   },
   {
    "duration": 14,
    "start_time": "2022-06-03T13:42:15.810Z"
   },
   {
    "duration": 245,
    "start_time": "2022-06-03T13:42:15.826Z"
   },
   {
    "duration": 9,
    "start_time": "2022-06-03T13:42:16.072Z"
   },
   {
    "duration": 8,
    "start_time": "2022-06-03T13:42:16.083Z"
   },
   {
    "duration": 114,
    "start_time": "2022-06-03T13:42:16.093Z"
   },
   {
    "duration": 24,
    "start_time": "2022-06-03T13:42:16.208Z"
   },
   {
    "duration": 4,
    "start_time": "2022-06-03T13:42:16.234Z"
   },
   {
    "duration": 13,
    "start_time": "2022-06-03T13:42:16.239Z"
   },
   {
    "duration": 5,
    "start_time": "2022-06-03T13:42:16.254Z"
   },
   {
    "duration": 9,
    "start_time": "2022-06-03T13:42:16.261Z"
   },
   {
    "duration": 18,
    "start_time": "2022-06-03T13:42:16.272Z"
   },
   {
    "duration": 12,
    "start_time": "2022-06-03T13:42:16.292Z"
   },
   {
    "duration": 13,
    "start_time": "2022-06-03T13:42:16.322Z"
   },
   {
    "duration": 52,
    "start_time": "2022-06-03T13:42:21.143Z"
   },
   {
    "duration": 71,
    "start_time": "2022-06-03T13:42:40.093Z"
   },
   {
    "duration": 71,
    "start_time": "2022-06-03T13:43:13.923Z"
   },
   {
    "duration": 7,
    "start_time": "2022-06-03T13:43:14.922Z"
   },
   {
    "duration": 6,
    "start_time": "2022-06-03T13:43:28.509Z"
   },
   {
    "duration": 8,
    "start_time": "2022-06-03T13:43:29.060Z"
   },
   {
    "duration": 9,
    "start_time": "2022-06-03T13:43:38.365Z"
   },
   {
    "duration": 7,
    "start_time": "2022-06-03T13:43:40.261Z"
   },
   {
    "duration": 744,
    "start_time": "2022-06-03T13:43:46.927Z"
   },
   {
    "duration": 1888,
    "start_time": "2022-06-03T13:43:50.095Z"
   },
   {
    "duration": 4,
    "start_time": "2022-06-03T13:43:51.986Z"
   },
   {
    "duration": 1747,
    "start_time": "2022-06-03T13:44:14.009Z"
   },
   {
    "duration": 5,
    "start_time": "2022-06-03T13:44:15.759Z"
   },
   {
    "duration": 134,
    "start_time": "2022-06-03T13:44:15.766Z"
   },
   {
    "duration": 17,
    "start_time": "2022-06-03T13:44:20.458Z"
   },
   {
    "duration": 185,
    "start_time": "2022-06-03T13:44:30.684Z"
   },
   {
    "duration": 5,
    "start_time": "2022-06-03T13:44:51.022Z"
   },
   {
    "duration": 5,
    "start_time": "2022-06-03T13:44:51.886Z"
   },
   {
    "duration": 79,
    "start_time": "2022-06-03T13:44:54.486Z"
   },
   {
    "duration": 24,
    "start_time": "2022-06-03T13:48:51.185Z"
   },
   {
    "duration": 577,
    "start_time": "2022-06-03T13:49:01.663Z"
   },
   {
    "duration": 36,
    "start_time": "2022-06-03T13:49:56.832Z"
   },
   {
    "duration": 97,
    "start_time": "2022-06-03T13:50:01.470Z"
   },
   {
    "duration": 87,
    "start_time": "2022-06-03T13:50:08.216Z"
   },
   {
    "duration": 15,
    "start_time": "2022-06-03T13:50:12.698Z"
   },
   {
    "duration": 160,
    "start_time": "2022-06-03T13:51:07.350Z"
   },
   {
    "duration": 39,
    "start_time": "2022-06-03T13:51:20.417Z"
   },
   {
    "duration": 47,
    "start_time": "2022-06-03T13:52:16.391Z"
   },
   {
    "duration": 10,
    "start_time": "2022-06-03T13:53:34.150Z"
   },
   {
    "duration": 5,
    "start_time": "2022-06-03T13:53:37.008Z"
   },
   {
    "duration": 259,
    "start_time": "2022-06-03T13:53:38.471Z"
   },
   {
    "duration": 5,
    "start_time": "2022-06-03T13:54:15.708Z"
   },
   {
    "duration": 100,
    "start_time": "2022-06-03T13:54:16.565Z"
   },
   {
    "duration": 6,
    "start_time": "2022-06-03T13:55:10.954Z"
   },
   {
    "duration": 5,
    "start_time": "2022-06-03T13:55:38.463Z"
   },
   {
    "duration": 110,
    "start_time": "2022-06-03T13:55:39.745Z"
   },
   {
    "duration": 17,
    "start_time": "2022-06-03T13:56:50.218Z"
   },
   {
    "duration": 5,
    "start_time": "2022-06-03T13:56:58.551Z"
   },
   {
    "duration": 11,
    "start_time": "2022-06-03T13:56:58.558Z"
   },
   {
    "duration": 882,
    "start_time": "2022-06-03T13:56:58.571Z"
   },
   {
    "duration": 4,
    "start_time": "2022-06-03T13:56:59.457Z"
   },
   {
    "duration": 377,
    "start_time": "2022-06-03T13:56:59.463Z"
   },
   {
    "duration": 263,
    "start_time": "2022-06-03T13:56:59.842Z"
   },
   {
    "duration": 377,
    "start_time": "2022-06-03T13:57:00.107Z"
   },
   {
    "duration": 23,
    "start_time": "2022-06-03T13:57:00.486Z"
   },
   {
    "duration": 4,
    "start_time": "2022-06-03T13:57:00.522Z"
   },
   {
    "duration": 238,
    "start_time": "2022-06-03T13:57:00.528Z"
   },
   {
    "duration": 9,
    "start_time": "2022-06-03T13:57:00.768Z"
   },
   {
    "duration": 24,
    "start_time": "2022-06-03T13:57:00.779Z"
   },
   {
    "duration": 61,
    "start_time": "2022-06-03T13:57:00.806Z"
   },
   {
    "duration": 28,
    "start_time": "2022-06-03T13:57:00.868Z"
   },
   {
    "duration": 5,
    "start_time": "2022-06-03T13:57:00.897Z"
   },
   {
    "duration": 9,
    "start_time": "2022-06-03T13:57:00.923Z"
   },
   {
    "duration": 23,
    "start_time": "2022-06-03T13:57:00.934Z"
   },
   {
    "duration": 16,
    "start_time": "2022-06-03T13:57:00.959Z"
   },
   {
    "duration": 44,
    "start_time": "2022-06-03T13:57:00.977Z"
   },
   {
    "duration": 23,
    "start_time": "2022-06-03T13:57:01.024Z"
   },
   {
    "duration": 21,
    "start_time": "2022-06-03T13:57:01.050Z"
   },
   {
    "duration": 14,
    "start_time": "2022-06-03T13:57:01.072Z"
   },
   {
    "duration": 13,
    "start_time": "2022-06-03T13:57:01.088Z"
   },
   {
    "duration": 21,
    "start_time": "2022-06-03T13:57:01.103Z"
   },
   {
    "duration": 19,
    "start_time": "2022-06-03T13:57:01.126Z"
   },
   {
    "duration": 586,
    "start_time": "2022-06-03T13:57:01.148Z"
   },
   {
    "duration": 1943,
    "start_time": "2022-06-03T13:57:01.736Z"
   },
   {
    "duration": 4,
    "start_time": "2022-06-03T13:57:03.680Z"
   },
   {
    "duration": 117,
    "start_time": "2022-06-03T13:57:03.686Z"
   },
   {
    "duration": 19,
    "start_time": "2022-06-03T13:57:03.806Z"
   },
   {
    "duration": 12,
    "start_time": "2022-06-03T13:57:03.827Z"
   },
   {
    "duration": 13,
    "start_time": "2022-06-03T13:57:03.841Z"
   },
   {
    "duration": 115,
    "start_time": "2022-06-03T13:57:03.855Z"
   },
   {
    "duration": 6,
    "start_time": "2022-06-03T13:57:03.972Z"
   },
   {
    "duration": 392,
    "start_time": "2022-06-03T13:57:03.980Z"
   },
   {
    "duration": 3,
    "start_time": "2022-06-03T13:57:10.115Z"
   },
   {
    "duration": 4,
    "start_time": "2022-06-03T13:57:10.363Z"
   },
   {
    "duration": 2,
    "start_time": "2022-06-03T13:57:11.458Z"
   },
   {
    "duration": 5,
    "start_time": "2022-06-03T13:57:35.582Z"
   },
   {
    "duration": 9,
    "start_time": "2022-06-03T13:57:42.886Z"
   },
   {
    "duration": 1920,
    "start_time": "2022-06-03T13:57:45.417Z"
   },
   {
    "duration": 1322,
    "start_time": "2022-06-03T13:58:51.453Z"
   },
   {
    "duration": 4,
    "start_time": "2022-06-03T13:58:52.778Z"
   },
   {
    "duration": 861,
    "start_time": "2022-06-03T13:58:52.784Z"
   },
   {
    "duration": 4,
    "start_time": "2022-06-03T13:58:53.647Z"
   },
   {
    "duration": 365,
    "start_time": "2022-06-03T13:58:53.652Z"
   },
   {
    "duration": 177,
    "start_time": "2022-06-03T13:58:54.022Z"
   },
   {
    "duration": 353,
    "start_time": "2022-06-03T13:58:54.201Z"
   },
   {
    "duration": 15,
    "start_time": "2022-06-03T13:58:54.555Z"
   },
   {
    "duration": 15,
    "start_time": "2022-06-03T13:58:54.572Z"
   },
   {
    "duration": 224,
    "start_time": "2022-06-03T13:58:54.590Z"
   },
   {
    "duration": 14,
    "start_time": "2022-06-03T13:58:54.816Z"
   },
   {
    "duration": 15,
    "start_time": "2022-06-03T13:58:54.832Z"
   },
   {
    "duration": 98,
    "start_time": "2022-06-03T13:58:54.849Z"
   },
   {
    "duration": 25,
    "start_time": "2022-06-03T13:58:54.949Z"
   },
   {
    "duration": 4,
    "start_time": "2022-06-03T13:58:54.976Z"
   },
   {
    "duration": 18,
    "start_time": "2022-06-03T13:58:54.982Z"
   },
   {
    "duration": 5,
    "start_time": "2022-06-03T13:58:55.002Z"
   },
   {
    "duration": 15,
    "start_time": "2022-06-03T13:58:55.008Z"
   },
   {
    "duration": 13,
    "start_time": "2022-06-03T13:58:55.024Z"
   },
   {
    "duration": 13,
    "start_time": "2022-06-03T13:58:55.039Z"
   },
   {
    "duration": 11,
    "start_time": "2022-06-03T13:58:55.053Z"
   },
   {
    "duration": 12,
    "start_time": "2022-06-03T13:58:55.066Z"
   },
   {
    "duration": 15,
    "start_time": "2022-06-03T13:58:55.080Z"
   },
   {
    "duration": 7,
    "start_time": "2022-06-03T13:58:55.097Z"
   },
   {
    "duration": 25,
    "start_time": "2022-06-03T13:58:55.106Z"
   },
   {
    "duration": 515,
    "start_time": "2022-06-03T13:58:55.133Z"
   },
   {
    "duration": 1679,
    "start_time": "2022-06-03T13:58:55.650Z"
   },
   {
    "duration": 4,
    "start_time": "2022-06-03T13:58:57.332Z"
   },
   {
    "duration": 112,
    "start_time": "2022-06-03T13:58:57.337Z"
   },
   {
    "duration": 15,
    "start_time": "2022-06-03T13:58:57.451Z"
   },
   {
    "duration": 9,
    "start_time": "2022-06-03T13:58:57.468Z"
   },
   {
    "duration": 8,
    "start_time": "2022-06-03T13:58:57.479Z"
   },
   {
    "duration": 96,
    "start_time": "2022-06-03T13:58:57.488Z"
   },
   {
    "duration": 4,
    "start_time": "2022-06-03T13:58:57.586Z"
   },
   {
    "duration": 368,
    "start_time": "2022-06-03T13:58:57.592Z"
   },
   {
    "duration": 4,
    "start_time": "2022-06-03T13:58:57.961Z"
   },
   {
    "duration": 12,
    "start_time": "2022-06-03T13:58:57.967Z"
   },
   {
    "duration": 8,
    "start_time": "2022-06-03T13:58:57.981Z"
   },
   {
    "duration": 9,
    "start_time": "2022-06-03T13:58:57.991Z"
   },
   {
    "duration": 12,
    "start_time": "2022-06-03T13:58:58.002Z"
   },
   {
    "duration": 1217,
    "start_time": "2022-06-03T13:58:58.016Z"
   },
   {
    "duration": 76995,
    "start_time": "2022-06-03T13:58:59.235Z"
   },
   {
    "duration": 56,
    "start_time": "2022-06-04T07:33:31.400Z"
   },
   {
    "duration": 1450,
    "start_time": "2022-06-04T07:33:46.856Z"
   },
   {
    "duration": 2,
    "start_time": "2022-06-04T07:33:48.308Z"
   },
   {
    "duration": 3798,
    "start_time": "2022-06-04T07:33:48.312Z"
   },
   {
    "duration": 3,
    "start_time": "2022-06-04T07:33:52.111Z"
   },
   {
    "duration": 352,
    "start_time": "2022-06-04T07:33:52.116Z"
   },
   {
    "duration": 208,
    "start_time": "2022-06-04T07:33:52.469Z"
   },
   {
    "duration": 343,
    "start_time": "2022-06-04T07:33:52.679Z"
   },
   {
    "duration": 13,
    "start_time": "2022-06-04T07:33:53.024Z"
   },
   {
    "duration": 3,
    "start_time": "2022-06-04T07:33:53.051Z"
   },
   {
    "duration": 227,
    "start_time": "2022-06-04T07:33:53.056Z"
   },
   {
    "duration": 9,
    "start_time": "2022-06-04T07:33:53.285Z"
   },
   {
    "duration": 9,
    "start_time": "2022-06-04T07:33:53.295Z"
   },
   {
    "duration": 105,
    "start_time": "2022-06-04T07:33:53.306Z"
   },
   {
    "duration": 24,
    "start_time": "2022-06-04T07:33:53.414Z"
   },
   {
    "duration": 3,
    "start_time": "2022-06-04T07:33:53.440Z"
   },
   {
    "duration": 10,
    "start_time": "2022-06-04T07:33:53.445Z"
   },
   {
    "duration": 4,
    "start_time": "2022-06-04T07:33:53.458Z"
   },
   {
    "duration": 12,
    "start_time": "2022-06-04T07:33:53.464Z"
   },
   {
    "duration": 11,
    "start_time": "2022-06-04T07:33:53.477Z"
   },
   {
    "duration": 10,
    "start_time": "2022-06-04T07:33:53.490Z"
   },
   {
    "duration": 8,
    "start_time": "2022-06-04T07:33:53.502Z"
   },
   {
    "duration": 7,
    "start_time": "2022-06-04T07:33:53.512Z"
   },
   {
    "duration": 36,
    "start_time": "2022-06-04T07:33:53.521Z"
   },
   {
    "duration": 10,
    "start_time": "2022-06-04T07:33:53.559Z"
   },
   {
    "duration": 10,
    "start_time": "2022-06-04T07:33:53.570Z"
   },
   {
    "duration": 514,
    "start_time": "2022-06-04T07:33:53.581Z"
   },
   {
    "duration": 1717,
    "start_time": "2022-06-04T07:33:54.097Z"
   },
   {
    "duration": 3,
    "start_time": "2022-06-04T07:33:55.816Z"
   },
   {
    "duration": 118,
    "start_time": "2022-06-04T07:33:55.821Z"
   },
   {
    "duration": 19,
    "start_time": "2022-06-04T07:33:55.941Z"
   },
   {
    "duration": 7,
    "start_time": "2022-06-04T07:33:55.962Z"
   },
   {
    "duration": 21,
    "start_time": "2022-06-04T07:33:55.971Z"
   },
   {
    "duration": 90,
    "start_time": "2022-06-04T07:33:55.994Z"
   },
   {
    "duration": 5,
    "start_time": "2022-06-04T07:33:56.086Z"
   },
   {
    "duration": 370,
    "start_time": "2022-06-04T07:33:56.093Z"
   },
   {
    "duration": 3,
    "start_time": "2022-06-04T07:33:56.465Z"
   },
   {
    "duration": 10,
    "start_time": "2022-06-04T07:33:56.469Z"
   },
   {
    "duration": 10,
    "start_time": "2022-06-04T07:33:56.481Z"
   },
   {
    "duration": 8,
    "start_time": "2022-06-04T07:33:56.493Z"
   },
   {
    "duration": 17,
    "start_time": "2022-06-04T07:33:56.502Z"
   },
   {
    "duration": 1334,
    "start_time": "2022-06-04T07:33:56.523Z"
   },
   {
    "duration": 70227,
    "start_time": "2022-06-04T07:33:57.858Z"
   },
   {
    "duration": 1473403,
    "start_time": "2022-06-04T07:35:08.086Z"
   },
   {
    "duration": 0,
    "start_time": "2022-06-04T07:59:41.491Z"
   },
   {
    "duration": 137793,
    "start_time": "2022-06-04T07:59:47.624Z"
   },
   {
    "duration": 1460,
    "start_time": "2022-07-28T13:29:18.474Z"
   },
   {
    "duration": 3,
    "start_time": "2022-07-28T13:29:19.936Z"
   },
   {
    "duration": 3719,
    "start_time": "2022-07-28T13:29:19.940Z"
   },
   {
    "duration": 3,
    "start_time": "2022-07-28T13:29:23.661Z"
   },
   {
    "duration": 278,
    "start_time": "2022-07-28T13:29:23.665Z"
   },
   {
    "duration": 155,
    "start_time": "2022-07-28T13:29:23.945Z"
   },
   {
    "duration": 295,
    "start_time": "2022-07-28T13:29:24.102Z"
   },
   {
    "duration": 12,
    "start_time": "2022-07-28T13:29:24.399Z"
   },
   {
    "duration": 7,
    "start_time": "2022-07-28T13:29:24.412Z"
   },
   {
    "duration": 210,
    "start_time": "2022-07-28T13:29:24.421Z"
   },
   {
    "duration": 8,
    "start_time": "2022-07-28T13:29:24.632Z"
   },
   {
    "duration": 7,
    "start_time": "2022-07-28T13:29:24.641Z"
   },
   {
    "duration": 87,
    "start_time": "2022-07-28T13:29:24.649Z"
   },
   {
    "duration": 23,
    "start_time": "2022-07-28T13:29:24.738Z"
   },
   {
    "duration": 3,
    "start_time": "2022-07-28T13:29:24.763Z"
   },
   {
    "duration": 8,
    "start_time": "2022-07-28T13:29:24.768Z"
   },
   {
    "duration": 5,
    "start_time": "2022-07-28T13:29:24.778Z"
   },
   {
    "duration": 7,
    "start_time": "2022-07-28T13:29:24.784Z"
   },
   {
    "duration": 11,
    "start_time": "2022-07-28T13:29:24.793Z"
   },
   {
    "duration": 9,
    "start_time": "2022-07-28T13:29:24.805Z"
   },
   {
    "duration": 6,
    "start_time": "2022-07-28T13:29:24.816Z"
   },
   {
    "duration": 7,
    "start_time": "2022-07-28T13:29:24.823Z"
   },
   {
    "duration": 8,
    "start_time": "2022-07-28T13:29:24.831Z"
   },
   {
    "duration": 33,
    "start_time": "2022-07-28T13:29:24.841Z"
   },
   {
    "duration": 5,
    "start_time": "2022-07-28T13:29:24.876Z"
   },
   {
    "duration": 511,
    "start_time": "2022-07-28T13:29:24.883Z"
   },
   {
    "duration": 1460,
    "start_time": "2022-07-28T13:29:25.396Z"
   },
   {
    "duration": 4,
    "start_time": "2022-07-28T13:29:26.860Z"
   },
   {
    "duration": 124,
    "start_time": "2022-07-28T13:29:26.872Z"
   },
   {
    "duration": 15,
    "start_time": "2022-07-28T13:29:26.997Z"
   },
   {
    "duration": 5,
    "start_time": "2022-07-28T13:29:27.014Z"
   },
   {
    "duration": 6,
    "start_time": "2022-07-28T13:29:27.021Z"
   },
   {
    "duration": 114,
    "start_time": "2022-07-28T13:29:27.029Z"
   },
   {
    "duration": 4,
    "start_time": "2022-07-28T13:29:27.145Z"
   },
   {
    "duration": 233,
    "start_time": "2022-07-28T13:29:27.150Z"
   },
   {
    "duration": 3,
    "start_time": "2022-07-28T13:29:27.384Z"
   },
   {
    "duration": 5,
    "start_time": "2022-07-28T13:29:27.389Z"
   },
   {
    "duration": 5,
    "start_time": "2022-07-28T13:29:27.395Z"
   },
   {
    "duration": 7,
    "start_time": "2022-07-28T13:29:27.402Z"
   },
   {
    "duration": 13,
    "start_time": "2022-07-28T13:29:27.411Z"
   },
   {
    "duration": 1254,
    "start_time": "2022-07-28T13:29:27.425Z"
   },
   {
    "duration": 63946,
    "start_time": "2022-07-28T13:29:28.680Z"
   },
   {
    "duration": 3560822,
    "start_time": "2022-07-28T13:30:32.627Z"
   }
  ],
  "kernelspec": {
   "display_name": "Python 3",
   "language": "python",
   "name": "python3"
  },
  "language_info": {
   "codemirror_mode": {
    "name": "ipython",
    "version": 3
   },
   "file_extension": ".py",
   "mimetype": "text/x-python",
   "name": "python",
   "nbconvert_exporter": "python",
   "pygments_lexer": "ipython3",
   "version": "3.8.5"
  },
  "toc": {
   "base_numbering": 1,
   "nav_menu": {},
   "number_sections": true,
   "sideBar": true,
   "skip_h1_title": true,
   "title_cell": "Table of Contents",
   "title_sidebar": "Contents",
   "toc_cell": false,
   "toc_position": {},
   "toc_section_display": true,
   "toc_window_display": false
  }
 },
 "nbformat": 4,
 "nbformat_minor": 2
}
